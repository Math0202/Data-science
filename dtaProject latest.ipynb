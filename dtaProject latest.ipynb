{
 "cells": [
  {
   "cell_type": "code",
   "execution_count": 2,
   "id": "455e54ab-1c41-49ca-bd23-3d514f4fc4bf",
   "metadata": {},
   "outputs": [
    {
     "data": {
      "text/html": [
       "<div>\n",
       "<style scoped>\n",
       "    .dataframe tbody tr th:only-of-type {\n",
       "        vertical-align: middle;\n",
       "    }\n",
       "\n",
       "    .dataframe tbody tr th {\n",
       "        vertical-align: top;\n",
       "    }\n",
       "\n",
       "    .dataframe thead th {\n",
       "        text-align: right;\n",
       "    }\n",
       "</style>\n",
       "<table border=\"1\" class=\"dataframe\">\n",
       "  <thead>\n",
       "    <tr style=\"text-align: right;\">\n",
       "      <th></th>\n",
       "      <th>rarespecies_id</th>\n",
       "      <th>eol_content_id</th>\n",
       "      <th>eol_page_id</th>\n",
       "      <th>kingdom</th>\n",
       "      <th>phylum</th>\n",
       "      <th>class</th>\n",
       "      <th>order</th>\n",
       "      <th>family</th>\n",
       "      <th>genus</th>\n",
       "      <th>species</th>\n",
       "      <th>sciName</th>\n",
       "      <th>common</th>\n",
       "      <th>file_name</th>\n",
       "    </tr>\n",
       "  </thead>\n",
       "  <tbody>\n",
       "    <tr>\n",
       "      <th>0</th>\n",
       "      <td>75fd91cb-2881-41cd-88e6-de451e8b60e2</td>\n",
       "      <td>12853737</td>\n",
       "      <td>449393</td>\n",
       "      <td>Animalia</td>\n",
       "      <td>Mollusca</td>\n",
       "      <td>Bivalvia</td>\n",
       "      <td>Unionida</td>\n",
       "      <td>Unionidae</td>\n",
       "      <td>Cyclonaias</td>\n",
       "      <td>tuberculata</td>\n",
       "      <td>Cyclonaias tuberculata</td>\n",
       "      <td>purple wartyback</td>\n",
       "      <td>dataset/Animalia-Mollusca-Bivalvia-Unionida-Un...</td>\n",
       "    </tr>\n",
       "    <tr>\n",
       "      <th>1</th>\n",
       "      <td>28c508bc-63ff-4e60-9c8f-1934367e1528</td>\n",
       "      <td>20969394</td>\n",
       "      <td>793083</td>\n",
       "      <td>Animalia</td>\n",
       "      <td>Chordata</td>\n",
       "      <td>Reptilia</td>\n",
       "      <td>Testudines</td>\n",
       "      <td>Geoemydidae</td>\n",
       "      <td>Pangshura</td>\n",
       "      <td>sylhetensis</td>\n",
       "      <td>Pangshura sylhetensis</td>\n",
       "      <td>Assam Roofed Turtle</td>\n",
       "      <td>dataset/Animalia-Chordata-Reptilia-Testudines-...</td>\n",
       "    </tr>\n",
       "    <tr>\n",
       "      <th>2</th>\n",
       "      <td>00372441-588c-4af8-9665-29bee20822c0</td>\n",
       "      <td>28895411</td>\n",
       "      <td>319982</td>\n",
       "      <td>Animalia</td>\n",
       "      <td>Chordata</td>\n",
       "      <td>Amphibia</td>\n",
       "      <td>Caudata</td>\n",
       "      <td>Cryptobranchidae</td>\n",
       "      <td>Andrias</td>\n",
       "      <td>japonicus</td>\n",
       "      <td>Andrias japonicus</td>\n",
       "      <td>Japanese Giant Salamander</td>\n",
       "      <td>dataset/Animalia-Chordata-Amphibia-Caudata-Cry...</td>\n",
       "    </tr>\n",
       "    <tr>\n",
       "      <th>3</th>\n",
       "      <td>29cc6040-6af2-49ee-86ec-ab7d89793828</td>\n",
       "      <td>29658536</td>\n",
       "      <td>45510188</td>\n",
       "      <td>Animalia</td>\n",
       "      <td>Chordata</td>\n",
       "      <td>Aves</td>\n",
       "      <td>Passeriformes</td>\n",
       "      <td>Turdidae</td>\n",
       "      <td>Myadestes</td>\n",
       "      <td>obscurus</td>\n",
       "      <td>Myadestes obscurus</td>\n",
       "      <td>'Oma'o</td>\n",
       "      <td>dataset/Animalia-Chordata-Aves-Passeriformes-T...</td>\n",
       "    </tr>\n",
       "    <tr>\n",
       "      <th>4</th>\n",
       "      <td>94004bff-3a33-4758-8125-bf72e6e57eab</td>\n",
       "      <td>21252576</td>\n",
       "      <td>7250886</td>\n",
       "      <td>Animalia</td>\n",
       "      <td>Chordata</td>\n",
       "      <td>Mammalia</td>\n",
       "      <td>Primates</td>\n",
       "      <td>Indriidae</td>\n",
       "      <td>Propithecus</td>\n",
       "      <td>deckenii</td>\n",
       "      <td>Propithecus deckenii</td>\n",
       "      <td>Van der Decken's Sifaka</td>\n",
       "      <td>dataset/Animalia-Chordata-Mammalia-Primates-In...</td>\n",
       "    </tr>\n",
       "    <tr>\n",
       "      <th>...</th>\n",
       "      <td>...</td>\n",
       "      <td>...</td>\n",
       "      <td>...</td>\n",
       "      <td>...</td>\n",
       "      <td>...</td>\n",
       "      <td>...</td>\n",
       "      <td>...</td>\n",
       "      <td>...</td>\n",
       "      <td>...</td>\n",
       "      <td>...</td>\n",
       "      <td>...</td>\n",
       "      <td>...</td>\n",
       "      <td>...</td>\n",
       "    </tr>\n",
       "    <tr>\n",
       "      <th>11978</th>\n",
       "      <td>1fa96ea5-32fa-4a25-b8d2-fa99f6e2cb89</td>\n",
       "      <td>29734618</td>\n",
       "      <td>1011315</td>\n",
       "      <td>Animalia</td>\n",
       "      <td>Chordata</td>\n",
       "      <td>Mammalia</td>\n",
       "      <td>Lagomorpha</td>\n",
       "      <td>Leporidae</td>\n",
       "      <td>Sylvilagus</td>\n",
       "      <td>transitionalis</td>\n",
       "      <td>Sylvilagus transitionalis</td>\n",
       "      <td>Coney</td>\n",
       "      <td>dataset/Animalia-Chordata-Mammalia-Lagomorpha-...</td>\n",
       "    </tr>\n",
       "    <tr>\n",
       "      <th>11979</th>\n",
       "      <td>628bf2b4-6ecc-4017-a8e6-4306849e0cfc</td>\n",
       "      <td>29972861</td>\n",
       "      <td>1056842</td>\n",
       "      <td>Animalia</td>\n",
       "      <td>Chordata</td>\n",
       "      <td>Reptilia</td>\n",
       "      <td>Testudines</td>\n",
       "      <td>Emydidae</td>\n",
       "      <td>Glyptemys</td>\n",
       "      <td>muhlenbergii</td>\n",
       "      <td>Glyptemys muhlenbergii</td>\n",
       "      <td>Bog Turtle</td>\n",
       "      <td>dataset/Animalia-Chordata-Reptilia-Testudines-...</td>\n",
       "    </tr>\n",
       "    <tr>\n",
       "      <th>11980</th>\n",
       "      <td>0ecfdec9-b1cd-4d43-96fc-2f8889ec1ad9</td>\n",
       "      <td>30134195</td>\n",
       "      <td>52572074</td>\n",
       "      <td>Animalia</td>\n",
       "      <td>Chordata</td>\n",
       "      <td>Chondrichthyes</td>\n",
       "      <td>Myliobatiformes</td>\n",
       "      <td>Dasyatidae</td>\n",
       "      <td>Bathytoshia</td>\n",
       "      <td>centroura</td>\n",
       "      <td>Bathytoshia centroura</td>\n",
       "      <td>Roughtail Stingray</td>\n",
       "      <td>dataset/Animalia-Chordata-Chondrichthyes-Mylio...</td>\n",
       "    </tr>\n",
       "    <tr>\n",
       "      <th>11981</th>\n",
       "      <td>27fdb1e9-c5fb-459a-8b6a-6fb222b1c512</td>\n",
       "      <td>9474963</td>\n",
       "      <td>46559139</td>\n",
       "      <td>Animalia</td>\n",
       "      <td>Chordata</td>\n",
       "      <td>Mammalia</td>\n",
       "      <td>Carnivora</td>\n",
       "      <td>Mustelidae</td>\n",
       "      <td>Aonyx</td>\n",
       "      <td>capensis</td>\n",
       "      <td>Aonyx capensis</td>\n",
       "      <td>African Clawless Otter</td>\n",
       "      <td>dataset/Animalia-Chordata-Mammalia-Carnivora-M...</td>\n",
       "    </tr>\n",
       "    <tr>\n",
       "      <th>11982</th>\n",
       "      <td>54894a59-151f-4814-ac32-3a336841e58e</td>\n",
       "      <td>9465817</td>\n",
       "      <td>326525</td>\n",
       "      <td>Animalia</td>\n",
       "      <td>Chordata</td>\n",
       "      <td>Mammalia</td>\n",
       "      <td>Primates</td>\n",
       "      <td>Lemuridae</td>\n",
       "      <td>Eulemur</td>\n",
       "      <td>fulvus</td>\n",
       "      <td>Eulemur fulvus</td>\n",
       "      <td>Brown Lemur</td>\n",
       "      <td>dataset/Animalia-Chordata-Mammalia-Primates-Le...</td>\n",
       "    </tr>\n",
       "  </tbody>\n",
       "</table>\n",
       "<p>11983 rows × 13 columns</p>\n",
       "</div>"
      ],
      "text/plain": [
       "                             rarespecies_id  eol_content_id  eol_page_id  \\\n",
       "0      75fd91cb-2881-41cd-88e6-de451e8b60e2        12853737       449393   \n",
       "1      28c508bc-63ff-4e60-9c8f-1934367e1528        20969394       793083   \n",
       "2      00372441-588c-4af8-9665-29bee20822c0        28895411       319982   \n",
       "3      29cc6040-6af2-49ee-86ec-ab7d89793828        29658536     45510188   \n",
       "4      94004bff-3a33-4758-8125-bf72e6e57eab        21252576      7250886   \n",
       "...                                     ...             ...          ...   \n",
       "11978  1fa96ea5-32fa-4a25-b8d2-fa99f6e2cb89        29734618      1011315   \n",
       "11979  628bf2b4-6ecc-4017-a8e6-4306849e0cfc        29972861      1056842   \n",
       "11980  0ecfdec9-b1cd-4d43-96fc-2f8889ec1ad9        30134195     52572074   \n",
       "11981  27fdb1e9-c5fb-459a-8b6a-6fb222b1c512         9474963     46559139   \n",
       "11982  54894a59-151f-4814-ac32-3a336841e58e         9465817       326525   \n",
       "\n",
       "        kingdom    phylum           class            order            family  \\\n",
       "0      Animalia  Mollusca        Bivalvia         Unionida         Unionidae   \n",
       "1      Animalia  Chordata        Reptilia       Testudines       Geoemydidae   \n",
       "2      Animalia  Chordata        Amphibia          Caudata  Cryptobranchidae   \n",
       "3      Animalia  Chordata            Aves    Passeriformes          Turdidae   \n",
       "4      Animalia  Chordata        Mammalia         Primates         Indriidae   \n",
       "...         ...       ...             ...              ...               ...   \n",
       "11978  Animalia  Chordata        Mammalia       Lagomorpha         Leporidae   \n",
       "11979  Animalia  Chordata        Reptilia       Testudines          Emydidae   \n",
       "11980  Animalia  Chordata  Chondrichthyes  Myliobatiformes        Dasyatidae   \n",
       "11981  Animalia  Chordata        Mammalia        Carnivora        Mustelidae   \n",
       "11982  Animalia  Chordata        Mammalia         Primates         Lemuridae   \n",
       "\n",
       "             genus         species                    sciName  \\\n",
       "0       Cyclonaias     tuberculata     Cyclonaias tuberculata   \n",
       "1        Pangshura     sylhetensis      Pangshura sylhetensis   \n",
       "2          Andrias       japonicus          Andrias japonicus   \n",
       "3        Myadestes        obscurus         Myadestes obscurus   \n",
       "4      Propithecus        deckenii       Propithecus deckenii   \n",
       "...            ...             ...                        ...   \n",
       "11978   Sylvilagus  transitionalis  Sylvilagus transitionalis   \n",
       "11979    Glyptemys    muhlenbergii     Glyptemys muhlenbergii   \n",
       "11980  Bathytoshia       centroura      Bathytoshia centroura   \n",
       "11981        Aonyx        capensis             Aonyx capensis   \n",
       "11982      Eulemur          fulvus             Eulemur fulvus   \n",
       "\n",
       "                          common  \\\n",
       "0               purple wartyback   \n",
       "1            Assam Roofed Turtle   \n",
       "2      Japanese Giant Salamander   \n",
       "3                         'Oma'o   \n",
       "4        Van der Decken's Sifaka   \n",
       "...                          ...   \n",
       "11978                      Coney   \n",
       "11979                 Bog Turtle   \n",
       "11980         Roughtail Stingray   \n",
       "11981     African Clawless Otter   \n",
       "11982                Brown Lemur   \n",
       "\n",
       "                                               file_name  \n",
       "0      dataset/Animalia-Mollusca-Bivalvia-Unionida-Un...  \n",
       "1      dataset/Animalia-Chordata-Reptilia-Testudines-...  \n",
       "2      dataset/Animalia-Chordata-Amphibia-Caudata-Cry...  \n",
       "3      dataset/Animalia-Chordata-Aves-Passeriformes-T...  \n",
       "4      dataset/Animalia-Chordata-Mammalia-Primates-In...  \n",
       "...                                                  ...  \n",
       "11978  dataset/Animalia-Chordata-Mammalia-Lagomorpha-...  \n",
       "11979  dataset/Animalia-Chordata-Reptilia-Testudines-...  \n",
       "11980  dataset/Animalia-Chordata-Chondrichthyes-Mylio...  \n",
       "11981  dataset/Animalia-Chordata-Mammalia-Carnivora-M...  \n",
       "11982  dataset/Animalia-Chordata-Mammalia-Primates-Le...  \n",
       "\n",
       "[11983 rows x 13 columns]"
      ]
     },
     "execution_count": 2,
     "metadata": {},
     "output_type": "execute_result"
    }
   ],
   "source": [
    "import pandas as pd\n",
    "dataset=pd.read_csv(r\"C:\\Users\\tunam\\OneDrive - NUST\\Documents\\Desktop\\lab 1 and 2\\images\\metadata.csv\")\n",
    "dataset"
   ]
  },
  {
   "cell_type": "code",
   "execution_count": 3,
   "id": "720102f6-fc20-427b-a0fc-eb25ca535882",
   "metadata": {},
   "outputs": [
    {
     "data": {
      "text/html": [
       "<div>\n",
       "<style scoped>\n",
       "    .dataframe tbody tr th:only-of-type {\n",
       "        vertical-align: middle;\n",
       "    }\n",
       "\n",
       "    .dataframe tbody tr th {\n",
       "        vertical-align: top;\n",
       "    }\n",
       "\n",
       "    .dataframe thead th {\n",
       "        text-align: right;\n",
       "    }\n",
       "</style>\n",
       "<table border=\"1\" class=\"dataframe\">\n",
       "  <thead>\n",
       "    <tr style=\"text-align: right;\">\n",
       "      <th></th>\n",
       "      <th>phylum</th>\n",
       "      <th>class</th>\n",
       "      <th>order</th>\n",
       "      <th>family</th>\n",
       "      <th>genus</th>\n",
       "      <th>species</th>\n",
       "    </tr>\n",
       "  </thead>\n",
       "  <tbody>\n",
       "    <tr>\n",
       "      <th>0</th>\n",
       "      <td>Mollusca</td>\n",
       "      <td>Bivalvia</td>\n",
       "      <td>Unionida</td>\n",
       "      <td>Unionidae</td>\n",
       "      <td>Cyclonaias</td>\n",
       "      <td>tuberculata</td>\n",
       "    </tr>\n",
       "    <tr>\n",
       "      <th>1</th>\n",
       "      <td>Chordata</td>\n",
       "      <td>Reptilia</td>\n",
       "      <td>Testudines</td>\n",
       "      <td>Geoemydidae</td>\n",
       "      <td>Pangshura</td>\n",
       "      <td>sylhetensis</td>\n",
       "    </tr>\n",
       "    <tr>\n",
       "      <th>2</th>\n",
       "      <td>Chordata</td>\n",
       "      <td>Amphibia</td>\n",
       "      <td>Caudata</td>\n",
       "      <td>Cryptobranchidae</td>\n",
       "      <td>Andrias</td>\n",
       "      <td>japonicus</td>\n",
       "    </tr>\n",
       "    <tr>\n",
       "      <th>3</th>\n",
       "      <td>Chordata</td>\n",
       "      <td>Aves</td>\n",
       "      <td>Passeriformes</td>\n",
       "      <td>Turdidae</td>\n",
       "      <td>Myadestes</td>\n",
       "      <td>obscurus</td>\n",
       "    </tr>\n",
       "    <tr>\n",
       "      <th>4</th>\n",
       "      <td>Chordata</td>\n",
       "      <td>Mammalia</td>\n",
       "      <td>Primates</td>\n",
       "      <td>Indriidae</td>\n",
       "      <td>Propithecus</td>\n",
       "      <td>deckenii</td>\n",
       "    </tr>\n",
       "    <tr>\n",
       "      <th>...</th>\n",
       "      <td>...</td>\n",
       "      <td>...</td>\n",
       "      <td>...</td>\n",
       "      <td>...</td>\n",
       "      <td>...</td>\n",
       "      <td>...</td>\n",
       "    </tr>\n",
       "    <tr>\n",
       "      <th>11978</th>\n",
       "      <td>Chordata</td>\n",
       "      <td>Mammalia</td>\n",
       "      <td>Lagomorpha</td>\n",
       "      <td>Leporidae</td>\n",
       "      <td>Sylvilagus</td>\n",
       "      <td>transitionalis</td>\n",
       "    </tr>\n",
       "    <tr>\n",
       "      <th>11979</th>\n",
       "      <td>Chordata</td>\n",
       "      <td>Reptilia</td>\n",
       "      <td>Testudines</td>\n",
       "      <td>Emydidae</td>\n",
       "      <td>Glyptemys</td>\n",
       "      <td>muhlenbergii</td>\n",
       "    </tr>\n",
       "    <tr>\n",
       "      <th>11980</th>\n",
       "      <td>Chordata</td>\n",
       "      <td>Chondrichthyes</td>\n",
       "      <td>Myliobatiformes</td>\n",
       "      <td>Dasyatidae</td>\n",
       "      <td>Bathytoshia</td>\n",
       "      <td>centroura</td>\n",
       "    </tr>\n",
       "    <tr>\n",
       "      <th>11981</th>\n",
       "      <td>Chordata</td>\n",
       "      <td>Mammalia</td>\n",
       "      <td>Carnivora</td>\n",
       "      <td>Mustelidae</td>\n",
       "      <td>Aonyx</td>\n",
       "      <td>capensis</td>\n",
       "    </tr>\n",
       "    <tr>\n",
       "      <th>11982</th>\n",
       "      <td>Chordata</td>\n",
       "      <td>Mammalia</td>\n",
       "      <td>Primates</td>\n",
       "      <td>Lemuridae</td>\n",
       "      <td>Eulemur</td>\n",
       "      <td>fulvus</td>\n",
       "    </tr>\n",
       "  </tbody>\n",
       "</table>\n",
       "<p>11983 rows × 6 columns</p>\n",
       "</div>"
      ],
      "text/plain": [
       "         phylum           class            order            family  \\\n",
       "0      Mollusca        Bivalvia         Unionida         Unionidae   \n",
       "1      Chordata        Reptilia       Testudines       Geoemydidae   \n",
       "2      Chordata        Amphibia          Caudata  Cryptobranchidae   \n",
       "3      Chordata            Aves    Passeriformes          Turdidae   \n",
       "4      Chordata        Mammalia         Primates         Indriidae   \n",
       "...         ...             ...              ...               ...   \n",
       "11978  Chordata        Mammalia       Lagomorpha         Leporidae   \n",
       "11979  Chordata        Reptilia       Testudines          Emydidae   \n",
       "11980  Chordata  Chondrichthyes  Myliobatiformes        Dasyatidae   \n",
       "11981  Chordata        Mammalia        Carnivora        Mustelidae   \n",
       "11982  Chordata        Mammalia         Primates         Lemuridae   \n",
       "\n",
       "             genus         species  \n",
       "0       Cyclonaias     tuberculata  \n",
       "1        Pangshura     sylhetensis  \n",
       "2          Andrias       japonicus  \n",
       "3        Myadestes        obscurus  \n",
       "4      Propithecus        deckenii  \n",
       "...            ...             ...  \n",
       "11978   Sylvilagus  transitionalis  \n",
       "11979    Glyptemys    muhlenbergii  \n",
       "11980  Bathytoshia       centroura  \n",
       "11981        Aonyx        capensis  \n",
       "11982      Eulemur          fulvus  \n",
       "\n",
       "[11983 rows x 6 columns]"
      ]
     },
     "execution_count": 3,
     "metadata": {},
     "output_type": "execute_result"
    }
   ],
   "source": [
    "#deleting columns that are not needed\n",
    "dataset.drop(['rarespecies_id','eol_content_id','eol_page_id','kingdom','sciName','common','file_name'],axis=1, inplace=True)\n",
    "dataset"
   ]
  },
  {
   "cell_type": "code",
   "execution_count": 4,
   "id": "dc9ab0c7-72f4-4d48-b985-d184ab4851b5",
   "metadata": {},
   "outputs": [
    {
     "data": {
      "text/html": [
       "<div>\n",
       "<style scoped>\n",
       "    .dataframe tbody tr th:only-of-type {\n",
       "        vertical-align: middle;\n",
       "    }\n",
       "\n",
       "    .dataframe tbody tr th {\n",
       "        vertical-align: top;\n",
       "    }\n",
       "\n",
       "    .dataframe thead th {\n",
       "        text-align: right;\n",
       "    }\n",
       "</style>\n",
       "<table border=\"1\" class=\"dataframe\">\n",
       "  <thead>\n",
       "    <tr style=\"text-align: right;\">\n",
       "      <th></th>\n",
       "      <th>phylum</th>\n",
       "      <th>class</th>\n",
       "      <th>order</th>\n",
       "      <th>family</th>\n",
       "      <th>genus</th>\n",
       "      <th>species</th>\n",
       "    </tr>\n",
       "  </thead>\n",
       "  <tbody>\n",
       "    <tr>\n",
       "      <th>0</th>\n",
       "      <td>Mollusca</td>\n",
       "      <td>Bivalvia</td>\n",
       "      <td>Unionida</td>\n",
       "      <td>Unionidae</td>\n",
       "      <td>Cyclonaias</td>\n",
       "      <td>tuberculata</td>\n",
       "    </tr>\n",
       "    <tr>\n",
       "      <th>1</th>\n",
       "      <td>Chordata</td>\n",
       "      <td>Reptilia</td>\n",
       "      <td>Testudines</td>\n",
       "      <td>Geoemydidae</td>\n",
       "      <td>Pangshura</td>\n",
       "      <td>sylhetensis</td>\n",
       "    </tr>\n",
       "    <tr>\n",
       "      <th>2</th>\n",
       "      <td>Chordata</td>\n",
       "      <td>Amphibia</td>\n",
       "      <td>Caudata</td>\n",
       "      <td>Cryptobranchidae</td>\n",
       "      <td>Andrias</td>\n",
       "      <td>japonicus</td>\n",
       "    </tr>\n",
       "    <tr>\n",
       "      <th>3</th>\n",
       "      <td>Chordata</td>\n",
       "      <td>Aves</td>\n",
       "      <td>Passeriformes</td>\n",
       "      <td>Turdidae</td>\n",
       "      <td>Myadestes</td>\n",
       "      <td>obscurus</td>\n",
       "    </tr>\n",
       "    <tr>\n",
       "      <th>4</th>\n",
       "      <td>Chordata</td>\n",
       "      <td>Mammalia</td>\n",
       "      <td>Primates</td>\n",
       "      <td>Indriidae</td>\n",
       "      <td>Propithecus</td>\n",
       "      <td>deckenii</td>\n",
       "    </tr>\n",
       "    <tr>\n",
       "      <th>...</th>\n",
       "      <td>...</td>\n",
       "      <td>...</td>\n",
       "      <td>...</td>\n",
       "      <td>...</td>\n",
       "      <td>...</td>\n",
       "      <td>...</td>\n",
       "    </tr>\n",
       "    <tr>\n",
       "      <th>1600</th>\n",
       "      <td>Chordata</td>\n",
       "      <td>Reptilia</td>\n",
       "      <td>Crocodilia</td>\n",
       "      <td>Alligatoridae</td>\n",
       "      <td>Melanosuchus</td>\n",
       "      <td>niger</td>\n",
       "    </tr>\n",
       "    <tr>\n",
       "      <th>1655</th>\n",
       "      <td>Chordata</td>\n",
       "      <td>Mammalia</td>\n",
       "      <td>Carnivora</td>\n",
       "      <td>Mustelidae</td>\n",
       "      <td>Aonyx</td>\n",
       "      <td>capensis</td>\n",
       "    </tr>\n",
       "    <tr>\n",
       "      <th>1990</th>\n",
       "      <td>Chordata</td>\n",
       "      <td>Chondrichthyes</td>\n",
       "      <td>Carcharhiniformes</td>\n",
       "      <td>Carcharhinidae</td>\n",
       "      <td>Carcharhinus</td>\n",
       "      <td>amblyrhynchos</td>\n",
       "    </tr>\n",
       "    <tr>\n",
       "      <th>2093</th>\n",
       "      <td>Chordata</td>\n",
       "      <td>Aves</td>\n",
       "      <td>Apodiformes</td>\n",
       "      <td>Trochilidae</td>\n",
       "      <td>Lophornis</td>\n",
       "      <td>chalybeus</td>\n",
       "    </tr>\n",
       "    <tr>\n",
       "      <th>3714</th>\n",
       "      <td>Chordata</td>\n",
       "      <td>Actinopterygii</td>\n",
       "      <td>Cyprinodontiformes</td>\n",
       "      <td>Goodeidae</td>\n",
       "      <td>Zoogoneticus</td>\n",
       "      <td>tequila</td>\n",
       "    </tr>\n",
       "  </tbody>\n",
       "</table>\n",
       "<p>400 rows × 6 columns</p>\n",
       "</div>"
      ],
      "text/plain": [
       "        phylum           class               order            family  \\\n",
       "0     Mollusca        Bivalvia            Unionida         Unionidae   \n",
       "1     Chordata        Reptilia          Testudines       Geoemydidae   \n",
       "2     Chordata        Amphibia             Caudata  Cryptobranchidae   \n",
       "3     Chordata            Aves       Passeriformes          Turdidae   \n",
       "4     Chordata        Mammalia            Primates         Indriidae   \n",
       "...        ...             ...                 ...               ...   \n",
       "1600  Chordata        Reptilia          Crocodilia     Alligatoridae   \n",
       "1655  Chordata        Mammalia           Carnivora        Mustelidae   \n",
       "1990  Chordata  Chondrichthyes   Carcharhiniformes    Carcharhinidae   \n",
       "2093  Chordata            Aves         Apodiformes       Trochilidae   \n",
       "3714  Chordata  Actinopterygii  Cyprinodontiformes         Goodeidae   \n",
       "\n",
       "             genus        species  \n",
       "0       Cyclonaias    tuberculata  \n",
       "1        Pangshura    sylhetensis  \n",
       "2          Andrias      japonicus  \n",
       "3        Myadestes       obscurus  \n",
       "4      Propithecus       deckenii  \n",
       "...            ...            ...  \n",
       "1600  Melanosuchus          niger  \n",
       "1655         Aonyx       capensis  \n",
       "1990  Carcharhinus  amblyrhynchos  \n",
       "2093     Lophornis      chalybeus  \n",
       "3714  Zoogoneticus        tequila  \n",
       "\n",
       "[400 rows x 6 columns]"
      ]
     },
     "execution_count": 4,
     "metadata": {},
     "output_type": "execute_result"
    }
   ],
   "source": [
    "#deleting duplicates directly on the original dataset without creating a new one\n",
    "dataset.drop_duplicates(inplace=True)\n",
    "dataset"
   ]
  },
  {
   "cell_type": "code",
   "execution_count": 5,
   "id": "d51faaf3-d004-4f9f-aac2-375a392800ec",
   "metadata": {},
   "outputs": [
    {
     "data": {
      "text/html": [
       "<div>\n",
       "<style scoped>\n",
       "    .dataframe tbody tr th:only-of-type {\n",
       "        vertical-align: middle;\n",
       "    }\n",
       "\n",
       "    .dataframe tbody tr th {\n",
       "        vertical-align: top;\n",
       "    }\n",
       "\n",
       "    .dataframe thead th {\n",
       "        text-align: right;\n",
       "    }\n",
       "</style>\n",
       "<table border=\"1\" class=\"dataframe\">\n",
       "  <thead>\n",
       "    <tr style=\"text-align: right;\">\n",
       "      <th></th>\n",
       "      <th>phylum</th>\n",
       "      <th>class</th>\n",
       "      <th>order</th>\n",
       "      <th>family</th>\n",
       "      <th>genus</th>\n",
       "      <th>species</th>\n",
       "    </tr>\n",
       "  </thead>\n",
       "  <tbody>\n",
       "    <tr>\n",
       "      <th>0</th>\n",
       "      <td>Mollusca</td>\n",
       "      <td>Bivalvia</td>\n",
       "      <td>Unionida</td>\n",
       "      <td>Unionidae</td>\n",
       "      <td>Cyclonaias</td>\n",
       "      <td>tuberculata</td>\n",
       "    </tr>\n",
       "    <tr>\n",
       "      <th>1</th>\n",
       "      <td>Chordata</td>\n",
       "      <td>Reptilia</td>\n",
       "      <td>Testudines</td>\n",
       "      <td>Geoemydidae</td>\n",
       "      <td>Pangshura</td>\n",
       "      <td>sylhetensis</td>\n",
       "    </tr>\n",
       "    <tr>\n",
       "      <th>2</th>\n",
       "      <td>Chordata</td>\n",
       "      <td>Amphibia</td>\n",
       "      <td>Caudata</td>\n",
       "      <td>Cryptobranchidae</td>\n",
       "      <td>Andrias</td>\n",
       "      <td>japonicus</td>\n",
       "    </tr>\n",
       "    <tr>\n",
       "      <th>3</th>\n",
       "      <td>Chordata</td>\n",
       "      <td>Aves</td>\n",
       "      <td>Passeriformes</td>\n",
       "      <td>Turdidae</td>\n",
       "      <td>Myadestes</td>\n",
       "      <td>obscurus</td>\n",
       "    </tr>\n",
       "    <tr>\n",
       "      <th>4</th>\n",
       "      <td>Chordata</td>\n",
       "      <td>Mammalia</td>\n",
       "      <td>Primates</td>\n",
       "      <td>Indriidae</td>\n",
       "      <td>Propithecus</td>\n",
       "      <td>deckenii</td>\n",
       "    </tr>\n",
       "    <tr>\n",
       "      <th>...</th>\n",
       "      <td>...</td>\n",
       "      <td>...</td>\n",
       "      <td>...</td>\n",
       "      <td>...</td>\n",
       "      <td>...</td>\n",
       "      <td>...</td>\n",
       "    </tr>\n",
       "    <tr>\n",
       "      <th>1600</th>\n",
       "      <td>Chordata</td>\n",
       "      <td>Reptilia</td>\n",
       "      <td>Crocodilia</td>\n",
       "      <td>Alligatoridae</td>\n",
       "      <td>Melanosuchus</td>\n",
       "      <td>niger</td>\n",
       "    </tr>\n",
       "    <tr>\n",
       "      <th>1655</th>\n",
       "      <td>Chordata</td>\n",
       "      <td>Mammalia</td>\n",
       "      <td>Carnivora</td>\n",
       "      <td>Mustelidae</td>\n",
       "      <td>Aonyx</td>\n",
       "      <td>capensis</td>\n",
       "    </tr>\n",
       "    <tr>\n",
       "      <th>1990</th>\n",
       "      <td>Chordata</td>\n",
       "      <td>Chondrichthyes</td>\n",
       "      <td>Carcharhiniformes</td>\n",
       "      <td>Carcharhinidae</td>\n",
       "      <td>Carcharhinus</td>\n",
       "      <td>amblyrhynchos</td>\n",
       "    </tr>\n",
       "    <tr>\n",
       "      <th>2093</th>\n",
       "      <td>Chordata</td>\n",
       "      <td>Aves</td>\n",
       "      <td>Apodiformes</td>\n",
       "      <td>Trochilidae</td>\n",
       "      <td>Lophornis</td>\n",
       "      <td>chalybeus</td>\n",
       "    </tr>\n",
       "    <tr>\n",
       "      <th>3714</th>\n",
       "      <td>Chordata</td>\n",
       "      <td>Actinopterygii</td>\n",
       "      <td>Cyprinodontiformes</td>\n",
       "      <td>Goodeidae</td>\n",
       "      <td>Zoogoneticus</td>\n",
       "      <td>tequila</td>\n",
       "    </tr>\n",
       "  </tbody>\n",
       "</table>\n",
       "<p>400 rows × 6 columns</p>\n",
       "</div>"
      ],
      "text/plain": [
       "        phylum           class               order            family  \\\n",
       "0     Mollusca        Bivalvia            Unionida         Unionidae   \n",
       "1     Chordata        Reptilia          Testudines       Geoemydidae   \n",
       "2     Chordata        Amphibia             Caudata  Cryptobranchidae   \n",
       "3     Chordata            Aves       Passeriformes          Turdidae   \n",
       "4     Chordata        Mammalia            Primates         Indriidae   \n",
       "...        ...             ...                 ...               ...   \n",
       "1600  Chordata        Reptilia          Crocodilia     Alligatoridae   \n",
       "1655  Chordata        Mammalia           Carnivora        Mustelidae   \n",
       "1990  Chordata  Chondrichthyes   Carcharhiniformes    Carcharhinidae   \n",
       "2093  Chordata            Aves         Apodiformes       Trochilidae   \n",
       "3714  Chordata  Actinopterygii  Cyprinodontiformes         Goodeidae   \n",
       "\n",
       "             genus        species  \n",
       "0       Cyclonaias    tuberculata  \n",
       "1        Pangshura    sylhetensis  \n",
       "2          Andrias      japonicus  \n",
       "3        Myadestes       obscurus  \n",
       "4      Propithecus       deckenii  \n",
       "...            ...            ...  \n",
       "1600  Melanosuchus          niger  \n",
       "1655         Aonyx       capensis  \n",
       "1990  Carcharhinus  amblyrhynchos  \n",
       "2093     Lophornis      chalybeus  \n",
       "3714  Zoogoneticus        tequila  \n",
       "\n",
       "[400 rows x 6 columns]"
      ]
     },
     "execution_count": 5,
     "metadata": {},
     "output_type": "execute_result"
    }
   ],
   "source": [
    "#deleting empty rows\n",
    "dataset.dropna(inplace=True)\n",
    "dataset"
   ]
  },
  {
   "cell_type": "code",
   "execution_count": 6,
   "id": "ab65e083-9d1f-42fd-8c70-7b3664f49ec9",
   "metadata": {},
   "outputs": [
    {
     "data": {
      "text/html": [
       "<div>\n",
       "<style scoped>\n",
       "    .dataframe tbody tr th:only-of-type {\n",
       "        vertical-align: middle;\n",
       "    }\n",
       "\n",
       "    .dataframe tbody tr th {\n",
       "        vertical-align: top;\n",
       "    }\n",
       "\n",
       "    .dataframe thead th {\n",
       "        text-align: right;\n",
       "    }\n",
       "</style>\n",
       "<table border=\"1\" class=\"dataframe\">\n",
       "  <thead>\n",
       "    <tr style=\"text-align: right;\">\n",
       "      <th></th>\n",
       "      <th>phylum</th>\n",
       "      <th>class</th>\n",
       "      <th>order</th>\n",
       "      <th>family</th>\n",
       "      <th>genus</th>\n",
       "      <th>species</th>\n",
       "    </tr>\n",
       "  </thead>\n",
       "  <tbody>\n",
       "    <tr>\n",
       "      <th>0</th>\n",
       "      <td>Mollusca</td>\n",
       "      <td>Bivalvia</td>\n",
       "      <td>Unionida</td>\n",
       "      <td>Unionidae</td>\n",
       "      <td>Cyclonaias</td>\n",
       "      <td>tuberculata</td>\n",
       "    </tr>\n",
       "    <tr>\n",
       "      <th>1</th>\n",
       "      <td>Chordata</td>\n",
       "      <td>Reptilia</td>\n",
       "      <td>Testudines</td>\n",
       "      <td>Geoemydidae</td>\n",
       "      <td>Pangshura</td>\n",
       "      <td>sylhetensis</td>\n",
       "    </tr>\n",
       "    <tr>\n",
       "      <th>2</th>\n",
       "      <td>Chordata</td>\n",
       "      <td>Amphibia</td>\n",
       "      <td>Caudata</td>\n",
       "      <td>Cryptobranchidae</td>\n",
       "      <td>Andrias</td>\n",
       "      <td>japonicus</td>\n",
       "    </tr>\n",
       "    <tr>\n",
       "      <th>3</th>\n",
       "      <td>Chordata</td>\n",
       "      <td>Aves</td>\n",
       "      <td>Passeriformes</td>\n",
       "      <td>Turdidae</td>\n",
       "      <td>Myadestes</td>\n",
       "      <td>obscurus</td>\n",
       "    </tr>\n",
       "    <tr>\n",
       "      <th>4</th>\n",
       "      <td>Chordata</td>\n",
       "      <td>Mammalia</td>\n",
       "      <td>Primates</td>\n",
       "      <td>Indriidae</td>\n",
       "      <td>Propithecus</td>\n",
       "      <td>deckenii</td>\n",
       "    </tr>\n",
       "    <tr>\n",
       "      <th>...</th>\n",
       "      <td>...</td>\n",
       "      <td>...</td>\n",
       "      <td>...</td>\n",
       "      <td>...</td>\n",
       "      <td>...</td>\n",
       "      <td>...</td>\n",
       "    </tr>\n",
       "    <tr>\n",
       "      <th>395</th>\n",
       "      <td>Chordata</td>\n",
       "      <td>Reptilia</td>\n",
       "      <td>Crocodilia</td>\n",
       "      <td>Alligatoridae</td>\n",
       "      <td>Melanosuchus</td>\n",
       "      <td>niger</td>\n",
       "    </tr>\n",
       "    <tr>\n",
       "      <th>396</th>\n",
       "      <td>Chordata</td>\n",
       "      <td>Mammalia</td>\n",
       "      <td>Carnivora</td>\n",
       "      <td>Mustelidae</td>\n",
       "      <td>Aonyx</td>\n",
       "      <td>capensis</td>\n",
       "    </tr>\n",
       "    <tr>\n",
       "      <th>397</th>\n",
       "      <td>Chordata</td>\n",
       "      <td>Chondrichthyes</td>\n",
       "      <td>Carcharhiniformes</td>\n",
       "      <td>Carcharhinidae</td>\n",
       "      <td>Carcharhinus</td>\n",
       "      <td>amblyrhynchos</td>\n",
       "    </tr>\n",
       "    <tr>\n",
       "      <th>398</th>\n",
       "      <td>Chordata</td>\n",
       "      <td>Aves</td>\n",
       "      <td>Apodiformes</td>\n",
       "      <td>Trochilidae</td>\n",
       "      <td>Lophornis</td>\n",
       "      <td>chalybeus</td>\n",
       "    </tr>\n",
       "    <tr>\n",
       "      <th>399</th>\n",
       "      <td>Chordata</td>\n",
       "      <td>Actinopterygii</td>\n",
       "      <td>Cyprinodontiformes</td>\n",
       "      <td>Goodeidae</td>\n",
       "      <td>Zoogoneticus</td>\n",
       "      <td>tequila</td>\n",
       "    </tr>\n",
       "  </tbody>\n",
       "</table>\n",
       "<p>400 rows × 6 columns</p>\n",
       "</div>"
      ],
      "text/plain": [
       "       phylum           class               order            family  \\\n",
       "0    Mollusca        Bivalvia            Unionida         Unionidae   \n",
       "1    Chordata        Reptilia          Testudines       Geoemydidae   \n",
       "2    Chordata        Amphibia             Caudata  Cryptobranchidae   \n",
       "3    Chordata            Aves       Passeriformes          Turdidae   \n",
       "4    Chordata        Mammalia            Primates         Indriidae   \n",
       "..        ...             ...                 ...               ...   \n",
       "395  Chordata        Reptilia          Crocodilia     Alligatoridae   \n",
       "396  Chordata        Mammalia           Carnivora        Mustelidae   \n",
       "397  Chordata  Chondrichthyes   Carcharhiniformes    Carcharhinidae   \n",
       "398  Chordata            Aves         Apodiformes       Trochilidae   \n",
       "399  Chordata  Actinopterygii  Cyprinodontiformes         Goodeidae   \n",
       "\n",
       "            genus        species  \n",
       "0      Cyclonaias    tuberculata  \n",
       "1       Pangshura    sylhetensis  \n",
       "2         Andrias      japonicus  \n",
       "3       Myadestes       obscurus  \n",
       "4     Propithecus       deckenii  \n",
       "..            ...            ...  \n",
       "395  Melanosuchus          niger  \n",
       "396         Aonyx       capensis  \n",
       "397  Carcharhinus  amblyrhynchos  \n",
       "398     Lophornis      chalybeus  \n",
       "399  Zoogoneticus        tequila  \n",
       "\n",
       "[400 rows x 6 columns]"
      ]
     },
     "execution_count": 6,
     "metadata": {},
     "output_type": "execute_result"
    }
   ],
   "source": [
    "#resets the index of the table to be in a numerical order \n",
    "#drops the index column with previous index value \n",
    "dataset.reset_index(drop=True, inplace=True)\n",
    "dataset"
   ]
  },
  {
   "cell_type": "code",
   "execution_count": 7,
   "id": "13b983e0",
   "metadata": {},
   "outputs": [
    {
     "data": {
      "text/plain": [
       "phylum\n",
       "Chordata         332\n",
       "Arthropoda        32\n",
       "Cnidaria          27\n",
       "Mollusca           7\n",
       "Echinodermata      2\n",
       "Name: count, dtype: int64"
      ]
     },
     "execution_count": 7,
     "metadata": {},
     "output_type": "execute_result"
    }
   ],
   "source": [
    "column_entries=dataset['phylum'].value_counts()\n",
    "column_entries"
   ]
  },
  {
   "cell_type": "code",
   "execution_count": 8,
   "id": "c502b43e",
   "metadata": {},
   "outputs": [
    {
     "data": {
      "text/html": [
       "<div>\n",
       "<style scoped>\n",
       "    .dataframe tbody tr th:only-of-type {\n",
       "        vertical-align: middle;\n",
       "    }\n",
       "\n",
       "    .dataframe tbody tr th {\n",
       "        vertical-align: top;\n",
       "    }\n",
       "\n",
       "    .dataframe thead th {\n",
       "        text-align: right;\n",
       "    }\n",
       "</style>\n",
       "<table border=\"1\" class=\"dataframe\">\n",
       "  <thead>\n",
       "    <tr style=\"text-align: right;\">\n",
       "      <th></th>\n",
       "      <th>phylum</th>\n",
       "      <th>class</th>\n",
       "      <th>order</th>\n",
       "      <th>family</th>\n",
       "      <th>genus</th>\n",
       "      <th>species</th>\n",
       "    </tr>\n",
       "  </thead>\n",
       "  <tbody>\n",
       "    <tr>\n",
       "      <th>1</th>\n",
       "      <td>Chordata</td>\n",
       "      <td>Reptilia</td>\n",
       "      <td>Testudines</td>\n",
       "      <td>Geoemydidae</td>\n",
       "      <td>Pangshura</td>\n",
       "      <td>sylhetensis</td>\n",
       "    </tr>\n",
       "    <tr>\n",
       "      <th>2</th>\n",
       "      <td>Chordata</td>\n",
       "      <td>Amphibia</td>\n",
       "      <td>Caudata</td>\n",
       "      <td>Cryptobranchidae</td>\n",
       "      <td>Andrias</td>\n",
       "      <td>japonicus</td>\n",
       "    </tr>\n",
       "    <tr>\n",
       "      <th>3</th>\n",
       "      <td>Chordata</td>\n",
       "      <td>Aves</td>\n",
       "      <td>Passeriformes</td>\n",
       "      <td>Turdidae</td>\n",
       "      <td>Myadestes</td>\n",
       "      <td>obscurus</td>\n",
       "    </tr>\n",
       "    <tr>\n",
       "      <th>4</th>\n",
       "      <td>Chordata</td>\n",
       "      <td>Mammalia</td>\n",
       "      <td>Primates</td>\n",
       "      <td>Indriidae</td>\n",
       "      <td>Propithecus</td>\n",
       "      <td>deckenii</td>\n",
       "    </tr>\n",
       "    <tr>\n",
       "      <th>6</th>\n",
       "      <td>Chordata</td>\n",
       "      <td>Aves</td>\n",
       "      <td>Passeriformes</td>\n",
       "      <td>Fringillidae</td>\n",
       "      <td>Drepanis</td>\n",
       "      <td>coccinea</td>\n",
       "    </tr>\n",
       "    <tr>\n",
       "      <th>...</th>\n",
       "      <td>...</td>\n",
       "      <td>...</td>\n",
       "      <td>...</td>\n",
       "      <td>...</td>\n",
       "      <td>...</td>\n",
       "      <td>...</td>\n",
       "    </tr>\n",
       "    <tr>\n",
       "      <th>395</th>\n",
       "      <td>Chordata</td>\n",
       "      <td>Reptilia</td>\n",
       "      <td>Crocodilia</td>\n",
       "      <td>Alligatoridae</td>\n",
       "      <td>Melanosuchus</td>\n",
       "      <td>niger</td>\n",
       "    </tr>\n",
       "    <tr>\n",
       "      <th>396</th>\n",
       "      <td>Chordata</td>\n",
       "      <td>Mammalia</td>\n",
       "      <td>Carnivora</td>\n",
       "      <td>Mustelidae</td>\n",
       "      <td>Aonyx</td>\n",
       "      <td>capensis</td>\n",
       "    </tr>\n",
       "    <tr>\n",
       "      <th>397</th>\n",
       "      <td>Chordata</td>\n",
       "      <td>Chondrichthyes</td>\n",
       "      <td>Carcharhiniformes</td>\n",
       "      <td>Carcharhinidae</td>\n",
       "      <td>Carcharhinus</td>\n",
       "      <td>amblyrhynchos</td>\n",
       "    </tr>\n",
       "    <tr>\n",
       "      <th>398</th>\n",
       "      <td>Chordata</td>\n",
       "      <td>Aves</td>\n",
       "      <td>Apodiformes</td>\n",
       "      <td>Trochilidae</td>\n",
       "      <td>Lophornis</td>\n",
       "      <td>chalybeus</td>\n",
       "    </tr>\n",
       "    <tr>\n",
       "      <th>399</th>\n",
       "      <td>Chordata</td>\n",
       "      <td>Actinopterygii</td>\n",
       "      <td>Cyprinodontiformes</td>\n",
       "      <td>Goodeidae</td>\n",
       "      <td>Zoogoneticus</td>\n",
       "      <td>tequila</td>\n",
       "    </tr>\n",
       "  </tbody>\n",
       "</table>\n",
       "<p>332 rows × 6 columns</p>\n",
       "</div>"
      ],
      "text/plain": [
       "       phylum           class               order            family  \\\n",
       "1    Chordata        Reptilia          Testudines       Geoemydidae   \n",
       "2    Chordata        Amphibia             Caudata  Cryptobranchidae   \n",
       "3    Chordata            Aves       Passeriformes          Turdidae   \n",
       "4    Chordata        Mammalia            Primates         Indriidae   \n",
       "6    Chordata            Aves       Passeriformes      Fringillidae   \n",
       "..        ...             ...                 ...               ...   \n",
       "395  Chordata        Reptilia          Crocodilia     Alligatoridae   \n",
       "396  Chordata        Mammalia           Carnivora        Mustelidae   \n",
       "397  Chordata  Chondrichthyes   Carcharhiniformes    Carcharhinidae   \n",
       "398  Chordata            Aves         Apodiformes       Trochilidae   \n",
       "399  Chordata  Actinopterygii  Cyprinodontiformes         Goodeidae   \n",
       "\n",
       "            genus        species  \n",
       "1       Pangshura    sylhetensis  \n",
       "2         Andrias      japonicus  \n",
       "3       Myadestes       obscurus  \n",
       "4     Propithecus       deckenii  \n",
       "6        Drepanis       coccinea  \n",
       "..            ...            ...  \n",
       "395  Melanosuchus          niger  \n",
       "396         Aonyx       capensis  \n",
       "397  Carcharhinus  amblyrhynchos  \n",
       "398     Lophornis      chalybeus  \n",
       "399  Zoogoneticus        tequila  \n",
       "\n",
       "[332 rows x 6 columns]"
      ]
     },
     "execution_count": 8,
     "metadata": {},
     "output_type": "execute_result"
    }
   ],
   "source": [
    "chordata=dataset[dataset['phylum']=='Chordata']\n",
    "chordata"
   ]
  },
  {
   "cell_type": "code",
   "execution_count": 9,
   "id": "04f1ad98",
   "metadata": {},
   "outputs": [
    {
     "data": {
      "text/html": [
       "<div>\n",
       "<style scoped>\n",
       "    .dataframe tbody tr th:only-of-type {\n",
       "        vertical-align: middle;\n",
       "    }\n",
       "\n",
       "    .dataframe tbody tr th {\n",
       "        vertical-align: top;\n",
       "    }\n",
       "\n",
       "    .dataframe thead th {\n",
       "        text-align: right;\n",
       "    }\n",
       "</style>\n",
       "<table border=\"1\" class=\"dataframe\">\n",
       "  <thead>\n",
       "    <tr style=\"text-align: right;\">\n",
       "      <th></th>\n",
       "      <th>phylum</th>\n",
       "      <th>class</th>\n",
       "      <th>order</th>\n",
       "      <th>family</th>\n",
       "      <th>genus</th>\n",
       "      <th>species</th>\n",
       "    </tr>\n",
       "  </thead>\n",
       "  <tbody>\n",
       "    <tr>\n",
       "      <th>32</th>\n",
       "      <td>Asteroidea</td>\n",
       "      <td>Forcipulatida</td>\n",
       "      <td>Asteriidae</td>\n",
       "      <td>Asterias</td>\n",
       "      <td>Asterias rubens</td>\n",
       "      <td>Echinodermata</td>\n",
       "    </tr>\n",
       "    <tr>\n",
       "      <th>33</th>\n",
       "      <td>Echinoidea</td>\n",
       "      <td>Clypeasteroida</td>\n",
       "      <td>Clypeasteridae</td>\n",
       "      <td>Clypeaster</td>\n",
       "      <td>Clypeaster subdepressus</td>\n",
       "      <td>Echinodermata</td>\n",
       "    </tr>\n",
       "    <tr>\n",
       "      <th>34</th>\n",
       "      <td>Ophiuroidea</td>\n",
       "      <td>Ophiurida</td>\n",
       "      <td>Ophiuridae</td>\n",
       "      <td>Ophiura</td>\n",
       "      <td>Ophiura ophiura</td>\n",
       "      <td>Echinodermata</td>\n",
       "    </tr>\n",
       "    <tr>\n",
       "      <th>35</th>\n",
       "      <td>Crinoidea</td>\n",
       "      <td>Comatulida</td>\n",
       "      <td>Antedonidae</td>\n",
       "      <td>Antedon</td>\n",
       "      <td>Antedon mediterranea</td>\n",
       "      <td>Echinodermata</td>\n",
       "    </tr>\n",
       "    <tr>\n",
       "      <th>36</th>\n",
       "      <td>Holothuroidea</td>\n",
       "      <td>Synallactida</td>\n",
       "      <td>Synallactidae</td>\n",
       "      <td>Parastichopus</td>\n",
       "      <td>Parastichopus californicus</td>\n",
       "      <td>Echinodermata</td>\n",
       "    </tr>\n",
       "    <tr>\n",
       "      <th>37</th>\n",
       "      <td>Echinoidea</td>\n",
       "      <td>Arbacioida</td>\n",
       "      <td>Arbaciidae</td>\n",
       "      <td>Arbacia</td>\n",
       "      <td>Arbacia punctulata</td>\n",
       "      <td>Echinodermata</td>\n",
       "    </tr>\n",
       "    <tr>\n",
       "      <th>38</th>\n",
       "      <td>Asteroidea</td>\n",
       "      <td>Valvatida</td>\n",
       "      <td>Asterinidae</td>\n",
       "      <td>Patiria</td>\n",
       "      <td>Patiria miniata</td>\n",
       "      <td>Echinodermata</td>\n",
       "    </tr>\n",
       "    <tr>\n",
       "      <th>39</th>\n",
       "      <td>Ophiuroidea</td>\n",
       "      <td>Ophiurida</td>\n",
       "      <td>Ophiothrichidae</td>\n",
       "      <td>Ophiothrix</td>\n",
       "      <td>Ophiothrix fragilis</td>\n",
       "      <td>Echinodermata</td>\n",
       "    </tr>\n",
       "    <tr>\n",
       "      <th>40</th>\n",
       "      <td>Holothuroidea</td>\n",
       "      <td>Dendrochirotida</td>\n",
       "      <td>Cucumariidae</td>\n",
       "      <td>Cucumaria</td>\n",
       "      <td>Cucumaria frondosa</td>\n",
       "      <td>Echinodermata</td>\n",
       "    </tr>\n",
       "    <tr>\n",
       "      <th>41</th>\n",
       "      <td>Asteroidea</td>\n",
       "      <td>Spinulosida</td>\n",
       "      <td>Asterinidae</td>\n",
       "      <td>Asterina</td>\n",
       "      <td>Asterina gibbosa</td>\n",
       "      <td>Echinodermata</td>\n",
       "    </tr>\n",
       "    <tr>\n",
       "      <th>42</th>\n",
       "      <td>Asteroidea</td>\n",
       "      <td>Velatida</td>\n",
       "      <td>Pterasteridae</td>\n",
       "      <td>Pteraster</td>\n",
       "      <td>Pteraster militaris</td>\n",
       "      <td>Echinodermata</td>\n",
       "    </tr>\n",
       "    <tr>\n",
       "      <th>43</th>\n",
       "      <td>Echinoidea</td>\n",
       "      <td>Diadematoida</td>\n",
       "      <td>Diadematidae</td>\n",
       "      <td>Diadema</td>\n",
       "      <td>Diadema setosum</td>\n",
       "      <td>Echinodermata</td>\n",
       "    </tr>\n",
       "    <tr>\n",
       "      <th>44</th>\n",
       "      <td>Ophiuroidea</td>\n",
       "      <td>Ophiacanthida</td>\n",
       "      <td>Ophiacanthidae</td>\n",
       "      <td>Ophiacantha</td>\n",
       "      <td>Ophiacantha bidentata</td>\n",
       "      <td>Echinodermata</td>\n",
       "    </tr>\n",
       "    <tr>\n",
       "      <th>45</th>\n",
       "      <td>Holothuroidea</td>\n",
       "      <td>Aspidochirotida</td>\n",
       "      <td>Holothuriidae</td>\n",
       "      <td>Holothuria</td>\n",
       "      <td>Holothuria edulis</td>\n",
       "      <td>Echinodermata</td>\n",
       "    </tr>\n",
       "    <tr>\n",
       "      <th>46</th>\n",
       "      <td>Asteroidea</td>\n",
       "      <td>Paxillosida</td>\n",
       "      <td>Luidiidae</td>\n",
       "      <td>Luidia</td>\n",
       "      <td>Luidia clathrata</td>\n",
       "      <td>Echinodermata</td>\n",
       "    </tr>\n",
       "    <tr>\n",
       "      <th>47</th>\n",
       "      <td>Echinoidea</td>\n",
       "      <td>Spatangoida</td>\n",
       "      <td>Brissidae</td>\n",
       "      <td>Brissus</td>\n",
       "      <td>Brissus unicolor</td>\n",
       "      <td>Echinodermata</td>\n",
       "    </tr>\n",
       "    <tr>\n",
       "      <th>48</th>\n",
       "      <td>Crinoidea</td>\n",
       "      <td>Cyrtocrinida</td>\n",
       "      <td>Bathycrinidae</td>\n",
       "      <td>Bathycrinus</td>\n",
       "      <td>Bathycrinus aldrichianus</td>\n",
       "      <td>Echinodermata</td>\n",
       "    </tr>\n",
       "    <tr>\n",
       "      <th>49</th>\n",
       "      <td>Ophiuroidea</td>\n",
       "      <td>Euryalida</td>\n",
       "      <td>Gorgonocephalidae</td>\n",
       "      <td>Gorgonocephalus</td>\n",
       "      <td>Gorgonocephalus eucnemis</td>\n",
       "      <td>Echinodermata</td>\n",
       "    </tr>\n",
       "    <tr>\n",
       "      <th>50</th>\n",
       "      <td>Chordata</td>\n",
       "      <td>Aves</td>\n",
       "      <td>Passeriformes</td>\n",
       "      <td>Bombycillidae</td>\n",
       "      <td>Bombycilla</td>\n",
       "      <td>japonica</td>\n",
       "    </tr>\n",
       "    <tr>\n",
       "      <th>51</th>\n",
       "      <td>Chordata</td>\n",
       "      <td>Aves</td>\n",
       "      <td>Passeriformes</td>\n",
       "      <td>Thraupidae</td>\n",
       "      <td>Certhidea</td>\n",
       "      <td>olivacea</td>\n",
       "    </tr>\n",
       "  </tbody>\n",
       "</table>\n",
       "</div>"
      ],
      "text/plain": [
       "           phylum            class              order           family  \\\n",
       "32     Asteroidea    Forcipulatida         Asteriidae         Asterias   \n",
       "33     Echinoidea   Clypeasteroida     Clypeasteridae       Clypeaster   \n",
       "34    Ophiuroidea        Ophiurida         Ophiuridae          Ophiura   \n",
       "35      Crinoidea       Comatulida        Antedonidae          Antedon   \n",
       "36  Holothuroidea     Synallactida      Synallactidae    Parastichopus   \n",
       "37     Echinoidea       Arbacioida         Arbaciidae          Arbacia   \n",
       "38     Asteroidea        Valvatida        Asterinidae          Patiria   \n",
       "39    Ophiuroidea        Ophiurida    Ophiothrichidae       Ophiothrix   \n",
       "40  Holothuroidea  Dendrochirotida       Cucumariidae        Cucumaria   \n",
       "41     Asteroidea      Spinulosida        Asterinidae         Asterina   \n",
       "42     Asteroidea         Velatida      Pterasteridae        Pteraster   \n",
       "43     Echinoidea     Diadematoida       Diadematidae          Diadema   \n",
       "44    Ophiuroidea    Ophiacanthida     Ophiacanthidae      Ophiacantha   \n",
       "45  Holothuroidea  Aspidochirotida      Holothuriidae       Holothuria   \n",
       "46     Asteroidea      Paxillosida          Luidiidae           Luidia   \n",
       "47     Echinoidea      Spatangoida          Brissidae          Brissus   \n",
       "48      Crinoidea     Cyrtocrinida      Bathycrinidae      Bathycrinus   \n",
       "49    Ophiuroidea        Euryalida  Gorgonocephalidae  Gorgonocephalus   \n",
       "50       Chordata             Aves      Passeriformes    Bombycillidae   \n",
       "51       Chordata             Aves      Passeriformes       Thraupidae   \n",
       "\n",
       "                         genus        species  \n",
       "32             Asterias rubens  Echinodermata  \n",
       "33     Clypeaster subdepressus  Echinodermata  \n",
       "34             Ophiura ophiura  Echinodermata  \n",
       "35        Antedon mediterranea  Echinodermata  \n",
       "36  Parastichopus californicus  Echinodermata  \n",
       "37          Arbacia punctulata  Echinodermata  \n",
       "38             Patiria miniata  Echinodermata  \n",
       "39         Ophiothrix fragilis  Echinodermata  \n",
       "40          Cucumaria frondosa  Echinodermata  \n",
       "41            Asterina gibbosa  Echinodermata  \n",
       "42         Pteraster militaris  Echinodermata  \n",
       "43             Diadema setosum  Echinodermata  \n",
       "44       Ophiacantha bidentata  Echinodermata  \n",
       "45           Holothuria edulis  Echinodermata  \n",
       "46            Luidia clathrata  Echinodermata  \n",
       "47            Brissus unicolor  Echinodermata  \n",
       "48    Bathycrinus aldrichianus  Echinodermata  \n",
       "49    Gorgonocephalus eucnemis  Echinodermata  \n",
       "50                  Bombycilla       japonica  \n",
       "51                   Certhidea       olivacea  "
      ]
     },
     "execution_count": 9,
     "metadata": {},
     "output_type": "execute_result"
    }
   ],
   "source": [
    "#adding organisms to the dataframe with Echinodermata as the phylum name\n",
    "new_data=[\n",
    "    [\"Asteroidea\", \"Forcipulatida\", \"Asteriidae\", \"Asterias\", \"Asterias rubens\", \"Echinodermata\"],\n",
    "    [\"Echinoidea\", \"Clypeasteroida\", \"Clypeasteridae\", \"Clypeaster\", \"Clypeaster subdepressus\", \"Echinodermata\"],\n",
    "    [\"Ophiuroidea\", \"Ophiurida\", \"Ophiuridae\", \"Ophiura\", \"Ophiura ophiura\", \"Echinodermata\"],\n",
    "    [\"Crinoidea\", \"Comatulida\", \"Antedonidae\", \"Antedon\", \"Antedon mediterranea\", \"Echinodermata\"],\n",
    "    [\"Holothuroidea\", \"Synallactida\", \"Synallactidae\", \"Parastichopus\", \"Parastichopus californicus\", \"Echinodermata\"],\n",
    "    [\"Echinoidea\", \"Arbacioida\", \"Arbaciidae\", \"Arbacia\", \"Arbacia punctulata\", \"Echinodermata\"],\n",
    "    [\"Asteroidea\", \"Valvatida\", \"Asterinidae\", \"Patiria\", \"Patiria miniata\", \"Echinodermata\"],\n",
    "    [\"Ophiuroidea\", \"Ophiurida\", \"Ophiothrichidae\", \"Ophiothrix\", \"Ophiothrix fragilis\", \"Echinodermata\"],\n",
    "    [\"Holothuroidea\", \"Dendrochirotida\", \"Cucumariidae\", \"Cucumaria\", \"Cucumaria frondosa\", \"Echinodermata\"],\n",
    "    [\"Asteroidea\", \"Spinulosida\", \"Asterinidae\", \"Asterina\", \"Asterina gibbosa\", \"Echinodermata\"],\n",
    "    [\"Asteroidea\", \"Velatida\", \"Pterasteridae\", \"Pteraster\", \"Pteraster militaris\", \"Echinodermata\"],\n",
    "    [\"Echinoidea\", \"Diadematoida\", \"Diadematidae\", \"Diadema\", \"Diadema setosum\", \"Echinodermata\"],\n",
    "    [\"Ophiuroidea\", \"Ophiacanthida\", \"Ophiacanthidae\", \"Ophiacantha\", \"Ophiacantha bidentata\", \"Echinodermata\"],\n",
    "    [\"Holothuroidea\", \"Aspidochirotida\", \"Holothuriidae\", \"Holothuria\", \"Holothuria edulis\", \"Echinodermata\"],\n",
    "    [\"Asteroidea\", \"Paxillosida\", \"Luidiidae\", \"Luidia\", \"Luidia clathrata\", \"Echinodermata\"],\n",
    "    [\"Echinoidea\", \"Spatangoida\", \"Brissidae\", \"Brissus\", \"Brissus unicolor\", \"Echinodermata\"],\n",
    "    [\"Crinoidea\", \"Cyrtocrinida\", \"Bathycrinidae\", \"Bathycrinus\", \"Bathycrinus aldrichianus\", \"Echinodermata\"],\n",
    "    [\"Ophiuroidea\", \"Euryalida\", \"Gorgonocephalidae\", \"Gorgonocephalus\", \"Gorgonocephalus eucnemis\", \"Echinodermata\"]\n",
    "]\n",
    "\n",
    "new_dataset =pd.DataFrame(new_data, columns=dataset.columns)\n",
    "dataset.iloc[32:32+len(new_dataset)] = new_dataset\n",
    "\n",
    "dataset.to_csv('updated_dataset.csv', index=False)\n",
    "dataset.iloc[32:52]"
   ]
  },
  {
   "cell_type": "code",
   "execution_count": 10,
   "id": "5503a756",
   "metadata": {},
   "outputs": [
    {
     "data": {
      "text/html": [
       "<div>\n",
       "<style scoped>\n",
       "    .dataframe tbody tr th:only-of-type {\n",
       "        vertical-align: middle;\n",
       "    }\n",
       "\n",
       "    .dataframe tbody tr th {\n",
       "        vertical-align: top;\n",
       "    }\n",
       "\n",
       "    .dataframe thead th {\n",
       "        text-align: right;\n",
       "    }\n",
       "</style>\n",
       "<table border=\"1\" class=\"dataframe\">\n",
       "  <thead>\n",
       "    <tr style=\"text-align: right;\">\n",
       "      <th></th>\n",
       "      <th>phylum</th>\n",
       "      <th>class</th>\n",
       "      <th>order</th>\n",
       "      <th>family</th>\n",
       "      <th>genus</th>\n",
       "      <th>species</th>\n",
       "    </tr>\n",
       "  </thead>\n",
       "  <tbody>\n",
       "    <tr>\n",
       "      <th>50</th>\n",
       "      <td>Bivalvia</td>\n",
       "      <td>Ostreoida</td>\n",
       "      <td>Ostreidae</td>\n",
       "      <td>Crassostrea</td>\n",
       "      <td>gigas</td>\n",
       "      <td>Mollusca</td>\n",
       "    </tr>\n",
       "    <tr>\n",
       "      <th>51</th>\n",
       "      <td>Bivalvia</td>\n",
       "      <td>Veneroida</td>\n",
       "      <td>Veneridae</td>\n",
       "      <td>Mercenaria</td>\n",
       "      <td>mercenaria</td>\n",
       "      <td>Mollusca</td>\n",
       "    </tr>\n",
       "    <tr>\n",
       "      <th>52</th>\n",
       "      <td>Gastropoda</td>\n",
       "      <td>Pulmonata</td>\n",
       "      <td>Limacidae</td>\n",
       "      <td>Limax</td>\n",
       "      <td>maximus</td>\n",
       "      <td>Mollusca</td>\n",
       "    </tr>\n",
       "    <tr>\n",
       "      <th>53</th>\n",
       "      <td>Gastropoda</td>\n",
       "      <td>Neogastropoda</td>\n",
       "      <td>Buccinidae</td>\n",
       "      <td>Busycon</td>\n",
       "      <td>carica</td>\n",
       "      <td>Mollusca</td>\n",
       "    </tr>\n",
       "    <tr>\n",
       "      <th>54</th>\n",
       "      <td>Bivalvia</td>\n",
       "      <td>Myida</td>\n",
       "      <td>Myidae</td>\n",
       "      <td>Mytilus</td>\n",
       "      <td>edulis</td>\n",
       "      <td>Mollusca</td>\n",
       "    </tr>\n",
       "    <tr>\n",
       "      <th>55</th>\n",
       "      <td>Cephalopoda</td>\n",
       "      <td>Octopoda</td>\n",
       "      <td>Octopodidae</td>\n",
       "      <td>Octopus</td>\n",
       "      <td>vulgaris</td>\n",
       "      <td>Mollusca</td>\n",
       "    </tr>\n",
       "    <tr>\n",
       "      <th>56</th>\n",
       "      <td>Gastropoda</td>\n",
       "      <td>Heterobranchia</td>\n",
       "      <td>Stylommatophora</td>\n",
       "      <td>Eobrachycera</td>\n",
       "      <td>muscosa</td>\n",
       "      <td>Mollusca</td>\n",
       "    </tr>\n",
       "    <tr>\n",
       "      <th>57</th>\n",
       "      <td>Bivalvia</td>\n",
       "      <td>Pteriida</td>\n",
       "      <td>Pteriidae</td>\n",
       "      <td>Pinctada</td>\n",
       "      <td>margaritifera</td>\n",
       "      <td>Mollusca</td>\n",
       "    </tr>\n",
       "    <tr>\n",
       "      <th>58</th>\n",
       "      <td>Gastropoda</td>\n",
       "      <td>Caenogastropoda</td>\n",
       "      <td>Fasciolariidae</td>\n",
       "      <td>Fasciolaria</td>\n",
       "      <td>tulipa</td>\n",
       "      <td>Mollusca</td>\n",
       "    </tr>\n",
       "    <tr>\n",
       "      <th>59</th>\n",
       "      <td>Gastropoda</td>\n",
       "      <td>Caenogastropoda</td>\n",
       "      <td>Cypraeidae</td>\n",
       "      <td>Cypraea</td>\n",
       "      <td>tigris</td>\n",
       "      <td>Mollusca</td>\n",
       "    </tr>\n",
       "    <tr>\n",
       "      <th>60</th>\n",
       "      <td>Cephalopoda</td>\n",
       "      <td>Decapodiformes</td>\n",
       "      <td>Loliginidae</td>\n",
       "      <td>Loligo</td>\n",
       "      <td>vulgaris</td>\n",
       "      <td>Mollusca</td>\n",
       "    </tr>\n",
       "    <tr>\n",
       "      <th>61</th>\n",
       "      <td>Gastropoda</td>\n",
       "      <td>Cerithioidea</td>\n",
       "      <td>Thiaridae</td>\n",
       "      <td>Thiara</td>\n",
       "      <td>granifera</td>\n",
       "      <td>Mollusca</td>\n",
       "    </tr>\n",
       "    <tr>\n",
       "      <th>62</th>\n",
       "      <td>Bivalvia</td>\n",
       "      <td>Veneroida</td>\n",
       "      <td>Donacidae</td>\n",
       "      <td>Donax</td>\n",
       "      <td>variabilis</td>\n",
       "      <td>Mollusca</td>\n",
       "    </tr>\n",
       "    <tr>\n",
       "      <th>63</th>\n",
       "      <td>Gastropoda</td>\n",
       "      <td>Basommatophora</td>\n",
       "      <td>Planorbidae</td>\n",
       "      <td>Planorbarius</td>\n",
       "      <td>corneus</td>\n",
       "      <td>Mollusca</td>\n",
       "    </tr>\n",
       "    <tr>\n",
       "      <th>64</th>\n",
       "      <td>Cephalopoda</td>\n",
       "      <td>Nautilida</td>\n",
       "      <td>Nautilidae</td>\n",
       "      <td>Nautilus</td>\n",
       "      <td>pompilius</td>\n",
       "      <td>Mollusca</td>\n",
       "    </tr>\n",
       "    <tr>\n",
       "      <th>65</th>\n",
       "      <td>Bivalvia</td>\n",
       "      <td>Pectinida</td>\n",
       "      <td>Pectinidae</td>\n",
       "      <td>Pecten</td>\n",
       "      <td>maximus</td>\n",
       "      <td>Mollusca</td>\n",
       "    </tr>\n",
       "    <tr>\n",
       "      <th>66</th>\n",
       "      <td>Gastropoda</td>\n",
       "      <td>Opisthobranchia</td>\n",
       "      <td>Aplysiidae</td>\n",
       "      <td>Aplysia</td>\n",
       "      <td>californica</td>\n",
       "      <td>Mollusca</td>\n",
       "    </tr>\n",
       "    <tr>\n",
       "      <th>67</th>\n",
       "      <td>Bivalvia</td>\n",
       "      <td>Cardiida</td>\n",
       "      <td>Cardiidae</td>\n",
       "      <td>Cardium</td>\n",
       "      <td>edule</td>\n",
       "      <td>Mollusca</td>\n",
       "    </tr>\n",
       "    <tr>\n",
       "      <th>68</th>\n",
       "      <td>Gastropoda</td>\n",
       "      <td>Caenogastropoda</td>\n",
       "      <td>Neritidae</td>\n",
       "      <td>Nerita</td>\n",
       "      <td>atramentosa</td>\n",
       "      <td>Mollusca</td>\n",
       "    </tr>\n",
       "    <tr>\n",
       "      <th>69</th>\n",
       "      <td>Chordata</td>\n",
       "      <td>Aves</td>\n",
       "      <td>Charadriiformes</td>\n",
       "      <td>Laridae</td>\n",
       "      <td>Chlidonias</td>\n",
       "      <td>albostriatus</td>\n",
       "    </tr>\n",
       "  </tbody>\n",
       "</table>\n",
       "</div>"
      ],
      "text/plain": [
       "         phylum            class            order        family  \\\n",
       "50     Bivalvia        Ostreoida        Ostreidae   Crassostrea   \n",
       "51     Bivalvia        Veneroida        Veneridae    Mercenaria   \n",
       "52   Gastropoda        Pulmonata        Limacidae         Limax   \n",
       "53   Gastropoda    Neogastropoda       Buccinidae       Busycon   \n",
       "54     Bivalvia            Myida           Myidae       Mytilus   \n",
       "55  Cephalopoda         Octopoda      Octopodidae       Octopus   \n",
       "56   Gastropoda   Heterobranchia  Stylommatophora  Eobrachycera   \n",
       "57     Bivalvia         Pteriida        Pteriidae      Pinctada   \n",
       "58   Gastropoda  Caenogastropoda   Fasciolariidae   Fasciolaria   \n",
       "59   Gastropoda  Caenogastropoda       Cypraeidae       Cypraea   \n",
       "60  Cephalopoda   Decapodiformes      Loliginidae        Loligo   \n",
       "61   Gastropoda     Cerithioidea        Thiaridae        Thiara   \n",
       "62     Bivalvia        Veneroida        Donacidae         Donax   \n",
       "63   Gastropoda   Basommatophora      Planorbidae  Planorbarius   \n",
       "64  Cephalopoda        Nautilida       Nautilidae      Nautilus   \n",
       "65     Bivalvia        Pectinida       Pectinidae        Pecten   \n",
       "66   Gastropoda  Opisthobranchia       Aplysiidae       Aplysia   \n",
       "67     Bivalvia         Cardiida        Cardiidae       Cardium   \n",
       "68   Gastropoda  Caenogastropoda        Neritidae        Nerita   \n",
       "69     Chordata             Aves  Charadriiformes       Laridae   \n",
       "\n",
       "            genus       species  \n",
       "50          gigas      Mollusca  \n",
       "51     mercenaria      Mollusca  \n",
       "52        maximus      Mollusca  \n",
       "53         carica      Mollusca  \n",
       "54         edulis      Mollusca  \n",
       "55       vulgaris      Mollusca  \n",
       "56        muscosa      Mollusca  \n",
       "57  margaritifera      Mollusca  \n",
       "58         tulipa      Mollusca  \n",
       "59         tigris      Mollusca  \n",
       "60       vulgaris      Mollusca  \n",
       "61      granifera      Mollusca  \n",
       "62     variabilis      Mollusca  \n",
       "63        corneus      Mollusca  \n",
       "64      pompilius      Mollusca  \n",
       "65        maximus      Mollusca  \n",
       "66    californica      Mollusca  \n",
       "67          edule      Mollusca  \n",
       "68    atramentosa      Mollusca  \n",
       "69     Chlidonias  albostriatus  "
      ]
     },
     "execution_count": 10,
     "metadata": {},
     "output_type": "execute_result"
    }
   ],
   "source": [
    "#adding more organisms to the dataframe with Mollusca as the phylum name\n",
    "new_organisms=[\n",
    "    [\"Bivalvia\", \"Ostreoida\", \"Ostreidae\", \"Crassostrea\", \"gigas\", \"Mollusca\"],\n",
    "    [\"Bivalvia\", \"Veneroida\", \"Veneridae\", \"Mercenaria\", \"mercenaria\", \"Mollusca\"],\n",
    "    [\"Gastropoda\", \"Pulmonata\", \"Limacidae\", \"Limax\", \"maximus\", \"Mollusca\"],\n",
    "    [\"Gastropoda\", \"Neogastropoda\", \"Buccinidae\", \"Busycon\", \"carica\", \"Mollusca\"],\n",
    "    [\"Bivalvia\", \"Myida\", \"Myidae\", \"Mytilus\", \"edulis\", \"Mollusca\"],\n",
    "    [\"Cephalopoda\", \"Octopoda\", \"Octopodidae\", \"Octopus\", \"vulgaris\", \"Mollusca\"],\n",
    "    [\"Gastropoda\", \"Heterobranchia\", \"Stylommatophora\", \"Eobrachycera\", \"muscosa\", \"Mollusca\"],\n",
    "    [\"Bivalvia\", \"Pteriida\", \"Pteriidae\", \"Pinctada\", \"margaritifera\", \"Mollusca\"],\n",
    "    [\"Gastropoda\", \"Caenogastropoda\", \"Fasciolariidae\", \"Fasciolaria\", \"tulipa\", \"Mollusca\"],\n",
    "    [\"Gastropoda\", \"Caenogastropoda\", \"Cypraeidae\", \"Cypraea\", \"tigris\", \"Mollusca\"],\n",
    "    [\"Cephalopoda\", \"Decapodiformes\", \"Loliginidae\", \"Loligo\", \"vulgaris\", \"Mollusca\"],\n",
    "    [\"Gastropoda\", \"Cerithioidea\", \"Thiaridae\", \"Thiara\", \"granifera\", \"Mollusca\"],\n",
    "    [\"Bivalvia\", \"Veneroida\", \"Donacidae\", \"Donax\", \"variabilis\", \"Mollusca\"],\n",
    "    [\"Gastropoda\", \"Basommatophora\", \"Planorbidae\", \"Planorbarius\", \"corneus\", \"Mollusca\"],\n",
    "    [\"Cephalopoda\", \"Nautilida\", \"Nautilidae\", \"Nautilus\", \"pompilius\", \"Mollusca\"],\n",
    "    [\"Bivalvia\", \"Pectinida\", \"Pectinidae\", \"Pecten\", \"maximus\", \"Mollusca\"],\n",
    "    [\"Gastropoda\", \"Opisthobranchia\", \"Aplysiidae\", \"Aplysia\", \"californica\", \"Mollusca\"],\n",
    "    [\"Bivalvia\", \"Cardiida\", \"Cardiidae\", \"Cardium\", \"edule\", \"Mollusca\"],\n",
    "    [\"Gastropoda\", \"Caenogastropoda\", \"Neritidae\", \"Nerita\", \"atramentosa\", \"Mollusca\"]\n",
    "]\n",
    "# Adding the new organisms starting from index 50\n",
    "dataset.iloc[50:50+len(new_organisms), :] = new_organisms\n",
    "dataset.to_csv('updated_dataset.csv', index=False)\n",
    "\n",
    "\n",
    "dataset.iloc[50:70]"
   ]
  },
  {
   "cell_type": "code",
   "execution_count": 11,
   "id": "5dc7fc9e-9867-4116-b909-e523082a3cf8",
   "metadata": {},
   "outputs": [
    {
     "data": {
      "text/html": [
       "<div>\n",
       "<style scoped>\n",
       "    .dataframe tbody tr th:only-of-type {\n",
       "        vertical-align: middle;\n",
       "    }\n",
       "\n",
       "    .dataframe tbody tr th {\n",
       "        vertical-align: top;\n",
       "    }\n",
       "\n",
       "    .dataframe thead th {\n",
       "        text-align: right;\n",
       "    }\n",
       "</style>\n",
       "<table border=\"1\" class=\"dataframe\">\n",
       "  <thead>\n",
       "    <tr style=\"text-align: right;\">\n",
       "      <th></th>\n",
       "      <th>phylum</th>\n",
       "      <th>class</th>\n",
       "      <th>order</th>\n",
       "      <th>family</th>\n",
       "      <th>genus</th>\n",
       "      <th>species</th>\n",
       "    </tr>\n",
       "  </thead>\n",
       "  <tbody>\n",
       "    <tr>\n",
       "      <th>29</th>\n",
       "      <td>Chordata</td>\n",
       "      <td>Aves</td>\n",
       "      <td>Coraciiformes</td>\n",
       "      <td>Alcedinidae</td>\n",
       "      <td>Halcyon</td>\n",
       "      <td>pileata</td>\n",
       "    </tr>\n",
       "    <tr>\n",
       "      <th>192</th>\n",
       "      <td>Chordata</td>\n",
       "      <td>Reptilia</td>\n",
       "      <td>Testudines</td>\n",
       "      <td>Chelidae</td>\n",
       "      <td>Acanthochelys</td>\n",
       "      <td>macrocephala</td>\n",
       "    </tr>\n",
       "    <tr>\n",
       "      <th>327</th>\n",
       "      <td>Chordata</td>\n",
       "      <td>Aves</td>\n",
       "      <td>Psittaciformes</td>\n",
       "      <td>Psittacidae</td>\n",
       "      <td>Amazona</td>\n",
       "      <td>collaria</td>\n",
       "    </tr>\n",
       "    <tr>\n",
       "      <th>153</th>\n",
       "      <td>Chordata</td>\n",
       "      <td>Aves</td>\n",
       "      <td>Passeriformes</td>\n",
       "      <td>Mimidae</td>\n",
       "      <td>Mimus</td>\n",
       "      <td>macdonaldi</td>\n",
       "    </tr>\n",
       "    <tr>\n",
       "      <th>201</th>\n",
       "      <td>Chordata</td>\n",
       "      <td>Actinopterygii</td>\n",
       "      <td>Lutjaniformes</td>\n",
       "      <td>Lutjanidae</td>\n",
       "      <td>Lutjanus</td>\n",
       "      <td>cyanopterus</td>\n",
       "    </tr>\n",
       "    <tr>\n",
       "      <th>...</th>\n",
       "      <td>...</td>\n",
       "      <td>...</td>\n",
       "      <td>...</td>\n",
       "      <td>...</td>\n",
       "      <td>...</td>\n",
       "      <td>...</td>\n",
       "    </tr>\n",
       "    <tr>\n",
       "      <th>362</th>\n",
       "      <td>Chordata</td>\n",
       "      <td>Aves</td>\n",
       "      <td>Strigiformes</td>\n",
       "      <td>Strigidae</td>\n",
       "      <td>Athene</td>\n",
       "      <td>blewitti</td>\n",
       "    </tr>\n",
       "    <tr>\n",
       "      <th>329</th>\n",
       "      <td>Chordata</td>\n",
       "      <td>Aves</td>\n",
       "      <td>Charadriiformes</td>\n",
       "      <td>Laridae</td>\n",
       "      <td>Larosterna</td>\n",
       "      <td>inca</td>\n",
       "    </tr>\n",
       "    <tr>\n",
       "      <th>73</th>\n",
       "      <td>Chordata</td>\n",
       "      <td>Chondrichthyes</td>\n",
       "      <td>Lamniformes</td>\n",
       "      <td>Lamnidae</td>\n",
       "      <td>Lamna</td>\n",
       "      <td>nasus</td>\n",
       "    </tr>\n",
       "    <tr>\n",
       "      <th>117</th>\n",
       "      <td>Arthropoda</td>\n",
       "      <td>Insecta</td>\n",
       "      <td>Hymenoptera</td>\n",
       "      <td>Formicidae</td>\n",
       "      <td>Polyergus</td>\n",
       "      <td>nigerrimus</td>\n",
       "    </tr>\n",
       "    <tr>\n",
       "      <th>252</th>\n",
       "      <td>Chordata</td>\n",
       "      <td>Mammalia</td>\n",
       "      <td>Carnivora</td>\n",
       "      <td>Otariidae</td>\n",
       "      <td>Callorhinus</td>\n",
       "      <td>ursinus</td>\n",
       "    </tr>\n",
       "  </tbody>\n",
       "</table>\n",
       "<p>400 rows × 6 columns</p>\n",
       "</div>"
      ],
      "text/plain": [
       "         phylum           class            order       family          genus  \\\n",
       "29     Chordata            Aves    Coraciiformes  Alcedinidae        Halcyon   \n",
       "192    Chordata        Reptilia       Testudines     Chelidae  Acanthochelys   \n",
       "327    Chordata            Aves   Psittaciformes  Psittacidae        Amazona   \n",
       "153    Chordata            Aves    Passeriformes      Mimidae          Mimus   \n",
       "201    Chordata  Actinopterygii    Lutjaniformes   Lutjanidae       Lutjanus   \n",
       "..          ...             ...              ...          ...            ...   \n",
       "362    Chordata            Aves     Strigiformes    Strigidae         Athene   \n",
       "329    Chordata            Aves  Charadriiformes      Laridae     Larosterna   \n",
       "73     Chordata  Chondrichthyes      Lamniformes     Lamnidae          Lamna   \n",
       "117  Arthropoda         Insecta      Hymenoptera   Formicidae      Polyergus   \n",
       "252    Chordata        Mammalia        Carnivora    Otariidae    Callorhinus   \n",
       "\n",
       "          species  \n",
       "29        pileata  \n",
       "192  macrocephala  \n",
       "327      collaria  \n",
       "153    macdonaldi  \n",
       "201   cyanopterus  \n",
       "..            ...  \n",
       "362      blewitti  \n",
       "329          inca  \n",
       "73          nasus  \n",
       "117    nigerrimus  \n",
       "252       ursinus  \n",
       "\n",
       "[400 rows x 6 columns]"
      ]
     },
     "execution_count": 11,
     "metadata": {},
     "output_type": "execute_result"
    }
   ],
   "source": [
    "#shuffling the dataset and returning all (100%) of the rows but shuffled \n",
    "dataset= dataset.sample(frac=1)\n",
    "dataset"
   ]
  },
  {
   "cell_type": "code",
   "execution_count": 12,
   "id": "419a0a09-5558-4096-a674-81ca16271b20",
   "metadata": {},
   "outputs": [
    {
     "data": {
      "text/html": [
       "<div>\n",
       "<style scoped>\n",
       "    .dataframe tbody tr th:only-of-type {\n",
       "        vertical-align: middle;\n",
       "    }\n",
       "\n",
       "    .dataframe tbody tr th {\n",
       "        vertical-align: top;\n",
       "    }\n",
       "\n",
       "    .dataframe thead th {\n",
       "        text-align: right;\n",
       "    }\n",
       "</style>\n",
       "<table border=\"1\" class=\"dataframe\">\n",
       "  <thead>\n",
       "    <tr style=\"text-align: right;\">\n",
       "      <th></th>\n",
       "      <th>phylum</th>\n",
       "      <th>class</th>\n",
       "      <th>order</th>\n",
       "      <th>family</th>\n",
       "      <th>genus</th>\n",
       "      <th>species</th>\n",
       "    </tr>\n",
       "  </thead>\n",
       "  <tbody>\n",
       "    <tr>\n",
       "      <th>0</th>\n",
       "      <td>Chordata</td>\n",
       "      <td>Aves</td>\n",
       "      <td>Coraciiformes</td>\n",
       "      <td>Alcedinidae</td>\n",
       "      <td>Halcyon</td>\n",
       "      <td>pileata</td>\n",
       "    </tr>\n",
       "    <tr>\n",
       "      <th>1</th>\n",
       "      <td>Chordata</td>\n",
       "      <td>Reptilia</td>\n",
       "      <td>Testudines</td>\n",
       "      <td>Chelidae</td>\n",
       "      <td>Acanthochelys</td>\n",
       "      <td>macrocephala</td>\n",
       "    </tr>\n",
       "    <tr>\n",
       "      <th>2</th>\n",
       "      <td>Chordata</td>\n",
       "      <td>Aves</td>\n",
       "      <td>Psittaciformes</td>\n",
       "      <td>Psittacidae</td>\n",
       "      <td>Amazona</td>\n",
       "      <td>collaria</td>\n",
       "    </tr>\n",
       "    <tr>\n",
       "      <th>3</th>\n",
       "      <td>Chordata</td>\n",
       "      <td>Aves</td>\n",
       "      <td>Passeriformes</td>\n",
       "      <td>Mimidae</td>\n",
       "      <td>Mimus</td>\n",
       "      <td>macdonaldi</td>\n",
       "    </tr>\n",
       "    <tr>\n",
       "      <th>4</th>\n",
       "      <td>Chordata</td>\n",
       "      <td>Actinopterygii</td>\n",
       "      <td>Lutjaniformes</td>\n",
       "      <td>Lutjanidae</td>\n",
       "      <td>Lutjanus</td>\n",
       "      <td>cyanopterus</td>\n",
       "    </tr>\n",
       "    <tr>\n",
       "      <th>...</th>\n",
       "      <td>...</td>\n",
       "      <td>...</td>\n",
       "      <td>...</td>\n",
       "      <td>...</td>\n",
       "      <td>...</td>\n",
       "      <td>...</td>\n",
       "    </tr>\n",
       "    <tr>\n",
       "      <th>395</th>\n",
       "      <td>Chordata</td>\n",
       "      <td>Aves</td>\n",
       "      <td>Strigiformes</td>\n",
       "      <td>Strigidae</td>\n",
       "      <td>Athene</td>\n",
       "      <td>blewitti</td>\n",
       "    </tr>\n",
       "    <tr>\n",
       "      <th>396</th>\n",
       "      <td>Chordata</td>\n",
       "      <td>Aves</td>\n",
       "      <td>Charadriiformes</td>\n",
       "      <td>Laridae</td>\n",
       "      <td>Larosterna</td>\n",
       "      <td>inca</td>\n",
       "    </tr>\n",
       "    <tr>\n",
       "      <th>397</th>\n",
       "      <td>Chordata</td>\n",
       "      <td>Chondrichthyes</td>\n",
       "      <td>Lamniformes</td>\n",
       "      <td>Lamnidae</td>\n",
       "      <td>Lamna</td>\n",
       "      <td>nasus</td>\n",
       "    </tr>\n",
       "    <tr>\n",
       "      <th>398</th>\n",
       "      <td>Arthropoda</td>\n",
       "      <td>Insecta</td>\n",
       "      <td>Hymenoptera</td>\n",
       "      <td>Formicidae</td>\n",
       "      <td>Polyergus</td>\n",
       "      <td>nigerrimus</td>\n",
       "    </tr>\n",
       "    <tr>\n",
       "      <th>399</th>\n",
       "      <td>Chordata</td>\n",
       "      <td>Mammalia</td>\n",
       "      <td>Carnivora</td>\n",
       "      <td>Otariidae</td>\n",
       "      <td>Callorhinus</td>\n",
       "      <td>ursinus</td>\n",
       "    </tr>\n",
       "  </tbody>\n",
       "</table>\n",
       "<p>400 rows × 6 columns</p>\n",
       "</div>"
      ],
      "text/plain": [
       "         phylum           class            order       family          genus  \\\n",
       "0      Chordata            Aves    Coraciiformes  Alcedinidae        Halcyon   \n",
       "1      Chordata        Reptilia       Testudines     Chelidae  Acanthochelys   \n",
       "2      Chordata            Aves   Psittaciformes  Psittacidae        Amazona   \n",
       "3      Chordata            Aves    Passeriformes      Mimidae          Mimus   \n",
       "4      Chordata  Actinopterygii    Lutjaniformes   Lutjanidae       Lutjanus   \n",
       "..          ...             ...              ...          ...            ...   \n",
       "395    Chordata            Aves     Strigiformes    Strigidae         Athene   \n",
       "396    Chordata            Aves  Charadriiformes      Laridae     Larosterna   \n",
       "397    Chordata  Chondrichthyes      Lamniformes     Lamnidae          Lamna   \n",
       "398  Arthropoda         Insecta      Hymenoptera   Formicidae      Polyergus   \n",
       "399    Chordata        Mammalia        Carnivora    Otariidae    Callorhinus   \n",
       "\n",
       "          species  \n",
       "0         pileata  \n",
       "1    macrocephala  \n",
       "2        collaria  \n",
       "3      macdonaldi  \n",
       "4     cyanopterus  \n",
       "..            ...  \n",
       "395      blewitti  \n",
       "396          inca  \n",
       "397         nasus  \n",
       "398    nigerrimus  \n",
       "399       ursinus  \n",
       "\n",
       "[400 rows x 6 columns]"
      ]
     },
     "execution_count": 12,
     "metadata": {},
     "output_type": "execute_result"
    }
   ],
   "source": [
    "#renumbering the row indices\n",
    "dataset.reset_index(drop=True, inplace=True)\n",
    "dataset"
   ]
  },
  {
   "cell_type": "code",
   "execution_count": 13,
   "id": "4982edfd-1222-48cf-9c6a-e87465d9b4f6",
   "metadata": {},
   "outputs": [
    {
     "data": {
      "text/html": [
       "<div>\n",
       "<style scoped>\n",
       "    .dataframe tbody tr th:only-of-type {\n",
       "        vertical-align: middle;\n",
       "    }\n",
       "\n",
       "    .dataframe tbody tr th {\n",
       "        vertical-align: top;\n",
       "    }\n",
       "\n",
       "    .dataframe thead th {\n",
       "        text-align: right;\n",
       "    }\n",
       "</style>\n",
       "<table border=\"1\" class=\"dataframe\">\n",
       "  <thead>\n",
       "    <tr style=\"text-align: right;\">\n",
       "      <th></th>\n",
       "      <th>phylum</th>\n",
       "      <th>class</th>\n",
       "      <th>order</th>\n",
       "      <th>family</th>\n",
       "      <th>genus</th>\n",
       "      <th>species</th>\n",
       "    </tr>\n",
       "  </thead>\n",
       "  <tbody>\n",
       "    <tr>\n",
       "      <th>390</th>\n",
       "      <td>Arthropoda</td>\n",
       "      <td>Insecta</td>\n",
       "      <td>Hymenoptera</td>\n",
       "      <td>Formicidae</td>\n",
       "      <td>Aneuretus</td>\n",
       "      <td>simoni</td>\n",
       "    </tr>\n",
       "    <tr>\n",
       "      <th>391</th>\n",
       "      <td>Arthropoda</td>\n",
       "      <td>Insecta</td>\n",
       "      <td>Orthoptera</td>\n",
       "      <td>Tettigoniidae</td>\n",
       "      <td>Saga</td>\n",
       "      <td>pedo</td>\n",
       "    </tr>\n",
       "    <tr>\n",
       "      <th>392</th>\n",
       "      <td>Arthropoda</td>\n",
       "      <td>Arachnida</td>\n",
       "      <td>Araneae</td>\n",
       "      <td>Pisauridae</td>\n",
       "      <td>Dolomedes</td>\n",
       "      <td>plantarius</td>\n",
       "    </tr>\n",
       "    <tr>\n",
       "      <th>393</th>\n",
       "      <td>Chordata</td>\n",
       "      <td>Aves</td>\n",
       "      <td>Anseriformes</td>\n",
       "      <td>Anatidae</td>\n",
       "      <td>Branta</td>\n",
       "      <td>ruficollis</td>\n",
       "    </tr>\n",
       "    <tr>\n",
       "      <th>394</th>\n",
       "      <td>Chordata</td>\n",
       "      <td>Mammalia</td>\n",
       "      <td>Carnivora</td>\n",
       "      <td>Otariidae</td>\n",
       "      <td>Arctocephalus</td>\n",
       "      <td>galapagoensis</td>\n",
       "    </tr>\n",
       "    <tr>\n",
       "      <th>395</th>\n",
       "      <td>Chordata</td>\n",
       "      <td>Aves</td>\n",
       "      <td>Strigiformes</td>\n",
       "      <td>Strigidae</td>\n",
       "      <td>Athene</td>\n",
       "      <td>blewitti</td>\n",
       "    </tr>\n",
       "    <tr>\n",
       "      <th>396</th>\n",
       "      <td>Chordata</td>\n",
       "      <td>Aves</td>\n",
       "      <td>Charadriiformes</td>\n",
       "      <td>Laridae</td>\n",
       "      <td>Larosterna</td>\n",
       "      <td>inca</td>\n",
       "    </tr>\n",
       "    <tr>\n",
       "      <th>397</th>\n",
       "      <td>Chordata</td>\n",
       "      <td>Chondrichthyes</td>\n",
       "      <td>Lamniformes</td>\n",
       "      <td>Lamnidae</td>\n",
       "      <td>Lamna</td>\n",
       "      <td>nasus</td>\n",
       "    </tr>\n",
       "    <tr>\n",
       "      <th>398</th>\n",
       "      <td>Arthropoda</td>\n",
       "      <td>Insecta</td>\n",
       "      <td>Hymenoptera</td>\n",
       "      <td>Formicidae</td>\n",
       "      <td>Polyergus</td>\n",
       "      <td>nigerrimus</td>\n",
       "    </tr>\n",
       "    <tr>\n",
       "      <th>399</th>\n",
       "      <td>Chordata</td>\n",
       "      <td>Mammalia</td>\n",
       "      <td>Carnivora</td>\n",
       "      <td>Otariidae</td>\n",
       "      <td>Callorhinus</td>\n",
       "      <td>ursinus</td>\n",
       "    </tr>\n",
       "  </tbody>\n",
       "</table>\n",
       "</div>"
      ],
      "text/plain": [
       "         phylum           class            order         family  \\\n",
       "390  Arthropoda         Insecta      Hymenoptera     Formicidae   \n",
       "391  Arthropoda         Insecta       Orthoptera  Tettigoniidae   \n",
       "392  Arthropoda       Arachnida          Araneae     Pisauridae   \n",
       "393    Chordata            Aves     Anseriformes       Anatidae   \n",
       "394    Chordata        Mammalia        Carnivora      Otariidae   \n",
       "395    Chordata            Aves     Strigiformes      Strigidae   \n",
       "396    Chordata            Aves  Charadriiformes        Laridae   \n",
       "397    Chordata  Chondrichthyes      Lamniformes       Lamnidae   \n",
       "398  Arthropoda         Insecta      Hymenoptera     Formicidae   \n",
       "399    Chordata        Mammalia        Carnivora      Otariidae   \n",
       "\n",
       "             genus        species  \n",
       "390      Aneuretus         simoni  \n",
       "391           Saga           pedo  \n",
       "392      Dolomedes     plantarius  \n",
       "393         Branta     ruficollis  \n",
       "394  Arctocephalus  galapagoensis  \n",
       "395         Athene       blewitti  \n",
       "396     Larosterna           inca  \n",
       "397          Lamna          nasus  \n",
       "398      Polyergus     nigerrimus  \n",
       "399    Callorhinus        ursinus  "
      ]
     },
     "execution_count": 13,
     "metadata": {},
     "output_type": "execute_result"
    }
   ],
   "source": [
    "dataset.tail(10)"
   ]
  },
  {
   "cell_type": "code",
   "execution_count": 14,
   "id": "a78c7954-b44a-4ae3-95ec-a9d46c254fc5",
   "metadata": {},
   "outputs": [],
   "source": [
    "from sklearn.preprocessing import LabelEncoder\n",
    "import pandas as pd\n"
   ]
  },
  {
   "cell_type": "code",
   "execution_count": 15,
   "id": "50461957",
   "metadata": {},
   "outputs": [],
   "source": [
    "# Apply Label Encoding to all categorical columns\n",
    "label_encoder = LabelEncoder()"
   ]
  },
  {
   "cell_type": "code",
   "execution_count": 16,
   "id": "13b03983",
   "metadata": {},
   "outputs": [],
   "source": [
    " #Identifying columns that need encoding\n",
    "categorical_columns = ['class', 'order', 'family', 'genus', 'species',]"
   ]
  },
  {
   "cell_type": "code",
   "execution_count": 17,
   "id": "04e4c9ad",
   "metadata": {},
   "outputs": [],
   "source": [
    "# Encoding each categorical column\n",
    "for column in categorical_columns:\n",
    "    dataset[column] = label_encoder.fit_transform(dataset[column])"
   ]
  },
  {
   "cell_type": "code",
   "execution_count": 18,
   "id": "3204a254",
   "metadata": {},
   "outputs": [
    {
     "data": {
      "text/html": [
       "<div>\n",
       "<style scoped>\n",
       "    .dataframe tbody tr th:only-of-type {\n",
       "        vertical-align: middle;\n",
       "    }\n",
       "\n",
       "    .dataframe tbody tr th {\n",
       "        vertical-align: top;\n",
       "    }\n",
       "\n",
       "    .dataframe thead th {\n",
       "        text-align: right;\n",
       "    }\n",
       "</style>\n",
       "<table border=\"1\" class=\"dataframe\">\n",
       "  <thead>\n",
       "    <tr style=\"text-align: right;\">\n",
       "      <th></th>\n",
       "      <th>phylum</th>\n",
       "      <th>class</th>\n",
       "      <th>order</th>\n",
       "      <th>family</th>\n",
       "      <th>genus</th>\n",
       "      <th>species</th>\n",
       "    </tr>\n",
       "  </thead>\n",
       "  <tbody>\n",
       "    <tr>\n",
       "      <th>0</th>\n",
       "      <td>Chordata</td>\n",
       "      <td>6</td>\n",
       "      <td>32</td>\n",
       "      <td>6</td>\n",
       "      <td>127</td>\n",
       "      <td>260</td>\n",
       "    </tr>\n",
       "    <tr>\n",
       "      <th>1</th>\n",
       "      <td>Chordata</td>\n",
       "      <td>40</td>\n",
       "      <td>111</td>\n",
       "      <td>50</td>\n",
       "      <td>1</td>\n",
       "      <td>191</td>\n",
       "    </tr>\n",
       "    <tr>\n",
       "      <th>2</th>\n",
       "      <td>Chordata</td>\n",
       "      <td>6</td>\n",
       "      <td>90</td>\n",
       "      <td>177</td>\n",
       "      <td>14</td>\n",
       "      <td>79</td>\n",
       "    </tr>\n",
       "    <tr>\n",
       "      <th>3</th>\n",
       "      <td>Chordata</td>\n",
       "      <td>6</td>\n",
       "      <td>77</td>\n",
       "      <td>135</td>\n",
       "      <td>176</td>\n",
       "      <td>189</td>\n",
       "    </tr>\n",
       "    <tr>\n",
       "      <th>4</th>\n",
       "      <td>Chordata</td>\n",
       "      <td>0</td>\n",
       "      <td>61</td>\n",
       "      <td>126</td>\n",
       "      <td>166</td>\n",
       "      <td>92</td>\n",
       "    </tr>\n",
       "    <tr>\n",
       "      <th>...</th>\n",
       "      <td>...</td>\n",
       "      <td>...</td>\n",
       "      <td>...</td>\n",
       "      <td>...</td>\n",
       "      <td>...</td>\n",
       "      <td>...</td>\n",
       "    </tr>\n",
       "    <tr>\n",
       "      <th>395</th>\n",
       "      <td>Chordata</td>\n",
       "      <td>6</td>\n",
       "      <td>106</td>\n",
       "      <td>205</td>\n",
       "      <td>35</td>\n",
       "      <td>45</td>\n",
       "    </tr>\n",
       "    <tr>\n",
       "      <th>396</th>\n",
       "      <td>Chordata</td>\n",
       "      <td>6</td>\n",
       "      <td>24</td>\n",
       "      <td>118</td>\n",
       "      <td>154</td>\n",
       "      <td>150</td>\n",
       "    </tr>\n",
       "    <tr>\n",
       "      <th>397</th>\n",
       "      <td>Chordata</td>\n",
       "      <td>13</td>\n",
       "      <td>55</td>\n",
       "      <td>117</td>\n",
       "      <td>153</td>\n",
       "      <td>228</td>\n",
       "    </tr>\n",
       "    <tr>\n",
       "      <th>398</th>\n",
       "      <td>Arthropoda</td>\n",
       "      <td>25</td>\n",
       "      <td>52</td>\n",
       "      <td>91</td>\n",
       "      <td>230</td>\n",
       "      <td>230</td>\n",
       "    </tr>\n",
       "    <tr>\n",
       "      <th>399</th>\n",
       "      <td>Chordata</td>\n",
       "      <td>27</td>\n",
       "      <td>20</td>\n",
       "      <td>150</td>\n",
       "      <td>56</td>\n",
       "      <td>335</td>\n",
       "    </tr>\n",
       "  </tbody>\n",
       "</table>\n",
       "<p>400 rows × 6 columns</p>\n",
       "</div>"
      ],
      "text/plain": [
       "         phylum  class  order  family  genus  species\n",
       "0      Chordata      6     32       6    127      260\n",
       "1      Chordata     40    111      50      1      191\n",
       "2      Chordata      6     90     177     14       79\n",
       "3      Chordata      6     77     135    176      189\n",
       "4      Chordata      0     61     126    166       92\n",
       "..          ...    ...    ...     ...    ...      ...\n",
       "395    Chordata      6    106     205     35       45\n",
       "396    Chordata      6     24     118    154      150\n",
       "397    Chordata     13     55     117    153      228\n",
       "398  Arthropoda     25     52      91    230      230\n",
       "399    Chordata     27     20     150     56      335\n",
       "\n",
       "[400 rows x 6 columns]"
      ]
     },
     "execution_count": 18,
     "metadata": {},
     "output_type": "execute_result"
    }
   ],
   "source": [
    "dataset"
   ]
  },
  {
   "cell_type": "code",
   "execution_count": 19,
   "id": "c068716a-4aa4-4ee6-8a95-8032b3072a1d",
   "metadata": {},
   "outputs": [],
   "source": [
    "from sklearn.model_selection import train_test_split, KFold, cross_val_score\n",
    "from sklearn import model_selection"
   ]
  },
  {
   "cell_type": "code",
   "execution_count": 20,
   "id": "5f675629",
   "metadata": {},
   "outputs": [],
   "source": [
    "array = dataset.values\n",
    "X = array[:, 0:5]\n",
    "Y = array[:, 5]\n",
    "validation_size = 0.20\n",
    "seed = 7\n",
    "X_train, X_validation, Y_train, Y_validation =model_selection.train_test_split(X, Y, test_size=validation_size, random_state=seed)"
   ]
  },
  {
   "cell_type": "code",
   "execution_count": 21,
   "id": "90530f55-4f96-488f-b8ad-ca3b69386561",
   "metadata": {},
   "outputs": [],
   "source": [
    "seed = 42\n",
    "scoring = 'accuracy'"
   ]
  },
  {
   "cell_type": "code",
   "execution_count": 22,
   "id": "66400ca7-0642-4f81-9fa8-dda00a2f1884",
   "metadata": {},
   "outputs": [],
   "source": [
    "from sklearn.linear_model import LogisticRegression\n",
    "from sklearn.tree import DecisionTreeClassifier\n",
    "from sklearn.neighbors import KNeighborsClassifier\n",
    "from sklearn.discriminant_analysis import LinearDiscriminantAnalysis\n",
    "from sklearn.naive_bayes import GaussianNB\n",
    "from sklearn.svm import SVC\n",
    "from sklearn.preprocessing import StandardScaler\n",
    "from sklearn.linear_model import LogisticRegression"
   ]
  },
  {
   "cell_type": "code",
   "execution_count": 23,
   "id": "3b6559e5",
   "metadata": {},
   "outputs": [
    {
     "ename": "ValueError",
     "evalue": "\nAll the 10 fits failed.\nIt is very likely that your model is misconfigured.\nYou can try to debug the error by setting error_score='raise'.\n\nBelow are more details about the failures:\n--------------------------------------------------------------------------------\n10 fits failed with the following error:\nTraceback (most recent call last):\n  File \"c:\\ProgramData\\anaconda3\\Lib\\site-packages\\sklearn\\model_selection\\_validation.py\", line 895, in _fit_and_score\n    estimator.fit(X_train, y_train, **fit_params)\n  File \"c:\\ProgramData\\anaconda3\\Lib\\site-packages\\sklearn\\base.py\", line 1474, in wrapper\n    return fit_method(estimator, *args, **kwargs)\n           ^^^^^^^^^^^^^^^^^^^^^^^^^^^^^^^^^^^^^^\n  File \"c:\\ProgramData\\anaconda3\\Lib\\site-packages\\sklearn\\linear_model\\_logistic.py\", line 1201, in fit\n    X, y = self._validate_data(\n           ^^^^^^^^^^^^^^^^^^^^\n  File \"c:\\ProgramData\\anaconda3\\Lib\\site-packages\\sklearn\\base.py\", line 650, in _validate_data\n    X, y = check_X_y(X, y, **check_params)\n           ^^^^^^^^^^^^^^^^^^^^^^^^^^^^^^^\n  File \"c:\\ProgramData\\anaconda3\\Lib\\site-packages\\sklearn\\utils\\validation.py\", line 1263, in check_X_y\n    X = check_array(\n        ^^^^^^^^^^^^\n  File \"c:\\ProgramData\\anaconda3\\Lib\\site-packages\\sklearn\\utils\\validation.py\", line 997, in check_array\n    array = _asarray_with_order(array, order=order, dtype=dtype, xp=xp)\n            ^^^^^^^^^^^^^^^^^^^^^^^^^^^^^^^^^^^^^^^^^^^^^^^^^^^^^^^^^^^\n  File \"c:\\ProgramData\\anaconda3\\Lib\\site-packages\\sklearn\\utils\\_array_api.py\", line 521, in _asarray_with_order\n    array = numpy.asarray(array, order=order, dtype=dtype)\n            ^^^^^^^^^^^^^^^^^^^^^^^^^^^^^^^^^^^^^^^^^^^^^^\nValueError: could not convert string to float: 'Chordata'\n",
     "output_type": "error",
     "traceback": [
      "\u001b[1;31m---------------------------------------------------------------------------\u001b[0m",
      "\u001b[1;31mValueError\u001b[0m                                Traceback (most recent call last)",
      "Cell \u001b[1;32mIn[23], line 14\u001b[0m\n\u001b[0;32m     12\u001b[0m \u001b[38;5;28;01mfor\u001b[39;00m name, model \u001b[38;5;129;01min\u001b[39;00m models:\n\u001b[0;32m     13\u001b[0m         kfold \u001b[38;5;241m=\u001b[39m model_selection\u001b[38;5;241m.\u001b[39mKFold(n_splits\u001b[38;5;241m=\u001b[39m\u001b[38;5;241m10\u001b[39m, random_state\u001b[38;5;241m=\u001b[39m\u001b[38;5;28;01mNone\u001b[39;00m)\n\u001b[1;32m---> 14\u001b[0m         cv_results \u001b[38;5;241m=\u001b[39m model_selection\u001b[38;5;241m.\u001b[39mcross_val_score(model, X_train, Y_train, cv\u001b[38;5;241m=\u001b[39mkfold, scoring\u001b[38;5;241m=\u001b[39mscoring)\n\u001b[0;32m     15\u001b[0m         results\u001b[38;5;241m.\u001b[39mappend(cv_results)\n\u001b[0;32m     16\u001b[0m         names\u001b[38;5;241m.\u001b[39mappend(name)\n",
      "File \u001b[1;32mc:\\ProgramData\\anaconda3\\Lib\\site-packages\\sklearn\\utils\\_param_validation.py:213\u001b[0m, in \u001b[0;36mvalidate_params.<locals>.decorator.<locals>.wrapper\u001b[1;34m(*args, **kwargs)\u001b[0m\n\u001b[0;32m    207\u001b[0m \u001b[38;5;28;01mtry\u001b[39;00m:\n\u001b[0;32m    208\u001b[0m     \u001b[38;5;28;01mwith\u001b[39;00m config_context(\n\u001b[0;32m    209\u001b[0m         skip_parameter_validation\u001b[38;5;241m=\u001b[39m(\n\u001b[0;32m    210\u001b[0m             prefer_skip_nested_validation \u001b[38;5;129;01mor\u001b[39;00m global_skip_validation\n\u001b[0;32m    211\u001b[0m         )\n\u001b[0;32m    212\u001b[0m     ):\n\u001b[1;32m--> 213\u001b[0m         \u001b[38;5;28;01mreturn\u001b[39;00m func(\u001b[38;5;241m*\u001b[39margs, \u001b[38;5;241m*\u001b[39m\u001b[38;5;241m*\u001b[39mkwargs)\n\u001b[0;32m    214\u001b[0m \u001b[38;5;28;01mexcept\u001b[39;00m InvalidParameterError \u001b[38;5;28;01mas\u001b[39;00m e:\n\u001b[0;32m    215\u001b[0m     \u001b[38;5;66;03m# When the function is just a wrapper around an estimator, we allow\u001b[39;00m\n\u001b[0;32m    216\u001b[0m     \u001b[38;5;66;03m# the function to delegate validation to the estimator, but we replace\u001b[39;00m\n\u001b[0;32m    217\u001b[0m     \u001b[38;5;66;03m# the name of the estimator by the name of the function in the error\u001b[39;00m\n\u001b[0;32m    218\u001b[0m     \u001b[38;5;66;03m# message to avoid confusion.\u001b[39;00m\n\u001b[0;32m    219\u001b[0m     msg \u001b[38;5;241m=\u001b[39m re\u001b[38;5;241m.\u001b[39msub(\n\u001b[0;32m    220\u001b[0m         \u001b[38;5;124mr\u001b[39m\u001b[38;5;124m\"\u001b[39m\u001b[38;5;124mparameter of \u001b[39m\u001b[38;5;124m\\\u001b[39m\u001b[38;5;124mw+ must be\u001b[39m\u001b[38;5;124m\"\u001b[39m,\n\u001b[0;32m    221\u001b[0m         \u001b[38;5;124mf\u001b[39m\u001b[38;5;124m\"\u001b[39m\u001b[38;5;124mparameter of \u001b[39m\u001b[38;5;132;01m{\u001b[39;00mfunc\u001b[38;5;241m.\u001b[39m\u001b[38;5;18m__qualname__\u001b[39m\u001b[38;5;132;01m}\u001b[39;00m\u001b[38;5;124m must be\u001b[39m\u001b[38;5;124m\"\u001b[39m,\n\u001b[0;32m    222\u001b[0m         \u001b[38;5;28mstr\u001b[39m(e),\n\u001b[0;32m    223\u001b[0m     )\n",
      "File \u001b[1;32mc:\\ProgramData\\anaconda3\\Lib\\site-packages\\sklearn\\model_selection\\_validation.py:719\u001b[0m, in \u001b[0;36mcross_val_score\u001b[1;34m(estimator, X, y, groups, scoring, cv, n_jobs, verbose, fit_params, params, pre_dispatch, error_score)\u001b[0m\n\u001b[0;32m    716\u001b[0m \u001b[38;5;66;03m# To ensure multimetric format is not supported\u001b[39;00m\n\u001b[0;32m    717\u001b[0m scorer \u001b[38;5;241m=\u001b[39m check_scoring(estimator, scoring\u001b[38;5;241m=\u001b[39mscoring)\n\u001b[1;32m--> 719\u001b[0m cv_results \u001b[38;5;241m=\u001b[39m cross_validate(\n\u001b[0;32m    720\u001b[0m     estimator\u001b[38;5;241m=\u001b[39mestimator,\n\u001b[0;32m    721\u001b[0m     X\u001b[38;5;241m=\u001b[39mX,\n\u001b[0;32m    722\u001b[0m     y\u001b[38;5;241m=\u001b[39my,\n\u001b[0;32m    723\u001b[0m     groups\u001b[38;5;241m=\u001b[39mgroups,\n\u001b[0;32m    724\u001b[0m     scoring\u001b[38;5;241m=\u001b[39m{\u001b[38;5;124m\"\u001b[39m\u001b[38;5;124mscore\u001b[39m\u001b[38;5;124m\"\u001b[39m: scorer},\n\u001b[0;32m    725\u001b[0m     cv\u001b[38;5;241m=\u001b[39mcv,\n\u001b[0;32m    726\u001b[0m     n_jobs\u001b[38;5;241m=\u001b[39mn_jobs,\n\u001b[0;32m    727\u001b[0m     verbose\u001b[38;5;241m=\u001b[39mverbose,\n\u001b[0;32m    728\u001b[0m     fit_params\u001b[38;5;241m=\u001b[39mfit_params,\n\u001b[0;32m    729\u001b[0m     params\u001b[38;5;241m=\u001b[39mparams,\n\u001b[0;32m    730\u001b[0m     pre_dispatch\u001b[38;5;241m=\u001b[39mpre_dispatch,\n\u001b[0;32m    731\u001b[0m     error_score\u001b[38;5;241m=\u001b[39merror_score,\n\u001b[0;32m    732\u001b[0m )\n\u001b[0;32m    733\u001b[0m \u001b[38;5;28;01mreturn\u001b[39;00m cv_results[\u001b[38;5;124m\"\u001b[39m\u001b[38;5;124mtest_score\u001b[39m\u001b[38;5;124m\"\u001b[39m]\n",
      "File \u001b[1;32mc:\\ProgramData\\anaconda3\\Lib\\site-packages\\sklearn\\utils\\_param_validation.py:213\u001b[0m, in \u001b[0;36mvalidate_params.<locals>.decorator.<locals>.wrapper\u001b[1;34m(*args, **kwargs)\u001b[0m\n\u001b[0;32m    207\u001b[0m \u001b[38;5;28;01mtry\u001b[39;00m:\n\u001b[0;32m    208\u001b[0m     \u001b[38;5;28;01mwith\u001b[39;00m config_context(\n\u001b[0;32m    209\u001b[0m         skip_parameter_validation\u001b[38;5;241m=\u001b[39m(\n\u001b[0;32m    210\u001b[0m             prefer_skip_nested_validation \u001b[38;5;129;01mor\u001b[39;00m global_skip_validation\n\u001b[0;32m    211\u001b[0m         )\n\u001b[0;32m    212\u001b[0m     ):\n\u001b[1;32m--> 213\u001b[0m         \u001b[38;5;28;01mreturn\u001b[39;00m func(\u001b[38;5;241m*\u001b[39margs, \u001b[38;5;241m*\u001b[39m\u001b[38;5;241m*\u001b[39mkwargs)\n\u001b[0;32m    214\u001b[0m \u001b[38;5;28;01mexcept\u001b[39;00m InvalidParameterError \u001b[38;5;28;01mas\u001b[39;00m e:\n\u001b[0;32m    215\u001b[0m     \u001b[38;5;66;03m# When the function is just a wrapper around an estimator, we allow\u001b[39;00m\n\u001b[0;32m    216\u001b[0m     \u001b[38;5;66;03m# the function to delegate validation to the estimator, but we replace\u001b[39;00m\n\u001b[0;32m    217\u001b[0m     \u001b[38;5;66;03m# the name of the estimator by the name of the function in the error\u001b[39;00m\n\u001b[0;32m    218\u001b[0m     \u001b[38;5;66;03m# message to avoid confusion.\u001b[39;00m\n\u001b[0;32m    219\u001b[0m     msg \u001b[38;5;241m=\u001b[39m re\u001b[38;5;241m.\u001b[39msub(\n\u001b[0;32m    220\u001b[0m         \u001b[38;5;124mr\u001b[39m\u001b[38;5;124m\"\u001b[39m\u001b[38;5;124mparameter of \u001b[39m\u001b[38;5;124m\\\u001b[39m\u001b[38;5;124mw+ must be\u001b[39m\u001b[38;5;124m\"\u001b[39m,\n\u001b[0;32m    221\u001b[0m         \u001b[38;5;124mf\u001b[39m\u001b[38;5;124m\"\u001b[39m\u001b[38;5;124mparameter of \u001b[39m\u001b[38;5;132;01m{\u001b[39;00mfunc\u001b[38;5;241m.\u001b[39m\u001b[38;5;18m__qualname__\u001b[39m\u001b[38;5;132;01m}\u001b[39;00m\u001b[38;5;124m must be\u001b[39m\u001b[38;5;124m\"\u001b[39m,\n\u001b[0;32m    222\u001b[0m         \u001b[38;5;28mstr\u001b[39m(e),\n\u001b[0;32m    223\u001b[0m     )\n",
      "File \u001b[1;32mc:\\ProgramData\\anaconda3\\Lib\\site-packages\\sklearn\\model_selection\\_validation.py:450\u001b[0m, in \u001b[0;36mcross_validate\u001b[1;34m(estimator, X, y, groups, scoring, cv, n_jobs, verbose, fit_params, params, pre_dispatch, return_train_score, return_estimator, return_indices, error_score)\u001b[0m\n\u001b[0;32m    429\u001b[0m parallel \u001b[38;5;241m=\u001b[39m Parallel(n_jobs\u001b[38;5;241m=\u001b[39mn_jobs, verbose\u001b[38;5;241m=\u001b[39mverbose, pre_dispatch\u001b[38;5;241m=\u001b[39mpre_dispatch)\n\u001b[0;32m    430\u001b[0m results \u001b[38;5;241m=\u001b[39m parallel(\n\u001b[0;32m    431\u001b[0m     delayed(_fit_and_score)(\n\u001b[0;32m    432\u001b[0m         clone(estimator),\n\u001b[1;32m   (...)\u001b[0m\n\u001b[0;32m    447\u001b[0m     \u001b[38;5;28;01mfor\u001b[39;00m train, test \u001b[38;5;129;01min\u001b[39;00m indices\n\u001b[0;32m    448\u001b[0m )\n\u001b[1;32m--> 450\u001b[0m _warn_or_raise_about_fit_failures(results, error_score)\n\u001b[0;32m    452\u001b[0m \u001b[38;5;66;03m# For callable scoring, the return type is only know after calling. If the\u001b[39;00m\n\u001b[0;32m    453\u001b[0m \u001b[38;5;66;03m# return type is a dictionary, the error scores can now be inserted with\u001b[39;00m\n\u001b[0;32m    454\u001b[0m \u001b[38;5;66;03m# the correct key.\u001b[39;00m\n\u001b[0;32m    455\u001b[0m \u001b[38;5;28;01mif\u001b[39;00m \u001b[38;5;28mcallable\u001b[39m(scoring):\n",
      "File \u001b[1;32mc:\\ProgramData\\anaconda3\\Lib\\site-packages\\sklearn\\model_selection\\_validation.py:536\u001b[0m, in \u001b[0;36m_warn_or_raise_about_fit_failures\u001b[1;34m(results, error_score)\u001b[0m\n\u001b[0;32m    529\u001b[0m \u001b[38;5;28;01mif\u001b[39;00m num_failed_fits \u001b[38;5;241m==\u001b[39m num_fits:\n\u001b[0;32m    530\u001b[0m     all_fits_failed_message \u001b[38;5;241m=\u001b[39m (\n\u001b[0;32m    531\u001b[0m         \u001b[38;5;124mf\u001b[39m\u001b[38;5;124m\"\u001b[39m\u001b[38;5;130;01m\\n\u001b[39;00m\u001b[38;5;124mAll the \u001b[39m\u001b[38;5;132;01m{\u001b[39;00mnum_fits\u001b[38;5;132;01m}\u001b[39;00m\u001b[38;5;124m fits failed.\u001b[39m\u001b[38;5;130;01m\\n\u001b[39;00m\u001b[38;5;124m\"\u001b[39m\n\u001b[0;32m    532\u001b[0m         \u001b[38;5;124m\"\u001b[39m\u001b[38;5;124mIt is very likely that your model is misconfigured.\u001b[39m\u001b[38;5;130;01m\\n\u001b[39;00m\u001b[38;5;124m\"\u001b[39m\n\u001b[0;32m    533\u001b[0m         \u001b[38;5;124m\"\u001b[39m\u001b[38;5;124mYou can try to debug the error by setting error_score=\u001b[39m\u001b[38;5;124m'\u001b[39m\u001b[38;5;124mraise\u001b[39m\u001b[38;5;124m'\u001b[39m\u001b[38;5;124m.\u001b[39m\u001b[38;5;130;01m\\n\u001b[39;00m\u001b[38;5;130;01m\\n\u001b[39;00m\u001b[38;5;124m\"\u001b[39m\n\u001b[0;32m    534\u001b[0m         \u001b[38;5;124mf\u001b[39m\u001b[38;5;124m\"\u001b[39m\u001b[38;5;124mBelow are more details about the failures:\u001b[39m\u001b[38;5;130;01m\\n\u001b[39;00m\u001b[38;5;132;01m{\u001b[39;00mfit_errors_summary\u001b[38;5;132;01m}\u001b[39;00m\u001b[38;5;124m\"\u001b[39m\n\u001b[0;32m    535\u001b[0m     )\n\u001b[1;32m--> 536\u001b[0m     \u001b[38;5;28;01mraise\u001b[39;00m \u001b[38;5;167;01mValueError\u001b[39;00m(all_fits_failed_message)\n\u001b[0;32m    538\u001b[0m \u001b[38;5;28;01melse\u001b[39;00m:\n\u001b[0;32m    539\u001b[0m     some_fits_failed_message \u001b[38;5;241m=\u001b[39m (\n\u001b[0;32m    540\u001b[0m         \u001b[38;5;124mf\u001b[39m\u001b[38;5;124m\"\u001b[39m\u001b[38;5;130;01m\\n\u001b[39;00m\u001b[38;5;132;01m{\u001b[39;00mnum_failed_fits\u001b[38;5;132;01m}\u001b[39;00m\u001b[38;5;124m fits failed out of a total of \u001b[39m\u001b[38;5;132;01m{\u001b[39;00mnum_fits\u001b[38;5;132;01m}\u001b[39;00m\u001b[38;5;124m.\u001b[39m\u001b[38;5;130;01m\\n\u001b[39;00m\u001b[38;5;124m\"\u001b[39m\n\u001b[0;32m    541\u001b[0m         \u001b[38;5;124m\"\u001b[39m\u001b[38;5;124mThe score on these train-test partitions for these parameters\u001b[39m\u001b[38;5;124m\"\u001b[39m\n\u001b[1;32m   (...)\u001b[0m\n\u001b[0;32m    545\u001b[0m         \u001b[38;5;124mf\u001b[39m\u001b[38;5;124m\"\u001b[39m\u001b[38;5;124mBelow are more details about the failures:\u001b[39m\u001b[38;5;130;01m\\n\u001b[39;00m\u001b[38;5;132;01m{\u001b[39;00mfit_errors_summary\u001b[38;5;132;01m}\u001b[39;00m\u001b[38;5;124m\"\u001b[39m\n\u001b[0;32m    546\u001b[0m     )\n",
      "\u001b[1;31mValueError\u001b[0m: \nAll the 10 fits failed.\nIt is very likely that your model is misconfigured.\nYou can try to debug the error by setting error_score='raise'.\n\nBelow are more details about the failures:\n--------------------------------------------------------------------------------\n10 fits failed with the following error:\nTraceback (most recent call last):\n  File \"c:\\ProgramData\\anaconda3\\Lib\\site-packages\\sklearn\\model_selection\\_validation.py\", line 895, in _fit_and_score\n    estimator.fit(X_train, y_train, **fit_params)\n  File \"c:\\ProgramData\\anaconda3\\Lib\\site-packages\\sklearn\\base.py\", line 1474, in wrapper\n    return fit_method(estimator, *args, **kwargs)\n           ^^^^^^^^^^^^^^^^^^^^^^^^^^^^^^^^^^^^^^\n  File \"c:\\ProgramData\\anaconda3\\Lib\\site-packages\\sklearn\\linear_model\\_logistic.py\", line 1201, in fit\n    X, y = self._validate_data(\n           ^^^^^^^^^^^^^^^^^^^^\n  File \"c:\\ProgramData\\anaconda3\\Lib\\site-packages\\sklearn\\base.py\", line 650, in _validate_data\n    X, y = check_X_y(X, y, **check_params)\n           ^^^^^^^^^^^^^^^^^^^^^^^^^^^^^^^\n  File \"c:\\ProgramData\\anaconda3\\Lib\\site-packages\\sklearn\\utils\\validation.py\", line 1263, in check_X_y\n    X = check_array(\n        ^^^^^^^^^^^^\n  File \"c:\\ProgramData\\anaconda3\\Lib\\site-packages\\sklearn\\utils\\validation.py\", line 997, in check_array\n    array = _asarray_with_order(array, order=order, dtype=dtype, xp=xp)\n            ^^^^^^^^^^^^^^^^^^^^^^^^^^^^^^^^^^^^^^^^^^^^^^^^^^^^^^^^^^^\n  File \"c:\\ProgramData\\anaconda3\\Lib\\site-packages\\sklearn\\utils\\_array_api.py\", line 521, in _asarray_with_order\n    array = numpy.asarray(array, order=order, dtype=dtype)\n            ^^^^^^^^^^^^^^^^^^^^^^^^^^^^^^^^^^^^^^^^^^^^^^\nValueError: could not convert string to float: 'Chordata'\n"
     ]
    }
   ],
   "source": [
    "models = []\n",
    "models.append(('LR', LogisticRegression()))\n",
    "models.append(('LDA', LinearDiscriminantAnalysis()))\n",
    "models.append(('KNN', KNeighborsClassifier()))\n",
    "models.append(('CART', DecisionTreeClassifier()))\n",
    "models.append(('NB', GaussianNB()))\n",
    "models.append(('SVM', SVC()))\n",
    "# print(models)\n",
    "# evaluate each model in turn\n",
    "results = []\n",
    "names = []\n",
    "for name, model in models:\n",
    "        kfold = model_selection.KFold(n_splits=10, random_state=None)\n",
    "        cv_results = model_selection.cross_val_score(model, X_train, Y_train, cv=kfold, scoring=scoring)\n",
    "        results.append(cv_results)\n",
    "        names.append(name)\n",
    "        msg = \"%s: %f (%f)\" % (name, cv_results.mean(), cv_results.std())\n",
    "        print(msg)"
   ]
  },
  {
   "cell_type": "markdown",
   "id": "2815776d",
   "metadata": {},
   "source": [
    "visualization"
   ]
  },
  {
   "cell_type": "code",
   "execution_count": 28,
   "id": "97a8bc60",
   "metadata": {},
   "outputs": [
    {
     "data": {
      "application/vnd.plotly.v1+json": {
       "config": {
        "plotlyServerURL": "https://plot.ly"
       },
       "data": [
        {
         "alignmentgroup": "True",
         "hovertemplate": "family=%{y}<br>count=%{x}<extra></extra>",
         "legendgroup": "Dactyloidae",
         "marker": {
          "color": "#636efa",
          "pattern": {
           "shape": ""
          }
         },
         "name": "Dactyloidae",
         "offsetgroup": "Dactyloidae",
         "orientation": "h",
         "showlegend": true,
         "textposition": "auto",
         "type": "bar",
         "x": [
          10
         ],
         "xaxis": "x",
         "y": [
          "Dactyloidae"
         ],
         "yaxis": "y"
        },
        {
         "alignmentgroup": "True",
         "hovertemplate": "family=%{y}<br>count=%{x}<extra></extra>",
         "legendgroup": "Carcharhinidae",
         "marker": {
          "color": "#EF553B",
          "pattern": {
           "shape": ""
          }
         },
         "name": "Carcharhinidae",
         "offsetgroup": "Carcharhinidae",
         "orientation": "h",
         "showlegend": true,
         "textposition": "auto",
         "type": "bar",
         "x": [
          9
         ],
         "xaxis": "x",
         "y": [
          "Carcharhinidae"
         ],
         "yaxis": "y"
        },
        {
         "alignmentgroup": "True",
         "hovertemplate": "family=%{y}<br>count=%{x}<extra></extra>",
         "legendgroup": "Cercopithecidae",
         "marker": {
          "color": "#00cc96",
          "pattern": {
           "shape": ""
          }
         },
         "name": "Cercopithecidae",
         "offsetgroup": "Cercopithecidae",
         "orientation": "h",
         "showlegend": true,
         "textposition": "auto",
         "type": "bar",
         "x": [
          9
         ],
         "xaxis": "x",
         "y": [
          "Cercopithecidae"
         ],
         "yaxis": "y"
        },
        {
         "alignmentgroup": "True",
         "hovertemplate": "family=%{y}<br>count=%{x}<extra></extra>",
         "legendgroup": "Formicidae",
         "marker": {
          "color": "#ab63fa",
          "pattern": {
           "shape": ""
          }
         },
         "name": "Formicidae",
         "offsetgroup": "Formicidae",
         "orientation": "h",
         "showlegend": true,
         "textposition": "auto",
         "type": "bar",
         "x": [
          9
         ],
         "xaxis": "x",
         "y": [
          "Formicidae"
         ],
         "yaxis": "y"
        },
        {
         "alignmentgroup": "True",
         "hovertemplate": "family=%{y}<br>count=%{x}<extra></extra>",
         "legendgroup": "Salamandridae",
         "marker": {
          "color": "#FFA15A",
          "pattern": {
           "shape": ""
          }
         },
         "name": "Salamandridae",
         "offsetgroup": "Salamandridae",
         "orientation": "h",
         "showlegend": true,
         "textposition": "auto",
         "type": "bar",
         "x": [
          9
         ],
         "xaxis": "x",
         "y": [
          "Salamandridae"
         ],
         "yaxis": "y"
        },
        {
         "alignmentgroup": "True",
         "hovertemplate": "family=%{y}<br>count=%{x}<extra></extra>",
         "legendgroup": "Plethodontidae",
         "marker": {
          "color": "#19d3f3",
          "pattern": {
           "shape": ""
          }
         },
         "name": "Plethodontidae",
         "offsetgroup": "Plethodontidae",
         "orientation": "h",
         "showlegend": true,
         "textposition": "auto",
         "type": "bar",
         "x": [
          8
         ],
         "xaxis": "x",
         "y": [
          "Plethodontidae"
         ],
         "yaxis": "y"
        },
        {
         "alignmentgroup": "True",
         "hovertemplate": "family=%{y}<br>count=%{x}<extra></extra>",
         "legendgroup": "Bovidae",
         "marker": {
          "color": "#FF6692",
          "pattern": {
           "shape": ""
          }
         },
         "name": "Bovidae",
         "offsetgroup": "Bovidae",
         "orientation": "h",
         "showlegend": true,
         "textposition": "auto",
         "type": "bar",
         "x": [
          8
         ],
         "xaxis": "x",
         "y": [
          "Bovidae"
         ],
         "yaxis": "y"
        },
        {
         "alignmentgroup": "True",
         "hovertemplate": "family=%{y}<br>count=%{x}<extra></extra>",
         "legendgroup": "Acroporidae",
         "marker": {
          "color": "#B6E880",
          "pattern": {
           "shape": ""
          }
         },
         "name": "Acroporidae",
         "offsetgroup": "Acroporidae",
         "orientation": "h",
         "showlegend": true,
         "textposition": "auto",
         "type": "bar",
         "x": [
          7
         ],
         "xaxis": "x",
         "y": [
          "Acroporidae"
         ],
         "yaxis": "y"
        },
        {
         "alignmentgroup": "True",
         "hovertemplate": "family=%{y}<br>count=%{x}<extra></extra>",
         "legendgroup": "Diomedeidae",
         "marker": {
          "color": "#FF97FF",
          "pattern": {
           "shape": ""
          }
         },
         "name": "Diomedeidae",
         "offsetgroup": "Diomedeidae",
         "orientation": "h",
         "showlegend": true,
         "textposition": "auto",
         "type": "bar",
         "x": [
          6
         ],
         "xaxis": "x",
         "y": [
          "Diomedeidae"
         ],
         "yaxis": "y"
        },
        {
         "alignmentgroup": "True",
         "hovertemplate": "family=%{y}<br>count=%{x}<extra></extra>",
         "legendgroup": "Bucerotidae",
         "marker": {
          "color": "#FECB52",
          "pattern": {
           "shape": ""
          }
         },
         "name": "Bucerotidae",
         "offsetgroup": "Bucerotidae",
         "orientation": "h",
         "showlegend": true,
         "textposition": "auto",
         "type": "bar",
         "x": [
          6
         ],
         "xaxis": "x",
         "y": [
          "Bucerotidae"
         ],
         "yaxis": "y"
        }
       ],
       "layout": {
        "barmode": "relative",
        "legend": {
         "title": {
          "text": "family"
         },
         "tracegroupgap": 0
        },
        "template": {
         "data": {
          "bar": [
           {
            "error_x": {
             "color": "#2a3f5f"
            },
            "error_y": {
             "color": "#2a3f5f"
            },
            "marker": {
             "line": {
              "color": "#E5ECF6",
              "width": 0.5
             },
             "pattern": {
              "fillmode": "overlay",
              "size": 10,
              "solidity": 0.2
             }
            },
            "type": "bar"
           }
          ],
          "barpolar": [
           {
            "marker": {
             "line": {
              "color": "#E5ECF6",
              "width": 0.5
             },
             "pattern": {
              "fillmode": "overlay",
              "size": 10,
              "solidity": 0.2
             }
            },
            "type": "barpolar"
           }
          ],
          "carpet": [
           {
            "aaxis": {
             "endlinecolor": "#2a3f5f",
             "gridcolor": "white",
             "linecolor": "white",
             "minorgridcolor": "white",
             "startlinecolor": "#2a3f5f"
            },
            "baxis": {
             "endlinecolor": "#2a3f5f",
             "gridcolor": "white",
             "linecolor": "white",
             "minorgridcolor": "white",
             "startlinecolor": "#2a3f5f"
            },
            "type": "carpet"
           }
          ],
          "choropleth": [
           {
            "colorbar": {
             "outlinewidth": 0,
             "ticks": ""
            },
            "type": "choropleth"
           }
          ],
          "contour": [
           {
            "colorbar": {
             "outlinewidth": 0,
             "ticks": ""
            },
            "colorscale": [
             [
              0,
              "#0d0887"
             ],
             [
              0.1111111111111111,
              "#46039f"
             ],
             [
              0.2222222222222222,
              "#7201a8"
             ],
             [
              0.3333333333333333,
              "#9c179e"
             ],
             [
              0.4444444444444444,
              "#bd3786"
             ],
             [
              0.5555555555555556,
              "#d8576b"
             ],
             [
              0.6666666666666666,
              "#ed7953"
             ],
             [
              0.7777777777777778,
              "#fb9f3a"
             ],
             [
              0.8888888888888888,
              "#fdca26"
             ],
             [
              1,
              "#f0f921"
             ]
            ],
            "type": "contour"
           }
          ],
          "contourcarpet": [
           {
            "colorbar": {
             "outlinewidth": 0,
             "ticks": ""
            },
            "type": "contourcarpet"
           }
          ],
          "heatmap": [
           {
            "colorbar": {
             "outlinewidth": 0,
             "ticks": ""
            },
            "colorscale": [
             [
              0,
              "#0d0887"
             ],
             [
              0.1111111111111111,
              "#46039f"
             ],
             [
              0.2222222222222222,
              "#7201a8"
             ],
             [
              0.3333333333333333,
              "#9c179e"
             ],
             [
              0.4444444444444444,
              "#bd3786"
             ],
             [
              0.5555555555555556,
              "#d8576b"
             ],
             [
              0.6666666666666666,
              "#ed7953"
             ],
             [
              0.7777777777777778,
              "#fb9f3a"
             ],
             [
              0.8888888888888888,
              "#fdca26"
             ],
             [
              1,
              "#f0f921"
             ]
            ],
            "type": "heatmap"
           }
          ],
          "heatmapgl": [
           {
            "colorbar": {
             "outlinewidth": 0,
             "ticks": ""
            },
            "colorscale": [
             [
              0,
              "#0d0887"
             ],
             [
              0.1111111111111111,
              "#46039f"
             ],
             [
              0.2222222222222222,
              "#7201a8"
             ],
             [
              0.3333333333333333,
              "#9c179e"
             ],
             [
              0.4444444444444444,
              "#bd3786"
             ],
             [
              0.5555555555555556,
              "#d8576b"
             ],
             [
              0.6666666666666666,
              "#ed7953"
             ],
             [
              0.7777777777777778,
              "#fb9f3a"
             ],
             [
              0.8888888888888888,
              "#fdca26"
             ],
             [
              1,
              "#f0f921"
             ]
            ],
            "type": "heatmapgl"
           }
          ],
          "histogram": [
           {
            "marker": {
             "pattern": {
              "fillmode": "overlay",
              "size": 10,
              "solidity": 0.2
             }
            },
            "type": "histogram"
           }
          ],
          "histogram2d": [
           {
            "colorbar": {
             "outlinewidth": 0,
             "ticks": ""
            },
            "colorscale": [
             [
              0,
              "#0d0887"
             ],
             [
              0.1111111111111111,
              "#46039f"
             ],
             [
              0.2222222222222222,
              "#7201a8"
             ],
             [
              0.3333333333333333,
              "#9c179e"
             ],
             [
              0.4444444444444444,
              "#bd3786"
             ],
             [
              0.5555555555555556,
              "#d8576b"
             ],
             [
              0.6666666666666666,
              "#ed7953"
             ],
             [
              0.7777777777777778,
              "#fb9f3a"
             ],
             [
              0.8888888888888888,
              "#fdca26"
             ],
             [
              1,
              "#f0f921"
             ]
            ],
            "type": "histogram2d"
           }
          ],
          "histogram2dcontour": [
           {
            "colorbar": {
             "outlinewidth": 0,
             "ticks": ""
            },
            "colorscale": [
             [
              0,
              "#0d0887"
             ],
             [
              0.1111111111111111,
              "#46039f"
             ],
             [
              0.2222222222222222,
              "#7201a8"
             ],
             [
              0.3333333333333333,
              "#9c179e"
             ],
             [
              0.4444444444444444,
              "#bd3786"
             ],
             [
              0.5555555555555556,
              "#d8576b"
             ],
             [
              0.6666666666666666,
              "#ed7953"
             ],
             [
              0.7777777777777778,
              "#fb9f3a"
             ],
             [
              0.8888888888888888,
              "#fdca26"
             ],
             [
              1,
              "#f0f921"
             ]
            ],
            "type": "histogram2dcontour"
           }
          ],
          "mesh3d": [
           {
            "colorbar": {
             "outlinewidth": 0,
             "ticks": ""
            },
            "type": "mesh3d"
           }
          ],
          "parcoords": [
           {
            "line": {
             "colorbar": {
              "outlinewidth": 0,
              "ticks": ""
             }
            },
            "type": "parcoords"
           }
          ],
          "pie": [
           {
            "automargin": true,
            "type": "pie"
           }
          ],
          "scatter": [
           {
            "fillpattern": {
             "fillmode": "overlay",
             "size": 10,
             "solidity": 0.2
            },
            "type": "scatter"
           }
          ],
          "scatter3d": [
           {
            "line": {
             "colorbar": {
              "outlinewidth": 0,
              "ticks": ""
             }
            },
            "marker": {
             "colorbar": {
              "outlinewidth": 0,
              "ticks": ""
             }
            },
            "type": "scatter3d"
           }
          ],
          "scattercarpet": [
           {
            "marker": {
             "colorbar": {
              "outlinewidth": 0,
              "ticks": ""
             }
            },
            "type": "scattercarpet"
           }
          ],
          "scattergeo": [
           {
            "marker": {
             "colorbar": {
              "outlinewidth": 0,
              "ticks": ""
             }
            },
            "type": "scattergeo"
           }
          ],
          "scattergl": [
           {
            "marker": {
             "colorbar": {
              "outlinewidth": 0,
              "ticks": ""
             }
            },
            "type": "scattergl"
           }
          ],
          "scattermapbox": [
           {
            "marker": {
             "colorbar": {
              "outlinewidth": 0,
              "ticks": ""
             }
            },
            "type": "scattermapbox"
           }
          ],
          "scatterpolar": [
           {
            "marker": {
             "colorbar": {
              "outlinewidth": 0,
              "ticks": ""
             }
            },
            "type": "scatterpolar"
           }
          ],
          "scatterpolargl": [
           {
            "marker": {
             "colorbar": {
              "outlinewidth": 0,
              "ticks": ""
             }
            },
            "type": "scatterpolargl"
           }
          ],
          "scatterternary": [
           {
            "marker": {
             "colorbar": {
              "outlinewidth": 0,
              "ticks": ""
             }
            },
            "type": "scatterternary"
           }
          ],
          "surface": [
           {
            "colorbar": {
             "outlinewidth": 0,
             "ticks": ""
            },
            "colorscale": [
             [
              0,
              "#0d0887"
             ],
             [
              0.1111111111111111,
              "#46039f"
             ],
             [
              0.2222222222222222,
              "#7201a8"
             ],
             [
              0.3333333333333333,
              "#9c179e"
             ],
             [
              0.4444444444444444,
              "#bd3786"
             ],
             [
              0.5555555555555556,
              "#d8576b"
             ],
             [
              0.6666666666666666,
              "#ed7953"
             ],
             [
              0.7777777777777778,
              "#fb9f3a"
             ],
             [
              0.8888888888888888,
              "#fdca26"
             ],
             [
              1,
              "#f0f921"
             ]
            ],
            "type": "surface"
           }
          ],
          "table": [
           {
            "cells": {
             "fill": {
              "color": "#EBF0F8"
             },
             "line": {
              "color": "white"
             }
            },
            "header": {
             "fill": {
              "color": "#C8D4E3"
             },
             "line": {
              "color": "white"
             }
            },
            "type": "table"
           }
          ]
         },
         "layout": {
          "annotationdefaults": {
           "arrowcolor": "#2a3f5f",
           "arrowhead": 0,
           "arrowwidth": 1
          },
          "autotypenumbers": "strict",
          "coloraxis": {
           "colorbar": {
            "outlinewidth": 0,
            "ticks": ""
           }
          },
          "colorscale": {
           "diverging": [
            [
             0,
             "#8e0152"
            ],
            [
             0.1,
             "#c51b7d"
            ],
            [
             0.2,
             "#de77ae"
            ],
            [
             0.3,
             "#f1b6da"
            ],
            [
             0.4,
             "#fde0ef"
            ],
            [
             0.5,
             "#f7f7f7"
            ],
            [
             0.6,
             "#e6f5d0"
            ],
            [
             0.7,
             "#b8e186"
            ],
            [
             0.8,
             "#7fbc41"
            ],
            [
             0.9,
             "#4d9221"
            ],
            [
             1,
             "#276419"
            ]
           ],
           "sequential": [
            [
             0,
             "#0d0887"
            ],
            [
             0.1111111111111111,
             "#46039f"
            ],
            [
             0.2222222222222222,
             "#7201a8"
            ],
            [
             0.3333333333333333,
             "#9c179e"
            ],
            [
             0.4444444444444444,
             "#bd3786"
            ],
            [
             0.5555555555555556,
             "#d8576b"
            ],
            [
             0.6666666666666666,
             "#ed7953"
            ],
            [
             0.7777777777777778,
             "#fb9f3a"
            ],
            [
             0.8888888888888888,
             "#fdca26"
            ],
            [
             1,
             "#f0f921"
            ]
           ],
           "sequentialminus": [
            [
             0,
             "#0d0887"
            ],
            [
             0.1111111111111111,
             "#46039f"
            ],
            [
             0.2222222222222222,
             "#7201a8"
            ],
            [
             0.3333333333333333,
             "#9c179e"
            ],
            [
             0.4444444444444444,
             "#bd3786"
            ],
            [
             0.5555555555555556,
             "#d8576b"
            ],
            [
             0.6666666666666666,
             "#ed7953"
            ],
            [
             0.7777777777777778,
             "#fb9f3a"
            ],
            [
             0.8888888888888888,
             "#fdca26"
            ],
            [
             1,
             "#f0f921"
            ]
           ]
          },
          "colorway": [
           "#636efa",
           "#EF553B",
           "#00cc96",
           "#ab63fa",
           "#FFA15A",
           "#19d3f3",
           "#FF6692",
           "#B6E880",
           "#FF97FF",
           "#FECB52"
          ],
          "font": {
           "color": "#2a3f5f"
          },
          "geo": {
           "bgcolor": "white",
           "lakecolor": "white",
           "landcolor": "#E5ECF6",
           "showlakes": true,
           "showland": true,
           "subunitcolor": "white"
          },
          "hoverlabel": {
           "align": "left"
          },
          "hovermode": "closest",
          "mapbox": {
           "style": "light"
          },
          "paper_bgcolor": "white",
          "plot_bgcolor": "#E5ECF6",
          "polar": {
           "angularaxis": {
            "gridcolor": "white",
            "linecolor": "white",
            "ticks": ""
           },
           "bgcolor": "#E5ECF6",
           "radialaxis": {
            "gridcolor": "white",
            "linecolor": "white",
            "ticks": ""
           }
          },
          "scene": {
           "xaxis": {
            "backgroundcolor": "#E5ECF6",
            "gridcolor": "white",
            "gridwidth": 2,
            "linecolor": "white",
            "showbackground": true,
            "ticks": "",
            "zerolinecolor": "white"
           },
           "yaxis": {
            "backgroundcolor": "#E5ECF6",
            "gridcolor": "white",
            "gridwidth": 2,
            "linecolor": "white",
            "showbackground": true,
            "ticks": "",
            "zerolinecolor": "white"
           },
           "zaxis": {
            "backgroundcolor": "#E5ECF6",
            "gridcolor": "white",
            "gridwidth": 2,
            "linecolor": "white",
            "showbackground": true,
            "ticks": "",
            "zerolinecolor": "white"
           }
          },
          "shapedefaults": {
           "line": {
            "color": "#2a3f5f"
           }
          },
          "ternary": {
           "aaxis": {
            "gridcolor": "white",
            "linecolor": "white",
            "ticks": ""
           },
           "baxis": {
            "gridcolor": "white",
            "linecolor": "white",
            "ticks": ""
           },
           "bgcolor": "#E5ECF6",
           "caxis": {
            "gridcolor": "white",
            "linecolor": "white",
            "ticks": ""
           }
          },
          "title": {
           "x": 0.05
          },
          "xaxis": {
           "automargin": true,
           "gridcolor": "white",
           "linecolor": "white",
           "ticks": "",
           "title": {
            "standoff": 15
           },
           "zerolinecolor": "white",
           "zerolinewidth": 2
          },
          "yaxis": {
           "automargin": true,
           "gridcolor": "white",
           "linecolor": "white",
           "ticks": "",
           "title": {
            "standoff": 15
           },
           "zerolinecolor": "white",
           "zerolinewidth": 2
          }
         }
        },
        "title": {
         "text": "Families by Species Count"
        },
        "xaxis": {
         "anchor": "y",
         "domain": [
          0,
          1
         ],
         "title": {
          "text": "count"
         }
        },
        "yaxis": {
         "anchor": "x",
         "categoryarray": [
          "Bucerotidae",
          "Diomedeidae",
          "Acroporidae",
          "Bovidae",
          "Plethodontidae",
          "Salamandridae",
          "Formicidae",
          "Cercopithecidae",
          "Carcharhinidae",
          "Dactyloidae"
         ],
         "categoryorder": "array",
         "domain": [
          0,
          1
         ],
         "title": {
          "text": "family"
         }
        }
       }
      }
     },
     "metadata": {},
     "output_type": "display_data"
    }
   ],
   "source": [
    "# Top 10 Families by Species Count\n",
    "top_families = dataset['family'].value_counts().nlargest(10).reset_index()\n",
    "top_families.columns = ['family', 'count']\n",
    "\n",
    "fig = px.bar(top_families, x='count', y='family', orientation='h', color='family',\n",
    "             title='Families by Species Count')\n",
    "fig.show()\n"
   ]
  },
  {
   "cell_type": "code",
   "execution_count": 25,
   "id": "40828785",
   "metadata": {},
   "outputs": [
    {
     "data": {
      "application/vnd.plotly.v1+json": {
       "config": {
        "plotlyServerURL": "https://plot.ly"
       },
       "data": [
        {
         "alignmentgroup": "True",
         "hovertemplate": "class=%{x}<br>count=%{y}<extra></extra>",
         "legendgroup": "Aves",
         "marker": {
          "color": "#636efa",
          "pattern": {
           "shape": ""
          }
         },
         "name": "Aves",
         "offsetgroup": "Aves",
         "orientation": "v",
         "showlegend": true,
         "textposition": "auto",
         "type": "bar",
         "x": [
          "Aves"
         ],
         "xaxis": "x",
         "y": [
          93
         ],
         "yaxis": "y"
        },
        {
         "alignmentgroup": "True",
         "hovertemplate": "class=%{x}<br>count=%{y}<extra></extra>",
         "legendgroup": "Mammalia",
         "marker": {
          "color": "#EF553B",
          "pattern": {
           "shape": ""
          }
         },
         "name": "Mammalia",
         "offsetgroup": "Mammalia",
         "orientation": "v",
         "showlegend": true,
         "textposition": "auto",
         "type": "bar",
         "x": [
          "Mammalia"
         ],
         "xaxis": "x",
         "y": [
          71
         ],
         "yaxis": "y"
        },
        {
         "alignmentgroup": "True",
         "hovertemplate": "class=%{x}<br>count=%{y}<extra></extra>",
         "legendgroup": "Reptilia",
         "marker": {
          "color": "#00cc96",
          "pattern": {
           "shape": ""
          }
         },
         "name": "Reptilia",
         "offsetgroup": "Reptilia",
         "orientation": "v",
         "showlegend": true,
         "textposition": "auto",
         "type": "bar",
         "x": [
          "Reptilia"
         ],
         "xaxis": "x",
         "y": [
          51
         ],
         "yaxis": "y"
        },
        {
         "alignmentgroup": "True",
         "hovertemplate": "class=%{x}<br>count=%{y}<extra></extra>",
         "legendgroup": "Amphibia",
         "marker": {
          "color": "#ab63fa",
          "pattern": {
           "shape": ""
          }
         },
         "name": "Amphibia",
         "offsetgroup": "Amphibia",
         "orientation": "v",
         "showlegend": true,
         "textposition": "auto",
         "type": "bar",
         "x": [
          "Amphibia"
         ],
         "xaxis": "x",
         "y": [
          39
         ],
         "yaxis": "y"
        },
        {
         "alignmentgroup": "True",
         "hovertemplate": "class=%{x}<br>count=%{y}<extra></extra>",
         "legendgroup": "Chondrichthyes",
         "marker": {
          "color": "#FFA15A",
          "pattern": {
           "shape": ""
          }
         },
         "name": "Chondrichthyes",
         "offsetgroup": "Chondrichthyes",
         "orientation": "v",
         "showlegend": true,
         "textposition": "auto",
         "type": "bar",
         "x": [
          "Chondrichthyes"
         ],
         "xaxis": "x",
         "y": [
          37
         ],
         "yaxis": "y"
        },
        {
         "alignmentgroup": "True",
         "hovertemplate": "class=%{x}<br>count=%{y}<extra></extra>",
         "legendgroup": "Insecta",
         "marker": {
          "color": "#19d3f3",
          "pattern": {
           "shape": ""
          }
         },
         "name": "Insecta",
         "offsetgroup": "Insecta",
         "orientation": "v",
         "showlegend": true,
         "textposition": "auto",
         "type": "bar",
         "x": [
          "Insecta"
         ],
         "xaxis": "x",
         "y": [
          27
         ],
         "yaxis": "y"
        },
        {
         "alignmentgroup": "True",
         "hovertemplate": "class=%{x}<br>count=%{y}<extra></extra>",
         "legendgroup": "Actinopterygii",
         "marker": {
          "color": "#FF6692",
          "pattern": {
           "shape": ""
          }
         },
         "name": "Actinopterygii",
         "offsetgroup": "Actinopterygii",
         "orientation": "v",
         "showlegend": true,
         "textposition": "auto",
         "type": "bar",
         "x": [
          "Actinopterygii"
         ],
         "xaxis": "x",
         "y": [
          27
         ],
         "yaxis": "y"
        },
        {
         "alignmentgroup": "True",
         "hovertemplate": "class=%{x}<br>count=%{y}<extra></extra>",
         "legendgroup": "Anthozoa",
         "marker": {
          "color": "#B6E880",
          "pattern": {
           "shape": ""
          }
         },
         "name": "Anthozoa",
         "offsetgroup": "Anthozoa",
         "orientation": "v",
         "showlegend": true,
         "textposition": "auto",
         "type": "bar",
         "x": [
          "Anthozoa"
         ],
         "xaxis": "x",
         "y": [
          25
         ],
         "yaxis": "y"
        },
        {
         "alignmentgroup": "True",
         "hovertemplate": "class=%{x}<br>count=%{y}<extra></extra>",
         "legendgroup": "Bivalvia",
         "marker": {
          "color": "#FF97FF",
          "pattern": {
           "shape": ""
          }
         },
         "name": "Bivalvia",
         "offsetgroup": "Bivalvia",
         "orientation": "v",
         "showlegend": true,
         "textposition": "auto",
         "type": "bar",
         "x": [
          "Bivalvia"
         ],
         "xaxis": "x",
         "y": [
          4
         ],
         "yaxis": "y"
        },
        {
         "alignmentgroup": "True",
         "hovertemplate": "class=%{x}<br>count=%{y}<extra></extra>",
         "legendgroup": "Gastropoda",
         "marker": {
          "color": "#FECB52",
          "pattern": {
           "shape": ""
          }
         },
         "name": "Gastropoda",
         "offsetgroup": "Gastropoda",
         "orientation": "v",
         "showlegend": true,
         "textposition": "auto",
         "type": "bar",
         "x": [
          "Gastropoda"
         ],
         "xaxis": "x",
         "y": [
          3
         ],
         "yaxis": "y"
        },
        {
         "alignmentgroup": "True",
         "hovertemplate": "class=%{x}<br>count=%{y}<extra></extra>",
         "legendgroup": "Arachnida",
         "marker": {
          "color": "#636efa",
          "pattern": {
           "shape": ""
          }
         },
         "name": "Arachnida",
         "offsetgroup": "Arachnida",
         "orientation": "v",
         "showlegend": true,
         "textposition": "auto",
         "type": "bar",
         "x": [
          "Arachnida"
         ],
         "xaxis": "x",
         "y": [
          2
         ],
         "yaxis": "y"
        },
        {
         "alignmentgroup": "True",
         "hovertemplate": "class=%{x}<br>count=%{y}<extra></extra>",
         "legendgroup": "Ophiurida",
         "marker": {
          "color": "#EF553B",
          "pattern": {
           "shape": ""
          }
         },
         "name": "Ophiurida",
         "offsetgroup": "Ophiurida",
         "orientation": "v",
         "showlegend": true,
         "textposition": "auto",
         "type": "bar",
         "x": [
          "Ophiurida"
         ],
         "xaxis": "x",
         "y": [
          2
         ],
         "yaxis": "y"
        },
        {
         "alignmentgroup": "True",
         "hovertemplate": "class=%{x}<br>count=%{y}<extra></extra>",
         "legendgroup": "Comatulida",
         "marker": {
          "color": "#00cc96",
          "pattern": {
           "shape": ""
          }
         },
         "name": "Comatulida",
         "offsetgroup": "Comatulida",
         "orientation": "v",
         "showlegend": true,
         "textposition": "auto",
         "type": "bar",
         "x": [
          "Comatulida"
         ],
         "xaxis": "x",
         "y": [
          1
         ],
         "yaxis": "y"
        },
        {
         "alignmentgroup": "True",
         "hovertemplate": "class=%{x}<br>count=%{y}<extra></extra>",
         "legendgroup": "Spatangoida",
         "marker": {
          "color": "#ab63fa",
          "pattern": {
           "shape": ""
          }
         },
         "name": "Spatangoida",
         "offsetgroup": "Spatangoida",
         "orientation": "v",
         "showlegend": true,
         "textposition": "auto",
         "type": "bar",
         "x": [
          "Spatangoida"
         ],
         "xaxis": "x",
         "y": [
          1
         ],
         "yaxis": "y"
        },
        {
         "alignmentgroup": "True",
         "hovertemplate": "class=%{x}<br>count=%{y}<extra></extra>",
         "legendgroup": "Malacostraca",
         "marker": {
          "color": "#FFA15A",
          "pattern": {
           "shape": ""
          }
         },
         "name": "Malacostraca",
         "offsetgroup": "Malacostraca",
         "orientation": "v",
         "showlegend": true,
         "textposition": "auto",
         "type": "bar",
         "x": [
          "Malacostraca"
         ],
         "xaxis": "x",
         "y": [
          1
         ],
         "yaxis": "y"
        },
        {
         "alignmentgroup": "True",
         "hovertemplate": "class=%{x}<br>count=%{y}<extra></extra>",
         "legendgroup": "Branchiopoda",
         "marker": {
          "color": "#19d3f3",
          "pattern": {
           "shape": ""
          }
         },
         "name": "Branchiopoda",
         "offsetgroup": "Branchiopoda",
         "orientation": "v",
         "showlegend": true,
         "textposition": "auto",
         "type": "bar",
         "x": [
          "Branchiopoda"
         ],
         "xaxis": "x",
         "y": [
          1
         ],
         "yaxis": "y"
        },
        {
         "alignmentgroup": "True",
         "hovertemplate": "class=%{x}<br>count=%{y}<extra></extra>",
         "legendgroup": "Forcipulatida",
         "marker": {
          "color": "#FF6692",
          "pattern": {
           "shape": ""
          }
         },
         "name": "Forcipulatida",
         "offsetgroup": "Forcipulatida",
         "orientation": "v",
         "showlegend": true,
         "textposition": "auto",
         "type": "bar",
         "x": [
          "Forcipulatida"
         ],
         "xaxis": "x",
         "y": [
          1
         ],
         "yaxis": "y"
        },
        {
         "alignmentgroup": "True",
         "hovertemplate": "class=%{x}<br>count=%{y}<extra></extra>",
         "legendgroup": "Holothuroidea",
         "marker": {
          "color": "#B6E880",
          "pattern": {
           "shape": ""
          }
         },
         "name": "Holothuroidea",
         "offsetgroup": "Holothuroidea",
         "orientation": "v",
         "showlegend": true,
         "textposition": "auto",
         "type": "bar",
         "x": [
          "Holothuroidea"
         ],
         "xaxis": "x",
         "y": [
          1
         ],
         "yaxis": "y"
        },
        {
         "alignmentgroup": "True",
         "hovertemplate": "class=%{x}<br>count=%{y}<extra></extra>",
         "legendgroup": "Clypeasteroida",
         "marker": {
          "color": "#FF97FF",
          "pattern": {
           "shape": ""
          }
         },
         "name": "Clypeasteroida",
         "offsetgroup": "Clypeasteroida",
         "orientation": "v",
         "showlegend": true,
         "textposition": "auto",
         "type": "bar",
         "x": [
          "Clypeasteroida"
         ],
         "xaxis": "x",
         "y": [
          1
         ],
         "yaxis": "y"
        },
        {
         "alignmentgroup": "True",
         "hovertemplate": "class=%{x}<br>count=%{y}<extra></extra>",
         "legendgroup": "Euryalida",
         "marker": {
          "color": "#FECB52",
          "pattern": {
           "shape": ""
          }
         },
         "name": "Euryalida",
         "offsetgroup": "Euryalida",
         "orientation": "v",
         "showlegend": true,
         "textposition": "auto",
         "type": "bar",
         "x": [
          "Euryalida"
         ],
         "xaxis": "x",
         "y": [
          1
         ],
         "yaxis": "y"
        },
        {
         "alignmentgroup": "True",
         "hovertemplate": "class=%{x}<br>count=%{y}<extra></extra>",
         "legendgroup": "Cyrtocrinida",
         "marker": {
          "color": "#636efa",
          "pattern": {
           "shape": ""
          }
         },
         "name": "Cyrtocrinida",
         "offsetgroup": "Cyrtocrinida",
         "orientation": "v",
         "showlegend": true,
         "textposition": "auto",
         "type": "bar",
         "x": [
          "Cyrtocrinida"
         ],
         "xaxis": "x",
         "y": [
          1
         ],
         "yaxis": "y"
        },
        {
         "alignmentgroup": "True",
         "hovertemplate": "class=%{x}<br>count=%{y}<extra></extra>",
         "legendgroup": "Paxillosida",
         "marker": {
          "color": "#EF553B",
          "pattern": {
           "shape": ""
          }
         },
         "name": "Paxillosida",
         "offsetgroup": "Paxillosida",
         "orientation": "v",
         "showlegend": true,
         "textposition": "auto",
         "type": "bar",
         "x": [
          "Paxillosida"
         ],
         "xaxis": "x",
         "y": [
          1
         ],
         "yaxis": "y"
        },
        {
         "alignmentgroup": "True",
         "hovertemplate": "class=%{x}<br>count=%{y}<extra></extra>",
         "legendgroup": "Synallactida",
         "marker": {
          "color": "#00cc96",
          "pattern": {
           "shape": ""
          }
         },
         "name": "Synallactida",
         "offsetgroup": "Synallactida",
         "orientation": "v",
         "showlegend": true,
         "textposition": "auto",
         "type": "bar",
         "x": [
          "Synallactida"
         ],
         "xaxis": "x",
         "y": [
          1
         ],
         "yaxis": "y"
        },
        {
         "alignmentgroup": "True",
         "hovertemplate": "class=%{x}<br>count=%{y}<extra></extra>",
         "legendgroup": "Aspidochirotida",
         "marker": {
          "color": "#ab63fa",
          "pattern": {
           "shape": ""
          }
         },
         "name": "Aspidochirotida",
         "offsetgroup": "Aspidochirotida",
         "orientation": "v",
         "showlegend": true,
         "textposition": "auto",
         "type": "bar",
         "x": [
          "Aspidochirotida"
         ],
         "xaxis": "x",
         "y": [
          1
         ],
         "yaxis": "y"
        },
        {
         "alignmentgroup": "True",
         "hovertemplate": "class=%{x}<br>count=%{y}<extra></extra>",
         "legendgroup": "Ophiacanthida",
         "marker": {
          "color": "#FFA15A",
          "pattern": {
           "shape": ""
          }
         },
         "name": "Ophiacanthida",
         "offsetgroup": "Ophiacanthida",
         "orientation": "v",
         "showlegend": true,
         "textposition": "auto",
         "type": "bar",
         "x": [
          "Ophiacanthida"
         ],
         "xaxis": "x",
         "y": [
          1
         ],
         "yaxis": "y"
        },
        {
         "alignmentgroup": "True",
         "hovertemplate": "class=%{x}<br>count=%{y}<extra></extra>",
         "legendgroup": "Diadematoida",
         "marker": {
          "color": "#19d3f3",
          "pattern": {
           "shape": ""
          }
         },
         "name": "Diadematoida",
         "offsetgroup": "Diadematoida",
         "orientation": "v",
         "showlegend": true,
         "textposition": "auto",
         "type": "bar",
         "x": [
          "Diadematoida"
         ],
         "xaxis": "x",
         "y": [
          1
         ],
         "yaxis": "y"
        },
        {
         "alignmentgroup": "True",
         "hovertemplate": "class=%{x}<br>count=%{y}<extra></extra>",
         "legendgroup": "Velatida",
         "marker": {
          "color": "#FF6692",
          "pattern": {
           "shape": ""
          }
         },
         "name": "Velatida",
         "offsetgroup": "Velatida",
         "orientation": "v",
         "showlegend": true,
         "textposition": "auto",
         "type": "bar",
         "x": [
          "Velatida"
         ],
         "xaxis": "x",
         "y": [
          1
         ],
         "yaxis": "y"
        },
        {
         "alignmentgroup": "True",
         "hovertemplate": "class=%{x}<br>count=%{y}<extra></extra>",
         "legendgroup": "Spinulosida",
         "marker": {
          "color": "#B6E880",
          "pattern": {
           "shape": ""
          }
         },
         "name": "Spinulosida",
         "offsetgroup": "Spinulosida",
         "orientation": "v",
         "showlegend": true,
         "textposition": "auto",
         "type": "bar",
         "x": [
          "Spinulosida"
         ],
         "xaxis": "x",
         "y": [
          1
         ],
         "yaxis": "y"
        },
        {
         "alignmentgroup": "True",
         "hovertemplate": "class=%{x}<br>count=%{y}<extra></extra>",
         "legendgroup": "Valvatida",
         "marker": {
          "color": "#FF97FF",
          "pattern": {
           "shape": ""
          }
         },
         "name": "Valvatida",
         "offsetgroup": "Valvatida",
         "orientation": "v",
         "showlegend": true,
         "textposition": "auto",
         "type": "bar",
         "x": [
          "Valvatida"
         ],
         "xaxis": "x",
         "y": [
          1
         ],
         "yaxis": "y"
        },
        {
         "alignmentgroup": "True",
         "hovertemplate": "class=%{x}<br>count=%{y}<extra></extra>",
         "legendgroup": "Arbacioida",
         "marker": {
          "color": "#FECB52",
          "pattern": {
           "shape": ""
          }
         },
         "name": "Arbacioida",
         "offsetgroup": "Arbacioida",
         "orientation": "v",
         "showlegend": true,
         "textposition": "auto",
         "type": "bar",
         "x": [
          "Arbacioida"
         ],
         "xaxis": "x",
         "y": [
          1
         ],
         "yaxis": "y"
        },
        {
         "alignmentgroup": "True",
         "hovertemplate": "class=%{x}<br>count=%{y}<extra></extra>",
         "legendgroup": "Dendrochirotida",
         "marker": {
          "color": "#636efa",
          "pattern": {
           "shape": ""
          }
         },
         "name": "Dendrochirotida",
         "offsetgroup": "Dendrochirotida",
         "orientation": "v",
         "showlegend": true,
         "textposition": "auto",
         "type": "bar",
         "x": [
          "Dendrochirotida"
         ],
         "xaxis": "x",
         "y": [
          1
         ],
         "yaxis": "y"
        }
       ],
       "layout": {
        "barmode": "relative",
        "legend": {
         "title": {
          "text": "class"
         },
         "tracegroupgap": 0
        },
        "template": {
         "data": {
          "bar": [
           {
            "error_x": {
             "color": "#2a3f5f"
            },
            "error_y": {
             "color": "#2a3f5f"
            },
            "marker": {
             "line": {
              "color": "#E5ECF6",
              "width": 0.5
             },
             "pattern": {
              "fillmode": "overlay",
              "size": 10,
              "solidity": 0.2
             }
            },
            "type": "bar"
           }
          ],
          "barpolar": [
           {
            "marker": {
             "line": {
              "color": "#E5ECF6",
              "width": 0.5
             },
             "pattern": {
              "fillmode": "overlay",
              "size": 10,
              "solidity": 0.2
             }
            },
            "type": "barpolar"
           }
          ],
          "carpet": [
           {
            "aaxis": {
             "endlinecolor": "#2a3f5f",
             "gridcolor": "white",
             "linecolor": "white",
             "minorgridcolor": "white",
             "startlinecolor": "#2a3f5f"
            },
            "baxis": {
             "endlinecolor": "#2a3f5f",
             "gridcolor": "white",
             "linecolor": "white",
             "minorgridcolor": "white",
             "startlinecolor": "#2a3f5f"
            },
            "type": "carpet"
           }
          ],
          "choropleth": [
           {
            "colorbar": {
             "outlinewidth": 0,
             "ticks": ""
            },
            "type": "choropleth"
           }
          ],
          "contour": [
           {
            "colorbar": {
             "outlinewidth": 0,
             "ticks": ""
            },
            "colorscale": [
             [
              0,
              "#0d0887"
             ],
             [
              0.1111111111111111,
              "#46039f"
             ],
             [
              0.2222222222222222,
              "#7201a8"
             ],
             [
              0.3333333333333333,
              "#9c179e"
             ],
             [
              0.4444444444444444,
              "#bd3786"
             ],
             [
              0.5555555555555556,
              "#d8576b"
             ],
             [
              0.6666666666666666,
              "#ed7953"
             ],
             [
              0.7777777777777778,
              "#fb9f3a"
             ],
             [
              0.8888888888888888,
              "#fdca26"
             ],
             [
              1,
              "#f0f921"
             ]
            ],
            "type": "contour"
           }
          ],
          "contourcarpet": [
           {
            "colorbar": {
             "outlinewidth": 0,
             "ticks": ""
            },
            "type": "contourcarpet"
           }
          ],
          "heatmap": [
           {
            "colorbar": {
             "outlinewidth": 0,
             "ticks": ""
            },
            "colorscale": [
             [
              0,
              "#0d0887"
             ],
             [
              0.1111111111111111,
              "#46039f"
             ],
             [
              0.2222222222222222,
              "#7201a8"
             ],
             [
              0.3333333333333333,
              "#9c179e"
             ],
             [
              0.4444444444444444,
              "#bd3786"
             ],
             [
              0.5555555555555556,
              "#d8576b"
             ],
             [
              0.6666666666666666,
              "#ed7953"
             ],
             [
              0.7777777777777778,
              "#fb9f3a"
             ],
             [
              0.8888888888888888,
              "#fdca26"
             ],
             [
              1,
              "#f0f921"
             ]
            ],
            "type": "heatmap"
           }
          ],
          "heatmapgl": [
           {
            "colorbar": {
             "outlinewidth": 0,
             "ticks": ""
            },
            "colorscale": [
             [
              0,
              "#0d0887"
             ],
             [
              0.1111111111111111,
              "#46039f"
             ],
             [
              0.2222222222222222,
              "#7201a8"
             ],
             [
              0.3333333333333333,
              "#9c179e"
             ],
             [
              0.4444444444444444,
              "#bd3786"
             ],
             [
              0.5555555555555556,
              "#d8576b"
             ],
             [
              0.6666666666666666,
              "#ed7953"
             ],
             [
              0.7777777777777778,
              "#fb9f3a"
             ],
             [
              0.8888888888888888,
              "#fdca26"
             ],
             [
              1,
              "#f0f921"
             ]
            ],
            "type": "heatmapgl"
           }
          ],
          "histogram": [
           {
            "marker": {
             "pattern": {
              "fillmode": "overlay",
              "size": 10,
              "solidity": 0.2
             }
            },
            "type": "histogram"
           }
          ],
          "histogram2d": [
           {
            "colorbar": {
             "outlinewidth": 0,
             "ticks": ""
            },
            "colorscale": [
             [
              0,
              "#0d0887"
             ],
             [
              0.1111111111111111,
              "#46039f"
             ],
             [
              0.2222222222222222,
              "#7201a8"
             ],
             [
              0.3333333333333333,
              "#9c179e"
             ],
             [
              0.4444444444444444,
              "#bd3786"
             ],
             [
              0.5555555555555556,
              "#d8576b"
             ],
             [
              0.6666666666666666,
              "#ed7953"
             ],
             [
              0.7777777777777778,
              "#fb9f3a"
             ],
             [
              0.8888888888888888,
              "#fdca26"
             ],
             [
              1,
              "#f0f921"
             ]
            ],
            "type": "histogram2d"
           }
          ],
          "histogram2dcontour": [
           {
            "colorbar": {
             "outlinewidth": 0,
             "ticks": ""
            },
            "colorscale": [
             [
              0,
              "#0d0887"
             ],
             [
              0.1111111111111111,
              "#46039f"
             ],
             [
              0.2222222222222222,
              "#7201a8"
             ],
             [
              0.3333333333333333,
              "#9c179e"
             ],
             [
              0.4444444444444444,
              "#bd3786"
             ],
             [
              0.5555555555555556,
              "#d8576b"
             ],
             [
              0.6666666666666666,
              "#ed7953"
             ],
             [
              0.7777777777777778,
              "#fb9f3a"
             ],
             [
              0.8888888888888888,
              "#fdca26"
             ],
             [
              1,
              "#f0f921"
             ]
            ],
            "type": "histogram2dcontour"
           }
          ],
          "mesh3d": [
           {
            "colorbar": {
             "outlinewidth": 0,
             "ticks": ""
            },
            "type": "mesh3d"
           }
          ],
          "parcoords": [
           {
            "line": {
             "colorbar": {
              "outlinewidth": 0,
              "ticks": ""
             }
            },
            "type": "parcoords"
           }
          ],
          "pie": [
           {
            "automargin": true,
            "type": "pie"
           }
          ],
          "scatter": [
           {
            "fillpattern": {
             "fillmode": "overlay",
             "size": 10,
             "solidity": 0.2
            },
            "type": "scatter"
           }
          ],
          "scatter3d": [
           {
            "line": {
             "colorbar": {
              "outlinewidth": 0,
              "ticks": ""
             }
            },
            "marker": {
             "colorbar": {
              "outlinewidth": 0,
              "ticks": ""
             }
            },
            "type": "scatter3d"
           }
          ],
          "scattercarpet": [
           {
            "marker": {
             "colorbar": {
              "outlinewidth": 0,
              "ticks": ""
             }
            },
            "type": "scattercarpet"
           }
          ],
          "scattergeo": [
           {
            "marker": {
             "colorbar": {
              "outlinewidth": 0,
              "ticks": ""
             }
            },
            "type": "scattergeo"
           }
          ],
          "scattergl": [
           {
            "marker": {
             "colorbar": {
              "outlinewidth": 0,
              "ticks": ""
             }
            },
            "type": "scattergl"
           }
          ],
          "scattermapbox": [
           {
            "marker": {
             "colorbar": {
              "outlinewidth": 0,
              "ticks": ""
             }
            },
            "type": "scattermapbox"
           }
          ],
          "scatterpolar": [
           {
            "marker": {
             "colorbar": {
              "outlinewidth": 0,
              "ticks": ""
             }
            },
            "type": "scatterpolar"
           }
          ],
          "scatterpolargl": [
           {
            "marker": {
             "colorbar": {
              "outlinewidth": 0,
              "ticks": ""
             }
            },
            "type": "scatterpolargl"
           }
          ],
          "scatterternary": [
           {
            "marker": {
             "colorbar": {
              "outlinewidth": 0,
              "ticks": ""
             }
            },
            "type": "scatterternary"
           }
          ],
          "surface": [
           {
            "colorbar": {
             "outlinewidth": 0,
             "ticks": ""
            },
            "colorscale": [
             [
              0,
              "#0d0887"
             ],
             [
              0.1111111111111111,
              "#46039f"
             ],
             [
              0.2222222222222222,
              "#7201a8"
             ],
             [
              0.3333333333333333,
              "#9c179e"
             ],
             [
              0.4444444444444444,
              "#bd3786"
             ],
             [
              0.5555555555555556,
              "#d8576b"
             ],
             [
              0.6666666666666666,
              "#ed7953"
             ],
             [
              0.7777777777777778,
              "#fb9f3a"
             ],
             [
              0.8888888888888888,
              "#fdca26"
             ],
             [
              1,
              "#f0f921"
             ]
            ],
            "type": "surface"
           }
          ],
          "table": [
           {
            "cells": {
             "fill": {
              "color": "#EBF0F8"
             },
             "line": {
              "color": "white"
             }
            },
            "header": {
             "fill": {
              "color": "#C8D4E3"
             },
             "line": {
              "color": "white"
             }
            },
            "type": "table"
           }
          ]
         },
         "layout": {
          "annotationdefaults": {
           "arrowcolor": "#2a3f5f",
           "arrowhead": 0,
           "arrowwidth": 1
          },
          "autotypenumbers": "strict",
          "coloraxis": {
           "colorbar": {
            "outlinewidth": 0,
            "ticks": ""
           }
          },
          "colorscale": {
           "diverging": [
            [
             0,
             "#8e0152"
            ],
            [
             0.1,
             "#c51b7d"
            ],
            [
             0.2,
             "#de77ae"
            ],
            [
             0.3,
             "#f1b6da"
            ],
            [
             0.4,
             "#fde0ef"
            ],
            [
             0.5,
             "#f7f7f7"
            ],
            [
             0.6,
             "#e6f5d0"
            ],
            [
             0.7,
             "#b8e186"
            ],
            [
             0.8,
             "#7fbc41"
            ],
            [
             0.9,
             "#4d9221"
            ],
            [
             1,
             "#276419"
            ]
           ],
           "sequential": [
            [
             0,
             "#0d0887"
            ],
            [
             0.1111111111111111,
             "#46039f"
            ],
            [
             0.2222222222222222,
             "#7201a8"
            ],
            [
             0.3333333333333333,
             "#9c179e"
            ],
            [
             0.4444444444444444,
             "#bd3786"
            ],
            [
             0.5555555555555556,
             "#d8576b"
            ],
            [
             0.6666666666666666,
             "#ed7953"
            ],
            [
             0.7777777777777778,
             "#fb9f3a"
            ],
            [
             0.8888888888888888,
             "#fdca26"
            ],
            [
             1,
             "#f0f921"
            ]
           ],
           "sequentialminus": [
            [
             0,
             "#0d0887"
            ],
            [
             0.1111111111111111,
             "#46039f"
            ],
            [
             0.2222222222222222,
             "#7201a8"
            ],
            [
             0.3333333333333333,
             "#9c179e"
            ],
            [
             0.4444444444444444,
             "#bd3786"
            ],
            [
             0.5555555555555556,
             "#d8576b"
            ],
            [
             0.6666666666666666,
             "#ed7953"
            ],
            [
             0.7777777777777778,
             "#fb9f3a"
            ],
            [
             0.8888888888888888,
             "#fdca26"
            ],
            [
             1,
             "#f0f921"
            ]
           ]
          },
          "colorway": [
           "#636efa",
           "#EF553B",
           "#00cc96",
           "#ab63fa",
           "#FFA15A",
           "#19d3f3",
           "#FF6692",
           "#B6E880",
           "#FF97FF",
           "#FECB52"
          ],
          "font": {
           "color": "#2a3f5f"
          },
          "geo": {
           "bgcolor": "white",
           "lakecolor": "white",
           "landcolor": "#E5ECF6",
           "showlakes": true,
           "showland": true,
           "subunitcolor": "white"
          },
          "hoverlabel": {
           "align": "left"
          },
          "hovermode": "closest",
          "mapbox": {
           "style": "light"
          },
          "paper_bgcolor": "white",
          "plot_bgcolor": "#E5ECF6",
          "polar": {
           "angularaxis": {
            "gridcolor": "white",
            "linecolor": "white",
            "ticks": ""
           },
           "bgcolor": "#E5ECF6",
           "radialaxis": {
            "gridcolor": "white",
            "linecolor": "white",
            "ticks": ""
           }
          },
          "scene": {
           "xaxis": {
            "backgroundcolor": "#E5ECF6",
            "gridcolor": "white",
            "gridwidth": 2,
            "linecolor": "white",
            "showbackground": true,
            "ticks": "",
            "zerolinecolor": "white"
           },
           "yaxis": {
            "backgroundcolor": "#E5ECF6",
            "gridcolor": "white",
            "gridwidth": 2,
            "linecolor": "white",
            "showbackground": true,
            "ticks": "",
            "zerolinecolor": "white"
           },
           "zaxis": {
            "backgroundcolor": "#E5ECF6",
            "gridcolor": "white",
            "gridwidth": 2,
            "linecolor": "white",
            "showbackground": true,
            "ticks": "",
            "zerolinecolor": "white"
           }
          },
          "shapedefaults": {
           "line": {
            "color": "#2a3f5f"
           }
          },
          "ternary": {
           "aaxis": {
            "gridcolor": "white",
            "linecolor": "white",
            "ticks": ""
           },
           "baxis": {
            "gridcolor": "white",
            "linecolor": "white",
            "ticks": ""
           },
           "bgcolor": "#E5ECF6",
           "caxis": {
            "gridcolor": "white",
            "linecolor": "white",
            "ticks": ""
           }
          },
          "title": {
           "x": 0.05
          },
          "xaxis": {
           "automargin": true,
           "gridcolor": "white",
           "linecolor": "white",
           "ticks": "",
           "title": {
            "standoff": 15
           },
           "zerolinecolor": "white",
           "zerolinewidth": 2
          },
          "yaxis": {
           "automargin": true,
           "gridcolor": "white",
           "linecolor": "white",
           "ticks": "",
           "title": {
            "standoff": 15
           },
           "zerolinecolor": "white",
           "zerolinewidth": 2
          }
         }
        },
        "title": {
         "text": "Histogram species Count by Class"
        },
        "xaxis": {
         "anchor": "y",
         "categoryarray": [
          "Aves",
          "Mammalia",
          "Reptilia",
          "Amphibia",
          "Chondrichthyes",
          "Insecta",
          "Actinopterygii",
          "Anthozoa",
          "Bivalvia",
          "Gastropoda",
          "Arachnida",
          "Ophiurida",
          "Comatulida",
          "Spatangoida",
          "Malacostraca",
          "Branchiopoda",
          "Forcipulatida",
          "Holothuroidea",
          "Clypeasteroida",
          "Euryalida",
          "Cyrtocrinida",
          "Paxillosida",
          "Synallactida",
          "Aspidochirotida",
          "Ophiacanthida",
          "Diadematoida",
          "Velatida",
          "Spinulosida",
          "Valvatida",
          "Arbacioida",
          "Dendrochirotida"
         ],
         "categoryorder": "array",
         "domain": [
          0,
          1
         ],
         "title": {
          "text": "class"
         }
        },
        "yaxis": {
         "anchor": "x",
         "domain": [
          0,
          1
         ],
         "title": {
          "text": "count"
         }
        }
       }
      }
     },
     "metadata": {},
     "output_type": "display_data"
    }
   ],
   "source": [
    "# Species count by Class\n",
    "class_count = dataset['class'].value_counts().reset_index()\n",
    "class_count.columns = ['class', 'count']\n",
    "\n",
    "fig = px.bar(class_count, x='class', y='count', color='class',\n",
    "             title='Histogram species Count by Class')\n",
    "fig.show()\n"
   ]
  },
  {
   "cell_type": "code",
   "execution_count": 26,
   "id": "c1c9b7cd",
   "metadata": {},
   "outputs": [
    {
     "data": {
      "application/vnd.plotly.v1+json": {
       "config": {
        "plotlyServerURL": "https://plot.ly"
       },
       "data": [
        {
         "customdata": [
          [
           "Chordata",
           "Aves"
          ],
          [
           "Chordata",
           "Mammalia"
          ],
          [
           "Chordata",
           "Reptilia"
          ],
          [
           "Chordata",
           "Amphibia"
          ],
          [
           "Chordata",
           "Chondrichthyes"
          ],
          [
           "Chordata",
           "Insecta"
          ],
          [
           "Chordata",
           "Actinopterygii"
          ],
          [
           "Chordata",
           "Anthozoa"
          ],
          [
           "Chordata",
           "Bivalvia"
          ],
          [
           "Chordata",
           "Gastropoda"
          ],
          [
           "Chordata",
           "Arachnida"
          ],
          [
           "Chordata",
           "Ophiurida"
          ],
          [
           "Chordata",
           "Comatulida"
          ],
          [
           "Chordata",
           "Spatangoida"
          ],
          [
           "Chordata",
           "Malacostraca"
          ],
          [
           "Chordata",
           "Branchiopoda"
          ],
          [
           "Chordata",
           "Forcipulatida"
          ],
          [
           "Chordata",
           "Holothuroidea"
          ],
          [
           "Chordata",
           "Clypeasteroida"
          ],
          [
           "Chordata",
           "Euryalida"
          ],
          [
           "Chordata",
           "Cyrtocrinida"
          ],
          [
           "Chordata",
           "Paxillosida"
          ],
          [
           "Chordata",
           "Synallactida"
          ],
          [
           "Chordata",
           "Aspidochirotida"
          ],
          [
           "Chordata",
           "Ophiacanthida"
          ],
          [
           "Chordata",
           "Diadematoida"
          ],
          [
           "Chordata",
           "Velatida"
          ],
          [
           "Chordata",
           "Spinulosida"
          ],
          [
           "Chordata",
           "Valvatida"
          ],
          [
           "Chordata",
           "Arbacioida"
          ],
          [
           "Chordata",
           "Dendrochirotida"
          ],
          [
           "Arthropoda",
           "Aves"
          ],
          [
           "Arthropoda",
           "Mammalia"
          ],
          [
           "Arthropoda",
           "Reptilia"
          ],
          [
           "Arthropoda",
           "Amphibia"
          ],
          [
           "Arthropoda",
           "Chondrichthyes"
          ],
          [
           "Arthropoda",
           "Insecta"
          ],
          [
           "Arthropoda",
           "Actinopterygii"
          ],
          [
           "Arthropoda",
           "Anthozoa"
          ],
          [
           "Arthropoda",
           "Bivalvia"
          ],
          [
           "Arthropoda",
           "Gastropoda"
          ],
          [
           "Arthropoda",
           "Arachnida"
          ],
          [
           "Arthropoda",
           "Ophiurida"
          ],
          [
           "Arthropoda",
           "Comatulida"
          ],
          [
           "Arthropoda",
           "Spatangoida"
          ],
          [
           "Arthropoda",
           "Malacostraca"
          ],
          [
           "Arthropoda",
           "Branchiopoda"
          ],
          [
           "Arthropoda",
           "Forcipulatida"
          ],
          [
           "Arthropoda",
           "Holothuroidea"
          ],
          [
           "Arthropoda",
           "Clypeasteroida"
          ],
          [
           "Arthropoda",
           "Euryalida"
          ],
          [
           "Arthropoda",
           "Cyrtocrinida"
          ],
          [
           "Arthropoda",
           "Paxillosida"
          ],
          [
           "Arthropoda",
           "Synallactida"
          ],
          [
           "Arthropoda",
           "Aspidochirotida"
          ],
          [
           "Arthropoda",
           "Ophiacanthida"
          ],
          [
           "Arthropoda",
           "Diadematoida"
          ],
          [
           "Arthropoda",
           "Velatida"
          ],
          [
           "Arthropoda",
           "Spinulosida"
          ],
          [
           "Arthropoda",
           "Valvatida"
          ],
          [
           "Arthropoda",
           "Arbacioida"
          ],
          [
           "Arthropoda",
           "Dendrochirotida"
          ],
          [
           "Cnidaria",
           "Aves"
          ],
          [
           "Cnidaria",
           "Mammalia"
          ],
          [
           "Cnidaria",
           "Reptilia"
          ],
          [
           "Cnidaria",
           "Amphibia"
          ],
          [
           "Cnidaria",
           "Chondrichthyes"
          ],
          [
           "Cnidaria",
           "Insecta"
          ],
          [
           "Cnidaria",
           "Actinopterygii"
          ],
          [
           "Cnidaria",
           "Anthozoa"
          ],
          [
           "Cnidaria",
           "Bivalvia"
          ],
          [
           "Cnidaria",
           "Gastropoda"
          ],
          [
           "Cnidaria",
           "Arachnida"
          ],
          [
           "Cnidaria",
           "Ophiurida"
          ],
          [
           "Cnidaria",
           "Comatulida"
          ],
          [
           "Cnidaria",
           "Spatangoida"
          ],
          [
           "Cnidaria",
           "Malacostraca"
          ],
          [
           "Cnidaria",
           "Branchiopoda"
          ],
          [
           "Cnidaria",
           "Forcipulatida"
          ],
          [
           "Cnidaria",
           "Holothuroidea"
          ],
          [
           "Cnidaria",
           "Clypeasteroida"
          ],
          [
           "Cnidaria",
           "Euryalida"
          ],
          [
           "Cnidaria",
           "Cyrtocrinida"
          ],
          [
           "Cnidaria",
           "Paxillosida"
          ],
          [
           "Cnidaria",
           "Synallactida"
          ],
          [
           "Cnidaria",
           "Aspidochirotida"
          ],
          [
           "Cnidaria",
           "Ophiacanthida"
          ],
          [
           "Cnidaria",
           "Diadematoida"
          ],
          [
           "Cnidaria",
           "Velatida"
          ],
          [
           "Cnidaria",
           "Spinulosida"
          ],
          [
           "Cnidaria",
           "Valvatida"
          ],
          [
           "Cnidaria",
           "Arbacioida"
          ],
          [
           "Cnidaria",
           "Dendrochirotida"
          ],
          [
           "Mollusca",
           "Aves"
          ],
          [
           "Mollusca",
           "Mammalia"
          ],
          [
           "Mollusca",
           "Reptilia"
          ],
          [
           "Mollusca",
           "Amphibia"
          ],
          [
           "Mollusca",
           "Chondrichthyes"
          ],
          [
           "Mollusca",
           "Insecta"
          ],
          [
           "Mollusca",
           "Actinopterygii"
          ],
          [
           "Mollusca",
           "Anthozoa"
          ],
          [
           "Mollusca",
           "Bivalvia"
          ],
          [
           "Mollusca",
           "Gastropoda"
          ],
          [
           "Mollusca",
           "Arachnida"
          ],
          [
           "Mollusca",
           "Ophiurida"
          ],
          [
           "Mollusca",
           "Comatulida"
          ],
          [
           "Mollusca",
           "Spatangoida"
          ],
          [
           "Mollusca",
           "Malacostraca"
          ],
          [
           "Mollusca",
           "Branchiopoda"
          ],
          [
           "Mollusca",
           "Forcipulatida"
          ],
          [
           "Mollusca",
           "Holothuroidea"
          ],
          [
           "Mollusca",
           "Clypeasteroida"
          ],
          [
           "Mollusca",
           "Euryalida"
          ],
          [
           "Mollusca",
           "Cyrtocrinida"
          ],
          [
           "Mollusca",
           "Paxillosida"
          ],
          [
           "Mollusca",
           "Synallactida"
          ],
          [
           "Mollusca",
           "Aspidochirotida"
          ],
          [
           "Mollusca",
           "Ophiacanthida"
          ],
          [
           "Mollusca",
           "Diadematoida"
          ],
          [
           "Mollusca",
           "Velatida"
          ],
          [
           "Mollusca",
           "Spinulosida"
          ],
          [
           "Mollusca",
           "Valvatida"
          ],
          [
           "Mollusca",
           "Arbacioida"
          ],
          [
           "Mollusca",
           "Dendrochirotida"
          ],
          [
           "Asteroidea",
           "Aves"
          ],
          [
           "Asteroidea",
           "Mammalia"
          ],
          [
           "Asteroidea",
           "Reptilia"
          ],
          [
           "Asteroidea",
           "Amphibia"
          ],
          [
           "Asteroidea",
           "Chondrichthyes"
          ],
          [
           "Asteroidea",
           "Insecta"
          ],
          [
           "Asteroidea",
           "Actinopterygii"
          ],
          [
           "Asteroidea",
           "Anthozoa"
          ],
          [
           "Asteroidea",
           "Bivalvia"
          ],
          [
           "Asteroidea",
           "Gastropoda"
          ],
          [
           "Asteroidea",
           "Arachnida"
          ],
          [
           "Asteroidea",
           "Ophiurida"
          ],
          [
           "Asteroidea",
           "Comatulida"
          ],
          [
           "Asteroidea",
           "Spatangoida"
          ],
          [
           "Asteroidea",
           "Malacostraca"
          ],
          [
           "Asteroidea",
           "Branchiopoda"
          ],
          [
           "Asteroidea",
           "Forcipulatida"
          ],
          [
           "Asteroidea",
           "Holothuroidea"
          ],
          [
           "Asteroidea",
           "Clypeasteroida"
          ],
          [
           "Asteroidea",
           "Euryalida"
          ],
          [
           "Asteroidea",
           "Cyrtocrinida"
          ],
          [
           "Asteroidea",
           "Paxillosida"
          ],
          [
           "Asteroidea",
           "Synallactida"
          ],
          [
           "Asteroidea",
           "Aspidochirotida"
          ],
          [
           "Asteroidea",
           "Ophiacanthida"
          ],
          [
           "Asteroidea",
           "Diadematoida"
          ],
          [
           "Asteroidea",
           "Velatida"
          ],
          [
           "Asteroidea",
           "Spinulosida"
          ],
          [
           "Asteroidea",
           "Valvatida"
          ],
          [
           "Asteroidea",
           "Arbacioida"
          ],
          [
           "Asteroidea",
           "Dendrochirotida"
          ],
          [
           "Echinoidea",
           "Aves"
          ],
          [
           "Echinoidea",
           "Mammalia"
          ],
          [
           "Echinoidea",
           "Reptilia"
          ],
          [
           "Echinoidea",
           "Amphibia"
          ],
          [
           "Echinoidea",
           "Chondrichthyes"
          ],
          [
           "Echinoidea",
           "Insecta"
          ],
          [
           "Echinoidea",
           "Actinopterygii"
          ],
          [
           "Echinoidea",
           "Anthozoa"
          ],
          [
           "Echinoidea",
           "Bivalvia"
          ],
          [
           "Echinoidea",
           "Gastropoda"
          ],
          [
           "Echinoidea",
           "Arachnida"
          ],
          [
           "Echinoidea",
           "Ophiurida"
          ],
          [
           "Echinoidea",
           "Comatulida"
          ],
          [
           "Echinoidea",
           "Spatangoida"
          ],
          [
           "Echinoidea",
           "Malacostraca"
          ],
          [
           "Echinoidea",
           "Branchiopoda"
          ],
          [
           "Echinoidea",
           "Forcipulatida"
          ],
          [
           "Echinoidea",
           "Holothuroidea"
          ],
          [
           "Echinoidea",
           "Clypeasteroida"
          ],
          [
           "Echinoidea",
           "Euryalida"
          ],
          [
           "Echinoidea",
           "Cyrtocrinida"
          ],
          [
           "Echinoidea",
           "Paxillosida"
          ],
          [
           "Echinoidea",
           "Synallactida"
          ],
          [
           "Echinoidea",
           "Aspidochirotida"
          ],
          [
           "Echinoidea",
           "Ophiacanthida"
          ],
          [
           "Echinoidea",
           "Diadematoida"
          ],
          [
           "Echinoidea",
           "Velatida"
          ],
          [
           "Echinoidea",
           "Spinulosida"
          ],
          [
           "Echinoidea",
           "Valvatida"
          ],
          [
           "Echinoidea",
           "Arbacioida"
          ],
          [
           "Echinoidea",
           "Dendrochirotida"
          ],
          [
           "Ophiuroidea",
           "Aves"
          ],
          [
           "Ophiuroidea",
           "Mammalia"
          ],
          [
           "Ophiuroidea",
           "Reptilia"
          ],
          [
           "Ophiuroidea",
           "Amphibia"
          ],
          [
           "Ophiuroidea",
           "Chondrichthyes"
          ],
          [
           "Ophiuroidea",
           "Insecta"
          ],
          [
           "Ophiuroidea",
           "Actinopterygii"
          ],
          [
           "Ophiuroidea",
           "Anthozoa"
          ],
          [
           "Ophiuroidea",
           "Bivalvia"
          ],
          [
           "Ophiuroidea",
           "Gastropoda"
          ],
          [
           "Ophiuroidea",
           "Arachnida"
          ],
          [
           "Ophiuroidea",
           "Ophiurida"
          ],
          [
           "Ophiuroidea",
           "Comatulida"
          ],
          [
           "Ophiuroidea",
           "Spatangoida"
          ],
          [
           "Ophiuroidea",
           "Malacostraca"
          ],
          [
           "Ophiuroidea",
           "Branchiopoda"
          ],
          [
           "Ophiuroidea",
           "Forcipulatida"
          ],
          [
           "Ophiuroidea",
           "Holothuroidea"
          ],
          [
           "Ophiuroidea",
           "Clypeasteroida"
          ],
          [
           "Ophiuroidea",
           "Euryalida"
          ],
          [
           "Ophiuroidea",
           "Cyrtocrinida"
          ],
          [
           "Ophiuroidea",
           "Paxillosida"
          ],
          [
           "Ophiuroidea",
           "Synallactida"
          ],
          [
           "Ophiuroidea",
           "Aspidochirotida"
          ],
          [
           "Ophiuroidea",
           "Ophiacanthida"
          ],
          [
           "Ophiuroidea",
           "Diadematoida"
          ],
          [
           "Ophiuroidea",
           "Velatida"
          ],
          [
           "Ophiuroidea",
           "Spinulosida"
          ],
          [
           "Ophiuroidea",
           "Valvatida"
          ],
          [
           "Ophiuroidea",
           "Arbacioida"
          ],
          [
           "Ophiuroidea",
           "Dendrochirotida"
          ],
          [
           "Holothuroidea",
           "Aves"
          ],
          [
           "Holothuroidea",
           "Mammalia"
          ],
          [
           "Holothuroidea",
           "Reptilia"
          ],
          [
           "Holothuroidea",
           "Amphibia"
          ],
          [
           "Holothuroidea",
           "Chondrichthyes"
          ],
          [
           "Holothuroidea",
           "Insecta"
          ],
          [
           "Holothuroidea",
           "Actinopterygii"
          ],
          [
           "Holothuroidea",
           "Anthozoa"
          ],
          [
           "Holothuroidea",
           "Bivalvia"
          ],
          [
           "Holothuroidea",
           "Gastropoda"
          ],
          [
           "Holothuroidea",
           "Arachnida"
          ],
          [
           "Holothuroidea",
           "Ophiurida"
          ],
          [
           "Holothuroidea",
           "Comatulida"
          ],
          [
           "Holothuroidea",
           "Spatangoida"
          ],
          [
           "Holothuroidea",
           "Malacostraca"
          ],
          [
           "Holothuroidea",
           "Branchiopoda"
          ],
          [
           "Holothuroidea",
           "Forcipulatida"
          ],
          [
           "Holothuroidea",
           "Holothuroidea"
          ],
          [
           "Holothuroidea",
           "Clypeasteroida"
          ],
          [
           "Holothuroidea",
           "Euryalida"
          ],
          [
           "Holothuroidea",
           "Cyrtocrinida"
          ],
          [
           "Holothuroidea",
           "Paxillosida"
          ],
          [
           "Holothuroidea",
           "Synallactida"
          ],
          [
           "Holothuroidea",
           "Aspidochirotida"
          ],
          [
           "Holothuroidea",
           "Ophiacanthida"
          ],
          [
           "Holothuroidea",
           "Diadematoida"
          ],
          [
           "Holothuroidea",
           "Velatida"
          ],
          [
           "Holothuroidea",
           "Spinulosida"
          ],
          [
           "Holothuroidea",
           "Valvatida"
          ],
          [
           "Holothuroidea",
           "Arbacioida"
          ],
          [
           "Holothuroidea",
           "Dendrochirotida"
          ],
          [
           "Crinoidea",
           "Aves"
          ],
          [
           "Crinoidea",
           "Mammalia"
          ],
          [
           "Crinoidea",
           "Reptilia"
          ],
          [
           "Crinoidea",
           "Amphibia"
          ],
          [
           "Crinoidea",
           "Chondrichthyes"
          ],
          [
           "Crinoidea",
           "Insecta"
          ],
          [
           "Crinoidea",
           "Actinopterygii"
          ],
          [
           "Crinoidea",
           "Anthozoa"
          ],
          [
           "Crinoidea",
           "Bivalvia"
          ],
          [
           "Crinoidea",
           "Gastropoda"
          ],
          [
           "Crinoidea",
           "Arachnida"
          ],
          [
           "Crinoidea",
           "Ophiurida"
          ],
          [
           "Crinoidea",
           "Comatulida"
          ],
          [
           "Crinoidea",
           "Spatangoida"
          ],
          [
           "Crinoidea",
           "Malacostraca"
          ],
          [
           "Crinoidea",
           "Branchiopoda"
          ],
          [
           "Crinoidea",
           "Forcipulatida"
          ],
          [
           "Crinoidea",
           "Holothuroidea"
          ],
          [
           "Crinoidea",
           "Clypeasteroida"
          ],
          [
           "Crinoidea",
           "Euryalida"
          ],
          [
           "Crinoidea",
           "Cyrtocrinida"
          ],
          [
           "Crinoidea",
           "Paxillosida"
          ],
          [
           "Crinoidea",
           "Synallactida"
          ],
          [
           "Crinoidea",
           "Aspidochirotida"
          ],
          [
           "Crinoidea",
           "Ophiacanthida"
          ],
          [
           "Crinoidea",
           "Diadematoida"
          ],
          [
           "Crinoidea",
           "Velatida"
          ],
          [
           "Crinoidea",
           "Spinulosida"
          ],
          [
           "Crinoidea",
           "Valvatida"
          ],
          [
           "Crinoidea",
           "Arbacioida"
          ],
          [
           "Crinoidea",
           "Dendrochirotida"
          ],
          [
           "Echinodermata",
           "Aves"
          ],
          [
           "Echinodermata",
           "Mammalia"
          ],
          [
           "Echinodermata",
           "Reptilia"
          ],
          [
           "Echinodermata",
           "Amphibia"
          ],
          [
           "Echinodermata",
           "Chondrichthyes"
          ],
          [
           "Echinodermata",
           "Insecta"
          ],
          [
           "Echinodermata",
           "Actinopterygii"
          ],
          [
           "Echinodermata",
           "Anthozoa"
          ],
          [
           "Echinodermata",
           "Bivalvia"
          ],
          [
           "Echinodermata",
           "Gastropoda"
          ],
          [
           "Echinodermata",
           "Arachnida"
          ],
          [
           "Echinodermata",
           "Ophiurida"
          ],
          [
           "Echinodermata",
           "Comatulida"
          ],
          [
           "Echinodermata",
           "Spatangoida"
          ],
          [
           "Echinodermata",
           "Malacostraca"
          ],
          [
           "Echinodermata",
           "Branchiopoda"
          ],
          [
           "Echinodermata",
           "Forcipulatida"
          ],
          [
           "Echinodermata",
           "Holothuroidea"
          ],
          [
           "Echinodermata",
           "Clypeasteroida"
          ],
          [
           "Echinodermata",
           "Euryalida"
          ],
          [
           "Echinodermata",
           "Cyrtocrinida"
          ],
          [
           "Echinodermata",
           "Paxillosida"
          ],
          [
           "Echinodermata",
           "Synallactida"
          ],
          [
           "Echinodermata",
           "Aspidochirotida"
          ],
          [
           "Echinodermata",
           "Ophiacanthida"
          ],
          [
           "Echinodermata",
           "Diadematoida"
          ],
          [
           "Echinodermata",
           "Velatida"
          ],
          [
           "Echinodermata",
           "Spinulosida"
          ],
          [
           "Echinodermata",
           "Valvatida"
          ],
          [
           "Echinodermata",
           "Arbacioida"
          ],
          [
           "Echinodermata",
           "Dendrochirotida"
          ]
         ],
         "hovertemplate": "Phylum Count=%{x}<br>Class Count=%{y}<br>phylum=%{customdata[0]}<br>class=%{customdata[1]}<extra></extra>",
         "legendgroup": "",
         "marker": {
          "color": "#636efa",
          "symbol": "circle"
         },
         "mode": "markers",
         "name": "",
         "orientation": "v",
         "showlegend": false,
         "type": "scatter",
         "x": [
          318,
          318,
          318,
          318,
          318,
          318,
          318,
          318,
          318,
          318,
          318,
          318,
          318,
          318,
          318,
          318,
          318,
          318,
          318,
          318,
          318,
          318,
          318,
          318,
          318,
          318,
          318,
          318,
          318,
          318,
          318,
          31,
          31,
          31,
          31,
          31,
          31,
          31,
          31,
          31,
          31,
          31,
          31,
          31,
          31,
          31,
          31,
          31,
          31,
          31,
          31,
          31,
          31,
          31,
          31,
          31,
          31,
          31,
          31,
          31,
          31,
          31,
          25,
          25,
          25,
          25,
          25,
          25,
          25,
          25,
          25,
          25,
          25,
          25,
          25,
          25,
          25,
          25,
          25,
          25,
          25,
          25,
          25,
          25,
          25,
          25,
          25,
          25,
          25,
          25,
          25,
          25,
          25,
          7,
          7,
          7,
          7,
          7,
          7,
          7,
          7,
          7,
          7,
          7,
          7,
          7,
          7,
          7,
          7,
          7,
          7,
          7,
          7,
          7,
          7,
          7,
          7,
          7,
          7,
          7,
          7,
          7,
          7,
          7,
          5,
          5,
          5,
          5,
          5,
          5,
          5,
          5,
          5,
          5,
          5,
          5,
          5,
          5,
          5,
          5,
          5,
          5,
          5,
          5,
          5,
          5,
          5,
          5,
          5,
          5,
          5,
          5,
          5,
          5,
          5,
          4,
          4,
          4,
          4,
          4,
          4,
          4,
          4,
          4,
          4,
          4,
          4,
          4,
          4,
          4,
          4,
          4,
          4,
          4,
          4,
          4,
          4,
          4,
          4,
          4,
          4,
          4,
          4,
          4,
          4,
          4,
          4,
          4,
          4,
          4,
          4,
          4,
          4,
          4,
          4,
          4,
          4,
          4,
          4,
          4,
          4,
          4,
          4,
          4,
          4,
          4,
          4,
          4,
          4,
          4,
          4,
          4,
          4,
          4,
          4,
          4,
          4,
          3,
          3,
          3,
          3,
          3,
          3,
          3,
          3,
          3,
          3,
          3,
          3,
          3,
          3,
          3,
          3,
          3,
          3,
          3,
          3,
          3,
          3,
          3,
          3,
          3,
          3,
          3,
          3,
          3,
          3,
          3,
          2,
          2,
          2,
          2,
          2,
          2,
          2,
          2,
          2,
          2,
          2,
          2,
          2,
          2,
          2,
          2,
          2,
          2,
          2,
          2,
          2,
          2,
          2,
          2,
          2,
          2,
          2,
          2,
          2,
          2,
          2,
          1,
          1,
          1,
          1,
          1,
          1,
          1,
          1,
          1,
          1,
          1,
          1,
          1,
          1,
          1,
          1,
          1,
          1,
          1,
          1,
          1,
          1,
          1,
          1,
          1,
          1,
          1,
          1,
          1,
          1,
          1
         ],
         "xaxis": "x",
         "y": [
          93,
          71,
          51,
          39,
          37,
          27,
          27,
          25,
          4,
          3,
          2,
          2,
          1,
          1,
          1,
          1,
          1,
          1,
          1,
          1,
          1,
          1,
          1,
          1,
          1,
          1,
          1,
          1,
          1,
          1,
          1,
          93,
          71,
          51,
          39,
          37,
          27,
          27,
          25,
          4,
          3,
          2,
          2,
          1,
          1,
          1,
          1,
          1,
          1,
          1,
          1,
          1,
          1,
          1,
          1,
          1,
          1,
          1,
          1,
          1,
          1,
          1,
          93,
          71,
          51,
          39,
          37,
          27,
          27,
          25,
          4,
          3,
          2,
          2,
          1,
          1,
          1,
          1,
          1,
          1,
          1,
          1,
          1,
          1,
          1,
          1,
          1,
          1,
          1,
          1,
          1,
          1,
          1,
          93,
          71,
          51,
          39,
          37,
          27,
          27,
          25,
          4,
          3,
          2,
          2,
          1,
          1,
          1,
          1,
          1,
          1,
          1,
          1,
          1,
          1,
          1,
          1,
          1,
          1,
          1,
          1,
          1,
          1,
          1,
          93,
          71,
          51,
          39,
          37,
          27,
          27,
          25,
          4,
          3,
          2,
          2,
          1,
          1,
          1,
          1,
          1,
          1,
          1,
          1,
          1,
          1,
          1,
          1,
          1,
          1,
          1,
          1,
          1,
          1,
          1,
          93,
          71,
          51,
          39,
          37,
          27,
          27,
          25,
          4,
          3,
          2,
          2,
          1,
          1,
          1,
          1,
          1,
          1,
          1,
          1,
          1,
          1,
          1,
          1,
          1,
          1,
          1,
          1,
          1,
          1,
          1,
          93,
          71,
          51,
          39,
          37,
          27,
          27,
          25,
          4,
          3,
          2,
          2,
          1,
          1,
          1,
          1,
          1,
          1,
          1,
          1,
          1,
          1,
          1,
          1,
          1,
          1,
          1,
          1,
          1,
          1,
          1,
          93,
          71,
          51,
          39,
          37,
          27,
          27,
          25,
          4,
          3,
          2,
          2,
          1,
          1,
          1,
          1,
          1,
          1,
          1,
          1,
          1,
          1,
          1,
          1,
          1,
          1,
          1,
          1,
          1,
          1,
          1,
          93,
          71,
          51,
          39,
          37,
          27,
          27,
          25,
          4,
          3,
          2,
          2,
          1,
          1,
          1,
          1,
          1,
          1,
          1,
          1,
          1,
          1,
          1,
          1,
          1,
          1,
          1,
          1,
          1,
          1,
          1,
          93,
          71,
          51,
          39,
          37,
          27,
          27,
          25,
          4,
          3,
          2,
          2,
          1,
          1,
          1,
          1,
          1,
          1,
          1,
          1,
          1,
          1,
          1,
          1,
          1,
          1,
          1,
          1,
          1,
          1,
          1
         ],
         "yaxis": "y"
        }
       ],
       "layout": {
        "legend": {
         "tracegroupgap": 0
        },
        "template": {
         "data": {
          "bar": [
           {
            "error_x": {
             "color": "#2a3f5f"
            },
            "error_y": {
             "color": "#2a3f5f"
            },
            "marker": {
             "line": {
              "color": "#E5ECF6",
              "width": 0.5
             },
             "pattern": {
              "fillmode": "overlay",
              "size": 10,
              "solidity": 0.2
             }
            },
            "type": "bar"
           }
          ],
          "barpolar": [
           {
            "marker": {
             "line": {
              "color": "#E5ECF6",
              "width": 0.5
             },
             "pattern": {
              "fillmode": "overlay",
              "size": 10,
              "solidity": 0.2
             }
            },
            "type": "barpolar"
           }
          ],
          "carpet": [
           {
            "aaxis": {
             "endlinecolor": "#2a3f5f",
             "gridcolor": "white",
             "linecolor": "white",
             "minorgridcolor": "white",
             "startlinecolor": "#2a3f5f"
            },
            "baxis": {
             "endlinecolor": "#2a3f5f",
             "gridcolor": "white",
             "linecolor": "white",
             "minorgridcolor": "white",
             "startlinecolor": "#2a3f5f"
            },
            "type": "carpet"
           }
          ],
          "choropleth": [
           {
            "colorbar": {
             "outlinewidth": 0,
             "ticks": ""
            },
            "type": "choropleth"
           }
          ],
          "contour": [
           {
            "colorbar": {
             "outlinewidth": 0,
             "ticks": ""
            },
            "colorscale": [
             [
              0,
              "#0d0887"
             ],
             [
              0.1111111111111111,
              "#46039f"
             ],
             [
              0.2222222222222222,
              "#7201a8"
             ],
             [
              0.3333333333333333,
              "#9c179e"
             ],
             [
              0.4444444444444444,
              "#bd3786"
             ],
             [
              0.5555555555555556,
              "#d8576b"
             ],
             [
              0.6666666666666666,
              "#ed7953"
             ],
             [
              0.7777777777777778,
              "#fb9f3a"
             ],
             [
              0.8888888888888888,
              "#fdca26"
             ],
             [
              1,
              "#f0f921"
             ]
            ],
            "type": "contour"
           }
          ],
          "contourcarpet": [
           {
            "colorbar": {
             "outlinewidth": 0,
             "ticks": ""
            },
            "type": "contourcarpet"
           }
          ],
          "heatmap": [
           {
            "colorbar": {
             "outlinewidth": 0,
             "ticks": ""
            },
            "colorscale": [
             [
              0,
              "#0d0887"
             ],
             [
              0.1111111111111111,
              "#46039f"
             ],
             [
              0.2222222222222222,
              "#7201a8"
             ],
             [
              0.3333333333333333,
              "#9c179e"
             ],
             [
              0.4444444444444444,
              "#bd3786"
             ],
             [
              0.5555555555555556,
              "#d8576b"
             ],
             [
              0.6666666666666666,
              "#ed7953"
             ],
             [
              0.7777777777777778,
              "#fb9f3a"
             ],
             [
              0.8888888888888888,
              "#fdca26"
             ],
             [
              1,
              "#f0f921"
             ]
            ],
            "type": "heatmap"
           }
          ],
          "heatmapgl": [
           {
            "colorbar": {
             "outlinewidth": 0,
             "ticks": ""
            },
            "colorscale": [
             [
              0,
              "#0d0887"
             ],
             [
              0.1111111111111111,
              "#46039f"
             ],
             [
              0.2222222222222222,
              "#7201a8"
             ],
             [
              0.3333333333333333,
              "#9c179e"
             ],
             [
              0.4444444444444444,
              "#bd3786"
             ],
             [
              0.5555555555555556,
              "#d8576b"
             ],
             [
              0.6666666666666666,
              "#ed7953"
             ],
             [
              0.7777777777777778,
              "#fb9f3a"
             ],
             [
              0.8888888888888888,
              "#fdca26"
             ],
             [
              1,
              "#f0f921"
             ]
            ],
            "type": "heatmapgl"
           }
          ],
          "histogram": [
           {
            "marker": {
             "pattern": {
              "fillmode": "overlay",
              "size": 10,
              "solidity": 0.2
             }
            },
            "type": "histogram"
           }
          ],
          "histogram2d": [
           {
            "colorbar": {
             "outlinewidth": 0,
             "ticks": ""
            },
            "colorscale": [
             [
              0,
              "#0d0887"
             ],
             [
              0.1111111111111111,
              "#46039f"
             ],
             [
              0.2222222222222222,
              "#7201a8"
             ],
             [
              0.3333333333333333,
              "#9c179e"
             ],
             [
              0.4444444444444444,
              "#bd3786"
             ],
             [
              0.5555555555555556,
              "#d8576b"
             ],
             [
              0.6666666666666666,
              "#ed7953"
             ],
             [
              0.7777777777777778,
              "#fb9f3a"
             ],
             [
              0.8888888888888888,
              "#fdca26"
             ],
             [
              1,
              "#f0f921"
             ]
            ],
            "type": "histogram2d"
           }
          ],
          "histogram2dcontour": [
           {
            "colorbar": {
             "outlinewidth": 0,
             "ticks": ""
            },
            "colorscale": [
             [
              0,
              "#0d0887"
             ],
             [
              0.1111111111111111,
              "#46039f"
             ],
             [
              0.2222222222222222,
              "#7201a8"
             ],
             [
              0.3333333333333333,
              "#9c179e"
             ],
             [
              0.4444444444444444,
              "#bd3786"
             ],
             [
              0.5555555555555556,
              "#d8576b"
             ],
             [
              0.6666666666666666,
              "#ed7953"
             ],
             [
              0.7777777777777778,
              "#fb9f3a"
             ],
             [
              0.8888888888888888,
              "#fdca26"
             ],
             [
              1,
              "#f0f921"
             ]
            ],
            "type": "histogram2dcontour"
           }
          ],
          "mesh3d": [
           {
            "colorbar": {
             "outlinewidth": 0,
             "ticks": ""
            },
            "type": "mesh3d"
           }
          ],
          "parcoords": [
           {
            "line": {
             "colorbar": {
              "outlinewidth": 0,
              "ticks": ""
             }
            },
            "type": "parcoords"
           }
          ],
          "pie": [
           {
            "automargin": true,
            "type": "pie"
           }
          ],
          "scatter": [
           {
            "fillpattern": {
             "fillmode": "overlay",
             "size": 10,
             "solidity": 0.2
            },
            "type": "scatter"
           }
          ],
          "scatter3d": [
           {
            "line": {
             "colorbar": {
              "outlinewidth": 0,
              "ticks": ""
             }
            },
            "marker": {
             "colorbar": {
              "outlinewidth": 0,
              "ticks": ""
             }
            },
            "type": "scatter3d"
           }
          ],
          "scattercarpet": [
           {
            "marker": {
             "colorbar": {
              "outlinewidth": 0,
              "ticks": ""
             }
            },
            "type": "scattercarpet"
           }
          ],
          "scattergeo": [
           {
            "marker": {
             "colorbar": {
              "outlinewidth": 0,
              "ticks": ""
             }
            },
            "type": "scattergeo"
           }
          ],
          "scattergl": [
           {
            "marker": {
             "colorbar": {
              "outlinewidth": 0,
              "ticks": ""
             }
            },
            "type": "scattergl"
           }
          ],
          "scattermapbox": [
           {
            "marker": {
             "colorbar": {
              "outlinewidth": 0,
              "ticks": ""
             }
            },
            "type": "scattermapbox"
           }
          ],
          "scatterpolar": [
           {
            "marker": {
             "colorbar": {
              "outlinewidth": 0,
              "ticks": ""
             }
            },
            "type": "scatterpolar"
           }
          ],
          "scatterpolargl": [
           {
            "marker": {
             "colorbar": {
              "outlinewidth": 0,
              "ticks": ""
             }
            },
            "type": "scatterpolargl"
           }
          ],
          "scatterternary": [
           {
            "marker": {
             "colorbar": {
              "outlinewidth": 0,
              "ticks": ""
             }
            },
            "type": "scatterternary"
           }
          ],
          "surface": [
           {
            "colorbar": {
             "outlinewidth": 0,
             "ticks": ""
            },
            "colorscale": [
             [
              0,
              "#0d0887"
             ],
             [
              0.1111111111111111,
              "#46039f"
             ],
             [
              0.2222222222222222,
              "#7201a8"
             ],
             [
              0.3333333333333333,
              "#9c179e"
             ],
             [
              0.4444444444444444,
              "#bd3786"
             ],
             [
              0.5555555555555556,
              "#d8576b"
             ],
             [
              0.6666666666666666,
              "#ed7953"
             ],
             [
              0.7777777777777778,
              "#fb9f3a"
             ],
             [
              0.8888888888888888,
              "#fdca26"
             ],
             [
              1,
              "#f0f921"
             ]
            ],
            "type": "surface"
           }
          ],
          "table": [
           {
            "cells": {
             "fill": {
              "color": "#EBF0F8"
             },
             "line": {
              "color": "white"
             }
            },
            "header": {
             "fill": {
              "color": "#C8D4E3"
             },
             "line": {
              "color": "white"
             }
            },
            "type": "table"
           }
          ]
         },
         "layout": {
          "annotationdefaults": {
           "arrowcolor": "#2a3f5f",
           "arrowhead": 0,
           "arrowwidth": 1
          },
          "autotypenumbers": "strict",
          "coloraxis": {
           "colorbar": {
            "outlinewidth": 0,
            "ticks": ""
           }
          },
          "colorscale": {
           "diverging": [
            [
             0,
             "#8e0152"
            ],
            [
             0.1,
             "#c51b7d"
            ],
            [
             0.2,
             "#de77ae"
            ],
            [
             0.3,
             "#f1b6da"
            ],
            [
             0.4,
             "#fde0ef"
            ],
            [
             0.5,
             "#f7f7f7"
            ],
            [
             0.6,
             "#e6f5d0"
            ],
            [
             0.7,
             "#b8e186"
            ],
            [
             0.8,
             "#7fbc41"
            ],
            [
             0.9,
             "#4d9221"
            ],
            [
             1,
             "#276419"
            ]
           ],
           "sequential": [
            [
             0,
             "#0d0887"
            ],
            [
             0.1111111111111111,
             "#46039f"
            ],
            [
             0.2222222222222222,
             "#7201a8"
            ],
            [
             0.3333333333333333,
             "#9c179e"
            ],
            [
             0.4444444444444444,
             "#bd3786"
            ],
            [
             0.5555555555555556,
             "#d8576b"
            ],
            [
             0.6666666666666666,
             "#ed7953"
            ],
            [
             0.7777777777777778,
             "#fb9f3a"
            ],
            [
             0.8888888888888888,
             "#fdca26"
            ],
            [
             1,
             "#f0f921"
            ]
           ],
           "sequentialminus": [
            [
             0,
             "#0d0887"
            ],
            [
             0.1111111111111111,
             "#46039f"
            ],
            [
             0.2222222222222222,
             "#7201a8"
            ],
            [
             0.3333333333333333,
             "#9c179e"
            ],
            [
             0.4444444444444444,
             "#bd3786"
            ],
            [
             0.5555555555555556,
             "#d8576b"
            ],
            [
             0.6666666666666666,
             "#ed7953"
            ],
            [
             0.7777777777777778,
             "#fb9f3a"
            ],
            [
             0.8888888888888888,
             "#fdca26"
            ],
            [
             1,
             "#f0f921"
            ]
           ]
          },
          "colorway": [
           "#636efa",
           "#EF553B",
           "#00cc96",
           "#ab63fa",
           "#FFA15A",
           "#19d3f3",
           "#FF6692",
           "#B6E880",
           "#FF97FF",
           "#FECB52"
          ],
          "font": {
           "color": "#2a3f5f"
          },
          "geo": {
           "bgcolor": "white",
           "lakecolor": "white",
           "landcolor": "#E5ECF6",
           "showlakes": true,
           "showland": true,
           "subunitcolor": "white"
          },
          "hoverlabel": {
           "align": "left"
          },
          "hovermode": "closest",
          "mapbox": {
           "style": "light"
          },
          "paper_bgcolor": "white",
          "plot_bgcolor": "#E5ECF6",
          "polar": {
           "angularaxis": {
            "gridcolor": "white",
            "linecolor": "white",
            "ticks": ""
           },
           "bgcolor": "#E5ECF6",
           "radialaxis": {
            "gridcolor": "white",
            "linecolor": "white",
            "ticks": ""
           }
          },
          "scene": {
           "xaxis": {
            "backgroundcolor": "#E5ECF6",
            "gridcolor": "white",
            "gridwidth": 2,
            "linecolor": "white",
            "showbackground": true,
            "ticks": "",
            "zerolinecolor": "white"
           },
           "yaxis": {
            "backgroundcolor": "#E5ECF6",
            "gridcolor": "white",
            "gridwidth": 2,
            "linecolor": "white",
            "showbackground": true,
            "ticks": "",
            "zerolinecolor": "white"
           },
           "zaxis": {
            "backgroundcolor": "#E5ECF6",
            "gridcolor": "white",
            "gridwidth": 2,
            "linecolor": "white",
            "showbackground": true,
            "ticks": "",
            "zerolinecolor": "white"
           }
          },
          "shapedefaults": {
           "line": {
            "color": "#2a3f5f"
           }
          },
          "ternary": {
           "aaxis": {
            "gridcolor": "white",
            "linecolor": "white",
            "ticks": ""
           },
           "baxis": {
            "gridcolor": "white",
            "linecolor": "white",
            "ticks": ""
           },
           "bgcolor": "#E5ECF6",
           "caxis": {
            "gridcolor": "white",
            "linecolor": "white",
            "ticks": ""
           }
          },
          "title": {
           "x": 0.05
          },
          "xaxis": {
           "automargin": true,
           "gridcolor": "white",
           "linecolor": "white",
           "ticks": "",
           "title": {
            "standoff": 15
           },
           "zerolinecolor": "white",
           "zerolinewidth": 2
          },
          "yaxis": {
           "automargin": true,
           "gridcolor": "white",
           "linecolor": "white",
           "ticks": "",
           "title": {
            "standoff": 15
           },
           "zerolinecolor": "white",
           "zerolinewidth": 2
          }
         }
        },
        "title": {
         "text": "Scatter Plot of Species Count by Class and Phylum"
        },
        "xaxis": {
         "anchor": "y",
         "domain": [
          0,
          1
         ],
         "title": {
          "text": "Phylum Count"
         }
        },
        "yaxis": {
         "anchor": "x",
         "domain": [
          0,
          1
         ],
         "title": {
          "text": "Class Count"
         }
        }
       }
      }
     },
     "metadata": {},
     "output_type": "display_data"
    }
   ],
   "source": [
    "import plotly.express as px\n",
    "\n",
    "\n",
    "phylum_count = dataset['phylum'].value_counts().reset_index()\n",
    "phylum_count.columns = ['phylum', 'phylum_count']\n",
    "\n",
    "\n",
    "class_count = dataset['class'].value_counts().reset_index()\n",
    "class_count.columns = ['class', 'class_count']\n",
    "\n",
    "\n",
    "scatter_data = phylum_count.merge(class_count, how='cross')  \n",
    "\n",
    "\n",
    "fig = px.scatter(scatter_data, x='phylum_count', y='class_count',\n",
    "                 title='Scatter Plot of Species Count by Class and Phylum',\n",
    "                 labels={'phylum_count': 'Phylum Count', 'class_count': 'Class Count'},\n",
    "                 hover_data=['phylum', 'class'])  \n",
    "fig.show()\n"
   ]
  },
  {
   "cell_type": "code",
   "execution_count": 27,
   "id": "810e689c",
   "metadata": {},
   "outputs": [
    {
     "data": {
      "application/vnd.plotly.v1+json": {
       "config": {
        "plotlyServerURL": "https://plot.ly"
       },
       "data": [
        {
         "alignmentgroup": "True",
         "hovertemplate": "Phylum=%{x}<br>Species Count=%{y}<extra></extra>",
         "legendgroup": "Chordata",
         "marker": {
          "color": "#636efa",
          "pattern": {
           "shape": ""
          }
         },
         "name": "Chordata",
         "offsetgroup": "Chordata",
         "orientation": "v",
         "showlegend": true,
         "textposition": "auto",
         "type": "bar",
         "x": [
          "Chordata"
         ],
         "xaxis": "x",
         "y": [
          318
         ],
         "yaxis": "y"
        },
        {
         "alignmentgroup": "True",
         "hovertemplate": "Phylum=%{x}<br>Species Count=%{y}<extra></extra>",
         "legendgroup": "Arthropoda",
         "marker": {
          "color": "#EF553B",
          "pattern": {
           "shape": ""
          }
         },
         "name": "Arthropoda",
         "offsetgroup": "Arthropoda",
         "orientation": "v",
         "showlegend": true,
         "textposition": "auto",
         "type": "bar",
         "x": [
          "Arthropoda"
         ],
         "xaxis": "x",
         "y": [
          31
         ],
         "yaxis": "y"
        },
        {
         "alignmentgroup": "True",
         "hovertemplate": "Phylum=%{x}<br>Species Count=%{y}<extra></extra>",
         "legendgroup": "Cnidaria",
         "marker": {
          "color": "#00cc96",
          "pattern": {
           "shape": ""
          }
         },
         "name": "Cnidaria",
         "offsetgroup": "Cnidaria",
         "orientation": "v",
         "showlegend": true,
         "textposition": "auto",
         "type": "bar",
         "x": [
          "Cnidaria"
         ],
         "xaxis": "x",
         "y": [
          25
         ],
         "yaxis": "y"
        },
        {
         "alignmentgroup": "True",
         "hovertemplate": "Phylum=%{x}<br>Species Count=%{y}<extra></extra>",
         "legendgroup": "Mollusca",
         "marker": {
          "color": "#ab63fa",
          "pattern": {
           "shape": ""
          }
         },
         "name": "Mollusca",
         "offsetgroup": "Mollusca",
         "orientation": "v",
         "showlegend": true,
         "textposition": "auto",
         "type": "bar",
         "x": [
          "Mollusca"
         ],
         "xaxis": "x",
         "y": [
          7
         ],
         "yaxis": "y"
        },
        {
         "alignmentgroup": "True",
         "hovertemplate": "Phylum=%{x}<br>Species Count=%{y}<extra></extra>",
         "legendgroup": "Asteroidea",
         "marker": {
          "color": "#FFA15A",
          "pattern": {
           "shape": ""
          }
         },
         "name": "Asteroidea",
         "offsetgroup": "Asteroidea",
         "orientation": "v",
         "showlegend": true,
         "textposition": "auto",
         "type": "bar",
         "x": [
          "Asteroidea"
         ],
         "xaxis": "x",
         "y": [
          5
         ],
         "yaxis": "y"
        },
        {
         "alignmentgroup": "True",
         "hovertemplate": "Phylum=%{x}<br>Species Count=%{y}<extra></extra>",
         "legendgroup": "Echinoidea",
         "marker": {
          "color": "#19d3f3",
          "pattern": {
           "shape": ""
          }
         },
         "name": "Echinoidea",
         "offsetgroup": "Echinoidea",
         "orientation": "v",
         "showlegend": true,
         "textposition": "auto",
         "type": "bar",
         "x": [
          "Echinoidea"
         ],
         "xaxis": "x",
         "y": [
          4
         ],
         "yaxis": "y"
        },
        {
         "alignmentgroup": "True",
         "hovertemplate": "Phylum=%{x}<br>Species Count=%{y}<extra></extra>",
         "legendgroup": "Ophiuroidea",
         "marker": {
          "color": "#FF6692",
          "pattern": {
           "shape": ""
          }
         },
         "name": "Ophiuroidea",
         "offsetgroup": "Ophiuroidea",
         "orientation": "v",
         "showlegend": true,
         "textposition": "auto",
         "type": "bar",
         "x": [
          "Ophiuroidea"
         ],
         "xaxis": "x",
         "y": [
          4
         ],
         "yaxis": "y"
        },
        {
         "alignmentgroup": "True",
         "hovertemplate": "Phylum=%{x}<br>Species Count=%{y}<extra></extra>",
         "legendgroup": "Holothuroidea",
         "marker": {
          "color": "#B6E880",
          "pattern": {
           "shape": ""
          }
         },
         "name": "Holothuroidea",
         "offsetgroup": "Holothuroidea",
         "orientation": "v",
         "showlegend": true,
         "textposition": "auto",
         "type": "bar",
         "x": [
          "Holothuroidea"
         ],
         "xaxis": "x",
         "y": [
          3
         ],
         "yaxis": "y"
        },
        {
         "alignmentgroup": "True",
         "hovertemplate": "Phylum=%{x}<br>Species Count=%{y}<extra></extra>",
         "legendgroup": "Crinoidea",
         "marker": {
          "color": "#FF97FF",
          "pattern": {
           "shape": ""
          }
         },
         "name": "Crinoidea",
         "offsetgroup": "Crinoidea",
         "orientation": "v",
         "showlegend": true,
         "textposition": "auto",
         "type": "bar",
         "x": [
          "Crinoidea"
         ],
         "xaxis": "x",
         "y": [
          2
         ],
         "yaxis": "y"
        },
        {
         "alignmentgroup": "True",
         "hovertemplate": "Phylum=%{x}<br>Species Count=%{y}<extra></extra>",
         "legendgroup": "Echinodermata",
         "marker": {
          "color": "#FECB52",
          "pattern": {
           "shape": ""
          }
         },
         "name": "Echinodermata",
         "offsetgroup": "Echinodermata",
         "orientation": "v",
         "showlegend": true,
         "textposition": "auto",
         "type": "bar",
         "x": [
          "Echinodermata"
         ],
         "xaxis": "x",
         "y": [
          1
         ],
         "yaxis": "y"
        }
       ],
       "layout": {
        "barmode": "relative",
        "legend": {
         "title": {
          "text": "Phylum"
         },
         "tracegroupgap": 0
        },
        "template": {
         "data": {
          "bar": [
           {
            "error_x": {
             "color": "#2a3f5f"
            },
            "error_y": {
             "color": "#2a3f5f"
            },
            "marker": {
             "line": {
              "color": "#E5ECF6",
              "width": 0.5
             },
             "pattern": {
              "fillmode": "overlay",
              "size": 10,
              "solidity": 0.2
             }
            },
            "type": "bar"
           }
          ],
          "barpolar": [
           {
            "marker": {
             "line": {
              "color": "#E5ECF6",
              "width": 0.5
             },
             "pattern": {
              "fillmode": "overlay",
              "size": 10,
              "solidity": 0.2
             }
            },
            "type": "barpolar"
           }
          ],
          "carpet": [
           {
            "aaxis": {
             "endlinecolor": "#2a3f5f",
             "gridcolor": "white",
             "linecolor": "white",
             "minorgridcolor": "white",
             "startlinecolor": "#2a3f5f"
            },
            "baxis": {
             "endlinecolor": "#2a3f5f",
             "gridcolor": "white",
             "linecolor": "white",
             "minorgridcolor": "white",
             "startlinecolor": "#2a3f5f"
            },
            "type": "carpet"
           }
          ],
          "choropleth": [
           {
            "colorbar": {
             "outlinewidth": 0,
             "ticks": ""
            },
            "type": "choropleth"
           }
          ],
          "contour": [
           {
            "colorbar": {
             "outlinewidth": 0,
             "ticks": ""
            },
            "colorscale": [
             [
              0,
              "#0d0887"
             ],
             [
              0.1111111111111111,
              "#46039f"
             ],
             [
              0.2222222222222222,
              "#7201a8"
             ],
             [
              0.3333333333333333,
              "#9c179e"
             ],
             [
              0.4444444444444444,
              "#bd3786"
             ],
             [
              0.5555555555555556,
              "#d8576b"
             ],
             [
              0.6666666666666666,
              "#ed7953"
             ],
             [
              0.7777777777777778,
              "#fb9f3a"
             ],
             [
              0.8888888888888888,
              "#fdca26"
             ],
             [
              1,
              "#f0f921"
             ]
            ],
            "type": "contour"
           }
          ],
          "contourcarpet": [
           {
            "colorbar": {
             "outlinewidth": 0,
             "ticks": ""
            },
            "type": "contourcarpet"
           }
          ],
          "heatmap": [
           {
            "colorbar": {
             "outlinewidth": 0,
             "ticks": ""
            },
            "colorscale": [
             [
              0,
              "#0d0887"
             ],
             [
              0.1111111111111111,
              "#46039f"
             ],
             [
              0.2222222222222222,
              "#7201a8"
             ],
             [
              0.3333333333333333,
              "#9c179e"
             ],
             [
              0.4444444444444444,
              "#bd3786"
             ],
             [
              0.5555555555555556,
              "#d8576b"
             ],
             [
              0.6666666666666666,
              "#ed7953"
             ],
             [
              0.7777777777777778,
              "#fb9f3a"
             ],
             [
              0.8888888888888888,
              "#fdca26"
             ],
             [
              1,
              "#f0f921"
             ]
            ],
            "type": "heatmap"
           }
          ],
          "heatmapgl": [
           {
            "colorbar": {
             "outlinewidth": 0,
             "ticks": ""
            },
            "colorscale": [
             [
              0,
              "#0d0887"
             ],
             [
              0.1111111111111111,
              "#46039f"
             ],
             [
              0.2222222222222222,
              "#7201a8"
             ],
             [
              0.3333333333333333,
              "#9c179e"
             ],
             [
              0.4444444444444444,
              "#bd3786"
             ],
             [
              0.5555555555555556,
              "#d8576b"
             ],
             [
              0.6666666666666666,
              "#ed7953"
             ],
             [
              0.7777777777777778,
              "#fb9f3a"
             ],
             [
              0.8888888888888888,
              "#fdca26"
             ],
             [
              1,
              "#f0f921"
             ]
            ],
            "type": "heatmapgl"
           }
          ],
          "histogram": [
           {
            "marker": {
             "pattern": {
              "fillmode": "overlay",
              "size": 10,
              "solidity": 0.2
             }
            },
            "type": "histogram"
           }
          ],
          "histogram2d": [
           {
            "colorbar": {
             "outlinewidth": 0,
             "ticks": ""
            },
            "colorscale": [
             [
              0,
              "#0d0887"
             ],
             [
              0.1111111111111111,
              "#46039f"
             ],
             [
              0.2222222222222222,
              "#7201a8"
             ],
             [
              0.3333333333333333,
              "#9c179e"
             ],
             [
              0.4444444444444444,
              "#bd3786"
             ],
             [
              0.5555555555555556,
              "#d8576b"
             ],
             [
              0.6666666666666666,
              "#ed7953"
             ],
             [
              0.7777777777777778,
              "#fb9f3a"
             ],
             [
              0.8888888888888888,
              "#fdca26"
             ],
             [
              1,
              "#f0f921"
             ]
            ],
            "type": "histogram2d"
           }
          ],
          "histogram2dcontour": [
           {
            "colorbar": {
             "outlinewidth": 0,
             "ticks": ""
            },
            "colorscale": [
             [
              0,
              "#0d0887"
             ],
             [
              0.1111111111111111,
              "#46039f"
             ],
             [
              0.2222222222222222,
              "#7201a8"
             ],
             [
              0.3333333333333333,
              "#9c179e"
             ],
             [
              0.4444444444444444,
              "#bd3786"
             ],
             [
              0.5555555555555556,
              "#d8576b"
             ],
             [
              0.6666666666666666,
              "#ed7953"
             ],
             [
              0.7777777777777778,
              "#fb9f3a"
             ],
             [
              0.8888888888888888,
              "#fdca26"
             ],
             [
              1,
              "#f0f921"
             ]
            ],
            "type": "histogram2dcontour"
           }
          ],
          "mesh3d": [
           {
            "colorbar": {
             "outlinewidth": 0,
             "ticks": ""
            },
            "type": "mesh3d"
           }
          ],
          "parcoords": [
           {
            "line": {
             "colorbar": {
              "outlinewidth": 0,
              "ticks": ""
             }
            },
            "type": "parcoords"
           }
          ],
          "pie": [
           {
            "automargin": true,
            "type": "pie"
           }
          ],
          "scatter": [
           {
            "fillpattern": {
             "fillmode": "overlay",
             "size": 10,
             "solidity": 0.2
            },
            "type": "scatter"
           }
          ],
          "scatter3d": [
           {
            "line": {
             "colorbar": {
              "outlinewidth": 0,
              "ticks": ""
             }
            },
            "marker": {
             "colorbar": {
              "outlinewidth": 0,
              "ticks": ""
             }
            },
            "type": "scatter3d"
           }
          ],
          "scattercarpet": [
           {
            "marker": {
             "colorbar": {
              "outlinewidth": 0,
              "ticks": ""
             }
            },
            "type": "scattercarpet"
           }
          ],
          "scattergeo": [
           {
            "marker": {
             "colorbar": {
              "outlinewidth": 0,
              "ticks": ""
             }
            },
            "type": "scattergeo"
           }
          ],
          "scattergl": [
           {
            "marker": {
             "colorbar": {
              "outlinewidth": 0,
              "ticks": ""
             }
            },
            "type": "scattergl"
           }
          ],
          "scattermapbox": [
           {
            "marker": {
             "colorbar": {
              "outlinewidth": 0,
              "ticks": ""
             }
            },
            "type": "scattermapbox"
           }
          ],
          "scatterpolar": [
           {
            "marker": {
             "colorbar": {
              "outlinewidth": 0,
              "ticks": ""
             }
            },
            "type": "scatterpolar"
           }
          ],
          "scatterpolargl": [
           {
            "marker": {
             "colorbar": {
              "outlinewidth": 0,
              "ticks": ""
             }
            },
            "type": "scatterpolargl"
           }
          ],
          "scatterternary": [
           {
            "marker": {
             "colorbar": {
              "outlinewidth": 0,
              "ticks": ""
             }
            },
            "type": "scatterternary"
           }
          ],
          "surface": [
           {
            "colorbar": {
             "outlinewidth": 0,
             "ticks": ""
            },
            "colorscale": [
             [
              0,
              "#0d0887"
             ],
             [
              0.1111111111111111,
              "#46039f"
             ],
             [
              0.2222222222222222,
              "#7201a8"
             ],
             [
              0.3333333333333333,
              "#9c179e"
             ],
             [
              0.4444444444444444,
              "#bd3786"
             ],
             [
              0.5555555555555556,
              "#d8576b"
             ],
             [
              0.6666666666666666,
              "#ed7953"
             ],
             [
              0.7777777777777778,
              "#fb9f3a"
             ],
             [
              0.8888888888888888,
              "#fdca26"
             ],
             [
              1,
              "#f0f921"
             ]
            ],
            "type": "surface"
           }
          ],
          "table": [
           {
            "cells": {
             "fill": {
              "color": "#EBF0F8"
             },
             "line": {
              "color": "white"
             }
            },
            "header": {
             "fill": {
              "color": "#C8D4E3"
             },
             "line": {
              "color": "white"
             }
            },
            "type": "table"
           }
          ]
         },
         "layout": {
          "annotationdefaults": {
           "arrowcolor": "#2a3f5f",
           "arrowhead": 0,
           "arrowwidth": 1
          },
          "autotypenumbers": "strict",
          "coloraxis": {
           "colorbar": {
            "outlinewidth": 0,
            "ticks": ""
           }
          },
          "colorscale": {
           "diverging": [
            [
             0,
             "#8e0152"
            ],
            [
             0.1,
             "#c51b7d"
            ],
            [
             0.2,
             "#de77ae"
            ],
            [
             0.3,
             "#f1b6da"
            ],
            [
             0.4,
             "#fde0ef"
            ],
            [
             0.5,
             "#f7f7f7"
            ],
            [
             0.6,
             "#e6f5d0"
            ],
            [
             0.7,
             "#b8e186"
            ],
            [
             0.8,
             "#7fbc41"
            ],
            [
             0.9,
             "#4d9221"
            ],
            [
             1,
             "#276419"
            ]
           ],
           "sequential": [
            [
             0,
             "#0d0887"
            ],
            [
             0.1111111111111111,
             "#46039f"
            ],
            [
             0.2222222222222222,
             "#7201a8"
            ],
            [
             0.3333333333333333,
             "#9c179e"
            ],
            [
             0.4444444444444444,
             "#bd3786"
            ],
            [
             0.5555555555555556,
             "#d8576b"
            ],
            [
             0.6666666666666666,
             "#ed7953"
            ],
            [
             0.7777777777777778,
             "#fb9f3a"
            ],
            [
             0.8888888888888888,
             "#fdca26"
            ],
            [
             1,
             "#f0f921"
            ]
           ],
           "sequentialminus": [
            [
             0,
             "#0d0887"
            ],
            [
             0.1111111111111111,
             "#46039f"
            ],
            [
             0.2222222222222222,
             "#7201a8"
            ],
            [
             0.3333333333333333,
             "#9c179e"
            ],
            [
             0.4444444444444444,
             "#bd3786"
            ],
            [
             0.5555555555555556,
             "#d8576b"
            ],
            [
             0.6666666666666666,
             "#ed7953"
            ],
            [
             0.7777777777777778,
             "#fb9f3a"
            ],
            [
             0.8888888888888888,
             "#fdca26"
            ],
            [
             1,
             "#f0f921"
            ]
           ]
          },
          "colorway": [
           "#636efa",
           "#EF553B",
           "#00cc96",
           "#ab63fa",
           "#FFA15A",
           "#19d3f3",
           "#FF6692",
           "#B6E880",
           "#FF97FF",
           "#FECB52"
          ],
          "font": {
           "color": "#2a3f5f"
          },
          "geo": {
           "bgcolor": "white",
           "lakecolor": "white",
           "landcolor": "#E5ECF6",
           "showlakes": true,
           "showland": true,
           "subunitcolor": "white"
          },
          "hoverlabel": {
           "align": "left"
          },
          "hovermode": "closest",
          "mapbox": {
           "style": "light"
          },
          "paper_bgcolor": "white",
          "plot_bgcolor": "#E5ECF6",
          "polar": {
           "angularaxis": {
            "gridcolor": "white",
            "linecolor": "white",
            "ticks": ""
           },
           "bgcolor": "#E5ECF6",
           "radialaxis": {
            "gridcolor": "white",
            "linecolor": "white",
            "ticks": ""
           }
          },
          "scene": {
           "xaxis": {
            "backgroundcolor": "#E5ECF6",
            "gridcolor": "white",
            "gridwidth": 2,
            "linecolor": "white",
            "showbackground": true,
            "ticks": "",
            "zerolinecolor": "white"
           },
           "yaxis": {
            "backgroundcolor": "#E5ECF6",
            "gridcolor": "white",
            "gridwidth": 2,
            "linecolor": "white",
            "showbackground": true,
            "ticks": "",
            "zerolinecolor": "white"
           },
           "zaxis": {
            "backgroundcolor": "#E5ECF6",
            "gridcolor": "white",
            "gridwidth": 2,
            "linecolor": "white",
            "showbackground": true,
            "ticks": "",
            "zerolinecolor": "white"
           }
          },
          "shapedefaults": {
           "line": {
            "color": "#2a3f5f"
           }
          },
          "ternary": {
           "aaxis": {
            "gridcolor": "white",
            "linecolor": "white",
            "ticks": ""
           },
           "baxis": {
            "gridcolor": "white",
            "linecolor": "white",
            "ticks": ""
           },
           "bgcolor": "#E5ECF6",
           "caxis": {
            "gridcolor": "white",
            "linecolor": "white",
            "ticks": ""
           }
          },
          "title": {
           "x": 0.05
          },
          "xaxis": {
           "automargin": true,
           "gridcolor": "white",
           "linecolor": "white",
           "ticks": "",
           "title": {
            "standoff": 15
           },
           "zerolinecolor": "white",
           "zerolinewidth": 2
          },
          "yaxis": {
           "automargin": true,
           "gridcolor": "white",
           "linecolor": "white",
           "ticks": "",
           "title": {
            "standoff": 15
           },
           "zerolinecolor": "white",
           "zerolinewidth": 2
          }
         }
        },
        "title": {
         "text": "Species Count by Phylum"
        },
        "xaxis": {
         "anchor": "y",
         "categoryarray": [
          "Chordata",
          "Arthropoda",
          "Cnidaria",
          "Mollusca",
          "Asteroidea",
          "Echinoidea",
          "Ophiuroidea",
          "Holothuroidea",
          "Crinoidea",
          "Echinodermata"
         ],
         "categoryorder": "array",
         "domain": [
          0,
          1
         ],
         "title": {
          "text": "Phylum"
         }
        },
        "yaxis": {
         "anchor": "x",
         "domain": [
          0,
          1
         ],
         "title": {
          "text": "Species Count"
         }
        }
       }
      }
     },
     "metadata": {},
     "output_type": "display_data"
    }
   ],
   "source": [
    "import plotly.express as px\n",
    "\n",
    "# Create a dataframe for phylum counts\n",
    "phylum_count = dataset['phylum'].value_counts().reset_index()\n",
    "phylum_count.columns = ['phylum', 'count']\n",
    "\n",
    "\n",
    "fig_phylum = px.bar(phylum_count, x='phylum', y='count',\n",
    "                    title='Species Count by Phylum',\n",
    "                    labels={'phylum': 'Phylum', 'count': 'Species Count'},\n",
    "                    color='phylum')  \n",
    "fig_phylum.show()\n"
   ]
  },
  {
   "cell_type": "code",
   "execution_count": 30,
   "id": "79b0b809",
   "metadata": {},
   "outputs": [
    {
     "data": {
      "image/png": "[encoded data removed]",
      "text/plain": [
       "<Figure size 1500x1500 with 1 Axes>"
      ]
     },
     "metadata": {},
     "output_type": "display_data"
    }
   ],
   "source": [
    "import matplotlib.pyplot as plt\n",
    "import numpy as np\n",
    "\n",
    "# Select the 'Phylum' column and get value counts\n",
    "data = dataset['phylum'].value_counts() \n",
    "\n",
    "# Labels for the pie chart based on unique values in 'Phylum'\n",
    "labels = data.index\n",
    "\n",
    "# Create the pie chart\n",
    "plt.figure(figsize=(15, 15))\n",
    "plt.pie(data, labels=labels, autopct='%1.1f%%', startangle=140) \n",
    "plt.title('Distribution of Phylum', fontsize=28, fontweight='bold') \n",
    "plt.axis('equal')  # Ensure the pie chart is drawn as a circle\n",
    "plt.show()"
   ]
  }
 ],
 "metadata": {
  "kernelspec": {
   "display_name": "base",
   "language": "python",
   "name": "python3"
  },
  "language_info": {
   "codemirror_mode": {
    "name": "ipython",
    "version": 3
   },
   "file_extension": ".py",
   "mimetype": "text/x-python",
   "name": "python",
   "nbconvert_exporter": "python",
   "pygments_lexer": "ipython3",
   "version": "3.12.4"
  }
 },
 "nbformat": 4,
 "nbformat_minor": 5
}
