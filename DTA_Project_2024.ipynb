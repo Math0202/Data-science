{
 "cells": [
  {
   "cell_type": "code",
   "execution_count": 1,
   "id": "df51d5cd-5ddc-4f88-85f1-14b33ec31233",
   "metadata": {},
   "outputs": [
    {
     "data": {
      "text/html": [
       "<div>\n",
       "<style scoped>\n",
       "    .dataframe tbody tr th:only-of-type {\n",
       "        vertical-align: middle;\n",
       "    }\n",
       "\n",
       "    .dataframe tbody tr th {\n",
       "        vertical-align: top;\n",
       "    }\n",
       "\n",
       "    .dataframe thead th {\n",
       "        text-align: right;\n",
       "    }\n",
       "</style>\n",
       "<table border=\"1\" class=\"dataframe\">\n",
       "  <thead>\n",
       "    <tr style=\"text-align: right;\">\n",
       "      <th></th>\n",
       "      <th>kingdom</th>\n",
       "      <th>phylum</th>\n",
       "      <th>class</th>\n",
       "      <th>order</th>\n",
       "      <th>family</th>\n",
       "      <th>genus</th>\n",
       "      <th>species</th>\n",
       "      <th>sciName</th>\n",
       "      <th>common</th>\n",
       "    </tr>\n",
       "  </thead>\n",
       "  <tbody>\n",
       "    <tr>\n",
       "      <th>0</th>\n",
       "      <td>Animalia</td>\n",
       "      <td>Cnidaria</td>\n",
       "      <td>Anthozoa</td>\n",
       "      <td>Scleractinia</td>\n",
       "      <td>Acroporidae</td>\n",
       "      <td>Acropora</td>\n",
       "      <td>digitifera</td>\n",
       "      <td>Acropora digitifera</td>\n",
       "      <td>Acropora digitifera</td>\n",
       "    </tr>\n",
       "    <tr>\n",
       "      <th>1</th>\n",
       "      <td>Animalia</td>\n",
       "      <td>Cnidaria</td>\n",
       "      <td>Anthozoa</td>\n",
       "      <td>Scleractinia</td>\n",
       "      <td>Acroporidae</td>\n",
       "      <td>Acropora</td>\n",
       "      <td>digitifera</td>\n",
       "      <td>Acropora digitifera</td>\n",
       "      <td>Acropora digitifera</td>\n",
       "    </tr>\n",
       "    <tr>\n",
       "      <th>2</th>\n",
       "      <td>Animalia</td>\n",
       "      <td>Cnidaria</td>\n",
       "      <td>Anthozoa</td>\n",
       "      <td>Scleractinia</td>\n",
       "      <td>Acroporidae</td>\n",
       "      <td>Acropora</td>\n",
       "      <td>digitifera</td>\n",
       "      <td>Acropora digitifera</td>\n",
       "      <td>Acropora digitifera</td>\n",
       "    </tr>\n",
       "    <tr>\n",
       "      <th>3</th>\n",
       "      <td>Animalia</td>\n",
       "      <td>Cnidaria</td>\n",
       "      <td>Anthozoa</td>\n",
       "      <td>Scleractinia</td>\n",
       "      <td>Acroporidae</td>\n",
       "      <td>Acropora</td>\n",
       "      <td>digitifera</td>\n",
       "      <td>Acropora digitifera</td>\n",
       "      <td>Acropora digitifera</td>\n",
       "    </tr>\n",
       "    <tr>\n",
       "      <th>4</th>\n",
       "      <td>Animalia</td>\n",
       "      <td>Cnidaria</td>\n",
       "      <td>Anthozoa</td>\n",
       "      <td>Scleractinia</td>\n",
       "      <td>Acroporidae</td>\n",
       "      <td>Acropora</td>\n",
       "      <td>digitifera</td>\n",
       "      <td>Acropora digitifera</td>\n",
       "      <td>Acropora digitifera</td>\n",
       "    </tr>\n",
       "    <tr>\n",
       "      <th>...</th>\n",
       "      <td>...</td>\n",
       "      <td>...</td>\n",
       "      <td>...</td>\n",
       "      <td>...</td>\n",
       "      <td>...</td>\n",
       "      <td>...</td>\n",
       "      <td>...</td>\n",
       "      <td>...</td>\n",
       "      <td>...</td>\n",
       "    </tr>\n",
       "    <tr>\n",
       "      <th>11978</th>\n",
       "      <td>Animalia</td>\n",
       "      <td>Chordata</td>\n",
       "      <td>Mammalia</td>\n",
       "      <td>Primates</td>\n",
       "      <td>Cercopithecidae</td>\n",
       "      <td>Piliocolobus</td>\n",
       "      <td>kirkii</td>\n",
       "      <td>Piliocolobus kirkii</td>\n",
       "      <td>Zanzibar Red Colobus</td>\n",
       "    </tr>\n",
       "    <tr>\n",
       "      <th>11979</th>\n",
       "      <td>Animalia</td>\n",
       "      <td>Chordata</td>\n",
       "      <td>Mammalia</td>\n",
       "      <td>Primates</td>\n",
       "      <td>Cercopithecidae</td>\n",
       "      <td>Piliocolobus</td>\n",
       "      <td>kirkii</td>\n",
       "      <td>Piliocolobus kirkii</td>\n",
       "      <td>Zanzibar Red Colobus</td>\n",
       "    </tr>\n",
       "    <tr>\n",
       "      <th>11980</th>\n",
       "      <td>Animalia</td>\n",
       "      <td>Chordata</td>\n",
       "      <td>Mammalia</td>\n",
       "      <td>Primates</td>\n",
       "      <td>Cercopithecidae</td>\n",
       "      <td>Piliocolobus</td>\n",
       "      <td>kirkii</td>\n",
       "      <td>Piliocolobus kirkii</td>\n",
       "      <td>Zanzibar Red Colobus</td>\n",
       "    </tr>\n",
       "    <tr>\n",
       "      <th>11981</th>\n",
       "      <td>Animalia</td>\n",
       "      <td>Chordata</td>\n",
       "      <td>Mammalia</td>\n",
       "      <td>Primates</td>\n",
       "      <td>Cercopithecidae</td>\n",
       "      <td>Piliocolobus</td>\n",
       "      <td>kirkii</td>\n",
       "      <td>Piliocolobus kirkii</td>\n",
       "      <td>Zanzibar Red Colobus</td>\n",
       "    </tr>\n",
       "    <tr>\n",
       "      <th>11982</th>\n",
       "      <td>Animalia</td>\n",
       "      <td>Chordata</td>\n",
       "      <td>Mammalia</td>\n",
       "      <td>Primates</td>\n",
       "      <td>Cercopithecidae</td>\n",
       "      <td>Piliocolobus</td>\n",
       "      <td>kirkii</td>\n",
       "      <td>Piliocolobus kirkii</td>\n",
       "      <td>Zanzibar Red Colobus</td>\n",
       "    </tr>\n",
       "  </tbody>\n",
       "</table>\n",
       "<p>11983 rows × 9 columns</p>\n",
       "</div>"
      ],
      "text/plain": [
       "        kingdom    phylum     class         order           family  \\\n",
       "0      Animalia  Cnidaria  Anthozoa  Scleractinia      Acroporidae   \n",
       "1      Animalia  Cnidaria  Anthozoa  Scleractinia      Acroporidae   \n",
       "2      Animalia  Cnidaria  Anthozoa  Scleractinia      Acroporidae   \n",
       "3      Animalia  Cnidaria  Anthozoa  Scleractinia      Acroporidae   \n",
       "4      Animalia  Cnidaria  Anthozoa  Scleractinia      Acroporidae   \n",
       "...         ...       ...       ...           ...              ...   \n",
       "11978  Animalia  Chordata  Mammalia      Primates  Cercopithecidae   \n",
       "11979  Animalia  Chordata  Mammalia      Primates  Cercopithecidae   \n",
       "11980  Animalia  Chordata  Mammalia      Primates  Cercopithecidae   \n",
       "11981  Animalia  Chordata  Mammalia      Primates  Cercopithecidae   \n",
       "11982  Animalia  Chordata  Mammalia      Primates  Cercopithecidae   \n",
       "\n",
       "              genus     species              sciName                common  \n",
       "0          Acropora  digitifera  Acropora digitifera   Acropora digitifera  \n",
       "1          Acropora  digitifera  Acropora digitifera   Acropora digitifera  \n",
       "2          Acropora  digitifera  Acropora digitifera   Acropora digitifera  \n",
       "3          Acropora  digitifera  Acropora digitifera   Acropora digitifera  \n",
       "4          Acropora  digitifera  Acropora digitifera   Acropora digitifera  \n",
       "...             ...         ...                  ...                   ...  \n",
       "11978  Piliocolobus      kirkii  Piliocolobus kirkii  Zanzibar Red Colobus  \n",
       "11979  Piliocolobus      kirkii  Piliocolobus kirkii  Zanzibar Red Colobus  \n",
       "11980  Piliocolobus      kirkii  Piliocolobus kirkii  Zanzibar Red Colobus  \n",
       "11981  Piliocolobus      kirkii  Piliocolobus kirkii  Zanzibar Red Colobus  \n",
       "11982  Piliocolobus      kirkii  Piliocolobus kirkii  Zanzibar Red Colobus  \n",
       "\n",
       "[11983 rows x 9 columns]"
      ]
     },
     "execution_count": 1,
     "metadata": {},
     "output_type": "execute_result"
    }
   ],
   "source": [
    "import pandas as pd\n",
    "dta=pd.read_csv(r\"C:\\Users\\USER\\Documents\\NUST 2024\\Semester 4\\DTA\\DTA data.csv\")\n",
    "dta"
   ]
  },
  {
   "cell_type": "code",
   "execution_count": 2,
   "id": "58127f08-4b88-4afe-9215-0ce5c91963e2",
   "metadata": {},
   "outputs": [
    {
     "data": {
      "text/html": [
       "<div>\n",
       "<style scoped>\n",
       "    .dataframe tbody tr th:only-of-type {\n",
       "        vertical-align: middle;\n",
       "    }\n",
       "\n",
       "    .dataframe tbody tr th {\n",
       "        vertical-align: top;\n",
       "    }\n",
       "\n",
       "    .dataframe thead th {\n",
       "        text-align: right;\n",
       "    }\n",
       "</style>\n",
       "<table border=\"1\" class=\"dataframe\">\n",
       "  <thead>\n",
       "    <tr style=\"text-align: right;\">\n",
       "      <th></th>\n",
       "      <th>kingdom</th>\n",
       "      <th>phylum</th>\n",
       "      <th>class</th>\n",
       "      <th>order</th>\n",
       "      <th>family</th>\n",
       "      <th>genus</th>\n",
       "      <th>species</th>\n",
       "      <th>sciName</th>\n",
       "      <th>common</th>\n",
       "    </tr>\n",
       "  </thead>\n",
       "  <tbody>\n",
       "    <tr>\n",
       "      <th>0</th>\n",
       "      <td>Animalia</td>\n",
       "      <td>Cnidaria</td>\n",
       "      <td>Anthozoa</td>\n",
       "      <td>Scleractinia</td>\n",
       "      <td>Acroporidae</td>\n",
       "      <td>Acropora</td>\n",
       "      <td>digitifera</td>\n",
       "      <td>Acropora digitifera</td>\n",
       "      <td>Acropora digitifera</td>\n",
       "    </tr>\n",
       "    <tr>\n",
       "      <th>30</th>\n",
       "      <td>Animalia</td>\n",
       "      <td>Chordata</td>\n",
       "      <td>Mammalia</td>\n",
       "      <td>Artiodactyla</td>\n",
       "      <td>Bovidae</td>\n",
       "      <td>Addax</td>\n",
       "      <td>nasomaculatus</td>\n",
       "      <td>Addax nasomaculatus</td>\n",
       "      <td>Addax</td>\n",
       "    </tr>\n",
       "    <tr>\n",
       "      <th>60</th>\n",
       "      <td>Animalia</td>\n",
       "      <td>Chordata</td>\n",
       "      <td>Mammalia</td>\n",
       "      <td>Carnivora</td>\n",
       "      <td>Mustelidae</td>\n",
       "      <td>Aonyx</td>\n",
       "      <td>capensis</td>\n",
       "      <td>Aonyx capensis</td>\n",
       "      <td>African Clawless Otter</td>\n",
       "    </tr>\n",
       "    <tr>\n",
       "      <th>90</th>\n",
       "      <td>Animalia</td>\n",
       "      <td>Chordata</td>\n",
       "      <td>Reptilia</td>\n",
       "      <td>Squamata</td>\n",
       "      <td>Pythonidae</td>\n",
       "      <td>Python</td>\n",
       "      <td>sebae</td>\n",
       "      <td>Python sebae</td>\n",
       "      <td>African Rock Python</td>\n",
       "    </tr>\n",
       "    <tr>\n",
       "      <th>120</th>\n",
       "      <td>Animalia</td>\n",
       "      <td>Chordata</td>\n",
       "      <td>Reptilia</td>\n",
       "      <td>Testudines</td>\n",
       "      <td>Trionychidae</td>\n",
       "      <td>Trionyx</td>\n",
       "      <td>triunguis</td>\n",
       "      <td>Trionyx triunguis</td>\n",
       "      <td>African Softshell Turtle</td>\n",
       "    </tr>\n",
       "    <tr>\n",
       "      <th>...</th>\n",
       "      <td>...</td>\n",
       "      <td>...</td>\n",
       "      <td>...</td>\n",
       "      <td>...</td>\n",
       "      <td>...</td>\n",
       "      <td>...</td>\n",
       "      <td>...</td>\n",
       "      <td>...</td>\n",
       "      <td>...</td>\n",
       "    </tr>\n",
       "    <tr>\n",
       "      <th>11833</th>\n",
       "      <td>Animalia</td>\n",
       "      <td>Chordata</td>\n",
       "      <td>Aves</td>\n",
       "      <td>Psittaciformes</td>\n",
       "      <td>Psittacidae</td>\n",
       "      <td>Ognorhynchus</td>\n",
       "      <td>icterotis</td>\n",
       "      <td>Ognorhynchus icterotis</td>\n",
       "      <td>Yellow-eared Parrot</td>\n",
       "    </tr>\n",
       "    <tr>\n",
       "      <th>11863</th>\n",
       "      <td>Animalia</td>\n",
       "      <td>Chordata</td>\n",
       "      <td>Reptilia</td>\n",
       "      <td>Testudines</td>\n",
       "      <td>Podocnemididae</td>\n",
       "      <td>Podocnemis</td>\n",
       "      <td>unifilis</td>\n",
       "      <td>Podocnemis unifilis</td>\n",
       "      <td>Yellow-spotted River Turtle</td>\n",
       "    </tr>\n",
       "    <tr>\n",
       "      <th>11893</th>\n",
       "      <td>Animalia</td>\n",
       "      <td>Chordata</td>\n",
       "      <td>Amphibia</td>\n",
       "      <td>Caudata</td>\n",
       "      <td>Salamandridae</td>\n",
       "      <td>Tylototriton</td>\n",
       "      <td>shanjing</td>\n",
       "      <td>Tylototriton shanjing</td>\n",
       "      <td>Yunnan Newt</td>\n",
       "    </tr>\n",
       "    <tr>\n",
       "      <th>11895</th>\n",
       "      <td>Animalia</td>\n",
       "      <td>Chordata</td>\n",
       "      <td>Amphibia</td>\n",
       "      <td>Caudata</td>\n",
       "      <td>Salamandridae</td>\n",
       "      <td>Tylototriton</td>\n",
       "      <td>verrucosus</td>\n",
       "      <td>Tylototriton verrucosus</td>\n",
       "      <td>Yunnan Newt</td>\n",
       "    </tr>\n",
       "    <tr>\n",
       "      <th>11953</th>\n",
       "      <td>Animalia</td>\n",
       "      <td>Chordata</td>\n",
       "      <td>Mammalia</td>\n",
       "      <td>Primates</td>\n",
       "      <td>Cercopithecidae</td>\n",
       "      <td>Piliocolobus</td>\n",
       "      <td>kirkii</td>\n",
       "      <td>Piliocolobus kirkii</td>\n",
       "      <td>Zanzibar Red Colobus</td>\n",
       "    </tr>\n",
       "  </tbody>\n",
       "</table>\n",
       "<p>400 rows × 9 columns</p>\n",
       "</div>"
      ],
      "text/plain": [
       "        kingdom    phylum     class           order           family  \\\n",
       "0      Animalia  Cnidaria  Anthozoa    Scleractinia      Acroporidae   \n",
       "30     Animalia  Chordata  Mammalia    Artiodactyla          Bovidae   \n",
       "60     Animalia  Chordata  Mammalia       Carnivora       Mustelidae   \n",
       "90     Animalia  Chordata  Reptilia        Squamata       Pythonidae   \n",
       "120    Animalia  Chordata  Reptilia      Testudines     Trionychidae   \n",
       "...         ...       ...       ...             ...              ...   \n",
       "11833  Animalia  Chordata      Aves  Psittaciformes      Psittacidae   \n",
       "11863  Animalia  Chordata  Reptilia      Testudines   Podocnemididae   \n",
       "11893  Animalia  Chordata  Amphibia         Caudata    Salamandridae   \n",
       "11895  Animalia  Chordata  Amphibia         Caudata    Salamandridae   \n",
       "11953  Animalia  Chordata  Mammalia        Primates  Cercopithecidae   \n",
       "\n",
       "              genus        species                  sciName  \\\n",
       "0          Acropora     digitifera      Acropora digitifera   \n",
       "30            Addax  nasomaculatus      Addax nasomaculatus   \n",
       "60            Aonyx       capensis           Aonyx capensis   \n",
       "90           Python          sebae             Python sebae   \n",
       "120         Trionyx      triunguis        Trionyx triunguis   \n",
       "...             ...            ...                      ...   \n",
       "11833  Ognorhynchus      icterotis   Ognorhynchus icterotis   \n",
       "11863    Podocnemis       unifilis      Podocnemis unifilis   \n",
       "11893  Tylototriton       shanjing    Tylototriton shanjing   \n",
       "11895  Tylototriton     verrucosus  Tylototriton verrucosus   \n",
       "11953  Piliocolobus         kirkii      Piliocolobus kirkii   \n",
       "\n",
       "                            common  \n",
       "0              Acropora digitifera  \n",
       "30                           Addax  \n",
       "60          African Clawless Otter  \n",
       "90             African Rock Python  \n",
       "120       African Softshell Turtle  \n",
       "...                            ...  \n",
       "11833          Yellow-eared Parrot  \n",
       "11863  Yellow-spotted River Turtle  \n",
       "11893                  Yunnan Newt  \n",
       "11895                  Yunnan Newt  \n",
       "11953         Zanzibar Red Colobus  \n",
       "\n",
       "[400 rows x 9 columns]"
      ]
     },
     "execution_count": 2,
     "metadata": {},
     "output_type": "execute_result"
    }
   ],
   "source": [
    "dta=dta.drop_duplicates()\n",
    "dta"
   ]
  },
  {
   "cell_type": "code",
   "execution_count": 3,
   "id": "8720477c-d663-47df-be82-593c9f4d5d58",
   "metadata": {},
   "outputs": [
    {
     "data": {
      "text/html": [
       "<div>\n",
       "<style scoped>\n",
       "    .dataframe tbody tr th:only-of-type {\n",
       "        vertical-align: middle;\n",
       "    }\n",
       "\n",
       "    .dataframe tbody tr th {\n",
       "        vertical-align: top;\n",
       "    }\n",
       "\n",
       "    .dataframe thead th {\n",
       "        text-align: right;\n",
       "    }\n",
       "</style>\n",
       "<table border=\"1\" class=\"dataframe\">\n",
       "  <thead>\n",
       "    <tr style=\"text-align: right;\">\n",
       "      <th></th>\n",
       "      <th>kingdom</th>\n",
       "      <th>phylum</th>\n",
       "      <th>class</th>\n",
       "      <th>order</th>\n",
       "      <th>family</th>\n",
       "      <th>genus</th>\n",
       "      <th>species</th>\n",
       "      <th>sciName</th>\n",
       "      <th>common</th>\n",
       "    </tr>\n",
       "  </thead>\n",
       "  <tbody>\n",
       "    <tr>\n",
       "      <th>0</th>\n",
       "      <td>Animalia</td>\n",
       "      <td>Cnidaria</td>\n",
       "      <td>Anthozoa</td>\n",
       "      <td>Scleractinia</td>\n",
       "      <td>Acroporidae</td>\n",
       "      <td>Acropora</td>\n",
       "      <td>digitifera</td>\n",
       "      <td>Acropora digitifera</td>\n",
       "      <td>Acropora digitifera</td>\n",
       "    </tr>\n",
       "    <tr>\n",
       "      <th>1</th>\n",
       "      <td>Animalia</td>\n",
       "      <td>Chordata</td>\n",
       "      <td>Mammalia</td>\n",
       "      <td>Artiodactyla</td>\n",
       "      <td>Bovidae</td>\n",
       "      <td>Addax</td>\n",
       "      <td>nasomaculatus</td>\n",
       "      <td>Addax nasomaculatus</td>\n",
       "      <td>Addax</td>\n",
       "    </tr>\n",
       "    <tr>\n",
       "      <th>2</th>\n",
       "      <td>Animalia</td>\n",
       "      <td>Chordata</td>\n",
       "      <td>Mammalia</td>\n",
       "      <td>Carnivora</td>\n",
       "      <td>Mustelidae</td>\n",
       "      <td>Aonyx</td>\n",
       "      <td>capensis</td>\n",
       "      <td>Aonyx capensis</td>\n",
       "      <td>African Clawless Otter</td>\n",
       "    </tr>\n",
       "    <tr>\n",
       "      <th>3</th>\n",
       "      <td>Animalia</td>\n",
       "      <td>Chordata</td>\n",
       "      <td>Reptilia</td>\n",
       "      <td>Squamata</td>\n",
       "      <td>Pythonidae</td>\n",
       "      <td>Python</td>\n",
       "      <td>sebae</td>\n",
       "      <td>Python sebae</td>\n",
       "      <td>African Rock Python</td>\n",
       "    </tr>\n",
       "    <tr>\n",
       "      <th>4</th>\n",
       "      <td>Animalia</td>\n",
       "      <td>Chordata</td>\n",
       "      <td>Reptilia</td>\n",
       "      <td>Testudines</td>\n",
       "      <td>Trionychidae</td>\n",
       "      <td>Trionyx</td>\n",
       "      <td>triunguis</td>\n",
       "      <td>Trionyx triunguis</td>\n",
       "      <td>African Softshell Turtle</td>\n",
       "    </tr>\n",
       "    <tr>\n",
       "      <th>...</th>\n",
       "      <td>...</td>\n",
       "      <td>...</td>\n",
       "      <td>...</td>\n",
       "      <td>...</td>\n",
       "      <td>...</td>\n",
       "      <td>...</td>\n",
       "      <td>...</td>\n",
       "      <td>...</td>\n",
       "      <td>...</td>\n",
       "    </tr>\n",
       "    <tr>\n",
       "      <th>395</th>\n",
       "      <td>Animalia</td>\n",
       "      <td>Chordata</td>\n",
       "      <td>Aves</td>\n",
       "      <td>Psittaciformes</td>\n",
       "      <td>Psittacidae</td>\n",
       "      <td>Ognorhynchus</td>\n",
       "      <td>icterotis</td>\n",
       "      <td>Ognorhynchus icterotis</td>\n",
       "      <td>Yellow-eared Parrot</td>\n",
       "    </tr>\n",
       "    <tr>\n",
       "      <th>396</th>\n",
       "      <td>Animalia</td>\n",
       "      <td>Chordata</td>\n",
       "      <td>Reptilia</td>\n",
       "      <td>Testudines</td>\n",
       "      <td>Podocnemididae</td>\n",
       "      <td>Podocnemis</td>\n",
       "      <td>unifilis</td>\n",
       "      <td>Podocnemis unifilis</td>\n",
       "      <td>Yellow-spotted River Turtle</td>\n",
       "    </tr>\n",
       "    <tr>\n",
       "      <th>397</th>\n",
       "      <td>Animalia</td>\n",
       "      <td>Chordata</td>\n",
       "      <td>Amphibia</td>\n",
       "      <td>Caudata</td>\n",
       "      <td>Salamandridae</td>\n",
       "      <td>Tylototriton</td>\n",
       "      <td>shanjing</td>\n",
       "      <td>Tylototriton shanjing</td>\n",
       "      <td>Yunnan Newt</td>\n",
       "    </tr>\n",
       "    <tr>\n",
       "      <th>398</th>\n",
       "      <td>Animalia</td>\n",
       "      <td>Chordata</td>\n",
       "      <td>Amphibia</td>\n",
       "      <td>Caudata</td>\n",
       "      <td>Salamandridae</td>\n",
       "      <td>Tylototriton</td>\n",
       "      <td>verrucosus</td>\n",
       "      <td>Tylototriton verrucosus</td>\n",
       "      <td>Yunnan Newt</td>\n",
       "    </tr>\n",
       "    <tr>\n",
       "      <th>399</th>\n",
       "      <td>Animalia</td>\n",
       "      <td>Chordata</td>\n",
       "      <td>Mammalia</td>\n",
       "      <td>Primates</td>\n",
       "      <td>Cercopithecidae</td>\n",
       "      <td>Piliocolobus</td>\n",
       "      <td>kirkii</td>\n",
       "      <td>Piliocolobus kirkii</td>\n",
       "      <td>Zanzibar Red Colobus</td>\n",
       "    </tr>\n",
       "  </tbody>\n",
       "</table>\n",
       "<p>400 rows × 9 columns</p>\n",
       "</div>"
      ],
      "text/plain": [
       "      kingdom    phylum     class           order           family  \\\n",
       "0    Animalia  Cnidaria  Anthozoa    Scleractinia      Acroporidae   \n",
       "1    Animalia  Chordata  Mammalia    Artiodactyla          Bovidae   \n",
       "2    Animalia  Chordata  Mammalia       Carnivora       Mustelidae   \n",
       "3    Animalia  Chordata  Reptilia        Squamata       Pythonidae   \n",
       "4    Animalia  Chordata  Reptilia      Testudines     Trionychidae   \n",
       "..        ...       ...       ...             ...              ...   \n",
       "395  Animalia  Chordata      Aves  Psittaciformes      Psittacidae   \n",
       "396  Animalia  Chordata  Reptilia      Testudines   Podocnemididae   \n",
       "397  Animalia  Chordata  Amphibia         Caudata    Salamandridae   \n",
       "398  Animalia  Chordata  Amphibia         Caudata    Salamandridae   \n",
       "399  Animalia  Chordata  Mammalia        Primates  Cercopithecidae   \n",
       "\n",
       "            genus        species                  sciName  \\\n",
       "0        Acropora     digitifera      Acropora digitifera   \n",
       "1           Addax  nasomaculatus      Addax nasomaculatus   \n",
       "2           Aonyx       capensis           Aonyx capensis   \n",
       "3          Python          sebae             Python sebae   \n",
       "4         Trionyx      triunguis        Trionyx triunguis   \n",
       "..            ...            ...                      ...   \n",
       "395  Ognorhynchus      icterotis   Ognorhynchus icterotis   \n",
       "396    Podocnemis       unifilis      Podocnemis unifilis   \n",
       "397  Tylototriton       shanjing    Tylototriton shanjing   \n",
       "398  Tylototriton     verrucosus  Tylototriton verrucosus   \n",
       "399  Piliocolobus         kirkii      Piliocolobus kirkii   \n",
       "\n",
       "                          common  \n",
       "0            Acropora digitifera  \n",
       "1                          Addax  \n",
       "2         African Clawless Otter  \n",
       "3            African Rock Python  \n",
       "4       African Softshell Turtle  \n",
       "..                           ...  \n",
       "395          Yellow-eared Parrot  \n",
       "396  Yellow-spotted River Turtle  \n",
       "397                  Yunnan Newt  \n",
       "398                  Yunnan Newt  \n",
       "399         Zanzibar Red Colobus  \n",
       "\n",
       "[400 rows x 9 columns]"
      ]
     },
     "execution_count": 3,
     "metadata": {},
     "output_type": "execute_result"
    }
   ],
   "source": [
    "#resets the index of the table to be in a numerical order \n",
    "#drops the index column with previous index value \n",
    "dta=dta.reset_index(drop=True)\n",
    "dta"
   ]
  },
  {
   "cell_type": "code",
   "execution_count": 4,
   "id": "6fd7098c-6d77-46dc-9230-7d9e323f267e",
   "metadata": {},
   "outputs": [
    {
     "data": {
      "text/html": [
       "<div>\n",
       "<style scoped>\n",
       "    .dataframe tbody tr th:only-of-type {\n",
       "        vertical-align: middle;\n",
       "    }\n",
       "\n",
       "    .dataframe tbody tr th {\n",
       "        vertical-align: top;\n",
       "    }\n",
       "\n",
       "    .dataframe thead th {\n",
       "        text-align: right;\n",
       "    }\n",
       "</style>\n",
       "<table border=\"1\" class=\"dataframe\">\n",
       "  <thead>\n",
       "    <tr style=\"text-align: right;\">\n",
       "      <th></th>\n",
       "      <th>kingdom</th>\n",
       "      <th>phylum</th>\n",
       "      <th>class</th>\n",
       "      <th>order</th>\n",
       "      <th>family</th>\n",
       "      <th>genus</th>\n",
       "      <th>species</th>\n",
       "      <th>sciName</th>\n",
       "      <th>common</th>\n",
       "    </tr>\n",
       "  </thead>\n",
       "  <tbody>\n",
       "    <tr>\n",
       "      <th>0</th>\n",
       "      <td>Animalia</td>\n",
       "      <td>Cnidaria</td>\n",
       "      <td>Anthozoa</td>\n",
       "      <td>Scleractinia</td>\n",
       "      <td>Acroporidae</td>\n",
       "      <td>Acropora</td>\n",
       "      <td>digitifera</td>\n",
       "      <td>Acropora digitifera</td>\n",
       "      <td>Acropora digitifera</td>\n",
       "    </tr>\n",
       "    <tr>\n",
       "      <th>1</th>\n",
       "      <td>Animalia</td>\n",
       "      <td>Chordata</td>\n",
       "      <td>Mammalia</td>\n",
       "      <td>Artiodactyla</td>\n",
       "      <td>Bovidae</td>\n",
       "      <td>Addax</td>\n",
       "      <td>nasomaculatus</td>\n",
       "      <td>Addax nasomaculatus</td>\n",
       "      <td>Addax</td>\n",
       "    </tr>\n",
       "    <tr>\n",
       "      <th>2</th>\n",
       "      <td>Animalia</td>\n",
       "      <td>Chordata</td>\n",
       "      <td>Mammalia</td>\n",
       "      <td>Carnivora</td>\n",
       "      <td>Mustelidae</td>\n",
       "      <td>Aonyx</td>\n",
       "      <td>capensis</td>\n",
       "      <td>Aonyx capensis</td>\n",
       "      <td>African Clawless Otter</td>\n",
       "    </tr>\n",
       "    <tr>\n",
       "      <th>3</th>\n",
       "      <td>Animalia</td>\n",
       "      <td>Chordata</td>\n",
       "      <td>Reptilia</td>\n",
       "      <td>Squamata</td>\n",
       "      <td>Pythonidae</td>\n",
       "      <td>Python</td>\n",
       "      <td>sebae</td>\n",
       "      <td>Python sebae</td>\n",
       "      <td>African Rock Python</td>\n",
       "    </tr>\n",
       "    <tr>\n",
       "      <th>4</th>\n",
       "      <td>Animalia</td>\n",
       "      <td>Chordata</td>\n",
       "      <td>Reptilia</td>\n",
       "      <td>Testudines</td>\n",
       "      <td>Trionychidae</td>\n",
       "      <td>Trionyx</td>\n",
       "      <td>triunguis</td>\n",
       "      <td>Trionyx triunguis</td>\n",
       "      <td>African Softshell Turtle</td>\n",
       "    </tr>\n",
       "    <tr>\n",
       "      <th>...</th>\n",
       "      <td>...</td>\n",
       "      <td>...</td>\n",
       "      <td>...</td>\n",
       "      <td>...</td>\n",
       "      <td>...</td>\n",
       "      <td>...</td>\n",
       "      <td>...</td>\n",
       "      <td>...</td>\n",
       "      <td>...</td>\n",
       "    </tr>\n",
       "    <tr>\n",
       "      <th>395</th>\n",
       "      <td>Animalia</td>\n",
       "      <td>Chordata</td>\n",
       "      <td>Aves</td>\n",
       "      <td>Psittaciformes</td>\n",
       "      <td>Psittacidae</td>\n",
       "      <td>Ognorhynchus</td>\n",
       "      <td>icterotis</td>\n",
       "      <td>Ognorhynchus icterotis</td>\n",
       "      <td>Yellow-eared Parrot</td>\n",
       "    </tr>\n",
       "    <tr>\n",
       "      <th>396</th>\n",
       "      <td>Animalia</td>\n",
       "      <td>Chordata</td>\n",
       "      <td>Reptilia</td>\n",
       "      <td>Testudines</td>\n",
       "      <td>Podocnemididae</td>\n",
       "      <td>Podocnemis</td>\n",
       "      <td>unifilis</td>\n",
       "      <td>Podocnemis unifilis</td>\n",
       "      <td>Yellow-spotted River Turtle</td>\n",
       "    </tr>\n",
       "    <tr>\n",
       "      <th>397</th>\n",
       "      <td>Animalia</td>\n",
       "      <td>Chordata</td>\n",
       "      <td>Amphibia</td>\n",
       "      <td>Caudata</td>\n",
       "      <td>Salamandridae</td>\n",
       "      <td>Tylototriton</td>\n",
       "      <td>shanjing</td>\n",
       "      <td>Tylototriton shanjing</td>\n",
       "      <td>Yunnan Newt</td>\n",
       "    </tr>\n",
       "    <tr>\n",
       "      <th>398</th>\n",
       "      <td>Animalia</td>\n",
       "      <td>Chordata</td>\n",
       "      <td>Amphibia</td>\n",
       "      <td>Caudata</td>\n",
       "      <td>Salamandridae</td>\n",
       "      <td>Tylototriton</td>\n",
       "      <td>verrucosus</td>\n",
       "      <td>Tylototriton verrucosus</td>\n",
       "      <td>Yunnan Newt</td>\n",
       "    </tr>\n",
       "    <tr>\n",
       "      <th>399</th>\n",
       "      <td>Animalia</td>\n",
       "      <td>Chordata</td>\n",
       "      <td>Mammalia</td>\n",
       "      <td>Primates</td>\n",
       "      <td>Cercopithecidae</td>\n",
       "      <td>Piliocolobus</td>\n",
       "      <td>kirkii</td>\n",
       "      <td>Piliocolobus kirkii</td>\n",
       "      <td>Zanzibar Red Colobus</td>\n",
       "    </tr>\n",
       "  </tbody>\n",
       "</table>\n",
       "<p>400 rows × 9 columns</p>\n",
       "</div>"
      ],
      "text/plain": [
       "      kingdom    phylum     class           order           family  \\\n",
       "0    Animalia  Cnidaria  Anthozoa    Scleractinia      Acroporidae   \n",
       "1    Animalia  Chordata  Mammalia    Artiodactyla          Bovidae   \n",
       "2    Animalia  Chordata  Mammalia       Carnivora       Mustelidae   \n",
       "3    Animalia  Chordata  Reptilia        Squamata       Pythonidae   \n",
       "4    Animalia  Chordata  Reptilia      Testudines     Trionychidae   \n",
       "..        ...       ...       ...             ...              ...   \n",
       "395  Animalia  Chordata      Aves  Psittaciformes      Psittacidae   \n",
       "396  Animalia  Chordata  Reptilia      Testudines   Podocnemididae   \n",
       "397  Animalia  Chordata  Amphibia         Caudata    Salamandridae   \n",
       "398  Animalia  Chordata  Amphibia         Caudata    Salamandridae   \n",
       "399  Animalia  Chordata  Mammalia        Primates  Cercopithecidae   \n",
       "\n",
       "            genus        species                  sciName  \\\n",
       "0        Acropora     digitifera      Acropora digitifera   \n",
       "1           Addax  nasomaculatus      Addax nasomaculatus   \n",
       "2           Aonyx       capensis           Aonyx capensis   \n",
       "3          Python          sebae             Python sebae   \n",
       "4         Trionyx      triunguis        Trionyx triunguis   \n",
       "..            ...            ...                      ...   \n",
       "395  Ognorhynchus      icterotis   Ognorhynchus icterotis   \n",
       "396    Podocnemis       unifilis      Podocnemis unifilis   \n",
       "397  Tylototriton       shanjing    Tylototriton shanjing   \n",
       "398  Tylototriton     verrucosus  Tylototriton verrucosus   \n",
       "399  Piliocolobus         kirkii      Piliocolobus kirkii   \n",
       "\n",
       "                          common  \n",
       "0            Acropora digitifera  \n",
       "1                          Addax  \n",
       "2         African Clawless Otter  \n",
       "3            African Rock Python  \n",
       "4       African Softshell Turtle  \n",
       "..                           ...  \n",
       "395          Yellow-eared Parrot  \n",
       "396  Yellow-spotted River Turtle  \n",
       "397                  Yunnan Newt  \n",
       "398                  Yunnan Newt  \n",
       "399         Zanzibar Red Colobus  \n",
       "\n",
       "[400 rows x 9 columns]"
      ]
     },
     "execution_count": 4,
     "metadata": {},
     "output_type": "execute_result"
    }
   ],
   "source": [
    "#deleting rows with null values\n",
    "dta.dropna()"
   ]
  },
  {
   "cell_type": "code",
   "execution_count": 5,
   "id": "64f00a99",
   "metadata": {},
   "outputs": [
    {
     "data": {
      "application/vnd.plotly.v1+json": {
       "config": {
        "plotlyServerURL": "https://plot.ly"
       },
       "data": [
        {
         "customdata": [
          [
           "Animalia",
           "Cnidaria",
           "Anthozoa",
           "Scleractinia",
           "Acroporidae",
           "Acropora digitifera",
           "Acropora digitifera"
          ]
         ],
         "hovertemplate": "Species=%{y}<br>Genus=%{x}<br>kingdom=%{customdata[0]}<br>phylum=%{customdata[1]}<br>class=%{customdata[2]}<br>order=%{customdata[3]}<br>family=%{customdata[4]}<br>sciName=%{customdata[5]}<br>common=%{customdata[6]}<extra></extra>",
         "legendgroup": "digitifera",
         "marker": {
          "color": "#636efa",
          "symbol": "circle"
         },
         "mode": "markers",
         "name": "digitifera",
         "orientation": "v",
         "showlegend": true,
         "type": "scatter",
         "x": [
          "Acropora"
         ],
         "xaxis": "x",
         "y": [
          "digitifera"
         ],
         "yaxis": "y"
        },
        {
         "customdata": [
          [
           "Animalia",
           "Chordata",
           "Mammalia",
           "Artiodactyla",
           "Bovidae",
           "Addax nasomaculatus",
           "Addax"
          ]
         ],
         "hovertemplate": "Species=%{y}<br>Genus=%{x}<br>kingdom=%{customdata[0]}<br>phylum=%{customdata[1]}<br>class=%{customdata[2]}<br>order=%{customdata[3]}<br>family=%{customdata[4]}<br>sciName=%{customdata[5]}<br>common=%{customdata[6]}<extra></extra>",
         "legendgroup": "nasomaculatus",
         "marker": {
          "color": "#EF553B",
          "symbol": "circle"
         },
         "mode": "markers",
         "name": "nasomaculatus",
         "orientation": "v",
         "showlegend": true,
         "type": "scatter",
         "x": [
          "Addax"
         ],
         "xaxis": "x",
         "y": [
          "nasomaculatus"
         ],
         "yaxis": "y"
        },
        {
         "customdata": [
          [
           "Animalia",
           "Chordata",
           "Mammalia",
           "Carnivora",
           "Mustelidae",
           "Aonyx capensis",
           "African Clawless Otter"
          ]
         ],
         "hovertemplate": "Species=%{y}<br>Genus=%{x}<br>kingdom=%{customdata[0]}<br>phylum=%{customdata[1]}<br>class=%{customdata[2]}<br>order=%{customdata[3]}<br>family=%{customdata[4]}<br>sciName=%{customdata[5]}<br>common=%{customdata[6]}<extra></extra>",
         "legendgroup": "capensis",
         "marker": {
          "color": "#00cc96",
          "symbol": "circle"
         },
         "mode": "markers",
         "name": "capensis",
         "orientation": "v",
         "showlegend": true,
         "type": "scatter",
         "x": [
          "Aonyx"
         ],
         "xaxis": "x",
         "y": [
          "capensis"
         ],
         "yaxis": "y"
        },
        {
         "customdata": [
          [
           "Animalia",
           "Chordata",
           "Reptilia",
           "Squamata",
           "Pythonidae",
           "Python sebae",
           "African Rock Python"
          ]
         ],
         "hovertemplate": "Species=%{y}<br>Genus=%{x}<br>kingdom=%{customdata[0]}<br>phylum=%{customdata[1]}<br>class=%{customdata[2]}<br>order=%{customdata[3]}<br>family=%{customdata[4]}<br>sciName=%{customdata[5]}<br>common=%{customdata[6]}<extra></extra>",
         "legendgroup": "sebae",
         "marker": {
          "color": "#ab63fa",
          "symbol": "circle"
         },
         "mode": "markers",
         "name": "sebae",
         "orientation": "v",
         "showlegend": true,
         "type": "scatter",
         "x": [
          "Python"
         ],
         "xaxis": "x",
         "y": [
          "sebae"
         ],
         "yaxis": "y"
        },
        {
         "customdata": [
          [
           "Animalia",
           "Chordata",
           "Reptilia",
           "Testudines",
           "Trionychidae",
           "Trionyx triunguis",
           "African Softshell Turtle"
          ]
         ],
         "hovertemplate": "Species=%{y}<br>Genus=%{x}<br>kingdom=%{customdata[0]}<br>phylum=%{customdata[1]}<br>class=%{customdata[2]}<br>order=%{customdata[3]}<br>family=%{customdata[4]}<br>sciName=%{customdata[5]}<br>common=%{customdata[6]}<extra></extra>",
         "legendgroup": "triunguis",
         "marker": {
          "color": "#FFA15A",
          "symbol": "circle"
         },
         "mode": "markers",
         "name": "triunguis",
         "orientation": "v",
         "showlegend": true,
         "type": "scatter",
         "x": [
          "Trionyx"
         ],
         "xaxis": "x",
         "y": [
          "triunguis"
         ],
         "yaxis": "y"
        },
        {
         "customdata": [
          [
           "Animalia",
           "Chordata",
           "Reptilia",
           "Testudines",
           "Testudinidae",
           "Centrochelys sulcata",
           "African Spurred Tortoise"
          ]
         ],
         "hovertemplate": "Species=%{y}<br>Genus=%{x}<br>kingdom=%{customdata[0]}<br>phylum=%{customdata[1]}<br>class=%{customdata[2]}<br>order=%{customdata[3]}<br>family=%{customdata[4]}<br>sciName=%{customdata[5]}<br>common=%{customdata[6]}<extra></extra>",
         "legendgroup": "sulcata",
         "marker": {
          "color": "#19d3f3",
          "symbol": "circle"
         },
         "mode": "markers",
         "name": "sulcata",
         "orientation": "v",
         "showlegend": true,
         "type": "scatter",
         "x": [
          "Centrochelys"
         ],
         "xaxis": "x",
         "y": [
          "sulcata"
         ],
         "yaxis": "y"
        },
        {
         "customdata": [
          [
           "Animalia",
           "Chordata",
           "Mammalia",
           "Primates",
           "Hylobatidae",
           "Hylobates agilis",
           "Agile Gibbon"
          ]
         ],
         "hovertemplate": "Species=%{y}<br>Genus=%{x}<br>kingdom=%{customdata[0]}<br>phylum=%{customdata[1]}<br>class=%{customdata[2]}<br>order=%{customdata[3]}<br>family=%{customdata[4]}<br>sciName=%{customdata[5]}<br>common=%{customdata[6]}<extra></extra>",
         "legendgroup": "agilis",
         "marker": {
          "color": "#FF6692",
          "symbol": "circle"
         },
         "mode": "markers",
         "name": "agilis",
         "orientation": "v",
         "showlegend": true,
         "type": "scatter",
         "x": [
          "Hylobates"
         ],
         "xaxis": "x",
         "y": [
          "agilis"
         ],
         "yaxis": "y"
        },
        {
         "customdata": [
          [
           "Animalia",
           "Chordata",
           "Aves",
           "Charadriiformes",
           "Laridae",
           "Onychoprion aleuticus",
           "Aleutian Tern"
          ]
         ],
         "hovertemplate": "Species=%{y}<br>Genus=%{x}<br>kingdom=%{customdata[0]}<br>phylum=%{customdata[1]}<br>class=%{customdata[2]}<br>order=%{customdata[3]}<br>family=%{customdata[4]}<br>sciName=%{customdata[5]}<br>common=%{customdata[6]}<extra></extra>",
         "legendgroup": "aleuticus",
         "marker": {
          "color": "#B6E880",
          "symbol": "circle"
         },
         "mode": "markers",
         "name": "aleuticus",
         "orientation": "v",
         "showlegend": true,
         "type": "scatter",
         "x": [
          "Onychoprion"
         ],
         "xaxis": "x",
         "y": [
          "aleuticus"
         ],
         "yaxis": "y"
        },
        {
         "customdata": [
          [
           "Animalia",
           "Mollusca",
           "Gastropoda",
           "Stylommatophora",
           "Zonitidae",
           "Zonites algirus",
           "algiers snail"
          ]
         ],
         "hovertemplate": "Species=%{y}<br>Genus=%{x}<br>kingdom=%{customdata[0]}<br>phylum=%{customdata[1]}<br>class=%{customdata[2]}<br>order=%{customdata[3]}<br>family=%{customdata[4]}<br>sciName=%{customdata[5]}<br>common=%{customdata[6]}<extra></extra>",
         "legendgroup": "algirus",
         "marker": {
          "color": "#FF97FF",
          "symbol": "circle"
         },
         "mode": "markers",
         "name": "algirus",
         "orientation": "v",
         "showlegend": true,
         "type": "scatter",
         "x": [
          "Zonites"
         ],
         "xaxis": "x",
         "y": [
          "algirus"
         ],
         "yaxis": "y"
        },
        {
         "customdata": [
          [
           "Animalia",
           "Chordata",
           "Reptilia",
           "Testudines",
           "Chelydridae",
           "Macrochelys temminckii",
           "Alligator Snapping Turtle"
          ]
         ],
         "hovertemplate": "Species=%{y}<br>Genus=%{x}<br>kingdom=%{customdata[0]}<br>phylum=%{customdata[1]}<br>class=%{customdata[2]}<br>order=%{customdata[3]}<br>family=%{customdata[4]}<br>sciName=%{customdata[5]}<br>common=%{customdata[6]}<extra></extra>",
         "legendgroup": "temminckii",
         "marker": {
          "color": "#FECB52",
          "symbol": "circle"
         },
         "mode": "markers",
         "name": "temminckii",
         "orientation": "v",
         "showlegend": true,
         "type": "scatter",
         "x": [
          "Macrochelys"
         ],
         "xaxis": "x",
         "y": [
          "temminckii"
         ],
         "yaxis": "y"
        },
        {
         "customdata": [
          [
           "Animalia",
           "Chordata",
           "Mammalia",
           "Soricomorpha",
           "Soricidae",
           "Sorex alpinus",
           "Alpine Shrew"
          ]
         ],
         "hovertemplate": "Species=%{y}<br>Genus=%{x}<br>kingdom=%{customdata[0]}<br>phylum=%{customdata[1]}<br>class=%{customdata[2]}<br>order=%{customdata[3]}<br>family=%{customdata[4]}<br>sciName=%{customdata[5]}<br>common=%{customdata[6]}<extra></extra>",
         "legendgroup": "alpinus",
         "marker": {
          "color": "#636efa",
          "symbol": "circle"
         },
         "mode": "markers",
         "name": "alpinus",
         "orientation": "v",
         "showlegend": true,
         "type": "scatter",
         "x": [
          "Sorex"
         ],
         "xaxis": "x",
         "y": [
          "alpinus"
         ],
         "yaxis": "y"
        },
        {
         "customdata": [
          [
           "Animalia",
           "Chordata",
           "Actinopterygii",
           "Pleuronectiformes",
           "Pleuronectidae",
           "Hippoglossoides platessoides",
           "American dab"
          ]
         ],
         "hovertemplate": "Species=%{y}<br>Genus=%{x}<br>kingdom=%{customdata[0]}<br>phylum=%{customdata[1]}<br>class=%{customdata[2]}<br>order=%{customdata[3]}<br>family=%{customdata[4]}<br>sciName=%{customdata[5]}<br>common=%{customdata[6]}<extra></extra>",
         "legendgroup": "platessoides",
         "marker": {
          "color": "#EF553B",
          "symbol": "circle"
         },
         "mode": "markers",
         "name": "platessoides",
         "orientation": "v",
         "showlegend": true,
         "type": "scatter",
         "x": [
          "Hippoglossoides"
         ],
         "xaxis": "x",
         "y": [
          "platessoides"
         ],
         "yaxis": "y"
        },
        {
         "customdata": [
          [
           "Animalia",
           "Chordata",
           "Mammalia",
           "Carnivora",
           "Ursidae",
           "Tremarctos ornatus",
           "Andean Bear"
          ]
         ],
         "hovertemplate": "Species=%{y}<br>Genus=%{x}<br>kingdom=%{customdata[0]}<br>phylum=%{customdata[1]}<br>class=%{customdata[2]}<br>order=%{customdata[3]}<br>family=%{customdata[4]}<br>sciName=%{customdata[5]}<br>common=%{customdata[6]}<extra></extra>",
         "legendgroup": "ornatus",
         "marker": {
          "color": "#00cc96",
          "symbol": "circle"
         },
         "mode": "markers",
         "name": "ornatus",
         "orientation": "v",
         "showlegend": true,
         "type": "scatter",
         "x": [
          "Tremarctos"
         ],
         "xaxis": "x",
         "y": [
          "ornatus"
         ],
         "yaxis": "y"
        },
        {
         "customdata": [
          [
           "Animalia",
           "Chordata",
           "Chondrichthyes",
           "Squatiniformes",
           "Squatinidae",
           "Squatina squatina",
           "angel shark"
          ]
         ],
         "hovertemplate": "Species=%{y}<br>Genus=%{x}<br>kingdom=%{customdata[0]}<br>phylum=%{customdata[1]}<br>class=%{customdata[2]}<br>order=%{customdata[3]}<br>family=%{customdata[4]}<br>sciName=%{customdata[5]}<br>common=%{customdata[6]}<extra></extra>",
         "legendgroup": "squatina",
         "marker": {
          "color": "#ab63fa",
          "symbol": "circle"
         },
         "mode": "markers",
         "name": "squatina",
         "orientation": "v",
         "showlegend": true,
         "type": "scatter",
         "x": [
          "Squatina"
         ],
         "xaxis": "x",
         "y": [
          "squatina"
         ],
         "yaxis": "y"
        },
        {
         "customdata": [
          [
           "Animalia",
           "Arthropoda",
           "Insecta",
           "Hymenoptera",
           "Formicidae",
           "Pheidole elecebra",
           "ant"
          ]
         ],
         "hovertemplate": "Species=%{y}<br>Genus=%{x}<br>kingdom=%{customdata[0]}<br>phylum=%{customdata[1]}<br>class=%{customdata[2]}<br>order=%{customdata[3]}<br>family=%{customdata[4]}<br>sciName=%{customdata[5]}<br>common=%{customdata[6]}<extra></extra>",
         "legendgroup": "elecebra",
         "marker": {
          "color": "#FFA15A",
          "symbol": "circle"
         },
         "mode": "markers",
         "name": "elecebra",
         "orientation": "v",
         "showlegend": true,
         "type": "scatter",
         "x": [
          "Pheidole"
         ],
         "xaxis": "x",
         "y": [
          "elecebra"
         ],
         "yaxis": "y"
        },
        {
         "customdata": [
          [
           "Animalia",
           "Chordata",
           "Mammalia",
           "Cetacea",
           "Balaenopteridae",
           "Balaenoptera bonaerensis",
           "Antarctic Minke Whale"
          ]
         ],
         "hovertemplate": "Species=%{y}<br>Genus=%{x}<br>kingdom=%{customdata[0]}<br>phylum=%{customdata[1]}<br>class=%{customdata[2]}<br>order=%{customdata[3]}<br>family=%{customdata[4]}<br>sciName=%{customdata[5]}<br>common=%{customdata[6]}<extra></extra>",
         "legendgroup": "bonaerensis",
         "marker": {
          "color": "#19d3f3",
          "symbol": "circle"
         },
         "mode": "markers",
         "name": "bonaerensis",
         "orientation": "v",
         "showlegend": true,
         "type": "scatter",
         "x": [
          "Balaenoptera"
         ],
         "xaxis": "x",
         "y": [
          "bonaerensis"
         ],
         "yaxis": "y"
        },
        {
         "customdata": [
          [
           "Animalia",
           "Chordata",
           "Mammalia",
           "Artiodactyla",
           "Bovidae",
           "Oryx leucoryx",
           "Arabian oryx"
          ]
         ],
         "hovertemplate": "Species=%{y}<br>Genus=%{x}<br>kingdom=%{customdata[0]}<br>phylum=%{customdata[1]}<br>class=%{customdata[2]}<br>order=%{customdata[3]}<br>family=%{customdata[4]}<br>sciName=%{customdata[5]}<br>common=%{customdata[6]}<extra></extra>",
         "legendgroup": "leucoryx",
         "marker": {
          "color": "#FF6692",
          "symbol": "circle"
         },
         "mode": "markers",
         "name": "leucoryx",
         "orientation": "v",
         "showlegend": true,
         "type": "scatter",
         "x": [
          "Oryx"
         ],
         "xaxis": "x",
         "y": [
          "leucoryx"
         ],
         "yaxis": "y"
        },
        {
         "customdata": [
          [
           "Animalia",
           "Chordata",
           "Amphibia",
           "Anura",
           "Bufonidae",
           "Anaxyrus californicus",
           "Arroyo Toad"
          ]
         ],
         "hovertemplate": "Species=%{y}<br>Genus=%{x}<br>kingdom=%{customdata[0]}<br>phylum=%{customdata[1]}<br>class=%{customdata[2]}<br>order=%{customdata[3]}<br>family=%{customdata[4]}<br>sciName=%{customdata[5]}<br>common=%{customdata[6]}<extra></extra>",
         "legendgroup": "californicus",
         "marker": {
          "color": "#B6E880",
          "symbol": "circle"
         },
         "mode": "markers",
         "name": "californicus",
         "orientation": "v",
         "showlegend": true,
         "type": "scatter",
         "x": [
          "Anaxyrus"
         ],
         "xaxis": "x",
         "y": [
          "californicus"
         ],
         "yaxis": "y"
        },
        {
         "customdata": [
          [
           "Animalia",
           "Chordata",
           "Mammalia",
           "Primates",
           "Cercopithecidae",
           "Piliocolobus tephrosceles",
           "Ashy Red Colobus"
          ]
         ],
         "hovertemplate": "Species=%{y}<br>Genus=%{x}<br>kingdom=%{customdata[0]}<br>phylum=%{customdata[1]}<br>class=%{customdata[2]}<br>order=%{customdata[3]}<br>family=%{customdata[4]}<br>sciName=%{customdata[5]}<br>common=%{customdata[6]}<extra></extra>",
         "legendgroup": "tephrosceles",
         "marker": {
          "color": "#FF97FF",
          "symbol": "circle"
         },
         "mode": "markers",
         "name": "tephrosceles",
         "orientation": "v",
         "showlegend": true,
         "type": "scatter",
         "x": [
          "Piliocolobus"
         ],
         "xaxis": "x",
         "y": [
          "tephrosceles"
         ],
         "yaxis": "y"
        },
        {
         "customdata": [
          [
           "Animalia",
           "Chordata",
           "Reptilia",
           "Testudines",
           "Geoemydidae",
           "Pangshura sylhetensis",
           "Assam Roofed Turtle"
          ]
         ],
         "hovertemplate": "Species=%{y}<br>Genus=%{x}<br>kingdom=%{customdata[0]}<br>phylum=%{customdata[1]}<br>class=%{customdata[2]}<br>order=%{customdata[3]}<br>family=%{customdata[4]}<br>sciName=%{customdata[5]}<br>common=%{customdata[6]}<extra></extra>",
         "legendgroup": "sylhetensis",
         "marker": {
          "color": "#FECB52",
          "symbol": "circle"
         },
         "mode": "markers",
         "name": "sylhetensis",
         "orientation": "v",
         "showlegend": true,
         "type": "scatter",
         "x": [
          "Pangshura"
         ],
         "xaxis": "x",
         "y": [
          "sylhetensis"
         ],
         "yaxis": "y"
        },
        {
         "customdata": [
          [
           "Animalia",
           "Chordata",
           "Reptilia",
           "Testudines",
           "Cheloniidae",
           "Lepidochelys kempii",
           "Atlantic ridley"
          ]
         ],
         "hovertemplate": "Species=%{y}<br>Genus=%{x}<br>kingdom=%{customdata[0]}<br>phylum=%{customdata[1]}<br>class=%{customdata[2]}<br>order=%{customdata[3]}<br>family=%{customdata[4]}<br>sciName=%{customdata[5]}<br>common=%{customdata[6]}<extra></extra>",
         "legendgroup": "kempii",
         "marker": {
          "color": "#636efa",
          "symbol": "circle"
         },
         "mode": "markers",
         "name": "kempii",
         "orientation": "v",
         "showlegend": true,
         "type": "scatter",
         "x": [
          "Lepidochelys"
         ],
         "xaxis": "x",
         "y": [
          "kempii"
         ],
         "yaxis": "y"
        },
        {
         "customdata": [
          [
           "Animalia",
           "Chordata",
           "Aves",
           "Procellariiformes",
           "Diomedeidae",
           "Thalassarche chlororhynchos",
           "Atlantic Yellow-nosed Albatross"
          ]
         ],
         "hovertemplate": "Species=%{y}<br>Genus=%{x}<br>kingdom=%{customdata[0]}<br>phylum=%{customdata[1]}<br>class=%{customdata[2]}<br>order=%{customdata[3]}<br>family=%{customdata[4]}<br>sciName=%{customdata[5]}<br>common=%{customdata[6]}<extra></extra>",
         "legendgroup": "chlororhynchos",
         "marker": {
          "color": "#EF553B",
          "symbol": "circle"
         },
         "mode": "markers",
         "name": "chlororhynchos",
         "orientation": "v",
         "showlegend": true,
         "type": "scatter",
         "x": [
          "Thalassarche"
         ],
         "xaxis": "x",
         "y": [
          "chlororhynchos"
         ],
         "yaxis": "y"
        },
        {
         "customdata": [
          [
           "Animalia",
           "Chordata",
           "Aves",
           "Bucerotiformes",
           "Bucerotidae",
           "Anorrhinus austeni",
           "Austen's Brown Hornbill"
          ]
         ],
         "hovertemplate": "Species=%{y}<br>Genus=%{x}<br>kingdom=%{customdata[0]}<br>phylum=%{customdata[1]}<br>class=%{customdata[2]}<br>order=%{customdata[3]}<br>family=%{customdata[4]}<br>sciName=%{customdata[5]}<br>common=%{customdata[6]}<extra></extra>",
         "legendgroup": "austeni",
         "marker": {
          "color": "#00cc96",
          "symbol": "circle"
         },
         "mode": "markers",
         "name": "austeni",
         "orientation": "v",
         "showlegend": true,
         "type": "scatter",
         "x": [
          "Anorrhinus"
         ],
         "xaxis": "x",
         "y": [
          "austeni"
         ],
         "yaxis": "y"
        },
        {
         "customdata": [
          [
           "Animalia",
           "Chordata",
           "Aves",
           "Pelecaniformes",
           "Ardeidae",
           "Botaurus poiciloptilus",
           "Australasian Bittern"
          ]
         ],
         "hovertemplate": "Species=%{y}<br>Genus=%{x}<br>kingdom=%{customdata[0]}<br>phylum=%{customdata[1]}<br>class=%{customdata[2]}<br>order=%{customdata[3]}<br>family=%{customdata[4]}<br>sciName=%{customdata[5]}<br>common=%{customdata[6]}<extra></extra>",
         "legendgroup": "poiciloptilus",
         "marker": {
          "color": "#ab63fa",
          "symbol": "circle"
         },
         "mode": "markers",
         "name": "poiciloptilus",
         "orientation": "v",
         "showlegend": true,
         "type": "scatter",
         "x": [
          "Botaurus"
         ],
         "xaxis": "x",
         "y": [
          "poiciloptilus"
         ],
         "yaxis": "y"
        },
        {
         "customdata": [
          [
           "Animalia",
           "Chordata",
           "Amphibia",
           "Caudata",
           "Ambystomatidae",
           "Ambystoma mexicanum",
           "Axolotl"
          ]
         ],
         "hovertemplate": "Species=%{y}<br>Genus=%{x}<br>kingdom=%{customdata[0]}<br>phylum=%{customdata[1]}<br>class=%{customdata[2]}<br>order=%{customdata[3]}<br>family=%{customdata[4]}<br>sciName=%{customdata[5]}<br>common=%{customdata[6]}<extra></extra>",
         "legendgroup": "mexicanum",
         "marker": {
          "color": "#FFA15A",
          "symbol": "circle"
         },
         "mode": "markers",
         "name": "mexicanum",
         "orientation": "v",
         "showlegend": true,
         "type": "scatter",
         "x": [
          "Ambystoma"
         ],
         "xaxis": "x",
         "y": [
          "mexicanum"
         ],
         "yaxis": "y"
        },
        {
         "customdata": [
          [
           "Animalia",
           "Chordata",
           "Mammalia",
           "Primates",
           "Daubentoniidae",
           "Daubentonia madagascariensis",
           "Aye-aye"
          ]
         ],
         "hovertemplate": "Species=%{y}<br>Genus=%{x}<br>kingdom=%{customdata[0]}<br>phylum=%{customdata[1]}<br>class=%{customdata[2]}<br>order=%{customdata[3]}<br>family=%{customdata[4]}<br>sciName=%{customdata[5]}<br>common=%{customdata[6]}<extra></extra>",
         "legendgroup": "madagascariensis",
         "marker": {
          "color": "#19d3f3",
          "symbol": "circle"
         },
         "mode": "markers",
         "name": "madagascariensis",
         "orientation": "v",
         "showlegend": true,
         "type": "scatter",
         "x": [
          "Daubentonia"
         ],
         "xaxis": "x",
         "y": [
          "madagascariensis"
         ],
         "yaxis": "y"
        },
        {
         "customdata": [
          [
           "Animalia",
           "Chordata",
           "Aves",
           "Passeriformes",
           "Fringillidae",
           "Pyrrhula murina",
           "Azores Bullfinch"
          ]
         ],
         "hovertemplate": "Species=%{y}<br>Genus=%{x}<br>kingdom=%{customdata[0]}<br>phylum=%{customdata[1]}<br>class=%{customdata[2]}<br>order=%{customdata[3]}<br>family=%{customdata[4]}<br>sciName=%{customdata[5]}<br>common=%{customdata[6]}<extra></extra>",
         "legendgroup": "murina",
         "marker": {
          "color": "#FF6692",
          "symbol": "circle"
         },
         "mode": "markers",
         "name": "murina",
         "orientation": "v",
         "showlegend": true,
         "type": "scatter",
         "x": [
          "Pyrrhula"
         ],
         "xaxis": "x",
         "y": [
          "murina"
         ],
         "yaxis": "y"
        },
        {
         "customdata": [
          [
           "Animalia",
           "Chordata",
           "Aves",
           "Trogoniformes",
           "Trogonidae",
           "Trogon bairdii",
           "Baird's Trogon"
          ]
         ],
         "hovertemplate": "Species=%{y}<br>Genus=%{x}<br>kingdom=%{customdata[0]}<br>phylum=%{customdata[1]}<br>class=%{customdata[2]}<br>order=%{customdata[3]}<br>family=%{customdata[4]}<br>sciName=%{customdata[5]}<br>common=%{customdata[6]}<extra></extra>",
         "legendgroup": "bairdii",
         "marker": {
          "color": "#B6E880",
          "symbol": "circle"
         },
         "mode": "markers",
         "name": "bairdii",
         "orientation": "v",
         "showlegend": true,
         "type": "scatter",
         "x": [
          "Trogon"
         ],
         "xaxis": "x",
         "y": [
          "bairdii"
         ],
         "yaxis": "y"
        },
        {
         "customdata": [
          [
           "Animalia",
           "Chordata",
           "Reptilia",
           "Squamata",
           "Iguanidae",
           "Ctenosaura bakeri",
           "Baker's Spinytail Iguana"
          ]
         ],
         "hovertemplate": "Species=%{y}<br>Genus=%{x}<br>kingdom=%{customdata[0]}<br>phylum=%{customdata[1]}<br>class=%{customdata[2]}<br>order=%{customdata[3]}<br>family=%{customdata[4]}<br>sciName=%{customdata[5]}<br>common=%{customdata[6]}<extra></extra>",
         "legendgroup": "bakeri",
         "marker": {
          "color": "#FF97FF",
          "symbol": "circle"
         },
         "mode": "markers",
         "name": "bakeri",
         "orientation": "v",
         "showlegend": true,
         "type": "scatter",
         "x": [
          "Ctenosaura"
         ],
         "xaxis": "x",
         "y": [
          "bakeri"
         ],
         "yaxis": "y"
        },
        {
         "customdata": [
          [
           "Animalia",
           "Chordata",
           "Reptilia",
           "Squamata",
           "Pythonidae",
           "Python regius",
           "Ball Python"
          ]
         ],
         "hovertemplate": "Species=%{y}<br>Genus=%{x}<br>kingdom=%{customdata[0]}<br>phylum=%{customdata[1]}<br>class=%{customdata[2]}<br>order=%{customdata[3]}<br>family=%{customdata[4]}<br>sciName=%{customdata[5]}<br>common=%{customdata[6]}<extra></extra>",
         "legendgroup": "regius",
         "marker": {
          "color": "#FECB52",
          "symbol": "circle"
         },
         "mode": "markers",
         "name": "regius",
         "orientation": "v",
         "showlegend": true,
         "type": "scatter",
         "x": [
          "Python"
         ],
         "xaxis": "x",
         "y": [
          "regius"
         ],
         "yaxis": "y"
        },
        {
         "customdata": [
          [
           "Animalia",
           "Chordata",
           "Actinopterygii",
           "Acipenseriformes",
           "Acipenseridae",
           "Acipenser sturio",
           "Baltic sturgeon"
          ]
         ],
         "hovertemplate": "Species=%{y}<br>Genus=%{x}<br>kingdom=%{customdata[0]}<br>phylum=%{customdata[1]}<br>class=%{customdata[2]}<br>order=%{customdata[3]}<br>family=%{customdata[4]}<br>sciName=%{customdata[5]}<br>common=%{customdata[6]}<extra></extra>",
         "legendgroup": "sturio",
         "marker": {
          "color": "#636efa",
          "symbol": "circle"
         },
         "mode": "markers",
         "name": "sturio",
         "orientation": "v",
         "showlegend": true,
         "type": "scatter",
         "x": [
          "Acipenser"
         ],
         "xaxis": "x",
         "y": [
          "sturio"
         ],
         "yaxis": "y"
        },
        {
         "customdata": [
          [
           "Animalia",
           "Chordata",
           "Mammalia",
           "Carnivora",
           "Ursidae",
           "Ailuropoda melanoleuca",
           "Bamboo Bear"
          ]
         ],
         "hovertemplate": "Species=%{y}<br>Genus=%{x}<br>kingdom=%{customdata[0]}<br>phylum=%{customdata[1]}<br>class=%{customdata[2]}<br>order=%{customdata[3]}<br>family=%{customdata[4]}<br>sciName=%{customdata[5]}<br>common=%{customdata[6]}<extra></extra>",
         "legendgroup": "melanoleuca",
         "marker": {
          "color": "#EF553B",
          "symbol": "circle"
         },
         "mode": "markers",
         "name": "melanoleuca",
         "orientation": "v",
         "showlegend": true,
         "type": "scatter",
         "x": [
          "Ailuropoda"
         ],
         "xaxis": "x",
         "y": [
          "melanoleuca"
         ],
         "yaxis": "y"
        },
        {
         "customdata": [
          [
           "Animalia",
           "Chordata",
           "Reptilia",
           "Squamata",
           "Gekkonidae",
           "Phelsuma standingi",
           "Banded Day Gecko"
          ]
         ],
         "hovertemplate": "Species=%{y}<br>Genus=%{x}<br>kingdom=%{customdata[0]}<br>phylum=%{customdata[1]}<br>class=%{customdata[2]}<br>order=%{customdata[3]}<br>family=%{customdata[4]}<br>sciName=%{customdata[5]}<br>common=%{customdata[6]}<extra></extra>",
         "legendgroup": "standingi",
         "marker": {
          "color": "#00cc96",
          "symbol": "circle"
         },
         "mode": "markers",
         "name": "standingi",
         "orientation": "v",
         "showlegend": true,
         "type": "scatter",
         "x": [
          "Phelsuma"
         ],
         "xaxis": "x",
         "y": [
          "standingi"
         ],
         "yaxis": "y"
        },
        {
         "customdata": [
          [
           "Animalia",
           "Chordata",
           "Reptilia",
           "Squamata",
           "Dactyloidae",
           "Anolis baracoae",
           "Baracoa Anole"
          ]
         ],
         "hovertemplate": "Species=%{y}<br>Genus=%{x}<br>kingdom=%{customdata[0]}<br>phylum=%{customdata[1]}<br>class=%{customdata[2]}<br>order=%{customdata[3]}<br>family=%{customdata[4]}<br>sciName=%{customdata[5]}<br>common=%{customdata[6]}<extra></extra>",
         "legendgroup": "baracoae",
         "marker": {
          "color": "#ab63fa",
          "symbol": "circle"
         },
         "mode": "markers",
         "name": "baracoae",
         "orientation": "v",
         "showlegend": true,
         "type": "scatter",
         "x": [
          "Anolis"
         ],
         "xaxis": "x",
         "y": [
          "baracoae"
         ],
         "yaxis": "y"
        },
        {
         "customdata": [
          [
           "Animalia",
           "Chordata",
           "Reptilia",
           "Squamata",
           "Iguanidae",
           "Conolophus pallidus",
           "Barrington Island Iguana"
          ]
         ],
         "hovertemplate": "Species=%{y}<br>Genus=%{x}<br>kingdom=%{customdata[0]}<br>phylum=%{customdata[1]}<br>class=%{customdata[2]}<br>order=%{customdata[3]}<br>family=%{customdata[4]}<br>sciName=%{customdata[5]}<br>common=%{customdata[6]}<extra></extra>",
         "legendgroup": "pallidus",
         "marker": {
          "color": "#FFA15A",
          "symbol": "circle"
         },
         "mode": "markers",
         "name": "pallidus",
         "orientation": "v",
         "showlegend": true,
         "type": "scatter",
         "x": [
          "Conolophus"
         ],
         "xaxis": "x",
         "y": [
          "pallidus"
         ],
         "yaxis": "y"
        },
        {
         "customdata": [
          [
           "Animalia",
           "Chordata",
           "Chondrichthyes",
           "Lamniformes",
           "Cetorhinidae",
           "Cetorhinus maximus",
           "basking shark"
          ],
          [
           "Animalia",
           "Chordata",
           "Mammalia",
           "Cingulata",
           "Dasypodidae",
           "Priodontes maximus",
           "Giant Armadillo"
          ],
          [
           "Animalia",
           "Chordata",
           "Actinopterygii",
           "Labriformes",
           "Labridae",
           "Lachnolaimus maximus",
           "hogfish"
          ]
         ],
         "hovertemplate": "Species=%{y}<br>Genus=%{x}<br>kingdom=%{customdata[0]}<br>phylum=%{customdata[1]}<br>class=%{customdata[2]}<br>order=%{customdata[3]}<br>family=%{customdata[4]}<br>sciName=%{customdata[5]}<br>common=%{customdata[6]}<extra></extra>",
         "legendgroup": "maximus",
         "marker": {
          "color": "#19d3f3",
          "symbol": "circle"
         },
         "mode": "markers",
         "name": "maximus",
         "orientation": "v",
         "showlegend": true,
         "type": "scatter",
         "x": [
          "Cetorhinus",
          "Priodontes",
          "Lachnolaimus"
         ],
         "xaxis": "x",
         "y": [
          "maximus",
          "maximus",
          "maximus"
         ],
         "yaxis": "y"
        },
        {
         "customdata": [
          [
           "Animalia",
           "Chordata",
           "Aves",
           "Charadriiformes",
           "Burhinidae",
           "Esacus magnirostris",
           "Beach Stone-curlew"
          ]
         ],
         "hovertemplate": "Species=%{y}<br>Genus=%{x}<br>kingdom=%{customdata[0]}<br>phylum=%{customdata[1]}<br>class=%{customdata[2]}<br>order=%{customdata[3]}<br>family=%{customdata[4]}<br>sciName=%{customdata[5]}<br>common=%{customdata[6]}<extra></extra>",
         "legendgroup": "magnirostris",
         "marker": {
          "color": "#FF6692",
          "symbol": "circle"
         },
         "mode": "markers",
         "name": "magnirostris",
         "orientation": "v",
         "showlegend": true,
         "type": "scatter",
         "x": [
          "Esacus"
         ],
         "xaxis": "x",
         "y": [
          "magnirostris"
         ],
         "yaxis": "y"
        },
        {
         "customdata": [
          [
           "Animalia",
           "Chordata",
           "Aves",
           "Passeriformes",
           "Turdidae",
           "Catharus bicknelli",
           "Bicknell's Thrush"
          ]
         ],
         "hovertemplate": "Species=%{y}<br>Genus=%{x}<br>kingdom=%{customdata[0]}<br>phylum=%{customdata[1]}<br>class=%{customdata[2]}<br>order=%{customdata[3]}<br>family=%{customdata[4]}<br>sciName=%{customdata[5]}<br>common=%{customdata[6]}<extra></extra>",
         "legendgroup": "bicknelli",
         "marker": {
          "color": "#B6E880",
          "symbol": "circle"
         },
         "mode": "markers",
         "name": "bicknelli",
         "orientation": "v",
         "showlegend": true,
         "type": "scatter",
         "x": [
          "Catharus"
         ],
         "xaxis": "x",
         "y": [
          "bicknelli"
         ],
         "yaxis": "y"
        },
        {
         "customdata": [
          [
           "Animalia",
           "Chordata",
           "Reptilia",
           "Testudines",
           "Chelidae",
           "Acanthochelys macrocephala",
           "Big-headed Pantanal Swamp Turtle"
          ]
         ],
         "hovertemplate": "Species=%{y}<br>Genus=%{x}<br>kingdom=%{customdata[0]}<br>phylum=%{customdata[1]}<br>class=%{customdata[2]}<br>order=%{customdata[3]}<br>family=%{customdata[4]}<br>sciName=%{customdata[5]}<br>common=%{customdata[6]}<extra></extra>",
         "legendgroup": "macrocephala",
         "marker": {
          "color": "#FF97FF",
          "symbol": "circle"
         },
         "mode": "markers",
         "name": "macrocephala",
         "orientation": "v",
         "showlegend": true,
         "type": "scatter",
         "x": [
          "Acanthochelys"
         ],
         "xaxis": "x",
         "y": [
          "macrocephala"
         ],
         "yaxis": "y"
        },
        {
         "customdata": [
          [
           "Animalia",
           "Chordata",
           "Reptilia",
           "Squamata",
           "Dactyloidae",
           "Anolis macrolepis",
           "Big-scaled Anole"
          ]
         ],
         "hovertemplate": "Species=%{y}<br>Genus=%{x}<br>kingdom=%{customdata[0]}<br>phylum=%{customdata[1]}<br>class=%{customdata[2]}<br>order=%{customdata[3]}<br>family=%{customdata[4]}<br>sciName=%{customdata[5]}<br>common=%{customdata[6]}<extra></extra>",
         "legendgroup": "macrolepis",
         "marker": {
          "color": "#FECB52",
          "symbol": "circle"
         },
         "mode": "markers",
         "name": "macrolepis",
         "orientation": "v",
         "showlegend": true,
         "type": "scatter",
         "x": [
          "Anolis"
         ],
         "xaxis": "x",
         "y": [
          "macrolepis"
         ],
         "yaxis": "y"
        },
        {
         "customdata": [
          [
           "Animalia",
           "Arthropoda",
           "Insecta",
           "Hymenoptera",
           "Formicidae",
           "Polyergus nigerrimus",
           "Black Amazon Ant"
          ]
         ],
         "hovertemplate": "Species=%{y}<br>Genus=%{x}<br>kingdom=%{customdata[0]}<br>phylum=%{customdata[1]}<br>class=%{customdata[2]}<br>order=%{customdata[3]}<br>family=%{customdata[4]}<br>sciName=%{customdata[5]}<br>common=%{customdata[6]}<extra></extra>",
         "legendgroup": "nigerrimus",
         "marker": {
          "color": "#636efa",
          "symbol": "circle"
         },
         "mode": "markers",
         "name": "nigerrimus",
         "orientation": "v",
         "showlegend": true,
         "type": "scatter",
         "x": [
          "Polyergus"
         ],
         "xaxis": "x",
         "y": [
          "nigerrimus"
         ],
         "yaxis": "y"
        },
        {
         "customdata": [
          [
           "Animalia",
           "Arthropoda",
           "Insecta",
           "Phasmida",
           "Pseudophasmatidae",
           "Peruphasma schultei",
           "Black Beauty Stick Insect"
          ]
         ],
         "hovertemplate": "Species=%{y}<br>Genus=%{x}<br>kingdom=%{customdata[0]}<br>phylum=%{customdata[1]}<br>class=%{customdata[2]}<br>order=%{customdata[3]}<br>family=%{customdata[4]}<br>sciName=%{customdata[5]}<br>common=%{customdata[6]}<extra></extra>",
         "legendgroup": "schultei",
         "marker": {
          "color": "#EF553B",
          "symbol": "circle"
         },
         "mode": "markers",
         "name": "schultei",
         "orientation": "v",
         "showlegend": true,
         "type": "scatter",
         "x": [
          "Peruphasma"
         ],
         "xaxis": "x",
         "y": [
          "schultei"
         ],
         "yaxis": "y"
        },
        {
         "customdata": [
          [
           "Animalia",
           "Chordata",
           "Reptilia",
           "Crocodilia",
           "Alligatoridae",
           "Melanosuchus niger",
           "Black Caiman"
          ]
         ],
         "hovertemplate": "Species=%{y}<br>Genus=%{x}<br>kingdom=%{customdata[0]}<br>phylum=%{customdata[1]}<br>class=%{customdata[2]}<br>order=%{customdata[3]}<br>family=%{customdata[4]}<br>sciName=%{customdata[5]}<br>common=%{customdata[6]}<extra></extra>",
         "legendgroup": "niger",
         "marker": {
          "color": "#00cc96",
          "symbol": "circle"
         },
         "mode": "markers",
         "name": "niger",
         "orientation": "v",
         "showlegend": true,
         "type": "scatter",
         "x": [
          "Melanosuchus"
         ],
         "xaxis": "x",
         "y": [
          "niger"
         ],
         "yaxis": "y"
        },
        {
         "customdata": [
          [
           "Animalia",
           "Chordata",
           "Mammalia",
           "Primates",
           "Cebidae",
           "Sapajus nigritus",
           "Black Capuchin"
          ]
         ],
         "hovertemplate": "Species=%{y}<br>Genus=%{x}<br>kingdom=%{customdata[0]}<br>phylum=%{customdata[1]}<br>class=%{customdata[2]}<br>order=%{customdata[3]}<br>family=%{customdata[4]}<br>sciName=%{customdata[5]}<br>common=%{customdata[6]}<extra></extra>",
         "legendgroup": "nigritus",
         "marker": {
          "color": "#ab63fa",
          "symbol": "circle"
         },
         "mode": "markers",
         "name": "nigritus",
         "orientation": "v",
         "showlegend": true,
         "type": "scatter",
         "x": [
          "Sapajus"
         ],
         "xaxis": "x",
         "y": [
          "nigritus"
         ],
         "yaxis": "y"
        },
        {
         "customdata": [
          [
           "Animalia",
           "Chordata",
           "Actinopterygii",
           "Perciformes",
           "Serranidae",
           "Mycteroperca bonaci",
           "black grouper"
          ]
         ],
         "hovertemplate": "Species=%{y}<br>Genus=%{x}<br>kingdom=%{customdata[0]}<br>phylum=%{customdata[1]}<br>class=%{customdata[2]}<br>order=%{customdata[3]}<br>family=%{customdata[4]}<br>sciName=%{customdata[5]}<br>common=%{customdata[6]}<extra></extra>",
         "legendgroup": "bonaci",
         "marker": {
          "color": "#FFA15A",
          "symbol": "circle"
         },
         "mode": "markers",
         "name": "bonaci",
         "orientation": "v",
         "showlegend": true,
         "type": "scatter",
         "x": [
          "Mycteroperca"
         ],
         "xaxis": "x",
         "y": [
          "bonaci"
         ],
         "yaxis": "y"
        },
        {
         "customdata": [
          [
           "Animalia",
           "Chordata",
           "Mammalia",
           "Primates",
           "Atelidae",
           "Alouatta caraya",
           "Black Howler"
          ]
         ],
         "hovertemplate": "Species=%{y}<br>Genus=%{x}<br>kingdom=%{customdata[0]}<br>phylum=%{customdata[1]}<br>class=%{customdata[2]}<br>order=%{customdata[3]}<br>family=%{customdata[4]}<br>sciName=%{customdata[5]}<br>common=%{customdata[6]}<extra></extra>",
         "legendgroup": "caraya",
         "marker": {
          "color": "#19d3f3",
          "symbol": "circle"
         },
         "mode": "markers",
         "name": "caraya",
         "orientation": "v",
         "showlegend": true,
         "type": "scatter",
         "x": [
          "Alouatta"
         ],
         "xaxis": "x",
         "y": [
          "caraya"
         ],
         "yaxis": "y"
        },
        {
         "customdata": [
          [
           "Animalia",
           "Chordata",
           "Aves",
           "Procellariiformes",
           "Procellariidae",
           "Procellaria parkinsoni",
           "Black Petrel"
          ]
         ],
         "hovertemplate": "Species=%{y}<br>Genus=%{x}<br>kingdom=%{customdata[0]}<br>phylum=%{customdata[1]}<br>class=%{customdata[2]}<br>order=%{customdata[3]}<br>family=%{customdata[4]}<br>sciName=%{customdata[5]}<br>common=%{customdata[6]}<extra></extra>",
         "legendgroup": "parkinsoni",
         "marker": {
          "color": "#FF6692",
          "symbol": "circle"
         },
         "mode": "markers",
         "name": "parkinsoni",
         "orientation": "v",
         "showlegend": true,
         "type": "scatter",
         "x": [
          "Procellaria"
         ],
         "xaxis": "x",
         "y": [
          "parkinsoni"
         ],
         "yaxis": "y"
        },
        {
         "customdata": [
          [
           "Animalia",
           "Chordata",
           "Mammalia",
           "Cetacea",
           "Balaenidae",
           "Eubalaena glacialis",
           "black right whale"
          ]
         ],
         "hovertemplate": "Species=%{y}<br>Genus=%{x}<br>kingdom=%{customdata[0]}<br>phylum=%{customdata[1]}<br>class=%{customdata[2]}<br>order=%{customdata[3]}<br>family=%{customdata[4]}<br>sciName=%{customdata[5]}<br>common=%{customdata[6]}<extra></extra>",
         "legendgroup": "glacialis",
         "marker": {
          "color": "#B6E880",
          "symbol": "circle"
         },
         "mode": "markers",
         "name": "glacialis",
         "orientation": "v",
         "showlegend": true,
         "type": "scatter",
         "x": [
          "Eubalaena"
         ],
         "xaxis": "x",
         "y": [
          "glacialis"
         ],
         "yaxis": "y"
        },
        {
         "customdata": [
          [
           "Animalia",
           "Chordata",
           "Mammalia",
           "Primates",
           "Atelidae",
           "Ateles paniscus",
           "Black Spider Monkey"
          ]
         ],
         "hovertemplate": "Species=%{y}<br>Genus=%{x}<br>kingdom=%{customdata[0]}<br>phylum=%{customdata[1]}<br>class=%{customdata[2]}<br>order=%{customdata[3]}<br>family=%{customdata[4]}<br>sciName=%{customdata[5]}<br>common=%{customdata[6]}<extra></extra>",
         "legendgroup": "paniscus",
         "marker": {
          "color": "#FF97FF",
          "symbol": "circle"
         },
         "mode": "markers",
         "name": "paniscus",
         "orientation": "v",
         "showlegend": true,
         "type": "scatter",
         "x": [
          "Ateles"
         ],
         "xaxis": "x",
         "y": [
          "paniscus"
         ],
         "yaxis": "y"
        },
        {
         "customdata": [
          [
           "Animalia",
           "Chordata",
           "Aves",
           "Charadriiformes",
           "Recurvirostridae",
           "Himantopus novaezelandiae",
           "Black Stilt"
          ]
         ],
         "hovertemplate": "Species=%{y}<br>Genus=%{x}<br>kingdom=%{customdata[0]}<br>phylum=%{customdata[1]}<br>class=%{customdata[2]}<br>order=%{customdata[3]}<br>family=%{customdata[4]}<br>sciName=%{customdata[5]}<br>common=%{customdata[6]}<extra></extra>",
         "legendgroup": "novaezelandiae",
         "marker": {
          "color": "#FECB52",
          "symbol": "circle"
         },
         "mode": "markers",
         "name": "novaezelandiae",
         "orientation": "v",
         "showlegend": true,
         "type": "scatter",
         "x": [
          "Himantopus"
         ],
         "xaxis": "x",
         "y": [
          "novaezelandiae"
         ],
         "yaxis": "y"
        },
        {
         "customdata": [
          [
           "Animalia",
           "Chordata",
           "Aves",
           "Galliformes",
           "Odontophoridae",
           "Odontophorus melanonotus",
           "Black-backed Wood Quail"
          ]
         ],
         "hovertemplate": "Species=%{y}<br>Genus=%{x}<br>kingdom=%{customdata[0]}<br>phylum=%{customdata[1]}<br>class=%{customdata[2]}<br>order=%{customdata[3]}<br>family=%{customdata[4]}<br>sciName=%{customdata[5]}<br>common=%{customdata[6]}<extra></extra>",
         "legendgroup": "melanonotus",
         "marker": {
          "color": "#636efa",
          "symbol": "circle"
         },
         "mode": "markers",
         "name": "melanonotus",
         "orientation": "v",
         "showlegend": true,
         "type": "scatter",
         "x": [
          "Odontophorus"
         ],
         "xaxis": "x",
         "y": [
          "melanonotus"
         ],
         "yaxis": "y"
        },
        {
         "customdata": [
          [
           "Animalia",
           "Chordata",
           "Aves",
           "Coraciiformes",
           "Alcedinidae",
           "Halcyon pileata",
           "Black-capped Kingfisher"
          ]
         ],
         "hovertemplate": "Species=%{y}<br>Genus=%{x}<br>kingdom=%{customdata[0]}<br>phylum=%{customdata[1]}<br>class=%{customdata[2]}<br>order=%{customdata[3]}<br>family=%{customdata[4]}<br>sciName=%{customdata[5]}<br>common=%{customdata[6]}<extra></extra>",
         "legendgroup": "pileata",
         "marker": {
          "color": "#EF553B",
          "symbol": "circle"
         },
         "mode": "markers",
         "name": "pileata",
         "orientation": "v",
         "showlegend": true,
         "type": "scatter",
         "x": [
          "Halcyon"
         ],
         "xaxis": "x",
         "y": [
          "pileata"
         ],
         "yaxis": "y"
        },
        {
         "customdata": [
          [
           "Animalia",
           "Chordata",
           "Aves",
           "Passeriformes",
           "Vireonidae",
           "Vireo atricapilla",
           "black-capped vireo"
          ]
         ],
         "hovertemplate": "Species=%{y}<br>Genus=%{x}<br>kingdom=%{customdata[0]}<br>phylum=%{customdata[1]}<br>class=%{customdata[2]}<br>order=%{customdata[3]}<br>family=%{customdata[4]}<br>sciName=%{customdata[5]}<br>common=%{customdata[6]}<extra></extra>",
         "legendgroup": "atricapilla",
         "marker": {
          "color": "#00cc96",
          "symbol": "circle"
         },
         "mode": "markers",
         "name": "atricapilla",
         "orientation": "v",
         "showlegend": true,
         "type": "scatter",
         "x": [
          "Vireo"
         ],
         "xaxis": "x",
         "y": [
          "atricapilla"
         ],
         "yaxis": "y"
        },
        {
         "customdata": [
          [
           "Animalia",
           "Chordata",
           "Mammalia",
           "Primates",
           "Cercopithecidae",
           "Presbytis melalophos",
           "Black-crested Sumatran Langur"
          ]
         ],
         "hovertemplate": "Species=%{y}<br>Genus=%{x}<br>kingdom=%{customdata[0]}<br>phylum=%{customdata[1]}<br>class=%{customdata[2]}<br>order=%{customdata[3]}<br>family=%{customdata[4]}<br>sciName=%{customdata[5]}<br>common=%{customdata[6]}<extra></extra>",
         "legendgroup": "melalophos",
         "marker": {
          "color": "#ab63fa",
          "symbol": "circle"
         },
         "mode": "markers",
         "name": "melalophos",
         "orientation": "v",
         "showlegend": true,
         "type": "scatter",
         "x": [
          "Presbytis"
         ],
         "xaxis": "x",
         "y": [
          "melalophos"
         ],
         "yaxis": "y"
        },
        {
         "customdata": [
          [
           "Animalia",
           "Chordata",
           "Aves",
           "Charadriiformes",
           "Laridae",
           "Chlidonias albostriatus",
           "Black-fronted Tern"
          ]
         ],
         "hovertemplate": "Species=%{y}<br>Genus=%{x}<br>kingdom=%{customdata[0]}<br>phylum=%{customdata[1]}<br>class=%{customdata[2]}<br>order=%{customdata[3]}<br>family=%{customdata[4]}<br>sciName=%{customdata[5]}<br>common=%{customdata[6]}<extra></extra>",
         "legendgroup": "albostriatus",
         "marker": {
          "color": "#FFA15A",
          "symbol": "circle"
         },
         "mode": "markers",
         "name": "albostriatus",
         "orientation": "v",
         "showlegend": true,
         "type": "scatter",
         "x": [
          "Chlidonias"
         ],
         "xaxis": "x",
         "y": [
          "albostriatus"
         ],
         "yaxis": "y"
        },
        {
         "customdata": [
          [
           "Animalia",
           "Chordata",
           "Chondrichthyes",
           "Carcharhiniformes",
           "Carcharhinidae",
           "Carcharhinus acronotus",
           "blacknose shark"
          ]
         ],
         "hovertemplate": "Species=%{y}<br>Genus=%{x}<br>kingdom=%{customdata[0]}<br>phylum=%{customdata[1]}<br>class=%{customdata[2]}<br>order=%{customdata[3]}<br>family=%{customdata[4]}<br>sciName=%{customdata[5]}<br>common=%{customdata[6]}<extra></extra>",
         "legendgroup": "acronotus",
         "marker": {
          "color": "#19d3f3",
          "symbol": "circle"
         },
         "mode": "markers",
         "name": "acronotus",
         "orientation": "v",
         "showlegend": true,
         "type": "scatter",
         "x": [
          "Carcharhinus"
         ],
         "xaxis": "x",
         "y": [
          "acronotus"
         ],
         "yaxis": "y"
        },
        {
         "customdata": [
          [
           "Animalia",
           "Chordata",
           "Actinopterygii",
           "Labriformes",
           "Labridae",
           "Choerodon schoenleinii",
           "blackspot tuskfish"
          ]
         ],
         "hovertemplate": "Species=%{y}<br>Genus=%{x}<br>kingdom=%{customdata[0]}<br>phylum=%{customdata[1]}<br>class=%{customdata[2]}<br>order=%{customdata[3]}<br>family=%{customdata[4]}<br>sciName=%{customdata[5]}<br>common=%{customdata[6]}<extra></extra>",
         "legendgroup": "schoenleinii",
         "marker": {
          "color": "#FF6692",
          "symbol": "circle"
         },
         "mode": "markers",
         "name": "schoenleinii",
         "orientation": "v",
         "showlegend": true,
         "type": "scatter",
         "x": [
          "Choerodon"
         ],
         "xaxis": "x",
         "y": [
          "schoenleinii"
         ],
         "yaxis": "y"
        },
        {
         "customdata": [
          [
           "Animalia",
           "Chordata",
           "Chondrichthyes",
           "Carcharhiniformes",
           "Carcharhinidae",
           "Carcharhinus melanopterus",
           "blacktip reef shark"
          ]
         ],
         "hovertemplate": "Species=%{y}<br>Genus=%{x}<br>kingdom=%{customdata[0]}<br>phylum=%{customdata[1]}<br>class=%{customdata[2]}<br>order=%{customdata[3]}<br>family=%{customdata[4]}<br>sciName=%{customdata[5]}<br>common=%{customdata[6]}<extra></extra>",
         "legendgroup": "melanopterus",
         "marker": {
          "color": "#B6E880",
          "symbol": "circle"
         },
         "mode": "markers",
         "name": "melanopterus",
         "orientation": "v",
         "showlegend": true,
         "type": "scatter",
         "x": [
          "Carcharhinus"
         ],
         "xaxis": "x",
         "y": [
          "melanopterus"
         ],
         "yaxis": "y"
        },
        {
         "customdata": [
          [
           "Animalia",
           "Chordata",
           "Aves",
           "Charadriiformes",
           "Glareolidae",
           "Glareola nordmanni",
           "Black-winged Pratincole"
          ]
         ],
         "hovertemplate": "Species=%{y}<br>Genus=%{x}<br>kingdom=%{customdata[0]}<br>phylum=%{customdata[1]}<br>class=%{customdata[2]}<br>order=%{customdata[3]}<br>family=%{customdata[4]}<br>sciName=%{customdata[5]}<br>common=%{customdata[6]}<extra></extra>",
         "legendgroup": "nordmanni",
         "marker": {
          "color": "#FF97FF",
          "symbol": "circle"
         },
         "mode": "markers",
         "name": "nordmanni",
         "orientation": "v",
         "showlegend": true,
         "type": "scatter",
         "x": [
          "Glareola"
         ],
         "xaxis": "x",
         "y": [
          "nordmanni"
         ],
         "yaxis": "y"
        },
        {
         "customdata": [
          [
           "Animalia",
           "Cnidaria",
           "Anthozoa",
           "Helioporacea",
           "Helioporidae",
           "Heliopora coerulea",
           "blue coral"
          ]
         ],
         "hovertemplate": "Species=%{y}<br>Genus=%{x}<br>kingdom=%{customdata[0]}<br>phylum=%{customdata[1]}<br>class=%{customdata[2]}<br>order=%{customdata[3]}<br>family=%{customdata[4]}<br>sciName=%{customdata[5]}<br>common=%{customdata[6]}<extra></extra>",
         "legendgroup": "coerulea",
         "marker": {
          "color": "#FECB52",
          "symbol": "circle"
         },
         "mode": "markers",
         "name": "coerulea",
         "orientation": "v",
         "showlegend": true,
         "type": "scatter",
         "x": [
          "Heliopora"
         ],
         "xaxis": "x",
         "y": [
          "coerulea"
         ],
         "yaxis": "y"
        },
        {
         "customdata": [
          [
           "Animalia",
           "Chordata",
           "Aves",
           "Anseriformes",
           "Anatidae",
           "Hymenolaimus malacorhynchos",
           "Blue Duck"
          ]
         ],
         "hovertemplate": "Species=%{y}<br>Genus=%{x}<br>kingdom=%{customdata[0]}<br>phylum=%{customdata[1]}<br>class=%{customdata[2]}<br>order=%{customdata[3]}<br>family=%{customdata[4]}<br>sciName=%{customdata[5]}<br>common=%{customdata[6]}<extra></extra>",
         "legendgroup": "malacorhynchos",
         "marker": {
          "color": "#636efa",
          "symbol": "circle"
         },
         "mode": "markers",
         "name": "malacorhynchos",
         "orientation": "v",
         "showlegend": true,
         "type": "scatter",
         "x": [
          "Hymenolaimus"
         ],
         "xaxis": "x",
         "y": [
          "malacorhynchos"
         ],
         "yaxis": "y"
        },
        {
         "customdata": [
          [
           "Animalia",
           "Arthropoda",
           "Insecta",
           "Coleoptera",
           "Carabidae",
           "Carabus intricatus",
           "Blue Ground Beetle"
          ]
         ],
         "hovertemplate": "Species=%{y}<br>Genus=%{x}<br>kingdom=%{customdata[0]}<br>phylum=%{customdata[1]}<br>class=%{customdata[2]}<br>order=%{customdata[3]}<br>family=%{customdata[4]}<br>sciName=%{customdata[5]}<br>common=%{customdata[6]}<extra></extra>",
         "legendgroup": "intricatus",
         "marker": {
          "color": "#EF553B",
          "symbol": "circle"
         },
         "mode": "markers",
         "name": "intricatus",
         "orientation": "v",
         "showlegend": true,
         "type": "scatter",
         "x": [
          "Carabus"
         ],
         "xaxis": "x",
         "y": [
          "intricatus"
         ],
         "yaxis": "y"
        },
        {
         "customdata": [
          [
           "Animalia",
           "Chordata",
           "Aves",
           "Otidiformes",
           "Otididae",
           "Eupodotis caerulescens",
           "Blue Korhaan"
          ]
         ],
         "hovertemplate": "Species=%{y}<br>Genus=%{x}<br>kingdom=%{customdata[0]}<br>phylum=%{customdata[1]}<br>class=%{customdata[2]}<br>order=%{customdata[3]}<br>family=%{customdata[4]}<br>sciName=%{customdata[5]}<br>common=%{customdata[6]}<extra></extra>",
         "legendgroup": "caerulescens",
         "marker": {
          "color": "#00cc96",
          "symbol": "circle"
         },
         "mode": "markers",
         "name": "caerulescens",
         "orientation": "v",
         "showlegend": true,
         "type": "scatter",
         "x": [
          "Eupodotis"
         ],
         "xaxis": "x",
         "y": [
          "caerulescens"
         ],
         "yaxis": "y"
        },
        {
         "customdata": [
          [
           "Animalia",
           "Chordata",
           "Chondrichthyes",
           "Myliobatiformes",
           "Dasyatidae",
           "Dasyatis pastinaca",
           "blue stingray"
          ]
         ],
         "hovertemplate": "Species=%{y}<br>Genus=%{x}<br>kingdom=%{customdata[0]}<br>phylum=%{customdata[1]}<br>class=%{customdata[2]}<br>order=%{customdata[3]}<br>family=%{customdata[4]}<br>sciName=%{customdata[5]}<br>common=%{customdata[6]}<extra></extra>",
         "legendgroup": "pastinaca",
         "marker": {
          "color": "#ab63fa",
          "symbol": "circle"
         },
         "mode": "markers",
         "name": "pastinaca",
         "orientation": "v",
         "showlegend": true,
         "type": "scatter",
         "x": [
          "Dasyatis"
         ],
         "xaxis": "x",
         "y": [
          "pastinaca"
         ],
         "yaxis": "y"
        },
        {
         "customdata": [
          [
           "Animalia",
           "Chordata",
           "Aves",
           "Columbiformes",
           "Columbidae",
           "Starnoenas cyanocephala",
           "Blue-headed Quail-Dove"
          ]
         ],
         "hovertemplate": "Species=%{y}<br>Genus=%{x}<br>kingdom=%{customdata[0]}<br>phylum=%{customdata[1]}<br>class=%{customdata[2]}<br>order=%{customdata[3]}<br>family=%{customdata[4]}<br>sciName=%{customdata[5]}<br>common=%{customdata[6]}<extra></extra>",
         "legendgroup": "cyanocephala",
         "marker": {
          "color": "#FFA15A",
          "symbol": "circle"
         },
         "mode": "markers",
         "name": "cyanocephala",
         "orientation": "v",
         "showlegend": true,
         "type": "scatter",
         "x": [
          "Starnoenas"
         ],
         "xaxis": "x",
         "y": [
          "cyanocephala"
         ],
         "yaxis": "y"
        },
        {
         "customdata": [
          [
           "Animalia",
           "Chordata",
           "Chondrichthyes",
           "Hexanchiformes",
           "Hexanchidae",
           "Notorynchus cepedianus",
           "bluntnose sevengill shark"
          ]
         ],
         "hovertemplate": "Species=%{y}<br>Genus=%{x}<br>kingdom=%{customdata[0]}<br>phylum=%{customdata[1]}<br>class=%{customdata[2]}<br>order=%{customdata[3]}<br>family=%{customdata[4]}<br>sciName=%{customdata[5]}<br>common=%{customdata[6]}<extra></extra>",
         "legendgroup": "cepedianus",
         "marker": {
          "color": "#19d3f3",
          "symbol": "circle"
         },
         "mode": "markers",
         "name": "cepedianus",
         "orientation": "v",
         "showlegend": true,
         "type": "scatter",
         "x": [
          "Notorynchus"
         ],
         "xaxis": "x",
         "y": [
          "cepedianus"
         ],
         "yaxis": "y"
        },
        {
         "customdata": [
          [
           "Animalia",
           "Chordata",
           "Chondrichthyes",
           "Hexanchiformes",
           "Hexanchidae",
           "Hexanchus griseus",
           "bluntnose sixgill shark"
          ]
         ],
         "hovertemplate": "Species=%{y}<br>Genus=%{x}<br>kingdom=%{customdata[0]}<br>phylum=%{customdata[1]}<br>class=%{customdata[2]}<br>order=%{customdata[3]}<br>family=%{customdata[4]}<br>sciName=%{customdata[5]}<br>common=%{customdata[6]}<extra></extra>",
         "legendgroup": "griseus",
         "marker": {
          "color": "#FF6692",
          "symbol": "circle"
         },
         "mode": "markers",
         "name": "griseus",
         "orientation": "v",
         "showlegend": true,
         "type": "scatter",
         "x": [
          "Hexanchus"
         ],
         "xaxis": "x",
         "y": [
          "griseus"
         ],
         "yaxis": "y"
        },
        {
         "customdata": [
          [
           "Animalia",
           "Chordata",
           "Reptilia",
           "Testudines",
           "Emydidae",
           "Glyptemys muhlenbergii",
           "Bog Turtle"
          ]
         ],
         "hovertemplate": "Species=%{y}<br>Genus=%{x}<br>kingdom=%{customdata[0]}<br>phylum=%{customdata[1]}<br>class=%{customdata[2]}<br>order=%{customdata[3]}<br>family=%{customdata[4]}<br>sciName=%{customdata[5]}<br>common=%{customdata[6]}<extra></extra>",
         "legendgroup": "muhlenbergii",
         "marker": {
          "color": "#B6E880",
          "symbol": "circle"
         },
         "mode": "markers",
         "name": "muhlenbergii",
         "orientation": "v",
         "showlegend": true,
         "type": "scatter",
         "x": [
          "Glyptemys"
         ],
         "xaxis": "x",
         "y": [
          "muhlenbergii"
         ],
         "yaxis": "y"
        },
        {
         "customdata": [
          [
           "Animalia",
           "Chordata",
           "Actinopterygii",
           "Albuliformes",
           "Albulidae",
           "Albula vulpes",
           "bonefish"
          ]
         ],
         "hovertemplate": "Species=%{y}<br>Genus=%{x}<br>kingdom=%{customdata[0]}<br>phylum=%{customdata[1]}<br>class=%{customdata[2]}<br>order=%{customdata[3]}<br>family=%{customdata[4]}<br>sciName=%{customdata[5]}<br>common=%{customdata[6]}<extra></extra>",
         "legendgroup": "vulpes",
         "marker": {
          "color": "#FF97FF",
          "symbol": "circle"
         },
         "mode": "markers",
         "name": "vulpes",
         "orientation": "v",
         "showlegend": true,
         "type": "scatter",
         "x": [
          "Albula"
         ],
         "xaxis": "x",
         "y": [
          "vulpes"
         ],
         "yaxis": "y"
        },
        {
         "customdata": [
          [
           "Animalia",
           "Chordata",
           "Chondrichthyes",
           "Carcharhiniformes",
           "Sphyrnidae",
           "Sphyrna tiburo",
           "bonnethead"
          ]
         ],
         "hovertemplate": "Species=%{y}<br>Genus=%{x}<br>kingdom=%{customdata[0]}<br>phylum=%{customdata[1]}<br>class=%{customdata[2]}<br>order=%{customdata[3]}<br>family=%{customdata[4]}<br>sciName=%{customdata[5]}<br>common=%{customdata[6]}<extra></extra>",
         "legendgroup": "tiburo",
         "marker": {
          "color": "#FECB52",
          "symbol": "circle"
         },
         "mode": "markers",
         "name": "tiburo",
         "orientation": "v",
         "showlegend": true,
         "type": "scatter",
         "x": [
          "Sphyrna"
         ],
         "xaxis": "x",
         "y": [
          "tiburo"
         ],
         "yaxis": "y"
        },
        {
         "customdata": [
          [
           "Animalia",
           "Chordata",
           "Chondrichthyes",
           "Rajiformes",
           "Rajidae",
           "Rostroraja alba",
           "bottlenosed skate"
          ]
         ],
         "hovertemplate": "Species=%{y}<br>Genus=%{x}<br>kingdom=%{customdata[0]}<br>phylum=%{customdata[1]}<br>class=%{customdata[2]}<br>order=%{customdata[3]}<br>family=%{customdata[4]}<br>sciName=%{customdata[5]}<br>common=%{customdata[6]}<extra></extra>",
         "legendgroup": "alba",
         "marker": {
          "color": "#636efa",
          "symbol": "circle"
         },
         "mode": "markers",
         "name": "alba",
         "orientation": "v",
         "showlegend": true,
         "type": "scatter",
         "x": [
          "Rostroraja"
         ],
         "xaxis": "x",
         "y": [
          "alba"
         ],
         "yaxis": "y"
        },
        {
         "customdata": [
          [
           "Animalia",
           "Cnidaria",
           "Anthozoa",
           "Scleractinia",
           "Acroporidae",
           "Acropora florida",
           "branch coral"
          ]
         ],
         "hovertemplate": "Species=%{y}<br>Genus=%{x}<br>kingdom=%{customdata[0]}<br>phylum=%{customdata[1]}<br>class=%{customdata[2]}<br>order=%{customdata[3]}<br>family=%{customdata[4]}<br>sciName=%{customdata[5]}<br>common=%{customdata[6]}<extra></extra>",
         "legendgroup": "florida",
         "marker": {
          "color": "#EF553B",
          "symbol": "circle"
         },
         "mode": "markers",
         "name": "florida",
         "orientation": "v",
         "showlegend": true,
         "type": "scatter",
         "x": [
          "Acropora"
         ],
         "xaxis": "x",
         "y": [
          "florida"
         ],
         "yaxis": "y"
        },
        {
         "customdata": [
          [
           "Animalia",
           "Chordata",
           "Reptilia",
           "Testudines",
           "Chelidae",
           "Hydromedusa maximiliani",
           "Brazilian Snake-necked Turtle"
          ]
         ],
         "hovertemplate": "Species=%{y}<br>Genus=%{x}<br>kingdom=%{customdata[0]}<br>phylum=%{customdata[1]}<br>class=%{customdata[2]}<br>order=%{customdata[3]}<br>family=%{customdata[4]}<br>sciName=%{customdata[5]}<br>common=%{customdata[6]}<extra></extra>",
         "legendgroup": "maximiliani",
         "marker": {
          "color": "#00cc96",
          "symbol": "circle"
         },
         "mode": "markers",
         "name": "maximiliani",
         "orientation": "v",
         "showlegend": true,
         "type": "scatter",
         "x": [
          "Hydromedusa"
         ],
         "xaxis": "x",
         "y": [
          "maximiliani"
         ],
         "yaxis": "y"
        },
        {
         "customdata": [
          [
           "Animalia",
           "Chordata",
           "Aves",
           "Charadriiformes",
           "Scolopacidae",
           "Numenius tahitiensis",
           "Bristle-thighed Curlew"
          ]
         ],
         "hovertemplate": "Species=%{y}<br>Genus=%{x}<br>kingdom=%{customdata[0]}<br>phylum=%{customdata[1]}<br>class=%{customdata[2]}<br>order=%{customdata[3]}<br>family=%{customdata[4]}<br>sciName=%{customdata[5]}<br>common=%{customdata[6]}<extra></extra>",
         "legendgroup": "tahitiensis",
         "marker": {
          "color": "#ab63fa",
          "symbol": "circle"
         },
         "mode": "markers",
         "name": "tahitiensis",
         "orientation": "v",
         "showlegend": true,
         "type": "scatter",
         "x": [
          "Numenius"
         ],
         "xaxis": "x",
         "y": [
          "tahitiensis"
         ],
         "yaxis": "y"
        },
        {
         "customdata": [
          [
           "Animalia",
           "Arthropoda",
           "Insecta",
           "Hymenoptera",
           "Formicidae",
           "Polyergus breviceps",
           "Broad-headed Slave-making Ant"
          ]
         ],
         "hovertemplate": "Species=%{y}<br>Genus=%{x}<br>kingdom=%{customdata[0]}<br>phylum=%{customdata[1]}<br>class=%{customdata[2]}<br>order=%{customdata[3]}<br>family=%{customdata[4]}<br>sciName=%{customdata[5]}<br>common=%{customdata[6]}<extra></extra>",
         "legendgroup": "breviceps",
         "marker": {
          "color": "#FFA15A",
          "symbol": "circle"
         },
         "mode": "markers",
         "name": "breviceps",
         "orientation": "v",
         "showlegend": true,
         "type": "scatter",
         "x": [
          "Polyergus"
         ],
         "xaxis": "x",
         "y": [
          "breviceps"
         ],
         "yaxis": "y"
        },
        {
         "customdata": [
          [
           "Animalia",
           "Chordata",
           "Mammalia",
           "Primates",
           "Lemuridae",
           "Eulemur fulvus",
           "Brown Lemur"
          ]
         ],
         "hovertemplate": "Species=%{y}<br>Genus=%{x}<br>kingdom=%{customdata[0]}<br>phylum=%{customdata[1]}<br>class=%{customdata[2]}<br>order=%{customdata[3]}<br>family=%{customdata[4]}<br>sciName=%{customdata[5]}<br>common=%{customdata[6]}<extra></extra>",
         "legendgroup": "fulvus",
         "marker": {
          "color": "#19d3f3",
          "symbol": "circle"
         },
         "mode": "markers",
         "name": "fulvus",
         "orientation": "v",
         "showlegend": true,
         "type": "scatter",
         "x": [
          "Eulemur"
         ],
         "xaxis": "x",
         "y": [
          "fulvus"
         ],
         "yaxis": "y"
        },
        {
         "customdata": [
          [
           "Animalia",
           "Chordata",
           "Mammalia",
           "Primates",
           "Cheirogaleidae",
           "Microcebus rufus",
           "Brown Mouse Lemur"
          ],
          [
           "Animalia",
           "Chordata",
           "Mammalia",
           "Primates",
           "Lemuridae",
           "Eulemur rufus",
           "Rufous Brown Lemur"
          ]
         ],
         "hovertemplate": "Species=%{y}<br>Genus=%{x}<br>kingdom=%{customdata[0]}<br>phylum=%{customdata[1]}<br>class=%{customdata[2]}<br>order=%{customdata[3]}<br>family=%{customdata[4]}<br>sciName=%{customdata[5]}<br>common=%{customdata[6]}<extra></extra>",
         "legendgroup": "rufus",
         "marker": {
          "color": "#FF6692",
          "symbol": "circle"
         },
         "mode": "markers",
         "name": "rufus",
         "orientation": "v",
         "showlegend": true,
         "type": "scatter",
         "x": [
          "Microcebus",
          "Eulemur"
         ],
         "xaxis": "x",
         "y": [
          "rufus",
          "rufus"
         ],
         "yaxis": "y"
        },
        {
         "customdata": [
          [
           "Animalia",
           "Chordata",
           "Mammalia",
           "Primates",
           "Callitrichidae",
           "Callithrix aurita",
           "Buffy-tufted Marmoset"
          ]
         ],
         "hovertemplate": "Species=%{y}<br>Genus=%{x}<br>kingdom=%{customdata[0]}<br>phylum=%{customdata[1]}<br>class=%{customdata[2]}<br>order=%{customdata[3]}<br>family=%{customdata[4]}<br>sciName=%{customdata[5]}<br>common=%{customdata[6]}<extra></extra>",
         "legendgroup": "aurita",
         "marker": {
          "color": "#B6E880",
          "symbol": "circle"
         },
         "mode": "markers",
         "name": "aurita",
         "orientation": "v",
         "showlegend": true,
         "type": "scatter",
         "x": [
          "Callithrix"
         ],
         "xaxis": "x",
         "y": [
          "aurita"
         ],
         "yaxis": "y"
        },
        {
         "customdata": [
          [
           "Animalia",
           "Chordata",
           "Actinopterygii",
           "Salmoniformes",
           "Salmonidae",
           "Salvelinus confluentus",
           "bull trout"
          ]
         ],
         "hovertemplate": "Species=%{y}<br>Genus=%{x}<br>kingdom=%{customdata[0]}<br>phylum=%{customdata[1]}<br>class=%{customdata[2]}<br>order=%{customdata[3]}<br>family=%{customdata[4]}<br>sciName=%{customdata[5]}<br>common=%{customdata[6]}<extra></extra>",
         "legendgroup": "confluentus",
         "marker": {
          "color": "#FF97FF",
          "symbol": "circle"
         },
         "mode": "markers",
         "name": "confluentus",
         "orientation": "v",
         "showlegend": true,
         "type": "scatter",
         "x": [
          "Salvelinus"
         ],
         "xaxis": "x",
         "y": [
          "confluentus"
         ],
         "yaxis": "y"
        },
        {
         "customdata": [
          [
           "Animalia",
           "Chordata",
           "Chondrichthyes",
           "Myliobatiformes",
           "Myliobatidae",
           "Myliobatis freminvillei",
           "Bullnose Eagle Ray"
          ]
         ],
         "hovertemplate": "Species=%{y}<br>Genus=%{x}<br>kingdom=%{customdata[0]}<br>phylum=%{customdata[1]}<br>class=%{customdata[2]}<br>order=%{customdata[3]}<br>family=%{customdata[4]}<br>sciName=%{customdata[5]}<br>common=%{customdata[6]}<extra></extra>",
         "legendgroup": "freminvillei",
         "marker": {
          "color": "#FECB52",
          "symbol": "circle"
         },
         "mode": "markers",
         "name": "freminvillei",
         "orientation": "v",
         "showlegend": true,
         "type": "scatter",
         "x": [
          "Myliobatis"
         ],
         "xaxis": "x",
         "y": [
          "freminvillei"
         ],
         "yaxis": "y"
        },
        {
         "customdata": [
          [
           "Animalia",
           "Cnidaria",
           "Anthozoa",
           "Scleractinia",
           "Lobophylliidae",
           "Cynarina lacrymalis",
           "Button Coral"
          ]
         ],
         "hovertemplate": "Species=%{y}<br>Genus=%{x}<br>kingdom=%{customdata[0]}<br>phylum=%{customdata[1]}<br>class=%{customdata[2]}<br>order=%{customdata[3]}<br>family=%{customdata[4]}<br>sciName=%{customdata[5]}<br>common=%{customdata[6]}<extra></extra>",
         "legendgroup": "lacrymalis",
         "marker": {
          "color": "#636efa",
          "symbol": "circle"
         },
         "mode": "markers",
         "name": "lacrymalis",
         "orientation": "v",
         "showlegend": true,
         "type": "scatter",
         "x": [
          "Cynarina"
         ],
         "xaxis": "x",
         "y": [
          "lacrymalis"
         ],
         "yaxis": "y"
        },
        {
         "customdata": [
          [
           "Animalia",
           "Cnidaria",
           "Anthozoa",
           "Scleractinia",
           "Agariciidae",
           "Pavona decussata",
           "cactus coral"
          ]
         ],
         "hovertemplate": "Species=%{y}<br>Genus=%{x}<br>kingdom=%{customdata[0]}<br>phylum=%{customdata[1]}<br>class=%{customdata[2]}<br>order=%{customdata[3]}<br>family=%{customdata[4]}<br>sciName=%{customdata[5]}<br>common=%{customdata[6]}<extra></extra>",
         "legendgroup": "decussata",
         "marker": {
          "color": "#EF553B",
          "symbol": "circle"
         },
         "mode": "markers",
         "name": "decussata",
         "orientation": "v",
         "showlegend": true,
         "type": "scatter",
         "x": [
          "Pavona"
         ],
         "xaxis": "x",
         "y": [
          "decussata"
         ],
         "yaxis": "y"
        },
        {
         "customdata": [
          [
           "Animalia",
           "Chordata",
           "Chondrichthyes",
           "Myliobatiformes",
           "Gymnuridae",
           "Gymnura marmorata",
           "California butterfly ray"
          ]
         ],
         "hovertemplate": "Species=%{y}<br>Genus=%{x}<br>kingdom=%{customdata[0]}<br>phylum=%{customdata[1]}<br>class=%{customdata[2]}<br>order=%{customdata[3]}<br>family=%{customdata[4]}<br>sciName=%{customdata[5]}<br>common=%{customdata[6]}<extra></extra>",
         "legendgroup": "marmorata",
         "marker": {
          "color": "#00cc96",
          "symbol": "circle"
         },
         "mode": "markers",
         "name": "marmorata",
         "orientation": "v",
         "showlegend": true,
         "type": "scatter",
         "x": [
          "Gymnura"
         ],
         "xaxis": "x",
         "y": [
          "marmorata"
         ],
         "yaxis": "y"
        },
        {
         "customdata": [
          [
           "Animalia",
           "Chordata",
           "Mammalia",
           "Perissodactyla",
           "Equidae",
           "Equus zebra",
           "Cape mountain zebra"
          ]
         ],
         "hovertemplate": "Species=%{y}<br>Genus=%{x}<br>kingdom=%{customdata[0]}<br>phylum=%{customdata[1]}<br>class=%{customdata[2]}<br>order=%{customdata[3]}<br>family=%{customdata[4]}<br>sciName=%{customdata[5]}<br>common=%{customdata[6]}<extra></extra>",
         "legendgroup": "zebra",
         "marker": {
          "color": "#ab63fa",
          "symbol": "circle"
         },
         "mode": "markers",
         "name": "zebra",
         "orientation": "v",
         "showlegend": true,
         "type": "scatter",
         "x": [
          "Equus"
         ],
         "xaxis": "x",
         "y": [
          "zebra"
         ],
         "yaxis": "y"
        },
        {
         "customdata": [
          [
           "Animalia",
           "Arthropoda",
           "Insecta",
           "Odonata",
           "Gomphidae",
           "Ceratogomphus triceraticus",
           "Cape Thorntail"
          ]
         ],
         "hovertemplate": "Species=%{y}<br>Genus=%{x}<br>kingdom=%{customdata[0]}<br>phylum=%{customdata[1]}<br>class=%{customdata[2]}<br>order=%{customdata[3]}<br>family=%{customdata[4]}<br>sciName=%{customdata[5]}<br>common=%{customdata[6]}<extra></extra>",
         "legendgroup": "triceraticus",
         "marker": {
          "color": "#FFA15A",
          "symbol": "circle"
         },
         "mode": "markers",
         "name": "triceraticus",
         "orientation": "v",
         "showlegend": true,
         "type": "scatter",
         "x": [
          "Ceratogomphus"
         ],
         "xaxis": "x",
         "y": [
          "triceraticus"
         ],
         "yaxis": "y"
        },
        {
         "customdata": [
          [
           "Animalia",
           "Chordata",
           "Aves",
           "Accipitriformes",
           "Accipitridae",
           "Gyps coprotheres",
           "Cape Vulture"
          ]
         ],
         "hovertemplate": "Species=%{y}<br>Genus=%{x}<br>kingdom=%{customdata[0]}<br>phylum=%{customdata[1]}<br>class=%{customdata[2]}<br>order=%{customdata[3]}<br>family=%{customdata[4]}<br>sciName=%{customdata[5]}<br>common=%{customdata[6]}<extra></extra>",
         "legendgroup": "coprotheres",
         "marker": {
          "color": "#19d3f3",
          "symbol": "circle"
         },
         "mode": "markers",
         "name": "coprotheres",
         "orientation": "v",
         "showlegend": true,
         "type": "scatter",
         "x": [
          "Gyps"
         ],
         "xaxis": "x",
         "y": [
          "coprotheres"
         ],
         "yaxis": "y"
        },
        {
         "customdata": [
          [
           "Animalia",
           "Chordata",
           "Amphibia",
           "Caudata",
           "Rhyacotritonidae",
           "Rhyacotriton cascadae",
           "Cascade Torrent Salamander"
          ]
         ],
         "hovertemplate": "Species=%{y}<br>Genus=%{x}<br>kingdom=%{customdata[0]}<br>phylum=%{customdata[1]}<br>class=%{customdata[2]}<br>order=%{customdata[3]}<br>family=%{customdata[4]}<br>sciName=%{customdata[5]}<br>common=%{customdata[6]}<extra></extra>",
         "legendgroup": "cascadae",
         "marker": {
          "color": "#FF6692",
          "symbol": "circle"
         },
         "mode": "markers",
         "name": "cascadae",
         "orientation": "v",
         "showlegend": true,
         "type": "scatter",
         "x": [
          "Rhyacotriton"
         ],
         "xaxis": "x",
         "y": [
          "cascadae"
         ],
         "yaxis": "y"
        },
        {
         "customdata": [
          [
           "Animalia",
           "Chordata",
           "Amphibia",
           "Anura",
           "Bufonidae",
           "Atelopus flavescens",
           "Cayenne Stubfoot Toad"
          ]
         ],
         "hovertemplate": "Species=%{y}<br>Genus=%{x}<br>kingdom=%{customdata[0]}<br>phylum=%{customdata[1]}<br>class=%{customdata[2]}<br>order=%{customdata[3]}<br>family=%{customdata[4]}<br>sciName=%{customdata[5]}<br>common=%{customdata[6]}<extra></extra>",
         "legendgroup": "flavescens",
         "marker": {
          "color": "#B6E880",
          "symbol": "circle"
         },
         "mode": "markers",
         "name": "flavescens",
         "orientation": "v",
         "showlegend": true,
         "type": "scatter",
         "x": [
          "Atelopus"
         ],
         "xaxis": "x",
         "y": [
          "flavescens"
         ],
         "yaxis": "y"
        },
        {
         "customdata": [
          [
           "Animalia",
           "Arthropoda",
           "Insecta",
           "Coleoptera",
           "Lucanidae",
           "Ceruchus chrysomelinus",
           "Ceruchus chrysomelinus"
          ]
         ],
         "hovertemplate": "Species=%{y}<br>Genus=%{x}<br>kingdom=%{customdata[0]}<br>phylum=%{customdata[1]}<br>class=%{customdata[2]}<br>order=%{customdata[3]}<br>family=%{customdata[4]}<br>sciName=%{customdata[5]}<br>common=%{customdata[6]}<extra></extra>",
         "legendgroup": "chrysomelinus",
         "marker": {
          "color": "#FF97FF",
          "symbol": "circle"
         },
         "mode": "markers",
         "name": "chrysomelinus",
         "orientation": "v",
         "showlegend": true,
         "type": "scatter",
         "x": [
          "Ceruchus"
         ],
         "xaxis": "x",
         "y": [
          "chrysomelinus"
         ],
         "yaxis": "y"
        },
        {
         "customdata": [
          [
           "Animalia",
           "Chordata",
           "Aves",
           "Galliformes",
           "Cracidae",
           "Penelope ochrogaster",
           "Chestnut-bellied Guan"
          ]
         ],
         "hovertemplate": "Species=%{y}<br>Genus=%{x}<br>kingdom=%{customdata[0]}<br>phylum=%{customdata[1]}<br>class=%{customdata[2]}<br>order=%{customdata[3]}<br>family=%{customdata[4]}<br>sciName=%{customdata[5]}<br>common=%{customdata[6]}<extra></extra>",
         "legendgroup": "ochrogaster",
         "marker": {
          "color": "#FECB52",
          "symbol": "circle"
         },
         "mode": "markers",
         "name": "ochrogaster",
         "orientation": "v",
         "showlegend": true,
         "type": "scatter",
         "x": [
          "Penelope"
         ],
         "xaxis": "x",
         "y": [
          "ochrogaster"
         ],
         "yaxis": "y"
        },
        {
         "customdata": [
          [
           "Animalia",
           "Chordata",
           "Aves",
           "Cuculiformes",
           "Cuculidae",
           "Phaenicophaeus sumatranus",
           "Chestnut-bellied Malkoha"
          ]
         ],
         "hovertemplate": "Species=%{y}<br>Genus=%{x}<br>kingdom=%{customdata[0]}<br>phylum=%{customdata[1]}<br>class=%{customdata[2]}<br>order=%{customdata[3]}<br>family=%{customdata[4]}<br>sciName=%{customdata[5]}<br>common=%{customdata[6]}<extra></extra>",
         "legendgroup": "sumatranus",
         "marker": {
          "color": "#636efa",
          "symbol": "circle"
         },
         "mode": "markers",
         "name": "sumatranus",
         "orientation": "v",
         "showlegend": true,
         "type": "scatter",
         "x": [
          "Phaenicophaeus"
         ],
         "xaxis": "x",
         "y": [
          "sumatranus"
         ],
         "yaxis": "y"
        },
        {
         "customdata": [
          [
           "Animalia",
           "Chordata",
           "Amphibia",
           "Caudata",
           "Cryptobranchidae",
           "Andrias davidianus",
           "Chinese Giant Salamander"
          ],
          [
           "Animalia",
           "Chordata",
           "Mammalia",
           "Artiodactyla",
           "Cervidae",
           "Elaphurus davidianus",
           "Père David's deer"
          ]
         ],
         "hovertemplate": "Species=%{y}<br>Genus=%{x}<br>kingdom=%{customdata[0]}<br>phylum=%{customdata[1]}<br>class=%{customdata[2]}<br>order=%{customdata[3]}<br>family=%{customdata[4]}<br>sciName=%{customdata[5]}<br>common=%{customdata[6]}<extra></extra>",
         "legendgroup": "davidianus",
         "marker": {
          "color": "#EF553B",
          "symbol": "circle"
         },
         "mode": "markers",
         "name": "davidianus",
         "orientation": "v",
         "showlegend": true,
         "type": "scatter",
         "x": [
          "Andrias",
          "Elaphurus"
         ],
         "xaxis": "x",
         "y": [
          "davidianus",
          "davidianus"
         ],
         "yaxis": "y"
        },
        {
         "customdata": [
          [
           "Animalia",
           "Chordata",
           "Reptilia",
           "Squamata",
           "Colubridae",
           "Ptyas korros",
           "Chinese Ratsnake"
          ]
         ],
         "hovertemplate": "Species=%{y}<br>Genus=%{x}<br>kingdom=%{customdata[0]}<br>phylum=%{customdata[1]}<br>class=%{customdata[2]}<br>order=%{customdata[3]}<br>family=%{customdata[4]}<br>sciName=%{customdata[5]}<br>common=%{customdata[6]}<extra></extra>",
         "legendgroup": "korros",
         "marker": {
          "color": "#00cc96",
          "symbol": "circle"
         },
         "mode": "markers",
         "name": "korros",
         "orientation": "v",
         "showlegend": true,
         "type": "scatter",
         "x": [
          "Ptyas"
         ],
         "xaxis": "x",
         "y": [
          "korros"
         ],
         "yaxis": "y"
        },
        {
         "customdata": [
          [
           "Animalia",
           "Chordata",
           "Amphibia",
           "Caudata",
           "Plethodontidae",
           "Bolitoglossa helmrichi",
           "Coban Climbing Salamander"
          ]
         ],
         "hovertemplate": "Species=%{y}<br>Genus=%{x}<br>kingdom=%{customdata[0]}<br>phylum=%{customdata[1]}<br>class=%{customdata[2]}<br>order=%{customdata[3]}<br>family=%{customdata[4]}<br>sciName=%{customdata[5]}<br>common=%{customdata[6]}<extra></extra>",
         "legendgroup": "helmrichi",
         "marker": {
          "color": "#ab63fa",
          "symbol": "circle"
         },
         "mode": "markers",
         "name": "helmrichi",
         "orientation": "v",
         "showlegend": true,
         "type": "scatter",
         "x": [
          "Bolitoglossa"
         ],
         "xaxis": "x",
         "y": [
          "helmrichi"
         ],
         "yaxis": "y"
        },
        {
         "customdata": [
          [
           "Animalia",
           "Cnidaria",
           "Anthozoa",
           "Scleractinia",
           "Fungiidae",
           "Fungia fungites",
           "Common Mushroom Coral"
          ]
         ],
         "hovertemplate": "Species=%{y}<br>Genus=%{x}<br>kingdom=%{customdata[0]}<br>phylum=%{customdata[1]}<br>class=%{customdata[2]}<br>order=%{customdata[3]}<br>family=%{customdata[4]}<br>sciName=%{customdata[5]}<br>common=%{customdata[6]}<extra></extra>",
         "legendgroup": "fungites",
         "marker": {
          "color": "#FFA15A",
          "symbol": "circle"
         },
         "mode": "markers",
         "name": "fungites",
         "orientation": "v",
         "showlegend": true,
         "type": "scatter",
         "x": [
          "Fungia"
         ],
         "xaxis": "x",
         "y": [
          "fungites"
         ],
         "yaxis": "y"
        },
        {
         "customdata": [
          [
           "Animalia",
           "Chordata",
           "Aves",
           "Galliformes",
           "Cracidae",
           "Pipile pipile",
           "Common Piping Guan"
          ]
         ],
         "hovertemplate": "Species=%{y}<br>Genus=%{x}<br>kingdom=%{customdata[0]}<br>phylum=%{customdata[1]}<br>class=%{customdata[2]}<br>order=%{customdata[3]}<br>family=%{customdata[4]}<br>sciName=%{customdata[5]}<br>common=%{customdata[6]}<extra></extra>",
         "legendgroup": "pipile",
         "marker": {
          "color": "#19d3f3",
          "symbol": "circle"
         },
         "mode": "markers",
         "name": "pipile",
         "orientation": "v",
         "showlegend": true,
         "type": "scatter",
         "x": [
          "Pipile"
         ],
         "xaxis": "x",
         "y": [
          "pipile"
         ],
         "yaxis": "y"
        },
        {
         "customdata": [
          [
           "Animalia",
           "Arthropoda",
           "Malacostraca",
           "Decapoda",
           "Palinuridae",
           "Palinurus elephas",
           "common spiny lobster"
          ]
         ],
         "hovertemplate": "Species=%{y}<br>Genus=%{x}<br>kingdom=%{customdata[0]}<br>phylum=%{customdata[1]}<br>class=%{customdata[2]}<br>order=%{customdata[3]}<br>family=%{customdata[4]}<br>sciName=%{customdata[5]}<br>common=%{customdata[6]}<extra></extra>",
         "legendgroup": "elephas",
         "marker": {
          "color": "#FF6692",
          "symbol": "circle"
         },
         "mode": "markers",
         "name": "elephas",
         "orientation": "v",
         "showlegend": true,
         "type": "scatter",
         "x": [
          "Palinurus"
         ],
         "xaxis": "x",
         "y": [
          "elephas"
         ],
         "yaxis": "y"
        },
        {
         "customdata": [
          [
           "Animalia",
           "Chordata",
           "Actinopterygii",
           "Perciformes",
           "Serranidae",
           "Epinephelus polyphekadion",
           "comouflage grouper"
          ]
         ],
         "hovertemplate": "Species=%{y}<br>Genus=%{x}<br>kingdom=%{customdata[0]}<br>phylum=%{customdata[1]}<br>class=%{customdata[2]}<br>order=%{customdata[3]}<br>family=%{customdata[4]}<br>sciName=%{customdata[5]}<br>common=%{customdata[6]}<extra></extra>",
         "legendgroup": "polyphekadion",
         "marker": {
          "color": "#B6E880",
          "symbol": "circle"
         },
         "mode": "markers",
         "name": "polyphekadion",
         "orientation": "v",
         "showlegend": true,
         "type": "scatter",
         "x": [
          "Epinephelus"
         ],
         "xaxis": "x",
         "y": [
          "polyphekadion"
         ],
         "yaxis": "y"
        },
        {
         "customdata": [
          [
           "Animalia",
           "Chordata",
           "Mammalia",
           "Lagomorpha",
           "Leporidae",
           "Sylvilagus transitionalis",
           "Coney"
          ]
         ],
         "hovertemplate": "Species=%{y}<br>Genus=%{x}<br>kingdom=%{customdata[0]}<br>phylum=%{customdata[1]}<br>class=%{customdata[2]}<br>order=%{customdata[3]}<br>family=%{customdata[4]}<br>sciName=%{customdata[5]}<br>common=%{customdata[6]}<extra></extra>",
         "legendgroup": "transitionalis",
         "marker": {
          "color": "#FF97FF",
          "symbol": "circle"
         },
         "mode": "markers",
         "name": "transitionalis",
         "orientation": "v",
         "showlegend": true,
         "type": "scatter",
         "x": [
          "Sylvilagus"
         ],
         "xaxis": "x",
         "y": [
          "transitionalis"
         ],
         "yaxis": "y"
        },
        {
         "customdata": [
          [
           "Animalia",
           "Chordata",
           "Reptilia",
           "Squamata",
           "Dactyloidae",
           "Anolis cooki",
           "Cook's Anole"
          ]
         ],
         "hovertemplate": "Species=%{y}<br>Genus=%{x}<br>kingdom=%{customdata[0]}<br>phylum=%{customdata[1]}<br>class=%{customdata[2]}<br>order=%{customdata[3]}<br>family=%{customdata[4]}<br>sciName=%{customdata[5]}<br>common=%{customdata[6]}<extra></extra>",
         "legendgroup": "cooki",
         "marker": {
          "color": "#FECB52",
          "symbol": "circle"
         },
         "mode": "markers",
         "name": "cooki",
         "orientation": "v",
         "showlegend": true,
         "type": "scatter",
         "x": [
          "Anolis"
         ],
         "xaxis": "x",
         "y": [
          "cooki"
         ],
         "yaxis": "y"
        },
        {
         "customdata": [
          [
           "Animalia",
           "Chordata",
           "Mammalia",
           "Primates",
           "Callitrichidae",
           "Saguinus oedipus",
           "Cotton-top Tamarin"
          ]
         ],
         "hovertemplate": "Species=%{y}<br>Genus=%{x}<br>kingdom=%{customdata[0]}<br>phylum=%{customdata[1]}<br>class=%{customdata[2]}<br>order=%{customdata[3]}<br>family=%{customdata[4]}<br>sciName=%{customdata[5]}<br>common=%{customdata[6]}<extra></extra>",
         "legendgroup": "oedipus",
         "marker": {
          "color": "#636efa",
          "symbol": "circle"
         },
         "mode": "markers",
         "name": "oedipus",
         "orientation": "v",
         "showlegend": true,
         "type": "scatter",
         "x": [
          "Saguinus"
         ],
         "xaxis": "x",
         "y": [
          "oedipus"
         ],
         "yaxis": "y"
        },
        {
         "customdata": [
          [
           "Animalia",
           "Arthropoda",
           "Insecta",
           "Hymenoptera",
           "Formicidae",
           "Dorymyrmex insanus",
           "Crazy Pyramid Ant"
          ]
         ],
         "hovertemplate": "Species=%{y}<br>Genus=%{x}<br>kingdom=%{customdata[0]}<br>phylum=%{customdata[1]}<br>class=%{customdata[2]}<br>order=%{customdata[3]}<br>family=%{customdata[4]}<br>sciName=%{customdata[5]}<br>common=%{customdata[6]}<extra></extra>",
         "legendgroup": "insanus",
         "marker": {
          "color": "#EF553B",
          "symbol": "circle"
         },
         "mode": "markers",
         "name": "insanus",
         "orientation": "v",
         "showlegend": true,
         "type": "scatter",
         "x": [
          "Dorymyrmex"
         ],
         "xaxis": "x",
         "y": [
          "insanus"
         ],
         "yaxis": "y"
        },
        {
         "customdata": [
          [
           "Animalia",
           "Arthropoda",
           "Insecta",
           "Odonata",
           "Coenagrionidae",
           "Leptobasis melinogaster",
           "Cream-tipped Swampdamsel"
          ]
         ],
         "hovertemplate": "Species=%{y}<br>Genus=%{x}<br>kingdom=%{customdata[0]}<br>phylum=%{customdata[1]}<br>class=%{customdata[2]}<br>order=%{customdata[3]}<br>family=%{customdata[4]}<br>sciName=%{customdata[5]}<br>common=%{customdata[6]}<extra></extra>",
         "legendgroup": "melinogaster",
         "marker": {
          "color": "#00cc96",
          "symbol": "circle"
         },
         "mode": "markers",
         "name": "melinogaster",
         "orientation": "v",
         "showlegend": true,
         "type": "scatter",
         "x": [
          "Leptobasis"
         ],
         "xaxis": "x",
         "y": [
          "melinogaster"
         ],
         "yaxis": "y"
        },
        {
         "customdata": [
          [
           "Animalia",
           "Arthropoda",
           "Insecta",
           "Hymenoptera",
           "Apidae",
           "Bombus crotchii",
           "Crotch bumble bee"
          ]
         ],
         "hovertemplate": "Species=%{y}<br>Genus=%{x}<br>kingdom=%{customdata[0]}<br>phylum=%{customdata[1]}<br>class=%{customdata[2]}<br>order=%{customdata[3]}<br>family=%{customdata[4]}<br>sciName=%{customdata[5]}<br>common=%{customdata[6]}<extra></extra>",
         "legendgroup": "crotchii",
         "marker": {
          "color": "#ab63fa",
          "symbol": "circle"
         },
         "mode": "markers",
         "name": "crotchii",
         "orientation": "v",
         "showlegend": true,
         "type": "scatter",
         "x": [
          "Bombus"
         ],
         "xaxis": "x",
         "y": [
          "crotchii"
         ],
         "yaxis": "y"
        },
        {
         "customdata": [
          [
           "Animalia",
           "Chordata",
           "Aves",
           "Accipitriformes",
           "Accipitridae",
           "Stephanoaetus coronatus",
           "Crowned Eagle"
          ],
          [
           "Animalia",
           "Chordata",
           "Aves",
           "Bucerotiformes",
           "Bucerotidae",
           "Anthracoceros coronatus",
           "Malabar Pied Hornbill"
          ]
         ],
         "hovertemplate": "Species=%{y}<br>Genus=%{x}<br>kingdom=%{customdata[0]}<br>phylum=%{customdata[1]}<br>class=%{customdata[2]}<br>order=%{customdata[3]}<br>family=%{customdata[4]}<br>sciName=%{customdata[5]}<br>common=%{customdata[6]}<extra></extra>",
         "legendgroup": "coronatus",
         "marker": {
          "color": "#FFA15A",
          "symbol": "circle"
         },
         "mode": "markers",
         "name": "coronatus",
         "orientation": "v",
         "showlegend": true,
         "type": "scatter",
         "x": [
          "Stephanoaetus",
          "Anthracoceros"
         ],
         "xaxis": "x",
         "y": [
          "coronatus",
          "coronatus"
         ],
         "yaxis": "y"
        },
        {
         "customdata": [
          [
           "Animalia",
           "Chordata",
           "Reptilia",
           "Crocodilia",
           "Crocodylidae",
           "Crocodylus rhombifer",
           "Cuban Crocodile"
          ]
         ],
         "hovertemplate": "Species=%{y}<br>Genus=%{x}<br>kingdom=%{customdata[0]}<br>phylum=%{customdata[1]}<br>class=%{customdata[2]}<br>order=%{customdata[3]}<br>family=%{customdata[4]}<br>sciName=%{customdata[5]}<br>common=%{customdata[6]}<extra></extra>",
         "legendgroup": "rhombifer",
         "marker": {
          "color": "#19d3f3",
          "symbol": "circle"
         },
         "mode": "markers",
         "name": "rhombifer",
         "orientation": "v",
         "showlegend": true,
         "type": "scatter",
         "x": [
          "Crocodylus"
         ],
         "xaxis": "x",
         "y": [
          "rhombifer"
         ],
         "yaxis": "y"
        },
        {
         "customdata": [
          [
           "Animalia",
           "Chordata",
           "Actinopterygii",
           "Lutjaniformes",
           "Lutjanidae",
           "Lutjanus cyanopterus",
           "cubera snapper"
          ]
         ],
         "hovertemplate": "Species=%{y}<br>Genus=%{x}<br>kingdom=%{customdata[0]}<br>phylum=%{customdata[1]}<br>class=%{customdata[2]}<br>order=%{customdata[3]}<br>family=%{customdata[4]}<br>sciName=%{customdata[5]}<br>common=%{customdata[6]}<extra></extra>",
         "legendgroup": "cyanopterus",
         "marker": {
          "color": "#FF6692",
          "symbol": "circle"
         },
         "mode": "markers",
         "name": "cyanopterus",
         "orientation": "v",
         "showlegend": true,
         "type": "scatter",
         "x": [
          "Lutjanus"
         ],
         "xaxis": "x",
         "y": [
          "cyanopterus"
         ],
         "yaxis": "y"
        },
        {
         "customdata": [
          [
           "Animalia",
           "Chordata",
           "Amphibia",
           "Anura",
           "Bufonidae",
           "Atelopus certus",
           "Darien Stubfoot Toad"
          ]
         ],
         "hovertemplate": "Species=%{y}<br>Genus=%{x}<br>kingdom=%{customdata[0]}<br>phylum=%{customdata[1]}<br>class=%{customdata[2]}<br>order=%{customdata[3]}<br>family=%{customdata[4]}<br>sciName=%{customdata[5]}<br>common=%{customdata[6]}<extra></extra>",
         "legendgroup": "certus",
         "marker": {
          "color": "#B6E880",
          "symbol": "circle"
         },
         "mode": "markers",
         "name": "certus",
         "orientation": "v",
         "showlegend": true,
         "type": "scatter",
         "x": [
          "Atelopus"
         ],
         "xaxis": "x",
         "y": [
          "certus"
         ],
         "yaxis": "y"
        },
        {
         "customdata": [
          [
           "Animalia",
           "Chordata",
           "Amphibia",
           "Anura",
           "Rhinodermatidae",
           "Rhinoderma darwinii",
           "Darwin's Frog"
          ]
         ],
         "hovertemplate": "Species=%{y}<br>Genus=%{x}<br>kingdom=%{customdata[0]}<br>phylum=%{customdata[1]}<br>class=%{customdata[2]}<br>order=%{customdata[3]}<br>family=%{customdata[4]}<br>sciName=%{customdata[5]}<br>common=%{customdata[6]}<extra></extra>",
         "legendgroup": "darwinii",
         "marker": {
          "color": "#FF97FF",
          "symbol": "circle"
         },
         "mode": "markers",
         "name": "darwinii",
         "orientation": "v",
         "showlegend": true,
         "type": "scatter",
         "x": [
          "Rhinoderma"
         ],
         "xaxis": "x",
         "y": [
          "darwinii"
         ],
         "yaxis": "y"
        },
        {
         "customdata": [
          [
           "Animalia",
           "Arthropoda",
           "Insecta",
           "Coleoptera",
           "Carabidae",
           "Elaphrus viridis",
           "Delta Green Ground Beetle"
          ]
         ],
         "hovertemplate": "Species=%{y}<br>Genus=%{x}<br>kingdom=%{customdata[0]}<br>phylum=%{customdata[1]}<br>class=%{customdata[2]}<br>order=%{customdata[3]}<br>family=%{customdata[4]}<br>sciName=%{customdata[5]}<br>common=%{customdata[6]}<extra></extra>",
         "legendgroup": "viridis",
         "marker": {
          "color": "#FECB52",
          "symbol": "circle"
         },
         "mode": "markers",
         "name": "viridis",
         "orientation": "v",
         "showlegend": true,
         "type": "scatter",
         "x": [
          "Elaphrus"
         ],
         "xaxis": "x",
         "y": [
          "viridis"
         ],
         "yaxis": "y"
        },
        {
         "customdata": [
          [
           "Animalia",
           "Chordata",
           "Reptilia",
           "Squamata",
           "Anguidae",
           "Abronia deppii",
           "Deppe's Arboreal Alligator Lizard"
          ]
         ],
         "hovertemplate": "Species=%{y}<br>Genus=%{x}<br>kingdom=%{customdata[0]}<br>phylum=%{customdata[1]}<br>class=%{customdata[2]}<br>order=%{customdata[3]}<br>family=%{customdata[4]}<br>sciName=%{customdata[5]}<br>common=%{customdata[6]}<extra></extra>",
         "legendgroup": "deppii",
         "marker": {
          "color": "#636efa",
          "symbol": "circle"
         },
         "mode": "markers",
         "name": "deppii",
         "orientation": "v",
         "showlegend": true,
         "type": "scatter",
         "x": [
          "Abronia"
         ],
         "xaxis": "x",
         "y": [
          "deppii"
         ],
         "yaxis": "y"
        },
        {
         "customdata": [
          [
           "Animalia",
           "Chordata",
           "Actinopterygii",
           "Cyprinodontiformes",
           "Cyprinodontidae",
           "Cyprinodon macularius",
           "desert pupfish"
          ]
         ],
         "hovertemplate": "Species=%{y}<br>Genus=%{x}<br>kingdom=%{customdata[0]}<br>phylum=%{customdata[1]}<br>class=%{customdata[2]}<br>order=%{customdata[3]}<br>family=%{customdata[4]}<br>sciName=%{customdata[5]}<br>common=%{customdata[6]}<extra></extra>",
         "legendgroup": "macularius",
         "marker": {
          "color": "#EF553B",
          "symbol": "circle"
         },
         "mode": "markers",
         "name": "macularius",
         "orientation": "v",
         "showlegend": true,
         "type": "scatter",
         "x": [
          "Cyprinodon"
         ],
         "xaxis": "x",
         "y": [
          "macularius"
         ],
         "yaxis": "y"
        },
        {
         "customdata": [
          [
           "Animalia",
           "Chordata",
           "Aves",
           "Passeriformes",
           "Estrildidae",
           "Stagonopleura guttata",
           "Diamond Firetail"
          ]
         ],
         "hovertemplate": "Species=%{y}<br>Genus=%{x}<br>kingdom=%{customdata[0]}<br>phylum=%{customdata[1]}<br>class=%{customdata[2]}<br>order=%{customdata[3]}<br>family=%{customdata[4]}<br>sciName=%{customdata[5]}<br>common=%{customdata[6]}<extra></extra>",
         "legendgroup": "guttata",
         "marker": {
          "color": "#00cc96",
          "symbol": "circle"
         },
         "mode": "markers",
         "name": "guttata",
         "orientation": "v",
         "showlegend": true,
         "type": "scatter",
         "x": [
          "Stagonopleura"
         ],
         "xaxis": "x",
         "y": [
          "guttata"
         ],
         "yaxis": "y"
        },
        {
         "customdata": [
          [
           "Animalia",
           "Arthropoda",
           "Insecta",
           "Hymenoptera",
           "Formicidae",
           "Nothomyrmecia macrops",
           "Dinosaur Ant"
          ]
         ],
         "hovertemplate": "Species=%{y}<br>Genus=%{x}<br>kingdom=%{customdata[0]}<br>phylum=%{customdata[1]}<br>class=%{customdata[2]}<br>order=%{customdata[3]}<br>family=%{customdata[4]}<br>sciName=%{customdata[5]}<br>common=%{customdata[6]}<extra></extra>",
         "legendgroup": "macrops",
         "marker": {
          "color": "#ab63fa",
          "symbol": "circle"
         },
         "mode": "markers",
         "name": "macrops",
         "orientation": "v",
         "showlegend": true,
         "type": "scatter",
         "x": [
          "Nothomyrmecia"
         ],
         "xaxis": "x",
         "y": [
          "macrops"
         ],
         "yaxis": "y"
        },
        {
         "customdata": [
          [
           "Animalia",
           "Chordata",
           "Chondrichthyes",
           "Squaliformes",
           "Squalidae",
           "Squalus acanthias",
           "dogfish"
          ]
         ],
         "hovertemplate": "Species=%{y}<br>Genus=%{x}<br>kingdom=%{customdata[0]}<br>phylum=%{customdata[1]}<br>class=%{customdata[2]}<br>order=%{customdata[3]}<br>family=%{customdata[4]}<br>sciName=%{customdata[5]}<br>common=%{customdata[6]}<extra></extra>",
         "legendgroup": "acanthias",
         "marker": {
          "color": "#FFA15A",
          "symbol": "circle"
         },
         "mode": "markers",
         "name": "acanthias",
         "orientation": "v",
         "showlegend": true,
         "type": "scatter",
         "x": [
          "Squalus"
         ],
         "xaxis": "x",
         "y": [
          "acanthias"
         ],
         "yaxis": "y"
        },
        {
         "customdata": [
          [
           "Animalia",
           "Cnidaria",
           "Anthozoa",
           "Scleractinia",
           "Meandrinidae",
           "Dichocoenia stokesii",
           "domed star coral"
          ]
         ],
         "hovertemplate": "Species=%{y}<br>Genus=%{x}<br>kingdom=%{customdata[0]}<br>phylum=%{customdata[1]}<br>class=%{customdata[2]}<br>order=%{customdata[3]}<br>family=%{customdata[4]}<br>sciName=%{customdata[5]}<br>common=%{customdata[6]}<extra></extra>",
         "legendgroup": "stokesii",
         "marker": {
          "color": "#19d3f3",
          "symbol": "circle"
         },
         "mode": "markers",
         "name": "stokesii",
         "orientation": "v",
         "showlegend": true,
         "type": "scatter",
         "x": [
          "Dichocoenia"
         ],
         "xaxis": "x",
         "y": [
          "stokesii"
         ],
         "yaxis": "y"
        },
        {
         "customdata": [
          [
           "Animalia",
           "Arthropoda",
           "Insecta",
           "Hymenoptera",
           "Formicidae",
           "Adetomyrma venatrix",
           "dracula ant"
          ]
         ],
         "hovertemplate": "Species=%{y}<br>Genus=%{x}<br>kingdom=%{customdata[0]}<br>phylum=%{customdata[1]}<br>class=%{customdata[2]}<br>order=%{customdata[3]}<br>family=%{customdata[4]}<br>sciName=%{customdata[5]}<br>common=%{customdata[6]}<extra></extra>",
         "legendgroup": "venatrix",
         "marker": {
          "color": "#FF6692",
          "symbol": "circle"
         },
         "mode": "markers",
         "name": "venatrix",
         "orientation": "v",
         "showlegend": true,
         "type": "scatter",
         "x": [
          "Adetomyrma"
         ],
         "xaxis": "x",
         "y": [
          "venatrix"
         ],
         "yaxis": "y"
        },
        {
         "customdata": [
          [
           "Animalia",
           "Chordata",
           "Chondrichthyes",
           "Carcharhiniformes",
           "Carcharhinidae",
           "Carcharhinus obscurus",
           "dusky shark"
          ],
          [
           "Animalia",
           "Chordata",
           "Aves",
           "Passeriformes",
           "Turdidae",
           "Myadestes obscurus",
           "'Oma'o"
          ]
         ],
         "hovertemplate": "Species=%{y}<br>Genus=%{x}<br>kingdom=%{customdata[0]}<br>phylum=%{customdata[1]}<br>class=%{customdata[2]}<br>order=%{customdata[3]}<br>family=%{customdata[4]}<br>sciName=%{customdata[5]}<br>common=%{customdata[6]}<extra></extra>",
         "legendgroup": "obscurus",
         "marker": {
          "color": "#B6E880",
          "symbol": "circle"
         },
         "mode": "markers",
         "name": "obscurus",
         "orientation": "v",
         "showlegend": true,
         "type": "scatter",
         "x": [
          "Carcharhinus",
          "Myadestes"
         ],
         "xaxis": "x",
         "y": [
          "obscurus",
          "obscurus"
         ],
         "yaxis": "y"
        },
        {
         "customdata": [
          [
           "Animalia",
           "Chordata",
           "Mammalia",
           "Primates",
           "Hylobatidae",
           "Hylobates funereus",
           "East Bornean Gray Gibbon"
          ]
         ],
         "hovertemplate": "Species=%{y}<br>Genus=%{x}<br>kingdom=%{customdata[0]}<br>phylum=%{customdata[1]}<br>class=%{customdata[2]}<br>order=%{customdata[3]}<br>family=%{customdata[4]}<br>sciName=%{customdata[5]}<br>common=%{customdata[6]}<extra></extra>",
         "legendgroup": "funereus",
         "marker": {
          "color": "#FF97FF",
          "symbol": "circle"
         },
         "mode": "markers",
         "name": "funereus",
         "orientation": "v",
         "showlegend": true,
         "type": "scatter",
         "x": [
          "Hylobates"
         ],
         "xaxis": "x",
         "y": [
          "funereus"
         ],
         "yaxis": "y"
        },
        {
         "customdata": [
          [
           "Animalia",
           "Chordata",
           "Mammalia",
           "Primates",
           "Cercopithecidae",
           "Trachypithecus auratus",
           "East Javan Langur"
          ],
          [
           "Animalia",
           "Chordata",
           "Mammalia",
           "Rodentia",
           "Cricetidae",
           "Mesocricetus auratus",
           "Golden Hamster"
          ]
         ],
         "hovertemplate": "Species=%{y}<br>Genus=%{x}<br>kingdom=%{customdata[0]}<br>phylum=%{customdata[1]}<br>class=%{customdata[2]}<br>order=%{customdata[3]}<br>family=%{customdata[4]}<br>sciName=%{customdata[5]}<br>common=%{customdata[6]}<extra></extra>",
         "legendgroup": "auratus",
         "marker": {
          "color": "#FECB52",
          "symbol": "circle"
         },
         "mode": "markers",
         "name": "auratus",
         "orientation": "v",
         "showlegend": true,
         "type": "scatter",
         "x": [
          "Trachypithecus",
          "Mesocricetus"
         ],
         "xaxis": "x",
         "y": [
          "auratus",
          "auratus"
         ],
         "yaxis": "y"
        },
        {
         "customdata": [
          [
           "Animalia",
           "Chordata",
           "Mammalia",
           "Chiroptera",
           "Vespertilionidae",
           "Myotis leibii",
           "Eastern Small-footed Bat"
          ]
         ],
         "hovertemplate": "Species=%{y}<br>Genus=%{x}<br>kingdom=%{customdata[0]}<br>phylum=%{customdata[1]}<br>class=%{customdata[2]}<br>order=%{customdata[3]}<br>family=%{customdata[4]}<br>sciName=%{customdata[5]}<br>common=%{customdata[6]}<extra></extra>",
         "legendgroup": "leibii",
         "marker": {
          "color": "#636efa",
          "symbol": "circle"
         },
         "mode": "markers",
         "name": "leibii",
         "orientation": "v",
         "showlegend": true,
         "type": "scatter",
         "x": [
          "Myotis"
         ],
         "xaxis": "x",
         "y": [
          "leibii"
         ],
         "yaxis": "y"
        },
        {
         "customdata": [
          [
           "Animalia",
           "Chordata",
           "Aves",
           "Caprimulgiformes",
           "Caprimulgidae",
           "Antrostomus vociferus",
           "Eastern Whip-poor-will"
          ]
         ],
         "hovertemplate": "Species=%{y}<br>Genus=%{x}<br>kingdom=%{customdata[0]}<br>phylum=%{customdata[1]}<br>class=%{customdata[2]}<br>order=%{customdata[3]}<br>family=%{customdata[4]}<br>sciName=%{customdata[5]}<br>common=%{customdata[6]}<extra></extra>",
         "legendgroup": "vociferus",
         "marker": {
          "color": "#EF553B",
          "symbol": "circle"
         },
         "mode": "markers",
         "name": "vociferus",
         "orientation": "v",
         "showlegend": true,
         "type": "scatter",
         "x": [
          "Antrostomus"
         ],
         "xaxis": "x",
         "y": [
          "vociferus"
         ],
         "yaxis": "y"
        },
        {
         "customdata": [
          [
           "Animalia",
           "Cnidaria",
           "Anthozoa",
           "Scleractinia",
           "Pocilloporidae",
           "Madracis formosa",
           "eight-ray finger coral"
          ]
         ],
         "hovertemplate": "Species=%{y}<br>Genus=%{x}<br>kingdom=%{customdata[0]}<br>phylum=%{customdata[1]}<br>class=%{customdata[2]}<br>order=%{customdata[3]}<br>family=%{customdata[4]}<br>sciName=%{customdata[5]}<br>common=%{customdata[6]}<extra></extra>",
         "legendgroup": "formosa",
         "marker": {
          "color": "#00cc96",
          "symbol": "circle"
         },
         "mode": "markers",
         "name": "formosa",
         "orientation": "v",
         "showlegend": true,
         "type": "scatter",
         "x": [
          "Madracis"
         ],
         "xaxis": "x",
         "y": [
          "formosa"
         ],
         "yaxis": "y"
        },
        {
         "customdata": [
          [
           "Animalia",
           "Chordata",
           "Chondrichthyes",
           "Chimaeriformes",
           "Callorhinchidae",
           "Callorhinchus callorynchus",
           "Elephantfish"
          ]
         ],
         "hovertemplate": "Species=%{y}<br>Genus=%{x}<br>kingdom=%{customdata[0]}<br>phylum=%{customdata[1]}<br>class=%{customdata[2]}<br>order=%{customdata[3]}<br>family=%{customdata[4]}<br>sciName=%{customdata[5]}<br>common=%{customdata[6]}<extra></extra>",
         "legendgroup": "callorynchus",
         "marker": {
          "color": "#ab63fa",
          "symbol": "circle"
         },
         "mode": "markers",
         "name": "callorynchus",
         "orientation": "v",
         "showlegend": true,
         "type": "scatter",
         "x": [
          "Callorhinchus"
         ],
         "xaxis": "x",
         "y": [
          "callorynchus"
         ],
         "yaxis": "y"
        },
        {
         "customdata": [
          [
           "Animalia",
           "Chordata",
           "Aves",
           "Anseriformes",
           "Anatidae",
           "Anser canagicus",
           "Emperor Goose"
          ]
         ],
         "hovertemplate": "Species=%{y}<br>Genus=%{x}<br>kingdom=%{customdata[0]}<br>phylum=%{customdata[1]}<br>class=%{customdata[2]}<br>order=%{customdata[3]}<br>family=%{customdata[4]}<br>sciName=%{customdata[5]}<br>common=%{customdata[6]}<extra></extra>",
         "legendgroup": "canagicus",
         "marker": {
          "color": "#FFA15A",
          "symbol": "circle"
         },
         "mode": "markers",
         "name": "canagicus",
         "orientation": "v",
         "showlegend": true,
         "type": "scatter",
         "x": [
          "Anser"
         ],
         "xaxis": "x",
         "y": [
          "canagicus"
         ],
         "yaxis": "y"
        },
        {
         "customdata": [
          [
           "Animalia",
           "Arthropoda",
           "Arachnida",
           "Araneae",
           "Pisauridae",
           "Dolomedes plantarius",
           "Fen raft spider"
          ]
         ],
         "hovertemplate": "Species=%{y}<br>Genus=%{x}<br>kingdom=%{customdata[0]}<br>phylum=%{customdata[1]}<br>class=%{customdata[2]}<br>order=%{customdata[3]}<br>family=%{customdata[4]}<br>sciName=%{customdata[5]}<br>common=%{customdata[6]}<extra></extra>",
         "legendgroup": "plantarius",
         "marker": {
          "color": "#19d3f3",
          "symbol": "circle"
         },
         "mode": "markers",
         "name": "plantarius",
         "orientation": "v",
         "showlegend": true,
         "type": "scatter",
         "x": [
          "Dolomedes"
         ],
         "xaxis": "x",
         "y": [
          "plantarius"
         ],
         "yaxis": "y"
        },
        {
         "customdata": [
          [
           "Animalia",
           "Chordata",
           "Aves",
           "Apodiformes",
           "Trochilidae",
           "Lophornis chalybeus",
           "Festive Coquette"
          ]
         ],
         "hovertemplate": "Species=%{y}<br>Genus=%{x}<br>kingdom=%{customdata[0]}<br>phylum=%{customdata[1]}<br>class=%{customdata[2]}<br>order=%{customdata[3]}<br>family=%{customdata[4]}<br>sciName=%{customdata[5]}<br>common=%{customdata[6]}<extra></extra>",
         "legendgroup": "chalybeus",
         "marker": {
          "color": "#FF6692",
          "symbol": "circle"
         },
         "mode": "markers",
         "name": "chalybeus",
         "orientation": "v",
         "showlegend": true,
         "type": "scatter",
         "x": [
          "Lophornis"
         ],
         "xaxis": "x",
         "y": [
          "chalybeus"
         ],
         "yaxis": "y"
        },
        {
         "customdata": [
          [
           "Animalia",
           "Mollusca",
           "Bivalvia",
           "Cardiida",
           "Cardiidae",
           "Tridacna squamosa",
           "Fluted Giant Clam"
          ]
         ],
         "hovertemplate": "Species=%{y}<br>Genus=%{x}<br>kingdom=%{customdata[0]}<br>phylum=%{customdata[1]}<br>class=%{customdata[2]}<br>order=%{customdata[3]}<br>family=%{customdata[4]}<br>sciName=%{customdata[5]}<br>common=%{customdata[6]}<extra></extra>",
         "legendgroup": "squamosa",
         "marker": {
          "color": "#B6E880",
          "symbol": "circle"
         },
         "mode": "markers",
         "name": "squamosa",
         "orientation": "v",
         "showlegend": true,
         "type": "scatter",
         "x": [
          "Tridacna"
         ],
         "xaxis": "x",
         "y": [
          "squamosa"
         ],
         "yaxis": "y"
        },
        {
         "customdata": [
          [
           "Animalia",
           "Chordata",
           "Reptilia",
           "Testudines",
           "Carettochelyidae",
           "Carettochelys insculpta",
           "Fly River Turtle"
          ]
         ],
         "hovertemplate": "Species=%{y}<br>Genus=%{x}<br>kingdom=%{customdata[0]}<br>phylum=%{customdata[1]}<br>class=%{customdata[2]}<br>order=%{customdata[3]}<br>family=%{customdata[4]}<br>sciName=%{customdata[5]}<br>common=%{customdata[6]}<extra></extra>",
         "legendgroup": "insculpta",
         "marker": {
          "color": "#FF97FF",
          "symbol": "circle"
         },
         "mode": "markers",
         "name": "insculpta",
         "orientation": "v",
         "showlegend": true,
         "type": "scatter",
         "x": [
          "Carettochelys"
         ],
         "xaxis": "x",
         "y": [
          "insculpta"
         ],
         "yaxis": "y"
        },
        {
         "customdata": [
          [
           "Animalia",
           "Chordata",
           "Aves",
           "Strigiformes",
           "Strigidae",
           "Athene blewitti",
           "Forest Owlet"
          ]
         ],
         "hovertemplate": "Species=%{y}<br>Genus=%{x}<br>kingdom=%{customdata[0]}<br>phylum=%{customdata[1]}<br>class=%{customdata[2]}<br>order=%{customdata[3]}<br>family=%{customdata[4]}<br>sciName=%{customdata[5]}<br>common=%{customdata[6]}<extra></extra>",
         "legendgroup": "blewitti",
         "marker": {
          "color": "#FECB52",
          "symbol": "circle"
         },
         "mode": "markers",
         "name": "blewitti",
         "orientation": "v",
         "showlegend": true,
         "type": "scatter",
         "x": [
          "Athene"
         ],
         "xaxis": "x",
         "y": [
          "blewitti"
         ],
         "yaxis": "y"
        },
        {
         "customdata": [
          [
           "Animalia",
           "Chordata",
           "Aves",
           "Passeriformes",
           "Pardalotidae",
           "Pardalotus quadragintus",
           "Forty-spotted Pardalote"
          ]
         ],
         "hovertemplate": "Species=%{y}<br>Genus=%{x}<br>kingdom=%{customdata[0]}<br>phylum=%{customdata[1]}<br>class=%{customdata[2]}<br>order=%{customdata[3]}<br>family=%{customdata[4]}<br>sciName=%{customdata[5]}<br>common=%{customdata[6]}<extra></extra>",
         "legendgroup": "quadragintus",
         "marker": {
          "color": "#636efa",
          "symbol": "circle"
         },
         "mode": "markers",
         "name": "quadragintus",
         "orientation": "v",
         "showlegend": true,
         "type": "scatter",
         "x": [
          "Pardalotus"
         ],
         "xaxis": "x",
         "y": [
          "quadragintus"
         ],
         "yaxis": "y"
        },
        {
         "customdata": [
          [
           "Animalia",
           "Chordata",
           "Mammalia",
           "Cetacea",
           "Pontoporiidae",
           "Pontoporia blainvillei",
           "Franciscana"
          ]
         ],
         "hovertemplate": "Species=%{y}<br>Genus=%{x}<br>kingdom=%{customdata[0]}<br>phylum=%{customdata[1]}<br>class=%{customdata[2]}<br>order=%{customdata[3]}<br>family=%{customdata[4]}<br>sciName=%{customdata[5]}<br>common=%{customdata[6]}<extra></extra>",
         "legendgroup": "blainvillei",
         "marker": {
          "color": "#EF553B",
          "symbol": "circle"
         },
         "mode": "markers",
         "name": "blainvillei",
         "orientation": "v",
         "showlegend": true,
         "type": "scatter",
         "x": [
          "Pontoporia"
         ],
         "xaxis": "x",
         "y": [
          "blainvillei"
         ],
         "yaxis": "y"
        },
        {
         "customdata": [
          [
           "Animalia",
           "Chordata",
           "Actinopterygii",
           "Siluriformes",
           "Siluridae",
           "Wallago attu",
           "freshwater shark"
          ]
         ],
         "hovertemplate": "Species=%{y}<br>Genus=%{x}<br>kingdom=%{customdata[0]}<br>phylum=%{customdata[1]}<br>class=%{customdata[2]}<br>order=%{customdata[3]}<br>family=%{customdata[4]}<br>sciName=%{customdata[5]}<br>common=%{customdata[6]}<extra></extra>",
         "legendgroup": "attu",
         "marker": {
          "color": "#00cc96",
          "symbol": "circle"
         },
         "mode": "markers",
         "name": "attu",
         "orientation": "v",
         "showlegend": true,
         "type": "scatter",
         "x": [
          "Wallago"
         ],
         "xaxis": "x",
         "y": [
          "attu"
         ],
         "yaxis": "y"
        },
        {
         "customdata": [
          [
           "Animalia",
           "Chordata",
           "Mammalia",
           "Carnivora",
           "Otariidae",
           "Arctocephalus galapagoensis",
           "Galapagos Fur Seal"
          ]
         ],
         "hovertemplate": "Species=%{y}<br>Genus=%{x}<br>kingdom=%{customdata[0]}<br>phylum=%{customdata[1]}<br>class=%{customdata[2]}<br>order=%{customdata[3]}<br>family=%{customdata[4]}<br>sciName=%{customdata[5]}<br>common=%{customdata[6]}<extra></extra>",
         "legendgroup": "galapagoensis",
         "marker": {
          "color": "#ab63fa",
          "symbol": "circle"
         },
         "mode": "markers",
         "name": "galapagoensis",
         "orientation": "v",
         "showlegend": true,
         "type": "scatter",
         "x": [
          "Arctocephalus"
         ],
         "xaxis": "x",
         "y": [
          "galapagoensis"
         ],
         "yaxis": "y"
        },
        {
         "customdata": [
          [
           "Animalia",
           "Chordata",
           "Aves",
           "Sphenisciformes",
           "Spheniscidae",
           "Spheniscus mendiculus",
           "Galapagos Penguin"
          ]
         ],
         "hovertemplate": "Species=%{y}<br>Genus=%{x}<br>kingdom=%{customdata[0]}<br>phylum=%{customdata[1]}<br>class=%{customdata[2]}<br>order=%{customdata[3]}<br>family=%{customdata[4]}<br>sciName=%{customdata[5]}<br>common=%{customdata[6]}<extra></extra>",
         "legendgroup": "mendiculus",
         "marker": {
          "color": "#FFA15A",
          "symbol": "circle"
         },
         "mode": "markers",
         "name": "mendiculus",
         "orientation": "v",
         "showlegend": true,
         "type": "scatter",
         "x": [
          "Spheniscus"
         ],
         "xaxis": "x",
         "y": [
          "mendiculus"
         ],
         "yaxis": "y"
        },
        {
         "customdata": [
          [
           "Animalia",
           "Cnidaria",
           "Anthozoa",
           "Scleractinia",
           "Euphylliidae",
           "Galaxea fascicularis",
           "Galaxy Coral"
          ]
         ],
         "hovertemplate": "Species=%{y}<br>Genus=%{x}<br>kingdom=%{customdata[0]}<br>phylum=%{customdata[1]}<br>class=%{customdata[2]}<br>order=%{customdata[3]}<br>family=%{customdata[4]}<br>sciName=%{customdata[5]}<br>common=%{customdata[6]}<extra></extra>",
         "legendgroup": "fascicularis",
         "marker": {
          "color": "#19d3f3",
          "symbol": "circle"
         },
         "mode": "markers",
         "name": "fascicularis",
         "orientation": "v",
         "showlegend": true,
         "type": "scatter",
         "x": [
          "Galaxea"
         ],
         "xaxis": "x",
         "y": [
          "fascicularis"
         ],
         "yaxis": "y"
        },
        {
         "customdata": [
          [
           "Animalia",
           "Chordata",
           "Mammalia",
           "Rodentia",
           "Gliridae",
           "Eliomys quercinus",
           "Garden Dormouse"
          ]
         ],
         "hovertemplate": "Species=%{y}<br>Genus=%{x}<br>kingdom=%{customdata[0]}<br>phylum=%{customdata[1]}<br>class=%{customdata[2]}<br>order=%{customdata[3]}<br>family=%{customdata[4]}<br>sciName=%{customdata[5]}<br>common=%{customdata[6]}<extra></extra>",
         "legendgroup": "quercinus",
         "marker": {
          "color": "#FF6692",
          "symbol": "circle"
         },
         "mode": "markers",
         "name": "quercinus",
         "orientation": "v",
         "showlegend": true,
         "type": "scatter",
         "x": [
          "Eliomys"
         ],
         "xaxis": "x",
         "y": [
          "quercinus"
         ],
         "yaxis": "y"
        },
        {
         "customdata": [
          [
           "Animalia",
           "Chordata",
           "Reptilia",
           "Crocodilia",
           "Gavialidae",
           "Gavialis gangeticus",
           "Gavial"
          ]
         ],
         "hovertemplate": "Species=%{y}<br>Genus=%{x}<br>kingdom=%{customdata[0]}<br>phylum=%{customdata[1]}<br>class=%{customdata[2]}<br>order=%{customdata[3]}<br>family=%{customdata[4]}<br>sciName=%{customdata[5]}<br>common=%{customdata[6]}<extra></extra>",
         "legendgroup": "gangeticus",
         "marker": {
          "color": "#B6E880",
          "symbol": "circle"
         },
         "mode": "markers",
         "name": "gangeticus",
         "orientation": "v",
         "showlegend": true,
         "type": "scatter",
         "x": [
          "Gavialis"
         ],
         "xaxis": "x",
         "y": [
          "gangeticus"
         ],
         "yaxis": "y"
        },
        {
         "customdata": [
          [
           "Animalia",
           "Arthropoda",
           "Insecta",
           "Hymenoptera",
           "Apidae",
           "Bombus dahlbomii",
           "Giant Bumble Bee"
          ]
         ],
         "hovertemplate": "Species=%{y}<br>Genus=%{x}<br>kingdom=%{customdata[0]}<br>phylum=%{customdata[1]}<br>class=%{customdata[2]}<br>order=%{customdata[3]}<br>family=%{customdata[4]}<br>sciName=%{customdata[5]}<br>common=%{customdata[6]}<extra></extra>",
         "legendgroup": "dahlbomii",
         "marker": {
          "color": "#FF97FF",
          "symbol": "circle"
         },
         "mode": "markers",
         "name": "dahlbomii",
         "orientation": "v",
         "showlegend": true,
         "type": "scatter",
         "x": [
          "Bombus"
         ],
         "xaxis": "x",
         "y": [
          "dahlbomii"
         ],
         "yaxis": "y"
        },
        {
         "customdata": [
          [
           "Animalia",
           "Chordata",
           "Reptilia",
           "Squamata",
           "Colubridae",
           "Thamnophis gigas",
           "Giant Garter Snake"
          ],
          [
           "Animalia",
           "Chordata",
           "Actinopterygii",
           "Pempheriformes",
           "Polyprionidae",
           "Stereolepis gigas",
           "giant sea bass"
          ],
          [
           "Animalia",
           "Mollusca",
           "Bivalvia",
           "Cardiida",
           "Cardiidae",
           "Tridacna gigas",
           "Gigas Giant Clam"
          ]
         ],
         "hovertemplate": "Species=%{y}<br>Genus=%{x}<br>kingdom=%{customdata[0]}<br>phylum=%{customdata[1]}<br>class=%{customdata[2]}<br>order=%{customdata[3]}<br>family=%{customdata[4]}<br>sciName=%{customdata[5]}<br>common=%{customdata[6]}<extra></extra>",
         "legendgroup": "gigas",
         "marker": {
          "color": "#FECB52",
          "symbol": "circle"
         },
         "mode": "markers",
         "name": "gigas",
         "orientation": "v",
         "showlegend": true,
         "type": "scatter",
         "x": [
          "Thamnophis",
          "Stereolepis",
          "Tridacna"
         ],
         "xaxis": "x",
         "y": [
          "gigas",
          "gigas",
          "gigas"
         ],
         "yaxis": "y"
        },
        {
         "customdata": [
          [
           "Animalia",
           "Arthropoda",
           "Insecta",
           "Coleoptera",
           "Cerambycidae",
           "Macrodontia cervicornis",
           "Giant Jawed Sawyer"
          ],
          [
           "Animalia",
           "Cnidaria",
           "Anthozoa",
           "Scleractinia",
           "Acroporidae",
           "Acropora cervicornis",
           "Staghorn Coral"
          ]
         ],
         "hovertemplate": "Species=%{y}<br>Genus=%{x}<br>kingdom=%{customdata[0]}<br>phylum=%{customdata[1]}<br>class=%{customdata[2]}<br>order=%{customdata[3]}<br>family=%{customdata[4]}<br>sciName=%{customdata[5]}<br>common=%{customdata[6]}<extra></extra>",
         "legendgroup": "cervicornis",
         "marker": {
          "color": "#636efa",
          "symbol": "circle"
         },
         "mode": "markers",
         "name": "cervicornis",
         "orientation": "v",
         "showlegend": true,
         "type": "scatter",
         "x": [
          "Macrodontia",
          "Acropora"
         ],
         "xaxis": "x",
         "y": [
          "cervicornis",
          "cervicornis"
         ],
         "yaxis": "y"
        },
        {
         "customdata": [
          [
           "Animalia",
           "Chordata",
           "Mammalia",
           "Carnivora",
           "Mustelidae",
           "Pteronura brasiliensis",
           "Giant Otter"
          ],
          [
           "Animalia",
           "Chordata",
           "Mammalia",
           "Lagomorpha",
           "Leporidae",
           "Sylvilagus brasiliensis",
           "Tapeti"
          ]
         ],
         "hovertemplate": "Species=%{y}<br>Genus=%{x}<br>kingdom=%{customdata[0]}<br>phylum=%{customdata[1]}<br>class=%{customdata[2]}<br>order=%{customdata[3]}<br>family=%{customdata[4]}<br>sciName=%{customdata[5]}<br>common=%{customdata[6]}<extra></extra>",
         "legendgroup": "brasiliensis",
         "marker": {
          "color": "#EF553B",
          "symbol": "circle"
         },
         "mode": "markers",
         "name": "brasiliensis",
         "orientation": "v",
         "showlegend": true,
         "type": "scatter",
         "x": [
          "Pteronura",
          "Sylvilagus"
         ],
         "xaxis": "x",
         "y": [
          "brasiliensis",
          "brasiliensis"
         ],
         "yaxis": "y"
        },
        {
         "customdata": [
          [
           "Animalia",
           "Arthropoda",
           "Insecta",
           "Coleoptera",
           "Attelabidae",
           "Trachelophorus giraffa",
           "Giraffe Weevil"
          ]
         ],
         "hovertemplate": "Species=%{y}<br>Genus=%{x}<br>kingdom=%{customdata[0]}<br>phylum=%{customdata[1]}<br>class=%{customdata[2]}<br>order=%{customdata[3]}<br>family=%{customdata[4]}<br>sciName=%{customdata[5]}<br>common=%{customdata[6]}<extra></extra>",
         "legendgroup": "giraffa",
         "marker": {
          "color": "#00cc96",
          "symbol": "circle"
         },
         "mode": "markers",
         "name": "giraffa",
         "orientation": "v",
         "showlegend": true,
         "type": "scatter",
         "x": [
          "Trachelophorus"
         ],
         "xaxis": "x",
         "y": [
          "giraffa"
         ],
         "yaxis": "y"
        },
        {
         "customdata": [
          [
           "Animalia",
           "Chordata",
           "Amphibia",
           "Anura",
           "Mantellidae",
           "Mantella aurantiaca",
           "Golden Mantella"
          ]
         ],
         "hovertemplate": "Species=%{y}<br>Genus=%{x}<br>kingdom=%{customdata[0]}<br>phylum=%{customdata[1]}<br>class=%{customdata[2]}<br>order=%{customdata[3]}<br>family=%{customdata[4]}<br>sciName=%{customdata[5]}<br>common=%{customdata[6]}<extra></extra>",
         "legendgroup": "aurantiaca",
         "marker": {
          "color": "#ab63fa",
          "symbol": "circle"
         },
         "mode": "markers",
         "name": "aurantiaca",
         "orientation": "v",
         "showlegend": true,
         "type": "scatter",
         "x": [
          "Mantella"
         ],
         "xaxis": "x",
         "y": [
          "aurantiaca"
         ],
         "yaxis": "y"
        },
        {
         "customdata": [
          [
           "Animalia",
           "Chordata",
           "Amphibia",
           "Caudata",
           "Salamandridae",
           "Chioglossa lusitanica",
           "Gold-striped salamander"
          ]
         ],
         "hovertemplate": "Species=%{y}<br>Genus=%{x}<br>kingdom=%{customdata[0]}<br>phylum=%{customdata[1]}<br>class=%{customdata[2]}<br>order=%{customdata[3]}<br>family=%{customdata[4]}<br>sciName=%{customdata[5]}<br>common=%{customdata[6]}<extra></extra>",
         "legendgroup": "lusitanica",
         "marker": {
          "color": "#FFA15A",
          "symbol": "circle"
         },
         "mode": "markers",
         "name": "lusitanica",
         "orientation": "v",
         "showlegend": true,
         "type": "scatter",
         "x": [
          "Chioglossa"
         ],
         "xaxis": "x",
         "y": [
          "lusitanica"
         ],
         "yaxis": "y"
        },
        {
         "customdata": [
          [
           "Animalia",
           "Chordata",
           "Amphibia",
           "Anura",
           "Dendrobatidae",
           "Phyllobates vittatus",
           "Golfo Dulce Poison-Dart Frog"
          ]
         ],
         "hovertemplate": "Species=%{y}<br>Genus=%{x}<br>kingdom=%{customdata[0]}<br>phylum=%{customdata[1]}<br>class=%{customdata[2]}<br>order=%{customdata[3]}<br>family=%{customdata[4]}<br>sciName=%{customdata[5]}<br>common=%{customdata[6]}<extra></extra>",
         "legendgroup": "vittatus",
         "marker": {
          "color": "#19d3f3",
          "symbol": "circle"
         },
         "mode": "markers",
         "name": "vittatus",
         "orientation": "v",
         "showlegend": true,
         "type": "scatter",
         "x": [
          "Phyllobates"
         ],
         "xaxis": "x",
         "y": [
          "vittatus"
         ],
         "yaxis": "y"
        },
        {
         "customdata": [
          [
           "Animalia",
           "Chordata",
           "Reptilia",
           "Squamata",
           "Iguanidae",
           "Cyclura lewisi",
           "Grand Cayman Blue Iguana"
          ]
         ],
         "hovertemplate": "Species=%{y}<br>Genus=%{x}<br>kingdom=%{customdata[0]}<br>phylum=%{customdata[1]}<br>class=%{customdata[2]}<br>order=%{customdata[3]}<br>family=%{customdata[4]}<br>sciName=%{customdata[5]}<br>common=%{customdata[6]}<extra></extra>",
         "legendgroup": "lewisi",
         "marker": {
          "color": "#FF6692",
          "symbol": "circle"
         },
         "mode": "markers",
         "name": "lewisi",
         "orientation": "v",
         "showlegend": true,
         "type": "scatter",
         "x": [
          "Cyclura"
         ],
         "xaxis": "x",
         "y": [
          "lewisi"
         ],
         "yaxis": "y"
        },
        {
         "customdata": [
          [
           "Animalia",
           "Chordata",
           "Mammalia",
           "Chiroptera",
           "Vespertilionidae",
           "Myotis grisescens",
           "Gray Bat"
          ]
         ],
         "hovertemplate": "Species=%{y}<br>Genus=%{x}<br>kingdom=%{customdata[0]}<br>phylum=%{customdata[1]}<br>class=%{customdata[2]}<br>order=%{customdata[3]}<br>family=%{customdata[4]}<br>sciName=%{customdata[5]}<br>common=%{customdata[6]}<extra></extra>",
         "legendgroup": "grisescens",
         "marker": {
          "color": "#B6E880",
          "symbol": "circle"
         },
         "mode": "markers",
         "name": "grisescens",
         "orientation": "v",
         "showlegend": true,
         "type": "scatter",
         "x": [
          "Myotis"
         ],
         "xaxis": "x",
         "y": [
          "grisescens"
         ],
         "yaxis": "y"
        },
        {
         "customdata": [
          [
           "Animalia",
           "Chordata",
           "Chondrichthyes",
           "Squaliformes",
           "Somniosidae",
           "Somniosus microcephalus",
           "gray shark"
          ]
         ],
         "hovertemplate": "Species=%{y}<br>Genus=%{x}<br>kingdom=%{customdata[0]}<br>phylum=%{customdata[1]}<br>class=%{customdata[2]}<br>order=%{customdata[3]}<br>family=%{customdata[4]}<br>sciName=%{customdata[5]}<br>common=%{customdata[6]}<extra></extra>",
         "legendgroup": "microcephalus",
         "marker": {
          "color": "#FF97FF",
          "symbol": "circle"
         },
         "mode": "markers",
         "name": "microcephalus",
         "orientation": "v",
         "showlegend": true,
         "type": "scatter",
         "x": [
          "Somniosus"
         ],
         "xaxis": "x",
         "y": [
          "microcephalus"
         ],
         "yaxis": "y"
        },
        {
         "customdata": [
          [
           "Animalia",
           "Chordata",
           "Actinopterygii",
           "Tetraodontiformes",
           "Balistidae",
           "Balistes capriscus",
           "gray triggerfish"
          ]
         ],
         "hovertemplate": "Species=%{y}<br>Genus=%{x}<br>kingdom=%{customdata[0]}<br>phylum=%{customdata[1]}<br>class=%{customdata[2]}<br>order=%{customdata[3]}<br>family=%{customdata[4]}<br>sciName=%{customdata[5]}<br>common=%{customdata[6]}<extra></extra>",
         "legendgroup": "capriscus",
         "marker": {
          "color": "#FECB52",
          "symbol": "circle"
         },
         "mode": "markers",
         "name": "capriscus",
         "orientation": "v",
         "showlegend": true,
         "type": "scatter",
         "x": [
          "Balistes"
         ],
         "xaxis": "x",
         "y": [
          "capriscus"
         ],
         "yaxis": "y"
        },
        {
         "customdata": [
          [
           "Animalia",
           "Chordata",
           "Mammalia",
           "Primates",
           "Aotidae",
           "Aotus lemurinus",
           "Gray-bellied Night Monkey"
          ]
         ],
         "hovertemplate": "Species=%{y}<br>Genus=%{x}<br>kingdom=%{customdata[0]}<br>phylum=%{customdata[1]}<br>class=%{customdata[2]}<br>order=%{customdata[3]}<br>family=%{customdata[4]}<br>sciName=%{customdata[5]}<br>common=%{customdata[6]}<extra></extra>",
         "legendgroup": "lemurinus",
         "marker": {
          "color": "#636efa",
          "symbol": "circle"
         },
         "mode": "markers",
         "name": "lemurinus",
         "orientation": "v",
         "showlegend": true,
         "type": "scatter",
         "x": [
          "Aotus"
         ],
         "xaxis": "x",
         "y": [
          "lemurinus"
         ],
         "yaxis": "y"
        },
        {
         "customdata": [
          [
           "Animalia",
           "Chordata",
           "Mammalia",
           "Primates",
           "Aotidae",
           "Aotus griseimembra",
           "Gray-legged Night Monkey"
          ]
         ],
         "hovertemplate": "Species=%{y}<br>Genus=%{x}<br>kingdom=%{customdata[0]}<br>phylum=%{customdata[1]}<br>class=%{customdata[2]}<br>order=%{customdata[3]}<br>family=%{customdata[4]}<br>sciName=%{customdata[5]}<br>common=%{customdata[6]}<extra></extra>",
         "legendgroup": "griseimembra",
         "marker": {
          "color": "#EF553B",
          "symbol": "circle"
         },
         "mode": "markers",
         "name": "griseimembra",
         "orientation": "v",
         "showlegend": true,
         "type": "scatter",
         "x": [
          "Aotus"
         ],
         "xaxis": "x",
         "y": [
          "griseimembra"
         ],
         "yaxis": "y"
        },
        {
         "customdata": [
          [
           "Animalia",
           "Chordata",
           "Reptilia",
           "Squamata",
           "Diplodactylidae",
           "Mokopirirakau granulatus",
           "Gray's Sticky-toed Gecko"
          ]
         ],
         "hovertemplate": "Species=%{y}<br>Genus=%{x}<br>kingdom=%{customdata[0]}<br>phylum=%{customdata[1]}<br>class=%{customdata[2]}<br>order=%{customdata[3]}<br>family=%{customdata[4]}<br>sciName=%{customdata[5]}<br>common=%{customdata[6]}<extra></extra>",
         "legendgroup": "granulatus",
         "marker": {
          "color": "#00cc96",
          "symbol": "circle"
         },
         "mode": "markers",
         "name": "granulatus",
         "orientation": "v",
         "showlegend": true,
         "type": "scatter",
         "x": [
          "Mokopirirakau"
         ],
         "xaxis": "x",
         "y": [
          "granulatus"
         ],
         "yaxis": "y"
        },
        {
         "customdata": [
          [
           "Animalia",
           "Chordata",
           "Chondrichthyes",
           "Carcharhiniformes",
           "Sphyrnidae",
           "Sphyrna mokarran",
           "great hammerhead"
          ]
         ],
         "hovertemplate": "Species=%{y}<br>Genus=%{x}<br>kingdom=%{customdata[0]}<br>phylum=%{customdata[1]}<br>class=%{customdata[2]}<br>order=%{customdata[3]}<br>family=%{customdata[4]}<br>sciName=%{customdata[5]}<br>common=%{customdata[6]}<extra></extra>",
         "legendgroup": "mokarran",
         "marker": {
          "color": "#ab63fa",
          "symbol": "circle"
         },
         "mode": "markers",
         "name": "mokarran",
         "orientation": "v",
         "showlegend": true,
         "type": "scatter",
         "x": [
          "Sphyrna"
         ],
         "xaxis": "x",
         "y": [
          "mokarran"
         ],
         "yaxis": "y"
        },
        {
         "customdata": [
          [
           "Animalia",
           "Chordata",
           "Aves",
           "Bucerotiformes",
           "Bucerotidae",
           "Buceros bicornis",
           "Great Hornbill"
          ]
         ],
         "hovertemplate": "Species=%{y}<br>Genus=%{x}<br>kingdom=%{customdata[0]}<br>phylum=%{customdata[1]}<br>class=%{customdata[2]}<br>order=%{customdata[3]}<br>family=%{customdata[4]}<br>sciName=%{customdata[5]}<br>common=%{customdata[6]}<extra></extra>",
         "legendgroup": "bicornis",
         "marker": {
          "color": "#FFA15A",
          "symbol": "circle"
         },
         "mode": "markers",
         "name": "bicornis",
         "orientation": "v",
         "showlegend": true,
         "type": "scatter",
         "x": [
          "Buceros"
         ],
         "xaxis": "x",
         "y": [
          "bicornis"
         ],
         "yaxis": "y"
        },
        {
         "customdata": [
          [
           "Animalia",
           "Chordata",
           "Aves",
           "Charadriiformes",
           "Scolopacidae",
           "Gallinago media",
           "Great Snipe"
          ]
         ],
         "hovertemplate": "Species=%{y}<br>Genus=%{x}<br>kingdom=%{customdata[0]}<br>phylum=%{customdata[1]}<br>class=%{customdata[2]}<br>order=%{customdata[3]}<br>family=%{customdata[4]}<br>sciName=%{customdata[5]}<br>common=%{customdata[6]}<extra></extra>",
         "legendgroup": "media",
         "marker": {
          "color": "#19d3f3",
          "symbol": "circle"
         },
         "mode": "markers",
         "name": "media",
         "orientation": "v",
         "showlegend": true,
         "type": "scatter",
         "x": [
          "Gallinago"
         ],
         "xaxis": "x",
         "y": [
          "media"
         ],
         "yaxis": "y"
        },
        {
         "customdata": [
          [
           "Animalia",
           "Chordata",
           "Aves",
           "Charadriiformes",
           "Burhinidae",
           "Esacus recurvirostris",
           "Great Stone-curlew"
          ]
         ],
         "hovertemplate": "Species=%{y}<br>Genus=%{x}<br>kingdom=%{customdata[0]}<br>phylum=%{customdata[1]}<br>class=%{customdata[2]}<br>order=%{customdata[3]}<br>family=%{customdata[4]}<br>sciName=%{customdata[5]}<br>common=%{customdata[6]}<extra></extra>",
         "legendgroup": "recurvirostris",
         "marker": {
          "color": "#FF6692",
          "symbol": "circle"
         },
         "mode": "markers",
         "name": "recurvirostris",
         "orientation": "v",
         "showlegend": true,
         "type": "scatter",
         "x": [
          "Esacus"
         ],
         "xaxis": "x",
         "y": [
          "recurvirostris"
         ],
         "yaxis": "y"
        },
        {
         "customdata": [
          [
           "Animalia",
           "Chordata",
           "Aves",
           "Ciconiiformes",
           "Ciconiidae",
           "Leptoptilos dubius",
           "Greater Adjutant"
          ]
         ],
         "hovertemplate": "Species=%{y}<br>Genus=%{x}<br>kingdom=%{customdata[0]}<br>phylum=%{customdata[1]}<br>class=%{customdata[2]}<br>order=%{customdata[3]}<br>family=%{customdata[4]}<br>sciName=%{customdata[5]}<br>common=%{customdata[6]}<extra></extra>",
         "legendgroup": "dubius",
         "marker": {
          "color": "#B6E880",
          "symbol": "circle"
         },
         "mode": "markers",
         "name": "dubius",
         "orientation": "v",
         "showlegend": true,
         "type": "scatter",
         "x": [
          "Leptoptilos"
         ],
         "xaxis": "x",
         "y": [
          "dubius"
         ],
         "yaxis": "y"
        },
        {
         "customdata": [
          [
           "Animalia",
           "Chordata",
           "Aves",
           "Passeriformes",
           "Thraupidae",
           "Certhidea olivacea",
           "Green Warbler-Finch"
          ]
         ],
         "hovertemplate": "Species=%{y}<br>Genus=%{x}<br>kingdom=%{customdata[0]}<br>phylum=%{customdata[1]}<br>class=%{customdata[2]}<br>order=%{customdata[3]}<br>family=%{customdata[4]}<br>sciName=%{customdata[5]}<br>common=%{customdata[6]}<extra></extra>",
         "legendgroup": "olivacea",
         "marker": {
          "color": "#FF97FF",
          "symbol": "circle"
         },
         "mode": "markers",
         "name": "olivacea",
         "orientation": "v",
         "showlegend": true,
         "type": "scatter",
         "x": [
          "Certhidea"
         ],
         "xaxis": "x",
         "y": [
          "olivacea"
         ],
         "yaxis": "y"
        },
        {
         "customdata": [
          [
           "Animalia",
           "Chordata",
           "Actinopterygii",
           "Perciformes",
           "Percidae",
           "Etheostoma lepidum",
           "Greenthroat Darter"
          ]
         ],
         "hovertemplate": "Species=%{y}<br>Genus=%{x}<br>kingdom=%{customdata[0]}<br>phylum=%{customdata[1]}<br>class=%{customdata[2]}<br>order=%{customdata[3]}<br>family=%{customdata[4]}<br>sciName=%{customdata[5]}<br>common=%{customdata[6]}<extra></extra>",
         "legendgroup": "lepidum",
         "marker": {
          "color": "#FECB52",
          "symbol": "circle"
         },
         "mode": "markers",
         "name": "lepidum",
         "orientation": "v",
         "showlegend": true,
         "type": "scatter",
         "x": [
          "Etheostoma"
         ],
         "xaxis": "x",
         "y": [
          "lepidum"
         ],
         "yaxis": "y"
        },
        {
         "customdata": [
          [
           "Animalia",
           "Chordata",
           "Chondrichthyes",
           "Carcharhiniformes",
           "Carcharhinidae",
           "Carcharhinus amblyrhynchos",
           "grey reef shark"
          ]
         ],
         "hovertemplate": "Species=%{y}<br>Genus=%{x}<br>kingdom=%{customdata[0]}<br>phylum=%{customdata[1]}<br>class=%{customdata[2]}<br>order=%{customdata[3]}<br>family=%{customdata[4]}<br>sciName=%{customdata[5]}<br>common=%{customdata[6]}<extra></extra>",
         "legendgroup": "amblyrhynchos",
         "marker": {
          "color": "#636efa",
          "symbol": "circle"
         },
         "mode": "markers",
         "name": "amblyrhynchos",
         "orientation": "v",
         "showlegend": true,
         "type": "scatter",
         "x": [
          "Carcharhinus"
         ],
         "xaxis": "x",
         "y": [
          "amblyrhynchos"
         ],
         "yaxis": "y"
        },
        {
         "customdata": [
          [
           "Animalia",
           "Chordata",
           "Aves",
           "Procellariiformes",
           "Diomedeidae",
           "Thalassarche chrysostoma",
           "Grey-headed Albatross"
          ]
         ],
         "hovertemplate": "Species=%{y}<br>Genus=%{x}<br>kingdom=%{customdata[0]}<br>phylum=%{customdata[1]}<br>class=%{customdata[2]}<br>order=%{customdata[3]}<br>family=%{customdata[4]}<br>sciName=%{customdata[5]}<br>common=%{customdata[6]}<extra></extra>",
         "legendgroup": "chrysostoma",
         "marker": {
          "color": "#EF553B",
          "symbol": "circle"
         },
         "mode": "markers",
         "name": "chrysostoma",
         "orientation": "v",
         "showlegend": true,
         "type": "scatter",
         "x": [
          "Thalassarche"
         ],
         "xaxis": "x",
         "y": [
          "chrysostoma"
         ],
         "yaxis": "y"
        },
        {
         "customdata": [
          [
           "Animalia",
           "Chordata",
           "Mammalia",
           "Cetacea",
           "Delphinidae",
           "Sotalia guianensis",
           "Guiana dolphin"
          ]
         ],
         "hovertemplate": "Species=%{y}<br>Genus=%{x}<br>kingdom=%{customdata[0]}<br>phylum=%{customdata[1]}<br>class=%{customdata[2]}<br>order=%{customdata[3]}<br>family=%{customdata[4]}<br>sciName=%{customdata[5]}<br>common=%{customdata[6]}<extra></extra>",
         "legendgroup": "guianensis",
         "marker": {
          "color": "#00cc96",
          "symbol": "circle"
         },
         "mode": "markers",
         "name": "guianensis",
         "orientation": "v",
         "showlegend": true,
         "type": "scatter",
         "x": [
          "Sotalia"
         ],
         "xaxis": "x",
         "y": [
          "guianensis"
         ],
         "yaxis": "y"
        },
        {
         "customdata": [
          [
           "Animalia",
           "Arthropoda",
           "Insecta",
           "Hymenoptera",
           "Formicidae",
           "Formica lugubris",
           "Hairy Wood Ant"
          ]
         ],
         "hovertemplate": "Species=%{y}<br>Genus=%{x}<br>kingdom=%{customdata[0]}<br>phylum=%{customdata[1]}<br>class=%{customdata[2]}<br>order=%{customdata[3]}<br>family=%{customdata[4]}<br>sciName=%{customdata[5]}<br>common=%{customdata[6]}<extra></extra>",
         "legendgroup": "lugubris",
         "marker": {
          "color": "#ab63fa",
          "symbol": "circle"
         },
         "mode": "markers",
         "name": "lugubris",
         "orientation": "v",
         "showlegend": true,
         "type": "scatter",
         "x": [
          "Formica"
         ],
         "xaxis": "x",
         "y": [
          "lugubris"
         ],
         "yaxis": "y"
        },
        {
         "customdata": [
          [
           "Animalia",
           "Cnidaria",
           "Anthozoa",
           "Scleractinia",
           "Euphylliidae",
           "Fimbriaphyllia ancora",
           "Hammer Coral"
          ]
         ],
         "hovertemplate": "Species=%{y}<br>Genus=%{x}<br>kingdom=%{customdata[0]}<br>phylum=%{customdata[1]}<br>class=%{customdata[2]}<br>order=%{customdata[3]}<br>family=%{customdata[4]}<br>sciName=%{customdata[5]}<br>common=%{customdata[6]}<extra></extra>",
         "legendgroup": "ancora",
         "marker": {
          "color": "#FFA15A",
          "symbol": "circle"
         },
         "mode": "markers",
         "name": "ancora",
         "orientation": "v",
         "showlegend": true,
         "type": "scatter",
         "x": [
          "Fimbriaphyllia"
         ],
         "xaxis": "x",
         "y": [
          "ancora"
         ],
         "yaxis": "y"
        },
        {
         "customdata": [
          [
           "Animalia",
           "Chordata",
           "Reptilia",
           "Squamata",
           "Agamidae",
           "Saara hardwickii",
           "Hardwick's Spiny-tailed Lizard"
          ]
         ],
         "hovertemplate": "Species=%{y}<br>Genus=%{x}<br>kingdom=%{customdata[0]}<br>phylum=%{customdata[1]}<br>class=%{customdata[2]}<br>order=%{customdata[3]}<br>family=%{customdata[4]}<br>sciName=%{customdata[5]}<br>common=%{customdata[6]}<extra></extra>",
         "legendgroup": "hardwickii",
         "marker": {
          "color": "#19d3f3",
          "symbol": "circle"
         },
         "mode": "markers",
         "name": "hardwickii",
         "orientation": "v",
         "showlegend": true,
         "type": "scatter",
         "x": [
          "Saara"
         ],
         "xaxis": "x",
         "y": [
          "hardwickii"
         ],
         "yaxis": "y"
        },
        {
         "customdata": [
          [
           "Animalia",
           "Chordata",
           "Aves",
           "Accipitriformes",
           "Accipitridae",
           "Harpia harpyja",
           "Harpy Eagle"
          ]
         ],
         "hovertemplate": "Species=%{y}<br>Genus=%{x}<br>kingdom=%{customdata[0]}<br>phylum=%{customdata[1]}<br>class=%{customdata[2]}<br>order=%{customdata[3]}<br>family=%{customdata[4]}<br>sciName=%{customdata[5]}<br>common=%{customdata[6]}<extra></extra>",
         "legendgroup": "harpyja",
         "marker": {
          "color": "#FF6692",
          "symbol": "circle"
         },
         "mode": "markers",
         "name": "harpyja",
         "orientation": "v",
         "showlegend": true,
         "type": "scatter",
         "x": [
          "Harpia"
         ],
         "xaxis": "x",
         "y": [
          "harpyja"
         ],
         "yaxis": "y"
        },
        {
         "customdata": [
          [
           "Animalia",
           "Chordata",
           "Amphibia",
           "Caudata",
           "Plethodontidae",
           "Bolitoglossa hartwegi",
           "Hartweg's Mushroomtongue Salamander"
          ]
         ],
         "hovertemplate": "Species=%{y}<br>Genus=%{x}<br>kingdom=%{customdata[0]}<br>phylum=%{customdata[1]}<br>class=%{customdata[2]}<br>order=%{customdata[3]}<br>family=%{customdata[4]}<br>sciName=%{customdata[5]}<br>common=%{customdata[6]}<extra></extra>",
         "legendgroup": "hartwegi",
         "marker": {
          "color": "#B6E880",
          "symbol": "circle"
         },
         "mode": "markers",
         "name": "hartwegi",
         "orientation": "v",
         "showlegend": true,
         "type": "scatter",
         "x": [
          "Bolitoglossa"
         ],
         "xaxis": "x",
         "y": [
          "hartwegi"
         ],
         "yaxis": "y"
        },
        {
         "customdata": [
          [
           "Animalia",
           "Chordata",
           "Aves",
           "Gruiformes",
           "Rallidae",
           "Fulica alai",
           "Hawaiian Coot"
          ]
         ],
         "hovertemplate": "Species=%{y}<br>Genus=%{x}<br>kingdom=%{customdata[0]}<br>phylum=%{customdata[1]}<br>class=%{customdata[2]}<br>order=%{customdata[3]}<br>family=%{customdata[4]}<br>sciName=%{customdata[5]}<br>common=%{customdata[6]}<extra></extra>",
         "legendgroup": "alai",
         "marker": {
          "color": "#FF97FF",
          "symbol": "circle"
         },
         "mode": "markers",
         "name": "alai",
         "orientation": "v",
         "showlegend": true,
         "type": "scatter",
         "x": [
          "Fulica"
         ],
         "xaxis": "x",
         "y": [
          "alai"
         ],
         "yaxis": "y"
        },
        {
         "customdata": [
          [
           "Animalia",
           "Chordata",
           "Aves",
           "Passeriformes",
           "Vangidae",
           "Euryceros prevostii",
           "Helmet Vanga"
          ]
         ],
         "hovertemplate": "Species=%{y}<br>Genus=%{x}<br>kingdom=%{customdata[0]}<br>phylum=%{customdata[1]}<br>class=%{customdata[2]}<br>order=%{customdata[3]}<br>family=%{customdata[4]}<br>sciName=%{customdata[5]}<br>common=%{customdata[6]}<extra></extra>",
         "legendgroup": "prevostii",
         "marker": {
          "color": "#FECB52",
          "symbol": "circle"
         },
         "mode": "markers",
         "name": "prevostii",
         "orientation": "v",
         "showlegend": true,
         "type": "scatter",
         "x": [
          "Euryceros"
         ],
         "xaxis": "x",
         "y": [
          "prevostii"
         ],
         "yaxis": "y"
        },
        {
         "customdata": [
          [
           "Animalia",
           "Echinodermata",
           "Holothuroidea",
           "Synallactida",
           "Stichopodidae",
           "Stichopus herrmanni",
           "Herrmann's Sea Cucumber"
          ]
         ],
         "hovertemplate": "Species=%{y}<br>Genus=%{x}<br>kingdom=%{customdata[0]}<br>phylum=%{customdata[1]}<br>class=%{customdata[2]}<br>order=%{customdata[3]}<br>family=%{customdata[4]}<br>sciName=%{customdata[5]}<br>common=%{customdata[6]}<extra></extra>",
         "legendgroup": "herrmanni",
         "marker": {
          "color": "#636efa",
          "symbol": "circle"
         },
         "mode": "markers",
         "name": "herrmanni",
         "orientation": "v",
         "showlegend": true,
         "type": "scatter",
         "x": [
          "Stichopus"
         ],
         "xaxis": "x",
         "y": [
          "herrmanni"
         ],
         "yaxis": "y"
        },
        {
         "customdata": [
          [
           "Animalia",
           "Chordata",
           "Mammalia",
           "Artiodactyla",
           "Bovidae",
           "Hemitragus jemlahicus",
           "Himalayan tahr"
          ]
         ],
         "hovertemplate": "Species=%{y}<br>Genus=%{x}<br>kingdom=%{customdata[0]}<br>phylum=%{customdata[1]}<br>class=%{customdata[2]}<br>order=%{customdata[3]}<br>family=%{customdata[4]}<br>sciName=%{customdata[5]}<br>common=%{customdata[6]}<extra></extra>",
         "legendgroup": "jemlahicus",
         "marker": {
          "color": "#EF553B",
          "symbol": "circle"
         },
         "mode": "markers",
         "name": "jemlahicus",
         "orientation": "v",
         "showlegend": true,
         "type": "scatter",
         "x": [
          "Hemitragus"
         ],
         "xaxis": "x",
         "y": [
          "jemlahicus"
         ],
         "yaxis": "y"
        },
        {
         "customdata": [
          [
           "Animalia",
           "Chordata",
           "Reptilia",
           "Squamata",
           "Dactyloidae",
           "Anolis barbouri",
           "Hispaniolan Hopping Anole"
          ],
          [
           "Animalia",
           "Chordata",
           "Amphibia",
           "Caudata",
           "Ambystomatidae",
           "Ambystoma barbouri",
           "Streamside Salamander"
          ]
         ],
         "hovertemplate": "Species=%{y}<br>Genus=%{x}<br>kingdom=%{customdata[0]}<br>phylum=%{customdata[1]}<br>class=%{customdata[2]}<br>order=%{customdata[3]}<br>family=%{customdata[4]}<br>sciName=%{customdata[5]}<br>common=%{customdata[6]}<extra></extra>",
         "legendgroup": "barbouri",
         "marker": {
          "color": "#00cc96",
          "symbol": "circle"
         },
         "mode": "markers",
         "name": "barbouri",
         "orientation": "v",
         "showlegend": true,
         "type": "scatter",
         "x": [
          "Anolis",
          "Ambystoma"
         ],
         "xaxis": "x",
         "y": [
          "barbouri",
          "barbouri"
         ],
         "yaxis": "y"
        },
        {
         "customdata": [
          [
           "Animalia",
           "Cnidaria",
           "Anthozoa",
           "Scleractinia",
           "Diploastraeidae",
           "Diploastrea heliopora",
           "honeycomb coral"
          ]
         ],
         "hovertemplate": "Species=%{y}<br>Genus=%{x}<br>kingdom=%{customdata[0]}<br>phylum=%{customdata[1]}<br>class=%{customdata[2]}<br>order=%{customdata[3]}<br>family=%{customdata[4]}<br>sciName=%{customdata[5]}<br>common=%{customdata[6]}<extra></extra>",
         "legendgroup": "heliopora",
         "marker": {
          "color": "#ab63fa",
          "symbol": "circle"
         },
         "mode": "markers",
         "name": "heliopora",
         "orientation": "v",
         "showlegend": true,
         "type": "scatter",
         "x": [
          "Diploastrea"
         ],
         "xaxis": "x",
         "y": [
          "heliopora"
         ],
         "yaxis": "y"
        },
        {
         "customdata": [
          [
           "Animalia",
           "Chordata",
           "Amphibia",
           "Caudata",
           "Salamandridae",
           "Paramesotriton hongkongensis",
           "Hong Kong Warty Newt"
          ]
         ],
         "hovertemplate": "Species=%{y}<br>Genus=%{x}<br>kingdom=%{customdata[0]}<br>phylum=%{customdata[1]}<br>class=%{customdata[2]}<br>order=%{customdata[3]}<br>family=%{customdata[4]}<br>sciName=%{customdata[5]}<br>common=%{customdata[6]}<extra></extra>",
         "legendgroup": "hongkongensis",
         "marker": {
          "color": "#FFA15A",
          "symbol": "circle"
         },
         "mode": "markers",
         "name": "hongkongensis",
         "orientation": "v",
         "showlegend": true,
         "type": "scatter",
         "x": [
          "Paramesotriton"
         ],
         "xaxis": "x",
         "y": [
          "hongkongensis"
         ],
         "yaxis": "y"
        },
        {
         "customdata": [
          [
           "Animalia",
           "Cnidaria",
           "Anthozoa",
           "Scleractinia",
           "Pocilloporidae",
           "Stylophora pistillata",
           "Hood Coral"
          ]
         ],
         "hovertemplate": "Species=%{y}<br>Genus=%{x}<br>kingdom=%{customdata[0]}<br>phylum=%{customdata[1]}<br>class=%{customdata[2]}<br>order=%{customdata[3]}<br>family=%{customdata[4]}<br>sciName=%{customdata[5]}<br>common=%{customdata[6]}<extra></extra>",
         "legendgroup": "pistillata",
         "marker": {
          "color": "#19d3f3",
          "symbol": "circle"
         },
         "mode": "markers",
         "name": "pistillata",
         "orientation": "v",
         "showlegend": true,
         "type": "scatter",
         "x": [
          "Stylophora"
         ],
         "xaxis": "x",
         "y": [
          "pistillata"
         ],
         "yaxis": "y"
        },
        {
         "customdata": [
          [
           "Animalia",
           "Chordata",
           "Aves",
           "Passeriformes",
           "Mimidae",
           "Mimus macdonaldi",
           "Hood Mockingbird"
          ]
         ],
         "hovertemplate": "Species=%{y}<br>Genus=%{x}<br>kingdom=%{customdata[0]}<br>phylum=%{customdata[1]}<br>class=%{customdata[2]}<br>order=%{customdata[3]}<br>family=%{customdata[4]}<br>sciName=%{customdata[5]}<br>common=%{customdata[6]}<extra></extra>",
         "legendgroup": "macdonaldi",
         "marker": {
          "color": "#FF6692",
          "symbol": "circle"
         },
         "mode": "markers",
         "name": "macdonaldi",
         "orientation": "v",
         "showlegend": true,
         "type": "scatter",
         "x": [
          "Mimus"
         ],
         "xaxis": "x",
         "y": [
          "macdonaldi"
         ],
         "yaxis": "y"
        },
        {
         "customdata": [
          [
           "Animalia",
           "Chordata",
           "Mammalia",
           "Primates",
           "Cebidae",
           "Sapajus cay",
           "Hooded Capuchin"
          ]
         ],
         "hovertemplate": "Species=%{y}<br>Genus=%{x}<br>kingdom=%{customdata[0]}<br>phylum=%{customdata[1]}<br>class=%{customdata[2]}<br>order=%{customdata[3]}<br>family=%{customdata[4]}<br>sciName=%{customdata[5]}<br>common=%{customdata[6]}<extra></extra>",
         "legendgroup": "cay",
         "marker": {
          "color": "#B6E880",
          "symbol": "circle"
         },
         "mode": "markers",
         "name": "cay",
         "orientation": "v",
         "showlegend": true,
         "type": "scatter",
         "x": [
          "Sapajus"
         ],
         "xaxis": "x",
         "y": [
          "cay"
         ],
         "yaxis": "y"
        },
        {
         "customdata": [
          [
           "Animalia",
           "Chordata",
           "Aves",
           "Charadriiformes",
           "Charadriidae",
           "Thinornis cucullatus",
           "Hooded Dotterel"
          ]
         ],
         "hovertemplate": "Species=%{y}<br>Genus=%{x}<br>kingdom=%{customdata[0]}<br>phylum=%{customdata[1]}<br>class=%{customdata[2]}<br>order=%{customdata[3]}<br>family=%{customdata[4]}<br>sciName=%{customdata[5]}<br>common=%{customdata[6]}<extra></extra>",
         "legendgroup": "cucullatus",
         "marker": {
          "color": "#FF97FF",
          "symbol": "circle"
         },
         "mode": "markers",
         "name": "cucullatus",
         "orientation": "v",
         "showlegend": true,
         "type": "scatter",
         "x": [
          "Thinornis"
         ],
         "xaxis": "x",
         "y": [
          "cucullatus"
         ],
         "yaxis": "y"
        },
        {
         "customdata": [
          [
           "Animalia",
           "Chordata",
           "Mammalia",
           "Primates",
           "Cercopithecidae",
           "Semnopithecus johnii",
           "Hooded Leaf Monkey"
          ]
         ],
         "hovertemplate": "Species=%{y}<br>Genus=%{x}<br>kingdom=%{customdata[0]}<br>phylum=%{customdata[1]}<br>class=%{customdata[2]}<br>order=%{customdata[3]}<br>family=%{customdata[4]}<br>sciName=%{customdata[5]}<br>common=%{customdata[6]}<extra></extra>",
         "legendgroup": "johnii",
         "marker": {
          "color": "#FECB52",
          "symbol": "circle"
         },
         "mode": "markers",
         "name": "johnii",
         "orientation": "v",
         "showlegend": true,
         "type": "scatter",
         "x": [
          "Semnopithecus"
         ],
         "xaxis": "x",
         "y": [
          "johnii"
         ],
         "yaxis": "y"
        },
        {
         "customdata": [
          [
           "Animalia",
           "Chordata",
           "Aves",
           "Sphenisciformes",
           "Spheniscidae",
           "Spheniscus humboldti",
           "Humboldt Penguin"
          ]
         ],
         "hovertemplate": "Species=%{y}<br>Genus=%{x}<br>kingdom=%{customdata[0]}<br>phylum=%{customdata[1]}<br>class=%{customdata[2]}<br>order=%{customdata[3]}<br>family=%{customdata[4]}<br>sciName=%{customdata[5]}<br>common=%{customdata[6]}<extra></extra>",
         "legendgroup": "humboldti",
         "marker": {
          "color": "#636efa",
          "symbol": "circle"
         },
         "mode": "markers",
         "name": "humboldti",
         "orientation": "v",
         "showlegend": true,
         "type": "scatter",
         "x": [
          "Spheniscus"
         ],
         "xaxis": "x",
         "y": [
          "humboldti"
         ],
         "yaxis": "y"
        },
        {
         "customdata": [
          [
           "Animalia",
           "Chordata",
           "Aves",
           "Procellariiformes",
           "Procellariidae",
           "Puffinus huttoni",
           "Hutton's Shearwater"
          ]
         ],
         "hovertemplate": "Species=%{y}<br>Genus=%{x}<br>kingdom=%{customdata[0]}<br>phylum=%{customdata[1]}<br>class=%{customdata[2]}<br>order=%{customdata[3]}<br>family=%{customdata[4]}<br>sciName=%{customdata[5]}<br>common=%{customdata[6]}<extra></extra>",
         "legendgroup": "huttoni",
         "marker": {
          "color": "#EF553B",
          "symbol": "circle"
         },
         "mode": "markers",
         "name": "huttoni",
         "orientation": "v",
         "showlegend": true,
         "type": "scatter",
         "x": [
          "Puffinus"
         ],
         "xaxis": "x",
         "y": [
          "huttoni"
         ],
         "yaxis": "y"
        },
        {
         "customdata": [
          [
           "Animalia",
           "Chordata",
           "Reptilia",
           "Squamata",
           "Lacertidae",
           "Lacerta schreiberi",
           "Iberian Emerald Lizard"
          ]
         ],
         "hovertemplate": "Species=%{y}<br>Genus=%{x}<br>kingdom=%{customdata[0]}<br>phylum=%{customdata[1]}<br>class=%{customdata[2]}<br>order=%{customdata[3]}<br>family=%{customdata[4]}<br>sciName=%{customdata[5]}<br>common=%{customdata[6]}<extra></extra>",
         "legendgroup": "schreiberi",
         "marker": {
          "color": "#00cc96",
          "symbol": "circle"
         },
         "mode": "markers",
         "name": "schreiberi",
         "orientation": "v",
         "showlegend": true,
         "type": "scatter",
         "x": [
          "Lacerta"
         ],
         "xaxis": "x",
         "y": [
          "schreiberi"
         ],
         "yaxis": "y"
        },
        {
         "customdata": [
          [
           "Animalia",
           "Chordata",
           "Amphibia",
           "Anura",
           "Ranidae",
           "Rana iberica",
           "Iberian Frog"
          ]
         ],
         "hovertemplate": "Species=%{y}<br>Genus=%{x}<br>kingdom=%{customdata[0]}<br>phylum=%{customdata[1]}<br>class=%{customdata[2]}<br>order=%{customdata[3]}<br>family=%{customdata[4]}<br>sciName=%{customdata[5]}<br>common=%{customdata[6]}<extra></extra>",
         "legendgroup": "iberica",
         "marker": {
          "color": "#ab63fa",
          "symbol": "circle"
         },
         "mode": "markers",
         "name": "iberica",
         "orientation": "v",
         "showlegend": true,
         "type": "scatter",
         "x": [
          "Rana"
         ],
         "xaxis": "x",
         "y": [
          "iberica"
         ],
         "yaxis": "y"
        },
        {
         "customdata": [
          [
           "Animalia",
           "Cnidaria",
           "Anthozoa",
           "Scleractinia",
           "Acroporidae",
           "Acropora echinata",
           "ice fire"
          ]
         ],
         "hovertemplate": "Species=%{y}<br>Genus=%{x}<br>kingdom=%{customdata[0]}<br>phylum=%{customdata[1]}<br>class=%{customdata[2]}<br>order=%{customdata[3]}<br>family=%{customdata[4]}<br>sciName=%{customdata[5]}<br>common=%{customdata[6]}<extra></extra>",
         "legendgroup": "echinata",
         "marker": {
          "color": "#FFA15A",
          "symbol": "circle"
         },
         "mode": "markers",
         "name": "echinata",
         "orientation": "v",
         "showlegend": true,
         "type": "scatter",
         "x": [
          "Acropora"
         ],
         "xaxis": "x",
         "y": [
          "echinata"
         ],
         "yaxis": "y"
        },
        {
         "customdata": [
          [
           "Animalia",
           "Chordata",
           "Aves",
           "Passeriformes",
           "Fringillidae",
           "Drepanis coccinea",
           "Iiwi"
          ]
         ],
         "hovertemplate": "Species=%{y}<br>Genus=%{x}<br>kingdom=%{customdata[0]}<br>phylum=%{customdata[1]}<br>class=%{customdata[2]}<br>order=%{customdata[3]}<br>family=%{customdata[4]}<br>sciName=%{customdata[5]}<br>common=%{customdata[6]}<extra></extra>",
         "legendgroup": "coccinea",
         "marker": {
          "color": "#19d3f3",
          "symbol": "circle"
         },
         "mode": "markers",
         "name": "coccinea",
         "orientation": "v",
         "showlegend": true,
         "type": "scatter",
         "x": [
          "Drepanis"
         ],
         "xaxis": "x",
         "y": [
          "coccinea"
         ],
         "yaxis": "y"
        },
        {
         "customdata": [
          [
           "Animalia",
           "Chordata",
           "Amphibia",
           "Caudata",
           "Plethodontidae",
           "Desmognathus imitator",
           "Imitator Salamander"
          ]
         ],
         "hovertemplate": "Species=%{y}<br>Genus=%{x}<br>kingdom=%{customdata[0]}<br>phylum=%{customdata[1]}<br>class=%{customdata[2]}<br>order=%{customdata[3]}<br>family=%{customdata[4]}<br>sciName=%{customdata[5]}<br>common=%{customdata[6]}<extra></extra>",
         "legendgroup": "imitator",
         "marker": {
          "color": "#FF6692",
          "symbol": "circle"
         },
         "mode": "markers",
         "name": "imitator",
         "orientation": "v",
         "showlegend": true,
         "type": "scatter",
         "x": [
          "Desmognathus"
         ],
         "xaxis": "x",
         "y": [
          "imitator"
         ],
         "yaxis": "y"
        },
        {
         "customdata": [
          [
           "Animalia",
           "Chordata",
           "Aves",
           "Charadriiformes",
           "Laridae",
           "Larosterna inca",
           "Inca Tern"
          ]
         ],
         "hovertemplate": "Species=%{y}<br>Genus=%{x}<br>kingdom=%{customdata[0]}<br>phylum=%{customdata[1]}<br>class=%{customdata[2]}<br>order=%{customdata[3]}<br>family=%{customdata[4]}<br>sciName=%{customdata[5]}<br>common=%{customdata[6]}<extra></extra>",
         "legendgroup": "inca",
         "marker": {
          "color": "#B6E880",
          "symbol": "circle"
         },
         "mode": "markers",
         "name": "inca",
         "orientation": "v",
         "showlegend": true,
         "type": "scatter",
         "x": [
          "Larosterna"
         ],
         "xaxis": "x",
         "y": [
          "inca"
         ],
         "yaxis": "y"
        },
        {
         "customdata": [
          [
           "Animalia",
           "Chordata",
           "Mammalia",
           "Cetacea",
           "Delphinidae",
           "Sousa plumbea",
           "Indian humpback dolphin"
          ]
         ],
         "hovertemplate": "Species=%{y}<br>Genus=%{x}<br>kingdom=%{customdata[0]}<br>phylum=%{customdata[1]}<br>class=%{customdata[2]}<br>order=%{customdata[3]}<br>family=%{customdata[4]}<br>sciName=%{customdata[5]}<br>common=%{customdata[6]}<extra></extra>",
         "legendgroup": "plumbea",
         "marker": {
          "color": "#FF97FF",
          "symbol": "circle"
         },
         "mode": "markers",
         "name": "plumbea",
         "orientation": "v",
         "showlegend": true,
         "type": "scatter",
         "x": [
          "Sousa"
         ],
         "xaxis": "x",
         "y": [
          "plumbea"
         ],
         "yaxis": "y"
        },
        {
         "customdata": [
          [
           "Animalia",
           "Chordata",
           "Mammalia",
           "Cetacea",
           "Delphinidae",
           "Tursiops aduncus",
           "Indian Ocean bottlenose dolphin"
          ]
         ],
         "hovertemplate": "Species=%{y}<br>Genus=%{x}<br>kingdom=%{customdata[0]}<br>phylum=%{customdata[1]}<br>class=%{customdata[2]}<br>order=%{customdata[3]}<br>family=%{customdata[4]}<br>sciName=%{customdata[5]}<br>common=%{customdata[6]}<extra></extra>",
         "legendgroup": "aduncus",
         "marker": {
          "color": "#FECB52",
          "symbol": "circle"
         },
         "mode": "markers",
         "name": "aduncus",
         "orientation": "v",
         "showlegend": true,
         "type": "scatter",
         "x": [
          "Tursiops"
         ],
         "xaxis": "x",
         "y": [
          "aduncus"
         ],
         "yaxis": "y"
        },
        {
         "customdata": [
          [
           "Animalia",
           "Chordata",
           "Mammalia",
           "Pholidota",
           "Manidae",
           "Manis crassicaudata",
           "Indian Pangolin"
          ]
         ],
         "hovertemplate": "Species=%{y}<br>Genus=%{x}<br>kingdom=%{customdata[0]}<br>phylum=%{customdata[1]}<br>class=%{customdata[2]}<br>order=%{customdata[3]}<br>family=%{customdata[4]}<br>sciName=%{customdata[5]}<br>common=%{customdata[6]}<extra></extra>",
         "legendgroup": "crassicaudata",
         "marker": {
          "color": "#636efa",
          "symbol": "circle"
         },
         "mode": "markers",
         "name": "crassicaudata",
         "orientation": "v",
         "showlegend": true,
         "type": "scatter",
         "x": [
          "Manis"
         ],
         "xaxis": "x",
         "y": [
          "crassicaudata"
         ],
         "yaxis": "y"
        },
        {
         "customdata": [
          [
           "Animalia",
           "Chordata",
           "Reptilia",
           "Testudines",
           "Geoemydidae",
           "Pangshura tecta",
           "Indian Roofed Turtle"
          ]
         ],
         "hovertemplate": "Species=%{y}<br>Genus=%{x}<br>kingdom=%{customdata[0]}<br>phylum=%{customdata[1]}<br>class=%{customdata[2]}<br>order=%{customdata[3]}<br>family=%{customdata[4]}<br>sciName=%{customdata[5]}<br>common=%{customdata[6]}<extra></extra>",
         "legendgroup": "tecta",
         "marker": {
          "color": "#EF553B",
          "symbol": "circle"
         },
         "mode": "markers",
         "name": "tecta",
         "orientation": "v",
         "showlegend": true,
         "type": "scatter",
         "x": [
          "Pangshura"
         ],
         "xaxis": "x",
         "y": [
          "tecta"
         ],
         "yaxis": "y"
        },
        {
         "customdata": [
          [
           "Animalia",
           "Chordata",
           "Aves",
           "Charadriiformes",
           "Laridae",
           "Rynchops albicollis",
           "Indian Skimmer"
          ]
         ],
         "hovertemplate": "Species=%{y}<br>Genus=%{x}<br>kingdom=%{customdata[0]}<br>phylum=%{customdata[1]}<br>class=%{customdata[2]}<br>order=%{customdata[3]}<br>family=%{customdata[4]}<br>sciName=%{customdata[5]}<br>common=%{customdata[6]}<extra></extra>",
         "legendgroup": "albicollis",
         "marker": {
          "color": "#00cc96",
          "symbol": "circle"
         },
         "mode": "markers",
         "name": "albicollis",
         "orientation": "v",
         "showlegend": true,
         "type": "scatter",
         "x": [
          "Rynchops"
         ],
         "xaxis": "x",
         "y": [
          "albicollis"
         ],
         "yaxis": "y"
        },
        {
         "customdata": [
          [
           "Animalia",
           "Chordata",
           "Aves",
           "Procellariiformes",
           "Diomedeidae",
           "Thalassarche carteri",
           "Indian Yellow-nosed Albatross"
          ]
         ],
         "hovertemplate": "Species=%{y}<br>Genus=%{x}<br>kingdom=%{customdata[0]}<br>phylum=%{customdata[1]}<br>class=%{customdata[2]}<br>order=%{customdata[3]}<br>family=%{customdata[4]}<br>sciName=%{customdata[5]}<br>common=%{customdata[6]}<extra></extra>",
         "legendgroup": "carteri",
         "marker": {
          "color": "#ab63fa",
          "symbol": "circle"
         },
         "mode": "markers",
         "name": "carteri",
         "orientation": "v",
         "showlegend": true,
         "type": "scatter",
         "x": [
          "Thalassarche"
         ],
         "xaxis": "x",
         "y": [
          "carteri"
         ],
         "yaxis": "y"
        },
        {
         "customdata": [
          [
           "Animalia",
           "Chordata",
           "Reptilia",
           "Squamata",
           "Elapidae",
           "Naja siamensis",
           "Indo-Chinese Spitting Cobra"
          ]
         ],
         "hovertemplate": "Species=%{y}<br>Genus=%{x}<br>kingdom=%{customdata[0]}<br>phylum=%{customdata[1]}<br>class=%{customdata[2]}<br>order=%{customdata[3]}<br>family=%{customdata[4]}<br>sciName=%{customdata[5]}<br>common=%{customdata[6]}<extra></extra>",
         "legendgroup": "siamensis",
         "marker": {
          "color": "#FFA15A",
          "symbol": "circle"
         },
         "mode": "markers",
         "name": "siamensis",
         "orientation": "v",
         "showlegend": true,
         "type": "scatter",
         "x": [
          "Naja"
         ],
         "xaxis": "x",
         "y": [
          "siamensis"
         ],
         "yaxis": "y"
        },
        {
         "customdata": [
          [
           "Animalia",
           "Chordata",
           "Actinopterygii",
           "Siluriformes",
           "Pangasiidae",
           "Pangasianodon hypophthalmus",
           "Iridescent Shark"
          ]
         ],
         "hovertemplate": "Species=%{y}<br>Genus=%{x}<br>kingdom=%{customdata[0]}<br>phylum=%{customdata[1]}<br>class=%{customdata[2]}<br>order=%{customdata[3]}<br>family=%{customdata[4]}<br>sciName=%{customdata[5]}<br>common=%{customdata[6]}<extra></extra>",
         "legendgroup": "hypophthalmus",
         "marker": {
          "color": "#19d3f3",
          "symbol": "circle"
         },
         "mode": "markers",
         "name": "hypophthalmus",
         "orientation": "v",
         "showlegend": true,
         "type": "scatter",
         "x": [
          "Pangasianodon"
         ],
         "xaxis": "x",
         "y": [
          "hypophthalmus"
         ],
         "yaxis": "y"
        },
        {
         "customdata": [
          [
           "Animalia",
           "Chordata",
           "Mammalia",
           "Cetacea",
           "Delphinidae",
           "Orcaella brevirostris",
           "Irrawaddy Dolphin"
          ],
          [
           "Animalia",
           "Chordata",
           "Chondrichthyes",
           "Carcharhiniformes",
           "Carcharhinidae",
           "Negaprion brevirostris",
           "lemon shark"
          ]
         ],
         "hovertemplate": "Species=%{y}<br>Genus=%{x}<br>kingdom=%{customdata[0]}<br>phylum=%{customdata[1]}<br>class=%{customdata[2]}<br>order=%{customdata[3]}<br>family=%{customdata[4]}<br>sciName=%{customdata[5]}<br>common=%{customdata[6]}<extra></extra>",
         "legendgroup": "brevirostris",
         "marker": {
          "color": "#FF6692",
          "symbol": "circle"
         },
         "mode": "markers",
         "name": "brevirostris",
         "orientation": "v",
         "showlegend": true,
         "type": "scatter",
         "x": [
          "Orcaella",
          "Negaprion"
         ],
         "xaxis": "x",
         "y": [
          "brevirostris",
          "brevirostris"
         ],
         "yaxis": "y"
        },
        {
         "customdata": [
          [
           "Animalia",
           "Chordata",
           "Aves",
           "Charadriiformes",
           "Laridae",
           "Pagophila eburnea",
           "Ivory Gull"
          ]
         ],
         "hovertemplate": "Species=%{y}<br>Genus=%{x}<br>kingdom=%{customdata[0]}<br>phylum=%{customdata[1]}<br>class=%{customdata[2]}<br>order=%{customdata[3]}<br>family=%{customdata[4]}<br>sciName=%{customdata[5]}<br>common=%{customdata[6]}<extra></extra>",
         "legendgroup": "eburnea",
         "marker": {
          "color": "#B6E880",
          "symbol": "circle"
         },
         "mode": "markers",
         "name": "eburnea",
         "orientation": "v",
         "showlegend": true,
         "type": "scatter",
         "x": [
          "Pagophila"
         ],
         "xaxis": "x",
         "y": [
          "eburnea"
         ],
         "yaxis": "y"
        },
        {
         "customdata": [
          [
           "Animalia",
           "Chordata",
           "Amphibia",
           "Caudata",
           "Cryptobranchidae",
           "Andrias japonicus",
           "Japanese Giant Salamander"
          ]
         ],
         "hovertemplate": "Species=%{y}<br>Genus=%{x}<br>kingdom=%{customdata[0]}<br>phylum=%{customdata[1]}<br>class=%{customdata[2]}<br>order=%{customdata[3]}<br>family=%{customdata[4]}<br>sciName=%{customdata[5]}<br>common=%{customdata[6]}<extra></extra>",
         "legendgroup": "japonicus",
         "marker": {
          "color": "#FF97FF",
          "symbol": "circle"
         },
         "mode": "markers",
         "name": "japonicus",
         "orientation": "v",
         "showlegend": true,
         "type": "scatter",
         "x": [
          "Andrias"
         ],
         "xaxis": "x",
         "y": [
          "japonicus"
         ],
         "yaxis": "y"
        },
        {
         "customdata": [
          [
           "Animalia",
           "Arthropoda",
           "Insecta",
           "Lepidoptera",
           "Papilionidae",
           "Luehdorfia japonica",
           "Japanese Luehdorfia"
          ],
          [
           "Animalia",
           "Chordata",
           "Aves",
           "Passeriformes",
           "Bombycillidae",
           "Bombycilla japonica",
           "Japanese Waxwing"
          ]
         ],
         "hovertemplate": "Species=%{y}<br>Genus=%{x}<br>kingdom=%{customdata[0]}<br>phylum=%{customdata[1]}<br>class=%{customdata[2]}<br>order=%{customdata[3]}<br>family=%{customdata[4]}<br>sciName=%{customdata[5]}<br>common=%{customdata[6]}<extra></extra>",
         "legendgroup": "japonica",
         "marker": {
          "color": "#FECB52",
          "symbol": "circle"
         },
         "mode": "markers",
         "name": "japonica",
         "orientation": "v",
         "showlegend": true,
         "type": "scatter",
         "x": [
          "Luehdorfia",
          "Bombycilla"
         ],
         "xaxis": "x",
         "y": [
          "japonica",
          "japonica"
         ],
         "yaxis": "y"
        },
        {
         "customdata": [
          [
           "Animalia",
           "Chordata",
           "Amphibia",
           "Caudata",
           "Hynobiidae",
           "Hynobius quelpaertensis",
           "Jeju Salamander"
          ]
         ],
         "hovertemplate": "Species=%{y}<br>Genus=%{x}<br>kingdom=%{customdata[0]}<br>phylum=%{customdata[1]}<br>class=%{customdata[2]}<br>order=%{customdata[3]}<br>family=%{customdata[4]}<br>sciName=%{customdata[5]}<br>common=%{customdata[6]}<extra></extra>",
         "legendgroup": "quelpaertensis",
         "marker": {
          "color": "#636efa",
          "symbol": "circle"
         },
         "mode": "markers",
         "name": "quelpaertensis",
         "orientation": "v",
         "showlegend": true,
         "type": "scatter",
         "x": [
          "Hynobius"
         ],
         "xaxis": "x",
         "y": [
          "quelpaertensis"
         ],
         "yaxis": "y"
        },
        {
         "customdata": [
          [
           "Animalia",
           "Chordata",
           "Chondrichthyes",
           "Myliobatiformes",
           "Dasyatidae",
           "Pateobatis jenkinsii",
           "Jenkins' Whipray"
          ]
         ],
         "hovertemplate": "Species=%{y}<br>Genus=%{x}<br>kingdom=%{customdata[0]}<br>phylum=%{customdata[1]}<br>class=%{customdata[2]}<br>order=%{customdata[3]}<br>family=%{customdata[4]}<br>sciName=%{customdata[5]}<br>common=%{customdata[6]}<extra></extra>",
         "legendgroup": "jenkinsii",
         "marker": {
          "color": "#EF553B",
          "symbol": "circle"
         },
         "mode": "markers",
         "name": "jenkinsii",
         "orientation": "v",
         "showlegend": true,
         "type": "scatter",
         "x": [
          "Pateobatis"
         ],
         "xaxis": "x",
         "y": [
          "jenkinsii"
         ],
         "yaxis": "y"
        },
        {
         "customdata": [
          [
           "Animalia",
           "Chordata",
           "Aves",
           "Psittaciformes",
           "Strigopidae",
           "Strigops habroptila",
           "Kakapo"
          ]
         ],
         "hovertemplate": "Species=%{y}<br>Genus=%{x}<br>kingdom=%{customdata[0]}<br>phylum=%{customdata[1]}<br>class=%{customdata[2]}<br>order=%{customdata[3]}<br>family=%{customdata[4]}<br>sciName=%{customdata[5]}<br>common=%{customdata[6]}<extra></extra>",
         "legendgroup": "habroptila",
         "marker": {
          "color": "#00cc96",
          "symbol": "circle"
         },
         "mode": "markers",
         "name": "habroptila",
         "orientation": "v",
         "showlegend": true,
         "type": "scatter",
         "x": [
          "Strigops"
         ],
         "xaxis": "x",
         "y": [
          "habroptila"
         ],
         "yaxis": "y"
        },
        {
         "customdata": [
          [
           "Animalia",
           "Chordata",
           "Chondrichthyes",
           "Myliobatiformes",
           "Urolophidae",
           "Urolophus kapalensis",
           "Kapala Stingaree"
          ]
         ],
         "hovertemplate": "Species=%{y}<br>Genus=%{x}<br>kingdom=%{customdata[0]}<br>phylum=%{customdata[1]}<br>class=%{customdata[2]}<br>order=%{customdata[3]}<br>family=%{customdata[4]}<br>sciName=%{customdata[5]}<br>common=%{customdata[6]}<extra></extra>",
         "legendgroup": "kapalensis",
         "marker": {
          "color": "#ab63fa",
          "symbol": "circle"
         },
         "mode": "markers",
         "name": "kapalensis",
         "orientation": "v",
         "showlegend": true,
         "type": "scatter",
         "x": [
          "Urolophus"
         ],
         "xaxis": "x",
         "y": [
          "kapalensis"
         ],
         "yaxis": "y"
        },
        {
         "customdata": [
          [
           "Animalia",
           "Chordata",
           "Reptilia",
           "Squamata",
           "Colubridae",
           "Clonophis kirtlandii",
           "Kirtland's Snake"
          ],
          [
           "Animalia",
           "Chordata",
           "Aves",
           "Passeriformes",
           "Parulidae",
           "Setophaga kirtlandii",
           "Kirtland's Warbler"
          ]
         ],
         "hovertemplate": "Species=%{y}<br>Genus=%{x}<br>kingdom=%{customdata[0]}<br>phylum=%{customdata[1]}<br>class=%{customdata[2]}<br>order=%{customdata[3]}<br>family=%{customdata[4]}<br>sciName=%{customdata[5]}<br>common=%{customdata[6]}<extra></extra>",
         "legendgroup": "kirtlandii",
         "marker": {
          "color": "#FFA15A",
          "symbol": "circle"
         },
         "mode": "markers",
         "name": "kirtlandii",
         "orientation": "v",
         "showlegend": true,
         "type": "scatter",
         "x": [
          "Clonophis",
          "Setophaga"
         ],
         "xaxis": "x",
         "y": [
          "kirtlandii",
          "kirtlandii"
         ],
         "yaxis": "y"
        },
        {
         "customdata": [
          [
           "Animalia",
           "Chordata",
           "Chondrichthyes",
           "Squaliformes",
           "Dalatiidae",
           "Dalatias licha",
           "kitefin shark"
          ]
         ],
         "hovertemplate": "Species=%{y}<br>Genus=%{x}<br>kingdom=%{customdata[0]}<br>phylum=%{customdata[1]}<br>class=%{customdata[2]}<br>order=%{customdata[3]}<br>family=%{customdata[4]}<br>sciName=%{customdata[5]}<br>common=%{customdata[6]}<extra></extra>",
         "legendgroup": "licha",
         "marker": {
          "color": "#19d3f3",
          "symbol": "circle"
         },
         "mode": "markers",
         "name": "licha",
         "orientation": "v",
         "showlegend": true,
         "type": "scatter",
         "x": [
          "Dalatias"
         ],
         "xaxis": "x",
         "y": [
          "licha"
         ],
         "yaxis": "y"
        },
        {
         "customdata": [
          [
           "Animalia",
           "Cnidaria",
           "Anthozoa",
           "Scleractinia",
           "Faviidae",
           "Pseudodiploria clivosa",
           "Knobby brain coral"
          ]
         ],
         "hovertemplate": "Species=%{y}<br>Genus=%{x}<br>kingdom=%{customdata[0]}<br>phylum=%{customdata[1]}<br>class=%{customdata[2]}<br>order=%{customdata[3]}<br>family=%{customdata[4]}<br>sciName=%{customdata[5]}<br>common=%{customdata[6]}<extra></extra>",
         "legendgroup": "clivosa",
         "marker": {
          "color": "#FF6692",
          "symbol": "circle"
         },
         "mode": "markers",
         "name": "clivosa",
         "orientation": "v",
         "showlegend": true,
         "type": "scatter",
         "x": [
          "Pseudodiploria"
         ],
         "xaxis": "x",
         "y": [
          "clivosa"
         ],
         "yaxis": "y"
        },
        {
         "customdata": [
          [
           "Animalia",
           "Chordata",
           "Reptilia",
           "Squamata",
           "Dactyloidae",
           "Anolis koopmani",
           "Koopmans Anole"
          ]
         ],
         "hovertemplate": "Species=%{y}<br>Genus=%{x}<br>kingdom=%{customdata[0]}<br>phylum=%{customdata[1]}<br>class=%{customdata[2]}<br>order=%{customdata[3]}<br>family=%{customdata[4]}<br>sciName=%{customdata[5]}<br>common=%{customdata[6]}<extra></extra>",
         "legendgroup": "koopmani",
         "marker": {
          "color": "#B6E880",
          "symbol": "circle"
         },
         "mode": "markers",
         "name": "koopmani",
         "orientation": "v",
         "showlegend": true,
         "type": "scatter",
         "x": [
          "Anolis"
         ],
         "xaxis": "x",
         "y": [
          "koopmani"
         ],
         "yaxis": "y"
        },
        {
         "customdata": [
          [
           "Animalia",
           "Chordata",
           "Aves",
           "Falconiformes",
           "Falconidae",
           "Falco jugger",
           "Laggar Falcon"
          ]
         ],
         "hovertemplate": "Species=%{y}<br>Genus=%{x}<br>kingdom=%{customdata[0]}<br>phylum=%{customdata[1]}<br>class=%{customdata[2]}<br>order=%{customdata[3]}<br>family=%{customdata[4]}<br>sciName=%{customdata[5]}<br>common=%{customdata[6]}<extra></extra>",
         "legendgroup": "jugger",
         "marker": {
          "color": "#FF97FF",
          "symbol": "circle"
         },
         "mode": "markers",
         "name": "jugger",
         "orientation": "v",
         "showlegend": true,
         "type": "scatter",
         "x": [
          "Falco"
         ],
         "xaxis": "x",
         "y": [
          "jugger"
         ],
         "yaxis": "y"
        },
        {
         "customdata": [
          [
           "Animalia",
           "Cnidaria",
           "Anthozoa",
           "Scleractinia",
           "Agariciidae",
           "Agaricia lamarcki",
           "Lamarck's sheet coral"
          ]
         ],
         "hovertemplate": "Species=%{y}<br>Genus=%{x}<br>kingdom=%{customdata[0]}<br>phylum=%{customdata[1]}<br>class=%{customdata[2]}<br>order=%{customdata[3]}<br>family=%{customdata[4]}<br>sciName=%{customdata[5]}<br>common=%{customdata[6]}<extra></extra>",
         "legendgroup": "lamarcki",
         "marker": {
          "color": "#FECB52",
          "symbol": "circle"
         },
         "mode": "markers",
         "name": "lamarcki",
         "orientation": "v",
         "showlegend": true,
         "type": "scatter",
         "x": [
          "Agaricia"
         ],
         "xaxis": "x",
         "y": [
          "lamarcki"
         ],
         "yaxis": "y"
        },
        {
         "customdata": [
          [
           "Animalia",
           "Chordata",
           "Amphibia",
           "Anura",
           "Phyllomedusidae",
           "Agalychnis lemur",
           "Lemur Leaf Frog"
          ]
         ],
         "hovertemplate": "Species=%{y}<br>Genus=%{x}<br>kingdom=%{customdata[0]}<br>phylum=%{customdata[1]}<br>class=%{customdata[2]}<br>order=%{customdata[3]}<br>family=%{customdata[4]}<br>sciName=%{customdata[5]}<br>common=%{customdata[6]}<extra></extra>",
         "legendgroup": "lemur",
         "marker": {
          "color": "#636efa",
          "symbol": "circle"
         },
         "mode": "markers",
         "name": "lemur",
         "orientation": "v",
         "showlegend": true,
         "type": "scatter",
         "x": [
          "Agalychnis"
         ],
         "xaxis": "x",
         "y": [
          "lemur"
         ],
         "yaxis": "y"
        },
        {
         "customdata": [
          [
           "Animalia",
           "Chordata",
           "Aves",
           "Ciconiiformes",
           "Ciconiidae",
           "Leptoptilos javanicus",
           "Lesser Adjutant"
          ]
         ],
         "hovertemplate": "Species=%{y}<br>Genus=%{x}<br>kingdom=%{customdata[0]}<br>phylum=%{customdata[1]}<br>class=%{customdata[2]}<br>order=%{customdata[3]}<br>family=%{customdata[4]}<br>sciName=%{customdata[5]}<br>common=%{customdata[6]}<extra></extra>",
         "legendgroup": "javanicus",
         "marker": {
          "color": "#EF553B",
          "symbol": "circle"
         },
         "mode": "markers",
         "name": "javanicus",
         "orientation": "v",
         "showlegend": true,
         "type": "scatter",
         "x": [
          "Leptoptilos"
         ],
         "xaxis": "x",
         "y": [
          "javanicus"
         ],
         "yaxis": "y"
        },
        {
         "customdata": [
          [
           "Animalia",
           "Chordata",
           "Reptilia",
           "Squamata",
           "Iguanidae",
           "Iguana delicatissima",
           "Lesser Antillean Iguana"
          ]
         ],
         "hovertemplate": "Species=%{y}<br>Genus=%{x}<br>kingdom=%{customdata[0]}<br>phylum=%{customdata[1]}<br>class=%{customdata[2]}<br>order=%{customdata[3]}<br>family=%{customdata[4]}<br>sciName=%{customdata[5]}<br>common=%{customdata[6]}<extra></extra>",
         "legendgroup": "delicatissima",
         "marker": {
          "color": "#00cc96",
          "symbol": "circle"
         },
         "mode": "markers",
         "name": "delicatissima",
         "orientation": "v",
         "showlegend": true,
         "type": "scatter",
         "x": [
          "Iguana"
         ],
         "xaxis": "x",
         "y": [
          "delicatissima"
         ],
         "yaxis": "y"
        },
        {
         "customdata": [
          [
           "Animalia",
           "Chordata",
           "Mammalia",
           "Primates",
           "Cercopithecidae",
           "Allochrocebus lhoesti",
           "L'Hoest's Monkey"
          ]
         ],
         "hovertemplate": "Species=%{y}<br>Genus=%{x}<br>kingdom=%{customdata[0]}<br>phylum=%{customdata[1]}<br>class=%{customdata[2]}<br>order=%{customdata[3]}<br>family=%{customdata[4]}<br>sciName=%{customdata[5]}<br>common=%{customdata[6]}<extra></extra>",
         "legendgroup": "lhoesti",
         "marker": {
          "color": "#ab63fa",
          "symbol": "circle"
         },
         "mode": "markers",
         "name": "lhoesti",
         "orientation": "v",
         "showlegend": true,
         "type": "scatter",
         "x": [
          "Allochrocebus"
         ],
         "xaxis": "x",
         "y": [
          "lhoesti"
         ],
         "yaxis": "y"
        },
        {
         "customdata": [
          [
           "Animalia",
           "Chordata",
           "Aves",
           "Procellariiformes",
           "Diomedeidae",
           "Phoebetria palpebrata",
           "Light-mantled Albatross"
          ]
         ],
         "hovertemplate": "Species=%{y}<br>Genus=%{x}<br>kingdom=%{customdata[0]}<br>phylum=%{customdata[1]}<br>class=%{customdata[2]}<br>order=%{customdata[3]}<br>family=%{customdata[4]}<br>sciName=%{customdata[5]}<br>common=%{customdata[6]}<extra></extra>",
         "legendgroup": "palpebrata",
         "marker": {
          "color": "#FFA15A",
          "symbol": "circle"
         },
         "mode": "markers",
         "name": "palpebrata",
         "orientation": "v",
         "showlegend": true,
         "type": "scatter",
         "x": [
          "Phoebetria"
         ],
         "xaxis": "x",
         "y": [
          "palpebrata"
         ],
         "yaxis": "y"
        },
        {
         "customdata": [
          [
           "Animalia",
           "Chordata",
           "Amphibia",
           "Caudata",
           "Plethodontidae",
           "Hydromantes brunus",
           "Limestone Salamander"
          ]
         ],
         "hovertemplate": "Species=%{y}<br>Genus=%{x}<br>kingdom=%{customdata[0]}<br>phylum=%{customdata[1]}<br>class=%{customdata[2]}<br>order=%{customdata[3]}<br>family=%{customdata[4]}<br>sciName=%{customdata[5]}<br>common=%{customdata[6]}<extra></extra>",
         "legendgroup": "brunus",
         "marker": {
          "color": "#19d3f3",
          "symbol": "circle"
         },
         "mode": "markers",
         "name": "brunus",
         "orientation": "v",
         "showlegend": true,
         "type": "scatter",
         "x": [
          "Hydromantes"
         ],
         "xaxis": "x",
         "y": [
          "brunus"
         ],
         "yaxis": "y"
        },
        {
         "customdata": [
          [
           "Animalia",
           "Cnidaria",
           "Anthozoa",
           "Scleractinia",
           "Merulinidae",
           "Orbicella annularis",
           "Lobed Star Coral"
          ]
         ],
         "hovertemplate": "Species=%{y}<br>Genus=%{x}<br>kingdom=%{customdata[0]}<br>phylum=%{customdata[1]}<br>class=%{customdata[2]}<br>order=%{customdata[3]}<br>family=%{customdata[4]}<br>sciName=%{customdata[5]}<br>common=%{customdata[6]}<extra></extra>",
         "legendgroup": "annularis",
         "marker": {
          "color": "#FF6692",
          "symbol": "circle"
         },
         "mode": "markers",
         "name": "annularis",
         "orientation": "v",
         "showlegend": true,
         "type": "scatter",
         "x": [
          "Orbicella"
         ],
         "xaxis": "x",
         "y": [
          "annularis"
         ],
         "yaxis": "y"
        },
        {
         "customdata": [
          [
           "Animalia",
           "Chordata",
           "Actinopterygii",
           "Syngnathiformes",
           "Syngnathidae",
           "Hippocampus reidi",
           "longsnout seahorse"
          ]
         ],
         "hovertemplate": "Species=%{y}<br>Genus=%{x}<br>kingdom=%{customdata[0]}<br>phylum=%{customdata[1]}<br>class=%{customdata[2]}<br>order=%{customdata[3]}<br>family=%{customdata[4]}<br>sciName=%{customdata[5]}<br>common=%{customdata[6]}<extra></extra>",
         "legendgroup": "reidi",
         "marker": {
          "color": "#B6E880",
          "symbol": "circle"
         },
         "mode": "markers",
         "name": "reidi",
         "orientation": "v",
         "showlegend": true,
         "type": "scatter",
         "x": [
          "Hippocampus"
         ],
         "xaxis": "x",
         "y": [
          "reidi"
         ],
         "yaxis": "y"
        },
        {
         "customdata": [
          [
           "Animalia",
           "Chordata",
           "Amphibia",
           "Caudata",
           "Salamandridae",
           "Neurergus kaiseri",
           "Lorestan Newt"
          ]
         ],
         "hovertemplate": "Species=%{y}<br>Genus=%{x}<br>kingdom=%{customdata[0]}<br>phylum=%{customdata[1]}<br>class=%{customdata[2]}<br>order=%{customdata[3]}<br>family=%{customdata[4]}<br>sciName=%{customdata[5]}<br>common=%{customdata[6]}<extra></extra>",
         "legendgroup": "kaiseri",
         "marker": {
          "color": "#FF97FF",
          "symbol": "circle"
         },
         "mode": "markers",
         "name": "kaiseri",
         "orientation": "v",
         "showlegend": true,
         "type": "scatter",
         "x": [
          "Neurergus"
         ],
         "xaxis": "x",
         "y": [
          "kaiseri"
         ],
         "yaxis": "y"
        },
        {
         "customdata": [
          [
           "Animalia",
           "Cnidaria",
           "Anthozoa",
           "Scleractinia",
           "Agariciidae",
           "Agaricia humilis",
           "Low Relief Lettuce Coral"
          ]
         ],
         "hovertemplate": "Species=%{y}<br>Genus=%{x}<br>kingdom=%{customdata[0]}<br>phylum=%{customdata[1]}<br>class=%{customdata[2]}<br>order=%{customdata[3]}<br>family=%{customdata[4]}<br>sciName=%{customdata[5]}<br>common=%{customdata[6]}<extra></extra>",
         "legendgroup": "humilis",
         "marker": {
          "color": "#FECB52",
          "symbol": "circle"
         },
         "mode": "markers",
         "name": "humilis",
         "orientation": "v",
         "showlegend": true,
         "type": "scatter",
         "x": [
          "Agaricia"
         ],
         "xaxis": "x",
         "y": [
          "humilis"
         ],
         "yaxis": "y"
        },
        {
         "customdata": [
          [
           "Animalia",
           "Chordata",
           "Aves",
           "Sphenisciformes",
           "Spheniscidae",
           "Eudyptes chrysolophus",
           "Macaroni Penguin"
          ]
         ],
         "hovertemplate": "Species=%{y}<br>Genus=%{x}<br>kingdom=%{customdata[0]}<br>phylum=%{customdata[1]}<br>class=%{customdata[2]}<br>order=%{customdata[3]}<br>family=%{customdata[4]}<br>sciName=%{customdata[5]}<br>common=%{customdata[6]}<extra></extra>",
         "legendgroup": "chrysolophus",
         "marker": {
          "color": "#636efa",
          "symbol": "circle"
         },
         "mode": "markers",
         "name": "chrysolophus",
         "orientation": "v",
         "showlegend": true,
         "type": "scatter",
         "x": [
          "Eudyptes"
         ],
         "xaxis": "x",
         "y": [
          "chrysolophus"
         ],
         "yaxis": "y"
        },
        {
         "customdata": [
          [
           "Animalia",
           "Chordata",
           "Reptilia",
           "Squamata",
           "Scincidae",
           "Oligosoma macgregori",
           "MacGregor's Skink"
          ]
         ],
         "hovertemplate": "Species=%{y}<br>Genus=%{x}<br>kingdom=%{customdata[0]}<br>phylum=%{customdata[1]}<br>class=%{customdata[2]}<br>order=%{customdata[3]}<br>family=%{customdata[4]}<br>sciName=%{customdata[5]}<br>common=%{customdata[6]}<extra></extra>",
         "legendgroup": "macgregori",
         "marker": {
          "color": "#EF553B",
          "symbol": "circle"
         },
         "mode": "markers",
         "name": "macgregori",
         "orientation": "v",
         "showlegend": true,
         "type": "scatter",
         "x": [
          "Oligosoma"
         ],
         "xaxis": "x",
         "y": [
          "macgregori"
         ],
         "yaxis": "y"
        },
        {
         "customdata": [
          [
           "Animalia",
           "Chordata",
           "Aves",
           "Accipitriformes",
           "Accipitridae",
           "Haliaeetus vociferoides",
           "Madagascar Fish Eagle"
          ]
         ],
         "hovertemplate": "Species=%{y}<br>Genus=%{x}<br>kingdom=%{customdata[0]}<br>phylum=%{customdata[1]}<br>class=%{customdata[2]}<br>order=%{customdata[3]}<br>family=%{customdata[4]}<br>sciName=%{customdata[5]}<br>common=%{customdata[6]}<extra></extra>",
         "legendgroup": "vociferoides",
         "marker": {
          "color": "#00cc96",
          "symbol": "circle"
         },
         "mode": "markers",
         "name": "vociferoides",
         "orientation": "v",
         "showlegend": true,
         "type": "scatter",
         "x": [
          "Haliaeetus"
         ],
         "xaxis": "x",
         "y": [
          "vociferoides"
         ],
         "yaxis": "y"
        },
        {
         "customdata": [
          [
           "Animalia",
           "Chordata",
           "Aves",
           "Galliformes",
           "Megapodiidae",
           "Leipoa ocellata",
           "Malleefowl"
          ]
         ],
         "hovertemplate": "Species=%{y}<br>Genus=%{x}<br>kingdom=%{customdata[0]}<br>phylum=%{customdata[1]}<br>class=%{customdata[2]}<br>order=%{customdata[3]}<br>family=%{customdata[4]}<br>sciName=%{customdata[5]}<br>common=%{customdata[6]}<extra></extra>",
         "legendgroup": "ocellata",
         "marker": {
          "color": "#ab63fa",
          "symbol": "circle"
         },
         "mode": "markers",
         "name": "ocellata",
         "orientation": "v",
         "showlegend": true,
         "type": "scatter",
         "x": [
          "Leipoa"
         ],
         "xaxis": "x",
         "y": [
          "ocellata"
         ],
         "yaxis": "y"
        },
        {
         "customdata": [
          [
           "Animalia",
           "Chordata",
           "Aves",
           "Passeriformes",
           "Pittidae",
           "Pitta megarhyncha",
           "Mangrove Pitta"
          ]
         ],
         "hovertemplate": "Species=%{y}<br>Genus=%{x}<br>kingdom=%{customdata[0]}<br>phylum=%{customdata[1]}<br>class=%{customdata[2]}<br>order=%{customdata[3]}<br>family=%{customdata[4]}<br>sciName=%{customdata[5]}<br>common=%{customdata[6]}<extra></extra>",
         "legendgroup": "megarhyncha",
         "marker": {
          "color": "#FFA15A",
          "symbol": "circle"
         },
         "mode": "markers",
         "name": "megarhyncha",
         "orientation": "v",
         "showlegend": true,
         "type": "scatter",
         "x": [
          "Pitta"
         ],
         "xaxis": "x",
         "y": [
          "megarhyncha"
         ],
         "yaxis": "y"
        },
        {
         "customdata": [
          [
           "Animalia",
           "Chordata",
           "Reptilia",
           "Crocodilia",
           "Crocodylidae",
           "Crocodylus palustris",
           "Marsh Crocodile"
          ]
         ],
         "hovertemplate": "Species=%{y}<br>Genus=%{x}<br>kingdom=%{customdata[0]}<br>phylum=%{customdata[1]}<br>class=%{customdata[2]}<br>order=%{customdata[3]}<br>family=%{customdata[4]}<br>sciName=%{customdata[5]}<br>common=%{customdata[6]}<extra></extra>",
         "legendgroup": "palustris",
         "marker": {
          "color": "#19d3f3",
          "symbol": "circle"
         },
         "mode": "markers",
         "name": "palustris",
         "orientation": "v",
         "showlegend": true,
         "type": "scatter",
         "x": [
          "Crocodylus"
         ],
         "xaxis": "x",
         "y": [
          "palustris"
         ],
         "yaxis": "y"
        },
        {
         "customdata": [
          [
           "Animalia",
           "Cnidaria",
           "Anthozoa",
           "Scleractinia",
           "Siderastreidae",
           "Siderastrea siderea",
           "Massive Starlet Coral"
          ]
         ],
         "hovertemplate": "Species=%{y}<br>Genus=%{x}<br>kingdom=%{customdata[0]}<br>phylum=%{customdata[1]}<br>class=%{customdata[2]}<br>order=%{customdata[3]}<br>family=%{customdata[4]}<br>sciName=%{customdata[5]}<br>common=%{customdata[6]}<extra></extra>",
         "legendgroup": "siderea",
         "marker": {
          "color": "#FF6692",
          "symbol": "circle"
         },
         "mode": "markers",
         "name": "siderea",
         "orientation": "v",
         "showlegend": true,
         "type": "scatter",
         "x": [
          "Siderastrea"
         ],
         "xaxis": "x",
         "y": [
          "siderea"
         ],
         "yaxis": "y"
        },
        {
         "customdata": [
          [
           "Animalia",
           "Mollusca",
           "Gastropoda",
           "Neogastropoda",
           "Conidae",
           "Conus mercator",
           "Merchant Cone"
          ]
         ],
         "hovertemplate": "Species=%{y}<br>Genus=%{x}<br>kingdom=%{customdata[0]}<br>phylum=%{customdata[1]}<br>class=%{customdata[2]}<br>order=%{customdata[3]}<br>family=%{customdata[4]}<br>sciName=%{customdata[5]}<br>common=%{customdata[6]}<extra></extra>",
         "legendgroup": "mercator",
         "marker": {
          "color": "#B6E880",
          "symbol": "circle"
         },
         "mode": "markers",
         "name": "mercator",
         "orientation": "v",
         "showlegend": true,
         "type": "scatter",
         "x": [
          "Conus"
         ],
         "xaxis": "x",
         "y": [
          "mercator"
         ],
         "yaxis": "y"
        },
        {
         "customdata": [
          [
           "Animalia",
           "Arthropoda",
           "Insecta",
           "Hymenoptera",
           "Apidae",
           "Bombus mexicanus",
           "Mexican Bumble Bee"
          ]
         ],
         "hovertemplate": "Species=%{y}<br>Genus=%{x}<br>kingdom=%{customdata[0]}<br>phylum=%{customdata[1]}<br>class=%{customdata[2]}<br>order=%{customdata[3]}<br>family=%{customdata[4]}<br>sciName=%{customdata[5]}<br>common=%{customdata[6]}<extra></extra>",
         "legendgroup": "mexicanus",
         "marker": {
          "color": "#FF97FF",
          "symbol": "circle"
         },
         "mode": "markers",
         "name": "mexicanus",
         "orientation": "v",
         "showlegend": true,
         "type": "scatter",
         "x": [
          "Bombus"
         ],
         "xaxis": "x",
         "y": [
          "mexicanus"
         ],
         "yaxis": "y"
        },
        {
         "customdata": [
          [
           "Animalia",
           "Arthropoda",
           "Arachnida",
           "Araneae",
           "Theraphosidae",
           "Brachypelma auratum",
           "Mexican flameknee tarantula"
          ]
         ],
         "hovertemplate": "Species=%{y}<br>Genus=%{x}<br>kingdom=%{customdata[0]}<br>phylum=%{customdata[1]}<br>class=%{customdata[2]}<br>order=%{customdata[3]}<br>family=%{customdata[4]}<br>sciName=%{customdata[5]}<br>common=%{customdata[6]}<extra></extra>",
         "legendgroup": "auratum",
         "marker": {
          "color": "#FECB52",
          "symbol": "circle"
         },
         "mode": "markers",
         "name": "auratum",
         "orientation": "v",
         "showlegend": true,
         "type": "scatter",
         "x": [
          "Brachypelma"
         ],
         "xaxis": "x",
         "y": [
          "auratum"
         ],
         "yaxis": "y"
        },
        {
         "customdata": [
          [
           "Animalia",
           "Chordata",
           "Mammalia",
           "Chiroptera",
           "Phyllostomidae",
           "Choeronycteris mexicana",
           "Mexican Long-tongued Bat"
          ]
         ],
         "hovertemplate": "Species=%{y}<br>Genus=%{x}<br>kingdom=%{customdata[0]}<br>phylum=%{customdata[1]}<br>class=%{customdata[2]}<br>order=%{customdata[3]}<br>family=%{customdata[4]}<br>sciName=%{customdata[5]}<br>common=%{customdata[6]}<extra></extra>",
         "legendgroup": "mexicana",
         "marker": {
          "color": "#636efa",
          "symbol": "circle"
         },
         "mode": "markers",
         "name": "mexicana",
         "orientation": "v",
         "showlegend": true,
         "type": "scatter",
         "x": [
          "Choeronycteris"
         ],
         "xaxis": "x",
         "y": [
          "mexicana"
         ],
         "yaxis": "y"
        },
        {
         "customdata": [
          [
           "Animalia",
           "Chordata",
           "Aves",
           "Ciconiiformes",
           "Ciconiidae",
           "Mycteria cinerea",
           "Milky Stork"
          ]
         ],
         "hovertemplate": "Species=%{y}<br>Genus=%{x}<br>kingdom=%{customdata[0]}<br>phylum=%{customdata[1]}<br>class=%{customdata[2]}<br>order=%{customdata[3]}<br>family=%{customdata[4]}<br>sciName=%{customdata[5]}<br>common=%{customdata[6]}<extra></extra>",
         "legendgroup": "cinerea",
         "marker": {
          "color": "#EF553B",
          "symbol": "circle"
         },
         "mode": "markers",
         "name": "cinerea",
         "orientation": "v",
         "showlegend": true,
         "type": "scatter",
         "x": [
          "Mycteria"
         ],
         "xaxis": "x",
         "y": [
          "cinerea"
         ],
         "yaxis": "y"
        },
        {
         "customdata": [
          [
           "Animalia",
           "Chordata",
           "Mammalia",
           "Primates",
           "Cercopithecidae",
           "Macaca thibetana",
           "Milne-Edwards's Macaque"
          ]
         ],
         "hovertemplate": "Species=%{y}<br>Genus=%{x}<br>kingdom=%{customdata[0]}<br>phylum=%{customdata[1]}<br>class=%{customdata[2]}<br>order=%{customdata[3]}<br>family=%{customdata[4]}<br>sciName=%{customdata[5]}<br>common=%{customdata[6]}<extra></extra>",
         "legendgroup": "thibetana",
         "marker": {
          "color": "#00cc96",
          "symbol": "circle"
         },
         "mode": "markers",
         "name": "thibetana",
         "orientation": "v",
         "showlegend": true,
         "type": "scatter",
         "x": [
          "Macaca"
         ],
         "xaxis": "x",
         "y": [
          "thibetana"
         ],
         "yaxis": "y"
        },
        {
         "customdata": [
          [
           "Animalia",
           "Chordata",
           "Mammalia",
           "Primates",
           "Cercopithecidae",
           "Cercopithecus mona",
           "Mona Monkey"
          ]
         ],
         "hovertemplate": "Species=%{y}<br>Genus=%{x}<br>kingdom=%{customdata[0]}<br>phylum=%{customdata[1]}<br>class=%{customdata[2]}<br>order=%{customdata[3]}<br>family=%{customdata[4]}<br>sciName=%{customdata[5]}<br>common=%{customdata[6]}<extra></extra>",
         "legendgroup": "mona",
         "marker": {
          "color": "#ab63fa",
          "symbol": "circle"
         },
         "mode": "markers",
         "name": "mona",
         "orientation": "v",
         "showlegend": true,
         "type": "scatter",
         "x": [
          "Cercopithecus"
         ],
         "xaxis": "x",
         "y": [
          "mona"
         ],
         "yaxis": "y"
        },
        {
         "customdata": [
          [
           "Animalia",
           "Arthropoda",
           "Insecta",
           "Hymenoptera",
           "Apidae",
           "Bombus morrisoni",
           "Morrison Bumblebee"
          ]
         ],
         "hovertemplate": "Species=%{y}<br>Genus=%{x}<br>kingdom=%{customdata[0]}<br>phylum=%{customdata[1]}<br>class=%{customdata[2]}<br>order=%{customdata[3]}<br>family=%{customdata[4]}<br>sciName=%{customdata[5]}<br>common=%{customdata[6]}<extra></extra>",
         "legendgroup": "morrisoni",
         "marker": {
          "color": "#FFA15A",
          "symbol": "circle"
         },
         "mode": "markers",
         "name": "morrisoni",
         "orientation": "v",
         "showlegend": true,
         "type": "scatter",
         "x": [
          "Bombus"
         ],
         "xaxis": "x",
         "y": [
          "morrisoni"
         ],
         "yaxis": "y"
        },
        {
         "customdata": [
          [
           "Animalia",
           "Chordata",
           "Reptilia",
           "Squamata",
           "Chamaeleonidae",
           "Calumma ambreense",
           "Mount Amber Globe-horned Chameleon"
          ]
         ],
         "hovertemplate": "Species=%{y}<br>Genus=%{x}<br>kingdom=%{customdata[0]}<br>phylum=%{customdata[1]}<br>class=%{customdata[2]}<br>order=%{customdata[3]}<br>family=%{customdata[4]}<br>sciName=%{customdata[5]}<br>common=%{customdata[6]}<extra></extra>",
         "legendgroup": "ambreense",
         "marker": {
          "color": "#19d3f3",
          "symbol": "circle"
         },
         "mode": "markers",
         "name": "ambreense",
         "orientation": "v",
         "showlegend": true,
         "type": "scatter",
         "x": [
          "Calumma"
         ],
         "xaxis": "x",
         "y": [
          "ambreense"
         ],
         "yaxis": "y"
        },
        {
         "customdata": [
          [
           "Animalia",
           "Chordata",
           "Aves",
           "Apodiformes",
           "Trochilidae",
           "Campylopterus villaviscensio",
           "Napo Sabrewing"
          ]
         ],
         "hovertemplate": "Species=%{y}<br>Genus=%{x}<br>kingdom=%{customdata[0]}<br>phylum=%{customdata[1]}<br>class=%{customdata[2]}<br>order=%{customdata[3]}<br>family=%{customdata[4]}<br>sciName=%{customdata[5]}<br>common=%{customdata[6]}<extra></extra>",
         "legendgroup": "villaviscensio",
         "marker": {
          "color": "#FF6692",
          "symbol": "circle"
         },
         "mode": "markers",
         "name": "villaviscensio",
         "orientation": "v",
         "showlegend": true,
         "type": "scatter",
         "x": [
          "Campylopterus"
         ],
         "xaxis": "x",
         "y": [
          "villaviscensio"
         ],
         "yaxis": "y"
        },
        {
         "customdata": [
          [
           "Animalia",
           "Chordata",
           "Aves",
           "Bucerotiformes",
           "Bucerotidae",
           "Rhyticeros narcondami",
           "Narcondam Hornbill"
          ]
         ],
         "hovertemplate": "Species=%{y}<br>Genus=%{x}<br>kingdom=%{customdata[0]}<br>phylum=%{customdata[1]}<br>class=%{customdata[2]}<br>order=%{customdata[3]}<br>family=%{customdata[4]}<br>sciName=%{customdata[5]}<br>common=%{customdata[6]}<extra></extra>",
         "legendgroup": "narcondami",
         "marker": {
          "color": "#B6E880",
          "symbol": "circle"
         },
         "mode": "markers",
         "name": "narcondami",
         "orientation": "v",
         "showlegend": true,
         "type": "scatter",
         "x": [
          "Rhyticeros"
         ],
         "xaxis": "x",
         "y": [
          "narcondami"
         ],
         "yaxis": "y"
        },
        {
         "customdata": [
          [
           "Animalia",
           "Chordata",
           "Actinopterygii",
           "Scombriformes",
           "Scombridae",
           "Scomberomorus commerson",
           "narrow-barred spanish mackerel"
          ]
         ],
         "hovertemplate": "Species=%{y}<br>Genus=%{x}<br>kingdom=%{customdata[0]}<br>phylum=%{customdata[1]}<br>class=%{customdata[2]}<br>order=%{customdata[3]}<br>family=%{customdata[4]}<br>sciName=%{customdata[5]}<br>common=%{customdata[6]}<extra></extra>",
         "legendgroup": "commerson",
         "marker": {
          "color": "#FF97FF",
          "symbol": "circle"
         },
         "mode": "markers",
         "name": "commerson",
         "orientation": "v",
         "showlegend": true,
         "type": "scatter",
         "x": [
          "Scomberomorus"
         ],
         "xaxis": "x",
         "y": [
          "commerson"
         ],
         "yaxis": "y"
        },
        {
         "customdata": [
          [
           "Animalia",
           "Chordata",
           "Mammalia",
           "Carnivora",
           "Mustelidae",
           "Martes gwatkinsii",
           "Nilgiri Marten"
          ]
         ],
         "hovertemplate": "Species=%{y}<br>Genus=%{x}<br>kingdom=%{customdata[0]}<br>phylum=%{customdata[1]}<br>class=%{customdata[2]}<br>order=%{customdata[3]}<br>family=%{customdata[4]}<br>sciName=%{customdata[5]}<br>common=%{customdata[6]}<extra></extra>",
         "legendgroup": "gwatkinsii",
         "marker": {
          "color": "#FECB52",
          "symbol": "circle"
         },
         "mode": "markers",
         "name": "gwatkinsii",
         "orientation": "v",
         "showlegend": true,
         "type": "scatter",
         "x": [
          "Martes"
         ],
         "xaxis": "x",
         "y": [
          "gwatkinsii"
         ],
         "yaxis": "y"
        },
        {
         "customdata": [
          [
           "Animalia",
           "Chordata",
           "Aves",
           "Passeriformes",
           "Motacillidae",
           "Anthus nilghiriensis",
           "Nilgiri Pipit"
          ]
         ],
         "hovertemplate": "Species=%{y}<br>Genus=%{x}<br>kingdom=%{customdata[0]}<br>phylum=%{customdata[1]}<br>class=%{customdata[2]}<br>order=%{customdata[3]}<br>family=%{customdata[4]}<br>sciName=%{customdata[5]}<br>common=%{customdata[6]}<extra></extra>",
         "legendgroup": "nilghiriensis",
         "marker": {
          "color": "#636efa",
          "symbol": "circle"
         },
         "mode": "markers",
         "name": "nilghiriensis",
         "orientation": "v",
         "showlegend": true,
         "type": "scatter",
         "x": [
          "Anthus"
         ],
         "xaxis": "x",
         "y": [
          "nilghiriensis"
         ],
         "yaxis": "y"
        },
        {
         "customdata": [
          [
           "Animalia",
           "Arthropoda",
           "Insecta",
           "Lepidoptera",
           "Nymphalidae",
           "Parantica nilgiriensis",
           "Nilgiri Tiger"
          ]
         ],
         "hovertemplate": "Species=%{y}<br>Genus=%{x}<br>kingdom=%{customdata[0]}<br>phylum=%{customdata[1]}<br>class=%{customdata[2]}<br>order=%{customdata[3]}<br>family=%{customdata[4]}<br>sciName=%{customdata[5]}<br>common=%{customdata[6]}<extra></extra>",
         "legendgroup": "nilgiriensis",
         "marker": {
          "color": "#EF553B",
          "symbol": "circle"
         },
         "mode": "markers",
         "name": "nilgiriensis",
         "orientation": "v",
         "showlegend": true,
         "type": "scatter",
         "x": [
          "Parantica"
         ],
         "xaxis": "x",
         "y": [
          "nilgiriensis"
         ],
         "yaxis": "y"
        },
        {
         "customdata": [
          [
           "Animalia",
           "Chordata",
           "Mammalia",
           "Primates",
           "Cercopithecidae",
           "Presbytis thomasi",
           "North Sumatran Leaf Monkey"
          ]
         ],
         "hovertemplate": "Species=%{y}<br>Genus=%{x}<br>kingdom=%{customdata[0]}<br>phylum=%{customdata[1]}<br>class=%{customdata[2]}<br>order=%{customdata[3]}<br>family=%{customdata[4]}<br>sciName=%{customdata[5]}<br>common=%{customdata[6]}<extra></extra>",
         "legendgroup": "thomasi",
         "marker": {
          "color": "#00cc96",
          "symbol": "circle"
         },
         "mode": "markers",
         "name": "thomasi",
         "orientation": "v",
         "showlegend": true,
         "type": "scatter",
         "x": [
          "Presbytis"
         ],
         "xaxis": "x",
         "y": [
          "thomasi"
         ],
         "yaxis": "y"
        },
        {
         "customdata": [
          [
           "Animalia",
           "Chordata",
           "Mammalia",
           "Carnivora",
           "Otariidae",
           "Callorhinus ursinus",
           "Northern Fur Seal"
          ]
         ],
         "hovertemplate": "Species=%{y}<br>Genus=%{x}<br>kingdom=%{customdata[0]}<br>phylum=%{customdata[1]}<br>class=%{customdata[2]}<br>order=%{customdata[3]}<br>family=%{customdata[4]}<br>sciName=%{customdata[5]}<br>common=%{customdata[6]}<extra></extra>",
         "legendgroup": "ursinus",
         "marker": {
          "color": "#ab63fa",
          "symbol": "circle"
         },
         "mode": "markers",
         "name": "ursinus",
         "orientation": "v",
         "showlegend": true,
         "type": "scatter",
         "x": [
          "Callorhinus"
         ],
         "xaxis": "x",
         "y": [
          "ursinus"
         ],
         "yaxis": "y"
        },
        {
         "customdata": [
          [
           "Animalia",
           "Chordata",
           "Mammalia",
           "Primates",
           "Atelidae",
           "Brachyteles hypoxanthus",
           "Northern Muriqui"
          ]
         ],
         "hovertemplate": "Species=%{y}<br>Genus=%{x}<br>kingdom=%{customdata[0]}<br>phylum=%{customdata[1]}<br>class=%{customdata[2]}<br>order=%{customdata[3]}<br>family=%{customdata[4]}<br>sciName=%{customdata[5]}<br>common=%{customdata[6]}<extra></extra>",
         "legendgroup": "hypoxanthus",
         "marker": {
          "color": "#FFA15A",
          "symbol": "circle"
         },
         "mode": "markers",
         "name": "hypoxanthus",
         "orientation": "v",
         "showlegend": true,
         "type": "scatter",
         "x": [
          "Brachyteles"
         ],
         "xaxis": "x",
         "y": [
          "hypoxanthus"
         ],
         "yaxis": "y"
        },
        {
         "customdata": [
          [
           "Animalia",
           "Chordata",
           "Aves",
           "Sphenisciformes",
           "Spheniscidae",
           "Eudyptes moseleyi",
           "Northern Rockhopper Penguin"
          ]
         ],
         "hovertemplate": "Species=%{y}<br>Genus=%{x}<br>kingdom=%{customdata[0]}<br>phylum=%{customdata[1]}<br>class=%{customdata[2]}<br>order=%{customdata[3]}<br>family=%{customdata[4]}<br>sciName=%{customdata[5]}<br>common=%{customdata[6]}<extra></extra>",
         "legendgroup": "moseleyi",
         "marker": {
          "color": "#19d3f3",
          "symbol": "circle"
         },
         "mode": "markers",
         "name": "moseleyi",
         "orientation": "v",
         "showlegend": true,
         "type": "scatter",
         "x": [
          "Eudyptes"
         ],
         "xaxis": "x",
         "y": [
          "moseleyi"
         ],
         "yaxis": "y"
        },
        {
         "customdata": [
          [
           "Animalia",
           "Chordata",
           "Mammalia",
           "Primates",
           "Cercopithecidae",
           "Miopithecus ogouensis",
           "Northern Talapoin Monkey"
          ]
         ],
         "hovertemplate": "Species=%{y}<br>Genus=%{x}<br>kingdom=%{customdata[0]}<br>phylum=%{customdata[1]}<br>class=%{customdata[2]}<br>order=%{customdata[3]}<br>family=%{customdata[4]}<br>sciName=%{customdata[5]}<br>common=%{customdata[6]}<extra></extra>",
         "legendgroup": "ogouensis",
         "marker": {
          "color": "#FF6692",
          "symbol": "circle"
         },
         "mode": "markers",
         "name": "ogouensis",
         "orientation": "v",
         "showlegend": true,
         "type": "scatter",
         "x": [
          "Miopithecus"
         ],
         "xaxis": "x",
         "y": [
          "ogouensis"
         ],
         "yaxis": "y"
        },
        {
         "customdata": [
          [
           "Animalia",
           "Cnidaria",
           "Anthozoa",
           "Scleractinia",
           "Euphylliidae",
           "Galaxea astreata",
           "Octopus Coral"
          ]
         ],
         "hovertemplate": "Species=%{y}<br>Genus=%{x}<br>kingdom=%{customdata[0]}<br>phylum=%{customdata[1]}<br>class=%{customdata[2]}<br>order=%{customdata[3]}<br>family=%{customdata[4]}<br>sciName=%{customdata[5]}<br>common=%{customdata[6]}<extra></extra>",
         "legendgroup": "astreata",
         "marker": {
          "color": "#B6E880",
          "symbol": "circle"
         },
         "mode": "markers",
         "name": "astreata",
         "orientation": "v",
         "showlegend": true,
         "type": "scatter",
         "x": [
          "Galaxea"
         ],
         "xaxis": "x",
         "y": [
          "astreata"
         ],
         "yaxis": "y"
        },
        {
         "customdata": [
          [
           "Animalia",
           "Chordata",
           "Mammalia",
           "Artiodactyla",
           "Giraffidae",
           "Okapia johnstoni",
           "okapi"
          ]
         ],
         "hovertemplate": "Species=%{y}<br>Genus=%{x}<br>kingdom=%{customdata[0]}<br>phylum=%{customdata[1]}<br>class=%{customdata[2]}<br>order=%{customdata[3]}<br>family=%{customdata[4]}<br>sciName=%{customdata[5]}<br>common=%{customdata[6]}<extra></extra>",
         "legendgroup": "johnstoni",
         "marker": {
          "color": "#FF97FF",
          "symbol": "circle"
         },
         "mode": "markers",
         "name": "johnstoni",
         "orientation": "v",
         "showlegend": true,
         "type": "scatter",
         "x": [
          "Okapia"
         ],
         "xaxis": "x",
         "y": [
          "johnstoni"
         ],
         "yaxis": "y"
        },
        {
         "customdata": [
          [
           "Animalia",
           "Chordata",
           "Amphibia",
           "Caudata",
           "Rhyacotritonidae",
           "Rhyacotriton olympicus",
           "Olympic Salamander"
          ]
         ],
         "hovertemplate": "Species=%{y}<br>Genus=%{x}<br>kingdom=%{customdata[0]}<br>phylum=%{customdata[1]}<br>class=%{customdata[2]}<br>order=%{customdata[3]}<br>family=%{customdata[4]}<br>sciName=%{customdata[5]}<br>common=%{customdata[6]}<extra></extra>",
         "legendgroup": "olympicus",
         "marker": {
          "color": "#FECB52",
          "symbol": "circle"
         },
         "mode": "markers",
         "name": "olympicus",
         "orientation": "v",
         "showlegend": true,
         "type": "scatter",
         "x": [
          "Rhyacotriton"
         ],
         "xaxis": "x",
         "y": [
          "olympicus"
         ],
         "yaxis": "y"
        },
        {
         "customdata": [
          [
           "Animalia",
           "Chordata",
           "Aves",
           "Psittaciformes",
           "Psittaculidae",
           "Neophema chrysogaster",
           "Orange-bellied Parakeet"
          ]
         ],
         "hovertemplate": "Species=%{y}<br>Genus=%{x}<br>kingdom=%{customdata[0]}<br>phylum=%{customdata[1]}<br>class=%{customdata[2]}<br>order=%{customdata[3]}<br>family=%{customdata[4]}<br>sciName=%{customdata[5]}<br>common=%{customdata[6]}<extra></extra>",
         "legendgroup": "chrysogaster",
         "marker": {
          "color": "#636efa",
          "symbol": "circle"
         },
         "mode": "markers",
         "name": "chrysogaster",
         "orientation": "v",
         "showlegend": true,
         "type": "scatter",
         "x": [
          "Neophema"
         ],
         "xaxis": "x",
         "y": [
          "chrysogaster"
         ],
         "yaxis": "y"
        },
        {
         "customdata": [
          [
           "Animalia",
           "Chordata",
           "Aves",
           "Falconiformes",
           "Falconidae",
           "Falco deiroleucus",
           "Orange-breasted Falcon"
          ]
         ],
         "hovertemplate": "Species=%{y}<br>Genus=%{x}<br>kingdom=%{customdata[0]}<br>phylum=%{customdata[1]}<br>class=%{customdata[2]}<br>order=%{customdata[3]}<br>family=%{customdata[4]}<br>sciName=%{customdata[5]}<br>common=%{customdata[6]}<extra></extra>",
         "legendgroup": "deiroleucus",
         "marker": {
          "color": "#EF553B",
          "symbol": "circle"
         },
         "mode": "markers",
         "name": "deiroleucus",
         "orientation": "v",
         "showlegend": true,
         "type": "scatter",
         "x": [
          "Falco"
         ],
         "xaxis": "x",
         "y": [
          "deiroleucus"
         ],
         "yaxis": "y"
        },
        {
         "customdata": [
          [
           "Animalia",
           "Chordata",
           "Amphibia",
           "Caudata",
           "Plethodontidae",
           "Batrachoseps wrighti",
           "Oregon Slender Salamander"
          ]
         ],
         "hovertemplate": "Species=%{y}<br>Genus=%{x}<br>kingdom=%{customdata[0]}<br>phylum=%{customdata[1]}<br>class=%{customdata[2]}<br>order=%{customdata[3]}<br>family=%{customdata[4]}<br>sciName=%{customdata[5]}<br>common=%{customdata[6]}<extra></extra>",
         "legendgroup": "wrighti",
         "marker": {
          "color": "#00cc96",
          "symbol": "circle"
         },
         "mode": "markers",
         "name": "wrighti",
         "orientation": "v",
         "showlegend": true,
         "type": "scatter",
         "x": [
          "Batrachoseps"
         ],
         "xaxis": "x",
         "y": [
          "wrighti"
         ],
         "yaxis": "y"
        },
        {
         "customdata": [
          [
           "Animalia",
           "Chordata",
           "Amphibia",
           "Anura",
           "Ranidae",
           "Rana pretiosa",
           "Oregon Spotted Frog"
          ]
         ],
         "hovertemplate": "Species=%{y}<br>Genus=%{x}<br>kingdom=%{customdata[0]}<br>phylum=%{customdata[1]}<br>class=%{customdata[2]}<br>order=%{customdata[3]}<br>family=%{customdata[4]}<br>sciName=%{customdata[5]}<br>common=%{customdata[6]}<extra></extra>",
         "legendgroup": "pretiosa",
         "marker": {
          "color": "#ab63fa",
          "symbol": "circle"
         },
         "mode": "markers",
         "name": "pretiosa",
         "orientation": "v",
         "showlegend": true,
         "type": "scatter",
         "x": [
          "Rana"
         ],
         "xaxis": "x",
         "y": [
          "pretiosa"
         ],
         "yaxis": "y"
        },
        {
         "customdata": [
          [
           "Animalia",
           "Chordata",
           "Aves",
           "Anseriformes",
           "Anatidae",
           "Neochen jubata",
           "Orinoco Goose"
          ]
         ],
         "hovertemplate": "Species=%{y}<br>Genus=%{x}<br>kingdom=%{customdata[0]}<br>phylum=%{customdata[1]}<br>class=%{customdata[2]}<br>order=%{customdata[3]}<br>family=%{customdata[4]}<br>sciName=%{customdata[5]}<br>common=%{customdata[6]}<extra></extra>",
         "legendgroup": "jubata",
         "marker": {
          "color": "#FFA15A",
          "symbol": "circle"
         },
         "mode": "markers",
         "name": "jubata",
         "orientation": "v",
         "showlegend": true,
         "type": "scatter",
         "x": [
          "Neochen"
         ],
         "xaxis": "x",
         "y": [
          "jubata"
         ],
         "yaxis": "y"
        },
        {
         "customdata": [
          [
           "Animalia",
           "Chordata",
           "Chondrichthyes",
           "Rajiformes",
           "Rajidae",
           "Raja undulata",
           "painted ray"
          ]
         ],
         "hovertemplate": "Species=%{y}<br>Genus=%{x}<br>kingdom=%{customdata[0]}<br>phylum=%{customdata[1]}<br>class=%{customdata[2]}<br>order=%{customdata[3]}<br>family=%{customdata[4]}<br>sciName=%{customdata[5]}<br>common=%{customdata[6]}<extra></extra>",
         "legendgroup": "undulata",
         "marker": {
          "color": "#19d3f3",
          "symbol": "circle"
         },
         "mode": "markers",
         "name": "undulata",
         "orientation": "v",
         "showlegend": true,
         "type": "scatter",
         "x": [
          "Raja"
         ],
         "xaxis": "x",
         "y": [
          "undulata"
         ],
         "yaxis": "y"
        },
        {
         "customdata": [
          [
           "Animalia",
           "Chordata",
           "Actinopterygii",
           "Acipenseriformes",
           "Acipenseridae",
           "Scaphirhynchus albus",
           "pallid sturgeon"
          ]
         ],
         "hovertemplate": "Species=%{y}<br>Genus=%{x}<br>kingdom=%{customdata[0]}<br>phylum=%{customdata[1]}<br>class=%{customdata[2]}<br>order=%{customdata[3]}<br>family=%{customdata[4]}<br>sciName=%{customdata[5]}<br>common=%{customdata[6]}<extra></extra>",
         "legendgroup": "albus",
         "marker": {
          "color": "#FF6692",
          "symbol": "circle"
         },
         "mode": "markers",
         "name": "albus",
         "orientation": "v",
         "showlegend": true,
         "type": "scatter",
         "x": [
          "Scaphirhynchus"
         ],
         "xaxis": "x",
         "y": [
          "albus"
         ],
         "yaxis": "y"
        },
        {
         "customdata": [
          [
           "Animalia",
           "Chordata",
           "Amphibia",
           "Anura",
           "Bufonidae",
           "Atelopus zeteki",
           "Panamanian Golden Frog"
          ]
         ],
         "hovertemplate": "Species=%{y}<br>Genus=%{x}<br>kingdom=%{customdata[0]}<br>phylum=%{customdata[1]}<br>class=%{customdata[2]}<br>order=%{customdata[3]}<br>family=%{customdata[4]}<br>sciName=%{customdata[5]}<br>common=%{customdata[6]}<extra></extra>",
         "legendgroup": "zeteki",
         "marker": {
          "color": "#B6E880",
          "symbol": "circle"
         },
         "mode": "markers",
         "name": "zeteki",
         "orientation": "v",
         "showlegend": true,
         "type": "scatter",
         "x": [
          "Atelopus"
         ],
         "xaxis": "x",
         "y": [
          "zeteki"
         ],
         "yaxis": "y"
        },
        {
         "customdata": [
          [
           "Animalia",
           "Chordata",
           "Amphibia",
           "Anura",
           "Arthroleptidae",
           "Leptopelis vermiculatus",
           "Peacock Tree Frog"
          ]
         ],
         "hovertemplate": "Species=%{y}<br>Genus=%{x}<br>kingdom=%{customdata[0]}<br>phylum=%{customdata[1]}<br>class=%{customdata[2]}<br>order=%{customdata[3]}<br>family=%{customdata[4]}<br>sciName=%{customdata[5]}<br>common=%{customdata[6]}<extra></extra>",
         "legendgroup": "vermiculatus",
         "marker": {
          "color": "#FF97FF",
          "symbol": "circle"
         },
         "mode": "markers",
         "name": "vermiculatus",
         "orientation": "v",
         "showlegend": true,
         "type": "scatter",
         "x": [
          "Leptopelis"
         ],
         "xaxis": "x",
         "y": [
          "vermiculatus"
         ],
         "yaxis": "y"
        },
        {
         "customdata": [
          [
           "Animalia",
           "Chordata",
           "Mammalia",
           "Rodentia",
           "Ctenomyidae",
           "Ctenomys pearsoni",
           "Pearson's Tuco-tuco"
          ]
         ],
         "hovertemplate": "Species=%{y}<br>Genus=%{x}<br>kingdom=%{customdata[0]}<br>phylum=%{customdata[1]}<br>class=%{customdata[2]}<br>order=%{customdata[3]}<br>family=%{customdata[4]}<br>sciName=%{customdata[5]}<br>common=%{customdata[6]}<extra></extra>",
         "legendgroup": "pearsoni",
         "marker": {
          "color": "#FECB52",
          "symbol": "circle"
         },
         "mode": "markers",
         "name": "pearsoni",
         "orientation": "v",
         "showlegend": true,
         "type": "scatter",
         "x": [
          "Ctenomys"
         ],
         "xaxis": "x",
         "y": [
          "pearsoni"
         ],
         "yaxis": "y"
        },
        {
         "customdata": [
          [
           "Animalia",
           "Chordata",
           "Chondrichthyes",
           "Lamniformes",
           "Alopiidae",
           "Alopias pelagicus",
           "pelagic thresher"
          ]
         ],
         "hovertemplate": "Species=%{y}<br>Genus=%{x}<br>kingdom=%{customdata[0]}<br>phylum=%{customdata[1]}<br>class=%{customdata[2]}<br>order=%{customdata[3]}<br>family=%{customdata[4]}<br>sciName=%{customdata[5]}<br>common=%{customdata[6]}<extra></extra>",
         "legendgroup": "pelagicus",
         "marker": {
          "color": "#636efa",
          "symbol": "circle"
         },
         "mode": "markers",
         "name": "pelagicus",
         "orientation": "v",
         "showlegend": true,
         "type": "scatter",
         "x": [
          "Alopias"
         ],
         "xaxis": "x",
         "y": [
          "pelagicus"
         ],
         "yaxis": "y"
        },
        {
         "customdata": [
          [
           "Animalia",
           "Arthropoda",
           "Insecta",
           "Hymenoptera",
           "Formicidae",
           "Pheidole neokohli",
           "Pheidole neokohli"
          ]
         ],
         "hovertemplate": "Species=%{y}<br>Genus=%{x}<br>kingdom=%{customdata[0]}<br>phylum=%{customdata[1]}<br>class=%{customdata[2]}<br>order=%{customdata[3]}<br>family=%{customdata[4]}<br>sciName=%{customdata[5]}<br>common=%{customdata[6]}<extra></extra>",
         "legendgroup": "neokohli",
         "marker": {
          "color": "#EF553B",
          "symbol": "circle"
         },
         "mode": "markers",
         "name": "neokohli",
         "orientation": "v",
         "showlegend": true,
         "type": "scatter",
         "x": [
          "Pheidole"
         ],
         "xaxis": "x",
         "y": [
          "neokohli"
         ],
         "yaxis": "y"
        },
        {
         "customdata": [
          [
           "Animalia",
           "Echinodermata",
           "Holothuroidea",
           "Synallactida",
           "Stichopodidae",
           "Thelenota ananas",
           "Pineapple Sea Cucumber"
          ]
         ],
         "hovertemplate": "Species=%{y}<br>Genus=%{x}<br>kingdom=%{customdata[0]}<br>phylum=%{customdata[1]}<br>class=%{customdata[2]}<br>order=%{customdata[3]}<br>family=%{customdata[4]}<br>sciName=%{customdata[5]}<br>common=%{customdata[6]}<extra></extra>",
         "legendgroup": "ananas",
         "marker": {
          "color": "#00cc96",
          "symbol": "circle"
         },
         "mode": "markers",
         "name": "ananas",
         "orientation": "v",
         "showlegend": true,
         "type": "scatter",
         "x": [
          "Thelenota"
         ],
         "xaxis": "x",
         "y": [
          "ananas"
         ],
         "yaxis": "y"
        },
        {
         "customdata": [
          [
           "Animalia",
           "Chordata",
           "Chondrichthyes",
           "Myliobatiformes",
           "Dasyatidae",
           "Pateobatis fai",
           "Pink Whipray"
          ]
         ],
         "hovertemplate": "Species=%{y}<br>Genus=%{x}<br>kingdom=%{customdata[0]}<br>phylum=%{customdata[1]}<br>class=%{customdata[2]}<br>order=%{customdata[3]}<br>family=%{customdata[4]}<br>sciName=%{customdata[5]}<br>common=%{customdata[6]}<extra></extra>",
         "legendgroup": "fai",
         "marker": {
          "color": "#ab63fa",
          "symbol": "circle"
         },
         "mode": "markers",
         "name": "fai",
         "orientation": "v",
         "showlegend": true,
         "type": "scatter",
         "x": [
          "Pateobatis"
         ],
         "xaxis": "x",
         "y": [
          "fai"
         ],
         "yaxis": "y"
        },
        {
         "customdata": [
          [
           "Animalia",
           "Chordata",
           "Amphibia",
           "Anura",
           "Bufonidae",
           "Atelopus glyphus",
           "Pirri Harlequin Frog"
          ]
         ],
         "hovertemplate": "Species=%{y}<br>Genus=%{x}<br>kingdom=%{customdata[0]}<br>phylum=%{customdata[1]}<br>class=%{customdata[2]}<br>order=%{customdata[3]}<br>family=%{customdata[4]}<br>sciName=%{customdata[5]}<br>common=%{customdata[6]}<extra></extra>",
         "legendgroup": "glyphus",
         "marker": {
          "color": "#FFA15A",
          "symbol": "circle"
         },
         "mode": "markers",
         "name": "glyphus",
         "orientation": "v",
         "showlegend": true,
         "type": "scatter",
         "x": [
          "Atelopus"
         ],
         "xaxis": "x",
         "y": [
          "glyphus"
         ],
         "yaxis": "y"
        },
        {
         "customdata": [
          [
           "Animalia",
           "Chordata",
           "Aves",
           "Piciformes",
           "Ramphastidae",
           "Andigena laminirostris",
           "Plate-billed Mountain Toucan"
          ]
         ],
         "hovertemplate": "Species=%{y}<br>Genus=%{x}<br>kingdom=%{customdata[0]}<br>phylum=%{customdata[1]}<br>class=%{customdata[2]}<br>order=%{customdata[3]}<br>family=%{customdata[4]}<br>sciName=%{customdata[5]}<br>common=%{customdata[6]}<extra></extra>",
         "legendgroup": "laminirostris",
         "marker": {
          "color": "#19d3f3",
          "symbol": "circle"
         },
         "mode": "markers",
         "name": "laminirostris",
         "orientation": "v",
         "showlegend": true,
         "type": "scatter",
         "x": [
          "Andigena"
         ],
         "xaxis": "x",
         "y": [
          "laminirostris"
         ],
         "yaxis": "y"
        },
        {
         "customdata": [
          [
           "Animalia",
           "Chordata",
           "Chondrichthyes",
           "Lamniformes",
           "Lamnidae",
           "Lamna nasus",
           "porbeagle"
          ]
         ],
         "hovertemplate": "Species=%{y}<br>Genus=%{x}<br>kingdom=%{customdata[0]}<br>phylum=%{customdata[1]}<br>class=%{customdata[2]}<br>order=%{customdata[3]}<br>family=%{customdata[4]}<br>sciName=%{customdata[5]}<br>common=%{customdata[6]}<extra></extra>",
         "legendgroup": "nasus",
         "marker": {
          "color": "#FF6692",
          "symbol": "circle"
         },
         "mode": "markers",
         "name": "nasus",
         "orientation": "v",
         "showlegend": true,
         "type": "scatter",
         "x": [
          "Lamna"
         ],
         "xaxis": "x",
         "y": [
          "nasus"
         ],
         "yaxis": "y"
        },
        {
         "customdata": [
          [
           "Animalia",
           "Chordata",
           "Actinopterygii",
           "Spariformes",
           "Sparidae",
           "Stenotomus chrysops",
           "porgy"
          ]
         ],
         "hovertemplate": "Species=%{y}<br>Genus=%{x}<br>kingdom=%{customdata[0]}<br>phylum=%{customdata[1]}<br>class=%{customdata[2]}<br>order=%{customdata[3]}<br>family=%{customdata[4]}<br>sciName=%{customdata[5]}<br>common=%{customdata[6]}<extra></extra>",
         "legendgroup": "chrysops",
         "marker": {
          "color": "#B6E880",
          "symbol": "circle"
         },
         "mode": "markers",
         "name": "chrysops",
         "orientation": "v",
         "showlegend": true,
         "type": "scatter",
         "x": [
          "Stenotomus"
         ],
         "xaxis": "x",
         "y": [
          "chrysops"
         ],
         "yaxis": "y"
        },
        {
         "customdata": [
          [
           "Animalia",
           "Arthropoda",
           "Insecta",
           "Orthoptera",
           "Tettigoniidae",
           "Saga pedo",
           "Predatory Bush-cricket"
          ]
         ],
         "hovertemplate": "Species=%{y}<br>Genus=%{x}<br>kingdom=%{customdata[0]}<br>phylum=%{customdata[1]}<br>class=%{customdata[2]}<br>order=%{customdata[3]}<br>family=%{customdata[4]}<br>sciName=%{customdata[5]}<br>common=%{customdata[6]}<extra></extra>",
         "legendgroup": "pedo",
         "marker": {
          "color": "#FF97FF",
          "symbol": "circle"
         },
         "mode": "markers",
         "name": "pedo",
         "orientation": "v",
         "showlegend": true,
         "type": "scatter",
         "x": [
          "Saga"
         ],
         "xaxis": "x",
         "y": [
          "pedo"
         ],
         "yaxis": "y"
        },
        {
         "customdata": [
          [
           "Animalia",
           "Chordata",
           "Aves",
           "Passeriformes",
           "Nesospingidae",
           "Nesospingus speculiferus",
           "Puerto Rican Tanager"
          ]
         ],
         "hovertemplate": "Species=%{y}<br>Genus=%{x}<br>kingdom=%{customdata[0]}<br>phylum=%{customdata[1]}<br>class=%{customdata[2]}<br>order=%{customdata[3]}<br>family=%{customdata[4]}<br>sciName=%{customdata[5]}<br>common=%{customdata[6]}<extra></extra>",
         "legendgroup": "speculiferus",
         "marker": {
          "color": "#FECB52",
          "symbol": "circle"
         },
         "mode": "markers",
         "name": "speculiferus",
         "orientation": "v",
         "showlegend": true,
         "type": "scatter",
         "x": [
          "Nesospingus"
         ],
         "xaxis": "x",
         "y": [
          "speculiferus"
         ],
         "yaxis": "y"
        },
        {
         "customdata": [
          [
           "Animalia",
           "Chordata",
           "Reptilia",
           "Squamata",
           "Dactyloidae",
           "Anolis monteverde",
           "Puntarenas Anole"
          ]
         ],
         "hovertemplate": "Species=%{y}<br>Genus=%{x}<br>kingdom=%{customdata[0]}<br>phylum=%{customdata[1]}<br>class=%{customdata[2]}<br>order=%{customdata[3]}<br>family=%{customdata[4]}<br>sciName=%{customdata[5]}<br>common=%{customdata[6]}<extra></extra>",
         "legendgroup": "monteverde",
         "marker": {
          "color": "#636efa",
          "symbol": "circle"
         },
         "mode": "markers",
         "name": "monteverde",
         "orientation": "v",
         "showlegend": true,
         "type": "scatter",
         "x": [
          "Anolis"
         ],
         "xaxis": "x",
         "y": [
          "monteverde"
         ],
         "yaxis": "y"
        },
        {
         "customdata": [
          [
           "Animalia",
           "Mollusca",
           "Bivalvia",
           "Unionida",
           "Unionidae",
           "Cyclonaias tuberculata",
           "purple wartyback"
          ]
         ],
         "hovertemplate": "Species=%{y}<br>Genus=%{x}<br>kingdom=%{customdata[0]}<br>phylum=%{customdata[1]}<br>class=%{customdata[2]}<br>order=%{customdata[3]}<br>family=%{customdata[4]}<br>sciName=%{customdata[5]}<br>common=%{customdata[6]}<extra></extra>",
         "legendgroup": "tuberculata",
         "marker": {
          "color": "#EF553B",
          "symbol": "circle"
         },
         "mode": "markers",
         "name": "tuberculata",
         "orientation": "v",
         "showlegend": true,
         "type": "scatter",
         "x": [
          "Cyclonaias"
         ],
         "xaxis": "x",
         "y": [
          "tuberculata"
         ],
         "yaxis": "y"
        },
        {
         "customdata": [
          [
           "Animalia",
           "Chordata",
           "Amphibia",
           "Caudata",
           "Salamandridae",
           "Triturus pygmaeus",
           "Pygmy Marbled Newt"
          ]
         ],
         "hovertemplate": "Species=%{y}<br>Genus=%{x}<br>kingdom=%{customdata[0]}<br>phylum=%{customdata[1]}<br>class=%{customdata[2]}<br>order=%{customdata[3]}<br>family=%{customdata[4]}<br>sciName=%{customdata[5]}<br>common=%{customdata[6]}<extra></extra>",
         "legendgroup": "pygmaeus",
         "marker": {
          "color": "#00cc96",
          "symbol": "circle"
         },
         "mode": "markers",
         "name": "pygmaeus",
         "orientation": "v",
         "showlegend": true,
         "type": "scatter",
         "x": [
          "Triturus"
         ],
         "xaxis": "x",
         "y": [
          "pygmaeus"
         ],
         "yaxis": "y"
        },
        {
         "customdata": [
          [
           "Animalia",
           "Chordata",
           "Mammalia",
           "Primates",
           "Callitrichidae",
           "Cebuella pygmaea",
           "Pygmy Marmoset"
          ]
         ],
         "hovertemplate": "Species=%{y}<br>Genus=%{x}<br>kingdom=%{customdata[0]}<br>phylum=%{customdata[1]}<br>class=%{customdata[2]}<br>order=%{customdata[3]}<br>family=%{customdata[4]}<br>sciName=%{customdata[5]}<br>common=%{customdata[6]}<extra></extra>",
         "legendgroup": "pygmaea",
         "marker": {
          "color": "#ab63fa",
          "symbol": "circle"
         },
         "mode": "markers",
         "name": "pygmaea",
         "orientation": "v",
         "showlegend": true,
         "type": "scatter",
         "x": [
          "Cebuella"
         ],
         "xaxis": "x",
         "y": [
          "pygmaea"
         ],
         "yaxis": "y"
        },
        {
         "customdata": [
          [
           "Animalia",
           "Chordata",
           "Reptilia",
           "Squamata",
           "Lacertidae",
           "Iberolacerta bonnali",
           "Pyrenean Rock Lizard"
          ]
         ],
         "hovertemplate": "Species=%{y}<br>Genus=%{x}<br>kingdom=%{customdata[0]}<br>phylum=%{customdata[1]}<br>class=%{customdata[2]}<br>order=%{customdata[3]}<br>family=%{customdata[4]}<br>sciName=%{customdata[5]}<br>common=%{customdata[6]}<extra></extra>",
         "legendgroup": "bonnali",
         "marker": {
          "color": "#FFA15A",
          "symbol": "circle"
         },
         "mode": "markers",
         "name": "bonnali",
         "orientation": "v",
         "showlegend": true,
         "type": "scatter",
         "x": [
          "Iberolacerta"
         ],
         "xaxis": "x",
         "y": [
          "bonnali"
         ],
         "yaxis": "y"
        },
        {
         "customdata": [
          [
           "Animalia",
           "Chordata",
           "Actinopterygii",
           "Tetraodontiformes",
           "Balistidae",
           "Balistes vetula",
           "queen triggerfish"
          ]
         ],
         "hovertemplate": "Species=%{y}<br>Genus=%{x}<br>kingdom=%{customdata[0]}<br>phylum=%{customdata[1]}<br>class=%{customdata[2]}<br>order=%{customdata[3]}<br>family=%{customdata[4]}<br>sciName=%{customdata[5]}<br>common=%{customdata[6]}<extra></extra>",
         "legendgroup": "vetula",
         "marker": {
          "color": "#19d3f3",
          "symbol": "circle"
         },
         "mode": "markers",
         "name": "vetula",
         "orientation": "v",
         "showlegend": true,
         "type": "scatter",
         "x": [
          "Balistes"
         ],
         "xaxis": "x",
         "y": [
          "vetula"
         ],
         "yaxis": "y"
        },
        {
         "customdata": [
          [
           "Animalia",
           "Chordata",
           "Reptilia",
           "Testudines",
           "Testudinidae",
           "Astrochelys radiata",
           "Radiated Tortoise"
          ]
         ],
         "hovertemplate": "Species=%{y}<br>Genus=%{x}<br>kingdom=%{customdata[0]}<br>phylum=%{customdata[1]}<br>class=%{customdata[2]}<br>order=%{customdata[3]}<br>family=%{customdata[4]}<br>sciName=%{customdata[5]}<br>common=%{customdata[6]}<extra></extra>",
         "legendgroup": "radiata",
         "marker": {
          "color": "#FF6692",
          "symbol": "circle"
         },
         "mode": "markers",
         "name": "radiata",
         "orientation": "v",
         "showlegend": true,
         "type": "scatter",
         "x": [
          "Astrochelys"
         ],
         "xaxis": "x",
         "y": [
          "radiata"
         ],
         "yaxis": "y"
        },
        {
         "customdata": [
          [
           "Animalia",
           "Chordata",
           "Actinopterygii",
           "Chaetodontiformes",
           "Chaetodontidae",
           "Chaetodon rainfordi",
           "Rainford's butterflyfish"
          ]
         ],
         "hovertemplate": "Species=%{y}<br>Genus=%{x}<br>kingdom=%{customdata[0]}<br>phylum=%{customdata[1]}<br>class=%{customdata[2]}<br>order=%{customdata[3]}<br>family=%{customdata[4]}<br>sciName=%{customdata[5]}<br>common=%{customdata[6]}<extra></extra>",
         "legendgroup": "rainfordi",
         "marker": {
          "color": "#B6E880",
          "symbol": "circle"
         },
         "mode": "markers",
         "name": "rainfordi",
         "orientation": "v",
         "showlegend": true,
         "type": "scatter",
         "x": [
          "Chaetodon"
         ],
         "xaxis": "x",
         "y": [
          "rainfordi"
         ],
         "yaxis": "y"
        },
        {
         "customdata": [
          [
           "Animalia",
           "Arthropoda",
           "Insecta",
           "Odonata",
           "Gomphidae",
           "Hemigomphus theischingeri",
           "Rainforest Vicetail"
          ]
         ],
         "hovertemplate": "Species=%{y}<br>Genus=%{x}<br>kingdom=%{customdata[0]}<br>phylum=%{customdata[1]}<br>class=%{customdata[2]}<br>order=%{customdata[3]}<br>family=%{customdata[4]}<br>sciName=%{customdata[5]}<br>common=%{customdata[6]}<extra></extra>",
         "legendgroup": "theischingeri",
         "marker": {
          "color": "#FF97FF",
          "symbol": "circle"
         },
         "mode": "markers",
         "name": "theischingeri",
         "orientation": "v",
         "showlegend": true,
         "type": "scatter",
         "x": [
          "Hemigomphus"
         ],
         "xaxis": "x",
         "y": [
          "theischingeri"
         ],
         "yaxis": "y"
        },
        {
         "customdata": [
          [
           "Animalia",
           "Chordata",
           "Aves",
           "Passeriformes",
           "Paradisaeidae",
           "Paradisaea rubra",
           "Red Bird-of-Paradise"
          ]
         ],
         "hovertemplate": "Species=%{y}<br>Genus=%{x}<br>kingdom=%{customdata[0]}<br>phylum=%{customdata[1]}<br>class=%{customdata[2]}<br>order=%{customdata[3]}<br>family=%{customdata[4]}<br>sciName=%{customdata[5]}<br>common=%{customdata[6]}<extra></extra>",
         "legendgroup": "rubra",
         "marker": {
          "color": "#FECB52",
          "symbol": "circle"
         },
         "mode": "markers",
         "name": "rubra",
         "orientation": "v",
         "showlegend": true,
         "type": "scatter",
         "x": [
          "Paradisaea"
         ],
         "xaxis": "x",
         "y": [
          "rubra"
         ],
         "yaxis": "y"
        },
        {
         "customdata": [
          [
           "Animalia",
           "Chordata",
           "Actinopterygii",
           "Perciformes",
           "Serranidae",
           "Epinephelus morio",
           "red grouper"
          ]
         ],
         "hovertemplate": "Species=%{y}<br>Genus=%{x}<br>kingdom=%{customdata[0]}<br>phylum=%{customdata[1]}<br>class=%{customdata[2]}<br>order=%{customdata[3]}<br>family=%{customdata[4]}<br>sciName=%{customdata[5]}<br>common=%{customdata[6]}<extra></extra>",
         "legendgroup": "morio",
         "marker": {
          "color": "#636efa",
          "symbol": "circle"
         },
         "mode": "markers",
         "name": "morio",
         "orientation": "v",
         "showlegend": true,
         "type": "scatter",
         "x": [
          "Epinephelus"
         ],
         "xaxis": "x",
         "y": [
          "morio"
         ],
         "yaxis": "y"
        },
        {
         "customdata": [
          [
           "Animalia",
           "Arthropoda",
           "Insecta",
           "Odonata",
           "Platystictidae",
           "Protosticta sanguinostigma",
           "red spot reedtail"
          ]
         ],
         "hovertemplate": "Species=%{y}<br>Genus=%{x}<br>kingdom=%{customdata[0]}<br>phylum=%{customdata[1]}<br>class=%{customdata[2]}<br>order=%{customdata[3]}<br>family=%{customdata[4]}<br>sciName=%{customdata[5]}<br>common=%{customdata[6]}<extra></extra>",
         "legendgroup": "sanguinostigma",
         "marker": {
          "color": "#EF553B",
          "symbol": "circle"
         },
         "mode": "markers",
         "name": "sanguinostigma",
         "orientation": "v",
         "showlegend": true,
         "type": "scatter",
         "x": [
          "Protosticta"
         ],
         "xaxis": "x",
         "y": [
          "sanguinostigma"
         ],
         "yaxis": "y"
        },
        {
         "customdata": [
          [
           "Animalia",
           "Chordata",
           "Amphibia",
           "Caudata",
           "Salamandridae",
           "Taricha rivularis",
           "Red-bellied Newt"
          ]
         ],
         "hovertemplate": "Species=%{y}<br>Genus=%{x}<br>kingdom=%{customdata[0]}<br>phylum=%{customdata[1]}<br>class=%{customdata[2]}<br>order=%{customdata[3]}<br>family=%{customdata[4]}<br>sciName=%{customdata[5]}<br>common=%{customdata[6]}<extra></extra>",
         "legendgroup": "rivularis",
         "marker": {
          "color": "#00cc96",
          "symbol": "circle"
         },
         "mode": "markers",
         "name": "rivularis",
         "orientation": "v",
         "showlegend": true,
         "type": "scatter",
         "x": [
          "Taricha"
         ],
         "xaxis": "x",
         "y": [
          "rivularis"
         ],
         "yaxis": "y"
        },
        {
         "customdata": [
          [
           "Animalia",
           "Chordata",
           "Aves",
           "Anseriformes",
           "Anatidae",
           "Branta ruficollis",
           "Red-breasted Goose"
          ]
         ],
         "hovertemplate": "Species=%{y}<br>Genus=%{x}<br>kingdom=%{customdata[0]}<br>phylum=%{customdata[1]}<br>class=%{customdata[2]}<br>order=%{customdata[3]}<br>family=%{customdata[4]}<br>sciName=%{customdata[5]}<br>common=%{customdata[6]}<extra></extra>",
         "legendgroup": "ruficollis",
         "marker": {
          "color": "#ab63fa",
          "symbol": "circle"
         },
         "mode": "markers",
         "name": "ruficollis",
         "orientation": "v",
         "showlegend": true,
         "type": "scatter",
         "x": [
          "Branta"
         ],
         "xaxis": "x",
         "y": [
          "ruficollis"
         ],
         "yaxis": "y"
        },
        {
         "customdata": [
          [
           "Animalia",
           "Chordata",
           "Reptilia",
           "Squamata",
           "Dactyloidae",
           "Anolis marcanoi",
           "Red-fanned Stout Anole"
          ]
         ],
         "hovertemplate": "Species=%{y}<br>Genus=%{x}<br>kingdom=%{customdata[0]}<br>phylum=%{customdata[1]}<br>class=%{customdata[2]}<br>order=%{customdata[3]}<br>family=%{customdata[4]}<br>sciName=%{customdata[5]}<br>common=%{customdata[6]}<extra></extra>",
         "legendgroup": "marcanoi",
         "marker": {
          "color": "#FFA15A",
          "symbol": "circle"
         },
         "mode": "markers",
         "name": "marcanoi",
         "orientation": "v",
         "showlegend": true,
         "type": "scatter",
         "x": [
          "Anolis"
         ],
         "xaxis": "x",
         "y": [
          "marcanoi"
         ],
         "yaxis": "y"
        },
        {
         "customdata": [
          [
           "Animalia",
           "Chordata",
           "Mammalia",
           "Primates",
           "Atelidae",
           "Alouatta belzebul",
           "Red-handed Howler"
          ]
         ],
         "hovertemplate": "Species=%{y}<br>Genus=%{x}<br>kingdom=%{customdata[0]}<br>phylum=%{customdata[1]}<br>class=%{customdata[2]}<br>order=%{customdata[3]}<br>family=%{customdata[4]}<br>sciName=%{customdata[5]}<br>common=%{customdata[6]}<extra></extra>",
         "legendgroup": "belzebul",
         "marker": {
          "color": "#19d3f3",
          "symbol": "circle"
         },
         "mode": "markers",
         "name": "belzebul",
         "orientation": "v",
         "showlegend": true,
         "type": "scatter",
         "x": [
          "Alouatta"
         ],
         "xaxis": "x",
         "y": [
          "belzebul"
         ],
         "yaxis": "y"
        },
        {
         "customdata": [
          [
           "Animalia",
           "Chordata",
           "Reptilia",
           "Testudines",
           "Geoemydidae",
           "Mauremys reevesii",
           "Reeves' Turtle"
          ]
         ],
         "hovertemplate": "Species=%{y}<br>Genus=%{x}<br>kingdom=%{customdata[0]}<br>phylum=%{customdata[1]}<br>class=%{customdata[2]}<br>order=%{customdata[3]}<br>family=%{customdata[4]}<br>sciName=%{customdata[5]}<br>common=%{customdata[6]}<extra></extra>",
         "legendgroup": "reevesii",
         "marker": {
          "color": "#FF6692",
          "symbol": "circle"
         },
         "mode": "markers",
         "name": "reevesii",
         "orientation": "v",
         "showlegend": true,
         "type": "scatter",
         "x": [
          "Mauremys"
         ],
         "xaxis": "x",
         "y": [
          "reevesii"
         ],
         "yaxis": "y"
        },
        {
         "customdata": [
          [
           "Animalia",
           "Chordata",
           "Reptilia",
           "Squamata",
           "Agamidae",
           "Ceratophora tennentii",
           "Rhinoceros Agama"
          ]
         ],
         "hovertemplate": "Species=%{y}<br>Genus=%{x}<br>kingdom=%{customdata[0]}<br>phylum=%{customdata[1]}<br>class=%{customdata[2]}<br>order=%{customdata[3]}<br>family=%{customdata[4]}<br>sciName=%{customdata[5]}<br>common=%{customdata[6]}<extra></extra>",
         "legendgroup": "tennentii",
         "marker": {
          "color": "#B6E880",
          "symbol": "circle"
         },
         "mode": "markers",
         "name": "tennentii",
         "orientation": "v",
         "showlegend": true,
         "type": "scatter",
         "x": [
          "Ceratophora"
         ],
         "xaxis": "x",
         "y": [
          "tennentii"
         ],
         "yaxis": "y"
        },
        {
         "customdata": [
          [
           "Animalia",
           "Chordata",
           "Reptilia",
           "Squamata",
           "Viperidae",
           "Bitis nasicornis",
           "Rhinoceros Viper"
          ]
         ],
         "hovertemplate": "Species=%{y}<br>Genus=%{x}<br>kingdom=%{customdata[0]}<br>phylum=%{customdata[1]}<br>class=%{customdata[2]}<br>order=%{customdata[3]}<br>family=%{customdata[4]}<br>sciName=%{customdata[5]}<br>common=%{customdata[6]}<extra></extra>",
         "legendgroup": "nasicornis",
         "marker": {
          "color": "#FF97FF",
          "symbol": "circle"
         },
         "mode": "markers",
         "name": "nasicornis",
         "orientation": "v",
         "showlegend": true,
         "type": "scatter",
         "x": [
          "Bitis"
         ],
         "xaxis": "x",
         "y": [
          "nasicornis"
         ],
         "yaxis": "y"
        },
        {
         "customdata": [
          [
           "Animalia",
           "Cnidaria",
           "Anthozoa",
           "Scleractinia",
           "Acroporidae",
           "Montipora capitata",
           "Rice Coral"
          ]
         ],
         "hovertemplate": "Species=%{y}<br>Genus=%{x}<br>kingdom=%{customdata[0]}<br>phylum=%{customdata[1]}<br>class=%{customdata[2]}<br>order=%{customdata[3]}<br>family=%{customdata[4]}<br>sciName=%{customdata[5]}<br>common=%{customdata[6]}<extra></extra>",
         "legendgroup": "capitata",
         "marker": {
          "color": "#FECB52",
          "symbol": "circle"
         },
         "mode": "markers",
         "name": "capitata",
         "orientation": "v",
         "showlegend": true,
         "type": "scatter",
         "x": [
          "Montipora"
         ],
         "xaxis": "x",
         "y": [
          "capitata"
         ],
         "yaxis": "y"
        },
        {
         "customdata": [
          [
           "Animalia",
           "Chordata",
           "Actinopterygii",
           "Chaetodontiformes",
           "Chaetodontidae",
           "Chaetodon trifascialis",
           "rightangled butterflyfish"
          ]
         ],
         "hovertemplate": "Species=%{y}<br>Genus=%{x}<br>kingdom=%{customdata[0]}<br>phylum=%{customdata[1]}<br>class=%{customdata[2]}<br>order=%{customdata[3]}<br>family=%{customdata[4]}<br>sciName=%{customdata[5]}<br>common=%{customdata[6]}<extra></extra>",
         "legendgroup": "trifascialis",
         "marker": {
          "color": "#636efa",
          "symbol": "circle"
         },
         "mode": "markers",
         "name": "trifascialis",
         "orientation": "v",
         "showlegend": true,
         "type": "scatter",
         "x": [
          "Chaetodon"
         ],
         "xaxis": "x",
         "y": [
          "trifascialis"
         ],
         "yaxis": "y"
        },
        {
         "customdata": [
          [
           "Animalia",
           "Chordata",
           "Reptilia",
           "Testudines",
           "Emydidae",
           "Graptemys oculifera",
           "Ringed Map Turtle"
          ]
         ],
         "hovertemplate": "Species=%{y}<br>Genus=%{x}<br>kingdom=%{customdata[0]}<br>phylum=%{customdata[1]}<br>class=%{customdata[2]}<br>order=%{customdata[3]}<br>family=%{customdata[4]}<br>sciName=%{customdata[5]}<br>common=%{customdata[6]}<extra></extra>",
         "legendgroup": "oculifera",
         "marker": {
          "color": "#EF553B",
          "symbol": "circle"
         },
         "mode": "markers",
         "name": "oculifera",
         "orientation": "v",
         "showlegend": true,
         "type": "scatter",
         "x": [
          "Graptemys"
         ],
         "xaxis": "x",
         "y": [
          "oculifera"
         ],
         "yaxis": "y"
        },
        {
         "customdata": [
          [
           "Animalia",
           "Mollusca",
           "Gastropoda",
           "Lepetellida",
           "Haliotidae",
           "Haliotis roei",
           "Roe's abalone"
          ]
         ],
         "hovertemplate": "Species=%{y}<br>Genus=%{x}<br>kingdom=%{customdata[0]}<br>phylum=%{customdata[1]}<br>class=%{customdata[2]}<br>order=%{customdata[3]}<br>family=%{customdata[4]}<br>sciName=%{customdata[5]}<br>common=%{customdata[6]}<extra></extra>",
         "legendgroup": "roei",
         "marker": {
          "color": "#00cc96",
          "symbol": "circle"
         },
         "mode": "markers",
         "name": "roei",
         "orientation": "v",
         "showlegend": true,
         "type": "scatter",
         "x": [
          "Haliotis"
         ],
         "xaxis": "x",
         "y": [
          "roei"
         ],
         "yaxis": "y"
        },
        {
         "customdata": [
          [
           "Animalia",
           "Chordata",
           "Actinopterygii",
           "Spariformes",
           "Sparidae",
           "Chrysoblephus laticeps",
           "Roman Seabream"
          ]
         ],
         "hovertemplate": "Species=%{y}<br>Genus=%{x}<br>kingdom=%{customdata[0]}<br>phylum=%{customdata[1]}<br>class=%{customdata[2]}<br>order=%{customdata[3]}<br>family=%{customdata[4]}<br>sciName=%{customdata[5]}<br>common=%{customdata[6]}<extra></extra>",
         "legendgroup": "laticeps",
         "marker": {
          "color": "#ab63fa",
          "symbol": "circle"
         },
         "mode": "markers",
         "name": "laticeps",
         "orientation": "v",
         "showlegend": true,
         "type": "scatter",
         "x": [
          "Chrysoblephus"
         ],
         "xaxis": "x",
         "y": [
          "laticeps"
         ],
         "yaxis": "y"
        },
        {
         "customdata": [
          [
           "Animalia",
           "Chordata",
           "Reptilia",
           "Squamata",
           "Dactyloidae",
           "Anolis bitectus",
           "Roof Anole"
          ]
         ],
         "hovertemplate": "Species=%{y}<br>Genus=%{x}<br>kingdom=%{customdata[0]}<br>phylum=%{customdata[1]}<br>class=%{customdata[2]}<br>order=%{customdata[3]}<br>family=%{customdata[4]}<br>sciName=%{customdata[5]}<br>common=%{customdata[6]}<extra></extra>",
         "legendgroup": "bitectus",
         "marker": {
          "color": "#FFA15A",
          "symbol": "circle"
         },
         "mode": "markers",
         "name": "bitectus",
         "orientation": "v",
         "showlegend": true,
         "type": "scatter",
         "x": [
          "Anolis"
         ],
         "xaxis": "x",
         "y": [
          "bitectus"
         ],
         "yaxis": "y"
        },
        {
         "customdata": [
          [
           "Animalia",
           "Chordata",
           "Chondrichthyes",
           "Myliobatiformes",
           "Dasyatidae",
           "Bathytoshia centroura",
           "Roughtail Stingray"
          ]
         ],
         "hovertemplate": "Species=%{y}<br>Genus=%{x}<br>kingdom=%{customdata[0]}<br>phylum=%{customdata[1]}<br>class=%{customdata[2]}<br>order=%{customdata[3]}<br>family=%{customdata[4]}<br>sciName=%{customdata[5]}<br>common=%{customdata[6]}<extra></extra>",
         "legendgroup": "centroura",
         "marker": {
          "color": "#19d3f3",
          "symbol": "circle"
         },
         "mode": "markers",
         "name": "centroura",
         "orientation": "v",
         "showlegend": true,
         "type": "scatter",
         "x": [
          "Bathytoshia"
         ],
         "xaxis": "x",
         "y": [
          "centroura"
         ],
         "yaxis": "y"
        },
        {
         "customdata": [
          [
           "Animalia",
           "Chordata",
           "Chondrichthyes",
           "Myliobatiformes",
           "Dasyatidae",
           "Taeniurops meyeni",
           "Round Ribbontail Ray"
          ]
         ],
         "hovertemplate": "Species=%{y}<br>Genus=%{x}<br>kingdom=%{customdata[0]}<br>phylum=%{customdata[1]}<br>class=%{customdata[2]}<br>order=%{customdata[3]}<br>family=%{customdata[4]}<br>sciName=%{customdata[5]}<br>common=%{customdata[6]}<extra></extra>",
         "legendgroup": "meyeni",
         "marker": {
          "color": "#FF6692",
          "symbol": "circle"
         },
         "mode": "markers",
         "name": "meyeni",
         "orientation": "v",
         "showlegend": true,
         "type": "scatter",
         "x": [
          "Taeniurops"
         ],
         "xaxis": "x",
         "y": [
          "meyeni"
         ],
         "yaxis": "y"
        },
        {
         "customdata": [
          [
           "Animalia",
           "Chordata",
           "Aves",
           "Bucerotiformes",
           "Bucerotidae",
           "Aceros nipalensis",
           "Rufous-necked Hornbill"
          ]
         ],
         "hovertemplate": "Species=%{y}<br>Genus=%{x}<br>kingdom=%{customdata[0]}<br>phylum=%{customdata[1]}<br>class=%{customdata[2]}<br>order=%{customdata[3]}<br>family=%{customdata[4]}<br>sciName=%{customdata[5]}<br>common=%{customdata[6]}<extra></extra>",
         "legendgroup": "nipalensis",
         "marker": {
          "color": "#B6E880",
          "symbol": "circle"
         },
         "mode": "markers",
         "name": "nipalensis",
         "orientation": "v",
         "showlegend": true,
         "type": "scatter",
         "x": [
          "Aceros"
         ],
         "xaxis": "x",
         "y": [
          "nipalensis"
         ],
         "yaxis": "y"
        },
        {
         "customdata": [
          [
           "Animalia",
           "Chordata",
           "Reptilia",
           "Squamata",
           "Dactyloidae",
           "Anolis bonairensis",
           "Ruthven's Anole"
          ]
         ],
         "hovertemplate": "Species=%{y}<br>Genus=%{x}<br>kingdom=%{customdata[0]}<br>phylum=%{customdata[1]}<br>class=%{customdata[2]}<br>order=%{customdata[3]}<br>family=%{customdata[4]}<br>sciName=%{customdata[5]}<br>common=%{customdata[6]}<extra></extra>",
         "legendgroup": "bonairensis",
         "marker": {
          "color": "#FF97FF",
          "symbol": "circle"
         },
         "mode": "markers",
         "name": "bonairensis",
         "orientation": "v",
         "showlegend": true,
         "type": "scatter",
         "x": [
          "Anolis"
         ],
         "xaxis": "x",
         "y": [
          "bonairensis"
         ],
         "yaxis": "y"
        },
        {
         "customdata": [
          [
           "Animalia",
           "Chordata",
           "Mammalia",
           "Artiodactyla",
           "Bovidae",
           "Saiga tatarica",
           "saiga"
          ]
         ],
         "hovertemplate": "Species=%{y}<br>Genus=%{x}<br>kingdom=%{customdata[0]}<br>phylum=%{customdata[1]}<br>class=%{customdata[2]}<br>order=%{customdata[3]}<br>family=%{customdata[4]}<br>sciName=%{customdata[5]}<br>common=%{customdata[6]}<extra></extra>",
         "legendgroup": "tatarica",
         "marker": {
          "color": "#FECB52",
          "symbol": "circle"
         },
         "mode": "markers",
         "name": "tatarica",
         "orientation": "v",
         "showlegend": true,
         "type": "scatter",
         "x": [
          "Saiga"
         ],
         "xaxis": "x",
         "y": [
          "tatarica"
         ],
         "yaxis": "y"
        },
        {
         "customdata": [
          [
           "Animalia",
           "Chordata",
           "Reptilia",
           "Squamata",
           "Dactyloidae",
           "Anolis luciae",
           "Saint Lucian Anole"
          ]
         ],
         "hovertemplate": "Species=%{y}<br>Genus=%{x}<br>kingdom=%{customdata[0]}<br>phylum=%{customdata[1]}<br>class=%{customdata[2]}<br>order=%{customdata[3]}<br>family=%{customdata[4]}<br>sciName=%{customdata[5]}<br>common=%{customdata[6]}<extra></extra>",
         "legendgroup": "luciae",
         "marker": {
          "color": "#636efa",
          "symbol": "circle"
         },
         "mode": "markers",
         "name": "luciae",
         "orientation": "v",
         "showlegend": true,
         "type": "scatter",
         "x": [
          "Anolis"
         ],
         "xaxis": "x",
         "y": [
          "luciae"
         ],
         "yaxis": "y"
        },
        {
         "customdata": [
          [
           "Animalia",
           "Chordata",
           "Aves",
           "Psittaciformes",
           "Cacatuidae",
           "Cacatua moluccensis",
           "Salmon-crested Cockatoo"
          ]
         ],
         "hovertemplate": "Species=%{y}<br>Genus=%{x}<br>kingdom=%{customdata[0]}<br>phylum=%{customdata[1]}<br>class=%{customdata[2]}<br>order=%{customdata[3]}<br>family=%{customdata[4]}<br>sciName=%{customdata[5]}<br>common=%{customdata[6]}<extra></extra>",
         "legendgroup": "moluccensis",
         "marker": {
          "color": "#EF553B",
          "symbol": "circle"
         },
         "mode": "markers",
         "name": "moluccensis",
         "orientation": "v",
         "showlegend": true,
         "type": "scatter",
         "x": [
          "Cacatua"
         ],
         "xaxis": "x",
         "y": [
          "moluccensis"
         ],
         "yaxis": "y"
        },
        {
         "customdata": [
          [
           "Animalia",
           "Chordata",
           "Reptilia",
           "Squamata",
           "Tropiduridae",
           "Microlophus bivittatus",
           "San Cristobal Lava Lizard"
          ]
         ],
         "hovertemplate": "Species=%{y}<br>Genus=%{x}<br>kingdom=%{customdata[0]}<br>phylum=%{customdata[1]}<br>class=%{customdata[2]}<br>order=%{customdata[3]}<br>family=%{customdata[4]}<br>sciName=%{customdata[5]}<br>common=%{customdata[6]}<extra></extra>",
         "legendgroup": "bivittatus",
         "marker": {
          "color": "#00cc96",
          "symbol": "circle"
         },
         "mode": "markers",
         "name": "bivittatus",
         "orientation": "v",
         "showlegend": true,
         "type": "scatter",
         "x": [
          "Microlophus"
         ],
         "xaxis": "x",
         "y": [
          "bivittatus"
         ],
         "yaxis": "y"
        },
        {
         "customdata": [
          [
           "Animalia",
           "Chordata",
           "Chondrichthyes",
           "Carcharhiniformes",
           "Sphyrnidae",
           "Sphyrna lewini",
           "scalloped hammerhead"
          ]
         ],
         "hovertemplate": "Species=%{y}<br>Genus=%{x}<br>kingdom=%{customdata[0]}<br>phylum=%{customdata[1]}<br>class=%{customdata[2]}<br>order=%{customdata[3]}<br>family=%{customdata[4]}<br>sciName=%{customdata[5]}<br>common=%{customdata[6]}<extra></extra>",
         "legendgroup": "lewini",
         "marker": {
          "color": "#ab63fa",
          "symbol": "circle"
         },
         "mode": "markers",
         "name": "lewini",
         "orientation": "v",
         "showlegend": true,
         "type": "scatter",
         "x": [
          "Sphyrna"
         ],
         "xaxis": "x",
         "y": [
          "lewini"
         ],
         "yaxis": "y"
        },
        {
         "customdata": [
          [
           "Animalia",
           "Chordata",
           "Mammalia",
           "Artiodactyla",
           "Bovidae",
           "Oryx dammah",
           "scimitar-horned oryx"
          ]
         ],
         "hovertemplate": "Species=%{y}<br>Genus=%{x}<br>kingdom=%{customdata[0]}<br>phylum=%{customdata[1]}<br>class=%{customdata[2]}<br>order=%{customdata[3]}<br>family=%{customdata[4]}<br>sciName=%{customdata[5]}<br>common=%{customdata[6]}<extra></extra>",
         "legendgroup": "dammah",
         "marker": {
          "color": "#FFA15A",
          "symbol": "circle"
         },
         "mode": "markers",
         "name": "dammah",
         "orientation": "v",
         "showlegend": true,
         "type": "scatter",
         "x": [
          "Oryx"
         ],
         "xaxis": "x",
         "y": [
          "dammah"
         ],
         "yaxis": "y"
        },
        {
         "customdata": [
          [
           "Animalia",
           "Chordata",
           "Amphibia",
           "Caudata",
           "Plethodontidae",
           "Desmognathus aeneus",
           "Seepage Salamander"
          ]
         ],
         "hovertemplate": "Species=%{y}<br>Genus=%{x}<br>kingdom=%{customdata[0]}<br>phylum=%{customdata[1]}<br>class=%{customdata[2]}<br>order=%{customdata[3]}<br>family=%{customdata[4]}<br>sciName=%{customdata[5]}<br>common=%{customdata[6]}<extra></extra>",
         "legendgroup": "aeneus",
         "marker": {
          "color": "#19d3f3",
          "symbol": "circle"
         },
         "mode": "markers",
         "name": "aeneus",
         "orientation": "v",
         "showlegend": true,
         "type": "scatter",
         "x": [
          "Desmognathus"
         ],
         "xaxis": "x",
         "y": [
          "aeneus"
         ],
         "yaxis": "y"
        },
        {
         "customdata": [
          [
           "Animalia",
           "Chordata",
           "Mammalia",
           "Artiodactyla",
           "Bovidae",
           "Capricornis sumatraensis",
           "serow"
          ]
         ],
         "hovertemplate": "Species=%{y}<br>Genus=%{x}<br>kingdom=%{customdata[0]}<br>phylum=%{customdata[1]}<br>class=%{customdata[2]}<br>order=%{customdata[3]}<br>family=%{customdata[4]}<br>sciName=%{customdata[5]}<br>common=%{customdata[6]}<extra></extra>",
         "legendgroup": "sumatraensis",
         "marker": {
          "color": "#FF6692",
          "symbol": "circle"
         },
         "mode": "markers",
         "name": "sumatraensis",
         "orientation": "v",
         "showlegend": true,
         "type": "scatter",
         "x": [
          "Capricornis"
         ],
         "xaxis": "x",
         "y": [
          "sumatraensis"
         ],
         "yaxis": "y"
        },
        {
         "customdata": [
          [
           "Animalia",
           "Chordata",
           "Aves",
           "Passeriformes",
           "Muscicapidae",
           "Copsychus sechellarum",
           "Seychelles Magpie-Robin"
          ]
         ],
         "hovertemplate": "Species=%{y}<br>Genus=%{x}<br>kingdom=%{customdata[0]}<br>phylum=%{customdata[1]}<br>class=%{customdata[2]}<br>order=%{customdata[3]}<br>family=%{customdata[4]}<br>sciName=%{customdata[5]}<br>common=%{customdata[6]}<extra></extra>",
         "legendgroup": "sechellarum",
         "marker": {
          "color": "#B6E880",
          "symbol": "circle"
         },
         "mode": "markers",
         "name": "sechellarum",
         "orientation": "v",
         "showlegend": true,
         "type": "scatter",
         "x": [
          "Copsychus"
         ],
         "xaxis": "x",
         "y": [
          "sechellarum"
         ],
         "yaxis": "y"
        },
        {
         "customdata": [
          [
           "Animalia",
           "Chordata",
           "Amphibia",
           "Caudata",
           "Plethodontidae",
           "Plethodon shenandoah",
           "Shenandoah Salamander"
          ]
         ],
         "hovertemplate": "Species=%{y}<br>Genus=%{x}<br>kingdom=%{customdata[0]}<br>phylum=%{customdata[1]}<br>class=%{customdata[2]}<br>order=%{customdata[3]}<br>family=%{customdata[4]}<br>sciName=%{customdata[5]}<br>common=%{customdata[6]}<extra></extra>",
         "legendgroup": "shenandoah",
         "marker": {
          "color": "#FF97FF",
          "symbol": "circle"
         },
         "mode": "markers",
         "name": "shenandoah",
         "orientation": "v",
         "showlegend": true,
         "type": "scatter",
         "x": [
          "Plethodon"
         ],
         "xaxis": "x",
         "y": [
          "shenandoah"
         ],
         "yaxis": "y"
        },
        {
         "customdata": [
          [
           "Animalia",
           "Chordata",
           "Aves",
           "Pelecaniformes",
           "Balaenicipitidae",
           "Balaeniceps rex",
           "Shoebill"
          ]
         ],
         "hovertemplate": "Species=%{y}<br>Genus=%{x}<br>kingdom=%{customdata[0]}<br>phylum=%{customdata[1]}<br>class=%{customdata[2]}<br>order=%{customdata[3]}<br>family=%{customdata[4]}<br>sciName=%{customdata[5]}<br>common=%{customdata[6]}<extra></extra>",
         "legendgroup": "rex",
         "marker": {
          "color": "#FECB52",
          "symbol": "circle"
         },
         "mode": "markers",
         "name": "rex",
         "orientation": "v",
         "showlegend": true,
         "type": "scatter",
         "x": [
          "Balaeniceps"
         ],
         "xaxis": "x",
         "y": [
          "rex"
         ],
         "yaxis": "y"
        },
        {
         "customdata": [
          [
           "Animalia",
           "Chordata",
           "Aves",
           "Charadriiformes",
           "Charadriidae",
           "Thinornis novaeseelandiae",
           "Shore Dotterel"
          ]
         ],
         "hovertemplate": "Species=%{y}<br>Genus=%{x}<br>kingdom=%{customdata[0]}<br>phylum=%{customdata[1]}<br>class=%{customdata[2]}<br>order=%{customdata[3]}<br>family=%{customdata[4]}<br>sciName=%{customdata[5]}<br>common=%{customdata[6]}<extra></extra>",
         "legendgroup": "novaeseelandiae",
         "marker": {
          "color": "#636efa",
          "symbol": "circle"
         },
         "mode": "markers",
         "name": "novaeseelandiae",
         "orientation": "v",
         "showlegend": true,
         "type": "scatter",
         "x": [
          "Thinornis"
         ],
         "xaxis": "x",
         "y": [
          "novaeseelandiae"
         ],
         "yaxis": "y"
        },
        {
         "customdata": [
          [
           "Animalia",
           "Chordata",
           "Aves",
           "Coraciiformes",
           "Brachypteraciidae",
           "Brachypteracias leptosomus",
           "Short-legged Ground Roller"
          ]
         ],
         "hovertemplate": "Species=%{y}<br>Genus=%{x}<br>kingdom=%{customdata[0]}<br>phylum=%{customdata[1]}<br>class=%{customdata[2]}<br>order=%{customdata[3]}<br>family=%{customdata[4]}<br>sciName=%{customdata[5]}<br>common=%{customdata[6]}<extra></extra>",
         "legendgroup": "leptosomus",
         "marker": {
          "color": "#EF553B",
          "symbol": "circle"
         },
         "mode": "markers",
         "name": "leptosomus",
         "orientation": "v",
         "showlegend": true,
         "type": "scatter",
         "x": [
          "Brachypteracias"
         ],
         "xaxis": "x",
         "y": [
          "leptosomus"
         ],
         "yaxis": "y"
        },
        {
         "customdata": [
          [
           "Animalia",
           "Chordata",
           "Aves",
           "Procellariiformes",
           "Diomedeidae",
           "Phoebastria albatrus",
           "Short-tailed Albatross"
          ]
         ],
         "hovertemplate": "Species=%{y}<br>Genus=%{x}<br>kingdom=%{customdata[0]}<br>phylum=%{customdata[1]}<br>class=%{customdata[2]}<br>order=%{customdata[3]}<br>family=%{customdata[4]}<br>sciName=%{customdata[5]}<br>common=%{customdata[6]}<extra></extra>",
         "legendgroup": "albatrus",
         "marker": {
          "color": "#00cc96",
          "symbol": "circle"
         },
         "mode": "markers",
         "name": "albatrus",
         "orientation": "v",
         "showlegend": true,
         "type": "scatter",
         "x": [
          "Phoebastria"
         ],
         "xaxis": "x",
         "y": [
          "albatrus"
         ],
         "yaxis": "y"
        },
        {
         "customdata": [
          [
           "Animalia",
           "Chordata",
           "Actinopterygii",
           "Acipenseriformes",
           "Acipenseridae",
           "Scaphirhynchus platorynchus",
           "shovelnose sturgeon"
          ]
         ],
         "hovertemplate": "Species=%{y}<br>Genus=%{x}<br>kingdom=%{customdata[0]}<br>phylum=%{customdata[1]}<br>class=%{customdata[2]}<br>order=%{customdata[3]}<br>family=%{customdata[4]}<br>sciName=%{customdata[5]}<br>common=%{customdata[6]}<extra></extra>",
         "legendgroup": "platorynchus",
         "marker": {
          "color": "#ab63fa",
          "symbol": "circle"
         },
         "mode": "markers",
         "name": "platorynchus",
         "orientation": "v",
         "showlegend": true,
         "type": "scatter",
         "x": [
          "Scaphirhynchus"
         ],
         "xaxis": "x",
         "y": [
          "platorynchus"
         ],
         "yaxis": "y"
        },
        {
         "customdata": [
          [
           "Animalia",
           "Chordata",
           "Mammalia",
           "Primates",
           "Hylobatidae",
           "Symphalangus syndactylus",
           "Siamang"
          ]
         ],
         "hovertemplate": "Species=%{y}<br>Genus=%{x}<br>kingdom=%{customdata[0]}<br>phylum=%{customdata[1]}<br>class=%{customdata[2]}<br>order=%{customdata[3]}<br>family=%{customdata[4]}<br>sciName=%{customdata[5]}<br>common=%{customdata[6]}<extra></extra>",
         "legendgroup": "syndactylus",
         "marker": {
          "color": "#FFA15A",
          "symbol": "circle"
         },
         "mode": "markers",
         "name": "syndactylus",
         "orientation": "v",
         "showlegend": true,
         "type": "scatter",
         "x": [
          "Symphalangus"
         ],
         "xaxis": "x",
         "y": [
          "syndactylus"
         ],
         "yaxis": "y"
        },
        {
         "customdata": [
          [
           "Animalia",
           "Chordata",
           "Mammalia",
           "Artiodactyla",
           "Bovidae",
           "Capra sibirica",
           "Siberian ibex"
          ]
         ],
         "hovertemplate": "Species=%{y}<br>Genus=%{x}<br>kingdom=%{customdata[0]}<br>phylum=%{customdata[1]}<br>class=%{customdata[2]}<br>order=%{customdata[3]}<br>family=%{customdata[4]}<br>sciName=%{customdata[5]}<br>common=%{customdata[6]}<extra></extra>",
         "legendgroup": "sibirica",
         "marker": {
          "color": "#19d3f3",
          "symbol": "circle"
         },
         "mode": "markers",
         "name": "sibirica",
         "orientation": "v",
         "showlegend": true,
         "type": "scatter",
         "x": [
          "Capra"
         ],
         "xaxis": "x",
         "y": [
          "sibirica"
         ],
         "yaxis": "y"
        },
        {
         "customdata": [
          [
           "Animalia",
           "Chordata",
           "Chondrichthyes",
           "Carcharhiniformes",
           "Carcharhinidae",
           "Negaprion acutidens",
           "sicklefin lemon shark"
          ]
         ],
         "hovertemplate": "Species=%{y}<br>Genus=%{x}<br>kingdom=%{customdata[0]}<br>phylum=%{customdata[1]}<br>class=%{customdata[2]}<br>order=%{customdata[3]}<br>family=%{customdata[4]}<br>sciName=%{customdata[5]}<br>common=%{customdata[6]}<extra></extra>",
         "legendgroup": "acutidens",
         "marker": {
          "color": "#FF6692",
          "symbol": "circle"
         },
         "mode": "markers",
         "name": "acutidens",
         "orientation": "v",
         "showlegend": true,
         "type": "scatter",
         "x": [
          "Negaprion"
         ],
         "xaxis": "x",
         "y": [
          "acutidens"
         ],
         "yaxis": "y"
        },
        {
         "customdata": [
          [
           "Animalia",
           "Chordata",
           "Reptilia",
           "Squamata",
           "Anguidae",
           "Abronia graminea",
           "Sierra de Tehuacan Arboreal Alligator Lizard"
          ]
         ],
         "hovertemplate": "Species=%{y}<br>Genus=%{x}<br>kingdom=%{customdata[0]}<br>phylum=%{customdata[1]}<br>class=%{customdata[2]}<br>order=%{customdata[3]}<br>family=%{customdata[4]}<br>sciName=%{customdata[5]}<br>common=%{customdata[6]}<extra></extra>",
         "legendgroup": "graminea",
         "marker": {
          "color": "#B6E880",
          "symbol": "circle"
         },
         "mode": "markers",
         "name": "graminea",
         "orientation": "v",
         "showlegend": true,
         "type": "scatter",
         "x": [
          "Abronia"
         ],
         "xaxis": "x",
         "y": [
          "graminea"
         ],
         "yaxis": "y"
        },
        {
         "customdata": [
          [
           "Animalia",
           "Chordata",
           "Amphibia",
           "Anura",
           "Ranidae",
           "Rana sierrae",
           "Sierra Nevada Yellow-legged Frog"
          ]
         ],
         "hovertemplate": "Species=%{y}<br>Genus=%{x}<br>kingdom=%{customdata[0]}<br>phylum=%{customdata[1]}<br>class=%{customdata[2]}<br>order=%{customdata[3]}<br>family=%{customdata[4]}<br>sciName=%{customdata[5]}<br>common=%{customdata[6]}<extra></extra>",
         "legendgroup": "sierrae",
         "marker": {
          "color": "#FF97FF",
          "symbol": "circle"
         },
         "mode": "markers",
         "name": "sierrae",
         "orientation": "v",
         "showlegend": true,
         "type": "scatter",
         "x": [
          "Rana"
         ],
         "xaxis": "x",
         "y": [
          "sierrae"
         ],
         "yaxis": "y"
        },
        {
         "customdata": [
          [
           "Animalia",
           "Chordata",
           "Chondrichthyes",
           "Carcharhiniformes",
           "Carcharhinidae",
           "Carcharhinus falciformis",
           "silky shark"
          ]
         ],
         "hovertemplate": "Species=%{y}<br>Genus=%{x}<br>kingdom=%{customdata[0]}<br>phylum=%{customdata[1]}<br>class=%{customdata[2]}<br>order=%{customdata[3]}<br>family=%{customdata[4]}<br>sciName=%{customdata[5]}<br>common=%{customdata[6]}<extra></extra>",
         "legendgroup": "falciformis",
         "marker": {
          "color": "#FECB52",
          "symbol": "circle"
         },
         "mode": "markers",
         "name": "falciformis",
         "orientation": "v",
         "showlegend": true,
         "type": "scatter",
         "x": [
          "Carcharhinus"
         ],
         "xaxis": "x",
         "y": [
          "falciformis"
         ],
         "yaxis": "y"
        },
        {
         "customdata": [
          [
           "Animalia",
           "Chordata",
           "Actinopterygii",
           "Gadiformes",
           "Merlucciidae",
           "Merluccius bilinearis",
           "silver hake"
          ]
         ],
         "hovertemplate": "Species=%{y}<br>Genus=%{x}<br>kingdom=%{customdata[0]}<br>phylum=%{customdata[1]}<br>class=%{customdata[2]}<br>order=%{customdata[3]}<br>family=%{customdata[4]}<br>sciName=%{customdata[5]}<br>common=%{customdata[6]}<extra></extra>",
         "legendgroup": "bilinearis",
         "marker": {
          "color": "#636efa",
          "symbol": "circle"
         },
         "mode": "markers",
         "name": "bilinearis",
         "orientation": "v",
         "showlegend": true,
         "type": "scatter",
         "x": [
          "Merluccius"
         ],
         "xaxis": "x",
         "y": [
          "bilinearis"
         ],
         "yaxis": "y"
        },
        {
         "customdata": [
          [
           "Animalia",
           "Chordata",
           "Chondrichthyes",
           "Carcharhiniformes",
           "Carcharhinidae",
           "Carcharhinus albimarginatus",
           "silvertip shark"
          ]
         ],
         "hovertemplate": "Species=%{y}<br>Genus=%{x}<br>kingdom=%{customdata[0]}<br>phylum=%{customdata[1]}<br>class=%{customdata[2]}<br>order=%{customdata[3]}<br>family=%{customdata[4]}<br>sciName=%{customdata[5]}<br>common=%{customdata[6]}<extra></extra>",
         "legendgroup": "albimarginatus",
         "marker": {
          "color": "#EF553B",
          "symbol": "circle"
         },
         "mode": "markers",
         "name": "albimarginatus",
         "orientation": "v",
         "showlegend": true,
         "type": "scatter",
         "x": [
          "Carcharhinus"
         ],
         "xaxis": "x",
         "y": [
          "albimarginatus"
         ],
         "yaxis": "y"
        },
        {
         "customdata": [
          [
           "Animalia",
           "Chordata",
           "Mammalia",
           "Primates",
           "Callitrichidae",
           "Saguinus leucopus",
           "Silvery-brown Bare-face Tamarin"
          ]
         ],
         "hovertemplate": "Species=%{y}<br>Genus=%{x}<br>kingdom=%{customdata[0]}<br>phylum=%{customdata[1]}<br>class=%{customdata[2]}<br>order=%{customdata[3]}<br>family=%{customdata[4]}<br>sciName=%{customdata[5]}<br>common=%{customdata[6]}<extra></extra>",
         "legendgroup": "leucopus",
         "marker": {
          "color": "#00cc96",
          "symbol": "circle"
         },
         "mode": "markers",
         "name": "leucopus",
         "orientation": "v",
         "showlegend": true,
         "type": "scatter",
         "x": [
          "Saguinus"
         ],
         "xaxis": "x",
         "y": [
          "leucopus"
         ],
         "yaxis": "y"
        },
        {
         "customdata": [
          [
           "Animalia",
           "Chordata",
           "Amphibia",
           "Caudata",
           "Plethodontidae",
           "Plethodon stormi",
           "Siskiyou Mountains Salamander"
          ]
         ],
         "hovertemplate": "Species=%{y}<br>Genus=%{x}<br>kingdom=%{customdata[0]}<br>phylum=%{customdata[1]}<br>class=%{customdata[2]}<br>order=%{customdata[3]}<br>family=%{customdata[4]}<br>sciName=%{customdata[5]}<br>common=%{customdata[6]}<extra></extra>",
         "legendgroup": "stormi",
         "marker": {
          "color": "#ab63fa",
          "symbol": "circle"
         },
         "mode": "markers",
         "name": "stormi",
         "orientation": "v",
         "showlegend": true,
         "type": "scatter",
         "x": [
          "Plethodon"
         ],
         "xaxis": "x",
         "y": [
          "stormi"
         ],
         "yaxis": "y"
        },
        {
         "customdata": [
          [
           "Animalia",
           "Chordata",
           "Aves",
           "Pelecaniformes",
           "Ardeidae",
           "Egretta vinaceigula",
           "Slaty Egret"
          ]
         ],
         "hovertemplate": "Species=%{y}<br>Genus=%{x}<br>kingdom=%{customdata[0]}<br>phylum=%{customdata[1]}<br>class=%{customdata[2]}<br>order=%{customdata[3]}<br>family=%{customdata[4]}<br>sciName=%{customdata[5]}<br>common=%{customdata[6]}<extra></extra>",
         "legendgroup": "vinaceigula",
         "marker": {
          "color": "#FFA15A",
          "symbol": "circle"
         },
         "mode": "markers",
         "name": "vinaceigula",
         "orientation": "v",
         "showlegend": true,
         "type": "scatter",
         "x": [
          "Egretta"
         ],
         "xaxis": "x",
         "y": [
          "vinaceigula"
         ],
         "yaxis": "y"
        },
        {
         "customdata": [
          [
           "Animalia",
           "Arthropoda",
           "Insecta",
           "Hymenoptera",
           "Formicidae",
           "Harpagoxenus canadensis",
           "slave-making ant"
          ]
         ],
         "hovertemplate": "Species=%{y}<br>Genus=%{x}<br>kingdom=%{customdata[0]}<br>phylum=%{customdata[1]}<br>class=%{customdata[2]}<br>order=%{customdata[3]}<br>family=%{customdata[4]}<br>sciName=%{customdata[5]}<br>common=%{customdata[6]}<extra></extra>",
         "legendgroup": "canadensis",
         "marker": {
          "color": "#19d3f3",
          "symbol": "circle"
         },
         "mode": "markers",
         "name": "canadensis",
         "orientation": "v",
         "showlegend": true,
         "type": "scatter",
         "x": [
          "Harpagoxenus"
         ],
         "xaxis": "x",
         "y": [
          "canadensis"
         ],
         "yaxis": "y"
        },
        {
         "customdata": [
          [
           "Animalia",
           "Chordata",
           "Chondrichthyes",
           "Rhinopristiformes",
           "Pristidae",
           "Pristis pectinata",
           "smalltooth sawfish"
          ]
         ],
         "hovertemplate": "Species=%{y}<br>Genus=%{x}<br>kingdom=%{customdata[0]}<br>phylum=%{customdata[1]}<br>class=%{customdata[2]}<br>order=%{customdata[3]}<br>family=%{customdata[4]}<br>sciName=%{customdata[5]}<br>common=%{customdata[6]}<extra></extra>",
         "legendgroup": "pectinata",
         "marker": {
          "color": "#FF6692",
          "symbol": "circle"
         },
         "mode": "markers",
         "name": "pectinata",
         "orientation": "v",
         "showlegend": true,
         "type": "scatter",
         "x": [
          "Pristis"
         ],
         "xaxis": "x",
         "y": [
          "pectinata"
         ],
         "yaxis": "y"
        },
        {
         "customdata": [
          [
           "Animalia",
           "Chordata",
           "Reptilia",
           "Squamata",
           "Phrynosomatidae",
           "Urosaurus auriculatus",
           "Socorro Island Tree Lizard"
          ]
         ],
         "hovertemplate": "Species=%{y}<br>Genus=%{x}<br>kingdom=%{customdata[0]}<br>phylum=%{customdata[1]}<br>class=%{customdata[2]}<br>order=%{customdata[3]}<br>family=%{customdata[4]}<br>sciName=%{customdata[5]}<br>common=%{customdata[6]}<extra></extra>",
         "legendgroup": "auriculatus",
         "marker": {
          "color": "#B6E880",
          "symbol": "circle"
         },
         "mode": "markers",
         "name": "auriculatus",
         "orientation": "v",
         "showlegend": true,
         "type": "scatter",
         "x": [
          "Urosaurus"
         ],
         "xaxis": "x",
         "y": [
          "auriculatus"
         ],
         "yaxis": "y"
        },
        {
         "customdata": [
          [
           "Animalia",
           "Chordata",
           "Chondrichthyes",
           "Myliobatiformes",
           "Myliobatidae",
           "Myliobatis goodei",
           "southern eagle ray"
          ]
         ],
         "hovertemplate": "Species=%{y}<br>Genus=%{x}<br>kingdom=%{customdata[0]}<br>phylum=%{customdata[1]}<br>class=%{customdata[2]}<br>order=%{customdata[3]}<br>family=%{customdata[4]}<br>sciName=%{customdata[5]}<br>common=%{customdata[6]}<extra></extra>",
         "legendgroup": "goodei",
         "marker": {
          "color": "#FF97FF",
          "symbol": "circle"
         },
         "mode": "markers",
         "name": "goodei",
         "orientation": "v",
         "showlegend": true,
         "type": "scatter",
         "x": [
          "Myliobatis"
         ],
         "xaxis": "x",
         "y": [
          "goodei"
         ],
         "yaxis": "y"
        },
        {
         "customdata": [
          [
           "Animalia",
           "Chordata",
           "Mammalia",
           "Diprotodontia",
           "Vombatidae",
           "Lasiorhinus latifrons",
           "Southern Hairy-nosed Wombat"
          ]
         ],
         "hovertemplate": "Species=%{y}<br>Genus=%{x}<br>kingdom=%{customdata[0]}<br>phylum=%{customdata[1]}<br>class=%{customdata[2]}<br>order=%{customdata[3]}<br>family=%{customdata[4]}<br>sciName=%{customdata[5]}<br>common=%{customdata[6]}<extra></extra>",
         "legendgroup": "latifrons",
         "marker": {
          "color": "#FECB52",
          "symbol": "circle"
         },
         "mode": "markers",
         "name": "latifrons",
         "orientation": "v",
         "showlegend": true,
         "type": "scatter",
         "x": [
          "Lasiorhinus"
         ],
         "xaxis": "x",
         "y": [
          "latifrons"
         ],
         "yaxis": "y"
        },
        {
         "customdata": [
          [
           "Animalia",
           "Chordata",
           "Amphibia",
           "Caudata",
           "Salamandridae",
           "Pleurodeles waltl",
           "Spanish Newt"
          ]
         ],
         "hovertemplate": "Species=%{y}<br>Genus=%{x}<br>kingdom=%{customdata[0]}<br>phylum=%{customdata[1]}<br>class=%{customdata[2]}<br>order=%{customdata[3]}<br>family=%{customdata[4]}<br>sciName=%{customdata[5]}<br>common=%{customdata[6]}<extra></extra>",
         "legendgroup": "waltl",
         "marker": {
          "color": "#636efa",
          "symbol": "circle"
         },
         "mode": "markers",
         "name": "waltl",
         "orientation": "v",
         "showlegend": true,
         "type": "scatter",
         "x": [
          "Pleurodeles"
         ],
         "xaxis": "x",
         "y": [
          "waltl"
         ],
         "yaxis": "y"
        },
        {
         "customdata": [
          [
           "Animalia",
           "Chordata",
           "Aves",
           "Anseriformes",
           "Anatidae",
           "Somateria fischeri",
           "Spectacled Eider"
          ]
         ],
         "hovertemplate": "Species=%{y}<br>Genus=%{x}<br>kingdom=%{customdata[0]}<br>phylum=%{customdata[1]}<br>class=%{customdata[2]}<br>order=%{customdata[3]}<br>family=%{customdata[4]}<br>sciName=%{customdata[5]}<br>common=%{customdata[6]}<extra></extra>",
         "legendgroup": "fischeri",
         "marker": {
          "color": "#EF553B",
          "symbol": "circle"
         },
         "mode": "markers",
         "name": "fischeri",
         "orientation": "v",
         "showlegend": true,
         "type": "scatter",
         "x": [
          "Somateria"
         ],
         "xaxis": "x",
         "y": [
          "fischeri"
         ],
         "yaxis": "y"
        },
        {
         "customdata": [
          [
           "Animalia",
           "Cnidaria",
           "Anthozoa",
           "Scleractinia",
           "Merulinidae",
           "Hydnophora exesa",
           "spine coral"
          ]
         ],
         "hovertemplate": "Species=%{y}<br>Genus=%{x}<br>kingdom=%{customdata[0]}<br>phylum=%{customdata[1]}<br>class=%{customdata[2]}<br>order=%{customdata[3]}<br>family=%{customdata[4]}<br>sciName=%{customdata[5]}<br>common=%{customdata[6]}<extra></extra>",
         "legendgroup": "exesa",
         "marker": {
          "color": "#00cc96",
          "symbol": "circle"
         },
         "mode": "markers",
         "name": "exesa",
         "orientation": "v",
         "showlegend": true,
         "type": "scatter",
         "x": [
          "Hydnophora"
         ],
         "xaxis": "x",
         "y": [
          "exesa"
         ],
         "yaxis": "y"
        },
        {
         "customdata": [
          [
           "Animalia",
           "Chordata",
           "Actinopterygii",
           "Syngnathiformes",
           "Syngnathidae",
           "Hippocampus spinosissimus",
           "spiny seahorse"
          ]
         ],
         "hovertemplate": "Species=%{y}<br>Genus=%{x}<br>kingdom=%{customdata[0]}<br>phylum=%{customdata[1]}<br>class=%{customdata[2]}<br>order=%{customdata[3]}<br>family=%{customdata[4]}<br>sciName=%{customdata[5]}<br>common=%{customdata[6]}<extra></extra>",
         "legendgroup": "spinosissimus",
         "marker": {
          "color": "#ab63fa",
          "symbol": "circle"
         },
         "mode": "markers",
         "name": "spinosissimus",
         "orientation": "v",
         "showlegend": true,
         "type": "scatter",
         "x": [
          "Hippocampus"
         ],
         "xaxis": "x",
         "y": [
          "spinosissimus"
         ],
         "yaxis": "y"
        },
        {
         "customdata": [
          [
           "Animalia",
           "Chordata",
           "Mammalia",
           "Primates",
           "Cebidae",
           "Cebus unicolor",
           "Spix's White-fronted Capuchin"
          ]
         ],
         "hovertemplate": "Species=%{y}<br>Genus=%{x}<br>kingdom=%{customdata[0]}<br>phylum=%{customdata[1]}<br>class=%{customdata[2]}<br>order=%{customdata[3]}<br>family=%{customdata[4]}<br>sciName=%{customdata[5]}<br>common=%{customdata[6]}<extra></extra>",
         "legendgroup": "unicolor",
         "marker": {
          "color": "#FFA15A",
          "symbol": "circle"
         },
         "mode": "markers",
         "name": "unicolor",
         "orientation": "v",
         "showlegend": true,
         "type": "scatter",
         "x": [
          "Cebus"
         ],
         "xaxis": "x",
         "y": [
          "unicolor"
         ],
         "yaxis": "y"
        },
        {
         "customdata": [
          [
           "Animalia",
           "Chordata",
           "Chondrichthyes",
           "Myliobatiformes",
           "Myliobatidae",
           "Myliobatis aquila",
           "spotted eagle ray"
          ]
         ],
         "hovertemplate": "Species=%{y}<br>Genus=%{x}<br>kingdom=%{customdata[0]}<br>phylum=%{customdata[1]}<br>class=%{customdata[2]}<br>order=%{customdata[3]}<br>family=%{customdata[4]}<br>sciName=%{customdata[5]}<br>common=%{customdata[6]}<extra></extra>",
         "legendgroup": "aquila",
         "marker": {
          "color": "#19d3f3",
          "symbol": "circle"
         },
         "mode": "markers",
         "name": "aquila",
         "orientation": "v",
         "showlegend": true,
         "type": "scatter",
         "x": [
          "Myliobatis"
         ],
         "xaxis": "x",
         "y": [
          "aquila"
         ],
         "yaxis": "y"
        },
        {
         "customdata": [
          [
           "Animalia",
           "Arthropoda",
           "Insecta",
           "Hymenoptera",
           "Formicidae",
           "Aneuretus simoni",
           "Sri Lankan Relict Ant"
          ]
         ],
         "hovertemplate": "Species=%{y}<br>Genus=%{x}<br>kingdom=%{customdata[0]}<br>phylum=%{customdata[1]}<br>class=%{customdata[2]}<br>order=%{customdata[3]}<br>family=%{customdata[4]}<br>sciName=%{customdata[5]}<br>common=%{customdata[6]}<extra></extra>",
         "legendgroup": "simoni",
         "marker": {
          "color": "#FF6692",
          "symbol": "circle"
         },
         "mode": "markers",
         "name": "simoni",
         "orientation": "v",
         "showlegend": true,
         "type": "scatter",
         "x": [
          "Aneuretus"
         ],
         "xaxis": "x",
         "y": [
          "simoni"
         ],
         "yaxis": "y"
        },
        {
         "customdata": [
          [
           "Animalia",
           "Cnidaria",
           "Anthozoa",
           "Scleractinia",
           "Acroporidae",
           "Acropora millepora",
           "staghorn coral"
          ]
         ],
         "hovertemplate": "Species=%{y}<br>Genus=%{x}<br>kingdom=%{customdata[0]}<br>phylum=%{customdata[1]}<br>class=%{customdata[2]}<br>order=%{customdata[3]}<br>family=%{customdata[4]}<br>sciName=%{customdata[5]}<br>common=%{customdata[6]}<extra></extra>",
         "legendgroup": "millepora",
         "marker": {
          "color": "#B6E880",
          "symbol": "circle"
         },
         "mode": "markers",
         "name": "millepora",
         "orientation": "v",
         "showlegend": true,
         "type": "scatter",
         "x": [
          "Acropora"
         ],
         "xaxis": "x",
         "y": [
          "millepora"
         ],
         "yaxis": "y"
        },
        {
         "customdata": [
          [
           "Animalia",
           "Cnidaria",
           "Anthozoa",
           "Scleractinia",
           "Acroporidae",
           "Acropora acuminata",
           "staghorn coral"
          ]
         ],
         "hovertemplate": "Species=%{y}<br>Genus=%{x}<br>kingdom=%{customdata[0]}<br>phylum=%{customdata[1]}<br>class=%{customdata[2]}<br>order=%{customdata[3]}<br>family=%{customdata[4]}<br>sciName=%{customdata[5]}<br>common=%{customdata[6]}<extra></extra>",
         "legendgroup": "acuminata",
         "marker": {
          "color": "#FF97FF",
          "symbol": "circle"
         },
         "mode": "markers",
         "name": "acuminata",
         "orientation": "v",
         "showlegend": true,
         "type": "scatter",
         "x": [
          "Acropora"
         ],
         "xaxis": "x",
         "y": [
          "acuminata"
         ],
         "yaxis": "y"
        },
        {
         "customdata": [
          [
           "Animalia",
           "Chordata",
           "Chondrichthyes",
           "Rajiformes",
           "Rajidae",
           "Raja asterias",
           "starry skate"
          ]
         ],
         "hovertemplate": "Species=%{y}<br>Genus=%{x}<br>kingdom=%{customdata[0]}<br>phylum=%{customdata[1]}<br>class=%{customdata[2]}<br>order=%{customdata[3]}<br>family=%{customdata[4]}<br>sciName=%{customdata[5]}<br>common=%{customdata[6]}<extra></extra>",
         "legendgroup": "asterias",
         "marker": {
          "color": "#FECB52",
          "symbol": "circle"
         },
         "mode": "markers",
         "name": "asterias",
         "orientation": "v",
         "showlegend": true,
         "type": "scatter",
         "x": [
          "Raja"
         ],
         "xaxis": "x",
         "y": [
          "asterias"
         ],
         "yaxis": "y"
        },
        {
         "customdata": [
          [
           "Animalia",
           "Chordata",
           "Reptilia",
           "Squamata",
           "Diplodactylidae",
           "Naultinus stellatus",
           "Starry Tree Gecko"
          ]
         ],
         "hovertemplate": "Species=%{y}<br>Genus=%{x}<br>kingdom=%{customdata[0]}<br>phylum=%{customdata[1]}<br>class=%{customdata[2]}<br>order=%{customdata[3]}<br>family=%{customdata[4]}<br>sciName=%{customdata[5]}<br>common=%{customdata[6]}<extra></extra>",
         "legendgroup": "stellatus",
         "marker": {
          "color": "#636efa",
          "symbol": "circle"
         },
         "mode": "markers",
         "name": "stellatus",
         "orientation": "v",
         "showlegend": true,
         "type": "scatter",
         "x": [
          "Naultinus"
         ],
         "xaxis": "x",
         "y": [
          "stellatus"
         ],
         "yaxis": "y"
        },
        {
         "customdata": [
          [
           "Animalia",
           "Chordata",
           "Mammalia",
           "Carnivora",
           "Hyaenidae",
           "Hyaena hyaena",
           "Striped Hyena"
          ]
         ],
         "hovertemplate": "Species=%{y}<br>Genus=%{x}<br>kingdom=%{customdata[0]}<br>phylum=%{customdata[1]}<br>class=%{customdata[2]}<br>order=%{customdata[3]}<br>family=%{customdata[4]}<br>sciName=%{customdata[5]}<br>common=%{customdata[6]}<extra></extra>",
         "legendgroup": "hyaena",
         "marker": {
          "color": "#EF553B",
          "symbol": "circle"
         },
         "mode": "markers",
         "name": "hyaena",
         "orientation": "v",
         "showlegend": true,
         "type": "scatter",
         "x": [
          "Hyaena"
         ],
         "xaxis": "x",
         "y": [
          "hyaena"
         ],
         "yaxis": "y"
        },
        {
         "customdata": [
          [
           "Animalia",
           "Chordata",
           "Amphibia",
           "Caudata",
           "Salamandridae",
           "Notophthalmus perstriatus",
           "Striped Newt"
          ]
         ],
         "hovertemplate": "Species=%{y}<br>Genus=%{x}<br>kingdom=%{customdata[0]}<br>phylum=%{customdata[1]}<br>class=%{customdata[2]}<br>order=%{customdata[3]}<br>family=%{customdata[4]}<br>sciName=%{customdata[5]}<br>common=%{customdata[6]}<extra></extra>",
         "legendgroup": "perstriatus",
         "marker": {
          "color": "#00cc96",
          "symbol": "circle"
         },
         "mode": "markers",
         "name": "perstriatus",
         "orientation": "v",
         "showlegend": true,
         "type": "scatter",
         "x": [
          "Notophthalmus"
         ],
         "xaxis": "x",
         "y": [
          "perstriatus"
         ],
         "yaxis": "y"
        },
        {
         "customdata": [
          [
           "Animalia",
           "Chordata",
           "Aves",
           "Mesitornithiformes",
           "Mesitornithidae",
           "Monias benschi",
           "Subdesert Mesite"
          ]
         ],
         "hovertemplate": "Species=%{y}<br>Genus=%{x}<br>kingdom=%{customdata[0]}<br>phylum=%{customdata[1]}<br>class=%{customdata[2]}<br>order=%{customdata[3]}<br>family=%{customdata[4]}<br>sciName=%{customdata[5]}<br>common=%{customdata[6]}<extra></extra>",
         "legendgroup": "benschi",
         "marker": {
          "color": "#ab63fa",
          "symbol": "circle"
         },
         "mode": "markers",
         "name": "benschi",
         "orientation": "v",
         "showlegend": true,
         "type": "scatter",
         "x": [
          "Monias"
         ],
         "xaxis": "x",
         "y": [
          "benschi"
         ],
         "yaxis": "y"
        },
        {
         "customdata": [
          [
           "Animalia",
           "Chordata",
           "Mammalia",
           "Primates",
           "Hominidae",
           "Pongo abelii",
           "Sumatran Orangutan"
          ]
         ],
         "hovertemplate": "Species=%{y}<br>Genus=%{x}<br>kingdom=%{customdata[0]}<br>phylum=%{customdata[1]}<br>class=%{customdata[2]}<br>order=%{customdata[3]}<br>family=%{customdata[4]}<br>sciName=%{customdata[5]}<br>common=%{customdata[6]}<extra></extra>",
         "legendgroup": "abelii",
         "marker": {
          "color": "#FFA15A",
          "symbol": "circle"
         },
         "mode": "markers",
         "name": "abelii",
         "orientation": "v",
         "showlegend": true,
         "type": "scatter",
         "x": [
          "Pongo"
         ],
         "xaxis": "x",
         "y": [
          "abelii"
         ],
         "yaxis": "y"
        },
        {
         "customdata": [
          [
           "Animalia",
           "Chordata",
           "Mammalia",
           "Pholidota",
           "Manidae",
           "Manis javanica",
           "Sunda Pangolin"
          ]
         ],
         "hovertemplate": "Species=%{y}<br>Genus=%{x}<br>kingdom=%{customdata[0]}<br>phylum=%{customdata[1]}<br>class=%{customdata[2]}<br>order=%{customdata[3]}<br>family=%{customdata[4]}<br>sciName=%{customdata[5]}<br>common=%{customdata[6]}<extra></extra>",
         "legendgroup": "javanica",
         "marker": {
          "color": "#19d3f3",
          "symbol": "circle"
         },
         "mode": "markers",
         "name": "javanica",
         "orientation": "v",
         "showlegend": true,
         "type": "scatter",
         "x": [
          "Manis"
         ],
         "xaxis": "x",
         "y": [
          "javanica"
         ],
         "yaxis": "y"
        },
        {
         "customdata": [
          [
           "Animalia",
           "Cnidaria",
           "Anthozoa",
           "Scleractinia",
           "Agariciidae",
           "Helioseris cucullata",
           "Sunray lettuce coral"
          ]
         ],
         "hovertemplate": "Species=%{y}<br>Genus=%{x}<br>kingdom=%{customdata[0]}<br>phylum=%{customdata[1]}<br>class=%{customdata[2]}<br>order=%{customdata[3]}<br>family=%{customdata[4]}<br>sciName=%{customdata[5]}<br>common=%{customdata[6]}<extra></extra>",
         "legendgroup": "cucullata",
         "marker": {
          "color": "#FF6692",
          "symbol": "circle"
         },
         "mode": "markers",
         "name": "cucullata",
         "orientation": "v",
         "showlegend": true,
         "type": "scatter",
         "x": [
          "Helioseris"
         ],
         "xaxis": "x",
         "y": [
          "cucullata"
         ],
         "yaxis": "y"
        },
        {
         "customdata": [
          [
           "Animalia",
           "Chordata",
           "Aves",
           "Psittaciformes",
           "Psittaculidae",
           "Lathamus discolor",
           "Swift Parrot"
          ]
         ],
         "hovertemplate": "Species=%{y}<br>Genus=%{x}<br>kingdom=%{customdata[0]}<br>phylum=%{customdata[1]}<br>class=%{customdata[2]}<br>order=%{customdata[3]}<br>family=%{customdata[4]}<br>sciName=%{customdata[5]}<br>common=%{customdata[6]}<extra></extra>",
         "legendgroup": "discolor",
         "marker": {
          "color": "#B6E880",
          "symbol": "circle"
         },
         "mode": "markers",
         "name": "discolor",
         "orientation": "v",
         "showlegend": true,
         "type": "scatter",
         "x": [
          "Lathamus"
         ],
         "xaxis": "x",
         "y": [
          "discolor"
         ],
         "yaxis": "y"
        },
        {
         "customdata": [
          [
           "Animalia",
           "Chordata",
           "Aves",
           "Galliformes",
           "Phasianidae",
           "Lophura swinhoii",
           "Swinhoe's Pheasant"
          ]
         ],
         "hovertemplate": "Species=%{y}<br>Genus=%{x}<br>kingdom=%{customdata[0]}<br>phylum=%{customdata[1]}<br>class=%{customdata[2]}<br>order=%{customdata[3]}<br>family=%{customdata[4]}<br>sciName=%{customdata[5]}<br>common=%{customdata[6]}<extra></extra>",
         "legendgroup": "swinhoii",
         "marker": {
          "color": "#FF97FF",
          "symbol": "circle"
         },
         "mode": "markers",
         "name": "swinhoii",
         "orientation": "v",
         "showlegend": true,
         "type": "scatter",
         "x": [
          "Lophura"
         ],
         "xaxis": "x",
         "y": [
          "swinhoii"
         ],
         "yaxis": "y"
        },
        {
         "customdata": [
          [
           "Animalia",
           "Cnidaria",
           "Anthozoa",
           "Scleractinia",
           "Faviidae",
           "Pseudodiploria strigosa",
           "Symmetrical Brain Coral"
          ]
         ],
         "hovertemplate": "Species=%{y}<br>Genus=%{x}<br>kingdom=%{customdata[0]}<br>phylum=%{customdata[1]}<br>class=%{customdata[2]}<br>order=%{customdata[3]}<br>family=%{customdata[4]}<br>sciName=%{customdata[5]}<br>common=%{customdata[6]}<extra></extra>",
         "legendgroup": "strigosa",
         "marker": {
          "color": "#FECB52",
          "symbol": "circle"
         },
         "mode": "markers",
         "name": "strigosa",
         "orientation": "v",
         "showlegend": true,
         "type": "scatter",
         "x": [
          "Pseudodiploria"
         ],
         "xaxis": "x",
         "y": [
          "strigosa"
         ],
         "yaxis": "y"
        },
        {
         "customdata": [
          [
           "Animalia",
           "Chordata",
           "Actinopterygii",
           "Cyprinodontiformes",
           "Goodeidae",
           "Zoogoneticus tequila",
           "Tequila splitfin"
          ]
         ],
         "hovertemplate": "Species=%{y}<br>Genus=%{x}<br>kingdom=%{customdata[0]}<br>phylum=%{customdata[1]}<br>class=%{customdata[2]}<br>order=%{customdata[3]}<br>family=%{customdata[4]}<br>sciName=%{customdata[5]}<br>common=%{customdata[6]}<extra></extra>",
         "legendgroup": "tequila",
         "marker": {
          "color": "#636efa",
          "symbol": "circle"
         },
         "mode": "markers",
         "name": "tequila",
         "orientation": "v",
         "showlegend": true,
         "type": "scatter",
         "x": [
          "Zoogoneticus"
         ],
         "xaxis": "x",
         "y": [
          "tequila"
         ],
         "yaxis": "y"
        },
        {
         "customdata": [
          [
           "Animalia",
           "Chordata",
           "Amphibia",
           "Caudata",
           "Plethodontidae",
           "Eurycea rathbuni",
           "Texas Blind Salamander"
          ]
         ],
         "hovertemplate": "Species=%{y}<br>Genus=%{x}<br>kingdom=%{customdata[0]}<br>phylum=%{customdata[1]}<br>class=%{customdata[2]}<br>order=%{customdata[3]}<br>family=%{customdata[4]}<br>sciName=%{customdata[5]}<br>common=%{customdata[6]}<extra></extra>",
         "legendgroup": "rathbuni",
         "marker": {
          "color": "#EF553B",
          "symbol": "circle"
         },
         "mode": "markers",
         "name": "rathbuni",
         "orientation": "v",
         "showlegend": true,
         "type": "scatter",
         "x": [
          "Eurycea"
         ],
         "xaxis": "x",
         "y": [
          "rathbuni"
         ],
         "yaxis": "y"
        },
        {
         "customdata": [
          [
           "Animalia",
           "Mollusca",
           "Bivalvia",
           "Unionida",
           "Unionidae",
           "Potamilus amphichaenus",
           "Texas heelsplitter"
          ]
         ],
         "hovertemplate": "Species=%{y}<br>Genus=%{x}<br>kingdom=%{customdata[0]}<br>phylum=%{customdata[1]}<br>class=%{customdata[2]}<br>order=%{customdata[3]}<br>family=%{customdata[4]}<br>sciName=%{customdata[5]}<br>common=%{customdata[6]}<extra></extra>",
         "legendgroup": "amphichaenus",
         "marker": {
          "color": "#00cc96",
          "symbol": "circle"
         },
         "mode": "markers",
         "name": "amphichaenus",
         "orientation": "v",
         "showlegend": true,
         "type": "scatter",
         "x": [
          "Potamilus"
         ],
         "xaxis": "x",
         "y": [
          "amphichaenus"
         ],
         "yaxis": "y"
        },
        {
         "customdata": [
          [
           "Animalia",
           "Chordata",
           "Aves",
           "Psittaciformes",
           "Psittacidae",
           "Rhynchopsitta pachyrhyncha",
           "Thick-billed Parrot"
          ]
         ],
         "hovertemplate": "Species=%{y}<br>Genus=%{x}<br>kingdom=%{customdata[0]}<br>phylum=%{customdata[1]}<br>class=%{customdata[2]}<br>order=%{customdata[3]}<br>family=%{customdata[4]}<br>sciName=%{customdata[5]}<br>common=%{customdata[6]}<extra></extra>",
         "legendgroup": "pachyrhyncha",
         "marker": {
          "color": "#ab63fa",
          "symbol": "circle"
         },
         "mode": "markers",
         "name": "pachyrhyncha",
         "orientation": "v",
         "showlegend": true,
         "type": "scatter",
         "x": [
          "Rhynchopsitta"
         ],
         "xaxis": "x",
         "y": [
          "pachyrhyncha"
         ],
         "yaxis": "y"
        },
        {
         "customdata": [
          [
           "Animalia",
           "Chordata",
           "Chondrichthyes",
           "Lamniformes",
           "Alopiidae",
           "Alopias vulpinus",
           "thresher shark"
          ]
         ],
         "hovertemplate": "Species=%{y}<br>Genus=%{x}<br>kingdom=%{customdata[0]}<br>phylum=%{customdata[1]}<br>class=%{customdata[2]}<br>order=%{customdata[3]}<br>family=%{customdata[4]}<br>sciName=%{customdata[5]}<br>common=%{customdata[6]}<extra></extra>",
         "legendgroup": "vulpinus",
         "marker": {
          "color": "#FFA15A",
          "symbol": "circle"
         },
         "mode": "markers",
         "name": "vulpinus",
         "orientation": "v",
         "showlegend": true,
         "type": "scatter",
         "x": [
          "Alopias"
         ],
         "xaxis": "x",
         "y": [
          "vulpinus"
         ],
         "yaxis": "y"
        },
        {
         "customdata": [
          [
           "Animalia",
           "Chordata",
           "Mammalia",
           "Artiodactyla",
           "Bovidae",
           "Procapra picticaudata",
           "Tibetan gazelle"
          ]
         ],
         "hovertemplate": "Species=%{y}<br>Genus=%{x}<br>kingdom=%{customdata[0]}<br>phylum=%{customdata[1]}<br>class=%{customdata[2]}<br>order=%{customdata[3]}<br>family=%{customdata[4]}<br>sciName=%{customdata[5]}<br>common=%{customdata[6]}<extra></extra>",
         "legendgroup": "picticaudata",
         "marker": {
          "color": "#19d3f3",
          "symbol": "circle"
         },
         "mode": "markers",
         "name": "picticaudata",
         "orientation": "v",
         "showlegend": true,
         "type": "scatter",
         "x": [
          "Procapra"
         ],
         "xaxis": "x",
         "y": [
          "picticaudata"
         ],
         "yaxis": "y"
        },
        {
         "customdata": [
          [
           "Animalia",
           "Chordata",
           "Mammalia",
           "Dasyuromorphia",
           "Dasyuridae",
           "Dasyurus maculatus",
           "Tiger Quoll"
          ]
         ],
         "hovertemplate": "Species=%{y}<br>Genus=%{x}<br>kingdom=%{customdata[0]}<br>phylum=%{customdata[1]}<br>class=%{customdata[2]}<br>order=%{customdata[3]}<br>family=%{customdata[4]}<br>sciName=%{customdata[5]}<br>common=%{customdata[6]}<extra></extra>",
         "legendgroup": "maculatus",
         "marker": {
          "color": "#FF6692",
          "symbol": "circle"
         },
         "mode": "markers",
         "name": "maculatus",
         "orientation": "v",
         "showlegend": true,
         "type": "scatter",
         "x": [
          "Dasyurus"
         ],
         "xaxis": "x",
         "y": [
          "maculatus"
         ],
         "yaxis": "y"
        },
        {
         "customdata": [
          [
           "Animalia",
           "Chordata",
           "Chondrichthyes",
           "Carcharhiniformes",
           "Carcharhinidae",
           "Galeocerdo cuvier",
           "tiger shark"
          ]
         ],
         "hovertemplate": "Species=%{y}<br>Genus=%{x}<br>kingdom=%{customdata[0]}<br>phylum=%{customdata[1]}<br>class=%{customdata[2]}<br>order=%{customdata[3]}<br>family=%{customdata[4]}<br>sciName=%{customdata[5]}<br>common=%{customdata[6]}<extra></extra>",
         "legendgroup": "cuvier",
         "marker": {
          "color": "#B6E880",
          "symbol": "circle"
         },
         "mode": "markers",
         "name": "cuvier",
         "orientation": "v",
         "showlegend": true,
         "type": "scatter",
         "x": [
          "Galeocerdo"
         ],
         "xaxis": "x",
         "y": [
          "cuvier"
         ],
         "yaxis": "y"
        },
        {
         "customdata": [
          [
           "Animalia",
           "Chordata",
           "Mammalia",
           "Rodentia",
           "Sciuridae",
           "Cynomys parvidens",
           "Utah Prairie Dog"
          ]
         ],
         "hovertemplate": "Species=%{y}<br>Genus=%{x}<br>kingdom=%{customdata[0]}<br>phylum=%{customdata[1]}<br>class=%{customdata[2]}<br>order=%{customdata[3]}<br>family=%{customdata[4]}<br>sciName=%{customdata[5]}<br>common=%{customdata[6]}<extra></extra>",
         "legendgroup": "parvidens",
         "marker": {
          "color": "#FF97FF",
          "symbol": "circle"
         },
         "mode": "markers",
         "name": "parvidens",
         "orientation": "v",
         "showlegend": true,
         "type": "scatter",
         "x": [
          "Cynomys"
         ],
         "xaxis": "x",
         "y": [
          "parvidens"
         ],
         "yaxis": "y"
        },
        {
         "customdata": [
          [
           "Animalia",
           "Chordata",
           "Mammalia",
           "Primates",
           "Indriidae",
           "Propithecus deckenii",
           "Van der Decken's Sifaka"
          ]
         ],
         "hovertemplate": "Species=%{y}<br>Genus=%{x}<br>kingdom=%{customdata[0]}<br>phylum=%{customdata[1]}<br>class=%{customdata[2]}<br>order=%{customdata[3]}<br>family=%{customdata[4]}<br>sciName=%{customdata[5]}<br>common=%{customdata[6]}<extra></extra>",
         "legendgroup": "deckenii",
         "marker": {
          "color": "#FECB52",
          "symbol": "circle"
         },
         "mode": "markers",
         "name": "deckenii",
         "orientation": "v",
         "showlegend": true,
         "type": "scatter",
         "x": [
          "Propithecus"
         ],
         "xaxis": "x",
         "y": [
          "deckenii"
         ],
         "yaxis": "y"
        },
        {
         "customdata": [
          [
           "Animalia",
           "Arthropoda",
           "Insecta",
           "Hymenoptera",
           "Apidae",
           "Bombus variabilis",
           "Variable Cuckoo Bumble Bee"
          ]
         ],
         "hovertemplate": "Species=%{y}<br>Genus=%{x}<br>kingdom=%{customdata[0]}<br>phylum=%{customdata[1]}<br>class=%{customdata[2]}<br>order=%{customdata[3]}<br>family=%{customdata[4]}<br>sciName=%{customdata[5]}<br>common=%{customdata[6]}<extra></extra>",
         "legendgroup": "variabilis",
         "marker": {
          "color": "#636efa",
          "symbol": "circle"
         },
         "mode": "markers",
         "name": "variabilis",
         "orientation": "v",
         "showlegend": true,
         "type": "scatter",
         "x": [
          "Bombus"
         ],
         "xaxis": "x",
         "y": [
          "variabilis"
         ],
         "yaxis": "y"
        },
        {
         "customdata": [
          [
           "Animalia",
           "Chordata",
           "Mammalia",
           "Primates",
           "Atelidae",
           "Ateles hybridus",
           "Variegated Spider Monkey"
          ]
         ],
         "hovertemplate": "Species=%{y}<br>Genus=%{x}<br>kingdom=%{customdata[0]}<br>phylum=%{customdata[1]}<br>class=%{customdata[2]}<br>order=%{customdata[3]}<br>family=%{customdata[4]}<br>sciName=%{customdata[5]}<br>common=%{customdata[6]}<extra></extra>",
         "legendgroup": "hybridus",
         "marker": {
          "color": "#EF553B",
          "symbol": "circle"
         },
         "mode": "markers",
         "name": "hybridus",
         "orientation": "v",
         "showlegend": true,
         "type": "scatter",
         "x": [
          "Ateles"
         ],
         "xaxis": "x",
         "y": [
          "hybridus"
         ],
         "yaxis": "y"
        },
        {
         "customdata": [
          [
           "Animalia",
           "Chordata",
           "Aves",
           "Anseriformes",
           "Anatidae",
           "Melanitta fusca",
           "Velvet Scoter"
          ]
         ],
         "hovertemplate": "Species=%{y}<br>Genus=%{x}<br>kingdom=%{customdata[0]}<br>phylum=%{customdata[1]}<br>class=%{customdata[2]}<br>order=%{customdata[3]}<br>family=%{customdata[4]}<br>sciName=%{customdata[5]}<br>common=%{customdata[6]}<extra></extra>",
         "legendgroup": "fusca",
         "marker": {
          "color": "#00cc96",
          "symbol": "circle"
         },
         "mode": "markers",
         "name": "fusca",
         "orientation": "v",
         "showlegend": true,
         "type": "scatter",
         "x": [
          "Melanitta"
         ],
         "xaxis": "x",
         "y": [
          "fusca"
         ],
         "yaxis": "y"
        },
        {
         "customdata": [
          [
           "Animalia",
           "Arthropoda",
           "Branchiopoda",
           "Notostraca",
           "Triopsidae",
           "Lepidurus packardi",
           "vernal pool tadpole shrimp"
          ]
         ],
         "hovertemplate": "Species=%{y}<br>Genus=%{x}<br>kingdom=%{customdata[0]}<br>phylum=%{customdata[1]}<br>class=%{customdata[2]}<br>order=%{customdata[3]}<br>family=%{customdata[4]}<br>sciName=%{customdata[5]}<br>common=%{customdata[6]}<extra></extra>",
         "legendgroup": "packardi",
         "marker": {
          "color": "#ab63fa",
          "symbol": "circle"
         },
         "mode": "markers",
         "name": "packardi",
         "orientation": "v",
         "showlegend": true,
         "type": "scatter",
         "x": [
          "Lepidurus"
         ],
         "xaxis": "x",
         "y": [
          "packardi"
         ],
         "yaxis": "y"
        },
        {
         "customdata": [
          [
           "Animalia",
           "Chordata",
           "Aves",
           "Psittaciformes",
           "Psittacidae",
           "Amazona vinacea",
           "Vinaceous-breasted Amazon"
          ]
         ],
         "hovertemplate": "Species=%{y}<br>Genus=%{x}<br>kingdom=%{customdata[0]}<br>phylum=%{customdata[1]}<br>class=%{customdata[2]}<br>order=%{customdata[3]}<br>family=%{customdata[4]}<br>sciName=%{customdata[5]}<br>common=%{customdata[6]}<extra></extra>",
         "legendgroup": "vinacea",
         "marker": {
          "color": "#FFA15A",
          "symbol": "circle"
         },
         "mode": "markers",
         "name": "vinacea",
         "orientation": "v",
         "showlegend": true,
         "type": "scatter",
         "x": [
          "Amazona"
         ],
         "xaxis": "x",
         "y": [
          "vinacea"
         ],
         "yaxis": "y"
        },
        {
         "customdata": [
          [
           "Animalia",
           "Chordata",
           "Aves",
           "Procellariiformes",
           "Diomedeidae",
           "Phoebastria irrorata",
           "Waved Albatross"
          ]
         ],
         "hovertemplate": "Species=%{y}<br>Genus=%{x}<br>kingdom=%{customdata[0]}<br>phylum=%{customdata[1]}<br>class=%{customdata[2]}<br>order=%{customdata[3]}<br>family=%{customdata[4]}<br>sciName=%{customdata[5]}<br>common=%{customdata[6]}<extra></extra>",
         "legendgroup": "irrorata",
         "marker": {
          "color": "#19d3f3",
          "symbol": "circle"
         },
         "mode": "markers",
         "name": "irrorata",
         "orientation": "v",
         "showlegend": true,
         "type": "scatter",
         "x": [
          "Phoebastria"
         ],
         "xaxis": "x",
         "y": [
          "irrorata"
         ],
         "yaxis": "y"
        },
        {
         "customdata": [
          [
           "Animalia",
           "Chordata",
           "Amphibia",
           "Anura",
           "Rhacophoridae",
           "Pseudophilautus wynaadensis",
           "Waynad bush frog"
          ]
         ],
         "hovertemplate": "Species=%{y}<br>Genus=%{x}<br>kingdom=%{customdata[0]}<br>phylum=%{customdata[1]}<br>class=%{customdata[2]}<br>order=%{customdata[3]}<br>family=%{customdata[4]}<br>sciName=%{customdata[5]}<br>common=%{customdata[6]}<extra></extra>",
         "legendgroup": "wynaadensis",
         "marker": {
          "color": "#FF6692",
          "symbol": "circle"
         },
         "mode": "markers",
         "name": "wynaadensis",
         "orientation": "v",
         "showlegend": true,
         "type": "scatter",
         "x": [
          "Pseudophilautus"
         ],
         "xaxis": "x",
         "y": [
          "wynaadensis"
         ],
         "yaxis": "y"
        },
        {
         "customdata": [
          [
           "Animalia",
           "Chordata",
           "Coelacanthi",
           "Coelacanthiformes",
           "Latimeriidae",
           "Latimeria chalumnae",
           "West Indian Ocean coelacanth"
          ]
         ],
         "hovertemplate": "Species=%{y}<br>Genus=%{x}<br>kingdom=%{customdata[0]}<br>phylum=%{customdata[1]}<br>class=%{customdata[2]}<br>order=%{customdata[3]}<br>family=%{customdata[4]}<br>sciName=%{customdata[5]}<br>common=%{customdata[6]}<extra></extra>",
         "legendgroup": "chalumnae",
         "marker": {
          "color": "#B6E880",
          "symbol": "circle"
         },
         "mode": "markers",
         "name": "chalumnae",
         "orientation": "v",
         "showlegend": true,
         "type": "scatter",
         "x": [
          "Latimeria"
         ],
         "xaxis": "x",
         "y": [
          "chalumnae"
         ],
         "yaxis": "y"
        },
        {
         "customdata": [
          [
           "Animalia",
           "Chordata",
           "Reptilia",
           "Squamata",
           "Chamaeleonidae",
           "Kinyongia multituberculata",
           "West Usambara Two-horned Chamaeleon"
          ]
         ],
         "hovertemplate": "Species=%{y}<br>Genus=%{x}<br>kingdom=%{customdata[0]}<br>phylum=%{customdata[1]}<br>class=%{customdata[2]}<br>order=%{customdata[3]}<br>family=%{customdata[4]}<br>sciName=%{customdata[5]}<br>common=%{customdata[6]}<extra></extra>",
         "legendgroup": "multituberculata",
         "marker": {
          "color": "#FF97FF",
          "symbol": "circle"
         },
         "mode": "markers",
         "name": "multituberculata",
         "orientation": "v",
         "showlegend": true,
         "type": "scatter",
         "x": [
          "Kinyongia"
         ],
         "xaxis": "x",
         "y": [
          "multituberculata"
         ],
         "yaxis": "y"
        },
        {
         "customdata": [
          [
           "Animalia",
           "Chordata",
           "Aves",
           "Passeriformes",
           "Thraupidae",
           "Sericossypha albocristata",
           "White-capped Tanager"
          ]
         ],
         "hovertemplate": "Species=%{y}<br>Genus=%{x}<br>kingdom=%{customdata[0]}<br>phylum=%{customdata[1]}<br>class=%{customdata[2]}<br>order=%{customdata[3]}<br>family=%{customdata[4]}<br>sciName=%{customdata[5]}<br>common=%{customdata[6]}<extra></extra>",
         "legendgroup": "albocristata",
         "marker": {
          "color": "#FECB52",
          "symbol": "circle"
         },
         "mode": "markers",
         "name": "albocristata",
         "orientation": "v",
         "showlegend": true,
         "type": "scatter",
         "x": [
          "Sericossypha"
         ],
         "xaxis": "x",
         "y": [
          "albocristata"
         ],
         "yaxis": "y"
        },
        {
         "customdata": [
          [
           "Animalia",
           "Chordata",
           "Aves",
           "Procellariiformes",
           "Procellariidae",
           "Procellaria aequinoctialis",
           "White-chinned Petrel"
          ]
         ],
         "hovertemplate": "Species=%{y}<br>Genus=%{x}<br>kingdom=%{customdata[0]}<br>phylum=%{customdata[1]}<br>class=%{customdata[2]}<br>order=%{customdata[3]}<br>family=%{customdata[4]}<br>sciName=%{customdata[5]}<br>common=%{customdata[6]}<extra></extra>",
         "legendgroup": "aequinoctialis",
         "marker": {
          "color": "#636efa",
          "symbol": "circle"
         },
         "mode": "markers",
         "name": "aequinoctialis",
         "orientation": "v",
         "showlegend": true,
         "type": "scatter",
         "x": [
          "Procellaria"
         ],
         "xaxis": "x",
         "y": [
          "aequinoctialis"
         ],
         "yaxis": "y"
        },
        {
         "customdata": [
          [
           "Animalia",
           "Chordata",
           "Aves",
           "Bucerotiformes",
           "Bucerotidae",
           "Berenicornis comatus",
           "White-crowned Hornbill"
          ]
         ],
         "hovertemplate": "Species=%{y}<br>Genus=%{x}<br>kingdom=%{customdata[0]}<br>phylum=%{customdata[1]}<br>class=%{customdata[2]}<br>order=%{customdata[3]}<br>family=%{customdata[4]}<br>sciName=%{customdata[5]}<br>common=%{customdata[6]}<extra></extra>",
         "legendgroup": "comatus",
         "marker": {
          "color": "#EF553B",
          "symbol": "circle"
         },
         "mode": "markers",
         "name": "comatus",
         "orientation": "v",
         "showlegend": true,
         "type": "scatter",
         "x": [
          "Berenicornis"
         ],
         "xaxis": "x",
         "y": [
          "comatus"
         ],
         "yaxis": "y"
        },
        {
         "customdata": [
          [
           "Animalia",
           "Chordata",
           "Chondrichthyes",
           "Orectolobiformes",
           "Hemiscylliidae",
           "Chiloscyllium plagiosum",
           "whitespotted bamboo shark"
          ]
         ],
         "hovertemplate": "Species=%{y}<br>Genus=%{x}<br>kingdom=%{customdata[0]}<br>phylum=%{customdata[1]}<br>class=%{customdata[2]}<br>order=%{customdata[3]}<br>family=%{customdata[4]}<br>sciName=%{customdata[5]}<br>common=%{customdata[6]}<extra></extra>",
         "legendgroup": "plagiosum",
         "marker": {
          "color": "#00cc96",
          "symbol": "circle"
         },
         "mode": "markers",
         "name": "plagiosum",
         "orientation": "v",
         "showlegend": true,
         "type": "scatter",
         "x": [
          "Chiloscyllium"
         ],
         "xaxis": "x",
         "y": [
          "plagiosum"
         ],
         "yaxis": "y"
        },
        {
         "customdata": [
          [
           "Animalia",
           "Chordata",
           "Aves",
           "Apodiformes",
           "Trochilidae",
           "Campylopterus ensipennis",
           "White-tailed Sabrewing"
          ]
         ],
         "hovertemplate": "Species=%{y}<br>Genus=%{x}<br>kingdom=%{customdata[0]}<br>phylum=%{customdata[1]}<br>class=%{customdata[2]}<br>order=%{customdata[3]}<br>family=%{customdata[4]}<br>sciName=%{customdata[5]}<br>common=%{customdata[6]}<extra></extra>",
         "legendgroup": "ensipennis",
         "marker": {
          "color": "#ab63fa",
          "symbol": "circle"
         },
         "mode": "markers",
         "name": "ensipennis",
         "orientation": "v",
         "showlegend": true,
         "type": "scatter",
         "x": [
          "Campylopterus"
         ],
         "xaxis": "x",
         "y": [
          "ensipennis"
         ],
         "yaxis": "y"
        },
        {
         "customdata": [
          [
           "Animalia",
           "Chordata",
           "Amphibia",
           "Anura",
           "Rhacophoridae",
           "Rhacophorus lateralis",
           "winged gliding frog"
          ]
         ],
         "hovertemplate": "Species=%{y}<br>Genus=%{x}<br>kingdom=%{customdata[0]}<br>phylum=%{customdata[1]}<br>class=%{customdata[2]}<br>order=%{customdata[3]}<br>family=%{customdata[4]}<br>sciName=%{customdata[5]}<br>common=%{customdata[6]}<extra></extra>",
         "legendgroup": "lateralis",
         "marker": {
          "color": "#FFA15A",
          "symbol": "circle"
         },
         "mode": "markers",
         "name": "lateralis",
         "orientation": "v",
         "showlegend": true,
         "type": "scatter",
         "x": [
          "Rhacophorus"
         ],
         "xaxis": "x",
         "y": [
          "lateralis"
         ],
         "yaxis": "y"
        },
        {
         "customdata": [
          [
           "Animalia",
           "Chordata",
           "Mammalia",
           "Diprotodontia",
           "Potoroidae",
           "Bettongia penicillata",
           "Woylie"
          ]
         ],
         "hovertemplate": "Species=%{y}<br>Genus=%{x}<br>kingdom=%{customdata[0]}<br>phylum=%{customdata[1]}<br>class=%{customdata[2]}<br>order=%{customdata[3]}<br>family=%{customdata[4]}<br>sciName=%{customdata[5]}<br>common=%{customdata[6]}<extra></extra>",
         "legendgroup": "penicillata",
         "marker": {
          "color": "#19d3f3",
          "symbol": "circle"
         },
         "mode": "markers",
         "name": "penicillata",
         "orientation": "v",
         "showlegend": true,
         "type": "scatter",
         "x": [
          "Bettongia"
         ],
         "xaxis": "x",
         "y": [
          "penicillata"
         ],
         "yaxis": "y"
        },
        {
         "customdata": [
          [
           "Animalia",
           "Chordata",
           "Aves",
           "Bucerotiformes",
           "Bucerotidae",
           "Rhyticeros undulatus",
           "Wreathed Hornbill"
          ]
         ],
         "hovertemplate": "Species=%{y}<br>Genus=%{x}<br>kingdom=%{customdata[0]}<br>phylum=%{customdata[1]}<br>class=%{customdata[2]}<br>order=%{customdata[3]}<br>family=%{customdata[4]}<br>sciName=%{customdata[5]}<br>common=%{customdata[6]}<extra></extra>",
         "legendgroup": "undulatus",
         "marker": {
          "color": "#FF6692",
          "symbol": "circle"
         },
         "mode": "markers",
         "name": "undulatus",
         "orientation": "v",
         "showlegend": true,
         "type": "scatter",
         "x": [
          "Rhyticeros"
         ],
         "xaxis": "x",
         "y": [
          "undulatus"
         ],
         "yaxis": "y"
        },
        {
         "customdata": [
          [
           "Animalia",
           "Cnidaria",
           "Anthozoa",
           "Scleractinia",
           "Dendrophylliidae",
           "Turbinaria reniformis",
           "Yellow Cabbage Coral"
          ]
         ],
         "hovertemplate": "Species=%{y}<br>Genus=%{x}<br>kingdom=%{customdata[0]}<br>phylum=%{customdata[1]}<br>class=%{customdata[2]}<br>order=%{customdata[3]}<br>family=%{customdata[4]}<br>sciName=%{customdata[5]}<br>common=%{customdata[6]}<extra></extra>",
         "legendgroup": "reniformis",
         "marker": {
          "color": "#B6E880",
          "symbol": "circle"
         },
         "mode": "markers",
         "name": "reniformis",
         "orientation": "v",
         "showlegend": true,
         "type": "scatter",
         "x": [
          "Turbinaria"
         ],
         "xaxis": "x",
         "y": [
          "reniformis"
         ],
         "yaxis": "y"
        },
        {
         "customdata": [
          [
           "Animalia",
           "Chordata",
           "Aves",
           "Passeriformes",
           "Thraupidae",
           "Gubernatrix cristata",
           "Yellow Cardinal"
          ]
         ],
         "hovertemplate": "Species=%{y}<br>Genus=%{x}<br>kingdom=%{customdata[0]}<br>phylum=%{customdata[1]}<br>class=%{customdata[2]}<br>order=%{customdata[3]}<br>family=%{customdata[4]}<br>sciName=%{customdata[5]}<br>common=%{customdata[6]}<extra></extra>",
         "legendgroup": "cristata",
         "marker": {
          "color": "#FF97FF",
          "symbol": "circle"
         },
         "mode": "markers",
         "name": "cristata",
         "orientation": "v",
         "showlegend": true,
         "type": "scatter",
         "x": [
          "Gubernatrix"
         ],
         "xaxis": "x",
         "y": [
          "cristata"
         ],
         "yaxis": "y"
        },
        {
         "customdata": [
          [
           "Animalia",
           "Chordata",
           "Aves",
           "Psittaciformes",
           "Psittacidae",
           "Amazona collaria",
           "Yellow-billed Amazon"
          ]
         ],
         "hovertemplate": "Species=%{y}<br>Genus=%{x}<br>kingdom=%{customdata[0]}<br>phylum=%{customdata[1]}<br>class=%{customdata[2]}<br>order=%{customdata[3]}<br>family=%{customdata[4]}<br>sciName=%{customdata[5]}<br>common=%{customdata[6]}<extra></extra>",
         "legendgroup": "collaria",
         "marker": {
          "color": "#FECB52",
          "symbol": "circle"
         },
         "mode": "markers",
         "name": "collaria",
         "orientation": "v",
         "showlegend": true,
         "type": "scatter",
         "x": [
          "Amazona"
         ],
         "xaxis": "x",
         "y": [
          "collaria"
         ],
         "yaxis": "y"
        },
        {
         "customdata": [
          [
           "Animalia",
           "Chordata",
           "Aves",
           "Psittaciformes",
           "Psittacidae",
           "Ognorhynchus icterotis",
           "Yellow-eared Parrot"
          ]
         ],
         "hovertemplate": "Species=%{y}<br>Genus=%{x}<br>kingdom=%{customdata[0]}<br>phylum=%{customdata[1]}<br>class=%{customdata[2]}<br>order=%{customdata[3]}<br>family=%{customdata[4]}<br>sciName=%{customdata[5]}<br>common=%{customdata[6]}<extra></extra>",
         "legendgroup": "icterotis",
         "marker": {
          "color": "#636efa",
          "symbol": "circle"
         },
         "mode": "markers",
         "name": "icterotis",
         "orientation": "v",
         "showlegend": true,
         "type": "scatter",
         "x": [
          "Ognorhynchus"
         ],
         "xaxis": "x",
         "y": [
          "icterotis"
         ],
         "yaxis": "y"
        },
        {
         "customdata": [
          [
           "Animalia",
           "Chordata",
           "Reptilia",
           "Testudines",
           "Podocnemididae",
           "Podocnemis unifilis",
           "Yellow-spotted River Turtle"
          ]
         ],
         "hovertemplate": "Species=%{y}<br>Genus=%{x}<br>kingdom=%{customdata[0]}<br>phylum=%{customdata[1]}<br>class=%{customdata[2]}<br>order=%{customdata[3]}<br>family=%{customdata[4]}<br>sciName=%{customdata[5]}<br>common=%{customdata[6]}<extra></extra>",
         "legendgroup": "unifilis",
         "marker": {
          "color": "#EF553B",
          "symbol": "circle"
         },
         "mode": "markers",
         "name": "unifilis",
         "orientation": "v",
         "showlegend": true,
         "type": "scatter",
         "x": [
          "Podocnemis"
         ],
         "xaxis": "x",
         "y": [
          "unifilis"
         ],
         "yaxis": "y"
        },
        {
         "customdata": [
          [
           "Animalia",
           "Chordata",
           "Amphibia",
           "Caudata",
           "Salamandridae",
           "Tylototriton shanjing",
           "Yunnan Newt"
          ]
         ],
         "hovertemplate": "Species=%{y}<br>Genus=%{x}<br>kingdom=%{customdata[0]}<br>phylum=%{customdata[1]}<br>class=%{customdata[2]}<br>order=%{customdata[3]}<br>family=%{customdata[4]}<br>sciName=%{customdata[5]}<br>common=%{customdata[6]}<extra></extra>",
         "legendgroup": "shanjing",
         "marker": {
          "color": "#00cc96",
          "symbol": "circle"
         },
         "mode": "markers",
         "name": "shanjing",
         "orientation": "v",
         "showlegend": true,
         "type": "scatter",
         "x": [
          "Tylototriton"
         ],
         "xaxis": "x",
         "y": [
          "shanjing"
         ],
         "yaxis": "y"
        },
        {
         "customdata": [
          [
           "Animalia",
           "Chordata",
           "Amphibia",
           "Caudata",
           "Salamandridae",
           "Tylototriton verrucosus",
           "Yunnan Newt"
          ]
         ],
         "hovertemplate": "Species=%{y}<br>Genus=%{x}<br>kingdom=%{customdata[0]}<br>phylum=%{customdata[1]}<br>class=%{customdata[2]}<br>order=%{customdata[3]}<br>family=%{customdata[4]}<br>sciName=%{customdata[5]}<br>common=%{customdata[6]}<extra></extra>",
         "legendgroup": "verrucosus",
         "marker": {
          "color": "#ab63fa",
          "symbol": "circle"
         },
         "mode": "markers",
         "name": "verrucosus",
         "orientation": "v",
         "showlegend": true,
         "type": "scatter",
         "x": [
          "Tylototriton"
         ],
         "xaxis": "x",
         "y": [
          "verrucosus"
         ],
         "yaxis": "y"
        },
        {
         "customdata": [
          [
           "Animalia",
           "Chordata",
           "Mammalia",
           "Primates",
           "Cercopithecidae",
           "Piliocolobus kirkii",
           "Zanzibar Red Colobus"
          ]
         ],
         "hovertemplate": "Species=%{y}<br>Genus=%{x}<br>kingdom=%{customdata[0]}<br>phylum=%{customdata[1]}<br>class=%{customdata[2]}<br>order=%{customdata[3]}<br>family=%{customdata[4]}<br>sciName=%{customdata[5]}<br>common=%{customdata[6]}<extra></extra>",
         "legendgroup": "kirkii",
         "marker": {
          "color": "#FFA15A",
          "symbol": "circle"
         },
         "mode": "markers",
         "name": "kirkii",
         "orientation": "v",
         "showlegend": true,
         "type": "scatter",
         "x": [
          "Piliocolobus"
         ],
         "xaxis": "x",
         "y": [
          "kirkii"
         ],
         "yaxis": "y"
        }
       ],
       "layout": {
        "legend": {
         "title": {
          "text": "Species"
         },
         "tracegroupgap": 0
        },
        "template": {
         "data": {
          "bar": [
           {
            "error_x": {
             "color": "#2a3f5f"
            },
            "error_y": {
             "color": "#2a3f5f"
            },
            "marker": {
             "line": {
              "color": "#E5ECF6",
              "width": 0.5
             },
             "pattern": {
              "fillmode": "overlay",
              "size": 10,
              "solidity": 0.2
             }
            },
            "type": "bar"
           }
          ],
          "barpolar": [
           {
            "marker": {
             "line": {
              "color": "#E5ECF6",
              "width": 0.5
             },
             "pattern": {
              "fillmode": "overlay",
              "size": 10,
              "solidity": 0.2
             }
            },
            "type": "barpolar"
           }
          ],
          "carpet": [
           {
            "aaxis": {
             "endlinecolor": "#2a3f5f",
             "gridcolor": "white",
             "linecolor": "white",
             "minorgridcolor": "white",
             "startlinecolor": "#2a3f5f"
            },
            "baxis": {
             "endlinecolor": "#2a3f5f",
             "gridcolor": "white",
             "linecolor": "white",
             "minorgridcolor": "white",
             "startlinecolor": "#2a3f5f"
            },
            "type": "carpet"
           }
          ],
          "choropleth": [
           {
            "colorbar": {
             "outlinewidth": 0,
             "ticks": ""
            },
            "type": "choropleth"
           }
          ],
          "contour": [
           {
            "colorbar": {
             "outlinewidth": 0,
             "ticks": ""
            },
            "colorscale": [
             [
              0,
              "#0d0887"
             ],
             [
              0.1111111111111111,
              "#46039f"
             ],
             [
              0.2222222222222222,
              "#7201a8"
             ],
             [
              0.3333333333333333,
              "#9c179e"
             ],
             [
              0.4444444444444444,
              "#bd3786"
             ],
             [
              0.5555555555555556,
              "#d8576b"
             ],
             [
              0.6666666666666666,
              "#ed7953"
             ],
             [
              0.7777777777777778,
              "#fb9f3a"
             ],
             [
              0.8888888888888888,
              "#fdca26"
             ],
             [
              1,
              "#f0f921"
             ]
            ],
            "type": "contour"
           }
          ],
          "contourcarpet": [
           {
            "colorbar": {
             "outlinewidth": 0,
             "ticks": ""
            },
            "type": "contourcarpet"
           }
          ],
          "heatmap": [
           {
            "colorbar": {
             "outlinewidth": 0,
             "ticks": ""
            },
            "colorscale": [
             [
              0,
              "#0d0887"
             ],
             [
              0.1111111111111111,
              "#46039f"
             ],
             [
              0.2222222222222222,
              "#7201a8"
             ],
             [
              0.3333333333333333,
              "#9c179e"
             ],
             [
              0.4444444444444444,
              "#bd3786"
             ],
             [
              0.5555555555555556,
              "#d8576b"
             ],
             [
              0.6666666666666666,
              "#ed7953"
             ],
             [
              0.7777777777777778,
              "#fb9f3a"
             ],
             [
              0.8888888888888888,
              "#fdca26"
             ],
             [
              1,
              "#f0f921"
             ]
            ],
            "type": "heatmap"
           }
          ],
          "heatmapgl": [
           {
            "colorbar": {
             "outlinewidth": 0,
             "ticks": ""
            },
            "colorscale": [
             [
              0,
              "#0d0887"
             ],
             [
              0.1111111111111111,
              "#46039f"
             ],
             [
              0.2222222222222222,
              "#7201a8"
             ],
             [
              0.3333333333333333,
              "#9c179e"
             ],
             [
              0.4444444444444444,
              "#bd3786"
             ],
             [
              0.5555555555555556,
              "#d8576b"
             ],
             [
              0.6666666666666666,
              "#ed7953"
             ],
             [
              0.7777777777777778,
              "#fb9f3a"
             ],
             [
              0.8888888888888888,
              "#fdca26"
             ],
             [
              1,
              "#f0f921"
             ]
            ],
            "type": "heatmapgl"
           }
          ],
          "histogram": [
           {
            "marker": {
             "pattern": {
              "fillmode": "overlay",
              "size": 10,
              "solidity": 0.2
             }
            },
            "type": "histogram"
           }
          ],
          "histogram2d": [
           {
            "colorbar": {
             "outlinewidth": 0,
             "ticks": ""
            },
            "colorscale": [
             [
              0,
              "#0d0887"
             ],
             [
              0.1111111111111111,
              "#46039f"
             ],
             [
              0.2222222222222222,
              "#7201a8"
             ],
             [
              0.3333333333333333,
              "#9c179e"
             ],
             [
              0.4444444444444444,
              "#bd3786"
             ],
             [
              0.5555555555555556,
              "#d8576b"
             ],
             [
              0.6666666666666666,
              "#ed7953"
             ],
             [
              0.7777777777777778,
              "#fb9f3a"
             ],
             [
              0.8888888888888888,
              "#fdca26"
             ],
             [
              1,
              "#f0f921"
             ]
            ],
            "type": "histogram2d"
           }
          ],
          "histogram2dcontour": [
           {
            "colorbar": {
             "outlinewidth": 0,
             "ticks": ""
            },
            "colorscale": [
             [
              0,
              "#0d0887"
             ],
             [
              0.1111111111111111,
              "#46039f"
             ],
             [
              0.2222222222222222,
              "#7201a8"
             ],
             [
              0.3333333333333333,
              "#9c179e"
             ],
             [
              0.4444444444444444,
              "#bd3786"
             ],
             [
              0.5555555555555556,
              "#d8576b"
             ],
             [
              0.6666666666666666,
              "#ed7953"
             ],
             [
              0.7777777777777778,
              "#fb9f3a"
             ],
             [
              0.8888888888888888,
              "#fdca26"
             ],
             [
              1,
              "#f0f921"
             ]
            ],
            "type": "histogram2dcontour"
           }
          ],
          "mesh3d": [
           {
            "colorbar": {
             "outlinewidth": 0,
             "ticks": ""
            },
            "type": "mesh3d"
           }
          ],
          "parcoords": [
           {
            "line": {
             "colorbar": {
              "outlinewidth": 0,
              "ticks": ""
             }
            },
            "type": "parcoords"
           }
          ],
          "pie": [
           {
            "automargin": true,
            "type": "pie"
           }
          ],
          "scatter": [
           {
            "fillpattern": {
             "fillmode": "overlay",
             "size": 10,
             "solidity": 0.2
            },
            "type": "scatter"
           }
          ],
          "scatter3d": [
           {
            "line": {
             "colorbar": {
              "outlinewidth": 0,
              "ticks": ""
             }
            },
            "marker": {
             "colorbar": {
              "outlinewidth": 0,
              "ticks": ""
             }
            },
            "type": "scatter3d"
           }
          ],
          "scattercarpet": [
           {
            "marker": {
             "colorbar": {
              "outlinewidth": 0,
              "ticks": ""
             }
            },
            "type": "scattercarpet"
           }
          ],
          "scattergeo": [
           {
            "marker": {
             "colorbar": {
              "outlinewidth": 0,
              "ticks": ""
             }
            },
            "type": "scattergeo"
           }
          ],
          "scattergl": [
           {
            "marker": {
             "colorbar": {
              "outlinewidth": 0,
              "ticks": ""
             }
            },
            "type": "scattergl"
           }
          ],
          "scattermapbox": [
           {
            "marker": {
             "colorbar": {
              "outlinewidth": 0,
              "ticks": ""
             }
            },
            "type": "scattermapbox"
           }
          ],
          "scatterpolar": [
           {
            "marker": {
             "colorbar": {
              "outlinewidth": 0,
              "ticks": ""
             }
            },
            "type": "scatterpolar"
           }
          ],
          "scatterpolargl": [
           {
            "marker": {
             "colorbar": {
              "outlinewidth": 0,
              "ticks": ""
             }
            },
            "type": "scatterpolargl"
           }
          ],
          "scatterternary": [
           {
            "marker": {
             "colorbar": {
              "outlinewidth": 0,
              "ticks": ""
             }
            },
            "type": "scatterternary"
           }
          ],
          "surface": [
           {
            "colorbar": {
             "outlinewidth": 0,
             "ticks": ""
            },
            "colorscale": [
             [
              0,
              "#0d0887"
             ],
             [
              0.1111111111111111,
              "#46039f"
             ],
             [
              0.2222222222222222,
              "#7201a8"
             ],
             [
              0.3333333333333333,
              "#9c179e"
             ],
             [
              0.4444444444444444,
              "#bd3786"
             ],
             [
              0.5555555555555556,
              "#d8576b"
             ],
             [
              0.6666666666666666,
              "#ed7953"
             ],
             [
              0.7777777777777778,
              "#fb9f3a"
             ],
             [
              0.8888888888888888,
              "#fdca26"
             ],
             [
              1,
              "#f0f921"
             ]
            ],
            "type": "surface"
           }
          ],
          "table": [
           {
            "cells": {
             "fill": {
              "color": "#EBF0F8"
             },
             "line": {
              "color": "white"
             }
            },
            "header": {
             "fill": {
              "color": "#C8D4E3"
             },
             "line": {
              "color": "white"
             }
            },
            "type": "table"
           }
          ]
         },
         "layout": {
          "annotationdefaults": {
           "arrowcolor": "#2a3f5f",
           "arrowhead": 0,
           "arrowwidth": 1
          },
          "autotypenumbers": "strict",
          "coloraxis": {
           "colorbar": {
            "outlinewidth": 0,
            "ticks": ""
           }
          },
          "colorscale": {
           "diverging": [
            [
             0,
             "#8e0152"
            ],
            [
             0.1,
             "#c51b7d"
            ],
            [
             0.2,
             "#de77ae"
            ],
            [
             0.3,
             "#f1b6da"
            ],
            [
             0.4,
             "#fde0ef"
            ],
            [
             0.5,
             "#f7f7f7"
            ],
            [
             0.6,
             "#e6f5d0"
            ],
            [
             0.7,
             "#b8e186"
            ],
            [
             0.8,
             "#7fbc41"
            ],
            [
             0.9,
             "#4d9221"
            ],
            [
             1,
             "#276419"
            ]
           ],
           "sequential": [
            [
             0,
             "#0d0887"
            ],
            [
             0.1111111111111111,
             "#46039f"
            ],
            [
             0.2222222222222222,
             "#7201a8"
            ],
            [
             0.3333333333333333,
             "#9c179e"
            ],
            [
             0.4444444444444444,
             "#bd3786"
            ],
            [
             0.5555555555555556,
             "#d8576b"
            ],
            [
             0.6666666666666666,
             "#ed7953"
            ],
            [
             0.7777777777777778,
             "#fb9f3a"
            ],
            [
             0.8888888888888888,
             "#fdca26"
            ],
            [
             1,
             "#f0f921"
            ]
           ],
           "sequentialminus": [
            [
             0,
             "#0d0887"
            ],
            [
             0.1111111111111111,
             "#46039f"
            ],
            [
             0.2222222222222222,
             "#7201a8"
            ],
            [
             0.3333333333333333,
             "#9c179e"
            ],
            [
             0.4444444444444444,
             "#bd3786"
            ],
            [
             0.5555555555555556,
             "#d8576b"
            ],
            [
             0.6666666666666666,
             "#ed7953"
            ],
            [
             0.7777777777777778,
             "#fb9f3a"
            ],
            [
             0.8888888888888888,
             "#fdca26"
            ],
            [
             1,
             "#f0f921"
            ]
           ]
          },
          "colorway": [
           "#636efa",
           "#EF553B",
           "#00cc96",
           "#ab63fa",
           "#FFA15A",
           "#19d3f3",
           "#FF6692",
           "#B6E880",
           "#FF97FF",
           "#FECB52"
          ],
          "font": {
           "color": "#2a3f5f"
          },
          "geo": {
           "bgcolor": "white",
           "lakecolor": "white",
           "landcolor": "#E5ECF6",
           "showlakes": true,
           "showland": true,
           "subunitcolor": "white"
          },
          "hoverlabel": {
           "align": "left"
          },
          "hovermode": "closest",
          "mapbox": {
           "style": "light"
          },
          "paper_bgcolor": "white",
          "plot_bgcolor": "#E5ECF6",
          "polar": {
           "angularaxis": {
            "gridcolor": "white",
            "linecolor": "white",
            "ticks": ""
           },
           "bgcolor": "#E5ECF6",
           "radialaxis": {
            "gridcolor": "white",
            "linecolor": "white",
            "ticks": ""
           }
          },
          "scene": {
           "xaxis": {
            "backgroundcolor": "#E5ECF6",
            "gridcolor": "white",
            "gridwidth": 2,
            "linecolor": "white",
            "showbackground": true,
            "ticks": "",
            "zerolinecolor": "white"
           },
           "yaxis": {
            "backgroundcolor": "#E5ECF6",
            "gridcolor": "white",
            "gridwidth": 2,
            "linecolor": "white",
            "showbackground": true,
            "ticks": "",
            "zerolinecolor": "white"
           },
           "zaxis": {
            "backgroundcolor": "#E5ECF6",
            "gridcolor": "white",
            "gridwidth": 2,
            "linecolor": "white",
            "showbackground": true,
            "ticks": "",
            "zerolinecolor": "white"
           }
          },
          "shapedefaults": {
           "line": {
            "color": "#2a3f5f"
           }
          },
          "ternary": {
           "aaxis": {
            "gridcolor": "white",
            "linecolor": "white",
            "ticks": ""
           },
           "baxis": {
            "gridcolor": "white",
            "linecolor": "white",
            "ticks": ""
           },
           "bgcolor": "#E5ECF6",
           "caxis": {
            "gridcolor": "white",
            "linecolor": "white",
            "ticks": ""
           }
          },
          "title": {
           "x": 0.05
          },
          "xaxis": {
           "automargin": true,
           "gridcolor": "white",
           "linecolor": "white",
           "ticks": "",
           "title": {
            "standoff": 15
           },
           "zerolinecolor": "white",
           "zerolinewidth": 2
          },
          "yaxis": {
           "automargin": true,
           "gridcolor": "white",
           "linecolor": "white",
           "ticks": "",
           "title": {
            "standoff": 15
           },
           "zerolinecolor": "white",
           "zerolinewidth": 2
          }
         }
        },
        "title": {
         "text": "Scatter Plot of Rare Species by Genus and Species"
        },
        "xaxis": {
         "anchor": "y",
         "domain": [
          0,
          1
         ],
         "title": {
          "text": "Genus"
         }
        },
        "yaxis": {
         "anchor": "x",
         "categoryarray": [
          "kirkii",
          "verrucosus",
          "shanjing",
          "unifilis",
          "icterotis",
          "collaria",
          "cristata",
          "reniformis",
          "undulatus",
          "penicillata",
          "lateralis",
          "ensipennis",
          "plagiosum",
          "comatus",
          "aequinoctialis",
          "albocristata",
          "multituberculata",
          "chalumnae",
          "wynaadensis",
          "irrorata",
          "vinacea",
          "packardi",
          "fusca",
          "hybridus",
          "variabilis",
          "deckenii",
          "parvidens",
          "cuvier",
          "maculatus",
          "picticaudata",
          "vulpinus",
          "pachyrhyncha",
          "amphichaenus",
          "rathbuni",
          "tequila",
          "strigosa",
          "swinhoii",
          "discolor",
          "cucullata",
          "javanica",
          "abelii",
          "benschi",
          "perstriatus",
          "hyaena",
          "stellatus",
          "asterias",
          "acuminata",
          "millepora",
          "simoni",
          "aquila",
          "unicolor",
          "spinosissimus",
          "exesa",
          "fischeri",
          "waltl",
          "latifrons",
          "goodei",
          "auriculatus",
          "pectinata",
          "canadensis",
          "vinaceigula",
          "stormi",
          "leucopus",
          "albimarginatus",
          "bilinearis",
          "falciformis",
          "sierrae",
          "graminea",
          "acutidens",
          "sibirica",
          "syndactylus",
          "platorynchus",
          "albatrus",
          "leptosomus",
          "novaeseelandiae",
          "rex",
          "shenandoah",
          "sechellarum",
          "sumatraensis",
          "aeneus",
          "dammah",
          "lewini",
          "bivittatus",
          "moluccensis",
          "luciae",
          "tatarica",
          "bonairensis",
          "nipalensis",
          "meyeni",
          "centroura",
          "bitectus",
          "laticeps",
          "roei",
          "oculifera",
          "trifascialis",
          "capitata",
          "nasicornis",
          "tennentii",
          "reevesii",
          "belzebul",
          "marcanoi",
          "ruficollis",
          "rivularis",
          "sanguinostigma",
          "morio",
          "rubra",
          "theischingeri",
          "rainfordi",
          "radiata",
          "vetula",
          "bonnali",
          "pygmaea",
          "pygmaeus",
          "tuberculata",
          "monteverde",
          "speculiferus",
          "pedo",
          "chrysops",
          "nasus",
          "laminirostris",
          "glyphus",
          "fai",
          "ananas",
          "neokohli",
          "pelagicus",
          "pearsoni",
          "vermiculatus",
          "zeteki",
          "albus",
          "undulata",
          "jubata",
          "pretiosa",
          "wrighti",
          "deiroleucus",
          "chrysogaster",
          "olympicus",
          "johnstoni",
          "astreata",
          "ogouensis",
          "moseleyi",
          "hypoxanthus",
          "ursinus",
          "thomasi",
          "nilgiriensis",
          "nilghiriensis",
          "gwatkinsii",
          "commerson",
          "narcondami",
          "villaviscensio",
          "ambreense",
          "morrisoni",
          "mona",
          "thibetana",
          "cinerea",
          "mexicana",
          "auratum",
          "mexicanus",
          "mercator",
          "siderea",
          "palustris",
          "megarhyncha",
          "ocellata",
          "vociferoides",
          "macgregori",
          "chrysolophus",
          "humilis",
          "kaiseri",
          "reidi",
          "annularis",
          "brunus",
          "palpebrata",
          "lhoesti",
          "delicatissima",
          "javanicus",
          "lemur",
          "lamarcki",
          "jugger",
          "koopmani",
          "clivosa",
          "licha",
          "kirtlandii",
          "kapalensis",
          "habroptila",
          "jenkinsii",
          "quelpaertensis",
          "japonica",
          "japonicus",
          "eburnea",
          "brevirostris",
          "hypophthalmus",
          "siamensis",
          "carteri",
          "albicollis",
          "tecta",
          "crassicaudata",
          "aduncus",
          "plumbea",
          "inca",
          "imitator",
          "coccinea",
          "echinata",
          "iberica",
          "schreiberi",
          "huttoni",
          "humboldti",
          "johnii",
          "cucullatus",
          "cay",
          "macdonaldi",
          "pistillata",
          "hongkongensis",
          "heliopora",
          "barbouri",
          "jemlahicus",
          "herrmanni",
          "prevostii",
          "alai",
          "hartwegi",
          "harpyja",
          "hardwickii",
          "ancora",
          "lugubris",
          "guianensis",
          "chrysostoma",
          "amblyrhynchos",
          "lepidum",
          "olivacea",
          "dubius",
          "recurvirostris",
          "media",
          "bicornis",
          "mokarran",
          "granulatus",
          "griseimembra",
          "lemurinus",
          "capriscus",
          "microcephalus",
          "grisescens",
          "lewisi",
          "vittatus",
          "lusitanica",
          "aurantiaca",
          "giraffa",
          "brasiliensis",
          "cervicornis",
          "gigas",
          "dahlbomii",
          "gangeticus",
          "quercinus",
          "fascicularis",
          "mendiculus",
          "galapagoensis",
          "attu",
          "blainvillei",
          "quadragintus",
          "blewitti",
          "insculpta",
          "squamosa",
          "chalybeus",
          "plantarius",
          "canagicus",
          "callorynchus",
          "formosa",
          "vociferus",
          "leibii",
          "auratus",
          "funereus",
          "obscurus",
          "venatrix",
          "stokesii",
          "acanthias",
          "macrops",
          "guttata",
          "macularius",
          "deppii",
          "viridis",
          "darwinii",
          "certus",
          "cyanopterus",
          "rhombifer",
          "coronatus",
          "crotchii",
          "melinogaster",
          "insanus",
          "oedipus",
          "cooki",
          "transitionalis",
          "polyphekadion",
          "elephas",
          "pipile",
          "fungites",
          "helmrichi",
          "korros",
          "davidianus",
          "sumatranus",
          "ochrogaster",
          "chrysomelinus",
          "flavescens",
          "cascadae",
          "coprotheres",
          "triceraticus",
          "zebra",
          "marmorata",
          "decussata",
          "lacrymalis",
          "freminvillei",
          "confluentus",
          "aurita",
          "rufus",
          "fulvus",
          "breviceps",
          "tahitiensis",
          "maximiliani",
          "florida",
          "alba",
          "tiburo",
          "vulpes",
          "muhlenbergii",
          "griseus",
          "cepedianus",
          "cyanocephala",
          "pastinaca",
          "caerulescens",
          "intricatus",
          "malacorhynchos",
          "coerulea",
          "nordmanni",
          "melanopterus",
          "schoenleinii",
          "acronotus",
          "albostriatus",
          "melalophos",
          "atricapilla",
          "pileata",
          "melanonotus",
          "novaezelandiae",
          "paniscus",
          "glacialis",
          "parkinsoni",
          "caraya",
          "bonaci",
          "nigritus",
          "niger",
          "schultei",
          "nigerrimus",
          "macrolepis",
          "macrocephala",
          "bicknelli",
          "magnirostris",
          "maximus",
          "pallidus",
          "baracoae",
          "standingi",
          "melanoleuca",
          "sturio",
          "regius",
          "bakeri",
          "bairdii",
          "murina",
          "madagascariensis",
          "mexicanum",
          "poiciloptilus",
          "austeni",
          "chlororhynchos",
          "kempii",
          "sylhetensis",
          "tephrosceles",
          "californicus",
          "leucoryx",
          "bonaerensis",
          "elecebra",
          "squatina",
          "ornatus",
          "platessoides",
          "alpinus",
          "temminckii",
          "algirus",
          "aleuticus",
          "agilis",
          "sulcata",
          "triunguis",
          "sebae",
          "capensis",
          "nasomaculatus",
          "digitifera"
         ],
         "categoryorder": "array",
         "domain": [
          0,
          1
         ],
         "title": {
          "text": "Species"
         }
        }
       }
      }
     },
     "metadata": {},
     "output_type": "display_data"
    }
   ],
   "source": [
    "#Interractive Scatter plot \n",
    "import plotly.express as px\n",
    "\n",
    "fig = px.scatter(dta, \n",
    "                 x='genus', \n",
    "                 y='species',\n",
    "                 color='species',  \n",
    "                 hover_data=['kingdom', 'phylum', 'class', 'order', 'family', 'sciName', 'common'],\n",
    "                 title=\"Scatter Plot of Rare Species by Genus and Species\",\n",
    "                 labels={'genus': 'Genus', 'species': 'Species'})\n",
    "\n",
    "fig.show()"
   ]
  },
  {
   "cell_type": "code",
   "execution_count": null,
   "id": "2b40c5e6",
   "metadata": {},
   "outputs": [],
   "source": []
  }
 ],
 "metadata": {
  "kernelspec": {
   "display_name": "Python 3 (ipykernel)",
   "language": "python",
   "name": "python3"
  },
  "language_info": {
   "codemirror_mode": {
    "name": "ipython",
    "version": 3
   },
   "file_extension": ".py",
   "mimetype": "text/x-python",
   "name": "python",
   "nbconvert_exporter": "python",
   "pygments_lexer": "ipython3",
   "version": "3.12.4"
  }
 },
 "nbformat": 4,
 "nbformat_minor": 5
}
