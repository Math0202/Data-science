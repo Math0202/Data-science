{
 "cells": [
  {
   "cell_type": "code",
   "execution_count": 61,
   "id": "023dde73-c2ba-4865-a0a3-938352285c64",
   "metadata": {},
   "outputs": [],
   "source": [
    "import pandas as pd\n",
    "from sklearn.metrics import classification_report\n",
    "from sklearn.metrics import confusion_matrix\n",
    "from sklearn.metrics import accuracy_score\n",
    "from sklearn import model_selection\n",
    "from sklearn.model_selection import KFold\n",
    "import matplotlib.pyplot as plt"
   ]
  },
  {
   "cell_type": "code",
   "execution_count": 62,
   "id": "3df9739a-9be7-46e5-a897-460bbdf0f5b1",
   "metadata": {},
   "outputs": [],
   "source": [
    "from sklearn.linear_model import LogisticRegression\n",
    "from sklearn.tree import DecisionTreeClassifier\n",
    "from sklearn.neighbors import KNeighborsClassifier\n",
    "from sklearn.discriminant_analysis import LinearDiscriminantAnalysis\n",
    "from sklearn.naive_bayes import GaussianNB\n",
    "from sklearn.svm import SVC\n",
    "from sklearn.neighbors import KNeighborsClassifier\n",
    "\n",
    "from sklearn.model_selection import train_test_split, KFold, cross_val_score\n",
    "from sklearn.preprocessing import LabelEncoder\n",
    "from sklearn.linear_model import LogisticRegression"
   ]
  },
  {
   "cell_type": "markdown",
   "id": "8a4501e9",
   "metadata": {},
   "source": [
    "# For handling a bigger data set we need to scale it with bellow packages"
   ]
  },
  {
   "cell_type": "code",
   "execution_count": 63,
   "id": "8aca47e7",
   "metadata": {},
   "outputs": [
    {
     "ename": "KeyboardInterrupt",
     "evalue": "",
     "output_type": "error",
     "traceback": [
      "\u001b[1;31m---------------------------------------------------------------------------\u001b[0m",
      "\u001b[1;31mTimeoutError\u001b[0m                              Traceback (most recent call last)",
      "File \u001b[1;32mc:\\Users\\Tangeni Matheus\\AppData\\Local\\Programs\\Python\\Python312\\Lib\\site-packages\\urllib3\\util\\connection.py:73\u001b[0m, in \u001b[0;36mcreate_connection\u001b[1;34m(address, timeout, source_address, socket_options)\u001b[0m\n\u001b[0;32m     72\u001b[0m     sock\u001b[38;5;241m.\u001b[39mbind(source_address)\n\u001b[1;32m---> 73\u001b[0m \u001b[43msock\u001b[49m\u001b[38;5;241;43m.\u001b[39;49m\u001b[43mconnect\u001b[49m\u001b[43m(\u001b[49m\u001b[43msa\u001b[49m\u001b[43m)\u001b[49m\n\u001b[0;32m     74\u001b[0m \u001b[38;5;66;03m# Break explicitly a reference cycle\u001b[39;00m\n",
      "\u001b[1;31mTimeoutError\u001b[0m: [WinError 10060] A connection attempt failed because the connected party did not properly respond after a period of time, or established connection failed because connected host has failed to respond",
      "\nDuring handling of the above exception, another exception occurred:\n",
      "\u001b[1;31mKeyboardInterrupt\u001b[0m                         Traceback (most recent call last)",
      "Cell \u001b[1;32mIn[63], line 4\u001b[0m\n\u001b[0;32m      1\u001b[0m \u001b[38;5;28;01mfrom\u001b[39;00m \u001b[38;5;21;01mdatasets\u001b[39;00m \u001b[38;5;28;01mimport\u001b[39;00m load_dataset\n\u001b[0;32m      3\u001b[0m \u001b[38;5;66;03m# Load the dataset with a specified number of rows\u001b[39;00m\n\u001b[1;32m----> 4\u001b[0m ds \u001b[38;5;241m=\u001b[39m \u001b[43mload_dataset\u001b[49m\u001b[43m(\u001b[49m\u001b[38;5;124;43m\"\u001b[39;49m\u001b[38;5;124;43mimageomics/rare-species\u001b[39;49m\u001b[38;5;124;43m\"\u001b[39;49m\u001b[43m,\u001b[49m\u001b[43m \u001b[49m\u001b[43msplit\u001b[49m\u001b[38;5;241;43m=\u001b[39;49m\u001b[38;5;124;43mf\u001b[39;49m\u001b[38;5;124;43m'\u001b[39;49m\u001b[38;5;124;43mtrain[:1500]\u001b[39;49m\u001b[38;5;124;43m'\u001b[39;49m\u001b[43m)\u001b[49m\n",
      "File \u001b[1;32mc:\\Users\\Tangeni Matheus\\AppData\\Local\\Programs\\Python\\Python312\\Lib\\site-packages\\datasets\\load.py:2074\u001b[0m, in \u001b[0;36mload_dataset\u001b[1;34m(path, name, data_dir, data_files, split, cache_dir, features, download_config, download_mode, verification_mode, keep_in_memory, save_infos, revision, token, streaming, num_proc, storage_options, trust_remote_code, **config_kwargs)\u001b[0m\n\u001b[0;32m   2069\u001b[0m verification_mode \u001b[38;5;241m=\u001b[39m VerificationMode(\n\u001b[0;32m   2070\u001b[0m     (verification_mode \u001b[38;5;129;01mor\u001b[39;00m VerificationMode\u001b[38;5;241m.\u001b[39mBASIC_CHECKS) \u001b[38;5;28;01mif\u001b[39;00m \u001b[38;5;129;01mnot\u001b[39;00m save_infos \u001b[38;5;28;01melse\u001b[39;00m VerificationMode\u001b[38;5;241m.\u001b[39mALL_CHECKS\n\u001b[0;32m   2071\u001b[0m )\n\u001b[0;32m   2073\u001b[0m \u001b[38;5;66;03m# Create a dataset builder\u001b[39;00m\n\u001b[1;32m-> 2074\u001b[0m builder_instance \u001b[38;5;241m=\u001b[39m \u001b[43mload_dataset_builder\u001b[49m\u001b[43m(\u001b[49m\n\u001b[0;32m   2075\u001b[0m \u001b[43m    \u001b[49m\u001b[43mpath\u001b[49m\u001b[38;5;241;43m=\u001b[39;49m\u001b[43mpath\u001b[49m\u001b[43m,\u001b[49m\n\u001b[0;32m   2076\u001b[0m \u001b[43m    \u001b[49m\u001b[43mname\u001b[49m\u001b[38;5;241;43m=\u001b[39;49m\u001b[43mname\u001b[49m\u001b[43m,\u001b[49m\n\u001b[0;32m   2077\u001b[0m \u001b[43m    \u001b[49m\u001b[43mdata_dir\u001b[49m\u001b[38;5;241;43m=\u001b[39;49m\u001b[43mdata_dir\u001b[49m\u001b[43m,\u001b[49m\n\u001b[0;32m   2078\u001b[0m \u001b[43m    \u001b[49m\u001b[43mdata_files\u001b[49m\u001b[38;5;241;43m=\u001b[39;49m\u001b[43mdata_files\u001b[49m\u001b[43m,\u001b[49m\n\u001b[0;32m   2079\u001b[0m \u001b[43m    \u001b[49m\u001b[43mcache_dir\u001b[49m\u001b[38;5;241;43m=\u001b[39;49m\u001b[43mcache_dir\u001b[49m\u001b[43m,\u001b[49m\n\u001b[0;32m   2080\u001b[0m \u001b[43m    \u001b[49m\u001b[43mfeatures\u001b[49m\u001b[38;5;241;43m=\u001b[39;49m\u001b[43mfeatures\u001b[49m\u001b[43m,\u001b[49m\n\u001b[0;32m   2081\u001b[0m \u001b[43m    \u001b[49m\u001b[43mdownload_config\u001b[49m\u001b[38;5;241;43m=\u001b[39;49m\u001b[43mdownload_config\u001b[49m\u001b[43m,\u001b[49m\n\u001b[0;32m   2082\u001b[0m \u001b[43m    \u001b[49m\u001b[43mdownload_mode\u001b[49m\u001b[38;5;241;43m=\u001b[39;49m\u001b[43mdownload_mode\u001b[49m\u001b[43m,\u001b[49m\n\u001b[0;32m   2083\u001b[0m \u001b[43m    \u001b[49m\u001b[43mrevision\u001b[49m\u001b[38;5;241;43m=\u001b[39;49m\u001b[43mrevision\u001b[49m\u001b[43m,\u001b[49m\n\u001b[0;32m   2084\u001b[0m \u001b[43m    \u001b[49m\u001b[43mtoken\u001b[49m\u001b[38;5;241;43m=\u001b[39;49m\u001b[43mtoken\u001b[49m\u001b[43m,\u001b[49m\n\u001b[0;32m   2085\u001b[0m \u001b[43m    \u001b[49m\u001b[43mstorage_options\u001b[49m\u001b[38;5;241;43m=\u001b[39;49m\u001b[43mstorage_options\u001b[49m\u001b[43m,\u001b[49m\n\u001b[0;32m   2086\u001b[0m \u001b[43m    \u001b[49m\u001b[43mtrust_remote_code\u001b[49m\u001b[38;5;241;43m=\u001b[39;49m\u001b[43mtrust_remote_code\u001b[49m\u001b[43m,\u001b[49m\n\u001b[0;32m   2087\u001b[0m \u001b[43m    \u001b[49m\u001b[43m_require_default_config_name\u001b[49m\u001b[38;5;241;43m=\u001b[39;49m\u001b[43mname\u001b[49m\u001b[43m \u001b[49m\u001b[38;5;129;43;01mis\u001b[39;49;00m\u001b[43m \u001b[49m\u001b[38;5;28;43;01mNone\u001b[39;49;00m\u001b[43m,\u001b[49m\n\u001b[0;32m   2088\u001b[0m \u001b[43m    \u001b[49m\u001b[38;5;241;43m*\u001b[39;49m\u001b[38;5;241;43m*\u001b[39;49m\u001b[43mconfig_kwargs\u001b[49m\u001b[43m,\u001b[49m\n\u001b[0;32m   2089\u001b[0m \u001b[43m\u001b[49m\u001b[43m)\u001b[49m\n\u001b[0;32m   2091\u001b[0m \u001b[38;5;66;03m# Return iterable dataset in case of streaming\u001b[39;00m\n\u001b[0;32m   2092\u001b[0m \u001b[38;5;28;01mif\u001b[39;00m streaming:\n",
      "File \u001b[1;32mc:\\Users\\Tangeni Matheus\\AppData\\Local\\Programs\\Python\\Python312\\Lib\\site-packages\\datasets\\load.py:1795\u001b[0m, in \u001b[0;36mload_dataset_builder\u001b[1;34m(path, name, data_dir, data_files, cache_dir, features, download_config, download_mode, revision, token, storage_options, trust_remote_code, _require_default_config_name, **config_kwargs)\u001b[0m\n\u001b[0;32m   1793\u001b[0m     download_config \u001b[38;5;241m=\u001b[39m download_config\u001b[38;5;241m.\u001b[39mcopy() \u001b[38;5;28;01mif\u001b[39;00m download_config \u001b[38;5;28;01melse\u001b[39;00m DownloadConfig()\n\u001b[0;32m   1794\u001b[0m     download_config\u001b[38;5;241m.\u001b[39mstorage_options\u001b[38;5;241m.\u001b[39mupdate(storage_options)\n\u001b[1;32m-> 1795\u001b[0m dataset_module \u001b[38;5;241m=\u001b[39m \u001b[43mdataset_module_factory\u001b[49m\u001b[43m(\u001b[49m\n\u001b[0;32m   1796\u001b[0m \u001b[43m    \u001b[49m\u001b[43mpath\u001b[49m\u001b[43m,\u001b[49m\n\u001b[0;32m   1797\u001b[0m \u001b[43m    \u001b[49m\u001b[43mrevision\u001b[49m\u001b[38;5;241;43m=\u001b[39;49m\u001b[43mrevision\u001b[49m\u001b[43m,\u001b[49m\n\u001b[0;32m   1798\u001b[0m \u001b[43m    \u001b[49m\u001b[43mdownload_config\u001b[49m\u001b[38;5;241;43m=\u001b[39;49m\u001b[43mdownload_config\u001b[49m\u001b[43m,\u001b[49m\n\u001b[0;32m   1799\u001b[0m \u001b[43m    \u001b[49m\u001b[43mdownload_mode\u001b[49m\u001b[38;5;241;43m=\u001b[39;49m\u001b[43mdownload_mode\u001b[49m\u001b[43m,\u001b[49m\n\u001b[0;32m   1800\u001b[0m \u001b[43m    \u001b[49m\u001b[43mdata_dir\u001b[49m\u001b[38;5;241;43m=\u001b[39;49m\u001b[43mdata_dir\u001b[49m\u001b[43m,\u001b[49m\n\u001b[0;32m   1801\u001b[0m \u001b[43m    \u001b[49m\u001b[43mdata_files\u001b[49m\u001b[38;5;241;43m=\u001b[39;49m\u001b[43mdata_files\u001b[49m\u001b[43m,\u001b[49m\n\u001b[0;32m   1802\u001b[0m \u001b[43m    \u001b[49m\u001b[43mcache_dir\u001b[49m\u001b[38;5;241;43m=\u001b[39;49m\u001b[43mcache_dir\u001b[49m\u001b[43m,\u001b[49m\n\u001b[0;32m   1803\u001b[0m \u001b[43m    \u001b[49m\u001b[43mtrust_remote_code\u001b[49m\u001b[38;5;241;43m=\u001b[39;49m\u001b[43mtrust_remote_code\u001b[49m\u001b[43m,\u001b[49m\n\u001b[0;32m   1804\u001b[0m \u001b[43m    \u001b[49m\u001b[43m_require_default_config_name\u001b[49m\u001b[38;5;241;43m=\u001b[39;49m\u001b[43m_require_default_config_name\u001b[49m\u001b[43m,\u001b[49m\n\u001b[0;32m   1805\u001b[0m \u001b[43m    \u001b[49m\u001b[43m_require_custom_configs\u001b[49m\u001b[38;5;241;43m=\u001b[39;49m\u001b[38;5;28;43mbool\u001b[39;49m\u001b[43m(\u001b[49m\u001b[43mconfig_kwargs\u001b[49m\u001b[43m)\u001b[49m\u001b[43m,\u001b[49m\n\u001b[0;32m   1806\u001b[0m \u001b[43m\u001b[49m\u001b[43m)\u001b[49m\n\u001b[0;32m   1807\u001b[0m \u001b[38;5;66;03m# Get dataset builder class from the processing script\u001b[39;00m\n\u001b[0;32m   1808\u001b[0m builder_kwargs \u001b[38;5;241m=\u001b[39m dataset_module\u001b[38;5;241m.\u001b[39mbuilder_kwargs\n",
      "File \u001b[1;32mc:\\Users\\Tangeni Matheus\\AppData\\Local\\Programs\\Python\\Python312\\Lib\\site-packages\\datasets\\load.py:1580\u001b[0m, in \u001b[0;36mdataset_module_factory\u001b[1;34m(path, revision, download_config, download_mode, dynamic_modules_path, data_dir, data_files, cache_dir, trust_remote_code, _require_default_config_name, _require_custom_configs, **download_kwargs)\u001b[0m\n\u001b[0;32m   1578\u001b[0m hf_api \u001b[38;5;241m=\u001b[39m HfApi(config\u001b[38;5;241m.\u001b[39mHF_ENDPOINT)\n\u001b[0;32m   1579\u001b[0m \u001b[38;5;28;01mtry\u001b[39;00m:\n\u001b[1;32m-> 1580\u001b[0m     dataset_info \u001b[38;5;241m=\u001b[39m \u001b[43mhf_api\u001b[49m\u001b[38;5;241;43m.\u001b[39;49m\u001b[43mdataset_info\u001b[49m\u001b[43m(\u001b[49m\n\u001b[0;32m   1581\u001b[0m \u001b[43m        \u001b[49m\u001b[43mrepo_id\u001b[49m\u001b[38;5;241;43m=\u001b[39;49m\u001b[43mpath\u001b[49m\u001b[43m,\u001b[49m\n\u001b[0;32m   1582\u001b[0m \u001b[43m        \u001b[49m\u001b[43mrevision\u001b[49m\u001b[38;5;241;43m=\u001b[39;49m\u001b[43mrevision\u001b[49m\u001b[43m,\u001b[49m\n\u001b[0;32m   1583\u001b[0m \u001b[43m        \u001b[49m\u001b[43mtoken\u001b[49m\u001b[38;5;241;43m=\u001b[39;49m\u001b[43mdownload_config\u001b[49m\u001b[38;5;241;43m.\u001b[39;49m\u001b[43mtoken\u001b[49m\u001b[43m,\u001b[49m\n\u001b[0;32m   1584\u001b[0m \u001b[43m        \u001b[49m\u001b[43mtimeout\u001b[49m\u001b[38;5;241;43m=\u001b[39;49m\u001b[38;5;241;43m100.0\u001b[39;49m\u001b[43m,\u001b[49m\n\u001b[0;32m   1585\u001b[0m \u001b[43m    \u001b[49m\u001b[43m)\u001b[49m\n\u001b[0;32m   1586\u001b[0m \u001b[38;5;28;01mexcept\u001b[39;00m (\n\u001b[0;32m   1587\u001b[0m     OfflineModeIsEnabled,\n\u001b[0;32m   1588\u001b[0m     requests\u001b[38;5;241m.\u001b[39mexceptions\u001b[38;5;241m.\u001b[39mConnectTimeout,\n\u001b[0;32m   1589\u001b[0m     requests\u001b[38;5;241m.\u001b[39mexceptions\u001b[38;5;241m.\u001b[39mConnectionError,\n\u001b[0;32m   1590\u001b[0m ) \u001b[38;5;28;01mas\u001b[39;00m e:\n\u001b[0;32m   1591\u001b[0m     \u001b[38;5;28;01mraise\u001b[39;00m \u001b[38;5;167;01mConnectionError\u001b[39;00m(\u001b[38;5;124mf\u001b[39m\u001b[38;5;124m\"\u001b[39m\u001b[38;5;124mCouldn\u001b[39m\u001b[38;5;124m'\u001b[39m\u001b[38;5;124mt reach \u001b[39m\u001b[38;5;124m'\u001b[39m\u001b[38;5;132;01m{\u001b[39;00mpath\u001b[38;5;132;01m}\u001b[39;00m\u001b[38;5;124m'\u001b[39m\u001b[38;5;124m on the Hub (\u001b[39m\u001b[38;5;132;01m{\u001b[39;00me\u001b[38;5;241m.\u001b[39m\u001b[38;5;18m__class__\u001b[39m\u001b[38;5;241m.\u001b[39m\u001b[38;5;18m__name__\u001b[39m\u001b[38;5;132;01m}\u001b[39;00m\u001b[38;5;124m)\u001b[39m\u001b[38;5;124m\"\u001b[39m) \u001b[38;5;28;01mfrom\u001b[39;00m \u001b[38;5;21;01me\u001b[39;00m\n",
      "File \u001b[1;32mc:\\Users\\Tangeni Matheus\\AppData\\Local\\Programs\\Python\\Python312\\Lib\\site-packages\\huggingface_hub\\utils\\_validators.py:114\u001b[0m, in \u001b[0;36mvalidate_hf_hub_args.<locals>._inner_fn\u001b[1;34m(*args, **kwargs)\u001b[0m\n\u001b[0;32m    111\u001b[0m \u001b[38;5;28;01mif\u001b[39;00m check_use_auth_token:\n\u001b[0;32m    112\u001b[0m     kwargs \u001b[38;5;241m=\u001b[39m smoothly_deprecate_use_auth_token(fn_name\u001b[38;5;241m=\u001b[39mfn\u001b[38;5;241m.\u001b[39m\u001b[38;5;18m__name__\u001b[39m, has_token\u001b[38;5;241m=\u001b[39mhas_token, kwargs\u001b[38;5;241m=\u001b[39mkwargs)\n\u001b[1;32m--> 114\u001b[0m \u001b[38;5;28;01mreturn\u001b[39;00m \u001b[43mfn\u001b[49m\u001b[43m(\u001b[49m\u001b[38;5;241;43m*\u001b[39;49m\u001b[43margs\u001b[49m\u001b[43m,\u001b[49m\u001b[43m \u001b[49m\u001b[38;5;241;43m*\u001b[39;49m\u001b[38;5;241;43m*\u001b[39;49m\u001b[43mkwargs\u001b[49m\u001b[43m)\u001b[49m\n",
      "File \u001b[1;32mc:\\Users\\Tangeni Matheus\\AppData\\Local\\Programs\\Python\\Python312\\Lib\\site-packages\\huggingface_hub\\hf_api.py:2539\u001b[0m, in \u001b[0;36mHfApi.dataset_info\u001b[1;34m(self, repo_id, revision, timeout, files_metadata, expand, token)\u001b[0m\n\u001b[0;32m   2536\u001b[0m \u001b[38;5;28;01mif\u001b[39;00m expand:\n\u001b[0;32m   2537\u001b[0m     params[\u001b[38;5;124m\"\u001b[39m\u001b[38;5;124mexpand\u001b[39m\u001b[38;5;124m\"\u001b[39m] \u001b[38;5;241m=\u001b[39m expand\n\u001b[1;32m-> 2539\u001b[0m r \u001b[38;5;241m=\u001b[39m \u001b[43mget_session\u001b[49m\u001b[43m(\u001b[49m\u001b[43m)\u001b[49m\u001b[38;5;241;43m.\u001b[39;49m\u001b[43mget\u001b[49m\u001b[43m(\u001b[49m\u001b[43mpath\u001b[49m\u001b[43m,\u001b[49m\u001b[43m \u001b[49m\u001b[43mheaders\u001b[49m\u001b[38;5;241;43m=\u001b[39;49m\u001b[43mheaders\u001b[49m\u001b[43m,\u001b[49m\u001b[43m \u001b[49m\u001b[43mtimeout\u001b[49m\u001b[38;5;241;43m=\u001b[39;49m\u001b[43mtimeout\u001b[49m\u001b[43m,\u001b[49m\u001b[43m \u001b[49m\u001b[43mparams\u001b[49m\u001b[38;5;241;43m=\u001b[39;49m\u001b[43mparams\u001b[49m\u001b[43m)\u001b[49m\n\u001b[0;32m   2540\u001b[0m hf_raise_for_status(r)\n\u001b[0;32m   2541\u001b[0m data \u001b[38;5;241m=\u001b[39m r\u001b[38;5;241m.\u001b[39mjson()\n",
      "File \u001b[1;32mc:\\Users\\Tangeni Matheus\\AppData\\Local\\Programs\\Python\\Python312\\Lib\\site-packages\\requests\\sessions.py:602\u001b[0m, in \u001b[0;36mSession.get\u001b[1;34m(self, url, **kwargs)\u001b[0m\n\u001b[0;32m    594\u001b[0m \u001b[38;5;250m\u001b[39m\u001b[38;5;124mr\u001b[39m\u001b[38;5;124;03m\"\"\"Sends a GET request. Returns :class:`Response` object.\u001b[39;00m\n\u001b[0;32m    595\u001b[0m \n\u001b[0;32m    596\u001b[0m \u001b[38;5;124;03m:param url: URL for the new :class:`Request` object.\u001b[39;00m\n\u001b[0;32m    597\u001b[0m \u001b[38;5;124;03m:param \\*\\*kwargs: Optional arguments that ``request`` takes.\u001b[39;00m\n\u001b[0;32m    598\u001b[0m \u001b[38;5;124;03m:rtype: requests.Response\u001b[39;00m\n\u001b[0;32m    599\u001b[0m \u001b[38;5;124;03m\"\"\"\u001b[39;00m\n\u001b[0;32m    601\u001b[0m kwargs\u001b[38;5;241m.\u001b[39msetdefault(\u001b[38;5;124m\"\u001b[39m\u001b[38;5;124mallow_redirects\u001b[39m\u001b[38;5;124m\"\u001b[39m, \u001b[38;5;28;01mTrue\u001b[39;00m)\n\u001b[1;32m--> 602\u001b[0m \u001b[38;5;28;01mreturn\u001b[39;00m \u001b[38;5;28;43mself\u001b[39;49m\u001b[38;5;241;43m.\u001b[39;49m\u001b[43mrequest\u001b[49m\u001b[43m(\u001b[49m\u001b[38;5;124;43m\"\u001b[39;49m\u001b[38;5;124;43mGET\u001b[39;49m\u001b[38;5;124;43m\"\u001b[39;49m\u001b[43m,\u001b[49m\u001b[43m \u001b[49m\u001b[43murl\u001b[49m\u001b[43m,\u001b[49m\u001b[43m \u001b[49m\u001b[38;5;241;43m*\u001b[39;49m\u001b[38;5;241;43m*\u001b[39;49m\u001b[43mkwargs\u001b[49m\u001b[43m)\u001b[49m\n",
      "File \u001b[1;32mc:\\Users\\Tangeni Matheus\\AppData\\Local\\Programs\\Python\\Python312\\Lib\\site-packages\\requests\\sessions.py:589\u001b[0m, in \u001b[0;36mSession.request\u001b[1;34m(self, method, url, params, data, headers, cookies, files, auth, timeout, allow_redirects, proxies, hooks, stream, verify, cert, json)\u001b[0m\n\u001b[0;32m    584\u001b[0m send_kwargs \u001b[38;5;241m=\u001b[39m {\n\u001b[0;32m    585\u001b[0m     \u001b[38;5;124m\"\u001b[39m\u001b[38;5;124mtimeout\u001b[39m\u001b[38;5;124m\"\u001b[39m: timeout,\n\u001b[0;32m    586\u001b[0m     \u001b[38;5;124m\"\u001b[39m\u001b[38;5;124mallow_redirects\u001b[39m\u001b[38;5;124m\"\u001b[39m: allow_redirects,\n\u001b[0;32m    587\u001b[0m }\n\u001b[0;32m    588\u001b[0m send_kwargs\u001b[38;5;241m.\u001b[39mupdate(settings)\n\u001b[1;32m--> 589\u001b[0m resp \u001b[38;5;241m=\u001b[39m \u001b[38;5;28;43mself\u001b[39;49m\u001b[38;5;241;43m.\u001b[39;49m\u001b[43msend\u001b[49m\u001b[43m(\u001b[49m\u001b[43mprep\u001b[49m\u001b[43m,\u001b[49m\u001b[43m \u001b[49m\u001b[38;5;241;43m*\u001b[39;49m\u001b[38;5;241;43m*\u001b[39;49m\u001b[43msend_kwargs\u001b[49m\u001b[43m)\u001b[49m\n\u001b[0;32m    591\u001b[0m \u001b[38;5;28;01mreturn\u001b[39;00m resp\n",
      "File \u001b[1;32mc:\\Users\\Tangeni Matheus\\AppData\\Local\\Programs\\Python\\Python312\\Lib\\site-packages\\requests\\sessions.py:703\u001b[0m, in \u001b[0;36mSession.send\u001b[1;34m(self, request, **kwargs)\u001b[0m\n\u001b[0;32m    700\u001b[0m start \u001b[38;5;241m=\u001b[39m preferred_clock()\n\u001b[0;32m    702\u001b[0m \u001b[38;5;66;03m# Send the request\u001b[39;00m\n\u001b[1;32m--> 703\u001b[0m r \u001b[38;5;241m=\u001b[39m \u001b[43madapter\u001b[49m\u001b[38;5;241;43m.\u001b[39;49m\u001b[43msend\u001b[49m\u001b[43m(\u001b[49m\u001b[43mrequest\u001b[49m\u001b[43m,\u001b[49m\u001b[43m \u001b[49m\u001b[38;5;241;43m*\u001b[39;49m\u001b[38;5;241;43m*\u001b[39;49m\u001b[43mkwargs\u001b[49m\u001b[43m)\u001b[49m\n\u001b[0;32m    705\u001b[0m \u001b[38;5;66;03m# Total elapsed time of the request (approximately)\u001b[39;00m\n\u001b[0;32m    706\u001b[0m elapsed \u001b[38;5;241m=\u001b[39m preferred_clock() \u001b[38;5;241m-\u001b[39m start\n",
      "File \u001b[1;32mc:\\Users\\Tangeni Matheus\\AppData\\Local\\Programs\\Python\\Python312\\Lib\\site-packages\\huggingface_hub\\utils\\_http.py:93\u001b[0m, in \u001b[0;36mUniqueRequestIdAdapter.send\u001b[1;34m(self, request, *args, **kwargs)\u001b[0m\n\u001b[0;32m     91\u001b[0m \u001b[38;5;250m\u001b[39m\u001b[38;5;124;03m\"\"\"Catch any RequestException to append request id to the error message for debugging.\"\"\"\u001b[39;00m\n\u001b[0;32m     92\u001b[0m \u001b[38;5;28;01mtry\u001b[39;00m:\n\u001b[1;32m---> 93\u001b[0m     \u001b[38;5;28;01mreturn\u001b[39;00m \u001b[38;5;28;43msuper\u001b[39;49m\u001b[43m(\u001b[49m\u001b[43m)\u001b[49m\u001b[38;5;241;43m.\u001b[39;49m\u001b[43msend\u001b[49m\u001b[43m(\u001b[49m\u001b[43mrequest\u001b[49m\u001b[43m,\u001b[49m\u001b[43m \u001b[49m\u001b[38;5;241;43m*\u001b[39;49m\u001b[43margs\u001b[49m\u001b[43m,\u001b[49m\u001b[43m \u001b[49m\u001b[38;5;241;43m*\u001b[39;49m\u001b[38;5;241;43m*\u001b[39;49m\u001b[43mkwargs\u001b[49m\u001b[43m)\u001b[49m\n\u001b[0;32m     94\u001b[0m \u001b[38;5;28;01mexcept\u001b[39;00m requests\u001b[38;5;241m.\u001b[39mRequestException \u001b[38;5;28;01mas\u001b[39;00m e:\n\u001b[0;32m     95\u001b[0m     request_id \u001b[38;5;241m=\u001b[39m request\u001b[38;5;241m.\u001b[39mheaders\u001b[38;5;241m.\u001b[39mget(X_AMZN_TRACE_ID)\n",
      "File \u001b[1;32mc:\\Users\\Tangeni Matheus\\AppData\\Local\\Programs\\Python\\Python312\\Lib\\site-packages\\requests\\adapters.py:667\u001b[0m, in \u001b[0;36mHTTPAdapter.send\u001b[1;34m(self, request, stream, timeout, verify, cert, proxies)\u001b[0m\n\u001b[0;32m    664\u001b[0m     timeout \u001b[38;5;241m=\u001b[39m TimeoutSauce(connect\u001b[38;5;241m=\u001b[39mtimeout, read\u001b[38;5;241m=\u001b[39mtimeout)\n\u001b[0;32m    666\u001b[0m \u001b[38;5;28;01mtry\u001b[39;00m:\n\u001b[1;32m--> 667\u001b[0m     resp \u001b[38;5;241m=\u001b[39m \u001b[43mconn\u001b[49m\u001b[38;5;241;43m.\u001b[39;49m\u001b[43murlopen\u001b[49m\u001b[43m(\u001b[49m\n\u001b[0;32m    668\u001b[0m \u001b[43m        \u001b[49m\u001b[43mmethod\u001b[49m\u001b[38;5;241;43m=\u001b[39;49m\u001b[43mrequest\u001b[49m\u001b[38;5;241;43m.\u001b[39;49m\u001b[43mmethod\u001b[49m\u001b[43m,\u001b[49m\n\u001b[0;32m    669\u001b[0m \u001b[43m        \u001b[49m\u001b[43murl\u001b[49m\u001b[38;5;241;43m=\u001b[39;49m\u001b[43murl\u001b[49m\u001b[43m,\u001b[49m\n\u001b[0;32m    670\u001b[0m \u001b[43m        \u001b[49m\u001b[43mbody\u001b[49m\u001b[38;5;241;43m=\u001b[39;49m\u001b[43mrequest\u001b[49m\u001b[38;5;241;43m.\u001b[39;49m\u001b[43mbody\u001b[49m\u001b[43m,\u001b[49m\n\u001b[0;32m    671\u001b[0m \u001b[43m        \u001b[49m\u001b[43mheaders\u001b[49m\u001b[38;5;241;43m=\u001b[39;49m\u001b[43mrequest\u001b[49m\u001b[38;5;241;43m.\u001b[39;49m\u001b[43mheaders\u001b[49m\u001b[43m,\u001b[49m\n\u001b[0;32m    672\u001b[0m \u001b[43m        \u001b[49m\u001b[43mredirect\u001b[49m\u001b[38;5;241;43m=\u001b[39;49m\u001b[38;5;28;43;01mFalse\u001b[39;49;00m\u001b[43m,\u001b[49m\n\u001b[0;32m    673\u001b[0m \u001b[43m        \u001b[49m\u001b[43massert_same_host\u001b[49m\u001b[38;5;241;43m=\u001b[39;49m\u001b[38;5;28;43;01mFalse\u001b[39;49;00m\u001b[43m,\u001b[49m\n\u001b[0;32m    674\u001b[0m \u001b[43m        \u001b[49m\u001b[43mpreload_content\u001b[49m\u001b[38;5;241;43m=\u001b[39;49m\u001b[38;5;28;43;01mFalse\u001b[39;49;00m\u001b[43m,\u001b[49m\n\u001b[0;32m    675\u001b[0m \u001b[43m        \u001b[49m\u001b[43mdecode_content\u001b[49m\u001b[38;5;241;43m=\u001b[39;49m\u001b[38;5;28;43;01mFalse\u001b[39;49;00m\u001b[43m,\u001b[49m\n\u001b[0;32m    676\u001b[0m \u001b[43m        \u001b[49m\u001b[43mretries\u001b[49m\u001b[38;5;241;43m=\u001b[39;49m\u001b[38;5;28;43mself\u001b[39;49m\u001b[38;5;241;43m.\u001b[39;49m\u001b[43mmax_retries\u001b[49m\u001b[43m,\u001b[49m\n\u001b[0;32m    677\u001b[0m \u001b[43m        \u001b[49m\u001b[43mtimeout\u001b[49m\u001b[38;5;241;43m=\u001b[39;49m\u001b[43mtimeout\u001b[49m\u001b[43m,\u001b[49m\n\u001b[0;32m    678\u001b[0m \u001b[43m        \u001b[49m\u001b[43mchunked\u001b[49m\u001b[38;5;241;43m=\u001b[39;49m\u001b[43mchunked\u001b[49m\u001b[43m,\u001b[49m\n\u001b[0;32m    679\u001b[0m \u001b[43m    \u001b[49m\u001b[43m)\u001b[49m\n\u001b[0;32m    681\u001b[0m \u001b[38;5;28;01mexcept\u001b[39;00m (ProtocolError, \u001b[38;5;167;01mOSError\u001b[39;00m) \u001b[38;5;28;01mas\u001b[39;00m err:\n\u001b[0;32m    682\u001b[0m     \u001b[38;5;28;01mraise\u001b[39;00m \u001b[38;5;167;01mConnectionError\u001b[39;00m(err, request\u001b[38;5;241m=\u001b[39mrequest)\n",
      "File \u001b[1;32mc:\\Users\\Tangeni Matheus\\AppData\\Local\\Programs\\Python\\Python312\\Lib\\site-packages\\urllib3\\connectionpool.py:790\u001b[0m, in \u001b[0;36mHTTPConnectionPool.urlopen\u001b[1;34m(self, method, url, body, headers, retries, redirect, assert_same_host, timeout, pool_timeout, release_conn, chunked, body_pos, preload_content, decode_content, **response_kw)\u001b[0m\n\u001b[0;32m    787\u001b[0m response_conn \u001b[38;5;241m=\u001b[39m conn \u001b[38;5;28;01mif\u001b[39;00m \u001b[38;5;129;01mnot\u001b[39;00m release_conn \u001b[38;5;28;01melse\u001b[39;00m \u001b[38;5;28;01mNone\u001b[39;00m\n\u001b[0;32m    789\u001b[0m \u001b[38;5;66;03m# Make the request on the HTTPConnection object\u001b[39;00m\n\u001b[1;32m--> 790\u001b[0m response \u001b[38;5;241m=\u001b[39m \u001b[38;5;28;43mself\u001b[39;49m\u001b[38;5;241;43m.\u001b[39;49m\u001b[43m_make_request\u001b[49m\u001b[43m(\u001b[49m\n\u001b[0;32m    791\u001b[0m \u001b[43m    \u001b[49m\u001b[43mconn\u001b[49m\u001b[43m,\u001b[49m\n\u001b[0;32m    792\u001b[0m \u001b[43m    \u001b[49m\u001b[43mmethod\u001b[49m\u001b[43m,\u001b[49m\n\u001b[0;32m    793\u001b[0m \u001b[43m    \u001b[49m\u001b[43murl\u001b[49m\u001b[43m,\u001b[49m\n\u001b[0;32m    794\u001b[0m \u001b[43m    \u001b[49m\u001b[43mtimeout\u001b[49m\u001b[38;5;241;43m=\u001b[39;49m\u001b[43mtimeout_obj\u001b[49m\u001b[43m,\u001b[49m\n\u001b[0;32m    795\u001b[0m \u001b[43m    \u001b[49m\u001b[43mbody\u001b[49m\u001b[38;5;241;43m=\u001b[39;49m\u001b[43mbody\u001b[49m\u001b[43m,\u001b[49m\n\u001b[0;32m    796\u001b[0m \u001b[43m    \u001b[49m\u001b[43mheaders\u001b[49m\u001b[38;5;241;43m=\u001b[39;49m\u001b[43mheaders\u001b[49m\u001b[43m,\u001b[49m\n\u001b[0;32m    797\u001b[0m \u001b[43m    \u001b[49m\u001b[43mchunked\u001b[49m\u001b[38;5;241;43m=\u001b[39;49m\u001b[43mchunked\u001b[49m\u001b[43m,\u001b[49m\n\u001b[0;32m    798\u001b[0m \u001b[43m    \u001b[49m\u001b[43mretries\u001b[49m\u001b[38;5;241;43m=\u001b[39;49m\u001b[43mretries\u001b[49m\u001b[43m,\u001b[49m\n\u001b[0;32m    799\u001b[0m \u001b[43m    \u001b[49m\u001b[43mresponse_conn\u001b[49m\u001b[38;5;241;43m=\u001b[39;49m\u001b[43mresponse_conn\u001b[49m\u001b[43m,\u001b[49m\n\u001b[0;32m    800\u001b[0m \u001b[43m    \u001b[49m\u001b[43mpreload_content\u001b[49m\u001b[38;5;241;43m=\u001b[39;49m\u001b[43mpreload_content\u001b[49m\u001b[43m,\u001b[49m\n\u001b[0;32m    801\u001b[0m \u001b[43m    \u001b[49m\u001b[43mdecode_content\u001b[49m\u001b[38;5;241;43m=\u001b[39;49m\u001b[43mdecode_content\u001b[49m\u001b[43m,\u001b[49m\n\u001b[0;32m    802\u001b[0m \u001b[43m    \u001b[49m\u001b[38;5;241;43m*\u001b[39;49m\u001b[38;5;241;43m*\u001b[39;49m\u001b[43mresponse_kw\u001b[49m\u001b[43m,\u001b[49m\n\u001b[0;32m    803\u001b[0m \u001b[43m\u001b[49m\u001b[43m)\u001b[49m\n\u001b[0;32m    805\u001b[0m \u001b[38;5;66;03m# Everything went great!\u001b[39;00m\n\u001b[0;32m    806\u001b[0m clean_exit \u001b[38;5;241m=\u001b[39m \u001b[38;5;28;01mTrue\u001b[39;00m\n",
      "File \u001b[1;32mc:\\Users\\Tangeni Matheus\\AppData\\Local\\Programs\\Python\\Python312\\Lib\\site-packages\\urllib3\\connectionpool.py:467\u001b[0m, in \u001b[0;36mHTTPConnectionPool._make_request\u001b[1;34m(self, conn, method, url, body, headers, retries, timeout, chunked, response_conn, preload_content, decode_content, enforce_content_length)\u001b[0m\n\u001b[0;32m    464\u001b[0m \u001b[38;5;28;01mtry\u001b[39;00m:\n\u001b[0;32m    465\u001b[0m     \u001b[38;5;66;03m# Trigger any extra validation we need to do.\u001b[39;00m\n\u001b[0;32m    466\u001b[0m     \u001b[38;5;28;01mtry\u001b[39;00m:\n\u001b[1;32m--> 467\u001b[0m         \u001b[38;5;28;43mself\u001b[39;49m\u001b[38;5;241;43m.\u001b[39;49m\u001b[43m_validate_conn\u001b[49m\u001b[43m(\u001b[49m\u001b[43mconn\u001b[49m\u001b[43m)\u001b[49m\n\u001b[0;32m    468\u001b[0m     \u001b[38;5;28;01mexcept\u001b[39;00m (SocketTimeout, BaseSSLError) \u001b[38;5;28;01mas\u001b[39;00m e:\n\u001b[0;32m    469\u001b[0m         \u001b[38;5;28mself\u001b[39m\u001b[38;5;241m.\u001b[39m_raise_timeout(err\u001b[38;5;241m=\u001b[39me, url\u001b[38;5;241m=\u001b[39murl, timeout_value\u001b[38;5;241m=\u001b[39mconn\u001b[38;5;241m.\u001b[39mtimeout)\n",
      "File \u001b[1;32mc:\\Users\\Tangeni Matheus\\AppData\\Local\\Programs\\Python\\Python312\\Lib\\site-packages\\urllib3\\connectionpool.py:1096\u001b[0m, in \u001b[0;36mHTTPSConnectionPool._validate_conn\u001b[1;34m(self, conn)\u001b[0m\n\u001b[0;32m   1094\u001b[0m \u001b[38;5;66;03m# Force connect early to allow us to validate the connection.\u001b[39;00m\n\u001b[0;32m   1095\u001b[0m \u001b[38;5;28;01mif\u001b[39;00m conn\u001b[38;5;241m.\u001b[39mis_closed:\n\u001b[1;32m-> 1096\u001b[0m     \u001b[43mconn\u001b[49m\u001b[38;5;241;43m.\u001b[39;49m\u001b[43mconnect\u001b[49m\u001b[43m(\u001b[49m\u001b[43m)\u001b[49m\n\u001b[0;32m   1098\u001b[0m \u001b[38;5;28;01mif\u001b[39;00m \u001b[38;5;129;01mnot\u001b[39;00m conn\u001b[38;5;241m.\u001b[39mis_verified:\n\u001b[0;32m   1099\u001b[0m     warnings\u001b[38;5;241m.\u001b[39mwarn(\n\u001b[0;32m   1100\u001b[0m         (\n\u001b[0;32m   1101\u001b[0m             \u001b[38;5;124mf\u001b[39m\u001b[38;5;124m\"\u001b[39m\u001b[38;5;124mUnverified HTTPS request is being made to host \u001b[39m\u001b[38;5;124m'\u001b[39m\u001b[38;5;132;01m{\u001b[39;00mconn\u001b[38;5;241m.\u001b[39mhost\u001b[38;5;132;01m}\u001b[39;00m\u001b[38;5;124m'\u001b[39m\u001b[38;5;124m. \u001b[39m\u001b[38;5;124m\"\u001b[39m\n\u001b[1;32m   (...)\u001b[0m\n\u001b[0;32m   1106\u001b[0m         InsecureRequestWarning,\n\u001b[0;32m   1107\u001b[0m     )\n",
      "File \u001b[1;32mc:\\Users\\Tangeni Matheus\\AppData\\Local\\Programs\\Python\\Python312\\Lib\\site-packages\\urllib3\\connection.py:611\u001b[0m, in \u001b[0;36mHTTPSConnection.connect\u001b[1;34m(self)\u001b[0m\n\u001b[0;32m    609\u001b[0m \u001b[38;5;28;01mdef\u001b[39;00m \u001b[38;5;21mconnect\u001b[39m(\u001b[38;5;28mself\u001b[39m) \u001b[38;5;241m-\u001b[39m\u001b[38;5;241m>\u001b[39m \u001b[38;5;28;01mNone\u001b[39;00m:\n\u001b[0;32m    610\u001b[0m     sock: socket\u001b[38;5;241m.\u001b[39msocket \u001b[38;5;241m|\u001b[39m ssl\u001b[38;5;241m.\u001b[39mSSLSocket\n\u001b[1;32m--> 611\u001b[0m     \u001b[38;5;28mself\u001b[39m\u001b[38;5;241m.\u001b[39msock \u001b[38;5;241m=\u001b[39m sock \u001b[38;5;241m=\u001b[39m \u001b[38;5;28;43mself\u001b[39;49m\u001b[38;5;241;43m.\u001b[39;49m\u001b[43m_new_conn\u001b[49m\u001b[43m(\u001b[49m\u001b[43m)\u001b[49m\n\u001b[0;32m    612\u001b[0m     server_hostname: \u001b[38;5;28mstr\u001b[39m \u001b[38;5;241m=\u001b[39m \u001b[38;5;28mself\u001b[39m\u001b[38;5;241m.\u001b[39mhost\n\u001b[0;32m    613\u001b[0m     tls_in_tls \u001b[38;5;241m=\u001b[39m \u001b[38;5;28;01mFalse\u001b[39;00m\n",
      "File \u001b[1;32mc:\\Users\\Tangeni Matheus\\AppData\\Local\\Programs\\Python\\Python312\\Lib\\site-packages\\urllib3\\connection.py:203\u001b[0m, in \u001b[0;36mHTTPConnection._new_conn\u001b[1;34m(self)\u001b[0m\n\u001b[0;32m    198\u001b[0m \u001b[38;5;250m\u001b[39m\u001b[38;5;124;03m\"\"\"Establish a socket connection and set nodelay settings on it.\u001b[39;00m\n\u001b[0;32m    199\u001b[0m \n\u001b[0;32m    200\u001b[0m \u001b[38;5;124;03m:return: New socket connection.\u001b[39;00m\n\u001b[0;32m    201\u001b[0m \u001b[38;5;124;03m\"\"\"\u001b[39;00m\n\u001b[0;32m    202\u001b[0m \u001b[38;5;28;01mtry\u001b[39;00m:\n\u001b[1;32m--> 203\u001b[0m     sock \u001b[38;5;241m=\u001b[39m \u001b[43mconnection\u001b[49m\u001b[38;5;241;43m.\u001b[39;49m\u001b[43mcreate_connection\u001b[49m\u001b[43m(\u001b[49m\n\u001b[0;32m    204\u001b[0m \u001b[43m        \u001b[49m\u001b[43m(\u001b[49m\u001b[38;5;28;43mself\u001b[39;49m\u001b[38;5;241;43m.\u001b[39;49m\u001b[43m_dns_host\u001b[49m\u001b[43m,\u001b[49m\u001b[43m \u001b[49m\u001b[38;5;28;43mself\u001b[39;49m\u001b[38;5;241;43m.\u001b[39;49m\u001b[43mport\u001b[49m\u001b[43m)\u001b[49m\u001b[43m,\u001b[49m\n\u001b[0;32m    205\u001b[0m \u001b[43m        \u001b[49m\u001b[38;5;28;43mself\u001b[39;49m\u001b[38;5;241;43m.\u001b[39;49m\u001b[43mtimeout\u001b[49m\u001b[43m,\u001b[49m\n\u001b[0;32m    206\u001b[0m \u001b[43m        \u001b[49m\u001b[43msource_address\u001b[49m\u001b[38;5;241;43m=\u001b[39;49m\u001b[38;5;28;43mself\u001b[39;49m\u001b[38;5;241;43m.\u001b[39;49m\u001b[43msource_address\u001b[49m\u001b[43m,\u001b[49m\n\u001b[0;32m    207\u001b[0m \u001b[43m        \u001b[49m\u001b[43msocket_options\u001b[49m\u001b[38;5;241;43m=\u001b[39;49m\u001b[38;5;28;43mself\u001b[39;49m\u001b[38;5;241;43m.\u001b[39;49m\u001b[43msocket_options\u001b[49m\u001b[43m,\u001b[49m\n\u001b[0;32m    208\u001b[0m \u001b[43m    \u001b[49m\u001b[43m)\u001b[49m\n\u001b[0;32m    209\u001b[0m \u001b[38;5;28;01mexcept\u001b[39;00m socket\u001b[38;5;241m.\u001b[39mgaierror \u001b[38;5;28;01mas\u001b[39;00m e:\n\u001b[0;32m    210\u001b[0m     \u001b[38;5;28;01mraise\u001b[39;00m NameResolutionError(\u001b[38;5;28mself\u001b[39m\u001b[38;5;241m.\u001b[39mhost, \u001b[38;5;28mself\u001b[39m, e) \u001b[38;5;28;01mfrom\u001b[39;00m \u001b[38;5;21;01me\u001b[39;00m\n",
      "File \u001b[1;32mc:\\Users\\Tangeni Matheus\\AppData\\Local\\Programs\\Python\\Python312\\Lib\\site-packages\\urllib3\\util\\connection.py:81\u001b[0m, in \u001b[0;36mcreate_connection\u001b[1;34m(address, timeout, source_address, socket_options)\u001b[0m\n\u001b[0;32m     79\u001b[0m         err \u001b[38;5;241m=\u001b[39m _\n\u001b[0;32m     80\u001b[0m         \u001b[38;5;28;01mif\u001b[39;00m sock \u001b[38;5;129;01mis\u001b[39;00m \u001b[38;5;129;01mnot\u001b[39;00m \u001b[38;5;28;01mNone\u001b[39;00m:\n\u001b[1;32m---> 81\u001b[0m             \u001b[43msock\u001b[49m\u001b[38;5;241;43m.\u001b[39;49m\u001b[43mclose\u001b[49m\u001b[43m(\u001b[49m\u001b[43m)\u001b[49m\n\u001b[0;32m     83\u001b[0m \u001b[38;5;28;01mif\u001b[39;00m err \u001b[38;5;129;01mis\u001b[39;00m \u001b[38;5;129;01mnot\u001b[39;00m \u001b[38;5;28;01mNone\u001b[39;00m:\n\u001b[0;32m     84\u001b[0m     \u001b[38;5;28;01mtry\u001b[39;00m:\n",
      "File \u001b[1;32mc:\\Users\\Tangeni Matheus\\AppData\\Local\\Programs\\Python\\Python312\\Lib\\socket.py:500\u001b[0m, in \u001b[0;36msocket.close\u001b[1;34m(self)\u001b[0m\n\u001b[0;32m    496\u001b[0m \u001b[38;5;28;01mdef\u001b[39;00m \u001b[38;5;21m_real_close\u001b[39m(\u001b[38;5;28mself\u001b[39m, _ss\u001b[38;5;241m=\u001b[39m_socket\u001b[38;5;241m.\u001b[39msocket):\n\u001b[0;32m    497\u001b[0m     \u001b[38;5;66;03m# This function should not reference any globals. See issue #808164.\u001b[39;00m\n\u001b[0;32m    498\u001b[0m     _ss\u001b[38;5;241m.\u001b[39mclose(\u001b[38;5;28mself\u001b[39m)\n\u001b[1;32m--> 500\u001b[0m \u001b[38;5;28;01mdef\u001b[39;00m \u001b[38;5;21mclose\u001b[39m(\u001b[38;5;28mself\u001b[39m):\n\u001b[0;32m    501\u001b[0m     \u001b[38;5;66;03m# This function should not reference any globals. See issue #808164.\u001b[39;00m\n\u001b[0;32m    502\u001b[0m     \u001b[38;5;28mself\u001b[39m\u001b[38;5;241m.\u001b[39m_closed \u001b[38;5;241m=\u001b[39m \u001b[38;5;28;01mTrue\u001b[39;00m\n\u001b[0;32m    503\u001b[0m     \u001b[38;5;28;01mif\u001b[39;00m \u001b[38;5;28mself\u001b[39m\u001b[38;5;241m.\u001b[39m_io_refs \u001b[38;5;241m<\u001b[39m\u001b[38;5;241m=\u001b[39m \u001b[38;5;241m0\u001b[39m:\n",
      "\u001b[1;31mKeyboardInterrupt\u001b[0m: "
     ]
    }
   ],
   "source": [
    "from datasets import load_dataset\n",
    "\n",
    "# Load the dataset with a specified number of rows\n",
    "ds = load_dataset(\"imageomics/rare-species\", split=f'train[:1500]')\n"
   ]
  },
  {
   "cell_type": "code",
   "execution_count": 29,
   "id": "d7838776",
   "metadata": {},
   "outputs": [],
   "source": [
    "from sklearn.preprocessing import StandardScaler\n",
    "from sklearn.linear_model import LogisticRegression"
   ]
  },
  {
   "cell_type": "markdown",
   "id": "b870cdc5",
   "metadata": {},
   "source": [
    "# Read the Data into a variable pro"
   ]
  },
  {
   "cell_type": "code",
   "execution_count": 64,
   "id": "3d34d3f7-3365-4b9f-a2b1-0a88b7a59319",
   "metadata": {},
   "outputs": [],
   "source": [
    "#pro= pd.read_csv(r\"C:\\Users\\Tangeni Matheus\\smester 4\\Data Analytics\\DTA data.csv\")\n",
    "pro = ds"
   ]
  },
  {
   "cell_type": "code",
   "execution_count": 65,
   "id": "edadc6cf",
   "metadata": {},
   "outputs": [
    {
     "data": {
      "text/plain": [
       "Dataset({\n",
       "    features: ['image', 'rarespecies_id', 'eol_content_id', 'eol_page_id', 'kingdom', 'phylum', 'class', 'order', 'family', 'genus', 'species', 'sciName', 'common'],\n",
       "    num_rows: 1500\n",
       "})"
      ]
     },
     "execution_count": 65,
     "metadata": {},
     "output_type": "execute_result"
    }
   ],
   "source": [
    "pro"
   ]
  },
  {
   "cell_type": "markdown",
   "id": "2b2a5f71",
   "metadata": {},
   "source": [
    "# 2. Data Set cleaning\n",
    "  \n",
    " **2.0 Filter the important columns**"
   ]
  },
  {
   "cell_type": "code",
   "execution_count": 66,
   "id": "07331dc1",
   "metadata": {},
   "outputs": [
    {
     "data": {
      "text/plain": [
       "Dataset({\n",
       "    features: ['image', 'phylum', 'class', 'order', 'family', 'genus', 'species', 'sciName', 'common'],\n",
       "    num_rows: 1500\n",
       "})"
      ]
     },
     "execution_count": 66,
     "metadata": {},
     "output_type": "execute_result"
    }
   ],
   "source": [
    "pro = pro.remove_columns(['rarespecies_id', 'eol_content_id', 'eol_page_id', 'kingdom'])\n",
    "pro"
   ]
  },
  {
   "cell_type": "markdown",
   "id": "c335242f",
   "metadata": {},
   "source": [
    "**2.1 Convert the dataset into a DataFrame**"
   ]
  },
  {
   "cell_type": "code",
   "execution_count": 67,
   "id": "7bc0c995",
   "metadata": {},
   "outputs": [],
   "source": [
    "pro = pro.to_pandas()"
   ]
  },
  {
   "cell_type": "markdown",
   "id": "46cb4d5a",
   "metadata": {},
   "source": [
    "**2.2 Remove duplicates in the data**\n",
    "\n",
    "first convert images to string then drop duplicates and convert the images string back to image."
   ]
  },
  {
   "cell_type": "code",
   "execution_count": 68,
   "id": "de211ef2",
   "metadata": {},
   "outputs": [
    {
     "data": {
      "text/plain": [
       "Dataset({\n",
       "    features: ['image', 'phylum', 'class', 'order', 'family', 'genus', 'species', 'sciName', 'common'],\n",
       "    num_rows: 1500\n",
       "})"
      ]
     },
     "execution_count": 68,
     "metadata": {},
     "output_type": "execute_result"
    }
   ],
   "source": [
    "from datasets import Dataset\n",
    "\n",
    "pro['image'] = pro['image'].apply(lambda x: str(x))\n",
    "\n",
    "pro = pro.drop_duplicates()\n",
    "# Convert back to Dataset\n",
    "pro = Dataset.from_pandas(pro)\n",
    "pro"
   ]
  },
  {
   "cell_type": "markdown",
   "id": "d13eb7cc",
   "metadata": {},
   "source": [
    "**2.2 We reset the index of the dataset rows to start from index 0 and to be uniform by incrementing by 1.**"
   ]
  },
  {
   "cell_type": "code",
   "execution_count": 69,
   "id": "7ed2d38c",
   "metadata": {},
   "outputs": [
    {
     "ename": "AttributeError",
     "evalue": "'Dataset' object has no attribute 'reset_index'",
     "output_type": "error",
     "traceback": [
      "\u001b[1;31m---------------------------------------------------------------------------\u001b[0m",
      "\u001b[1;31mAttributeError\u001b[0m                            Traceback (most recent call last)",
      "Cell \u001b[1;32mIn[69], line 1\u001b[0m\n\u001b[1;32m----> 1\u001b[0m pro \u001b[38;5;241m=\u001b[39m \u001b[43mpro\u001b[49m\u001b[38;5;241;43m.\u001b[39;49m\u001b[43mreset_index\u001b[49m(drop \u001b[38;5;241m=\u001b[39m \u001b[38;5;28;01mTrue\u001b[39;00m)\n\u001b[0;32m      2\u001b[0m pro\n",
      "\u001b[1;31mAttributeError\u001b[0m: 'Dataset' object has no attribute 'reset_index'"
     ]
    }
   ],
   "source": [
    "pro = pro.reset_index(drop = True)\n",
    "pro"
   ]
  },
  {
   "cell_type": "markdown",
   "id": "d8c6b302",
   "metadata": {},
   "source": [
    "**2.3 Remove Empty rows**"
   ]
  },
  {
   "cell_type": "code",
   "execution_count": 70,
   "id": "e69072ce",
   "metadata": {},
   "outputs": [
    {
     "ename": "AttributeError",
     "evalue": "'Dataset' object has no attribute 'dropna'",
     "output_type": "error",
     "traceback": [
      "\u001b[1;31m---------------------------------------------------------------------------\u001b[0m",
      "\u001b[1;31mAttributeError\u001b[0m                            Traceback (most recent call last)",
      "Cell \u001b[1;32mIn[70], line 1\u001b[0m\n\u001b[1;32m----> 1\u001b[0m \u001b[43mpro\u001b[49m\u001b[38;5;241;43m.\u001b[39;49m\u001b[43mdropna\u001b[49m()\n",
      "\u001b[1;31mAttributeError\u001b[0m: 'Dataset' object has no attribute 'dropna'"
     ]
    }
   ],
   "source": [
    "pro.dropna()"
   ]
  },
  {
   "cell_type": "code",
   "execution_count": 71,
   "id": "7855c207",
   "metadata": {},
   "outputs": [
    {
     "data": {
      "text/plain": [
       "Dataset({\n",
       "    features: ['image', 'phylum', 'class', 'order', 'family', 'genus', 'species', 'sciName', 'common'],\n",
       "    num_rows: 1500\n",
       "})"
      ]
     },
     "execution_count": 71,
     "metadata": {},
     "output_type": "execute_result"
    }
   ],
   "source": [
    "pro"
   ]
  },
  {
   "cell_type": "markdown",
   "id": "5dcc4609",
   "metadata": {},
   "source": [
    "# 3 Analyzing the data set\n",
    "**3.0 Using the plotly.express library we plotted a scatter plot to help visualize the data in order to understand our data**"
   ]
  },
  {
   "cell_type": "code",
   "execution_count": 29,
   "id": "38f83205",
   "metadata": {},
   "outputs": [
    {
     "data": {
      "application/vnd.plotly.v1+json": {
       "config": {
        "plotlyServerURL": "https://plot.ly"
       },
       "data": [
        {
         "customdata": [
          [
           "Arthropoda",
           "Arachnida",
           "Araneae",
           "Pisauridae",
           "Dolomedes plantarius"
          ],
          [
           "Arthropoda",
           "Arachnida",
           "Araneae",
           "Pisauridae",
           "Dolomedes plantarius"
          ],
          [
           "Arthropoda",
           "Arachnida",
           "Araneae",
           "Pisauridae",
           "Dolomedes plantarius"
          ],
          [
           "Arthropoda",
           "Arachnida",
           "Araneae",
           "Pisauridae",
           "Dolomedes plantarius"
          ],
          [
           "Arthropoda",
           "Arachnida",
           "Araneae",
           "Pisauridae",
           "Dolomedes plantarius"
          ],
          [
           "Arthropoda",
           "Arachnida",
           "Araneae",
           "Pisauridae",
           "Dolomedes plantarius"
          ],
          [
           "Arthropoda",
           "Arachnida",
           "Araneae",
           "Pisauridae",
           "Dolomedes plantarius"
          ],
          [
           "Arthropoda",
           "Arachnida",
           "Araneae",
           "Pisauridae",
           "Dolomedes plantarius"
          ],
          [
           "Arthropoda",
           "Arachnida",
           "Araneae",
           "Pisauridae",
           "Dolomedes plantarius"
          ],
          [
           "Arthropoda",
           "Arachnida",
           "Araneae",
           "Pisauridae",
           "Dolomedes plantarius"
          ],
          [
           "Arthropoda",
           "Arachnida",
           "Araneae",
           "Pisauridae",
           "Dolomedes plantarius"
          ],
          [
           "Arthropoda",
           "Arachnida",
           "Araneae",
           "Pisauridae",
           "Dolomedes plantarius"
          ],
          [
           "Arthropoda",
           "Arachnida",
           "Araneae",
           "Pisauridae",
           "Dolomedes plantarius"
          ],
          [
           "Arthropoda",
           "Arachnida",
           "Araneae",
           "Pisauridae",
           "Dolomedes plantarius"
          ],
          [
           "Arthropoda",
           "Arachnida",
           "Araneae",
           "Pisauridae",
           "Dolomedes plantarius"
          ],
          [
           "Arthropoda",
           "Arachnida",
           "Araneae",
           "Pisauridae",
           "Dolomedes plantarius"
          ],
          [
           "Arthropoda",
           "Arachnida",
           "Araneae",
           "Pisauridae",
           "Dolomedes plantarius"
          ],
          [
           "Arthropoda",
           "Arachnida",
           "Araneae",
           "Pisauridae",
           "Dolomedes plantarius"
          ],
          [
           "Arthropoda",
           "Arachnida",
           "Araneae",
           "Pisauridae",
           "Dolomedes plantarius"
          ],
          [
           "Arthropoda",
           "Arachnida",
           "Araneae",
           "Pisauridae",
           "Dolomedes plantarius"
          ],
          [
           "Arthropoda",
           "Arachnida",
           "Araneae",
           "Pisauridae",
           "Dolomedes plantarius"
          ],
          [
           "Arthropoda",
           "Arachnida",
           "Araneae",
           "Pisauridae",
           "Dolomedes plantarius"
          ],
          [
           "Arthropoda",
           "Arachnida",
           "Araneae",
           "Pisauridae",
           "Dolomedes plantarius"
          ],
          [
           "Arthropoda",
           "Arachnida",
           "Araneae",
           "Pisauridae",
           "Dolomedes plantarius"
          ],
          [
           "Arthropoda",
           "Arachnida",
           "Araneae",
           "Pisauridae",
           "Dolomedes plantarius"
          ],
          [
           "Arthropoda",
           "Arachnida",
           "Araneae",
           "Pisauridae",
           "Dolomedes plantarius"
          ],
          [
           "Arthropoda",
           "Arachnida",
           "Araneae",
           "Pisauridae",
           "Dolomedes plantarius"
          ],
          [
           "Arthropoda",
           "Arachnida",
           "Araneae",
           "Pisauridae",
           "Dolomedes plantarius"
          ],
          [
           "Arthropoda",
           "Arachnida",
           "Araneae",
           "Pisauridae",
           "Dolomedes plantarius"
          ],
          [
           "Arthropoda",
           "Arachnida",
           "Araneae",
           "Pisauridae",
           "Dolomedes plantarius"
          ]
         ],
         "hovertemplate": "Common Name=Fen raft spider<br>Genus=%{x}<br>Species=%{y}<br>phylum=%{customdata[0]}<br>class=%{customdata[1]}<br>order=%{customdata[2]}<br>family=%{customdata[3]}<br>sciName=%{customdata[4]}<extra></extra>",
         "legendgroup": "Fen raft spider",
         "marker": {
          "color": "#636efa",
          "symbol": "circle"
         },
         "mode": "markers",
         "name": "Fen raft spider",
         "showlegend": true,
         "type": "scattergl",
         "x": [
          "Dolomedes",
          "Dolomedes",
          "Dolomedes",
          "Dolomedes",
          "Dolomedes",
          "Dolomedes",
          "Dolomedes",
          "Dolomedes",
          "Dolomedes",
          "Dolomedes",
          "Dolomedes",
          "Dolomedes",
          "Dolomedes",
          "Dolomedes",
          "Dolomedes",
          "Dolomedes",
          "Dolomedes",
          "Dolomedes",
          "Dolomedes",
          "Dolomedes",
          "Dolomedes",
          "Dolomedes",
          "Dolomedes",
          "Dolomedes",
          "Dolomedes",
          "Dolomedes",
          "Dolomedes",
          "Dolomedes",
          "Dolomedes",
          "Dolomedes"
         ],
         "xaxis": "x",
         "y": [
          "plantarius",
          "plantarius",
          "plantarius",
          "plantarius",
          "plantarius",
          "plantarius",
          "plantarius",
          "plantarius",
          "plantarius",
          "plantarius",
          "plantarius",
          "plantarius",
          "plantarius",
          "plantarius",
          "plantarius",
          "plantarius",
          "plantarius",
          "plantarius",
          "plantarius",
          "plantarius",
          "plantarius",
          "plantarius",
          "plantarius",
          "plantarius",
          "plantarius",
          "plantarius",
          "plantarius",
          "plantarius",
          "plantarius",
          "plantarius"
         ],
         "yaxis": "y"
        },
        {
         "customdata": [
          [
           "Arthropoda",
           "Arachnida",
           "Araneae",
           "Theraphosidae",
           "Brachypelma auratum"
          ],
          [
           "Arthropoda",
           "Arachnida",
           "Araneae",
           "Theraphosidae",
           "Brachypelma auratum"
          ],
          [
           "Arthropoda",
           "Arachnida",
           "Araneae",
           "Theraphosidae",
           "Brachypelma auratum"
          ],
          [
           "Arthropoda",
           "Arachnida",
           "Araneae",
           "Theraphosidae",
           "Brachypelma auratum"
          ],
          [
           "Arthropoda",
           "Arachnida",
           "Araneae",
           "Theraphosidae",
           "Brachypelma auratum"
          ],
          [
           "Arthropoda",
           "Arachnida",
           "Araneae",
           "Theraphosidae",
           "Brachypelma auratum"
          ],
          [
           "Arthropoda",
           "Arachnida",
           "Araneae",
           "Theraphosidae",
           "Brachypelma auratum"
          ],
          [
           "Arthropoda",
           "Arachnida",
           "Araneae",
           "Theraphosidae",
           "Brachypelma auratum"
          ],
          [
           "Arthropoda",
           "Arachnida",
           "Araneae",
           "Theraphosidae",
           "Brachypelma auratum"
          ],
          [
           "Arthropoda",
           "Arachnida",
           "Araneae",
           "Theraphosidae",
           "Brachypelma auratum"
          ],
          [
           "Arthropoda",
           "Arachnida",
           "Araneae",
           "Theraphosidae",
           "Brachypelma auratum"
          ],
          [
           "Arthropoda",
           "Arachnida",
           "Araneae",
           "Theraphosidae",
           "Brachypelma auratum"
          ],
          [
           "Arthropoda",
           "Arachnida",
           "Araneae",
           "Theraphosidae",
           "Brachypelma auratum"
          ],
          [
           "Arthropoda",
           "Arachnida",
           "Araneae",
           "Theraphosidae",
           "Brachypelma auratum"
          ],
          [
           "Arthropoda",
           "Arachnida",
           "Araneae",
           "Theraphosidae",
           "Brachypelma auratum"
          ],
          [
           "Arthropoda",
           "Arachnida",
           "Araneae",
           "Theraphosidae",
           "Brachypelma auratum"
          ],
          [
           "Arthropoda",
           "Arachnida",
           "Araneae",
           "Theraphosidae",
           "Brachypelma auratum"
          ],
          [
           "Arthropoda",
           "Arachnida",
           "Araneae",
           "Theraphosidae",
           "Brachypelma auratum"
          ],
          [
           "Arthropoda",
           "Arachnida",
           "Araneae",
           "Theraphosidae",
           "Brachypelma auratum"
          ],
          [
           "Arthropoda",
           "Arachnida",
           "Araneae",
           "Theraphosidae",
           "Brachypelma auratum"
          ],
          [
           "Arthropoda",
           "Arachnida",
           "Araneae",
           "Theraphosidae",
           "Brachypelma auratum"
          ],
          [
           "Arthropoda",
           "Arachnida",
           "Araneae",
           "Theraphosidae",
           "Brachypelma auratum"
          ],
          [
           "Arthropoda",
           "Arachnida",
           "Araneae",
           "Theraphosidae",
           "Brachypelma auratum"
          ],
          [
           "Arthropoda",
           "Arachnida",
           "Araneae",
           "Theraphosidae",
           "Brachypelma auratum"
          ],
          [
           "Arthropoda",
           "Arachnida",
           "Araneae",
           "Theraphosidae",
           "Brachypelma auratum"
          ],
          [
           "Arthropoda",
           "Arachnida",
           "Araneae",
           "Theraphosidae",
           "Brachypelma auratum"
          ],
          [
           "Arthropoda",
           "Arachnida",
           "Araneae",
           "Theraphosidae",
           "Brachypelma auratum"
          ],
          [
           "Arthropoda",
           "Arachnida",
           "Araneae",
           "Theraphosidae",
           "Brachypelma auratum"
          ],
          [
           "Arthropoda",
           "Arachnida",
           "Araneae",
           "Theraphosidae",
           "Brachypelma auratum"
          ],
          [
           "Arthropoda",
           "Arachnida",
           "Araneae",
           "Theraphosidae",
           "Brachypelma auratum"
          ]
         ],
         "hovertemplate": "Common Name=Mexican flameknee tarantula<br>Genus=%{x}<br>Species=%{y}<br>phylum=%{customdata[0]}<br>class=%{customdata[1]}<br>order=%{customdata[2]}<br>family=%{customdata[3]}<br>sciName=%{customdata[4]}<extra></extra>",
         "legendgroup": "Mexican flameknee tarantula",
         "marker": {
          "color": "#EF553B",
          "symbol": "circle"
         },
         "mode": "markers",
         "name": "Mexican flameknee tarantula",
         "showlegend": true,
         "type": "scattergl",
         "x": [
          "Brachypelma",
          "Brachypelma",
          "Brachypelma",
          "Brachypelma",
          "Brachypelma",
          "Brachypelma",
          "Brachypelma",
          "Brachypelma",
          "Brachypelma",
          "Brachypelma",
          "Brachypelma",
          "Brachypelma",
          "Brachypelma",
          "Brachypelma",
          "Brachypelma",
          "Brachypelma",
          "Brachypelma",
          "Brachypelma",
          "Brachypelma",
          "Brachypelma",
          "Brachypelma",
          "Brachypelma",
          "Brachypelma",
          "Brachypelma",
          "Brachypelma",
          "Brachypelma",
          "Brachypelma",
          "Brachypelma",
          "Brachypelma",
          "Brachypelma"
         ],
         "xaxis": "x",
         "y": [
          "auratum",
          "auratum",
          "auratum",
          "auratum",
          "auratum",
          "auratum",
          "auratum",
          "auratum",
          "auratum",
          "auratum",
          "auratum",
          "auratum",
          "auratum",
          "auratum",
          "auratum",
          "auratum",
          "auratum",
          "auratum",
          "auratum",
          "auratum",
          "auratum",
          "auratum",
          "auratum",
          "auratum",
          "auratum",
          "auratum",
          "auratum",
          "auratum",
          "auratum",
          "auratum"
         ],
         "yaxis": "y"
        },
        {
         "customdata": [
          [
           "Arthropoda",
           "Branchiopoda",
           "Notostraca",
           "Triopsidae",
           "Lepidurus packardi"
          ],
          [
           "Arthropoda",
           "Branchiopoda",
           "Notostraca",
           "Triopsidae",
           "Lepidurus packardi"
          ],
          [
           "Arthropoda",
           "Branchiopoda",
           "Notostraca",
           "Triopsidae",
           "Lepidurus packardi"
          ],
          [
           "Arthropoda",
           "Branchiopoda",
           "Notostraca",
           "Triopsidae",
           "Lepidurus packardi"
          ],
          [
           "Arthropoda",
           "Branchiopoda",
           "Notostraca",
           "Triopsidae",
           "Lepidurus packardi"
          ],
          [
           "Arthropoda",
           "Branchiopoda",
           "Notostraca",
           "Triopsidae",
           "Lepidurus packardi"
          ],
          [
           "Arthropoda",
           "Branchiopoda",
           "Notostraca",
           "Triopsidae",
           "Lepidurus packardi"
          ],
          [
           "Arthropoda",
           "Branchiopoda",
           "Notostraca",
           "Triopsidae",
           "Lepidurus packardi"
          ],
          [
           "Arthropoda",
           "Branchiopoda",
           "Notostraca",
           "Triopsidae",
           "Lepidurus packardi"
          ],
          [
           "Arthropoda",
           "Branchiopoda",
           "Notostraca",
           "Triopsidae",
           "Lepidurus packardi"
          ],
          [
           "Arthropoda",
           "Branchiopoda",
           "Notostraca",
           "Triopsidae",
           "Lepidurus packardi"
          ],
          [
           "Arthropoda",
           "Branchiopoda",
           "Notostraca",
           "Triopsidae",
           "Lepidurus packardi"
          ],
          [
           "Arthropoda",
           "Branchiopoda",
           "Notostraca",
           "Triopsidae",
           "Lepidurus packardi"
          ],
          [
           "Arthropoda",
           "Branchiopoda",
           "Notostraca",
           "Triopsidae",
           "Lepidurus packardi"
          ],
          [
           "Arthropoda",
           "Branchiopoda",
           "Notostraca",
           "Triopsidae",
           "Lepidurus packardi"
          ],
          [
           "Arthropoda",
           "Branchiopoda",
           "Notostraca",
           "Triopsidae",
           "Lepidurus packardi"
          ],
          [
           "Arthropoda",
           "Branchiopoda",
           "Notostraca",
           "Triopsidae",
           "Lepidurus packardi"
          ],
          [
           "Arthropoda",
           "Branchiopoda",
           "Notostraca",
           "Triopsidae",
           "Lepidurus packardi"
          ],
          [
           "Arthropoda",
           "Branchiopoda",
           "Notostraca",
           "Triopsidae",
           "Lepidurus packardi"
          ],
          [
           "Arthropoda",
           "Branchiopoda",
           "Notostraca",
           "Triopsidae",
           "Lepidurus packardi"
          ],
          [
           "Arthropoda",
           "Branchiopoda",
           "Notostraca",
           "Triopsidae",
           "Lepidurus packardi"
          ],
          [
           "Arthropoda",
           "Branchiopoda",
           "Notostraca",
           "Triopsidae",
           "Lepidurus packardi"
          ],
          [
           "Arthropoda",
           "Branchiopoda",
           "Notostraca",
           "Triopsidae",
           "Lepidurus packardi"
          ],
          [
           "Arthropoda",
           "Branchiopoda",
           "Notostraca",
           "Triopsidae",
           "Lepidurus packardi"
          ],
          [
           "Arthropoda",
           "Branchiopoda",
           "Notostraca",
           "Triopsidae",
           "Lepidurus packardi"
          ],
          [
           "Arthropoda",
           "Branchiopoda",
           "Notostraca",
           "Triopsidae",
           "Lepidurus packardi"
          ],
          [
           "Arthropoda",
           "Branchiopoda",
           "Notostraca",
           "Triopsidae",
           "Lepidurus packardi"
          ],
          [
           "Arthropoda",
           "Branchiopoda",
           "Notostraca",
           "Triopsidae",
           "Lepidurus packardi"
          ],
          [
           "Arthropoda",
           "Branchiopoda",
           "Notostraca",
           "Triopsidae",
           "Lepidurus packardi"
          ],
          [
           "Arthropoda",
           "Branchiopoda",
           "Notostraca",
           "Triopsidae",
           "Lepidurus packardi"
          ]
         ],
         "hovertemplate": "Common Name=vernal pool tadpole shrimp<br>Genus=%{x}<br>Species=%{y}<br>phylum=%{customdata[0]}<br>class=%{customdata[1]}<br>order=%{customdata[2]}<br>family=%{customdata[3]}<br>sciName=%{customdata[4]}<extra></extra>",
         "legendgroup": "vernal pool tadpole shrimp",
         "marker": {
          "color": "#00cc96",
          "symbol": "circle"
         },
         "mode": "markers",
         "name": "vernal pool tadpole shrimp",
         "showlegend": true,
         "type": "scattergl",
         "x": [
          "Lepidurus",
          "Lepidurus",
          "Lepidurus",
          "Lepidurus",
          "Lepidurus",
          "Lepidurus",
          "Lepidurus",
          "Lepidurus",
          "Lepidurus",
          "Lepidurus",
          "Lepidurus",
          "Lepidurus",
          "Lepidurus",
          "Lepidurus",
          "Lepidurus",
          "Lepidurus",
          "Lepidurus",
          "Lepidurus",
          "Lepidurus",
          "Lepidurus",
          "Lepidurus",
          "Lepidurus",
          "Lepidurus",
          "Lepidurus",
          "Lepidurus",
          "Lepidurus",
          "Lepidurus",
          "Lepidurus",
          "Lepidurus",
          "Lepidurus"
         ],
         "xaxis": "x",
         "y": [
          "packardi",
          "packardi",
          "packardi",
          "packardi",
          "packardi",
          "packardi",
          "packardi",
          "packardi",
          "packardi",
          "packardi",
          "packardi",
          "packardi",
          "packardi",
          "packardi",
          "packardi",
          "packardi",
          "packardi",
          "packardi",
          "packardi",
          "packardi",
          "packardi",
          "packardi",
          "packardi",
          "packardi",
          "packardi",
          "packardi",
          "packardi",
          "packardi",
          "packardi",
          "packardi"
         ],
         "yaxis": "y"
        },
        {
         "customdata": [
          [
           "Arthropoda",
           "Insecta",
           "Coleoptera",
           "Attelabidae",
           "Trachelophorus giraffa"
          ],
          [
           "Arthropoda",
           "Insecta",
           "Coleoptera",
           "Attelabidae",
           "Trachelophorus giraffa"
          ],
          [
           "Arthropoda",
           "Insecta",
           "Coleoptera",
           "Attelabidae",
           "Trachelophorus giraffa"
          ],
          [
           "Arthropoda",
           "Insecta",
           "Coleoptera",
           "Attelabidae",
           "Trachelophorus giraffa"
          ],
          [
           "Arthropoda",
           "Insecta",
           "Coleoptera",
           "Attelabidae",
           "Trachelophorus giraffa"
          ],
          [
           "Arthropoda",
           "Insecta",
           "Coleoptera",
           "Attelabidae",
           "Trachelophorus giraffa"
          ],
          [
           "Arthropoda",
           "Insecta",
           "Coleoptera",
           "Attelabidae",
           "Trachelophorus giraffa"
          ],
          [
           "Arthropoda",
           "Insecta",
           "Coleoptera",
           "Attelabidae",
           "Trachelophorus giraffa"
          ],
          [
           "Arthropoda",
           "Insecta",
           "Coleoptera",
           "Attelabidae",
           "Trachelophorus giraffa"
          ],
          [
           "Arthropoda",
           "Insecta",
           "Coleoptera",
           "Attelabidae",
           "Trachelophorus giraffa"
          ],
          [
           "Arthropoda",
           "Insecta",
           "Coleoptera",
           "Attelabidae",
           "Trachelophorus giraffa"
          ],
          [
           "Arthropoda",
           "Insecta",
           "Coleoptera",
           "Attelabidae",
           "Trachelophorus giraffa"
          ],
          [
           "Arthropoda",
           "Insecta",
           "Coleoptera",
           "Attelabidae",
           "Trachelophorus giraffa"
          ],
          [
           "Arthropoda",
           "Insecta",
           "Coleoptera",
           "Attelabidae",
           "Trachelophorus giraffa"
          ],
          [
           "Arthropoda",
           "Insecta",
           "Coleoptera",
           "Attelabidae",
           "Trachelophorus giraffa"
          ],
          [
           "Arthropoda",
           "Insecta",
           "Coleoptera",
           "Attelabidae",
           "Trachelophorus giraffa"
          ],
          [
           "Arthropoda",
           "Insecta",
           "Coleoptera",
           "Attelabidae",
           "Trachelophorus giraffa"
          ],
          [
           "Arthropoda",
           "Insecta",
           "Coleoptera",
           "Attelabidae",
           "Trachelophorus giraffa"
          ],
          [
           "Arthropoda",
           "Insecta",
           "Coleoptera",
           "Attelabidae",
           "Trachelophorus giraffa"
          ],
          [
           "Arthropoda",
           "Insecta",
           "Coleoptera",
           "Attelabidae",
           "Trachelophorus giraffa"
          ],
          [
           "Arthropoda",
           "Insecta",
           "Coleoptera",
           "Attelabidae",
           "Trachelophorus giraffa"
          ],
          [
           "Arthropoda",
           "Insecta",
           "Coleoptera",
           "Attelabidae",
           "Trachelophorus giraffa"
          ],
          [
           "Arthropoda",
           "Insecta",
           "Coleoptera",
           "Attelabidae",
           "Trachelophorus giraffa"
          ],
          [
           "Arthropoda",
           "Insecta",
           "Coleoptera",
           "Attelabidae",
           "Trachelophorus giraffa"
          ],
          [
           "Arthropoda",
           "Insecta",
           "Coleoptera",
           "Attelabidae",
           "Trachelophorus giraffa"
          ],
          [
           "Arthropoda",
           "Insecta",
           "Coleoptera",
           "Attelabidae",
           "Trachelophorus giraffa"
          ],
          [
           "Arthropoda",
           "Insecta",
           "Coleoptera",
           "Attelabidae",
           "Trachelophorus giraffa"
          ],
          [
           "Arthropoda",
           "Insecta",
           "Coleoptera",
           "Attelabidae",
           "Trachelophorus giraffa"
          ],
          [
           "Arthropoda",
           "Insecta",
           "Coleoptera",
           "Attelabidae",
           "Trachelophorus giraffa"
          ],
          [
           "Arthropoda",
           "Insecta",
           "Coleoptera",
           "Attelabidae",
           "Trachelophorus giraffa"
          ]
         ],
         "hovertemplate": "Common Name=Giraffe Weevil<br>Genus=%{x}<br>Species=%{y}<br>phylum=%{customdata[0]}<br>class=%{customdata[1]}<br>order=%{customdata[2]}<br>family=%{customdata[3]}<br>sciName=%{customdata[4]}<extra></extra>",
         "legendgroup": "Giraffe Weevil",
         "marker": {
          "color": "#ab63fa",
          "symbol": "circle"
         },
         "mode": "markers",
         "name": "Giraffe Weevil",
         "showlegend": true,
         "type": "scattergl",
         "x": [
          "Trachelophorus",
          "Trachelophorus",
          "Trachelophorus",
          "Trachelophorus",
          "Trachelophorus",
          "Trachelophorus",
          "Trachelophorus",
          "Trachelophorus",
          "Trachelophorus",
          "Trachelophorus",
          "Trachelophorus",
          "Trachelophorus",
          "Trachelophorus",
          "Trachelophorus",
          "Trachelophorus",
          "Trachelophorus",
          "Trachelophorus",
          "Trachelophorus",
          "Trachelophorus",
          "Trachelophorus",
          "Trachelophorus",
          "Trachelophorus",
          "Trachelophorus",
          "Trachelophorus",
          "Trachelophorus",
          "Trachelophorus",
          "Trachelophorus",
          "Trachelophorus",
          "Trachelophorus",
          "Trachelophorus"
         ],
         "xaxis": "x",
         "y": [
          "giraffa",
          "giraffa",
          "giraffa",
          "giraffa",
          "giraffa",
          "giraffa",
          "giraffa",
          "giraffa",
          "giraffa",
          "giraffa",
          "giraffa",
          "giraffa",
          "giraffa",
          "giraffa",
          "giraffa",
          "giraffa",
          "giraffa",
          "giraffa",
          "giraffa",
          "giraffa",
          "giraffa",
          "giraffa",
          "giraffa",
          "giraffa",
          "giraffa",
          "giraffa",
          "giraffa",
          "giraffa",
          "giraffa",
          "giraffa"
         ],
         "yaxis": "y"
        },
        {
         "customdata": [
          [
           "Arthropoda",
           "Insecta",
           "Coleoptera",
           "Carabidae",
           "Carabus intricatus"
          ],
          [
           "Arthropoda",
           "Insecta",
           "Coleoptera",
           "Carabidae",
           "Carabus intricatus"
          ],
          [
           "Arthropoda",
           "Insecta",
           "Coleoptera",
           "Carabidae",
           "Carabus intricatus"
          ],
          [
           "Arthropoda",
           "Insecta",
           "Coleoptera",
           "Carabidae",
           "Carabus intricatus"
          ],
          [
           "Arthropoda",
           "Insecta",
           "Coleoptera",
           "Carabidae",
           "Carabus intricatus"
          ],
          [
           "Arthropoda",
           "Insecta",
           "Coleoptera",
           "Carabidae",
           "Carabus intricatus"
          ],
          [
           "Arthropoda",
           "Insecta",
           "Coleoptera",
           "Carabidae",
           "Carabus intricatus"
          ],
          [
           "Arthropoda",
           "Insecta",
           "Coleoptera",
           "Carabidae",
           "Carabus intricatus"
          ],
          [
           "Arthropoda",
           "Insecta",
           "Coleoptera",
           "Carabidae",
           "Carabus intricatus"
          ],
          [
           "Arthropoda",
           "Insecta",
           "Coleoptera",
           "Carabidae",
           "Carabus intricatus"
          ],
          [
           "Arthropoda",
           "Insecta",
           "Coleoptera",
           "Carabidae",
           "Carabus intricatus"
          ],
          [
           "Arthropoda",
           "Insecta",
           "Coleoptera",
           "Carabidae",
           "Carabus intricatus"
          ],
          [
           "Arthropoda",
           "Insecta",
           "Coleoptera",
           "Carabidae",
           "Carabus intricatus"
          ],
          [
           "Arthropoda",
           "Insecta",
           "Coleoptera",
           "Carabidae",
           "Carabus intricatus"
          ],
          [
           "Arthropoda",
           "Insecta",
           "Coleoptera",
           "Carabidae",
           "Carabus intricatus"
          ],
          [
           "Arthropoda",
           "Insecta",
           "Coleoptera",
           "Carabidae",
           "Carabus intricatus"
          ],
          [
           "Arthropoda",
           "Insecta",
           "Coleoptera",
           "Carabidae",
           "Carabus intricatus"
          ],
          [
           "Arthropoda",
           "Insecta",
           "Coleoptera",
           "Carabidae",
           "Carabus intricatus"
          ],
          [
           "Arthropoda",
           "Insecta",
           "Coleoptera",
           "Carabidae",
           "Carabus intricatus"
          ],
          [
           "Arthropoda",
           "Insecta",
           "Coleoptera",
           "Carabidae",
           "Carabus intricatus"
          ],
          [
           "Arthropoda",
           "Insecta",
           "Coleoptera",
           "Carabidae",
           "Carabus intricatus"
          ],
          [
           "Arthropoda",
           "Insecta",
           "Coleoptera",
           "Carabidae",
           "Carabus intricatus"
          ],
          [
           "Arthropoda",
           "Insecta",
           "Coleoptera",
           "Carabidae",
           "Carabus intricatus"
          ],
          [
           "Arthropoda",
           "Insecta",
           "Coleoptera",
           "Carabidae",
           "Carabus intricatus"
          ],
          [
           "Arthropoda",
           "Insecta",
           "Coleoptera",
           "Carabidae",
           "Carabus intricatus"
          ],
          [
           "Arthropoda",
           "Insecta",
           "Coleoptera",
           "Carabidae",
           "Carabus intricatus"
          ],
          [
           "Arthropoda",
           "Insecta",
           "Coleoptera",
           "Carabidae",
           "Carabus intricatus"
          ],
          [
           "Arthropoda",
           "Insecta",
           "Coleoptera",
           "Carabidae",
           "Carabus intricatus"
          ],
          [
           "Arthropoda",
           "Insecta",
           "Coleoptera",
           "Carabidae",
           "Carabus intricatus"
          ],
          [
           "Arthropoda",
           "Insecta",
           "Coleoptera",
           "Carabidae",
           "Carabus intricatus"
          ]
         ],
         "hovertemplate": "Common Name=Blue Ground Beetle<br>Genus=%{x}<br>Species=%{y}<br>phylum=%{customdata[0]}<br>class=%{customdata[1]}<br>order=%{customdata[2]}<br>family=%{customdata[3]}<br>sciName=%{customdata[4]}<extra></extra>",
         "legendgroup": "Blue Ground Beetle",
         "marker": {
          "color": "#FFA15A",
          "symbol": "circle"
         },
         "mode": "markers",
         "name": "Blue Ground Beetle",
         "showlegend": true,
         "type": "scattergl",
         "x": [
          "Carabus",
          "Carabus",
          "Carabus",
          "Carabus",
          "Carabus",
          "Carabus",
          "Carabus",
          "Carabus",
          "Carabus",
          "Carabus",
          "Carabus",
          "Carabus",
          "Carabus",
          "Carabus",
          "Carabus",
          "Carabus",
          "Carabus",
          "Carabus",
          "Carabus",
          "Carabus",
          "Carabus",
          "Carabus",
          "Carabus",
          "Carabus",
          "Carabus",
          "Carabus",
          "Carabus",
          "Carabus",
          "Carabus",
          "Carabus"
         ],
         "xaxis": "x",
         "y": [
          "intricatus",
          "intricatus",
          "intricatus",
          "intricatus",
          "intricatus",
          "intricatus",
          "intricatus",
          "intricatus",
          "intricatus",
          "intricatus",
          "intricatus",
          "intricatus",
          "intricatus",
          "intricatus",
          "intricatus",
          "intricatus",
          "intricatus",
          "intricatus",
          "intricatus",
          "intricatus",
          "intricatus",
          "intricatus",
          "intricatus",
          "intricatus",
          "intricatus",
          "intricatus",
          "intricatus",
          "intricatus",
          "intricatus",
          "intricatus"
         ],
         "yaxis": "y"
        },
        {
         "customdata": [
          [
           "Arthropoda",
           "Insecta",
           "Coleoptera",
           "Carabidae",
           "Elaphrus viridis"
          ],
          [
           "Arthropoda",
           "Insecta",
           "Coleoptera",
           "Carabidae",
           "Elaphrus viridis"
          ],
          [
           "Arthropoda",
           "Insecta",
           "Coleoptera",
           "Carabidae",
           "Elaphrus viridis"
          ],
          [
           "Arthropoda",
           "Insecta",
           "Coleoptera",
           "Carabidae",
           "Elaphrus viridis"
          ],
          [
           "Arthropoda",
           "Insecta",
           "Coleoptera",
           "Carabidae",
           "Elaphrus viridis"
          ],
          [
           "Arthropoda",
           "Insecta",
           "Coleoptera",
           "Carabidae",
           "Elaphrus viridis"
          ],
          [
           "Arthropoda",
           "Insecta",
           "Coleoptera",
           "Carabidae",
           "Elaphrus viridis"
          ],
          [
           "Arthropoda",
           "Insecta",
           "Coleoptera",
           "Carabidae",
           "Elaphrus viridis"
          ],
          [
           "Arthropoda",
           "Insecta",
           "Coleoptera",
           "Carabidae",
           "Elaphrus viridis"
          ],
          [
           "Arthropoda",
           "Insecta",
           "Coleoptera",
           "Carabidae",
           "Elaphrus viridis"
          ],
          [
           "Arthropoda",
           "Insecta",
           "Coleoptera",
           "Carabidae",
           "Elaphrus viridis"
          ],
          [
           "Arthropoda",
           "Insecta",
           "Coleoptera",
           "Carabidae",
           "Elaphrus viridis"
          ],
          [
           "Arthropoda",
           "Insecta",
           "Coleoptera",
           "Carabidae",
           "Elaphrus viridis"
          ],
          [
           "Arthropoda",
           "Insecta",
           "Coleoptera",
           "Carabidae",
           "Elaphrus viridis"
          ],
          [
           "Arthropoda",
           "Insecta",
           "Coleoptera",
           "Carabidae",
           "Elaphrus viridis"
          ],
          [
           "Arthropoda",
           "Insecta",
           "Coleoptera",
           "Carabidae",
           "Elaphrus viridis"
          ],
          [
           "Arthropoda",
           "Insecta",
           "Coleoptera",
           "Carabidae",
           "Elaphrus viridis"
          ],
          [
           "Arthropoda",
           "Insecta",
           "Coleoptera",
           "Carabidae",
           "Elaphrus viridis"
          ],
          [
           "Arthropoda",
           "Insecta",
           "Coleoptera",
           "Carabidae",
           "Elaphrus viridis"
          ],
          [
           "Arthropoda",
           "Insecta",
           "Coleoptera",
           "Carabidae",
           "Elaphrus viridis"
          ],
          [
           "Arthropoda",
           "Insecta",
           "Coleoptera",
           "Carabidae",
           "Elaphrus viridis"
          ],
          [
           "Arthropoda",
           "Insecta",
           "Coleoptera",
           "Carabidae",
           "Elaphrus viridis"
          ],
          [
           "Arthropoda",
           "Insecta",
           "Coleoptera",
           "Carabidae",
           "Elaphrus viridis"
          ],
          [
           "Arthropoda",
           "Insecta",
           "Coleoptera",
           "Carabidae",
           "Elaphrus viridis"
          ],
          [
           "Arthropoda",
           "Insecta",
           "Coleoptera",
           "Carabidae",
           "Elaphrus viridis"
          ],
          [
           "Arthropoda",
           "Insecta",
           "Coleoptera",
           "Carabidae",
           "Elaphrus viridis"
          ],
          [
           "Arthropoda",
           "Insecta",
           "Coleoptera",
           "Carabidae",
           "Elaphrus viridis"
          ],
          [
           "Arthropoda",
           "Insecta",
           "Coleoptera",
           "Carabidae",
           "Elaphrus viridis"
          ],
          [
           "Arthropoda",
           "Insecta",
           "Coleoptera",
           "Carabidae",
           "Elaphrus viridis"
          ],
          [
           "Arthropoda",
           "Insecta",
           "Coleoptera",
           "Carabidae",
           "Elaphrus viridis"
          ]
         ],
         "hovertemplate": "Common Name=Delta Green Ground Beetle<br>Genus=%{x}<br>Species=%{y}<br>phylum=%{customdata[0]}<br>class=%{customdata[1]}<br>order=%{customdata[2]}<br>family=%{customdata[3]}<br>sciName=%{customdata[4]}<extra></extra>",
         "legendgroup": "Delta Green Ground Beetle",
         "marker": {
          "color": "#19d3f3",
          "symbol": "circle"
         },
         "mode": "markers",
         "name": "Delta Green Ground Beetle",
         "showlegend": true,
         "type": "scattergl",
         "x": [
          "Elaphrus",
          "Elaphrus",
          "Elaphrus",
          "Elaphrus",
          "Elaphrus",
          "Elaphrus",
          "Elaphrus",
          "Elaphrus",
          "Elaphrus",
          "Elaphrus",
          "Elaphrus",
          "Elaphrus",
          "Elaphrus",
          "Elaphrus",
          "Elaphrus",
          "Elaphrus",
          "Elaphrus",
          "Elaphrus",
          "Elaphrus",
          "Elaphrus",
          "Elaphrus",
          "Elaphrus",
          "Elaphrus",
          "Elaphrus",
          "Elaphrus",
          "Elaphrus",
          "Elaphrus",
          "Elaphrus",
          "Elaphrus",
          "Elaphrus"
         ],
         "xaxis": "x",
         "y": [
          "viridis",
          "viridis",
          "viridis",
          "viridis",
          "viridis",
          "viridis",
          "viridis",
          "viridis",
          "viridis",
          "viridis",
          "viridis",
          "viridis",
          "viridis",
          "viridis",
          "viridis",
          "viridis",
          "viridis",
          "viridis",
          "viridis",
          "viridis",
          "viridis",
          "viridis",
          "viridis",
          "viridis",
          "viridis",
          "viridis",
          "viridis",
          "viridis",
          "viridis",
          "viridis"
         ],
         "yaxis": "y"
        },
        {
         "customdata": [
          [
           "Arthropoda",
           "Insecta",
           "Coleoptera",
           "Cerambycidae",
           "Macrodontia cervicornis"
          ],
          [
           "Arthropoda",
           "Insecta",
           "Coleoptera",
           "Cerambycidae",
           "Macrodontia cervicornis"
          ],
          [
           "Arthropoda",
           "Insecta",
           "Coleoptera",
           "Cerambycidae",
           "Macrodontia cervicornis"
          ],
          [
           "Arthropoda",
           "Insecta",
           "Coleoptera",
           "Cerambycidae",
           "Macrodontia cervicornis"
          ],
          [
           "Arthropoda",
           "Insecta",
           "Coleoptera",
           "Cerambycidae",
           "Macrodontia cervicornis"
          ],
          [
           "Arthropoda",
           "Insecta",
           "Coleoptera",
           "Cerambycidae",
           "Macrodontia cervicornis"
          ],
          [
           "Arthropoda",
           "Insecta",
           "Coleoptera",
           "Cerambycidae",
           "Macrodontia cervicornis"
          ],
          [
           "Arthropoda",
           "Insecta",
           "Coleoptera",
           "Cerambycidae",
           "Macrodontia cervicornis"
          ],
          [
           "Arthropoda",
           "Insecta",
           "Coleoptera",
           "Cerambycidae",
           "Macrodontia cervicornis"
          ],
          [
           "Arthropoda",
           "Insecta",
           "Coleoptera",
           "Cerambycidae",
           "Macrodontia cervicornis"
          ],
          [
           "Arthropoda",
           "Insecta",
           "Coleoptera",
           "Cerambycidae",
           "Macrodontia cervicornis"
          ],
          [
           "Arthropoda",
           "Insecta",
           "Coleoptera",
           "Cerambycidae",
           "Macrodontia cervicornis"
          ],
          [
           "Arthropoda",
           "Insecta",
           "Coleoptera",
           "Cerambycidae",
           "Macrodontia cervicornis"
          ],
          [
           "Arthropoda",
           "Insecta",
           "Coleoptera",
           "Cerambycidae",
           "Macrodontia cervicornis"
          ],
          [
           "Arthropoda",
           "Insecta",
           "Coleoptera",
           "Cerambycidae",
           "Macrodontia cervicornis"
          ],
          [
           "Arthropoda",
           "Insecta",
           "Coleoptera",
           "Cerambycidae",
           "Macrodontia cervicornis"
          ],
          [
           "Arthropoda",
           "Insecta",
           "Coleoptera",
           "Cerambycidae",
           "Macrodontia cervicornis"
          ],
          [
           "Arthropoda",
           "Insecta",
           "Coleoptera",
           "Cerambycidae",
           "Macrodontia cervicornis"
          ],
          [
           "Arthropoda",
           "Insecta",
           "Coleoptera",
           "Cerambycidae",
           "Macrodontia cervicornis"
          ],
          [
           "Arthropoda",
           "Insecta",
           "Coleoptera",
           "Cerambycidae",
           "Macrodontia cervicornis"
          ],
          [
           "Arthropoda",
           "Insecta",
           "Coleoptera",
           "Cerambycidae",
           "Macrodontia cervicornis"
          ],
          [
           "Arthropoda",
           "Insecta",
           "Coleoptera",
           "Cerambycidae",
           "Macrodontia cervicornis"
          ],
          [
           "Arthropoda",
           "Insecta",
           "Coleoptera",
           "Cerambycidae",
           "Macrodontia cervicornis"
          ],
          [
           "Arthropoda",
           "Insecta",
           "Coleoptera",
           "Cerambycidae",
           "Macrodontia cervicornis"
          ],
          [
           "Arthropoda",
           "Insecta",
           "Coleoptera",
           "Cerambycidae",
           "Macrodontia cervicornis"
          ],
          [
           "Arthropoda",
           "Insecta",
           "Coleoptera",
           "Cerambycidae",
           "Macrodontia cervicornis"
          ],
          [
           "Arthropoda",
           "Insecta",
           "Coleoptera",
           "Cerambycidae",
           "Macrodontia cervicornis"
          ],
          [
           "Arthropoda",
           "Insecta",
           "Coleoptera",
           "Cerambycidae",
           "Macrodontia cervicornis"
          ],
          [
           "Arthropoda",
           "Insecta",
           "Coleoptera",
           "Cerambycidae",
           "Macrodontia cervicornis"
          ],
          [
           "Arthropoda",
           "Insecta",
           "Coleoptera",
           "Cerambycidae",
           "Macrodontia cervicornis"
          ]
         ],
         "hovertemplate": "Common Name=Giant Jawed Sawyer<br>Genus=%{x}<br>Species=%{y}<br>phylum=%{customdata[0]}<br>class=%{customdata[1]}<br>order=%{customdata[2]}<br>family=%{customdata[3]}<br>sciName=%{customdata[4]}<extra></extra>",
         "legendgroup": "Giant Jawed Sawyer",
         "marker": {
          "color": "#FF6692",
          "symbol": "circle"
         },
         "mode": "markers",
         "name": "Giant Jawed Sawyer",
         "showlegend": true,
         "type": "scattergl",
         "x": [
          "Macrodontia",
          "Macrodontia",
          "Macrodontia",
          "Macrodontia",
          "Macrodontia",
          "Macrodontia",
          "Macrodontia",
          "Macrodontia",
          "Macrodontia",
          "Macrodontia",
          "Macrodontia",
          "Macrodontia",
          "Macrodontia",
          "Macrodontia",
          "Macrodontia",
          "Macrodontia",
          "Macrodontia",
          "Macrodontia",
          "Macrodontia",
          "Macrodontia",
          "Macrodontia",
          "Macrodontia",
          "Macrodontia",
          "Macrodontia",
          "Macrodontia",
          "Macrodontia",
          "Macrodontia",
          "Macrodontia",
          "Macrodontia",
          "Macrodontia"
         ],
         "xaxis": "x",
         "y": [
          "cervicornis",
          "cervicornis",
          "cervicornis",
          "cervicornis",
          "cervicornis",
          "cervicornis",
          "cervicornis",
          "cervicornis",
          "cervicornis",
          "cervicornis",
          "cervicornis",
          "cervicornis",
          "cervicornis",
          "cervicornis",
          "cervicornis",
          "cervicornis",
          "cervicornis",
          "cervicornis",
          "cervicornis",
          "cervicornis",
          "cervicornis",
          "cervicornis",
          "cervicornis",
          "cervicornis",
          "cervicornis",
          "cervicornis",
          "cervicornis",
          "cervicornis",
          "cervicornis",
          "cervicornis"
         ],
         "yaxis": "y"
        },
        {
         "customdata": [
          [
           "Arthropoda",
           "Insecta",
           "Coleoptera",
           "Lucanidae",
           "Ceruchus chrysomelinus"
          ],
          [
           "Arthropoda",
           "Insecta",
           "Coleoptera",
           "Lucanidae",
           "Ceruchus chrysomelinus"
          ],
          [
           "Arthropoda",
           "Insecta",
           "Coleoptera",
           "Lucanidae",
           "Ceruchus chrysomelinus"
          ],
          [
           "Arthropoda",
           "Insecta",
           "Coleoptera",
           "Lucanidae",
           "Ceruchus chrysomelinus"
          ],
          [
           "Arthropoda",
           "Insecta",
           "Coleoptera",
           "Lucanidae",
           "Ceruchus chrysomelinus"
          ],
          [
           "Arthropoda",
           "Insecta",
           "Coleoptera",
           "Lucanidae",
           "Ceruchus chrysomelinus"
          ],
          [
           "Arthropoda",
           "Insecta",
           "Coleoptera",
           "Lucanidae",
           "Ceruchus chrysomelinus"
          ],
          [
           "Arthropoda",
           "Insecta",
           "Coleoptera",
           "Lucanidae",
           "Ceruchus chrysomelinus"
          ],
          [
           "Arthropoda",
           "Insecta",
           "Coleoptera",
           "Lucanidae",
           "Ceruchus chrysomelinus"
          ],
          [
           "Arthropoda",
           "Insecta",
           "Coleoptera",
           "Lucanidae",
           "Ceruchus chrysomelinus"
          ],
          [
           "Arthropoda",
           "Insecta",
           "Coleoptera",
           "Lucanidae",
           "Ceruchus chrysomelinus"
          ],
          [
           "Arthropoda",
           "Insecta",
           "Coleoptera",
           "Lucanidae",
           "Ceruchus chrysomelinus"
          ],
          [
           "Arthropoda",
           "Insecta",
           "Coleoptera",
           "Lucanidae",
           "Ceruchus chrysomelinus"
          ],
          [
           "Arthropoda",
           "Insecta",
           "Coleoptera",
           "Lucanidae",
           "Ceruchus chrysomelinus"
          ],
          [
           "Arthropoda",
           "Insecta",
           "Coleoptera",
           "Lucanidae",
           "Ceruchus chrysomelinus"
          ],
          [
           "Arthropoda",
           "Insecta",
           "Coleoptera",
           "Lucanidae",
           "Ceruchus chrysomelinus"
          ],
          [
           "Arthropoda",
           "Insecta",
           "Coleoptera",
           "Lucanidae",
           "Ceruchus chrysomelinus"
          ],
          [
           "Arthropoda",
           "Insecta",
           "Coleoptera",
           "Lucanidae",
           "Ceruchus chrysomelinus"
          ],
          [
           "Arthropoda",
           "Insecta",
           "Coleoptera",
           "Lucanidae",
           "Ceruchus chrysomelinus"
          ],
          [
           "Arthropoda",
           "Insecta",
           "Coleoptera",
           "Lucanidae",
           "Ceruchus chrysomelinus"
          ],
          [
           "Arthropoda",
           "Insecta",
           "Coleoptera",
           "Lucanidae",
           "Ceruchus chrysomelinus"
          ],
          [
           "Arthropoda",
           "Insecta",
           "Coleoptera",
           "Lucanidae",
           "Ceruchus chrysomelinus"
          ],
          [
           "Arthropoda",
           "Insecta",
           "Coleoptera",
           "Lucanidae",
           "Ceruchus chrysomelinus"
          ],
          [
           "Arthropoda",
           "Insecta",
           "Coleoptera",
           "Lucanidae",
           "Ceruchus chrysomelinus"
          ],
          [
           "Arthropoda",
           "Insecta",
           "Coleoptera",
           "Lucanidae",
           "Ceruchus chrysomelinus"
          ],
          [
           "Arthropoda",
           "Insecta",
           "Coleoptera",
           "Lucanidae",
           "Ceruchus chrysomelinus"
          ],
          [
           "Arthropoda",
           "Insecta",
           "Coleoptera",
           "Lucanidae",
           "Ceruchus chrysomelinus"
          ],
          [
           "Arthropoda",
           "Insecta",
           "Coleoptera",
           "Lucanidae",
           "Ceruchus chrysomelinus"
          ],
          [
           "Arthropoda",
           "Insecta",
           "Coleoptera",
           "Lucanidae",
           "Ceruchus chrysomelinus"
          ],
          [
           "Arthropoda",
           "Insecta",
           "Coleoptera",
           "Lucanidae",
           "Ceruchus chrysomelinus"
          ]
         ],
         "hovertemplate": "Common Name=Ceruchus chrysomelinus<br>Genus=%{x}<br>Species=%{y}<br>phylum=%{customdata[0]}<br>class=%{customdata[1]}<br>order=%{customdata[2]}<br>family=%{customdata[3]}<br>sciName=%{customdata[4]}<extra></extra>",
         "legendgroup": "Ceruchus chrysomelinus",
         "marker": {
          "color": "#B6E880",
          "symbol": "circle"
         },
         "mode": "markers",
         "name": "Ceruchus chrysomelinus",
         "showlegend": true,
         "type": "scattergl",
         "x": [
          "Ceruchus",
          "Ceruchus",
          "Ceruchus",
          "Ceruchus",
          "Ceruchus",
          "Ceruchus",
          "Ceruchus",
          "Ceruchus",
          "Ceruchus",
          "Ceruchus",
          "Ceruchus",
          "Ceruchus",
          "Ceruchus",
          "Ceruchus",
          "Ceruchus",
          "Ceruchus",
          "Ceruchus",
          "Ceruchus",
          "Ceruchus",
          "Ceruchus",
          "Ceruchus",
          "Ceruchus",
          "Ceruchus",
          "Ceruchus",
          "Ceruchus",
          "Ceruchus",
          "Ceruchus",
          "Ceruchus",
          "Ceruchus",
          "Ceruchus"
         ],
         "xaxis": "x",
         "y": [
          "chrysomelinus",
          "chrysomelinus",
          "chrysomelinus",
          "chrysomelinus",
          "chrysomelinus",
          "chrysomelinus",
          "chrysomelinus",
          "chrysomelinus",
          "chrysomelinus",
          "chrysomelinus",
          "chrysomelinus",
          "chrysomelinus",
          "chrysomelinus",
          "chrysomelinus",
          "chrysomelinus",
          "chrysomelinus",
          "chrysomelinus",
          "chrysomelinus",
          "chrysomelinus",
          "chrysomelinus",
          "chrysomelinus",
          "chrysomelinus",
          "chrysomelinus",
          "chrysomelinus",
          "chrysomelinus",
          "chrysomelinus",
          "chrysomelinus",
          "chrysomelinus",
          "chrysomelinus",
          "chrysomelinus"
         ],
         "yaxis": "y"
        },
        {
         "customdata": [
          [
           "Arthropoda",
           "Insecta",
           "Hymenoptera",
           "Apidae",
           "Bombus crotchii"
          ],
          [
           "Arthropoda",
           "Insecta",
           "Hymenoptera",
           "Apidae",
           "Bombus crotchii"
          ],
          [
           "Arthropoda",
           "Insecta",
           "Hymenoptera",
           "Apidae",
           "Bombus crotchii"
          ],
          [
           "Arthropoda",
           "Insecta",
           "Hymenoptera",
           "Apidae",
           "Bombus crotchii"
          ],
          [
           "Arthropoda",
           "Insecta",
           "Hymenoptera",
           "Apidae",
           "Bombus crotchii"
          ],
          [
           "Arthropoda",
           "Insecta",
           "Hymenoptera",
           "Apidae",
           "Bombus crotchii"
          ],
          [
           "Arthropoda",
           "Insecta",
           "Hymenoptera",
           "Apidae",
           "Bombus crotchii"
          ],
          [
           "Arthropoda",
           "Insecta",
           "Hymenoptera",
           "Apidae",
           "Bombus crotchii"
          ],
          [
           "Arthropoda",
           "Insecta",
           "Hymenoptera",
           "Apidae",
           "Bombus crotchii"
          ],
          [
           "Arthropoda",
           "Insecta",
           "Hymenoptera",
           "Apidae",
           "Bombus crotchii"
          ],
          [
           "Arthropoda",
           "Insecta",
           "Hymenoptera",
           "Apidae",
           "Bombus crotchii"
          ],
          [
           "Arthropoda",
           "Insecta",
           "Hymenoptera",
           "Apidae",
           "Bombus crotchii"
          ],
          [
           "Arthropoda",
           "Insecta",
           "Hymenoptera",
           "Apidae",
           "Bombus crotchii"
          ],
          [
           "Arthropoda",
           "Insecta",
           "Hymenoptera",
           "Apidae",
           "Bombus crotchii"
          ],
          [
           "Arthropoda",
           "Insecta",
           "Hymenoptera",
           "Apidae",
           "Bombus crotchii"
          ],
          [
           "Arthropoda",
           "Insecta",
           "Hymenoptera",
           "Apidae",
           "Bombus crotchii"
          ],
          [
           "Arthropoda",
           "Insecta",
           "Hymenoptera",
           "Apidae",
           "Bombus crotchii"
          ],
          [
           "Arthropoda",
           "Insecta",
           "Hymenoptera",
           "Apidae",
           "Bombus crotchii"
          ],
          [
           "Arthropoda",
           "Insecta",
           "Hymenoptera",
           "Apidae",
           "Bombus crotchii"
          ],
          [
           "Arthropoda",
           "Insecta",
           "Hymenoptera",
           "Apidae",
           "Bombus crotchii"
          ],
          [
           "Arthropoda",
           "Insecta",
           "Hymenoptera",
           "Apidae",
           "Bombus crotchii"
          ],
          [
           "Arthropoda",
           "Insecta",
           "Hymenoptera",
           "Apidae",
           "Bombus crotchii"
          ],
          [
           "Arthropoda",
           "Insecta",
           "Hymenoptera",
           "Apidae",
           "Bombus crotchii"
          ],
          [
           "Arthropoda",
           "Insecta",
           "Hymenoptera",
           "Apidae",
           "Bombus crotchii"
          ],
          [
           "Arthropoda",
           "Insecta",
           "Hymenoptera",
           "Apidae",
           "Bombus crotchii"
          ],
          [
           "Arthropoda",
           "Insecta",
           "Hymenoptera",
           "Apidae",
           "Bombus crotchii"
          ],
          [
           "Arthropoda",
           "Insecta",
           "Hymenoptera",
           "Apidae",
           "Bombus crotchii"
          ],
          [
           "Arthropoda",
           "Insecta",
           "Hymenoptera",
           "Apidae",
           "Bombus crotchii"
          ],
          [
           "Arthropoda",
           "Insecta",
           "Hymenoptera",
           "Apidae",
           "Bombus crotchii"
          ],
          [
           "Arthropoda",
           "Insecta",
           "Hymenoptera",
           "Apidae",
           "Bombus crotchii"
          ]
         ],
         "hovertemplate": "Common Name=Crotch bumble bee<br>Genus=%{x}<br>Species=%{y}<br>phylum=%{customdata[0]}<br>class=%{customdata[1]}<br>order=%{customdata[2]}<br>family=%{customdata[3]}<br>sciName=%{customdata[4]}<extra></extra>",
         "legendgroup": "Crotch bumble bee",
         "marker": {
          "color": "#FF97FF",
          "symbol": "circle"
         },
         "mode": "markers",
         "name": "Crotch bumble bee",
         "showlegend": true,
         "type": "scattergl",
         "x": [
          "Bombus",
          "Bombus",
          "Bombus",
          "Bombus",
          "Bombus",
          "Bombus",
          "Bombus",
          "Bombus",
          "Bombus",
          "Bombus",
          "Bombus",
          "Bombus",
          "Bombus",
          "Bombus",
          "Bombus",
          "Bombus",
          "Bombus",
          "Bombus",
          "Bombus",
          "Bombus",
          "Bombus",
          "Bombus",
          "Bombus",
          "Bombus",
          "Bombus",
          "Bombus",
          "Bombus",
          "Bombus",
          "Bombus",
          "Bombus"
         ],
         "xaxis": "x",
         "y": [
          "crotchii",
          "crotchii",
          "crotchii",
          "crotchii",
          "crotchii",
          "crotchii",
          "crotchii",
          "crotchii",
          "crotchii",
          "crotchii",
          "crotchii",
          "crotchii",
          "crotchii",
          "crotchii",
          "crotchii",
          "crotchii",
          "crotchii",
          "crotchii",
          "crotchii",
          "crotchii",
          "crotchii",
          "crotchii",
          "crotchii",
          "crotchii",
          "crotchii",
          "crotchii",
          "crotchii",
          "crotchii",
          "crotchii",
          "crotchii"
         ],
         "yaxis": "y"
        },
        {
         "customdata": [
          [
           "Arthropoda",
           "Insecta",
           "Hymenoptera",
           "Apidae",
           "Bombus dahlbomii"
          ],
          [
           "Arthropoda",
           "Insecta",
           "Hymenoptera",
           "Apidae",
           "Bombus dahlbomii"
          ],
          [
           "Arthropoda",
           "Insecta",
           "Hymenoptera",
           "Apidae",
           "Bombus dahlbomii"
          ],
          [
           "Arthropoda",
           "Insecta",
           "Hymenoptera",
           "Apidae",
           "Bombus dahlbomii"
          ],
          [
           "Arthropoda",
           "Insecta",
           "Hymenoptera",
           "Apidae",
           "Bombus dahlbomii"
          ],
          [
           "Arthropoda",
           "Insecta",
           "Hymenoptera",
           "Apidae",
           "Bombus dahlbomii"
          ],
          [
           "Arthropoda",
           "Insecta",
           "Hymenoptera",
           "Apidae",
           "Bombus dahlbomii"
          ],
          [
           "Arthropoda",
           "Insecta",
           "Hymenoptera",
           "Apidae",
           "Bombus dahlbomii"
          ],
          [
           "Arthropoda",
           "Insecta",
           "Hymenoptera",
           "Apidae",
           "Bombus dahlbomii"
          ],
          [
           "Arthropoda",
           "Insecta",
           "Hymenoptera",
           "Apidae",
           "Bombus dahlbomii"
          ],
          [
           "Arthropoda",
           "Insecta",
           "Hymenoptera",
           "Apidae",
           "Bombus dahlbomii"
          ],
          [
           "Arthropoda",
           "Insecta",
           "Hymenoptera",
           "Apidae",
           "Bombus dahlbomii"
          ],
          [
           "Arthropoda",
           "Insecta",
           "Hymenoptera",
           "Apidae",
           "Bombus dahlbomii"
          ],
          [
           "Arthropoda",
           "Insecta",
           "Hymenoptera",
           "Apidae",
           "Bombus dahlbomii"
          ],
          [
           "Arthropoda",
           "Insecta",
           "Hymenoptera",
           "Apidae",
           "Bombus dahlbomii"
          ],
          [
           "Arthropoda",
           "Insecta",
           "Hymenoptera",
           "Apidae",
           "Bombus dahlbomii"
          ],
          [
           "Arthropoda",
           "Insecta",
           "Hymenoptera",
           "Apidae",
           "Bombus dahlbomii"
          ],
          [
           "Arthropoda",
           "Insecta",
           "Hymenoptera",
           "Apidae",
           "Bombus dahlbomii"
          ],
          [
           "Arthropoda",
           "Insecta",
           "Hymenoptera",
           "Apidae",
           "Bombus dahlbomii"
          ],
          [
           "Arthropoda",
           "Insecta",
           "Hymenoptera",
           "Apidae",
           "Bombus dahlbomii"
          ],
          [
           "Arthropoda",
           "Insecta",
           "Hymenoptera",
           "Apidae",
           "Bombus dahlbomii"
          ],
          [
           "Arthropoda",
           "Insecta",
           "Hymenoptera",
           "Apidae",
           "Bombus dahlbomii"
          ],
          [
           "Arthropoda",
           "Insecta",
           "Hymenoptera",
           "Apidae",
           "Bombus dahlbomii"
          ],
          [
           "Arthropoda",
           "Insecta",
           "Hymenoptera",
           "Apidae",
           "Bombus dahlbomii"
          ],
          [
           "Arthropoda",
           "Insecta",
           "Hymenoptera",
           "Apidae",
           "Bombus dahlbomii"
          ],
          [
           "Arthropoda",
           "Insecta",
           "Hymenoptera",
           "Apidae",
           "Bombus dahlbomii"
          ],
          [
           "Arthropoda",
           "Insecta",
           "Hymenoptera",
           "Apidae",
           "Bombus dahlbomii"
          ],
          [
           "Arthropoda",
           "Insecta",
           "Hymenoptera",
           "Apidae",
           "Bombus dahlbomii"
          ],
          [
           "Arthropoda",
           "Insecta",
           "Hymenoptera",
           "Apidae",
           "Bombus dahlbomii"
          ],
          [
           "Arthropoda",
           "Insecta",
           "Hymenoptera",
           "Apidae",
           "Bombus dahlbomii"
          ]
         ],
         "hovertemplate": "Common Name=Giant Bumble Bee<br>Genus=%{x}<br>Species=%{y}<br>phylum=%{customdata[0]}<br>class=%{customdata[1]}<br>order=%{customdata[2]}<br>family=%{customdata[3]}<br>sciName=%{customdata[4]}<extra></extra>",
         "legendgroup": "Giant Bumble Bee",
         "marker": {
          "color": "#FECB52",
          "symbol": "circle"
         },
         "mode": "markers",
         "name": "Giant Bumble Bee",
         "showlegend": true,
         "type": "scattergl",
         "x": [
          "Bombus",
          "Bombus",
          "Bombus",
          "Bombus",
          "Bombus",
          "Bombus",
          "Bombus",
          "Bombus",
          "Bombus",
          "Bombus",
          "Bombus",
          "Bombus",
          "Bombus",
          "Bombus",
          "Bombus",
          "Bombus",
          "Bombus",
          "Bombus",
          "Bombus",
          "Bombus",
          "Bombus",
          "Bombus",
          "Bombus",
          "Bombus",
          "Bombus",
          "Bombus",
          "Bombus",
          "Bombus",
          "Bombus",
          "Bombus"
         ],
         "xaxis": "x",
         "y": [
          "dahlbomii",
          "dahlbomii",
          "dahlbomii",
          "dahlbomii",
          "dahlbomii",
          "dahlbomii",
          "dahlbomii",
          "dahlbomii",
          "dahlbomii",
          "dahlbomii",
          "dahlbomii",
          "dahlbomii",
          "dahlbomii",
          "dahlbomii",
          "dahlbomii",
          "dahlbomii",
          "dahlbomii",
          "dahlbomii",
          "dahlbomii",
          "dahlbomii",
          "dahlbomii",
          "dahlbomii",
          "dahlbomii",
          "dahlbomii",
          "dahlbomii",
          "dahlbomii",
          "dahlbomii",
          "dahlbomii",
          "dahlbomii",
          "dahlbomii"
         ],
         "yaxis": "y"
        },
        {
         "customdata": [
          [
           "Arthropoda",
           "Insecta",
           "Hymenoptera",
           "Apidae",
           "Bombus mexicanus"
          ],
          [
           "Arthropoda",
           "Insecta",
           "Hymenoptera",
           "Apidae",
           "Bombus mexicanus"
          ],
          [
           "Arthropoda",
           "Insecta",
           "Hymenoptera",
           "Apidae",
           "Bombus mexicanus"
          ],
          [
           "Arthropoda",
           "Insecta",
           "Hymenoptera",
           "Apidae",
           "Bombus mexicanus"
          ],
          [
           "Arthropoda",
           "Insecta",
           "Hymenoptera",
           "Apidae",
           "Bombus mexicanus"
          ],
          [
           "Arthropoda",
           "Insecta",
           "Hymenoptera",
           "Apidae",
           "Bombus mexicanus"
          ],
          [
           "Arthropoda",
           "Insecta",
           "Hymenoptera",
           "Apidae",
           "Bombus mexicanus"
          ],
          [
           "Arthropoda",
           "Insecta",
           "Hymenoptera",
           "Apidae",
           "Bombus mexicanus"
          ],
          [
           "Arthropoda",
           "Insecta",
           "Hymenoptera",
           "Apidae",
           "Bombus mexicanus"
          ],
          [
           "Arthropoda",
           "Insecta",
           "Hymenoptera",
           "Apidae",
           "Bombus mexicanus"
          ],
          [
           "Arthropoda",
           "Insecta",
           "Hymenoptera",
           "Apidae",
           "Bombus mexicanus"
          ],
          [
           "Arthropoda",
           "Insecta",
           "Hymenoptera",
           "Apidae",
           "Bombus mexicanus"
          ],
          [
           "Arthropoda",
           "Insecta",
           "Hymenoptera",
           "Apidae",
           "Bombus mexicanus"
          ],
          [
           "Arthropoda",
           "Insecta",
           "Hymenoptera",
           "Apidae",
           "Bombus mexicanus"
          ],
          [
           "Arthropoda",
           "Insecta",
           "Hymenoptera",
           "Apidae",
           "Bombus mexicanus"
          ],
          [
           "Arthropoda",
           "Insecta",
           "Hymenoptera",
           "Apidae",
           "Bombus mexicanus"
          ],
          [
           "Arthropoda",
           "Insecta",
           "Hymenoptera",
           "Apidae",
           "Bombus mexicanus"
          ],
          [
           "Arthropoda",
           "Insecta",
           "Hymenoptera",
           "Apidae",
           "Bombus mexicanus"
          ],
          [
           "Arthropoda",
           "Insecta",
           "Hymenoptera",
           "Apidae",
           "Bombus mexicanus"
          ],
          [
           "Arthropoda",
           "Insecta",
           "Hymenoptera",
           "Apidae",
           "Bombus mexicanus"
          ],
          [
           "Arthropoda",
           "Insecta",
           "Hymenoptera",
           "Apidae",
           "Bombus mexicanus"
          ],
          [
           "Arthropoda",
           "Insecta",
           "Hymenoptera",
           "Apidae",
           "Bombus mexicanus"
          ],
          [
           "Arthropoda",
           "Insecta",
           "Hymenoptera",
           "Apidae",
           "Bombus mexicanus"
          ],
          [
           "Arthropoda",
           "Insecta",
           "Hymenoptera",
           "Apidae",
           "Bombus mexicanus"
          ],
          [
           "Arthropoda",
           "Insecta",
           "Hymenoptera",
           "Apidae",
           "Bombus mexicanus"
          ],
          [
           "Arthropoda",
           "Insecta",
           "Hymenoptera",
           "Apidae",
           "Bombus mexicanus"
          ],
          [
           "Arthropoda",
           "Insecta",
           "Hymenoptera",
           "Apidae",
           "Bombus mexicanus"
          ],
          [
           "Arthropoda",
           "Insecta",
           "Hymenoptera",
           "Apidae",
           "Bombus mexicanus"
          ],
          [
           "Arthropoda",
           "Insecta",
           "Hymenoptera",
           "Apidae",
           "Bombus mexicanus"
          ],
          [
           "Arthropoda",
           "Insecta",
           "Hymenoptera",
           "Apidae",
           "Bombus mexicanus"
          ]
         ],
         "hovertemplate": "Common Name=Mexican Bumble Bee<br>Genus=%{x}<br>Species=%{y}<br>phylum=%{customdata[0]}<br>class=%{customdata[1]}<br>order=%{customdata[2]}<br>family=%{customdata[3]}<br>sciName=%{customdata[4]}<extra></extra>",
         "legendgroup": "Mexican Bumble Bee",
         "marker": {
          "color": "#636efa",
          "symbol": "circle"
         },
         "mode": "markers",
         "name": "Mexican Bumble Bee",
         "showlegend": true,
         "type": "scattergl",
         "x": [
          "Bombus",
          "Bombus",
          "Bombus",
          "Bombus",
          "Bombus",
          "Bombus",
          "Bombus",
          "Bombus",
          "Bombus",
          "Bombus",
          "Bombus",
          "Bombus",
          "Bombus",
          "Bombus",
          "Bombus",
          "Bombus",
          "Bombus",
          "Bombus",
          "Bombus",
          "Bombus",
          "Bombus",
          "Bombus",
          "Bombus",
          "Bombus",
          "Bombus",
          "Bombus",
          "Bombus",
          "Bombus",
          "Bombus",
          "Bombus"
         ],
         "xaxis": "x",
         "y": [
          "mexicanus",
          "mexicanus",
          "mexicanus",
          "mexicanus",
          "mexicanus",
          "mexicanus",
          "mexicanus",
          "mexicanus",
          "mexicanus",
          "mexicanus",
          "mexicanus",
          "mexicanus",
          "mexicanus",
          "mexicanus",
          "mexicanus",
          "mexicanus",
          "mexicanus",
          "mexicanus",
          "mexicanus",
          "mexicanus",
          "mexicanus",
          "mexicanus",
          "mexicanus",
          "mexicanus",
          "mexicanus",
          "mexicanus",
          "mexicanus",
          "mexicanus",
          "mexicanus",
          "mexicanus"
         ],
         "yaxis": "y"
        },
        {
         "customdata": [
          [
           "Arthropoda",
           "Insecta",
           "Hymenoptera",
           "Apidae",
           "Bombus morrisoni"
          ],
          [
           "Arthropoda",
           "Insecta",
           "Hymenoptera",
           "Apidae",
           "Bombus morrisoni"
          ],
          [
           "Arthropoda",
           "Insecta",
           "Hymenoptera",
           "Apidae",
           "Bombus morrisoni"
          ],
          [
           "Arthropoda",
           "Insecta",
           "Hymenoptera",
           "Apidae",
           "Bombus morrisoni"
          ],
          [
           "Arthropoda",
           "Insecta",
           "Hymenoptera",
           "Apidae",
           "Bombus morrisoni"
          ],
          [
           "Arthropoda",
           "Insecta",
           "Hymenoptera",
           "Apidae",
           "Bombus morrisoni"
          ],
          [
           "Arthropoda",
           "Insecta",
           "Hymenoptera",
           "Apidae",
           "Bombus morrisoni"
          ],
          [
           "Arthropoda",
           "Insecta",
           "Hymenoptera",
           "Apidae",
           "Bombus morrisoni"
          ],
          [
           "Arthropoda",
           "Insecta",
           "Hymenoptera",
           "Apidae",
           "Bombus morrisoni"
          ],
          [
           "Arthropoda",
           "Insecta",
           "Hymenoptera",
           "Apidae",
           "Bombus morrisoni"
          ],
          [
           "Arthropoda",
           "Insecta",
           "Hymenoptera",
           "Apidae",
           "Bombus morrisoni"
          ],
          [
           "Arthropoda",
           "Insecta",
           "Hymenoptera",
           "Apidae",
           "Bombus morrisoni"
          ],
          [
           "Arthropoda",
           "Insecta",
           "Hymenoptera",
           "Apidae",
           "Bombus morrisoni"
          ],
          [
           "Arthropoda",
           "Insecta",
           "Hymenoptera",
           "Apidae",
           "Bombus morrisoni"
          ],
          [
           "Arthropoda",
           "Insecta",
           "Hymenoptera",
           "Apidae",
           "Bombus morrisoni"
          ],
          [
           "Arthropoda",
           "Insecta",
           "Hymenoptera",
           "Apidae",
           "Bombus morrisoni"
          ],
          [
           "Arthropoda",
           "Insecta",
           "Hymenoptera",
           "Apidae",
           "Bombus morrisoni"
          ],
          [
           "Arthropoda",
           "Insecta",
           "Hymenoptera",
           "Apidae",
           "Bombus morrisoni"
          ],
          [
           "Arthropoda",
           "Insecta",
           "Hymenoptera",
           "Apidae",
           "Bombus morrisoni"
          ],
          [
           "Arthropoda",
           "Insecta",
           "Hymenoptera",
           "Apidae",
           "Bombus morrisoni"
          ],
          [
           "Arthropoda",
           "Insecta",
           "Hymenoptera",
           "Apidae",
           "Bombus morrisoni"
          ],
          [
           "Arthropoda",
           "Insecta",
           "Hymenoptera",
           "Apidae",
           "Bombus morrisoni"
          ],
          [
           "Arthropoda",
           "Insecta",
           "Hymenoptera",
           "Apidae",
           "Bombus morrisoni"
          ],
          [
           "Arthropoda",
           "Insecta",
           "Hymenoptera",
           "Apidae",
           "Bombus morrisoni"
          ],
          [
           "Arthropoda",
           "Insecta",
           "Hymenoptera",
           "Apidae",
           "Bombus morrisoni"
          ],
          [
           "Arthropoda",
           "Insecta",
           "Hymenoptera",
           "Apidae",
           "Bombus morrisoni"
          ],
          [
           "Arthropoda",
           "Insecta",
           "Hymenoptera",
           "Apidae",
           "Bombus morrisoni"
          ],
          [
           "Arthropoda",
           "Insecta",
           "Hymenoptera",
           "Apidae",
           "Bombus morrisoni"
          ],
          [
           "Arthropoda",
           "Insecta",
           "Hymenoptera",
           "Apidae",
           "Bombus morrisoni"
          ],
          [
           "Arthropoda",
           "Insecta",
           "Hymenoptera",
           "Apidae",
           "Bombus morrisoni"
          ]
         ],
         "hovertemplate": "Common Name=Morrison Bumblebee<br>Genus=%{x}<br>Species=%{y}<br>phylum=%{customdata[0]}<br>class=%{customdata[1]}<br>order=%{customdata[2]}<br>family=%{customdata[3]}<br>sciName=%{customdata[4]}<extra></extra>",
         "legendgroup": "Morrison Bumblebee",
         "marker": {
          "color": "#EF553B",
          "symbol": "circle"
         },
         "mode": "markers",
         "name": "Morrison Bumblebee",
         "showlegend": true,
         "type": "scattergl",
         "x": [
          "Bombus",
          "Bombus",
          "Bombus",
          "Bombus",
          "Bombus",
          "Bombus",
          "Bombus",
          "Bombus",
          "Bombus",
          "Bombus",
          "Bombus",
          "Bombus",
          "Bombus",
          "Bombus",
          "Bombus",
          "Bombus",
          "Bombus",
          "Bombus",
          "Bombus",
          "Bombus",
          "Bombus",
          "Bombus",
          "Bombus",
          "Bombus",
          "Bombus",
          "Bombus",
          "Bombus",
          "Bombus",
          "Bombus",
          "Bombus"
         ],
         "xaxis": "x",
         "y": [
          "morrisoni",
          "morrisoni",
          "morrisoni",
          "morrisoni",
          "morrisoni",
          "morrisoni",
          "morrisoni",
          "morrisoni",
          "morrisoni",
          "morrisoni",
          "morrisoni",
          "morrisoni",
          "morrisoni",
          "morrisoni",
          "morrisoni",
          "morrisoni",
          "morrisoni",
          "morrisoni",
          "morrisoni",
          "morrisoni",
          "morrisoni",
          "morrisoni",
          "morrisoni",
          "morrisoni",
          "morrisoni",
          "morrisoni",
          "morrisoni",
          "morrisoni",
          "morrisoni",
          "morrisoni"
         ],
         "yaxis": "y"
        },
        {
         "customdata": [
          [
           "Arthropoda",
           "Insecta",
           "Hymenoptera",
           "Apidae",
           "Bombus variabilis"
          ],
          [
           "Arthropoda",
           "Insecta",
           "Hymenoptera",
           "Apidae",
           "Bombus variabilis"
          ],
          [
           "Arthropoda",
           "Insecta",
           "Hymenoptera",
           "Apidae",
           "Bombus variabilis"
          ],
          [
           "Arthropoda",
           "Insecta",
           "Hymenoptera",
           "Apidae",
           "Bombus variabilis"
          ],
          [
           "Arthropoda",
           "Insecta",
           "Hymenoptera",
           "Apidae",
           "Bombus variabilis"
          ],
          [
           "Arthropoda",
           "Insecta",
           "Hymenoptera",
           "Apidae",
           "Bombus variabilis"
          ],
          [
           "Arthropoda",
           "Insecta",
           "Hymenoptera",
           "Apidae",
           "Bombus variabilis"
          ],
          [
           "Arthropoda",
           "Insecta",
           "Hymenoptera",
           "Apidae",
           "Bombus variabilis"
          ],
          [
           "Arthropoda",
           "Insecta",
           "Hymenoptera",
           "Apidae",
           "Bombus variabilis"
          ],
          [
           "Arthropoda",
           "Insecta",
           "Hymenoptera",
           "Apidae",
           "Bombus variabilis"
          ],
          [
           "Arthropoda",
           "Insecta",
           "Hymenoptera",
           "Apidae",
           "Bombus variabilis"
          ],
          [
           "Arthropoda",
           "Insecta",
           "Hymenoptera",
           "Apidae",
           "Bombus variabilis"
          ],
          [
           "Arthropoda",
           "Insecta",
           "Hymenoptera",
           "Apidae",
           "Bombus variabilis"
          ],
          [
           "Arthropoda",
           "Insecta",
           "Hymenoptera",
           "Apidae",
           "Bombus variabilis"
          ],
          [
           "Arthropoda",
           "Insecta",
           "Hymenoptera",
           "Apidae",
           "Bombus variabilis"
          ],
          [
           "Arthropoda",
           "Insecta",
           "Hymenoptera",
           "Apidae",
           "Bombus variabilis"
          ],
          [
           "Arthropoda",
           "Insecta",
           "Hymenoptera",
           "Apidae",
           "Bombus variabilis"
          ],
          [
           "Arthropoda",
           "Insecta",
           "Hymenoptera",
           "Apidae",
           "Bombus variabilis"
          ],
          [
           "Arthropoda",
           "Insecta",
           "Hymenoptera",
           "Apidae",
           "Bombus variabilis"
          ],
          [
           "Arthropoda",
           "Insecta",
           "Hymenoptera",
           "Apidae",
           "Bombus variabilis"
          ],
          [
           "Arthropoda",
           "Insecta",
           "Hymenoptera",
           "Apidae",
           "Bombus variabilis"
          ],
          [
           "Arthropoda",
           "Insecta",
           "Hymenoptera",
           "Apidae",
           "Bombus variabilis"
          ],
          [
           "Arthropoda",
           "Insecta",
           "Hymenoptera",
           "Apidae",
           "Bombus variabilis"
          ],
          [
           "Arthropoda",
           "Insecta",
           "Hymenoptera",
           "Apidae",
           "Bombus variabilis"
          ],
          [
           "Arthropoda",
           "Insecta",
           "Hymenoptera",
           "Apidae",
           "Bombus variabilis"
          ],
          [
           "Arthropoda",
           "Insecta",
           "Hymenoptera",
           "Apidae",
           "Bombus variabilis"
          ],
          [
           "Arthropoda",
           "Insecta",
           "Hymenoptera",
           "Apidae",
           "Bombus variabilis"
          ],
          [
           "Arthropoda",
           "Insecta",
           "Hymenoptera",
           "Apidae",
           "Bombus variabilis"
          ],
          [
           "Arthropoda",
           "Insecta",
           "Hymenoptera",
           "Apidae",
           "Bombus variabilis"
          ],
          [
           "Arthropoda",
           "Insecta",
           "Hymenoptera",
           "Apidae",
           "Bombus variabilis"
          ]
         ],
         "hovertemplate": "Common Name=Variable Cuckoo Bumble Bee<br>Genus=%{x}<br>Species=%{y}<br>phylum=%{customdata[0]}<br>class=%{customdata[1]}<br>order=%{customdata[2]}<br>family=%{customdata[3]}<br>sciName=%{customdata[4]}<extra></extra>",
         "legendgroup": "Variable Cuckoo Bumble Bee",
         "marker": {
          "color": "#00cc96",
          "symbol": "circle"
         },
         "mode": "markers",
         "name": "Variable Cuckoo Bumble Bee",
         "showlegend": true,
         "type": "scattergl",
         "x": [
          "Bombus",
          "Bombus",
          "Bombus",
          "Bombus",
          "Bombus",
          "Bombus",
          "Bombus",
          "Bombus",
          "Bombus",
          "Bombus",
          "Bombus",
          "Bombus",
          "Bombus",
          "Bombus",
          "Bombus",
          "Bombus",
          "Bombus",
          "Bombus",
          "Bombus",
          "Bombus",
          "Bombus",
          "Bombus",
          "Bombus",
          "Bombus",
          "Bombus",
          "Bombus",
          "Bombus",
          "Bombus",
          "Bombus",
          "Bombus"
         ],
         "xaxis": "x",
         "y": [
          "variabilis",
          "variabilis",
          "variabilis",
          "variabilis",
          "variabilis",
          "variabilis",
          "variabilis",
          "variabilis",
          "variabilis",
          "variabilis",
          "variabilis",
          "variabilis",
          "variabilis",
          "variabilis",
          "variabilis",
          "variabilis",
          "variabilis",
          "variabilis",
          "variabilis",
          "variabilis",
          "variabilis",
          "variabilis",
          "variabilis",
          "variabilis",
          "variabilis",
          "variabilis",
          "variabilis",
          "variabilis",
          "variabilis",
          "variabilis"
         ],
         "yaxis": "y"
        },
        {
         "customdata": [
          [
           "Arthropoda",
           "Insecta",
           "Hymenoptera",
           "Formicidae",
           "Adetomyrma venatrix"
          ],
          [
           "Arthropoda",
           "Insecta",
           "Hymenoptera",
           "Formicidae",
           "Adetomyrma venatrix"
          ],
          [
           "Arthropoda",
           "Insecta",
           "Hymenoptera",
           "Formicidae",
           "Adetomyrma venatrix"
          ],
          [
           "Arthropoda",
           "Insecta",
           "Hymenoptera",
           "Formicidae",
           "Adetomyrma venatrix"
          ],
          [
           "Arthropoda",
           "Insecta",
           "Hymenoptera",
           "Formicidae",
           "Adetomyrma venatrix"
          ],
          [
           "Arthropoda",
           "Insecta",
           "Hymenoptera",
           "Formicidae",
           "Adetomyrma venatrix"
          ],
          [
           "Arthropoda",
           "Insecta",
           "Hymenoptera",
           "Formicidae",
           "Adetomyrma venatrix"
          ],
          [
           "Arthropoda",
           "Insecta",
           "Hymenoptera",
           "Formicidae",
           "Adetomyrma venatrix"
          ],
          [
           "Arthropoda",
           "Insecta",
           "Hymenoptera",
           "Formicidae",
           "Adetomyrma venatrix"
          ],
          [
           "Arthropoda",
           "Insecta",
           "Hymenoptera",
           "Formicidae",
           "Adetomyrma venatrix"
          ],
          [
           "Arthropoda",
           "Insecta",
           "Hymenoptera",
           "Formicidae",
           "Adetomyrma venatrix"
          ],
          [
           "Arthropoda",
           "Insecta",
           "Hymenoptera",
           "Formicidae",
           "Adetomyrma venatrix"
          ],
          [
           "Arthropoda",
           "Insecta",
           "Hymenoptera",
           "Formicidae",
           "Adetomyrma venatrix"
          ],
          [
           "Arthropoda",
           "Insecta",
           "Hymenoptera",
           "Formicidae",
           "Adetomyrma venatrix"
          ],
          [
           "Arthropoda",
           "Insecta",
           "Hymenoptera",
           "Formicidae",
           "Adetomyrma venatrix"
          ],
          [
           "Arthropoda",
           "Insecta",
           "Hymenoptera",
           "Formicidae",
           "Adetomyrma venatrix"
          ],
          [
           "Arthropoda",
           "Insecta",
           "Hymenoptera",
           "Formicidae",
           "Adetomyrma venatrix"
          ],
          [
           "Arthropoda",
           "Insecta",
           "Hymenoptera",
           "Formicidae",
           "Adetomyrma venatrix"
          ],
          [
           "Arthropoda",
           "Insecta",
           "Hymenoptera",
           "Formicidae",
           "Adetomyrma venatrix"
          ],
          [
           "Arthropoda",
           "Insecta",
           "Hymenoptera",
           "Formicidae",
           "Adetomyrma venatrix"
          ],
          [
           "Arthropoda",
           "Insecta",
           "Hymenoptera",
           "Formicidae",
           "Adetomyrma venatrix"
          ],
          [
           "Arthropoda",
           "Insecta",
           "Hymenoptera",
           "Formicidae",
           "Adetomyrma venatrix"
          ],
          [
           "Arthropoda",
           "Insecta",
           "Hymenoptera",
           "Formicidae",
           "Adetomyrma venatrix"
          ],
          [
           "Arthropoda",
           "Insecta",
           "Hymenoptera",
           "Formicidae",
           "Adetomyrma venatrix"
          ],
          [
           "Arthropoda",
           "Insecta",
           "Hymenoptera",
           "Formicidae",
           "Adetomyrma venatrix"
          ],
          [
           "Arthropoda",
           "Insecta",
           "Hymenoptera",
           "Formicidae",
           "Adetomyrma venatrix"
          ],
          [
           "Arthropoda",
           "Insecta",
           "Hymenoptera",
           "Formicidae",
           "Adetomyrma venatrix"
          ],
          [
           "Arthropoda",
           "Insecta",
           "Hymenoptera",
           "Formicidae",
           "Adetomyrma venatrix"
          ],
          [
           "Arthropoda",
           "Insecta",
           "Hymenoptera",
           "Formicidae",
           "Adetomyrma venatrix"
          ],
          [
           "Arthropoda",
           "Insecta",
           "Hymenoptera",
           "Formicidae",
           "Adetomyrma venatrix"
          ]
         ],
         "hovertemplate": "Common Name=dracula ant<br>Genus=%{x}<br>Species=%{y}<br>phylum=%{customdata[0]}<br>class=%{customdata[1]}<br>order=%{customdata[2]}<br>family=%{customdata[3]}<br>sciName=%{customdata[4]}<extra></extra>",
         "legendgroup": "dracula ant",
         "marker": {
          "color": "#ab63fa",
          "symbol": "circle"
         },
         "mode": "markers",
         "name": "dracula ant",
         "showlegend": true,
         "type": "scattergl",
         "x": [
          "Adetomyrma",
          "Adetomyrma",
          "Adetomyrma",
          "Adetomyrma",
          "Adetomyrma",
          "Adetomyrma",
          "Adetomyrma",
          "Adetomyrma",
          "Adetomyrma",
          "Adetomyrma",
          "Adetomyrma",
          "Adetomyrma",
          "Adetomyrma",
          "Adetomyrma",
          "Adetomyrma",
          "Adetomyrma",
          "Adetomyrma",
          "Adetomyrma",
          "Adetomyrma",
          "Adetomyrma",
          "Adetomyrma",
          "Adetomyrma",
          "Adetomyrma",
          "Adetomyrma",
          "Adetomyrma",
          "Adetomyrma",
          "Adetomyrma",
          "Adetomyrma",
          "Adetomyrma",
          "Adetomyrma"
         ],
         "xaxis": "x",
         "y": [
          "venatrix",
          "venatrix",
          "venatrix",
          "venatrix",
          "venatrix",
          "venatrix",
          "venatrix",
          "venatrix",
          "venatrix",
          "venatrix",
          "venatrix",
          "venatrix",
          "venatrix",
          "venatrix",
          "venatrix",
          "venatrix",
          "venatrix",
          "venatrix",
          "venatrix",
          "venatrix",
          "venatrix",
          "venatrix",
          "venatrix",
          "venatrix",
          "venatrix",
          "venatrix",
          "venatrix",
          "venatrix",
          "venatrix",
          "venatrix"
         ],
         "yaxis": "y"
        },
        {
         "customdata": [
          [
           "Arthropoda",
           "Insecta",
           "Hymenoptera",
           "Formicidae",
           "Aneuretus simoni"
          ],
          [
           "Arthropoda",
           "Insecta",
           "Hymenoptera",
           "Formicidae",
           "Aneuretus simoni"
          ],
          [
           "Arthropoda",
           "Insecta",
           "Hymenoptera",
           "Formicidae",
           "Aneuretus simoni"
          ],
          [
           "Arthropoda",
           "Insecta",
           "Hymenoptera",
           "Formicidae",
           "Aneuretus simoni"
          ],
          [
           "Arthropoda",
           "Insecta",
           "Hymenoptera",
           "Formicidae",
           "Aneuretus simoni"
          ],
          [
           "Arthropoda",
           "Insecta",
           "Hymenoptera",
           "Formicidae",
           "Aneuretus simoni"
          ],
          [
           "Arthropoda",
           "Insecta",
           "Hymenoptera",
           "Formicidae",
           "Aneuretus simoni"
          ],
          [
           "Arthropoda",
           "Insecta",
           "Hymenoptera",
           "Formicidae",
           "Aneuretus simoni"
          ],
          [
           "Arthropoda",
           "Insecta",
           "Hymenoptera",
           "Formicidae",
           "Aneuretus simoni"
          ],
          [
           "Arthropoda",
           "Insecta",
           "Hymenoptera",
           "Formicidae",
           "Aneuretus simoni"
          ],
          [
           "Arthropoda",
           "Insecta",
           "Hymenoptera",
           "Formicidae",
           "Aneuretus simoni"
          ],
          [
           "Arthropoda",
           "Insecta",
           "Hymenoptera",
           "Formicidae",
           "Aneuretus simoni"
          ],
          [
           "Arthropoda",
           "Insecta",
           "Hymenoptera",
           "Formicidae",
           "Aneuretus simoni"
          ],
          [
           "Arthropoda",
           "Insecta",
           "Hymenoptera",
           "Formicidae",
           "Aneuretus simoni"
          ],
          [
           "Arthropoda",
           "Insecta",
           "Hymenoptera",
           "Formicidae",
           "Aneuretus simoni"
          ],
          [
           "Arthropoda",
           "Insecta",
           "Hymenoptera",
           "Formicidae",
           "Aneuretus simoni"
          ],
          [
           "Arthropoda",
           "Insecta",
           "Hymenoptera",
           "Formicidae",
           "Aneuretus simoni"
          ],
          [
           "Arthropoda",
           "Insecta",
           "Hymenoptera",
           "Formicidae",
           "Aneuretus simoni"
          ],
          [
           "Arthropoda",
           "Insecta",
           "Hymenoptera",
           "Formicidae",
           "Aneuretus simoni"
          ],
          [
           "Arthropoda",
           "Insecta",
           "Hymenoptera",
           "Formicidae",
           "Aneuretus simoni"
          ],
          [
           "Arthropoda",
           "Insecta",
           "Hymenoptera",
           "Formicidae",
           "Aneuretus simoni"
          ],
          [
           "Arthropoda",
           "Insecta",
           "Hymenoptera",
           "Formicidae",
           "Aneuretus simoni"
          ],
          [
           "Arthropoda",
           "Insecta",
           "Hymenoptera",
           "Formicidae",
           "Aneuretus simoni"
          ],
          [
           "Arthropoda",
           "Insecta",
           "Hymenoptera",
           "Formicidae",
           "Aneuretus simoni"
          ],
          [
           "Arthropoda",
           "Insecta",
           "Hymenoptera",
           "Formicidae",
           "Aneuretus simoni"
          ],
          [
           "Arthropoda",
           "Insecta",
           "Hymenoptera",
           "Formicidae",
           "Aneuretus simoni"
          ],
          [
           "Arthropoda",
           "Insecta",
           "Hymenoptera",
           "Formicidae",
           "Aneuretus simoni"
          ],
          [
           "Arthropoda",
           "Insecta",
           "Hymenoptera",
           "Formicidae",
           "Aneuretus simoni"
          ],
          [
           "Arthropoda",
           "Insecta",
           "Hymenoptera",
           "Formicidae",
           "Aneuretus simoni"
          ],
          [
           "Arthropoda",
           "Insecta",
           "Hymenoptera",
           "Formicidae",
           "Aneuretus simoni"
          ]
         ],
         "hovertemplate": "Common Name=Sri Lankan Relict Ant<br>Genus=%{x}<br>Species=%{y}<br>phylum=%{customdata[0]}<br>class=%{customdata[1]}<br>order=%{customdata[2]}<br>family=%{customdata[3]}<br>sciName=%{customdata[4]}<extra></extra>",
         "legendgroup": "Sri Lankan Relict Ant",
         "marker": {
          "color": "#FFA15A",
          "symbol": "circle"
         },
         "mode": "markers",
         "name": "Sri Lankan Relict Ant",
         "showlegend": true,
         "type": "scattergl",
         "x": [
          "Aneuretus",
          "Aneuretus",
          "Aneuretus",
          "Aneuretus",
          "Aneuretus",
          "Aneuretus",
          "Aneuretus",
          "Aneuretus",
          "Aneuretus",
          "Aneuretus",
          "Aneuretus",
          "Aneuretus",
          "Aneuretus",
          "Aneuretus",
          "Aneuretus",
          "Aneuretus",
          "Aneuretus",
          "Aneuretus",
          "Aneuretus",
          "Aneuretus",
          "Aneuretus",
          "Aneuretus",
          "Aneuretus",
          "Aneuretus",
          "Aneuretus",
          "Aneuretus",
          "Aneuretus",
          "Aneuretus",
          "Aneuretus",
          "Aneuretus"
         ],
         "xaxis": "x",
         "y": [
          "simoni",
          "simoni",
          "simoni",
          "simoni",
          "simoni",
          "simoni",
          "simoni",
          "simoni",
          "simoni",
          "simoni",
          "simoni",
          "simoni",
          "simoni",
          "simoni",
          "simoni",
          "simoni",
          "simoni",
          "simoni",
          "simoni",
          "simoni",
          "simoni",
          "simoni",
          "simoni",
          "simoni",
          "simoni",
          "simoni",
          "simoni",
          "simoni",
          "simoni",
          "simoni"
         ],
         "yaxis": "y"
        },
        {
         "customdata": [
          [
           "Arthropoda",
           "Insecta",
           "Hymenoptera",
           "Formicidae",
           "Dorymyrmex insanus"
          ],
          [
           "Arthropoda",
           "Insecta",
           "Hymenoptera",
           "Formicidae",
           "Dorymyrmex insanus"
          ],
          [
           "Arthropoda",
           "Insecta",
           "Hymenoptera",
           "Formicidae",
           "Dorymyrmex insanus"
          ],
          [
           "Arthropoda",
           "Insecta",
           "Hymenoptera",
           "Formicidae",
           "Dorymyrmex insanus"
          ],
          [
           "Arthropoda",
           "Insecta",
           "Hymenoptera",
           "Formicidae",
           "Dorymyrmex insanus"
          ],
          [
           "Arthropoda",
           "Insecta",
           "Hymenoptera",
           "Formicidae",
           "Dorymyrmex insanus"
          ],
          [
           "Arthropoda",
           "Insecta",
           "Hymenoptera",
           "Formicidae",
           "Dorymyrmex insanus"
          ],
          [
           "Arthropoda",
           "Insecta",
           "Hymenoptera",
           "Formicidae",
           "Dorymyrmex insanus"
          ],
          [
           "Arthropoda",
           "Insecta",
           "Hymenoptera",
           "Formicidae",
           "Dorymyrmex insanus"
          ],
          [
           "Arthropoda",
           "Insecta",
           "Hymenoptera",
           "Formicidae",
           "Dorymyrmex insanus"
          ],
          [
           "Arthropoda",
           "Insecta",
           "Hymenoptera",
           "Formicidae",
           "Dorymyrmex insanus"
          ],
          [
           "Arthropoda",
           "Insecta",
           "Hymenoptera",
           "Formicidae",
           "Dorymyrmex insanus"
          ],
          [
           "Arthropoda",
           "Insecta",
           "Hymenoptera",
           "Formicidae",
           "Dorymyrmex insanus"
          ],
          [
           "Arthropoda",
           "Insecta",
           "Hymenoptera",
           "Formicidae",
           "Dorymyrmex insanus"
          ],
          [
           "Arthropoda",
           "Insecta",
           "Hymenoptera",
           "Formicidae",
           "Dorymyrmex insanus"
          ],
          [
           "Arthropoda",
           "Insecta",
           "Hymenoptera",
           "Formicidae",
           "Dorymyrmex insanus"
          ],
          [
           "Arthropoda",
           "Insecta",
           "Hymenoptera",
           "Formicidae",
           "Dorymyrmex insanus"
          ],
          [
           "Arthropoda",
           "Insecta",
           "Hymenoptera",
           "Formicidae",
           "Dorymyrmex insanus"
          ],
          [
           "Arthropoda",
           "Insecta",
           "Hymenoptera",
           "Formicidae",
           "Dorymyrmex insanus"
          ],
          [
           "Arthropoda",
           "Insecta",
           "Hymenoptera",
           "Formicidae",
           "Dorymyrmex insanus"
          ],
          [
           "Arthropoda",
           "Insecta",
           "Hymenoptera",
           "Formicidae",
           "Dorymyrmex insanus"
          ],
          [
           "Arthropoda",
           "Insecta",
           "Hymenoptera",
           "Formicidae",
           "Dorymyrmex insanus"
          ],
          [
           "Arthropoda",
           "Insecta",
           "Hymenoptera",
           "Formicidae",
           "Dorymyrmex insanus"
          ],
          [
           "Arthropoda",
           "Insecta",
           "Hymenoptera",
           "Formicidae",
           "Dorymyrmex insanus"
          ],
          [
           "Arthropoda",
           "Insecta",
           "Hymenoptera",
           "Formicidae",
           "Dorymyrmex insanus"
          ],
          [
           "Arthropoda",
           "Insecta",
           "Hymenoptera",
           "Formicidae",
           "Dorymyrmex insanus"
          ],
          [
           "Arthropoda",
           "Insecta",
           "Hymenoptera",
           "Formicidae",
           "Dorymyrmex insanus"
          ],
          [
           "Arthropoda",
           "Insecta",
           "Hymenoptera",
           "Formicidae",
           "Dorymyrmex insanus"
          ],
          [
           "Arthropoda",
           "Insecta",
           "Hymenoptera",
           "Formicidae",
           "Dorymyrmex insanus"
          ],
          [
           "Arthropoda",
           "Insecta",
           "Hymenoptera",
           "Formicidae",
           "Dorymyrmex insanus"
          ]
         ],
         "hovertemplate": "Common Name=Crazy Pyramid Ant<br>Genus=%{x}<br>Species=%{y}<br>phylum=%{customdata[0]}<br>class=%{customdata[1]}<br>order=%{customdata[2]}<br>family=%{customdata[3]}<br>sciName=%{customdata[4]}<extra></extra>",
         "legendgroup": "Crazy Pyramid Ant",
         "marker": {
          "color": "#19d3f3",
          "symbol": "circle"
         },
         "mode": "markers",
         "name": "Crazy Pyramid Ant",
         "showlegend": true,
         "type": "scattergl",
         "x": [
          "Dorymyrmex",
          "Dorymyrmex",
          "Dorymyrmex",
          "Dorymyrmex",
          "Dorymyrmex",
          "Dorymyrmex",
          "Dorymyrmex",
          "Dorymyrmex",
          "Dorymyrmex",
          "Dorymyrmex",
          "Dorymyrmex",
          "Dorymyrmex",
          "Dorymyrmex",
          "Dorymyrmex",
          "Dorymyrmex",
          "Dorymyrmex",
          "Dorymyrmex",
          "Dorymyrmex",
          "Dorymyrmex",
          "Dorymyrmex",
          "Dorymyrmex",
          "Dorymyrmex",
          "Dorymyrmex",
          "Dorymyrmex",
          "Dorymyrmex",
          "Dorymyrmex",
          "Dorymyrmex",
          "Dorymyrmex",
          "Dorymyrmex",
          "Dorymyrmex"
         ],
         "xaxis": "x",
         "y": [
          "insanus",
          "insanus",
          "insanus",
          "insanus",
          "insanus",
          "insanus",
          "insanus",
          "insanus",
          "insanus",
          "insanus",
          "insanus",
          "insanus",
          "insanus",
          "insanus",
          "insanus",
          "insanus",
          "insanus",
          "insanus",
          "insanus",
          "insanus",
          "insanus",
          "insanus",
          "insanus",
          "insanus",
          "insanus",
          "insanus",
          "insanus",
          "insanus",
          "insanus",
          "insanus"
         ],
         "yaxis": "y"
        },
        {
         "customdata": [
          [
           "Arthropoda",
           "Insecta",
           "Hymenoptera",
           "Formicidae",
           "Formica lugubris"
          ],
          [
           "Arthropoda",
           "Insecta",
           "Hymenoptera",
           "Formicidae",
           "Formica lugubris"
          ],
          [
           "Arthropoda",
           "Insecta",
           "Hymenoptera",
           "Formicidae",
           "Formica lugubris"
          ],
          [
           "Arthropoda",
           "Insecta",
           "Hymenoptera",
           "Formicidae",
           "Formica lugubris"
          ],
          [
           "Arthropoda",
           "Insecta",
           "Hymenoptera",
           "Formicidae",
           "Formica lugubris"
          ],
          [
           "Arthropoda",
           "Insecta",
           "Hymenoptera",
           "Formicidae",
           "Formica lugubris"
          ],
          [
           "Arthropoda",
           "Insecta",
           "Hymenoptera",
           "Formicidae",
           "Formica lugubris"
          ],
          [
           "Arthropoda",
           "Insecta",
           "Hymenoptera",
           "Formicidae",
           "Formica lugubris"
          ],
          [
           "Arthropoda",
           "Insecta",
           "Hymenoptera",
           "Formicidae",
           "Formica lugubris"
          ],
          [
           "Arthropoda",
           "Insecta",
           "Hymenoptera",
           "Formicidae",
           "Formica lugubris"
          ],
          [
           "Arthropoda",
           "Insecta",
           "Hymenoptera",
           "Formicidae",
           "Formica lugubris"
          ],
          [
           "Arthropoda",
           "Insecta",
           "Hymenoptera",
           "Formicidae",
           "Formica lugubris"
          ],
          [
           "Arthropoda",
           "Insecta",
           "Hymenoptera",
           "Formicidae",
           "Formica lugubris"
          ],
          [
           "Arthropoda",
           "Insecta",
           "Hymenoptera",
           "Formicidae",
           "Formica lugubris"
          ],
          [
           "Arthropoda",
           "Insecta",
           "Hymenoptera",
           "Formicidae",
           "Formica lugubris"
          ],
          [
           "Arthropoda",
           "Insecta",
           "Hymenoptera",
           "Formicidae",
           "Formica lugubris"
          ],
          [
           "Arthropoda",
           "Insecta",
           "Hymenoptera",
           "Formicidae",
           "Formica lugubris"
          ],
          [
           "Arthropoda",
           "Insecta",
           "Hymenoptera",
           "Formicidae",
           "Formica lugubris"
          ],
          [
           "Arthropoda",
           "Insecta",
           "Hymenoptera",
           "Formicidae",
           "Formica lugubris"
          ],
          [
           "Arthropoda",
           "Insecta",
           "Hymenoptera",
           "Formicidae",
           "Formica lugubris"
          ],
          [
           "Arthropoda",
           "Insecta",
           "Hymenoptera",
           "Formicidae",
           "Formica lugubris"
          ],
          [
           "Arthropoda",
           "Insecta",
           "Hymenoptera",
           "Formicidae",
           "Formica lugubris"
          ],
          [
           "Arthropoda",
           "Insecta",
           "Hymenoptera",
           "Formicidae",
           "Formica lugubris"
          ],
          [
           "Arthropoda",
           "Insecta",
           "Hymenoptera",
           "Formicidae",
           "Formica lugubris"
          ],
          [
           "Arthropoda",
           "Insecta",
           "Hymenoptera",
           "Formicidae",
           "Formica lugubris"
          ],
          [
           "Arthropoda",
           "Insecta",
           "Hymenoptera",
           "Formicidae",
           "Formica lugubris"
          ],
          [
           "Arthropoda",
           "Insecta",
           "Hymenoptera",
           "Formicidae",
           "Formica lugubris"
          ],
          [
           "Arthropoda",
           "Insecta",
           "Hymenoptera",
           "Formicidae",
           "Formica lugubris"
          ],
          [
           "Arthropoda",
           "Insecta",
           "Hymenoptera",
           "Formicidae",
           "Formica lugubris"
          ],
          [
           "Arthropoda",
           "Insecta",
           "Hymenoptera",
           "Formicidae",
           "Formica lugubris"
          ]
         ],
         "hovertemplate": "Common Name=Hairy Wood Ant<br>Genus=%{x}<br>Species=%{y}<br>phylum=%{customdata[0]}<br>class=%{customdata[1]}<br>order=%{customdata[2]}<br>family=%{customdata[3]}<br>sciName=%{customdata[4]}<extra></extra>",
         "legendgroup": "Hairy Wood Ant",
         "marker": {
          "color": "#FF6692",
          "symbol": "circle"
         },
         "mode": "markers",
         "name": "Hairy Wood Ant",
         "showlegend": true,
         "type": "scattergl",
         "x": [
          "Formica",
          "Formica",
          "Formica",
          "Formica",
          "Formica",
          "Formica",
          "Formica",
          "Formica",
          "Formica",
          "Formica",
          "Formica",
          "Formica",
          "Formica",
          "Formica",
          "Formica",
          "Formica",
          "Formica",
          "Formica",
          "Formica",
          "Formica",
          "Formica",
          "Formica",
          "Formica",
          "Formica",
          "Formica",
          "Formica",
          "Formica",
          "Formica",
          "Formica",
          "Formica"
         ],
         "xaxis": "x",
         "y": [
          "lugubris",
          "lugubris",
          "lugubris",
          "lugubris",
          "lugubris",
          "lugubris",
          "lugubris",
          "lugubris",
          "lugubris",
          "lugubris",
          "lugubris",
          "lugubris",
          "lugubris",
          "lugubris",
          "lugubris",
          "lugubris",
          "lugubris",
          "lugubris",
          "lugubris",
          "lugubris",
          "lugubris",
          "lugubris",
          "lugubris",
          "lugubris",
          "lugubris",
          "lugubris",
          "lugubris",
          "lugubris",
          "lugubris",
          "lugubris"
         ],
         "yaxis": "y"
        },
        {
         "customdata": [
          [
           "Arthropoda",
           "Insecta",
           "Hymenoptera",
           "Formicidae",
           "Harpagoxenus canadensis"
          ],
          [
           "Arthropoda",
           "Insecta",
           "Hymenoptera",
           "Formicidae",
           "Harpagoxenus canadensis"
          ],
          [
           "Arthropoda",
           "Insecta",
           "Hymenoptera",
           "Formicidae",
           "Harpagoxenus canadensis"
          ],
          [
           "Arthropoda",
           "Insecta",
           "Hymenoptera",
           "Formicidae",
           "Harpagoxenus canadensis"
          ],
          [
           "Arthropoda",
           "Insecta",
           "Hymenoptera",
           "Formicidae",
           "Harpagoxenus canadensis"
          ],
          [
           "Arthropoda",
           "Insecta",
           "Hymenoptera",
           "Formicidae",
           "Harpagoxenus canadensis"
          ],
          [
           "Arthropoda",
           "Insecta",
           "Hymenoptera",
           "Formicidae",
           "Harpagoxenus canadensis"
          ],
          [
           "Arthropoda",
           "Insecta",
           "Hymenoptera",
           "Formicidae",
           "Harpagoxenus canadensis"
          ],
          [
           "Arthropoda",
           "Insecta",
           "Hymenoptera",
           "Formicidae",
           "Harpagoxenus canadensis"
          ],
          [
           "Arthropoda",
           "Insecta",
           "Hymenoptera",
           "Formicidae",
           "Harpagoxenus canadensis"
          ],
          [
           "Arthropoda",
           "Insecta",
           "Hymenoptera",
           "Formicidae",
           "Harpagoxenus canadensis"
          ],
          [
           "Arthropoda",
           "Insecta",
           "Hymenoptera",
           "Formicidae",
           "Harpagoxenus canadensis"
          ],
          [
           "Arthropoda",
           "Insecta",
           "Hymenoptera",
           "Formicidae",
           "Harpagoxenus canadensis"
          ],
          [
           "Arthropoda",
           "Insecta",
           "Hymenoptera",
           "Formicidae",
           "Harpagoxenus canadensis"
          ],
          [
           "Arthropoda",
           "Insecta",
           "Hymenoptera",
           "Formicidae",
           "Harpagoxenus canadensis"
          ],
          [
           "Arthropoda",
           "Insecta",
           "Hymenoptera",
           "Formicidae",
           "Harpagoxenus canadensis"
          ],
          [
           "Arthropoda",
           "Insecta",
           "Hymenoptera",
           "Formicidae",
           "Harpagoxenus canadensis"
          ],
          [
           "Arthropoda",
           "Insecta",
           "Hymenoptera",
           "Formicidae",
           "Harpagoxenus canadensis"
          ],
          [
           "Arthropoda",
           "Insecta",
           "Hymenoptera",
           "Formicidae",
           "Harpagoxenus canadensis"
          ],
          [
           "Arthropoda",
           "Insecta",
           "Hymenoptera",
           "Formicidae",
           "Harpagoxenus canadensis"
          ],
          [
           "Arthropoda",
           "Insecta",
           "Hymenoptera",
           "Formicidae",
           "Harpagoxenus canadensis"
          ],
          [
           "Arthropoda",
           "Insecta",
           "Hymenoptera",
           "Formicidae",
           "Harpagoxenus canadensis"
          ],
          [
           "Arthropoda",
           "Insecta",
           "Hymenoptera",
           "Formicidae",
           "Harpagoxenus canadensis"
          ],
          [
           "Arthropoda",
           "Insecta",
           "Hymenoptera",
           "Formicidae",
           "Harpagoxenus canadensis"
          ],
          [
           "Arthropoda",
           "Insecta",
           "Hymenoptera",
           "Formicidae",
           "Harpagoxenus canadensis"
          ],
          [
           "Arthropoda",
           "Insecta",
           "Hymenoptera",
           "Formicidae",
           "Harpagoxenus canadensis"
          ],
          [
           "Arthropoda",
           "Insecta",
           "Hymenoptera",
           "Formicidae",
           "Harpagoxenus canadensis"
          ],
          [
           "Arthropoda",
           "Insecta",
           "Hymenoptera",
           "Formicidae",
           "Harpagoxenus canadensis"
          ],
          [
           "Arthropoda",
           "Insecta",
           "Hymenoptera",
           "Formicidae",
           "Harpagoxenus canadensis"
          ],
          [
           "Arthropoda",
           "Insecta",
           "Hymenoptera",
           "Formicidae",
           "Harpagoxenus canadensis"
          ]
         ],
         "hovertemplate": "Common Name=slave-making ant<br>Genus=%{x}<br>Species=%{y}<br>phylum=%{customdata[0]}<br>class=%{customdata[1]}<br>order=%{customdata[2]}<br>family=%{customdata[3]}<br>sciName=%{customdata[4]}<extra></extra>",
         "legendgroup": "slave-making ant",
         "marker": {
          "color": "#B6E880",
          "symbol": "circle"
         },
         "mode": "markers",
         "name": "slave-making ant",
         "showlegend": true,
         "type": "scattergl",
         "x": [
          "Harpagoxenus",
          "Harpagoxenus",
          "Harpagoxenus",
          "Harpagoxenus",
          "Harpagoxenus",
          "Harpagoxenus",
          "Harpagoxenus",
          "Harpagoxenus",
          "Harpagoxenus",
          "Harpagoxenus",
          "Harpagoxenus",
          "Harpagoxenus",
          "Harpagoxenus",
          "Harpagoxenus",
          "Harpagoxenus",
          "Harpagoxenus",
          "Harpagoxenus",
          "Harpagoxenus",
          "Harpagoxenus",
          "Harpagoxenus",
          "Harpagoxenus",
          "Harpagoxenus",
          "Harpagoxenus",
          "Harpagoxenus",
          "Harpagoxenus",
          "Harpagoxenus",
          "Harpagoxenus",
          "Harpagoxenus",
          "Harpagoxenus",
          "Harpagoxenus"
         ],
         "xaxis": "x",
         "y": [
          "canadensis",
          "canadensis",
          "canadensis",
          "canadensis",
          "canadensis",
          "canadensis",
          "canadensis",
          "canadensis",
          "canadensis",
          "canadensis",
          "canadensis",
          "canadensis",
          "canadensis",
          "canadensis",
          "canadensis",
          "canadensis",
          "canadensis",
          "canadensis",
          "canadensis",
          "canadensis",
          "canadensis",
          "canadensis",
          "canadensis",
          "canadensis",
          "canadensis",
          "canadensis",
          "canadensis",
          "canadensis",
          "canadensis",
          "canadensis"
         ],
         "yaxis": "y"
        },
        {
         "customdata": [
          [
           "Arthropoda",
           "Insecta",
           "Hymenoptera",
           "Formicidae",
           "Nothomyrmecia macrops"
          ],
          [
           "Arthropoda",
           "Insecta",
           "Hymenoptera",
           "Formicidae",
           "Nothomyrmecia macrops"
          ],
          [
           "Arthropoda",
           "Insecta",
           "Hymenoptera",
           "Formicidae",
           "Nothomyrmecia macrops"
          ],
          [
           "Arthropoda",
           "Insecta",
           "Hymenoptera",
           "Formicidae",
           "Nothomyrmecia macrops"
          ],
          [
           "Arthropoda",
           "Insecta",
           "Hymenoptera",
           "Formicidae",
           "Nothomyrmecia macrops"
          ],
          [
           "Arthropoda",
           "Insecta",
           "Hymenoptera",
           "Formicidae",
           "Nothomyrmecia macrops"
          ],
          [
           "Arthropoda",
           "Insecta",
           "Hymenoptera",
           "Formicidae",
           "Nothomyrmecia macrops"
          ],
          [
           "Arthropoda",
           "Insecta",
           "Hymenoptera",
           "Formicidae",
           "Nothomyrmecia macrops"
          ],
          [
           "Arthropoda",
           "Insecta",
           "Hymenoptera",
           "Formicidae",
           "Nothomyrmecia macrops"
          ],
          [
           "Arthropoda",
           "Insecta",
           "Hymenoptera",
           "Formicidae",
           "Nothomyrmecia macrops"
          ],
          [
           "Arthropoda",
           "Insecta",
           "Hymenoptera",
           "Formicidae",
           "Nothomyrmecia macrops"
          ],
          [
           "Arthropoda",
           "Insecta",
           "Hymenoptera",
           "Formicidae",
           "Nothomyrmecia macrops"
          ],
          [
           "Arthropoda",
           "Insecta",
           "Hymenoptera",
           "Formicidae",
           "Nothomyrmecia macrops"
          ],
          [
           "Arthropoda",
           "Insecta",
           "Hymenoptera",
           "Formicidae",
           "Nothomyrmecia macrops"
          ],
          [
           "Arthropoda",
           "Insecta",
           "Hymenoptera",
           "Formicidae",
           "Nothomyrmecia macrops"
          ],
          [
           "Arthropoda",
           "Insecta",
           "Hymenoptera",
           "Formicidae",
           "Nothomyrmecia macrops"
          ],
          [
           "Arthropoda",
           "Insecta",
           "Hymenoptera",
           "Formicidae",
           "Nothomyrmecia macrops"
          ],
          [
           "Arthropoda",
           "Insecta",
           "Hymenoptera",
           "Formicidae",
           "Nothomyrmecia macrops"
          ],
          [
           "Arthropoda",
           "Insecta",
           "Hymenoptera",
           "Formicidae",
           "Nothomyrmecia macrops"
          ],
          [
           "Arthropoda",
           "Insecta",
           "Hymenoptera",
           "Formicidae",
           "Nothomyrmecia macrops"
          ],
          [
           "Arthropoda",
           "Insecta",
           "Hymenoptera",
           "Formicidae",
           "Nothomyrmecia macrops"
          ],
          [
           "Arthropoda",
           "Insecta",
           "Hymenoptera",
           "Formicidae",
           "Nothomyrmecia macrops"
          ],
          [
           "Arthropoda",
           "Insecta",
           "Hymenoptera",
           "Formicidae",
           "Nothomyrmecia macrops"
          ],
          [
           "Arthropoda",
           "Insecta",
           "Hymenoptera",
           "Formicidae",
           "Nothomyrmecia macrops"
          ],
          [
           "Arthropoda",
           "Insecta",
           "Hymenoptera",
           "Formicidae",
           "Nothomyrmecia macrops"
          ],
          [
           "Arthropoda",
           "Insecta",
           "Hymenoptera",
           "Formicidae",
           "Nothomyrmecia macrops"
          ],
          [
           "Arthropoda",
           "Insecta",
           "Hymenoptera",
           "Formicidae",
           "Nothomyrmecia macrops"
          ],
          [
           "Arthropoda",
           "Insecta",
           "Hymenoptera",
           "Formicidae",
           "Nothomyrmecia macrops"
          ],
          [
           "Arthropoda",
           "Insecta",
           "Hymenoptera",
           "Formicidae",
           "Nothomyrmecia macrops"
          ],
          [
           "Arthropoda",
           "Insecta",
           "Hymenoptera",
           "Formicidae",
           "Nothomyrmecia macrops"
          ]
         ],
         "hovertemplate": "Common Name=Dinosaur Ant<br>Genus=%{x}<br>Species=%{y}<br>phylum=%{customdata[0]}<br>class=%{customdata[1]}<br>order=%{customdata[2]}<br>family=%{customdata[3]}<br>sciName=%{customdata[4]}<extra></extra>",
         "legendgroup": "Dinosaur Ant",
         "marker": {
          "color": "#FF97FF",
          "symbol": "circle"
         },
         "mode": "markers",
         "name": "Dinosaur Ant",
         "showlegend": true,
         "type": "scattergl",
         "x": [
          "Nothomyrmecia",
          "Nothomyrmecia",
          "Nothomyrmecia",
          "Nothomyrmecia",
          "Nothomyrmecia",
          "Nothomyrmecia",
          "Nothomyrmecia",
          "Nothomyrmecia",
          "Nothomyrmecia",
          "Nothomyrmecia",
          "Nothomyrmecia",
          "Nothomyrmecia",
          "Nothomyrmecia",
          "Nothomyrmecia",
          "Nothomyrmecia",
          "Nothomyrmecia",
          "Nothomyrmecia",
          "Nothomyrmecia",
          "Nothomyrmecia",
          "Nothomyrmecia",
          "Nothomyrmecia",
          "Nothomyrmecia",
          "Nothomyrmecia",
          "Nothomyrmecia",
          "Nothomyrmecia",
          "Nothomyrmecia",
          "Nothomyrmecia",
          "Nothomyrmecia",
          "Nothomyrmecia",
          "Nothomyrmecia"
         ],
         "xaxis": "x",
         "y": [
          "macrops",
          "macrops",
          "macrops",
          "macrops",
          "macrops",
          "macrops",
          "macrops",
          "macrops",
          "macrops",
          "macrops",
          "macrops",
          "macrops",
          "macrops",
          "macrops",
          "macrops",
          "macrops",
          "macrops",
          "macrops",
          "macrops",
          "macrops",
          "macrops",
          "macrops",
          "macrops",
          "macrops",
          "macrops",
          "macrops",
          "macrops",
          "macrops",
          "macrops",
          "macrops"
         ],
         "yaxis": "y"
        },
        {
         "customdata": [
          [
           "Arthropoda",
           "Insecta",
           "Hymenoptera",
           "Formicidae",
           "Pheidole elecebra"
          ],
          [
           "Arthropoda",
           "Insecta",
           "Hymenoptera",
           "Formicidae",
           "Pheidole elecebra"
          ],
          [
           "Arthropoda",
           "Insecta",
           "Hymenoptera",
           "Formicidae",
           "Pheidole elecebra"
          ],
          [
           "Arthropoda",
           "Insecta",
           "Hymenoptera",
           "Formicidae",
           "Pheidole elecebra"
          ],
          [
           "Arthropoda",
           "Insecta",
           "Hymenoptera",
           "Formicidae",
           "Pheidole elecebra"
          ],
          [
           "Arthropoda",
           "Insecta",
           "Hymenoptera",
           "Formicidae",
           "Pheidole elecebra"
          ],
          [
           "Arthropoda",
           "Insecta",
           "Hymenoptera",
           "Formicidae",
           "Pheidole elecebra"
          ],
          [
           "Arthropoda",
           "Insecta",
           "Hymenoptera",
           "Formicidae",
           "Pheidole elecebra"
          ],
          [
           "Arthropoda",
           "Insecta",
           "Hymenoptera",
           "Formicidae",
           "Pheidole elecebra"
          ],
          [
           "Arthropoda",
           "Insecta",
           "Hymenoptera",
           "Formicidae",
           "Pheidole elecebra"
          ],
          [
           "Arthropoda",
           "Insecta",
           "Hymenoptera",
           "Formicidae",
           "Pheidole elecebra"
          ],
          [
           "Arthropoda",
           "Insecta",
           "Hymenoptera",
           "Formicidae",
           "Pheidole elecebra"
          ],
          [
           "Arthropoda",
           "Insecta",
           "Hymenoptera",
           "Formicidae",
           "Pheidole elecebra"
          ],
          [
           "Arthropoda",
           "Insecta",
           "Hymenoptera",
           "Formicidae",
           "Pheidole elecebra"
          ],
          [
           "Arthropoda",
           "Insecta",
           "Hymenoptera",
           "Formicidae",
           "Pheidole elecebra"
          ],
          [
           "Arthropoda",
           "Insecta",
           "Hymenoptera",
           "Formicidae",
           "Pheidole elecebra"
          ],
          [
           "Arthropoda",
           "Insecta",
           "Hymenoptera",
           "Formicidae",
           "Pheidole elecebra"
          ],
          [
           "Arthropoda",
           "Insecta",
           "Hymenoptera",
           "Formicidae",
           "Pheidole elecebra"
          ],
          [
           "Arthropoda",
           "Insecta",
           "Hymenoptera",
           "Formicidae",
           "Pheidole elecebra"
          ],
          [
           "Arthropoda",
           "Insecta",
           "Hymenoptera",
           "Formicidae",
           "Pheidole elecebra"
          ],
          [
           "Arthropoda",
           "Insecta",
           "Hymenoptera",
           "Formicidae",
           "Pheidole elecebra"
          ]
         ],
         "hovertemplate": "Common Name=ant<br>Genus=%{x}<br>Species=%{y}<br>phylum=%{customdata[0]}<br>class=%{customdata[1]}<br>order=%{customdata[2]}<br>family=%{customdata[3]}<br>sciName=%{customdata[4]}<extra></extra>",
         "legendgroup": "ant",
         "marker": {
          "color": "#FECB52",
          "symbol": "circle"
         },
         "mode": "markers",
         "name": "ant",
         "showlegend": true,
         "type": "scattergl",
         "x": [
          "Pheidole",
          "Pheidole",
          "Pheidole",
          "Pheidole",
          "Pheidole",
          "Pheidole",
          "Pheidole",
          "Pheidole",
          "Pheidole",
          "Pheidole",
          "Pheidole",
          "Pheidole",
          "Pheidole",
          "Pheidole",
          "Pheidole",
          "Pheidole",
          "Pheidole",
          "Pheidole",
          "Pheidole",
          "Pheidole",
          "Pheidole"
         ],
         "xaxis": "x",
         "y": [
          "elecebra",
          "elecebra",
          "elecebra",
          "elecebra",
          "elecebra",
          "elecebra",
          "elecebra",
          "elecebra",
          "elecebra",
          "elecebra",
          "elecebra",
          "elecebra",
          "elecebra",
          "elecebra",
          "elecebra",
          "elecebra",
          "elecebra",
          "elecebra",
          "elecebra",
          "elecebra",
          "elecebra"
         ],
         "yaxis": "y"
        },
        {
         "customdata": [
          [
           "Arthropoda",
           "Insecta",
           "Hymenoptera",
           "Formicidae",
           "Pheidole neokohli"
          ],
          [
           "Arthropoda",
           "Insecta",
           "Hymenoptera",
           "Formicidae",
           "Pheidole neokohli"
          ],
          [
           "Arthropoda",
           "Insecta",
           "Hymenoptera",
           "Formicidae",
           "Pheidole neokohli"
          ],
          [
           "Arthropoda",
           "Insecta",
           "Hymenoptera",
           "Formicidae",
           "Pheidole neokohli"
          ],
          [
           "Arthropoda",
           "Insecta",
           "Hymenoptera",
           "Formicidae",
           "Pheidole neokohli"
          ],
          [
           "Arthropoda",
           "Insecta",
           "Hymenoptera",
           "Formicidae",
           "Pheidole neokohli"
          ],
          [
           "Arthropoda",
           "Insecta",
           "Hymenoptera",
           "Formicidae",
           "Pheidole neokohli"
          ],
          [
           "Arthropoda",
           "Insecta",
           "Hymenoptera",
           "Formicidae",
           "Pheidole neokohli"
          ],
          [
           "Arthropoda",
           "Insecta",
           "Hymenoptera",
           "Formicidae",
           "Pheidole neokohli"
          ],
          [
           "Arthropoda",
           "Insecta",
           "Hymenoptera",
           "Formicidae",
           "Pheidole neokohli"
          ],
          [
           "Arthropoda",
           "Insecta",
           "Hymenoptera",
           "Formicidae",
           "Pheidole neokohli"
          ],
          [
           "Arthropoda",
           "Insecta",
           "Hymenoptera",
           "Formicidae",
           "Pheidole neokohli"
          ],
          [
           "Arthropoda",
           "Insecta",
           "Hymenoptera",
           "Formicidae",
           "Pheidole neokohli"
          ],
          [
           "Arthropoda",
           "Insecta",
           "Hymenoptera",
           "Formicidae",
           "Pheidole neokohli"
          ],
          [
           "Arthropoda",
           "Insecta",
           "Hymenoptera",
           "Formicidae",
           "Pheidole neokohli"
          ],
          [
           "Arthropoda",
           "Insecta",
           "Hymenoptera",
           "Formicidae",
           "Pheidole neokohli"
          ],
          [
           "Arthropoda",
           "Insecta",
           "Hymenoptera",
           "Formicidae",
           "Pheidole neokohli"
          ],
          [
           "Arthropoda",
           "Insecta",
           "Hymenoptera",
           "Formicidae",
           "Pheidole neokohli"
          ],
          [
           "Arthropoda",
           "Insecta",
           "Hymenoptera",
           "Formicidae",
           "Pheidole neokohli"
          ],
          [
           "Arthropoda",
           "Insecta",
           "Hymenoptera",
           "Formicidae",
           "Pheidole neokohli"
          ],
          [
           "Arthropoda",
           "Insecta",
           "Hymenoptera",
           "Formicidae",
           "Pheidole neokohli"
          ],
          [
           "Arthropoda",
           "Insecta",
           "Hymenoptera",
           "Formicidae",
           "Pheidole neokohli"
          ],
          [
           "Arthropoda",
           "Insecta",
           "Hymenoptera",
           "Formicidae",
           "Pheidole neokohli"
          ],
          [
           "Arthropoda",
           "Insecta",
           "Hymenoptera",
           "Formicidae",
           "Pheidole neokohli"
          ],
          [
           "Arthropoda",
           "Insecta",
           "Hymenoptera",
           "Formicidae",
           "Pheidole neokohli"
          ],
          [
           "Arthropoda",
           "Insecta",
           "Hymenoptera",
           "Formicidae",
           "Pheidole neokohli"
          ],
          [
           "Arthropoda",
           "Insecta",
           "Hymenoptera",
           "Formicidae",
           "Pheidole neokohli"
          ],
          [
           "Arthropoda",
           "Insecta",
           "Hymenoptera",
           "Formicidae",
           "Pheidole neokohli"
          ],
          [
           "Arthropoda",
           "Insecta",
           "Hymenoptera",
           "Formicidae",
           "Pheidole neokohli"
          ],
          [
           "Arthropoda",
           "Insecta",
           "Hymenoptera",
           "Formicidae",
           "Pheidole neokohli"
          ]
         ],
         "hovertemplate": "Common Name=Pheidole neokohli<br>Genus=%{x}<br>Species=%{y}<br>phylum=%{customdata[0]}<br>class=%{customdata[1]}<br>order=%{customdata[2]}<br>family=%{customdata[3]}<br>sciName=%{customdata[4]}<extra></extra>",
         "legendgroup": "Pheidole neokohli",
         "marker": {
          "color": "#636efa",
          "symbol": "circle"
         },
         "mode": "markers",
         "name": "Pheidole neokohli",
         "showlegend": true,
         "type": "scattergl",
         "x": [
          "Pheidole",
          "Pheidole",
          "Pheidole",
          "Pheidole",
          "Pheidole",
          "Pheidole",
          "Pheidole",
          "Pheidole",
          "Pheidole",
          "Pheidole",
          "Pheidole",
          "Pheidole",
          "Pheidole",
          "Pheidole",
          "Pheidole",
          "Pheidole",
          "Pheidole",
          "Pheidole",
          "Pheidole",
          "Pheidole",
          "Pheidole",
          "Pheidole",
          "Pheidole",
          "Pheidole",
          "Pheidole",
          "Pheidole",
          "Pheidole",
          "Pheidole",
          "Pheidole",
          "Pheidole"
         ],
         "xaxis": "x",
         "y": [
          "neokohli",
          "neokohli",
          "neokohli",
          "neokohli",
          "neokohli",
          "neokohli",
          "neokohli",
          "neokohli",
          "neokohli",
          "neokohli",
          "neokohli",
          "neokohli",
          "neokohli",
          "neokohli",
          "neokohli",
          "neokohli",
          "neokohli",
          "neokohli",
          "neokohli",
          "neokohli",
          "neokohli",
          "neokohli",
          "neokohli",
          "neokohli",
          "neokohli",
          "neokohli",
          "neokohli",
          "neokohli",
          "neokohli",
          "neokohli"
         ],
         "yaxis": "y"
        },
        {
         "customdata": [
          [
           "Arthropoda",
           "Insecta",
           "Hymenoptera",
           "Formicidae",
           "Polyergus breviceps"
          ],
          [
           "Arthropoda",
           "Insecta",
           "Hymenoptera",
           "Formicidae",
           "Polyergus breviceps"
          ],
          [
           "Arthropoda",
           "Insecta",
           "Hymenoptera",
           "Formicidae",
           "Polyergus breviceps"
          ],
          [
           "Arthropoda",
           "Insecta",
           "Hymenoptera",
           "Formicidae",
           "Polyergus breviceps"
          ],
          [
           "Arthropoda",
           "Insecta",
           "Hymenoptera",
           "Formicidae",
           "Polyergus breviceps"
          ],
          [
           "Arthropoda",
           "Insecta",
           "Hymenoptera",
           "Formicidae",
           "Polyergus breviceps"
          ],
          [
           "Arthropoda",
           "Insecta",
           "Hymenoptera",
           "Formicidae",
           "Polyergus breviceps"
          ],
          [
           "Arthropoda",
           "Insecta",
           "Hymenoptera",
           "Formicidae",
           "Polyergus breviceps"
          ],
          [
           "Arthropoda",
           "Insecta",
           "Hymenoptera",
           "Formicidae",
           "Polyergus breviceps"
          ],
          [
           "Arthropoda",
           "Insecta",
           "Hymenoptera",
           "Formicidae",
           "Polyergus breviceps"
          ],
          [
           "Arthropoda",
           "Insecta",
           "Hymenoptera",
           "Formicidae",
           "Polyergus breviceps"
          ],
          [
           "Arthropoda",
           "Insecta",
           "Hymenoptera",
           "Formicidae",
           "Polyergus breviceps"
          ],
          [
           "Arthropoda",
           "Insecta",
           "Hymenoptera",
           "Formicidae",
           "Polyergus breviceps"
          ],
          [
           "Arthropoda",
           "Insecta",
           "Hymenoptera",
           "Formicidae",
           "Polyergus breviceps"
          ],
          [
           "Arthropoda",
           "Insecta",
           "Hymenoptera",
           "Formicidae",
           "Polyergus breviceps"
          ],
          [
           "Arthropoda",
           "Insecta",
           "Hymenoptera",
           "Formicidae",
           "Polyergus breviceps"
          ],
          [
           "Arthropoda",
           "Insecta",
           "Hymenoptera",
           "Formicidae",
           "Polyergus breviceps"
          ],
          [
           "Arthropoda",
           "Insecta",
           "Hymenoptera",
           "Formicidae",
           "Polyergus breviceps"
          ],
          [
           "Arthropoda",
           "Insecta",
           "Hymenoptera",
           "Formicidae",
           "Polyergus breviceps"
          ],
          [
           "Arthropoda",
           "Insecta",
           "Hymenoptera",
           "Formicidae",
           "Polyergus breviceps"
          ],
          [
           "Arthropoda",
           "Insecta",
           "Hymenoptera",
           "Formicidae",
           "Polyergus breviceps"
          ],
          [
           "Arthropoda",
           "Insecta",
           "Hymenoptera",
           "Formicidae",
           "Polyergus breviceps"
          ],
          [
           "Arthropoda",
           "Insecta",
           "Hymenoptera",
           "Formicidae",
           "Polyergus breviceps"
          ],
          [
           "Arthropoda",
           "Insecta",
           "Hymenoptera",
           "Formicidae",
           "Polyergus breviceps"
          ],
          [
           "Arthropoda",
           "Insecta",
           "Hymenoptera",
           "Formicidae",
           "Polyergus breviceps"
          ],
          [
           "Arthropoda",
           "Insecta",
           "Hymenoptera",
           "Formicidae",
           "Polyergus breviceps"
          ],
          [
           "Arthropoda",
           "Insecta",
           "Hymenoptera",
           "Formicidae",
           "Polyergus breviceps"
          ],
          [
           "Arthropoda",
           "Insecta",
           "Hymenoptera",
           "Formicidae",
           "Polyergus breviceps"
          ],
          [
           "Arthropoda",
           "Insecta",
           "Hymenoptera",
           "Formicidae",
           "Polyergus breviceps"
          ],
          [
           "Arthropoda",
           "Insecta",
           "Hymenoptera",
           "Formicidae",
           "Polyergus breviceps"
          ]
         ],
         "hovertemplate": "Common Name=Broad-headed Slave-making Ant<br>Genus=%{x}<br>Species=%{y}<br>phylum=%{customdata[0]}<br>class=%{customdata[1]}<br>order=%{customdata[2]}<br>family=%{customdata[3]}<br>sciName=%{customdata[4]}<extra></extra>",
         "legendgroup": "Broad-headed Slave-making Ant",
         "marker": {
          "color": "#EF553B",
          "symbol": "circle"
         },
         "mode": "markers",
         "name": "Broad-headed Slave-making Ant",
         "showlegend": true,
         "type": "scattergl",
         "x": [
          "Polyergus",
          "Polyergus",
          "Polyergus",
          "Polyergus",
          "Polyergus",
          "Polyergus",
          "Polyergus",
          "Polyergus",
          "Polyergus",
          "Polyergus",
          "Polyergus",
          "Polyergus",
          "Polyergus",
          "Polyergus",
          "Polyergus",
          "Polyergus",
          "Polyergus",
          "Polyergus",
          "Polyergus",
          "Polyergus",
          "Polyergus",
          "Polyergus",
          "Polyergus",
          "Polyergus",
          "Polyergus",
          "Polyergus",
          "Polyergus",
          "Polyergus",
          "Polyergus",
          "Polyergus"
         ],
         "xaxis": "x",
         "y": [
          "breviceps",
          "breviceps",
          "breviceps",
          "breviceps",
          "breviceps",
          "breviceps",
          "breviceps",
          "breviceps",
          "breviceps",
          "breviceps",
          "breviceps",
          "breviceps",
          "breviceps",
          "breviceps",
          "breviceps",
          "breviceps",
          "breviceps",
          "breviceps",
          "breviceps",
          "breviceps",
          "breviceps",
          "breviceps",
          "breviceps",
          "breviceps",
          "breviceps",
          "breviceps",
          "breviceps",
          "breviceps",
          "breviceps",
          "breviceps"
         ],
         "yaxis": "y"
        },
        {
         "customdata": [
          [
           "Arthropoda",
           "Insecta",
           "Hymenoptera",
           "Formicidae",
           "Polyergus nigerrimus"
          ],
          [
           "Arthropoda",
           "Insecta",
           "Hymenoptera",
           "Formicidae",
           "Polyergus nigerrimus"
          ],
          [
           "Arthropoda",
           "Insecta",
           "Hymenoptera",
           "Formicidae",
           "Polyergus nigerrimus"
          ],
          [
           "Arthropoda",
           "Insecta",
           "Hymenoptera",
           "Formicidae",
           "Polyergus nigerrimus"
          ],
          [
           "Arthropoda",
           "Insecta",
           "Hymenoptera",
           "Formicidae",
           "Polyergus nigerrimus"
          ],
          [
           "Arthropoda",
           "Insecta",
           "Hymenoptera",
           "Formicidae",
           "Polyergus nigerrimus"
          ],
          [
           "Arthropoda",
           "Insecta",
           "Hymenoptera",
           "Formicidae",
           "Polyergus nigerrimus"
          ],
          [
           "Arthropoda",
           "Insecta",
           "Hymenoptera",
           "Formicidae",
           "Polyergus nigerrimus"
          ],
          [
           "Arthropoda",
           "Insecta",
           "Hymenoptera",
           "Formicidae",
           "Polyergus nigerrimus"
          ],
          [
           "Arthropoda",
           "Insecta",
           "Hymenoptera",
           "Formicidae",
           "Polyergus nigerrimus"
          ],
          [
           "Arthropoda",
           "Insecta",
           "Hymenoptera",
           "Formicidae",
           "Polyergus nigerrimus"
          ],
          [
           "Arthropoda",
           "Insecta",
           "Hymenoptera",
           "Formicidae",
           "Polyergus nigerrimus"
          ],
          [
           "Arthropoda",
           "Insecta",
           "Hymenoptera",
           "Formicidae",
           "Polyergus nigerrimus"
          ],
          [
           "Arthropoda",
           "Insecta",
           "Hymenoptera",
           "Formicidae",
           "Polyergus nigerrimus"
          ],
          [
           "Arthropoda",
           "Insecta",
           "Hymenoptera",
           "Formicidae",
           "Polyergus nigerrimus"
          ],
          [
           "Arthropoda",
           "Insecta",
           "Hymenoptera",
           "Formicidae",
           "Polyergus nigerrimus"
          ],
          [
           "Arthropoda",
           "Insecta",
           "Hymenoptera",
           "Formicidae",
           "Polyergus nigerrimus"
          ],
          [
           "Arthropoda",
           "Insecta",
           "Hymenoptera",
           "Formicidae",
           "Polyergus nigerrimus"
          ],
          [
           "Arthropoda",
           "Insecta",
           "Hymenoptera",
           "Formicidae",
           "Polyergus nigerrimus"
          ],
          [
           "Arthropoda",
           "Insecta",
           "Hymenoptera",
           "Formicidae",
           "Polyergus nigerrimus"
          ],
          [
           "Arthropoda",
           "Insecta",
           "Hymenoptera",
           "Formicidae",
           "Polyergus nigerrimus"
          ],
          [
           "Arthropoda",
           "Insecta",
           "Hymenoptera",
           "Formicidae",
           "Polyergus nigerrimus"
          ],
          [
           "Arthropoda",
           "Insecta",
           "Hymenoptera",
           "Formicidae",
           "Polyergus nigerrimus"
          ],
          [
           "Arthropoda",
           "Insecta",
           "Hymenoptera",
           "Formicidae",
           "Polyergus nigerrimus"
          ],
          [
           "Arthropoda",
           "Insecta",
           "Hymenoptera",
           "Formicidae",
           "Polyergus nigerrimus"
          ],
          [
           "Arthropoda",
           "Insecta",
           "Hymenoptera",
           "Formicidae",
           "Polyergus nigerrimus"
          ],
          [
           "Arthropoda",
           "Insecta",
           "Hymenoptera",
           "Formicidae",
           "Polyergus nigerrimus"
          ],
          [
           "Arthropoda",
           "Insecta",
           "Hymenoptera",
           "Formicidae",
           "Polyergus nigerrimus"
          ],
          [
           "Arthropoda",
           "Insecta",
           "Hymenoptera",
           "Formicidae",
           "Polyergus nigerrimus"
          ],
          [
           "Arthropoda",
           "Insecta",
           "Hymenoptera",
           "Formicidae",
           "Polyergus nigerrimus"
          ]
         ],
         "hovertemplate": "Common Name=Black Amazon Ant<br>Genus=%{x}<br>Species=%{y}<br>phylum=%{customdata[0]}<br>class=%{customdata[1]}<br>order=%{customdata[2]}<br>family=%{customdata[3]}<br>sciName=%{customdata[4]}<extra></extra>",
         "legendgroup": "Black Amazon Ant",
         "marker": {
          "color": "#00cc96",
          "symbol": "circle"
         },
         "mode": "markers",
         "name": "Black Amazon Ant",
         "showlegend": true,
         "type": "scattergl",
         "x": [
          "Polyergus",
          "Polyergus",
          "Polyergus",
          "Polyergus",
          "Polyergus",
          "Polyergus",
          "Polyergus",
          "Polyergus",
          "Polyergus",
          "Polyergus",
          "Polyergus",
          "Polyergus",
          "Polyergus",
          "Polyergus",
          "Polyergus",
          "Polyergus",
          "Polyergus",
          "Polyergus",
          "Polyergus",
          "Polyergus",
          "Polyergus",
          "Polyergus",
          "Polyergus",
          "Polyergus",
          "Polyergus",
          "Polyergus",
          "Polyergus",
          "Polyergus",
          "Polyergus",
          "Polyergus"
         ],
         "xaxis": "x",
         "y": [
          "nigerrimus",
          "nigerrimus",
          "nigerrimus",
          "nigerrimus",
          "nigerrimus",
          "nigerrimus",
          "nigerrimus",
          "nigerrimus",
          "nigerrimus",
          "nigerrimus",
          "nigerrimus",
          "nigerrimus",
          "nigerrimus",
          "nigerrimus",
          "nigerrimus",
          "nigerrimus",
          "nigerrimus",
          "nigerrimus",
          "nigerrimus",
          "nigerrimus",
          "nigerrimus",
          "nigerrimus",
          "nigerrimus",
          "nigerrimus",
          "nigerrimus",
          "nigerrimus",
          "nigerrimus",
          "nigerrimus",
          "nigerrimus",
          "nigerrimus"
         ],
         "yaxis": "y"
        },
        {
         "customdata": [
          [
           "Arthropoda",
           "Insecta",
           "Lepidoptera",
           "Nymphalidae",
           "Parantica nilgiriensis"
          ],
          [
           "Arthropoda",
           "Insecta",
           "Lepidoptera",
           "Nymphalidae",
           "Parantica nilgiriensis"
          ],
          [
           "Arthropoda",
           "Insecta",
           "Lepidoptera",
           "Nymphalidae",
           "Parantica nilgiriensis"
          ],
          [
           "Arthropoda",
           "Insecta",
           "Lepidoptera",
           "Nymphalidae",
           "Parantica nilgiriensis"
          ],
          [
           "Arthropoda",
           "Insecta",
           "Lepidoptera",
           "Nymphalidae",
           "Parantica nilgiriensis"
          ],
          [
           "Arthropoda",
           "Insecta",
           "Lepidoptera",
           "Nymphalidae",
           "Parantica nilgiriensis"
          ],
          [
           "Arthropoda",
           "Insecta",
           "Lepidoptera",
           "Nymphalidae",
           "Parantica nilgiriensis"
          ],
          [
           "Arthropoda",
           "Insecta",
           "Lepidoptera",
           "Nymphalidae",
           "Parantica nilgiriensis"
          ],
          [
           "Arthropoda",
           "Insecta",
           "Lepidoptera",
           "Nymphalidae",
           "Parantica nilgiriensis"
          ],
          [
           "Arthropoda",
           "Insecta",
           "Lepidoptera",
           "Nymphalidae",
           "Parantica nilgiriensis"
          ],
          [
           "Arthropoda",
           "Insecta",
           "Lepidoptera",
           "Nymphalidae",
           "Parantica nilgiriensis"
          ],
          [
           "Arthropoda",
           "Insecta",
           "Lepidoptera",
           "Nymphalidae",
           "Parantica nilgiriensis"
          ],
          [
           "Arthropoda",
           "Insecta",
           "Lepidoptera",
           "Nymphalidae",
           "Parantica nilgiriensis"
          ],
          [
           "Arthropoda",
           "Insecta",
           "Lepidoptera",
           "Nymphalidae",
           "Parantica nilgiriensis"
          ],
          [
           "Arthropoda",
           "Insecta",
           "Lepidoptera",
           "Nymphalidae",
           "Parantica nilgiriensis"
          ],
          [
           "Arthropoda",
           "Insecta",
           "Lepidoptera",
           "Nymphalidae",
           "Parantica nilgiriensis"
          ],
          [
           "Arthropoda",
           "Insecta",
           "Lepidoptera",
           "Nymphalidae",
           "Parantica nilgiriensis"
          ],
          [
           "Arthropoda",
           "Insecta",
           "Lepidoptera",
           "Nymphalidae",
           "Parantica nilgiriensis"
          ],
          [
           "Arthropoda",
           "Insecta",
           "Lepidoptera",
           "Nymphalidae",
           "Parantica nilgiriensis"
          ],
          [
           "Arthropoda",
           "Insecta",
           "Lepidoptera",
           "Nymphalidae",
           "Parantica nilgiriensis"
          ],
          [
           "Arthropoda",
           "Insecta",
           "Lepidoptera",
           "Nymphalidae",
           "Parantica nilgiriensis"
          ],
          [
           "Arthropoda",
           "Insecta",
           "Lepidoptera",
           "Nymphalidae",
           "Parantica nilgiriensis"
          ],
          [
           "Arthropoda",
           "Insecta",
           "Lepidoptera",
           "Nymphalidae",
           "Parantica nilgiriensis"
          ],
          [
           "Arthropoda",
           "Insecta",
           "Lepidoptera",
           "Nymphalidae",
           "Parantica nilgiriensis"
          ],
          [
           "Arthropoda",
           "Insecta",
           "Lepidoptera",
           "Nymphalidae",
           "Parantica nilgiriensis"
          ],
          [
           "Arthropoda",
           "Insecta",
           "Lepidoptera",
           "Nymphalidae",
           "Parantica nilgiriensis"
          ],
          [
           "Arthropoda",
           "Insecta",
           "Lepidoptera",
           "Nymphalidae",
           "Parantica nilgiriensis"
          ],
          [
           "Arthropoda",
           "Insecta",
           "Lepidoptera",
           "Nymphalidae",
           "Parantica nilgiriensis"
          ],
          [
           "Arthropoda",
           "Insecta",
           "Lepidoptera",
           "Nymphalidae",
           "Parantica nilgiriensis"
          ],
          [
           "Arthropoda",
           "Insecta",
           "Lepidoptera",
           "Nymphalidae",
           "Parantica nilgiriensis"
          ]
         ],
         "hovertemplate": "Common Name=Nilgiri Tiger<br>Genus=%{x}<br>Species=%{y}<br>phylum=%{customdata[0]}<br>class=%{customdata[1]}<br>order=%{customdata[2]}<br>family=%{customdata[3]}<br>sciName=%{customdata[4]}<extra></extra>",
         "legendgroup": "Nilgiri Tiger",
         "marker": {
          "color": "#ab63fa",
          "symbol": "circle"
         },
         "mode": "markers",
         "name": "Nilgiri Tiger",
         "showlegend": true,
         "type": "scattergl",
         "x": [
          "Parantica",
          "Parantica",
          "Parantica",
          "Parantica",
          "Parantica",
          "Parantica",
          "Parantica",
          "Parantica",
          "Parantica",
          "Parantica",
          "Parantica",
          "Parantica",
          "Parantica",
          "Parantica",
          "Parantica",
          "Parantica",
          "Parantica",
          "Parantica",
          "Parantica",
          "Parantica",
          "Parantica",
          "Parantica",
          "Parantica",
          "Parantica",
          "Parantica",
          "Parantica",
          "Parantica",
          "Parantica",
          "Parantica",
          "Parantica"
         ],
         "xaxis": "x",
         "y": [
          "nilgiriensis",
          "nilgiriensis",
          "nilgiriensis",
          "nilgiriensis",
          "nilgiriensis",
          "nilgiriensis",
          "nilgiriensis",
          "nilgiriensis",
          "nilgiriensis",
          "nilgiriensis",
          "nilgiriensis",
          "nilgiriensis",
          "nilgiriensis",
          "nilgiriensis",
          "nilgiriensis",
          "nilgiriensis",
          "nilgiriensis",
          "nilgiriensis",
          "nilgiriensis",
          "nilgiriensis",
          "nilgiriensis",
          "nilgiriensis",
          "nilgiriensis",
          "nilgiriensis",
          "nilgiriensis",
          "nilgiriensis",
          "nilgiriensis",
          "nilgiriensis",
          "nilgiriensis",
          "nilgiriensis"
         ],
         "yaxis": "y"
        },
        {
         "customdata": [
          [
           "Arthropoda",
           "Insecta",
           "Lepidoptera",
           "Papilionidae",
           "Luehdorfia japonica"
          ],
          [
           "Arthropoda",
           "Insecta",
           "Lepidoptera",
           "Papilionidae",
           "Luehdorfia japonica"
          ],
          [
           "Arthropoda",
           "Insecta",
           "Lepidoptera",
           "Papilionidae",
           "Luehdorfia japonica"
          ],
          [
           "Arthropoda",
           "Insecta",
           "Lepidoptera",
           "Papilionidae",
           "Luehdorfia japonica"
          ],
          [
           "Arthropoda",
           "Insecta",
           "Lepidoptera",
           "Papilionidae",
           "Luehdorfia japonica"
          ],
          [
           "Arthropoda",
           "Insecta",
           "Lepidoptera",
           "Papilionidae",
           "Luehdorfia japonica"
          ],
          [
           "Arthropoda",
           "Insecta",
           "Lepidoptera",
           "Papilionidae",
           "Luehdorfia japonica"
          ],
          [
           "Arthropoda",
           "Insecta",
           "Lepidoptera",
           "Papilionidae",
           "Luehdorfia japonica"
          ],
          [
           "Arthropoda",
           "Insecta",
           "Lepidoptera",
           "Papilionidae",
           "Luehdorfia japonica"
          ],
          [
           "Arthropoda",
           "Insecta",
           "Lepidoptera",
           "Papilionidae",
           "Luehdorfia japonica"
          ],
          [
           "Arthropoda",
           "Insecta",
           "Lepidoptera",
           "Papilionidae",
           "Luehdorfia japonica"
          ],
          [
           "Arthropoda",
           "Insecta",
           "Lepidoptera",
           "Papilionidae",
           "Luehdorfia japonica"
          ],
          [
           "Arthropoda",
           "Insecta",
           "Lepidoptera",
           "Papilionidae",
           "Luehdorfia japonica"
          ],
          [
           "Arthropoda",
           "Insecta",
           "Lepidoptera",
           "Papilionidae",
           "Luehdorfia japonica"
          ],
          [
           "Arthropoda",
           "Insecta",
           "Lepidoptera",
           "Papilionidae",
           "Luehdorfia japonica"
          ],
          [
           "Arthropoda",
           "Insecta",
           "Lepidoptera",
           "Papilionidae",
           "Luehdorfia japonica"
          ],
          [
           "Arthropoda",
           "Insecta",
           "Lepidoptera",
           "Papilionidae",
           "Luehdorfia japonica"
          ],
          [
           "Arthropoda",
           "Insecta",
           "Lepidoptera",
           "Papilionidae",
           "Luehdorfia japonica"
          ],
          [
           "Arthropoda",
           "Insecta",
           "Lepidoptera",
           "Papilionidae",
           "Luehdorfia japonica"
          ],
          [
           "Arthropoda",
           "Insecta",
           "Lepidoptera",
           "Papilionidae",
           "Luehdorfia japonica"
          ],
          [
           "Arthropoda",
           "Insecta",
           "Lepidoptera",
           "Papilionidae",
           "Luehdorfia japonica"
          ],
          [
           "Arthropoda",
           "Insecta",
           "Lepidoptera",
           "Papilionidae",
           "Luehdorfia japonica"
          ],
          [
           "Arthropoda",
           "Insecta",
           "Lepidoptera",
           "Papilionidae",
           "Luehdorfia japonica"
          ],
          [
           "Arthropoda",
           "Insecta",
           "Lepidoptera",
           "Papilionidae",
           "Luehdorfia japonica"
          ],
          [
           "Arthropoda",
           "Insecta",
           "Lepidoptera",
           "Papilionidae",
           "Luehdorfia japonica"
          ],
          [
           "Arthropoda",
           "Insecta",
           "Lepidoptera",
           "Papilionidae",
           "Luehdorfia japonica"
          ],
          [
           "Arthropoda",
           "Insecta",
           "Lepidoptera",
           "Papilionidae",
           "Luehdorfia japonica"
          ],
          [
           "Arthropoda",
           "Insecta",
           "Lepidoptera",
           "Papilionidae",
           "Luehdorfia japonica"
          ],
          [
           "Arthropoda",
           "Insecta",
           "Lepidoptera",
           "Papilionidae",
           "Luehdorfia japonica"
          ],
          [
           "Arthropoda",
           "Insecta",
           "Lepidoptera",
           "Papilionidae",
           "Luehdorfia japonica"
          ]
         ],
         "hovertemplate": "Common Name=Japanese Luehdorfia<br>Genus=%{x}<br>Species=%{y}<br>phylum=%{customdata[0]}<br>class=%{customdata[1]}<br>order=%{customdata[2]}<br>family=%{customdata[3]}<br>sciName=%{customdata[4]}<extra></extra>",
         "legendgroup": "Japanese Luehdorfia",
         "marker": {
          "color": "#FFA15A",
          "symbol": "circle"
         },
         "mode": "markers",
         "name": "Japanese Luehdorfia",
         "showlegend": true,
         "type": "scattergl",
         "x": [
          "Luehdorfia",
          "Luehdorfia",
          "Luehdorfia",
          "Luehdorfia",
          "Luehdorfia",
          "Luehdorfia",
          "Luehdorfia",
          "Luehdorfia",
          "Luehdorfia",
          "Luehdorfia",
          "Luehdorfia",
          "Luehdorfia",
          "Luehdorfia",
          "Luehdorfia",
          "Luehdorfia",
          "Luehdorfia",
          "Luehdorfia",
          "Luehdorfia",
          "Luehdorfia",
          "Luehdorfia",
          "Luehdorfia",
          "Luehdorfia",
          "Luehdorfia",
          "Luehdorfia",
          "Luehdorfia",
          "Luehdorfia",
          "Luehdorfia",
          "Luehdorfia",
          "Luehdorfia",
          "Luehdorfia"
         ],
         "xaxis": "x",
         "y": [
          "japonica",
          "japonica",
          "japonica",
          "japonica",
          "japonica",
          "japonica",
          "japonica",
          "japonica",
          "japonica",
          "japonica",
          "japonica",
          "japonica",
          "japonica",
          "japonica",
          "japonica",
          "japonica",
          "japonica",
          "japonica",
          "japonica",
          "japonica",
          "japonica",
          "japonica",
          "japonica",
          "japonica",
          "japonica",
          "japonica",
          "japonica",
          "japonica",
          "japonica",
          "japonica"
         ],
         "yaxis": "y"
        },
        {
         "customdata": [
          [
           "Arthropoda",
           "Insecta",
           "Odonata",
           "Coenagrionidae",
           "Leptobasis melinogaster"
          ],
          [
           "Arthropoda",
           "Insecta",
           "Odonata",
           "Coenagrionidae",
           "Leptobasis melinogaster"
          ],
          [
           "Arthropoda",
           "Insecta",
           "Odonata",
           "Coenagrionidae",
           "Leptobasis melinogaster"
          ],
          [
           "Arthropoda",
           "Insecta",
           "Odonata",
           "Coenagrionidae",
           "Leptobasis melinogaster"
          ],
          [
           "Arthropoda",
           "Insecta",
           "Odonata",
           "Coenagrionidae",
           "Leptobasis melinogaster"
          ],
          [
           "Arthropoda",
           "Insecta",
           "Odonata",
           "Coenagrionidae",
           "Leptobasis melinogaster"
          ],
          [
           "Arthropoda",
           "Insecta",
           "Odonata",
           "Coenagrionidae",
           "Leptobasis melinogaster"
          ],
          [
           "Arthropoda",
           "Insecta",
           "Odonata",
           "Coenagrionidae",
           "Leptobasis melinogaster"
          ],
          [
           "Arthropoda",
           "Insecta",
           "Odonata",
           "Coenagrionidae",
           "Leptobasis melinogaster"
          ],
          [
           "Arthropoda",
           "Insecta",
           "Odonata",
           "Coenagrionidae",
           "Leptobasis melinogaster"
          ],
          [
           "Arthropoda",
           "Insecta",
           "Odonata",
           "Coenagrionidae",
           "Leptobasis melinogaster"
          ],
          [
           "Arthropoda",
           "Insecta",
           "Odonata",
           "Coenagrionidae",
           "Leptobasis melinogaster"
          ],
          [
           "Arthropoda",
           "Insecta",
           "Odonata",
           "Coenagrionidae",
           "Leptobasis melinogaster"
          ],
          [
           "Arthropoda",
           "Insecta",
           "Odonata",
           "Coenagrionidae",
           "Leptobasis melinogaster"
          ],
          [
           "Arthropoda",
           "Insecta",
           "Odonata",
           "Coenagrionidae",
           "Leptobasis melinogaster"
          ],
          [
           "Arthropoda",
           "Insecta",
           "Odonata",
           "Coenagrionidae",
           "Leptobasis melinogaster"
          ],
          [
           "Arthropoda",
           "Insecta",
           "Odonata",
           "Coenagrionidae",
           "Leptobasis melinogaster"
          ],
          [
           "Arthropoda",
           "Insecta",
           "Odonata",
           "Coenagrionidae",
           "Leptobasis melinogaster"
          ],
          [
           "Arthropoda",
           "Insecta",
           "Odonata",
           "Coenagrionidae",
           "Leptobasis melinogaster"
          ],
          [
           "Arthropoda",
           "Insecta",
           "Odonata",
           "Coenagrionidae",
           "Leptobasis melinogaster"
          ],
          [
           "Arthropoda",
           "Insecta",
           "Odonata",
           "Coenagrionidae",
           "Leptobasis melinogaster"
          ],
          [
           "Arthropoda",
           "Insecta",
           "Odonata",
           "Coenagrionidae",
           "Leptobasis melinogaster"
          ],
          [
           "Arthropoda",
           "Insecta",
           "Odonata",
           "Coenagrionidae",
           "Leptobasis melinogaster"
          ],
          [
           "Arthropoda",
           "Insecta",
           "Odonata",
           "Coenagrionidae",
           "Leptobasis melinogaster"
          ],
          [
           "Arthropoda",
           "Insecta",
           "Odonata",
           "Coenagrionidae",
           "Leptobasis melinogaster"
          ],
          [
           "Arthropoda",
           "Insecta",
           "Odonata",
           "Coenagrionidae",
           "Leptobasis melinogaster"
          ],
          [
           "Arthropoda",
           "Insecta",
           "Odonata",
           "Coenagrionidae",
           "Leptobasis melinogaster"
          ],
          [
           "Arthropoda",
           "Insecta",
           "Odonata",
           "Coenagrionidae",
           "Leptobasis melinogaster"
          ],
          [
           "Arthropoda",
           "Insecta",
           "Odonata",
           "Coenagrionidae",
           "Leptobasis melinogaster"
          ],
          [
           "Arthropoda",
           "Insecta",
           "Odonata",
           "Coenagrionidae",
           "Leptobasis melinogaster"
          ]
         ],
         "hovertemplate": "Common Name=Cream-tipped Swampdamsel<br>Genus=%{x}<br>Species=%{y}<br>phylum=%{customdata[0]}<br>class=%{customdata[1]}<br>order=%{customdata[2]}<br>family=%{customdata[3]}<br>sciName=%{customdata[4]}<extra></extra>",
         "legendgroup": "Cream-tipped Swampdamsel",
         "marker": {
          "color": "#19d3f3",
          "symbol": "circle"
         },
         "mode": "markers",
         "name": "Cream-tipped Swampdamsel",
         "showlegend": true,
         "type": "scattergl",
         "x": [
          "Leptobasis",
          "Leptobasis",
          "Leptobasis",
          "Leptobasis",
          "Leptobasis",
          "Leptobasis",
          "Leptobasis",
          "Leptobasis",
          "Leptobasis",
          "Leptobasis",
          "Leptobasis",
          "Leptobasis",
          "Leptobasis",
          "Leptobasis",
          "Leptobasis",
          "Leptobasis",
          "Leptobasis",
          "Leptobasis",
          "Leptobasis",
          "Leptobasis",
          "Leptobasis",
          "Leptobasis",
          "Leptobasis",
          "Leptobasis",
          "Leptobasis",
          "Leptobasis",
          "Leptobasis",
          "Leptobasis",
          "Leptobasis",
          "Leptobasis"
         ],
         "xaxis": "x",
         "y": [
          "melinogaster",
          "melinogaster",
          "melinogaster",
          "melinogaster",
          "melinogaster",
          "melinogaster",
          "melinogaster",
          "melinogaster",
          "melinogaster",
          "melinogaster",
          "melinogaster",
          "melinogaster",
          "melinogaster",
          "melinogaster",
          "melinogaster",
          "melinogaster",
          "melinogaster",
          "melinogaster",
          "melinogaster",
          "melinogaster",
          "melinogaster",
          "melinogaster",
          "melinogaster",
          "melinogaster",
          "melinogaster",
          "melinogaster",
          "melinogaster",
          "melinogaster",
          "melinogaster",
          "melinogaster"
         ],
         "yaxis": "y"
        },
        {
         "customdata": [
          [
           "Arthropoda",
           "Insecta",
           "Odonata",
           "Gomphidae",
           "Ceratogomphus triceraticus"
          ],
          [
           "Arthropoda",
           "Insecta",
           "Odonata",
           "Gomphidae",
           "Ceratogomphus triceraticus"
          ],
          [
           "Arthropoda",
           "Insecta",
           "Odonata",
           "Gomphidae",
           "Ceratogomphus triceraticus"
          ],
          [
           "Arthropoda",
           "Insecta",
           "Odonata",
           "Gomphidae",
           "Ceratogomphus triceraticus"
          ],
          [
           "Arthropoda",
           "Insecta",
           "Odonata",
           "Gomphidae",
           "Ceratogomphus triceraticus"
          ],
          [
           "Arthropoda",
           "Insecta",
           "Odonata",
           "Gomphidae",
           "Ceratogomphus triceraticus"
          ],
          [
           "Arthropoda",
           "Insecta",
           "Odonata",
           "Gomphidae",
           "Ceratogomphus triceraticus"
          ],
          [
           "Arthropoda",
           "Insecta",
           "Odonata",
           "Gomphidae",
           "Ceratogomphus triceraticus"
          ],
          [
           "Arthropoda",
           "Insecta",
           "Odonata",
           "Gomphidae",
           "Ceratogomphus triceraticus"
          ],
          [
           "Arthropoda",
           "Insecta",
           "Odonata",
           "Gomphidae",
           "Ceratogomphus triceraticus"
          ],
          [
           "Arthropoda",
           "Insecta",
           "Odonata",
           "Gomphidae",
           "Ceratogomphus triceraticus"
          ],
          [
           "Arthropoda",
           "Insecta",
           "Odonata",
           "Gomphidae",
           "Ceratogomphus triceraticus"
          ],
          [
           "Arthropoda",
           "Insecta",
           "Odonata",
           "Gomphidae",
           "Ceratogomphus triceraticus"
          ],
          [
           "Arthropoda",
           "Insecta",
           "Odonata",
           "Gomphidae",
           "Ceratogomphus triceraticus"
          ],
          [
           "Arthropoda",
           "Insecta",
           "Odonata",
           "Gomphidae",
           "Ceratogomphus triceraticus"
          ],
          [
           "Arthropoda",
           "Insecta",
           "Odonata",
           "Gomphidae",
           "Ceratogomphus triceraticus"
          ],
          [
           "Arthropoda",
           "Insecta",
           "Odonata",
           "Gomphidae",
           "Ceratogomphus triceraticus"
          ],
          [
           "Arthropoda",
           "Insecta",
           "Odonata",
           "Gomphidae",
           "Ceratogomphus triceraticus"
          ],
          [
           "Arthropoda",
           "Insecta",
           "Odonata",
           "Gomphidae",
           "Ceratogomphus triceraticus"
          ],
          [
           "Arthropoda",
           "Insecta",
           "Odonata",
           "Gomphidae",
           "Ceratogomphus triceraticus"
          ],
          [
           "Arthropoda",
           "Insecta",
           "Odonata",
           "Gomphidae",
           "Ceratogomphus triceraticus"
          ],
          [
           "Arthropoda",
           "Insecta",
           "Odonata",
           "Gomphidae",
           "Ceratogomphus triceraticus"
          ],
          [
           "Arthropoda",
           "Insecta",
           "Odonata",
           "Gomphidae",
           "Ceratogomphus triceraticus"
          ],
          [
           "Arthropoda",
           "Insecta",
           "Odonata",
           "Gomphidae",
           "Ceratogomphus triceraticus"
          ],
          [
           "Arthropoda",
           "Insecta",
           "Odonata",
           "Gomphidae",
           "Ceratogomphus triceraticus"
          ],
          [
           "Arthropoda",
           "Insecta",
           "Odonata",
           "Gomphidae",
           "Ceratogomphus triceraticus"
          ],
          [
           "Arthropoda",
           "Insecta",
           "Odonata",
           "Gomphidae",
           "Ceratogomphus triceraticus"
          ],
          [
           "Arthropoda",
           "Insecta",
           "Odonata",
           "Gomphidae",
           "Ceratogomphus triceraticus"
          ],
          [
           "Arthropoda",
           "Insecta",
           "Odonata",
           "Gomphidae",
           "Ceratogomphus triceraticus"
          ],
          [
           "Arthropoda",
           "Insecta",
           "Odonata",
           "Gomphidae",
           "Ceratogomphus triceraticus"
          ]
         ],
         "hovertemplate": "Common Name=Cape Thorntail<br>Genus=%{x}<br>Species=%{y}<br>phylum=%{customdata[0]}<br>class=%{customdata[1]}<br>order=%{customdata[2]}<br>family=%{customdata[3]}<br>sciName=%{customdata[4]}<extra></extra>",
         "legendgroup": "Cape Thorntail",
         "marker": {
          "color": "#FF6692",
          "symbol": "circle"
         },
         "mode": "markers",
         "name": "Cape Thorntail",
         "showlegend": true,
         "type": "scattergl",
         "x": [
          "Ceratogomphus",
          "Ceratogomphus",
          "Ceratogomphus",
          "Ceratogomphus",
          "Ceratogomphus",
          "Ceratogomphus",
          "Ceratogomphus",
          "Ceratogomphus",
          "Ceratogomphus",
          "Ceratogomphus",
          "Ceratogomphus",
          "Ceratogomphus",
          "Ceratogomphus",
          "Ceratogomphus",
          "Ceratogomphus",
          "Ceratogomphus",
          "Ceratogomphus",
          "Ceratogomphus",
          "Ceratogomphus",
          "Ceratogomphus",
          "Ceratogomphus",
          "Ceratogomphus",
          "Ceratogomphus",
          "Ceratogomphus",
          "Ceratogomphus",
          "Ceratogomphus",
          "Ceratogomphus",
          "Ceratogomphus",
          "Ceratogomphus",
          "Ceratogomphus"
         ],
         "xaxis": "x",
         "y": [
          "triceraticus",
          "triceraticus",
          "triceraticus",
          "triceraticus",
          "triceraticus",
          "triceraticus",
          "triceraticus",
          "triceraticus",
          "triceraticus",
          "triceraticus",
          "triceraticus",
          "triceraticus",
          "triceraticus",
          "triceraticus",
          "triceraticus",
          "triceraticus",
          "triceraticus",
          "triceraticus",
          "triceraticus",
          "triceraticus",
          "triceraticus",
          "triceraticus",
          "triceraticus",
          "triceraticus",
          "triceraticus",
          "triceraticus",
          "triceraticus",
          "triceraticus",
          "triceraticus",
          "triceraticus"
         ],
         "yaxis": "y"
        },
        {
         "customdata": [
          [
           "Arthropoda",
           "Insecta",
           "Odonata",
           "Gomphidae",
           "Hemigomphus theischingeri"
          ],
          [
           "Arthropoda",
           "Insecta",
           "Odonata",
           "Gomphidae",
           "Hemigomphus theischingeri"
          ],
          [
           "Arthropoda",
           "Insecta",
           "Odonata",
           "Gomphidae",
           "Hemigomphus theischingeri"
          ],
          [
           "Arthropoda",
           "Insecta",
           "Odonata",
           "Gomphidae",
           "Hemigomphus theischingeri"
          ],
          [
           "Arthropoda",
           "Insecta",
           "Odonata",
           "Gomphidae",
           "Hemigomphus theischingeri"
          ],
          [
           "Arthropoda",
           "Insecta",
           "Odonata",
           "Gomphidae",
           "Hemigomphus theischingeri"
          ],
          [
           "Arthropoda",
           "Insecta",
           "Odonata",
           "Gomphidae",
           "Hemigomphus theischingeri"
          ],
          [
           "Arthropoda",
           "Insecta",
           "Odonata",
           "Gomphidae",
           "Hemigomphus theischingeri"
          ],
          [
           "Arthropoda",
           "Insecta",
           "Odonata",
           "Gomphidae",
           "Hemigomphus theischingeri"
          ],
          [
           "Arthropoda",
           "Insecta",
           "Odonata",
           "Gomphidae",
           "Hemigomphus theischingeri"
          ],
          [
           "Arthropoda",
           "Insecta",
           "Odonata",
           "Gomphidae",
           "Hemigomphus theischingeri"
          ],
          [
           "Arthropoda",
           "Insecta",
           "Odonata",
           "Gomphidae",
           "Hemigomphus theischingeri"
          ],
          [
           "Arthropoda",
           "Insecta",
           "Odonata",
           "Gomphidae",
           "Hemigomphus theischingeri"
          ],
          [
           "Arthropoda",
           "Insecta",
           "Odonata",
           "Gomphidae",
           "Hemigomphus theischingeri"
          ],
          [
           "Arthropoda",
           "Insecta",
           "Odonata",
           "Gomphidae",
           "Hemigomphus theischingeri"
          ],
          [
           "Arthropoda",
           "Insecta",
           "Odonata",
           "Gomphidae",
           "Hemigomphus theischingeri"
          ],
          [
           "Arthropoda",
           "Insecta",
           "Odonata",
           "Gomphidae",
           "Hemigomphus theischingeri"
          ],
          [
           "Arthropoda",
           "Insecta",
           "Odonata",
           "Gomphidae",
           "Hemigomphus theischingeri"
          ],
          [
           "Arthropoda",
           "Insecta",
           "Odonata",
           "Gomphidae",
           "Hemigomphus theischingeri"
          ],
          [
           "Arthropoda",
           "Insecta",
           "Odonata",
           "Gomphidae",
           "Hemigomphus theischingeri"
          ],
          [
           "Arthropoda",
           "Insecta",
           "Odonata",
           "Gomphidae",
           "Hemigomphus theischingeri"
          ],
          [
           "Arthropoda",
           "Insecta",
           "Odonata",
           "Gomphidae",
           "Hemigomphus theischingeri"
          ],
          [
           "Arthropoda",
           "Insecta",
           "Odonata",
           "Gomphidae",
           "Hemigomphus theischingeri"
          ],
          [
           "Arthropoda",
           "Insecta",
           "Odonata",
           "Gomphidae",
           "Hemigomphus theischingeri"
          ],
          [
           "Arthropoda",
           "Insecta",
           "Odonata",
           "Gomphidae",
           "Hemigomphus theischingeri"
          ],
          [
           "Arthropoda",
           "Insecta",
           "Odonata",
           "Gomphidae",
           "Hemigomphus theischingeri"
          ],
          [
           "Arthropoda",
           "Insecta",
           "Odonata",
           "Gomphidae",
           "Hemigomphus theischingeri"
          ],
          [
           "Arthropoda",
           "Insecta",
           "Odonata",
           "Gomphidae",
           "Hemigomphus theischingeri"
          ],
          [
           "Arthropoda",
           "Insecta",
           "Odonata",
           "Gomphidae",
           "Hemigomphus theischingeri"
          ],
          [
           "Arthropoda",
           "Insecta",
           "Odonata",
           "Gomphidae",
           "Hemigomphus theischingeri"
          ]
         ],
         "hovertemplate": "Common Name=Rainforest Vicetail<br>Genus=%{x}<br>Species=%{y}<br>phylum=%{customdata[0]}<br>class=%{customdata[1]}<br>order=%{customdata[2]}<br>family=%{customdata[3]}<br>sciName=%{customdata[4]}<extra></extra>",
         "legendgroup": "Rainforest Vicetail",
         "marker": {
          "color": "#B6E880",
          "symbol": "circle"
         },
         "mode": "markers",
         "name": "Rainforest Vicetail",
         "showlegend": true,
         "type": "scattergl",
         "x": [
          "Hemigomphus",
          "Hemigomphus",
          "Hemigomphus",
          "Hemigomphus",
          "Hemigomphus",
          "Hemigomphus",
          "Hemigomphus",
          "Hemigomphus",
          "Hemigomphus",
          "Hemigomphus",
          "Hemigomphus",
          "Hemigomphus",
          "Hemigomphus",
          "Hemigomphus",
          "Hemigomphus",
          "Hemigomphus",
          "Hemigomphus",
          "Hemigomphus",
          "Hemigomphus",
          "Hemigomphus",
          "Hemigomphus",
          "Hemigomphus",
          "Hemigomphus",
          "Hemigomphus",
          "Hemigomphus",
          "Hemigomphus",
          "Hemigomphus",
          "Hemigomphus",
          "Hemigomphus",
          "Hemigomphus"
         ],
         "xaxis": "x",
         "y": [
          "theischingeri",
          "theischingeri",
          "theischingeri",
          "theischingeri",
          "theischingeri",
          "theischingeri",
          "theischingeri",
          "theischingeri",
          "theischingeri",
          "theischingeri",
          "theischingeri",
          "theischingeri",
          "theischingeri",
          "theischingeri",
          "theischingeri",
          "theischingeri",
          "theischingeri",
          "theischingeri",
          "theischingeri",
          "theischingeri",
          "theischingeri",
          "theischingeri",
          "theischingeri",
          "theischingeri",
          "theischingeri",
          "theischingeri",
          "theischingeri",
          "theischingeri",
          "theischingeri",
          "theischingeri"
         ],
         "yaxis": "y"
        },
        {
         "customdata": [
          [
           "Arthropoda",
           "Insecta",
           "Odonata",
           "Platystictidae",
           "Protosticta sanguinostigma"
          ],
          [
           "Arthropoda",
           "Insecta",
           "Odonata",
           "Platystictidae",
           "Protosticta sanguinostigma"
          ],
          [
           "Arthropoda",
           "Insecta",
           "Odonata",
           "Platystictidae",
           "Protosticta sanguinostigma"
          ],
          [
           "Arthropoda",
           "Insecta",
           "Odonata",
           "Platystictidae",
           "Protosticta sanguinostigma"
          ],
          [
           "Arthropoda",
           "Insecta",
           "Odonata",
           "Platystictidae",
           "Protosticta sanguinostigma"
          ],
          [
           "Arthropoda",
           "Insecta",
           "Odonata",
           "Platystictidae",
           "Protosticta sanguinostigma"
          ],
          [
           "Arthropoda",
           "Insecta",
           "Odonata",
           "Platystictidae",
           "Protosticta sanguinostigma"
          ],
          [
           "Arthropoda",
           "Insecta",
           "Odonata",
           "Platystictidae",
           "Protosticta sanguinostigma"
          ],
          [
           "Arthropoda",
           "Insecta",
           "Odonata",
           "Platystictidae",
           "Protosticta sanguinostigma"
          ],
          [
           "Arthropoda",
           "Insecta",
           "Odonata",
           "Platystictidae",
           "Protosticta sanguinostigma"
          ],
          [
           "Arthropoda",
           "Insecta",
           "Odonata",
           "Platystictidae",
           "Protosticta sanguinostigma"
          ],
          [
           "Arthropoda",
           "Insecta",
           "Odonata",
           "Platystictidae",
           "Protosticta sanguinostigma"
          ],
          [
           "Arthropoda",
           "Insecta",
           "Odonata",
           "Platystictidae",
           "Protosticta sanguinostigma"
          ],
          [
           "Arthropoda",
           "Insecta",
           "Odonata",
           "Platystictidae",
           "Protosticta sanguinostigma"
          ],
          [
           "Arthropoda",
           "Insecta",
           "Odonata",
           "Platystictidae",
           "Protosticta sanguinostigma"
          ],
          [
           "Arthropoda",
           "Insecta",
           "Odonata",
           "Platystictidae",
           "Protosticta sanguinostigma"
          ],
          [
           "Arthropoda",
           "Insecta",
           "Odonata",
           "Platystictidae",
           "Protosticta sanguinostigma"
          ],
          [
           "Arthropoda",
           "Insecta",
           "Odonata",
           "Platystictidae",
           "Protosticta sanguinostigma"
          ],
          [
           "Arthropoda",
           "Insecta",
           "Odonata",
           "Platystictidae",
           "Protosticta sanguinostigma"
          ],
          [
           "Arthropoda",
           "Insecta",
           "Odonata",
           "Platystictidae",
           "Protosticta sanguinostigma"
          ],
          [
           "Arthropoda",
           "Insecta",
           "Odonata",
           "Platystictidae",
           "Protosticta sanguinostigma"
          ],
          [
           "Arthropoda",
           "Insecta",
           "Odonata",
           "Platystictidae",
           "Protosticta sanguinostigma"
          ],
          [
           "Arthropoda",
           "Insecta",
           "Odonata",
           "Platystictidae",
           "Protosticta sanguinostigma"
          ],
          [
           "Arthropoda",
           "Insecta",
           "Odonata",
           "Platystictidae",
           "Protosticta sanguinostigma"
          ],
          [
           "Arthropoda",
           "Insecta",
           "Odonata",
           "Platystictidae",
           "Protosticta sanguinostigma"
          ],
          [
           "Arthropoda",
           "Insecta",
           "Odonata",
           "Platystictidae",
           "Protosticta sanguinostigma"
          ],
          [
           "Arthropoda",
           "Insecta",
           "Odonata",
           "Platystictidae",
           "Protosticta sanguinostigma"
          ],
          [
           "Arthropoda",
           "Insecta",
           "Odonata",
           "Platystictidae",
           "Protosticta sanguinostigma"
          ],
          [
           "Arthropoda",
           "Insecta",
           "Odonata",
           "Platystictidae",
           "Protosticta sanguinostigma"
          ],
          [
           "Arthropoda",
           "Insecta",
           "Odonata",
           "Platystictidae",
           "Protosticta sanguinostigma"
          ]
         ],
         "hovertemplate": "Common Name=red spot reedtail<br>Genus=%{x}<br>Species=%{y}<br>phylum=%{customdata[0]}<br>class=%{customdata[1]}<br>order=%{customdata[2]}<br>family=%{customdata[3]}<br>sciName=%{customdata[4]}<extra></extra>",
         "legendgroup": "red spot reedtail",
         "marker": {
          "color": "#FF97FF",
          "symbol": "circle"
         },
         "mode": "markers",
         "name": "red spot reedtail",
         "showlegend": true,
         "type": "scattergl",
         "x": [
          "Protosticta",
          "Protosticta",
          "Protosticta",
          "Protosticta",
          "Protosticta",
          "Protosticta",
          "Protosticta",
          "Protosticta",
          "Protosticta",
          "Protosticta",
          "Protosticta",
          "Protosticta",
          "Protosticta",
          "Protosticta",
          "Protosticta",
          "Protosticta",
          "Protosticta",
          "Protosticta",
          "Protosticta",
          "Protosticta",
          "Protosticta",
          "Protosticta",
          "Protosticta",
          "Protosticta",
          "Protosticta",
          "Protosticta",
          "Protosticta",
          "Protosticta",
          "Protosticta",
          "Protosticta"
         ],
         "xaxis": "x",
         "y": [
          "sanguinostigma",
          "sanguinostigma",
          "sanguinostigma",
          "sanguinostigma",
          "sanguinostigma",
          "sanguinostigma",
          "sanguinostigma",
          "sanguinostigma",
          "sanguinostigma",
          "sanguinostigma",
          "sanguinostigma",
          "sanguinostigma",
          "sanguinostigma",
          "sanguinostigma",
          "sanguinostigma",
          "sanguinostigma",
          "sanguinostigma",
          "sanguinostigma",
          "sanguinostigma",
          "sanguinostigma",
          "sanguinostigma",
          "sanguinostigma",
          "sanguinostigma",
          "sanguinostigma",
          "sanguinostigma",
          "sanguinostigma",
          "sanguinostigma",
          "sanguinostigma",
          "sanguinostigma",
          "sanguinostigma"
         ],
         "yaxis": "y"
        },
        {
         "customdata": [
          [
           "Arthropoda",
           "Insecta",
           "Orthoptera",
           "Tettigoniidae",
           "Saga pedo"
          ],
          [
           "Arthropoda",
           "Insecta",
           "Orthoptera",
           "Tettigoniidae",
           "Saga pedo"
          ],
          [
           "Arthropoda",
           "Insecta",
           "Orthoptera",
           "Tettigoniidae",
           "Saga pedo"
          ],
          [
           "Arthropoda",
           "Insecta",
           "Orthoptera",
           "Tettigoniidae",
           "Saga pedo"
          ],
          [
           "Arthropoda",
           "Insecta",
           "Orthoptera",
           "Tettigoniidae",
           "Saga pedo"
          ],
          [
           "Arthropoda",
           "Insecta",
           "Orthoptera",
           "Tettigoniidae",
           "Saga pedo"
          ],
          [
           "Arthropoda",
           "Insecta",
           "Orthoptera",
           "Tettigoniidae",
           "Saga pedo"
          ],
          [
           "Arthropoda",
           "Insecta",
           "Orthoptera",
           "Tettigoniidae",
           "Saga pedo"
          ],
          [
           "Arthropoda",
           "Insecta",
           "Orthoptera",
           "Tettigoniidae",
           "Saga pedo"
          ],
          [
           "Arthropoda",
           "Insecta",
           "Orthoptera",
           "Tettigoniidae",
           "Saga pedo"
          ],
          [
           "Arthropoda",
           "Insecta",
           "Orthoptera",
           "Tettigoniidae",
           "Saga pedo"
          ],
          [
           "Arthropoda",
           "Insecta",
           "Orthoptera",
           "Tettigoniidae",
           "Saga pedo"
          ],
          [
           "Arthropoda",
           "Insecta",
           "Orthoptera",
           "Tettigoniidae",
           "Saga pedo"
          ],
          [
           "Arthropoda",
           "Insecta",
           "Orthoptera",
           "Tettigoniidae",
           "Saga pedo"
          ],
          [
           "Arthropoda",
           "Insecta",
           "Orthoptera",
           "Tettigoniidae",
           "Saga pedo"
          ],
          [
           "Arthropoda",
           "Insecta",
           "Orthoptera",
           "Tettigoniidae",
           "Saga pedo"
          ],
          [
           "Arthropoda",
           "Insecta",
           "Orthoptera",
           "Tettigoniidae",
           "Saga pedo"
          ],
          [
           "Arthropoda",
           "Insecta",
           "Orthoptera",
           "Tettigoniidae",
           "Saga pedo"
          ],
          [
           "Arthropoda",
           "Insecta",
           "Orthoptera",
           "Tettigoniidae",
           "Saga pedo"
          ],
          [
           "Arthropoda",
           "Insecta",
           "Orthoptera",
           "Tettigoniidae",
           "Saga pedo"
          ],
          [
           "Arthropoda",
           "Insecta",
           "Orthoptera",
           "Tettigoniidae",
           "Saga pedo"
          ],
          [
           "Arthropoda",
           "Insecta",
           "Orthoptera",
           "Tettigoniidae",
           "Saga pedo"
          ],
          [
           "Arthropoda",
           "Insecta",
           "Orthoptera",
           "Tettigoniidae",
           "Saga pedo"
          ],
          [
           "Arthropoda",
           "Insecta",
           "Orthoptera",
           "Tettigoniidae",
           "Saga pedo"
          ],
          [
           "Arthropoda",
           "Insecta",
           "Orthoptera",
           "Tettigoniidae",
           "Saga pedo"
          ],
          [
           "Arthropoda",
           "Insecta",
           "Orthoptera",
           "Tettigoniidae",
           "Saga pedo"
          ],
          [
           "Arthropoda",
           "Insecta",
           "Orthoptera",
           "Tettigoniidae",
           "Saga pedo"
          ],
          [
           "Arthropoda",
           "Insecta",
           "Orthoptera",
           "Tettigoniidae",
           "Saga pedo"
          ],
          [
           "Arthropoda",
           "Insecta",
           "Orthoptera",
           "Tettigoniidae",
           "Saga pedo"
          ],
          [
           "Arthropoda",
           "Insecta",
           "Orthoptera",
           "Tettigoniidae",
           "Saga pedo"
          ]
         ],
         "hovertemplate": "Common Name=Predatory Bush-cricket<br>Genus=%{x}<br>Species=%{y}<br>phylum=%{customdata[0]}<br>class=%{customdata[1]}<br>order=%{customdata[2]}<br>family=%{customdata[3]}<br>sciName=%{customdata[4]}<extra></extra>",
         "legendgroup": "Predatory Bush-cricket",
         "marker": {
          "color": "#FECB52",
          "symbol": "circle"
         },
         "mode": "markers",
         "name": "Predatory Bush-cricket",
         "showlegend": true,
         "type": "scattergl",
         "x": [
          "Saga",
          "Saga",
          "Saga",
          "Saga",
          "Saga",
          "Saga",
          "Saga",
          "Saga",
          "Saga",
          "Saga",
          "Saga",
          "Saga",
          "Saga",
          "Saga",
          "Saga",
          "Saga",
          "Saga",
          "Saga",
          "Saga",
          "Saga",
          "Saga",
          "Saga",
          "Saga",
          "Saga",
          "Saga",
          "Saga",
          "Saga",
          "Saga",
          "Saga",
          "Saga"
         ],
         "xaxis": "x",
         "y": [
          "pedo",
          "pedo",
          "pedo",
          "pedo",
          "pedo",
          "pedo",
          "pedo",
          "pedo",
          "pedo",
          "pedo",
          "pedo",
          "pedo",
          "pedo",
          "pedo",
          "pedo",
          "pedo",
          "pedo",
          "pedo",
          "pedo",
          "pedo",
          "pedo",
          "pedo",
          "pedo",
          "pedo",
          "pedo",
          "pedo",
          "pedo",
          "pedo",
          "pedo",
          "pedo"
         ],
         "yaxis": "y"
        },
        {
         "customdata": [
          [
           "Arthropoda",
           "Insecta",
           "Phasmida",
           "Pseudophasmatidae",
           "Peruphasma schultei"
          ],
          [
           "Arthropoda",
           "Insecta",
           "Phasmida",
           "Pseudophasmatidae",
           "Peruphasma schultei"
          ],
          [
           "Arthropoda",
           "Insecta",
           "Phasmida",
           "Pseudophasmatidae",
           "Peruphasma schultei"
          ],
          [
           "Arthropoda",
           "Insecta",
           "Phasmida",
           "Pseudophasmatidae",
           "Peruphasma schultei"
          ],
          [
           "Arthropoda",
           "Insecta",
           "Phasmida",
           "Pseudophasmatidae",
           "Peruphasma schultei"
          ],
          [
           "Arthropoda",
           "Insecta",
           "Phasmida",
           "Pseudophasmatidae",
           "Peruphasma schultei"
          ],
          [
           "Arthropoda",
           "Insecta",
           "Phasmida",
           "Pseudophasmatidae",
           "Peruphasma schultei"
          ],
          [
           "Arthropoda",
           "Insecta",
           "Phasmida",
           "Pseudophasmatidae",
           "Peruphasma schultei"
          ],
          [
           "Arthropoda",
           "Insecta",
           "Phasmida",
           "Pseudophasmatidae",
           "Peruphasma schultei"
          ],
          [
           "Arthropoda",
           "Insecta",
           "Phasmida",
           "Pseudophasmatidae",
           "Peruphasma schultei"
          ],
          [
           "Arthropoda",
           "Insecta",
           "Phasmida",
           "Pseudophasmatidae",
           "Peruphasma schultei"
          ],
          [
           "Arthropoda",
           "Insecta",
           "Phasmida",
           "Pseudophasmatidae",
           "Peruphasma schultei"
          ],
          [
           "Arthropoda",
           "Insecta",
           "Phasmida",
           "Pseudophasmatidae",
           "Peruphasma schultei"
          ],
          [
           "Arthropoda",
           "Insecta",
           "Phasmida",
           "Pseudophasmatidae",
           "Peruphasma schultei"
          ],
          [
           "Arthropoda",
           "Insecta",
           "Phasmida",
           "Pseudophasmatidae",
           "Peruphasma schultei"
          ],
          [
           "Arthropoda",
           "Insecta",
           "Phasmida",
           "Pseudophasmatidae",
           "Peruphasma schultei"
          ],
          [
           "Arthropoda",
           "Insecta",
           "Phasmida",
           "Pseudophasmatidae",
           "Peruphasma schultei"
          ],
          [
           "Arthropoda",
           "Insecta",
           "Phasmida",
           "Pseudophasmatidae",
           "Peruphasma schultei"
          ],
          [
           "Arthropoda",
           "Insecta",
           "Phasmida",
           "Pseudophasmatidae",
           "Peruphasma schultei"
          ],
          [
           "Arthropoda",
           "Insecta",
           "Phasmida",
           "Pseudophasmatidae",
           "Peruphasma schultei"
          ],
          [
           "Arthropoda",
           "Insecta",
           "Phasmida",
           "Pseudophasmatidae",
           "Peruphasma schultei"
          ],
          [
           "Arthropoda",
           "Insecta",
           "Phasmida",
           "Pseudophasmatidae",
           "Peruphasma schultei"
          ],
          [
           "Arthropoda",
           "Insecta",
           "Phasmida",
           "Pseudophasmatidae",
           "Peruphasma schultei"
          ],
          [
           "Arthropoda",
           "Insecta",
           "Phasmida",
           "Pseudophasmatidae",
           "Peruphasma schultei"
          ],
          [
           "Arthropoda",
           "Insecta",
           "Phasmida",
           "Pseudophasmatidae",
           "Peruphasma schultei"
          ],
          [
           "Arthropoda",
           "Insecta",
           "Phasmida",
           "Pseudophasmatidae",
           "Peruphasma schultei"
          ],
          [
           "Arthropoda",
           "Insecta",
           "Phasmida",
           "Pseudophasmatidae",
           "Peruphasma schultei"
          ],
          [
           "Arthropoda",
           "Insecta",
           "Phasmida",
           "Pseudophasmatidae",
           "Peruphasma schultei"
          ],
          [
           "Arthropoda",
           "Insecta",
           "Phasmida",
           "Pseudophasmatidae",
           "Peruphasma schultei"
          ],
          [
           "Arthropoda",
           "Insecta",
           "Phasmida",
           "Pseudophasmatidae",
           "Peruphasma schultei"
          ]
         ],
         "hovertemplate": "Common Name=Black Beauty Stick Insect<br>Genus=%{x}<br>Species=%{y}<br>phylum=%{customdata[0]}<br>class=%{customdata[1]}<br>order=%{customdata[2]}<br>family=%{customdata[3]}<br>sciName=%{customdata[4]}<extra></extra>",
         "legendgroup": "Black Beauty Stick Insect",
         "marker": {
          "color": "#636efa",
          "symbol": "circle"
         },
         "mode": "markers",
         "name": "Black Beauty Stick Insect",
         "showlegend": true,
         "type": "scattergl",
         "x": [
          "Peruphasma",
          "Peruphasma",
          "Peruphasma",
          "Peruphasma",
          "Peruphasma",
          "Peruphasma",
          "Peruphasma",
          "Peruphasma",
          "Peruphasma",
          "Peruphasma",
          "Peruphasma",
          "Peruphasma",
          "Peruphasma",
          "Peruphasma",
          "Peruphasma",
          "Peruphasma",
          "Peruphasma",
          "Peruphasma",
          "Peruphasma",
          "Peruphasma",
          "Peruphasma",
          "Peruphasma",
          "Peruphasma",
          "Peruphasma",
          "Peruphasma",
          "Peruphasma",
          "Peruphasma",
          "Peruphasma",
          "Peruphasma",
          "Peruphasma"
         ],
         "xaxis": "x",
         "y": [
          "schultei",
          "schultei",
          "schultei",
          "schultei",
          "schultei",
          "schultei",
          "schultei",
          "schultei",
          "schultei",
          "schultei",
          "schultei",
          "schultei",
          "schultei",
          "schultei",
          "schultei",
          "schultei",
          "schultei",
          "schultei",
          "schultei",
          "schultei",
          "schultei",
          "schultei",
          "schultei",
          "schultei",
          "schultei",
          "schultei",
          "schultei",
          "schultei",
          "schultei",
          "schultei"
         ],
         "yaxis": "y"
        },
        {
         "customdata": [
          [
           "Arthropoda",
           "Malacostraca",
           "Decapoda",
           "Palinuridae",
           "Palinurus elephas"
          ],
          [
           "Arthropoda",
           "Malacostraca",
           "Decapoda",
           "Palinuridae",
           "Palinurus elephas"
          ],
          [
           "Arthropoda",
           "Malacostraca",
           "Decapoda",
           "Palinuridae",
           "Palinurus elephas"
          ],
          [
           "Arthropoda",
           "Malacostraca",
           "Decapoda",
           "Palinuridae",
           "Palinurus elephas"
          ],
          [
           "Arthropoda",
           "Malacostraca",
           "Decapoda",
           "Palinuridae",
           "Palinurus elephas"
          ],
          [
           "Arthropoda",
           "Malacostraca",
           "Decapoda",
           "Palinuridae",
           "Palinurus elephas"
          ],
          [
           "Arthropoda",
           "Malacostraca",
           "Decapoda",
           "Palinuridae",
           "Palinurus elephas"
          ],
          [
           "Arthropoda",
           "Malacostraca",
           "Decapoda",
           "Palinuridae",
           "Palinurus elephas"
          ],
          [
           "Arthropoda",
           "Malacostraca",
           "Decapoda",
           "Palinuridae",
           "Palinurus elephas"
          ],
          [
           "Arthropoda",
           "Malacostraca",
           "Decapoda",
           "Palinuridae",
           "Palinurus elephas"
          ],
          [
           "Arthropoda",
           "Malacostraca",
           "Decapoda",
           "Palinuridae",
           "Palinurus elephas"
          ],
          [
           "Arthropoda",
           "Malacostraca",
           "Decapoda",
           "Palinuridae",
           "Palinurus elephas"
          ],
          [
           "Arthropoda",
           "Malacostraca",
           "Decapoda",
           "Palinuridae",
           "Palinurus elephas"
          ],
          [
           "Arthropoda",
           "Malacostraca",
           "Decapoda",
           "Palinuridae",
           "Palinurus elephas"
          ],
          [
           "Arthropoda",
           "Malacostraca",
           "Decapoda",
           "Palinuridae",
           "Palinurus elephas"
          ],
          [
           "Arthropoda",
           "Malacostraca",
           "Decapoda",
           "Palinuridae",
           "Palinurus elephas"
          ],
          [
           "Arthropoda",
           "Malacostraca",
           "Decapoda",
           "Palinuridae",
           "Palinurus elephas"
          ],
          [
           "Arthropoda",
           "Malacostraca",
           "Decapoda",
           "Palinuridae",
           "Palinurus elephas"
          ],
          [
           "Arthropoda",
           "Malacostraca",
           "Decapoda",
           "Palinuridae",
           "Palinurus elephas"
          ],
          [
           "Arthropoda",
           "Malacostraca",
           "Decapoda",
           "Palinuridae",
           "Palinurus elephas"
          ],
          [
           "Arthropoda",
           "Malacostraca",
           "Decapoda",
           "Palinuridae",
           "Palinurus elephas"
          ],
          [
           "Arthropoda",
           "Malacostraca",
           "Decapoda",
           "Palinuridae",
           "Palinurus elephas"
          ],
          [
           "Arthropoda",
           "Malacostraca",
           "Decapoda",
           "Palinuridae",
           "Palinurus elephas"
          ],
          [
           "Arthropoda",
           "Malacostraca",
           "Decapoda",
           "Palinuridae",
           "Palinurus elephas"
          ],
          [
           "Arthropoda",
           "Malacostraca",
           "Decapoda",
           "Palinuridae",
           "Palinurus elephas"
          ],
          [
           "Arthropoda",
           "Malacostraca",
           "Decapoda",
           "Palinuridae",
           "Palinurus elephas"
          ],
          [
           "Arthropoda",
           "Malacostraca",
           "Decapoda",
           "Palinuridae",
           "Palinurus elephas"
          ],
          [
           "Arthropoda",
           "Malacostraca",
           "Decapoda",
           "Palinuridae",
           "Palinurus elephas"
          ],
          [
           "Arthropoda",
           "Malacostraca",
           "Decapoda",
           "Palinuridae",
           "Palinurus elephas"
          ],
          [
           "Arthropoda",
           "Malacostraca",
           "Decapoda",
           "Palinuridae",
           "Palinurus elephas"
          ]
         ],
         "hovertemplate": "Common Name=common spiny lobster<br>Genus=%{x}<br>Species=%{y}<br>phylum=%{customdata[0]}<br>class=%{customdata[1]}<br>order=%{customdata[2]}<br>family=%{customdata[3]}<br>sciName=%{customdata[4]}<extra></extra>",
         "legendgroup": "common spiny lobster",
         "marker": {
          "color": "#EF553B",
          "symbol": "circle"
         },
         "mode": "markers",
         "name": "common spiny lobster",
         "showlegend": true,
         "type": "scattergl",
         "x": [
          "Palinurus",
          "Palinurus",
          "Palinurus",
          "Palinurus",
          "Palinurus",
          "Palinurus",
          "Palinurus",
          "Palinurus",
          "Palinurus",
          "Palinurus",
          "Palinurus",
          "Palinurus",
          "Palinurus",
          "Palinurus",
          "Palinurus",
          "Palinurus",
          "Palinurus",
          "Palinurus",
          "Palinurus",
          "Palinurus",
          "Palinurus",
          "Palinurus",
          "Palinurus",
          "Palinurus",
          "Palinurus",
          "Palinurus",
          "Palinurus",
          "Palinurus",
          "Palinurus",
          "Palinurus"
         ],
         "xaxis": "x",
         "y": [
          "elephas",
          "elephas",
          "elephas",
          "elephas",
          "elephas",
          "elephas",
          "elephas",
          "elephas",
          "elephas",
          "elephas",
          "elephas",
          "elephas",
          "elephas",
          "elephas",
          "elephas",
          "elephas",
          "elephas",
          "elephas",
          "elephas",
          "elephas",
          "elephas",
          "elephas",
          "elephas",
          "elephas",
          "elephas",
          "elephas",
          "elephas",
          "elephas",
          "elephas",
          "elephas"
         ],
         "yaxis": "y"
        },
        {
         "customdata": [
          [
           "Chordata",
           "Actinopterygii",
           "Acipenseriformes",
           "Acipenseridae",
           "Acipenser sturio"
          ],
          [
           "Chordata",
           "Actinopterygii",
           "Acipenseriformes",
           "Acipenseridae",
           "Acipenser sturio"
          ],
          [
           "Chordata",
           "Actinopterygii",
           "Acipenseriformes",
           "Acipenseridae",
           "Acipenser sturio"
          ],
          [
           "Chordata",
           "Actinopterygii",
           "Acipenseriformes",
           "Acipenseridae",
           "Acipenser sturio"
          ],
          [
           "Chordata",
           "Actinopterygii",
           "Acipenseriformes",
           "Acipenseridae",
           "Acipenser sturio"
          ],
          [
           "Chordata",
           "Actinopterygii",
           "Acipenseriformes",
           "Acipenseridae",
           "Acipenser sturio"
          ],
          [
           "Chordata",
           "Actinopterygii",
           "Acipenseriformes",
           "Acipenseridae",
           "Acipenser sturio"
          ],
          [
           "Chordata",
           "Actinopterygii",
           "Acipenseriformes",
           "Acipenseridae",
           "Acipenser sturio"
          ],
          [
           "Chordata",
           "Actinopterygii",
           "Acipenseriformes",
           "Acipenseridae",
           "Acipenser sturio"
          ],
          [
           "Chordata",
           "Actinopterygii",
           "Acipenseriformes",
           "Acipenseridae",
           "Acipenser sturio"
          ],
          [
           "Chordata",
           "Actinopterygii",
           "Acipenseriformes",
           "Acipenseridae",
           "Acipenser sturio"
          ],
          [
           "Chordata",
           "Actinopterygii",
           "Acipenseriformes",
           "Acipenseridae",
           "Acipenser sturio"
          ],
          [
           "Chordata",
           "Actinopterygii",
           "Acipenseriformes",
           "Acipenseridae",
           "Acipenser sturio"
          ],
          [
           "Chordata",
           "Actinopterygii",
           "Acipenseriformes",
           "Acipenseridae",
           "Acipenser sturio"
          ],
          [
           "Chordata",
           "Actinopterygii",
           "Acipenseriformes",
           "Acipenseridae",
           "Acipenser sturio"
          ],
          [
           "Chordata",
           "Actinopterygii",
           "Acipenseriformes",
           "Acipenseridae",
           "Acipenser sturio"
          ],
          [
           "Chordata",
           "Actinopterygii",
           "Acipenseriformes",
           "Acipenseridae",
           "Acipenser sturio"
          ],
          [
           "Chordata",
           "Actinopterygii",
           "Acipenseriformes",
           "Acipenseridae",
           "Acipenser sturio"
          ],
          [
           "Chordata",
           "Actinopterygii",
           "Acipenseriformes",
           "Acipenseridae",
           "Acipenser sturio"
          ],
          [
           "Chordata",
           "Actinopterygii",
           "Acipenseriformes",
           "Acipenseridae",
           "Acipenser sturio"
          ],
          [
           "Chordata",
           "Actinopterygii",
           "Acipenseriformes",
           "Acipenseridae",
           "Acipenser sturio"
          ],
          [
           "Chordata",
           "Actinopterygii",
           "Acipenseriformes",
           "Acipenseridae",
           "Acipenser sturio"
          ],
          [
           "Chordata",
           "Actinopterygii",
           "Acipenseriformes",
           "Acipenseridae",
           "Acipenser sturio"
          ],
          [
           "Chordata",
           "Actinopterygii",
           "Acipenseriformes",
           "Acipenseridae",
           "Acipenser sturio"
          ],
          [
           "Chordata",
           "Actinopterygii",
           "Acipenseriformes",
           "Acipenseridae",
           "Acipenser sturio"
          ],
          [
           "Chordata",
           "Actinopterygii",
           "Acipenseriformes",
           "Acipenseridae",
           "Acipenser sturio"
          ],
          [
           "Chordata",
           "Actinopterygii",
           "Acipenseriformes",
           "Acipenseridae",
           "Acipenser sturio"
          ],
          [
           "Chordata",
           "Actinopterygii",
           "Acipenseriformes",
           "Acipenseridae",
           "Acipenser sturio"
          ],
          [
           "Chordata",
           "Actinopterygii",
           "Acipenseriformes",
           "Acipenseridae",
           "Acipenser sturio"
          ],
          [
           "Chordata",
           "Actinopterygii",
           "Acipenseriformes",
           "Acipenseridae",
           "Acipenser sturio"
          ]
         ],
         "hovertemplate": "Common Name=Baltic sturgeon<br>Genus=%{x}<br>Species=%{y}<br>phylum=%{customdata[0]}<br>class=%{customdata[1]}<br>order=%{customdata[2]}<br>family=%{customdata[3]}<br>sciName=%{customdata[4]}<extra></extra>",
         "legendgroup": "Baltic sturgeon",
         "marker": {
          "color": "#00cc96",
          "symbol": "circle"
         },
         "mode": "markers",
         "name": "Baltic sturgeon",
         "showlegend": true,
         "type": "scattergl",
         "x": [
          "Acipenser",
          "Acipenser",
          "Acipenser",
          "Acipenser",
          "Acipenser",
          "Acipenser",
          "Acipenser",
          "Acipenser",
          "Acipenser",
          "Acipenser",
          "Acipenser",
          "Acipenser",
          "Acipenser",
          "Acipenser",
          "Acipenser",
          "Acipenser",
          "Acipenser",
          "Acipenser",
          "Acipenser",
          "Acipenser",
          "Acipenser",
          "Acipenser",
          "Acipenser",
          "Acipenser",
          "Acipenser",
          "Acipenser",
          "Acipenser",
          "Acipenser",
          "Acipenser",
          "Acipenser"
         ],
         "xaxis": "x",
         "y": [
          "sturio",
          "sturio",
          "sturio",
          "sturio",
          "sturio",
          "sturio",
          "sturio",
          "sturio",
          "sturio",
          "sturio",
          "sturio",
          "sturio",
          "sturio",
          "sturio",
          "sturio",
          "sturio",
          "sturio",
          "sturio",
          "sturio",
          "sturio",
          "sturio",
          "sturio",
          "sturio",
          "sturio",
          "sturio",
          "sturio",
          "sturio",
          "sturio",
          "sturio",
          "sturio"
         ],
         "yaxis": "y"
        },
        {
         "customdata": [
          [
           "Chordata",
           "Actinopterygii",
           "Acipenseriformes",
           "Acipenseridae",
           "Scaphirhynchus albus"
          ],
          [
           "Chordata",
           "Actinopterygii",
           "Acipenseriformes",
           "Acipenseridae",
           "Scaphirhynchus albus"
          ],
          [
           "Chordata",
           "Actinopterygii",
           "Acipenseriformes",
           "Acipenseridae",
           "Scaphirhynchus albus"
          ],
          [
           "Chordata",
           "Actinopterygii",
           "Acipenseriformes",
           "Acipenseridae",
           "Scaphirhynchus albus"
          ],
          [
           "Chordata",
           "Actinopterygii",
           "Acipenseriformes",
           "Acipenseridae",
           "Scaphirhynchus albus"
          ],
          [
           "Chordata",
           "Actinopterygii",
           "Acipenseriformes",
           "Acipenseridae",
           "Scaphirhynchus albus"
          ],
          [
           "Chordata",
           "Actinopterygii",
           "Acipenseriformes",
           "Acipenseridae",
           "Scaphirhynchus albus"
          ],
          [
           "Chordata",
           "Actinopterygii",
           "Acipenseriformes",
           "Acipenseridae",
           "Scaphirhynchus albus"
          ],
          [
           "Chordata",
           "Actinopterygii",
           "Acipenseriformes",
           "Acipenseridae",
           "Scaphirhynchus albus"
          ],
          [
           "Chordata",
           "Actinopterygii",
           "Acipenseriformes",
           "Acipenseridae",
           "Scaphirhynchus albus"
          ],
          [
           "Chordata",
           "Actinopterygii",
           "Acipenseriformes",
           "Acipenseridae",
           "Scaphirhynchus albus"
          ],
          [
           "Chordata",
           "Actinopterygii",
           "Acipenseriformes",
           "Acipenseridae",
           "Scaphirhynchus albus"
          ],
          [
           "Chordata",
           "Actinopterygii",
           "Acipenseriformes",
           "Acipenseridae",
           "Scaphirhynchus albus"
          ],
          [
           "Chordata",
           "Actinopterygii",
           "Acipenseriformes",
           "Acipenseridae",
           "Scaphirhynchus albus"
          ],
          [
           "Chordata",
           "Actinopterygii",
           "Acipenseriformes",
           "Acipenseridae",
           "Scaphirhynchus albus"
          ],
          [
           "Chordata",
           "Actinopterygii",
           "Acipenseriformes",
           "Acipenseridae",
           "Scaphirhynchus albus"
          ],
          [
           "Chordata",
           "Actinopterygii",
           "Acipenseriformes",
           "Acipenseridae",
           "Scaphirhynchus albus"
          ],
          [
           "Chordata",
           "Actinopterygii",
           "Acipenseriformes",
           "Acipenseridae",
           "Scaphirhynchus albus"
          ],
          [
           "Chordata",
           "Actinopterygii",
           "Acipenseriformes",
           "Acipenseridae",
           "Scaphirhynchus albus"
          ],
          [
           "Chordata",
           "Actinopterygii",
           "Acipenseriformes",
           "Acipenseridae",
           "Scaphirhynchus albus"
          ],
          [
           "Chordata",
           "Actinopterygii",
           "Acipenseriformes",
           "Acipenseridae",
           "Scaphirhynchus albus"
          ],
          [
           "Chordata",
           "Actinopterygii",
           "Acipenseriformes",
           "Acipenseridae",
           "Scaphirhynchus albus"
          ],
          [
           "Chordata",
           "Actinopterygii",
           "Acipenseriformes",
           "Acipenseridae",
           "Scaphirhynchus albus"
          ],
          [
           "Chordata",
           "Actinopterygii",
           "Acipenseriformes",
           "Acipenseridae",
           "Scaphirhynchus albus"
          ],
          [
           "Chordata",
           "Actinopterygii",
           "Acipenseriformes",
           "Acipenseridae",
           "Scaphirhynchus albus"
          ],
          [
           "Chordata",
           "Actinopterygii",
           "Acipenseriformes",
           "Acipenseridae",
           "Scaphirhynchus albus"
          ],
          [
           "Chordata",
           "Actinopterygii",
           "Acipenseriformes",
           "Acipenseridae",
           "Scaphirhynchus albus"
          ],
          [
           "Chordata",
           "Actinopterygii",
           "Acipenseriformes",
           "Acipenseridae",
           "Scaphirhynchus albus"
          ],
          [
           "Chordata",
           "Actinopterygii",
           "Acipenseriformes",
           "Acipenseridae",
           "Scaphirhynchus albus"
          ],
          [
           "Chordata",
           "Actinopterygii",
           "Acipenseriformes",
           "Acipenseridae",
           "Scaphirhynchus albus"
          ]
         ],
         "hovertemplate": "Common Name=pallid sturgeon<br>Genus=%{x}<br>Species=%{y}<br>phylum=%{customdata[0]}<br>class=%{customdata[1]}<br>order=%{customdata[2]}<br>family=%{customdata[3]}<br>sciName=%{customdata[4]}<extra></extra>",
         "legendgroup": "pallid sturgeon",
         "marker": {
          "color": "#ab63fa",
          "symbol": "circle"
         },
         "mode": "markers",
         "name": "pallid sturgeon",
         "showlegend": true,
         "type": "scattergl",
         "x": [
          "Scaphirhynchus",
          "Scaphirhynchus",
          "Scaphirhynchus",
          "Scaphirhynchus",
          "Scaphirhynchus",
          "Scaphirhynchus",
          "Scaphirhynchus",
          "Scaphirhynchus",
          "Scaphirhynchus",
          "Scaphirhynchus",
          "Scaphirhynchus",
          "Scaphirhynchus",
          "Scaphirhynchus",
          "Scaphirhynchus",
          "Scaphirhynchus",
          "Scaphirhynchus",
          "Scaphirhynchus",
          "Scaphirhynchus",
          "Scaphirhynchus",
          "Scaphirhynchus",
          "Scaphirhynchus",
          "Scaphirhynchus",
          "Scaphirhynchus",
          "Scaphirhynchus",
          "Scaphirhynchus",
          "Scaphirhynchus",
          "Scaphirhynchus",
          "Scaphirhynchus",
          "Scaphirhynchus",
          "Scaphirhynchus"
         ],
         "xaxis": "x",
         "y": [
          "albus",
          "albus",
          "albus",
          "albus",
          "albus",
          "albus",
          "albus",
          "albus",
          "albus",
          "albus",
          "albus",
          "albus",
          "albus",
          "albus",
          "albus",
          "albus",
          "albus",
          "albus",
          "albus",
          "albus",
          "albus",
          "albus",
          "albus",
          "albus",
          "albus",
          "albus",
          "albus",
          "albus",
          "albus",
          "albus"
         ],
         "yaxis": "y"
        },
        {
         "customdata": [
          [
           "Chordata",
           "Actinopterygii",
           "Acipenseriformes",
           "Acipenseridae",
           "Scaphirhynchus platorynchus"
          ],
          [
           "Chordata",
           "Actinopterygii",
           "Acipenseriformes",
           "Acipenseridae",
           "Scaphirhynchus platorynchus"
          ],
          [
           "Chordata",
           "Actinopterygii",
           "Acipenseriformes",
           "Acipenseridae",
           "Scaphirhynchus platorynchus"
          ],
          [
           "Chordata",
           "Actinopterygii",
           "Acipenseriformes",
           "Acipenseridae",
           "Scaphirhynchus platorynchus"
          ],
          [
           "Chordata",
           "Actinopterygii",
           "Acipenseriformes",
           "Acipenseridae",
           "Scaphirhynchus platorynchus"
          ],
          [
           "Chordata",
           "Actinopterygii",
           "Acipenseriformes",
           "Acipenseridae",
           "Scaphirhynchus platorynchus"
          ],
          [
           "Chordata",
           "Actinopterygii",
           "Acipenseriformes",
           "Acipenseridae",
           "Scaphirhynchus platorynchus"
          ],
          [
           "Chordata",
           "Actinopterygii",
           "Acipenseriformes",
           "Acipenseridae",
           "Scaphirhynchus platorynchus"
          ],
          [
           "Chordata",
           "Actinopterygii",
           "Acipenseriformes",
           "Acipenseridae",
           "Scaphirhynchus platorynchus"
          ],
          [
           "Chordata",
           "Actinopterygii",
           "Acipenseriformes",
           "Acipenseridae",
           "Scaphirhynchus platorynchus"
          ],
          [
           "Chordata",
           "Actinopterygii",
           "Acipenseriformes",
           "Acipenseridae",
           "Scaphirhynchus platorynchus"
          ],
          [
           "Chordata",
           "Actinopterygii",
           "Acipenseriformes",
           "Acipenseridae",
           "Scaphirhynchus platorynchus"
          ],
          [
           "Chordata",
           "Actinopterygii",
           "Acipenseriformes",
           "Acipenseridae",
           "Scaphirhynchus platorynchus"
          ],
          [
           "Chordata",
           "Actinopterygii",
           "Acipenseriformes",
           "Acipenseridae",
           "Scaphirhynchus platorynchus"
          ],
          [
           "Chordata",
           "Actinopterygii",
           "Acipenseriformes",
           "Acipenseridae",
           "Scaphirhynchus platorynchus"
          ],
          [
           "Chordata",
           "Actinopterygii",
           "Acipenseriformes",
           "Acipenseridae",
           "Scaphirhynchus platorynchus"
          ],
          [
           "Chordata",
           "Actinopterygii",
           "Acipenseriformes",
           "Acipenseridae",
           "Scaphirhynchus platorynchus"
          ],
          [
           "Chordata",
           "Actinopterygii",
           "Acipenseriformes",
           "Acipenseridae",
           "Scaphirhynchus platorynchus"
          ],
          [
           "Chordata",
           "Actinopterygii",
           "Acipenseriformes",
           "Acipenseridae",
           "Scaphirhynchus platorynchus"
          ],
          [
           "Chordata",
           "Actinopterygii",
           "Acipenseriformes",
           "Acipenseridae",
           "Scaphirhynchus platorynchus"
          ],
          [
           "Chordata",
           "Actinopterygii",
           "Acipenseriformes",
           "Acipenseridae",
           "Scaphirhynchus platorynchus"
          ],
          [
           "Chordata",
           "Actinopterygii",
           "Acipenseriformes",
           "Acipenseridae",
           "Scaphirhynchus platorynchus"
          ],
          [
           "Chordata",
           "Actinopterygii",
           "Acipenseriformes",
           "Acipenseridae",
           "Scaphirhynchus platorynchus"
          ],
          [
           "Chordata",
           "Actinopterygii",
           "Acipenseriformes",
           "Acipenseridae",
           "Scaphirhynchus platorynchus"
          ],
          [
           "Chordata",
           "Actinopterygii",
           "Acipenseriformes",
           "Acipenseridae",
           "Scaphirhynchus platorynchus"
          ],
          [
           "Chordata",
           "Actinopterygii",
           "Acipenseriformes",
           "Acipenseridae",
           "Scaphirhynchus platorynchus"
          ],
          [
           "Chordata",
           "Actinopterygii",
           "Acipenseriformes",
           "Acipenseridae",
           "Scaphirhynchus platorynchus"
          ],
          [
           "Chordata",
           "Actinopterygii",
           "Acipenseriformes",
           "Acipenseridae",
           "Scaphirhynchus platorynchus"
          ],
          [
           "Chordata",
           "Actinopterygii",
           "Acipenseriformes",
           "Acipenseridae",
           "Scaphirhynchus platorynchus"
          ],
          [
           "Chordata",
           "Actinopterygii",
           "Acipenseriformes",
           "Acipenseridae",
           "Scaphirhynchus platorynchus"
          ]
         ],
         "hovertemplate": "Common Name=shovelnose sturgeon<br>Genus=%{x}<br>Species=%{y}<br>phylum=%{customdata[0]}<br>class=%{customdata[1]}<br>order=%{customdata[2]}<br>family=%{customdata[3]}<br>sciName=%{customdata[4]}<extra></extra>",
         "legendgroup": "shovelnose sturgeon",
         "marker": {
          "color": "#FFA15A",
          "symbol": "circle"
         },
         "mode": "markers",
         "name": "shovelnose sturgeon",
         "showlegend": true,
         "type": "scattergl",
         "x": [
          "Scaphirhynchus",
          "Scaphirhynchus",
          "Scaphirhynchus",
          "Scaphirhynchus",
          "Scaphirhynchus",
          "Scaphirhynchus",
          "Scaphirhynchus",
          "Scaphirhynchus",
          "Scaphirhynchus",
          "Scaphirhynchus",
          "Scaphirhynchus",
          "Scaphirhynchus",
          "Scaphirhynchus",
          "Scaphirhynchus",
          "Scaphirhynchus",
          "Scaphirhynchus",
          "Scaphirhynchus",
          "Scaphirhynchus",
          "Scaphirhynchus",
          "Scaphirhynchus",
          "Scaphirhynchus",
          "Scaphirhynchus",
          "Scaphirhynchus",
          "Scaphirhynchus",
          "Scaphirhynchus",
          "Scaphirhynchus",
          "Scaphirhynchus",
          "Scaphirhynchus",
          "Scaphirhynchus",
          "Scaphirhynchus"
         ],
         "xaxis": "x",
         "y": [
          "platorynchus",
          "platorynchus",
          "platorynchus",
          "platorynchus",
          "platorynchus",
          "platorynchus",
          "platorynchus",
          "platorynchus",
          "platorynchus",
          "platorynchus",
          "platorynchus",
          "platorynchus",
          "platorynchus",
          "platorynchus",
          "platorynchus",
          "platorynchus",
          "platorynchus",
          "platorynchus",
          "platorynchus",
          "platorynchus",
          "platorynchus",
          "platorynchus",
          "platorynchus",
          "platorynchus",
          "platorynchus",
          "platorynchus",
          "platorynchus",
          "platorynchus",
          "platorynchus",
          "platorynchus"
         ],
         "yaxis": "y"
        },
        {
         "customdata": [
          [
           "Chordata",
           "Actinopterygii",
           "Albuliformes",
           "Albulidae",
           "Albula vulpes"
          ],
          [
           "Chordata",
           "Actinopterygii",
           "Albuliformes",
           "Albulidae",
           "Albula vulpes"
          ],
          [
           "Chordata",
           "Actinopterygii",
           "Albuliformes",
           "Albulidae",
           "Albula vulpes"
          ],
          [
           "Chordata",
           "Actinopterygii",
           "Albuliformes",
           "Albulidae",
           "Albula vulpes"
          ],
          [
           "Chordata",
           "Actinopterygii",
           "Albuliformes",
           "Albulidae",
           "Albula vulpes"
          ],
          [
           "Chordata",
           "Actinopterygii",
           "Albuliformes",
           "Albulidae",
           "Albula vulpes"
          ],
          [
           "Chordata",
           "Actinopterygii",
           "Albuliformes",
           "Albulidae",
           "Albula vulpes"
          ],
          [
           "Chordata",
           "Actinopterygii",
           "Albuliformes",
           "Albulidae",
           "Albula vulpes"
          ],
          [
           "Chordata",
           "Actinopterygii",
           "Albuliformes",
           "Albulidae",
           "Albula vulpes"
          ],
          [
           "Chordata",
           "Actinopterygii",
           "Albuliformes",
           "Albulidae",
           "Albula vulpes"
          ],
          [
           "Chordata",
           "Actinopterygii",
           "Albuliformes",
           "Albulidae",
           "Albula vulpes"
          ],
          [
           "Chordata",
           "Actinopterygii",
           "Albuliformes",
           "Albulidae",
           "Albula vulpes"
          ],
          [
           "Chordata",
           "Actinopterygii",
           "Albuliformes",
           "Albulidae",
           "Albula vulpes"
          ],
          [
           "Chordata",
           "Actinopterygii",
           "Albuliformes",
           "Albulidae",
           "Albula vulpes"
          ],
          [
           "Chordata",
           "Actinopterygii",
           "Albuliformes",
           "Albulidae",
           "Albula vulpes"
          ],
          [
           "Chordata",
           "Actinopterygii",
           "Albuliformes",
           "Albulidae",
           "Albula vulpes"
          ],
          [
           "Chordata",
           "Actinopterygii",
           "Albuliformes",
           "Albulidae",
           "Albula vulpes"
          ],
          [
           "Chordata",
           "Actinopterygii",
           "Albuliformes",
           "Albulidae",
           "Albula vulpes"
          ],
          [
           "Chordata",
           "Actinopterygii",
           "Albuliformes",
           "Albulidae",
           "Albula vulpes"
          ],
          [
           "Chordata",
           "Actinopterygii",
           "Albuliformes",
           "Albulidae",
           "Albula vulpes"
          ],
          [
           "Chordata",
           "Actinopterygii",
           "Albuliformes",
           "Albulidae",
           "Albula vulpes"
          ],
          [
           "Chordata",
           "Actinopterygii",
           "Albuliformes",
           "Albulidae",
           "Albula vulpes"
          ],
          [
           "Chordata",
           "Actinopterygii",
           "Albuliformes",
           "Albulidae",
           "Albula vulpes"
          ],
          [
           "Chordata",
           "Actinopterygii",
           "Albuliformes",
           "Albulidae",
           "Albula vulpes"
          ],
          [
           "Chordata",
           "Actinopterygii",
           "Albuliformes",
           "Albulidae",
           "Albula vulpes"
          ],
          [
           "Chordata",
           "Actinopterygii",
           "Albuliformes",
           "Albulidae",
           "Albula vulpes"
          ],
          [
           "Chordata",
           "Actinopterygii",
           "Albuliformes",
           "Albulidae",
           "Albula vulpes"
          ],
          [
           "Chordata",
           "Actinopterygii",
           "Albuliformes",
           "Albulidae",
           "Albula vulpes"
          ],
          [
           "Chordata",
           "Actinopterygii",
           "Albuliformes",
           "Albulidae",
           "Albula vulpes"
          ],
          [
           "Chordata",
           "Actinopterygii",
           "Albuliformes",
           "Albulidae",
           "Albula vulpes"
          ]
         ],
         "hovertemplate": "Common Name=bonefish<br>Genus=%{x}<br>Species=%{y}<br>phylum=%{customdata[0]}<br>class=%{customdata[1]}<br>order=%{customdata[2]}<br>family=%{customdata[3]}<br>sciName=%{customdata[4]}<extra></extra>",
         "legendgroup": "bonefish",
         "marker": {
          "color": "#19d3f3",
          "symbol": "circle"
         },
         "mode": "markers",
         "name": "bonefish",
         "showlegend": true,
         "type": "scattergl",
         "x": [
          "Albula",
          "Albula",
          "Albula",
          "Albula",
          "Albula",
          "Albula",
          "Albula",
          "Albula",
          "Albula",
          "Albula",
          "Albula",
          "Albula",
          "Albula",
          "Albula",
          "Albula",
          "Albula",
          "Albula",
          "Albula",
          "Albula",
          "Albula",
          "Albula",
          "Albula",
          "Albula",
          "Albula",
          "Albula",
          "Albula",
          "Albula",
          "Albula",
          "Albula",
          "Albula"
         ],
         "xaxis": "x",
         "y": [
          "vulpes",
          "vulpes",
          "vulpes",
          "vulpes",
          "vulpes",
          "vulpes",
          "vulpes",
          "vulpes",
          "vulpes",
          "vulpes",
          "vulpes",
          "vulpes",
          "vulpes",
          "vulpes",
          "vulpes",
          "vulpes",
          "vulpes",
          "vulpes",
          "vulpes",
          "vulpes",
          "vulpes",
          "vulpes",
          "vulpes",
          "vulpes",
          "vulpes",
          "vulpes",
          "vulpes",
          "vulpes",
          "vulpes",
          "vulpes"
         ],
         "yaxis": "y"
        },
        {
         "customdata": [
          [
           "Chordata",
           "Actinopterygii",
           "Chaetodontiformes",
           "Chaetodontidae",
           "Chaetodon rainfordi"
          ],
          [
           "Chordata",
           "Actinopterygii",
           "Chaetodontiformes",
           "Chaetodontidae",
           "Chaetodon rainfordi"
          ],
          [
           "Chordata",
           "Actinopterygii",
           "Chaetodontiformes",
           "Chaetodontidae",
           "Chaetodon rainfordi"
          ],
          [
           "Chordata",
           "Actinopterygii",
           "Chaetodontiformes",
           "Chaetodontidae",
           "Chaetodon rainfordi"
          ],
          [
           "Chordata",
           "Actinopterygii",
           "Chaetodontiformes",
           "Chaetodontidae",
           "Chaetodon rainfordi"
          ],
          [
           "Chordata",
           "Actinopterygii",
           "Chaetodontiformes",
           "Chaetodontidae",
           "Chaetodon rainfordi"
          ],
          [
           "Chordata",
           "Actinopterygii",
           "Chaetodontiformes",
           "Chaetodontidae",
           "Chaetodon rainfordi"
          ],
          [
           "Chordata",
           "Actinopterygii",
           "Chaetodontiformes",
           "Chaetodontidae",
           "Chaetodon rainfordi"
          ],
          [
           "Chordata",
           "Actinopterygii",
           "Chaetodontiformes",
           "Chaetodontidae",
           "Chaetodon rainfordi"
          ],
          [
           "Chordata",
           "Actinopterygii",
           "Chaetodontiformes",
           "Chaetodontidae",
           "Chaetodon rainfordi"
          ],
          [
           "Chordata",
           "Actinopterygii",
           "Chaetodontiformes",
           "Chaetodontidae",
           "Chaetodon rainfordi"
          ],
          [
           "Chordata",
           "Actinopterygii",
           "Chaetodontiformes",
           "Chaetodontidae",
           "Chaetodon rainfordi"
          ],
          [
           "Chordata",
           "Actinopterygii",
           "Chaetodontiformes",
           "Chaetodontidae",
           "Chaetodon rainfordi"
          ],
          [
           "Chordata",
           "Actinopterygii",
           "Chaetodontiformes",
           "Chaetodontidae",
           "Chaetodon rainfordi"
          ],
          [
           "Chordata",
           "Actinopterygii",
           "Chaetodontiformes",
           "Chaetodontidae",
           "Chaetodon rainfordi"
          ],
          [
           "Chordata",
           "Actinopterygii",
           "Chaetodontiformes",
           "Chaetodontidae",
           "Chaetodon rainfordi"
          ],
          [
           "Chordata",
           "Actinopterygii",
           "Chaetodontiformes",
           "Chaetodontidae",
           "Chaetodon rainfordi"
          ],
          [
           "Chordata",
           "Actinopterygii",
           "Chaetodontiformes",
           "Chaetodontidae",
           "Chaetodon rainfordi"
          ],
          [
           "Chordata",
           "Actinopterygii",
           "Chaetodontiformes",
           "Chaetodontidae",
           "Chaetodon rainfordi"
          ],
          [
           "Chordata",
           "Actinopterygii",
           "Chaetodontiformes",
           "Chaetodontidae",
           "Chaetodon rainfordi"
          ],
          [
           "Chordata",
           "Actinopterygii",
           "Chaetodontiformes",
           "Chaetodontidae",
           "Chaetodon rainfordi"
          ],
          [
           "Chordata",
           "Actinopterygii",
           "Chaetodontiformes",
           "Chaetodontidae",
           "Chaetodon rainfordi"
          ],
          [
           "Chordata",
           "Actinopterygii",
           "Chaetodontiformes",
           "Chaetodontidae",
           "Chaetodon rainfordi"
          ],
          [
           "Chordata",
           "Actinopterygii",
           "Chaetodontiformes",
           "Chaetodontidae",
           "Chaetodon rainfordi"
          ],
          [
           "Chordata",
           "Actinopterygii",
           "Chaetodontiformes",
           "Chaetodontidae",
           "Chaetodon rainfordi"
          ],
          [
           "Chordata",
           "Actinopterygii",
           "Chaetodontiformes",
           "Chaetodontidae",
           "Chaetodon rainfordi"
          ],
          [
           "Chordata",
           "Actinopterygii",
           "Chaetodontiformes",
           "Chaetodontidae",
           "Chaetodon rainfordi"
          ],
          [
           "Chordata",
           "Actinopterygii",
           "Chaetodontiformes",
           "Chaetodontidae",
           "Chaetodon rainfordi"
          ],
          [
           "Chordata",
           "Actinopterygii",
           "Chaetodontiformes",
           "Chaetodontidae",
           "Chaetodon rainfordi"
          ],
          [
           "Chordata",
           "Actinopterygii",
           "Chaetodontiformes",
           "Chaetodontidae",
           "Chaetodon rainfordi"
          ]
         ],
         "hovertemplate": "Common Name=Rainford's butterflyfish<br>Genus=%{x}<br>Species=%{y}<br>phylum=%{customdata[0]}<br>class=%{customdata[1]}<br>order=%{customdata[2]}<br>family=%{customdata[3]}<br>sciName=%{customdata[4]}<extra></extra>",
         "legendgroup": "Rainford's butterflyfish",
         "marker": {
          "color": "#FF6692",
          "symbol": "circle"
         },
         "mode": "markers",
         "name": "Rainford's butterflyfish",
         "showlegend": true,
         "type": "scattergl",
         "x": [
          "Chaetodon",
          "Chaetodon",
          "Chaetodon",
          "Chaetodon",
          "Chaetodon",
          "Chaetodon",
          "Chaetodon",
          "Chaetodon",
          "Chaetodon",
          "Chaetodon",
          "Chaetodon",
          "Chaetodon",
          "Chaetodon",
          "Chaetodon",
          "Chaetodon",
          "Chaetodon",
          "Chaetodon",
          "Chaetodon",
          "Chaetodon",
          "Chaetodon",
          "Chaetodon",
          "Chaetodon",
          "Chaetodon",
          "Chaetodon",
          "Chaetodon",
          "Chaetodon",
          "Chaetodon",
          "Chaetodon",
          "Chaetodon",
          "Chaetodon"
         ],
         "xaxis": "x",
         "y": [
          "rainfordi",
          "rainfordi",
          "rainfordi",
          "rainfordi",
          "rainfordi",
          "rainfordi",
          "rainfordi",
          "rainfordi",
          "rainfordi",
          "rainfordi",
          "rainfordi",
          "rainfordi",
          "rainfordi",
          "rainfordi",
          "rainfordi",
          "rainfordi",
          "rainfordi",
          "rainfordi",
          "rainfordi",
          "rainfordi",
          "rainfordi",
          "rainfordi",
          "rainfordi",
          "rainfordi",
          "rainfordi",
          "rainfordi",
          "rainfordi",
          "rainfordi",
          "rainfordi",
          "rainfordi"
         ],
         "yaxis": "y"
        },
        {
         "customdata": [
          [
           "Chordata",
           "Actinopterygii",
           "Chaetodontiformes",
           "Chaetodontidae",
           "Chaetodon trifascialis"
          ],
          [
           "Chordata",
           "Actinopterygii",
           "Chaetodontiformes",
           "Chaetodontidae",
           "Chaetodon trifascialis"
          ],
          [
           "Chordata",
           "Actinopterygii",
           "Chaetodontiformes",
           "Chaetodontidae",
           "Chaetodon trifascialis"
          ],
          [
           "Chordata",
           "Actinopterygii",
           "Chaetodontiformes",
           "Chaetodontidae",
           "Chaetodon trifascialis"
          ],
          [
           "Chordata",
           "Actinopterygii",
           "Chaetodontiformes",
           "Chaetodontidae",
           "Chaetodon trifascialis"
          ],
          [
           "Chordata",
           "Actinopterygii",
           "Chaetodontiformes",
           "Chaetodontidae",
           "Chaetodon trifascialis"
          ],
          [
           "Chordata",
           "Actinopterygii",
           "Chaetodontiformes",
           "Chaetodontidae",
           "Chaetodon trifascialis"
          ],
          [
           "Chordata",
           "Actinopterygii",
           "Chaetodontiformes",
           "Chaetodontidae",
           "Chaetodon trifascialis"
          ],
          [
           "Chordata",
           "Actinopterygii",
           "Chaetodontiformes",
           "Chaetodontidae",
           "Chaetodon trifascialis"
          ],
          [
           "Chordata",
           "Actinopterygii",
           "Chaetodontiformes",
           "Chaetodontidae",
           "Chaetodon trifascialis"
          ],
          [
           "Chordata",
           "Actinopterygii",
           "Chaetodontiformes",
           "Chaetodontidae",
           "Chaetodon trifascialis"
          ],
          [
           "Chordata",
           "Actinopterygii",
           "Chaetodontiformes",
           "Chaetodontidae",
           "Chaetodon trifascialis"
          ],
          [
           "Chordata",
           "Actinopterygii",
           "Chaetodontiformes",
           "Chaetodontidae",
           "Chaetodon trifascialis"
          ],
          [
           "Chordata",
           "Actinopterygii",
           "Chaetodontiformes",
           "Chaetodontidae",
           "Chaetodon trifascialis"
          ],
          [
           "Chordata",
           "Actinopterygii",
           "Chaetodontiformes",
           "Chaetodontidae",
           "Chaetodon trifascialis"
          ],
          [
           "Chordata",
           "Actinopterygii",
           "Chaetodontiformes",
           "Chaetodontidae",
           "Chaetodon trifascialis"
          ],
          [
           "Chordata",
           "Actinopterygii",
           "Chaetodontiformes",
           "Chaetodontidae",
           "Chaetodon trifascialis"
          ],
          [
           "Chordata",
           "Actinopterygii",
           "Chaetodontiformes",
           "Chaetodontidae",
           "Chaetodon trifascialis"
          ],
          [
           "Chordata",
           "Actinopterygii",
           "Chaetodontiformes",
           "Chaetodontidae",
           "Chaetodon trifascialis"
          ],
          [
           "Chordata",
           "Actinopterygii",
           "Chaetodontiformes",
           "Chaetodontidae",
           "Chaetodon trifascialis"
          ],
          [
           "Chordata",
           "Actinopterygii",
           "Chaetodontiformes",
           "Chaetodontidae",
           "Chaetodon trifascialis"
          ],
          [
           "Chordata",
           "Actinopterygii",
           "Chaetodontiformes",
           "Chaetodontidae",
           "Chaetodon trifascialis"
          ],
          [
           "Chordata",
           "Actinopterygii",
           "Chaetodontiformes",
           "Chaetodontidae",
           "Chaetodon trifascialis"
          ],
          [
           "Chordata",
           "Actinopterygii",
           "Chaetodontiformes",
           "Chaetodontidae",
           "Chaetodon trifascialis"
          ],
          [
           "Chordata",
           "Actinopterygii",
           "Chaetodontiformes",
           "Chaetodontidae",
           "Chaetodon trifascialis"
          ],
          [
           "Chordata",
           "Actinopterygii",
           "Chaetodontiformes",
           "Chaetodontidae",
           "Chaetodon trifascialis"
          ],
          [
           "Chordata",
           "Actinopterygii",
           "Chaetodontiformes",
           "Chaetodontidae",
           "Chaetodon trifascialis"
          ],
          [
           "Chordata",
           "Actinopterygii",
           "Chaetodontiformes",
           "Chaetodontidae",
           "Chaetodon trifascialis"
          ],
          [
           "Chordata",
           "Actinopterygii",
           "Chaetodontiformes",
           "Chaetodontidae",
           "Chaetodon trifascialis"
          ],
          [
           "Chordata",
           "Actinopterygii",
           "Chaetodontiformes",
           "Chaetodontidae",
           "Chaetodon trifascialis"
          ]
         ],
         "hovertemplate": "Common Name=rightangled butterflyfish<br>Genus=%{x}<br>Species=%{y}<br>phylum=%{customdata[0]}<br>class=%{customdata[1]}<br>order=%{customdata[2]}<br>family=%{customdata[3]}<br>sciName=%{customdata[4]}<extra></extra>",
         "legendgroup": "rightangled butterflyfish",
         "marker": {
          "color": "#B6E880",
          "symbol": "circle"
         },
         "mode": "markers",
         "name": "rightangled butterflyfish",
         "showlegend": true,
         "type": "scattergl",
         "x": [
          "Chaetodon",
          "Chaetodon",
          "Chaetodon",
          "Chaetodon",
          "Chaetodon",
          "Chaetodon",
          "Chaetodon",
          "Chaetodon",
          "Chaetodon",
          "Chaetodon",
          "Chaetodon",
          "Chaetodon",
          "Chaetodon",
          "Chaetodon",
          "Chaetodon",
          "Chaetodon",
          "Chaetodon",
          "Chaetodon",
          "Chaetodon",
          "Chaetodon",
          "Chaetodon",
          "Chaetodon",
          "Chaetodon",
          "Chaetodon",
          "Chaetodon",
          "Chaetodon",
          "Chaetodon",
          "Chaetodon",
          "Chaetodon",
          "Chaetodon"
         ],
         "xaxis": "x",
         "y": [
          "trifascialis",
          "trifascialis",
          "trifascialis",
          "trifascialis",
          "trifascialis",
          "trifascialis",
          "trifascialis",
          "trifascialis",
          "trifascialis",
          "trifascialis",
          "trifascialis",
          "trifascialis",
          "trifascialis",
          "trifascialis",
          "trifascialis",
          "trifascialis",
          "trifascialis",
          "trifascialis",
          "trifascialis",
          "trifascialis",
          "trifascialis",
          "trifascialis",
          "trifascialis",
          "trifascialis",
          "trifascialis",
          "trifascialis",
          "trifascialis",
          "trifascialis",
          "trifascialis",
          "trifascialis"
         ],
         "yaxis": "y"
        },
        {
         "customdata": [
          [
           "Chordata",
           "Actinopterygii",
           "Cyprinodontiformes",
           "Cyprinodontidae",
           "Cyprinodon macularius"
          ],
          [
           "Chordata",
           "Actinopterygii",
           "Cyprinodontiformes",
           "Cyprinodontidae",
           "Cyprinodon macularius"
          ],
          [
           "Chordata",
           "Actinopterygii",
           "Cyprinodontiformes",
           "Cyprinodontidae",
           "Cyprinodon macularius"
          ],
          [
           "Chordata",
           "Actinopterygii",
           "Cyprinodontiformes",
           "Cyprinodontidae",
           "Cyprinodon macularius"
          ],
          [
           "Chordata",
           "Actinopterygii",
           "Cyprinodontiformes",
           "Cyprinodontidae",
           "Cyprinodon macularius"
          ],
          [
           "Chordata",
           "Actinopterygii",
           "Cyprinodontiformes",
           "Cyprinodontidae",
           "Cyprinodon macularius"
          ],
          [
           "Chordata",
           "Actinopterygii",
           "Cyprinodontiformes",
           "Cyprinodontidae",
           "Cyprinodon macularius"
          ],
          [
           "Chordata",
           "Actinopterygii",
           "Cyprinodontiformes",
           "Cyprinodontidae",
           "Cyprinodon macularius"
          ],
          [
           "Chordata",
           "Actinopterygii",
           "Cyprinodontiformes",
           "Cyprinodontidae",
           "Cyprinodon macularius"
          ],
          [
           "Chordata",
           "Actinopterygii",
           "Cyprinodontiformes",
           "Cyprinodontidae",
           "Cyprinodon macularius"
          ],
          [
           "Chordata",
           "Actinopterygii",
           "Cyprinodontiformes",
           "Cyprinodontidae",
           "Cyprinodon macularius"
          ],
          [
           "Chordata",
           "Actinopterygii",
           "Cyprinodontiformes",
           "Cyprinodontidae",
           "Cyprinodon macularius"
          ],
          [
           "Chordata",
           "Actinopterygii",
           "Cyprinodontiformes",
           "Cyprinodontidae",
           "Cyprinodon macularius"
          ],
          [
           "Chordata",
           "Actinopterygii",
           "Cyprinodontiformes",
           "Cyprinodontidae",
           "Cyprinodon macularius"
          ],
          [
           "Chordata",
           "Actinopterygii",
           "Cyprinodontiformes",
           "Cyprinodontidae",
           "Cyprinodon macularius"
          ],
          [
           "Chordata",
           "Actinopterygii",
           "Cyprinodontiformes",
           "Cyprinodontidae",
           "Cyprinodon macularius"
          ],
          [
           "Chordata",
           "Actinopterygii",
           "Cyprinodontiformes",
           "Cyprinodontidae",
           "Cyprinodon macularius"
          ],
          [
           "Chordata",
           "Actinopterygii",
           "Cyprinodontiformes",
           "Cyprinodontidae",
           "Cyprinodon macularius"
          ],
          [
           "Chordata",
           "Actinopterygii",
           "Cyprinodontiformes",
           "Cyprinodontidae",
           "Cyprinodon macularius"
          ],
          [
           "Chordata",
           "Actinopterygii",
           "Cyprinodontiformes",
           "Cyprinodontidae",
           "Cyprinodon macularius"
          ],
          [
           "Chordata",
           "Actinopterygii",
           "Cyprinodontiformes",
           "Cyprinodontidae",
           "Cyprinodon macularius"
          ],
          [
           "Chordata",
           "Actinopterygii",
           "Cyprinodontiformes",
           "Cyprinodontidae",
           "Cyprinodon macularius"
          ],
          [
           "Chordata",
           "Actinopterygii",
           "Cyprinodontiformes",
           "Cyprinodontidae",
           "Cyprinodon macularius"
          ],
          [
           "Chordata",
           "Actinopterygii",
           "Cyprinodontiformes",
           "Cyprinodontidae",
           "Cyprinodon macularius"
          ],
          [
           "Chordata",
           "Actinopterygii",
           "Cyprinodontiformes",
           "Cyprinodontidae",
           "Cyprinodon macularius"
          ],
          [
           "Chordata",
           "Actinopterygii",
           "Cyprinodontiformes",
           "Cyprinodontidae",
           "Cyprinodon macularius"
          ],
          [
           "Chordata",
           "Actinopterygii",
           "Cyprinodontiformes",
           "Cyprinodontidae",
           "Cyprinodon macularius"
          ],
          [
           "Chordata",
           "Actinopterygii",
           "Cyprinodontiformes",
           "Cyprinodontidae",
           "Cyprinodon macularius"
          ],
          [
           "Chordata",
           "Actinopterygii",
           "Cyprinodontiformes",
           "Cyprinodontidae",
           "Cyprinodon macularius"
          ],
          [
           "Chordata",
           "Actinopterygii",
           "Cyprinodontiformes",
           "Cyprinodontidae",
           "Cyprinodon macularius"
          ]
         ],
         "hovertemplate": "Common Name=desert pupfish<br>Genus=%{x}<br>Species=%{y}<br>phylum=%{customdata[0]}<br>class=%{customdata[1]}<br>order=%{customdata[2]}<br>family=%{customdata[3]}<br>sciName=%{customdata[4]}<extra></extra>",
         "legendgroup": "desert pupfish",
         "marker": {
          "color": "#FF97FF",
          "symbol": "circle"
         },
         "mode": "markers",
         "name": "desert pupfish",
         "showlegend": true,
         "type": "scattergl",
         "x": [
          "Cyprinodon",
          "Cyprinodon",
          "Cyprinodon",
          "Cyprinodon",
          "Cyprinodon",
          "Cyprinodon",
          "Cyprinodon",
          "Cyprinodon",
          "Cyprinodon",
          "Cyprinodon",
          "Cyprinodon",
          "Cyprinodon",
          "Cyprinodon",
          "Cyprinodon",
          "Cyprinodon",
          "Cyprinodon",
          "Cyprinodon",
          "Cyprinodon",
          "Cyprinodon",
          "Cyprinodon",
          "Cyprinodon",
          "Cyprinodon",
          "Cyprinodon",
          "Cyprinodon",
          "Cyprinodon",
          "Cyprinodon",
          "Cyprinodon",
          "Cyprinodon",
          "Cyprinodon",
          "Cyprinodon"
         ],
         "xaxis": "x",
         "y": [
          "macularius",
          "macularius",
          "macularius",
          "macularius",
          "macularius",
          "macularius",
          "macularius",
          "macularius",
          "macularius",
          "macularius",
          "macularius",
          "macularius",
          "macularius",
          "macularius",
          "macularius",
          "macularius",
          "macularius",
          "macularius",
          "macularius",
          "macularius",
          "macularius",
          "macularius",
          "macularius",
          "macularius",
          "macularius",
          "macularius",
          "macularius",
          "macularius",
          "macularius",
          "macularius"
         ],
         "yaxis": "y"
        },
        {
         "customdata": [
          [
           "Chordata",
           "Actinopterygii",
           "Cyprinodontiformes",
           "Goodeidae",
           "Zoogoneticus tequila"
          ],
          [
           "Chordata",
           "Actinopterygii",
           "Cyprinodontiformes",
           "Goodeidae",
           "Zoogoneticus tequila"
          ],
          [
           "Chordata",
           "Actinopterygii",
           "Cyprinodontiformes",
           "Goodeidae",
           "Zoogoneticus tequila"
          ],
          [
           "Chordata",
           "Actinopterygii",
           "Cyprinodontiformes",
           "Goodeidae",
           "Zoogoneticus tequila"
          ],
          [
           "Chordata",
           "Actinopterygii",
           "Cyprinodontiformes",
           "Goodeidae",
           "Zoogoneticus tequila"
          ],
          [
           "Chordata",
           "Actinopterygii",
           "Cyprinodontiformes",
           "Goodeidae",
           "Zoogoneticus tequila"
          ],
          [
           "Chordata",
           "Actinopterygii",
           "Cyprinodontiformes",
           "Goodeidae",
           "Zoogoneticus tequila"
          ],
          [
           "Chordata",
           "Actinopterygii",
           "Cyprinodontiformes",
           "Goodeidae",
           "Zoogoneticus tequila"
          ],
          [
           "Chordata",
           "Actinopterygii",
           "Cyprinodontiformes",
           "Goodeidae",
           "Zoogoneticus tequila"
          ],
          [
           "Chordata",
           "Actinopterygii",
           "Cyprinodontiformes",
           "Goodeidae",
           "Zoogoneticus tequila"
          ],
          [
           "Chordata",
           "Actinopterygii",
           "Cyprinodontiformes",
           "Goodeidae",
           "Zoogoneticus tequila"
          ],
          [
           "Chordata",
           "Actinopterygii",
           "Cyprinodontiformes",
           "Goodeidae",
           "Zoogoneticus tequila"
          ],
          [
           "Chordata",
           "Actinopterygii",
           "Cyprinodontiformes",
           "Goodeidae",
           "Zoogoneticus tequila"
          ],
          [
           "Chordata",
           "Actinopterygii",
           "Cyprinodontiformes",
           "Goodeidae",
           "Zoogoneticus tequila"
          ],
          [
           "Chordata",
           "Actinopterygii",
           "Cyprinodontiformes",
           "Goodeidae",
           "Zoogoneticus tequila"
          ],
          [
           "Chordata",
           "Actinopterygii",
           "Cyprinodontiformes",
           "Goodeidae",
           "Zoogoneticus tequila"
          ],
          [
           "Chordata",
           "Actinopterygii",
           "Cyprinodontiformes",
           "Goodeidae",
           "Zoogoneticus tequila"
          ],
          [
           "Chordata",
           "Actinopterygii",
           "Cyprinodontiformes",
           "Goodeidae",
           "Zoogoneticus tequila"
          ],
          [
           "Chordata",
           "Actinopterygii",
           "Cyprinodontiformes",
           "Goodeidae",
           "Zoogoneticus tequila"
          ],
          [
           "Chordata",
           "Actinopterygii",
           "Cyprinodontiformes",
           "Goodeidae",
           "Zoogoneticus tequila"
          ],
          [
           "Chordata",
           "Actinopterygii",
           "Cyprinodontiformes",
           "Goodeidae",
           "Zoogoneticus tequila"
          ],
          [
           "Chordata",
           "Actinopterygii",
           "Cyprinodontiformes",
           "Goodeidae",
           "Zoogoneticus tequila"
          ],
          [
           "Chordata",
           "Actinopterygii",
           "Cyprinodontiformes",
           "Goodeidae",
           "Zoogoneticus tequila"
          ],
          [
           "Chordata",
           "Actinopterygii",
           "Cyprinodontiformes",
           "Goodeidae",
           "Zoogoneticus tequila"
          ],
          [
           "Chordata",
           "Actinopterygii",
           "Cyprinodontiformes",
           "Goodeidae",
           "Zoogoneticus tequila"
          ],
          [
           "Chordata",
           "Actinopterygii",
           "Cyprinodontiformes",
           "Goodeidae",
           "Zoogoneticus tequila"
          ],
          [
           "Chordata",
           "Actinopterygii",
           "Cyprinodontiformes",
           "Goodeidae",
           "Zoogoneticus tequila"
          ],
          [
           "Chordata",
           "Actinopterygii",
           "Cyprinodontiformes",
           "Goodeidae",
           "Zoogoneticus tequila"
          ],
          [
           "Chordata",
           "Actinopterygii",
           "Cyprinodontiformes",
           "Goodeidae",
           "Zoogoneticus tequila"
          ],
          [
           "Chordata",
           "Actinopterygii",
           "Cyprinodontiformes",
           "Goodeidae",
           "Zoogoneticus tequila"
          ]
         ],
         "hovertemplate": "Common Name=Tequila splitfin<br>Genus=%{x}<br>Species=%{y}<br>phylum=%{customdata[0]}<br>class=%{customdata[1]}<br>order=%{customdata[2]}<br>family=%{customdata[3]}<br>sciName=%{customdata[4]}<extra></extra>",
         "legendgroup": "Tequila splitfin",
         "marker": {
          "color": "#FECB52",
          "symbol": "circle"
         },
         "mode": "markers",
         "name": "Tequila splitfin",
         "showlegend": true,
         "type": "scattergl",
         "x": [
          "Zoogoneticus",
          "Zoogoneticus",
          "Zoogoneticus",
          "Zoogoneticus",
          "Zoogoneticus",
          "Zoogoneticus",
          "Zoogoneticus",
          "Zoogoneticus",
          "Zoogoneticus",
          "Zoogoneticus",
          "Zoogoneticus",
          "Zoogoneticus",
          "Zoogoneticus",
          "Zoogoneticus",
          "Zoogoneticus",
          "Zoogoneticus",
          "Zoogoneticus",
          "Zoogoneticus",
          "Zoogoneticus",
          "Zoogoneticus",
          "Zoogoneticus",
          "Zoogoneticus",
          "Zoogoneticus",
          "Zoogoneticus",
          "Zoogoneticus",
          "Zoogoneticus",
          "Zoogoneticus",
          "Zoogoneticus",
          "Zoogoneticus",
          "Zoogoneticus"
         ],
         "xaxis": "x",
         "y": [
          "tequila",
          "tequila",
          "tequila",
          "tequila",
          "tequila",
          "tequila",
          "tequila",
          "tequila",
          "tequila",
          "tequila",
          "tequila",
          "tequila",
          "tequila",
          "tequila",
          "tequila",
          "tequila",
          "tequila",
          "tequila",
          "tequila",
          "tequila",
          "tequila",
          "tequila",
          "tequila",
          "tequila",
          "tequila",
          "tequila",
          "tequila",
          "tequila",
          "tequila",
          "tequila"
         ],
         "yaxis": "y"
        },
        {
         "customdata": [
          [
           "Chordata",
           "Actinopterygii",
           "Gadiformes",
           "Merlucciidae",
           "Merluccius bilinearis"
          ],
          [
           "Chordata",
           "Actinopterygii",
           "Gadiformes",
           "Merlucciidae",
           "Merluccius bilinearis"
          ],
          [
           "Chordata",
           "Actinopterygii",
           "Gadiformes",
           "Merlucciidae",
           "Merluccius bilinearis"
          ],
          [
           "Chordata",
           "Actinopterygii",
           "Gadiformes",
           "Merlucciidae",
           "Merluccius bilinearis"
          ],
          [
           "Chordata",
           "Actinopterygii",
           "Gadiformes",
           "Merlucciidae",
           "Merluccius bilinearis"
          ],
          [
           "Chordata",
           "Actinopterygii",
           "Gadiformes",
           "Merlucciidae",
           "Merluccius bilinearis"
          ],
          [
           "Chordata",
           "Actinopterygii",
           "Gadiformes",
           "Merlucciidae",
           "Merluccius bilinearis"
          ],
          [
           "Chordata",
           "Actinopterygii",
           "Gadiformes",
           "Merlucciidae",
           "Merluccius bilinearis"
          ],
          [
           "Chordata",
           "Actinopterygii",
           "Gadiformes",
           "Merlucciidae",
           "Merluccius bilinearis"
          ],
          [
           "Chordata",
           "Actinopterygii",
           "Gadiformes",
           "Merlucciidae",
           "Merluccius bilinearis"
          ],
          [
           "Chordata",
           "Actinopterygii",
           "Gadiformes",
           "Merlucciidae",
           "Merluccius bilinearis"
          ],
          [
           "Chordata",
           "Actinopterygii",
           "Gadiformes",
           "Merlucciidae",
           "Merluccius bilinearis"
          ],
          [
           "Chordata",
           "Actinopterygii",
           "Gadiformes",
           "Merlucciidae",
           "Merluccius bilinearis"
          ],
          [
           "Chordata",
           "Actinopterygii",
           "Gadiformes",
           "Merlucciidae",
           "Merluccius bilinearis"
          ],
          [
           "Chordata",
           "Actinopterygii",
           "Gadiformes",
           "Merlucciidae",
           "Merluccius bilinearis"
          ],
          [
           "Chordata",
           "Actinopterygii",
           "Gadiformes",
           "Merlucciidae",
           "Merluccius bilinearis"
          ],
          [
           "Chordata",
           "Actinopterygii",
           "Gadiformes",
           "Merlucciidae",
           "Merluccius bilinearis"
          ],
          [
           "Chordata",
           "Actinopterygii",
           "Gadiformes",
           "Merlucciidae",
           "Merluccius bilinearis"
          ],
          [
           "Chordata",
           "Actinopterygii",
           "Gadiformes",
           "Merlucciidae",
           "Merluccius bilinearis"
          ],
          [
           "Chordata",
           "Actinopterygii",
           "Gadiformes",
           "Merlucciidae",
           "Merluccius bilinearis"
          ],
          [
           "Chordata",
           "Actinopterygii",
           "Gadiformes",
           "Merlucciidae",
           "Merluccius bilinearis"
          ],
          [
           "Chordata",
           "Actinopterygii",
           "Gadiformes",
           "Merlucciidae",
           "Merluccius bilinearis"
          ],
          [
           "Chordata",
           "Actinopterygii",
           "Gadiformes",
           "Merlucciidae",
           "Merluccius bilinearis"
          ],
          [
           "Chordata",
           "Actinopterygii",
           "Gadiformes",
           "Merlucciidae",
           "Merluccius bilinearis"
          ],
          [
           "Chordata",
           "Actinopterygii",
           "Gadiformes",
           "Merlucciidae",
           "Merluccius bilinearis"
          ],
          [
           "Chordata",
           "Actinopterygii",
           "Gadiformes",
           "Merlucciidae",
           "Merluccius bilinearis"
          ],
          [
           "Chordata",
           "Actinopterygii",
           "Gadiformes",
           "Merlucciidae",
           "Merluccius bilinearis"
          ],
          [
           "Chordata",
           "Actinopterygii",
           "Gadiformes",
           "Merlucciidae",
           "Merluccius bilinearis"
          ],
          [
           "Chordata",
           "Actinopterygii",
           "Gadiformes",
           "Merlucciidae",
           "Merluccius bilinearis"
          ],
          [
           "Chordata",
           "Actinopterygii",
           "Gadiformes",
           "Merlucciidae",
           "Merluccius bilinearis"
          ]
         ],
         "hovertemplate": "Common Name=silver hake<br>Genus=%{x}<br>Species=%{y}<br>phylum=%{customdata[0]}<br>class=%{customdata[1]}<br>order=%{customdata[2]}<br>family=%{customdata[3]}<br>sciName=%{customdata[4]}<extra></extra>",
         "legendgroup": "silver hake",
         "marker": {
          "color": "#636efa",
          "symbol": "circle"
         },
         "mode": "markers",
         "name": "silver hake",
         "showlegend": true,
         "type": "scattergl",
         "x": [
          "Merluccius",
          "Merluccius",
          "Merluccius",
          "Merluccius",
          "Merluccius",
          "Merluccius",
          "Merluccius",
          "Merluccius",
          "Merluccius",
          "Merluccius",
          "Merluccius",
          "Merluccius",
          "Merluccius",
          "Merluccius",
          "Merluccius",
          "Merluccius",
          "Merluccius",
          "Merluccius",
          "Merluccius",
          "Merluccius",
          "Merluccius",
          "Merluccius",
          "Merluccius",
          "Merluccius",
          "Merluccius",
          "Merluccius",
          "Merluccius",
          "Merluccius",
          "Merluccius",
          "Merluccius"
         ],
         "xaxis": "x",
         "y": [
          "bilinearis",
          "bilinearis",
          "bilinearis",
          "bilinearis",
          "bilinearis",
          "bilinearis",
          "bilinearis",
          "bilinearis",
          "bilinearis",
          "bilinearis",
          "bilinearis",
          "bilinearis",
          "bilinearis",
          "bilinearis",
          "bilinearis",
          "bilinearis",
          "bilinearis",
          "bilinearis",
          "bilinearis",
          "bilinearis",
          "bilinearis",
          "bilinearis",
          "bilinearis",
          "bilinearis",
          "bilinearis",
          "bilinearis",
          "bilinearis",
          "bilinearis",
          "bilinearis",
          "bilinearis"
         ],
         "yaxis": "y"
        },
        {
         "customdata": [
          [
           "Chordata",
           "Actinopterygii",
           "Labriformes",
           "Labridae",
           "Choerodon schoenleinii"
          ],
          [
           "Chordata",
           "Actinopterygii",
           "Labriformes",
           "Labridae",
           "Choerodon schoenleinii"
          ],
          [
           "Chordata",
           "Actinopterygii",
           "Labriformes",
           "Labridae",
           "Choerodon schoenleinii"
          ],
          [
           "Chordata",
           "Actinopterygii",
           "Labriformes",
           "Labridae",
           "Choerodon schoenleinii"
          ],
          [
           "Chordata",
           "Actinopterygii",
           "Labriformes",
           "Labridae",
           "Choerodon schoenleinii"
          ],
          [
           "Chordata",
           "Actinopterygii",
           "Labriformes",
           "Labridae",
           "Choerodon schoenleinii"
          ],
          [
           "Chordata",
           "Actinopterygii",
           "Labriformes",
           "Labridae",
           "Choerodon schoenleinii"
          ],
          [
           "Chordata",
           "Actinopterygii",
           "Labriformes",
           "Labridae",
           "Choerodon schoenleinii"
          ],
          [
           "Chordata",
           "Actinopterygii",
           "Labriformes",
           "Labridae",
           "Choerodon schoenleinii"
          ],
          [
           "Chordata",
           "Actinopterygii",
           "Labriformes",
           "Labridae",
           "Choerodon schoenleinii"
          ],
          [
           "Chordata",
           "Actinopterygii",
           "Labriformes",
           "Labridae",
           "Choerodon schoenleinii"
          ],
          [
           "Chordata",
           "Actinopterygii",
           "Labriformes",
           "Labridae",
           "Choerodon schoenleinii"
          ],
          [
           "Chordata",
           "Actinopterygii",
           "Labriformes",
           "Labridae",
           "Choerodon schoenleinii"
          ],
          [
           "Chordata",
           "Actinopterygii",
           "Labriformes",
           "Labridae",
           "Choerodon schoenleinii"
          ],
          [
           "Chordata",
           "Actinopterygii",
           "Labriformes",
           "Labridae",
           "Choerodon schoenleinii"
          ],
          [
           "Chordata",
           "Actinopterygii",
           "Labriformes",
           "Labridae",
           "Choerodon schoenleinii"
          ],
          [
           "Chordata",
           "Actinopterygii",
           "Labriformes",
           "Labridae",
           "Choerodon schoenleinii"
          ],
          [
           "Chordata",
           "Actinopterygii",
           "Labriformes",
           "Labridae",
           "Choerodon schoenleinii"
          ],
          [
           "Chordata",
           "Actinopterygii",
           "Labriformes",
           "Labridae",
           "Choerodon schoenleinii"
          ],
          [
           "Chordata",
           "Actinopterygii",
           "Labriformes",
           "Labridae",
           "Choerodon schoenleinii"
          ],
          [
           "Chordata",
           "Actinopterygii",
           "Labriformes",
           "Labridae",
           "Choerodon schoenleinii"
          ],
          [
           "Chordata",
           "Actinopterygii",
           "Labriformes",
           "Labridae",
           "Choerodon schoenleinii"
          ],
          [
           "Chordata",
           "Actinopterygii",
           "Labriformes",
           "Labridae",
           "Choerodon schoenleinii"
          ],
          [
           "Chordata",
           "Actinopterygii",
           "Labriformes",
           "Labridae",
           "Choerodon schoenleinii"
          ],
          [
           "Chordata",
           "Actinopterygii",
           "Labriformes",
           "Labridae",
           "Choerodon schoenleinii"
          ],
          [
           "Chordata",
           "Actinopterygii",
           "Labriformes",
           "Labridae",
           "Choerodon schoenleinii"
          ],
          [
           "Chordata",
           "Actinopterygii",
           "Labriformes",
           "Labridae",
           "Choerodon schoenleinii"
          ],
          [
           "Chordata",
           "Actinopterygii",
           "Labriformes",
           "Labridae",
           "Choerodon schoenleinii"
          ],
          [
           "Chordata",
           "Actinopterygii",
           "Labriformes",
           "Labridae",
           "Choerodon schoenleinii"
          ],
          [
           "Chordata",
           "Actinopterygii",
           "Labriformes",
           "Labridae",
           "Choerodon schoenleinii"
          ]
         ],
         "hovertemplate": "Common Name=blackspot tuskfish<br>Genus=%{x}<br>Species=%{y}<br>phylum=%{customdata[0]}<br>class=%{customdata[1]}<br>order=%{customdata[2]}<br>family=%{customdata[3]}<br>sciName=%{customdata[4]}<extra></extra>",
         "legendgroup": "blackspot tuskfish",
         "marker": {
          "color": "#EF553B",
          "symbol": "circle"
         },
         "mode": "markers",
         "name": "blackspot tuskfish",
         "showlegend": true,
         "type": "scattergl",
         "x": [
          "Choerodon",
          "Choerodon",
          "Choerodon",
          "Choerodon",
          "Choerodon",
          "Choerodon",
          "Choerodon",
          "Choerodon",
          "Choerodon",
          "Choerodon",
          "Choerodon",
          "Choerodon",
          "Choerodon",
          "Choerodon",
          "Choerodon",
          "Choerodon",
          "Choerodon",
          "Choerodon",
          "Choerodon",
          "Choerodon",
          "Choerodon",
          "Choerodon",
          "Choerodon",
          "Choerodon",
          "Choerodon",
          "Choerodon",
          "Choerodon",
          "Choerodon",
          "Choerodon",
          "Choerodon"
         ],
         "xaxis": "x",
         "y": [
          "schoenleinii",
          "schoenleinii",
          "schoenleinii",
          "schoenleinii",
          "schoenleinii",
          "schoenleinii",
          "schoenleinii",
          "schoenleinii",
          "schoenleinii",
          "schoenleinii",
          "schoenleinii",
          "schoenleinii",
          "schoenleinii",
          "schoenleinii",
          "schoenleinii",
          "schoenleinii",
          "schoenleinii",
          "schoenleinii",
          "schoenleinii",
          "schoenleinii",
          "schoenleinii",
          "schoenleinii",
          "schoenleinii",
          "schoenleinii",
          "schoenleinii",
          "schoenleinii",
          "schoenleinii",
          "schoenleinii",
          "schoenleinii",
          "schoenleinii"
         ],
         "yaxis": "y"
        },
        {
         "customdata": [
          [
           "Chordata",
           "Actinopterygii",
           "Labriformes",
           "Labridae",
           "Lachnolaimus maximus"
          ],
          [
           "Chordata",
           "Actinopterygii",
           "Labriformes",
           "Labridae",
           "Lachnolaimus maximus"
          ],
          [
           "Chordata",
           "Actinopterygii",
           "Labriformes",
           "Labridae",
           "Lachnolaimus maximus"
          ],
          [
           "Chordata",
           "Actinopterygii",
           "Labriformes",
           "Labridae",
           "Lachnolaimus maximus"
          ],
          [
           "Chordata",
           "Actinopterygii",
           "Labriformes",
           "Labridae",
           "Lachnolaimus maximus"
          ],
          [
           "Chordata",
           "Actinopterygii",
           "Labriformes",
           "Labridae",
           "Lachnolaimus maximus"
          ],
          [
           "Chordata",
           "Actinopterygii",
           "Labriformes",
           "Labridae",
           "Lachnolaimus maximus"
          ],
          [
           "Chordata",
           "Actinopterygii",
           "Labriformes",
           "Labridae",
           "Lachnolaimus maximus"
          ],
          [
           "Chordata",
           "Actinopterygii",
           "Labriformes",
           "Labridae",
           "Lachnolaimus maximus"
          ],
          [
           "Chordata",
           "Actinopterygii",
           "Labriformes",
           "Labridae",
           "Lachnolaimus maximus"
          ],
          [
           "Chordata",
           "Actinopterygii",
           "Labriformes",
           "Labridae",
           "Lachnolaimus maximus"
          ],
          [
           "Chordata",
           "Actinopterygii",
           "Labriformes",
           "Labridae",
           "Lachnolaimus maximus"
          ],
          [
           "Chordata",
           "Actinopterygii",
           "Labriformes",
           "Labridae",
           "Lachnolaimus maximus"
          ],
          [
           "Chordata",
           "Actinopterygii",
           "Labriformes",
           "Labridae",
           "Lachnolaimus maximus"
          ],
          [
           "Chordata",
           "Actinopterygii",
           "Labriformes",
           "Labridae",
           "Lachnolaimus maximus"
          ],
          [
           "Chordata",
           "Actinopterygii",
           "Labriformes",
           "Labridae",
           "Lachnolaimus maximus"
          ],
          [
           "Chordata",
           "Actinopterygii",
           "Labriformes",
           "Labridae",
           "Lachnolaimus maximus"
          ],
          [
           "Chordata",
           "Actinopterygii",
           "Labriformes",
           "Labridae",
           "Lachnolaimus maximus"
          ],
          [
           "Chordata",
           "Actinopterygii",
           "Labriformes",
           "Labridae",
           "Lachnolaimus maximus"
          ],
          [
           "Chordata",
           "Actinopterygii",
           "Labriformes",
           "Labridae",
           "Lachnolaimus maximus"
          ],
          [
           "Chordata",
           "Actinopterygii",
           "Labriformes",
           "Labridae",
           "Lachnolaimus maximus"
          ],
          [
           "Chordata",
           "Actinopterygii",
           "Labriformes",
           "Labridae",
           "Lachnolaimus maximus"
          ],
          [
           "Chordata",
           "Actinopterygii",
           "Labriformes",
           "Labridae",
           "Lachnolaimus maximus"
          ],
          [
           "Chordata",
           "Actinopterygii",
           "Labriformes",
           "Labridae",
           "Lachnolaimus maximus"
          ],
          [
           "Chordata",
           "Actinopterygii",
           "Labriformes",
           "Labridae",
           "Lachnolaimus maximus"
          ],
          [
           "Chordata",
           "Actinopterygii",
           "Labriformes",
           "Labridae",
           "Lachnolaimus maximus"
          ],
          [
           "Chordata",
           "Actinopterygii",
           "Labriformes",
           "Labridae",
           "Lachnolaimus maximus"
          ],
          [
           "Chordata",
           "Actinopterygii",
           "Labriformes",
           "Labridae",
           "Lachnolaimus maximus"
          ],
          [
           "Chordata",
           "Actinopterygii",
           "Labriformes",
           "Labridae",
           "Lachnolaimus maximus"
          ],
          [
           "Chordata",
           "Actinopterygii",
           "Labriformes",
           "Labridae",
           "Lachnolaimus maximus"
          ]
         ],
         "hovertemplate": "Common Name=hogfish<br>Genus=%{x}<br>Species=%{y}<br>phylum=%{customdata[0]}<br>class=%{customdata[1]}<br>order=%{customdata[2]}<br>family=%{customdata[3]}<br>sciName=%{customdata[4]}<extra></extra>",
         "legendgroup": "hogfish",
         "marker": {
          "color": "#00cc96",
          "symbol": "circle"
         },
         "mode": "markers",
         "name": "hogfish",
         "showlegend": true,
         "type": "scattergl",
         "x": [
          "Lachnolaimus",
          "Lachnolaimus",
          "Lachnolaimus",
          "Lachnolaimus",
          "Lachnolaimus",
          "Lachnolaimus",
          "Lachnolaimus",
          "Lachnolaimus",
          "Lachnolaimus",
          "Lachnolaimus",
          "Lachnolaimus",
          "Lachnolaimus",
          "Lachnolaimus",
          "Lachnolaimus",
          "Lachnolaimus",
          "Lachnolaimus",
          "Lachnolaimus",
          "Lachnolaimus",
          "Lachnolaimus",
          "Lachnolaimus",
          "Lachnolaimus",
          "Lachnolaimus",
          "Lachnolaimus",
          "Lachnolaimus",
          "Lachnolaimus",
          "Lachnolaimus",
          "Lachnolaimus",
          "Lachnolaimus",
          "Lachnolaimus",
          "Lachnolaimus"
         ],
         "xaxis": "x",
         "y": [
          "maximus",
          "maximus",
          "maximus",
          "maximus",
          "maximus",
          "maximus",
          "maximus",
          "maximus",
          "maximus",
          "maximus",
          "maximus",
          "maximus",
          "maximus",
          "maximus",
          "maximus",
          "maximus",
          "maximus",
          "maximus",
          "maximus",
          "maximus",
          "maximus",
          "maximus",
          "maximus",
          "maximus",
          "maximus",
          "maximus",
          "maximus",
          "maximus",
          "maximus",
          "maximus"
         ],
         "yaxis": "y"
        },
        {
         "customdata": [
          [
           "Chordata",
           "Actinopterygii",
           "Lutjaniformes",
           "Lutjanidae",
           "Lutjanus cyanopterus"
          ],
          [
           "Chordata",
           "Actinopterygii",
           "Lutjaniformes",
           "Lutjanidae",
           "Lutjanus cyanopterus"
          ],
          [
           "Chordata",
           "Actinopterygii",
           "Lutjaniformes",
           "Lutjanidae",
           "Lutjanus cyanopterus"
          ],
          [
           "Chordata",
           "Actinopterygii",
           "Lutjaniformes",
           "Lutjanidae",
           "Lutjanus cyanopterus"
          ],
          [
           "Chordata",
           "Actinopterygii",
           "Lutjaniformes",
           "Lutjanidae",
           "Lutjanus cyanopterus"
          ],
          [
           "Chordata",
           "Actinopterygii",
           "Lutjaniformes",
           "Lutjanidae",
           "Lutjanus cyanopterus"
          ],
          [
           "Chordata",
           "Actinopterygii",
           "Lutjaniformes",
           "Lutjanidae",
           "Lutjanus cyanopterus"
          ],
          [
           "Chordata",
           "Actinopterygii",
           "Lutjaniformes",
           "Lutjanidae",
           "Lutjanus cyanopterus"
          ],
          [
           "Chordata",
           "Actinopterygii",
           "Lutjaniformes",
           "Lutjanidae",
           "Lutjanus cyanopterus"
          ],
          [
           "Chordata",
           "Actinopterygii",
           "Lutjaniformes",
           "Lutjanidae",
           "Lutjanus cyanopterus"
          ],
          [
           "Chordata",
           "Actinopterygii",
           "Lutjaniformes",
           "Lutjanidae",
           "Lutjanus cyanopterus"
          ],
          [
           "Chordata",
           "Actinopterygii",
           "Lutjaniformes",
           "Lutjanidae",
           "Lutjanus cyanopterus"
          ],
          [
           "Chordata",
           "Actinopterygii",
           "Lutjaniformes",
           "Lutjanidae",
           "Lutjanus cyanopterus"
          ],
          [
           "Chordata",
           "Actinopterygii",
           "Lutjaniformes",
           "Lutjanidae",
           "Lutjanus cyanopterus"
          ],
          [
           "Chordata",
           "Actinopterygii",
           "Lutjaniformes",
           "Lutjanidae",
           "Lutjanus cyanopterus"
          ],
          [
           "Chordata",
           "Actinopterygii",
           "Lutjaniformes",
           "Lutjanidae",
           "Lutjanus cyanopterus"
          ],
          [
           "Chordata",
           "Actinopterygii",
           "Lutjaniformes",
           "Lutjanidae",
           "Lutjanus cyanopterus"
          ],
          [
           "Chordata",
           "Actinopterygii",
           "Lutjaniformes",
           "Lutjanidae",
           "Lutjanus cyanopterus"
          ],
          [
           "Chordata",
           "Actinopterygii",
           "Lutjaniformes",
           "Lutjanidae",
           "Lutjanus cyanopterus"
          ],
          [
           "Chordata",
           "Actinopterygii",
           "Lutjaniformes",
           "Lutjanidae",
           "Lutjanus cyanopterus"
          ],
          [
           "Chordata",
           "Actinopterygii",
           "Lutjaniformes",
           "Lutjanidae",
           "Lutjanus cyanopterus"
          ],
          [
           "Chordata",
           "Actinopterygii",
           "Lutjaniformes",
           "Lutjanidae",
           "Lutjanus cyanopterus"
          ],
          [
           "Chordata",
           "Actinopterygii",
           "Lutjaniformes",
           "Lutjanidae",
           "Lutjanus cyanopterus"
          ],
          [
           "Chordata",
           "Actinopterygii",
           "Lutjaniformes",
           "Lutjanidae",
           "Lutjanus cyanopterus"
          ],
          [
           "Chordata",
           "Actinopterygii",
           "Lutjaniformes",
           "Lutjanidae",
           "Lutjanus cyanopterus"
          ],
          [
           "Chordata",
           "Actinopterygii",
           "Lutjaniformes",
           "Lutjanidae",
           "Lutjanus cyanopterus"
          ],
          [
           "Chordata",
           "Actinopterygii",
           "Lutjaniformes",
           "Lutjanidae",
           "Lutjanus cyanopterus"
          ],
          [
           "Chordata",
           "Actinopterygii",
           "Lutjaniformes",
           "Lutjanidae",
           "Lutjanus cyanopterus"
          ],
          [
           "Chordata",
           "Actinopterygii",
           "Lutjaniformes",
           "Lutjanidae",
           "Lutjanus cyanopterus"
          ],
          [
           "Chordata",
           "Actinopterygii",
           "Lutjaniformes",
           "Lutjanidae",
           "Lutjanus cyanopterus"
          ]
         ],
         "hovertemplate": "Common Name=cubera snapper<br>Genus=%{x}<br>Species=%{y}<br>phylum=%{customdata[0]}<br>class=%{customdata[1]}<br>order=%{customdata[2]}<br>family=%{customdata[3]}<br>sciName=%{customdata[4]}<extra></extra>",
         "legendgroup": "cubera snapper",
         "marker": {
          "color": "#ab63fa",
          "symbol": "circle"
         },
         "mode": "markers",
         "name": "cubera snapper",
         "showlegend": true,
         "type": "scattergl",
         "x": [
          "Lutjanus",
          "Lutjanus",
          "Lutjanus",
          "Lutjanus",
          "Lutjanus",
          "Lutjanus",
          "Lutjanus",
          "Lutjanus",
          "Lutjanus",
          "Lutjanus",
          "Lutjanus",
          "Lutjanus",
          "Lutjanus",
          "Lutjanus",
          "Lutjanus",
          "Lutjanus",
          "Lutjanus",
          "Lutjanus",
          "Lutjanus",
          "Lutjanus",
          "Lutjanus",
          "Lutjanus",
          "Lutjanus",
          "Lutjanus",
          "Lutjanus",
          "Lutjanus",
          "Lutjanus",
          "Lutjanus",
          "Lutjanus",
          "Lutjanus"
         ],
         "xaxis": "x",
         "y": [
          "cyanopterus",
          "cyanopterus",
          "cyanopterus",
          "cyanopterus",
          "cyanopterus",
          "cyanopterus",
          "cyanopterus",
          "cyanopterus",
          "cyanopterus",
          "cyanopterus",
          "cyanopterus",
          "cyanopterus",
          "cyanopterus",
          "cyanopterus",
          "cyanopterus",
          "cyanopterus",
          "cyanopterus",
          "cyanopterus",
          "cyanopterus",
          "cyanopterus",
          "cyanopterus",
          "cyanopterus",
          "cyanopterus",
          "cyanopterus",
          "cyanopterus",
          "cyanopterus",
          "cyanopterus",
          "cyanopterus",
          "cyanopterus",
          "cyanopterus"
         ],
         "yaxis": "y"
        },
        {
         "customdata": [
          [
           "Chordata",
           "Actinopterygii",
           "Pempheriformes",
           "Polyprionidae",
           "Stereolepis gigas"
          ],
          [
           "Chordata",
           "Actinopterygii",
           "Pempheriformes",
           "Polyprionidae",
           "Stereolepis gigas"
          ],
          [
           "Chordata",
           "Actinopterygii",
           "Pempheriformes",
           "Polyprionidae",
           "Stereolepis gigas"
          ],
          [
           "Chordata",
           "Actinopterygii",
           "Pempheriformes",
           "Polyprionidae",
           "Stereolepis gigas"
          ],
          [
           "Chordata",
           "Actinopterygii",
           "Pempheriformes",
           "Polyprionidae",
           "Stereolepis gigas"
          ],
          [
           "Chordata",
           "Actinopterygii",
           "Pempheriformes",
           "Polyprionidae",
           "Stereolepis gigas"
          ],
          [
           "Chordata",
           "Actinopterygii",
           "Pempheriformes",
           "Polyprionidae",
           "Stereolepis gigas"
          ],
          [
           "Chordata",
           "Actinopterygii",
           "Pempheriformes",
           "Polyprionidae",
           "Stereolepis gigas"
          ],
          [
           "Chordata",
           "Actinopterygii",
           "Pempheriformes",
           "Polyprionidae",
           "Stereolepis gigas"
          ],
          [
           "Chordata",
           "Actinopterygii",
           "Pempheriformes",
           "Polyprionidae",
           "Stereolepis gigas"
          ],
          [
           "Chordata",
           "Actinopterygii",
           "Pempheriformes",
           "Polyprionidae",
           "Stereolepis gigas"
          ],
          [
           "Chordata",
           "Actinopterygii",
           "Pempheriformes",
           "Polyprionidae",
           "Stereolepis gigas"
          ],
          [
           "Chordata",
           "Actinopterygii",
           "Pempheriformes",
           "Polyprionidae",
           "Stereolepis gigas"
          ],
          [
           "Chordata",
           "Actinopterygii",
           "Pempheriformes",
           "Polyprionidae",
           "Stereolepis gigas"
          ],
          [
           "Chordata",
           "Actinopterygii",
           "Pempheriformes",
           "Polyprionidae",
           "Stereolepis gigas"
          ],
          [
           "Chordata",
           "Actinopterygii",
           "Pempheriformes",
           "Polyprionidae",
           "Stereolepis gigas"
          ],
          [
           "Chordata",
           "Actinopterygii",
           "Pempheriformes",
           "Polyprionidae",
           "Stereolepis gigas"
          ],
          [
           "Chordata",
           "Actinopterygii",
           "Pempheriformes",
           "Polyprionidae",
           "Stereolepis gigas"
          ],
          [
           "Chordata",
           "Actinopterygii",
           "Pempheriformes",
           "Polyprionidae",
           "Stereolepis gigas"
          ],
          [
           "Chordata",
           "Actinopterygii",
           "Pempheriformes",
           "Polyprionidae",
           "Stereolepis gigas"
          ],
          [
           "Chordata",
           "Actinopterygii",
           "Pempheriformes",
           "Polyprionidae",
           "Stereolepis gigas"
          ],
          [
           "Chordata",
           "Actinopterygii",
           "Pempheriformes",
           "Polyprionidae",
           "Stereolepis gigas"
          ],
          [
           "Chordata",
           "Actinopterygii",
           "Pempheriformes",
           "Polyprionidae",
           "Stereolepis gigas"
          ],
          [
           "Chordata",
           "Actinopterygii",
           "Pempheriformes",
           "Polyprionidae",
           "Stereolepis gigas"
          ],
          [
           "Chordata",
           "Actinopterygii",
           "Pempheriformes",
           "Polyprionidae",
           "Stereolepis gigas"
          ],
          [
           "Chordata",
           "Actinopterygii",
           "Pempheriformes",
           "Polyprionidae",
           "Stereolepis gigas"
          ],
          [
           "Chordata",
           "Actinopterygii",
           "Pempheriformes",
           "Polyprionidae",
           "Stereolepis gigas"
          ],
          [
           "Chordata",
           "Actinopterygii",
           "Pempheriformes",
           "Polyprionidae",
           "Stereolepis gigas"
          ],
          [
           "Chordata",
           "Actinopterygii",
           "Pempheriformes",
           "Polyprionidae",
           "Stereolepis gigas"
          ],
          [
           "Chordata",
           "Actinopterygii",
           "Pempheriformes",
           "Polyprionidae",
           "Stereolepis gigas"
          ]
         ],
         "hovertemplate": "Common Name=giant sea bass<br>Genus=%{x}<br>Species=%{y}<br>phylum=%{customdata[0]}<br>class=%{customdata[1]}<br>order=%{customdata[2]}<br>family=%{customdata[3]}<br>sciName=%{customdata[4]}<extra></extra>",
         "legendgroup": "giant sea bass",
         "marker": {
          "color": "#FFA15A",
          "symbol": "circle"
         },
         "mode": "markers",
         "name": "giant sea bass",
         "showlegend": true,
         "type": "scattergl",
         "x": [
          "Stereolepis",
          "Stereolepis",
          "Stereolepis",
          "Stereolepis",
          "Stereolepis",
          "Stereolepis",
          "Stereolepis",
          "Stereolepis",
          "Stereolepis",
          "Stereolepis",
          "Stereolepis",
          "Stereolepis",
          "Stereolepis",
          "Stereolepis",
          "Stereolepis",
          "Stereolepis",
          "Stereolepis",
          "Stereolepis",
          "Stereolepis",
          "Stereolepis",
          "Stereolepis",
          "Stereolepis",
          "Stereolepis",
          "Stereolepis",
          "Stereolepis",
          "Stereolepis",
          "Stereolepis",
          "Stereolepis",
          "Stereolepis",
          "Stereolepis"
         ],
         "xaxis": "x",
         "y": [
          "gigas",
          "gigas",
          "gigas",
          "gigas",
          "gigas",
          "gigas",
          "gigas",
          "gigas",
          "gigas",
          "gigas",
          "gigas",
          "gigas",
          "gigas",
          "gigas",
          "gigas",
          "gigas",
          "gigas",
          "gigas",
          "gigas",
          "gigas",
          "gigas",
          "gigas",
          "gigas",
          "gigas",
          "gigas",
          "gigas",
          "gigas",
          "gigas",
          "gigas",
          "gigas"
         ],
         "yaxis": "y"
        },
        {
         "customdata": [
          [
           "Chordata",
           "Actinopterygii",
           "Perciformes",
           "Percidae",
           "Etheostoma lepidum"
          ],
          [
           "Chordata",
           "Actinopterygii",
           "Perciformes",
           "Percidae",
           "Etheostoma lepidum"
          ],
          [
           "Chordata",
           "Actinopterygii",
           "Perciformes",
           "Percidae",
           "Etheostoma lepidum"
          ],
          [
           "Chordata",
           "Actinopterygii",
           "Perciformes",
           "Percidae",
           "Etheostoma lepidum"
          ],
          [
           "Chordata",
           "Actinopterygii",
           "Perciformes",
           "Percidae",
           "Etheostoma lepidum"
          ],
          [
           "Chordata",
           "Actinopterygii",
           "Perciformes",
           "Percidae",
           "Etheostoma lepidum"
          ],
          [
           "Chordata",
           "Actinopterygii",
           "Perciformes",
           "Percidae",
           "Etheostoma lepidum"
          ],
          [
           "Chordata",
           "Actinopterygii",
           "Perciformes",
           "Percidae",
           "Etheostoma lepidum"
          ],
          [
           "Chordata",
           "Actinopterygii",
           "Perciformes",
           "Percidae",
           "Etheostoma lepidum"
          ],
          [
           "Chordata",
           "Actinopterygii",
           "Perciformes",
           "Percidae",
           "Etheostoma lepidum"
          ],
          [
           "Chordata",
           "Actinopterygii",
           "Perciformes",
           "Percidae",
           "Etheostoma lepidum"
          ],
          [
           "Chordata",
           "Actinopterygii",
           "Perciformes",
           "Percidae",
           "Etheostoma lepidum"
          ],
          [
           "Chordata",
           "Actinopterygii",
           "Perciformes",
           "Percidae",
           "Etheostoma lepidum"
          ],
          [
           "Chordata",
           "Actinopterygii",
           "Perciformes",
           "Percidae",
           "Etheostoma lepidum"
          ],
          [
           "Chordata",
           "Actinopterygii",
           "Perciformes",
           "Percidae",
           "Etheostoma lepidum"
          ],
          [
           "Chordata",
           "Actinopterygii",
           "Perciformes",
           "Percidae",
           "Etheostoma lepidum"
          ],
          [
           "Chordata",
           "Actinopterygii",
           "Perciformes",
           "Percidae",
           "Etheostoma lepidum"
          ],
          [
           "Chordata",
           "Actinopterygii",
           "Perciformes",
           "Percidae",
           "Etheostoma lepidum"
          ],
          [
           "Chordata",
           "Actinopterygii",
           "Perciformes",
           "Percidae",
           "Etheostoma lepidum"
          ],
          [
           "Chordata",
           "Actinopterygii",
           "Perciformes",
           "Percidae",
           "Etheostoma lepidum"
          ],
          [
           "Chordata",
           "Actinopterygii",
           "Perciformes",
           "Percidae",
           "Etheostoma lepidum"
          ],
          [
           "Chordata",
           "Actinopterygii",
           "Perciformes",
           "Percidae",
           "Etheostoma lepidum"
          ],
          [
           "Chordata",
           "Actinopterygii",
           "Perciformes",
           "Percidae",
           "Etheostoma lepidum"
          ],
          [
           "Chordata",
           "Actinopterygii",
           "Perciformes",
           "Percidae",
           "Etheostoma lepidum"
          ],
          [
           "Chordata",
           "Actinopterygii",
           "Perciformes",
           "Percidae",
           "Etheostoma lepidum"
          ],
          [
           "Chordata",
           "Actinopterygii",
           "Perciformes",
           "Percidae",
           "Etheostoma lepidum"
          ],
          [
           "Chordata",
           "Actinopterygii",
           "Perciformes",
           "Percidae",
           "Etheostoma lepidum"
          ],
          [
           "Chordata",
           "Actinopterygii",
           "Perciformes",
           "Percidae",
           "Etheostoma lepidum"
          ],
          [
           "Chordata",
           "Actinopterygii",
           "Perciformes",
           "Percidae",
           "Etheostoma lepidum"
          ],
          [
           "Chordata",
           "Actinopterygii",
           "Perciformes",
           "Percidae",
           "Etheostoma lepidum"
          ]
         ],
         "hovertemplate": "Common Name=Greenthroat Darter<br>Genus=%{x}<br>Species=%{y}<br>phylum=%{customdata[0]}<br>class=%{customdata[1]}<br>order=%{customdata[2]}<br>family=%{customdata[3]}<br>sciName=%{customdata[4]}<extra></extra>",
         "legendgroup": "Greenthroat Darter",
         "marker": {
          "color": "#19d3f3",
          "symbol": "circle"
         },
         "mode": "markers",
         "name": "Greenthroat Darter",
         "showlegend": true,
         "type": "scattergl",
         "x": [
          "Etheostoma",
          "Etheostoma",
          "Etheostoma",
          "Etheostoma",
          "Etheostoma",
          "Etheostoma",
          "Etheostoma",
          "Etheostoma",
          "Etheostoma",
          "Etheostoma",
          "Etheostoma",
          "Etheostoma",
          "Etheostoma",
          "Etheostoma",
          "Etheostoma",
          "Etheostoma",
          "Etheostoma",
          "Etheostoma",
          "Etheostoma",
          "Etheostoma",
          "Etheostoma",
          "Etheostoma",
          "Etheostoma",
          "Etheostoma",
          "Etheostoma",
          "Etheostoma",
          "Etheostoma",
          "Etheostoma",
          "Etheostoma",
          "Etheostoma"
         ],
         "xaxis": "x",
         "y": [
          "lepidum",
          "lepidum",
          "lepidum",
          "lepidum",
          "lepidum",
          "lepidum",
          "lepidum",
          "lepidum",
          "lepidum",
          "lepidum",
          "lepidum",
          "lepidum",
          "lepidum",
          "lepidum",
          "lepidum",
          "lepidum",
          "lepidum",
          "lepidum",
          "lepidum",
          "lepidum",
          "lepidum",
          "lepidum",
          "lepidum",
          "lepidum",
          "lepidum",
          "lepidum",
          "lepidum",
          "lepidum",
          "lepidum",
          "lepidum"
         ],
         "yaxis": "y"
        },
        {
         "customdata": [
          [
           "Chordata",
           "Actinopterygii",
           "Perciformes",
           "Serranidae",
           "Epinephelus morio"
          ],
          [
           "Chordata",
           "Actinopterygii",
           "Perciformes",
           "Serranidae",
           "Epinephelus morio"
          ],
          [
           "Chordata",
           "Actinopterygii",
           "Perciformes",
           "Serranidae",
           "Epinephelus morio"
          ],
          [
           "Chordata",
           "Actinopterygii",
           "Perciformes",
           "Serranidae",
           "Epinephelus morio"
          ],
          [
           "Chordata",
           "Actinopterygii",
           "Perciformes",
           "Serranidae",
           "Epinephelus morio"
          ],
          [
           "Chordata",
           "Actinopterygii",
           "Perciformes",
           "Serranidae",
           "Epinephelus morio"
          ],
          [
           "Chordata",
           "Actinopterygii",
           "Perciformes",
           "Serranidae",
           "Epinephelus morio"
          ],
          [
           "Chordata",
           "Actinopterygii",
           "Perciformes",
           "Serranidae",
           "Epinephelus morio"
          ],
          [
           "Chordata",
           "Actinopterygii",
           "Perciformes",
           "Serranidae",
           "Epinephelus morio"
          ],
          [
           "Chordata",
           "Actinopterygii",
           "Perciformes",
           "Serranidae",
           "Epinephelus morio"
          ],
          [
           "Chordata",
           "Actinopterygii",
           "Perciformes",
           "Serranidae",
           "Epinephelus morio"
          ],
          [
           "Chordata",
           "Actinopterygii",
           "Perciformes",
           "Serranidae",
           "Epinephelus morio"
          ],
          [
           "Chordata",
           "Actinopterygii",
           "Perciformes",
           "Serranidae",
           "Epinephelus morio"
          ],
          [
           "Chordata",
           "Actinopterygii",
           "Perciformes",
           "Serranidae",
           "Epinephelus morio"
          ],
          [
           "Chordata",
           "Actinopterygii",
           "Perciformes",
           "Serranidae",
           "Epinephelus morio"
          ],
          [
           "Chordata",
           "Actinopterygii",
           "Perciformes",
           "Serranidae",
           "Epinephelus morio"
          ],
          [
           "Chordata",
           "Actinopterygii",
           "Perciformes",
           "Serranidae",
           "Epinephelus morio"
          ],
          [
           "Chordata",
           "Actinopterygii",
           "Perciformes",
           "Serranidae",
           "Epinephelus morio"
          ],
          [
           "Chordata",
           "Actinopterygii",
           "Perciformes",
           "Serranidae",
           "Epinephelus morio"
          ],
          [
           "Chordata",
           "Actinopterygii",
           "Perciformes",
           "Serranidae",
           "Epinephelus morio"
          ],
          [
           "Chordata",
           "Actinopterygii",
           "Perciformes",
           "Serranidae",
           "Epinephelus morio"
          ],
          [
           "Chordata",
           "Actinopterygii",
           "Perciformes",
           "Serranidae",
           "Epinephelus morio"
          ],
          [
           "Chordata",
           "Actinopterygii",
           "Perciformes",
           "Serranidae",
           "Epinephelus morio"
          ],
          [
           "Chordata",
           "Actinopterygii",
           "Perciformes",
           "Serranidae",
           "Epinephelus morio"
          ],
          [
           "Chordata",
           "Actinopterygii",
           "Perciformes",
           "Serranidae",
           "Epinephelus morio"
          ],
          [
           "Chordata",
           "Actinopterygii",
           "Perciformes",
           "Serranidae",
           "Epinephelus morio"
          ],
          [
           "Chordata",
           "Actinopterygii",
           "Perciformes",
           "Serranidae",
           "Epinephelus morio"
          ],
          [
           "Chordata",
           "Actinopterygii",
           "Perciformes",
           "Serranidae",
           "Epinephelus morio"
          ],
          [
           "Chordata",
           "Actinopterygii",
           "Perciformes",
           "Serranidae",
           "Epinephelus morio"
          ],
          [
           "Chordata",
           "Actinopterygii",
           "Perciformes",
           "Serranidae",
           "Epinephelus morio"
          ]
         ],
         "hovertemplate": "Common Name=red grouper<br>Genus=%{x}<br>Species=%{y}<br>phylum=%{customdata[0]}<br>class=%{customdata[1]}<br>order=%{customdata[2]}<br>family=%{customdata[3]}<br>sciName=%{customdata[4]}<extra></extra>",
         "legendgroup": "red grouper",
         "marker": {
          "color": "#FF6692",
          "symbol": "circle"
         },
         "mode": "markers",
         "name": "red grouper",
         "showlegend": true,
         "type": "scattergl",
         "x": [
          "Epinephelus",
          "Epinephelus",
          "Epinephelus",
          "Epinephelus",
          "Epinephelus",
          "Epinephelus",
          "Epinephelus",
          "Epinephelus",
          "Epinephelus",
          "Epinephelus",
          "Epinephelus",
          "Epinephelus",
          "Epinephelus",
          "Epinephelus",
          "Epinephelus",
          "Epinephelus",
          "Epinephelus",
          "Epinephelus",
          "Epinephelus",
          "Epinephelus",
          "Epinephelus",
          "Epinephelus",
          "Epinephelus",
          "Epinephelus",
          "Epinephelus",
          "Epinephelus",
          "Epinephelus",
          "Epinephelus",
          "Epinephelus",
          "Epinephelus"
         ],
         "xaxis": "x",
         "y": [
          "morio",
          "morio",
          "morio",
          "morio",
          "morio",
          "morio",
          "morio",
          "morio",
          "morio",
          "morio",
          "morio",
          "morio",
          "morio",
          "morio",
          "morio",
          "morio",
          "morio",
          "morio",
          "morio",
          "morio",
          "morio",
          "morio",
          "morio",
          "morio",
          "morio",
          "morio",
          "morio",
          "morio",
          "morio",
          "morio"
         ],
         "yaxis": "y"
        },
        {
         "customdata": [
          [
           "Chordata",
           "Actinopterygii",
           "Perciformes",
           "Serranidae",
           "Epinephelus polyphekadion"
          ],
          [
           "Chordata",
           "Actinopterygii",
           "Perciformes",
           "Serranidae",
           "Epinephelus polyphekadion"
          ],
          [
           "Chordata",
           "Actinopterygii",
           "Perciformes",
           "Serranidae",
           "Epinephelus polyphekadion"
          ],
          [
           "Chordata",
           "Actinopterygii",
           "Perciformes",
           "Serranidae",
           "Epinephelus polyphekadion"
          ],
          [
           "Chordata",
           "Actinopterygii",
           "Perciformes",
           "Serranidae",
           "Epinephelus polyphekadion"
          ],
          [
           "Chordata",
           "Actinopterygii",
           "Perciformes",
           "Serranidae",
           "Epinephelus polyphekadion"
          ],
          [
           "Chordata",
           "Actinopterygii",
           "Perciformes",
           "Serranidae",
           "Epinephelus polyphekadion"
          ],
          [
           "Chordata",
           "Actinopterygii",
           "Perciformes",
           "Serranidae",
           "Epinephelus polyphekadion"
          ],
          [
           "Chordata",
           "Actinopterygii",
           "Perciformes",
           "Serranidae",
           "Epinephelus polyphekadion"
          ],
          [
           "Chordata",
           "Actinopterygii",
           "Perciformes",
           "Serranidae",
           "Epinephelus polyphekadion"
          ],
          [
           "Chordata",
           "Actinopterygii",
           "Perciformes",
           "Serranidae",
           "Epinephelus polyphekadion"
          ],
          [
           "Chordata",
           "Actinopterygii",
           "Perciformes",
           "Serranidae",
           "Epinephelus polyphekadion"
          ],
          [
           "Chordata",
           "Actinopterygii",
           "Perciformes",
           "Serranidae",
           "Epinephelus polyphekadion"
          ],
          [
           "Chordata",
           "Actinopterygii",
           "Perciformes",
           "Serranidae",
           "Epinephelus polyphekadion"
          ],
          [
           "Chordata",
           "Actinopterygii",
           "Perciformes",
           "Serranidae",
           "Epinephelus polyphekadion"
          ],
          [
           "Chordata",
           "Actinopterygii",
           "Perciformes",
           "Serranidae",
           "Epinephelus polyphekadion"
          ],
          [
           "Chordata",
           "Actinopterygii",
           "Perciformes",
           "Serranidae",
           "Epinephelus polyphekadion"
          ],
          [
           "Chordata",
           "Actinopterygii",
           "Perciformes",
           "Serranidae",
           "Epinephelus polyphekadion"
          ],
          [
           "Chordata",
           "Actinopterygii",
           "Perciformes",
           "Serranidae",
           "Epinephelus polyphekadion"
          ],
          [
           "Chordata",
           "Actinopterygii",
           "Perciformes",
           "Serranidae",
           "Epinephelus polyphekadion"
          ],
          [
           "Chordata",
           "Actinopterygii",
           "Perciformes",
           "Serranidae",
           "Epinephelus polyphekadion"
          ],
          [
           "Chordata",
           "Actinopterygii",
           "Perciformes",
           "Serranidae",
           "Epinephelus polyphekadion"
          ],
          [
           "Chordata",
           "Actinopterygii",
           "Perciformes",
           "Serranidae",
           "Epinephelus polyphekadion"
          ],
          [
           "Chordata",
           "Actinopterygii",
           "Perciformes",
           "Serranidae",
           "Epinephelus polyphekadion"
          ],
          [
           "Chordata",
           "Actinopterygii",
           "Perciformes",
           "Serranidae",
           "Epinephelus polyphekadion"
          ],
          [
           "Chordata",
           "Actinopterygii",
           "Perciformes",
           "Serranidae",
           "Epinephelus polyphekadion"
          ],
          [
           "Chordata",
           "Actinopterygii",
           "Perciformes",
           "Serranidae",
           "Epinephelus polyphekadion"
          ],
          [
           "Chordata",
           "Actinopterygii",
           "Perciformes",
           "Serranidae",
           "Epinephelus polyphekadion"
          ],
          [
           "Chordata",
           "Actinopterygii",
           "Perciformes",
           "Serranidae",
           "Epinephelus polyphekadion"
          ],
          [
           "Chordata",
           "Actinopterygii",
           "Perciformes",
           "Serranidae",
           "Epinephelus polyphekadion"
          ]
         ],
         "hovertemplate": "Common Name=comouflage grouper<br>Genus=%{x}<br>Species=%{y}<br>phylum=%{customdata[0]}<br>class=%{customdata[1]}<br>order=%{customdata[2]}<br>family=%{customdata[3]}<br>sciName=%{customdata[4]}<extra></extra>",
         "legendgroup": "comouflage grouper",
         "marker": {
          "color": "#B6E880",
          "symbol": "circle"
         },
         "mode": "markers",
         "name": "comouflage grouper",
         "showlegend": true,
         "type": "scattergl",
         "x": [
          "Epinephelus",
          "Epinephelus",
          "Epinephelus",
          "Epinephelus",
          "Epinephelus",
          "Epinephelus",
          "Epinephelus",
          "Epinephelus",
          "Epinephelus",
          "Epinephelus",
          "Epinephelus",
          "Epinephelus",
          "Epinephelus",
          "Epinephelus",
          "Epinephelus",
          "Epinephelus",
          "Epinephelus",
          "Epinephelus",
          "Epinephelus",
          "Epinephelus",
          "Epinephelus",
          "Epinephelus",
          "Epinephelus",
          "Epinephelus",
          "Epinephelus",
          "Epinephelus",
          "Epinephelus",
          "Epinephelus",
          "Epinephelus",
          "Epinephelus"
         ],
         "xaxis": "x",
         "y": [
          "polyphekadion",
          "polyphekadion",
          "polyphekadion",
          "polyphekadion",
          "polyphekadion",
          "polyphekadion",
          "polyphekadion",
          "polyphekadion",
          "polyphekadion",
          "polyphekadion",
          "polyphekadion",
          "polyphekadion",
          "polyphekadion",
          "polyphekadion",
          "polyphekadion",
          "polyphekadion",
          "polyphekadion",
          "polyphekadion",
          "polyphekadion",
          "polyphekadion",
          "polyphekadion",
          "polyphekadion",
          "polyphekadion",
          "polyphekadion",
          "polyphekadion",
          "polyphekadion",
          "polyphekadion",
          "polyphekadion",
          "polyphekadion",
          "polyphekadion"
         ],
         "yaxis": "y"
        },
        {
         "customdata": [
          [
           "Chordata",
           "Actinopterygii",
           "Perciformes",
           "Serranidae",
           "Mycteroperca bonaci"
          ],
          [
           "Chordata",
           "Actinopterygii",
           "Perciformes",
           "Serranidae",
           "Mycteroperca bonaci"
          ],
          [
           "Chordata",
           "Actinopterygii",
           "Perciformes",
           "Serranidae",
           "Mycteroperca bonaci"
          ],
          [
           "Chordata",
           "Actinopterygii",
           "Perciformes",
           "Serranidae",
           "Mycteroperca bonaci"
          ],
          [
           "Chordata",
           "Actinopterygii",
           "Perciformes",
           "Serranidae",
           "Mycteroperca bonaci"
          ],
          [
           "Chordata",
           "Actinopterygii",
           "Perciformes",
           "Serranidae",
           "Mycteroperca bonaci"
          ],
          [
           "Chordata",
           "Actinopterygii",
           "Perciformes",
           "Serranidae",
           "Mycteroperca bonaci"
          ],
          [
           "Chordata",
           "Actinopterygii",
           "Perciformes",
           "Serranidae",
           "Mycteroperca bonaci"
          ],
          [
           "Chordata",
           "Actinopterygii",
           "Perciformes",
           "Serranidae",
           "Mycteroperca bonaci"
          ],
          [
           "Chordata",
           "Actinopterygii",
           "Perciformes",
           "Serranidae",
           "Mycteroperca bonaci"
          ],
          [
           "Chordata",
           "Actinopterygii",
           "Perciformes",
           "Serranidae",
           "Mycteroperca bonaci"
          ],
          [
           "Chordata",
           "Actinopterygii",
           "Perciformes",
           "Serranidae",
           "Mycteroperca bonaci"
          ],
          [
           "Chordata",
           "Actinopterygii",
           "Perciformes",
           "Serranidae",
           "Mycteroperca bonaci"
          ],
          [
           "Chordata",
           "Actinopterygii",
           "Perciformes",
           "Serranidae",
           "Mycteroperca bonaci"
          ],
          [
           "Chordata",
           "Actinopterygii",
           "Perciformes",
           "Serranidae",
           "Mycteroperca bonaci"
          ],
          [
           "Chordata",
           "Actinopterygii",
           "Perciformes",
           "Serranidae",
           "Mycteroperca bonaci"
          ],
          [
           "Chordata",
           "Actinopterygii",
           "Perciformes",
           "Serranidae",
           "Mycteroperca bonaci"
          ],
          [
           "Chordata",
           "Actinopterygii",
           "Perciformes",
           "Serranidae",
           "Mycteroperca bonaci"
          ],
          [
           "Chordata",
           "Actinopterygii",
           "Perciformes",
           "Serranidae",
           "Mycteroperca bonaci"
          ],
          [
           "Chordata",
           "Actinopterygii",
           "Perciformes",
           "Serranidae",
           "Mycteroperca bonaci"
          ],
          [
           "Chordata",
           "Actinopterygii",
           "Perciformes",
           "Serranidae",
           "Mycteroperca bonaci"
          ],
          [
           "Chordata",
           "Actinopterygii",
           "Perciformes",
           "Serranidae",
           "Mycteroperca bonaci"
          ],
          [
           "Chordata",
           "Actinopterygii",
           "Perciformes",
           "Serranidae",
           "Mycteroperca bonaci"
          ],
          [
           "Chordata",
           "Actinopterygii",
           "Perciformes",
           "Serranidae",
           "Mycteroperca bonaci"
          ],
          [
           "Chordata",
           "Actinopterygii",
           "Perciformes",
           "Serranidae",
           "Mycteroperca bonaci"
          ],
          [
           "Chordata",
           "Actinopterygii",
           "Perciformes",
           "Serranidae",
           "Mycteroperca bonaci"
          ],
          [
           "Chordata",
           "Actinopterygii",
           "Perciformes",
           "Serranidae",
           "Mycteroperca bonaci"
          ],
          [
           "Chordata",
           "Actinopterygii",
           "Perciformes",
           "Serranidae",
           "Mycteroperca bonaci"
          ],
          [
           "Chordata",
           "Actinopterygii",
           "Perciformes",
           "Serranidae",
           "Mycteroperca bonaci"
          ],
          [
           "Chordata",
           "Actinopterygii",
           "Perciformes",
           "Serranidae",
           "Mycteroperca bonaci"
          ]
         ],
         "hovertemplate": "Common Name=black grouper<br>Genus=%{x}<br>Species=%{y}<br>phylum=%{customdata[0]}<br>class=%{customdata[1]}<br>order=%{customdata[2]}<br>family=%{customdata[3]}<br>sciName=%{customdata[4]}<extra></extra>",
         "legendgroup": "black grouper",
         "marker": {
          "color": "#FF97FF",
          "symbol": "circle"
         },
         "mode": "markers",
         "name": "black grouper",
         "showlegend": true,
         "type": "scattergl",
         "x": [
          "Mycteroperca",
          "Mycteroperca",
          "Mycteroperca",
          "Mycteroperca",
          "Mycteroperca",
          "Mycteroperca",
          "Mycteroperca",
          "Mycteroperca",
          "Mycteroperca",
          "Mycteroperca",
          "Mycteroperca",
          "Mycteroperca",
          "Mycteroperca",
          "Mycteroperca",
          "Mycteroperca",
          "Mycteroperca",
          "Mycteroperca",
          "Mycteroperca",
          "Mycteroperca",
          "Mycteroperca",
          "Mycteroperca",
          "Mycteroperca",
          "Mycteroperca",
          "Mycteroperca",
          "Mycteroperca",
          "Mycteroperca",
          "Mycteroperca",
          "Mycteroperca",
          "Mycteroperca",
          "Mycteroperca"
         ],
         "xaxis": "x",
         "y": [
          "bonaci",
          "bonaci",
          "bonaci",
          "bonaci",
          "bonaci",
          "bonaci",
          "bonaci",
          "bonaci",
          "bonaci",
          "bonaci",
          "bonaci",
          "bonaci",
          "bonaci",
          "bonaci",
          "bonaci",
          "bonaci",
          "bonaci",
          "bonaci",
          "bonaci",
          "bonaci",
          "bonaci",
          "bonaci",
          "bonaci",
          "bonaci",
          "bonaci",
          "bonaci",
          "bonaci",
          "bonaci",
          "bonaci",
          "bonaci"
         ],
         "yaxis": "y"
        },
        {
         "customdata": [
          [
           "Chordata",
           "Actinopterygii",
           "Pleuronectiformes",
           "Pleuronectidae",
           "Hippoglossoides platessoides"
          ],
          [
           "Chordata",
           "Actinopterygii",
           "Pleuronectiformes",
           "Pleuronectidae",
           "Hippoglossoides platessoides"
          ],
          [
           "Chordata",
           "Actinopterygii",
           "Pleuronectiformes",
           "Pleuronectidae",
           "Hippoglossoides platessoides"
          ],
          [
           "Chordata",
           "Actinopterygii",
           "Pleuronectiformes",
           "Pleuronectidae",
           "Hippoglossoides platessoides"
          ],
          [
           "Chordata",
           "Actinopterygii",
           "Pleuronectiformes",
           "Pleuronectidae",
           "Hippoglossoides platessoides"
          ],
          [
           "Chordata",
           "Actinopterygii",
           "Pleuronectiformes",
           "Pleuronectidae",
           "Hippoglossoides platessoides"
          ],
          [
           "Chordata",
           "Actinopterygii",
           "Pleuronectiformes",
           "Pleuronectidae",
           "Hippoglossoides platessoides"
          ],
          [
           "Chordata",
           "Actinopterygii",
           "Pleuronectiformes",
           "Pleuronectidae",
           "Hippoglossoides platessoides"
          ],
          [
           "Chordata",
           "Actinopterygii",
           "Pleuronectiformes",
           "Pleuronectidae",
           "Hippoglossoides platessoides"
          ],
          [
           "Chordata",
           "Actinopterygii",
           "Pleuronectiformes",
           "Pleuronectidae",
           "Hippoglossoides platessoides"
          ],
          [
           "Chordata",
           "Actinopterygii",
           "Pleuronectiformes",
           "Pleuronectidae",
           "Hippoglossoides platessoides"
          ],
          [
           "Chordata",
           "Actinopterygii",
           "Pleuronectiformes",
           "Pleuronectidae",
           "Hippoglossoides platessoides"
          ],
          [
           "Chordata",
           "Actinopterygii",
           "Pleuronectiformes",
           "Pleuronectidae",
           "Hippoglossoides platessoides"
          ],
          [
           "Chordata",
           "Actinopterygii",
           "Pleuronectiformes",
           "Pleuronectidae",
           "Hippoglossoides platessoides"
          ],
          [
           "Chordata",
           "Actinopterygii",
           "Pleuronectiformes",
           "Pleuronectidae",
           "Hippoglossoides platessoides"
          ],
          [
           "Chordata",
           "Actinopterygii",
           "Pleuronectiformes",
           "Pleuronectidae",
           "Hippoglossoides platessoides"
          ],
          [
           "Chordata",
           "Actinopterygii",
           "Pleuronectiformes",
           "Pleuronectidae",
           "Hippoglossoides platessoides"
          ],
          [
           "Chordata",
           "Actinopterygii",
           "Pleuronectiformes",
           "Pleuronectidae",
           "Hippoglossoides platessoides"
          ],
          [
           "Chordata",
           "Actinopterygii",
           "Pleuronectiformes",
           "Pleuronectidae",
           "Hippoglossoides platessoides"
          ],
          [
           "Chordata",
           "Actinopterygii",
           "Pleuronectiformes",
           "Pleuronectidae",
           "Hippoglossoides platessoides"
          ],
          [
           "Chordata",
           "Actinopterygii",
           "Pleuronectiformes",
           "Pleuronectidae",
           "Hippoglossoides platessoides"
          ],
          [
           "Chordata",
           "Actinopterygii",
           "Pleuronectiformes",
           "Pleuronectidae",
           "Hippoglossoides platessoides"
          ],
          [
           "Chordata",
           "Actinopterygii",
           "Pleuronectiformes",
           "Pleuronectidae",
           "Hippoglossoides platessoides"
          ],
          [
           "Chordata",
           "Actinopterygii",
           "Pleuronectiformes",
           "Pleuronectidae",
           "Hippoglossoides platessoides"
          ],
          [
           "Chordata",
           "Actinopterygii",
           "Pleuronectiformes",
           "Pleuronectidae",
           "Hippoglossoides platessoides"
          ],
          [
           "Chordata",
           "Actinopterygii",
           "Pleuronectiformes",
           "Pleuronectidae",
           "Hippoglossoides platessoides"
          ],
          [
           "Chordata",
           "Actinopterygii",
           "Pleuronectiformes",
           "Pleuronectidae",
           "Hippoglossoides platessoides"
          ],
          [
           "Chordata",
           "Actinopterygii",
           "Pleuronectiformes",
           "Pleuronectidae",
           "Hippoglossoides platessoides"
          ],
          [
           "Chordata",
           "Actinopterygii",
           "Pleuronectiformes",
           "Pleuronectidae",
           "Hippoglossoides platessoides"
          ],
          [
           "Chordata",
           "Actinopterygii",
           "Pleuronectiformes",
           "Pleuronectidae",
           "Hippoglossoides platessoides"
          ]
         ],
         "hovertemplate": "Common Name=American dab<br>Genus=%{x}<br>Species=%{y}<br>phylum=%{customdata[0]}<br>class=%{customdata[1]}<br>order=%{customdata[2]}<br>family=%{customdata[3]}<br>sciName=%{customdata[4]}<extra></extra>",
         "legendgroup": "American dab",
         "marker": {
          "color": "#FECB52",
          "symbol": "circle"
         },
         "mode": "markers",
         "name": "American dab",
         "showlegend": true,
         "type": "scattergl",
         "x": [
          "Hippoglossoides",
          "Hippoglossoides",
          "Hippoglossoides",
          "Hippoglossoides",
          "Hippoglossoides",
          "Hippoglossoides",
          "Hippoglossoides",
          "Hippoglossoides",
          "Hippoglossoides",
          "Hippoglossoides",
          "Hippoglossoides",
          "Hippoglossoides",
          "Hippoglossoides",
          "Hippoglossoides",
          "Hippoglossoides",
          "Hippoglossoides",
          "Hippoglossoides",
          "Hippoglossoides",
          "Hippoglossoides",
          "Hippoglossoides",
          "Hippoglossoides",
          "Hippoglossoides",
          "Hippoglossoides",
          "Hippoglossoides",
          "Hippoglossoides",
          "Hippoglossoides",
          "Hippoglossoides",
          "Hippoglossoides",
          "Hippoglossoides",
          "Hippoglossoides"
         ],
         "xaxis": "x",
         "y": [
          "platessoides",
          "platessoides",
          "platessoides",
          "platessoides",
          "platessoides",
          "platessoides",
          "platessoides",
          "platessoides",
          "platessoides",
          "platessoides",
          "platessoides",
          "platessoides",
          "platessoides",
          "platessoides",
          "platessoides",
          "platessoides",
          "platessoides",
          "platessoides",
          "platessoides",
          "platessoides",
          "platessoides",
          "platessoides",
          "platessoides",
          "platessoides",
          "platessoides",
          "platessoides",
          "platessoides",
          "platessoides",
          "platessoides",
          "platessoides"
         ],
         "yaxis": "y"
        },
        {
         "customdata": [
          [
           "Chordata",
           "Actinopterygii",
           "Salmoniformes",
           "Salmonidae",
           "Salvelinus confluentus"
          ],
          [
           "Chordata",
           "Actinopterygii",
           "Salmoniformes",
           "Salmonidae",
           "Salvelinus confluentus"
          ],
          [
           "Chordata",
           "Actinopterygii",
           "Salmoniformes",
           "Salmonidae",
           "Salvelinus confluentus"
          ],
          [
           "Chordata",
           "Actinopterygii",
           "Salmoniformes",
           "Salmonidae",
           "Salvelinus confluentus"
          ],
          [
           "Chordata",
           "Actinopterygii",
           "Salmoniformes",
           "Salmonidae",
           "Salvelinus confluentus"
          ],
          [
           "Chordata",
           "Actinopterygii",
           "Salmoniformes",
           "Salmonidae",
           "Salvelinus confluentus"
          ],
          [
           "Chordata",
           "Actinopterygii",
           "Salmoniformes",
           "Salmonidae",
           "Salvelinus confluentus"
          ],
          [
           "Chordata",
           "Actinopterygii",
           "Salmoniformes",
           "Salmonidae",
           "Salvelinus confluentus"
          ],
          [
           "Chordata",
           "Actinopterygii",
           "Salmoniformes",
           "Salmonidae",
           "Salvelinus confluentus"
          ]
         ],
         "hovertemplate": "Common Name=bull trout<br>Genus=%{x}<br>Species=%{y}<br>phylum=%{customdata[0]}<br>class=%{customdata[1]}<br>order=%{customdata[2]}<br>family=%{customdata[3]}<br>sciName=%{customdata[4]}<extra></extra>",
         "legendgroup": "bull trout",
         "marker": {
          "color": "#636efa",
          "symbol": "circle"
         },
         "mode": "markers",
         "name": "bull trout",
         "showlegend": true,
         "type": "scattergl",
         "x": [
          "Salvelinus",
          "Salvelinus",
          "Salvelinus",
          "Salvelinus",
          "Salvelinus",
          "Salvelinus",
          "Salvelinus",
          "Salvelinus",
          "Salvelinus"
         ],
         "xaxis": "x",
         "y": [
          "confluentus",
          "confluentus",
          "confluentus",
          "confluentus",
          "confluentus",
          "confluentus",
          "confluentus",
          "confluentus",
          "confluentus"
         ],
         "yaxis": "y"
        }
       ],
       "layout": {
        "legend": {
         "title": {
          "text": "Common Name"
         },
         "tracegroupgap": 0
        },
        "template": {
         "data": {
          "bar": [
           {
            "error_x": {
             "color": "#2a3f5f"
            },
            "error_y": {
             "color": "#2a3f5f"
            },
            "marker": {
             "line": {
              "color": "#E5ECF6",
              "width": 0.5
             },
             "pattern": {
              "fillmode": "overlay",
              "size": 10,
              "solidity": 0.2
             }
            },
            "type": "bar"
           }
          ],
          "barpolar": [
           {
            "marker": {
             "line": {
              "color": "#E5ECF6",
              "width": 0.5
             },
             "pattern": {
              "fillmode": "overlay",
              "size": 10,
              "solidity": 0.2
             }
            },
            "type": "barpolar"
           }
          ],
          "carpet": [
           {
            "aaxis": {
             "endlinecolor": "#2a3f5f",
             "gridcolor": "white",
             "linecolor": "white",
             "minorgridcolor": "white",
             "startlinecolor": "#2a3f5f"
            },
            "baxis": {
             "endlinecolor": "#2a3f5f",
             "gridcolor": "white",
             "linecolor": "white",
             "minorgridcolor": "white",
             "startlinecolor": "#2a3f5f"
            },
            "type": "carpet"
           }
          ],
          "choropleth": [
           {
            "colorbar": {
             "outlinewidth": 0,
             "ticks": ""
            },
            "type": "choropleth"
           }
          ],
          "contour": [
           {
            "colorbar": {
             "outlinewidth": 0,
             "ticks": ""
            },
            "colorscale": [
             [
              0,
              "#0d0887"
             ],
             [
              0.1111111111111111,
              "#46039f"
             ],
             [
              0.2222222222222222,
              "#7201a8"
             ],
             [
              0.3333333333333333,
              "#9c179e"
             ],
             [
              0.4444444444444444,
              "#bd3786"
             ],
             [
              0.5555555555555556,
              "#d8576b"
             ],
             [
              0.6666666666666666,
              "#ed7953"
             ],
             [
              0.7777777777777778,
              "#fb9f3a"
             ],
             [
              0.8888888888888888,
              "#fdca26"
             ],
             [
              1,
              "#f0f921"
             ]
            ],
            "type": "contour"
           }
          ],
          "contourcarpet": [
           {
            "colorbar": {
             "outlinewidth": 0,
             "ticks": ""
            },
            "type": "contourcarpet"
           }
          ],
          "heatmap": [
           {
            "colorbar": {
             "outlinewidth": 0,
             "ticks": ""
            },
            "colorscale": [
             [
              0,
              "#0d0887"
             ],
             [
              0.1111111111111111,
              "#46039f"
             ],
             [
              0.2222222222222222,
              "#7201a8"
             ],
             [
              0.3333333333333333,
              "#9c179e"
             ],
             [
              0.4444444444444444,
              "#bd3786"
             ],
             [
              0.5555555555555556,
              "#d8576b"
             ],
             [
              0.6666666666666666,
              "#ed7953"
             ],
             [
              0.7777777777777778,
              "#fb9f3a"
             ],
             [
              0.8888888888888888,
              "#fdca26"
             ],
             [
              1,
              "#f0f921"
             ]
            ],
            "type": "heatmap"
           }
          ],
          "heatmapgl": [
           {
            "colorbar": {
             "outlinewidth": 0,
             "ticks": ""
            },
            "colorscale": [
             [
              0,
              "#0d0887"
             ],
             [
              0.1111111111111111,
              "#46039f"
             ],
             [
              0.2222222222222222,
              "#7201a8"
             ],
             [
              0.3333333333333333,
              "#9c179e"
             ],
             [
              0.4444444444444444,
              "#bd3786"
             ],
             [
              0.5555555555555556,
              "#d8576b"
             ],
             [
              0.6666666666666666,
              "#ed7953"
             ],
             [
              0.7777777777777778,
              "#fb9f3a"
             ],
             [
              0.8888888888888888,
              "#fdca26"
             ],
             [
              1,
              "#f0f921"
             ]
            ],
            "type": "heatmapgl"
           }
          ],
          "histogram": [
           {
            "marker": {
             "pattern": {
              "fillmode": "overlay",
              "size": 10,
              "solidity": 0.2
             }
            },
            "type": "histogram"
           }
          ],
          "histogram2d": [
           {
            "colorbar": {
             "outlinewidth": 0,
             "ticks": ""
            },
            "colorscale": [
             [
              0,
              "#0d0887"
             ],
             [
              0.1111111111111111,
              "#46039f"
             ],
             [
              0.2222222222222222,
              "#7201a8"
             ],
             [
              0.3333333333333333,
              "#9c179e"
             ],
             [
              0.4444444444444444,
              "#bd3786"
             ],
             [
              0.5555555555555556,
              "#d8576b"
             ],
             [
              0.6666666666666666,
              "#ed7953"
             ],
             [
              0.7777777777777778,
              "#fb9f3a"
             ],
             [
              0.8888888888888888,
              "#fdca26"
             ],
             [
              1,
              "#f0f921"
             ]
            ],
            "type": "histogram2d"
           }
          ],
          "histogram2dcontour": [
           {
            "colorbar": {
             "outlinewidth": 0,
             "ticks": ""
            },
            "colorscale": [
             [
              0,
              "#0d0887"
             ],
             [
              0.1111111111111111,
              "#46039f"
             ],
             [
              0.2222222222222222,
              "#7201a8"
             ],
             [
              0.3333333333333333,
              "#9c179e"
             ],
             [
              0.4444444444444444,
              "#bd3786"
             ],
             [
              0.5555555555555556,
              "#d8576b"
             ],
             [
              0.6666666666666666,
              "#ed7953"
             ],
             [
              0.7777777777777778,
              "#fb9f3a"
             ],
             [
              0.8888888888888888,
              "#fdca26"
             ],
             [
              1,
              "#f0f921"
             ]
            ],
            "type": "histogram2dcontour"
           }
          ],
          "mesh3d": [
           {
            "colorbar": {
             "outlinewidth": 0,
             "ticks": ""
            },
            "type": "mesh3d"
           }
          ],
          "parcoords": [
           {
            "line": {
             "colorbar": {
              "outlinewidth": 0,
              "ticks": ""
             }
            },
            "type": "parcoords"
           }
          ],
          "pie": [
           {
            "automargin": true,
            "type": "pie"
           }
          ],
          "scatter": [
           {
            "fillpattern": {
             "fillmode": "overlay",
             "size": 10,
             "solidity": 0.2
            },
            "type": "scatter"
           }
          ],
          "scatter3d": [
           {
            "line": {
             "colorbar": {
              "outlinewidth": 0,
              "ticks": ""
             }
            },
            "marker": {
             "colorbar": {
              "outlinewidth": 0,
              "ticks": ""
             }
            },
            "type": "scatter3d"
           }
          ],
          "scattercarpet": [
           {
            "marker": {
             "colorbar": {
              "outlinewidth": 0,
              "ticks": ""
             }
            },
            "type": "scattercarpet"
           }
          ],
          "scattergeo": [
           {
            "marker": {
             "colorbar": {
              "outlinewidth": 0,
              "ticks": ""
             }
            },
            "type": "scattergeo"
           }
          ],
          "scattergl": [
           {
            "marker": {
             "colorbar": {
              "outlinewidth": 0,
              "ticks": ""
             }
            },
            "type": "scattergl"
           }
          ],
          "scattermapbox": [
           {
            "marker": {
             "colorbar": {
              "outlinewidth": 0,
              "ticks": ""
             }
            },
            "type": "scattermapbox"
           }
          ],
          "scatterpolar": [
           {
            "marker": {
             "colorbar": {
              "outlinewidth": 0,
              "ticks": ""
             }
            },
            "type": "scatterpolar"
           }
          ],
          "scatterpolargl": [
           {
            "marker": {
             "colorbar": {
              "outlinewidth": 0,
              "ticks": ""
             }
            },
            "type": "scatterpolargl"
           }
          ],
          "scatterternary": [
           {
            "marker": {
             "colorbar": {
              "outlinewidth": 0,
              "ticks": ""
             }
            },
            "type": "scatterternary"
           }
          ],
          "surface": [
           {
            "colorbar": {
             "outlinewidth": 0,
             "ticks": ""
            },
            "colorscale": [
             [
              0,
              "#0d0887"
             ],
             [
              0.1111111111111111,
              "#46039f"
             ],
             [
              0.2222222222222222,
              "#7201a8"
             ],
             [
              0.3333333333333333,
              "#9c179e"
             ],
             [
              0.4444444444444444,
              "#bd3786"
             ],
             [
              0.5555555555555556,
              "#d8576b"
             ],
             [
              0.6666666666666666,
              "#ed7953"
             ],
             [
              0.7777777777777778,
              "#fb9f3a"
             ],
             [
              0.8888888888888888,
              "#fdca26"
             ],
             [
              1,
              "#f0f921"
             ]
            ],
            "type": "surface"
           }
          ],
          "table": [
           {
            "cells": {
             "fill": {
              "color": "#EBF0F8"
             },
             "line": {
              "color": "white"
             }
            },
            "header": {
             "fill": {
              "color": "#C8D4E3"
             },
             "line": {
              "color": "white"
             }
            },
            "type": "table"
           }
          ]
         },
         "layout": {
          "annotationdefaults": {
           "arrowcolor": "#2a3f5f",
           "arrowhead": 0,
           "arrowwidth": 1
          },
          "autotypenumbers": "strict",
          "coloraxis": {
           "colorbar": {
            "outlinewidth": 0,
            "ticks": ""
           }
          },
          "colorscale": {
           "diverging": [
            [
             0,
             "#8e0152"
            ],
            [
             0.1,
             "#c51b7d"
            ],
            [
             0.2,
             "#de77ae"
            ],
            [
             0.3,
             "#f1b6da"
            ],
            [
             0.4,
             "#fde0ef"
            ],
            [
             0.5,
             "#f7f7f7"
            ],
            [
             0.6,
             "#e6f5d0"
            ],
            [
             0.7,
             "#b8e186"
            ],
            [
             0.8,
             "#7fbc41"
            ],
            [
             0.9,
             "#4d9221"
            ],
            [
             1,
             "#276419"
            ]
           ],
           "sequential": [
            [
             0,
             "#0d0887"
            ],
            [
             0.1111111111111111,
             "#46039f"
            ],
            [
             0.2222222222222222,
             "#7201a8"
            ],
            [
             0.3333333333333333,
             "#9c179e"
            ],
            [
             0.4444444444444444,
             "#bd3786"
            ],
            [
             0.5555555555555556,
             "#d8576b"
            ],
            [
             0.6666666666666666,
             "#ed7953"
            ],
            [
             0.7777777777777778,
             "#fb9f3a"
            ],
            [
             0.8888888888888888,
             "#fdca26"
            ],
            [
             1,
             "#f0f921"
            ]
           ],
           "sequentialminus": [
            [
             0,
             "#0d0887"
            ],
            [
             0.1111111111111111,
             "#46039f"
            ],
            [
             0.2222222222222222,
             "#7201a8"
            ],
            [
             0.3333333333333333,
             "#9c179e"
            ],
            [
             0.4444444444444444,
             "#bd3786"
            ],
            [
             0.5555555555555556,
             "#d8576b"
            ],
            [
             0.6666666666666666,
             "#ed7953"
            ],
            [
             0.7777777777777778,
             "#fb9f3a"
            ],
            [
             0.8888888888888888,
             "#fdca26"
            ],
            [
             1,
             "#f0f921"
            ]
           ]
          },
          "colorway": [
           "#636efa",
           "#EF553B",
           "#00cc96",
           "#ab63fa",
           "#FFA15A",
           "#19d3f3",
           "#FF6692",
           "#B6E880",
           "#FF97FF",
           "#FECB52"
          ],
          "font": {
           "color": "#2a3f5f"
          },
          "geo": {
           "bgcolor": "white",
           "lakecolor": "white",
           "landcolor": "#E5ECF6",
           "showlakes": true,
           "showland": true,
           "subunitcolor": "white"
          },
          "hoverlabel": {
           "align": "left"
          },
          "hovermode": "closest",
          "mapbox": {
           "style": "light"
          },
          "paper_bgcolor": "white",
          "plot_bgcolor": "#E5ECF6",
          "polar": {
           "angularaxis": {
            "gridcolor": "white",
            "linecolor": "white",
            "ticks": ""
           },
           "bgcolor": "#E5ECF6",
           "radialaxis": {
            "gridcolor": "white",
            "linecolor": "white",
            "ticks": ""
           }
          },
          "scene": {
           "xaxis": {
            "backgroundcolor": "#E5ECF6",
            "gridcolor": "white",
            "gridwidth": 2,
            "linecolor": "white",
            "showbackground": true,
            "ticks": "",
            "zerolinecolor": "white"
           },
           "yaxis": {
            "backgroundcolor": "#E5ECF6",
            "gridcolor": "white",
            "gridwidth": 2,
            "linecolor": "white",
            "showbackground": true,
            "ticks": "",
            "zerolinecolor": "white"
           },
           "zaxis": {
            "backgroundcolor": "#E5ECF6",
            "gridcolor": "white",
            "gridwidth": 2,
            "linecolor": "white",
            "showbackground": true,
            "ticks": "",
            "zerolinecolor": "white"
           }
          },
          "shapedefaults": {
           "line": {
            "color": "#2a3f5f"
           }
          },
          "ternary": {
           "aaxis": {
            "gridcolor": "white",
            "linecolor": "white",
            "ticks": ""
           },
           "baxis": {
            "gridcolor": "white",
            "linecolor": "white",
            "ticks": ""
           },
           "bgcolor": "#E5ECF6",
           "caxis": {
            "gridcolor": "white",
            "linecolor": "white",
            "ticks": ""
           }
          },
          "title": {
           "x": 0.05
          },
          "xaxis": {
           "automargin": true,
           "gridcolor": "white",
           "linecolor": "white",
           "ticks": "",
           "title": {
            "standoff": 15
           },
           "zerolinecolor": "white",
           "zerolinewidth": 2
          },
          "yaxis": {
           "automargin": true,
           "gridcolor": "white",
           "linecolor": "white",
           "ticks": "",
           "title": {
            "standoff": 15
           },
           "zerolinecolor": "white",
           "zerolinewidth": 2
          }
         }
        },
        "title": {
         "text": "Scatter Plot of Species by Genus and Common Name"
        },
        "xaxis": {
         "anchor": "y",
         "domain": [
          0,
          1
         ],
         "title": {
          "text": "Genus"
         }
        },
        "yaxis": {
         "anchor": "x",
         "domain": [
          0,
          1
         ],
         "title": {
          "text": "Species"
         }
        }
       }
      }
     },
     "metadata": {},
     "output_type": "display_data"
    }
   ],
   "source": [
    "import plotly.express as px\n",
    "\n",
    "fig = px.scatter(pro, \n",
    "                 x='genus', \n",
    "                 y='species',\n",
    "                 color='common',  # Use common names for color coding\n",
    "                 hover_data=[ 'phylum', 'class', 'order', 'family', 'sciName'],  # Hover data without common name since it's used for coloring\n",
    "                 title=\"Scatter Plot of Species by Genus and Common Name\",\n",
    "                 labels={'genus': 'Genus', 'species': 'Species', 'common': 'Common Name'})\n",
    "\n",
    "fig.show()"
   ]
  },
  {
   "cell_type": "markdown",
   "id": "468559a3",
   "metadata": {},
   "source": [
    "**3.1 Checking for imbalanced data**\n",
    "\n",
    "\n",
    "We are checking for the number of each common name in our dataset to ensure there are equal rows for each animal"
   ]
  },
  {
   "cell_type": "code",
   "execution_count": 47,
   "id": "2cb4c50f",
   "metadata": {},
   "outputs": [
    {
     "data": {
      "application/vnd.plotly.v1+json": {
       "config": {
        "plotlyServerURL": "https://plot.ly"
       },
       "data": [
        {
         "alignmentgroup": "True",
         "hovertemplate": "Common Name=%{x}<br>Count=%{marker.color}<extra></extra>",
         "legendgroup": "",
         "marker": {
          "color": [
           30,
           30,
           30,
           30,
           30,
           30,
           30,
           30,
           30,
           30,
           30,
           30,
           30,
           30,
           30,
           30,
           30,
           30,
           30,
           30,
           30,
           30,
           30,
           30,
           30,
           30,
           30,
           30,
           30,
           30,
           30,
           30,
           30,
           30,
           30,
           30,
           30,
           30,
           30,
           30,
           30,
           30,
           30,
           30,
           30,
           30,
           30,
           30,
           30,
           21,
           9
          ],
          "coloraxis": "coloraxis",
          "pattern": {
           "shape": ""
          }
         },
         "name": "",
         "offsetgroup": "",
         "orientation": "v",
         "showlegend": false,
         "text": [
          30,
          30,
          30,
          30,
          30,
          30,
          30,
          30,
          30,
          30,
          30,
          30,
          30,
          30,
          30,
          30,
          30,
          30,
          30,
          30,
          30,
          30,
          30,
          30,
          30,
          30,
          30,
          30,
          30,
          30,
          30,
          30,
          30,
          30,
          30,
          30,
          30,
          30,
          30,
          30,
          30,
          30,
          30,
          30,
          30,
          30,
          30,
          30,
          30,
          21,
          9
         ],
         "textposition": "auto",
         "type": "bar",
         "x": [
          "Fen raft spider",
          "Mexican flameknee tarantula",
          "vernal pool tadpole shrimp",
          "Giraffe Weevil",
          "Blue Ground Beetle",
          "Delta Green Ground Beetle",
          "Giant Jawed Sawyer",
          "Ceruchus chrysomelinus",
          "Crotch bumble bee",
          "Giant Bumble Bee",
          "Mexican Bumble Bee",
          "Morrison Bumblebee",
          "Variable Cuckoo Bumble Bee",
          "dracula ant",
          "Sri Lankan Relict Ant",
          "Crazy Pyramid Ant",
          "Hairy Wood Ant",
          "slave-making ant",
          "Dinosaur Ant",
          "Pheidole neokohli",
          "Broad-headed Slave-making Ant",
          "Black Amazon Ant",
          "Nilgiri Tiger",
          "Cream-tipped Swampdamsel",
          "Japanese Luehdorfia",
          "Cape Thorntail",
          "Rainforest Vicetail",
          "common spiny lobster",
          "red spot reedtail",
          "Predatory Bush-cricket",
          "Black Beauty Stick Insect",
          "pallid sturgeon",
          "Baltic sturgeon",
          "shovelnose sturgeon",
          "bonefish",
          "cubera snapper",
          "Rainford's butterflyfish",
          "rightangled butterflyfish",
          "desert pupfish",
          "Tequila splitfin",
          "silver hake",
          "blackspot tuskfish",
          "hogfish",
          "comouflage grouper",
          "giant sea bass",
          "Greenthroat Darter",
          "red grouper",
          "American dab",
          "black grouper",
          "ant",
          "bull trout"
         ],
         "xaxis": "x",
         "y": [
          30,
          30,
          30,
          30,
          30,
          30,
          30,
          30,
          30,
          30,
          30,
          30,
          30,
          30,
          30,
          30,
          30,
          30,
          30,
          30,
          30,
          30,
          30,
          30,
          30,
          30,
          30,
          30,
          30,
          30,
          30,
          30,
          30,
          30,
          30,
          30,
          30,
          30,
          30,
          30,
          30,
          30,
          30,
          30,
          30,
          30,
          30,
          30,
          30,
          21,
          9
         ],
         "yaxis": "y"
        }
       ],
       "layout": {
        "barmode": "relative",
        "coloraxis": {
         "colorbar": {
          "title": {
           "text": "Count"
          }
         },
         "colorscale": [
          [
           0,
           "#0d0887"
          ],
          [
           0.1111111111111111,
           "#46039f"
          ],
          [
           0.2222222222222222,
           "#7201a8"
          ],
          [
           0.3333333333333333,
           "#9c179e"
          ],
          [
           0.4444444444444444,
           "#bd3786"
          ],
          [
           0.5555555555555556,
           "#d8576b"
          ],
          [
           0.6666666666666666,
           "#ed7953"
          ],
          [
           0.7777777777777778,
           "#fb9f3a"
          ],
          [
           0.8888888888888888,
           "#fdca26"
          ],
          [
           1,
           "#f0f921"
          ]
         ]
        },
        "legend": {
         "tracegroupgap": 0
        },
        "template": {
         "data": {
          "bar": [
           {
            "error_x": {
             "color": "#2a3f5f"
            },
            "error_y": {
             "color": "#2a3f5f"
            },
            "marker": {
             "line": {
              "color": "#E5ECF6",
              "width": 0.5
             },
             "pattern": {
              "fillmode": "overlay",
              "size": 10,
              "solidity": 0.2
             }
            },
            "type": "bar"
           }
          ],
          "barpolar": [
           {
            "marker": {
             "line": {
              "color": "#E5ECF6",
              "width": 0.5
             },
             "pattern": {
              "fillmode": "overlay",
              "size": 10,
              "solidity": 0.2
             }
            },
            "type": "barpolar"
           }
          ],
          "carpet": [
           {
            "aaxis": {
             "endlinecolor": "#2a3f5f",
             "gridcolor": "white",
             "linecolor": "white",
             "minorgridcolor": "white",
             "startlinecolor": "#2a3f5f"
            },
            "baxis": {
             "endlinecolor": "#2a3f5f",
             "gridcolor": "white",
             "linecolor": "white",
             "minorgridcolor": "white",
             "startlinecolor": "#2a3f5f"
            },
            "type": "carpet"
           }
          ],
          "choropleth": [
           {
            "colorbar": {
             "outlinewidth": 0,
             "ticks": ""
            },
            "type": "choropleth"
           }
          ],
          "contour": [
           {
            "colorbar": {
             "outlinewidth": 0,
             "ticks": ""
            },
            "colorscale": [
             [
              0,
              "#0d0887"
             ],
             [
              0.1111111111111111,
              "#46039f"
             ],
             [
              0.2222222222222222,
              "#7201a8"
             ],
             [
              0.3333333333333333,
              "#9c179e"
             ],
             [
              0.4444444444444444,
              "#bd3786"
             ],
             [
              0.5555555555555556,
              "#d8576b"
             ],
             [
              0.6666666666666666,
              "#ed7953"
             ],
             [
              0.7777777777777778,
              "#fb9f3a"
             ],
             [
              0.8888888888888888,
              "#fdca26"
             ],
             [
              1,
              "#f0f921"
             ]
            ],
            "type": "contour"
           }
          ],
          "contourcarpet": [
           {
            "colorbar": {
             "outlinewidth": 0,
             "ticks": ""
            },
            "type": "contourcarpet"
           }
          ],
          "heatmap": [
           {
            "colorbar": {
             "outlinewidth": 0,
             "ticks": ""
            },
            "colorscale": [
             [
              0,
              "#0d0887"
             ],
             [
              0.1111111111111111,
              "#46039f"
             ],
             [
              0.2222222222222222,
              "#7201a8"
             ],
             [
              0.3333333333333333,
              "#9c179e"
             ],
             [
              0.4444444444444444,
              "#bd3786"
             ],
             [
              0.5555555555555556,
              "#d8576b"
             ],
             [
              0.6666666666666666,
              "#ed7953"
             ],
             [
              0.7777777777777778,
              "#fb9f3a"
             ],
             [
              0.8888888888888888,
              "#fdca26"
             ],
             [
              1,
              "#f0f921"
             ]
            ],
            "type": "heatmap"
           }
          ],
          "heatmapgl": [
           {
            "colorbar": {
             "outlinewidth": 0,
             "ticks": ""
            },
            "colorscale": [
             [
              0,
              "#0d0887"
             ],
             [
              0.1111111111111111,
              "#46039f"
             ],
             [
              0.2222222222222222,
              "#7201a8"
             ],
             [
              0.3333333333333333,
              "#9c179e"
             ],
             [
              0.4444444444444444,
              "#bd3786"
             ],
             [
              0.5555555555555556,
              "#d8576b"
             ],
             [
              0.6666666666666666,
              "#ed7953"
             ],
             [
              0.7777777777777778,
              "#fb9f3a"
             ],
             [
              0.8888888888888888,
              "#fdca26"
             ],
             [
              1,
              "#f0f921"
             ]
            ],
            "type": "heatmapgl"
           }
          ],
          "histogram": [
           {
            "marker": {
             "pattern": {
              "fillmode": "overlay",
              "size": 10,
              "solidity": 0.2
             }
            },
            "type": "histogram"
           }
          ],
          "histogram2d": [
           {
            "colorbar": {
             "outlinewidth": 0,
             "ticks": ""
            },
            "colorscale": [
             [
              0,
              "#0d0887"
             ],
             [
              0.1111111111111111,
              "#46039f"
             ],
             [
              0.2222222222222222,
              "#7201a8"
             ],
             [
              0.3333333333333333,
              "#9c179e"
             ],
             [
              0.4444444444444444,
              "#bd3786"
             ],
             [
              0.5555555555555556,
              "#d8576b"
             ],
             [
              0.6666666666666666,
              "#ed7953"
             ],
             [
              0.7777777777777778,
              "#fb9f3a"
             ],
             [
              0.8888888888888888,
              "#fdca26"
             ],
             [
              1,
              "#f0f921"
             ]
            ],
            "type": "histogram2d"
           }
          ],
          "histogram2dcontour": [
           {
            "colorbar": {
             "outlinewidth": 0,
             "ticks": ""
            },
            "colorscale": [
             [
              0,
              "#0d0887"
             ],
             [
              0.1111111111111111,
              "#46039f"
             ],
             [
              0.2222222222222222,
              "#7201a8"
             ],
             [
              0.3333333333333333,
              "#9c179e"
             ],
             [
              0.4444444444444444,
              "#bd3786"
             ],
             [
              0.5555555555555556,
              "#d8576b"
             ],
             [
              0.6666666666666666,
              "#ed7953"
             ],
             [
              0.7777777777777778,
              "#fb9f3a"
             ],
             [
              0.8888888888888888,
              "#fdca26"
             ],
             [
              1,
              "#f0f921"
             ]
            ],
            "type": "histogram2dcontour"
           }
          ],
          "mesh3d": [
           {
            "colorbar": {
             "outlinewidth": 0,
             "ticks": ""
            },
            "type": "mesh3d"
           }
          ],
          "parcoords": [
           {
            "line": {
             "colorbar": {
              "outlinewidth": 0,
              "ticks": ""
             }
            },
            "type": "parcoords"
           }
          ],
          "pie": [
           {
            "automargin": true,
            "type": "pie"
           }
          ],
          "scatter": [
           {
            "fillpattern": {
             "fillmode": "overlay",
             "size": 10,
             "solidity": 0.2
            },
            "type": "scatter"
           }
          ],
          "scatter3d": [
           {
            "line": {
             "colorbar": {
              "outlinewidth": 0,
              "ticks": ""
             }
            },
            "marker": {
             "colorbar": {
              "outlinewidth": 0,
              "ticks": ""
             }
            },
            "type": "scatter3d"
           }
          ],
          "scattercarpet": [
           {
            "marker": {
             "colorbar": {
              "outlinewidth": 0,
              "ticks": ""
             }
            },
            "type": "scattercarpet"
           }
          ],
          "scattergeo": [
           {
            "marker": {
             "colorbar": {
              "outlinewidth": 0,
              "ticks": ""
             }
            },
            "type": "scattergeo"
           }
          ],
          "scattergl": [
           {
            "marker": {
             "colorbar": {
              "outlinewidth": 0,
              "ticks": ""
             }
            },
            "type": "scattergl"
           }
          ],
          "scattermapbox": [
           {
            "marker": {
             "colorbar": {
              "outlinewidth": 0,
              "ticks": ""
             }
            },
            "type": "scattermapbox"
           }
          ],
          "scatterpolar": [
           {
            "marker": {
             "colorbar": {
              "outlinewidth": 0,
              "ticks": ""
             }
            },
            "type": "scatterpolar"
           }
          ],
          "scatterpolargl": [
           {
            "marker": {
             "colorbar": {
              "outlinewidth": 0,
              "ticks": ""
             }
            },
            "type": "scatterpolargl"
           }
          ],
          "scatterternary": [
           {
            "marker": {
             "colorbar": {
              "outlinewidth": 0,
              "ticks": ""
             }
            },
            "type": "scatterternary"
           }
          ],
          "surface": [
           {
            "colorbar": {
             "outlinewidth": 0,
             "ticks": ""
            },
            "colorscale": [
             [
              0,
              "#0d0887"
             ],
             [
              0.1111111111111111,
              "#46039f"
             ],
             [
              0.2222222222222222,
              "#7201a8"
             ],
             [
              0.3333333333333333,
              "#9c179e"
             ],
             [
              0.4444444444444444,
              "#bd3786"
             ],
             [
              0.5555555555555556,
              "#d8576b"
             ],
             [
              0.6666666666666666,
              "#ed7953"
             ],
             [
              0.7777777777777778,
              "#fb9f3a"
             ],
             [
              0.8888888888888888,
              "#fdca26"
             ],
             [
              1,
              "#f0f921"
             ]
            ],
            "type": "surface"
           }
          ],
          "table": [
           {
            "cells": {
             "fill": {
              "color": "#EBF0F8"
             },
             "line": {
              "color": "white"
             }
            },
            "header": {
             "fill": {
              "color": "#C8D4E3"
             },
             "line": {
              "color": "white"
             }
            },
            "type": "table"
           }
          ]
         },
         "layout": {
          "annotationdefaults": {
           "arrowcolor": "#2a3f5f",
           "arrowhead": 0,
           "arrowwidth": 1
          },
          "autotypenumbers": "strict",
          "coloraxis": {
           "colorbar": {
            "outlinewidth": 0,
            "ticks": ""
           }
          },
          "colorscale": {
           "diverging": [
            [
             0,
             "#8e0152"
            ],
            [
             0.1,
             "#c51b7d"
            ],
            [
             0.2,
             "#de77ae"
            ],
            [
             0.3,
             "#f1b6da"
            ],
            [
             0.4,
             "#fde0ef"
            ],
            [
             0.5,
             "#f7f7f7"
            ],
            [
             0.6,
             "#e6f5d0"
            ],
            [
             0.7,
             "#b8e186"
            ],
            [
             0.8,
             "#7fbc41"
            ],
            [
             0.9,
             "#4d9221"
            ],
            [
             1,
             "#276419"
            ]
           ],
           "sequential": [
            [
             0,
             "#0d0887"
            ],
            [
             0.1111111111111111,
             "#46039f"
            ],
            [
             0.2222222222222222,
             "#7201a8"
            ],
            [
             0.3333333333333333,
             "#9c179e"
            ],
            [
             0.4444444444444444,
             "#bd3786"
            ],
            [
             0.5555555555555556,
             "#d8576b"
            ],
            [
             0.6666666666666666,
             "#ed7953"
            ],
            [
             0.7777777777777778,
             "#fb9f3a"
            ],
            [
             0.8888888888888888,
             "#fdca26"
            ],
            [
             1,
             "#f0f921"
            ]
           ],
           "sequentialminus": [
            [
             0,
             "#0d0887"
            ],
            [
             0.1111111111111111,
             "#46039f"
            ],
            [
             0.2222222222222222,
             "#7201a8"
            ],
            [
             0.3333333333333333,
             "#9c179e"
            ],
            [
             0.4444444444444444,
             "#bd3786"
            ],
            [
             0.5555555555555556,
             "#d8576b"
            ],
            [
             0.6666666666666666,
             "#ed7953"
            ],
            [
             0.7777777777777778,
             "#fb9f3a"
            ],
            [
             0.8888888888888888,
             "#fdca26"
            ],
            [
             1,
             "#f0f921"
            ]
           ]
          },
          "colorway": [
           "#636efa",
           "#EF553B",
           "#00cc96",
           "#ab63fa",
           "#FFA15A",
           "#19d3f3",
           "#FF6692",
           "#B6E880",
           "#FF97FF",
           "#FECB52"
          ],
          "font": {
           "color": "#2a3f5f"
          },
          "geo": {
           "bgcolor": "white",
           "lakecolor": "white",
           "landcolor": "#E5ECF6",
           "showlakes": true,
           "showland": true,
           "subunitcolor": "white"
          },
          "hoverlabel": {
           "align": "left"
          },
          "hovermode": "closest",
          "mapbox": {
           "style": "light"
          },
          "paper_bgcolor": "white",
          "plot_bgcolor": "#E5ECF6",
          "polar": {
           "angularaxis": {
            "gridcolor": "white",
            "linecolor": "white",
            "ticks": ""
           },
           "bgcolor": "#E5ECF6",
           "radialaxis": {
            "gridcolor": "white",
            "linecolor": "white",
            "ticks": ""
           }
          },
          "scene": {
           "xaxis": {
            "backgroundcolor": "#E5ECF6",
            "gridcolor": "white",
            "gridwidth": 2,
            "linecolor": "white",
            "showbackground": true,
            "ticks": "",
            "zerolinecolor": "white"
           },
           "yaxis": {
            "backgroundcolor": "#E5ECF6",
            "gridcolor": "white",
            "gridwidth": 2,
            "linecolor": "white",
            "showbackground": true,
            "ticks": "",
            "zerolinecolor": "white"
           },
           "zaxis": {
            "backgroundcolor": "#E5ECF6",
            "gridcolor": "white",
            "gridwidth": 2,
            "linecolor": "white",
            "showbackground": true,
            "ticks": "",
            "zerolinecolor": "white"
           }
          },
          "shapedefaults": {
           "line": {
            "color": "#2a3f5f"
           }
          },
          "ternary": {
           "aaxis": {
            "gridcolor": "white",
            "linecolor": "white",
            "ticks": ""
           },
           "baxis": {
            "gridcolor": "white",
            "linecolor": "white",
            "ticks": ""
           },
           "bgcolor": "#E5ECF6",
           "caxis": {
            "gridcolor": "white",
            "linecolor": "white",
            "ticks": ""
           }
          },
          "title": {
           "x": 0.05
          },
          "xaxis": {
           "automargin": true,
           "gridcolor": "white",
           "linecolor": "white",
           "ticks": "",
           "title": {
            "standoff": 15
           },
           "zerolinecolor": "white",
           "zerolinewidth": 2
          },
          "yaxis": {
           "automargin": true,
           "gridcolor": "white",
           "linecolor": "white",
           "ticks": "",
           "title": {
            "standoff": 15
           },
           "zerolinecolor": "white",
           "zerolinewidth": 2
          }
         }
        },
        "title": {
         "text": "Number of Rows for Each Common Name"
        },
        "xaxis": {
         "anchor": "y",
         "domain": [
          0,
          1
         ],
         "title": {
          "text": "Common Name"
         }
        },
        "yaxis": {
         "anchor": "x",
         "domain": [
          0,
          1
         ],
         "title": {
          "text": "Count"
         }
        }
       }
      }
     },
     "metadata": {},
     "output_type": "display_data"
    }
   ],
   "source": [
    "\n",
    "pro = pro.to_pandas()\n",
    "\n",
    "if isinstance(pro['common'], list):\n",
    "    pro['common'] = pro['common'].apply(lambda x: x[0] if isinstance(x, list) else x)\n",
    "\n",
    "common_name_counts = pro['common'].value_counts().reset_index()\n",
    "common_name_counts.columns = ['common', 'count']\n",
    "\n",
    "fig = px.bar(common_name_counts, \n",
    "             x='common', \n",
    "             y='count',  \n",
    "             title='Number of Rows for Each Common Name',\n",
    "             labels={'common': 'Common Name', 'count': 'Count'}, \n",
    "             color='count',\n",
    "             text='count') \n",
    "\n",
    "fig.show()"
   ]
  },
  {
   "cell_type": "markdown",
   "id": "98d2c1b6",
   "metadata": {},
   "source": [
    "**3.2 We are dropping the imbalanced data that does not have 30 values**"
   ]
  },
  {
   "cell_type": "code",
   "execution_count": 50,
   "id": "161ba128",
   "metadata": {},
   "outputs": [
    {
     "data": {
      "application/vnd.plotly.v1+json": {
       "config": {
        "plotlyServerURL": "https://plot.ly"
       },
       "data": [
        {
         "alignmentgroup": "True",
         "hovertemplate": "Common Name=%{x}<br>Count=%{marker.color}<extra></extra>",
         "legendgroup": "",
         "marker": {
          "color": [
           30,
           30,
           30,
           30,
           30,
           30,
           30,
           30,
           30,
           30,
           30,
           30,
           30,
           30,
           30,
           30,
           30,
           30,
           30,
           30,
           30,
           30,
           30,
           30,
           30,
           30,
           30,
           30,
           30,
           30,
           30,
           30,
           30,
           30,
           30,
           30,
           30,
           30,
           30,
           30,
           30,
           30,
           30,
           30,
           30,
           30,
           30,
           30,
           30
          ],
          "coloraxis": "coloraxis",
          "pattern": {
           "shape": ""
          }
         },
         "name": "",
         "offsetgroup": "",
         "orientation": "v",
         "showlegend": false,
         "text": [
          30,
          30,
          30,
          30,
          30,
          30,
          30,
          30,
          30,
          30,
          30,
          30,
          30,
          30,
          30,
          30,
          30,
          30,
          30,
          30,
          30,
          30,
          30,
          30,
          30,
          30,
          30,
          30,
          30,
          30,
          30,
          30,
          30,
          30,
          30,
          30,
          30,
          30,
          30,
          30,
          30,
          30,
          30,
          30,
          30,
          30,
          30,
          30,
          30
         ],
         "textposition": "auto",
         "type": "bar",
         "x": [
          "Fen raft spider",
          "Mexican flameknee tarantula",
          "vernal pool tadpole shrimp",
          "Giraffe Weevil",
          "Blue Ground Beetle",
          "Delta Green Ground Beetle",
          "Giant Jawed Sawyer",
          "Ceruchus chrysomelinus",
          "Crotch bumble bee",
          "Giant Bumble Bee",
          "Mexican Bumble Bee",
          "Morrison Bumblebee",
          "Variable Cuckoo Bumble Bee",
          "dracula ant",
          "Sri Lankan Relict Ant",
          "Crazy Pyramid Ant",
          "Hairy Wood Ant",
          "slave-making ant",
          "Dinosaur Ant",
          "Pheidole neokohli",
          "Broad-headed Slave-making Ant",
          "Black Amazon Ant",
          "Nilgiri Tiger",
          "Cream-tipped Swampdamsel",
          "Japanese Luehdorfia",
          "Cape Thorntail",
          "Rainforest Vicetail",
          "common spiny lobster",
          "red spot reedtail",
          "Predatory Bush-cricket",
          "Black Beauty Stick Insect",
          "pallid sturgeon",
          "Baltic sturgeon",
          "shovelnose sturgeon",
          "bonefish",
          "cubera snapper",
          "Rainford's butterflyfish",
          "rightangled butterflyfish",
          "desert pupfish",
          "Tequila splitfin",
          "silver hake",
          "blackspot tuskfish",
          "hogfish",
          "comouflage grouper",
          "giant sea bass",
          "Greenthroat Darter",
          "red grouper",
          "American dab",
          "black grouper"
         ],
         "xaxis": "x",
         "y": [
          30,
          30,
          30,
          30,
          30,
          30,
          30,
          30,
          30,
          30,
          30,
          30,
          30,
          30,
          30,
          30,
          30,
          30,
          30,
          30,
          30,
          30,
          30,
          30,
          30,
          30,
          30,
          30,
          30,
          30,
          30,
          30,
          30,
          30,
          30,
          30,
          30,
          30,
          30,
          30,
          30,
          30,
          30,
          30,
          30,
          30,
          30,
          30,
          30
         ],
         "yaxis": "y"
        }
       ],
       "layout": {
        "barmode": "relative",
        "coloraxis": {
         "colorbar": {
          "title": {
           "text": "Count"
          }
         },
         "colorscale": [
          [
           0,
           "#0d0887"
          ],
          [
           0.1111111111111111,
           "#46039f"
          ],
          [
           0.2222222222222222,
           "#7201a8"
          ],
          [
           0.3333333333333333,
           "#9c179e"
          ],
          [
           0.4444444444444444,
           "#bd3786"
          ],
          [
           0.5555555555555556,
           "#d8576b"
          ],
          [
           0.6666666666666666,
           "#ed7953"
          ],
          [
           0.7777777777777778,
           "#fb9f3a"
          ],
          [
           0.8888888888888888,
           "#fdca26"
          ],
          [
           1,
           "#f0f921"
          ]
         ]
        },
        "legend": {
         "tracegroupgap": 0
        },
        "template": {
         "data": {
          "bar": [
           {
            "error_x": {
             "color": "#2a3f5f"
            },
            "error_y": {
             "color": "#2a3f5f"
            },
            "marker": {
             "line": {
              "color": "#E5ECF6",
              "width": 0.5
             },
             "pattern": {
              "fillmode": "overlay",
              "size": 10,
              "solidity": 0.2
             }
            },
            "type": "bar"
           }
          ],
          "barpolar": [
           {
            "marker": {
             "line": {
              "color": "#E5ECF6",
              "width": 0.5
             },
             "pattern": {
              "fillmode": "overlay",
              "size": 10,
              "solidity": 0.2
             }
            },
            "type": "barpolar"
           }
          ],
          "carpet": [
           {
            "aaxis": {
             "endlinecolor": "#2a3f5f",
             "gridcolor": "white",
             "linecolor": "white",
             "minorgridcolor": "white",
             "startlinecolor": "#2a3f5f"
            },
            "baxis": {
             "endlinecolor": "#2a3f5f",
             "gridcolor": "white",
             "linecolor": "white",
             "minorgridcolor": "white",
             "startlinecolor": "#2a3f5f"
            },
            "type": "carpet"
           }
          ],
          "choropleth": [
           {
            "colorbar": {
             "outlinewidth": 0,
             "ticks": ""
            },
            "type": "choropleth"
           }
          ],
          "contour": [
           {
            "colorbar": {
             "outlinewidth": 0,
             "ticks": ""
            },
            "colorscale": [
             [
              0,
              "#0d0887"
             ],
             [
              0.1111111111111111,
              "#46039f"
             ],
             [
              0.2222222222222222,
              "#7201a8"
             ],
             [
              0.3333333333333333,
              "#9c179e"
             ],
             [
              0.4444444444444444,
              "#bd3786"
             ],
             [
              0.5555555555555556,
              "#d8576b"
             ],
             [
              0.6666666666666666,
              "#ed7953"
             ],
             [
              0.7777777777777778,
              "#fb9f3a"
             ],
             [
              0.8888888888888888,
              "#fdca26"
             ],
             [
              1,
              "#f0f921"
             ]
            ],
            "type": "contour"
           }
          ],
          "contourcarpet": [
           {
            "colorbar": {
             "outlinewidth": 0,
             "ticks": ""
            },
            "type": "contourcarpet"
           }
          ],
          "heatmap": [
           {
            "colorbar": {
             "outlinewidth": 0,
             "ticks": ""
            },
            "colorscale": [
             [
              0,
              "#0d0887"
             ],
             [
              0.1111111111111111,
              "#46039f"
             ],
             [
              0.2222222222222222,
              "#7201a8"
             ],
             [
              0.3333333333333333,
              "#9c179e"
             ],
             [
              0.4444444444444444,
              "#bd3786"
             ],
             [
              0.5555555555555556,
              "#d8576b"
             ],
             [
              0.6666666666666666,
              "#ed7953"
             ],
             [
              0.7777777777777778,
              "#fb9f3a"
             ],
             [
              0.8888888888888888,
              "#fdca26"
             ],
             [
              1,
              "#f0f921"
             ]
            ],
            "type": "heatmap"
           }
          ],
          "heatmapgl": [
           {
            "colorbar": {
             "outlinewidth": 0,
             "ticks": ""
            },
            "colorscale": [
             [
              0,
              "#0d0887"
             ],
             [
              0.1111111111111111,
              "#46039f"
             ],
             [
              0.2222222222222222,
              "#7201a8"
             ],
             [
              0.3333333333333333,
              "#9c179e"
             ],
             [
              0.4444444444444444,
              "#bd3786"
             ],
             [
              0.5555555555555556,
              "#d8576b"
             ],
             [
              0.6666666666666666,
              "#ed7953"
             ],
             [
              0.7777777777777778,
              "#fb9f3a"
             ],
             [
              0.8888888888888888,
              "#fdca26"
             ],
             [
              1,
              "#f0f921"
             ]
            ],
            "type": "heatmapgl"
           }
          ],
          "histogram": [
           {
            "marker": {
             "pattern": {
              "fillmode": "overlay",
              "size": 10,
              "solidity": 0.2
             }
            },
            "type": "histogram"
           }
          ],
          "histogram2d": [
           {
            "colorbar": {
             "outlinewidth": 0,
             "ticks": ""
            },
            "colorscale": [
             [
              0,
              "#0d0887"
             ],
             [
              0.1111111111111111,
              "#46039f"
             ],
             [
              0.2222222222222222,
              "#7201a8"
             ],
             [
              0.3333333333333333,
              "#9c179e"
             ],
             [
              0.4444444444444444,
              "#bd3786"
             ],
             [
              0.5555555555555556,
              "#d8576b"
             ],
             [
              0.6666666666666666,
              "#ed7953"
             ],
             [
              0.7777777777777778,
              "#fb9f3a"
             ],
             [
              0.8888888888888888,
              "#fdca26"
             ],
             [
              1,
              "#f0f921"
             ]
            ],
            "type": "histogram2d"
           }
          ],
          "histogram2dcontour": [
           {
            "colorbar": {
             "outlinewidth": 0,
             "ticks": ""
            },
            "colorscale": [
             [
              0,
              "#0d0887"
             ],
             [
              0.1111111111111111,
              "#46039f"
             ],
             [
              0.2222222222222222,
              "#7201a8"
             ],
             [
              0.3333333333333333,
              "#9c179e"
             ],
             [
              0.4444444444444444,
              "#bd3786"
             ],
             [
              0.5555555555555556,
              "#d8576b"
             ],
             [
              0.6666666666666666,
              "#ed7953"
             ],
             [
              0.7777777777777778,
              "#fb9f3a"
             ],
             [
              0.8888888888888888,
              "#fdca26"
             ],
             [
              1,
              "#f0f921"
             ]
            ],
            "type": "histogram2dcontour"
           }
          ],
          "mesh3d": [
           {
            "colorbar": {
             "outlinewidth": 0,
             "ticks": ""
            },
            "type": "mesh3d"
           }
          ],
          "parcoords": [
           {
            "line": {
             "colorbar": {
              "outlinewidth": 0,
              "ticks": ""
             }
            },
            "type": "parcoords"
           }
          ],
          "pie": [
           {
            "automargin": true,
            "type": "pie"
           }
          ],
          "scatter": [
           {
            "fillpattern": {
             "fillmode": "overlay",
             "size": 10,
             "solidity": 0.2
            },
            "type": "scatter"
           }
          ],
          "scatter3d": [
           {
            "line": {
             "colorbar": {
              "outlinewidth": 0,
              "ticks": ""
             }
            },
            "marker": {
             "colorbar": {
              "outlinewidth": 0,
              "ticks": ""
             }
            },
            "type": "scatter3d"
           }
          ],
          "scattercarpet": [
           {
            "marker": {
             "colorbar": {
              "outlinewidth": 0,
              "ticks": ""
             }
            },
            "type": "scattercarpet"
           }
          ],
          "scattergeo": [
           {
            "marker": {
             "colorbar": {
              "outlinewidth": 0,
              "ticks": ""
             }
            },
            "type": "scattergeo"
           }
          ],
          "scattergl": [
           {
            "marker": {
             "colorbar": {
              "outlinewidth": 0,
              "ticks": ""
             }
            },
            "type": "scattergl"
           }
          ],
          "scattermapbox": [
           {
            "marker": {
             "colorbar": {
              "outlinewidth": 0,
              "ticks": ""
             }
            },
            "type": "scattermapbox"
           }
          ],
          "scatterpolar": [
           {
            "marker": {
             "colorbar": {
              "outlinewidth": 0,
              "ticks": ""
             }
            },
            "type": "scatterpolar"
           }
          ],
          "scatterpolargl": [
           {
            "marker": {
             "colorbar": {
              "outlinewidth": 0,
              "ticks": ""
             }
            },
            "type": "scatterpolargl"
           }
          ],
          "scatterternary": [
           {
            "marker": {
             "colorbar": {
              "outlinewidth": 0,
              "ticks": ""
             }
            },
            "type": "scatterternary"
           }
          ],
          "surface": [
           {
            "colorbar": {
             "outlinewidth": 0,
             "ticks": ""
            },
            "colorscale": [
             [
              0,
              "#0d0887"
             ],
             [
              0.1111111111111111,
              "#46039f"
             ],
             [
              0.2222222222222222,
              "#7201a8"
             ],
             [
              0.3333333333333333,
              "#9c179e"
             ],
             [
              0.4444444444444444,
              "#bd3786"
             ],
             [
              0.5555555555555556,
              "#d8576b"
             ],
             [
              0.6666666666666666,
              "#ed7953"
             ],
             [
              0.7777777777777778,
              "#fb9f3a"
             ],
             [
              0.8888888888888888,
              "#fdca26"
             ],
             [
              1,
              "#f0f921"
             ]
            ],
            "type": "surface"
           }
          ],
          "table": [
           {
            "cells": {
             "fill": {
              "color": "#EBF0F8"
             },
             "line": {
              "color": "white"
             }
            },
            "header": {
             "fill": {
              "color": "#C8D4E3"
             },
             "line": {
              "color": "white"
             }
            },
            "type": "table"
           }
          ]
         },
         "layout": {
          "annotationdefaults": {
           "arrowcolor": "#2a3f5f",
           "arrowhead": 0,
           "arrowwidth": 1
          },
          "autotypenumbers": "strict",
          "coloraxis": {
           "colorbar": {
            "outlinewidth": 0,
            "ticks": ""
           }
          },
          "colorscale": {
           "diverging": [
            [
             0,
             "#8e0152"
            ],
            [
             0.1,
             "#c51b7d"
            ],
            [
             0.2,
             "#de77ae"
            ],
            [
             0.3,
             "#f1b6da"
            ],
            [
             0.4,
             "#fde0ef"
            ],
            [
             0.5,
             "#f7f7f7"
            ],
            [
             0.6,
             "#e6f5d0"
            ],
            [
             0.7,
             "#b8e186"
            ],
            [
             0.8,
             "#7fbc41"
            ],
            [
             0.9,
             "#4d9221"
            ],
            [
             1,
             "#276419"
            ]
           ],
           "sequential": [
            [
             0,
             "#0d0887"
            ],
            [
             0.1111111111111111,
             "#46039f"
            ],
            [
             0.2222222222222222,
             "#7201a8"
            ],
            [
             0.3333333333333333,
             "#9c179e"
            ],
            [
             0.4444444444444444,
             "#bd3786"
            ],
            [
             0.5555555555555556,
             "#d8576b"
            ],
            [
             0.6666666666666666,
             "#ed7953"
            ],
            [
             0.7777777777777778,
             "#fb9f3a"
            ],
            [
             0.8888888888888888,
             "#fdca26"
            ],
            [
             1,
             "#f0f921"
            ]
           ],
           "sequentialminus": [
            [
             0,
             "#0d0887"
            ],
            [
             0.1111111111111111,
             "#46039f"
            ],
            [
             0.2222222222222222,
             "#7201a8"
            ],
            [
             0.3333333333333333,
             "#9c179e"
            ],
            [
             0.4444444444444444,
             "#bd3786"
            ],
            [
             0.5555555555555556,
             "#d8576b"
            ],
            [
             0.6666666666666666,
             "#ed7953"
            ],
            [
             0.7777777777777778,
             "#fb9f3a"
            ],
            [
             0.8888888888888888,
             "#fdca26"
            ],
            [
             1,
             "#f0f921"
            ]
           ]
          },
          "colorway": [
           "#636efa",
           "#EF553B",
           "#00cc96",
           "#ab63fa",
           "#FFA15A",
           "#19d3f3",
           "#FF6692",
           "#B6E880",
           "#FF97FF",
           "#FECB52"
          ],
          "font": {
           "color": "#2a3f5f"
          },
          "geo": {
           "bgcolor": "white",
           "lakecolor": "white",
           "landcolor": "#E5ECF6",
           "showlakes": true,
           "showland": true,
           "subunitcolor": "white"
          },
          "hoverlabel": {
           "align": "left"
          },
          "hovermode": "closest",
          "mapbox": {
           "style": "light"
          },
          "paper_bgcolor": "white",
          "plot_bgcolor": "#E5ECF6",
          "polar": {
           "angularaxis": {
            "gridcolor": "white",
            "linecolor": "white",
            "ticks": ""
           },
           "bgcolor": "#E5ECF6",
           "radialaxis": {
            "gridcolor": "white",
            "linecolor": "white",
            "ticks": ""
           }
          },
          "scene": {
           "xaxis": {
            "backgroundcolor": "#E5ECF6",
            "gridcolor": "white",
            "gridwidth": 2,
            "linecolor": "white",
            "showbackground": true,
            "ticks": "",
            "zerolinecolor": "white"
           },
           "yaxis": {
            "backgroundcolor": "#E5ECF6",
            "gridcolor": "white",
            "gridwidth": 2,
            "linecolor": "white",
            "showbackground": true,
            "ticks": "",
            "zerolinecolor": "white"
           },
           "zaxis": {
            "backgroundcolor": "#E5ECF6",
            "gridcolor": "white",
            "gridwidth": 2,
            "linecolor": "white",
            "showbackground": true,
            "ticks": "",
            "zerolinecolor": "white"
           }
          },
          "shapedefaults": {
           "line": {
            "color": "#2a3f5f"
           }
          },
          "ternary": {
           "aaxis": {
            "gridcolor": "white",
            "linecolor": "white",
            "ticks": ""
           },
           "baxis": {
            "gridcolor": "white",
            "linecolor": "white",
            "ticks": ""
           },
           "bgcolor": "#E5ECF6",
           "caxis": {
            "gridcolor": "white",
            "linecolor": "white",
            "ticks": ""
           }
          },
          "title": {
           "x": 0.05
          },
          "xaxis": {
           "automargin": true,
           "gridcolor": "white",
           "linecolor": "white",
           "ticks": "",
           "title": {
            "standoff": 15
           },
           "zerolinecolor": "white",
           "zerolinewidth": 2
          },
          "yaxis": {
           "automargin": true,
           "gridcolor": "white",
           "linecolor": "white",
           "ticks": "",
           "title": {
            "standoff": 15
           },
           "zerolinecolor": "white",
           "zerolinewidth": 2
          }
         }
        },
        "title": {
         "text": "Common Names with Exactly 30 Rows"
        },
        "xaxis": {
         "anchor": "y",
         "domain": [
          0,
          1
         ],
         "title": {
          "text": "Common Name"
         }
        },
        "yaxis": {
         "anchor": "x",
         "domain": [
          0,
          1
         ],
         "title": {
          "text": "Count"
         }
        }
       }
      }
     },
     "metadata": {},
     "output_type": "display_data"
    }
   ],
   "source": [
    "\n",
    "# Check if 'common' is in list format and flatten it if necessary\n",
    "if isinstance(pro['common'], list):\n",
    "    pro['common'] = pro['common'].apply(lambda x: x[0] if isinstance(x, list) else x)\n",
    "\n",
    "# Group by 'common' and count the occurrences\n",
    "common_name_counts = pro['common'].value_counts().reset_index()\n",
    "common_name_counts.columns = ['common', 'count']\n",
    "\n",
    "# Filter out common names that do not have a count of 30\n",
    "common_name_counts = common_name_counts[common_name_counts['count'] == 30]\n",
    "\n",
    "# Check if any common names remain after filtering\n",
    "if common_name_counts.empty:\n",
    "    print(\"No common names with a count of 30.\")\n",
    "else:\n",
    "    # Create a bar graph for the counts of each common name\n",
    "    fig = px.bar(common_name_counts, \n",
    "                 x='common',  # x-axis as common names\n",
    "                 y='count',   # y-axis as count\n",
    "                 title='Common Names with Exactly 30 Rows',  # Title of the bar graph\n",
    "                 labels={'common': 'Common Name', 'count': 'Count'},  # Axis labels\n",
    "                 color='count',  # Color bars by count\n",
    "                 text='count')   # Display counts on bars\n",
    "\n",
    "    # Show the bar graph\n",
    "    fig.show()"
   ]
  },
  {
   "cell_type": "markdown",
   "id": "429186c2",
   "metadata": {},
   "source": [
    "# Encoding\n",
    "**Convert string values into numerical values using LabelEncoder**"
   ]
  },
  {
   "cell_type": "code",
   "execution_count": 57,
   "id": "ff3cb815",
   "metadata": {},
   "outputs": [],
   "source": [
    "from sklearn.preprocessing import LabelEncoder\n",
    "\n",
    "label_encoder = LabelEncoder()\n",
    "for col in ['image', 'phylum', 'class', 'order', 'family', 'genus', 'species', 'sciName']:\n",
    "    pro[col] = label_encoder.fit_transform(pro[col])"
   ]
  },
  {
   "cell_type": "code",
   "execution_count": 59,
   "id": "77013ad5",
   "metadata": {},
   "outputs": [
    {
     "name": "stdout",
     "output_type": "stream",
     "text": [
      "      image  phylum  class  order  family  genus  species  sciName  \\\n",
      "0         0       0      1      2      20     12       33       17   \n",
      "1         1       0      1      2      20     12       33       17   \n",
      "2         2       0      1      2      20     12       33       17   \n",
      "3         3       0      1      2      20     12       33       17   \n",
      "4         4       0      1      2      20     12       33       17   \n",
      "...     ...     ...    ...    ...     ...    ...      ...      ...   \n",
      "1495   1495       1      0     19      25     37        8       45   \n",
      "1496   1496       1      0     19      25     37        8       45   \n",
      "1497   1497       1      0     19      25     37        8       45   \n",
      "1498   1498       1      0     19      25     37        8       45   \n",
      "1499   1499       1      0     19      25     37        8       45   \n",
      "\n",
      "               common  \n",
      "0     Fen raft spider  \n",
      "1     Fen raft spider  \n",
      "2     Fen raft spider  \n",
      "3     Fen raft spider  \n",
      "4     Fen raft spider  \n",
      "...               ...  \n",
      "1495       bull trout  \n",
      "1496       bull trout  \n",
      "1497       bull trout  \n",
      "1498       bull trout  \n",
      "1499       bull trout  \n",
      "\n",
      "[1500 rows x 9 columns]\n"
     ]
    }
   ],
   "source": [
    "print(pro)"
   ]
  },
  {
   "cell_type": "markdown",
   "id": "8bd35019",
   "metadata": {},
   "source": [
    "**Exluding the kingdom because all are animals**"
   ]
  },
  {
   "cell_type": "code",
   "execution_count": 26,
   "id": "439b5462-45eb-465c-9257-d8362583ab6f",
   "metadata": {},
   "outputs": [],
   "source": [
    "array = pro.values\n",
    "X = array[:, 1:8]\n",
    "Y = array[:, 8]\n",
    "validation_size = 0.20\n",
    "seed = 7\n",
    "X_train, X_validation, Y_train, Y_validation =model_selection.train_test_split(X, Y, test_size=validation_size, random_state=seed)"
   ]
  },
  {
   "cell_type": "code",
   "execution_count": 27,
   "id": "15a2d385-70a3-4a92-a40c-f7e07140a887",
   "metadata": {},
   "outputs": [],
   "source": [
    "seed = 42\n",
    "scoring = 'accuracy'"
   ]
  },
  {
   "cell_type": "code",
   "execution_count": 33,
   "id": "8768d0b4-3e85-498b-bbbd-f5efcea2caa5",
   "metadata": {},
   "outputs": [
    {
     "name": "stderr",
     "output_type": "stream",
     "text": [
      "c:\\Users\\Tangeni Matheus\\AppData\\Local\\Programs\\Python\\Python312\\Lib\\site-packages\\sklearn\\linear_model\\_logistic.py:469: ConvergenceWarning: lbfgs failed to converge (status=1):\n",
      "STOP: TOTAL NO. of ITERATIONS REACHED LIMIT.\n",
      "\n",
      "Increase the number of iterations (max_iter) or scale the data as shown in:\n",
      "    https://scikit-learn.org/stable/modules/preprocessing.html\n",
      "Please also refer to the documentation for alternative solver options:\n",
      "    https://scikit-learn.org/stable/modules/linear_model.html#logistic-regression\n",
      "  n_iter_i = _check_optimize_result(\n",
      "c:\\Users\\Tangeni Matheus\\AppData\\Local\\Programs\\Python\\Python312\\Lib\\site-packages\\sklearn\\linear_model\\_logistic.py:469: ConvergenceWarning: lbfgs failed to converge (status=1):\n",
      "STOP: TOTAL NO. of ITERATIONS REACHED LIMIT.\n",
      "\n",
      "Increase the number of iterations (max_iter) or scale the data as shown in:\n",
      "    https://scikit-learn.org/stable/modules/preprocessing.html\n",
      "Please also refer to the documentation for alternative solver options:\n",
      "    https://scikit-learn.org/stable/modules/linear_model.html#logistic-regression\n",
      "  n_iter_i = _check_optimize_result(\n",
      "c:\\Users\\Tangeni Matheus\\AppData\\Local\\Programs\\Python\\Python312\\Lib\\site-packages\\sklearn\\linear_model\\_logistic.py:469: ConvergenceWarning: lbfgs failed to converge (status=1):\n",
      "STOP: TOTAL NO. of ITERATIONS REACHED LIMIT.\n",
      "\n",
      "Increase the number of iterations (max_iter) or scale the data as shown in:\n",
      "    https://scikit-learn.org/stable/modules/preprocessing.html\n",
      "Please also refer to the documentation for alternative solver options:\n",
      "    https://scikit-learn.org/stable/modules/linear_model.html#logistic-regression\n",
      "  n_iter_i = _check_optimize_result(\n",
      "c:\\Users\\Tangeni Matheus\\AppData\\Local\\Programs\\Python\\Python312\\Lib\\site-packages\\sklearn\\linear_model\\_logistic.py:469: ConvergenceWarning: lbfgs failed to converge (status=1):\n",
      "STOP: TOTAL NO. of ITERATIONS REACHED LIMIT.\n",
      "\n",
      "Increase the number of iterations (max_iter) or scale the data as shown in:\n",
      "    https://scikit-learn.org/stable/modules/preprocessing.html\n",
      "Please also refer to the documentation for alternative solver options:\n",
      "    https://scikit-learn.org/stable/modules/linear_model.html#logistic-regression\n",
      "  n_iter_i = _check_optimize_result(\n",
      "c:\\Users\\Tangeni Matheus\\AppData\\Local\\Programs\\Python\\Python312\\Lib\\site-packages\\sklearn\\linear_model\\_logistic.py:469: ConvergenceWarning: lbfgs failed to converge (status=1):\n",
      "STOP: TOTAL NO. of ITERATIONS REACHED LIMIT.\n",
      "\n",
      "Increase the number of iterations (max_iter) or scale the data as shown in:\n",
      "    https://scikit-learn.org/stable/modules/preprocessing.html\n",
      "Please also refer to the documentation for alternative solver options:\n",
      "    https://scikit-learn.org/stable/modules/linear_model.html#logistic-regression\n",
      "  n_iter_i = _check_optimize_result(\n",
      "c:\\Users\\Tangeni Matheus\\AppData\\Local\\Programs\\Python\\Python312\\Lib\\site-packages\\sklearn\\linear_model\\_logistic.py:469: ConvergenceWarning: lbfgs failed to converge (status=1):\n",
      "STOP: TOTAL NO. of ITERATIONS REACHED LIMIT.\n",
      "\n",
      "Increase the number of iterations (max_iter) or scale the data as shown in:\n",
      "    https://scikit-learn.org/stable/modules/preprocessing.html\n",
      "Please also refer to the documentation for alternative solver options:\n",
      "    https://scikit-learn.org/stable/modules/linear_model.html#logistic-regression\n",
      "  n_iter_i = _check_optimize_result(\n",
      "c:\\Users\\Tangeni Matheus\\AppData\\Local\\Programs\\Python\\Python312\\Lib\\site-packages\\sklearn\\linear_model\\_logistic.py:469: ConvergenceWarning: lbfgs failed to converge (status=1):\n",
      "STOP: TOTAL NO. of ITERATIONS REACHED LIMIT.\n",
      "\n",
      "Increase the number of iterations (max_iter) or scale the data as shown in:\n",
      "    https://scikit-learn.org/stable/modules/preprocessing.html\n",
      "Please also refer to the documentation for alternative solver options:\n",
      "    https://scikit-learn.org/stable/modules/linear_model.html#logistic-regression\n",
      "  n_iter_i = _check_optimize_result(\n",
      "c:\\Users\\Tangeni Matheus\\AppData\\Local\\Programs\\Python\\Python312\\Lib\\site-packages\\sklearn\\linear_model\\_logistic.py:469: ConvergenceWarning: lbfgs failed to converge (status=1):\n",
      "STOP: TOTAL NO. of ITERATIONS REACHED LIMIT.\n",
      "\n",
      "Increase the number of iterations (max_iter) or scale the data as shown in:\n",
      "    https://scikit-learn.org/stable/modules/preprocessing.html\n",
      "Please also refer to the documentation for alternative solver options:\n",
      "    https://scikit-learn.org/stable/modules/linear_model.html#logistic-regression\n",
      "  n_iter_i = _check_optimize_result(\n",
      "c:\\Users\\Tangeni Matheus\\AppData\\Local\\Programs\\Python\\Python312\\Lib\\site-packages\\sklearn\\linear_model\\_logistic.py:469: ConvergenceWarning: lbfgs failed to converge (status=1):\n",
      "STOP: TOTAL NO. of ITERATIONS REACHED LIMIT.\n",
      "\n",
      "Increase the number of iterations (max_iter) or scale the data as shown in:\n",
      "    https://scikit-learn.org/stable/modules/preprocessing.html\n",
      "Please also refer to the documentation for alternative solver options:\n",
      "    https://scikit-learn.org/stable/modules/linear_model.html#logistic-regression\n",
      "  n_iter_i = _check_optimize_result(\n",
      "c:\\Users\\Tangeni Matheus\\AppData\\Local\\Programs\\Python\\Python312\\Lib\\site-packages\\sklearn\\linear_model\\_logistic.py:469: ConvergenceWarning: lbfgs failed to converge (status=1):\n",
      "STOP: TOTAL NO. of ITERATIONS REACHED LIMIT.\n",
      "\n",
      "Increase the number of iterations (max_iter) or scale the data as shown in:\n",
      "    https://scikit-learn.org/stable/modules/preprocessing.html\n",
      "Please also refer to the documentation for alternative solver options:\n",
      "    https://scikit-learn.org/stable/modules/linear_model.html#logistic-regression\n",
      "  n_iter_i = _check_optimize_result(\n"
     ]
    },
    {
     "name": "stdout",
     "output_type": "stream",
     "text": [
      "LR: 0.9012 (0.0180)\n",
      "LDA: 1.0000 (0.0000)\n",
      "KNN: 1.0000 (0.0000)\n",
      "CART: 1.0000 (0.0000)\n",
      "NB: 1.0000 (0.0000)\n",
      "SVM: 0.4376 (0.0194)\n"
     ]
    }
   ],
   "source": [
    "models = []\n",
    "models.append(('LR', LogisticRegression()))\n",
    "models.append(('LDA', LinearDiscriminantAnalysis()))\n",
    "models.append(('KNN', KNeighborsClassifier()))\n",
    "models.append(('CART', DecisionTreeClassifier()))\n",
    "models.append(('NB', GaussianNB()))\n",
    "models.append(('SVM', SVC()))\n",
    "\n",
    "\n",
    "#scale the data set because its big.\n",
    "scaler = StandardScaler()\n",
    "X_train_scaled = scaler.fit_transform(X_train)\n",
    "X_validation_scaled = scaler.transform(X_validation)\n",
    "model = LogisticRegression(max_iter=7000)\n",
    "model.fit(X_train_scaled, Y_train)\n",
    "kfold = KFold(n_splits=10, random_state=42, shuffle=True)\n",
    "\n",
    "\n",
    "results = []\n",
    "names = []\n",
    "\n",
    "for name, model in models:\n",
    "    cv_results = cross_val_score(model, X_train, Y_train, cv=kfold, scoring=scoring)\n",
    "    results.append(cv_results)\n",
    "    names.append(name)\n",
    "    msg = f\"{name}: {cv_results.mean():.4f} ({cv_results.std():.4f})\"\n",
    "    print(msg)"
   ]
  },
  {
   "cell_type": "code",
   "execution_count": 34,
   "id": "d99f0ba2-5491-49d5-96db-b1ca9c0280e7",
   "metadata": {},
   "outputs": [
    {
     "data": {
      "image/png": "[encoded data removed]",
      "text/plain": [
       "<Figure size 640x480 with 1 Axes>"
      ]
     },
     "metadata": {},
     "output_type": "display_data"
    }
   ],
   "source": [
    "# Compare Algos\n",
    "fig = plt.figure()\n",
    "fig.suptitle('Algorthm Comparison')\n",
    "ax = fig.add_subplot(111)\n",
    "plt.boxplot(results)\n",
    "ax.set_xticklabels(names)\n",
    "plt.show()"
   ]
  },
  {
   "cell_type": "code",
   "execution_count": 91,
   "id": "f97fabb1-b540-48c8-8f3b-36389dd90fac",
   "metadata": {},
   "outputs": [
    {
     "name": "stdout",
     "output_type": "stream",
     "text": [
      "0.9995828118481435\n",
      "\t=============================================\n",
      "\n",
      "[[167   0   0   0   0   0   0   0   0   0   0   0   0   0   0]\n",
      " [  0 255   0   0   0   0   0   0   0   0   0   0   0   0   0]\n",
      " [  0   0 170   0   0   0   0   0   0   0   0   0   0   0   0]\n",
      " [  0   0   0  14   0   0   0   0   0   0   0   0   0   0   0]\n",
      " [  0   0   0   0 566   0   0   0   0   0   0   0   0   0   0]\n",
      " [  0   0   0   0   0  15   0   0   0   0   0   0   0   0   0]\n",
      " [  0   0   0   0   0   0   5   0   0   0   0   0   0   0   0]\n",
      " [  0   0   0   0   0   0   0 219   0   0   0   0   0   0   0]\n",
      " [  0   0   0   0   0   0   0   0   6   0   0   0   0   0   0]\n",
      " [  0   0   0   0   0   0   0   0   0  18   0   0   0   0   0]\n",
      " [  0   0   0   0   0   0   0   0   0   0  11   0   0   0   0]\n",
      " [  0   0   0   0   0   0   0   0   0   0   0 170   0   0   0]\n",
      " [  0   0   0   0   0   0   0   0   0   0   0   0   8   0   0]\n",
      " [  0   1   0   0   0   0   0   0   0   0   0   0   0 475   0]\n",
      " [  0   0   0   0   0   0   0   0   0   0   0   0   0   0 297]]\n",
      "\t=============================================\n",
      "\n",
      "              precision    recall  f1-score   support\n",
      "\n",
      "           0       1.00      1.00      1.00       167\n",
      "           1       1.00      1.00      1.00       255\n",
      "           2       1.00      1.00      1.00       170\n",
      "           3       1.00      1.00      1.00        14\n",
      "           4       1.00      1.00      1.00       566\n",
      "           5       1.00      1.00      1.00        15\n",
      "           6       1.00      1.00      1.00         5\n",
      "           7       1.00      1.00      1.00       219\n",
      "           8       1.00      1.00      1.00         6\n",
      "           9       1.00      1.00      1.00        18\n",
      "          10       1.00      1.00      1.00        11\n",
      "          11       1.00      1.00      1.00       170\n",
      "          12       1.00      1.00      1.00         8\n",
      "          13       1.00      1.00      1.00       476\n",
      "          14       1.00      1.00      1.00       297\n",
      "\n",
      "    accuracy                           1.00      2397\n",
      "   macro avg       1.00      1.00      1.00      2397\n",
      "weighted avg       1.00      1.00      1.00      2397\n",
      "\n"
     ]
    }
   ],
   "source": [
    "pro = DecisionTreeClassifier()\n",
    "pro.fit(X_train, Y_train)\n",
    "predictions = pro.predict(X_validation)\n",
    "print(accuracy_score(Y_validation, predictions))\n",
    "print(\"\\t=============================================\\n\")\n",
    "print(confusion_matrix(Y_validation, predictions))\n",
    "print(\"\\t=============================================\\n\")\n",
    "print(classification_report(Y_validation, predictions))"
   ]
  },
  {
   "cell_type": "code",
   "execution_count": 101,
   "id": "64422c29-9bcf-4a27-848f-1f9bf508f760",
   "metadata": {},
   "outputs": [],
   "source": [
    "knn = KNeighborsClassifier(n_neighbors=5)"
   ]
  },
  {
   "cell_type": "code",
   "execution_count": 103,
   "id": "1e724c40-4cdc-466c-963b-de27e36a660b",
   "metadata": {},
   "outputs": [],
   "source": [
    "X = iris.data\n",
    "y = iris.target"
   ]
  },
  {
   "cell_type": "code",
   "execution_count": 107,
   "id": "6847740c-6357-48a8-8b76-b92a85667e8b",
   "metadata": {},
   "outputs": [
    {
     "data": {
      "text/html": [
       "<style>#sk-container-id-1 {\n",
       "  /* Definition of color scheme common for light and dark mode */\n",
       "  --sklearn-color-text: black;\n",
       "  --sklearn-color-line: gray;\n",
       "  /* Definition of color scheme for unfitted estimators */\n",
       "  --sklearn-color-unfitted-level-0: #fff5e6;\n",
       "  --sklearn-color-unfitted-level-1: #f6e4d2;\n",
       "  --sklearn-color-unfitted-level-2: #ffe0b3;\n",
       "  --sklearn-color-unfitted-level-3: chocolate;\n",
       "  /* Definition of color scheme for fitted estimators */\n",
       "  --sklearn-color-fitted-level-0: #f0f8ff;\n",
       "  --sklearn-color-fitted-level-1: #d4ebff;\n",
       "  --sklearn-color-fitted-level-2: #b3dbfd;\n",
       "  --sklearn-color-fitted-level-3: cornflowerblue;\n",
       "\n",
       "  /* Specific color for light theme */\n",
       "  --sklearn-color-text-on-default-background: var(--sg-text-color, var(--theme-code-foreground, var(--jp-content-font-color1, black)));\n",
       "  --sklearn-color-background: var(--sg-background-color, var(--theme-background, var(--jp-layout-color0, white)));\n",
       "  --sklearn-color-border-box: var(--sg-text-color, var(--theme-code-foreground, var(--jp-content-font-color1, black)));\n",
       "  --sklearn-color-icon: #696969;\n",
       "\n",
       "  @media (prefers-color-scheme: dark) {\n",
       "    /* Redefinition of color scheme for dark theme */\n",
       "    --sklearn-color-text-on-default-background: var(--sg-text-color, var(--theme-code-foreground, var(--jp-content-font-color1, white)));\n",
       "    --sklearn-color-background: var(--sg-background-color, var(--theme-background, var(--jp-layout-color0, #111)));\n",
       "    --sklearn-color-border-box: var(--sg-text-color, var(--theme-code-foreground, var(--jp-content-font-color1, white)));\n",
       "    --sklearn-color-icon: #878787;\n",
       "  }\n",
       "}\n",
       "\n",
       "#sk-container-id-1 {\n",
       "  color: var(--sklearn-color-text);\n",
       "}\n",
       "\n",
       "#sk-container-id-1 pre {\n",
       "  padding: 0;\n",
       "}\n",
       "\n",
       "#sk-container-id-1 input.sk-hidden--visually {\n",
       "  border: 0;\n",
       "  clip: rect(1px 1px 1px 1px);\n",
       "  clip: rect(1px, 1px, 1px, 1px);\n",
       "  height: 1px;\n",
       "  margin: -1px;\n",
       "  overflow: hidden;\n",
       "  padding: 0;\n",
       "  position: absolute;\n",
       "  width: 1px;\n",
       "}\n",
       "\n",
       "#sk-container-id-1 div.sk-dashed-wrapped {\n",
       "  border: 1px dashed var(--sklearn-color-line);\n",
       "  margin: 0 0.4em 0.5em 0.4em;\n",
       "  box-sizing: border-box;\n",
       "  padding-bottom: 0.4em;\n",
       "  background-color: var(--sklearn-color-background);\n",
       "}\n",
       "\n",
       "#sk-container-id-1 div.sk-container {\n",
       "  /* jupyter's `normalize.less` sets `[hidden] { display: none; }`\n",
       "     but bootstrap.min.css set `[hidden] { display: none !important; }`\n",
       "     so we also need the `!important` here to be able to override the\n",
       "     default hidden behavior on the sphinx rendered scikit-learn.org.\n",
       "     See: https://github.com/scikit-learn/scikit-learn/issues/21755 */\n",
       "  display: inline-block !important;\n",
       "  position: relative;\n",
       "}\n",
       "\n",
       "#sk-container-id-1 div.sk-text-repr-fallback {\n",
       "  display: none;\n",
       "}\n",
       "\n",
       "div.sk-parallel-item,\n",
       "div.sk-serial,\n",
       "div.sk-item {\n",
       "  /* draw centered vertical line to link estimators */\n",
       "  background-image: linear-gradient(var(--sklearn-color-text-on-default-background), var(--sklearn-color-text-on-default-background));\n",
       "  background-size: 2px 100%;\n",
       "  background-repeat: no-repeat;\n",
       "  background-position: center center;\n",
       "}\n",
       "\n",
       "/* Parallel-specific style estimator block */\n",
       "\n",
       "#sk-container-id-1 div.sk-parallel-item::after {\n",
       "  content: \"\";\n",
       "  width: 100%;\n",
       "  border-bottom: 2px solid var(--sklearn-color-text-on-default-background);\n",
       "  flex-grow: 1;\n",
       "}\n",
       "\n",
       "#sk-container-id-1 div.sk-parallel {\n",
       "  display: flex;\n",
       "  align-items: stretch;\n",
       "  justify-content: center;\n",
       "  background-color: var(--sklearn-color-background);\n",
       "  position: relative;\n",
       "}\n",
       "\n",
       "#sk-container-id-1 div.sk-parallel-item {\n",
       "  display: flex;\n",
       "  flex-direction: column;\n",
       "}\n",
       "\n",
       "#sk-container-id-1 div.sk-parallel-item:first-child::after {\n",
       "  align-self: flex-end;\n",
       "  width: 50%;\n",
       "}\n",
       "\n",
       "#sk-container-id-1 div.sk-parallel-item:last-child::after {\n",
       "  align-self: flex-start;\n",
       "  width: 50%;\n",
       "}\n",
       "\n",
       "#sk-container-id-1 div.sk-parallel-item:only-child::after {\n",
       "  width: 0;\n",
       "}\n",
       "\n",
       "/* Serial-specific style estimator block */\n",
       "\n",
       "#sk-container-id-1 div.sk-serial {\n",
       "  display: flex;\n",
       "  flex-direction: column;\n",
       "  align-items: center;\n",
       "  background-color: var(--sklearn-color-background);\n",
       "  padding-right: 1em;\n",
       "  padding-left: 1em;\n",
       "}\n",
       "\n",
       "\n",
       "/* Toggleable style: style used for estimator/Pipeline/ColumnTransformer box that is\n",
       "clickable and can be expanded/collapsed.\n",
       "- Pipeline and ColumnTransformer use this feature and define the default style\n",
       "- Estimators will overwrite some part of the style using the `sk-estimator` class\n",
       "*/\n",
       "\n",
       "/* Pipeline and ColumnTransformer style (default) */\n",
       "\n",
       "#sk-container-id-1 div.sk-toggleable {\n",
       "  /* Default theme specific background. It is overwritten whether we have a\n",
       "  specific estimator or a Pipeline/ColumnTransformer */\n",
       "  background-color: var(--sklearn-color-background);\n",
       "}\n",
       "\n",
       "/* Toggleable label */\n",
       "#sk-container-id-1 label.sk-toggleable__label {\n",
       "  cursor: pointer;\n",
       "  display: block;\n",
       "  width: 100%;\n",
       "  margin-bottom: 0;\n",
       "  padding: 0.5em;\n",
       "  box-sizing: border-box;\n",
       "  text-align: center;\n",
       "}\n",
       "\n",
       "#sk-container-id-1 label.sk-toggleable__label-arrow:before {\n",
       "  /* Arrow on the left of the label */\n",
       "  content: \"▸\";\n",
       "  float: left;\n",
       "  margin-right: 0.25em;\n",
       "  color: var(--sklearn-color-icon);\n",
       "}\n",
       "\n",
       "#sk-container-id-1 label.sk-toggleable__label-arrow:hover:before {\n",
       "  color: var(--sklearn-color-text);\n",
       "}\n",
       "\n",
       "/* Toggleable content - dropdown */\n",
       "\n",
       "#sk-container-id-1 div.sk-toggleable__content {\n",
       "  max-height: 0;\n",
       "  max-width: 0;\n",
       "  overflow: hidden;\n",
       "  text-align: left;\n",
       "  /* unfitted */\n",
       "  background-color: var(--sklearn-color-unfitted-level-0);\n",
       "}\n",
       "\n",
       "#sk-container-id-1 div.sk-toggleable__content.fitted {\n",
       "  /* fitted */\n",
       "  background-color: var(--sklearn-color-fitted-level-0);\n",
       "}\n",
       "\n",
       "#sk-container-id-1 div.sk-toggleable__content pre {\n",
       "  margin: 0.2em;\n",
       "  border-radius: 0.25em;\n",
       "  color: var(--sklearn-color-text);\n",
       "  /* unfitted */\n",
       "  background-color: var(--sklearn-color-unfitted-level-0);\n",
       "}\n",
       "\n",
       "#sk-container-id-1 div.sk-toggleable__content.fitted pre {\n",
       "  /* unfitted */\n",
       "  background-color: var(--sklearn-color-fitted-level-0);\n",
       "}\n",
       "\n",
       "#sk-container-id-1 input.sk-toggleable__control:checked~div.sk-toggleable__content {\n",
       "  /* Expand drop-down */\n",
       "  max-height: 200px;\n",
       "  max-width: 100%;\n",
       "  overflow: auto;\n",
       "}\n",
       "\n",
       "#sk-container-id-1 input.sk-toggleable__control:checked~label.sk-toggleable__label-arrow:before {\n",
       "  content: \"▾\";\n",
       "}\n",
       "\n",
       "/* Pipeline/ColumnTransformer-specific style */\n",
       "\n",
       "#sk-container-id-1 div.sk-label input.sk-toggleable__control:checked~label.sk-toggleable__label {\n",
       "  color: var(--sklearn-color-text);\n",
       "  background-color: var(--sklearn-color-unfitted-level-2);\n",
       "}\n",
       "\n",
       "#sk-container-id-1 div.sk-label.fitted input.sk-toggleable__control:checked~label.sk-toggleable__label {\n",
       "  background-color: var(--sklearn-color-fitted-level-2);\n",
       "}\n",
       "\n",
       "/* Estimator-specific style */\n",
       "\n",
       "/* Colorize estimator box */\n",
       "#sk-container-id-1 div.sk-estimator input.sk-toggleable__control:checked~label.sk-toggleable__label {\n",
       "  /* unfitted */\n",
       "  background-color: var(--sklearn-color-unfitted-level-2);\n",
       "}\n",
       "\n",
       "#sk-container-id-1 div.sk-estimator.fitted input.sk-toggleable__control:checked~label.sk-toggleable__label {\n",
       "  /* fitted */\n",
       "  background-color: var(--sklearn-color-fitted-level-2);\n",
       "}\n",
       "\n",
       "#sk-container-id-1 div.sk-label label.sk-toggleable__label,\n",
       "#sk-container-id-1 div.sk-label label {\n",
       "  /* The background is the default theme color */\n",
       "  color: var(--sklearn-color-text-on-default-background);\n",
       "}\n",
       "\n",
       "/* On hover, darken the color of the background */\n",
       "#sk-container-id-1 div.sk-label:hover label.sk-toggleable__label {\n",
       "  color: var(--sklearn-color-text);\n",
       "  background-color: var(--sklearn-color-unfitted-level-2);\n",
       "}\n",
       "\n",
       "/* Label box, darken color on hover, fitted */\n",
       "#sk-container-id-1 div.sk-label.fitted:hover label.sk-toggleable__label.fitted {\n",
       "  color: var(--sklearn-color-text);\n",
       "  background-color: var(--sklearn-color-fitted-level-2);\n",
       "}\n",
       "\n",
       "/* Estimator label */\n",
       "\n",
       "#sk-container-id-1 div.sk-label label {\n",
       "  font-family: monospace;\n",
       "  font-weight: bold;\n",
       "  display: inline-block;\n",
       "  line-height: 1.2em;\n",
       "}\n",
       "\n",
       "#sk-container-id-1 div.sk-label-container {\n",
       "  text-align: center;\n",
       "}\n",
       "\n",
       "/* Estimator-specific */\n",
       "#sk-container-id-1 div.sk-estimator {\n",
       "  font-family: monospace;\n",
       "  border: 1px dotted var(--sklearn-color-border-box);\n",
       "  border-radius: 0.25em;\n",
       "  box-sizing: border-box;\n",
       "  margin-bottom: 0.5em;\n",
       "  /* unfitted */\n",
       "  background-color: var(--sklearn-color-unfitted-level-0);\n",
       "}\n",
       "\n",
       "#sk-container-id-1 div.sk-estimator.fitted {\n",
       "  /* fitted */\n",
       "  background-color: var(--sklearn-color-fitted-level-0);\n",
       "}\n",
       "\n",
       "/* on hover */\n",
       "#sk-container-id-1 div.sk-estimator:hover {\n",
       "  /* unfitted */\n",
       "  background-color: var(--sklearn-color-unfitted-level-2);\n",
       "}\n",
       "\n",
       "#sk-container-id-1 div.sk-estimator.fitted:hover {\n",
       "  /* fitted */\n",
       "  background-color: var(--sklearn-color-fitted-level-2);\n",
       "}\n",
       "\n",
       "/* Specification for estimator info (e.g. \"i\" and \"?\") */\n",
       "\n",
       "/* Common style for \"i\" and \"?\" */\n",
       "\n",
       ".sk-estimator-doc-link,\n",
       "a:link.sk-estimator-doc-link,\n",
       "a:visited.sk-estimator-doc-link {\n",
       "  float: right;\n",
       "  font-size: smaller;\n",
       "  line-height: 1em;\n",
       "  font-family: monospace;\n",
       "  background-color: var(--sklearn-color-background);\n",
       "  border-radius: 1em;\n",
       "  height: 1em;\n",
       "  width: 1em;\n",
       "  text-decoration: none !important;\n",
       "  margin-left: 1ex;\n",
       "  /* unfitted */\n",
       "  border: var(--sklearn-color-unfitted-level-1) 1pt solid;\n",
       "  color: var(--sklearn-color-unfitted-level-1);\n",
       "}\n",
       "\n",
       ".sk-estimator-doc-link.fitted,\n",
       "a:link.sk-estimator-doc-link.fitted,\n",
       "a:visited.sk-estimator-doc-link.fitted {\n",
       "  /* fitted */\n",
       "  border: var(--sklearn-color-fitted-level-1) 1pt solid;\n",
       "  color: var(--sklearn-color-fitted-level-1);\n",
       "}\n",
       "\n",
       "/* On hover */\n",
       "div.sk-estimator:hover .sk-estimator-doc-link:hover,\n",
       ".sk-estimator-doc-link:hover,\n",
       "div.sk-label-container:hover .sk-estimator-doc-link:hover,\n",
       ".sk-estimator-doc-link:hover {\n",
       "  /* unfitted */\n",
       "  background-color: var(--sklearn-color-unfitted-level-3);\n",
       "  color: var(--sklearn-color-background);\n",
       "  text-decoration: none;\n",
       "}\n",
       "\n",
       "div.sk-estimator.fitted:hover .sk-estimator-doc-link.fitted:hover,\n",
       ".sk-estimator-doc-link.fitted:hover,\n",
       "div.sk-label-container:hover .sk-estimator-doc-link.fitted:hover,\n",
       ".sk-estimator-doc-link.fitted:hover {\n",
       "  /* fitted */\n",
       "  background-color: var(--sklearn-color-fitted-level-3);\n",
       "  color: var(--sklearn-color-background);\n",
       "  text-decoration: none;\n",
       "}\n",
       "\n",
       "/* Span, style for the box shown on hovering the info icon */\n",
       ".sk-estimator-doc-link span {\n",
       "  display: none;\n",
       "  z-index: 9999;\n",
       "  position: relative;\n",
       "  font-weight: normal;\n",
       "  right: .2ex;\n",
       "  padding: .5ex;\n",
       "  margin: .5ex;\n",
       "  width: min-content;\n",
       "  min-width: 20ex;\n",
       "  max-width: 50ex;\n",
       "  color: var(--sklearn-color-text);\n",
       "  box-shadow: 2pt 2pt 4pt #999;\n",
       "  /* unfitted */\n",
       "  background: var(--sklearn-color-unfitted-level-0);\n",
       "  border: .5pt solid var(--sklearn-color-unfitted-level-3);\n",
       "}\n",
       "\n",
       ".sk-estimator-doc-link.fitted span {\n",
       "  /* fitted */\n",
       "  background: var(--sklearn-color-fitted-level-0);\n",
       "  border: var(--sklearn-color-fitted-level-3);\n",
       "}\n",
       "\n",
       ".sk-estimator-doc-link:hover span {\n",
       "  display: block;\n",
       "}\n",
       "\n",
       "/* \"?\"-specific style due to the `<a>` HTML tag */\n",
       "\n",
       "#sk-container-id-1 a.estimator_doc_link {\n",
       "  float: right;\n",
       "  font-size: 1rem;\n",
       "  line-height: 1em;\n",
       "  font-family: monospace;\n",
       "  background-color: var(--sklearn-color-background);\n",
       "  border-radius: 1rem;\n",
       "  height: 1rem;\n",
       "  width: 1rem;\n",
       "  text-decoration: none;\n",
       "  /* unfitted */\n",
       "  color: var(--sklearn-color-unfitted-level-1);\n",
       "  border: var(--sklearn-color-unfitted-level-1) 1pt solid;\n",
       "}\n",
       "\n",
       "#sk-container-id-1 a.estimator_doc_link.fitted {\n",
       "  /* fitted */\n",
       "  border: var(--sklearn-color-fitted-level-1) 1pt solid;\n",
       "  color: var(--sklearn-color-fitted-level-1);\n",
       "}\n",
       "\n",
       "/* On hover */\n",
       "#sk-container-id-1 a.estimator_doc_link:hover {\n",
       "  /* unfitted */\n",
       "  background-color: var(--sklearn-color-unfitted-level-3);\n",
       "  color: var(--sklearn-color-background);\n",
       "  text-decoration: none;\n",
       "}\n",
       "\n",
       "#sk-container-id-1 a.estimator_doc_link.fitted:hover {\n",
       "  /* fitted */\n",
       "  background-color: var(--sklearn-color-fitted-level-3);\n",
       "}\n",
       "</style><div id=\"sk-container-id-1\" class=\"sk-top-container\"><div class=\"sk-text-repr-fallback\"><pre>KNeighborsClassifier()</pre><b>In a Jupyter environment, please rerun this cell to show the HTML representation or trust the notebook. <br />On GitHub, the HTML representation is unable to render, please try loading this page with nbviewer.org.</b></div><div class=\"sk-container\" hidden><div class=\"sk-item\"><div class=\"sk-estimator fitted sk-toggleable\"><input class=\"sk-toggleable__control sk-hidden--visually\" id=\"sk-estimator-id-1\" type=\"checkbox\" checked><label for=\"sk-estimator-id-1\" class=\"sk-toggleable__label fitted sk-toggleable__label-arrow fitted\">&nbsp;&nbsp;KNeighborsClassifier<a class=\"sk-estimator-doc-link fitted\" rel=\"noreferrer\" target=\"_blank\" href=\"https://scikit-learn.org/1.4/modules/generated/sklearn.neighbors.KNeighborsClassifier.html\">?<span>Documentation for KNeighborsClassifier</span></a><span class=\"sk-estimator-doc-link fitted\">i<span>Fitted</span></span></label><div class=\"sk-toggleable__content fitted\"><pre>KNeighborsClassifier()</pre></div> </div></div></div></div>"
      ],
      "text/plain": [
       "KNeighborsClassifier()"
      ]
     },
     "execution_count": 107,
     "metadata": {},
     "output_type": "execute_result"
    }
   ],
   "source": [
    "knn.fit(X,y)"
   ]
  },
  {
   "cell_type": "code",
   "execution_count": 109,
   "id": "299a7314-2d60-44d9-9984-be7abbd9f3cc",
   "metadata": {},
   "outputs": [
    {
     "data": {
      "text/plain": [
       "array([0, 0, 0, 0, 0, 0, 0, 0, 0, 0, 0, 0, 0, 0, 0, 0, 0, 0, 0, 0, 0, 0,\n",
       "       0, 0, 0, 0, 0, 0, 0, 0, 0, 0, 0, 0, 0, 0, 0, 0, 0, 0, 0, 0, 0, 0,\n",
       "       0, 0, 0, 0, 0, 0, 1, 1, 1, 1, 1, 1, 1, 1, 1, 1, 1, 1, 1, 1, 1, 1,\n",
       "       1, 1, 1, 1, 2, 1, 2, 1, 1, 1, 1, 1, 1, 1, 1, 1, 1, 2, 1, 1, 1, 1,\n",
       "       1, 1, 1, 1, 1, 1, 1, 1, 1, 1, 1, 1, 2, 2, 2, 2, 2, 2, 1, 2, 2, 2,\n",
       "       2, 2, 2, 2, 2, 2, 2, 2, 2, 1, 2, 2, 2, 2, 2, 2, 2, 2, 2, 2, 2, 2,\n",
       "       2, 2, 2, 2, 2, 2, 2, 2, 2, 2, 2, 2, 2, 2, 2, 2, 2, 2])"
      ]
     },
     "execution_count": 109,
     "metadata": {},
     "output_type": "execute_result"
    }
   ],
   "source": [
    "knn.predict(iris.data)"
   ]
  },
  {
   "cell_type": "code",
   "execution_count": null,
   "id": "d26527f8-af57-4e72-8ee8-24dbfc59c8bd",
   "metadata": {},
   "outputs": [],
   "source": []
  }
 ],
 "metadata": {
  "kernelspec": {
   "display_name": "Python 3 (ipykernel)",
   "language": "python",
   "name": "python3"
  },
  "language_info": {
   "codemirror_mode": {
    "name": "ipython",
    "version": 3
   },
   "file_extension": ".py",
   "mimetype": "text/x-python",
   "name": "python",
   "nbconvert_exporter": "python",
   "pygments_lexer": "ipython3",
   "version": "3.12.0"
  }
 },
 "nbformat": 4,
 "nbformat_minor": 5
}
