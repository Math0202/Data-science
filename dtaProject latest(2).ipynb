{
 "cells": [
  {
   "cell_type": "code",
   "execution_count": 2,
   "id": "455e54ab-1c41-49ca-bd23-3d514f4fc4bf",
   "metadata": {},
   "outputs": [
    {
     "data": {
      "text/html": [
       "<div>\n",
       "<style scoped>\n",
       "    .dataframe tbody tr th:only-of-type {\n",
       "        vertical-align: middle;\n",
       "    }\n",
       "\n",
       "    .dataframe tbody tr th {\n",
       "        vertical-align: top;\n",
       "    }\n",
       "\n",
       "    .dataframe thead th {\n",
       "        text-align: right;\n",
       "    }\n",
       "</style>\n",
       "<table border=\"1\" class=\"dataframe\">\n",
       "  <thead>\n",
       "    <tr style=\"text-align: right;\">\n",
       "      <th></th>\n",
       "      <th>rarespecies_id</th>\n",
       "      <th>eol_content_id</th>\n",
       "      <th>eol_page_id</th>\n",
       "      <th>kingdom</th>\n",
       "      <th>class</th>\n",
       "      <th>order</th>\n",
       "      <th>family</th>\n",
       "      <th>genus</th>\n",
       "      <th>species</th>\n",
       "      <th>sciName</th>\n",
       "      <th>common</th>\n",
       "      <th>file_name</th>\n",
       "      <th>phylum</th>\n",
       "    </tr>\n",
       "  </thead>\n",
       "  <tbody>\n",
       "    <tr>\n",
       "      <th>0</th>\n",
       "      <td>dc48f2ce-4feb-4ef7-b2a2-c3c3f42bf19b</td>\n",
       "      <td>28657539</td>\n",
       "      <td>491832</td>\n",
       "      <td>Animalia</td>\n",
       "      <td>Insecta</td>\n",
       "      <td>Hymenoptera</td>\n",
       "      <td>Formicidae</td>\n",
       "      <td>Adetomyrma</td>\n",
       "      <td>venatrix</td>\n",
       "      <td>Adetomyrma venatrix</td>\n",
       "      <td>dracula ant</td>\n",
       "      <td>dataset/Animalia-Arthropoda-Insecta-Hymenopter...</td>\n",
       "      <td>Arthropoda</td>\n",
       "    </tr>\n",
       "    <tr>\n",
       "      <th>1</th>\n",
       "      <td>7faca96a-54e6-4c80-b9e4-77ab126d904a</td>\n",
       "      <td>21232818</td>\n",
       "      <td>1033999</td>\n",
       "      <td>Animalia</td>\n",
       "      <td>Insecta</td>\n",
       "      <td>Odonata</td>\n",
       "      <td>Gomphidae</td>\n",
       "      <td>Hemigomphus</td>\n",
       "      <td>theischingeri</td>\n",
       "      <td>Hemigomphus theischingeri</td>\n",
       "      <td>Rainforest Vicetail</td>\n",
       "      <td>dataset/Animalia-Arthropoda-Insecta-Odonata-Go...</td>\n",
       "      <td>Arthropoda</td>\n",
       "    </tr>\n",
       "    <tr>\n",
       "      <th>2</th>\n",
       "      <td>16b767da-7b35-4f76-8ef7-0835148b760f</td>\n",
       "      <td>29911923</td>\n",
       "      <td>132324</td>\n",
       "      <td>Animalia</td>\n",
       "      <td>Insecta</td>\n",
       "      <td>Odonata</td>\n",
       "      <td>Platystictidae</td>\n",
       "      <td>Protosticta</td>\n",
       "      <td>sanguinostigma</td>\n",
       "      <td>Protosticta sanguinostigma</td>\n",
       "      <td>red spot reedtail</td>\n",
       "      <td>dataset/Animalia-Arthropoda-Insecta-Odonata-Pl...</td>\n",
       "      <td>Arthropoda</td>\n",
       "    </tr>\n",
       "    <tr>\n",
       "      <th>3</th>\n",
       "      <td>32e472b8-722a-4983-8fe5-a0605e330c1b</td>\n",
       "      <td>29856158</td>\n",
       "      <td>485420</td>\n",
       "      <td>Animalia</td>\n",
       "      <td>Insecta</td>\n",
       "      <td>Hymenoptera</td>\n",
       "      <td>Formicidae</td>\n",
       "      <td>Pheidole</td>\n",
       "      <td>elecebra</td>\n",
       "      <td>Pheidole elecebra</td>\n",
       "      <td>ant</td>\n",
       "      <td>dataset/Animalia-Arthropoda-Insecta-Hymenopter...</td>\n",
       "      <td>Arthropoda</td>\n",
       "    </tr>\n",
       "    <tr>\n",
       "      <th>4</th>\n",
       "      <td>81e2349d-0634-4f34-8b31-384f1d1d81f2</td>\n",
       "      <td>29372149</td>\n",
       "      <td>354871</td>\n",
       "      <td>Animalia</td>\n",
       "      <td>Insecta</td>\n",
       "      <td>Coleoptera</td>\n",
       "      <td>Cerambycidae</td>\n",
       "      <td>Macrodontia</td>\n",
       "      <td>cervicornis</td>\n",
       "      <td>Macrodontia cervicornis</td>\n",
       "      <td>Giant Jawed Sawyer</td>\n",
       "      <td>dataset/Animalia-Arthropoda-Insecta-Coleoptera...</td>\n",
       "      <td>Arthropoda</td>\n",
       "    </tr>\n",
       "    <tr>\n",
       "      <th>...</th>\n",
       "      <td>...</td>\n",
       "      <td>...</td>\n",
       "      <td>...</td>\n",
       "      <td>...</td>\n",
       "      <td>...</td>\n",
       "      <td>...</td>\n",
       "      <td>...</td>\n",
       "      <td>...</td>\n",
       "      <td>...</td>\n",
       "      <td>...</td>\n",
       "      <td>...</td>\n",
       "      <td>...</td>\n",
       "      <td>...</td>\n",
       "    </tr>\n",
       "    <tr>\n",
       "      <th>11978</th>\n",
       "      <td>c74baf60-4a1d-4845-bce6-ba486548766d</td>\n",
       "      <td>2751830</td>\n",
       "      <td>46473744</td>\n",
       "      <td>Animalia</td>\n",
       "      <td>Bivalvia</td>\n",
       "      <td>Cardiida</td>\n",
       "      <td>Cardiidae</td>\n",
       "      <td>Tridacna</td>\n",
       "      <td>gigas</td>\n",
       "      <td>Tridacna gigas</td>\n",
       "      <td>Gigas Giant Clam</td>\n",
       "      <td>dataset/Animalia-Mollusca-Bivalvia-Cardiida-Ca...</td>\n",
       "      <td>Mollusca</td>\n",
       "    </tr>\n",
       "    <tr>\n",
       "      <th>11979</th>\n",
       "      <td>b8c44794-14bf-4a3d-ad7f-cd4ea00a21e7</td>\n",
       "      <td>22914588</td>\n",
       "      <td>46473747</td>\n",
       "      <td>Animalia</td>\n",
       "      <td>Bivalvia</td>\n",
       "      <td>Cardiida</td>\n",
       "      <td>Cardiidae</td>\n",
       "      <td>Tridacna</td>\n",
       "      <td>squamosa</td>\n",
       "      <td>Tridacna squamosa</td>\n",
       "      <td>Fluted Giant Clam</td>\n",
       "      <td>dataset/Animalia-Mollusca-Bivalvia-Cardiida-Ca...</td>\n",
       "      <td>Mollusca</td>\n",
       "    </tr>\n",
       "    <tr>\n",
       "      <th>11980</th>\n",
       "      <td>34be9673-fa25-4d7d-9022-2740b6f34fcb</td>\n",
       "      <td>20298397</td>\n",
       "      <td>4792502</td>\n",
       "      <td>Animalia</td>\n",
       "      <td>Gastropoda</td>\n",
       "      <td>Lepetellida</td>\n",
       "      <td>Haliotidae</td>\n",
       "      <td>Haliotis</td>\n",
       "      <td>roei</td>\n",
       "      <td>Haliotis roei</td>\n",
       "      <td>Roe's abalone</td>\n",
       "      <td>dataset/Animalia-Mollusca-Gastropoda-Lepetelli...</td>\n",
       "      <td>Mollusca</td>\n",
       "    </tr>\n",
       "    <tr>\n",
       "      <th>11981</th>\n",
       "      <td>a629ccce-bda5-486a-a39f-b805ec70fd52</td>\n",
       "      <td>21566265</td>\n",
       "      <td>449459</td>\n",
       "      <td>Animalia</td>\n",
       "      <td>Bivalvia</td>\n",
       "      <td>Unionida</td>\n",
       "      <td>Unionidae</td>\n",
       "      <td>Potamilus</td>\n",
       "      <td>amphichaenus</td>\n",
       "      <td>Potamilus amphichaenus</td>\n",
       "      <td>Texas heelsplitter</td>\n",
       "      <td>dataset/Animalia-Mollusca-Bivalvia-Unionida-Un...</td>\n",
       "      <td>Mollusca</td>\n",
       "    </tr>\n",
       "    <tr>\n",
       "      <th>11982</th>\n",
       "      <td>f56af9c5-72b9-4252-9e61-00e32bf08c91</td>\n",
       "      <td>12835846</td>\n",
       "      <td>46454284</td>\n",
       "      <td>Animalia</td>\n",
       "      <td>Gastropoda</td>\n",
       "      <td>Neogastropoda</td>\n",
       "      <td>Conidae</td>\n",
       "      <td>Conus</td>\n",
       "      <td>mercator</td>\n",
       "      <td>Conus mercator</td>\n",
       "      <td>Merchant Cone</td>\n",
       "      <td>dataset/Animalia-Mollusca-Gastropoda-Neogastro...</td>\n",
       "      <td>Mollusca</td>\n",
       "    </tr>\n",
       "  </tbody>\n",
       "</table>\n",
       "<p>11983 rows × 13 columns</p>\n",
       "</div>"
      ],
      "text/plain": [
       "                             rarespecies_id  eol_content_id  eol_page_id  \\\n",
       "0      dc48f2ce-4feb-4ef7-b2a2-c3c3f42bf19b        28657539       491832   \n",
       "1      7faca96a-54e6-4c80-b9e4-77ab126d904a        21232818      1033999   \n",
       "2      16b767da-7b35-4f76-8ef7-0835148b760f        29911923       132324   \n",
       "3      32e472b8-722a-4983-8fe5-a0605e330c1b        29856158       485420   \n",
       "4      81e2349d-0634-4f34-8b31-384f1d1d81f2        29372149       354871   \n",
       "...                                     ...             ...          ...   \n",
       "11978  c74baf60-4a1d-4845-bce6-ba486548766d         2751830     46473744   \n",
       "11979  b8c44794-14bf-4a3d-ad7f-cd4ea00a21e7        22914588     46473747   \n",
       "11980  34be9673-fa25-4d7d-9022-2740b6f34fcb        20298397      4792502   \n",
       "11981  a629ccce-bda5-486a-a39f-b805ec70fd52        21566265       449459   \n",
       "11982  f56af9c5-72b9-4252-9e61-00e32bf08c91        12835846     46454284   \n",
       "\n",
       "        kingdom       class          order          family        genus  \\\n",
       "0      Animalia     Insecta    Hymenoptera      Formicidae   Adetomyrma   \n",
       "1      Animalia     Insecta        Odonata       Gomphidae  Hemigomphus   \n",
       "2      Animalia     Insecta        Odonata  Platystictidae  Protosticta   \n",
       "3      Animalia     Insecta    Hymenoptera      Formicidae     Pheidole   \n",
       "4      Animalia     Insecta     Coleoptera    Cerambycidae  Macrodontia   \n",
       "...         ...         ...            ...             ...          ...   \n",
       "11978  Animalia    Bivalvia       Cardiida       Cardiidae     Tridacna   \n",
       "11979  Animalia    Bivalvia       Cardiida       Cardiidae     Tridacna   \n",
       "11980  Animalia  Gastropoda    Lepetellida      Haliotidae     Haliotis   \n",
       "11981  Animalia    Bivalvia       Unionida       Unionidae    Potamilus   \n",
       "11982  Animalia  Gastropoda  Neogastropoda         Conidae        Conus   \n",
       "\n",
       "              species                     sciName               common  \\\n",
       "0            venatrix         Adetomyrma venatrix          dracula ant   \n",
       "1       theischingeri   Hemigomphus theischingeri  Rainforest Vicetail   \n",
       "2      sanguinostigma  Protosticta sanguinostigma    red spot reedtail   \n",
       "3            elecebra           Pheidole elecebra                  ant   \n",
       "4         cervicornis     Macrodontia cervicornis   Giant Jawed Sawyer   \n",
       "...               ...                         ...                  ...   \n",
       "11978           gigas              Tridacna gigas     Gigas Giant Clam   \n",
       "11979        squamosa           Tridacna squamosa    Fluted Giant Clam   \n",
       "11980            roei               Haliotis roei        Roe's abalone   \n",
       "11981    amphichaenus      Potamilus amphichaenus   Texas heelsplitter   \n",
       "11982        mercator              Conus mercator        Merchant Cone   \n",
       "\n",
       "                                               file_name      phylum  \n",
       "0      dataset/Animalia-Arthropoda-Insecta-Hymenopter...  Arthropoda  \n",
       "1      dataset/Animalia-Arthropoda-Insecta-Odonata-Go...  Arthropoda  \n",
       "2      dataset/Animalia-Arthropoda-Insecta-Odonata-Pl...  Arthropoda  \n",
       "3      dataset/Animalia-Arthropoda-Insecta-Hymenopter...  Arthropoda  \n",
       "4      dataset/Animalia-Arthropoda-Insecta-Coleoptera...  Arthropoda  \n",
       "...                                                  ...         ...  \n",
       "11978  dataset/Animalia-Mollusca-Bivalvia-Cardiida-Ca...    Mollusca  \n",
       "11979  dataset/Animalia-Mollusca-Bivalvia-Cardiida-Ca...    Mollusca  \n",
       "11980  dataset/Animalia-Mollusca-Gastropoda-Lepetelli...    Mollusca  \n",
       "11981  dataset/Animalia-Mollusca-Bivalvia-Unionida-Un...    Mollusca  \n",
       "11982  dataset/Animalia-Mollusca-Gastropoda-Neogastro...    Mollusca  \n",
       "\n",
       "[11983 rows x 13 columns]"
      ]
     },
     "execution_count": 2,
     "metadata": {},
     "output_type": "execute_result"
    }
   ],
   "source": [
    "import pandas as pd\n",
    "dataset=pd.read_csv(r\"C:\\Users\\pkmag\\OneDrive\\Desktop\\📖\\Second year Semester 2\\EAP\\metadata (2).csv\")\n",
    "dataset"
   ]
  },
  {
   "cell_type": "code",
   "execution_count": 3,
   "id": "720102f6-fc20-427b-a0fc-eb25ca535882",
   "metadata": {},
   "outputs": [
    {
     "data": {
      "text/html": [
       "<div>\n",
       "<style scoped>\n",
       "    .dataframe tbody tr th:only-of-type {\n",
       "        vertical-align: middle;\n",
       "    }\n",
       "\n",
       "    .dataframe tbody tr th {\n",
       "        vertical-align: top;\n",
       "    }\n",
       "\n",
       "    .dataframe thead th {\n",
       "        text-align: right;\n",
       "    }\n",
       "</style>\n",
       "<table border=\"1\" class=\"dataframe\">\n",
       "  <thead>\n",
       "    <tr style=\"text-align: right;\">\n",
       "      <th></th>\n",
       "      <th>class</th>\n",
       "      <th>order</th>\n",
       "      <th>family</th>\n",
       "      <th>genus</th>\n",
       "      <th>species</th>\n",
       "      <th>phylum</th>\n",
       "    </tr>\n",
       "  </thead>\n",
       "  <tbody>\n",
       "    <tr>\n",
       "      <th>0</th>\n",
       "      <td>Insecta</td>\n",
       "      <td>Hymenoptera</td>\n",
       "      <td>Formicidae</td>\n",
       "      <td>Adetomyrma</td>\n",
       "      <td>venatrix</td>\n",
       "      <td>Arthropoda</td>\n",
       "    </tr>\n",
       "    <tr>\n",
       "      <th>1</th>\n",
       "      <td>Insecta</td>\n",
       "      <td>Odonata</td>\n",
       "      <td>Gomphidae</td>\n",
       "      <td>Hemigomphus</td>\n",
       "      <td>theischingeri</td>\n",
       "      <td>Arthropoda</td>\n",
       "    </tr>\n",
       "    <tr>\n",
       "      <th>2</th>\n",
       "      <td>Insecta</td>\n",
       "      <td>Odonata</td>\n",
       "      <td>Platystictidae</td>\n",
       "      <td>Protosticta</td>\n",
       "      <td>sanguinostigma</td>\n",
       "      <td>Arthropoda</td>\n",
       "    </tr>\n",
       "    <tr>\n",
       "      <th>3</th>\n",
       "      <td>Insecta</td>\n",
       "      <td>Hymenoptera</td>\n",
       "      <td>Formicidae</td>\n",
       "      <td>Pheidole</td>\n",
       "      <td>elecebra</td>\n",
       "      <td>Arthropoda</td>\n",
       "    </tr>\n",
       "    <tr>\n",
       "      <th>4</th>\n",
       "      <td>Insecta</td>\n",
       "      <td>Coleoptera</td>\n",
       "      <td>Cerambycidae</td>\n",
       "      <td>Macrodontia</td>\n",
       "      <td>cervicornis</td>\n",
       "      <td>Arthropoda</td>\n",
       "    </tr>\n",
       "    <tr>\n",
       "      <th>...</th>\n",
       "      <td>...</td>\n",
       "      <td>...</td>\n",
       "      <td>...</td>\n",
       "      <td>...</td>\n",
       "      <td>...</td>\n",
       "      <td>...</td>\n",
       "    </tr>\n",
       "    <tr>\n",
       "      <th>11978</th>\n",
       "      <td>Bivalvia</td>\n",
       "      <td>Cardiida</td>\n",
       "      <td>Cardiidae</td>\n",
       "      <td>Tridacna</td>\n",
       "      <td>gigas</td>\n",
       "      <td>Mollusca</td>\n",
       "    </tr>\n",
       "    <tr>\n",
       "      <th>11979</th>\n",
       "      <td>Bivalvia</td>\n",
       "      <td>Cardiida</td>\n",
       "      <td>Cardiidae</td>\n",
       "      <td>Tridacna</td>\n",
       "      <td>squamosa</td>\n",
       "      <td>Mollusca</td>\n",
       "    </tr>\n",
       "    <tr>\n",
       "      <th>11980</th>\n",
       "      <td>Gastropoda</td>\n",
       "      <td>Lepetellida</td>\n",
       "      <td>Haliotidae</td>\n",
       "      <td>Haliotis</td>\n",
       "      <td>roei</td>\n",
       "      <td>Mollusca</td>\n",
       "    </tr>\n",
       "    <tr>\n",
       "      <th>11981</th>\n",
       "      <td>Bivalvia</td>\n",
       "      <td>Unionida</td>\n",
       "      <td>Unionidae</td>\n",
       "      <td>Potamilus</td>\n",
       "      <td>amphichaenus</td>\n",
       "      <td>Mollusca</td>\n",
       "    </tr>\n",
       "    <tr>\n",
       "      <th>11982</th>\n",
       "      <td>Gastropoda</td>\n",
       "      <td>Neogastropoda</td>\n",
       "      <td>Conidae</td>\n",
       "      <td>Conus</td>\n",
       "      <td>mercator</td>\n",
       "      <td>Mollusca</td>\n",
       "    </tr>\n",
       "  </tbody>\n",
       "</table>\n",
       "<p>11983 rows × 6 columns</p>\n",
       "</div>"
      ],
      "text/plain": [
       "            class          order          family        genus         species  \\\n",
       "0         Insecta    Hymenoptera      Formicidae   Adetomyrma        venatrix   \n",
       "1         Insecta        Odonata       Gomphidae  Hemigomphus   theischingeri   \n",
       "2         Insecta        Odonata  Platystictidae  Protosticta  sanguinostigma   \n",
       "3         Insecta    Hymenoptera      Formicidae     Pheidole        elecebra   \n",
       "4         Insecta     Coleoptera    Cerambycidae  Macrodontia     cervicornis   \n",
       "...           ...            ...             ...          ...             ...   \n",
       "11978    Bivalvia       Cardiida       Cardiidae     Tridacna           gigas   \n",
       "11979    Bivalvia       Cardiida       Cardiidae     Tridacna        squamosa   \n",
       "11980  Gastropoda    Lepetellida      Haliotidae     Haliotis            roei   \n",
       "11981    Bivalvia       Unionida       Unionidae    Potamilus    amphichaenus   \n",
       "11982  Gastropoda  Neogastropoda         Conidae        Conus        mercator   \n",
       "\n",
       "           phylum  \n",
       "0      Arthropoda  \n",
       "1      Arthropoda  \n",
       "2      Arthropoda  \n",
       "3      Arthropoda  \n",
       "4      Arthropoda  \n",
       "...           ...  \n",
       "11978    Mollusca  \n",
       "11979    Mollusca  \n",
       "11980    Mollusca  \n",
       "11981    Mollusca  \n",
       "11982    Mollusca  \n",
       "\n",
       "[11983 rows x 6 columns]"
      ]
     },
     "execution_count": 3,
     "metadata": {},
     "output_type": "execute_result"
    }
   ],
   "source": [
    "#deleting columns that are not needed\n",
    "dataset.drop(['rarespecies_id','eol_content_id','eol_page_id','kingdom','sciName','common','file_name'],axis=1, inplace=True)\n",
    "dataset"
   ]
  },
  {
   "cell_type": "code",
   "execution_count": 4,
   "id": "dc9ab0c7-72f4-4d48-b985-d184ab4851b5",
   "metadata": {},
   "outputs": [
    {
     "data": {
      "text/html": [
       "<div>\n",
       "<style scoped>\n",
       "    .dataframe tbody tr th:only-of-type {\n",
       "        vertical-align: middle;\n",
       "    }\n",
       "\n",
       "    .dataframe tbody tr th {\n",
       "        vertical-align: top;\n",
       "    }\n",
       "\n",
       "    .dataframe thead th {\n",
       "        text-align: right;\n",
       "    }\n",
       "</style>\n",
       "<table border=\"1\" class=\"dataframe\">\n",
       "  <thead>\n",
       "    <tr style=\"text-align: right;\">\n",
       "      <th></th>\n",
       "      <th>class</th>\n",
       "      <th>order</th>\n",
       "      <th>family</th>\n",
       "      <th>genus</th>\n",
       "      <th>species</th>\n",
       "      <th>phylum</th>\n",
       "    </tr>\n",
       "  </thead>\n",
       "  <tbody>\n",
       "    <tr>\n",
       "      <th>0</th>\n",
       "      <td>Insecta</td>\n",
       "      <td>Hymenoptera</td>\n",
       "      <td>Formicidae</td>\n",
       "      <td>Adetomyrma</td>\n",
       "      <td>venatrix</td>\n",
       "      <td>Arthropoda</td>\n",
       "    </tr>\n",
       "    <tr>\n",
       "      <th>1</th>\n",
       "      <td>Insecta</td>\n",
       "      <td>Odonata</td>\n",
       "      <td>Gomphidae</td>\n",
       "      <td>Hemigomphus</td>\n",
       "      <td>theischingeri</td>\n",
       "      <td>Arthropoda</td>\n",
       "    </tr>\n",
       "    <tr>\n",
       "      <th>2</th>\n",
       "      <td>Insecta</td>\n",
       "      <td>Odonata</td>\n",
       "      <td>Platystictidae</td>\n",
       "      <td>Protosticta</td>\n",
       "      <td>sanguinostigma</td>\n",
       "      <td>Arthropoda</td>\n",
       "    </tr>\n",
       "    <tr>\n",
       "      <th>3</th>\n",
       "      <td>Insecta</td>\n",
       "      <td>Hymenoptera</td>\n",
       "      <td>Formicidae</td>\n",
       "      <td>Pheidole</td>\n",
       "      <td>elecebra</td>\n",
       "      <td>Arthropoda</td>\n",
       "    </tr>\n",
       "    <tr>\n",
       "      <th>4</th>\n",
       "      <td>Insecta</td>\n",
       "      <td>Coleoptera</td>\n",
       "      <td>Cerambycidae</td>\n",
       "      <td>Macrodontia</td>\n",
       "      <td>cervicornis</td>\n",
       "      <td>Arthropoda</td>\n",
       "    </tr>\n",
       "    <tr>\n",
       "      <th>...</th>\n",
       "      <td>...</td>\n",
       "      <td>...</td>\n",
       "      <td>...</td>\n",
       "      <td>...</td>\n",
       "      <td>...</td>\n",
       "      <td>...</td>\n",
       "    </tr>\n",
       "    <tr>\n",
       "      <th>11775</th>\n",
       "      <td>Gastropoda</td>\n",
       "      <td>Neogastropoda</td>\n",
       "      <td>Conidae</td>\n",
       "      <td>Conus</td>\n",
       "      <td>mercator</td>\n",
       "      <td>Mollusca</td>\n",
       "    </tr>\n",
       "    <tr>\n",
       "      <th>11776</th>\n",
       "      <td>Gastropoda</td>\n",
       "      <td>Lepetellida</td>\n",
       "      <td>Haliotidae</td>\n",
       "      <td>Haliotis</td>\n",
       "      <td>roei</td>\n",
       "      <td>Mollusca</td>\n",
       "    </tr>\n",
       "    <tr>\n",
       "      <th>11777</th>\n",
       "      <td>Bivalvia</td>\n",
       "      <td>Cardiida</td>\n",
       "      <td>Cardiidae</td>\n",
       "      <td>Tridacna</td>\n",
       "      <td>squamosa</td>\n",
       "      <td>Mollusca</td>\n",
       "    </tr>\n",
       "    <tr>\n",
       "      <th>11788</th>\n",
       "      <td>Gastropoda</td>\n",
       "      <td>Stylommatophora</td>\n",
       "      <td>Zonitidae</td>\n",
       "      <td>Zonites</td>\n",
       "      <td>algirus</td>\n",
       "      <td>Mollusca</td>\n",
       "    </tr>\n",
       "    <tr>\n",
       "      <th>11798</th>\n",
       "      <td>Bivalvia</td>\n",
       "      <td>Cardiida</td>\n",
       "      <td>Cardiidae</td>\n",
       "      <td>Tridacna</td>\n",
       "      <td>gigas</td>\n",
       "      <td>Mollusca</td>\n",
       "    </tr>\n",
       "  </tbody>\n",
       "</table>\n",
       "<p>400 rows × 6 columns</p>\n",
       "</div>"
      ],
      "text/plain": [
       "            class            order          family        genus  \\\n",
       "0         Insecta      Hymenoptera      Formicidae   Adetomyrma   \n",
       "1         Insecta          Odonata       Gomphidae  Hemigomphus   \n",
       "2         Insecta          Odonata  Platystictidae  Protosticta   \n",
       "3         Insecta      Hymenoptera      Formicidae     Pheidole   \n",
       "4         Insecta       Coleoptera    Cerambycidae  Macrodontia   \n",
       "...           ...              ...             ...          ...   \n",
       "11775  Gastropoda    Neogastropoda         Conidae        Conus   \n",
       "11776  Gastropoda      Lepetellida      Haliotidae     Haliotis   \n",
       "11777    Bivalvia         Cardiida       Cardiidae     Tridacna   \n",
       "11788  Gastropoda  Stylommatophora       Zonitidae      Zonites   \n",
       "11798    Bivalvia         Cardiida       Cardiidae     Tridacna   \n",
       "\n",
       "              species      phylum  \n",
       "0            venatrix  Arthropoda  \n",
       "1       theischingeri  Arthropoda  \n",
       "2      sanguinostigma  Arthropoda  \n",
       "3            elecebra  Arthropoda  \n",
       "4         cervicornis  Arthropoda  \n",
       "...               ...         ...  \n",
       "11775        mercator    Mollusca  \n",
       "11776            roei    Mollusca  \n",
       "11777        squamosa    Mollusca  \n",
       "11788         algirus    Mollusca  \n",
       "11798           gigas    Mollusca  \n",
       "\n",
       "[400 rows x 6 columns]"
      ]
     },
     "execution_count": 4,
     "metadata": {},
     "output_type": "execute_result"
    }
   ],
   "source": [
    "#deleting duplicates directly on the original dataset without creating a new one\n",
    "dataset.drop_duplicates(inplace=True)\n",
    "dataset"
   ]
  },
  {
   "cell_type": "code",
   "execution_count": 5,
   "id": "d51faaf3-d004-4f9f-aac2-375a392800ec",
   "metadata": {},
   "outputs": [
    {
     "data": {
      "text/html": [
       "<div>\n",
       "<style scoped>\n",
       "    .dataframe tbody tr th:only-of-type {\n",
       "        vertical-align: middle;\n",
       "    }\n",
       "\n",
       "    .dataframe tbody tr th {\n",
       "        vertical-align: top;\n",
       "    }\n",
       "\n",
       "    .dataframe thead th {\n",
       "        text-align: right;\n",
       "    }\n",
       "</style>\n",
       "<table border=\"1\" class=\"dataframe\">\n",
       "  <thead>\n",
       "    <tr style=\"text-align: right;\">\n",
       "      <th></th>\n",
       "      <th>class</th>\n",
       "      <th>order</th>\n",
       "      <th>family</th>\n",
       "      <th>genus</th>\n",
       "      <th>species</th>\n",
       "      <th>phylum</th>\n",
       "    </tr>\n",
       "  </thead>\n",
       "  <tbody>\n",
       "    <tr>\n",
       "      <th>0</th>\n",
       "      <td>Insecta</td>\n",
       "      <td>Hymenoptera</td>\n",
       "      <td>Formicidae</td>\n",
       "      <td>Adetomyrma</td>\n",
       "      <td>venatrix</td>\n",
       "      <td>Arthropoda</td>\n",
       "    </tr>\n",
       "    <tr>\n",
       "      <th>1</th>\n",
       "      <td>Insecta</td>\n",
       "      <td>Odonata</td>\n",
       "      <td>Gomphidae</td>\n",
       "      <td>Hemigomphus</td>\n",
       "      <td>theischingeri</td>\n",
       "      <td>Arthropoda</td>\n",
       "    </tr>\n",
       "    <tr>\n",
       "      <th>2</th>\n",
       "      <td>Insecta</td>\n",
       "      <td>Odonata</td>\n",
       "      <td>Platystictidae</td>\n",
       "      <td>Protosticta</td>\n",
       "      <td>sanguinostigma</td>\n",
       "      <td>Arthropoda</td>\n",
       "    </tr>\n",
       "    <tr>\n",
       "      <th>3</th>\n",
       "      <td>Insecta</td>\n",
       "      <td>Hymenoptera</td>\n",
       "      <td>Formicidae</td>\n",
       "      <td>Pheidole</td>\n",
       "      <td>elecebra</td>\n",
       "      <td>Arthropoda</td>\n",
       "    </tr>\n",
       "    <tr>\n",
       "      <th>4</th>\n",
       "      <td>Insecta</td>\n",
       "      <td>Coleoptera</td>\n",
       "      <td>Cerambycidae</td>\n",
       "      <td>Macrodontia</td>\n",
       "      <td>cervicornis</td>\n",
       "      <td>Arthropoda</td>\n",
       "    </tr>\n",
       "    <tr>\n",
       "      <th>...</th>\n",
       "      <td>...</td>\n",
       "      <td>...</td>\n",
       "      <td>...</td>\n",
       "      <td>...</td>\n",
       "      <td>...</td>\n",
       "      <td>...</td>\n",
       "    </tr>\n",
       "    <tr>\n",
       "      <th>11775</th>\n",
       "      <td>Gastropoda</td>\n",
       "      <td>Neogastropoda</td>\n",
       "      <td>Conidae</td>\n",
       "      <td>Conus</td>\n",
       "      <td>mercator</td>\n",
       "      <td>Mollusca</td>\n",
       "    </tr>\n",
       "    <tr>\n",
       "      <th>11776</th>\n",
       "      <td>Gastropoda</td>\n",
       "      <td>Lepetellida</td>\n",
       "      <td>Haliotidae</td>\n",
       "      <td>Haliotis</td>\n",
       "      <td>roei</td>\n",
       "      <td>Mollusca</td>\n",
       "    </tr>\n",
       "    <tr>\n",
       "      <th>11777</th>\n",
       "      <td>Bivalvia</td>\n",
       "      <td>Cardiida</td>\n",
       "      <td>Cardiidae</td>\n",
       "      <td>Tridacna</td>\n",
       "      <td>squamosa</td>\n",
       "      <td>Mollusca</td>\n",
       "    </tr>\n",
       "    <tr>\n",
       "      <th>11788</th>\n",
       "      <td>Gastropoda</td>\n",
       "      <td>Stylommatophora</td>\n",
       "      <td>Zonitidae</td>\n",
       "      <td>Zonites</td>\n",
       "      <td>algirus</td>\n",
       "      <td>Mollusca</td>\n",
       "    </tr>\n",
       "    <tr>\n",
       "      <th>11798</th>\n",
       "      <td>Bivalvia</td>\n",
       "      <td>Cardiida</td>\n",
       "      <td>Cardiidae</td>\n",
       "      <td>Tridacna</td>\n",
       "      <td>gigas</td>\n",
       "      <td>Mollusca</td>\n",
       "    </tr>\n",
       "  </tbody>\n",
       "</table>\n",
       "<p>400 rows × 6 columns</p>\n",
       "</div>"
      ],
      "text/plain": [
       "            class            order          family        genus  \\\n",
       "0         Insecta      Hymenoptera      Formicidae   Adetomyrma   \n",
       "1         Insecta          Odonata       Gomphidae  Hemigomphus   \n",
       "2         Insecta          Odonata  Platystictidae  Protosticta   \n",
       "3         Insecta      Hymenoptera      Formicidae     Pheidole   \n",
       "4         Insecta       Coleoptera    Cerambycidae  Macrodontia   \n",
       "...           ...              ...             ...          ...   \n",
       "11775  Gastropoda    Neogastropoda         Conidae        Conus   \n",
       "11776  Gastropoda      Lepetellida      Haliotidae     Haliotis   \n",
       "11777    Bivalvia         Cardiida       Cardiidae     Tridacna   \n",
       "11788  Gastropoda  Stylommatophora       Zonitidae      Zonites   \n",
       "11798    Bivalvia         Cardiida       Cardiidae     Tridacna   \n",
       "\n",
       "              species      phylum  \n",
       "0            venatrix  Arthropoda  \n",
       "1       theischingeri  Arthropoda  \n",
       "2      sanguinostigma  Arthropoda  \n",
       "3            elecebra  Arthropoda  \n",
       "4         cervicornis  Arthropoda  \n",
       "...               ...         ...  \n",
       "11775        mercator    Mollusca  \n",
       "11776            roei    Mollusca  \n",
       "11777        squamosa    Mollusca  \n",
       "11788         algirus    Mollusca  \n",
       "11798           gigas    Mollusca  \n",
       "\n",
       "[400 rows x 6 columns]"
      ]
     },
     "execution_count": 5,
     "metadata": {},
     "output_type": "execute_result"
    }
   ],
   "source": [
    "#deleting empty rows\n",
    "dataset.dropna(inplace=True)\n",
    "dataset"
   ]
  },
  {
   "cell_type": "code",
   "execution_count": 6,
   "id": "ab65e083-9d1f-42fd-8c70-7b3664f49ec9",
   "metadata": {},
   "outputs": [
    {
     "data": {
      "text/html": [
       "<div>\n",
       "<style scoped>\n",
       "    .dataframe tbody tr th:only-of-type {\n",
       "        vertical-align: middle;\n",
       "    }\n",
       "\n",
       "    .dataframe tbody tr th {\n",
       "        vertical-align: top;\n",
       "    }\n",
       "\n",
       "    .dataframe thead th {\n",
       "        text-align: right;\n",
       "    }\n",
       "</style>\n",
       "<table border=\"1\" class=\"dataframe\">\n",
       "  <thead>\n",
       "    <tr style=\"text-align: right;\">\n",
       "      <th></th>\n",
       "      <th>class</th>\n",
       "      <th>order</th>\n",
       "      <th>family</th>\n",
       "      <th>genus</th>\n",
       "      <th>species</th>\n",
       "      <th>phylum</th>\n",
       "    </tr>\n",
       "  </thead>\n",
       "  <tbody>\n",
       "    <tr>\n",
       "      <th>0</th>\n",
       "      <td>Insecta</td>\n",
       "      <td>Hymenoptera</td>\n",
       "      <td>Formicidae</td>\n",
       "      <td>Adetomyrma</td>\n",
       "      <td>venatrix</td>\n",
       "      <td>Arthropoda</td>\n",
       "    </tr>\n",
       "    <tr>\n",
       "      <th>1</th>\n",
       "      <td>Insecta</td>\n",
       "      <td>Odonata</td>\n",
       "      <td>Gomphidae</td>\n",
       "      <td>Hemigomphus</td>\n",
       "      <td>theischingeri</td>\n",
       "      <td>Arthropoda</td>\n",
       "    </tr>\n",
       "    <tr>\n",
       "      <th>2</th>\n",
       "      <td>Insecta</td>\n",
       "      <td>Odonata</td>\n",
       "      <td>Platystictidae</td>\n",
       "      <td>Protosticta</td>\n",
       "      <td>sanguinostigma</td>\n",
       "      <td>Arthropoda</td>\n",
       "    </tr>\n",
       "    <tr>\n",
       "      <th>3</th>\n",
       "      <td>Insecta</td>\n",
       "      <td>Hymenoptera</td>\n",
       "      <td>Formicidae</td>\n",
       "      <td>Pheidole</td>\n",
       "      <td>elecebra</td>\n",
       "      <td>Arthropoda</td>\n",
       "    </tr>\n",
       "    <tr>\n",
       "      <th>4</th>\n",
       "      <td>Insecta</td>\n",
       "      <td>Coleoptera</td>\n",
       "      <td>Cerambycidae</td>\n",
       "      <td>Macrodontia</td>\n",
       "      <td>cervicornis</td>\n",
       "      <td>Arthropoda</td>\n",
       "    </tr>\n",
       "    <tr>\n",
       "      <th>...</th>\n",
       "      <td>...</td>\n",
       "      <td>...</td>\n",
       "      <td>...</td>\n",
       "      <td>...</td>\n",
       "      <td>...</td>\n",
       "      <td>...</td>\n",
       "    </tr>\n",
       "    <tr>\n",
       "      <th>395</th>\n",
       "      <td>Gastropoda</td>\n",
       "      <td>Neogastropoda</td>\n",
       "      <td>Conidae</td>\n",
       "      <td>Conus</td>\n",
       "      <td>mercator</td>\n",
       "      <td>Mollusca</td>\n",
       "    </tr>\n",
       "    <tr>\n",
       "      <th>396</th>\n",
       "      <td>Gastropoda</td>\n",
       "      <td>Lepetellida</td>\n",
       "      <td>Haliotidae</td>\n",
       "      <td>Haliotis</td>\n",
       "      <td>roei</td>\n",
       "      <td>Mollusca</td>\n",
       "    </tr>\n",
       "    <tr>\n",
       "      <th>397</th>\n",
       "      <td>Bivalvia</td>\n",
       "      <td>Cardiida</td>\n",
       "      <td>Cardiidae</td>\n",
       "      <td>Tridacna</td>\n",
       "      <td>squamosa</td>\n",
       "      <td>Mollusca</td>\n",
       "    </tr>\n",
       "    <tr>\n",
       "      <th>398</th>\n",
       "      <td>Gastropoda</td>\n",
       "      <td>Stylommatophora</td>\n",
       "      <td>Zonitidae</td>\n",
       "      <td>Zonites</td>\n",
       "      <td>algirus</td>\n",
       "      <td>Mollusca</td>\n",
       "    </tr>\n",
       "    <tr>\n",
       "      <th>399</th>\n",
       "      <td>Bivalvia</td>\n",
       "      <td>Cardiida</td>\n",
       "      <td>Cardiidae</td>\n",
       "      <td>Tridacna</td>\n",
       "      <td>gigas</td>\n",
       "      <td>Mollusca</td>\n",
       "    </tr>\n",
       "  </tbody>\n",
       "</table>\n",
       "<p>400 rows × 6 columns</p>\n",
       "</div>"
      ],
      "text/plain": [
       "          class            order          family        genus         species  \\\n",
       "0       Insecta      Hymenoptera      Formicidae   Adetomyrma        venatrix   \n",
       "1       Insecta          Odonata       Gomphidae  Hemigomphus   theischingeri   \n",
       "2       Insecta          Odonata  Platystictidae  Protosticta  sanguinostigma   \n",
       "3       Insecta      Hymenoptera      Formicidae     Pheidole        elecebra   \n",
       "4       Insecta       Coleoptera    Cerambycidae  Macrodontia     cervicornis   \n",
       "..          ...              ...             ...          ...             ...   \n",
       "395  Gastropoda    Neogastropoda         Conidae        Conus        mercator   \n",
       "396  Gastropoda      Lepetellida      Haliotidae     Haliotis            roei   \n",
       "397    Bivalvia         Cardiida       Cardiidae     Tridacna        squamosa   \n",
       "398  Gastropoda  Stylommatophora       Zonitidae      Zonites         algirus   \n",
       "399    Bivalvia         Cardiida       Cardiidae     Tridacna           gigas   \n",
       "\n",
       "         phylum  \n",
       "0    Arthropoda  \n",
       "1    Arthropoda  \n",
       "2    Arthropoda  \n",
       "3    Arthropoda  \n",
       "4    Arthropoda  \n",
       "..          ...  \n",
       "395    Mollusca  \n",
       "396    Mollusca  \n",
       "397    Mollusca  \n",
       "398    Mollusca  \n",
       "399    Mollusca  \n",
       "\n",
       "[400 rows x 6 columns]"
      ]
     },
     "execution_count": 6,
     "metadata": {},
     "output_type": "execute_result"
    }
   ],
   "source": [
    "#resets the index of the table to be in a numerical order \n",
    "#drops the index column with previous index value \n",
    "dataset.reset_index(drop=True, inplace=True)\n",
    "dataset"
   ]
  },
  {
   "cell_type": "code",
   "execution_count": 7,
   "id": "13b983e0",
   "metadata": {},
   "outputs": [
    {
     "data": {
      "text/plain": [
       "phylum\n",
       "Chordata         332\n",
       "Arthropoda        32\n",
       "Cnidaria          27\n",
       "Mollusca           7\n",
       "Echinodermata      2\n",
       "Name: count, dtype: int64"
      ]
     },
     "execution_count": 7,
     "metadata": {},
     "output_type": "execute_result"
    }
   ],
   "source": [
    "column_entries=dataset['phylum'].value_counts()\n",
    "column_entries"
   ]
  },
  {
   "cell_type": "code",
   "execution_count": 8,
   "id": "c502b43e",
   "metadata": {},
   "outputs": [
    {
     "data": {
      "text/html": [
       "<div>\n",
       "<style scoped>\n",
       "    .dataframe tbody tr th:only-of-type {\n",
       "        vertical-align: middle;\n",
       "    }\n",
       "\n",
       "    .dataframe tbody tr th {\n",
       "        vertical-align: top;\n",
       "    }\n",
       "\n",
       "    .dataframe thead th {\n",
       "        text-align: right;\n",
       "    }\n",
       "</style>\n",
       "<table border=\"1\" class=\"dataframe\">\n",
       "  <thead>\n",
       "    <tr style=\"text-align: right;\">\n",
       "      <th></th>\n",
       "      <th>class</th>\n",
       "      <th>order</th>\n",
       "      <th>family</th>\n",
       "      <th>genus</th>\n",
       "      <th>species</th>\n",
       "      <th>phylum</th>\n",
       "    </tr>\n",
       "  </thead>\n",
       "  <tbody>\n",
       "    <tr>\n",
       "      <th>32</th>\n",
       "      <td>Reptilia</td>\n",
       "      <td>Testudines</td>\n",
       "      <td>Geoemydidae</td>\n",
       "      <td>Pangshura</td>\n",
       "      <td>sylhetensis</td>\n",
       "      <td>Chordata</td>\n",
       "    </tr>\n",
       "    <tr>\n",
       "      <th>33</th>\n",
       "      <td>Amphibia</td>\n",
       "      <td>Caudata</td>\n",
       "      <td>Cryptobranchidae</td>\n",
       "      <td>Andrias</td>\n",
       "      <td>japonicus</td>\n",
       "      <td>Chordata</td>\n",
       "    </tr>\n",
       "    <tr>\n",
       "      <th>34</th>\n",
       "      <td>Aves</td>\n",
       "      <td>Passeriformes</td>\n",
       "      <td>Turdidae</td>\n",
       "      <td>Myadestes</td>\n",
       "      <td>obscurus</td>\n",
       "      <td>Chordata</td>\n",
       "    </tr>\n",
       "    <tr>\n",
       "      <th>35</th>\n",
       "      <td>Mammalia</td>\n",
       "      <td>Primates</td>\n",
       "      <td>Indriidae</td>\n",
       "      <td>Propithecus</td>\n",
       "      <td>deckenii</td>\n",
       "      <td>Chordata</td>\n",
       "    </tr>\n",
       "    <tr>\n",
       "      <th>36</th>\n",
       "      <td>Aves</td>\n",
       "      <td>Passeriformes</td>\n",
       "      <td>Fringillidae</td>\n",
       "      <td>Drepanis</td>\n",
       "      <td>coccinea</td>\n",
       "      <td>Chordata</td>\n",
       "    </tr>\n",
       "    <tr>\n",
       "      <th>...</th>\n",
       "      <td>...</td>\n",
       "      <td>...</td>\n",
       "      <td>...</td>\n",
       "      <td>...</td>\n",
       "      <td>...</td>\n",
       "      <td>...</td>\n",
       "    </tr>\n",
       "    <tr>\n",
       "      <th>359</th>\n",
       "      <td>Reptilia</td>\n",
       "      <td>Crocodilia</td>\n",
       "      <td>Alligatoridae</td>\n",
       "      <td>Melanosuchus</td>\n",
       "      <td>niger</td>\n",
       "      <td>Chordata</td>\n",
       "    </tr>\n",
       "    <tr>\n",
       "      <th>360</th>\n",
       "      <td>Mammalia</td>\n",
       "      <td>Carnivora</td>\n",
       "      <td>Mustelidae</td>\n",
       "      <td>Aonyx</td>\n",
       "      <td>capensis</td>\n",
       "      <td>Chordata</td>\n",
       "    </tr>\n",
       "    <tr>\n",
       "      <th>361</th>\n",
       "      <td>Chondrichthyes</td>\n",
       "      <td>Carcharhiniformes</td>\n",
       "      <td>Carcharhinidae</td>\n",
       "      <td>Carcharhinus</td>\n",
       "      <td>amblyrhynchos</td>\n",
       "      <td>Chordata</td>\n",
       "    </tr>\n",
       "    <tr>\n",
       "      <th>362</th>\n",
       "      <td>Aves</td>\n",
       "      <td>Apodiformes</td>\n",
       "      <td>Trochilidae</td>\n",
       "      <td>Lophornis</td>\n",
       "      <td>chalybeus</td>\n",
       "      <td>Chordata</td>\n",
       "    </tr>\n",
       "    <tr>\n",
       "      <th>363</th>\n",
       "      <td>Actinopterygii</td>\n",
       "      <td>Cyprinodontiformes</td>\n",
       "      <td>Goodeidae</td>\n",
       "      <td>Zoogoneticus</td>\n",
       "      <td>tequila</td>\n",
       "      <td>Chordata</td>\n",
       "    </tr>\n",
       "  </tbody>\n",
       "</table>\n",
       "<p>332 rows × 6 columns</p>\n",
       "</div>"
      ],
      "text/plain": [
       "              class               order            family         genus  \\\n",
       "32         Reptilia          Testudines       Geoemydidae     Pangshura   \n",
       "33         Amphibia             Caudata  Cryptobranchidae       Andrias   \n",
       "34             Aves       Passeriformes          Turdidae     Myadestes   \n",
       "35         Mammalia            Primates         Indriidae   Propithecus   \n",
       "36             Aves       Passeriformes      Fringillidae      Drepanis   \n",
       "..              ...                 ...               ...           ...   \n",
       "359        Reptilia          Crocodilia     Alligatoridae  Melanosuchus   \n",
       "360        Mammalia           Carnivora        Mustelidae         Aonyx   \n",
       "361  Chondrichthyes   Carcharhiniformes    Carcharhinidae  Carcharhinus   \n",
       "362            Aves         Apodiformes       Trochilidae     Lophornis   \n",
       "363  Actinopterygii  Cyprinodontiformes         Goodeidae  Zoogoneticus   \n",
       "\n",
       "           species    phylum  \n",
       "32     sylhetensis  Chordata  \n",
       "33       japonicus  Chordata  \n",
       "34        obscurus  Chordata  \n",
       "35        deckenii  Chordata  \n",
       "36        coccinea  Chordata  \n",
       "..             ...       ...  \n",
       "359          niger  Chordata  \n",
       "360       capensis  Chordata  \n",
       "361  amblyrhynchos  Chordata  \n",
       "362      chalybeus  Chordata  \n",
       "363        tequila  Chordata  \n",
       "\n",
       "[332 rows x 6 columns]"
      ]
     },
     "execution_count": 8,
     "metadata": {},
     "output_type": "execute_result"
    }
   ],
   "source": [
    "chordata=dataset[dataset['phylum']=='Chordata']\n",
    "chordata"
   ]
  },
  {
   "cell_type": "code",
   "execution_count": 9,
   "id": "04f1ad98",
   "metadata": {},
   "outputs": [
    {
     "data": {
      "text/html": [
       "<div>\n",
       "<style scoped>\n",
       "    .dataframe tbody tr th:only-of-type {\n",
       "        vertical-align: middle;\n",
       "    }\n",
       "\n",
       "    .dataframe tbody tr th {\n",
       "        vertical-align: top;\n",
       "    }\n",
       "\n",
       "    .dataframe thead th {\n",
       "        text-align: right;\n",
       "    }\n",
       "</style>\n",
       "<table border=\"1\" class=\"dataframe\">\n",
       "  <thead>\n",
       "    <tr style=\"text-align: right;\">\n",
       "      <th></th>\n",
       "      <th>class</th>\n",
       "      <th>order</th>\n",
       "      <th>family</th>\n",
       "      <th>genus</th>\n",
       "      <th>species</th>\n",
       "      <th>phylum</th>\n",
       "    </tr>\n",
       "  </thead>\n",
       "  <tbody>\n",
       "    <tr>\n",
       "      <th>32</th>\n",
       "      <td>Asteroidea</td>\n",
       "      <td>Forcipulatida</td>\n",
       "      <td>Asteriidae</td>\n",
       "      <td>Asterias</td>\n",
       "      <td>Asterias rubens</td>\n",
       "      <td>Echinodermata</td>\n",
       "    </tr>\n",
       "    <tr>\n",
       "      <th>33</th>\n",
       "      <td>Echinoidea</td>\n",
       "      <td>Clypeasteroida</td>\n",
       "      <td>Clypeasteridae</td>\n",
       "      <td>Clypeaster</td>\n",
       "      <td>Clypeaster subdepressus</td>\n",
       "      <td>Echinodermata</td>\n",
       "    </tr>\n",
       "    <tr>\n",
       "      <th>34</th>\n",
       "      <td>Ophiuroidea</td>\n",
       "      <td>Ophiurida</td>\n",
       "      <td>Ophiuridae</td>\n",
       "      <td>Ophiura</td>\n",
       "      <td>Ophiura ophiura</td>\n",
       "      <td>Echinodermata</td>\n",
       "    </tr>\n",
       "    <tr>\n",
       "      <th>35</th>\n",
       "      <td>Crinoidea</td>\n",
       "      <td>Comatulida</td>\n",
       "      <td>Antedonidae</td>\n",
       "      <td>Antedon</td>\n",
       "      <td>Antedon mediterranea</td>\n",
       "      <td>Echinodermata</td>\n",
       "    </tr>\n",
       "    <tr>\n",
       "      <th>36</th>\n",
       "      <td>Holothuroidea</td>\n",
       "      <td>Synallactida</td>\n",
       "      <td>Synallactidae</td>\n",
       "      <td>Parastichopus</td>\n",
       "      <td>Parastichopus californicus</td>\n",
       "      <td>Echinodermata</td>\n",
       "    </tr>\n",
       "    <tr>\n",
       "      <th>37</th>\n",
       "      <td>Echinoidea</td>\n",
       "      <td>Arbacioida</td>\n",
       "      <td>Arbaciidae</td>\n",
       "      <td>Arbacia</td>\n",
       "      <td>Arbacia punctulata</td>\n",
       "      <td>Echinodermata</td>\n",
       "    </tr>\n",
       "    <tr>\n",
       "      <th>38</th>\n",
       "      <td>Asteroidea</td>\n",
       "      <td>Valvatida</td>\n",
       "      <td>Asterinidae</td>\n",
       "      <td>Patiria</td>\n",
       "      <td>Patiria miniata</td>\n",
       "      <td>Echinodermata</td>\n",
       "    </tr>\n",
       "    <tr>\n",
       "      <th>39</th>\n",
       "      <td>Ophiuroidea</td>\n",
       "      <td>Ophiurida</td>\n",
       "      <td>Ophiothrichidae</td>\n",
       "      <td>Ophiothrix</td>\n",
       "      <td>Ophiothrix fragilis</td>\n",
       "      <td>Echinodermata</td>\n",
       "    </tr>\n",
       "    <tr>\n",
       "      <th>40</th>\n",
       "      <td>Holothuroidea</td>\n",
       "      <td>Dendrochirotida</td>\n",
       "      <td>Cucumariidae</td>\n",
       "      <td>Cucumaria</td>\n",
       "      <td>Cucumaria frondosa</td>\n",
       "      <td>Echinodermata</td>\n",
       "    </tr>\n",
       "    <tr>\n",
       "      <th>41</th>\n",
       "      <td>Asteroidea</td>\n",
       "      <td>Spinulosida</td>\n",
       "      <td>Asterinidae</td>\n",
       "      <td>Asterina</td>\n",
       "      <td>Asterina gibbosa</td>\n",
       "      <td>Echinodermata</td>\n",
       "    </tr>\n",
       "    <tr>\n",
       "      <th>42</th>\n",
       "      <td>Asteroidea</td>\n",
       "      <td>Velatida</td>\n",
       "      <td>Pterasteridae</td>\n",
       "      <td>Pteraster</td>\n",
       "      <td>Pteraster militaris</td>\n",
       "      <td>Echinodermata</td>\n",
       "    </tr>\n",
       "    <tr>\n",
       "      <th>43</th>\n",
       "      <td>Echinoidea</td>\n",
       "      <td>Diadematoida</td>\n",
       "      <td>Diadematidae</td>\n",
       "      <td>Diadema</td>\n",
       "      <td>Diadema setosum</td>\n",
       "      <td>Echinodermata</td>\n",
       "    </tr>\n",
       "    <tr>\n",
       "      <th>44</th>\n",
       "      <td>Ophiuroidea</td>\n",
       "      <td>Ophiacanthida</td>\n",
       "      <td>Ophiacanthidae</td>\n",
       "      <td>Ophiacantha</td>\n",
       "      <td>Ophiacantha bidentata</td>\n",
       "      <td>Echinodermata</td>\n",
       "    </tr>\n",
       "    <tr>\n",
       "      <th>45</th>\n",
       "      <td>Holothuroidea</td>\n",
       "      <td>Aspidochirotida</td>\n",
       "      <td>Holothuriidae</td>\n",
       "      <td>Holothuria</td>\n",
       "      <td>Holothuria edulis</td>\n",
       "      <td>Echinodermata</td>\n",
       "    </tr>\n",
       "    <tr>\n",
       "      <th>46</th>\n",
       "      <td>Asteroidea</td>\n",
       "      <td>Paxillosida</td>\n",
       "      <td>Luidiidae</td>\n",
       "      <td>Luidia</td>\n",
       "      <td>Luidia clathrata</td>\n",
       "      <td>Echinodermata</td>\n",
       "    </tr>\n",
       "    <tr>\n",
       "      <th>47</th>\n",
       "      <td>Echinoidea</td>\n",
       "      <td>Spatangoida</td>\n",
       "      <td>Brissidae</td>\n",
       "      <td>Brissus</td>\n",
       "      <td>Brissus unicolor</td>\n",
       "      <td>Echinodermata</td>\n",
       "    </tr>\n",
       "    <tr>\n",
       "      <th>48</th>\n",
       "      <td>Crinoidea</td>\n",
       "      <td>Cyrtocrinida</td>\n",
       "      <td>Bathycrinidae</td>\n",
       "      <td>Bathycrinus</td>\n",
       "      <td>Bathycrinus aldrichianus</td>\n",
       "      <td>Echinodermata</td>\n",
       "    </tr>\n",
       "    <tr>\n",
       "      <th>49</th>\n",
       "      <td>Ophiuroidea</td>\n",
       "      <td>Euryalida</td>\n",
       "      <td>Gorgonocephalidae</td>\n",
       "      <td>Gorgonocephalus</td>\n",
       "      <td>Gorgonocephalus eucnemis</td>\n",
       "      <td>Echinodermata</td>\n",
       "    </tr>\n",
       "    <tr>\n",
       "      <th>50</th>\n",
       "      <td>Reptilia</td>\n",
       "      <td>Squamata</td>\n",
       "      <td>Gekkonidae</td>\n",
       "      <td>Phelsuma</td>\n",
       "      <td>standingi</td>\n",
       "      <td>Chordata</td>\n",
       "    </tr>\n",
       "    <tr>\n",
       "      <th>51</th>\n",
       "      <td>Aves</td>\n",
       "      <td>Procellariiformes</td>\n",
       "      <td>Procellariidae</td>\n",
       "      <td>Procellaria</td>\n",
       "      <td>parkinsoni</td>\n",
       "      <td>Chordata</td>\n",
       "    </tr>\n",
       "  </tbody>\n",
       "</table>\n",
       "</div>"
      ],
      "text/plain": [
       "            class              order             family            genus  \\\n",
       "32     Asteroidea      Forcipulatida         Asteriidae         Asterias   \n",
       "33     Echinoidea     Clypeasteroida     Clypeasteridae       Clypeaster   \n",
       "34    Ophiuroidea          Ophiurida         Ophiuridae          Ophiura   \n",
       "35      Crinoidea         Comatulida        Antedonidae          Antedon   \n",
       "36  Holothuroidea       Synallactida      Synallactidae    Parastichopus   \n",
       "37     Echinoidea         Arbacioida         Arbaciidae          Arbacia   \n",
       "38     Asteroidea          Valvatida        Asterinidae          Patiria   \n",
       "39    Ophiuroidea          Ophiurida    Ophiothrichidae       Ophiothrix   \n",
       "40  Holothuroidea    Dendrochirotida       Cucumariidae        Cucumaria   \n",
       "41     Asteroidea        Spinulosida        Asterinidae         Asterina   \n",
       "42     Asteroidea           Velatida      Pterasteridae        Pteraster   \n",
       "43     Echinoidea       Diadematoida       Diadematidae          Diadema   \n",
       "44    Ophiuroidea      Ophiacanthida     Ophiacanthidae      Ophiacantha   \n",
       "45  Holothuroidea    Aspidochirotida      Holothuriidae       Holothuria   \n",
       "46     Asteroidea        Paxillosida          Luidiidae           Luidia   \n",
       "47     Echinoidea        Spatangoida          Brissidae          Brissus   \n",
       "48      Crinoidea       Cyrtocrinida      Bathycrinidae      Bathycrinus   \n",
       "49    Ophiuroidea          Euryalida  Gorgonocephalidae  Gorgonocephalus   \n",
       "50       Reptilia           Squamata         Gekkonidae         Phelsuma   \n",
       "51           Aves  Procellariiformes     Procellariidae      Procellaria   \n",
       "\n",
       "                       species         phylum  \n",
       "32             Asterias rubens  Echinodermata  \n",
       "33     Clypeaster subdepressus  Echinodermata  \n",
       "34             Ophiura ophiura  Echinodermata  \n",
       "35        Antedon mediterranea  Echinodermata  \n",
       "36  Parastichopus californicus  Echinodermata  \n",
       "37          Arbacia punctulata  Echinodermata  \n",
       "38             Patiria miniata  Echinodermata  \n",
       "39         Ophiothrix fragilis  Echinodermata  \n",
       "40          Cucumaria frondosa  Echinodermata  \n",
       "41            Asterina gibbosa  Echinodermata  \n",
       "42         Pteraster militaris  Echinodermata  \n",
       "43             Diadema setosum  Echinodermata  \n",
       "44       Ophiacantha bidentata  Echinodermata  \n",
       "45           Holothuria edulis  Echinodermata  \n",
       "46            Luidia clathrata  Echinodermata  \n",
       "47            Brissus unicolor  Echinodermata  \n",
       "48    Bathycrinus aldrichianus  Echinodermata  \n",
       "49    Gorgonocephalus eucnemis  Echinodermata  \n",
       "50                   standingi       Chordata  \n",
       "51                  parkinsoni       Chordata  "
      ]
     },
     "execution_count": 9,
     "metadata": {},
     "output_type": "execute_result"
    }
   ],
   "source": [
    "#adding organisms to the dataframe with Echinodermata as the phylum name\n",
    "new_data=[\n",
    "    [\"Asteroidea\", \"Forcipulatida\", \"Asteriidae\", \"Asterias\", \"Asterias rubens\", \"Echinodermata\"],\n",
    "    [\"Echinoidea\", \"Clypeasteroida\", \"Clypeasteridae\", \"Clypeaster\", \"Clypeaster subdepressus\", \"Echinodermata\"],\n",
    "    [\"Ophiuroidea\", \"Ophiurida\", \"Ophiuridae\", \"Ophiura\", \"Ophiura ophiura\", \"Echinodermata\"],\n",
    "    [\"Crinoidea\", \"Comatulida\", \"Antedonidae\", \"Antedon\", \"Antedon mediterranea\", \"Echinodermata\"],\n",
    "    [\"Holothuroidea\", \"Synallactida\", \"Synallactidae\", \"Parastichopus\", \"Parastichopus californicus\", \"Echinodermata\"],\n",
    "    [\"Echinoidea\", \"Arbacioida\", \"Arbaciidae\", \"Arbacia\", \"Arbacia punctulata\", \"Echinodermata\"],\n",
    "    [\"Asteroidea\", \"Valvatida\", \"Asterinidae\", \"Patiria\", \"Patiria miniata\", \"Echinodermata\"],\n",
    "    [\"Ophiuroidea\", \"Ophiurida\", \"Ophiothrichidae\", \"Ophiothrix\", \"Ophiothrix fragilis\", \"Echinodermata\"],\n",
    "    [\"Holothuroidea\", \"Dendrochirotida\", \"Cucumariidae\", \"Cucumaria\", \"Cucumaria frondosa\", \"Echinodermata\"],\n",
    "    [\"Asteroidea\", \"Spinulosida\", \"Asterinidae\", \"Asterina\", \"Asterina gibbosa\", \"Echinodermata\"],\n",
    "    [\"Asteroidea\", \"Velatida\", \"Pterasteridae\", \"Pteraster\", \"Pteraster militaris\", \"Echinodermata\"],\n",
    "    [\"Echinoidea\", \"Diadematoida\", \"Diadematidae\", \"Diadema\", \"Diadema setosum\", \"Echinodermata\"],\n",
    "    [\"Ophiuroidea\", \"Ophiacanthida\", \"Ophiacanthidae\", \"Ophiacantha\", \"Ophiacantha bidentata\", \"Echinodermata\"],\n",
    "    [\"Holothuroidea\", \"Aspidochirotida\", \"Holothuriidae\", \"Holothuria\", \"Holothuria edulis\", \"Echinodermata\"],\n",
    "    [\"Asteroidea\", \"Paxillosida\", \"Luidiidae\", \"Luidia\", \"Luidia clathrata\", \"Echinodermata\"],\n",
    "    [\"Echinoidea\", \"Spatangoida\", \"Brissidae\", \"Brissus\", \"Brissus unicolor\", \"Echinodermata\"],\n",
    "    [\"Crinoidea\", \"Cyrtocrinida\", \"Bathycrinidae\", \"Bathycrinus\", \"Bathycrinus aldrichianus\", \"Echinodermata\"],\n",
    "    [\"Ophiuroidea\", \"Euryalida\", \"Gorgonocephalidae\", \"Gorgonocephalus\", \"Gorgonocephalus eucnemis\", \"Echinodermata\"]\n",
    "]\n",
    "\n",
    "new_dataset =pd.DataFrame(new_data, columns=dataset.columns)\n",
    "dataset.iloc[32:32+len(new_dataset)] = new_dataset\n",
    "\n",
    "dataset.to_csv('updated_dataset.csv', index=False)\n",
    "dataset.iloc[32:52]"
   ]
  },
  {
   "cell_type": "code",
   "execution_count": 10,
   "id": "5503a756",
   "metadata": {},
   "outputs": [
    {
     "data": {
      "text/html": [
       "<div>\n",
       "<style scoped>\n",
       "    .dataframe tbody tr th:only-of-type {\n",
       "        vertical-align: middle;\n",
       "    }\n",
       "\n",
       "    .dataframe tbody tr th {\n",
       "        vertical-align: top;\n",
       "    }\n",
       "\n",
       "    .dataframe thead th {\n",
       "        text-align: right;\n",
       "    }\n",
       "</style>\n",
       "<table border=\"1\" class=\"dataframe\">\n",
       "  <thead>\n",
       "    <tr style=\"text-align: right;\">\n",
       "      <th></th>\n",
       "      <th>class</th>\n",
       "      <th>order</th>\n",
       "      <th>family</th>\n",
       "      <th>genus</th>\n",
       "      <th>species</th>\n",
       "      <th>phylum</th>\n",
       "    </tr>\n",
       "  </thead>\n",
       "  <tbody>\n",
       "    <tr>\n",
       "      <th>50</th>\n",
       "      <td>Bivalvia</td>\n",
       "      <td>Ostreoida</td>\n",
       "      <td>Ostreidae</td>\n",
       "      <td>Crassostrea</td>\n",
       "      <td>gigas</td>\n",
       "      <td>Mollusca</td>\n",
       "    </tr>\n",
       "    <tr>\n",
       "      <th>51</th>\n",
       "      <td>Bivalvia</td>\n",
       "      <td>Veneroida</td>\n",
       "      <td>Veneridae</td>\n",
       "      <td>Mercenaria</td>\n",
       "      <td>mercenaria</td>\n",
       "      <td>Mollusca</td>\n",
       "    </tr>\n",
       "    <tr>\n",
       "      <th>52</th>\n",
       "      <td>Gastropoda</td>\n",
       "      <td>Pulmonata</td>\n",
       "      <td>Limacidae</td>\n",
       "      <td>Limax</td>\n",
       "      <td>maximus</td>\n",
       "      <td>Mollusca</td>\n",
       "    </tr>\n",
       "    <tr>\n",
       "      <th>53</th>\n",
       "      <td>Gastropoda</td>\n",
       "      <td>Neogastropoda</td>\n",
       "      <td>Buccinidae</td>\n",
       "      <td>Busycon</td>\n",
       "      <td>carica</td>\n",
       "      <td>Mollusca</td>\n",
       "    </tr>\n",
       "    <tr>\n",
       "      <th>54</th>\n",
       "      <td>Bivalvia</td>\n",
       "      <td>Myida</td>\n",
       "      <td>Myidae</td>\n",
       "      <td>Mytilus</td>\n",
       "      <td>edulis</td>\n",
       "      <td>Mollusca</td>\n",
       "    </tr>\n",
       "    <tr>\n",
       "      <th>55</th>\n",
       "      <td>Cephalopoda</td>\n",
       "      <td>Octopoda</td>\n",
       "      <td>Octopodidae</td>\n",
       "      <td>Octopus</td>\n",
       "      <td>vulgaris</td>\n",
       "      <td>Mollusca</td>\n",
       "    </tr>\n",
       "    <tr>\n",
       "      <th>56</th>\n",
       "      <td>Gastropoda</td>\n",
       "      <td>Heterobranchia</td>\n",
       "      <td>Stylommatophora</td>\n",
       "      <td>Eobrachycera</td>\n",
       "      <td>muscosa</td>\n",
       "      <td>Mollusca</td>\n",
       "    </tr>\n",
       "    <tr>\n",
       "      <th>57</th>\n",
       "      <td>Bivalvia</td>\n",
       "      <td>Pteriida</td>\n",
       "      <td>Pteriidae</td>\n",
       "      <td>Pinctada</td>\n",
       "      <td>margaritifera</td>\n",
       "      <td>Mollusca</td>\n",
       "    </tr>\n",
       "    <tr>\n",
       "      <th>58</th>\n",
       "      <td>Gastropoda</td>\n",
       "      <td>Caenogastropoda</td>\n",
       "      <td>Fasciolariidae</td>\n",
       "      <td>Fasciolaria</td>\n",
       "      <td>tulipa</td>\n",
       "      <td>Mollusca</td>\n",
       "    </tr>\n",
       "    <tr>\n",
       "      <th>59</th>\n",
       "      <td>Gastropoda</td>\n",
       "      <td>Caenogastropoda</td>\n",
       "      <td>Cypraeidae</td>\n",
       "      <td>Cypraea</td>\n",
       "      <td>tigris</td>\n",
       "      <td>Mollusca</td>\n",
       "    </tr>\n",
       "    <tr>\n",
       "      <th>60</th>\n",
       "      <td>Cephalopoda</td>\n",
       "      <td>Decapodiformes</td>\n",
       "      <td>Loliginidae</td>\n",
       "      <td>Loligo</td>\n",
       "      <td>vulgaris</td>\n",
       "      <td>Mollusca</td>\n",
       "    </tr>\n",
       "    <tr>\n",
       "      <th>61</th>\n",
       "      <td>Gastropoda</td>\n",
       "      <td>Cerithioidea</td>\n",
       "      <td>Thiaridae</td>\n",
       "      <td>Thiara</td>\n",
       "      <td>granifera</td>\n",
       "      <td>Mollusca</td>\n",
       "    </tr>\n",
       "    <tr>\n",
       "      <th>62</th>\n",
       "      <td>Bivalvia</td>\n",
       "      <td>Veneroida</td>\n",
       "      <td>Donacidae</td>\n",
       "      <td>Donax</td>\n",
       "      <td>variabilis</td>\n",
       "      <td>Mollusca</td>\n",
       "    </tr>\n",
       "    <tr>\n",
       "      <th>63</th>\n",
       "      <td>Gastropoda</td>\n",
       "      <td>Basommatophora</td>\n",
       "      <td>Planorbidae</td>\n",
       "      <td>Planorbarius</td>\n",
       "      <td>corneus</td>\n",
       "      <td>Mollusca</td>\n",
       "    </tr>\n",
       "    <tr>\n",
       "      <th>64</th>\n",
       "      <td>Cephalopoda</td>\n",
       "      <td>Nautilida</td>\n",
       "      <td>Nautilidae</td>\n",
       "      <td>Nautilus</td>\n",
       "      <td>pompilius</td>\n",
       "      <td>Mollusca</td>\n",
       "    </tr>\n",
       "    <tr>\n",
       "      <th>65</th>\n",
       "      <td>Bivalvia</td>\n",
       "      <td>Pectinida</td>\n",
       "      <td>Pectinidae</td>\n",
       "      <td>Pecten</td>\n",
       "      <td>maximus</td>\n",
       "      <td>Mollusca</td>\n",
       "    </tr>\n",
       "    <tr>\n",
       "      <th>66</th>\n",
       "      <td>Gastropoda</td>\n",
       "      <td>Opisthobranchia</td>\n",
       "      <td>Aplysiidae</td>\n",
       "      <td>Aplysia</td>\n",
       "      <td>californica</td>\n",
       "      <td>Mollusca</td>\n",
       "    </tr>\n",
       "    <tr>\n",
       "      <th>67</th>\n",
       "      <td>Bivalvia</td>\n",
       "      <td>Cardiida</td>\n",
       "      <td>Cardiidae</td>\n",
       "      <td>Cardium</td>\n",
       "      <td>edule</td>\n",
       "      <td>Mollusca</td>\n",
       "    </tr>\n",
       "    <tr>\n",
       "      <th>68</th>\n",
       "      <td>Gastropoda</td>\n",
       "      <td>Caenogastropoda</td>\n",
       "      <td>Neritidae</td>\n",
       "      <td>Nerita</td>\n",
       "      <td>atramentosa</td>\n",
       "      <td>Mollusca</td>\n",
       "    </tr>\n",
       "    <tr>\n",
       "      <th>69</th>\n",
       "      <td>Aves</td>\n",
       "      <td>Anseriformes</td>\n",
       "      <td>Anatidae</td>\n",
       "      <td>Somateria</td>\n",
       "      <td>fischeri</td>\n",
       "      <td>Chordata</td>\n",
       "    </tr>\n",
       "  </tbody>\n",
       "</table>\n",
       "</div>"
      ],
      "text/plain": [
       "          class            order           family         genus  \\\n",
       "50     Bivalvia        Ostreoida        Ostreidae   Crassostrea   \n",
       "51     Bivalvia        Veneroida        Veneridae    Mercenaria   \n",
       "52   Gastropoda        Pulmonata        Limacidae         Limax   \n",
       "53   Gastropoda    Neogastropoda       Buccinidae       Busycon   \n",
       "54     Bivalvia            Myida           Myidae       Mytilus   \n",
       "55  Cephalopoda         Octopoda      Octopodidae       Octopus   \n",
       "56   Gastropoda   Heterobranchia  Stylommatophora  Eobrachycera   \n",
       "57     Bivalvia         Pteriida        Pteriidae      Pinctada   \n",
       "58   Gastropoda  Caenogastropoda   Fasciolariidae   Fasciolaria   \n",
       "59   Gastropoda  Caenogastropoda       Cypraeidae       Cypraea   \n",
       "60  Cephalopoda   Decapodiformes      Loliginidae        Loligo   \n",
       "61   Gastropoda     Cerithioidea        Thiaridae        Thiara   \n",
       "62     Bivalvia        Veneroida        Donacidae         Donax   \n",
       "63   Gastropoda   Basommatophora      Planorbidae  Planorbarius   \n",
       "64  Cephalopoda        Nautilida       Nautilidae      Nautilus   \n",
       "65     Bivalvia        Pectinida       Pectinidae        Pecten   \n",
       "66   Gastropoda  Opisthobranchia       Aplysiidae       Aplysia   \n",
       "67     Bivalvia         Cardiida        Cardiidae       Cardium   \n",
       "68   Gastropoda  Caenogastropoda        Neritidae        Nerita   \n",
       "69         Aves     Anseriformes         Anatidae     Somateria   \n",
       "\n",
       "          species    phylum  \n",
       "50          gigas  Mollusca  \n",
       "51     mercenaria  Mollusca  \n",
       "52        maximus  Mollusca  \n",
       "53         carica  Mollusca  \n",
       "54         edulis  Mollusca  \n",
       "55       vulgaris  Mollusca  \n",
       "56        muscosa  Mollusca  \n",
       "57  margaritifera  Mollusca  \n",
       "58         tulipa  Mollusca  \n",
       "59         tigris  Mollusca  \n",
       "60       vulgaris  Mollusca  \n",
       "61      granifera  Mollusca  \n",
       "62     variabilis  Mollusca  \n",
       "63        corneus  Mollusca  \n",
       "64      pompilius  Mollusca  \n",
       "65        maximus  Mollusca  \n",
       "66    californica  Mollusca  \n",
       "67          edule  Mollusca  \n",
       "68    atramentosa  Mollusca  \n",
       "69       fischeri  Chordata  "
      ]
     },
     "execution_count": 10,
     "metadata": {},
     "output_type": "execute_result"
    }
   ],
   "source": [
    "#adding more organisms to the dataframe with Mollusca as the phylum name\n",
    "new_organisms=[\n",
    "    [\"Bivalvia\", \"Ostreoida\", \"Ostreidae\", \"Crassostrea\", \"gigas\", \"Mollusca\"],\n",
    "    [\"Bivalvia\", \"Veneroida\", \"Veneridae\", \"Mercenaria\", \"mercenaria\", \"Mollusca\"],\n",
    "    [\"Gastropoda\", \"Pulmonata\", \"Limacidae\", \"Limax\", \"maximus\", \"Mollusca\"],\n",
    "    [\"Gastropoda\", \"Neogastropoda\", \"Buccinidae\", \"Busycon\", \"carica\", \"Mollusca\"],\n",
    "    [\"Bivalvia\", \"Myida\", \"Myidae\", \"Mytilus\", \"edulis\", \"Mollusca\"],\n",
    "    [\"Cephalopoda\", \"Octopoda\", \"Octopodidae\", \"Octopus\", \"vulgaris\", \"Mollusca\"],\n",
    "    [\"Gastropoda\", \"Heterobranchia\", \"Stylommatophora\", \"Eobrachycera\", \"muscosa\", \"Mollusca\"],\n",
    "    [\"Bivalvia\", \"Pteriida\", \"Pteriidae\", \"Pinctada\", \"margaritifera\", \"Mollusca\"],\n",
    "    [\"Gastropoda\", \"Caenogastropoda\", \"Fasciolariidae\", \"Fasciolaria\", \"tulipa\", \"Mollusca\"],\n",
    "    [\"Gastropoda\", \"Caenogastropoda\", \"Cypraeidae\", \"Cypraea\", \"tigris\", \"Mollusca\"],\n",
    "    [\"Cephalopoda\", \"Decapodiformes\", \"Loliginidae\", \"Loligo\", \"vulgaris\", \"Mollusca\"],\n",
    "    [\"Gastropoda\", \"Cerithioidea\", \"Thiaridae\", \"Thiara\", \"granifera\", \"Mollusca\"],\n",
    "    [\"Bivalvia\", \"Veneroida\", \"Donacidae\", \"Donax\", \"variabilis\", \"Mollusca\"],\n",
    "    [\"Gastropoda\", \"Basommatophora\", \"Planorbidae\", \"Planorbarius\", \"corneus\", \"Mollusca\"],\n",
    "    [\"Cephalopoda\", \"Nautilida\", \"Nautilidae\", \"Nautilus\", \"pompilius\", \"Mollusca\"],\n",
    "    [\"Bivalvia\", \"Pectinida\", \"Pectinidae\", \"Pecten\", \"maximus\", \"Mollusca\"],\n",
    "    [\"Gastropoda\", \"Opisthobranchia\", \"Aplysiidae\", \"Aplysia\", \"californica\", \"Mollusca\"],\n",
    "    [\"Bivalvia\", \"Cardiida\", \"Cardiidae\", \"Cardium\", \"edule\", \"Mollusca\"],\n",
    "    [\"Gastropoda\", \"Caenogastropoda\", \"Neritidae\", \"Nerita\", \"atramentosa\", \"Mollusca\"]\n",
    "]\n",
    "# Adding the new organisms starting from index 50\n",
    "dataset.iloc[50:50+len(new_organisms), :] = new_organisms\n",
    "dataset.to_csv('updated_dataset.csv', index=False)\n",
    "\n",
    "\n",
    "dataset.iloc[50:70]"
   ]
  },
  {
   "cell_type": "code",
   "execution_count": 11,
   "id": "5dc7fc9e-9867-4116-b909-e523082a3cf8",
   "metadata": {},
   "outputs": [
    {
     "data": {
      "text/html": [
       "<div>\n",
       "<style scoped>\n",
       "    .dataframe tbody tr th:only-of-type {\n",
       "        vertical-align: middle;\n",
       "    }\n",
       "\n",
       "    .dataframe tbody tr th {\n",
       "        vertical-align: top;\n",
       "    }\n",
       "\n",
       "    .dataframe thead th {\n",
       "        text-align: right;\n",
       "    }\n",
       "</style>\n",
       "<table border=\"1\" class=\"dataframe\">\n",
       "  <thead>\n",
       "    <tr style=\"text-align: right;\">\n",
       "      <th></th>\n",
       "      <th>class</th>\n",
       "      <th>order</th>\n",
       "      <th>family</th>\n",
       "      <th>genus</th>\n",
       "      <th>species</th>\n",
       "      <th>phylum</th>\n",
       "    </tr>\n",
       "  </thead>\n",
       "  <tbody>\n",
       "    <tr>\n",
       "      <th>213</th>\n",
       "      <td>Chondrichthyes</td>\n",
       "      <td>Squaliformes</td>\n",
       "      <td>Dalatiidae</td>\n",
       "      <td>Dalatias</td>\n",
       "      <td>licha</td>\n",
       "      <td>Chordata</td>\n",
       "    </tr>\n",
       "    <tr>\n",
       "      <th>131</th>\n",
       "      <td>Mammalia</td>\n",
       "      <td>Carnivora</td>\n",
       "      <td>Hyaenidae</td>\n",
       "      <td>Hyaena</td>\n",
       "      <td>hyaena</td>\n",
       "      <td>Chordata</td>\n",
       "    </tr>\n",
       "    <tr>\n",
       "      <th>145</th>\n",
       "      <td>Chondrichthyes</td>\n",
       "      <td>Lamniformes</td>\n",
       "      <td>Cetorhinidae</td>\n",
       "      <td>Cetorhinus</td>\n",
       "      <td>maximus</td>\n",
       "      <td>Chordata</td>\n",
       "    </tr>\n",
       "    <tr>\n",
       "      <th>264</th>\n",
       "      <td>Aves</td>\n",
       "      <td>Charadriiformes</td>\n",
       "      <td>Burhinidae</td>\n",
       "      <td>Esacus</td>\n",
       "      <td>magnirostris</td>\n",
       "      <td>Chordata</td>\n",
       "    </tr>\n",
       "    <tr>\n",
       "      <th>69</th>\n",
       "      <td>Aves</td>\n",
       "      <td>Anseriformes</td>\n",
       "      <td>Anatidae</td>\n",
       "      <td>Somateria</td>\n",
       "      <td>fischeri</td>\n",
       "      <td>Chordata</td>\n",
       "    </tr>\n",
       "    <tr>\n",
       "      <th>...</th>\n",
       "      <td>...</td>\n",
       "      <td>...</td>\n",
       "      <td>...</td>\n",
       "      <td>...</td>\n",
       "      <td>...</td>\n",
       "      <td>...</td>\n",
       "    </tr>\n",
       "    <tr>\n",
       "      <th>293</th>\n",
       "      <td>Mammalia</td>\n",
       "      <td>Primates</td>\n",
       "      <td>Callitrichidae</td>\n",
       "      <td>Cebuella</td>\n",
       "      <td>pygmaea</td>\n",
       "      <td>Chordata</td>\n",
       "    </tr>\n",
       "    <tr>\n",
       "      <th>228</th>\n",
       "      <td>Chondrichthyes</td>\n",
       "      <td>Carcharhiniformes</td>\n",
       "      <td>Carcharhinidae</td>\n",
       "      <td>Carcharhinus</td>\n",
       "      <td>falciformis</td>\n",
       "      <td>Chordata</td>\n",
       "    </tr>\n",
       "    <tr>\n",
       "      <th>206</th>\n",
       "      <td>Aves</td>\n",
       "      <td>Piciformes</td>\n",
       "      <td>Ramphastidae</td>\n",
       "      <td>Andigena</td>\n",
       "      <td>laminirostris</td>\n",
       "      <td>Chordata</td>\n",
       "    </tr>\n",
       "    <tr>\n",
       "      <th>16</th>\n",
       "      <td>Insecta</td>\n",
       "      <td>Hymenoptera</td>\n",
       "      <td>Formicidae</td>\n",
       "      <td>Dorymyrmex</td>\n",
       "      <td>insanus</td>\n",
       "      <td>Arthropoda</td>\n",
       "    </tr>\n",
       "    <tr>\n",
       "      <th>162</th>\n",
       "      <td>Amphibia</td>\n",
       "      <td>Caudata</td>\n",
       "      <td>Salamandridae</td>\n",
       "      <td>Neurergus</td>\n",
       "      <td>kaiseri</td>\n",
       "      <td>Chordata</td>\n",
       "    </tr>\n",
       "  </tbody>\n",
       "</table>\n",
       "<p>400 rows × 6 columns</p>\n",
       "</div>"
      ],
      "text/plain": [
       "              class              order          family         genus  \\\n",
       "213  Chondrichthyes       Squaliformes      Dalatiidae      Dalatias   \n",
       "131        Mammalia          Carnivora       Hyaenidae        Hyaena   \n",
       "145  Chondrichthyes        Lamniformes    Cetorhinidae    Cetorhinus   \n",
       "264            Aves    Charadriiformes      Burhinidae        Esacus   \n",
       "69             Aves       Anseriformes        Anatidae     Somateria   \n",
       "..              ...                ...             ...           ...   \n",
       "293        Mammalia           Primates  Callitrichidae      Cebuella   \n",
       "228  Chondrichthyes  Carcharhiniformes  Carcharhinidae  Carcharhinus   \n",
       "206            Aves         Piciformes    Ramphastidae      Andigena   \n",
       "16          Insecta        Hymenoptera      Formicidae    Dorymyrmex   \n",
       "162        Amphibia            Caudata   Salamandridae     Neurergus   \n",
       "\n",
       "           species      phylum  \n",
       "213          licha    Chordata  \n",
       "131         hyaena    Chordata  \n",
       "145        maximus    Chordata  \n",
       "264   magnirostris    Chordata  \n",
       "69        fischeri    Chordata  \n",
       "..             ...         ...  \n",
       "293        pygmaea    Chordata  \n",
       "228    falciformis    Chordata  \n",
       "206  laminirostris    Chordata  \n",
       "16         insanus  Arthropoda  \n",
       "162        kaiseri    Chordata  \n",
       "\n",
       "[400 rows x 6 columns]"
      ]
     },
     "execution_count": 11,
     "metadata": {},
     "output_type": "execute_result"
    }
   ],
   "source": [
    "#shuffling the dataset and returning all (100%) of the rows but shuffled \n",
    "dataset= dataset.sample(frac=1)\n",
    "dataset"
   ]
  },
  {
   "cell_type": "code",
   "execution_count": 12,
   "id": "419a0a09-5558-4096-a674-81ca16271b20",
   "metadata": {},
   "outputs": [
    {
     "data": {
      "text/html": [
       "<div>\n",
       "<style scoped>\n",
       "    .dataframe tbody tr th:only-of-type {\n",
       "        vertical-align: middle;\n",
       "    }\n",
       "\n",
       "    .dataframe tbody tr th {\n",
       "        vertical-align: top;\n",
       "    }\n",
       "\n",
       "    .dataframe thead th {\n",
       "        text-align: right;\n",
       "    }\n",
       "</style>\n",
       "<table border=\"1\" class=\"dataframe\">\n",
       "  <thead>\n",
       "    <tr style=\"text-align: right;\">\n",
       "      <th></th>\n",
       "      <th>class</th>\n",
       "      <th>order</th>\n",
       "      <th>family</th>\n",
       "      <th>genus</th>\n",
       "      <th>species</th>\n",
       "      <th>phylum</th>\n",
       "    </tr>\n",
       "  </thead>\n",
       "  <tbody>\n",
       "    <tr>\n",
       "      <th>0</th>\n",
       "      <td>Chondrichthyes</td>\n",
       "      <td>Squaliformes</td>\n",
       "      <td>Dalatiidae</td>\n",
       "      <td>Dalatias</td>\n",
       "      <td>licha</td>\n",
       "      <td>Chordata</td>\n",
       "    </tr>\n",
       "    <tr>\n",
       "      <th>1</th>\n",
       "      <td>Mammalia</td>\n",
       "      <td>Carnivora</td>\n",
       "      <td>Hyaenidae</td>\n",
       "      <td>Hyaena</td>\n",
       "      <td>hyaena</td>\n",
       "      <td>Chordata</td>\n",
       "    </tr>\n",
       "    <tr>\n",
       "      <th>2</th>\n",
       "      <td>Chondrichthyes</td>\n",
       "      <td>Lamniformes</td>\n",
       "      <td>Cetorhinidae</td>\n",
       "      <td>Cetorhinus</td>\n",
       "      <td>maximus</td>\n",
       "      <td>Chordata</td>\n",
       "    </tr>\n",
       "    <tr>\n",
       "      <th>3</th>\n",
       "      <td>Aves</td>\n",
       "      <td>Charadriiformes</td>\n",
       "      <td>Burhinidae</td>\n",
       "      <td>Esacus</td>\n",
       "      <td>magnirostris</td>\n",
       "      <td>Chordata</td>\n",
       "    </tr>\n",
       "    <tr>\n",
       "      <th>4</th>\n",
       "      <td>Aves</td>\n",
       "      <td>Anseriformes</td>\n",
       "      <td>Anatidae</td>\n",
       "      <td>Somateria</td>\n",
       "      <td>fischeri</td>\n",
       "      <td>Chordata</td>\n",
       "    </tr>\n",
       "    <tr>\n",
       "      <th>...</th>\n",
       "      <td>...</td>\n",
       "      <td>...</td>\n",
       "      <td>...</td>\n",
       "      <td>...</td>\n",
       "      <td>...</td>\n",
       "      <td>...</td>\n",
       "    </tr>\n",
       "    <tr>\n",
       "      <th>395</th>\n",
       "      <td>Mammalia</td>\n",
       "      <td>Primates</td>\n",
       "      <td>Callitrichidae</td>\n",
       "      <td>Cebuella</td>\n",
       "      <td>pygmaea</td>\n",
       "      <td>Chordata</td>\n",
       "    </tr>\n",
       "    <tr>\n",
       "      <th>396</th>\n",
       "      <td>Chondrichthyes</td>\n",
       "      <td>Carcharhiniformes</td>\n",
       "      <td>Carcharhinidae</td>\n",
       "      <td>Carcharhinus</td>\n",
       "      <td>falciformis</td>\n",
       "      <td>Chordata</td>\n",
       "    </tr>\n",
       "    <tr>\n",
       "      <th>397</th>\n",
       "      <td>Aves</td>\n",
       "      <td>Piciformes</td>\n",
       "      <td>Ramphastidae</td>\n",
       "      <td>Andigena</td>\n",
       "      <td>laminirostris</td>\n",
       "      <td>Chordata</td>\n",
       "    </tr>\n",
       "    <tr>\n",
       "      <th>398</th>\n",
       "      <td>Insecta</td>\n",
       "      <td>Hymenoptera</td>\n",
       "      <td>Formicidae</td>\n",
       "      <td>Dorymyrmex</td>\n",
       "      <td>insanus</td>\n",
       "      <td>Arthropoda</td>\n",
       "    </tr>\n",
       "    <tr>\n",
       "      <th>399</th>\n",
       "      <td>Amphibia</td>\n",
       "      <td>Caudata</td>\n",
       "      <td>Salamandridae</td>\n",
       "      <td>Neurergus</td>\n",
       "      <td>kaiseri</td>\n",
       "      <td>Chordata</td>\n",
       "    </tr>\n",
       "  </tbody>\n",
       "</table>\n",
       "<p>400 rows × 6 columns</p>\n",
       "</div>"
      ],
      "text/plain": [
       "              class              order          family         genus  \\\n",
       "0    Chondrichthyes       Squaliformes      Dalatiidae      Dalatias   \n",
       "1          Mammalia          Carnivora       Hyaenidae        Hyaena   \n",
       "2    Chondrichthyes        Lamniformes    Cetorhinidae    Cetorhinus   \n",
       "3              Aves    Charadriiformes      Burhinidae        Esacus   \n",
       "4              Aves       Anseriformes        Anatidae     Somateria   \n",
       "..              ...                ...             ...           ...   \n",
       "395        Mammalia           Primates  Callitrichidae      Cebuella   \n",
       "396  Chondrichthyes  Carcharhiniformes  Carcharhinidae  Carcharhinus   \n",
       "397            Aves         Piciformes    Ramphastidae      Andigena   \n",
       "398         Insecta        Hymenoptera      Formicidae    Dorymyrmex   \n",
       "399        Amphibia            Caudata   Salamandridae     Neurergus   \n",
       "\n",
       "           species      phylum  \n",
       "0            licha    Chordata  \n",
       "1           hyaena    Chordata  \n",
       "2          maximus    Chordata  \n",
       "3     magnirostris    Chordata  \n",
       "4         fischeri    Chordata  \n",
       "..             ...         ...  \n",
       "395        pygmaea    Chordata  \n",
       "396    falciformis    Chordata  \n",
       "397  laminirostris    Chordata  \n",
       "398        insanus  Arthropoda  \n",
       "399        kaiseri    Chordata  \n",
       "\n",
       "[400 rows x 6 columns]"
      ]
     },
     "execution_count": 12,
     "metadata": {},
     "output_type": "execute_result"
    }
   ],
   "source": [
    "#renumbering the row indices\n",
    "dataset.reset_index(drop=True, inplace=True)\n",
    "dataset"
   ]
  },
  {
   "cell_type": "code",
   "execution_count": 13,
   "id": "4982edfd-1222-48cf-9c6a-e87465d9b4f6",
   "metadata": {},
   "outputs": [
    {
     "data": {
      "text/html": [
       "<div>\n",
       "<style scoped>\n",
       "    .dataframe tbody tr th:only-of-type {\n",
       "        vertical-align: middle;\n",
       "    }\n",
       "\n",
       "    .dataframe tbody tr th {\n",
       "        vertical-align: top;\n",
       "    }\n",
       "\n",
       "    .dataframe thead th {\n",
       "        text-align: right;\n",
       "    }\n",
       "</style>\n",
       "<table border=\"1\" class=\"dataframe\">\n",
       "  <thead>\n",
       "    <tr style=\"text-align: right;\">\n",
       "      <th></th>\n",
       "      <th>class</th>\n",
       "      <th>order</th>\n",
       "      <th>family</th>\n",
       "      <th>genus</th>\n",
       "      <th>species</th>\n",
       "      <th>phylum</th>\n",
       "    </tr>\n",
       "  </thead>\n",
       "  <tbody>\n",
       "    <tr>\n",
       "      <th>390</th>\n",
       "      <td>Amphibia</td>\n",
       "      <td>Anura</td>\n",
       "      <td>Bufonidae</td>\n",
       "      <td>Atelopus</td>\n",
       "      <td>certus</td>\n",
       "      <td>Chordata</td>\n",
       "    </tr>\n",
       "    <tr>\n",
       "      <th>391</th>\n",
       "      <td>Bivalvia</td>\n",
       "      <td>Unionida</td>\n",
       "      <td>Unionidae</td>\n",
       "      <td>Potamilus</td>\n",
       "      <td>amphichaenus</td>\n",
       "      <td>Mollusca</td>\n",
       "    </tr>\n",
       "    <tr>\n",
       "      <th>392</th>\n",
       "      <td>Anthozoa</td>\n",
       "      <td>Scleractinia</td>\n",
       "      <td>Merulinidae</td>\n",
       "      <td>Orbicella</td>\n",
       "      <td>annularis</td>\n",
       "      <td>Cnidaria</td>\n",
       "    </tr>\n",
       "    <tr>\n",
       "      <th>393</th>\n",
       "      <td>Reptilia</td>\n",
       "      <td>Testudines</td>\n",
       "      <td>Emydidae</td>\n",
       "      <td>Graptemys</td>\n",
       "      <td>oculifera</td>\n",
       "      <td>Chordata</td>\n",
       "    </tr>\n",
       "    <tr>\n",
       "      <th>394</th>\n",
       "      <td>Mammalia</td>\n",
       "      <td>Primates</td>\n",
       "      <td>Atelidae</td>\n",
       "      <td>Alouatta</td>\n",
       "      <td>caraya</td>\n",
       "      <td>Chordata</td>\n",
       "    </tr>\n",
       "    <tr>\n",
       "      <th>395</th>\n",
       "      <td>Mammalia</td>\n",
       "      <td>Primates</td>\n",
       "      <td>Callitrichidae</td>\n",
       "      <td>Cebuella</td>\n",
       "      <td>pygmaea</td>\n",
       "      <td>Chordata</td>\n",
       "    </tr>\n",
       "    <tr>\n",
       "      <th>396</th>\n",
       "      <td>Chondrichthyes</td>\n",
       "      <td>Carcharhiniformes</td>\n",
       "      <td>Carcharhinidae</td>\n",
       "      <td>Carcharhinus</td>\n",
       "      <td>falciformis</td>\n",
       "      <td>Chordata</td>\n",
       "    </tr>\n",
       "    <tr>\n",
       "      <th>397</th>\n",
       "      <td>Aves</td>\n",
       "      <td>Piciformes</td>\n",
       "      <td>Ramphastidae</td>\n",
       "      <td>Andigena</td>\n",
       "      <td>laminirostris</td>\n",
       "      <td>Chordata</td>\n",
       "    </tr>\n",
       "    <tr>\n",
       "      <th>398</th>\n",
       "      <td>Insecta</td>\n",
       "      <td>Hymenoptera</td>\n",
       "      <td>Formicidae</td>\n",
       "      <td>Dorymyrmex</td>\n",
       "      <td>insanus</td>\n",
       "      <td>Arthropoda</td>\n",
       "    </tr>\n",
       "    <tr>\n",
       "      <th>399</th>\n",
       "      <td>Amphibia</td>\n",
       "      <td>Caudata</td>\n",
       "      <td>Salamandridae</td>\n",
       "      <td>Neurergus</td>\n",
       "      <td>kaiseri</td>\n",
       "      <td>Chordata</td>\n",
       "    </tr>\n",
       "  </tbody>\n",
       "</table>\n",
       "</div>"
      ],
      "text/plain": [
       "              class              order          family         genus  \\\n",
       "390        Amphibia              Anura       Bufonidae      Atelopus   \n",
       "391        Bivalvia           Unionida       Unionidae     Potamilus   \n",
       "392        Anthozoa       Scleractinia     Merulinidae     Orbicella   \n",
       "393        Reptilia         Testudines        Emydidae     Graptemys   \n",
       "394        Mammalia           Primates        Atelidae      Alouatta   \n",
       "395        Mammalia           Primates  Callitrichidae      Cebuella   \n",
       "396  Chondrichthyes  Carcharhiniformes  Carcharhinidae  Carcharhinus   \n",
       "397            Aves         Piciformes    Ramphastidae      Andigena   \n",
       "398         Insecta        Hymenoptera      Formicidae    Dorymyrmex   \n",
       "399        Amphibia            Caudata   Salamandridae     Neurergus   \n",
       "\n",
       "           species      phylum  \n",
       "390         certus    Chordata  \n",
       "391   amphichaenus    Mollusca  \n",
       "392      annularis    Cnidaria  \n",
       "393      oculifera    Chordata  \n",
       "394         caraya    Chordata  \n",
       "395        pygmaea    Chordata  \n",
       "396    falciformis    Chordata  \n",
       "397  laminirostris    Chordata  \n",
       "398        insanus  Arthropoda  \n",
       "399        kaiseri    Chordata  "
      ]
     },
     "execution_count": 13,
     "metadata": {},
     "output_type": "execute_result"
    }
   ],
   "source": [
    "dataset.tail(10)"
   ]
  },
  {
   "cell_type": "code",
   "execution_count": 14,
   "id": "a78c7954-b44a-4ae3-95ec-a9d46c254fc5",
   "metadata": {},
   "outputs": [],
   "source": [
    "from sklearn.preprocessing import LabelEncoder\n",
    "import pandas as pd\n"
   ]
  },
  {
   "cell_type": "code",
   "execution_count": 15,
   "id": "50461957",
   "metadata": {},
   "outputs": [],
   "source": [
    "# Apply Label Encoding to all categorical columns\n",
    "label_encoder = LabelEncoder()"
   ]
  },
  {
   "cell_type": "code",
   "execution_count": 16,
   "id": "13b03983",
   "metadata": {},
   "outputs": [],
   "source": [
    " #Identifying columns that need encoding\n",
    "categorical_columns = ['class', 'order', 'family', 'genus', 'species',]"
   ]
  },
  {
   "cell_type": "code",
   "execution_count": 17,
   "id": "04e4c9ad",
   "metadata": {},
   "outputs": [],
   "source": [
    "# Encoding each categorical column\n",
    "for column in categorical_columns:\n",
    "    dataset[column] = label_encoder.fit_transform(dataset[column])"
   ]
  },
  {
   "cell_type": "code",
   "execution_count": 18,
   "id": "3204a254",
   "metadata": {},
   "outputs": [
    {
     "data": {
      "text/html": [
       "<div>\n",
       "<style scoped>\n",
       "    .dataframe tbody tr th:only-of-type {\n",
       "        vertical-align: middle;\n",
       "    }\n",
       "\n",
       "    .dataframe tbody tr th {\n",
       "        vertical-align: top;\n",
       "    }\n",
       "\n",
       "    .dataframe thead th {\n",
       "        text-align: right;\n",
       "    }\n",
       "</style>\n",
       "<table border=\"1\" class=\"dataframe\">\n",
       "  <thead>\n",
       "    <tr style=\"text-align: right;\">\n",
       "      <th></th>\n",
       "      <th>class</th>\n",
       "      <th>order</th>\n",
       "      <th>family</th>\n",
       "      <th>genus</th>\n",
       "      <th>species</th>\n",
       "      <th>phylum</th>\n",
       "    </tr>\n",
       "  </thead>\n",
       "  <tbody>\n",
       "    <tr>\n",
       "      <th>0</th>\n",
       "      <td>9</td>\n",
       "      <td>97</td>\n",
       "      <td>69</td>\n",
       "      <td>97</td>\n",
       "      <td>208</td>\n",
       "      <td>Chordata</td>\n",
       "    </tr>\n",
       "    <tr>\n",
       "      <th>1</th>\n",
       "      <td>16</td>\n",
       "      <td>15</td>\n",
       "      <td>104</td>\n",
       "      <td>147</td>\n",
       "      <td>166</td>\n",
       "      <td>Chordata</td>\n",
       "    </tr>\n",
       "    <tr>\n",
       "      <th>2</th>\n",
       "      <td>9</td>\n",
       "      <td>51</td>\n",
       "      <td>46</td>\n",
       "      <td>76</td>\n",
       "      <td>224</td>\n",
       "      <td>Chordata</td>\n",
       "    </tr>\n",
       "    <tr>\n",
       "      <th>3</th>\n",
       "      <td>5</td>\n",
       "      <td>20</td>\n",
       "      <td>34</td>\n",
       "      <td>113</td>\n",
       "      <td>218</td>\n",
       "      <td>Chordata</td>\n",
       "    </tr>\n",
       "    <tr>\n",
       "      <th>4</th>\n",
       "      <td>5</td>\n",
       "      <td>3</td>\n",
       "      <td>9</td>\n",
       "      <td>286</td>\n",
       "      <td>134</td>\n",
       "      <td>Chordata</td>\n",
       "    </tr>\n",
       "    <tr>\n",
       "      <th>...</th>\n",
       "      <td>...</td>\n",
       "      <td>...</td>\n",
       "      <td>...</td>\n",
       "      <td>...</td>\n",
       "      <td>...</td>\n",
       "      <td>...</td>\n",
       "    </tr>\n",
       "    <tr>\n",
       "      <th>395</th>\n",
       "      <td>16</td>\n",
       "      <td>80</td>\n",
       "      <td>36</td>\n",
       "      <td>68</td>\n",
       "      <td>294</td>\n",
       "      <td>Chordata</td>\n",
       "    </tr>\n",
       "    <tr>\n",
       "      <th>396</th>\n",
       "      <td>9</td>\n",
       "      <td>13</td>\n",
       "      <td>39</td>\n",
       "      <td>64</td>\n",
       "      <td>132</td>\n",
       "      <td>Chordata</td>\n",
       "    </tr>\n",
       "    <tr>\n",
       "      <th>397</th>\n",
       "      <td>5</td>\n",
       "      <td>79</td>\n",
       "      <td>175</td>\n",
       "      <td>16</td>\n",
       "      <td>196</td>\n",
       "      <td>Chordata</td>\n",
       "    </tr>\n",
       "    <tr>\n",
       "      <th>398</th>\n",
       "      <td>14</td>\n",
       "      <td>48</td>\n",
       "      <td>88</td>\n",
       "      <td>105</td>\n",
       "      <td>174</td>\n",
       "      <td>Arthropoda</td>\n",
       "    </tr>\n",
       "    <tr>\n",
       "      <th>399</th>\n",
       "      <td>1</td>\n",
       "      <td>16</td>\n",
       "      <td>181</td>\n",
       "      <td>205</td>\n",
       "      <td>187</td>\n",
       "      <td>Chordata</td>\n",
       "    </tr>\n",
       "  </tbody>\n",
       "</table>\n",
       "<p>400 rows × 6 columns</p>\n",
       "</div>"
      ],
      "text/plain": [
       "     class  order  family  genus  species      phylum\n",
       "0        9     97      69     97      208    Chordata\n",
       "1       16     15     104    147      166    Chordata\n",
       "2        9     51      46     76      224    Chordata\n",
       "3        5     20      34    113      218    Chordata\n",
       "4        5      3       9    286      134    Chordata\n",
       "..     ...    ...     ...    ...      ...         ...\n",
       "395     16     80      36     68      294    Chordata\n",
       "396      9     13      39     64      132    Chordata\n",
       "397      5     79     175     16      196    Chordata\n",
       "398     14     48      88    105      174  Arthropoda\n",
       "399      1     16     181    205      187    Chordata\n",
       "\n",
       "[400 rows x 6 columns]"
      ]
     },
     "execution_count": 18,
     "metadata": {},
     "output_type": "execute_result"
    }
   ],
   "source": [
    "dataset"
   ]
  },
  {
   "cell_type": "code",
   "execution_count": 19,
   "id": "8332362b",
   "metadata": {},
   "outputs": [
    {
     "data": {
      "image/png": "[encoded data removed]",
      "text/plain": [
       "<Figure size 2000x1000 with 5 Axes>"
      ]
     },
     "metadata": {},
     "output_type": "display_data"
    }
   ],
   "source": [
    "# Box plot \n",
    "import pandas as pd\n",
    "import matplotlib.pyplot as plt\n",
    "import seaborn as sns\n",
    "import numpy as np\n",
    "\n",
    "\n",
    "red_circle = dict(markerfacecolor='red', marker='o', markeredgecolor='white')\n",
    "box_colors = ['skyblue', 'orange', 'lightgreen', 'lightpink', 'purple', 'yellow']\n",
    "special_color = 'darkblue'\n",
    "\n",
    "\n",
    "fig, axs = plt.subplots(1, len(dataset.columns) - 1, figsize=(20, 10))  # Adjust number of subplots\n",
    "\n",
    "\n",
    "for i, ax in enumerate(axs.flat):\n",
    "\n",
    "    box = ax.boxplot(dataset.iloc[:, i], patch_artist=True, flierprops=red_circle)\n",
    "\n",
    "    \n",
    "    if i == 0:  \n",
    "        color = special_color\n",
    "    else:\n",
    "        color = box_colors[i % len(box_colors)]\n",
    "\n",
    "\n",
    "    for patch in box['boxes']:\n",
    "        patch.set_facecolor(color)\n",
    "\n",
    "   \n",
    "    ax.set_title(dataset.columns[i], fontsize=28, fontweight='bold')\n",
    "    ax.tick_params(axis='y', labelsize=14)\n",
    "\n",
    "plt.suptitle('Box Plot', fontsize=32, fontweight='bold')\n",
    "\n",
    "plt.tight_layout(rect=[0, 0, 1, 0.95]) \n",
    "plt.show()\n",
    "\n",
    "\n",
    "\n"
   ]
  },
  {
   "cell_type": "code",
   "execution_count": 20,
   "id": "c068716a-4aa4-4ee6-8a95-8032b3072a1d",
   "metadata": {},
   "outputs": [],
   "source": [
    "from sklearn.model_selection import train_test_split, KFold, cross_val_score\n",
    "from sklearn import model_selection"
   ]
  },
  {
   "cell_type": "code",
   "execution_count": 21,
   "id": "5f675629",
   "metadata": {},
   "outputs": [],
   "source": [
    "array = dataset.values\n",
    "X = array[:, 0:5]\n",
    "Y = array[:, 5]\n",
    "validation_size = 0.20\n",
    "seed = 7\n",
    "X_train, X_validation, Y_train, Y_validation =model_selection.train_test_split(X, Y, test_size=validation_size, random_state=seed)"
   ]
  },
  {
   "cell_type": "code",
   "execution_count": 22,
   "id": "90530f55-4f96-488f-b8ad-ca3b69386561",
   "metadata": {},
   "outputs": [],
   "source": [
    "seed = 42\n",
    "scoring = 'accuracy'"
   ]
  },
  {
   "cell_type": "code",
   "execution_count": 23,
   "id": "66400ca7-0642-4f81-9fa8-dda00a2f1884",
   "metadata": {},
   "outputs": [],
   "source": [
    "from sklearn.linear_model import LogisticRegression\n",
    "from sklearn.tree import DecisionTreeClassifier\n",
    "from sklearn.neighbors import KNeighborsClassifier\n",
    "from sklearn.discriminant_analysis import LinearDiscriminantAnalysis\n",
    "from sklearn.naive_bayes import GaussianNB\n",
    "from sklearn.svm import SVC\n",
    "from sklearn.preprocessing import StandardScaler\n",
    "from sklearn.linear_model import LogisticRegression"
   ]
  },
  {
   "cell_type": "code",
   "execution_count": 24,
   "id": "3b6559e5",
   "metadata": {},
   "outputs": [
    {
     "name": "stderr",
     "output_type": "stream",
     "text": [
      "c:\\PROGRAMDATA\\ANACONDA3\\Lib\\site-packages\\sklearn\\linear_model\\_logistic.py:469: ConvergenceWarning: lbfgs failed to converge (status=1):\n",
      "STOP: TOTAL NO. of ITERATIONS REACHED LIMIT.\n",
      "\n",
      "Increase the number of iterations (max_iter) or scale the data as shown in:\n",
      "    https://scikit-learn.org/stable/modules/preprocessing.html\n",
      "Please also refer to the documentation for alternative solver options:\n",
      "    https://scikit-learn.org/stable/modules/linear_model.html#logistic-regression\n",
      "  n_iter_i = _check_optimize_result(\n",
      "c:\\PROGRAMDATA\\ANACONDA3\\Lib\\site-packages\\sklearn\\linear_model\\_logistic.py:469: ConvergenceWarning: lbfgs failed to converge (status=1):\n",
      "STOP: TOTAL NO. of ITERATIONS REACHED LIMIT.\n",
      "\n",
      "Increase the number of iterations (max_iter) or scale the data as shown in:\n",
      "    https://scikit-learn.org/stable/modules/preprocessing.html\n",
      "Please also refer to the documentation for alternative solver options:\n",
      "    https://scikit-learn.org/stable/modules/linear_model.html#logistic-regression\n",
      "  n_iter_i = _check_optimize_result(\n",
      "c:\\PROGRAMDATA\\ANACONDA3\\Lib\\site-packages\\sklearn\\linear_model\\_logistic.py:469: ConvergenceWarning: lbfgs failed to converge (status=1):\n",
      "STOP: TOTAL NO. of ITERATIONS REACHED LIMIT.\n",
      "\n",
      "Increase the number of iterations (max_iter) or scale the data as shown in:\n",
      "    https://scikit-learn.org/stable/modules/preprocessing.html\n",
      "Please also refer to the documentation for alternative solver options:\n",
      "    https://scikit-learn.org/stable/modules/linear_model.html#logistic-regression\n",
      "  n_iter_i = _check_optimize_result(\n",
      "c:\\PROGRAMDATA\\ANACONDA3\\Lib\\site-packages\\sklearn\\linear_model\\_logistic.py:469: ConvergenceWarning: lbfgs failed to converge (status=1):\n",
      "STOP: TOTAL NO. of ITERATIONS REACHED LIMIT.\n",
      "\n",
      "Increase the number of iterations (max_iter) or scale the data as shown in:\n",
      "    https://scikit-learn.org/stable/modules/preprocessing.html\n",
      "Please also refer to the documentation for alternative solver options:\n",
      "    https://scikit-learn.org/stable/modules/linear_model.html#logistic-regression\n",
      "  n_iter_i = _check_optimize_result(\n",
      "c:\\PROGRAMDATA\\ANACONDA3\\Lib\\site-packages\\sklearn\\linear_model\\_logistic.py:469: ConvergenceWarning: lbfgs failed to converge (status=1):\n",
      "STOP: TOTAL NO. of ITERATIONS REACHED LIMIT.\n",
      "\n",
      "Increase the number of iterations (max_iter) or scale the data as shown in:\n",
      "    https://scikit-learn.org/stable/modules/preprocessing.html\n",
      "Please also refer to the documentation for alternative solver options:\n",
      "    https://scikit-learn.org/stable/modules/linear_model.html#logistic-regression\n",
      "  n_iter_i = _check_optimize_result(\n",
      "c:\\PROGRAMDATA\\ANACONDA3\\Lib\\site-packages\\sklearn\\linear_model\\_logistic.py:469: ConvergenceWarning: lbfgs failed to converge (status=1):\n",
      "STOP: TOTAL NO. of ITERATIONS REACHED LIMIT.\n",
      "\n",
      "Increase the number of iterations (max_iter) or scale the data as shown in:\n",
      "    https://scikit-learn.org/stable/modules/preprocessing.html\n",
      "Please also refer to the documentation for alternative solver options:\n",
      "    https://scikit-learn.org/stable/modules/linear_model.html#logistic-regression\n",
      "  n_iter_i = _check_optimize_result(\n",
      "c:\\PROGRAMDATA\\ANACONDA3\\Lib\\site-packages\\sklearn\\linear_model\\_logistic.py:469: ConvergenceWarning: lbfgs failed to converge (status=1):\n",
      "STOP: TOTAL NO. of ITERATIONS REACHED LIMIT.\n",
      "\n",
      "Increase the number of iterations (max_iter) or scale the data as shown in:\n",
      "    https://scikit-learn.org/stable/modules/preprocessing.html\n",
      "Please also refer to the documentation for alternative solver options:\n",
      "    https://scikit-learn.org/stable/modules/linear_model.html#logistic-regression\n",
      "  n_iter_i = _check_optimize_result(\n",
      "c:\\PROGRAMDATA\\ANACONDA3\\Lib\\site-packages\\sklearn\\linear_model\\_logistic.py:469: ConvergenceWarning: lbfgs failed to converge (status=1):\n",
      "STOP: TOTAL NO. of ITERATIONS REACHED LIMIT.\n",
      "\n",
      "Increase the number of iterations (max_iter) or scale the data as shown in:\n",
      "    https://scikit-learn.org/stable/modules/preprocessing.html\n",
      "Please also refer to the documentation for alternative solver options:\n",
      "    https://scikit-learn.org/stable/modules/linear_model.html#logistic-regression\n",
      "  n_iter_i = _check_optimize_result(\n",
      "c:\\PROGRAMDATA\\ANACONDA3\\Lib\\site-packages\\sklearn\\linear_model\\_logistic.py:469: ConvergenceWarning: lbfgs failed to converge (status=1):\n",
      "STOP: TOTAL NO. of ITERATIONS REACHED LIMIT.\n",
      "\n",
      "Increase the number of iterations (max_iter) or scale the data as shown in:\n",
      "    https://scikit-learn.org/stable/modules/preprocessing.html\n",
      "Please also refer to the documentation for alternative solver options:\n",
      "    https://scikit-learn.org/stable/modules/linear_model.html#logistic-regression\n",
      "  n_iter_i = _check_optimize_result(\n",
      "c:\\PROGRAMDATA\\ANACONDA3\\Lib\\site-packages\\sklearn\\linear_model\\_logistic.py:469: ConvergenceWarning: lbfgs failed to converge (status=1):\n",
      "STOP: TOTAL NO. of ITERATIONS REACHED LIMIT.\n",
      "\n",
      "Increase the number of iterations (max_iter) or scale the data as shown in:\n",
      "    https://scikit-learn.org/stable/modules/preprocessing.html\n",
      "Please also refer to the documentation for alternative solver options:\n",
      "    https://scikit-learn.org/stable/modules/linear_model.html#logistic-regression\n",
      "  n_iter_i = _check_optimize_result(\n"
     ]
    },
    {
     "name": "stdout",
     "output_type": "stream",
     "text": [
      "LR: 0.762500 (0.106617)\n",
      "LDA: 0.771875 (0.083911)\n",
      "KNN: 0.706250 (0.062812)\n",
      "CART: 0.968750 (0.024206)\n",
      "NB: 0.806250 (0.069597)\n",
      "SVM: 0.746875 (0.087779)\n"
     ]
    }
   ],
   "source": [
    "models = []\n",
    "models.append(('LR', LogisticRegression()))\n",
    "models.append(('LDA', LinearDiscriminantAnalysis()))\n",
    "models.append(('KNN', KNeighborsClassifier()))\n",
    "models.append(('CART', DecisionTreeClassifier()))\n",
    "models.append(('NB', GaussianNB()))\n",
    "models.append(('SVM', SVC()))\n",
    "# print(models)\n",
    "# evaluate each model in turn\n",
    "results = []\n",
    "names = []\n",
    "for name, model in models:\n",
    "        kfold = model_selection.KFold(n_splits=10, random_state=None)\n",
    "        cv_results = model_selection.cross_val_score(model, X_train, Y_train, cv=kfold, scoring=scoring)\n",
    "        results.append(cv_results)\n",
    "        names.append(name)\n",
    "        msg = \"%s: %f (%f)\" % (name, cv_results.mean(), cv_results.std())\n",
    "        print(msg)"
   ]
  },
  {
   "cell_type": "markdown",
   "id": "2815776d",
   "metadata": {},
   "source": [
    "visualization"
   ]
  },
  {
   "cell_type": "code",
   "execution_count": 25,
   "id": "97a8bc60",
   "metadata": {},
   "outputs": [
    {
     "data": {
      "application/vnd.plotly.v1+json": {
       "config": {
        "plotlyServerURL": "https://plot.ly"
       },
       "data": [
        {
         "alignmentgroup": "True",
         "hovertemplate": "count=%{x}<br>family=%{marker.color}<extra></extra>",
         "legendgroup": "",
         "marker": {
          "color": [
           88,
           44,
           159,
           68,
           28,
           181,
           39,
           2,
           9,
           32
          ],
          "coloraxis": "coloraxis",
          "pattern": {
           "shape": ""
          }
         },
         "name": "",
         "offsetgroup": "",
         "orientation": "h",
         "showlegend": false,
         "textposition": "auto",
         "type": "bar",
         "x": [
          10,
          9,
          9,
          9,
          8,
          8,
          8,
          7,
          6,
          6
         ],
         "xaxis": "x",
         "y": [
          88,
          44,
          159,
          68,
          28,
          181,
          39,
          2,
          9,
          32
         ],
         "yaxis": "y"
        }
       ],
       "layout": {
        "barmode": "relative",
        "coloraxis": {
         "colorbar": {
          "title": {
           "text": "family"
          }
         },
         "colorscale": [
          [
           0,
           "#0d0887"
          ],
          [
           0.1111111111111111,
           "#46039f"
          ],
          [
           0.2222222222222222,
           "#7201a8"
          ],
          [
           0.3333333333333333,
           "#9c179e"
          ],
          [
           0.4444444444444444,
           "#bd3786"
          ],
          [
           0.5555555555555556,
           "#d8576b"
          ],
          [
           0.6666666666666666,
           "#ed7953"
          ],
          [
           0.7777777777777778,
           "#fb9f3a"
          ],
          [
           0.8888888888888888,
           "#fdca26"
          ],
          [
           1,
           "#f0f921"
          ]
         ]
        },
        "legend": {
         "tracegroupgap": 0
        },
        "template": {
         "data": {
          "bar": [
           {
            "error_x": {
             "color": "#2a3f5f"
            },
            "error_y": {
             "color": "#2a3f5f"
            },
            "marker": {
             "line": {
              "color": "#E5ECF6",
              "width": 0.5
             },
             "pattern": {
              "fillmode": "overlay",
              "size": 10,
              "solidity": 0.2
             }
            },
            "type": "bar"
           }
          ],
          "barpolar": [
           {
            "marker": {
             "line": {
              "color": "#E5ECF6",
              "width": 0.5
             },
             "pattern": {
              "fillmode": "overlay",
              "size": 10,
              "solidity": 0.2
             }
            },
            "type": "barpolar"
           }
          ],
          "carpet": [
           {
            "aaxis": {
             "endlinecolor": "#2a3f5f",
             "gridcolor": "white",
             "linecolor": "white",
             "minorgridcolor": "white",
             "startlinecolor": "#2a3f5f"
            },
            "baxis": {
             "endlinecolor": "#2a3f5f",
             "gridcolor": "white",
             "linecolor": "white",
             "minorgridcolor": "white",
             "startlinecolor": "#2a3f5f"
            },
            "type": "carpet"
           }
          ],
          "choropleth": [
           {
            "colorbar": {
             "outlinewidth": 0,
             "ticks": ""
            },
            "type": "choropleth"
           }
          ],
          "contour": [
           {
            "colorbar": {
             "outlinewidth": 0,
             "ticks": ""
            },
            "colorscale": [
             [
              0,
              "#0d0887"
             ],
             [
              0.1111111111111111,
              "#46039f"
             ],
             [
              0.2222222222222222,
              "#7201a8"
             ],
             [
              0.3333333333333333,
              "#9c179e"
             ],
             [
              0.4444444444444444,
              "#bd3786"
             ],
             [
              0.5555555555555556,
              "#d8576b"
             ],
             [
              0.6666666666666666,
              "#ed7953"
             ],
             [
              0.7777777777777778,
              "#fb9f3a"
             ],
             [
              0.8888888888888888,
              "#fdca26"
             ],
             [
              1,
              "#f0f921"
             ]
            ],
            "type": "contour"
           }
          ],
          "contourcarpet": [
           {
            "colorbar": {
             "outlinewidth": 0,
             "ticks": ""
            },
            "type": "contourcarpet"
           }
          ],
          "heatmap": [
           {
            "colorbar": {
             "outlinewidth": 0,
             "ticks": ""
            },
            "colorscale": [
             [
              0,
              "#0d0887"
             ],
             [
              0.1111111111111111,
              "#46039f"
             ],
             [
              0.2222222222222222,
              "#7201a8"
             ],
             [
              0.3333333333333333,
              "#9c179e"
             ],
             [
              0.4444444444444444,
              "#bd3786"
             ],
             [
              0.5555555555555556,
              "#d8576b"
             ],
             [
              0.6666666666666666,
              "#ed7953"
             ],
             [
              0.7777777777777778,
              "#fb9f3a"
             ],
             [
              0.8888888888888888,
              "#fdca26"
             ],
             [
              1,
              "#f0f921"
             ]
            ],
            "type": "heatmap"
           }
          ],
          "heatmapgl": [
           {
            "colorbar": {
             "outlinewidth": 0,
             "ticks": ""
            },
            "colorscale": [
             [
              0,
              "#0d0887"
             ],
             [
              0.1111111111111111,
              "#46039f"
             ],
             [
              0.2222222222222222,
              "#7201a8"
             ],
             [
              0.3333333333333333,
              "#9c179e"
             ],
             [
              0.4444444444444444,
              "#bd3786"
             ],
             [
              0.5555555555555556,
              "#d8576b"
             ],
             [
              0.6666666666666666,
              "#ed7953"
             ],
             [
              0.7777777777777778,
              "#fb9f3a"
             ],
             [
              0.8888888888888888,
              "#fdca26"
             ],
             [
              1,
              "#f0f921"
             ]
            ],
            "type": "heatmapgl"
           }
          ],
          "histogram": [
           {
            "marker": {
             "pattern": {
              "fillmode": "overlay",
              "size": 10,
              "solidity": 0.2
             }
            },
            "type": "histogram"
           }
          ],
          "histogram2d": [
           {
            "colorbar": {
             "outlinewidth": 0,
             "ticks": ""
            },
            "colorscale": [
             [
              0,
              "#0d0887"
             ],
             [
              0.1111111111111111,
              "#46039f"
             ],
             [
              0.2222222222222222,
              "#7201a8"
             ],
             [
              0.3333333333333333,
              "#9c179e"
             ],
             [
              0.4444444444444444,
              "#bd3786"
             ],
             [
              0.5555555555555556,
              "#d8576b"
             ],
             [
              0.6666666666666666,
              "#ed7953"
             ],
             [
              0.7777777777777778,
              "#fb9f3a"
             ],
             [
              0.8888888888888888,
              "#fdca26"
             ],
             [
              1,
              "#f0f921"
             ]
            ],
            "type": "histogram2d"
           }
          ],
          "histogram2dcontour": [
           {
            "colorbar": {
             "outlinewidth": 0,
             "ticks": ""
            },
            "colorscale": [
             [
              0,
              "#0d0887"
             ],
             [
              0.1111111111111111,
              "#46039f"
             ],
             [
              0.2222222222222222,
              "#7201a8"
             ],
             [
              0.3333333333333333,
              "#9c179e"
             ],
             [
              0.4444444444444444,
              "#bd3786"
             ],
             [
              0.5555555555555556,
              "#d8576b"
             ],
             [
              0.6666666666666666,
              "#ed7953"
             ],
             [
              0.7777777777777778,
              "#fb9f3a"
             ],
             [
              0.8888888888888888,
              "#fdca26"
             ],
             [
              1,
              "#f0f921"
             ]
            ],
            "type": "histogram2dcontour"
           }
          ],
          "mesh3d": [
           {
            "colorbar": {
             "outlinewidth": 0,
             "ticks": ""
            },
            "type": "mesh3d"
           }
          ],
          "parcoords": [
           {
            "line": {
             "colorbar": {
              "outlinewidth": 0,
              "ticks": ""
             }
            },
            "type": "parcoords"
           }
          ],
          "pie": [
           {
            "automargin": true,
            "type": "pie"
           }
          ],
          "scatter": [
           {
            "fillpattern": {
             "fillmode": "overlay",
             "size": 10,
             "solidity": 0.2
            },
            "type": "scatter"
           }
          ],
          "scatter3d": [
           {
            "line": {
             "colorbar": {
              "outlinewidth": 0,
              "ticks": ""
             }
            },
            "marker": {
             "colorbar": {
              "outlinewidth": 0,
              "ticks": ""
             }
            },
            "type": "scatter3d"
           }
          ],
          "scattercarpet": [
           {
            "marker": {
             "colorbar": {
              "outlinewidth": 0,
              "ticks": ""
             }
            },
            "type": "scattercarpet"
           }
          ],
          "scattergeo": [
           {
            "marker": {
             "colorbar": {
              "outlinewidth": 0,
              "ticks": ""
             }
            },
            "type": "scattergeo"
           }
          ],
          "scattergl": [
           {
            "marker": {
             "colorbar": {
              "outlinewidth": 0,
              "ticks": ""
             }
            },
            "type": "scattergl"
           }
          ],
          "scattermapbox": [
           {
            "marker": {
             "colorbar": {
              "outlinewidth": 0,
              "ticks": ""
             }
            },
            "type": "scattermapbox"
           }
          ],
          "scatterpolar": [
           {
            "marker": {
             "colorbar": {
              "outlinewidth": 0,
              "ticks": ""
             }
            },
            "type": "scatterpolar"
           }
          ],
          "scatterpolargl": [
           {
            "marker": {
             "colorbar": {
              "outlinewidth": 0,
              "ticks": ""
             }
            },
            "type": "scatterpolargl"
           }
          ],
          "scatterternary": [
           {
            "marker": {
             "colorbar": {
              "outlinewidth": 0,
              "ticks": ""
             }
            },
            "type": "scatterternary"
           }
          ],
          "surface": [
           {
            "colorbar": {
             "outlinewidth": 0,
             "ticks": ""
            },
            "colorscale": [
             [
              0,
              "#0d0887"
             ],
             [
              0.1111111111111111,
              "#46039f"
             ],
             [
              0.2222222222222222,
              "#7201a8"
             ],
             [
              0.3333333333333333,
              "#9c179e"
             ],
             [
              0.4444444444444444,
              "#bd3786"
             ],
             [
              0.5555555555555556,
              "#d8576b"
             ],
             [
              0.6666666666666666,
              "#ed7953"
             ],
             [
              0.7777777777777778,
              "#fb9f3a"
             ],
             [
              0.8888888888888888,
              "#fdca26"
             ],
             [
              1,
              "#f0f921"
             ]
            ],
            "type": "surface"
           }
          ],
          "table": [
           {
            "cells": {
             "fill": {
              "color": "#EBF0F8"
             },
             "line": {
              "color": "white"
             }
            },
            "header": {
             "fill": {
              "color": "#C8D4E3"
             },
             "line": {
              "color": "white"
             }
            },
            "type": "table"
           }
          ]
         },
         "layout": {
          "annotationdefaults": {
           "arrowcolor": "#2a3f5f",
           "arrowhead": 0,
           "arrowwidth": 1
          },
          "autotypenumbers": "strict",
          "coloraxis": {
           "colorbar": {
            "outlinewidth": 0,
            "ticks": ""
           }
          },
          "colorscale": {
           "diverging": [
            [
             0,
             "#8e0152"
            ],
            [
             0.1,
             "#c51b7d"
            ],
            [
             0.2,
             "#de77ae"
            ],
            [
             0.3,
             "#f1b6da"
            ],
            [
             0.4,
             "#fde0ef"
            ],
            [
             0.5,
             "#f7f7f7"
            ],
            [
             0.6,
             "#e6f5d0"
            ],
            [
             0.7,
             "#b8e186"
            ],
            [
             0.8,
             "#7fbc41"
            ],
            [
             0.9,
             "#4d9221"
            ],
            [
             1,
             "#276419"
            ]
           ],
           "sequential": [
            [
             0,
             "#0d0887"
            ],
            [
             0.1111111111111111,
             "#46039f"
            ],
            [
             0.2222222222222222,
             "#7201a8"
            ],
            [
             0.3333333333333333,
             "#9c179e"
            ],
            [
             0.4444444444444444,
             "#bd3786"
            ],
            [
             0.5555555555555556,
             "#d8576b"
            ],
            [
             0.6666666666666666,
             "#ed7953"
            ],
            [
             0.7777777777777778,
             "#fb9f3a"
            ],
            [
             0.8888888888888888,
             "#fdca26"
            ],
            [
             1,
             "#f0f921"
            ]
           ],
           "sequentialminus": [
            [
             0,
             "#0d0887"
            ],
            [
             0.1111111111111111,
             "#46039f"
            ],
            [
             0.2222222222222222,
             "#7201a8"
            ],
            [
             0.3333333333333333,
             "#9c179e"
            ],
            [
             0.4444444444444444,
             "#bd3786"
            ],
            [
             0.5555555555555556,
             "#d8576b"
            ],
            [
             0.6666666666666666,
             "#ed7953"
            ],
            [
             0.7777777777777778,
             "#fb9f3a"
            ],
            [
             0.8888888888888888,
             "#fdca26"
            ],
            [
             1,
             "#f0f921"
            ]
           ]
          },
          "colorway": [
           "#636efa",
           "#EF553B",
           "#00cc96",
           "#ab63fa",
           "#FFA15A",
           "#19d3f3",
           "#FF6692",
           "#B6E880",
           "#FF97FF",
           "#FECB52"
          ],
          "font": {
           "color": "#2a3f5f"
          },
          "geo": {
           "bgcolor": "white",
           "lakecolor": "white",
           "landcolor": "#E5ECF6",
           "showlakes": true,
           "showland": true,
           "subunitcolor": "white"
          },
          "hoverlabel": {
           "align": "left"
          },
          "hovermode": "closest",
          "mapbox": {
           "style": "light"
          },
          "paper_bgcolor": "white",
          "plot_bgcolor": "#E5ECF6",
          "polar": {
           "angularaxis": {
            "gridcolor": "white",
            "linecolor": "white",
            "ticks": ""
           },
           "bgcolor": "#E5ECF6",
           "radialaxis": {
            "gridcolor": "white",
            "linecolor": "white",
            "ticks": ""
           }
          },
          "scene": {
           "xaxis": {
            "backgroundcolor": "#E5ECF6",
            "gridcolor": "white",
            "gridwidth": 2,
            "linecolor": "white",
            "showbackground": true,
            "ticks": "",
            "zerolinecolor": "white"
           },
           "yaxis": {
            "backgroundcolor": "#E5ECF6",
            "gridcolor": "white",
            "gridwidth": 2,
            "linecolor": "white",
            "showbackground": true,
            "ticks": "",
            "zerolinecolor": "white"
           },
           "zaxis": {
            "backgroundcolor": "#E5ECF6",
            "gridcolor": "white",
            "gridwidth": 2,
            "linecolor": "white",
            "showbackground": true,
            "ticks": "",
            "zerolinecolor": "white"
           }
          },
          "shapedefaults": {
           "line": {
            "color": "#2a3f5f"
           }
          },
          "ternary": {
           "aaxis": {
            "gridcolor": "white",
            "linecolor": "white",
            "ticks": ""
           },
           "baxis": {
            "gridcolor": "white",
            "linecolor": "white",
            "ticks": ""
           },
           "bgcolor": "#E5ECF6",
           "caxis": {
            "gridcolor": "white",
            "linecolor": "white",
            "ticks": ""
           }
          },
          "title": {
           "x": 0.05
          },
          "xaxis": {
           "automargin": true,
           "gridcolor": "white",
           "linecolor": "white",
           "ticks": "",
           "title": {
            "standoff": 15
           },
           "zerolinecolor": "white",
           "zerolinewidth": 2
          },
          "yaxis": {
           "automargin": true,
           "gridcolor": "white",
           "linecolor": "white",
           "ticks": "",
           "title": {
            "standoff": 15
           },
           "zerolinecolor": "white",
           "zerolinewidth": 2
          }
         }
        },
        "title": {
         "text": "Families by Species Count"
        },
        "xaxis": {
         "anchor": "y",
         "domain": [
          0,
          1
         ],
         "title": {
          "text": "count"
         }
        },
        "yaxis": {
         "anchor": "x",
         "domain": [
          0,
          1
         ],
         "title": {
          "text": "family"
         }
        }
       }
      }
     },
     "metadata": {},
     "output_type": "display_data"
    }
   ],
   "source": [
    "# Top 10 Families by Species Count\n",
    "import plotly.express as px\n",
    "top_families = dataset['family'].value_counts().nlargest(10).reset_index()\n",
    "top_families.columns = ['family', 'count']\n",
    "\n",
    "fig = px.bar(top_families, x='count', y='family', orientation='h', color='family',\n",
    "             title='Families by Species Count')\n",
    "fig.show()\n"
   ]
  },
  {
   "cell_type": "code",
   "execution_count": 26,
   "id": "40828785",
   "metadata": {},
   "outputs": [
    {
     "data": {
      "application/vnd.plotly.v1+json": {
       "config": {
        "plotlyServerURL": "https://plot.ly"
       },
       "data": [
        {
         "alignmentgroup": "True",
         "hovertemplate": "class=%{marker.color}<br>count=%{y}<extra></extra>",
         "legendgroup": "",
         "marker": {
          "color": [
           5,
           16,
           18,
           9,
           1,
           14,
           2,
           0,
           12,
           6,
           4,
           13,
           11,
           17,
           8,
           3,
           10,
           15,
           7
          ],
          "coloraxis": "coloraxis",
          "pattern": {
           "shape": ""
          }
         },
         "name": "",
         "offsetgroup": "",
         "orientation": "v",
         "showlegend": false,
         "textposition": "auto",
         "type": "bar",
         "x": [
          5,
          16,
          18,
          9,
          1,
          14,
          2,
          0,
          12,
          6,
          4,
          13,
          11,
          17,
          8,
          3,
          10,
          15,
          7
         ],
         "xaxis": "x",
         "y": [
          85,
          66,
          47,
          36,
          36,
          28,
          27,
          25,
          12,
          11,
          5,
          5,
          4,
          4,
          3,
          2,
          2,
          1,
          1
         ],
         "yaxis": "y"
        }
       ],
       "layout": {
        "barmode": "relative",
        "coloraxis": {
         "colorbar": {
          "title": {
           "text": "class"
          }
         },
         "colorscale": [
          [
           0,
           "#0d0887"
          ],
          [
           0.1111111111111111,
           "#46039f"
          ],
          [
           0.2222222222222222,
           "#7201a8"
          ],
          [
           0.3333333333333333,
           "#9c179e"
          ],
          [
           0.4444444444444444,
           "#bd3786"
          ],
          [
           0.5555555555555556,
           "#d8576b"
          ],
          [
           0.6666666666666666,
           "#ed7953"
          ],
          [
           0.7777777777777778,
           "#fb9f3a"
          ],
          [
           0.8888888888888888,
           "#fdca26"
          ],
          [
           1,
           "#f0f921"
          ]
         ]
        },
        "legend": {
         "tracegroupgap": 0
        },
        "template": {
         "data": {
          "bar": [
           {
            "error_x": {
             "color": "#2a3f5f"
            },
            "error_y": {
             "color": "#2a3f5f"
            },
            "marker": {
             "line": {
              "color": "#E5ECF6",
              "width": 0.5
             },
             "pattern": {
              "fillmode": "overlay",
              "size": 10,
              "solidity": 0.2
             }
            },
            "type": "bar"
           }
          ],
          "barpolar": [
           {
            "marker": {
             "line": {
              "color": "#E5ECF6",
              "width": 0.5
             },
             "pattern": {
              "fillmode": "overlay",
              "size": 10,
              "solidity": 0.2
             }
            },
            "type": "barpolar"
           }
          ],
          "carpet": [
           {
            "aaxis": {
             "endlinecolor": "#2a3f5f",
             "gridcolor": "white",
             "linecolor": "white",
             "minorgridcolor": "white",
             "startlinecolor": "#2a3f5f"
            },
            "baxis": {
             "endlinecolor": "#2a3f5f",
             "gridcolor": "white",
             "linecolor": "white",
             "minorgridcolor": "white",
             "startlinecolor": "#2a3f5f"
            },
            "type": "carpet"
           }
          ],
          "choropleth": [
           {
            "colorbar": {
             "outlinewidth": 0,
             "ticks": ""
            },
            "type": "choropleth"
           }
          ],
          "contour": [
           {
            "colorbar": {
             "outlinewidth": 0,
             "ticks": ""
            },
            "colorscale": [
             [
              0,
              "#0d0887"
             ],
             [
              0.1111111111111111,
              "#46039f"
             ],
             [
              0.2222222222222222,
              "#7201a8"
             ],
             [
              0.3333333333333333,
              "#9c179e"
             ],
             [
              0.4444444444444444,
              "#bd3786"
             ],
             [
              0.5555555555555556,
              "#d8576b"
             ],
             [
              0.6666666666666666,
              "#ed7953"
             ],
             [
              0.7777777777777778,
              "#fb9f3a"
             ],
             [
              0.8888888888888888,
              "#fdca26"
             ],
             [
              1,
              "#f0f921"
             ]
            ],
            "type": "contour"
           }
          ],
          "contourcarpet": [
           {
            "colorbar": {
             "outlinewidth": 0,
             "ticks": ""
            },
            "type": "contourcarpet"
           }
          ],
          "heatmap": [
           {
            "colorbar": {
             "outlinewidth": 0,
             "ticks": ""
            },
            "colorscale": [
             [
              0,
              "#0d0887"
             ],
             [
              0.1111111111111111,
              "#46039f"
             ],
             [
              0.2222222222222222,
              "#7201a8"
             ],
             [
              0.3333333333333333,
              "#9c179e"
             ],
             [
              0.4444444444444444,
              "#bd3786"
             ],
             [
              0.5555555555555556,
              "#d8576b"
             ],
             [
              0.6666666666666666,
              "#ed7953"
             ],
             [
              0.7777777777777778,
              "#fb9f3a"
             ],
             [
              0.8888888888888888,
              "#fdca26"
             ],
             [
              1,
              "#f0f921"
             ]
            ],
            "type": "heatmap"
           }
          ],
          "heatmapgl": [
           {
            "colorbar": {
             "outlinewidth": 0,
             "ticks": ""
            },
            "colorscale": [
             [
              0,
              "#0d0887"
             ],
             [
              0.1111111111111111,
              "#46039f"
             ],
             [
              0.2222222222222222,
              "#7201a8"
             ],
             [
              0.3333333333333333,
              "#9c179e"
             ],
             [
              0.4444444444444444,
              "#bd3786"
             ],
             [
              0.5555555555555556,
              "#d8576b"
             ],
             [
              0.6666666666666666,
              "#ed7953"
             ],
             [
              0.7777777777777778,
              "#fb9f3a"
             ],
             [
              0.8888888888888888,
              "#fdca26"
             ],
             [
              1,
              "#f0f921"
             ]
            ],
            "type": "heatmapgl"
           }
          ],
          "histogram": [
           {
            "marker": {
             "pattern": {
              "fillmode": "overlay",
              "size": 10,
              "solidity": 0.2
             }
            },
            "type": "histogram"
           }
          ],
          "histogram2d": [
           {
            "colorbar": {
             "outlinewidth": 0,
             "ticks": ""
            },
            "colorscale": [
             [
              0,
              "#0d0887"
             ],
             [
              0.1111111111111111,
              "#46039f"
             ],
             [
              0.2222222222222222,
              "#7201a8"
             ],
             [
              0.3333333333333333,
              "#9c179e"
             ],
             [
              0.4444444444444444,
              "#bd3786"
             ],
             [
              0.5555555555555556,
              "#d8576b"
             ],
             [
              0.6666666666666666,
              "#ed7953"
             ],
             [
              0.7777777777777778,
              "#fb9f3a"
             ],
             [
              0.8888888888888888,
              "#fdca26"
             ],
             [
              1,
              "#f0f921"
             ]
            ],
            "type": "histogram2d"
           }
          ],
          "histogram2dcontour": [
           {
            "colorbar": {
             "outlinewidth": 0,
             "ticks": ""
            },
            "colorscale": [
             [
              0,
              "#0d0887"
             ],
             [
              0.1111111111111111,
              "#46039f"
             ],
             [
              0.2222222222222222,
              "#7201a8"
             ],
             [
              0.3333333333333333,
              "#9c179e"
             ],
             [
              0.4444444444444444,
              "#bd3786"
             ],
             [
              0.5555555555555556,
              "#d8576b"
             ],
             [
              0.6666666666666666,
              "#ed7953"
             ],
             [
              0.7777777777777778,
              "#fb9f3a"
             ],
             [
              0.8888888888888888,
              "#fdca26"
             ],
             [
              1,
              "#f0f921"
             ]
            ],
            "type": "histogram2dcontour"
           }
          ],
          "mesh3d": [
           {
            "colorbar": {
             "outlinewidth": 0,
             "ticks": ""
            },
            "type": "mesh3d"
           }
          ],
          "parcoords": [
           {
            "line": {
             "colorbar": {
              "outlinewidth": 0,
              "ticks": ""
             }
            },
            "type": "parcoords"
           }
          ],
          "pie": [
           {
            "automargin": true,
            "type": "pie"
           }
          ],
          "scatter": [
           {
            "fillpattern": {
             "fillmode": "overlay",
             "size": 10,
             "solidity": 0.2
            },
            "type": "scatter"
           }
          ],
          "scatter3d": [
           {
            "line": {
             "colorbar": {
              "outlinewidth": 0,
              "ticks": ""
             }
            },
            "marker": {
             "colorbar": {
              "outlinewidth": 0,
              "ticks": ""
             }
            },
            "type": "scatter3d"
           }
          ],
          "scattercarpet": [
           {
            "marker": {
             "colorbar": {
              "outlinewidth": 0,
              "ticks": ""
             }
            },
            "type": "scattercarpet"
           }
          ],
          "scattergeo": [
           {
            "marker": {
             "colorbar": {
              "outlinewidth": 0,
              "ticks": ""
             }
            },
            "type": "scattergeo"
           }
          ],
          "scattergl": [
           {
            "marker": {
             "colorbar": {
              "outlinewidth": 0,
              "ticks": ""
             }
            },
            "type": "scattergl"
           }
          ],
          "scattermapbox": [
           {
            "marker": {
             "colorbar": {
              "outlinewidth": 0,
              "ticks": ""
             }
            },
            "type": "scattermapbox"
           }
          ],
          "scatterpolar": [
           {
            "marker": {
             "colorbar": {
              "outlinewidth": 0,
              "ticks": ""
             }
            },
            "type": "scatterpolar"
           }
          ],
          "scatterpolargl": [
           {
            "marker": {
             "colorbar": {
              "outlinewidth": 0,
              "ticks": ""
             }
            },
            "type": "scatterpolargl"
           }
          ],
          "scatterternary": [
           {
            "marker": {
             "colorbar": {
              "outlinewidth": 0,
              "ticks": ""
             }
            },
            "type": "scatterternary"
           }
          ],
          "surface": [
           {
            "colorbar": {
             "outlinewidth": 0,
             "ticks": ""
            },
            "colorscale": [
             [
              0,
              "#0d0887"
             ],
             [
              0.1111111111111111,
              "#46039f"
             ],
             [
              0.2222222222222222,
              "#7201a8"
             ],
             [
              0.3333333333333333,
              "#9c179e"
             ],
             [
              0.4444444444444444,
              "#bd3786"
             ],
             [
              0.5555555555555556,
              "#d8576b"
             ],
             [
              0.6666666666666666,
              "#ed7953"
             ],
             [
              0.7777777777777778,
              "#fb9f3a"
             ],
             [
              0.8888888888888888,
              "#fdca26"
             ],
             [
              1,
              "#f0f921"
             ]
            ],
            "type": "surface"
           }
          ],
          "table": [
           {
            "cells": {
             "fill": {
              "color": "#EBF0F8"
             },
             "line": {
              "color": "white"
             }
            },
            "header": {
             "fill": {
              "color": "#C8D4E3"
             },
             "line": {
              "color": "white"
             }
            },
            "type": "table"
           }
          ]
         },
         "layout": {
          "annotationdefaults": {
           "arrowcolor": "#2a3f5f",
           "arrowhead": 0,
           "arrowwidth": 1
          },
          "autotypenumbers": "strict",
          "coloraxis": {
           "colorbar": {
            "outlinewidth": 0,
            "ticks": ""
           }
          },
          "colorscale": {
           "diverging": [
            [
             0,
             "#8e0152"
            ],
            [
             0.1,
             "#c51b7d"
            ],
            [
             0.2,
             "#de77ae"
            ],
            [
             0.3,
             "#f1b6da"
            ],
            [
             0.4,
             "#fde0ef"
            ],
            [
             0.5,
             "#f7f7f7"
            ],
            [
             0.6,
             "#e6f5d0"
            ],
            [
             0.7,
             "#b8e186"
            ],
            [
             0.8,
             "#7fbc41"
            ],
            [
             0.9,
             "#4d9221"
            ],
            [
             1,
             "#276419"
            ]
           ],
           "sequential": [
            [
             0,
             "#0d0887"
            ],
            [
             0.1111111111111111,
             "#46039f"
            ],
            [
             0.2222222222222222,
             "#7201a8"
            ],
            [
             0.3333333333333333,
             "#9c179e"
            ],
            [
             0.4444444444444444,
             "#bd3786"
            ],
            [
             0.5555555555555556,
             "#d8576b"
            ],
            [
             0.6666666666666666,
             "#ed7953"
            ],
            [
             0.7777777777777778,
             "#fb9f3a"
            ],
            [
             0.8888888888888888,
             "#fdca26"
            ],
            [
             1,
             "#f0f921"
            ]
           ],
           "sequentialminus": [
            [
             0,
             "#0d0887"
            ],
            [
             0.1111111111111111,
             "#46039f"
            ],
            [
             0.2222222222222222,
             "#7201a8"
            ],
            [
             0.3333333333333333,
             "#9c179e"
            ],
            [
             0.4444444444444444,
             "#bd3786"
            ],
            [
             0.5555555555555556,
             "#d8576b"
            ],
            [
             0.6666666666666666,
             "#ed7953"
            ],
            [
             0.7777777777777778,
             "#fb9f3a"
            ],
            [
             0.8888888888888888,
             "#fdca26"
            ],
            [
             1,
             "#f0f921"
            ]
           ]
          },
          "colorway": [
           "#636efa",
           "#EF553B",
           "#00cc96",
           "#ab63fa",
           "#FFA15A",
           "#19d3f3",
           "#FF6692",
           "#B6E880",
           "#FF97FF",
           "#FECB52"
          ],
          "font": {
           "color": "#2a3f5f"
          },
          "geo": {
           "bgcolor": "white",
           "lakecolor": "white",
           "landcolor": "#E5ECF6",
           "showlakes": true,
           "showland": true,
           "subunitcolor": "white"
          },
          "hoverlabel": {
           "align": "left"
          },
          "hovermode": "closest",
          "mapbox": {
           "style": "light"
          },
          "paper_bgcolor": "white",
          "plot_bgcolor": "#E5ECF6",
          "polar": {
           "angularaxis": {
            "gridcolor": "white",
            "linecolor": "white",
            "ticks": ""
           },
           "bgcolor": "#E5ECF6",
           "radialaxis": {
            "gridcolor": "white",
            "linecolor": "white",
            "ticks": ""
           }
          },
          "scene": {
           "xaxis": {
            "backgroundcolor": "#E5ECF6",
            "gridcolor": "white",
            "gridwidth": 2,
            "linecolor": "white",
            "showbackground": true,
            "ticks": "",
            "zerolinecolor": "white"
           },
           "yaxis": {
            "backgroundcolor": "#E5ECF6",
            "gridcolor": "white",
            "gridwidth": 2,
            "linecolor": "white",
            "showbackground": true,
            "ticks": "",
            "zerolinecolor": "white"
           },
           "zaxis": {
            "backgroundcolor": "#E5ECF6",
            "gridcolor": "white",
            "gridwidth": 2,
            "linecolor": "white",
            "showbackground": true,
            "ticks": "",
            "zerolinecolor": "white"
           }
          },
          "shapedefaults": {
           "line": {
            "color": "#2a3f5f"
           }
          },
          "ternary": {
           "aaxis": {
            "gridcolor": "white",
            "linecolor": "white",
            "ticks": ""
           },
           "baxis": {
            "gridcolor": "white",
            "linecolor": "white",
            "ticks": ""
           },
           "bgcolor": "#E5ECF6",
           "caxis": {
            "gridcolor": "white",
            "linecolor": "white",
            "ticks": ""
           }
          },
          "title": {
           "x": 0.05
          },
          "xaxis": {
           "automargin": true,
           "gridcolor": "white",
           "linecolor": "white",
           "ticks": "",
           "title": {
            "standoff": 15
           },
           "zerolinecolor": "white",
           "zerolinewidth": 2
          },
          "yaxis": {
           "automargin": true,
           "gridcolor": "white",
           "linecolor": "white",
           "ticks": "",
           "title": {
            "standoff": 15
           },
           "zerolinecolor": "white",
           "zerolinewidth": 2
          }
         }
        },
        "title": {
         "text": "Histogram species Count by Class"
        },
        "xaxis": {
         "anchor": "y",
         "domain": [
          0,
          1
         ],
         "title": {
          "text": "class"
         }
        },
        "yaxis": {
         "anchor": "x",
         "domain": [
          0,
          1
         ],
         "title": {
          "text": "count"
         }
        }
       }
      }
     },
     "metadata": {},
     "output_type": "display_data"
    }
   ],
   "source": [
    "# Species count by Class\n",
    "class_count = dataset['class'].value_counts().reset_index()\n",
    "class_count.columns = ['class', 'count']\n",
    "\n",
    "fig = px.bar(class_count, x='class', y='count', color='class',\n",
    "             title='Histogram species Count by Class')\n",
    "fig.show()\n"
   ]
  },
  {
   "cell_type": "code",
   "execution_count": 27,
   "id": "c1c9b7cd",
   "metadata": {},
   "outputs": [
    {
     "data": {
      "application/vnd.plotly.v1+json": {
       "config": {
        "plotlyServerURL": "https://plot.ly"
       },
       "data": [
        {
         "customdata": [
          [
           "Chordata",
           5
          ],
          [
           "Chordata",
           16
          ],
          [
           "Chordata",
           18
          ],
          [
           "Chordata",
           9
          ],
          [
           "Chordata",
           1
          ],
          [
           "Chordata",
           14
          ],
          [
           "Chordata",
           2
          ],
          [
           "Chordata",
           0
          ],
          [
           "Chordata",
           12
          ],
          [
           "Chordata",
           6
          ],
          [
           "Chordata",
           4
          ],
          [
           "Chordata",
           13
          ],
          [
           "Chordata",
           11
          ],
          [
           "Chordata",
           17
          ],
          [
           "Chordata",
           8
          ],
          [
           "Chordata",
           3
          ],
          [
           "Chordata",
           10
          ],
          [
           "Chordata",
           15
          ],
          [
           "Chordata",
           7
          ],
          [
           "Arthropoda",
           5
          ],
          [
           "Arthropoda",
           16
          ],
          [
           "Arthropoda",
           18
          ],
          [
           "Arthropoda",
           9
          ],
          [
           "Arthropoda",
           1
          ],
          [
           "Arthropoda",
           14
          ],
          [
           "Arthropoda",
           2
          ],
          [
           "Arthropoda",
           0
          ],
          [
           "Arthropoda",
           12
          ],
          [
           "Arthropoda",
           6
          ],
          [
           "Arthropoda",
           4
          ],
          [
           "Arthropoda",
           13
          ],
          [
           "Arthropoda",
           11
          ],
          [
           "Arthropoda",
           17
          ],
          [
           "Arthropoda",
           8
          ],
          [
           "Arthropoda",
           3
          ],
          [
           "Arthropoda",
           10
          ],
          [
           "Arthropoda",
           15
          ],
          [
           "Arthropoda",
           7
          ],
          [
           "Cnidaria",
           5
          ],
          [
           "Cnidaria",
           16
          ],
          [
           "Cnidaria",
           18
          ],
          [
           "Cnidaria",
           9
          ],
          [
           "Cnidaria",
           1
          ],
          [
           "Cnidaria",
           14
          ],
          [
           "Cnidaria",
           2
          ],
          [
           "Cnidaria",
           0
          ],
          [
           "Cnidaria",
           12
          ],
          [
           "Cnidaria",
           6
          ],
          [
           "Cnidaria",
           4
          ],
          [
           "Cnidaria",
           13
          ],
          [
           "Cnidaria",
           11
          ],
          [
           "Cnidaria",
           17
          ],
          [
           "Cnidaria",
           8
          ],
          [
           "Cnidaria",
           3
          ],
          [
           "Cnidaria",
           10
          ],
          [
           "Cnidaria",
           15
          ],
          [
           "Cnidaria",
           7
          ],
          [
           "Mollusca",
           5
          ],
          [
           "Mollusca",
           16
          ],
          [
           "Mollusca",
           18
          ],
          [
           "Mollusca",
           9
          ],
          [
           "Mollusca",
           1
          ],
          [
           "Mollusca",
           14
          ],
          [
           "Mollusca",
           2
          ],
          [
           "Mollusca",
           0
          ],
          [
           "Mollusca",
           12
          ],
          [
           "Mollusca",
           6
          ],
          [
           "Mollusca",
           4
          ],
          [
           "Mollusca",
           13
          ],
          [
           "Mollusca",
           11
          ],
          [
           "Mollusca",
           17
          ],
          [
           "Mollusca",
           8
          ],
          [
           "Mollusca",
           3
          ],
          [
           "Mollusca",
           10
          ],
          [
           "Mollusca",
           15
          ],
          [
           "Mollusca",
           7
          ],
          [
           "Echinodermata",
           5
          ],
          [
           "Echinodermata",
           16
          ],
          [
           "Echinodermata",
           18
          ],
          [
           "Echinodermata",
           9
          ],
          [
           "Echinodermata",
           1
          ],
          [
           "Echinodermata",
           14
          ],
          [
           "Echinodermata",
           2
          ],
          [
           "Echinodermata",
           0
          ],
          [
           "Echinodermata",
           12
          ],
          [
           "Echinodermata",
           6
          ],
          [
           "Echinodermata",
           4
          ],
          [
           "Echinodermata",
           13
          ],
          [
           "Echinodermata",
           11
          ],
          [
           "Echinodermata",
           17
          ],
          [
           "Echinodermata",
           8
          ],
          [
           "Echinodermata",
           3
          ],
          [
           "Echinodermata",
           10
          ],
          [
           "Echinodermata",
           15
          ],
          [
           "Echinodermata",
           7
          ]
         ],
         "hovertemplate": "Phylum Count=%{x}<br>Class Count=%{y}<br>phylum=%{customdata[0]}<br>class=%{customdata[1]}<extra></extra>",
         "legendgroup": "",
         "marker": {
          "color": "#636efa",
          "symbol": "circle"
         },
         "mode": "markers",
         "name": "",
         "orientation": "v",
         "showlegend": false,
         "type": "scatter",
         "x": [
          295,
          295,
          295,
          295,
          295,
          295,
          295,
          295,
          295,
          295,
          295,
          295,
          295,
          295,
          295,
          295,
          295,
          295,
          295,
          32,
          32,
          32,
          32,
          32,
          32,
          32,
          32,
          32,
          32,
          32,
          32,
          32,
          32,
          32,
          32,
          32,
          32,
          32,
          27,
          27,
          27,
          27,
          27,
          27,
          27,
          27,
          27,
          27,
          27,
          27,
          27,
          27,
          27,
          27,
          27,
          27,
          27,
          26,
          26,
          26,
          26,
          26,
          26,
          26,
          26,
          26,
          26,
          26,
          26,
          26,
          26,
          26,
          26,
          26,
          26,
          26,
          20,
          20,
          20,
          20,
          20,
          20,
          20,
          20,
          20,
          20,
          20,
          20,
          20,
          20,
          20,
          20,
          20,
          20,
          20
         ],
         "xaxis": "x",
         "y": [
          85,
          66,
          47,
          36,
          36,
          28,
          27,
          25,
          12,
          11,
          5,
          5,
          4,
          4,
          3,
          2,
          2,
          1,
          1,
          85,
          66,
          47,
          36,
          36,
          28,
          27,
          25,
          12,
          11,
          5,
          5,
          4,
          4,
          3,
          2,
          2,
          1,
          1,
          85,
          66,
          47,
          36,
          36,
          28,
          27,
          25,
          12,
          11,
          5,
          5,
          4,
          4,
          3,
          2,
          2,
          1,
          1,
          85,
          66,
          47,
          36,
          36,
          28,
          27,
          25,
          12,
          11,
          5,
          5,
          4,
          4,
          3,
          2,
          2,
          1,
          1,
          85,
          66,
          47,
          36,
          36,
          28,
          27,
          25,
          12,
          11,
          5,
          5,
          4,
          4,
          3,
          2,
          2,
          1,
          1
         ],
         "yaxis": "y"
        }
       ],
       "layout": {
        "legend": {
         "tracegroupgap": 0
        },
        "template": {
         "data": {
          "bar": [
           {
            "error_x": {
             "color": "#2a3f5f"
            },
            "error_y": {
             "color": "#2a3f5f"
            },
            "marker": {
             "line": {
              "color": "#E5ECF6",
              "width": 0.5
             },
             "pattern": {
              "fillmode": "overlay",
              "size": 10,
              "solidity": 0.2
             }
            },
            "type": "bar"
           }
          ],
          "barpolar": [
           {
            "marker": {
             "line": {
              "color": "#E5ECF6",
              "width": 0.5
             },
             "pattern": {
              "fillmode": "overlay",
              "size": 10,
              "solidity": 0.2
             }
            },
            "type": "barpolar"
           }
          ],
          "carpet": [
           {
            "aaxis": {
             "endlinecolor": "#2a3f5f",
             "gridcolor": "white",
             "linecolor": "white",
             "minorgridcolor": "white",
             "startlinecolor": "#2a3f5f"
            },
            "baxis": {
             "endlinecolor": "#2a3f5f",
             "gridcolor": "white",
             "linecolor": "white",
             "minorgridcolor": "white",
             "startlinecolor": "#2a3f5f"
            },
            "type": "carpet"
           }
          ],
          "choropleth": [
           {
            "colorbar": {
             "outlinewidth": 0,
             "ticks": ""
            },
            "type": "choropleth"
           }
          ],
          "contour": [
           {
            "colorbar": {
             "outlinewidth": 0,
             "ticks": ""
            },
            "colorscale": [
             [
              0,
              "#0d0887"
             ],
             [
              0.1111111111111111,
              "#46039f"
             ],
             [
              0.2222222222222222,
              "#7201a8"
             ],
             [
              0.3333333333333333,
              "#9c179e"
             ],
             [
              0.4444444444444444,
              "#bd3786"
             ],
             [
              0.5555555555555556,
              "#d8576b"
             ],
             [
              0.6666666666666666,
              "#ed7953"
             ],
             [
              0.7777777777777778,
              "#fb9f3a"
             ],
             [
              0.8888888888888888,
              "#fdca26"
             ],
             [
              1,
              "#f0f921"
             ]
            ],
            "type": "contour"
           }
          ],
          "contourcarpet": [
           {
            "colorbar": {
             "outlinewidth": 0,
             "ticks": ""
            },
            "type": "contourcarpet"
           }
          ],
          "heatmap": [
           {
            "colorbar": {
             "outlinewidth": 0,
             "ticks": ""
            },
            "colorscale": [
             [
              0,
              "#0d0887"
             ],
             [
              0.1111111111111111,
              "#46039f"
             ],
             [
              0.2222222222222222,
              "#7201a8"
             ],
             [
              0.3333333333333333,
              "#9c179e"
             ],
             [
              0.4444444444444444,
              "#bd3786"
             ],
             [
              0.5555555555555556,
              "#d8576b"
             ],
             [
              0.6666666666666666,
              "#ed7953"
             ],
             [
              0.7777777777777778,
              "#fb9f3a"
             ],
             [
              0.8888888888888888,
              "#fdca26"
             ],
             [
              1,
              "#f0f921"
             ]
            ],
            "type": "heatmap"
           }
          ],
          "heatmapgl": [
           {
            "colorbar": {
             "outlinewidth": 0,
             "ticks": ""
            },
            "colorscale": [
             [
              0,
              "#0d0887"
             ],
             [
              0.1111111111111111,
              "#46039f"
             ],
             [
              0.2222222222222222,
              "#7201a8"
             ],
             [
              0.3333333333333333,
              "#9c179e"
             ],
             [
              0.4444444444444444,
              "#bd3786"
             ],
             [
              0.5555555555555556,
              "#d8576b"
             ],
             [
              0.6666666666666666,
              "#ed7953"
             ],
             [
              0.7777777777777778,
              "#fb9f3a"
             ],
             [
              0.8888888888888888,
              "#fdca26"
             ],
             [
              1,
              "#f0f921"
             ]
            ],
            "type": "heatmapgl"
           }
          ],
          "histogram": [
           {
            "marker": {
             "pattern": {
              "fillmode": "overlay",
              "size": 10,
              "solidity": 0.2
             }
            },
            "type": "histogram"
           }
          ],
          "histogram2d": [
           {
            "colorbar": {
             "outlinewidth": 0,
             "ticks": ""
            },
            "colorscale": [
             [
              0,
              "#0d0887"
             ],
             [
              0.1111111111111111,
              "#46039f"
             ],
             [
              0.2222222222222222,
              "#7201a8"
             ],
             [
              0.3333333333333333,
              "#9c179e"
             ],
             [
              0.4444444444444444,
              "#bd3786"
             ],
             [
              0.5555555555555556,
              "#d8576b"
             ],
             [
              0.6666666666666666,
              "#ed7953"
             ],
             [
              0.7777777777777778,
              "#fb9f3a"
             ],
             [
              0.8888888888888888,
              "#fdca26"
             ],
             [
              1,
              "#f0f921"
             ]
            ],
            "type": "histogram2d"
           }
          ],
          "histogram2dcontour": [
           {
            "colorbar": {
             "outlinewidth": 0,
             "ticks": ""
            },
            "colorscale": [
             [
              0,
              "#0d0887"
             ],
             [
              0.1111111111111111,
              "#46039f"
             ],
             [
              0.2222222222222222,
              "#7201a8"
             ],
             [
              0.3333333333333333,
              "#9c179e"
             ],
             [
              0.4444444444444444,
              "#bd3786"
             ],
             [
              0.5555555555555556,
              "#d8576b"
             ],
             [
              0.6666666666666666,
              "#ed7953"
             ],
             [
              0.7777777777777778,
              "#fb9f3a"
             ],
             [
              0.8888888888888888,
              "#fdca26"
             ],
             [
              1,
              "#f0f921"
             ]
            ],
            "type": "histogram2dcontour"
           }
          ],
          "mesh3d": [
           {
            "colorbar": {
             "outlinewidth": 0,
             "ticks": ""
            },
            "type": "mesh3d"
           }
          ],
          "parcoords": [
           {
            "line": {
             "colorbar": {
              "outlinewidth": 0,
              "ticks": ""
             }
            },
            "type": "parcoords"
           }
          ],
          "pie": [
           {
            "automargin": true,
            "type": "pie"
           }
          ],
          "scatter": [
           {
            "fillpattern": {
             "fillmode": "overlay",
             "size": 10,
             "solidity": 0.2
            },
            "type": "scatter"
           }
          ],
          "scatter3d": [
           {
            "line": {
             "colorbar": {
              "outlinewidth": 0,
              "ticks": ""
             }
            },
            "marker": {
             "colorbar": {
              "outlinewidth": 0,
              "ticks": ""
             }
            },
            "type": "scatter3d"
           }
          ],
          "scattercarpet": [
           {
            "marker": {
             "colorbar": {
              "outlinewidth": 0,
              "ticks": ""
             }
            },
            "type": "scattercarpet"
           }
          ],
          "scattergeo": [
           {
            "marker": {
             "colorbar": {
              "outlinewidth": 0,
              "ticks": ""
             }
            },
            "type": "scattergeo"
           }
          ],
          "scattergl": [
           {
            "marker": {
             "colorbar": {
              "outlinewidth": 0,
              "ticks": ""
             }
            },
            "type": "scattergl"
           }
          ],
          "scattermapbox": [
           {
            "marker": {
             "colorbar": {
              "outlinewidth": 0,
              "ticks": ""
             }
            },
            "type": "scattermapbox"
           }
          ],
          "scatterpolar": [
           {
            "marker": {
             "colorbar": {
              "outlinewidth": 0,
              "ticks": ""
             }
            },
            "type": "scatterpolar"
           }
          ],
          "scatterpolargl": [
           {
            "marker": {
             "colorbar": {
              "outlinewidth": 0,
              "ticks": ""
             }
            },
            "type": "scatterpolargl"
           }
          ],
          "scatterternary": [
           {
            "marker": {
             "colorbar": {
              "outlinewidth": 0,
              "ticks": ""
             }
            },
            "type": "scatterternary"
           }
          ],
          "surface": [
           {
            "colorbar": {
             "outlinewidth": 0,
             "ticks": ""
            },
            "colorscale": [
             [
              0,
              "#0d0887"
             ],
             [
              0.1111111111111111,
              "#46039f"
             ],
             [
              0.2222222222222222,
              "#7201a8"
             ],
             [
              0.3333333333333333,
              "#9c179e"
             ],
             [
              0.4444444444444444,
              "#bd3786"
             ],
             [
              0.5555555555555556,
              "#d8576b"
             ],
             [
              0.6666666666666666,
              "#ed7953"
             ],
             [
              0.7777777777777778,
              "#fb9f3a"
             ],
             [
              0.8888888888888888,
              "#fdca26"
             ],
             [
              1,
              "#f0f921"
             ]
            ],
            "type": "surface"
           }
          ],
          "table": [
           {
            "cells": {
             "fill": {
              "color": "#EBF0F8"
             },
             "line": {
              "color": "white"
             }
            },
            "header": {
             "fill": {
              "color": "#C8D4E3"
             },
             "line": {
              "color": "white"
             }
            },
            "type": "table"
           }
          ]
         },
         "layout": {
          "annotationdefaults": {
           "arrowcolor": "#2a3f5f",
           "arrowhead": 0,
           "arrowwidth": 1
          },
          "autotypenumbers": "strict",
          "coloraxis": {
           "colorbar": {
            "outlinewidth": 0,
            "ticks": ""
           }
          },
          "colorscale": {
           "diverging": [
            [
             0,
             "#8e0152"
            ],
            [
             0.1,
             "#c51b7d"
            ],
            [
             0.2,
             "#de77ae"
            ],
            [
             0.3,
             "#f1b6da"
            ],
            [
             0.4,
             "#fde0ef"
            ],
            [
             0.5,
             "#f7f7f7"
            ],
            [
             0.6,
             "#e6f5d0"
            ],
            [
             0.7,
             "#b8e186"
            ],
            [
             0.8,
             "#7fbc41"
            ],
            [
             0.9,
             "#4d9221"
            ],
            [
             1,
             "#276419"
            ]
           ],
           "sequential": [
            [
             0,
             "#0d0887"
            ],
            [
             0.1111111111111111,
             "#46039f"
            ],
            [
             0.2222222222222222,
             "#7201a8"
            ],
            [
             0.3333333333333333,
             "#9c179e"
            ],
            [
             0.4444444444444444,
             "#bd3786"
            ],
            [
             0.5555555555555556,
             "#d8576b"
            ],
            [
             0.6666666666666666,
             "#ed7953"
            ],
            [
             0.7777777777777778,
             "#fb9f3a"
            ],
            [
             0.8888888888888888,
             "#fdca26"
            ],
            [
             1,
             "#f0f921"
            ]
           ],
           "sequentialminus": [
            [
             0,
             "#0d0887"
            ],
            [
             0.1111111111111111,
             "#46039f"
            ],
            [
             0.2222222222222222,
             "#7201a8"
            ],
            [
             0.3333333333333333,
             "#9c179e"
            ],
            [
             0.4444444444444444,
             "#bd3786"
            ],
            [
             0.5555555555555556,
             "#d8576b"
            ],
            [
             0.6666666666666666,
             "#ed7953"
            ],
            [
             0.7777777777777778,
             "#fb9f3a"
            ],
            [
             0.8888888888888888,
             "#fdca26"
            ],
            [
             1,
             "#f0f921"
            ]
           ]
          },
          "colorway": [
           "#636efa",
           "#EF553B",
           "#00cc96",
           "#ab63fa",
           "#FFA15A",
           "#19d3f3",
           "#FF6692",
           "#B6E880",
           "#FF97FF",
           "#FECB52"
          ],
          "font": {
           "color": "#2a3f5f"
          },
          "geo": {
           "bgcolor": "white",
           "lakecolor": "white",
           "landcolor": "#E5ECF6",
           "showlakes": true,
           "showland": true,
           "subunitcolor": "white"
          },
          "hoverlabel": {
           "align": "left"
          },
          "hovermode": "closest",
          "mapbox": {
           "style": "light"
          },
          "paper_bgcolor": "white",
          "plot_bgcolor": "#E5ECF6",
          "polar": {
           "angularaxis": {
            "gridcolor": "white",
            "linecolor": "white",
            "ticks": ""
           },
           "bgcolor": "#E5ECF6",
           "radialaxis": {
            "gridcolor": "white",
            "linecolor": "white",
            "ticks": ""
           }
          },
          "scene": {
           "xaxis": {
            "backgroundcolor": "#E5ECF6",
            "gridcolor": "white",
            "gridwidth": 2,
            "linecolor": "white",
            "showbackground": true,
            "ticks": "",
            "zerolinecolor": "white"
           },
           "yaxis": {
            "backgroundcolor": "#E5ECF6",
            "gridcolor": "white",
            "gridwidth": 2,
            "linecolor": "white",
            "showbackground": true,
            "ticks": "",
            "zerolinecolor": "white"
           },
           "zaxis": {
            "backgroundcolor": "#E5ECF6",
            "gridcolor": "white",
            "gridwidth": 2,
            "linecolor": "white",
            "showbackground": true,
            "ticks": "",
            "zerolinecolor": "white"
           }
          },
          "shapedefaults": {
           "line": {
            "color": "#2a3f5f"
           }
          },
          "ternary": {
           "aaxis": {
            "gridcolor": "white",
            "linecolor": "white",
            "ticks": ""
           },
           "baxis": {
            "gridcolor": "white",
            "linecolor": "white",
            "ticks": ""
           },
           "bgcolor": "#E5ECF6",
           "caxis": {
            "gridcolor": "white",
            "linecolor": "white",
            "ticks": ""
           }
          },
          "title": {
           "x": 0.05
          },
          "xaxis": {
           "automargin": true,
           "gridcolor": "white",
           "linecolor": "white",
           "ticks": "",
           "title": {
            "standoff": 15
           },
           "zerolinecolor": "white",
           "zerolinewidth": 2
          },
          "yaxis": {
           "automargin": true,
           "gridcolor": "white",
           "linecolor": "white",
           "ticks": "",
           "title": {
            "standoff": 15
           },
           "zerolinecolor": "white",
           "zerolinewidth": 2
          }
         }
        },
        "title": {
         "text": "Scatter Plot of Species Count by Class and Phylum"
        },
        "xaxis": {
         "anchor": "y",
         "domain": [
          0,
          1
         ],
         "title": {
          "text": "Phylum Count"
         }
        },
        "yaxis": {
         "anchor": "x",
         "domain": [
          0,
          1
         ],
         "title": {
          "text": "Class Count"
         }
        }
       }
      }
     },
     "metadata": {},
     "output_type": "display_data"
    }
   ],
   "source": [
    "\n",
    "\n",
    "\n",
    "phylum_count = dataset['phylum'].value_counts().reset_index()\n",
    "phylum_count.columns = ['phylum', 'phylum_count']\n",
    "\n",
    "\n",
    "class_count = dataset['class'].value_counts().reset_index()\n",
    "class_count.columns = ['class', 'class_count']\n",
    "\n",
    "\n",
    "scatter_data = phylum_count.merge(class_count, how='cross')  \n",
    "\n",
    "\n",
    "fig = px.scatter(scatter_data, x='phylum_count', y='class_count',\n",
    "                 title='Scatter Plot of Species Count by Class and Phylum',\n",
    "                 labels={'phylum_count': 'Phylum Count', 'class_count': 'Class Count'},\n",
    "                 hover_data=['phylum', 'class'])  \n",
    "fig.show()\n"
   ]
  },
  {
   "cell_type": "code",
   "execution_count": 28,
   "id": "810e689c",
   "metadata": {},
   "outputs": [
    {
     "data": {
      "application/vnd.plotly.v1+json": {
       "config": {
        "plotlyServerURL": "https://plot.ly"
       },
       "data": [
        {
         "alignmentgroup": "True",
         "hovertemplate": "Phylum=%{x}<br>Species Count=%{y}<extra></extra>",
         "legendgroup": "Chordata",
         "marker": {
          "color": "#636efa",
          "pattern": {
           "shape": ""
          }
         },
         "name": "Chordata",
         "offsetgroup": "Chordata",
         "orientation": "v",
         "showlegend": true,
         "textposition": "auto",
         "type": "bar",
         "x": [
          "Chordata"
         ],
         "xaxis": "x",
         "y": [
          295
         ],
         "yaxis": "y"
        },
        {
         "alignmentgroup": "True",
         "hovertemplate": "Phylum=%{x}<br>Species Count=%{y}<extra></extra>",
         "legendgroup": "Arthropoda",
         "marker": {
          "color": "#EF553B",
          "pattern": {
           "shape": ""
          }
         },
         "name": "Arthropoda",
         "offsetgroup": "Arthropoda",
         "orientation": "v",
         "showlegend": true,
         "textposition": "auto",
         "type": "bar",
         "x": [
          "Arthropoda"
         ],
         "xaxis": "x",
         "y": [
          32
         ],
         "yaxis": "y"
        },
        {
         "alignmentgroup": "True",
         "hovertemplate": "Phylum=%{x}<br>Species Count=%{y}<extra></extra>",
         "legendgroup": "Cnidaria",
         "marker": {
          "color": "#00cc96",
          "pattern": {
           "shape": ""
          }
         },
         "name": "Cnidaria",
         "offsetgroup": "Cnidaria",
         "orientation": "v",
         "showlegend": true,
         "textposition": "auto",
         "type": "bar",
         "x": [
          "Cnidaria"
         ],
         "xaxis": "x",
         "y": [
          27
         ],
         "yaxis": "y"
        },
        {
         "alignmentgroup": "True",
         "hovertemplate": "Phylum=%{x}<br>Species Count=%{y}<extra></extra>",
         "legendgroup": "Mollusca",
         "marker": {
          "color": "#ab63fa",
          "pattern": {
           "shape": ""
          }
         },
         "name": "Mollusca",
         "offsetgroup": "Mollusca",
         "orientation": "v",
         "showlegend": true,
         "textposition": "auto",
         "type": "bar",
         "x": [
          "Mollusca"
         ],
         "xaxis": "x",
         "y": [
          26
         ],
         "yaxis": "y"
        },
        {
         "alignmentgroup": "True",
         "hovertemplate": "Phylum=%{x}<br>Species Count=%{y}<extra></extra>",
         "legendgroup": "Echinodermata",
         "marker": {
          "color": "#FFA15A",
          "pattern": {
           "shape": ""
          }
         },
         "name": "Echinodermata",
         "offsetgroup": "Echinodermata",
         "orientation": "v",
         "showlegend": true,
         "textposition": "auto",
         "type": "bar",
         "x": [
          "Echinodermata"
         ],
         "xaxis": "x",
         "y": [
          20
         ],
         "yaxis": "y"
        }
       ],
       "layout": {
        "barmode": "relative",
        "legend": {
         "title": {
          "text": "Phylum"
         },
         "tracegroupgap": 0
        },
        "template": {
         "data": {
          "bar": [
           {
            "error_x": {
             "color": "#2a3f5f"
            },
            "error_y": {
             "color": "#2a3f5f"
            },
            "marker": {
             "line": {
              "color": "#E5ECF6",
              "width": 0.5
             },
             "pattern": {
              "fillmode": "overlay",
              "size": 10,
              "solidity": 0.2
             }
            },
            "type": "bar"
           }
          ],
          "barpolar": [
           {
            "marker": {
             "line": {
              "color": "#E5ECF6",
              "width": 0.5
             },
             "pattern": {
              "fillmode": "overlay",
              "size": 10,
              "solidity": 0.2
             }
            },
            "type": "barpolar"
           }
          ],
          "carpet": [
           {
            "aaxis": {
             "endlinecolor": "#2a3f5f",
             "gridcolor": "white",
             "linecolor": "white",
             "minorgridcolor": "white",
             "startlinecolor": "#2a3f5f"
            },
            "baxis": {
             "endlinecolor": "#2a3f5f",
             "gridcolor": "white",
             "linecolor": "white",
             "minorgridcolor": "white",
             "startlinecolor": "#2a3f5f"
            },
            "type": "carpet"
           }
          ],
          "choropleth": [
           {
            "colorbar": {
             "outlinewidth": 0,
             "ticks": ""
            },
            "type": "choropleth"
           }
          ],
          "contour": [
           {
            "colorbar": {
             "outlinewidth": 0,
             "ticks": ""
            },
            "colorscale": [
             [
              0,
              "#0d0887"
             ],
             [
              0.1111111111111111,
              "#46039f"
             ],
             [
              0.2222222222222222,
              "#7201a8"
             ],
             [
              0.3333333333333333,
              "#9c179e"
             ],
             [
              0.4444444444444444,
              "#bd3786"
             ],
             [
              0.5555555555555556,
              "#d8576b"
             ],
             [
              0.6666666666666666,
              "#ed7953"
             ],
             [
              0.7777777777777778,
              "#fb9f3a"
             ],
             [
              0.8888888888888888,
              "#fdca26"
             ],
             [
              1,
              "#f0f921"
             ]
            ],
            "type": "contour"
           }
          ],
          "contourcarpet": [
           {
            "colorbar": {
             "outlinewidth": 0,
             "ticks": ""
            },
            "type": "contourcarpet"
           }
          ],
          "heatmap": [
           {
            "colorbar": {
             "outlinewidth": 0,
             "ticks": ""
            },
            "colorscale": [
             [
              0,
              "#0d0887"
             ],
             [
              0.1111111111111111,
              "#46039f"
             ],
             [
              0.2222222222222222,
              "#7201a8"
             ],
             [
              0.3333333333333333,
              "#9c179e"
             ],
             [
              0.4444444444444444,
              "#bd3786"
             ],
             [
              0.5555555555555556,
              "#d8576b"
             ],
             [
              0.6666666666666666,
              "#ed7953"
             ],
             [
              0.7777777777777778,
              "#fb9f3a"
             ],
             [
              0.8888888888888888,
              "#fdca26"
             ],
             [
              1,
              "#f0f921"
             ]
            ],
            "type": "heatmap"
           }
          ],
          "heatmapgl": [
           {
            "colorbar": {
             "outlinewidth": 0,
             "ticks": ""
            },
            "colorscale": [
             [
              0,
              "#0d0887"
             ],
             [
              0.1111111111111111,
              "#46039f"
             ],
             [
              0.2222222222222222,
              "#7201a8"
             ],
             [
              0.3333333333333333,
              "#9c179e"
             ],
             [
              0.4444444444444444,
              "#bd3786"
             ],
             [
              0.5555555555555556,
              "#d8576b"
             ],
             [
              0.6666666666666666,
              "#ed7953"
             ],
             [
              0.7777777777777778,
              "#fb9f3a"
             ],
             [
              0.8888888888888888,
              "#fdca26"
             ],
             [
              1,
              "#f0f921"
             ]
            ],
            "type": "heatmapgl"
           }
          ],
          "histogram": [
           {
            "marker": {
             "pattern": {
              "fillmode": "overlay",
              "size": 10,
              "solidity": 0.2
             }
            },
            "type": "histogram"
           }
          ],
          "histogram2d": [
           {
            "colorbar": {
             "outlinewidth": 0,
             "ticks": ""
            },
            "colorscale": [
             [
              0,
              "#0d0887"
             ],
             [
              0.1111111111111111,
              "#46039f"
             ],
             [
              0.2222222222222222,
              "#7201a8"
             ],
             [
              0.3333333333333333,
              "#9c179e"
             ],
             [
              0.4444444444444444,
              "#bd3786"
             ],
             [
              0.5555555555555556,
              "#d8576b"
             ],
             [
              0.6666666666666666,
              "#ed7953"
             ],
             [
              0.7777777777777778,
              "#fb9f3a"
             ],
             [
              0.8888888888888888,
              "#fdca26"
             ],
             [
              1,
              "#f0f921"
             ]
            ],
            "type": "histogram2d"
           }
          ],
          "histogram2dcontour": [
           {
            "colorbar": {
             "outlinewidth": 0,
             "ticks": ""
            },
            "colorscale": [
             [
              0,
              "#0d0887"
             ],
             [
              0.1111111111111111,
              "#46039f"
             ],
             [
              0.2222222222222222,
              "#7201a8"
             ],
             [
              0.3333333333333333,
              "#9c179e"
             ],
             [
              0.4444444444444444,
              "#bd3786"
             ],
             [
              0.5555555555555556,
              "#d8576b"
             ],
             [
              0.6666666666666666,
              "#ed7953"
             ],
             [
              0.7777777777777778,
              "#fb9f3a"
             ],
             [
              0.8888888888888888,
              "#fdca26"
             ],
             [
              1,
              "#f0f921"
             ]
            ],
            "type": "histogram2dcontour"
           }
          ],
          "mesh3d": [
           {
            "colorbar": {
             "outlinewidth": 0,
             "ticks": ""
            },
            "type": "mesh3d"
           }
          ],
          "parcoords": [
           {
            "line": {
             "colorbar": {
              "outlinewidth": 0,
              "ticks": ""
             }
            },
            "type": "parcoords"
           }
          ],
          "pie": [
           {
            "automargin": true,
            "type": "pie"
           }
          ],
          "scatter": [
           {
            "fillpattern": {
             "fillmode": "overlay",
             "size": 10,
             "solidity": 0.2
            },
            "type": "scatter"
           }
          ],
          "scatter3d": [
           {
            "line": {
             "colorbar": {
              "outlinewidth": 0,
              "ticks": ""
             }
            },
            "marker": {
             "colorbar": {
              "outlinewidth": 0,
              "ticks": ""
             }
            },
            "type": "scatter3d"
           }
          ],
          "scattercarpet": [
           {
            "marker": {
             "colorbar": {
              "outlinewidth": 0,
              "ticks": ""
             }
            },
            "type": "scattercarpet"
           }
          ],
          "scattergeo": [
           {
            "marker": {
             "colorbar": {
              "outlinewidth": 0,
              "ticks": ""
             }
            },
            "type": "scattergeo"
           }
          ],
          "scattergl": [
           {
            "marker": {
             "colorbar": {
              "outlinewidth": 0,
              "ticks": ""
             }
            },
            "type": "scattergl"
           }
          ],
          "scattermapbox": [
           {
            "marker": {
             "colorbar": {
              "outlinewidth": 0,
              "ticks": ""
             }
            },
            "type": "scattermapbox"
           }
          ],
          "scatterpolar": [
           {
            "marker": {
             "colorbar": {
              "outlinewidth": 0,
              "ticks": ""
             }
            },
            "type": "scatterpolar"
           }
          ],
          "scatterpolargl": [
           {
            "marker": {
             "colorbar": {
              "outlinewidth": 0,
              "ticks": ""
             }
            },
            "type": "scatterpolargl"
           }
          ],
          "scatterternary": [
           {
            "marker": {
             "colorbar": {
              "outlinewidth": 0,
              "ticks": ""
             }
            },
            "type": "scatterternary"
           }
          ],
          "surface": [
           {
            "colorbar": {
             "outlinewidth": 0,
             "ticks": ""
            },
            "colorscale": [
             [
              0,
              "#0d0887"
             ],
             [
              0.1111111111111111,
              "#46039f"
             ],
             [
              0.2222222222222222,
              "#7201a8"
             ],
             [
              0.3333333333333333,
              "#9c179e"
             ],
             [
              0.4444444444444444,
              "#bd3786"
             ],
             [
              0.5555555555555556,
              "#d8576b"
             ],
             [
              0.6666666666666666,
              "#ed7953"
             ],
             [
              0.7777777777777778,
              "#fb9f3a"
             ],
             [
              0.8888888888888888,
              "#fdca26"
             ],
             [
              1,
              "#f0f921"
             ]
            ],
            "type": "surface"
           }
          ],
          "table": [
           {
            "cells": {
             "fill": {
              "color": "#EBF0F8"
             },
             "line": {
              "color": "white"
             }
            },
            "header": {
             "fill": {
              "color": "#C8D4E3"
             },
             "line": {
              "color": "white"
             }
            },
            "type": "table"
           }
          ]
         },
         "layout": {
          "annotationdefaults": {
           "arrowcolor": "#2a3f5f",
           "arrowhead": 0,
           "arrowwidth": 1
          },
          "autotypenumbers": "strict",
          "coloraxis": {
           "colorbar": {
            "outlinewidth": 0,
            "ticks": ""
           }
          },
          "colorscale": {
           "diverging": [
            [
             0,
             "#8e0152"
            ],
            [
             0.1,
             "#c51b7d"
            ],
            [
             0.2,
             "#de77ae"
            ],
            [
             0.3,
             "#f1b6da"
            ],
            [
             0.4,
             "#fde0ef"
            ],
            [
             0.5,
             "#f7f7f7"
            ],
            [
             0.6,
             "#e6f5d0"
            ],
            [
             0.7,
             "#b8e186"
            ],
            [
             0.8,
             "#7fbc41"
            ],
            [
             0.9,
             "#4d9221"
            ],
            [
             1,
             "#276419"
            ]
           ],
           "sequential": [
            [
             0,
             "#0d0887"
            ],
            [
             0.1111111111111111,
             "#46039f"
            ],
            [
             0.2222222222222222,
             "#7201a8"
            ],
            [
             0.3333333333333333,
             "#9c179e"
            ],
            [
             0.4444444444444444,
             "#bd3786"
            ],
            [
             0.5555555555555556,
             "#d8576b"
            ],
            [
             0.6666666666666666,
             "#ed7953"
            ],
            [
             0.7777777777777778,
             "#fb9f3a"
            ],
            [
             0.8888888888888888,
             "#fdca26"
            ],
            [
             1,
             "#f0f921"
            ]
           ],
           "sequentialminus": [
            [
             0,
             "#0d0887"
            ],
            [
             0.1111111111111111,
             "#46039f"
            ],
            [
             0.2222222222222222,
             "#7201a8"
            ],
            [
             0.3333333333333333,
             "#9c179e"
            ],
            [
             0.4444444444444444,
             "#bd3786"
            ],
            [
             0.5555555555555556,
             "#d8576b"
            ],
            [
             0.6666666666666666,
             "#ed7953"
            ],
            [
             0.7777777777777778,
             "#fb9f3a"
            ],
            [
             0.8888888888888888,
             "#fdca26"
            ],
            [
             1,
             "#f0f921"
            ]
           ]
          },
          "colorway": [
           "#636efa",
           "#EF553B",
           "#00cc96",
           "#ab63fa",
           "#FFA15A",
           "#19d3f3",
           "#FF6692",
           "#B6E880",
           "#FF97FF",
           "#FECB52"
          ],
          "font": {
           "color": "#2a3f5f"
          },
          "geo": {
           "bgcolor": "white",
           "lakecolor": "white",
           "landcolor": "#E5ECF6",
           "showlakes": true,
           "showland": true,
           "subunitcolor": "white"
          },
          "hoverlabel": {
           "align": "left"
          },
          "hovermode": "closest",
          "mapbox": {
           "style": "light"
          },
          "paper_bgcolor": "white",
          "plot_bgcolor": "#E5ECF6",
          "polar": {
           "angularaxis": {
            "gridcolor": "white",
            "linecolor": "white",
            "ticks": ""
           },
           "bgcolor": "#E5ECF6",
           "radialaxis": {
            "gridcolor": "white",
            "linecolor": "white",
            "ticks": ""
           }
          },
          "scene": {
           "xaxis": {
            "backgroundcolor": "#E5ECF6",
            "gridcolor": "white",
            "gridwidth": 2,
            "linecolor": "white",
            "showbackground": true,
            "ticks": "",
            "zerolinecolor": "white"
           },
           "yaxis": {
            "backgroundcolor": "#E5ECF6",
            "gridcolor": "white",
            "gridwidth": 2,
            "linecolor": "white",
            "showbackground": true,
            "ticks": "",
            "zerolinecolor": "white"
           },
           "zaxis": {
            "backgroundcolor": "#E5ECF6",
            "gridcolor": "white",
            "gridwidth": 2,
            "linecolor": "white",
            "showbackground": true,
            "ticks": "",
            "zerolinecolor": "white"
           }
          },
          "shapedefaults": {
           "line": {
            "color": "#2a3f5f"
           }
          },
          "ternary": {
           "aaxis": {
            "gridcolor": "white",
            "linecolor": "white",
            "ticks": ""
           },
           "baxis": {
            "gridcolor": "white",
            "linecolor": "white",
            "ticks": ""
           },
           "bgcolor": "#E5ECF6",
           "caxis": {
            "gridcolor": "white",
            "linecolor": "white",
            "ticks": ""
           }
          },
          "title": {
           "x": 0.05
          },
          "xaxis": {
           "automargin": true,
           "gridcolor": "white",
           "linecolor": "white",
           "ticks": "",
           "title": {
            "standoff": 15
           },
           "zerolinecolor": "white",
           "zerolinewidth": 2
          },
          "yaxis": {
           "automargin": true,
           "gridcolor": "white",
           "linecolor": "white",
           "ticks": "",
           "title": {
            "standoff": 15
           },
           "zerolinecolor": "white",
           "zerolinewidth": 2
          }
         }
        },
        "title": {
         "text": "Species Count by Phylum"
        },
        "xaxis": {
         "anchor": "y",
         "categoryarray": [
          "Chordata",
          "Arthropoda",
          "Cnidaria",
          "Mollusca",
          "Echinodermata"
         ],
         "categoryorder": "array",
         "domain": [
          0,
          1
         ],
         "title": {
          "text": "Phylum"
         }
        },
        "yaxis": {
         "anchor": "x",
         "domain": [
          0,
          1
         ],
         "title": {
          "text": "Species Count"
         }
        }
       }
      }
     },
     "metadata": {},
     "output_type": "display_data"
    }
   ],
   "source": [
    "import plotly.express as px\n",
    "\n",
    "# Create a dataframe for phylum counts\n",
    "phylum_count = dataset['phylum'].value_counts().reset_index()\n",
    "phylum_count.columns = ['phylum', 'count']\n",
    "\n",
    "\n",
    "fig_phylum = px.bar(phylum_count, x='phylum', y='count',\n",
    "                    title='Species Count by Phylum',\n",
    "                    labels={'phylum': 'Phylum', 'count': 'Species Count'},\n",
    "                    color='phylum')  \n",
    "fig_phylum.show()\n"
   ]
  },
  {
   "cell_type": "code",
   "execution_count": 29,
   "id": "79b0b809",
   "metadata": {},
   "outputs": [
    {
     "data": {
      "application/vnd.plotly.v1+json": {
       "config": {
        "plotlyServerURL": "https://plot.ly"
       },
       "data": [
        {
         "autobinx": false,
         "histnorm": "probability density",
         "legendgroup": "Class Data",
         "marker": {
          "color": "rgb(31, 119, 180)"
         },
         "name": "Class Data",
         "opacity": 0.7,
         "type": "histogram",
         "x": [
          9,
          16,
          9,
          5,
          5,
          5,
          9,
          8,
          12,
          6,
          16,
          1,
          16,
          16,
          18,
          5,
          14,
          0,
          18,
          5,
          2,
          9,
          18,
          5,
          12,
          16,
          16,
          5,
          5,
          4,
          0,
          0,
          13,
          14,
          16,
          5,
          18,
          16,
          6,
          5,
          5,
          16,
          5,
          5,
          12,
          16,
          5,
          11,
          3,
          16,
          14,
          5,
          18,
          4,
          5,
          18,
          14,
          5,
          5,
          1,
          2,
          1,
          5,
          5,
          9,
          16,
          5,
          18,
          2,
          18,
          12,
          14,
          5,
          2,
          1,
          14,
          5,
          0,
          9,
          9,
          5,
          9,
          16,
          6,
          18,
          16,
          1,
          14,
          14,
          18,
          14,
          16,
          5,
          14,
          0,
          16,
          0,
          5,
          14,
          9,
          2,
          14,
          9,
          5,
          9,
          16,
          18,
          16,
          1,
          5,
          6,
          18,
          1,
          5,
          16,
          2,
          16,
          5,
          2,
          18,
          17,
          0,
          18,
          5,
          1,
          18,
          1,
          18,
          5,
          14,
          5,
          2,
          18,
          18,
          2,
          4,
          8,
          16,
          13,
          0,
          5,
          18,
          18,
          1,
          14,
          9,
          14,
          0,
          2,
          16,
          9,
          18,
          16,
          9,
          5,
          9,
          5,
          2,
          16,
          1,
          18,
          0,
          5,
          14,
          1,
          5,
          16,
          16,
          2,
          18,
          11,
          1,
          5,
          8,
          16,
          9,
          9,
          1,
          6,
          16,
          16,
          2,
          2,
          5,
          16,
          5,
          9,
          5,
          9,
          11,
          2,
          18,
          5,
          0,
          18,
          11,
          16,
          5,
          16,
          9,
          3,
          1,
          16,
          16,
          12,
          9,
          1,
          9,
          16,
          5,
          4,
          16,
          1,
          13,
          18,
          16,
          1,
          5,
          2,
          1,
          18,
          14,
          5,
          5,
          1,
          16,
          16,
          1,
          16,
          1,
          18,
          1,
          0,
          9,
          18,
          9,
          1,
          5,
          2,
          2,
          14,
          17,
          18,
          10,
          0,
          14,
          9,
          16,
          5,
          12,
          0,
          15,
          12,
          10,
          14,
          13,
          0,
          5,
          0,
          5,
          5,
          1,
          9,
          18,
          1,
          14,
          2,
          18,
          2,
          5,
          5,
          16,
          5,
          5,
          9,
          0,
          5,
          16,
          5,
          0,
          16,
          14,
          5,
          18,
          5,
          18,
          6,
          16,
          14,
          2,
          6,
          5,
          0,
          12,
          9,
          0,
          12,
          12,
          16,
          5,
          18,
          4,
          13,
          2,
          9,
          1,
          16,
          2,
          14,
          18,
          5,
          16,
          2,
          16,
          18,
          5,
          2,
          16,
          16,
          16,
          5,
          9,
          12,
          5,
          5,
          16,
          5,
          2,
          9,
          1,
          5,
          14,
          16,
          5,
          18,
          12,
          17,
          9,
          7,
          16,
          0,
          5,
          1,
          16,
          16,
          18,
          14,
          16,
          5,
          1,
          5,
          5,
          1,
          16,
          5,
          16,
          18,
          0,
          5,
          16,
          9,
          6,
          18,
          9,
          6,
          17,
          18,
          5,
          1,
          0,
          18,
          16,
          5,
          18,
          16,
          18,
          5,
          5,
          16,
          14,
          5,
          9,
          0,
          18,
          5,
          1,
          6,
          5,
          0,
          1,
          1,
          6,
          2,
          18,
          16,
          16,
          9,
          5,
          14,
          1
         ],
         "xaxis": "x",
         "xbins": {
          "end": 18,
          "size": 0.5,
          "start": 0
         },
         "yaxis": "y"
        },
        {
         "legendgroup": "Class Data",
         "marker": {
          "color": "rgb(31, 119, 180)"
         },
         "mode": "lines",
         "name": "Class Data",
         "showlegend": false,
         "type": "scatter",
         "x": [
          0,
          0.036,
          0.072,
          0.108,
          0.144,
          0.18,
          0.216,
          0.252,
          0.288,
          0.324,
          0.36,
          0.396,
          0.432,
          0.468,
          0.504,
          0.54,
          0.576,
          0.612,
          0.648,
          0.684,
          0.72,
          0.756,
          0.792,
          0.828,
          0.864,
          0.9,
          0.936,
          0.972,
          1.008,
          1.044,
          1.08,
          1.116,
          1.152,
          1.188,
          1.224,
          1.26,
          1.296,
          1.332,
          1.368,
          1.404,
          1.44,
          1.476,
          1.512,
          1.548,
          1.584,
          1.62,
          1.656,
          1.692,
          1.728,
          1.764,
          1.8,
          1.836,
          1.872,
          1.908,
          1.944,
          1.98,
          2.016,
          2.052,
          2.088,
          2.124,
          2.16,
          2.196,
          2.232,
          2.268,
          2.304,
          2.34,
          2.376,
          2.412,
          2.448,
          2.484,
          2.52,
          2.556,
          2.592,
          2.628,
          2.664,
          2.7,
          2.736,
          2.772,
          2.808,
          2.844,
          2.88,
          2.916,
          2.952,
          2.988,
          3.024,
          3.06,
          3.096,
          3.132,
          3.168,
          3.204,
          3.24,
          3.276,
          3.312,
          3.348,
          3.384,
          3.42,
          3.456,
          3.492,
          3.528,
          3.564,
          3.6,
          3.636,
          3.672,
          3.708,
          3.744,
          3.78,
          3.816,
          3.852,
          3.888,
          3.924,
          3.96,
          3.996,
          4.032,
          4.068,
          4.104,
          4.14,
          4.176,
          4.212,
          4.248,
          4.284,
          4.32,
          4.356,
          4.392,
          4.428,
          4.464,
          4.5,
          4.536,
          4.572,
          4.608,
          4.644,
          4.68,
          4.716,
          4.752,
          4.788,
          4.824,
          4.86,
          4.896,
          4.932,
          4.968,
          5.004,
          5.04,
          5.076,
          5.112,
          5.148,
          5.184,
          5.22,
          5.256,
          5.292,
          5.328,
          5.364,
          5.4,
          5.436,
          5.472,
          5.508,
          5.544,
          5.58,
          5.616,
          5.652,
          5.688,
          5.724,
          5.76,
          5.796,
          5.832,
          5.868,
          5.904,
          5.94,
          5.976,
          6.012,
          6.048,
          6.084,
          6.12,
          6.156,
          6.192,
          6.228,
          6.264,
          6.3,
          6.336,
          6.372,
          6.408,
          6.444,
          6.48,
          6.516,
          6.552,
          6.588,
          6.624,
          6.66,
          6.696,
          6.732,
          6.768,
          6.804,
          6.84,
          6.876,
          6.912,
          6.948,
          6.984,
          7.02,
          7.056,
          7.092,
          7.128,
          7.164,
          7.2,
          7.236,
          7.272,
          7.308,
          7.344,
          7.38,
          7.416,
          7.452,
          7.488,
          7.524,
          7.56,
          7.596,
          7.632,
          7.668,
          7.704,
          7.74,
          7.776,
          7.812,
          7.848,
          7.884,
          7.92,
          7.956,
          7.992,
          8.028,
          8.064,
          8.1,
          8.136,
          8.172,
          8.208,
          8.244,
          8.28,
          8.316,
          8.352,
          8.388,
          8.424,
          8.46,
          8.496,
          8.532,
          8.568,
          8.604,
          8.64,
          8.676,
          8.712,
          8.748,
          8.784,
          8.82,
          8.856,
          8.892,
          8.928,
          8.964,
          9,
          9.036,
          9.072,
          9.108,
          9.144,
          9.18,
          9.216,
          9.252,
          9.288,
          9.324,
          9.36,
          9.396,
          9.432,
          9.468,
          9.504,
          9.54,
          9.576,
          9.612,
          9.648,
          9.684,
          9.72,
          9.756,
          9.792,
          9.828,
          9.864,
          9.9,
          9.936,
          9.972,
          10.008,
          10.044,
          10.08,
          10.116,
          10.152,
          10.188,
          10.224,
          10.26,
          10.296,
          10.332,
          10.368,
          10.404,
          10.44,
          10.476,
          10.512,
          10.548,
          10.584,
          10.62,
          10.656,
          10.692,
          10.728,
          10.764,
          10.8,
          10.836,
          10.872,
          10.908,
          10.944,
          10.98,
          11.016,
          11.052,
          11.088,
          11.124,
          11.16,
          11.196,
          11.232,
          11.268,
          11.304,
          11.34,
          11.376,
          11.412,
          11.448,
          11.484,
          11.52,
          11.556,
          11.592,
          11.628,
          11.664,
          11.7,
          11.736,
          11.772,
          11.808,
          11.844,
          11.88,
          11.916,
          11.952,
          11.988,
          12.024,
          12.06,
          12.096,
          12.132,
          12.168,
          12.204,
          12.24,
          12.276,
          12.312,
          12.348,
          12.384,
          12.42,
          12.456,
          12.492,
          12.528,
          12.564,
          12.6,
          12.636,
          12.672,
          12.708,
          12.744,
          12.78,
          12.816,
          12.852,
          12.888,
          12.924,
          12.96,
          12.996,
          13.032,
          13.068,
          13.104,
          13.14,
          13.176,
          13.212,
          13.248,
          13.284,
          13.32,
          13.356,
          13.392,
          13.428,
          13.464,
          13.5,
          13.536,
          13.572,
          13.608,
          13.644,
          13.68,
          13.716,
          13.752,
          13.788,
          13.824,
          13.86,
          13.896,
          13.932,
          13.968,
          14.004,
          14.04,
          14.076,
          14.112,
          14.148,
          14.184,
          14.22,
          14.256,
          14.292,
          14.328,
          14.364,
          14.4,
          14.436,
          14.472,
          14.508,
          14.544,
          14.58,
          14.616,
          14.652,
          14.688,
          14.724,
          14.76,
          14.796,
          14.832,
          14.868,
          14.904,
          14.94,
          14.976,
          15.012,
          15.048,
          15.084,
          15.12,
          15.156,
          15.192,
          15.228,
          15.264,
          15.3,
          15.336,
          15.372,
          15.408,
          15.444,
          15.48,
          15.516,
          15.552,
          15.588,
          15.624,
          15.66,
          15.696,
          15.732,
          15.768,
          15.804,
          15.84,
          15.876,
          15.912,
          15.948,
          15.984,
          16.02,
          16.056,
          16.092,
          16.128,
          16.164,
          16.2,
          16.236,
          16.272,
          16.308,
          16.344,
          16.38,
          16.416,
          16.452,
          16.488,
          16.524,
          16.56,
          16.596,
          16.632,
          16.668,
          16.704,
          16.74,
          16.776,
          16.812,
          16.848,
          16.884,
          16.92,
          16.956,
          16.992,
          17.028,
          17.064,
          17.1,
          17.136,
          17.172,
          17.208,
          17.244,
          17.28,
          17.316,
          17.352,
          17.388,
          17.424,
          17.46,
          17.496,
          17.532,
          17.568,
          17.604,
          17.64,
          17.676,
          17.712,
          17.748,
          17.784,
          17.82,
          17.856,
          17.892,
          17.928,
          17.964
         ],
         "xaxis": "x",
         "y": [
          0.039869563802975926,
          0.04029000004276558,
          0.0407050563635307,
          0.04111457496864006,
          0.04151840604487221,
          0.04191640805037143,
          0.04230844798858628,
          0.04269440166735037,
          0.043074153942298535,
          0.04344759894382345,
          0.0438146402868162,
          0.04417519126245679,
          0.04452917501135246,
          0.04487652467736328,
          0.045217183541479536,
          0.04555110513516821,
          0.045878253332632755,
          0.04619860242148894,
          0.04651213715139081,
          0.04681885276019846,
          0.04711875497732857,
          0.04741186000397071,
          0.04769819446991842,
          0.04797779536680938,
          0.04825070995762937,
          0.04851699566239515,
          0.04877671991997952,
          0.04902996002611718,
          0.049276802947678125,
          0.049517345113363476,
          0.049751692181039885,
          0.04997995878199004,
          0.05020226824242146,
          0.0504187522826397,
          0.05062955069435048,
          0.05083481099662647,
          0.051034688071128084,
          0.05122934377723791,
          0.05141894654782022,
          0.05160367096638745,
          0.05178369732650515,
          0.051959211174333116,
          0.05213040283524707,
          0.05229746692554789,
          0.052460601850314925,
          0.052620009288506894,
          0.0527758936664662,
          0.05292846162102938,
          0.05307792145347998,
          0.053224482575631726,
          0.053368354949363386,
          0.05350974852095135,
          0.05364887265159317,
          0.05378593554552735,
          0.05392114367719053,
          0.05405470121886057,
          0.054186809470263574,
          0.05431766629162405,
          0.05444746554165255,
          0.054576396521967545,
          0.054704643429443395,
          0.054832384817982215,
          0.05495979307118961,
          0.055087033887421644,
          0.055214265778664964,
          0.05534163958467217,
          0.055469298003762386,
          0.05559737514166452,
          0.05572599607973756,
          0.0558552764638777,
          0.05598532211536189,
          0.05611622866484838,
          0.0562480812106867,
          0.05638095400264874,
          0.056514910152119506,
          0.056650001369737586,
          0.05678626773139975,
          0.05692373747347153,
          0.05706242681799154,
          0.05720233982854827,
          0.05734346829747038,
          0.05748579166485125,
          0.057629276969870864,
          0.05777387883478271,
          0.05791953948184535,
          0.05806618878338539,
          0.058213744345100245,
          0.05836211162260247,
          0.058511184071119646,
          0.05866084332817642,
          0.05881095942898039,
          0.0589613910541471,
          0.05911198580930694,
          0.0592625805360347,
          0.05941300165346001,
          0.05956306552982442,
          0.05971257888315259,
          0.05986133921012806,
          0.060009135242178116,
          0.06015574742767478,
          0.06030094843909849,
          0.06044450370391937,
          0.06058617195788133,
          0.06072570581929826,
          0.060862852382919726,
          0.06099735383183444,
          0.061128948065846886,
          0.061257369344688256,
          0.06138234894438528,
          0.06150361582505697,
          0.061620897308374514,
          0.061733919762877655,
          0.061842409295322164,
          0.06194609244619503,
          0.06204469688752415,
          0.062137952121092244,
          0.062225590175161515,
          0.06230734629780268,
          0.06238295964494068,
          0.06245217396122661,
          0.06251473825186776,
          0.06257040744356668,
          0.06261894303274454,
          0.06266011371926004,
          0.06269369602387746,
          0.06271947488776652,
          0.06273724425237888,
          0.06274680761809992,
          0.06274797858012433,
          0.06274058134007061,
          0.06272445119193408,
          0.06269943498101936,
          0.06266539153460408,
          0.06262219206314447,
          0.06256972053092587,
          0.06250787399515284,
          0.06243656291255644,
          0.062355711412699084,
          0.06226525753725268,
          0.06216515344461772,
          0.062055365579361144,
          0.061935874806050964,
          0.06180667650716552,
          0.06166778064486199,
          0.06151921178650175,
          0.06136100909392021,
          0.06119322627655038,
          0.06101593150860103,
          0.060829207310607175,
          0.060633150395759824,
          0.06042787148153828,
          0.06021349506724987,
          0.05999015917820264,
          0.05975801507730928,
          0.05951722694502399,
          0.05926797152860515,
          0.05901043776177718,
          0.05874482635594768,
          0.0584713493642159,
          0.05819022971948496,
          0.0579017007480581,
          0.05760600566015646,
          0.05730339701887842,
          0.05699413618914567,
          0.05667849276826384,
          0.05635674399974024,
          0.05602917417206832,
          0.055696074004201686,
          0.055357740019483286,
          0.05501447390981055,
          0.05466658189183845,
          0.05431437405703592,
          0.05395816371740902,
          0.053598266748718856,
          0.05323500093299956,
          0.05286868530218912,
          0.05249963948465204,
          0.052128183056367156,
          0.05175463489851103,
          0.051379312563151605,
          0.05100253164871395,
          0.05062460518684849,
          0.05024584304227954,
          0.04986655132716271,
          0.04948703183142231,
          0.04910758147048387,
          0.048728491751744187,
          0.04835004826106565,
          0.04797253017049924,
          0.047596209768377036,
          0.0472213520128275,
          0.046848214109697445,
          0.04647704511577457,
          0.04610808556812623,
          0.04574156714028246,
          0.0453777123259033,
          0.045016734150485335,
          0.044658835911568974,
          0.04430421094782548,
          0.04395304243730442,
          0.04360550322504216,
          0.04326175568013525,
          0.04292195158229558,
          0.04258623203782363,
          0.0422547274248383,
          0.04192755736752511,
          0.041604830739082305,
          0.041286645692955655,
          0.04097308972188037,
          0.04066423974417397,
          0.04036016221663979,
          0.040060913273385776,
          0.039766538889779136,
          0.03947707507070586,
          0.03919254806223755,
          0.03891297458575044,
          0.03863836209348909,
          0.038368709044520555,
          0.038104005199972237,
          0.0378442319364133,
          0.03758936257619426,
          0.03733936273353468,
          0.03709419067511099,
          0.03685379769388073,
          0.036618128494852964,
          0.03638712159150158,
          0.03616070971150644,
          0.035938820210501356,
          0.03572137549250253,
          0.03550829343569302,
          0.03529948782224825,
          0.035094868770891206,
          0.0348943431708839,
          0.03469781511617646,
          0.03450518633845988,
          0.03431635663788776,
          0.03413122431026919,
          0.03394968656955473,
          0.03377163996448446,
          0.033596980788297294,
          0.03342560548044406,
          0.03325741101928785,
          0.033092295304826255,
          0.03293015753051065,
          0.032770898543295464,
          0.032614421191094985,
          0.03246063065688568,
          0.03230943477874155,
          0.03216074435515003,
          0.032014473435010675,
          0.03187053959177894,
          0.03172886418127538,
          0.03158937258273919,
          0.03145199442276316,
          0.0313166637818125,
          0.031183319383077224,
          0.03105190476348209,
          0.03092236842671897,
          0.030794663978239906,
          0.030668750242191477,
          0.030544591360338165,
          0.030422156873064758,
          0.030301421782612137,
          0.03018236659873825,
          0.030064977367059556,
          0.029949245680360437,
          0.029835168673215444,
          0.02972274900030545,
          0.029611994798849305,
          0.029502919635615747,
          0.029395542439010134,
          0.02928988741676905,
          0.029185983959824097,
          0.029083866532924017,
          0.028983574552633007,
          0.028885152253341335,
          0.028788648541950058,
          0.02869411684190543,
          0.02860161492727374,
          0.028511204747562212,
          0.02842295224399706,
          0.02833692715798184,
          0.028253202832456935,
          0.028171856006890504,
          0.028092966606621462,
          0.02801661752728228,
          0.02794289441501224,
          0.027871885443173625,
          0.027803681086269117,
          0.027738373891742413,
          0.027676058250341484,
          0.027616830165690102,
          0.027560787023714978,
          0.02750802736253867,
          0.02745865064343932,
          0.027412757023448003,
          0.02737044713013391,
          0.027331821839101416,
          0.027296982054696113,
          0.02726602849438837,
          0.027239061477277848,
          0.027216180717129074,
          0.027197485120322162,
          0.027183072589068536,
          0.027173039830217533,
          0.027167482169939444,
          0.027166493374549513,
          0.02717016547770026,
          0.027178588614139933,
          0.027191850860206132,
          0.027210038081192937,
          0.02723323378569923,
          0.02726151898703649,
          0.027294972071749135,
          0.02733366867526923,
          0.027377681564702282,
          0.027427080528715345,
          0.027481932274472667,
          0.027542300331542483,
          0.027608244962671974,
          0.027679823081312654,
          0.0277570881757504,
          0.027840090239682355,
          0.02792887570906247,
          0.028023487405021325,
          0.02812396448265214,
          0.028230342385441164,
          0.028342652805110946,
          0.02846092364663163,
          0.028585178998149843,
          0.028715439105575592,
          0.028851720351562183,
          0.028994035238613068,
          0.02914239237604101,
          0.02929679647050847,
          0.029457248319878258,
          0.029623744810100532,
          0.029796278914870834,
          0.029974839697793215,
          0.030159412316792474,
          0.030349978030521897,
          0.030546514206521838,
          0.03074899433089712,
          0.030957388019286377,
          0.03117166102890678,
          0.031391775271476255,
          0.03161768882682027,
          0.03184935595698754,
          0.03208672712071152,
          0.03232974898807105,
          0.03257836445521775,
          0.03283251265905148,
          0.033092128991744484,
          0.03335714511502901,
          0.03362748897418146,
          0.03390308481165,
          0.03418385318029156,
          0.03446971095620068,
          0.03476057135112953,
          0.03505634392451086,
          0.03535693459512028,
          0.035662245652419086,
          0.03597217576764514,
          0.03628662000472522,
          0.036605469831104485,
          0.03692861312859399,
          0.03725593420436021,
          0.037587313802183935,
          0.03792262911413271,
          0.03826175379280284,
          0.03860455796428932,
          0.038950908242063875,
          0.039300667741934456,
          0.03965369609828124,
          0.040009849481758314,
          0.04036898061866232,
          0.04073093881217269,
          0.04109556996566688,
          0.04146271660832124,
          0.04183221792320394,
          0.04220390977807296,
          0.042577624759078114,
          0.04295319220758175,
          0.04333043826028865,
          0.043709185892891016,
          0.04408925496740872,
          0.04447046228341844,
          0.04485262163333832,
          0.04523554386194304,
          0.045619036930258657,
          0.04600290598399101,
          0.04638695342661986,
          0.04677097899727905,
          0.047154779853539185,
          0.047538150659184014,
          0.04792088367706395,
          0.048302768867097744,
          0.048683593989467346,
          0.04906314471304998,
          0.0494412047291034,
          0.049817555870206254,
          0.05019197823444614,
          0.05056425031482101,
          0.05093414913380836,
          0.05130145038303804,
          0.05166592856798937,
          0.05202735715761334,
          0.052385508738763936,
          0.052740155175311706,
          0.05309106777178928,
          0.053438017441407734,
          0.05378077487826241,
          0.05411911073354005,
          0.05445279579551535,
          0.05478160117311894,
          0.05510529848283876,
          0.05542366003871228,
          0.05573645904514919,
          0.05604346979231498,
          0.056344467853795384,
          0.0566392302862588,
          0.05692753583081087,
          0.057209165115745114,
          0.0574839008603757,
          0.05775152807963601,
          0.058011834289121496,
          0.058264609710257695,
          0.05850964747525799,
          0.058746743831549986,
          0.05897569834533803,
          0.059196314103970936,
          0.05940839791679128,
          0.05961176051413526,
          0.05980621674416359,
          0.05999158576720254,
          0.06016769124728102,
          0.06033436154055391,
          0.06049142988030791,
          0.060638734558256385,
          0.06077611910182955,
          0.06090343244718713,
          0.06102052910767172,
          0.0611272693374531,
          0.061223519290097395,
          0.061309151171832756,
          0.061384043389268665,
          0.0614480806913576,
          0.06150115430538326,
          0.06154316206678317,
          0.061574008542619636,
          0.061593605148521885,
          0.06160187025894429,
          0.06159872931058579,
          0.061584114898837784,
          0.06155796686713606,
          0.06152023238909813,
          0.06147086604335296,
          0.0614098298809739,
          0.061337093485426306,
          0.061252634024982176,
          0.06115643629753347,
          0.061048492767764244,
          0.06092880359665239,
          0.060797376663274436,
          0.06065422757890121,
          0.06049937969338605,
          0.060332864093844134,
          0.06015471959564913,
          0.05996499272576029,
          0.05976373769842197,
          0.05955101638327105,
          0.05932689826590329,
          0.05909146040095149,
          0.058844787357740576,
          0.05858697115858884,
          0.058318111209830555,
          0.058038314225639,
          0.057747694144744885,
          0.057446372040135196,
          0.05713447602183906,
          0.05681214113289475,
          0.05647950923862012,
          0.05613672890928847,
          0.05578395529633444,
          0.05542135000221407,
          0.055049080944042615,
          0.054667322211146875,
          0.05427625391666916,
          0.053876062043360214,
          0.053466938283711865,
          0.05304907987457834,
          0.05262268942644031,
          0.052187974747473505,
          0.051745148662586456,
          0.05129442882759361,
          0.05083603753870096,
          0.05037020153748469,
          0.04989715181154117,
          0.04941712339100424,
          0.048930355141120076
         ],
         "yaxis": "y"
        }
       ],
       "layout": {
        "barmode": "overlay",
        "hovermode": "closest",
        "legend": {
         "traceorder": "reversed"
        },
        "template": {
         "data": {
          "bar": [
           {
            "error_x": {
             "color": "#2a3f5f"
            },
            "error_y": {
             "color": "#2a3f5f"
            },
            "marker": {
             "line": {
              "color": "#E5ECF6",
              "width": 0.5
             },
             "pattern": {
              "fillmode": "overlay",
              "size": 10,
              "solidity": 0.2
             }
            },
            "type": "bar"
           }
          ],
          "barpolar": [
           {
            "marker": {
             "line": {
              "color": "#E5ECF6",
              "width": 0.5
             },
             "pattern": {
              "fillmode": "overlay",
              "size": 10,
              "solidity": 0.2
             }
            },
            "type": "barpolar"
           }
          ],
          "carpet": [
           {
            "aaxis": {
             "endlinecolor": "#2a3f5f",
             "gridcolor": "white",
             "linecolor": "white",
             "minorgridcolor": "white",
             "startlinecolor": "#2a3f5f"
            },
            "baxis": {
             "endlinecolor": "#2a3f5f",
             "gridcolor": "white",
             "linecolor": "white",
             "minorgridcolor": "white",
             "startlinecolor": "#2a3f5f"
            },
            "type": "carpet"
           }
          ],
          "choropleth": [
           {
            "colorbar": {
             "outlinewidth": 0,
             "ticks": ""
            },
            "type": "choropleth"
           }
          ],
          "contour": [
           {
            "colorbar": {
             "outlinewidth": 0,
             "ticks": ""
            },
            "colorscale": [
             [
              0,
              "#0d0887"
             ],
             [
              0.1111111111111111,
              "#46039f"
             ],
             [
              0.2222222222222222,
              "#7201a8"
             ],
             [
              0.3333333333333333,
              "#9c179e"
             ],
             [
              0.4444444444444444,
              "#bd3786"
             ],
             [
              0.5555555555555556,
              "#d8576b"
             ],
             [
              0.6666666666666666,
              "#ed7953"
             ],
             [
              0.7777777777777778,
              "#fb9f3a"
             ],
             [
              0.8888888888888888,
              "#fdca26"
             ],
             [
              1,
              "#f0f921"
             ]
            ],
            "type": "contour"
           }
          ],
          "contourcarpet": [
           {
            "colorbar": {
             "outlinewidth": 0,
             "ticks": ""
            },
            "type": "contourcarpet"
           }
          ],
          "heatmap": [
           {
            "colorbar": {
             "outlinewidth": 0,
             "ticks": ""
            },
            "colorscale": [
             [
              0,
              "#0d0887"
             ],
             [
              0.1111111111111111,
              "#46039f"
             ],
             [
              0.2222222222222222,
              "#7201a8"
             ],
             [
              0.3333333333333333,
              "#9c179e"
             ],
             [
              0.4444444444444444,
              "#bd3786"
             ],
             [
              0.5555555555555556,
              "#d8576b"
             ],
             [
              0.6666666666666666,
              "#ed7953"
             ],
             [
              0.7777777777777778,
              "#fb9f3a"
             ],
             [
              0.8888888888888888,
              "#fdca26"
             ],
             [
              1,
              "#f0f921"
             ]
            ],
            "type": "heatmap"
           }
          ],
          "heatmapgl": [
           {
            "colorbar": {
             "outlinewidth": 0,
             "ticks": ""
            },
            "colorscale": [
             [
              0,
              "#0d0887"
             ],
             [
              0.1111111111111111,
              "#46039f"
             ],
             [
              0.2222222222222222,
              "#7201a8"
             ],
             [
              0.3333333333333333,
              "#9c179e"
             ],
             [
              0.4444444444444444,
              "#bd3786"
             ],
             [
              0.5555555555555556,
              "#d8576b"
             ],
             [
              0.6666666666666666,
              "#ed7953"
             ],
             [
              0.7777777777777778,
              "#fb9f3a"
             ],
             [
              0.8888888888888888,
              "#fdca26"
             ],
             [
              1,
              "#f0f921"
             ]
            ],
            "type": "heatmapgl"
           }
          ],
          "histogram": [
           {
            "marker": {
             "pattern": {
              "fillmode": "overlay",
              "size": 10,
              "solidity": 0.2
             }
            },
            "type": "histogram"
           }
          ],
          "histogram2d": [
           {
            "colorbar": {
             "outlinewidth": 0,
             "ticks": ""
            },
            "colorscale": [
             [
              0,
              "#0d0887"
             ],
             [
              0.1111111111111111,
              "#46039f"
             ],
             [
              0.2222222222222222,
              "#7201a8"
             ],
             [
              0.3333333333333333,
              "#9c179e"
             ],
             [
              0.4444444444444444,
              "#bd3786"
             ],
             [
              0.5555555555555556,
              "#d8576b"
             ],
             [
              0.6666666666666666,
              "#ed7953"
             ],
             [
              0.7777777777777778,
              "#fb9f3a"
             ],
             [
              0.8888888888888888,
              "#fdca26"
             ],
             [
              1,
              "#f0f921"
             ]
            ],
            "type": "histogram2d"
           }
          ],
          "histogram2dcontour": [
           {
            "colorbar": {
             "outlinewidth": 0,
             "ticks": ""
            },
            "colorscale": [
             [
              0,
              "#0d0887"
             ],
             [
              0.1111111111111111,
              "#46039f"
             ],
             [
              0.2222222222222222,
              "#7201a8"
             ],
             [
              0.3333333333333333,
              "#9c179e"
             ],
             [
              0.4444444444444444,
              "#bd3786"
             ],
             [
              0.5555555555555556,
              "#d8576b"
             ],
             [
              0.6666666666666666,
              "#ed7953"
             ],
             [
              0.7777777777777778,
              "#fb9f3a"
             ],
             [
              0.8888888888888888,
              "#fdca26"
             ],
             [
              1,
              "#f0f921"
             ]
            ],
            "type": "histogram2dcontour"
           }
          ],
          "mesh3d": [
           {
            "colorbar": {
             "outlinewidth": 0,
             "ticks": ""
            },
            "type": "mesh3d"
           }
          ],
          "parcoords": [
           {
            "line": {
             "colorbar": {
              "outlinewidth": 0,
              "ticks": ""
             }
            },
            "type": "parcoords"
           }
          ],
          "pie": [
           {
            "automargin": true,
            "type": "pie"
           }
          ],
          "scatter": [
           {
            "fillpattern": {
             "fillmode": "overlay",
             "size": 10,
             "solidity": 0.2
            },
            "type": "scatter"
           }
          ],
          "scatter3d": [
           {
            "line": {
             "colorbar": {
              "outlinewidth": 0,
              "ticks": ""
             }
            },
            "marker": {
             "colorbar": {
              "outlinewidth": 0,
              "ticks": ""
             }
            },
            "type": "scatter3d"
           }
          ],
          "scattercarpet": [
           {
            "marker": {
             "colorbar": {
              "outlinewidth": 0,
              "ticks": ""
             }
            },
            "type": "scattercarpet"
           }
          ],
          "scattergeo": [
           {
            "marker": {
             "colorbar": {
              "outlinewidth": 0,
              "ticks": ""
             }
            },
            "type": "scattergeo"
           }
          ],
          "scattergl": [
           {
            "marker": {
             "colorbar": {
              "outlinewidth": 0,
              "ticks": ""
             }
            },
            "type": "scattergl"
           }
          ],
          "scattermapbox": [
           {
            "marker": {
             "colorbar": {
              "outlinewidth": 0,
              "ticks": ""
             }
            },
            "type": "scattermapbox"
           }
          ],
          "scatterpolar": [
           {
            "marker": {
             "colorbar": {
              "outlinewidth": 0,
              "ticks": ""
             }
            },
            "type": "scatterpolar"
           }
          ],
          "scatterpolargl": [
           {
            "marker": {
             "colorbar": {
              "outlinewidth": 0,
              "ticks": ""
             }
            },
            "type": "scatterpolargl"
           }
          ],
          "scatterternary": [
           {
            "marker": {
             "colorbar": {
              "outlinewidth": 0,
              "ticks": ""
             }
            },
            "type": "scatterternary"
           }
          ],
          "surface": [
           {
            "colorbar": {
             "outlinewidth": 0,
             "ticks": ""
            },
            "colorscale": [
             [
              0,
              "#0d0887"
             ],
             [
              0.1111111111111111,
              "#46039f"
             ],
             [
              0.2222222222222222,
              "#7201a8"
             ],
             [
              0.3333333333333333,
              "#9c179e"
             ],
             [
              0.4444444444444444,
              "#bd3786"
             ],
             [
              0.5555555555555556,
              "#d8576b"
             ],
             [
              0.6666666666666666,
              "#ed7953"
             ],
             [
              0.7777777777777778,
              "#fb9f3a"
             ],
             [
              0.8888888888888888,
              "#fdca26"
             ],
             [
              1,
              "#f0f921"
             ]
            ],
            "type": "surface"
           }
          ],
          "table": [
           {
            "cells": {
             "fill": {
              "color": "#EBF0F8"
             },
             "line": {
              "color": "white"
             }
            },
            "header": {
             "fill": {
              "color": "#C8D4E3"
             },
             "line": {
              "color": "white"
             }
            },
            "type": "table"
           }
          ]
         },
         "layout": {
          "annotationdefaults": {
           "arrowcolor": "#2a3f5f",
           "arrowhead": 0,
           "arrowwidth": 1
          },
          "autotypenumbers": "strict",
          "coloraxis": {
           "colorbar": {
            "outlinewidth": 0,
            "ticks": ""
           }
          },
          "colorscale": {
           "diverging": [
            [
             0,
             "#8e0152"
            ],
            [
             0.1,
             "#c51b7d"
            ],
            [
             0.2,
             "#de77ae"
            ],
            [
             0.3,
             "#f1b6da"
            ],
            [
             0.4,
             "#fde0ef"
            ],
            [
             0.5,
             "#f7f7f7"
            ],
            [
             0.6,
             "#e6f5d0"
            ],
            [
             0.7,
             "#b8e186"
            ],
            [
             0.8,
             "#7fbc41"
            ],
            [
             0.9,
             "#4d9221"
            ],
            [
             1,
             "#276419"
            ]
           ],
           "sequential": [
            [
             0,
             "#0d0887"
            ],
            [
             0.1111111111111111,
             "#46039f"
            ],
            [
             0.2222222222222222,
             "#7201a8"
            ],
            [
             0.3333333333333333,
             "#9c179e"
            ],
            [
             0.4444444444444444,
             "#bd3786"
            ],
            [
             0.5555555555555556,
             "#d8576b"
            ],
            [
             0.6666666666666666,
             "#ed7953"
            ],
            [
             0.7777777777777778,
             "#fb9f3a"
            ],
            [
             0.8888888888888888,
             "#fdca26"
            ],
            [
             1,
             "#f0f921"
            ]
           ],
           "sequentialminus": [
            [
             0,
             "#0d0887"
            ],
            [
             0.1111111111111111,
             "#46039f"
            ],
            [
             0.2222222222222222,
             "#7201a8"
            ],
            [
             0.3333333333333333,
             "#9c179e"
            ],
            [
             0.4444444444444444,
             "#bd3786"
            ],
            [
             0.5555555555555556,
             "#d8576b"
            ],
            [
             0.6666666666666666,
             "#ed7953"
            ],
            [
             0.7777777777777778,
             "#fb9f3a"
            ],
            [
             0.8888888888888888,
             "#fdca26"
            ],
            [
             1,
             "#f0f921"
            ]
           ]
          },
          "colorway": [
           "#636efa",
           "#EF553B",
           "#00cc96",
           "#ab63fa",
           "#FFA15A",
           "#19d3f3",
           "#FF6692",
           "#B6E880",
           "#FF97FF",
           "#FECB52"
          ],
          "font": {
           "color": "#2a3f5f"
          },
          "geo": {
           "bgcolor": "white",
           "lakecolor": "white",
           "landcolor": "#E5ECF6",
           "showlakes": true,
           "showland": true,
           "subunitcolor": "white"
          },
          "hoverlabel": {
           "align": "left"
          },
          "hovermode": "closest",
          "mapbox": {
           "style": "light"
          },
          "paper_bgcolor": "white",
          "plot_bgcolor": "#E5ECF6",
          "polar": {
           "angularaxis": {
            "gridcolor": "white",
            "linecolor": "white",
            "ticks": ""
           },
           "bgcolor": "#E5ECF6",
           "radialaxis": {
            "gridcolor": "white",
            "linecolor": "white",
            "ticks": ""
           }
          },
          "scene": {
           "xaxis": {
            "backgroundcolor": "#E5ECF6",
            "gridcolor": "white",
            "gridwidth": 2,
            "linecolor": "white",
            "showbackground": true,
            "ticks": "",
            "zerolinecolor": "white"
           },
           "yaxis": {
            "backgroundcolor": "#E5ECF6",
            "gridcolor": "white",
            "gridwidth": 2,
            "linecolor": "white",
            "showbackground": true,
            "ticks": "",
            "zerolinecolor": "white"
           },
           "zaxis": {
            "backgroundcolor": "#E5ECF6",
            "gridcolor": "white",
            "gridwidth": 2,
            "linecolor": "white",
            "showbackground": true,
            "ticks": "",
            "zerolinecolor": "white"
           }
          },
          "shapedefaults": {
           "line": {
            "color": "#2a3f5f"
           }
          },
          "ternary": {
           "aaxis": {
            "gridcolor": "white",
            "linecolor": "white",
            "ticks": ""
           },
           "baxis": {
            "gridcolor": "white",
            "linecolor": "white",
            "ticks": ""
           },
           "bgcolor": "#E5ECF6",
           "caxis": {
            "gridcolor": "white",
            "linecolor": "white",
            "ticks": ""
           }
          },
          "title": {
           "x": 0.05
          },
          "xaxis": {
           "automargin": true,
           "gridcolor": "white",
           "linecolor": "white",
           "ticks": "",
           "title": {
            "standoff": 15
           },
           "zerolinecolor": "white",
           "zerolinewidth": 2
          },
          "yaxis": {
           "automargin": true,
           "gridcolor": "white",
           "linecolor": "white",
           "ticks": "",
           "title": {
            "standoff": 15
           },
           "zerolinecolor": "white",
           "zerolinewidth": 2
          }
         }
        },
        "title": {
         "text": "Normal Distribution of Class Column"
        },
        "xaxis": {
         "anchor": "y2",
         "domain": [
          0,
          1
         ],
         "zeroline": false
        },
        "yaxis": {
         "anchor": "free",
         "domain": [
          0,
          1
         ],
         "position": 0
        }
       }
      }
     },
     "metadata": {},
     "output_type": "display_data"
    }
   ],
   "source": [
    "import plotly.figure_factory as ff\n",
    "# Extract the 'class' column\n",
    "class_data = dataset['class']\n",
    "\n",
    "# Create a distribution plot (histogram + normal distribution curve)\n",
    "fig = ff.create_distplot([class_data], ['Class Data'], bin_size=0.5, show_rug=False)\n",
    "\n",
    "# Add a title\n",
    "fig.update_layout(title='Normal Distribution of Class Column')\n",
    "\n",
    "# Show the plot\n",
    "fig.show()"
   ]
  },
  {
   "cell_type": "code",
   "execution_count": 30,
   "id": "f317057e",
   "metadata": {},
   "outputs": [
    {
     "name": "stdout",
     "output_type": "stream",
     "text": [
      "0.975\n",
      "\t=============================================\n",
      "\n",
      "[[ 8  0  0  0  0]\n",
      " [ 0 56  0  0  0]\n",
      " [ 0  0  6  0  0]\n",
      " [ 0  0  0  7  0]\n",
      " [ 0  2  0  0  1]]\n",
      "\t=============================================\n",
      "\n",
      "               precision    recall  f1-score   support\n",
      "\n",
      "   Arthropoda       1.00      1.00      1.00         8\n",
      "     Chordata       0.97      1.00      0.98        56\n",
      "     Cnidaria       1.00      1.00      1.00         6\n",
      "Echinodermata       1.00      1.00      1.00         7\n",
      "     Mollusca       1.00      0.33      0.50         3\n",
      "\n",
      "     accuracy                           0.97        80\n",
      "    macro avg       0.99      0.87      0.90        80\n",
      " weighted avg       0.98      0.97      0.97        80\n",
      "\n"
     ]
    }
   ],
   "source": [
    "from sklearn.metrics import accuracy_score, classification_report, confusion_matrix\n",
    "from sklearn.metrics import classification_report, confusion_matrix\n",
    "\n",
    "\n",
    "DTC = DecisionTreeClassifier()\n",
    "DTC.fit(X_train, Y_train)\n",
    "predictions = DTC.predict(X_validation)\n",
    "print(accuracy_score(Y_validation, predictions))\n",
    "print(\"\\t=============================================\\n\")\n",
    "print(confusion_matrix(Y_validation, predictions))\n",
    "print(\"\\t=============================================\\n\")\n",
    "print(classification_report(Y_validation, predictions))"
   ]
  },
  {
   "cell_type": "markdown",
   "id": "7b37d154",
   "metadata": {},
   "source": [
    "For the DecisionTreeClassifier model achieved an accuracy of 96.25%. \n",
    "\n",
    "Furthermore from the confusion matrix there were only 3 incorrect predictions.\n",
    "\n",
    "Then proceeding to the classification report, out of all predictions made for the Arthropoda,Chordata,Chidaria,Echinodermata and Mollusca , 100%,98%,100%,67% and 100% were correct respectively. \n",
    "\n",
    "Out of all actual Arthropoda,Chordata,Chidaria,Echinodermata and Mollusca ,89%,100%,100%,100% and 71% respectively were classified correcctly. \n",
    "\n",
    "in F1-Score we see that the balance between precision and recall is very good throughout.\n",
    "\n",
    "From support we see that there were 9,52,8,4 and 7 actual instances of Arthropoda,Chordata,Chidaria,Echinodermata and Mollusca.\n",
    "\n",
    "The overall accuracy of the model is 96%\n",
    "The unweighted average of precison,recall and f1-score is 93%,92% and 91%. This shows that its handling other kinds of phylum very well actually whether minority or majority\n",
    "The weighted average of precison,recall and f1-score is 97%,96% and 96% is great news especially for the fields that have more instances"
   ]
  },
  {
   "cell_type": "code",
   "execution_count": 31,
   "id": "35101d32",
   "metadata": {},
   "outputs": [
    {
     "name": "stdout",
     "output_type": "stream",
     "text": [
      "0.7625\n",
      "\t=============================================\n",
      "\n",
      "[[ 0  8  0  0  0]\n",
      " [ 0 55  0  1  0]\n",
      " [ 0  0  6  0  0]\n",
      " [ 0  7  0  0  0]\n",
      " [ 0  3  0  0  0]]\n",
      "\t=============================================\n",
      "\n",
      "               precision    recall  f1-score   support\n",
      "\n",
      "   Arthropoda       0.00      0.00      0.00         8\n",
      "     Chordata       0.75      0.98      0.85        56\n",
      "     Cnidaria       1.00      1.00      1.00         6\n",
      "Echinodermata       0.00      0.00      0.00         7\n",
      "     Mollusca       0.00      0.00      0.00         3\n",
      "\n",
      "     accuracy                           0.76        80\n",
      "    macro avg       0.35      0.40      0.37        80\n",
      " weighted avg       0.60      0.76      0.67        80\n",
      "\n"
     ]
    },
    {
     "name": "stderr",
     "output_type": "stream",
     "text": [
      "c:\\PROGRAMDATA\\ANACONDA3\\Lib\\site-packages\\sklearn\\metrics\\_classification.py:1509: UndefinedMetricWarning:\n",
      "\n",
      "Precision is ill-defined and being set to 0.0 in labels with no predicted samples. Use `zero_division` parameter to control this behavior.\n",
      "\n",
      "c:\\PROGRAMDATA\\ANACONDA3\\Lib\\site-packages\\sklearn\\metrics\\_classification.py:1509: UndefinedMetricWarning:\n",
      "\n",
      "Precision is ill-defined and being set to 0.0 in labels with no predicted samples. Use `zero_division` parameter to control this behavior.\n",
      "\n",
      "c:\\PROGRAMDATA\\ANACONDA3\\Lib\\site-packages\\sklearn\\metrics\\_classification.py:1509: UndefinedMetricWarning:\n",
      "\n",
      "Precision is ill-defined and being set to 0.0 in labels with no predicted samples. Use `zero_division` parameter to control this behavior.\n",
      "\n"
     ]
    }
   ],
   "source": [
    "GNB = GaussianNB()\n",
    "GNB.fit(X_train, Y_train)\n",
    "predictions = GNB.predict(X_validation)\n",
    "print(accuracy_score(Y_validation, predictions))\n",
    "print(\"\\t=============================================\\n\")\n",
    "print(confusion_matrix(Y_validation, predictions))\n",
    "print(\"\\t=============================================\\n\")\n",
    "print(classification_report(Y_validation, predictions))"
   ]
  },
  {
   "cell_type": "markdown",
   "id": "3141a190",
   "metadata": {},
   "source": [
    "For the GaussianNB model achieved an accuracy of 77.50% Which is already worse than that of the DecisionTreeClassifier model\n",
    "\n",
    "Furthermore from the confusion matrix there were a lot of incorrect predictions. we have the model making 18 wrong preditions.This is worse than its competitor\n",
    "\n",
    "Then proceeding to the classification report, out of all predictions made for the Arthropoda,Chordata,Chidaria,Echinodermata and Mollusca , 0%,75%,100%,75% and 0% were correct respectively. \n",
    "\n",
    "Out of all actual Arthropoda,Chordata,Chidaria,Echinodermata and Mollusca ,0%,98%,100%,75% and 0% respectively were classified correcctly. \n",
    "\n",
    "in F1-Score we see that the balance between precision and recall is not so good as compared to the DecisionTreeClassifier model as it lacks consistency in results\n",
    "\n",
    "From support we see that there were 9,52,8,4 and 7 actual instances of Arthropoda,Chordata,Chidaria,Echinodermata and Mollusca.\n",
    "\n",
    "The unweighted average of precison,recall and f1-score show that this model is handling other kinds of phylum very badly whether minority or majority compared to the DecisionTreeClassifier model\n",
    "The weighted average of precison,recall and f1-score also shows that it is not great especially for the fields that have more instances"
   ]
  },
  {
   "cell_type": "code",
   "execution_count": 32,
   "id": "2886dedc",
   "metadata": {},
   "outputs": [
    {
     "name": "stdout",
     "output_type": "stream",
     "text": [
      "0.995\n",
      "0.8075\n"
     ]
    }
   ],
   "source": [
    "from sklearn import metrics\n",
    "print(metrics.accuracy_score(Y, DTC.predict(X)))\n",
    "print(metrics.accuracy_score(Y, GNB.predict(X)))"
   ]
  },
  {
   "cell_type": "markdown",
   "id": "5f1a510c",
   "metadata": {},
   "source": [
    "Then to finally hammer the final nail, the accuracy was tested using x and y values and to no ones suprise, the DecisionTreeClassifier model had much higher accuracy score of 99.25% making this model the ideal choice for the problem"
   ]
  },
  {
   "cell_type": "code",
   "execution_count": 33,
   "id": "c78757fb",
   "metadata": {},
   "outputs": [
    {
     "data": {
      "image/png": "[encoded data removed]",
      "text/plain": [
       "<Figure size 1000x1000 with 1 Axes>"
      ]
     },
     "metadata": {},
     "output_type": "display_data"
    }
   ],
   "source": [
    "import matplotlib.pyplot as plt\n",
    "import numpy as np\n",
    "\n",
    "\n",
    "data = dataset['phylum'].value_counts()  \n",
    "labels = data.index  \n",
    "\n",
    "plt.figure(figsize=(10, 10))\n",
    "plt.pie(data, labels=labels, autopct='%1.1f%%', startangle=140)\n",
    "\n",
    "\n",
    "plt.title('Distribution of Phylum', fontsize=28, fontweight='bold')\n",
    "plt.axis('equal')  \n",
    "\n",
    "# Display the plot\n",
    "plt.show()"
   ]
  },
  {
   "cell_type": "code",
   "execution_count": null,
   "id": "3684688b",
   "metadata": {},
   "outputs": [],
   "source": []
  }
 ],
 "metadata": {
  "kernelspec": {
   "display_name": "base",
   "language": "python",
   "name": "python3"
  },
  "language_info": {
   "codemirror_mode": {
    "name": "ipython",
    "version": 3
   },
   "file_extension": ".py",
   "mimetype": "text/x-python",
   "name": "python",
   "nbconvert_exporter": "python",
   "pygments_lexer": "ipython3",
   "version": "3.12.4"
  }
 },
 "nbformat": 4,
 "nbformat_minor": 5
}
