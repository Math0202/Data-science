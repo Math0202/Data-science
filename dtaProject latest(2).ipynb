{
 "cells": [
  {
   "cell_type": "code",
   "execution_count": 1,
   "id": "455e54ab-1c41-49ca-bd23-3d514f4fc4bf",
   "metadata": {},
   "outputs": [
    {
     "data": {
      "text/html": [
       "<div>\n",
       "<style scoped>\n",
       "    .dataframe tbody tr th:only-of-type {\n",
       "        vertical-align: middle;\n",
       "    }\n",
       "\n",
       "    .dataframe tbody tr th {\n",
       "        vertical-align: top;\n",
       "    }\n",
       "\n",
       "    .dataframe thead th {\n",
       "        text-align: right;\n",
       "    }\n",
       "</style>\n",
       "<table border=\"1\" class=\"dataframe\">\n",
       "  <thead>\n",
       "    <tr style=\"text-align: right;\">\n",
       "      <th></th>\n",
       "      <th>rarespecies_id</th>\n",
       "      <th>eol_content_id</th>\n",
       "      <th>eol_page_id</th>\n",
       "      <th>kingdom</th>\n",
       "      <th>phylum</th>\n",
       "      <th>class</th>\n",
       "      <th>order</th>\n",
       "      <th>family</th>\n",
       "      <th>genus</th>\n",
       "      <th>species</th>\n",
       "      <th>sciName</th>\n",
       "      <th>common</th>\n",
       "      <th>file_name</th>\n",
       "    </tr>\n",
       "  </thead>\n",
       "  <tbody>\n",
       "    <tr>\n",
       "      <th>0</th>\n",
       "      <td>75fd91cb-2881-41cd-88e6-de451e8b60e2</td>\n",
       "      <td>12853737</td>\n",
       "      <td>449393</td>\n",
       "      <td>Animalia</td>\n",
       "      <td>Mollusca</td>\n",
       "      <td>Bivalvia</td>\n",
       "      <td>Unionida</td>\n",
       "      <td>Unionidae</td>\n",
       "      <td>Cyclonaias</td>\n",
       "      <td>tuberculata</td>\n",
       "      <td>Cyclonaias tuberculata</td>\n",
       "      <td>purple wartyback</td>\n",
       "      <td>NaN</td>\n",
       "    </tr>\n",
       "    <tr>\n",
       "      <th>1</th>\n",
       "      <td>28c508bc-63ff-4e60-9c8f-1934367e1528</td>\n",
       "      <td>20969394</td>\n",
       "      <td>793083</td>\n",
       "      <td>Animalia</td>\n",
       "      <td>Chordata</td>\n",
       "      <td>Reptilia</td>\n",
       "      <td>Testudines</td>\n",
       "      <td>Geoemydidae</td>\n",
       "      <td>Pangshura</td>\n",
       "      <td>sylhetensis</td>\n",
       "      <td>Pangshura sylhetensis</td>\n",
       "      <td>Assam Roofed Turtle</td>\n",
       "      <td>dataset/Animalia-Chordata-Reptilia-Testudines-...</td>\n",
       "    </tr>\n",
       "    <tr>\n",
       "      <th>2</th>\n",
       "      <td>00372441-588c-4af8-9665-29bee20822c0</td>\n",
       "      <td>28895411</td>\n",
       "      <td>319982</td>\n",
       "      <td>Animalia</td>\n",
       "      <td>Chordata</td>\n",
       "      <td>Amphibia</td>\n",
       "      <td>Caudata</td>\n",
       "      <td>Cryptobranchidae</td>\n",
       "      <td>Andrias</td>\n",
       "      <td>japonicus</td>\n",
       "      <td>Andrias japonicus</td>\n",
       "      <td>Japanese Giant Salamander</td>\n",
       "      <td>dataset/Animalia-Chordata-Amphibia-Caudata-Cry...</td>\n",
       "    </tr>\n",
       "    <tr>\n",
       "      <th>3</th>\n",
       "      <td>29cc6040-6af2-49ee-86ec-ab7d89793828</td>\n",
       "      <td>29658536</td>\n",
       "      <td>45510188</td>\n",
       "      <td>Animalia</td>\n",
       "      <td>Chordata</td>\n",
       "      <td>Aves</td>\n",
       "      <td>Passeriformes</td>\n",
       "      <td>Turdidae</td>\n",
       "      <td>Myadestes</td>\n",
       "      <td>obscurus</td>\n",
       "      <td>Myadestes obscurus</td>\n",
       "      <td>'Oma'o</td>\n",
       "      <td>dataset/Animalia-Chordata-Aves-Passeriformes-T...</td>\n",
       "    </tr>\n",
       "    <tr>\n",
       "      <th>4</th>\n",
       "      <td>94004bff-3a33-4758-8125-bf72e6e57eab</td>\n",
       "      <td>21252576</td>\n",
       "      <td>7250886</td>\n",
       "      <td>Animalia</td>\n",
       "      <td>Chordata</td>\n",
       "      <td>Mammalia</td>\n",
       "      <td>Primates</td>\n",
       "      <td>Indriidae</td>\n",
       "      <td>Propithecus</td>\n",
       "      <td>deckenii</td>\n",
       "      <td>Propithecus deckenii</td>\n",
       "      <td>Van der Decken's Sifaka</td>\n",
       "      <td>dataset/Animalia-Chordata-Mammalia-Primates-In...</td>\n",
       "    </tr>\n",
       "    <tr>\n",
       "      <th>...</th>\n",
       "      <td>...</td>\n",
       "      <td>...</td>\n",
       "      <td>...</td>\n",
       "      <td>...</td>\n",
       "      <td>...</td>\n",
       "      <td>...</td>\n",
       "      <td>...</td>\n",
       "      <td>...</td>\n",
       "      <td>...</td>\n",
       "      <td>...</td>\n",
       "      <td>...</td>\n",
       "      <td>...</td>\n",
       "      <td>...</td>\n",
       "    </tr>\n",
       "    <tr>\n",
       "      <th>11978</th>\n",
       "      <td>1fa96ea5-32fa-4a25-b8d2-fa99f6e2cb89</td>\n",
       "      <td>29734618</td>\n",
       "      <td>1011315</td>\n",
       "      <td>Animalia</td>\n",
       "      <td>Chordata</td>\n",
       "      <td>Mammalia</td>\n",
       "      <td>Lagomorpha</td>\n",
       "      <td>Leporidae</td>\n",
       "      <td>Sylvilagus</td>\n",
       "      <td>transitionalis</td>\n",
       "      <td>Sylvilagus transitionalis</td>\n",
       "      <td>Coney</td>\n",
       "      <td>dataset/Animalia-Chordata-Mammalia-Lagomorpha-...</td>\n",
       "    </tr>\n",
       "    <tr>\n",
       "      <th>11979</th>\n",
       "      <td>628bf2b4-6ecc-4017-a8e6-4306849e0cfc</td>\n",
       "      <td>29972861</td>\n",
       "      <td>1056842</td>\n",
       "      <td>Animalia</td>\n",
       "      <td>Chordata</td>\n",
       "      <td>Reptilia</td>\n",
       "      <td>Testudines</td>\n",
       "      <td>Emydidae</td>\n",
       "      <td>Glyptemys</td>\n",
       "      <td>muhlenbergii</td>\n",
       "      <td>Glyptemys muhlenbergii</td>\n",
       "      <td>Bog Turtle</td>\n",
       "      <td>dataset/Animalia-Chordata-Reptilia-Testudines-...</td>\n",
       "    </tr>\n",
       "    <tr>\n",
       "      <th>11980</th>\n",
       "      <td>0ecfdec9-b1cd-4d43-96fc-2f8889ec1ad9</td>\n",
       "      <td>30134195</td>\n",
       "      <td>52572074</td>\n",
       "      <td>Animalia</td>\n",
       "      <td>Chordata</td>\n",
       "      <td>Chondrichthyes</td>\n",
       "      <td>Myliobatiformes</td>\n",
       "      <td>Dasyatidae</td>\n",
       "      <td>Bathytoshia</td>\n",
       "      <td>centroura</td>\n",
       "      <td>Bathytoshia centroura</td>\n",
       "      <td>Roughtail Stingray</td>\n",
       "      <td>dataset/Animalia-Chordata-Chondrichthyes-Mylio...</td>\n",
       "    </tr>\n",
       "    <tr>\n",
       "      <th>11981</th>\n",
       "      <td>27fdb1e9-c5fb-459a-8b6a-6fb222b1c512</td>\n",
       "      <td>9474963</td>\n",
       "      <td>46559139</td>\n",
       "      <td>Animalia</td>\n",
       "      <td>Chordata</td>\n",
       "      <td>Mammalia</td>\n",
       "      <td>Carnivora</td>\n",
       "      <td>Mustelidae</td>\n",
       "      <td>Aonyx</td>\n",
       "      <td>capensis</td>\n",
       "      <td>Aonyx capensis</td>\n",
       "      <td>African Clawless Otter</td>\n",
       "      <td>dataset/Animalia-Chordata-Mammalia-Carnivora-M...</td>\n",
       "    </tr>\n",
       "    <tr>\n",
       "      <th>11982</th>\n",
       "      <td>54894a59-151f-4814-ac32-3a336841e58e</td>\n",
       "      <td>9465817</td>\n",
       "      <td>326525</td>\n",
       "      <td>Animalia</td>\n",
       "      <td>Chordata</td>\n",
       "      <td>Mammalia</td>\n",
       "      <td>Primates</td>\n",
       "      <td>Lemuridae</td>\n",
       "      <td>Eulemur</td>\n",
       "      <td>fulvus</td>\n",
       "      <td>Eulemur fulvus</td>\n",
       "      <td>Brown Lemur</td>\n",
       "      <td>dataset/Animalia-Chordata-Mammalia-Primates-Le...</td>\n",
       "    </tr>\n",
       "  </tbody>\n",
       "</table>\n",
       "<p>11983 rows × 13 columns</p>\n",
       "</div>"
      ],
      "text/plain": [
       "                             rarespecies_id  eol_content_id  eol_page_id  \\\n",
       "0      75fd91cb-2881-41cd-88e6-de451e8b60e2        12853737       449393   \n",
       "1      28c508bc-63ff-4e60-9c8f-1934367e1528        20969394       793083   \n",
       "2      00372441-588c-4af8-9665-29bee20822c0        28895411       319982   \n",
       "3      29cc6040-6af2-49ee-86ec-ab7d89793828        29658536     45510188   \n",
       "4      94004bff-3a33-4758-8125-bf72e6e57eab        21252576      7250886   \n",
       "...                                     ...             ...          ...   \n",
       "11978  1fa96ea5-32fa-4a25-b8d2-fa99f6e2cb89        29734618      1011315   \n",
       "11979  628bf2b4-6ecc-4017-a8e6-4306849e0cfc        29972861      1056842   \n",
       "11980  0ecfdec9-b1cd-4d43-96fc-2f8889ec1ad9        30134195     52572074   \n",
       "11981  27fdb1e9-c5fb-459a-8b6a-6fb222b1c512         9474963     46559139   \n",
       "11982  54894a59-151f-4814-ac32-3a336841e58e         9465817       326525   \n",
       "\n",
       "        kingdom    phylum           class            order            family  \\\n",
       "0      Animalia  Mollusca        Bivalvia         Unionida         Unionidae   \n",
       "1      Animalia  Chordata        Reptilia       Testudines       Geoemydidae   \n",
       "2      Animalia  Chordata        Amphibia          Caudata  Cryptobranchidae   \n",
       "3      Animalia  Chordata            Aves    Passeriformes          Turdidae   \n",
       "4      Animalia  Chordata        Mammalia         Primates         Indriidae   \n",
       "...         ...       ...             ...              ...               ...   \n",
       "11978  Animalia  Chordata        Mammalia       Lagomorpha         Leporidae   \n",
       "11979  Animalia  Chordata        Reptilia       Testudines          Emydidae   \n",
       "11980  Animalia  Chordata  Chondrichthyes  Myliobatiformes        Dasyatidae   \n",
       "11981  Animalia  Chordata        Mammalia        Carnivora        Mustelidae   \n",
       "11982  Animalia  Chordata        Mammalia         Primates         Lemuridae   \n",
       "\n",
       "             genus         species                    sciName  \\\n",
       "0       Cyclonaias     tuberculata     Cyclonaias tuberculata   \n",
       "1        Pangshura     sylhetensis      Pangshura sylhetensis   \n",
       "2          Andrias       japonicus          Andrias japonicus   \n",
       "3        Myadestes        obscurus         Myadestes obscurus   \n",
       "4      Propithecus        deckenii       Propithecus deckenii   \n",
       "...            ...             ...                        ...   \n",
       "11978   Sylvilagus  transitionalis  Sylvilagus transitionalis   \n",
       "11979    Glyptemys    muhlenbergii     Glyptemys muhlenbergii   \n",
       "11980  Bathytoshia       centroura      Bathytoshia centroura   \n",
       "11981        Aonyx        capensis             Aonyx capensis   \n",
       "11982      Eulemur          fulvus             Eulemur fulvus   \n",
       "\n",
       "                          common  \\\n",
       "0               purple wartyback   \n",
       "1            Assam Roofed Turtle   \n",
       "2      Japanese Giant Salamander   \n",
       "3                         'Oma'o   \n",
       "4        Van der Decken's Sifaka   \n",
       "...                          ...   \n",
       "11978                      Coney   \n",
       "11979                 Bog Turtle   \n",
       "11980         Roughtail Stingray   \n",
       "11981     African Clawless Otter   \n",
       "11982                Brown Lemur   \n",
       "\n",
       "                                               file_name  \n",
       "0                                                    NaN  \n",
       "1      dataset/Animalia-Chordata-Reptilia-Testudines-...  \n",
       "2      dataset/Animalia-Chordata-Amphibia-Caudata-Cry...  \n",
       "3      dataset/Animalia-Chordata-Aves-Passeriformes-T...  \n",
       "4      dataset/Animalia-Chordata-Mammalia-Primates-In...  \n",
       "...                                                  ...  \n",
       "11978  dataset/Animalia-Chordata-Mammalia-Lagomorpha-...  \n",
       "11979  dataset/Animalia-Chordata-Reptilia-Testudines-...  \n",
       "11980  dataset/Animalia-Chordata-Chondrichthyes-Mylio...  \n",
       "11981  dataset/Animalia-Chordata-Mammalia-Carnivora-M...  \n",
       "11982  dataset/Animalia-Chordata-Mammalia-Primates-Le...  \n",
       "\n",
       "[11983 rows x 13 columns]"
      ]
     },
     "execution_count": 1,
     "metadata": {},
     "output_type": "execute_result"
    }
   ],
   "source": [
    "import pandas as pd\n",
    "dataset=pd.read_csv(r\"C:\\Users\\pkmag\\Downloads\\metadata.csv\")\n",
    "dataset"
   ]
  },
  {
   "cell_type": "code",
   "execution_count": 2,
   "id": "720102f6-fc20-427b-a0fc-eb25ca535882",
   "metadata": {},
   "outputs": [
    {
     "data": {
      "text/html": [
       "<div>\n",
       "<style scoped>\n",
       "    .dataframe tbody tr th:only-of-type {\n",
       "        vertical-align: middle;\n",
       "    }\n",
       "\n",
       "    .dataframe tbody tr th {\n",
       "        vertical-align: top;\n",
       "    }\n",
       "\n",
       "    .dataframe thead th {\n",
       "        text-align: right;\n",
       "    }\n",
       "</style>\n",
       "<table border=\"1\" class=\"dataframe\">\n",
       "  <thead>\n",
       "    <tr style=\"text-align: right;\">\n",
       "      <th></th>\n",
       "      <th>phylum</th>\n",
       "      <th>class</th>\n",
       "      <th>order</th>\n",
       "      <th>family</th>\n",
       "      <th>genus</th>\n",
       "      <th>species</th>\n",
       "    </tr>\n",
       "  </thead>\n",
       "  <tbody>\n",
       "    <tr>\n",
       "      <th>0</th>\n",
       "      <td>Mollusca</td>\n",
       "      <td>Bivalvia</td>\n",
       "      <td>Unionida</td>\n",
       "      <td>Unionidae</td>\n",
       "      <td>Cyclonaias</td>\n",
       "      <td>tuberculata</td>\n",
       "    </tr>\n",
       "    <tr>\n",
       "      <th>1</th>\n",
       "      <td>Chordata</td>\n",
       "      <td>Reptilia</td>\n",
       "      <td>Testudines</td>\n",
       "      <td>Geoemydidae</td>\n",
       "      <td>Pangshura</td>\n",
       "      <td>sylhetensis</td>\n",
       "    </tr>\n",
       "    <tr>\n",
       "      <th>2</th>\n",
       "      <td>Chordata</td>\n",
       "      <td>Amphibia</td>\n",
       "      <td>Caudata</td>\n",
       "      <td>Cryptobranchidae</td>\n",
       "      <td>Andrias</td>\n",
       "      <td>japonicus</td>\n",
       "    </tr>\n",
       "    <tr>\n",
       "      <th>3</th>\n",
       "      <td>Chordata</td>\n",
       "      <td>Aves</td>\n",
       "      <td>Passeriformes</td>\n",
       "      <td>Turdidae</td>\n",
       "      <td>Myadestes</td>\n",
       "      <td>obscurus</td>\n",
       "    </tr>\n",
       "    <tr>\n",
       "      <th>4</th>\n",
       "      <td>Chordata</td>\n",
       "      <td>Mammalia</td>\n",
       "      <td>Primates</td>\n",
       "      <td>Indriidae</td>\n",
       "      <td>Propithecus</td>\n",
       "      <td>deckenii</td>\n",
       "    </tr>\n",
       "    <tr>\n",
       "      <th>...</th>\n",
       "      <td>...</td>\n",
       "      <td>...</td>\n",
       "      <td>...</td>\n",
       "      <td>...</td>\n",
       "      <td>...</td>\n",
       "      <td>...</td>\n",
       "    </tr>\n",
       "    <tr>\n",
       "      <th>11978</th>\n",
       "      <td>Chordata</td>\n",
       "      <td>Mammalia</td>\n",
       "      <td>Lagomorpha</td>\n",
       "      <td>Leporidae</td>\n",
       "      <td>Sylvilagus</td>\n",
       "      <td>transitionalis</td>\n",
       "    </tr>\n",
       "    <tr>\n",
       "      <th>11979</th>\n",
       "      <td>Chordata</td>\n",
       "      <td>Reptilia</td>\n",
       "      <td>Testudines</td>\n",
       "      <td>Emydidae</td>\n",
       "      <td>Glyptemys</td>\n",
       "      <td>muhlenbergii</td>\n",
       "    </tr>\n",
       "    <tr>\n",
       "      <th>11980</th>\n",
       "      <td>Chordata</td>\n",
       "      <td>Chondrichthyes</td>\n",
       "      <td>Myliobatiformes</td>\n",
       "      <td>Dasyatidae</td>\n",
       "      <td>Bathytoshia</td>\n",
       "      <td>centroura</td>\n",
       "    </tr>\n",
       "    <tr>\n",
       "      <th>11981</th>\n",
       "      <td>Chordata</td>\n",
       "      <td>Mammalia</td>\n",
       "      <td>Carnivora</td>\n",
       "      <td>Mustelidae</td>\n",
       "      <td>Aonyx</td>\n",
       "      <td>capensis</td>\n",
       "    </tr>\n",
       "    <tr>\n",
       "      <th>11982</th>\n",
       "      <td>Chordata</td>\n",
       "      <td>Mammalia</td>\n",
       "      <td>Primates</td>\n",
       "      <td>Lemuridae</td>\n",
       "      <td>Eulemur</td>\n",
       "      <td>fulvus</td>\n",
       "    </tr>\n",
       "  </tbody>\n",
       "</table>\n",
       "<p>11983 rows × 6 columns</p>\n",
       "</div>"
      ],
      "text/plain": [
       "         phylum           class            order            family  \\\n",
       "0      Mollusca        Bivalvia         Unionida         Unionidae   \n",
       "1      Chordata        Reptilia       Testudines       Geoemydidae   \n",
       "2      Chordata        Amphibia          Caudata  Cryptobranchidae   \n",
       "3      Chordata            Aves    Passeriformes          Turdidae   \n",
       "4      Chordata        Mammalia         Primates         Indriidae   \n",
       "...         ...             ...              ...               ...   \n",
       "11978  Chordata        Mammalia       Lagomorpha         Leporidae   \n",
       "11979  Chordata        Reptilia       Testudines          Emydidae   \n",
       "11980  Chordata  Chondrichthyes  Myliobatiformes        Dasyatidae   \n",
       "11981  Chordata        Mammalia        Carnivora        Mustelidae   \n",
       "11982  Chordata        Mammalia         Primates         Lemuridae   \n",
       "\n",
       "             genus         species  \n",
       "0       Cyclonaias     tuberculata  \n",
       "1        Pangshura     sylhetensis  \n",
       "2          Andrias       japonicus  \n",
       "3        Myadestes        obscurus  \n",
       "4      Propithecus        deckenii  \n",
       "...            ...             ...  \n",
       "11978   Sylvilagus  transitionalis  \n",
       "11979    Glyptemys    muhlenbergii  \n",
       "11980  Bathytoshia       centroura  \n",
       "11981        Aonyx        capensis  \n",
       "11982      Eulemur          fulvus  \n",
       "\n",
       "[11983 rows x 6 columns]"
      ]
     },
     "execution_count": 2,
     "metadata": {},
     "output_type": "execute_result"
    }
   ],
   "source": [
    "#deleting columns that are not needed\n",
    "dataset.drop(['rarespecies_id','eol_content_id','eol_page_id','kingdom','sciName','common','file_name'],axis=1, inplace=True)\n",
    "dataset"
   ]
  },
  {
   "cell_type": "code",
   "execution_count": 3,
   "id": "dc9ab0c7-72f4-4d48-b985-d184ab4851b5",
   "metadata": {},
   "outputs": [
    {
     "data": {
      "text/html": [
       "<div>\n",
       "<style scoped>\n",
       "    .dataframe tbody tr th:only-of-type {\n",
       "        vertical-align: middle;\n",
       "    }\n",
       "\n",
       "    .dataframe tbody tr th {\n",
       "        vertical-align: top;\n",
       "    }\n",
       "\n",
       "    .dataframe thead th {\n",
       "        text-align: right;\n",
       "    }\n",
       "</style>\n",
       "<table border=\"1\" class=\"dataframe\">\n",
       "  <thead>\n",
       "    <tr style=\"text-align: right;\">\n",
       "      <th></th>\n",
       "      <th>phylum</th>\n",
       "      <th>class</th>\n",
       "      <th>order</th>\n",
       "      <th>family</th>\n",
       "      <th>genus</th>\n",
       "      <th>species</th>\n",
       "    </tr>\n",
       "  </thead>\n",
       "  <tbody>\n",
       "    <tr>\n",
       "      <th>0</th>\n",
       "      <td>Mollusca</td>\n",
       "      <td>Bivalvia</td>\n",
       "      <td>Unionida</td>\n",
       "      <td>Unionidae</td>\n",
       "      <td>Cyclonaias</td>\n",
       "      <td>tuberculata</td>\n",
       "    </tr>\n",
       "    <tr>\n",
       "      <th>1</th>\n",
       "      <td>Chordata</td>\n",
       "      <td>Reptilia</td>\n",
       "      <td>Testudines</td>\n",
       "      <td>Geoemydidae</td>\n",
       "      <td>Pangshura</td>\n",
       "      <td>sylhetensis</td>\n",
       "    </tr>\n",
       "    <tr>\n",
       "      <th>2</th>\n",
       "      <td>Chordata</td>\n",
       "      <td>Amphibia</td>\n",
       "      <td>Caudata</td>\n",
       "      <td>Cryptobranchidae</td>\n",
       "      <td>Andrias</td>\n",
       "      <td>japonicus</td>\n",
       "    </tr>\n",
       "    <tr>\n",
       "      <th>3</th>\n",
       "      <td>Chordata</td>\n",
       "      <td>Aves</td>\n",
       "      <td>Passeriformes</td>\n",
       "      <td>Turdidae</td>\n",
       "      <td>Myadestes</td>\n",
       "      <td>obscurus</td>\n",
       "    </tr>\n",
       "    <tr>\n",
       "      <th>4</th>\n",
       "      <td>Chordata</td>\n",
       "      <td>Mammalia</td>\n",
       "      <td>Primates</td>\n",
       "      <td>Indriidae</td>\n",
       "      <td>Propithecus</td>\n",
       "      <td>deckenii</td>\n",
       "    </tr>\n",
       "    <tr>\n",
       "      <th>...</th>\n",
       "      <td>...</td>\n",
       "      <td>...</td>\n",
       "      <td>...</td>\n",
       "      <td>...</td>\n",
       "      <td>...</td>\n",
       "      <td>...</td>\n",
       "    </tr>\n",
       "    <tr>\n",
       "      <th>1600</th>\n",
       "      <td>Chordata</td>\n",
       "      <td>Reptilia</td>\n",
       "      <td>Crocodilia</td>\n",
       "      <td>Alligatoridae</td>\n",
       "      <td>Melanosuchus</td>\n",
       "      <td>niger</td>\n",
       "    </tr>\n",
       "    <tr>\n",
       "      <th>1655</th>\n",
       "      <td>Chordata</td>\n",
       "      <td>Mammalia</td>\n",
       "      <td>Carnivora</td>\n",
       "      <td>Mustelidae</td>\n",
       "      <td>Aonyx</td>\n",
       "      <td>capensis</td>\n",
       "    </tr>\n",
       "    <tr>\n",
       "      <th>1990</th>\n",
       "      <td>Chordata</td>\n",
       "      <td>Chondrichthyes</td>\n",
       "      <td>Carcharhiniformes</td>\n",
       "      <td>Carcharhinidae</td>\n",
       "      <td>Carcharhinus</td>\n",
       "      <td>amblyrhynchos</td>\n",
       "    </tr>\n",
       "    <tr>\n",
       "      <th>2093</th>\n",
       "      <td>Chordata</td>\n",
       "      <td>Aves</td>\n",
       "      <td>Apodiformes</td>\n",
       "      <td>Trochilidae</td>\n",
       "      <td>Lophornis</td>\n",
       "      <td>chalybeus</td>\n",
       "    </tr>\n",
       "    <tr>\n",
       "      <th>3714</th>\n",
       "      <td>Chordata</td>\n",
       "      <td>Actinopterygii</td>\n",
       "      <td>Cyprinodontiformes</td>\n",
       "      <td>Goodeidae</td>\n",
       "      <td>Zoogoneticus</td>\n",
       "      <td>tequila</td>\n",
       "    </tr>\n",
       "  </tbody>\n",
       "</table>\n",
       "<p>400 rows × 6 columns</p>\n",
       "</div>"
      ],
      "text/plain": [
       "        phylum           class               order            family  \\\n",
       "0     Mollusca        Bivalvia            Unionida         Unionidae   \n",
       "1     Chordata        Reptilia          Testudines       Geoemydidae   \n",
       "2     Chordata        Amphibia             Caudata  Cryptobranchidae   \n",
       "3     Chordata            Aves       Passeriformes          Turdidae   \n",
       "4     Chordata        Mammalia            Primates         Indriidae   \n",
       "...        ...             ...                 ...               ...   \n",
       "1600  Chordata        Reptilia          Crocodilia     Alligatoridae   \n",
       "1655  Chordata        Mammalia           Carnivora        Mustelidae   \n",
       "1990  Chordata  Chondrichthyes   Carcharhiniformes    Carcharhinidae   \n",
       "2093  Chordata            Aves         Apodiformes       Trochilidae   \n",
       "3714  Chordata  Actinopterygii  Cyprinodontiformes         Goodeidae   \n",
       "\n",
       "             genus        species  \n",
       "0       Cyclonaias    tuberculata  \n",
       "1        Pangshura    sylhetensis  \n",
       "2          Andrias      japonicus  \n",
       "3        Myadestes       obscurus  \n",
       "4      Propithecus       deckenii  \n",
       "...            ...            ...  \n",
       "1600  Melanosuchus          niger  \n",
       "1655         Aonyx       capensis  \n",
       "1990  Carcharhinus  amblyrhynchos  \n",
       "2093     Lophornis      chalybeus  \n",
       "3714  Zoogoneticus        tequila  \n",
       "\n",
       "[400 rows x 6 columns]"
      ]
     },
     "execution_count": 3,
     "metadata": {},
     "output_type": "execute_result"
    }
   ],
   "source": [
    "#deleting duplicates directly on the original dataset without creating a new one\n",
    "dataset.drop_duplicates(inplace=True)\n",
    "dataset"
   ]
  },
  {
   "cell_type": "code",
   "execution_count": null,
   "id": "d51faaf3-d004-4f9f-aac2-375a392800ec",
   "metadata": {},
   "outputs": [
    {
     "data": {
      "text/html": [
       "<div>\n",
       "<style scoped>\n",
       "    .dataframe tbody tr th:only-of-type {\n",
       "        vertical-align: middle;\n",
       "    }\n",
       "\n",
       "    .dataframe tbody tr th {\n",
       "        vertical-align: top;\n",
       "    }\n",
       "\n",
       "    .dataframe thead th {\n",
       "        text-align: right;\n",
       "    }\n",
       "</style>\n",
       "<table border=\"1\" class=\"dataframe\">\n",
       "  <thead>\n",
       "    <tr style=\"text-align: right;\">\n",
       "      <th></th>\n",
       "      <th>phylum</th>\n",
       "      <th>class</th>\n",
       "      <th>order</th>\n",
       "      <th>family</th>\n",
       "      <th>genus</th>\n",
       "      <th>species</th>\n",
       "    </tr>\n",
       "  </thead>\n",
       "  <tbody>\n",
       "    <tr>\n",
       "      <th>0</th>\n",
       "      <td>Mollusca</td>\n",
       "      <td>Bivalvia</td>\n",
       "      <td>Unionida</td>\n",
       "      <td>Unionidae</td>\n",
       "      <td>Cyclonaias</td>\n",
       "      <td>tuberculata</td>\n",
       "    </tr>\n",
       "    <tr>\n",
       "      <th>1</th>\n",
       "      <td>Chordata</td>\n",
       "      <td>Reptilia</td>\n",
       "      <td>Testudines</td>\n",
       "      <td>Geoemydidae</td>\n",
       "      <td>Pangshura</td>\n",
       "      <td>sylhetensis</td>\n",
       "    </tr>\n",
       "    <tr>\n",
       "      <th>2</th>\n",
       "      <td>Chordata</td>\n",
       "      <td>Amphibia</td>\n",
       "      <td>Caudata</td>\n",
       "      <td>Cryptobranchidae</td>\n",
       "      <td>Andrias</td>\n",
       "      <td>japonicus</td>\n",
       "    </tr>\n",
       "    <tr>\n",
       "      <th>3</th>\n",
       "      <td>Chordata</td>\n",
       "      <td>Aves</td>\n",
       "      <td>Passeriformes</td>\n",
       "      <td>Turdidae</td>\n",
       "      <td>Myadestes</td>\n",
       "      <td>obscurus</td>\n",
       "    </tr>\n",
       "    <tr>\n",
       "      <th>4</th>\n",
       "      <td>Chordata</td>\n",
       "      <td>Mammalia</td>\n",
       "      <td>Primates</td>\n",
       "      <td>Indriidae</td>\n",
       "      <td>Propithecus</td>\n",
       "      <td>deckenii</td>\n",
       "    </tr>\n",
       "    <tr>\n",
       "      <th>...</th>\n",
       "      <td>...</td>\n",
       "      <td>...</td>\n",
       "      <td>...</td>\n",
       "      <td>...</td>\n",
       "      <td>...</td>\n",
       "      <td>...</td>\n",
       "    </tr>\n",
       "    <tr>\n",
       "      <th>1600</th>\n",
       "      <td>Chordata</td>\n",
       "      <td>Reptilia</td>\n",
       "      <td>Crocodilia</td>\n",
       "      <td>Alligatoridae</td>\n",
       "      <td>Melanosuchus</td>\n",
       "      <td>niger</td>\n",
       "    </tr>\n",
       "    <tr>\n",
       "      <th>1655</th>\n",
       "      <td>Chordata</td>\n",
       "      <td>Mammalia</td>\n",
       "      <td>Carnivora</td>\n",
       "      <td>Mustelidae</td>\n",
       "      <td>Aonyx</td>\n",
       "      <td>capensis</td>\n",
       "    </tr>\n",
       "    <tr>\n",
       "      <th>1990</th>\n",
       "      <td>Chordata</td>\n",
       "      <td>Chondrichthyes</td>\n",
       "      <td>Carcharhiniformes</td>\n",
       "      <td>Carcharhinidae</td>\n",
       "      <td>Carcharhinus</td>\n",
       "      <td>amblyrhynchos</td>\n",
       "    </tr>\n",
       "    <tr>\n",
       "      <th>2093</th>\n",
       "      <td>Chordata</td>\n",
       "      <td>Aves</td>\n",
       "      <td>Apodiformes</td>\n",
       "      <td>Trochilidae</td>\n",
       "      <td>Lophornis</td>\n",
       "      <td>chalybeus</td>\n",
       "    </tr>\n",
       "    <tr>\n",
       "      <th>3714</th>\n",
       "      <td>Chordata</td>\n",
       "      <td>Actinopterygii</td>\n",
       "      <td>Cyprinodontiformes</td>\n",
       "      <td>Goodeidae</td>\n",
       "      <td>Zoogoneticus</td>\n",
       "      <td>tequila</td>\n",
       "    </tr>\n",
       "  </tbody>\n",
       "</table>\n",
       "<p>400 rows × 6 columns</p>\n",
       "</div>"
      ],
      "text/plain": [
       "        phylum           class               order            family  \\\n",
       "0     Mollusca        Bivalvia            Unionida         Unionidae   \n",
       "1     Chordata        Reptilia          Testudines       Geoemydidae   \n",
       "2     Chordata        Amphibia             Caudata  Cryptobranchidae   \n",
       "3     Chordata            Aves       Passeriformes          Turdidae   \n",
       "4     Chordata        Mammalia            Primates         Indriidae   \n",
       "...        ...             ...                 ...               ...   \n",
       "1600  Chordata        Reptilia          Crocodilia     Alligatoridae   \n",
       "1655  Chordata        Mammalia           Carnivora        Mustelidae   \n",
       "1990  Chordata  Chondrichthyes   Carcharhiniformes    Carcharhinidae   \n",
       "2093  Chordata            Aves         Apodiformes       Trochilidae   \n",
       "3714  Chordata  Actinopterygii  Cyprinodontiformes         Goodeidae   \n",
       "\n",
       "             genus        species  \n",
       "0       Cyclonaias    tuberculata  \n",
       "1        Pangshura    sylhetensis  \n",
       "2          Andrias      japonicus  \n",
       "3        Myadestes       obscurus  \n",
       "4      Propithecus       deckenii  \n",
       "...            ...            ...  \n",
       "1600  Melanosuchus          niger  \n",
       "1655         Aonyx       capensis  \n",
       "1990  Carcharhinus  amblyrhynchos  \n",
       "2093     Lophornis      chalybeus  \n",
       "3714  Zoogoneticus        tequila  \n",
       "\n",
       "[400 rows x 6 columns]"
      ]
     },
     "execution_count": 4,
     "metadata": {},
     "output_type": "execute_result"
    }
   ],
   "source": [
    "#deleting empty rows\n",
    "dataset.dropna(inplace=True)\n",
    "dataset"
   ]
  },
  {
   "cell_type": "code",
   "execution_count": 5,
   "id": "ab65e083-9d1f-42fd-8c70-7b3664f49ec9",
   "metadata": {},
   "outputs": [
    {
     "data": {
      "text/html": [
       "<div>\n",
       "<style scoped>\n",
       "    .dataframe tbody tr th:only-of-type {\n",
       "        vertical-align: middle;\n",
       "    }\n",
       "\n",
       "    .dataframe tbody tr th {\n",
       "        vertical-align: top;\n",
       "    }\n",
       "\n",
       "    .dataframe thead th {\n",
       "        text-align: right;\n",
       "    }\n",
       "</style>\n",
       "<table border=\"1\" class=\"dataframe\">\n",
       "  <thead>\n",
       "    <tr style=\"text-align: right;\">\n",
       "      <th></th>\n",
       "      <th>phylum</th>\n",
       "      <th>class</th>\n",
       "      <th>order</th>\n",
       "      <th>family</th>\n",
       "      <th>genus</th>\n",
       "      <th>species</th>\n",
       "    </tr>\n",
       "  </thead>\n",
       "  <tbody>\n",
       "    <tr>\n",
       "      <th>0</th>\n",
       "      <td>Mollusca</td>\n",
       "      <td>Bivalvia</td>\n",
       "      <td>Unionida</td>\n",
       "      <td>Unionidae</td>\n",
       "      <td>Cyclonaias</td>\n",
       "      <td>tuberculata</td>\n",
       "    </tr>\n",
       "    <tr>\n",
       "      <th>1</th>\n",
       "      <td>Chordata</td>\n",
       "      <td>Reptilia</td>\n",
       "      <td>Testudines</td>\n",
       "      <td>Geoemydidae</td>\n",
       "      <td>Pangshura</td>\n",
       "      <td>sylhetensis</td>\n",
       "    </tr>\n",
       "    <tr>\n",
       "      <th>2</th>\n",
       "      <td>Chordata</td>\n",
       "      <td>Amphibia</td>\n",
       "      <td>Caudata</td>\n",
       "      <td>Cryptobranchidae</td>\n",
       "      <td>Andrias</td>\n",
       "      <td>japonicus</td>\n",
       "    </tr>\n",
       "    <tr>\n",
       "      <th>3</th>\n",
       "      <td>Chordata</td>\n",
       "      <td>Aves</td>\n",
       "      <td>Passeriformes</td>\n",
       "      <td>Turdidae</td>\n",
       "      <td>Myadestes</td>\n",
       "      <td>obscurus</td>\n",
       "    </tr>\n",
       "    <tr>\n",
       "      <th>4</th>\n",
       "      <td>Chordata</td>\n",
       "      <td>Mammalia</td>\n",
       "      <td>Primates</td>\n",
       "      <td>Indriidae</td>\n",
       "      <td>Propithecus</td>\n",
       "      <td>deckenii</td>\n",
       "    </tr>\n",
       "    <tr>\n",
       "      <th>...</th>\n",
       "      <td>...</td>\n",
       "      <td>...</td>\n",
       "      <td>...</td>\n",
       "      <td>...</td>\n",
       "      <td>...</td>\n",
       "      <td>...</td>\n",
       "    </tr>\n",
       "    <tr>\n",
       "      <th>395</th>\n",
       "      <td>Chordata</td>\n",
       "      <td>Reptilia</td>\n",
       "      <td>Crocodilia</td>\n",
       "      <td>Alligatoridae</td>\n",
       "      <td>Melanosuchus</td>\n",
       "      <td>niger</td>\n",
       "    </tr>\n",
       "    <tr>\n",
       "      <th>396</th>\n",
       "      <td>Chordata</td>\n",
       "      <td>Mammalia</td>\n",
       "      <td>Carnivora</td>\n",
       "      <td>Mustelidae</td>\n",
       "      <td>Aonyx</td>\n",
       "      <td>capensis</td>\n",
       "    </tr>\n",
       "    <tr>\n",
       "      <th>397</th>\n",
       "      <td>Chordata</td>\n",
       "      <td>Chondrichthyes</td>\n",
       "      <td>Carcharhiniformes</td>\n",
       "      <td>Carcharhinidae</td>\n",
       "      <td>Carcharhinus</td>\n",
       "      <td>amblyrhynchos</td>\n",
       "    </tr>\n",
       "    <tr>\n",
       "      <th>398</th>\n",
       "      <td>Chordata</td>\n",
       "      <td>Aves</td>\n",
       "      <td>Apodiformes</td>\n",
       "      <td>Trochilidae</td>\n",
       "      <td>Lophornis</td>\n",
       "      <td>chalybeus</td>\n",
       "    </tr>\n",
       "    <tr>\n",
       "      <th>399</th>\n",
       "      <td>Chordata</td>\n",
       "      <td>Actinopterygii</td>\n",
       "      <td>Cyprinodontiformes</td>\n",
       "      <td>Goodeidae</td>\n",
       "      <td>Zoogoneticus</td>\n",
       "      <td>tequila</td>\n",
       "    </tr>\n",
       "  </tbody>\n",
       "</table>\n",
       "<p>400 rows × 6 columns</p>\n",
       "</div>"
      ],
      "text/plain": [
       "       phylum           class               order            family  \\\n",
       "0    Mollusca        Bivalvia            Unionida         Unionidae   \n",
       "1    Chordata        Reptilia          Testudines       Geoemydidae   \n",
       "2    Chordata        Amphibia             Caudata  Cryptobranchidae   \n",
       "3    Chordata            Aves       Passeriformes          Turdidae   \n",
       "4    Chordata        Mammalia            Primates         Indriidae   \n",
       "..        ...             ...                 ...               ...   \n",
       "395  Chordata        Reptilia          Crocodilia     Alligatoridae   \n",
       "396  Chordata        Mammalia           Carnivora        Mustelidae   \n",
       "397  Chordata  Chondrichthyes   Carcharhiniformes    Carcharhinidae   \n",
       "398  Chordata            Aves         Apodiformes       Trochilidae   \n",
       "399  Chordata  Actinopterygii  Cyprinodontiformes         Goodeidae   \n",
       "\n",
       "            genus        species  \n",
       "0      Cyclonaias    tuberculata  \n",
       "1       Pangshura    sylhetensis  \n",
       "2         Andrias      japonicus  \n",
       "3       Myadestes       obscurus  \n",
       "4     Propithecus       deckenii  \n",
       "..            ...            ...  \n",
       "395  Melanosuchus          niger  \n",
       "396         Aonyx       capensis  \n",
       "397  Carcharhinus  amblyrhynchos  \n",
       "398     Lophornis      chalybeus  \n",
       "399  Zoogoneticus        tequila  \n",
       "\n",
       "[400 rows x 6 columns]"
      ]
     },
     "execution_count": 5,
     "metadata": {},
     "output_type": "execute_result"
    }
   ],
   "source": [
    "#resets the index of the table to be in a numerical order \n",
    "#drops the index column with previous index value \n",
    "dataset.reset_index(drop=True, inplace=True)\n",
    "dataset"
   ]
  },
  {
   "cell_type": "code",
   "execution_count": 6,
   "id": "13b983e0",
   "metadata": {},
   "outputs": [
    {
     "data": {
      "text/plain": [
       "phylum\n",
       "Chordata         332\n",
       "Arthropoda        32\n",
       "Cnidaria          27\n",
       "Mollusca           7\n",
       "Echinodermata      2\n",
       "Name: count, dtype: int64"
      ]
     },
     "execution_count": 6,
     "metadata": {},
     "output_type": "execute_result"
    }
   ],
   "source": [
    "column_entries=dataset['phylum'].value_counts()\n",
    "column_entries"
   ]
  },
  {
   "cell_type": "code",
   "execution_count": 7,
   "id": "c502b43e",
   "metadata": {},
   "outputs": [
    {
     "data": {
      "text/html": [
       "<div>\n",
       "<style scoped>\n",
       "    .dataframe tbody tr th:only-of-type {\n",
       "        vertical-align: middle;\n",
       "    }\n",
       "\n",
       "    .dataframe tbody tr th {\n",
       "        vertical-align: top;\n",
       "    }\n",
       "\n",
       "    .dataframe thead th {\n",
       "        text-align: right;\n",
       "    }\n",
       "</style>\n",
       "<table border=\"1\" class=\"dataframe\">\n",
       "  <thead>\n",
       "    <tr style=\"text-align: right;\">\n",
       "      <th></th>\n",
       "      <th>phylum</th>\n",
       "      <th>class</th>\n",
       "      <th>order</th>\n",
       "      <th>family</th>\n",
       "      <th>genus</th>\n",
       "      <th>species</th>\n",
       "    </tr>\n",
       "  </thead>\n",
       "  <tbody>\n",
       "    <tr>\n",
       "      <th>1</th>\n",
       "      <td>Chordata</td>\n",
       "      <td>Reptilia</td>\n",
       "      <td>Testudines</td>\n",
       "      <td>Geoemydidae</td>\n",
       "      <td>Pangshura</td>\n",
       "      <td>sylhetensis</td>\n",
       "    </tr>\n",
       "    <tr>\n",
       "      <th>2</th>\n",
       "      <td>Chordata</td>\n",
       "      <td>Amphibia</td>\n",
       "      <td>Caudata</td>\n",
       "      <td>Cryptobranchidae</td>\n",
       "      <td>Andrias</td>\n",
       "      <td>japonicus</td>\n",
       "    </tr>\n",
       "    <tr>\n",
       "      <th>3</th>\n",
       "      <td>Chordata</td>\n",
       "      <td>Aves</td>\n",
       "      <td>Passeriformes</td>\n",
       "      <td>Turdidae</td>\n",
       "      <td>Myadestes</td>\n",
       "      <td>obscurus</td>\n",
       "    </tr>\n",
       "    <tr>\n",
       "      <th>4</th>\n",
       "      <td>Chordata</td>\n",
       "      <td>Mammalia</td>\n",
       "      <td>Primates</td>\n",
       "      <td>Indriidae</td>\n",
       "      <td>Propithecus</td>\n",
       "      <td>deckenii</td>\n",
       "    </tr>\n",
       "    <tr>\n",
       "      <th>6</th>\n",
       "      <td>Chordata</td>\n",
       "      <td>Aves</td>\n",
       "      <td>Passeriformes</td>\n",
       "      <td>Fringillidae</td>\n",
       "      <td>Drepanis</td>\n",
       "      <td>coccinea</td>\n",
       "    </tr>\n",
       "    <tr>\n",
       "      <th>...</th>\n",
       "      <td>...</td>\n",
       "      <td>...</td>\n",
       "      <td>...</td>\n",
       "      <td>...</td>\n",
       "      <td>...</td>\n",
       "      <td>...</td>\n",
       "    </tr>\n",
       "    <tr>\n",
       "      <th>395</th>\n",
       "      <td>Chordata</td>\n",
       "      <td>Reptilia</td>\n",
       "      <td>Crocodilia</td>\n",
       "      <td>Alligatoridae</td>\n",
       "      <td>Melanosuchus</td>\n",
       "      <td>niger</td>\n",
       "    </tr>\n",
       "    <tr>\n",
       "      <th>396</th>\n",
       "      <td>Chordata</td>\n",
       "      <td>Mammalia</td>\n",
       "      <td>Carnivora</td>\n",
       "      <td>Mustelidae</td>\n",
       "      <td>Aonyx</td>\n",
       "      <td>capensis</td>\n",
       "    </tr>\n",
       "    <tr>\n",
       "      <th>397</th>\n",
       "      <td>Chordata</td>\n",
       "      <td>Chondrichthyes</td>\n",
       "      <td>Carcharhiniformes</td>\n",
       "      <td>Carcharhinidae</td>\n",
       "      <td>Carcharhinus</td>\n",
       "      <td>amblyrhynchos</td>\n",
       "    </tr>\n",
       "    <tr>\n",
       "      <th>398</th>\n",
       "      <td>Chordata</td>\n",
       "      <td>Aves</td>\n",
       "      <td>Apodiformes</td>\n",
       "      <td>Trochilidae</td>\n",
       "      <td>Lophornis</td>\n",
       "      <td>chalybeus</td>\n",
       "    </tr>\n",
       "    <tr>\n",
       "      <th>399</th>\n",
       "      <td>Chordata</td>\n",
       "      <td>Actinopterygii</td>\n",
       "      <td>Cyprinodontiformes</td>\n",
       "      <td>Goodeidae</td>\n",
       "      <td>Zoogoneticus</td>\n",
       "      <td>tequila</td>\n",
       "    </tr>\n",
       "  </tbody>\n",
       "</table>\n",
       "<p>332 rows × 6 columns</p>\n",
       "</div>"
      ],
      "text/plain": [
       "       phylum           class               order            family  \\\n",
       "1    Chordata        Reptilia          Testudines       Geoemydidae   \n",
       "2    Chordata        Amphibia             Caudata  Cryptobranchidae   \n",
       "3    Chordata            Aves       Passeriformes          Turdidae   \n",
       "4    Chordata        Mammalia            Primates         Indriidae   \n",
       "6    Chordata            Aves       Passeriformes      Fringillidae   \n",
       "..        ...             ...                 ...               ...   \n",
       "395  Chordata        Reptilia          Crocodilia     Alligatoridae   \n",
       "396  Chordata        Mammalia           Carnivora        Mustelidae   \n",
       "397  Chordata  Chondrichthyes   Carcharhiniformes    Carcharhinidae   \n",
       "398  Chordata            Aves         Apodiformes       Trochilidae   \n",
       "399  Chordata  Actinopterygii  Cyprinodontiformes         Goodeidae   \n",
       "\n",
       "            genus        species  \n",
       "1       Pangshura    sylhetensis  \n",
       "2         Andrias      japonicus  \n",
       "3       Myadestes       obscurus  \n",
       "4     Propithecus       deckenii  \n",
       "6        Drepanis       coccinea  \n",
       "..            ...            ...  \n",
       "395  Melanosuchus          niger  \n",
       "396         Aonyx       capensis  \n",
       "397  Carcharhinus  amblyrhynchos  \n",
       "398     Lophornis      chalybeus  \n",
       "399  Zoogoneticus        tequila  \n",
       "\n",
       "[332 rows x 6 columns]"
      ]
     },
     "execution_count": 7,
     "metadata": {},
     "output_type": "execute_result"
    }
   ],
   "source": [
    "chordata=dataset[dataset['phylum']=='Chordata']\n",
    "chordata"
   ]
  },
  {
   "cell_type": "code",
   "execution_count": 8,
   "id": "04f1ad98",
   "metadata": {},
   "outputs": [
    {
     "data": {
      "text/html": [
       "<div>\n",
       "<style scoped>\n",
       "    .dataframe tbody tr th:only-of-type {\n",
       "        vertical-align: middle;\n",
       "    }\n",
       "\n",
       "    .dataframe tbody tr th {\n",
       "        vertical-align: top;\n",
       "    }\n",
       "\n",
       "    .dataframe thead th {\n",
       "        text-align: right;\n",
       "    }\n",
       "</style>\n",
       "<table border=\"1\" class=\"dataframe\">\n",
       "  <thead>\n",
       "    <tr style=\"text-align: right;\">\n",
       "      <th></th>\n",
       "      <th>phylum</th>\n",
       "      <th>class</th>\n",
       "      <th>order</th>\n",
       "      <th>family</th>\n",
       "      <th>genus</th>\n",
       "      <th>species</th>\n",
       "    </tr>\n",
       "  </thead>\n",
       "  <tbody>\n",
       "    <tr>\n",
       "      <th>32</th>\n",
       "      <td>Asteroidea</td>\n",
       "      <td>Forcipulatida</td>\n",
       "      <td>Asteriidae</td>\n",
       "      <td>Asterias</td>\n",
       "      <td>Asterias rubens</td>\n",
       "      <td>Echinodermata</td>\n",
       "    </tr>\n",
       "    <tr>\n",
       "      <th>33</th>\n",
       "      <td>Echinoidea</td>\n",
       "      <td>Clypeasteroida</td>\n",
       "      <td>Clypeasteridae</td>\n",
       "      <td>Clypeaster</td>\n",
       "      <td>Clypeaster subdepressus</td>\n",
       "      <td>Echinodermata</td>\n",
       "    </tr>\n",
       "    <tr>\n",
       "      <th>34</th>\n",
       "      <td>Ophiuroidea</td>\n",
       "      <td>Ophiurida</td>\n",
       "      <td>Ophiuridae</td>\n",
       "      <td>Ophiura</td>\n",
       "      <td>Ophiura ophiura</td>\n",
       "      <td>Echinodermata</td>\n",
       "    </tr>\n",
       "    <tr>\n",
       "      <th>35</th>\n",
       "      <td>Crinoidea</td>\n",
       "      <td>Comatulida</td>\n",
       "      <td>Antedonidae</td>\n",
       "      <td>Antedon</td>\n",
       "      <td>Antedon mediterranea</td>\n",
       "      <td>Echinodermata</td>\n",
       "    </tr>\n",
       "    <tr>\n",
       "      <th>36</th>\n",
       "      <td>Holothuroidea</td>\n",
       "      <td>Synallactida</td>\n",
       "      <td>Synallactidae</td>\n",
       "      <td>Parastichopus</td>\n",
       "      <td>Parastichopus californicus</td>\n",
       "      <td>Echinodermata</td>\n",
       "    </tr>\n",
       "    <tr>\n",
       "      <th>37</th>\n",
       "      <td>Echinoidea</td>\n",
       "      <td>Arbacioida</td>\n",
       "      <td>Arbaciidae</td>\n",
       "      <td>Arbacia</td>\n",
       "      <td>Arbacia punctulata</td>\n",
       "      <td>Echinodermata</td>\n",
       "    </tr>\n",
       "    <tr>\n",
       "      <th>38</th>\n",
       "      <td>Asteroidea</td>\n",
       "      <td>Valvatida</td>\n",
       "      <td>Asterinidae</td>\n",
       "      <td>Patiria</td>\n",
       "      <td>Patiria miniata</td>\n",
       "      <td>Echinodermata</td>\n",
       "    </tr>\n",
       "    <tr>\n",
       "      <th>39</th>\n",
       "      <td>Ophiuroidea</td>\n",
       "      <td>Ophiurida</td>\n",
       "      <td>Ophiothrichidae</td>\n",
       "      <td>Ophiothrix</td>\n",
       "      <td>Ophiothrix fragilis</td>\n",
       "      <td>Echinodermata</td>\n",
       "    </tr>\n",
       "    <tr>\n",
       "      <th>40</th>\n",
       "      <td>Holothuroidea</td>\n",
       "      <td>Dendrochirotida</td>\n",
       "      <td>Cucumariidae</td>\n",
       "      <td>Cucumaria</td>\n",
       "      <td>Cucumaria frondosa</td>\n",
       "      <td>Echinodermata</td>\n",
       "    </tr>\n",
       "    <tr>\n",
       "      <th>41</th>\n",
       "      <td>Asteroidea</td>\n",
       "      <td>Spinulosida</td>\n",
       "      <td>Asterinidae</td>\n",
       "      <td>Asterina</td>\n",
       "      <td>Asterina gibbosa</td>\n",
       "      <td>Echinodermata</td>\n",
       "    </tr>\n",
       "    <tr>\n",
       "      <th>42</th>\n",
       "      <td>Asteroidea</td>\n",
       "      <td>Velatida</td>\n",
       "      <td>Pterasteridae</td>\n",
       "      <td>Pteraster</td>\n",
       "      <td>Pteraster militaris</td>\n",
       "      <td>Echinodermata</td>\n",
       "    </tr>\n",
       "    <tr>\n",
       "      <th>43</th>\n",
       "      <td>Echinoidea</td>\n",
       "      <td>Diadematoida</td>\n",
       "      <td>Diadematidae</td>\n",
       "      <td>Diadema</td>\n",
       "      <td>Diadema setosum</td>\n",
       "      <td>Echinodermata</td>\n",
       "    </tr>\n",
       "    <tr>\n",
       "      <th>44</th>\n",
       "      <td>Ophiuroidea</td>\n",
       "      <td>Ophiacanthida</td>\n",
       "      <td>Ophiacanthidae</td>\n",
       "      <td>Ophiacantha</td>\n",
       "      <td>Ophiacantha bidentata</td>\n",
       "      <td>Echinodermata</td>\n",
       "    </tr>\n",
       "    <tr>\n",
       "      <th>45</th>\n",
       "      <td>Holothuroidea</td>\n",
       "      <td>Aspidochirotida</td>\n",
       "      <td>Holothuriidae</td>\n",
       "      <td>Holothuria</td>\n",
       "      <td>Holothuria edulis</td>\n",
       "      <td>Echinodermata</td>\n",
       "    </tr>\n",
       "    <tr>\n",
       "      <th>46</th>\n",
       "      <td>Asteroidea</td>\n",
       "      <td>Paxillosida</td>\n",
       "      <td>Luidiidae</td>\n",
       "      <td>Luidia</td>\n",
       "      <td>Luidia clathrata</td>\n",
       "      <td>Echinodermata</td>\n",
       "    </tr>\n",
       "    <tr>\n",
       "      <th>47</th>\n",
       "      <td>Echinoidea</td>\n",
       "      <td>Spatangoida</td>\n",
       "      <td>Brissidae</td>\n",
       "      <td>Brissus</td>\n",
       "      <td>Brissus unicolor</td>\n",
       "      <td>Echinodermata</td>\n",
       "    </tr>\n",
       "    <tr>\n",
       "      <th>48</th>\n",
       "      <td>Crinoidea</td>\n",
       "      <td>Cyrtocrinida</td>\n",
       "      <td>Bathycrinidae</td>\n",
       "      <td>Bathycrinus</td>\n",
       "      <td>Bathycrinus aldrichianus</td>\n",
       "      <td>Echinodermata</td>\n",
       "    </tr>\n",
       "    <tr>\n",
       "      <th>49</th>\n",
       "      <td>Ophiuroidea</td>\n",
       "      <td>Euryalida</td>\n",
       "      <td>Gorgonocephalidae</td>\n",
       "      <td>Gorgonocephalus</td>\n",
       "      <td>Gorgonocephalus eucnemis</td>\n",
       "      <td>Echinodermata</td>\n",
       "    </tr>\n",
       "    <tr>\n",
       "      <th>50</th>\n",
       "      <td>Chordata</td>\n",
       "      <td>Aves</td>\n",
       "      <td>Passeriformes</td>\n",
       "      <td>Bombycillidae</td>\n",
       "      <td>Bombycilla</td>\n",
       "      <td>japonica</td>\n",
       "    </tr>\n",
       "    <tr>\n",
       "      <th>51</th>\n",
       "      <td>Chordata</td>\n",
       "      <td>Aves</td>\n",
       "      <td>Passeriformes</td>\n",
       "      <td>Thraupidae</td>\n",
       "      <td>Certhidea</td>\n",
       "      <td>olivacea</td>\n",
       "    </tr>\n",
       "  </tbody>\n",
       "</table>\n",
       "</div>"
      ],
      "text/plain": [
       "           phylum            class              order           family  \\\n",
       "32     Asteroidea    Forcipulatida         Asteriidae         Asterias   \n",
       "33     Echinoidea   Clypeasteroida     Clypeasteridae       Clypeaster   \n",
       "34    Ophiuroidea        Ophiurida         Ophiuridae          Ophiura   \n",
       "35      Crinoidea       Comatulida        Antedonidae          Antedon   \n",
       "36  Holothuroidea     Synallactida      Synallactidae    Parastichopus   \n",
       "37     Echinoidea       Arbacioida         Arbaciidae          Arbacia   \n",
       "38     Asteroidea        Valvatida        Asterinidae          Patiria   \n",
       "39    Ophiuroidea        Ophiurida    Ophiothrichidae       Ophiothrix   \n",
       "40  Holothuroidea  Dendrochirotida       Cucumariidae        Cucumaria   \n",
       "41     Asteroidea      Spinulosida        Asterinidae         Asterina   \n",
       "42     Asteroidea         Velatida      Pterasteridae        Pteraster   \n",
       "43     Echinoidea     Diadematoida       Diadematidae          Diadema   \n",
       "44    Ophiuroidea    Ophiacanthida     Ophiacanthidae      Ophiacantha   \n",
       "45  Holothuroidea  Aspidochirotida      Holothuriidae       Holothuria   \n",
       "46     Asteroidea      Paxillosida          Luidiidae           Luidia   \n",
       "47     Echinoidea      Spatangoida          Brissidae          Brissus   \n",
       "48      Crinoidea     Cyrtocrinida      Bathycrinidae      Bathycrinus   \n",
       "49    Ophiuroidea        Euryalida  Gorgonocephalidae  Gorgonocephalus   \n",
       "50       Chordata             Aves      Passeriformes    Bombycillidae   \n",
       "51       Chordata             Aves      Passeriformes       Thraupidae   \n",
       "\n",
       "                         genus        species  \n",
       "32             Asterias rubens  Echinodermata  \n",
       "33     Clypeaster subdepressus  Echinodermata  \n",
       "34             Ophiura ophiura  Echinodermata  \n",
       "35        Antedon mediterranea  Echinodermata  \n",
       "36  Parastichopus californicus  Echinodermata  \n",
       "37          Arbacia punctulata  Echinodermata  \n",
       "38             Patiria miniata  Echinodermata  \n",
       "39         Ophiothrix fragilis  Echinodermata  \n",
       "40          Cucumaria frondosa  Echinodermata  \n",
       "41            Asterina gibbosa  Echinodermata  \n",
       "42         Pteraster militaris  Echinodermata  \n",
       "43             Diadema setosum  Echinodermata  \n",
       "44       Ophiacantha bidentata  Echinodermata  \n",
       "45           Holothuria edulis  Echinodermata  \n",
       "46            Luidia clathrata  Echinodermata  \n",
       "47            Brissus unicolor  Echinodermata  \n",
       "48    Bathycrinus aldrichianus  Echinodermata  \n",
       "49    Gorgonocephalus eucnemis  Echinodermata  \n",
       "50                  Bombycilla       japonica  \n",
       "51                   Certhidea       olivacea  "
      ]
     },
     "execution_count": 8,
     "metadata": {},
     "output_type": "execute_result"
    }
   ],
   "source": [
    "#adding organisms to the dataframe with Echinodermata as the phylum name\n",
    "new_data=[\n",
    "    [\"Asteroidea\", \"Forcipulatida\", \"Asteriidae\", \"Asterias\", \"Asterias rubens\", \"Echinodermata\"],\n",
    "    [\"Echinoidea\", \"Clypeasteroida\", \"Clypeasteridae\", \"Clypeaster\", \"Clypeaster subdepressus\", \"Echinodermata\"],\n",
    "    [\"Ophiuroidea\", \"Ophiurida\", \"Ophiuridae\", \"Ophiura\", \"Ophiura ophiura\", \"Echinodermata\"],\n",
    "    [\"Crinoidea\", \"Comatulida\", \"Antedonidae\", \"Antedon\", \"Antedon mediterranea\", \"Echinodermata\"],\n",
    "    [\"Holothuroidea\", \"Synallactida\", \"Synallactidae\", \"Parastichopus\", \"Parastichopus californicus\", \"Echinodermata\"],\n",
    "    [\"Echinoidea\", \"Arbacioida\", \"Arbaciidae\", \"Arbacia\", \"Arbacia punctulata\", \"Echinodermata\"],\n",
    "    [\"Asteroidea\", \"Valvatida\", \"Asterinidae\", \"Patiria\", \"Patiria miniata\", \"Echinodermata\"],\n",
    "    [\"Ophiuroidea\", \"Ophiurida\", \"Ophiothrichidae\", \"Ophiothrix\", \"Ophiothrix fragilis\", \"Echinodermata\"],\n",
    "    [\"Holothuroidea\", \"Dendrochirotida\", \"Cucumariidae\", \"Cucumaria\", \"Cucumaria frondosa\", \"Echinodermata\"],\n",
    "    [\"Asteroidea\", \"Spinulosida\", \"Asterinidae\", \"Asterina\", \"Asterina gibbosa\", \"Echinodermata\"],\n",
    "    [\"Asteroidea\", \"Velatida\", \"Pterasteridae\", \"Pteraster\", \"Pteraster militaris\", \"Echinodermata\"],\n",
    "    [\"Echinoidea\", \"Diadematoida\", \"Diadematidae\", \"Diadema\", \"Diadema setosum\", \"Echinodermata\"],\n",
    "    [\"Ophiuroidea\", \"Ophiacanthida\", \"Ophiacanthidae\", \"Ophiacantha\", \"Ophiacantha bidentata\", \"Echinodermata\"],\n",
    "    [\"Holothuroidea\", \"Aspidochirotida\", \"Holothuriidae\", \"Holothuria\", \"Holothuria edulis\", \"Echinodermata\"],\n",
    "    [\"Asteroidea\", \"Paxillosida\", \"Luidiidae\", \"Luidia\", \"Luidia clathrata\", \"Echinodermata\"],\n",
    "    [\"Echinoidea\", \"Spatangoida\", \"Brissidae\", \"Brissus\", \"Brissus unicolor\", \"Echinodermata\"],\n",
    "    [\"Crinoidea\", \"Cyrtocrinida\", \"Bathycrinidae\", \"Bathycrinus\", \"Bathycrinus aldrichianus\", \"Echinodermata\"],\n",
    "    [\"Ophiuroidea\", \"Euryalida\", \"Gorgonocephalidae\", \"Gorgonocephalus\", \"Gorgonocephalus eucnemis\", \"Echinodermata\"]\n",
    "]\n",
    "\n",
    "new_dataset =pd.DataFrame(new_data, columns=dataset.columns)\n",
    "dataset.iloc[32:32+len(new_dataset)] = new_dataset\n",
    "\n",
    "dataset.to_csv('updated_dataset.csv', index=False)\n",
    "dataset.iloc[32:52]"
   ]
  },
  {
   "cell_type": "code",
   "execution_count": 9,
   "id": "5503a756",
   "metadata": {},
   "outputs": [
    {
     "data": {
      "text/html": [
       "<div>\n",
       "<style scoped>\n",
       "    .dataframe tbody tr th:only-of-type {\n",
       "        vertical-align: middle;\n",
       "    }\n",
       "\n",
       "    .dataframe tbody tr th {\n",
       "        vertical-align: top;\n",
       "    }\n",
       "\n",
       "    .dataframe thead th {\n",
       "        text-align: right;\n",
       "    }\n",
       "</style>\n",
       "<table border=\"1\" class=\"dataframe\">\n",
       "  <thead>\n",
       "    <tr style=\"text-align: right;\">\n",
       "      <th></th>\n",
       "      <th>phylum</th>\n",
       "      <th>class</th>\n",
       "      <th>order</th>\n",
       "      <th>family</th>\n",
       "      <th>genus</th>\n",
       "      <th>species</th>\n",
       "    </tr>\n",
       "  </thead>\n",
       "  <tbody>\n",
       "    <tr>\n",
       "      <th>50</th>\n",
       "      <td>Bivalvia</td>\n",
       "      <td>Ostreoida</td>\n",
       "      <td>Ostreidae</td>\n",
       "      <td>Crassostrea</td>\n",
       "      <td>gigas</td>\n",
       "      <td>Mollusca</td>\n",
       "    </tr>\n",
       "    <tr>\n",
       "      <th>51</th>\n",
       "      <td>Bivalvia</td>\n",
       "      <td>Veneroida</td>\n",
       "      <td>Veneridae</td>\n",
       "      <td>Mercenaria</td>\n",
       "      <td>mercenaria</td>\n",
       "      <td>Mollusca</td>\n",
       "    </tr>\n",
       "    <tr>\n",
       "      <th>52</th>\n",
       "      <td>Gastropoda</td>\n",
       "      <td>Pulmonata</td>\n",
       "      <td>Limacidae</td>\n",
       "      <td>Limax</td>\n",
       "      <td>maximus</td>\n",
       "      <td>Mollusca</td>\n",
       "    </tr>\n",
       "    <tr>\n",
       "      <th>53</th>\n",
       "      <td>Gastropoda</td>\n",
       "      <td>Neogastropoda</td>\n",
       "      <td>Buccinidae</td>\n",
       "      <td>Busycon</td>\n",
       "      <td>carica</td>\n",
       "      <td>Mollusca</td>\n",
       "    </tr>\n",
       "    <tr>\n",
       "      <th>54</th>\n",
       "      <td>Bivalvia</td>\n",
       "      <td>Myida</td>\n",
       "      <td>Myidae</td>\n",
       "      <td>Mytilus</td>\n",
       "      <td>edulis</td>\n",
       "      <td>Mollusca</td>\n",
       "    </tr>\n",
       "    <tr>\n",
       "      <th>55</th>\n",
       "      <td>Cephalopoda</td>\n",
       "      <td>Octopoda</td>\n",
       "      <td>Octopodidae</td>\n",
       "      <td>Octopus</td>\n",
       "      <td>vulgaris</td>\n",
       "      <td>Mollusca</td>\n",
       "    </tr>\n",
       "    <tr>\n",
       "      <th>56</th>\n",
       "      <td>Gastropoda</td>\n",
       "      <td>Heterobranchia</td>\n",
       "      <td>Stylommatophora</td>\n",
       "      <td>Eobrachycera</td>\n",
       "      <td>muscosa</td>\n",
       "      <td>Mollusca</td>\n",
       "    </tr>\n",
       "    <tr>\n",
       "      <th>57</th>\n",
       "      <td>Bivalvia</td>\n",
       "      <td>Pteriida</td>\n",
       "      <td>Pteriidae</td>\n",
       "      <td>Pinctada</td>\n",
       "      <td>margaritifera</td>\n",
       "      <td>Mollusca</td>\n",
       "    </tr>\n",
       "    <tr>\n",
       "      <th>58</th>\n",
       "      <td>Gastropoda</td>\n",
       "      <td>Caenogastropoda</td>\n",
       "      <td>Fasciolariidae</td>\n",
       "      <td>Fasciolaria</td>\n",
       "      <td>tulipa</td>\n",
       "      <td>Mollusca</td>\n",
       "    </tr>\n",
       "    <tr>\n",
       "      <th>59</th>\n",
       "      <td>Gastropoda</td>\n",
       "      <td>Caenogastropoda</td>\n",
       "      <td>Cypraeidae</td>\n",
       "      <td>Cypraea</td>\n",
       "      <td>tigris</td>\n",
       "      <td>Mollusca</td>\n",
       "    </tr>\n",
       "    <tr>\n",
       "      <th>60</th>\n",
       "      <td>Cephalopoda</td>\n",
       "      <td>Decapodiformes</td>\n",
       "      <td>Loliginidae</td>\n",
       "      <td>Loligo</td>\n",
       "      <td>vulgaris</td>\n",
       "      <td>Mollusca</td>\n",
       "    </tr>\n",
       "    <tr>\n",
       "      <th>61</th>\n",
       "      <td>Gastropoda</td>\n",
       "      <td>Cerithioidea</td>\n",
       "      <td>Thiaridae</td>\n",
       "      <td>Thiara</td>\n",
       "      <td>granifera</td>\n",
       "      <td>Mollusca</td>\n",
       "    </tr>\n",
       "    <tr>\n",
       "      <th>62</th>\n",
       "      <td>Bivalvia</td>\n",
       "      <td>Veneroida</td>\n",
       "      <td>Donacidae</td>\n",
       "      <td>Donax</td>\n",
       "      <td>variabilis</td>\n",
       "      <td>Mollusca</td>\n",
       "    </tr>\n",
       "    <tr>\n",
       "      <th>63</th>\n",
       "      <td>Gastropoda</td>\n",
       "      <td>Basommatophora</td>\n",
       "      <td>Planorbidae</td>\n",
       "      <td>Planorbarius</td>\n",
       "      <td>corneus</td>\n",
       "      <td>Mollusca</td>\n",
       "    </tr>\n",
       "    <tr>\n",
       "      <th>64</th>\n",
       "      <td>Cephalopoda</td>\n",
       "      <td>Nautilida</td>\n",
       "      <td>Nautilidae</td>\n",
       "      <td>Nautilus</td>\n",
       "      <td>pompilius</td>\n",
       "      <td>Mollusca</td>\n",
       "    </tr>\n",
       "    <tr>\n",
       "      <th>65</th>\n",
       "      <td>Bivalvia</td>\n",
       "      <td>Pectinida</td>\n",
       "      <td>Pectinidae</td>\n",
       "      <td>Pecten</td>\n",
       "      <td>maximus</td>\n",
       "      <td>Mollusca</td>\n",
       "    </tr>\n",
       "    <tr>\n",
       "      <th>66</th>\n",
       "      <td>Gastropoda</td>\n",
       "      <td>Opisthobranchia</td>\n",
       "      <td>Aplysiidae</td>\n",
       "      <td>Aplysia</td>\n",
       "      <td>californica</td>\n",
       "      <td>Mollusca</td>\n",
       "    </tr>\n",
       "    <tr>\n",
       "      <th>67</th>\n",
       "      <td>Bivalvia</td>\n",
       "      <td>Cardiida</td>\n",
       "      <td>Cardiidae</td>\n",
       "      <td>Cardium</td>\n",
       "      <td>edule</td>\n",
       "      <td>Mollusca</td>\n",
       "    </tr>\n",
       "    <tr>\n",
       "      <th>68</th>\n",
       "      <td>Gastropoda</td>\n",
       "      <td>Caenogastropoda</td>\n",
       "      <td>Neritidae</td>\n",
       "      <td>Nerita</td>\n",
       "      <td>atramentosa</td>\n",
       "      <td>Mollusca</td>\n",
       "    </tr>\n",
       "    <tr>\n",
       "      <th>69</th>\n",
       "      <td>Chordata</td>\n",
       "      <td>Aves</td>\n",
       "      <td>Charadriiformes</td>\n",
       "      <td>Laridae</td>\n",
       "      <td>Chlidonias</td>\n",
       "      <td>albostriatus</td>\n",
       "    </tr>\n",
       "  </tbody>\n",
       "</table>\n",
       "</div>"
      ],
      "text/plain": [
       "         phylum            class            order        family  \\\n",
       "50     Bivalvia        Ostreoida        Ostreidae   Crassostrea   \n",
       "51     Bivalvia        Veneroida        Veneridae    Mercenaria   \n",
       "52   Gastropoda        Pulmonata        Limacidae         Limax   \n",
       "53   Gastropoda    Neogastropoda       Buccinidae       Busycon   \n",
       "54     Bivalvia            Myida           Myidae       Mytilus   \n",
       "55  Cephalopoda         Octopoda      Octopodidae       Octopus   \n",
       "56   Gastropoda   Heterobranchia  Stylommatophora  Eobrachycera   \n",
       "57     Bivalvia         Pteriida        Pteriidae      Pinctada   \n",
       "58   Gastropoda  Caenogastropoda   Fasciolariidae   Fasciolaria   \n",
       "59   Gastropoda  Caenogastropoda       Cypraeidae       Cypraea   \n",
       "60  Cephalopoda   Decapodiformes      Loliginidae        Loligo   \n",
       "61   Gastropoda     Cerithioidea        Thiaridae        Thiara   \n",
       "62     Bivalvia        Veneroida        Donacidae         Donax   \n",
       "63   Gastropoda   Basommatophora      Planorbidae  Planorbarius   \n",
       "64  Cephalopoda        Nautilida       Nautilidae      Nautilus   \n",
       "65     Bivalvia        Pectinida       Pectinidae        Pecten   \n",
       "66   Gastropoda  Opisthobranchia       Aplysiidae       Aplysia   \n",
       "67     Bivalvia         Cardiida        Cardiidae       Cardium   \n",
       "68   Gastropoda  Caenogastropoda        Neritidae        Nerita   \n",
       "69     Chordata             Aves  Charadriiformes       Laridae   \n",
       "\n",
       "            genus       species  \n",
       "50          gigas      Mollusca  \n",
       "51     mercenaria      Mollusca  \n",
       "52        maximus      Mollusca  \n",
       "53         carica      Mollusca  \n",
       "54         edulis      Mollusca  \n",
       "55       vulgaris      Mollusca  \n",
       "56        muscosa      Mollusca  \n",
       "57  margaritifera      Mollusca  \n",
       "58         tulipa      Mollusca  \n",
       "59         tigris      Mollusca  \n",
       "60       vulgaris      Mollusca  \n",
       "61      granifera      Mollusca  \n",
       "62     variabilis      Mollusca  \n",
       "63        corneus      Mollusca  \n",
       "64      pompilius      Mollusca  \n",
       "65        maximus      Mollusca  \n",
       "66    californica      Mollusca  \n",
       "67          edule      Mollusca  \n",
       "68    atramentosa      Mollusca  \n",
       "69     Chlidonias  albostriatus  "
      ]
     },
     "execution_count": 9,
     "metadata": {},
     "output_type": "execute_result"
    }
   ],
   "source": [
    "#adding more organisms to the dataframe with Mollusca as the phylum name\n",
    "new_organisms=[\n",
    "    [\"Bivalvia\", \"Ostreoida\", \"Ostreidae\", \"Crassostrea\", \"gigas\", \"Mollusca\"],\n",
    "    [\"Bivalvia\", \"Veneroida\", \"Veneridae\", \"Mercenaria\", \"mercenaria\", \"Mollusca\"],\n",
    "    [\"Gastropoda\", \"Pulmonata\", \"Limacidae\", \"Limax\", \"maximus\", \"Mollusca\"],\n",
    "    [\"Gastropoda\", \"Neogastropoda\", \"Buccinidae\", \"Busycon\", \"carica\", \"Mollusca\"],\n",
    "    [\"Bivalvia\", \"Myida\", \"Myidae\", \"Mytilus\", \"edulis\", \"Mollusca\"],\n",
    "    [\"Cephalopoda\", \"Octopoda\", \"Octopodidae\", \"Octopus\", \"vulgaris\", \"Mollusca\"],\n",
    "    [\"Gastropoda\", \"Heterobranchia\", \"Stylommatophora\", \"Eobrachycera\", \"muscosa\", \"Mollusca\"],\n",
    "    [\"Bivalvia\", \"Pteriida\", \"Pteriidae\", \"Pinctada\", \"margaritifera\", \"Mollusca\"],\n",
    "    [\"Gastropoda\", \"Caenogastropoda\", \"Fasciolariidae\", \"Fasciolaria\", \"tulipa\", \"Mollusca\"],\n",
    "    [\"Gastropoda\", \"Caenogastropoda\", \"Cypraeidae\", \"Cypraea\", \"tigris\", \"Mollusca\"],\n",
    "    [\"Cephalopoda\", \"Decapodiformes\", \"Loliginidae\", \"Loligo\", \"vulgaris\", \"Mollusca\"],\n",
    "    [\"Gastropoda\", \"Cerithioidea\", \"Thiaridae\", \"Thiara\", \"granifera\", \"Mollusca\"],\n",
    "    [\"Bivalvia\", \"Veneroida\", \"Donacidae\", \"Donax\", \"variabilis\", \"Mollusca\"],\n",
    "    [\"Gastropoda\", \"Basommatophora\", \"Planorbidae\", \"Planorbarius\", \"corneus\", \"Mollusca\"],\n",
    "    [\"Cephalopoda\", \"Nautilida\", \"Nautilidae\", \"Nautilus\", \"pompilius\", \"Mollusca\"],\n",
    "    [\"Bivalvia\", \"Pectinida\", \"Pectinidae\", \"Pecten\", \"maximus\", \"Mollusca\"],\n",
    "    [\"Gastropoda\", \"Opisthobranchia\", \"Aplysiidae\", \"Aplysia\", \"californica\", \"Mollusca\"],\n",
    "    [\"Bivalvia\", \"Cardiida\", \"Cardiidae\", \"Cardium\", \"edule\", \"Mollusca\"],\n",
    "    [\"Gastropoda\", \"Caenogastropoda\", \"Neritidae\", \"Nerita\", \"atramentosa\", \"Mollusca\"]\n",
    "]\n",
    "# Adding the new organisms starting from index 50\n",
    "dataset.iloc[50:50+len(new_organisms), :] = new_organisms\n",
    "dataset.to_csv('updated_dataset.csv', index=False)\n",
    "\n",
    "\n",
    "dataset.iloc[50:70]"
   ]
  },
  {
   "cell_type": "code",
   "execution_count": 10,
   "id": "5dc7fc9e-9867-4116-b909-e523082a3cf8",
   "metadata": {},
   "outputs": [
    {
     "data": {
      "text/html": [
       "<div>\n",
       "<style scoped>\n",
       "    .dataframe tbody tr th:only-of-type {\n",
       "        vertical-align: middle;\n",
       "    }\n",
       "\n",
       "    .dataframe tbody tr th {\n",
       "        vertical-align: top;\n",
       "    }\n",
       "\n",
       "    .dataframe thead th {\n",
       "        text-align: right;\n",
       "    }\n",
       "</style>\n",
       "<table border=\"1\" class=\"dataframe\">\n",
       "  <thead>\n",
       "    <tr style=\"text-align: right;\">\n",
       "      <th></th>\n",
       "      <th>phylum</th>\n",
       "      <th>class</th>\n",
       "      <th>order</th>\n",
       "      <th>family</th>\n",
       "      <th>genus</th>\n",
       "      <th>species</th>\n",
       "    </tr>\n",
       "  </thead>\n",
       "  <tbody>\n",
       "    <tr>\n",
       "      <th>369</th>\n",
       "      <td>Chordata</td>\n",
       "      <td>Chondrichthyes</td>\n",
       "      <td>Myliobatiformes</td>\n",
       "      <td>Myliobatidae</td>\n",
       "      <td>Myliobatis</td>\n",
       "      <td>freminvillei</td>\n",
       "    </tr>\n",
       "    <tr>\n",
       "      <th>124</th>\n",
       "      <td>Mollusca</td>\n",
       "      <td>Gastropoda</td>\n",
       "      <td>Neogastropoda</td>\n",
       "      <td>Conidae</td>\n",
       "      <td>Conus</td>\n",
       "      <td>mercator</td>\n",
       "    </tr>\n",
       "    <tr>\n",
       "      <th>186</th>\n",
       "      <td>Chordata</td>\n",
       "      <td>Aves</td>\n",
       "      <td>Apodiformes</td>\n",
       "      <td>Trochilidae</td>\n",
       "      <td>Campylopterus</td>\n",
       "      <td>ensipennis</td>\n",
       "    </tr>\n",
       "    <tr>\n",
       "      <th>174</th>\n",
       "      <td>Chordata</td>\n",
       "      <td>Aves</td>\n",
       "      <td>Cuculiformes</td>\n",
       "      <td>Cuculidae</td>\n",
       "      <td>Phaenicophaeus</td>\n",
       "      <td>sumatranus</td>\n",
       "    </tr>\n",
       "    <tr>\n",
       "      <th>327</th>\n",
       "      <td>Chordata</td>\n",
       "      <td>Aves</td>\n",
       "      <td>Psittaciformes</td>\n",
       "      <td>Psittacidae</td>\n",
       "      <td>Amazona</td>\n",
       "      <td>collaria</td>\n",
       "    </tr>\n",
       "    <tr>\n",
       "      <th>...</th>\n",
       "      <td>...</td>\n",
       "      <td>...</td>\n",
       "      <td>...</td>\n",
       "      <td>...</td>\n",
       "      <td>...</td>\n",
       "      <td>...</td>\n",
       "    </tr>\n",
       "    <tr>\n",
       "      <th>155</th>\n",
       "      <td>Chordata</td>\n",
       "      <td>Amphibia</td>\n",
       "      <td>Anura</td>\n",
       "      <td>Bufonidae</td>\n",
       "      <td>Atelopus</td>\n",
       "      <td>certus</td>\n",
       "    </tr>\n",
       "    <tr>\n",
       "      <th>22</th>\n",
       "      <td>Chordata</td>\n",
       "      <td>Aves</td>\n",
       "      <td>Procellariiformes</td>\n",
       "      <td>Procellariidae</td>\n",
       "      <td>Procellaria</td>\n",
       "      <td>parkinsoni</td>\n",
       "    </tr>\n",
       "    <tr>\n",
       "      <th>183</th>\n",
       "      <td>Chordata</td>\n",
       "      <td>Mammalia</td>\n",
       "      <td>Primates</td>\n",
       "      <td>Cercopithecidae</td>\n",
       "      <td>Cercopithecus</td>\n",
       "      <td>mona</td>\n",
       "    </tr>\n",
       "    <tr>\n",
       "      <th>59</th>\n",
       "      <td>Gastropoda</td>\n",
       "      <td>Caenogastropoda</td>\n",
       "      <td>Cypraeidae</td>\n",
       "      <td>Cypraea</td>\n",
       "      <td>tigris</td>\n",
       "      <td>Mollusca</td>\n",
       "    </tr>\n",
       "    <tr>\n",
       "      <th>73</th>\n",
       "      <td>Chordata</td>\n",
       "      <td>Chondrichthyes</td>\n",
       "      <td>Lamniformes</td>\n",
       "      <td>Lamnidae</td>\n",
       "      <td>Lamna</td>\n",
       "      <td>nasus</td>\n",
       "    </tr>\n",
       "  </tbody>\n",
       "</table>\n",
       "<p>400 rows × 6 columns</p>\n",
       "</div>"
      ],
      "text/plain": [
       "         phylum            class              order           family  \\\n",
       "369    Chordata   Chondrichthyes    Myliobatiformes     Myliobatidae   \n",
       "124    Mollusca       Gastropoda      Neogastropoda          Conidae   \n",
       "186    Chordata             Aves        Apodiformes      Trochilidae   \n",
       "174    Chordata             Aves       Cuculiformes        Cuculidae   \n",
       "327    Chordata             Aves     Psittaciformes      Psittacidae   \n",
       "..          ...              ...                ...              ...   \n",
       "155    Chordata         Amphibia              Anura        Bufonidae   \n",
       "22     Chordata             Aves  Procellariiformes   Procellariidae   \n",
       "183    Chordata         Mammalia           Primates  Cercopithecidae   \n",
       "59   Gastropoda  Caenogastropoda         Cypraeidae          Cypraea   \n",
       "73     Chordata   Chondrichthyes        Lamniformes         Lamnidae   \n",
       "\n",
       "              genus       species  \n",
       "369      Myliobatis  freminvillei  \n",
       "124           Conus      mercator  \n",
       "186   Campylopterus    ensipennis  \n",
       "174  Phaenicophaeus    sumatranus  \n",
       "327         Amazona      collaria  \n",
       "..              ...           ...  \n",
       "155        Atelopus        certus  \n",
       "22      Procellaria    parkinsoni  \n",
       "183   Cercopithecus          mona  \n",
       "59           tigris      Mollusca  \n",
       "73            Lamna         nasus  \n",
       "\n",
       "[400 rows x 6 columns]"
      ]
     },
     "execution_count": 10,
     "metadata": {},
     "output_type": "execute_result"
    }
   ],
   "source": [
    "#shuffling the dataset and returning all (100%) of the rows but shuffled \n",
    "dataset= dataset.sample(frac=1)\n",
    "dataset"
   ]
  },
  {
   "cell_type": "code",
   "execution_count": 11,
   "id": "419a0a09-5558-4096-a674-81ca16271b20",
   "metadata": {},
   "outputs": [
    {
     "data": {
      "text/html": [
       "<div>\n",
       "<style scoped>\n",
       "    .dataframe tbody tr th:only-of-type {\n",
       "        vertical-align: middle;\n",
       "    }\n",
       "\n",
       "    .dataframe tbody tr th {\n",
       "        vertical-align: top;\n",
       "    }\n",
       "\n",
       "    .dataframe thead th {\n",
       "        text-align: right;\n",
       "    }\n",
       "</style>\n",
       "<table border=\"1\" class=\"dataframe\">\n",
       "  <thead>\n",
       "    <tr style=\"text-align: right;\">\n",
       "      <th></th>\n",
       "      <th>phylum</th>\n",
       "      <th>class</th>\n",
       "      <th>order</th>\n",
       "      <th>family</th>\n",
       "      <th>genus</th>\n",
       "      <th>species</th>\n",
       "    </tr>\n",
       "  </thead>\n",
       "  <tbody>\n",
       "    <tr>\n",
       "      <th>0</th>\n",
       "      <td>Chordata</td>\n",
       "      <td>Chondrichthyes</td>\n",
       "      <td>Myliobatiformes</td>\n",
       "      <td>Myliobatidae</td>\n",
       "      <td>Myliobatis</td>\n",
       "      <td>freminvillei</td>\n",
       "    </tr>\n",
       "    <tr>\n",
       "      <th>1</th>\n",
       "      <td>Mollusca</td>\n",
       "      <td>Gastropoda</td>\n",
       "      <td>Neogastropoda</td>\n",
       "      <td>Conidae</td>\n",
       "      <td>Conus</td>\n",
       "      <td>mercator</td>\n",
       "    </tr>\n",
       "    <tr>\n",
       "      <th>2</th>\n",
       "      <td>Chordata</td>\n",
       "      <td>Aves</td>\n",
       "      <td>Apodiformes</td>\n",
       "      <td>Trochilidae</td>\n",
       "      <td>Campylopterus</td>\n",
       "      <td>ensipennis</td>\n",
       "    </tr>\n",
       "    <tr>\n",
       "      <th>3</th>\n",
       "      <td>Chordata</td>\n",
       "      <td>Aves</td>\n",
       "      <td>Cuculiformes</td>\n",
       "      <td>Cuculidae</td>\n",
       "      <td>Phaenicophaeus</td>\n",
       "      <td>sumatranus</td>\n",
       "    </tr>\n",
       "    <tr>\n",
       "      <th>4</th>\n",
       "      <td>Chordata</td>\n",
       "      <td>Aves</td>\n",
       "      <td>Psittaciformes</td>\n",
       "      <td>Psittacidae</td>\n",
       "      <td>Amazona</td>\n",
       "      <td>collaria</td>\n",
       "    </tr>\n",
       "    <tr>\n",
       "      <th>...</th>\n",
       "      <td>...</td>\n",
       "      <td>...</td>\n",
       "      <td>...</td>\n",
       "      <td>...</td>\n",
       "      <td>...</td>\n",
       "      <td>...</td>\n",
       "    </tr>\n",
       "    <tr>\n",
       "      <th>395</th>\n",
       "      <td>Chordata</td>\n",
       "      <td>Amphibia</td>\n",
       "      <td>Anura</td>\n",
       "      <td>Bufonidae</td>\n",
       "      <td>Atelopus</td>\n",
       "      <td>certus</td>\n",
       "    </tr>\n",
       "    <tr>\n",
       "      <th>396</th>\n",
       "      <td>Chordata</td>\n",
       "      <td>Aves</td>\n",
       "      <td>Procellariiformes</td>\n",
       "      <td>Procellariidae</td>\n",
       "      <td>Procellaria</td>\n",
       "      <td>parkinsoni</td>\n",
       "    </tr>\n",
       "    <tr>\n",
       "      <th>397</th>\n",
       "      <td>Chordata</td>\n",
       "      <td>Mammalia</td>\n",
       "      <td>Primates</td>\n",
       "      <td>Cercopithecidae</td>\n",
       "      <td>Cercopithecus</td>\n",
       "      <td>mona</td>\n",
       "    </tr>\n",
       "    <tr>\n",
       "      <th>398</th>\n",
       "      <td>Gastropoda</td>\n",
       "      <td>Caenogastropoda</td>\n",
       "      <td>Cypraeidae</td>\n",
       "      <td>Cypraea</td>\n",
       "      <td>tigris</td>\n",
       "      <td>Mollusca</td>\n",
       "    </tr>\n",
       "    <tr>\n",
       "      <th>399</th>\n",
       "      <td>Chordata</td>\n",
       "      <td>Chondrichthyes</td>\n",
       "      <td>Lamniformes</td>\n",
       "      <td>Lamnidae</td>\n",
       "      <td>Lamna</td>\n",
       "      <td>nasus</td>\n",
       "    </tr>\n",
       "  </tbody>\n",
       "</table>\n",
       "<p>400 rows × 6 columns</p>\n",
       "</div>"
      ],
      "text/plain": [
       "         phylum            class              order           family  \\\n",
       "0      Chordata   Chondrichthyes    Myliobatiformes     Myliobatidae   \n",
       "1      Mollusca       Gastropoda      Neogastropoda          Conidae   \n",
       "2      Chordata             Aves        Apodiformes      Trochilidae   \n",
       "3      Chordata             Aves       Cuculiformes        Cuculidae   \n",
       "4      Chordata             Aves     Psittaciformes      Psittacidae   \n",
       "..          ...              ...                ...              ...   \n",
       "395    Chordata         Amphibia              Anura        Bufonidae   \n",
       "396    Chordata             Aves  Procellariiformes   Procellariidae   \n",
       "397    Chordata         Mammalia           Primates  Cercopithecidae   \n",
       "398  Gastropoda  Caenogastropoda         Cypraeidae          Cypraea   \n",
       "399    Chordata   Chondrichthyes        Lamniformes         Lamnidae   \n",
       "\n",
       "              genus       species  \n",
       "0        Myliobatis  freminvillei  \n",
       "1             Conus      mercator  \n",
       "2     Campylopterus    ensipennis  \n",
       "3    Phaenicophaeus    sumatranus  \n",
       "4           Amazona      collaria  \n",
       "..              ...           ...  \n",
       "395        Atelopus        certus  \n",
       "396     Procellaria    parkinsoni  \n",
       "397   Cercopithecus          mona  \n",
       "398          tigris      Mollusca  \n",
       "399           Lamna         nasus  \n",
       "\n",
       "[400 rows x 6 columns]"
      ]
     },
     "execution_count": 11,
     "metadata": {},
     "output_type": "execute_result"
    }
   ],
   "source": [
    "#renumbering the row indices\n",
    "dataset.reset_index(drop=True, inplace=True)\n",
    "dataset"
   ]
  },
  {
   "cell_type": "code",
   "execution_count": 12,
   "id": "4982edfd-1222-48cf-9c6a-e87465d9b4f6",
   "metadata": {},
   "outputs": [
    {
     "data": {
      "text/html": [
       "<div>\n",
       "<style scoped>\n",
       "    .dataframe tbody tr th:only-of-type {\n",
       "        vertical-align: middle;\n",
       "    }\n",
       "\n",
       "    .dataframe tbody tr th {\n",
       "        vertical-align: top;\n",
       "    }\n",
       "\n",
       "    .dataframe thead th {\n",
       "        text-align: right;\n",
       "    }\n",
       "</style>\n",
       "<table border=\"1\" class=\"dataframe\">\n",
       "  <thead>\n",
       "    <tr style=\"text-align: right;\">\n",
       "      <th></th>\n",
       "      <th>phylum</th>\n",
       "      <th>class</th>\n",
       "      <th>order</th>\n",
       "      <th>family</th>\n",
       "      <th>genus</th>\n",
       "      <th>species</th>\n",
       "    </tr>\n",
       "  </thead>\n",
       "  <tbody>\n",
       "    <tr>\n",
       "      <th>390</th>\n",
       "      <td>Chordata</td>\n",
       "      <td>Aves</td>\n",
       "      <td>Passeriformes</td>\n",
       "      <td>Vireonidae</td>\n",
       "      <td>Vireo</td>\n",
       "      <td>atricapilla</td>\n",
       "    </tr>\n",
       "    <tr>\n",
       "      <th>391</th>\n",
       "      <td>Chordata</td>\n",
       "      <td>Mammalia</td>\n",
       "      <td>Lagomorpha</td>\n",
       "      <td>Leporidae</td>\n",
       "      <td>Sylvilagus</td>\n",
       "      <td>transitionalis</td>\n",
       "    </tr>\n",
       "    <tr>\n",
       "      <th>392</th>\n",
       "      <td>Chordata</td>\n",
       "      <td>Aves</td>\n",
       "      <td>Sphenisciformes</td>\n",
       "      <td>Spheniscidae</td>\n",
       "      <td>Spheniscus</td>\n",
       "      <td>humboldti</td>\n",
       "    </tr>\n",
       "    <tr>\n",
       "      <th>393</th>\n",
       "      <td>Chordata</td>\n",
       "      <td>Mammalia</td>\n",
       "      <td>Rodentia</td>\n",
       "      <td>Cricetidae</td>\n",
       "      <td>Mesocricetus</td>\n",
       "      <td>auratus</td>\n",
       "    </tr>\n",
       "    <tr>\n",
       "      <th>394</th>\n",
       "      <td>Chordata</td>\n",
       "      <td>Aves</td>\n",
       "      <td>Sphenisciformes</td>\n",
       "      <td>Spheniscidae</td>\n",
       "      <td>Eudyptes</td>\n",
       "      <td>chrysolophus</td>\n",
       "    </tr>\n",
       "    <tr>\n",
       "      <th>395</th>\n",
       "      <td>Chordata</td>\n",
       "      <td>Amphibia</td>\n",
       "      <td>Anura</td>\n",
       "      <td>Bufonidae</td>\n",
       "      <td>Atelopus</td>\n",
       "      <td>certus</td>\n",
       "    </tr>\n",
       "    <tr>\n",
       "      <th>396</th>\n",
       "      <td>Chordata</td>\n",
       "      <td>Aves</td>\n",
       "      <td>Procellariiformes</td>\n",
       "      <td>Procellariidae</td>\n",
       "      <td>Procellaria</td>\n",
       "      <td>parkinsoni</td>\n",
       "    </tr>\n",
       "    <tr>\n",
       "      <th>397</th>\n",
       "      <td>Chordata</td>\n",
       "      <td>Mammalia</td>\n",
       "      <td>Primates</td>\n",
       "      <td>Cercopithecidae</td>\n",
       "      <td>Cercopithecus</td>\n",
       "      <td>mona</td>\n",
       "    </tr>\n",
       "    <tr>\n",
       "      <th>398</th>\n",
       "      <td>Gastropoda</td>\n",
       "      <td>Caenogastropoda</td>\n",
       "      <td>Cypraeidae</td>\n",
       "      <td>Cypraea</td>\n",
       "      <td>tigris</td>\n",
       "      <td>Mollusca</td>\n",
       "    </tr>\n",
       "    <tr>\n",
       "      <th>399</th>\n",
       "      <td>Chordata</td>\n",
       "      <td>Chondrichthyes</td>\n",
       "      <td>Lamniformes</td>\n",
       "      <td>Lamnidae</td>\n",
       "      <td>Lamna</td>\n",
       "      <td>nasus</td>\n",
       "    </tr>\n",
       "  </tbody>\n",
       "</table>\n",
       "</div>"
      ],
      "text/plain": [
       "         phylum            class              order           family  \\\n",
       "390    Chordata             Aves      Passeriformes       Vireonidae   \n",
       "391    Chordata         Mammalia         Lagomorpha        Leporidae   \n",
       "392    Chordata             Aves    Sphenisciformes     Spheniscidae   \n",
       "393    Chordata         Mammalia           Rodentia       Cricetidae   \n",
       "394    Chordata             Aves    Sphenisciformes     Spheniscidae   \n",
       "395    Chordata         Amphibia              Anura        Bufonidae   \n",
       "396    Chordata             Aves  Procellariiformes   Procellariidae   \n",
       "397    Chordata         Mammalia           Primates  Cercopithecidae   \n",
       "398  Gastropoda  Caenogastropoda         Cypraeidae          Cypraea   \n",
       "399    Chordata   Chondrichthyes        Lamniformes         Lamnidae   \n",
       "\n",
       "             genus         species  \n",
       "390          Vireo     atricapilla  \n",
       "391     Sylvilagus  transitionalis  \n",
       "392     Spheniscus       humboldti  \n",
       "393   Mesocricetus         auratus  \n",
       "394       Eudyptes    chrysolophus  \n",
       "395       Atelopus          certus  \n",
       "396    Procellaria      parkinsoni  \n",
       "397  Cercopithecus            mona  \n",
       "398         tigris        Mollusca  \n",
       "399          Lamna           nasus  "
      ]
     },
     "execution_count": 12,
     "metadata": {},
     "output_type": "execute_result"
    }
   ],
   "source": [
    "dataset.tail(10)"
   ]
  },
  {
   "cell_type": "code",
   "execution_count": 13,
   "id": "a78c7954-b44a-4ae3-95ec-a9d46c254fc5",
   "metadata": {},
   "outputs": [],
   "source": [
    "from sklearn.preprocessing import LabelEncoder\n",
    "import pandas as pd\n"
   ]
  },
  {
   "cell_type": "code",
   "execution_count": 14,
   "id": "50461957",
   "metadata": {},
   "outputs": [],
   "source": [
    "# Apply Label Encoding to all categorical columns\n",
    "label_encoder = LabelEncoder()"
   ]
  },
  {
   "cell_type": "code",
   "execution_count": 15,
   "id": "13b03983",
   "metadata": {},
   "outputs": [],
   "source": [
    " #Identifying columns that need encoding\n",
    "categorical_columns = ['class', 'order', 'family', 'genus', 'species',]"
   ]
  },
  {
   "cell_type": "code",
   "execution_count": 16,
   "id": "04e4c9ad",
   "metadata": {},
   "outputs": [],
   "source": [
    "# Encoding each categorical column\n",
    "for column in categorical_columns:\n",
    "    dataset[column] = label_encoder.fit_transform(dataset[column])"
   ]
  },
  {
   "cell_type": "code",
   "execution_count": 17,
   "id": "3204a254",
   "metadata": {},
   "outputs": [
    {
     "data": {
      "text/html": [
       "<div>\n",
       "<style scoped>\n",
       "    .dataframe tbody tr th:only-of-type {\n",
       "        vertical-align: middle;\n",
       "    }\n",
       "\n",
       "    .dataframe tbody tr th {\n",
       "        vertical-align: top;\n",
       "    }\n",
       "\n",
       "    .dataframe thead th {\n",
       "        text-align: right;\n",
       "    }\n",
       "</style>\n",
       "<table border=\"1\" class=\"dataframe\">\n",
       "  <thead>\n",
       "    <tr style=\"text-align: right;\">\n",
       "      <th></th>\n",
       "      <th>phylum</th>\n",
       "      <th>class</th>\n",
       "      <th>order</th>\n",
       "      <th>family</th>\n",
       "      <th>genus</th>\n",
       "      <th>species</th>\n",
       "    </tr>\n",
       "  </thead>\n",
       "  <tbody>\n",
       "    <tr>\n",
       "      <th>0</th>\n",
       "      <td>Chordata</td>\n",
       "      <td>13</td>\n",
       "      <td>64</td>\n",
       "      <td>139</td>\n",
       "      <td>184</td>\n",
       "      <td>114</td>\n",
       "    </tr>\n",
       "    <tr>\n",
       "      <th>1</th>\n",
       "      <td>Mollusca</td>\n",
       "      <td>22</td>\n",
       "      <td>66</td>\n",
       "      <td>58</td>\n",
       "      <td>80</td>\n",
       "      <td>210</td>\n",
       "    </tr>\n",
       "    <tr>\n",
       "      <th>2</th>\n",
       "      <td>Chordata</td>\n",
       "      <td>6</td>\n",
       "      <td>7</td>\n",
       "      <td>215</td>\n",
       "      <td>58</td>\n",
       "      <td>107</td>\n",
       "    </tr>\n",
       "    <tr>\n",
       "      <th>3</th>\n",
       "      <td>Chordata</td>\n",
       "      <td>6</td>\n",
       "      <td>34</td>\n",
       "      <td>64</td>\n",
       "      <td>220</td>\n",
       "      <td>312</td>\n",
       "    </tr>\n",
       "    <tr>\n",
       "      <th>4</th>\n",
       "      <td>Chordata</td>\n",
       "      <td>6</td>\n",
       "      <td>90</td>\n",
       "      <td>177</td>\n",
       "      <td>14</td>\n",
       "      <td>79</td>\n",
       "    </tr>\n",
       "    <tr>\n",
       "      <th>...</th>\n",
       "      <td>...</td>\n",
       "      <td>...</td>\n",
       "      <td>...</td>\n",
       "      <td>...</td>\n",
       "      <td>...</td>\n",
       "      <td>...</td>\n",
       "    </tr>\n",
       "    <tr>\n",
       "      <th>395</th>\n",
       "      <td>Chordata</td>\n",
       "      <td>1</td>\n",
       "      <td>5</td>\n",
       "      <td>32</td>\n",
       "      <td>34</td>\n",
       "      <td>66</td>\n",
       "    </tr>\n",
       "    <tr>\n",
       "      <th>396</th>\n",
       "      <td>Chordata</td>\n",
       "      <td>6</td>\n",
       "      <td>89</td>\n",
       "      <td>175</td>\n",
       "      <td>238</td>\n",
       "      <td>252</td>\n",
       "    </tr>\n",
       "    <tr>\n",
       "      <th>397</th>\n",
       "      <td>Chordata</td>\n",
       "      <td>27</td>\n",
       "      <td>88</td>\n",
       "      <td>43</td>\n",
       "      <td>68</td>\n",
       "      <td>219</td>\n",
       "    </tr>\n",
       "    <tr>\n",
       "      <th>398</th>\n",
       "      <td>Gastropoda</td>\n",
       "      <td>10</td>\n",
       "      <td>36</td>\n",
       "      <td>66</td>\n",
       "      <td>319</td>\n",
       "      <td>1</td>\n",
       "    </tr>\n",
       "    <tr>\n",
       "      <th>399</th>\n",
       "      <td>Chordata</td>\n",
       "      <td>13</td>\n",
       "      <td>55</td>\n",
       "      <td>117</td>\n",
       "      <td>153</td>\n",
       "      <td>228</td>\n",
       "    </tr>\n",
       "  </tbody>\n",
       "</table>\n",
       "<p>400 rows × 6 columns</p>\n",
       "</div>"
      ],
      "text/plain": [
       "         phylum  class  order  family  genus  species\n",
       "0      Chordata     13     64     139    184      114\n",
       "1      Mollusca     22     66      58     80      210\n",
       "2      Chordata      6      7     215     58      107\n",
       "3      Chordata      6     34      64    220      312\n",
       "4      Chordata      6     90     177     14       79\n",
       "..          ...    ...    ...     ...    ...      ...\n",
       "395    Chordata      1      5      32     34       66\n",
       "396    Chordata      6     89     175    238      252\n",
       "397    Chordata     27     88      43     68      219\n",
       "398  Gastropoda     10     36      66    319        1\n",
       "399    Chordata     13     55     117    153      228\n",
       "\n",
       "[400 rows x 6 columns]"
      ]
     },
     "execution_count": 17,
     "metadata": {},
     "output_type": "execute_result"
    }
   ],
   "source": [
    "dataset"
   ]
  },
  {
   "cell_type": "code",
   "execution_count": 18,
   "id": "8332362b",
   "metadata": {},
   "outputs": [
    {
     "data": {
      "image/png": "[encoded data removed]",
      "text/plain": [
       "<Figure size 2000x1000 with 5 Axes>"
      ]
     },
     "metadata": {},
     "output_type": "display_data"
    }
   ],
   "source": [
    "# BOX PLOT\n",
    "import pandas as pd\n",
    "import matplotlib.pyplot as plt\n",
    "import seaborn as sns\n",
    "import numpy as np\n",
    "\n",
    "\n",
    "red_circle = dict(markerfacecolor='red', marker='o', markeredgecolor='white')\n",
    "box_colors = ['skyblue', 'orange', 'lightgreen', 'lightpink', 'purple', 'yellow'] \n",
    "special_color = 'darkblue' \n",
    "\n",
    "\n",
    "fig, axs = plt.subplots(1, len(dataset.columns) - 1, figsize=(20, 10)) \n",
    "\n",
    "\n",
    "for i, ax in enumerate(axs.flat):\n",
    "    box = ax.boxplot(dataset.iloc[:, i + 1], patch_artist=True, flierprops=red_circle)  \n",
    "    \n",
    "   \n",
    "    if i == 1:  \n",
    "        color = special_color\n",
    "    else:\n",
    "        color = box_colors[i % len(box_colors)]  \n",
    "    \n",
    " \n",
    "    for patch in box['boxes']:\n",
    "        patch.set_facecolor(color)\n",
    "   \n",
    "    ax.set_title(dataset.columns[i + 1], fontsize=28, fontweight='bold')\n",
    "    ax.tick_params(axis='y', labelsize=14)\n",
    "\n",
    "plt.suptitle('Box Plot  ', fontsize=32, fontweight='bold')\n",
    "\n",
    "plt.tight_layout()\n",
    "plt.show()\n",
    "\n"
   ]
  },
  {
   "cell_type": "code",
   "execution_count": 19,
   "id": "c068716a-4aa4-4ee6-8a95-8032b3072a1d",
   "metadata": {},
   "outputs": [],
   "source": [
    "from sklearn.model_selection import train_test_split, KFold, cross_val_score\n",
    "from sklearn import model_selection"
   ]
  },
  {
   "cell_type": "code",
   "execution_count": 20,
   "id": "5f675629",
   "metadata": {},
   "outputs": [],
   "source": [
    "array = dataset.values\n",
    "X = array[:, 0:5]\n",
    "Y = array[:, 5]\n",
    "validation_size = 0.20\n",
    "seed = 7\n",
    "X_train, X_validation, Y_train, Y_validation =model_selection.train_test_split(X, Y, test_size=validation_size, random_state=seed)"
   ]
  },
  {
   "cell_type": "code",
   "execution_count": 21,
   "id": "90530f55-4f96-488f-b8ad-ca3b69386561",
   "metadata": {},
   "outputs": [],
   "source": [
    "seed = 42\n",
    "scoring = 'accuracy'"
   ]
  },
  {
   "cell_type": "code",
   "execution_count": 22,
   "id": "66400ca7-0642-4f81-9fa8-dda00a2f1884",
   "metadata": {},
   "outputs": [],
   "source": [
    "from sklearn.linear_model import LogisticRegression\n",
    "from sklearn.tree import DecisionTreeClassifier\n",
    "from sklearn.neighbors import KNeighborsClassifier\n",
    "from sklearn.discriminant_analysis import LinearDiscriminantAnalysis\n",
    "from sklearn.naive_bayes import GaussianNB\n",
    "from sklearn.svm import SVC\n",
    "from sklearn.preprocessing import StandardScaler\n",
    "from sklearn.linear_model import LogisticRegression"
   ]
  },
  {
   "cell_type": "code",
   "execution_count": 23,
   "id": "3b6559e5",
   "metadata": {},
   "outputs": [
    {
     "ename": "ValueError",
     "evalue": "\nAll the 10 fits failed.\nIt is very likely that your model is misconfigured.\nYou can try to debug the error by setting error_score='raise'.\n\nBelow are more details about the failures:\n--------------------------------------------------------------------------------\n10 fits failed with the following error:\nTraceback (most recent call last):\n  File \"c:\\PROGRAMDATA\\ANACONDA3\\Lib\\site-packages\\sklearn\\model_selection\\_validation.py\", line 895, in _fit_and_score\n    estimator.fit(X_train, y_train, **fit_params)\n  File \"c:\\PROGRAMDATA\\ANACONDA3\\Lib\\site-packages\\sklearn\\base.py\", line 1474, in wrapper\n    return fit_method(estimator, *args, **kwargs)\n           ^^^^^^^^^^^^^^^^^^^^^^^^^^^^^^^^^^^^^^\n  File \"c:\\PROGRAMDATA\\ANACONDA3\\Lib\\site-packages\\sklearn\\linear_model\\_logistic.py\", line 1201, in fit\n    X, y = self._validate_data(\n           ^^^^^^^^^^^^^^^^^^^^\n  File \"c:\\PROGRAMDATA\\ANACONDA3\\Lib\\site-packages\\sklearn\\base.py\", line 650, in _validate_data\n    X, y = check_X_y(X, y, **check_params)\n           ^^^^^^^^^^^^^^^^^^^^^^^^^^^^^^^\n  File \"c:\\PROGRAMDATA\\ANACONDA3\\Lib\\site-packages\\sklearn\\utils\\validation.py\", line 1263, in check_X_y\n    X = check_array(\n        ^^^^^^^^^^^^\n  File \"c:\\PROGRAMDATA\\ANACONDA3\\Lib\\site-packages\\sklearn\\utils\\validation.py\", line 997, in check_array\n    array = _asarray_with_order(array, order=order, dtype=dtype, xp=xp)\n            ^^^^^^^^^^^^^^^^^^^^^^^^^^^^^^^^^^^^^^^^^^^^^^^^^^^^^^^^^^^\n  File \"c:\\PROGRAMDATA\\ANACONDA3\\Lib\\site-packages\\sklearn\\utils\\_array_api.py\", line 521, in _asarray_with_order\n    array = numpy.asarray(array, order=order, dtype=dtype)\n            ^^^^^^^^^^^^^^^^^^^^^^^^^^^^^^^^^^^^^^^^^^^^^^\nValueError: could not convert string to float: 'Chordata'\n",
     "output_type": "error",
     "traceback": [
      "\u001b[1;31m---------------------------------------------------------------------------\u001b[0m",
      "\u001b[1;31mValueError\u001b[0m                                Traceback (most recent call last)",
      "Cell \u001b[1;32mIn[23], line 14\u001b[0m\n\u001b[0;32m     12\u001b[0m \u001b[38;5;28;01mfor\u001b[39;00m name, model \u001b[38;5;129;01min\u001b[39;00m models:\n\u001b[0;32m     13\u001b[0m         kfold \u001b[38;5;241m=\u001b[39m model_selection\u001b[38;5;241m.\u001b[39mKFold(n_splits\u001b[38;5;241m=\u001b[39m\u001b[38;5;241m10\u001b[39m, random_state\u001b[38;5;241m=\u001b[39m\u001b[38;5;28;01mNone\u001b[39;00m)\n\u001b[1;32m---> 14\u001b[0m         cv_results \u001b[38;5;241m=\u001b[39m model_selection\u001b[38;5;241m.\u001b[39mcross_val_score(model, X_train, Y_train, cv\u001b[38;5;241m=\u001b[39mkfold, scoring\u001b[38;5;241m=\u001b[39mscoring)\n\u001b[0;32m     15\u001b[0m         results\u001b[38;5;241m.\u001b[39mappend(cv_results)\n\u001b[0;32m     16\u001b[0m         names\u001b[38;5;241m.\u001b[39mappend(name)\n",
      "File \u001b[1;32mc:\\PROGRAMDATA\\ANACONDA3\\Lib\\site-packages\\sklearn\\utils\\_param_validation.py:213\u001b[0m, in \u001b[0;36mvalidate_params.<locals>.decorator.<locals>.wrapper\u001b[1;34m(*args, **kwargs)\u001b[0m\n\u001b[0;32m    207\u001b[0m \u001b[38;5;28;01mtry\u001b[39;00m:\n\u001b[0;32m    208\u001b[0m     \u001b[38;5;28;01mwith\u001b[39;00m config_context(\n\u001b[0;32m    209\u001b[0m         skip_parameter_validation\u001b[38;5;241m=\u001b[39m(\n\u001b[0;32m    210\u001b[0m             prefer_skip_nested_validation \u001b[38;5;129;01mor\u001b[39;00m global_skip_validation\n\u001b[0;32m    211\u001b[0m         )\n\u001b[0;32m    212\u001b[0m     ):\n\u001b[1;32m--> 213\u001b[0m         \u001b[38;5;28;01mreturn\u001b[39;00m func(\u001b[38;5;241m*\u001b[39margs, \u001b[38;5;241m*\u001b[39m\u001b[38;5;241m*\u001b[39mkwargs)\n\u001b[0;32m    214\u001b[0m \u001b[38;5;28;01mexcept\u001b[39;00m InvalidParameterError \u001b[38;5;28;01mas\u001b[39;00m e:\n\u001b[0;32m    215\u001b[0m     \u001b[38;5;66;03m# When the function is just a wrapper around an estimator, we allow\u001b[39;00m\n\u001b[0;32m    216\u001b[0m     \u001b[38;5;66;03m# the function to delegate validation to the estimator, but we replace\u001b[39;00m\n\u001b[0;32m    217\u001b[0m     \u001b[38;5;66;03m# the name of the estimator by the name of the function in the error\u001b[39;00m\n\u001b[0;32m    218\u001b[0m     \u001b[38;5;66;03m# message to avoid confusion.\u001b[39;00m\n\u001b[0;32m    219\u001b[0m     msg \u001b[38;5;241m=\u001b[39m re\u001b[38;5;241m.\u001b[39msub(\n\u001b[0;32m    220\u001b[0m         \u001b[38;5;124mr\u001b[39m\u001b[38;5;124m\"\u001b[39m\u001b[38;5;124mparameter of \u001b[39m\u001b[38;5;124m\\\u001b[39m\u001b[38;5;124mw+ must be\u001b[39m\u001b[38;5;124m\"\u001b[39m,\n\u001b[0;32m    221\u001b[0m         \u001b[38;5;124mf\u001b[39m\u001b[38;5;124m\"\u001b[39m\u001b[38;5;124mparameter of \u001b[39m\u001b[38;5;132;01m{\u001b[39;00mfunc\u001b[38;5;241m.\u001b[39m\u001b[38;5;18m__qualname__\u001b[39m\u001b[38;5;132;01m}\u001b[39;00m\u001b[38;5;124m must be\u001b[39m\u001b[38;5;124m\"\u001b[39m,\n\u001b[0;32m    222\u001b[0m         \u001b[38;5;28mstr\u001b[39m(e),\n\u001b[0;32m    223\u001b[0m     )\n",
      "File \u001b[1;32mc:\\PROGRAMDATA\\ANACONDA3\\Lib\\site-packages\\sklearn\\model_selection\\_validation.py:719\u001b[0m, in \u001b[0;36mcross_val_score\u001b[1;34m(estimator, X, y, groups, scoring, cv, n_jobs, verbose, fit_params, params, pre_dispatch, error_score)\u001b[0m\n\u001b[0;32m    716\u001b[0m \u001b[38;5;66;03m# To ensure multimetric format is not supported\u001b[39;00m\n\u001b[0;32m    717\u001b[0m scorer \u001b[38;5;241m=\u001b[39m check_scoring(estimator, scoring\u001b[38;5;241m=\u001b[39mscoring)\n\u001b[1;32m--> 719\u001b[0m cv_results \u001b[38;5;241m=\u001b[39m cross_validate(\n\u001b[0;32m    720\u001b[0m     estimator\u001b[38;5;241m=\u001b[39mestimator,\n\u001b[0;32m    721\u001b[0m     X\u001b[38;5;241m=\u001b[39mX,\n\u001b[0;32m    722\u001b[0m     y\u001b[38;5;241m=\u001b[39my,\n\u001b[0;32m    723\u001b[0m     groups\u001b[38;5;241m=\u001b[39mgroups,\n\u001b[0;32m    724\u001b[0m     scoring\u001b[38;5;241m=\u001b[39m{\u001b[38;5;124m\"\u001b[39m\u001b[38;5;124mscore\u001b[39m\u001b[38;5;124m\"\u001b[39m: scorer},\n\u001b[0;32m    725\u001b[0m     cv\u001b[38;5;241m=\u001b[39mcv,\n\u001b[0;32m    726\u001b[0m     n_jobs\u001b[38;5;241m=\u001b[39mn_jobs,\n\u001b[0;32m    727\u001b[0m     verbose\u001b[38;5;241m=\u001b[39mverbose,\n\u001b[0;32m    728\u001b[0m     fit_params\u001b[38;5;241m=\u001b[39mfit_params,\n\u001b[0;32m    729\u001b[0m     params\u001b[38;5;241m=\u001b[39mparams,\n\u001b[0;32m    730\u001b[0m     pre_dispatch\u001b[38;5;241m=\u001b[39mpre_dispatch,\n\u001b[0;32m    731\u001b[0m     error_score\u001b[38;5;241m=\u001b[39merror_score,\n\u001b[0;32m    732\u001b[0m )\n\u001b[0;32m    733\u001b[0m \u001b[38;5;28;01mreturn\u001b[39;00m cv_results[\u001b[38;5;124m\"\u001b[39m\u001b[38;5;124mtest_score\u001b[39m\u001b[38;5;124m\"\u001b[39m]\n",
      "File \u001b[1;32mc:\\PROGRAMDATA\\ANACONDA3\\Lib\\site-packages\\sklearn\\utils\\_param_validation.py:213\u001b[0m, in \u001b[0;36mvalidate_params.<locals>.decorator.<locals>.wrapper\u001b[1;34m(*args, **kwargs)\u001b[0m\n\u001b[0;32m    207\u001b[0m \u001b[38;5;28;01mtry\u001b[39;00m:\n\u001b[0;32m    208\u001b[0m     \u001b[38;5;28;01mwith\u001b[39;00m config_context(\n\u001b[0;32m    209\u001b[0m         skip_parameter_validation\u001b[38;5;241m=\u001b[39m(\n\u001b[0;32m    210\u001b[0m             prefer_skip_nested_validation \u001b[38;5;129;01mor\u001b[39;00m global_skip_validation\n\u001b[0;32m    211\u001b[0m         )\n\u001b[0;32m    212\u001b[0m     ):\n\u001b[1;32m--> 213\u001b[0m         \u001b[38;5;28;01mreturn\u001b[39;00m func(\u001b[38;5;241m*\u001b[39margs, \u001b[38;5;241m*\u001b[39m\u001b[38;5;241m*\u001b[39mkwargs)\n\u001b[0;32m    214\u001b[0m \u001b[38;5;28;01mexcept\u001b[39;00m InvalidParameterError \u001b[38;5;28;01mas\u001b[39;00m e:\n\u001b[0;32m    215\u001b[0m     \u001b[38;5;66;03m# When the function is just a wrapper around an estimator, we allow\u001b[39;00m\n\u001b[0;32m    216\u001b[0m     \u001b[38;5;66;03m# the function to delegate validation to the estimator, but we replace\u001b[39;00m\n\u001b[0;32m    217\u001b[0m     \u001b[38;5;66;03m# the name of the estimator by the name of the function in the error\u001b[39;00m\n\u001b[0;32m    218\u001b[0m     \u001b[38;5;66;03m# message to avoid confusion.\u001b[39;00m\n\u001b[0;32m    219\u001b[0m     msg \u001b[38;5;241m=\u001b[39m re\u001b[38;5;241m.\u001b[39msub(\n\u001b[0;32m    220\u001b[0m         \u001b[38;5;124mr\u001b[39m\u001b[38;5;124m\"\u001b[39m\u001b[38;5;124mparameter of \u001b[39m\u001b[38;5;124m\\\u001b[39m\u001b[38;5;124mw+ must be\u001b[39m\u001b[38;5;124m\"\u001b[39m,\n\u001b[0;32m    221\u001b[0m         \u001b[38;5;124mf\u001b[39m\u001b[38;5;124m\"\u001b[39m\u001b[38;5;124mparameter of \u001b[39m\u001b[38;5;132;01m{\u001b[39;00mfunc\u001b[38;5;241m.\u001b[39m\u001b[38;5;18m__qualname__\u001b[39m\u001b[38;5;132;01m}\u001b[39;00m\u001b[38;5;124m must be\u001b[39m\u001b[38;5;124m\"\u001b[39m,\n\u001b[0;32m    222\u001b[0m         \u001b[38;5;28mstr\u001b[39m(e),\n\u001b[0;32m    223\u001b[0m     )\n",
      "File \u001b[1;32mc:\\PROGRAMDATA\\ANACONDA3\\Lib\\site-packages\\sklearn\\model_selection\\_validation.py:450\u001b[0m, in \u001b[0;36mcross_validate\u001b[1;34m(estimator, X, y, groups, scoring, cv, n_jobs, verbose, fit_params, params, pre_dispatch, return_train_score, return_estimator, return_indices, error_score)\u001b[0m\n\u001b[0;32m    429\u001b[0m parallel \u001b[38;5;241m=\u001b[39m Parallel(n_jobs\u001b[38;5;241m=\u001b[39mn_jobs, verbose\u001b[38;5;241m=\u001b[39mverbose, pre_dispatch\u001b[38;5;241m=\u001b[39mpre_dispatch)\n\u001b[0;32m    430\u001b[0m results \u001b[38;5;241m=\u001b[39m parallel(\n\u001b[0;32m    431\u001b[0m     delayed(_fit_and_score)(\n\u001b[0;32m    432\u001b[0m         clone(estimator),\n\u001b[1;32m   (...)\u001b[0m\n\u001b[0;32m    447\u001b[0m     \u001b[38;5;28;01mfor\u001b[39;00m train, test \u001b[38;5;129;01min\u001b[39;00m indices\n\u001b[0;32m    448\u001b[0m )\n\u001b[1;32m--> 450\u001b[0m _warn_or_raise_about_fit_failures(results, error_score)\n\u001b[0;32m    452\u001b[0m \u001b[38;5;66;03m# For callable scoring, the return type is only know after calling. If the\u001b[39;00m\n\u001b[0;32m    453\u001b[0m \u001b[38;5;66;03m# return type is a dictionary, the error scores can now be inserted with\u001b[39;00m\n\u001b[0;32m    454\u001b[0m \u001b[38;5;66;03m# the correct key.\u001b[39;00m\n\u001b[0;32m    455\u001b[0m \u001b[38;5;28;01mif\u001b[39;00m \u001b[38;5;28mcallable\u001b[39m(scoring):\n",
      "File \u001b[1;32mc:\\PROGRAMDATA\\ANACONDA3\\Lib\\site-packages\\sklearn\\model_selection\\_validation.py:536\u001b[0m, in \u001b[0;36m_warn_or_raise_about_fit_failures\u001b[1;34m(results, error_score)\u001b[0m\n\u001b[0;32m    529\u001b[0m \u001b[38;5;28;01mif\u001b[39;00m num_failed_fits \u001b[38;5;241m==\u001b[39m num_fits:\n\u001b[0;32m    530\u001b[0m     all_fits_failed_message \u001b[38;5;241m=\u001b[39m (\n\u001b[0;32m    531\u001b[0m         \u001b[38;5;124mf\u001b[39m\u001b[38;5;124m\"\u001b[39m\u001b[38;5;130;01m\\n\u001b[39;00m\u001b[38;5;124mAll the \u001b[39m\u001b[38;5;132;01m{\u001b[39;00mnum_fits\u001b[38;5;132;01m}\u001b[39;00m\u001b[38;5;124m fits failed.\u001b[39m\u001b[38;5;130;01m\\n\u001b[39;00m\u001b[38;5;124m\"\u001b[39m\n\u001b[0;32m    532\u001b[0m         \u001b[38;5;124m\"\u001b[39m\u001b[38;5;124mIt is very likely that your model is misconfigured.\u001b[39m\u001b[38;5;130;01m\\n\u001b[39;00m\u001b[38;5;124m\"\u001b[39m\n\u001b[0;32m    533\u001b[0m         \u001b[38;5;124m\"\u001b[39m\u001b[38;5;124mYou can try to debug the error by setting error_score=\u001b[39m\u001b[38;5;124m'\u001b[39m\u001b[38;5;124mraise\u001b[39m\u001b[38;5;124m'\u001b[39m\u001b[38;5;124m.\u001b[39m\u001b[38;5;130;01m\\n\u001b[39;00m\u001b[38;5;130;01m\\n\u001b[39;00m\u001b[38;5;124m\"\u001b[39m\n\u001b[0;32m    534\u001b[0m         \u001b[38;5;124mf\u001b[39m\u001b[38;5;124m\"\u001b[39m\u001b[38;5;124mBelow are more details about the failures:\u001b[39m\u001b[38;5;130;01m\\n\u001b[39;00m\u001b[38;5;132;01m{\u001b[39;00mfit_errors_summary\u001b[38;5;132;01m}\u001b[39;00m\u001b[38;5;124m\"\u001b[39m\n\u001b[0;32m    535\u001b[0m     )\n\u001b[1;32m--> 536\u001b[0m     \u001b[38;5;28;01mraise\u001b[39;00m \u001b[38;5;167;01mValueError\u001b[39;00m(all_fits_failed_message)\n\u001b[0;32m    538\u001b[0m \u001b[38;5;28;01melse\u001b[39;00m:\n\u001b[0;32m    539\u001b[0m     some_fits_failed_message \u001b[38;5;241m=\u001b[39m (\n\u001b[0;32m    540\u001b[0m         \u001b[38;5;124mf\u001b[39m\u001b[38;5;124m\"\u001b[39m\u001b[38;5;130;01m\\n\u001b[39;00m\u001b[38;5;132;01m{\u001b[39;00mnum_failed_fits\u001b[38;5;132;01m}\u001b[39;00m\u001b[38;5;124m fits failed out of a total of \u001b[39m\u001b[38;5;132;01m{\u001b[39;00mnum_fits\u001b[38;5;132;01m}\u001b[39;00m\u001b[38;5;124m.\u001b[39m\u001b[38;5;130;01m\\n\u001b[39;00m\u001b[38;5;124m\"\u001b[39m\n\u001b[0;32m    541\u001b[0m         \u001b[38;5;124m\"\u001b[39m\u001b[38;5;124mThe score on these train-test partitions for these parameters\u001b[39m\u001b[38;5;124m\"\u001b[39m\n\u001b[1;32m   (...)\u001b[0m\n\u001b[0;32m    545\u001b[0m         \u001b[38;5;124mf\u001b[39m\u001b[38;5;124m\"\u001b[39m\u001b[38;5;124mBelow are more details about the failures:\u001b[39m\u001b[38;5;130;01m\\n\u001b[39;00m\u001b[38;5;132;01m{\u001b[39;00mfit_errors_summary\u001b[38;5;132;01m}\u001b[39;00m\u001b[38;5;124m\"\u001b[39m\n\u001b[0;32m    546\u001b[0m     )\n",
      "\u001b[1;31mValueError\u001b[0m: \nAll the 10 fits failed.\nIt is very likely that your model is misconfigured.\nYou can try to debug the error by setting error_score='raise'.\n\nBelow are more details about the failures:\n--------------------------------------------------------------------------------\n10 fits failed with the following error:\nTraceback (most recent call last):\n  File \"c:\\PROGRAMDATA\\ANACONDA3\\Lib\\site-packages\\sklearn\\model_selection\\_validation.py\", line 895, in _fit_and_score\n    estimator.fit(X_train, y_train, **fit_params)\n  File \"c:\\PROGRAMDATA\\ANACONDA3\\Lib\\site-packages\\sklearn\\base.py\", line 1474, in wrapper\n    return fit_method(estimator, *args, **kwargs)\n           ^^^^^^^^^^^^^^^^^^^^^^^^^^^^^^^^^^^^^^\n  File \"c:\\PROGRAMDATA\\ANACONDA3\\Lib\\site-packages\\sklearn\\linear_model\\_logistic.py\", line 1201, in fit\n    X, y = self._validate_data(\n           ^^^^^^^^^^^^^^^^^^^^\n  File \"c:\\PROGRAMDATA\\ANACONDA3\\Lib\\site-packages\\sklearn\\base.py\", line 650, in _validate_data\n    X, y = check_X_y(X, y, **check_params)\n           ^^^^^^^^^^^^^^^^^^^^^^^^^^^^^^^\n  File \"c:\\PROGRAMDATA\\ANACONDA3\\Lib\\site-packages\\sklearn\\utils\\validation.py\", line 1263, in check_X_y\n    X = check_array(\n        ^^^^^^^^^^^^\n  File \"c:\\PROGRAMDATA\\ANACONDA3\\Lib\\site-packages\\sklearn\\utils\\validation.py\", line 997, in check_array\n    array = _asarray_with_order(array, order=order, dtype=dtype, xp=xp)\n            ^^^^^^^^^^^^^^^^^^^^^^^^^^^^^^^^^^^^^^^^^^^^^^^^^^^^^^^^^^^\n  File \"c:\\PROGRAMDATA\\ANACONDA3\\Lib\\site-packages\\sklearn\\utils\\_array_api.py\", line 521, in _asarray_with_order\n    array = numpy.asarray(array, order=order, dtype=dtype)\n            ^^^^^^^^^^^^^^^^^^^^^^^^^^^^^^^^^^^^^^^^^^^^^^\nValueError: could not convert string to float: 'Chordata'\n"
     ]
    }
   ],
   "source": [
    "models = []\n",
    "models.append(('LR', LogisticRegression()))\n",
    "models.append(('LDA', LinearDiscriminantAnalysis()))\n",
    "models.append(('KNN', KNeighborsClassifier()))\n",
    "models.append(('CART', DecisionTreeClassifier()))\n",
    "models.append(('NB', GaussianNB()))\n",
    "models.append(('SVM', SVC()))\n",
    "# print(models)\n",
    "# evaluate each model in turn\n",
    "results = []\n",
    "names = []\n",
    "for name, model in models:\n",
    "        kfold = model_selection.KFold(n_splits=10, random_state=None)\n",
    "        cv_results = model_selection.cross_val_score(model, X_train, Y_train, cv=kfold, scoring=scoring)\n",
    "        results.append(cv_results)\n",
    "        names.append(name)\n",
    "        msg = \"%s: %f (%f)\" % (name, cv_results.mean(), cv_results.std())\n",
    "        print(msg)"
   ]
  },
  {
   "cell_type": "markdown",
   "id": "2815776d",
   "metadata": {},
   "source": [
    "visualization"
   ]
  },
  {
   "cell_type": "code",
   "execution_count": 24,
   "id": "97a8bc60",
   "metadata": {},
   "outputs": [
    {
     "data": {
      "application/vnd.plotly.v1+json": {
       "config": {
        "plotlyServerURL": "https://plot.ly"
       },
       "data": [
        {
         "alignmentgroup": "True",
         "hovertemplate": "count=%{x}<br>family=%{marker.color}<extra></extra>",
         "legendgroup": "",
         "marker": {
          "color": [
           88,
           44,
           159,
           68,
           39,
           28,
           181,
           2,
           9,
           32
          ],
          "coloraxis": "coloraxis",
          "pattern": {
           "shape": ""
          }
         },
         "name": "",
         "offsetgroup": "",
         "orientation": "h",
         "showlegend": false,
         "textposition": "auto",
         "type": "bar",
         "x": [
          10,
          9,
          9,
          9,
          8,
          8,
          8,
          7,
          6,
          6
         ],
         "xaxis": "x",
         "y": [
          88,
          44,
          159,
          68,
          39,
          28,
          181,
          2,
          9,
          32
         ],
         "yaxis": "y"
        }
       ],
       "layout": {
        "barmode": "relative",
        "coloraxis": {
         "colorbar": {
          "title": {
           "text": "family"
          }
         },
         "colorscale": [
          [
           0,
           "#0d0887"
          ],
          [
           0.1111111111111111,
           "#46039f"
          ],
          [
           0.2222222222222222,
           "#7201a8"
          ],
          [
           0.3333333333333333,
           "#9c179e"
          ],
          [
           0.4444444444444444,
           "#bd3786"
          ],
          [
           0.5555555555555556,
           "#d8576b"
          ],
          [
           0.6666666666666666,
           "#ed7953"
          ],
          [
           0.7777777777777778,
           "#fb9f3a"
          ],
          [
           0.8888888888888888,
           "#fdca26"
          ],
          [
           1,
           "#f0f921"
          ]
         ]
        },
        "legend": {
         "tracegroupgap": 0
        },
        "template": {
         "data": {
          "bar": [
           {
            "error_x": {
             "color": "#2a3f5f"
            },
            "error_y": {
             "color": "#2a3f5f"
            },
            "marker": {
             "line": {
              "color": "#E5ECF6",
              "width": 0.5
             },
             "pattern": {
              "fillmode": "overlay",
              "size": 10,
              "solidity": 0.2
             }
            },
            "type": "bar"
           }
          ],
          "barpolar": [
           {
            "marker": {
             "line": {
              "color": "#E5ECF6",
              "width": 0.5
             },
             "pattern": {
              "fillmode": "overlay",
              "size": 10,
              "solidity": 0.2
             }
            },
            "type": "barpolar"
           }
          ],
          "carpet": [
           {
            "aaxis": {
             "endlinecolor": "#2a3f5f",
             "gridcolor": "white",
             "linecolor": "white",
             "minorgridcolor": "white",
             "startlinecolor": "#2a3f5f"
            },
            "baxis": {
             "endlinecolor": "#2a3f5f",
             "gridcolor": "white",
             "linecolor": "white",
             "minorgridcolor": "white",
             "startlinecolor": "#2a3f5f"
            },
            "type": "carpet"
           }
          ],
          "choropleth": [
           {
            "colorbar": {
             "outlinewidth": 0,
             "ticks": ""
            },
            "type": "choropleth"
           }
          ],
          "contour": [
           {
            "colorbar": {
             "outlinewidth": 0,
             "ticks": ""
            },
            "colorscale": [
             [
              0,
              "#0d0887"
             ],
             [
              0.1111111111111111,
              "#46039f"
             ],
             [
              0.2222222222222222,
              "#7201a8"
             ],
             [
              0.3333333333333333,
              "#9c179e"
             ],
             [
              0.4444444444444444,
              "#bd3786"
             ],
             [
              0.5555555555555556,
              "#d8576b"
             ],
             [
              0.6666666666666666,
              "#ed7953"
             ],
             [
              0.7777777777777778,
              "#fb9f3a"
             ],
             [
              0.8888888888888888,
              "#fdca26"
             ],
             [
              1,
              "#f0f921"
             ]
            ],
            "type": "contour"
           }
          ],
          "contourcarpet": [
           {
            "colorbar": {
             "outlinewidth": 0,
             "ticks": ""
            },
            "type": "contourcarpet"
           }
          ],
          "heatmap": [
           {
            "colorbar": {
             "outlinewidth": 0,
             "ticks": ""
            },
            "colorscale": [
             [
              0,
              "#0d0887"
             ],
             [
              0.1111111111111111,
              "#46039f"
             ],
             [
              0.2222222222222222,
              "#7201a8"
             ],
             [
              0.3333333333333333,
              "#9c179e"
             ],
             [
              0.4444444444444444,
              "#bd3786"
             ],
             [
              0.5555555555555556,
              "#d8576b"
             ],
             [
              0.6666666666666666,
              "#ed7953"
             ],
             [
              0.7777777777777778,
              "#fb9f3a"
             ],
             [
              0.8888888888888888,
              "#fdca26"
             ],
             [
              1,
              "#f0f921"
             ]
            ],
            "type": "heatmap"
           }
          ],
          "heatmapgl": [
           {
            "colorbar": {
             "outlinewidth": 0,
             "ticks": ""
            },
            "colorscale": [
             [
              0,
              "#0d0887"
             ],
             [
              0.1111111111111111,
              "#46039f"
             ],
             [
              0.2222222222222222,
              "#7201a8"
             ],
             [
              0.3333333333333333,
              "#9c179e"
             ],
             [
              0.4444444444444444,
              "#bd3786"
             ],
             [
              0.5555555555555556,
              "#d8576b"
             ],
             [
              0.6666666666666666,
              "#ed7953"
             ],
             [
              0.7777777777777778,
              "#fb9f3a"
             ],
             [
              0.8888888888888888,
              "#fdca26"
             ],
             [
              1,
              "#f0f921"
             ]
            ],
            "type": "heatmapgl"
           }
          ],
          "histogram": [
           {
            "marker": {
             "pattern": {
              "fillmode": "overlay",
              "size": 10,
              "solidity": 0.2
             }
            },
            "type": "histogram"
           }
          ],
          "histogram2d": [
           {
            "colorbar": {
             "outlinewidth": 0,
             "ticks": ""
            },
            "colorscale": [
             [
              0,
              "#0d0887"
             ],
             [
              0.1111111111111111,
              "#46039f"
             ],
             [
              0.2222222222222222,
              "#7201a8"
             ],
             [
              0.3333333333333333,
              "#9c179e"
             ],
             [
              0.4444444444444444,
              "#bd3786"
             ],
             [
              0.5555555555555556,
              "#d8576b"
             ],
             [
              0.6666666666666666,
              "#ed7953"
             ],
             [
              0.7777777777777778,
              "#fb9f3a"
             ],
             [
              0.8888888888888888,
              "#fdca26"
             ],
             [
              1,
              "#f0f921"
             ]
            ],
            "type": "histogram2d"
           }
          ],
          "histogram2dcontour": [
           {
            "colorbar": {
             "outlinewidth": 0,
             "ticks": ""
            },
            "colorscale": [
             [
              0,
              "#0d0887"
             ],
             [
              0.1111111111111111,
              "#46039f"
             ],
             [
              0.2222222222222222,
              "#7201a8"
             ],
             [
              0.3333333333333333,
              "#9c179e"
             ],
             [
              0.4444444444444444,
              "#bd3786"
             ],
             [
              0.5555555555555556,
              "#d8576b"
             ],
             [
              0.6666666666666666,
              "#ed7953"
             ],
             [
              0.7777777777777778,
              "#fb9f3a"
             ],
             [
              0.8888888888888888,
              "#fdca26"
             ],
             [
              1,
              "#f0f921"
             ]
            ],
            "type": "histogram2dcontour"
           }
          ],
          "mesh3d": [
           {
            "colorbar": {
             "outlinewidth": 0,
             "ticks": ""
            },
            "type": "mesh3d"
           }
          ],
          "parcoords": [
           {
            "line": {
             "colorbar": {
              "outlinewidth": 0,
              "ticks": ""
             }
            },
            "type": "parcoords"
           }
          ],
          "pie": [
           {
            "automargin": true,
            "type": "pie"
           }
          ],
          "scatter": [
           {
            "fillpattern": {
             "fillmode": "overlay",
             "size": 10,
             "solidity": 0.2
            },
            "type": "scatter"
           }
          ],
          "scatter3d": [
           {
            "line": {
             "colorbar": {
              "outlinewidth": 0,
              "ticks": ""
             }
            },
            "marker": {
             "colorbar": {
              "outlinewidth": 0,
              "ticks": ""
             }
            },
            "type": "scatter3d"
           }
          ],
          "scattercarpet": [
           {
            "marker": {
             "colorbar": {
              "outlinewidth": 0,
              "ticks": ""
             }
            },
            "type": "scattercarpet"
           }
          ],
          "scattergeo": [
           {
            "marker": {
             "colorbar": {
              "outlinewidth": 0,
              "ticks": ""
             }
            },
            "type": "scattergeo"
           }
          ],
          "scattergl": [
           {
            "marker": {
             "colorbar": {
              "outlinewidth": 0,
              "ticks": ""
             }
            },
            "type": "scattergl"
           }
          ],
          "scattermapbox": [
           {
            "marker": {
             "colorbar": {
              "outlinewidth": 0,
              "ticks": ""
             }
            },
            "type": "scattermapbox"
           }
          ],
          "scatterpolar": [
           {
            "marker": {
             "colorbar": {
              "outlinewidth": 0,
              "ticks": ""
             }
            },
            "type": "scatterpolar"
           }
          ],
          "scatterpolargl": [
           {
            "marker": {
             "colorbar": {
              "outlinewidth": 0,
              "ticks": ""
             }
            },
            "type": "scatterpolargl"
           }
          ],
          "scatterternary": [
           {
            "marker": {
             "colorbar": {
              "outlinewidth": 0,
              "ticks": ""
             }
            },
            "type": "scatterternary"
           }
          ],
          "surface": [
           {
            "colorbar": {
             "outlinewidth": 0,
             "ticks": ""
            },
            "colorscale": [
             [
              0,
              "#0d0887"
             ],
             [
              0.1111111111111111,
              "#46039f"
             ],
             [
              0.2222222222222222,
              "#7201a8"
             ],
             [
              0.3333333333333333,
              "#9c179e"
             ],
             [
              0.4444444444444444,
              "#bd3786"
             ],
             [
              0.5555555555555556,
              "#d8576b"
             ],
             [
              0.6666666666666666,
              "#ed7953"
             ],
             [
              0.7777777777777778,
              "#fb9f3a"
             ],
             [
              0.8888888888888888,
              "#fdca26"
             ],
             [
              1,
              "#f0f921"
             ]
            ],
            "type": "surface"
           }
          ],
          "table": [
           {
            "cells": {
             "fill": {
              "color": "#EBF0F8"
             },
             "line": {
              "color": "white"
             }
            },
            "header": {
             "fill": {
              "color": "#C8D4E3"
             },
             "line": {
              "color": "white"
             }
            },
            "type": "table"
           }
          ]
         },
         "layout": {
          "annotationdefaults": {
           "arrowcolor": "#2a3f5f",
           "arrowhead": 0,
           "arrowwidth": 1
          },
          "autotypenumbers": "strict",
          "coloraxis": {
           "colorbar": {
            "outlinewidth": 0,
            "ticks": ""
           }
          },
          "colorscale": {
           "diverging": [
            [
             0,
             "#8e0152"
            ],
            [
             0.1,
             "#c51b7d"
            ],
            [
             0.2,
             "#de77ae"
            ],
            [
             0.3,
             "#f1b6da"
            ],
            [
             0.4,
             "#fde0ef"
            ],
            [
             0.5,
             "#f7f7f7"
            ],
            [
             0.6,
             "#e6f5d0"
            ],
            [
             0.7,
             "#b8e186"
            ],
            [
             0.8,
             "#7fbc41"
            ],
            [
             0.9,
             "#4d9221"
            ],
            [
             1,
             "#276419"
            ]
           ],
           "sequential": [
            [
             0,
             "#0d0887"
            ],
            [
             0.1111111111111111,
             "#46039f"
            ],
            [
             0.2222222222222222,
             "#7201a8"
            ],
            [
             0.3333333333333333,
             "#9c179e"
            ],
            [
             0.4444444444444444,
             "#bd3786"
            ],
            [
             0.5555555555555556,
             "#d8576b"
            ],
            [
             0.6666666666666666,
             "#ed7953"
            ],
            [
             0.7777777777777778,
             "#fb9f3a"
            ],
            [
             0.8888888888888888,
             "#fdca26"
            ],
            [
             1,
             "#f0f921"
            ]
           ],
           "sequentialminus": [
            [
             0,
             "#0d0887"
            ],
            [
             0.1111111111111111,
             "#46039f"
            ],
            [
             0.2222222222222222,
             "#7201a8"
            ],
            [
             0.3333333333333333,
             "#9c179e"
            ],
            [
             0.4444444444444444,
             "#bd3786"
            ],
            [
             0.5555555555555556,
             "#d8576b"
            ],
            [
             0.6666666666666666,
             "#ed7953"
            ],
            [
             0.7777777777777778,
             "#fb9f3a"
            ],
            [
             0.8888888888888888,
             "#fdca26"
            ],
            [
             1,
             "#f0f921"
            ]
           ]
          },
          "colorway": [
           "#636efa",
           "#EF553B",
           "#00cc96",
           "#ab63fa",
           "#FFA15A",
           "#19d3f3",
           "#FF6692",
           "#B6E880",
           "#FF97FF",
           "#FECB52"
          ],
          "font": {
           "color": "#2a3f5f"
          },
          "geo": {
           "bgcolor": "white",
           "lakecolor": "white",
           "landcolor": "#E5ECF6",
           "showlakes": true,
           "showland": true,
           "subunitcolor": "white"
          },
          "hoverlabel": {
           "align": "left"
          },
          "hovermode": "closest",
          "mapbox": {
           "style": "light"
          },
          "paper_bgcolor": "white",
          "plot_bgcolor": "#E5ECF6",
          "polar": {
           "angularaxis": {
            "gridcolor": "white",
            "linecolor": "white",
            "ticks": ""
           },
           "bgcolor": "#E5ECF6",
           "radialaxis": {
            "gridcolor": "white",
            "linecolor": "white",
            "ticks": ""
           }
          },
          "scene": {
           "xaxis": {
            "backgroundcolor": "#E5ECF6",
            "gridcolor": "white",
            "gridwidth": 2,
            "linecolor": "white",
            "showbackground": true,
            "ticks": "",
            "zerolinecolor": "white"
           },
           "yaxis": {
            "backgroundcolor": "#E5ECF6",
            "gridcolor": "white",
            "gridwidth": 2,
            "linecolor": "white",
            "showbackground": true,
            "ticks": "",
            "zerolinecolor": "white"
           },
           "zaxis": {
            "backgroundcolor": "#E5ECF6",
            "gridcolor": "white",
            "gridwidth": 2,
            "linecolor": "white",
            "showbackground": true,
            "ticks": "",
            "zerolinecolor": "white"
           }
          },
          "shapedefaults": {
           "line": {
            "color": "#2a3f5f"
           }
          },
          "ternary": {
           "aaxis": {
            "gridcolor": "white",
            "linecolor": "white",
            "ticks": ""
           },
           "baxis": {
            "gridcolor": "white",
            "linecolor": "white",
            "ticks": ""
           },
           "bgcolor": "#E5ECF6",
           "caxis": {
            "gridcolor": "white",
            "linecolor": "white",
            "ticks": ""
           }
          },
          "title": {
           "x": 0.05
          },
          "xaxis": {
           "automargin": true,
           "gridcolor": "white",
           "linecolor": "white",
           "ticks": "",
           "title": {
            "standoff": 15
           },
           "zerolinecolor": "white",
           "zerolinewidth": 2
          },
          "yaxis": {
           "automargin": true,
           "gridcolor": "white",
           "linecolor": "white",
           "ticks": "",
           "title": {
            "standoff": 15
           },
           "zerolinecolor": "white",
           "zerolinewidth": 2
          }
         }
        },
        "title": {
         "text": "Families by Species Count"
        },
        "xaxis": {
         "anchor": "y",
         "domain": [
          0,
          1
         ],
         "title": {
          "text": "count"
         }
        },
        "yaxis": {
         "anchor": "x",
         "domain": [
          0,
          1
         ],
         "title": {
          "text": "family"
         }
        }
       }
      }
     },
     "metadata": {},
     "output_type": "display_data"
    }
   ],
   "source": [
    "# Top 10 Families by Species Count\n",
    "import plotly.express as px\n",
    "top_families = dataset['family'].value_counts().nlargest(10).reset_index()\n",
    "top_families.columns = ['family', 'count']\n",
    "\n",
    "fig = px.bar(top_families, x='count', y='family', orientation='h', color='family',\n",
    "             title='Families by Species Count')\n",
    "fig.show()\n"
   ]
  },
  {
   "cell_type": "code",
   "execution_count": 25,
   "id": "40828785",
   "metadata": {},
   "outputs": [
    {
     "data": {
      "application/vnd.plotly.v1+json": {
       "config": {
        "plotlyServerURL": "https://plot.ly"
       },
       "data": [
        {
         "alignmentgroup": "True",
         "hovertemplate": "class=%{marker.color}<br>count=%{y}<extra></extra>",
         "legendgroup": "",
         "marker": {
          "color": [
           5,
           16,
           18,
           1,
           9,
           14,
           2,
           0,
           12,
           6,
           13,
           4,
           17,
           11,
           8,
           10,
           3,
           15,
           7
          ],
          "coloraxis": "coloraxis",
          "pattern": {
           "shape": ""
          }
         },
         "name": "",
         "offsetgroup": "",
         "orientation": "v",
         "showlegend": false,
         "textposition": "auto",
         "type": "bar",
         "x": [
          5,
          16,
          18,
          1,
          9,
          14,
          2,
          0,
          12,
          6,
          13,
          4,
          17,
          11,
          8,
          10,
          3,
          15,
          7
         ],
         "xaxis": "x",
         "y": [
          85,
          66,
          47,
          36,
          36,
          28,
          27,
          25,
          12,
          11,
          5,
          5,
          4,
          4,
          3,
          2,
          2,
          1,
          1
         ],
         "yaxis": "y"
        }
       ],
       "layout": {
        "barmode": "relative",
        "coloraxis": {
         "colorbar": {
          "title": {
           "text": "class"
          }
         },
         "colorscale": [
          [
           0,
           "#0d0887"
          ],
          [
           0.1111111111111111,
           "#46039f"
          ],
          [
           0.2222222222222222,
           "#7201a8"
          ],
          [
           0.3333333333333333,
           "#9c179e"
          ],
          [
           0.4444444444444444,
           "#bd3786"
          ],
          [
           0.5555555555555556,
           "#d8576b"
          ],
          [
           0.6666666666666666,
           "#ed7953"
          ],
          [
           0.7777777777777778,
           "#fb9f3a"
          ],
          [
           0.8888888888888888,
           "#fdca26"
          ],
          [
           1,
           "#f0f921"
          ]
         ]
        },
        "legend": {
         "tracegroupgap": 0
        },
        "template": {
         "data": {
          "bar": [
           {
            "error_x": {
             "color": "#2a3f5f"
            },
            "error_y": {
             "color": "#2a3f5f"
            },
            "marker": {
             "line": {
              "color": "#E5ECF6",
              "width": 0.5
             },
             "pattern": {
              "fillmode": "overlay",
              "size": 10,
              "solidity": 0.2
             }
            },
            "type": "bar"
           }
          ],
          "barpolar": [
           {
            "marker": {
             "line": {
              "color": "#E5ECF6",
              "width": 0.5
             },
             "pattern": {
              "fillmode": "overlay",
              "size": 10,
              "solidity": 0.2
             }
            },
            "type": "barpolar"
           }
          ],
          "carpet": [
           {
            "aaxis": {
             "endlinecolor": "#2a3f5f",
             "gridcolor": "white",
             "linecolor": "white",
             "minorgridcolor": "white",
             "startlinecolor": "#2a3f5f"
            },
            "baxis": {
             "endlinecolor": "#2a3f5f",
             "gridcolor": "white",
             "linecolor": "white",
             "minorgridcolor": "white",
             "startlinecolor": "#2a3f5f"
            },
            "type": "carpet"
           }
          ],
          "choropleth": [
           {
            "colorbar": {
             "outlinewidth": 0,
             "ticks": ""
            },
            "type": "choropleth"
           }
          ],
          "contour": [
           {
            "colorbar": {
             "outlinewidth": 0,
             "ticks": ""
            },
            "colorscale": [
             [
              0,
              "#0d0887"
             ],
             [
              0.1111111111111111,
              "#46039f"
             ],
             [
              0.2222222222222222,
              "#7201a8"
             ],
             [
              0.3333333333333333,
              "#9c179e"
             ],
             [
              0.4444444444444444,
              "#bd3786"
             ],
             [
              0.5555555555555556,
              "#d8576b"
             ],
             [
              0.6666666666666666,
              "#ed7953"
             ],
             [
              0.7777777777777778,
              "#fb9f3a"
             ],
             [
              0.8888888888888888,
              "#fdca26"
             ],
             [
              1,
              "#f0f921"
             ]
            ],
            "type": "contour"
           }
          ],
          "contourcarpet": [
           {
            "colorbar": {
             "outlinewidth": 0,
             "ticks": ""
            },
            "type": "contourcarpet"
           }
          ],
          "heatmap": [
           {
            "colorbar": {
             "outlinewidth": 0,
             "ticks": ""
            },
            "colorscale": [
             [
              0,
              "#0d0887"
             ],
             [
              0.1111111111111111,
              "#46039f"
             ],
             [
              0.2222222222222222,
              "#7201a8"
             ],
             [
              0.3333333333333333,
              "#9c179e"
             ],
             [
              0.4444444444444444,
              "#bd3786"
             ],
             [
              0.5555555555555556,
              "#d8576b"
             ],
             [
              0.6666666666666666,
              "#ed7953"
             ],
             [
              0.7777777777777778,
              "#fb9f3a"
             ],
             [
              0.8888888888888888,
              "#fdca26"
             ],
             [
              1,
              "#f0f921"
             ]
            ],
            "type": "heatmap"
           }
          ],
          "heatmapgl": [
           {
            "colorbar": {
             "outlinewidth": 0,
             "ticks": ""
            },
            "colorscale": [
             [
              0,
              "#0d0887"
             ],
             [
              0.1111111111111111,
              "#46039f"
             ],
             [
              0.2222222222222222,
              "#7201a8"
             ],
             [
              0.3333333333333333,
              "#9c179e"
             ],
             [
              0.4444444444444444,
              "#bd3786"
             ],
             [
              0.5555555555555556,
              "#d8576b"
             ],
             [
              0.6666666666666666,
              "#ed7953"
             ],
             [
              0.7777777777777778,
              "#fb9f3a"
             ],
             [
              0.8888888888888888,
              "#fdca26"
             ],
             [
              1,
              "#f0f921"
             ]
            ],
            "type": "heatmapgl"
           }
          ],
          "histogram": [
           {
            "marker": {
             "pattern": {
              "fillmode": "overlay",
              "size": 10,
              "solidity": 0.2
             }
            },
            "type": "histogram"
           }
          ],
          "histogram2d": [
           {
            "colorbar": {
             "outlinewidth": 0,
             "ticks": ""
            },
            "colorscale": [
             [
              0,
              "#0d0887"
             ],
             [
              0.1111111111111111,
              "#46039f"
             ],
             [
              0.2222222222222222,
              "#7201a8"
             ],
             [
              0.3333333333333333,
              "#9c179e"
             ],
             [
              0.4444444444444444,
              "#bd3786"
             ],
             [
              0.5555555555555556,
              "#d8576b"
             ],
             [
              0.6666666666666666,
              "#ed7953"
             ],
             [
              0.7777777777777778,
              "#fb9f3a"
             ],
             [
              0.8888888888888888,
              "#fdca26"
             ],
             [
              1,
              "#f0f921"
             ]
            ],
            "type": "histogram2d"
           }
          ],
          "histogram2dcontour": [
           {
            "colorbar": {
             "outlinewidth": 0,
             "ticks": ""
            },
            "colorscale": [
             [
              0,
              "#0d0887"
             ],
             [
              0.1111111111111111,
              "#46039f"
             ],
             [
              0.2222222222222222,
              "#7201a8"
             ],
             [
              0.3333333333333333,
              "#9c179e"
             ],
             [
              0.4444444444444444,
              "#bd3786"
             ],
             [
              0.5555555555555556,
              "#d8576b"
             ],
             [
              0.6666666666666666,
              "#ed7953"
             ],
             [
              0.7777777777777778,
              "#fb9f3a"
             ],
             [
              0.8888888888888888,
              "#fdca26"
             ],
             [
              1,
              "#f0f921"
             ]
            ],
            "type": "histogram2dcontour"
           }
          ],
          "mesh3d": [
           {
            "colorbar": {
             "outlinewidth": 0,
             "ticks": ""
            },
            "type": "mesh3d"
           }
          ],
          "parcoords": [
           {
            "line": {
             "colorbar": {
              "outlinewidth": 0,
              "ticks": ""
             }
            },
            "type": "parcoords"
           }
          ],
          "pie": [
           {
            "automargin": true,
            "type": "pie"
           }
          ],
          "scatter": [
           {
            "fillpattern": {
             "fillmode": "overlay",
             "size": 10,
             "solidity": 0.2
            },
            "type": "scatter"
           }
          ],
          "scatter3d": [
           {
            "line": {
             "colorbar": {
              "outlinewidth": 0,
              "ticks": ""
             }
            },
            "marker": {
             "colorbar": {
              "outlinewidth": 0,
              "ticks": ""
             }
            },
            "type": "scatter3d"
           }
          ],
          "scattercarpet": [
           {
            "marker": {
             "colorbar": {
              "outlinewidth": 0,
              "ticks": ""
             }
            },
            "type": "scattercarpet"
           }
          ],
          "scattergeo": [
           {
            "marker": {
             "colorbar": {
              "outlinewidth": 0,
              "ticks": ""
             }
            },
            "type": "scattergeo"
           }
          ],
          "scattergl": [
           {
            "marker": {
             "colorbar": {
              "outlinewidth": 0,
              "ticks": ""
             }
            },
            "type": "scattergl"
           }
          ],
          "scattermapbox": [
           {
            "marker": {
             "colorbar": {
              "outlinewidth": 0,
              "ticks": ""
             }
            },
            "type": "scattermapbox"
           }
          ],
          "scatterpolar": [
           {
            "marker": {
             "colorbar": {
              "outlinewidth": 0,
              "ticks": ""
             }
            },
            "type": "scatterpolar"
           }
          ],
          "scatterpolargl": [
           {
            "marker": {
             "colorbar": {
              "outlinewidth": 0,
              "ticks": ""
             }
            },
            "type": "scatterpolargl"
           }
          ],
          "scatterternary": [
           {
            "marker": {
             "colorbar": {
              "outlinewidth": 0,
              "ticks": ""
             }
            },
            "type": "scatterternary"
           }
          ],
          "surface": [
           {
            "colorbar": {
             "outlinewidth": 0,
             "ticks": ""
            },
            "colorscale": [
             [
              0,
              "#0d0887"
             ],
             [
              0.1111111111111111,
              "#46039f"
             ],
             [
              0.2222222222222222,
              "#7201a8"
             ],
             [
              0.3333333333333333,
              "#9c179e"
             ],
             [
              0.4444444444444444,
              "#bd3786"
             ],
             [
              0.5555555555555556,
              "#d8576b"
             ],
             [
              0.6666666666666666,
              "#ed7953"
             ],
             [
              0.7777777777777778,
              "#fb9f3a"
             ],
             [
              0.8888888888888888,
              "#fdca26"
             ],
             [
              1,
              "#f0f921"
             ]
            ],
            "type": "surface"
           }
          ],
          "table": [
           {
            "cells": {
             "fill": {
              "color": "#EBF0F8"
             },
             "line": {
              "color": "white"
             }
            },
            "header": {
             "fill": {
              "color": "#C8D4E3"
             },
             "line": {
              "color": "white"
             }
            },
            "type": "table"
           }
          ]
         },
         "layout": {
          "annotationdefaults": {
           "arrowcolor": "#2a3f5f",
           "arrowhead": 0,
           "arrowwidth": 1
          },
          "autotypenumbers": "strict",
          "coloraxis": {
           "colorbar": {
            "outlinewidth": 0,
            "ticks": ""
           }
          },
          "colorscale": {
           "diverging": [
            [
             0,
             "#8e0152"
            ],
            [
             0.1,
             "#c51b7d"
            ],
            [
             0.2,
             "#de77ae"
            ],
            [
             0.3,
             "#f1b6da"
            ],
            [
             0.4,
             "#fde0ef"
            ],
            [
             0.5,
             "#f7f7f7"
            ],
            [
             0.6,
             "#e6f5d0"
            ],
            [
             0.7,
             "#b8e186"
            ],
            [
             0.8,
             "#7fbc41"
            ],
            [
             0.9,
             "#4d9221"
            ],
            [
             1,
             "#276419"
            ]
           ],
           "sequential": [
            [
             0,
             "#0d0887"
            ],
            [
             0.1111111111111111,
             "#46039f"
            ],
            [
             0.2222222222222222,
             "#7201a8"
            ],
            [
             0.3333333333333333,
             "#9c179e"
            ],
            [
             0.4444444444444444,
             "#bd3786"
            ],
            [
             0.5555555555555556,
             "#d8576b"
            ],
            [
             0.6666666666666666,
             "#ed7953"
            ],
            [
             0.7777777777777778,
             "#fb9f3a"
            ],
            [
             0.8888888888888888,
             "#fdca26"
            ],
            [
             1,
             "#f0f921"
            ]
           ],
           "sequentialminus": [
            [
             0,
             "#0d0887"
            ],
            [
             0.1111111111111111,
             "#46039f"
            ],
            [
             0.2222222222222222,
             "#7201a8"
            ],
            [
             0.3333333333333333,
             "#9c179e"
            ],
            [
             0.4444444444444444,
             "#bd3786"
            ],
            [
             0.5555555555555556,
             "#d8576b"
            ],
            [
             0.6666666666666666,
             "#ed7953"
            ],
            [
             0.7777777777777778,
             "#fb9f3a"
            ],
            [
             0.8888888888888888,
             "#fdca26"
            ],
            [
             1,
             "#f0f921"
            ]
           ]
          },
          "colorway": [
           "#636efa",
           "#EF553B",
           "#00cc96",
           "#ab63fa",
           "#FFA15A",
           "#19d3f3",
           "#FF6692",
           "#B6E880",
           "#FF97FF",
           "#FECB52"
          ],
          "font": {
           "color": "#2a3f5f"
          },
          "geo": {
           "bgcolor": "white",
           "lakecolor": "white",
           "landcolor": "#E5ECF6",
           "showlakes": true,
           "showland": true,
           "subunitcolor": "white"
          },
          "hoverlabel": {
           "align": "left"
          },
          "hovermode": "closest",
          "mapbox": {
           "style": "light"
          },
          "paper_bgcolor": "white",
          "plot_bgcolor": "#E5ECF6",
          "polar": {
           "angularaxis": {
            "gridcolor": "white",
            "linecolor": "white",
            "ticks": ""
           },
           "bgcolor": "#E5ECF6",
           "radialaxis": {
            "gridcolor": "white",
            "linecolor": "white",
            "ticks": ""
           }
          },
          "scene": {
           "xaxis": {
            "backgroundcolor": "#E5ECF6",
            "gridcolor": "white",
            "gridwidth": 2,
            "linecolor": "white",
            "showbackground": true,
            "ticks": "",
            "zerolinecolor": "white"
           },
           "yaxis": {
            "backgroundcolor": "#E5ECF6",
            "gridcolor": "white",
            "gridwidth": 2,
            "linecolor": "white",
            "showbackground": true,
            "ticks": "",
            "zerolinecolor": "white"
           },
           "zaxis": {
            "backgroundcolor": "#E5ECF6",
            "gridcolor": "white",
            "gridwidth": 2,
            "linecolor": "white",
            "showbackground": true,
            "ticks": "",
            "zerolinecolor": "white"
           }
          },
          "shapedefaults": {
           "line": {
            "color": "#2a3f5f"
           }
          },
          "ternary": {
           "aaxis": {
            "gridcolor": "white",
            "linecolor": "white",
            "ticks": ""
           },
           "baxis": {
            "gridcolor": "white",
            "linecolor": "white",
            "ticks": ""
           },
           "bgcolor": "#E5ECF6",
           "caxis": {
            "gridcolor": "white",
            "linecolor": "white",
            "ticks": ""
           }
          },
          "title": {
           "x": 0.05
          },
          "xaxis": {
           "automargin": true,
           "gridcolor": "white",
           "linecolor": "white",
           "ticks": "",
           "title": {
            "standoff": 15
           },
           "zerolinecolor": "white",
           "zerolinewidth": 2
          },
          "yaxis": {
           "automargin": true,
           "gridcolor": "white",
           "linecolor": "white",
           "ticks": "",
           "title": {
            "standoff": 15
           },
           "zerolinecolor": "white",
           "zerolinewidth": 2
          }
         }
        },
        "title": {
         "text": "Histogram species Count by Class"
        },
        "xaxis": {
         "anchor": "y",
         "domain": [
          0,
          1
         ],
         "title": {
          "text": "class"
         }
        },
        "yaxis": {
         "anchor": "x",
         "domain": [
          0,
          1
         ],
         "title": {
          "text": "count"
         }
        }
       }
      }
     },
     "metadata": {},
     "output_type": "display_data"
    }
   ],
   "source": [
    "# Species count by Class\n",
    "class_count = dataset['class'].value_counts().reset_index()\n",
    "class_count.columns = ['class', 'count']\n",
    "\n",
    "fig = px.bar(class_count, x='class', y='count', color='class',\n",
    "             title='Histogram species Count by Class')\n",
    "fig.show()\n"
   ]
  },
  {
   "cell_type": "code",
   "execution_count": 26,
   "id": "c1c9b7cd",
   "metadata": {},
   "outputs": [
    {
     "data": {
      "application/vnd.plotly.v1+json": {
       "config": {
        "plotlyServerURL": "https://plot.ly"
       },
       "data": [
        {
         "customdata": [
          [
           "Chordata",
           5
          ],
          [
           "Chordata",
           16
          ],
          [
           "Chordata",
           18
          ],
          [
           "Chordata",
           1
          ],
          [
           "Chordata",
           9
          ],
          [
           "Chordata",
           14
          ],
          [
           "Chordata",
           2
          ],
          [
           "Chordata",
           0
          ],
          [
           "Chordata",
           12
          ],
          [
           "Chordata",
           6
          ],
          [
           "Chordata",
           13
          ],
          [
           "Chordata",
           4
          ],
          [
           "Chordata",
           17
          ],
          [
           "Chordata",
           11
          ],
          [
           "Chordata",
           8
          ],
          [
           "Chordata",
           10
          ],
          [
           "Chordata",
           3
          ],
          [
           "Chordata",
           15
          ],
          [
           "Chordata",
           7
          ],
          [
           "Arthropoda",
           5
          ],
          [
           "Arthropoda",
           16
          ],
          [
           "Arthropoda",
           18
          ],
          [
           "Arthropoda",
           1
          ],
          [
           "Arthropoda",
           9
          ],
          [
           "Arthropoda",
           14
          ],
          [
           "Arthropoda",
           2
          ],
          [
           "Arthropoda",
           0
          ],
          [
           "Arthropoda",
           12
          ],
          [
           "Arthropoda",
           6
          ],
          [
           "Arthropoda",
           13
          ],
          [
           "Arthropoda",
           4
          ],
          [
           "Arthropoda",
           17
          ],
          [
           "Arthropoda",
           11
          ],
          [
           "Arthropoda",
           8
          ],
          [
           "Arthropoda",
           10
          ],
          [
           "Arthropoda",
           3
          ],
          [
           "Arthropoda",
           15
          ],
          [
           "Arthropoda",
           7
          ],
          [
           "Cnidaria",
           5
          ],
          [
           "Cnidaria",
           16
          ],
          [
           "Cnidaria",
           18
          ],
          [
           "Cnidaria",
           1
          ],
          [
           "Cnidaria",
           9
          ],
          [
           "Cnidaria",
           14
          ],
          [
           "Cnidaria",
           2
          ],
          [
           "Cnidaria",
           0
          ],
          [
           "Cnidaria",
           12
          ],
          [
           "Cnidaria",
           6
          ],
          [
           "Cnidaria",
           13
          ],
          [
           "Cnidaria",
           4
          ],
          [
           "Cnidaria",
           17
          ],
          [
           "Cnidaria",
           11
          ],
          [
           "Cnidaria",
           8
          ],
          [
           "Cnidaria",
           10
          ],
          [
           "Cnidaria",
           3
          ],
          [
           "Cnidaria",
           15
          ],
          [
           "Cnidaria",
           7
          ],
          [
           "Mollusca",
           5
          ],
          [
           "Mollusca",
           16
          ],
          [
           "Mollusca",
           18
          ],
          [
           "Mollusca",
           1
          ],
          [
           "Mollusca",
           9
          ],
          [
           "Mollusca",
           14
          ],
          [
           "Mollusca",
           2
          ],
          [
           "Mollusca",
           0
          ],
          [
           "Mollusca",
           12
          ],
          [
           "Mollusca",
           6
          ],
          [
           "Mollusca",
           13
          ],
          [
           "Mollusca",
           4
          ],
          [
           "Mollusca",
           17
          ],
          [
           "Mollusca",
           11
          ],
          [
           "Mollusca",
           8
          ],
          [
           "Mollusca",
           10
          ],
          [
           "Mollusca",
           3
          ],
          [
           "Mollusca",
           15
          ],
          [
           "Mollusca",
           7
          ],
          [
           "Echinodermata",
           5
          ],
          [
           "Echinodermata",
           16
          ],
          [
           "Echinodermata",
           18
          ],
          [
           "Echinodermata",
           1
          ],
          [
           "Echinodermata",
           9
          ],
          [
           "Echinodermata",
           14
          ],
          [
           "Echinodermata",
           2
          ],
          [
           "Echinodermata",
           0
          ],
          [
           "Echinodermata",
           12
          ],
          [
           "Echinodermata",
           6
          ],
          [
           "Echinodermata",
           13
          ],
          [
           "Echinodermata",
           4
          ],
          [
           "Echinodermata",
           17
          ],
          [
           "Echinodermata",
           11
          ],
          [
           "Echinodermata",
           8
          ],
          [
           "Echinodermata",
           10
          ],
          [
           "Echinodermata",
           3
          ],
          [
           "Echinodermata",
           15
          ],
          [
           "Echinodermata",
           7
          ]
         ],
         "hovertemplate": "Phylum Count=%{x}<br>Class Count=%{y}<br>phylum=%{customdata[0]}<br>class=%{customdata[1]}<extra></extra>",
         "legendgroup": "",
         "marker": {
          "color": "#636efa",
          "symbol": "circle"
         },
         "mode": "markers",
         "name": "",
         "orientation": "v",
         "showlegend": false,
         "type": "scatter",
         "x": [
          295,
          295,
          295,
          295,
          295,
          295,
          295,
          295,
          295,
          295,
          295,
          295,
          295,
          295,
          295,
          295,
          295,
          295,
          295,
          32,
          32,
          32,
          32,
          32,
          32,
          32,
          32,
          32,
          32,
          32,
          32,
          32,
          32,
          32,
          32,
          32,
          32,
          32,
          27,
          27,
          27,
          27,
          27,
          27,
          27,
          27,
          27,
          27,
          27,
          27,
          27,
          27,
          27,
          27,
          27,
          27,
          27,
          26,
          26,
          26,
          26,
          26,
          26,
          26,
          26,
          26,
          26,
          26,
          26,
          26,
          26,
          26,
          26,
          26,
          26,
          26,
          20,
          20,
          20,
          20,
          20,
          20,
          20,
          20,
          20,
          20,
          20,
          20,
          20,
          20,
          20,
          20,
          20,
          20,
          20
         ],
         "xaxis": "x",
         "y": [
          85,
          66,
          47,
          36,
          36,
          28,
          27,
          25,
          12,
          11,
          5,
          5,
          4,
          4,
          3,
          2,
          2,
          1,
          1,
          85,
          66,
          47,
          36,
          36,
          28,
          27,
          25,
          12,
          11,
          5,
          5,
          4,
          4,
          3,
          2,
          2,
          1,
          1,
          85,
          66,
          47,
          36,
          36,
          28,
          27,
          25,
          12,
          11,
          5,
          5,
          4,
          4,
          3,
          2,
          2,
          1,
          1,
          85,
          66,
          47,
          36,
          36,
          28,
          27,
          25,
          12,
          11,
          5,
          5,
          4,
          4,
          3,
          2,
          2,
          1,
          1,
          85,
          66,
          47,
          36,
          36,
          28,
          27,
          25,
          12,
          11,
          5,
          5,
          4,
          4,
          3,
          2,
          2,
          1,
          1
         ],
         "yaxis": "y"
        }
       ],
       "layout": {
        "legend": {
         "tracegroupgap": 0
        },
        "template": {
         "data": {
          "bar": [
           {
            "error_x": {
             "color": "#2a3f5f"
            },
            "error_y": {
             "color": "#2a3f5f"
            },
            "marker": {
             "line": {
              "color": "#E5ECF6",
              "width": 0.5
             },
             "pattern": {
              "fillmode": "overlay",
              "size": 10,
              "solidity": 0.2
             }
            },
            "type": "bar"
           }
          ],
          "barpolar": [
           {
            "marker": {
             "line": {
              "color": "#E5ECF6",
              "width": 0.5
             },
             "pattern": {
              "fillmode": "overlay",
              "size": 10,
              "solidity": 0.2
             }
            },
            "type": "barpolar"
           }
          ],
          "carpet": [
           {
            "aaxis": {
             "endlinecolor": "#2a3f5f",
             "gridcolor": "white",
             "linecolor": "white",
             "minorgridcolor": "white",
             "startlinecolor": "#2a3f5f"
            },
            "baxis": {
             "endlinecolor": "#2a3f5f",
             "gridcolor": "white",
             "linecolor": "white",
             "minorgridcolor": "white",
             "startlinecolor": "#2a3f5f"
            },
            "type": "carpet"
           }
          ],
          "choropleth": [
           {
            "colorbar": {
             "outlinewidth": 0,
             "ticks": ""
            },
            "type": "choropleth"
           }
          ],
          "contour": [
           {
            "colorbar": {
             "outlinewidth": 0,
             "ticks": ""
            },
            "colorscale": [
             [
              0,
              "#0d0887"
             ],
             [
              0.1111111111111111,
              "#46039f"
             ],
             [
              0.2222222222222222,
              "#7201a8"
             ],
             [
              0.3333333333333333,
              "#9c179e"
             ],
             [
              0.4444444444444444,
              "#bd3786"
             ],
             [
              0.5555555555555556,
              "#d8576b"
             ],
             [
              0.6666666666666666,
              "#ed7953"
             ],
             [
              0.7777777777777778,
              "#fb9f3a"
             ],
             [
              0.8888888888888888,
              "#fdca26"
             ],
             [
              1,
              "#f0f921"
             ]
            ],
            "type": "contour"
           }
          ],
          "contourcarpet": [
           {
            "colorbar": {
             "outlinewidth": 0,
             "ticks": ""
            },
            "type": "contourcarpet"
           }
          ],
          "heatmap": [
           {
            "colorbar": {
             "outlinewidth": 0,
             "ticks": ""
            },
            "colorscale": [
             [
              0,
              "#0d0887"
             ],
             [
              0.1111111111111111,
              "#46039f"
             ],
             [
              0.2222222222222222,
              "#7201a8"
             ],
             [
              0.3333333333333333,
              "#9c179e"
             ],
             [
              0.4444444444444444,
              "#bd3786"
             ],
             [
              0.5555555555555556,
              "#d8576b"
             ],
             [
              0.6666666666666666,
              "#ed7953"
             ],
             [
              0.7777777777777778,
              "#fb9f3a"
             ],
             [
              0.8888888888888888,
              "#fdca26"
             ],
             [
              1,
              "#f0f921"
             ]
            ],
            "type": "heatmap"
           }
          ],
          "heatmapgl": [
           {
            "colorbar": {
             "outlinewidth": 0,
             "ticks": ""
            },
            "colorscale": [
             [
              0,
              "#0d0887"
             ],
             [
              0.1111111111111111,
              "#46039f"
             ],
             [
              0.2222222222222222,
              "#7201a8"
             ],
             [
              0.3333333333333333,
              "#9c179e"
             ],
             [
              0.4444444444444444,
              "#bd3786"
             ],
             [
              0.5555555555555556,
              "#d8576b"
             ],
             [
              0.6666666666666666,
              "#ed7953"
             ],
             [
              0.7777777777777778,
              "#fb9f3a"
             ],
             [
              0.8888888888888888,
              "#fdca26"
             ],
             [
              1,
              "#f0f921"
             ]
            ],
            "type": "heatmapgl"
           }
          ],
          "histogram": [
           {
            "marker": {
             "pattern": {
              "fillmode": "overlay",
              "size": 10,
              "solidity": 0.2
             }
            },
            "type": "histogram"
           }
          ],
          "histogram2d": [
           {
            "colorbar": {
             "outlinewidth": 0,
             "ticks": ""
            },
            "colorscale": [
             [
              0,
              "#0d0887"
             ],
             [
              0.1111111111111111,
              "#46039f"
             ],
             [
              0.2222222222222222,
              "#7201a8"
             ],
             [
              0.3333333333333333,
              "#9c179e"
             ],
             [
              0.4444444444444444,
              "#bd3786"
             ],
             [
              0.5555555555555556,
              "#d8576b"
             ],
             [
              0.6666666666666666,
              "#ed7953"
             ],
             [
              0.7777777777777778,
              "#fb9f3a"
             ],
             [
              0.8888888888888888,
              "#fdca26"
             ],
             [
              1,
              "#f0f921"
             ]
            ],
            "type": "histogram2d"
           }
          ],
          "histogram2dcontour": [
           {
            "colorbar": {
             "outlinewidth": 0,
             "ticks": ""
            },
            "colorscale": [
             [
              0,
              "#0d0887"
             ],
             [
              0.1111111111111111,
              "#46039f"
             ],
             [
              0.2222222222222222,
              "#7201a8"
             ],
             [
              0.3333333333333333,
              "#9c179e"
             ],
             [
              0.4444444444444444,
              "#bd3786"
             ],
             [
              0.5555555555555556,
              "#d8576b"
             ],
             [
              0.6666666666666666,
              "#ed7953"
             ],
             [
              0.7777777777777778,
              "#fb9f3a"
             ],
             [
              0.8888888888888888,
              "#fdca26"
             ],
             [
              1,
              "#f0f921"
             ]
            ],
            "type": "histogram2dcontour"
           }
          ],
          "mesh3d": [
           {
            "colorbar": {
             "outlinewidth": 0,
             "ticks": ""
            },
            "type": "mesh3d"
           }
          ],
          "parcoords": [
           {
            "line": {
             "colorbar": {
              "outlinewidth": 0,
              "ticks": ""
             }
            },
            "type": "parcoords"
           }
          ],
          "pie": [
           {
            "automargin": true,
            "type": "pie"
           }
          ],
          "scatter": [
           {
            "fillpattern": {
             "fillmode": "overlay",
             "size": 10,
             "solidity": 0.2
            },
            "type": "scatter"
           }
          ],
          "scatter3d": [
           {
            "line": {
             "colorbar": {
              "outlinewidth": 0,
              "ticks": ""
             }
            },
            "marker": {
             "colorbar": {
              "outlinewidth": 0,
              "ticks": ""
             }
            },
            "type": "scatter3d"
           }
          ],
          "scattercarpet": [
           {
            "marker": {
             "colorbar": {
              "outlinewidth": 0,
              "ticks": ""
             }
            },
            "type": "scattercarpet"
           }
          ],
          "scattergeo": [
           {
            "marker": {
             "colorbar": {
              "outlinewidth": 0,
              "ticks": ""
             }
            },
            "type": "scattergeo"
           }
          ],
          "scattergl": [
           {
            "marker": {
             "colorbar": {
              "outlinewidth": 0,
              "ticks": ""
             }
            },
            "type": "scattergl"
           }
          ],
          "scattermapbox": [
           {
            "marker": {
             "colorbar": {
              "outlinewidth": 0,
              "ticks": ""
             }
            },
            "type": "scattermapbox"
           }
          ],
          "scatterpolar": [
           {
            "marker": {
             "colorbar": {
              "outlinewidth": 0,
              "ticks": ""
             }
            },
            "type": "scatterpolar"
           }
          ],
          "scatterpolargl": [
           {
            "marker": {
             "colorbar": {
              "outlinewidth": 0,
              "ticks": ""
             }
            },
            "type": "scatterpolargl"
           }
          ],
          "scatterternary": [
           {
            "marker": {
             "colorbar": {
              "outlinewidth": 0,
              "ticks": ""
             }
            },
            "type": "scatterternary"
           }
          ],
          "surface": [
           {
            "colorbar": {
             "outlinewidth": 0,
             "ticks": ""
            },
            "colorscale": [
             [
              0,
              "#0d0887"
             ],
             [
              0.1111111111111111,
              "#46039f"
             ],
             [
              0.2222222222222222,
              "#7201a8"
             ],
             [
              0.3333333333333333,
              "#9c179e"
             ],
             [
              0.4444444444444444,
              "#bd3786"
             ],
             [
              0.5555555555555556,
              "#d8576b"
             ],
             [
              0.6666666666666666,
              "#ed7953"
             ],
             [
              0.7777777777777778,
              "#fb9f3a"
             ],
             [
              0.8888888888888888,
              "#fdca26"
             ],
             [
              1,
              "#f0f921"
             ]
            ],
            "type": "surface"
           }
          ],
          "table": [
           {
            "cells": {
             "fill": {
              "color": "#EBF0F8"
             },
             "line": {
              "color": "white"
             }
            },
            "header": {
             "fill": {
              "color": "#C8D4E3"
             },
             "line": {
              "color": "white"
             }
            },
            "type": "table"
           }
          ]
         },
         "layout": {
          "annotationdefaults": {
           "arrowcolor": "#2a3f5f",
           "arrowhead": 0,
           "arrowwidth": 1
          },
          "autotypenumbers": "strict",
          "coloraxis": {
           "colorbar": {
            "outlinewidth": 0,
            "ticks": ""
           }
          },
          "colorscale": {
           "diverging": [
            [
             0,
             "#8e0152"
            ],
            [
             0.1,
             "#c51b7d"
            ],
            [
             0.2,
             "#de77ae"
            ],
            [
             0.3,
             "#f1b6da"
            ],
            [
             0.4,
             "#fde0ef"
            ],
            [
             0.5,
             "#f7f7f7"
            ],
            [
             0.6,
             "#e6f5d0"
            ],
            [
             0.7,
             "#b8e186"
            ],
            [
             0.8,
             "#7fbc41"
            ],
            [
             0.9,
             "#4d9221"
            ],
            [
             1,
             "#276419"
            ]
           ],
           "sequential": [
            [
             0,
             "#0d0887"
            ],
            [
             0.1111111111111111,
             "#46039f"
            ],
            [
             0.2222222222222222,
             "#7201a8"
            ],
            [
             0.3333333333333333,
             "#9c179e"
            ],
            [
             0.4444444444444444,
             "#bd3786"
            ],
            [
             0.5555555555555556,
             "#d8576b"
            ],
            [
             0.6666666666666666,
             "#ed7953"
            ],
            [
             0.7777777777777778,
             "#fb9f3a"
            ],
            [
             0.8888888888888888,
             "#fdca26"
            ],
            [
             1,
             "#f0f921"
            ]
           ],
           "sequentialminus": [
            [
             0,
             "#0d0887"
            ],
            [
             0.1111111111111111,
             "#46039f"
            ],
            [
             0.2222222222222222,
             "#7201a8"
            ],
            [
             0.3333333333333333,
             "#9c179e"
            ],
            [
             0.4444444444444444,
             "#bd3786"
            ],
            [
             0.5555555555555556,
             "#d8576b"
            ],
            [
             0.6666666666666666,
             "#ed7953"
            ],
            [
             0.7777777777777778,
             "#fb9f3a"
            ],
            [
             0.8888888888888888,
             "#fdca26"
            ],
            [
             1,
             "#f0f921"
            ]
           ]
          },
          "colorway": [
           "#636efa",
           "#EF553B",
           "#00cc96",
           "#ab63fa",
           "#FFA15A",
           "#19d3f3",
           "#FF6692",
           "#B6E880",
           "#FF97FF",
           "#FECB52"
          ],
          "font": {
           "color": "#2a3f5f"
          },
          "geo": {
           "bgcolor": "white",
           "lakecolor": "white",
           "landcolor": "#E5ECF6",
           "showlakes": true,
           "showland": true,
           "subunitcolor": "white"
          },
          "hoverlabel": {
           "align": "left"
          },
          "hovermode": "closest",
          "mapbox": {
           "style": "light"
          },
          "paper_bgcolor": "white",
          "plot_bgcolor": "#E5ECF6",
          "polar": {
           "angularaxis": {
            "gridcolor": "white",
            "linecolor": "white",
            "ticks": ""
           },
           "bgcolor": "#E5ECF6",
           "radialaxis": {
            "gridcolor": "white",
            "linecolor": "white",
            "ticks": ""
           }
          },
          "scene": {
           "xaxis": {
            "backgroundcolor": "#E5ECF6",
            "gridcolor": "white",
            "gridwidth": 2,
            "linecolor": "white",
            "showbackground": true,
            "ticks": "",
            "zerolinecolor": "white"
           },
           "yaxis": {
            "backgroundcolor": "#E5ECF6",
            "gridcolor": "white",
            "gridwidth": 2,
            "linecolor": "white",
            "showbackground": true,
            "ticks": "",
            "zerolinecolor": "white"
           },
           "zaxis": {
            "backgroundcolor": "#E5ECF6",
            "gridcolor": "white",
            "gridwidth": 2,
            "linecolor": "white",
            "showbackground": true,
            "ticks": "",
            "zerolinecolor": "white"
           }
          },
          "shapedefaults": {
           "line": {
            "color": "#2a3f5f"
           }
          },
          "ternary": {
           "aaxis": {
            "gridcolor": "white",
            "linecolor": "white",
            "ticks": ""
           },
           "baxis": {
            "gridcolor": "white",
            "linecolor": "white",
            "ticks": ""
           },
           "bgcolor": "#E5ECF6",
           "caxis": {
            "gridcolor": "white",
            "linecolor": "white",
            "ticks": ""
           }
          },
          "title": {
           "x": 0.05
          },
          "xaxis": {
           "automargin": true,
           "gridcolor": "white",
           "linecolor": "white",
           "ticks": "",
           "title": {
            "standoff": 15
           },
           "zerolinecolor": "white",
           "zerolinewidth": 2
          },
          "yaxis": {
           "automargin": true,
           "gridcolor": "white",
           "linecolor": "white",
           "ticks": "",
           "title": {
            "standoff": 15
           },
           "zerolinecolor": "white",
           "zerolinewidth": 2
          }
         }
        },
        "title": {
         "text": "Scatter Plot of Species Count by Class and Phylum"
        },
        "xaxis": {
         "anchor": "y",
         "domain": [
          0,
          1
         ],
         "title": {
          "text": "Phylum Count"
         }
        },
        "yaxis": {
         "anchor": "x",
         "domain": [
          0,
          1
         ],
         "title": {
          "text": "Class Count"
         }
        }
       }
      }
     },
     "metadata": {},
     "output_type": "display_data"
    }
   ],
   "source": [
    "\n",
    "\n",
    "\n",
    "phylum_count = dataset['phylum'].value_counts().reset_index()\n",
    "phylum_count.columns = ['phylum', 'phylum_count']\n",
    "\n",
    "\n",
    "class_count = dataset['class'].value_counts().reset_index()\n",
    "class_count.columns = ['class', 'class_count']\n",
    "\n",
    "\n",
    "scatter_data = phylum_count.merge(class_count, how='cross')  \n",
    "\n",
    "\n",
    "fig = px.scatter(scatter_data, x='phylum_count', y='class_count',\n",
    "                 title='Scatter Plot of Species Count by Class and Phylum',\n",
    "                 labels={'phylum_count': 'Phylum Count', 'class_count': 'Class Count'},\n",
    "                 hover_data=['phylum', 'class'])  \n",
    "fig.show()\n"
   ]
  },
  {
   "cell_type": "code",
   "execution_count": 27,
   "id": "810e689c",
   "metadata": {},
   "outputs": [
    {
     "data": {
      "application/vnd.plotly.v1+json": {
       "config": {
        "plotlyServerURL": "https://plot.ly"
       },
       "data": [
        {
         "alignmentgroup": "True",
         "hovertemplate": "Phylum=%{x}<br>Species Count=%{y}<extra></extra>",
         "legendgroup": "Chordata",
         "marker": {
          "color": "#636efa",
          "pattern": {
           "shape": ""
          }
         },
         "name": "Chordata",
         "offsetgroup": "Chordata",
         "orientation": "v",
         "showlegend": true,
         "textposition": "auto",
         "type": "bar",
         "x": [
          "Chordata"
         ],
         "xaxis": "x",
         "y": [
          295
         ],
         "yaxis": "y"
        },
        {
         "alignmentgroup": "True",
         "hovertemplate": "Phylum=%{x}<br>Species Count=%{y}<extra></extra>",
         "legendgroup": "Arthropoda",
         "marker": {
          "color": "#EF553B",
          "pattern": {
           "shape": ""
          }
         },
         "name": "Arthropoda",
         "offsetgroup": "Arthropoda",
         "orientation": "v",
         "showlegend": true,
         "textposition": "auto",
         "type": "bar",
         "x": [
          "Arthropoda"
         ],
         "xaxis": "x",
         "y": [
          32
         ],
         "yaxis": "y"
        },
        {
         "alignmentgroup": "True",
         "hovertemplate": "Phylum=%{x}<br>Species Count=%{y}<extra></extra>",
         "legendgroup": "Cnidaria",
         "marker": {
          "color": "#00cc96",
          "pattern": {
           "shape": ""
          }
         },
         "name": "Cnidaria",
         "offsetgroup": "Cnidaria",
         "orientation": "v",
         "showlegend": true,
         "textposition": "auto",
         "type": "bar",
         "x": [
          "Cnidaria"
         ],
         "xaxis": "x",
         "y": [
          27
         ],
         "yaxis": "y"
        },
        {
         "alignmentgroup": "True",
         "hovertemplate": "Phylum=%{x}<br>Species Count=%{y}<extra></extra>",
         "legendgroup": "Mollusca",
         "marker": {
          "color": "#ab63fa",
          "pattern": {
           "shape": ""
          }
         },
         "name": "Mollusca",
         "offsetgroup": "Mollusca",
         "orientation": "v",
         "showlegend": true,
         "textposition": "auto",
         "type": "bar",
         "x": [
          "Mollusca"
         ],
         "xaxis": "x",
         "y": [
          26
         ],
         "yaxis": "y"
        },
        {
         "alignmentgroup": "True",
         "hovertemplate": "Phylum=%{x}<br>Species Count=%{y}<extra></extra>",
         "legendgroup": "Echinodermata",
         "marker": {
          "color": "#FFA15A",
          "pattern": {
           "shape": ""
          }
         },
         "name": "Echinodermata",
         "offsetgroup": "Echinodermata",
         "orientation": "v",
         "showlegend": true,
         "textposition": "auto",
         "type": "bar",
         "x": [
          "Echinodermata"
         ],
         "xaxis": "x",
         "y": [
          20
         ],
         "yaxis": "y"
        }
       ],
       "layout": {
        "barmode": "relative",
        "legend": {
         "title": {
          "text": "Phylum"
         },
         "tracegroupgap": 0
        },
        "template": {
         "data": {
          "bar": [
           {
            "error_x": {
             "color": "#2a3f5f"
            },
            "error_y": {
             "color": "#2a3f5f"
            },
            "marker": {
             "line": {
              "color": "#E5ECF6",
              "width": 0.5
             },
             "pattern": {
              "fillmode": "overlay",
              "size": 10,
              "solidity": 0.2
             }
            },
            "type": "bar"
           }
          ],
          "barpolar": [
           {
            "marker": {
             "line": {
              "color": "#E5ECF6",
              "width": 0.5
             },
             "pattern": {
              "fillmode": "overlay",
              "size": 10,
              "solidity": 0.2
             }
            },
            "type": "barpolar"
           }
          ],
          "carpet": [
           {
            "aaxis": {
             "endlinecolor": "#2a3f5f",
             "gridcolor": "white",
             "linecolor": "white",
             "minorgridcolor": "white",
             "startlinecolor": "#2a3f5f"
            },
            "baxis": {
             "endlinecolor": "#2a3f5f",
             "gridcolor": "white",
             "linecolor": "white",
             "minorgridcolor": "white",
             "startlinecolor": "#2a3f5f"
            },
            "type": "carpet"
           }
          ],
          "choropleth": [
           {
            "colorbar": {
             "outlinewidth": 0,
             "ticks": ""
            },
            "type": "choropleth"
           }
          ],
          "contour": [
           {
            "colorbar": {
             "outlinewidth": 0,
             "ticks": ""
            },
            "colorscale": [
             [
              0,
              "#0d0887"
             ],
             [
              0.1111111111111111,
              "#46039f"
             ],
             [
              0.2222222222222222,
              "#7201a8"
             ],
             [
              0.3333333333333333,
              "#9c179e"
             ],
             [
              0.4444444444444444,
              "#bd3786"
             ],
             [
              0.5555555555555556,
              "#d8576b"
             ],
             [
              0.6666666666666666,
              "#ed7953"
             ],
             [
              0.7777777777777778,
              "#fb9f3a"
             ],
             [
              0.8888888888888888,
              "#fdca26"
             ],
             [
              1,
              "#f0f921"
             ]
            ],
            "type": "contour"
           }
          ],
          "contourcarpet": [
           {
            "colorbar": {
             "outlinewidth": 0,
             "ticks": ""
            },
            "type": "contourcarpet"
           }
          ],
          "heatmap": [
           {
            "colorbar": {
             "outlinewidth": 0,
             "ticks": ""
            },
            "colorscale": [
             [
              0,
              "#0d0887"
             ],
             [
              0.1111111111111111,
              "#46039f"
             ],
             [
              0.2222222222222222,
              "#7201a8"
             ],
             [
              0.3333333333333333,
              "#9c179e"
             ],
             [
              0.4444444444444444,
              "#bd3786"
             ],
             [
              0.5555555555555556,
              "#d8576b"
             ],
             [
              0.6666666666666666,
              "#ed7953"
             ],
             [
              0.7777777777777778,
              "#fb9f3a"
             ],
             [
              0.8888888888888888,
              "#fdca26"
             ],
             [
              1,
              "#f0f921"
             ]
            ],
            "type": "heatmap"
           }
          ],
          "heatmapgl": [
           {
            "colorbar": {
             "outlinewidth": 0,
             "ticks": ""
            },
            "colorscale": [
             [
              0,
              "#0d0887"
             ],
             [
              0.1111111111111111,
              "#46039f"
             ],
             [
              0.2222222222222222,
              "#7201a8"
             ],
             [
              0.3333333333333333,
              "#9c179e"
             ],
             [
              0.4444444444444444,
              "#bd3786"
             ],
             [
              0.5555555555555556,
              "#d8576b"
             ],
             [
              0.6666666666666666,
              "#ed7953"
             ],
             [
              0.7777777777777778,
              "#fb9f3a"
             ],
             [
              0.8888888888888888,
              "#fdca26"
             ],
             [
              1,
              "#f0f921"
             ]
            ],
            "type": "heatmapgl"
           }
          ],
          "histogram": [
           {
            "marker": {
             "pattern": {
              "fillmode": "overlay",
              "size": 10,
              "solidity": 0.2
             }
            },
            "type": "histogram"
           }
          ],
          "histogram2d": [
           {
            "colorbar": {
             "outlinewidth": 0,
             "ticks": ""
            },
            "colorscale": [
             [
              0,
              "#0d0887"
             ],
             [
              0.1111111111111111,
              "#46039f"
             ],
             [
              0.2222222222222222,
              "#7201a8"
             ],
             [
              0.3333333333333333,
              "#9c179e"
             ],
             [
              0.4444444444444444,
              "#bd3786"
             ],
             [
              0.5555555555555556,
              "#d8576b"
             ],
             [
              0.6666666666666666,
              "#ed7953"
             ],
             [
              0.7777777777777778,
              "#fb9f3a"
             ],
             [
              0.8888888888888888,
              "#fdca26"
             ],
             [
              1,
              "#f0f921"
             ]
            ],
            "type": "histogram2d"
           }
          ],
          "histogram2dcontour": [
           {
            "colorbar": {
             "outlinewidth": 0,
             "ticks": ""
            },
            "colorscale": [
             [
              0,
              "#0d0887"
             ],
             [
              0.1111111111111111,
              "#46039f"
             ],
             [
              0.2222222222222222,
              "#7201a8"
             ],
             [
              0.3333333333333333,
              "#9c179e"
             ],
             [
              0.4444444444444444,
              "#bd3786"
             ],
             [
              0.5555555555555556,
              "#d8576b"
             ],
             [
              0.6666666666666666,
              "#ed7953"
             ],
             [
              0.7777777777777778,
              "#fb9f3a"
             ],
             [
              0.8888888888888888,
              "#fdca26"
             ],
             [
              1,
              "#f0f921"
             ]
            ],
            "type": "histogram2dcontour"
           }
          ],
          "mesh3d": [
           {
            "colorbar": {
             "outlinewidth": 0,
             "ticks": ""
            },
            "type": "mesh3d"
           }
          ],
          "parcoords": [
           {
            "line": {
             "colorbar": {
              "outlinewidth": 0,
              "ticks": ""
             }
            },
            "type": "parcoords"
           }
          ],
          "pie": [
           {
            "automargin": true,
            "type": "pie"
           }
          ],
          "scatter": [
           {
            "fillpattern": {
             "fillmode": "overlay",
             "size": 10,
             "solidity": 0.2
            },
            "type": "scatter"
           }
          ],
          "scatter3d": [
           {
            "line": {
             "colorbar": {
              "outlinewidth": 0,
              "ticks": ""
             }
            },
            "marker": {
             "colorbar": {
              "outlinewidth": 0,
              "ticks": ""
             }
            },
            "type": "scatter3d"
           }
          ],
          "scattercarpet": [
           {
            "marker": {
             "colorbar": {
              "outlinewidth": 0,
              "ticks": ""
             }
            },
            "type": "scattercarpet"
           }
          ],
          "scattergeo": [
           {
            "marker": {
             "colorbar": {
              "outlinewidth": 0,
              "ticks": ""
             }
            },
            "type": "scattergeo"
           }
          ],
          "scattergl": [
           {
            "marker": {
             "colorbar": {
              "outlinewidth": 0,
              "ticks": ""
             }
            },
            "type": "scattergl"
           }
          ],
          "scattermapbox": [
           {
            "marker": {
             "colorbar": {
              "outlinewidth": 0,
              "ticks": ""
             }
            },
            "type": "scattermapbox"
           }
          ],
          "scatterpolar": [
           {
            "marker": {
             "colorbar": {
              "outlinewidth": 0,
              "ticks": ""
             }
            },
            "type": "scatterpolar"
           }
          ],
          "scatterpolargl": [
           {
            "marker": {
             "colorbar": {
              "outlinewidth": 0,
              "ticks": ""
             }
            },
            "type": "scatterpolargl"
           }
          ],
          "scatterternary": [
           {
            "marker": {
             "colorbar": {
              "outlinewidth": 0,
              "ticks": ""
             }
            },
            "type": "scatterternary"
           }
          ],
          "surface": [
           {
            "colorbar": {
             "outlinewidth": 0,
             "ticks": ""
            },
            "colorscale": [
             [
              0,
              "#0d0887"
             ],
             [
              0.1111111111111111,
              "#46039f"
             ],
             [
              0.2222222222222222,
              "#7201a8"
             ],
             [
              0.3333333333333333,
              "#9c179e"
             ],
             [
              0.4444444444444444,
              "#bd3786"
             ],
             [
              0.5555555555555556,
              "#d8576b"
             ],
             [
              0.6666666666666666,
              "#ed7953"
             ],
             [
              0.7777777777777778,
              "#fb9f3a"
             ],
             [
              0.8888888888888888,
              "#fdca26"
             ],
             [
              1,
              "#f0f921"
             ]
            ],
            "type": "surface"
           }
          ],
          "table": [
           {
            "cells": {
             "fill": {
              "color": "#EBF0F8"
             },
             "line": {
              "color": "white"
             }
            },
            "header": {
             "fill": {
              "color": "#C8D4E3"
             },
             "line": {
              "color": "white"
             }
            },
            "type": "table"
           }
          ]
         },
         "layout": {
          "annotationdefaults": {
           "arrowcolor": "#2a3f5f",
           "arrowhead": 0,
           "arrowwidth": 1
          },
          "autotypenumbers": "strict",
          "coloraxis": {
           "colorbar": {
            "outlinewidth": 0,
            "ticks": ""
           }
          },
          "colorscale": {
           "diverging": [
            [
             0,
             "#8e0152"
            ],
            [
             0.1,
             "#c51b7d"
            ],
            [
             0.2,
             "#de77ae"
            ],
            [
             0.3,
             "#f1b6da"
            ],
            [
             0.4,
             "#fde0ef"
            ],
            [
             0.5,
             "#f7f7f7"
            ],
            [
             0.6,
             "#e6f5d0"
            ],
            [
             0.7,
             "#b8e186"
            ],
            [
             0.8,
             "#7fbc41"
            ],
            [
             0.9,
             "#4d9221"
            ],
            [
             1,
             "#276419"
            ]
           ],
           "sequential": [
            [
             0,
             "#0d0887"
            ],
            [
             0.1111111111111111,
             "#46039f"
            ],
            [
             0.2222222222222222,
             "#7201a8"
            ],
            [
             0.3333333333333333,
             "#9c179e"
            ],
            [
             0.4444444444444444,
             "#bd3786"
            ],
            [
             0.5555555555555556,
             "#d8576b"
            ],
            [
             0.6666666666666666,
             "#ed7953"
            ],
            [
             0.7777777777777778,
             "#fb9f3a"
            ],
            [
             0.8888888888888888,
             "#fdca26"
            ],
            [
             1,
             "#f0f921"
            ]
           ],
           "sequentialminus": [
            [
             0,
             "#0d0887"
            ],
            [
             0.1111111111111111,
             "#46039f"
            ],
            [
             0.2222222222222222,
             "#7201a8"
            ],
            [
             0.3333333333333333,
             "#9c179e"
            ],
            [
             0.4444444444444444,
             "#bd3786"
            ],
            [
             0.5555555555555556,
             "#d8576b"
            ],
            [
             0.6666666666666666,
             "#ed7953"
            ],
            [
             0.7777777777777778,
             "#fb9f3a"
            ],
            [
             0.8888888888888888,
             "#fdca26"
            ],
            [
             1,
             "#f0f921"
            ]
           ]
          },
          "colorway": [
           "#636efa",
           "#EF553B",
           "#00cc96",
           "#ab63fa",
           "#FFA15A",
           "#19d3f3",
           "#FF6692",
           "#B6E880",
           "#FF97FF",
           "#FECB52"
          ],
          "font": {
           "color": "#2a3f5f"
          },
          "geo": {
           "bgcolor": "white",
           "lakecolor": "white",
           "landcolor": "#E5ECF6",
           "showlakes": true,
           "showland": true,
           "subunitcolor": "white"
          },
          "hoverlabel": {
           "align": "left"
          },
          "hovermode": "closest",
          "mapbox": {
           "style": "light"
          },
          "paper_bgcolor": "white",
          "plot_bgcolor": "#E5ECF6",
          "polar": {
           "angularaxis": {
            "gridcolor": "white",
            "linecolor": "white",
            "ticks": ""
           },
           "bgcolor": "#E5ECF6",
           "radialaxis": {
            "gridcolor": "white",
            "linecolor": "white",
            "ticks": ""
           }
          },
          "scene": {
           "xaxis": {
            "backgroundcolor": "#E5ECF6",
            "gridcolor": "white",
            "gridwidth": 2,
            "linecolor": "white",
            "showbackground": true,
            "ticks": "",
            "zerolinecolor": "white"
           },
           "yaxis": {
            "backgroundcolor": "#E5ECF6",
            "gridcolor": "white",
            "gridwidth": 2,
            "linecolor": "white",
            "showbackground": true,
            "ticks": "",
            "zerolinecolor": "white"
           },
           "zaxis": {
            "backgroundcolor": "#E5ECF6",
            "gridcolor": "white",
            "gridwidth": 2,
            "linecolor": "white",
            "showbackground": true,
            "ticks": "",
            "zerolinecolor": "white"
           }
          },
          "shapedefaults": {
           "line": {
            "color": "#2a3f5f"
           }
          },
          "ternary": {
           "aaxis": {
            "gridcolor": "white",
            "linecolor": "white",
            "ticks": ""
           },
           "baxis": {
            "gridcolor": "white",
            "linecolor": "white",
            "ticks": ""
           },
           "bgcolor": "#E5ECF6",
           "caxis": {
            "gridcolor": "white",
            "linecolor": "white",
            "ticks": ""
           }
          },
          "title": {
           "x": 0.05
          },
          "xaxis": {
           "automargin": true,
           "gridcolor": "white",
           "linecolor": "white",
           "ticks": "",
           "title": {
            "standoff": 15
           },
           "zerolinecolor": "white",
           "zerolinewidth": 2
          },
          "yaxis": {
           "automargin": true,
           "gridcolor": "white",
           "linecolor": "white",
           "ticks": "",
           "title": {
            "standoff": 15
           },
           "zerolinecolor": "white",
           "zerolinewidth": 2
          }
         }
        },
        "title": {
         "text": "Species Count by Phylum"
        },
        "xaxis": {
         "anchor": "y",
         "categoryarray": [
          "Chordata",
          "Arthropoda",
          "Cnidaria",
          "Mollusca",
          "Echinodermata"
         ],
         "categoryorder": "array",
         "domain": [
          0,
          1
         ],
         "title": {
          "text": "Phylum"
         }
        },
        "yaxis": {
         "anchor": "x",
         "domain": [
          0,
          1
         ],
         "title": {
          "text": "Species Count"
         }
        }
       }
      }
     },
     "metadata": {},
     "output_type": "display_data"
    }
   ],
   "source": [
    "import plotly.express as px\n",
    "\n",
    "# Create a dataframe for phylum counts\n",
    "phylum_count = dataset['phylum'].value_counts().reset_index()\n",
    "phylum_count.columns = ['phylum', 'count']\n",
    "\n",
    "\n",
    "fig_phylum = px.bar(phylum_count, x='phylum', y='count',\n",
    "                    title='Species Count by Phylum',\n",
    "                    labels={'phylum': 'Phylum', 'count': 'Species Count'},\n",
    "                    color='phylum')  \n",
    "fig_phylum.show()\n"
   ]
  },
  {
   "cell_type": "code",
   "execution_count": 29,
   "id": "79b0b809",
   "metadata": {},
   "outputs": [
    {
     "data": {
      "application/vnd.plotly.v1+json": {
       "config": {
        "plotlyServerURL": "https://plot.ly"
       },
       "data": [
        {
         "autobinx": false,
         "histnorm": "probability density",
         "legendgroup": "Class Data",
         "marker": {
          "color": "rgb(31, 119, 180)"
         },
         "name": "Class Data",
         "opacity": 0.7,
         "type": "histogram",
         "x": [
          6,
          16,
          5,
          1,
          16,
          0,
          18,
          14,
          16,
          5,
          12,
          16,
          2,
          18,
          16,
          12,
          18,
          1,
          14,
          16,
          14,
          8,
          0,
          18,
          5,
          0,
          2,
          5,
          13,
          9,
          2,
          8,
          16,
          2,
          5,
          0,
          5,
          4,
          5,
          6,
          2,
          12,
          12,
          14,
          5,
          2,
          1,
          16,
          1,
          0,
          1,
          9,
          5,
          9,
          6,
          9,
          16,
          1,
          2,
          16,
          14,
          5,
          10,
          5,
          0,
          9,
          18,
          0,
          16,
          14,
          16,
          0,
          5,
          17,
          9,
          4,
          13,
          18,
          5,
          5,
          12,
          1,
          5,
          5,
          9,
          16,
          16,
          16,
          16,
          1,
          18,
          0,
          5,
          5,
          5,
          18,
          5,
          5,
          16,
          16,
          9,
          18,
          12,
          14,
          14,
          16,
          5,
          5,
          6,
          1,
          9,
          14,
          0,
          9,
          5,
          5,
          5,
          5,
          16,
          5,
          16,
          5,
          18,
          5,
          0,
          18,
          18,
          18,
          5,
          13,
          9,
          16,
          1,
          16,
          16,
          5,
          5,
          9,
          14,
          5,
          5,
          5,
          9,
          18,
          9,
          12,
          16,
          16,
          5,
          5,
          5,
          18,
          9,
          2,
          16,
          2,
          14,
          0,
          1,
          2,
          18,
          16,
          2,
          9,
          1,
          5,
          0,
          11,
          12,
          1,
          9,
          16,
          9,
          9,
          14,
          16,
          2,
          8,
          18,
          0,
          16,
          0,
          14,
          6,
          16,
          1,
          16,
          9,
          9,
          5,
          5,
          11,
          18,
          18,
          5,
          1,
          16,
          14,
          1,
          5,
          16,
          18,
          14,
          12,
          18,
          18,
          2,
          5,
          5,
          16,
          1,
          5,
          13,
          9,
          5,
          14,
          12,
          16,
          16,
          12,
          1,
          2,
          5,
          18,
          1,
          6,
          18,
          5,
          5,
          16,
          0,
          5,
          11,
          16,
          16,
          9,
          5,
          14,
          14,
          6,
          2,
          16,
          1,
          1,
          5,
          1,
          6,
          18,
          16,
          16,
          0,
          2,
          9,
          14,
          5,
          5,
          16,
          18,
          15,
          16,
          5,
          1,
          14,
          16,
          2,
          5,
          17,
          18,
          16,
          18,
          9,
          1,
          16,
          16,
          5,
          5,
          16,
          5,
          4,
          16,
          2,
          18,
          16,
          18,
          5,
          4,
          3,
          18,
          5,
          17,
          14,
          5,
          5,
          18,
          2,
          6,
          9,
          0,
          0,
          7,
          18,
          5,
          5,
          9,
          5,
          0,
          0,
          1,
          5,
          9,
          16,
          14,
          1,
          16,
          5,
          1,
          16,
          9,
          18,
          2,
          18,
          18,
          16,
          5,
          17,
          9,
          18,
          18,
          18,
          2,
          18,
          1,
          1,
          16,
          5,
          5,
          2,
          12,
          18,
          5,
          5,
          2,
          5,
          9,
          16,
          4,
          16,
          9,
          1,
          0,
          16,
          1,
          18,
          14,
          9,
          18,
          0,
          1,
          18,
          9,
          1,
          1,
          18,
          11,
          5,
          1,
          16,
          18,
          13,
          16,
          16,
          5,
          5,
          14,
          3,
          5,
          2,
          2,
          2,
          14,
          1,
          10,
          0,
          6,
          6,
          5,
          14,
          5,
          5,
          18,
          9,
          2,
          5,
          16,
          16,
          5,
          0,
          14,
          14,
          9
         ],
         "xaxis": "x",
         "xbins": {
          "end": 18,
          "size": 0.5,
          "start": 0
         },
         "yaxis": "y"
        },
        {
         "legendgroup": "Class Data",
         "marker": {
          "color": "rgb(31, 119, 180)"
         },
         "mode": "lines",
         "name": "Class Data",
         "showlegend": false,
         "type": "scatter",
         "x": [
          0,
          0.036,
          0.072,
          0.108,
          0.144,
          0.18,
          0.216,
          0.252,
          0.288,
          0.324,
          0.36,
          0.396,
          0.432,
          0.468,
          0.504,
          0.54,
          0.576,
          0.612,
          0.648,
          0.684,
          0.72,
          0.756,
          0.792,
          0.828,
          0.864,
          0.9,
          0.936,
          0.972,
          1.008,
          1.044,
          1.08,
          1.116,
          1.152,
          1.188,
          1.224,
          1.26,
          1.296,
          1.332,
          1.368,
          1.404,
          1.44,
          1.476,
          1.512,
          1.548,
          1.584,
          1.62,
          1.656,
          1.692,
          1.728,
          1.764,
          1.8,
          1.836,
          1.872,
          1.908,
          1.944,
          1.98,
          2.016,
          2.052,
          2.088,
          2.124,
          2.16,
          2.196,
          2.232,
          2.268,
          2.304,
          2.34,
          2.376,
          2.412,
          2.448,
          2.484,
          2.52,
          2.556,
          2.592,
          2.628,
          2.664,
          2.7,
          2.736,
          2.772,
          2.808,
          2.844,
          2.88,
          2.916,
          2.952,
          2.988,
          3.024,
          3.06,
          3.096,
          3.132,
          3.168,
          3.204,
          3.24,
          3.276,
          3.312,
          3.348,
          3.384,
          3.42,
          3.456,
          3.492,
          3.528,
          3.564,
          3.6,
          3.636,
          3.672,
          3.708,
          3.744,
          3.78,
          3.816,
          3.852,
          3.888,
          3.924,
          3.96,
          3.996,
          4.032,
          4.068,
          4.104,
          4.14,
          4.176,
          4.212,
          4.248,
          4.284,
          4.32,
          4.356,
          4.392,
          4.428,
          4.464,
          4.5,
          4.536,
          4.572,
          4.608,
          4.644,
          4.68,
          4.716,
          4.752,
          4.788,
          4.824,
          4.86,
          4.896,
          4.932,
          4.968,
          5.004,
          5.04,
          5.076,
          5.112,
          5.148,
          5.184,
          5.22,
          5.256,
          5.292,
          5.328,
          5.364,
          5.4,
          5.436,
          5.472,
          5.508,
          5.544,
          5.58,
          5.616,
          5.652,
          5.688,
          5.724,
          5.76,
          5.796,
          5.832,
          5.868,
          5.904,
          5.94,
          5.976,
          6.012,
          6.048,
          6.084,
          6.12,
          6.156,
          6.192,
          6.228,
          6.264,
          6.3,
          6.336,
          6.372,
          6.408,
          6.444,
          6.48,
          6.516,
          6.552,
          6.588,
          6.624,
          6.66,
          6.696,
          6.732,
          6.768,
          6.804,
          6.84,
          6.876,
          6.912,
          6.948,
          6.984,
          7.02,
          7.056,
          7.092,
          7.128,
          7.164,
          7.2,
          7.236,
          7.272,
          7.308,
          7.344,
          7.38,
          7.416,
          7.452,
          7.488,
          7.524,
          7.56,
          7.596,
          7.632,
          7.668,
          7.704,
          7.74,
          7.776,
          7.812,
          7.848,
          7.884,
          7.92,
          7.956,
          7.992,
          8.028,
          8.064,
          8.1,
          8.136,
          8.172,
          8.208,
          8.244,
          8.28,
          8.316,
          8.352,
          8.388,
          8.424,
          8.46,
          8.496,
          8.532,
          8.568,
          8.604,
          8.64,
          8.676,
          8.712,
          8.748,
          8.784,
          8.82,
          8.856,
          8.892,
          8.928,
          8.964,
          9,
          9.036,
          9.072,
          9.108,
          9.144,
          9.18,
          9.216,
          9.252,
          9.288,
          9.324,
          9.36,
          9.396,
          9.432,
          9.468,
          9.504,
          9.54,
          9.576,
          9.612,
          9.648,
          9.684,
          9.72,
          9.756,
          9.792,
          9.828,
          9.864,
          9.9,
          9.936,
          9.972,
          10.008,
          10.044,
          10.08,
          10.116,
          10.152,
          10.188,
          10.224,
          10.26,
          10.296,
          10.332,
          10.368,
          10.404,
          10.44,
          10.476,
          10.512,
          10.548,
          10.584,
          10.62,
          10.656,
          10.692,
          10.728,
          10.764,
          10.8,
          10.836,
          10.872,
          10.908,
          10.944,
          10.98,
          11.016,
          11.052,
          11.088,
          11.124,
          11.16,
          11.196,
          11.232,
          11.268,
          11.304,
          11.34,
          11.376,
          11.412,
          11.448,
          11.484,
          11.52,
          11.556,
          11.592,
          11.628,
          11.664,
          11.7,
          11.736,
          11.772,
          11.808,
          11.844,
          11.88,
          11.916,
          11.952,
          11.988,
          12.024,
          12.06,
          12.096,
          12.132,
          12.168,
          12.204,
          12.24,
          12.276,
          12.312,
          12.348,
          12.384,
          12.42,
          12.456,
          12.492,
          12.528,
          12.564,
          12.6,
          12.636,
          12.672,
          12.708,
          12.744,
          12.78,
          12.816,
          12.852,
          12.888,
          12.924,
          12.96,
          12.996,
          13.032,
          13.068,
          13.104,
          13.14,
          13.176,
          13.212,
          13.248,
          13.284,
          13.32,
          13.356,
          13.392,
          13.428,
          13.464,
          13.5,
          13.536,
          13.572,
          13.608,
          13.644,
          13.68,
          13.716,
          13.752,
          13.788,
          13.824,
          13.86,
          13.896,
          13.932,
          13.968,
          14.004,
          14.04,
          14.076,
          14.112,
          14.148,
          14.184,
          14.22,
          14.256,
          14.292,
          14.328,
          14.364,
          14.4,
          14.436,
          14.472,
          14.508,
          14.544,
          14.58,
          14.616,
          14.652,
          14.688,
          14.724,
          14.76,
          14.796,
          14.832,
          14.868,
          14.904,
          14.94,
          14.976,
          15.012,
          15.048,
          15.084,
          15.12,
          15.156,
          15.192,
          15.228,
          15.264,
          15.3,
          15.336,
          15.372,
          15.408,
          15.444,
          15.48,
          15.516,
          15.552,
          15.588,
          15.624,
          15.66,
          15.696,
          15.732,
          15.768,
          15.804,
          15.84,
          15.876,
          15.912,
          15.948,
          15.984,
          16.02,
          16.056,
          16.092,
          16.128,
          16.164,
          16.2,
          16.236,
          16.272,
          16.308,
          16.344,
          16.38,
          16.416,
          16.452,
          16.488,
          16.524,
          16.56,
          16.596,
          16.632,
          16.668,
          16.704,
          16.74,
          16.776,
          16.812,
          16.848,
          16.884,
          16.92,
          16.956,
          16.992,
          17.028,
          17.064,
          17.1,
          17.136,
          17.172,
          17.208,
          17.244,
          17.28,
          17.316,
          17.352,
          17.388,
          17.424,
          17.46,
          17.496,
          17.532,
          17.568,
          17.604,
          17.64,
          17.676,
          17.712,
          17.748,
          17.784,
          17.82,
          17.856,
          17.892,
          17.928,
          17.964
         ],
         "xaxis": "x",
         "y": [
          0.03986956380297597,
          0.04029000004276556,
          0.0407050563635307,
          0.04111457496864002,
          0.041518406044872204,
          0.041916408050371445,
          0.04230844798858628,
          0.042694401667350376,
          0.043074153942298576,
          0.04344759894382349,
          0.04381464028681619,
          0.04417519126245676,
          0.044529175011352444,
          0.04487652467736324,
          0.04521718354147958,
          0.04555110513516817,
          0.04587825333263277,
          0.04619860242148901,
          0.046512137151390805,
          0.04681885276019849,
          0.047118754977328606,
          0.04741186000397073,
          0.04769819446991839,
          0.04797779536680932,
          0.04825070995762939,
          0.04851699566239514,
          0.04877671991997953,
          0.04902996002611721,
          0.04927680294767813,
          0.049517345113363524,
          0.04975169218103989,
          0.04997995878199001,
          0.050202268242421466,
          0.0504187522826397,
          0.050629550694350475,
          0.05083481099662645,
          0.051034688071128084,
          0.051229343777237875,
          0.05141894654782026,
          0.05160367096638745,
          0.051783697326505146,
          0.05195921117433314,
          0.05213040283524701,
          0.05229746692554789,
          0.05246060185031487,
          0.052620009288506894,
          0.05277589366646619,
          0.05292846162102933,
          0.05307792145347995,
          0.053224482575631754,
          0.05336835494936337,
          0.05350974852095136,
          0.053648872651593134,
          0.05378593554552735,
          0.05392114367719048,
          0.054054701218860614,
          0.054186809470263615,
          0.05431766629162407,
          0.054447465541652584,
          0.05457639652196756,
          0.054704643429443395,
          0.05483238481798219,
          0.05495979307118956,
          0.05508703388742166,
          0.05521426577866496,
          0.05534163958467219,
          0.05546929800376236,
          0.05559737514166448,
          0.05572599607973757,
          0.05585527646387769,
          0.05598532211536187,
          0.05611622866484836,
          0.05624808121068664,
          0.056380954002648746,
          0.056514910152119444,
          0.05665000136973763,
          0.056786267731399755,
          0.05692373747347156,
          0.05706242681799154,
          0.05720233982854828,
          0.0573434682974704,
          0.05748579166485126,
          0.05762927696987085,
          0.057773878834782674,
          0.057919539481845285,
          0.058066188783385424,
          0.05821374434510004,
          0.05836211162260246,
          0.05851118407111967,
          0.05866084332817641,
          0.05881095942898039,
          0.05896139105414708,
          0.059111985809306954,
          0.059262580536034726,
          0.05941300165346,
          0.05956306552982442,
          0.05971257888315254,
          0.05986133921012809,
          0.06000913524217818,
          0.060155747427674724,
          0.06030094843909849,
          0.06044450370391938,
          0.06058617195788132,
          0.06072570581929826,
          0.060862852382919726,
          0.060997353831834446,
          0.06112894806584686,
          0.06125736934468821,
          0.061382348944385295,
          0.06150361582505697,
          0.06162089730837453,
          0.06173391976287765,
          0.0618424092953222,
          0.06194609244619507,
          0.062044696887524085,
          0.062137952121092244,
          0.06222559017516149,
          0.06230734629780265,
          0.06238295964494063,
          0.06245217396122654,
          0.06251473825186775,
          0.06257040744356669,
          0.0626189430327445,
          0.06266011371926007,
          0.06269369602387745,
          0.06271947488776652,
          0.06273724425237887,
          0.06274680761809993,
          0.06274797858012435,
          0.06274058134007061,
          0.06272445119193407,
          0.06269943498101936,
          0.06266539153460401,
          0.06262219206314444,
          0.0625697205309259,
          0.06250787399515288,
          0.06243656291255641,
          0.062355711412699084,
          0.06226525753725267,
          0.06216515344461771,
          0.06205536557936112,
          0.06193587480605099,
          0.06180667650716549,
          0.06166778064486202,
          0.06151921178650172,
          0.06136100909392019,
          0.061193226276550425,
          0.061015931508601,
          0.060829207310607154,
          0.06063315039575986,
          0.06042787148153829,
          0.060213495067249864,
          0.05999015917820262,
          0.059758015077309254,
          0.05951722694502396,
          0.05926797152860515,
          0.0590104377617772,
          0.05874482635594769,
          0.05847134936421588,
          0.05819022971948496,
          0.05790170074805806,
          0.057606005660156494,
          0.057303397018878405,
          0.05699413618914568,
          0.05667849276826381,
          0.056356743999740236,
          0.05602917417206835,
          0.055696074004201686,
          0.055357740019483306,
          0.05501447390981056,
          0.05466658189183845,
          0.05431437405703591,
          0.053958163717409066,
          0.05359826674871886,
          0.053235000932999474,
          0.05286868530218912,
          0.05249963948465207,
          0.05212818305636715,
          0.05175463489851098,
          0.051379312563151605,
          0.05100253164871396,
          0.0506246051868485,
          0.05024584304227953,
          0.0498665513271627,
          0.0494870318314223,
          0.04910758147048387,
          0.04872849175174419,
          0.048350048261065634,
          0.0479725301704993,
          0.04759620976837707,
          0.04722135201282748,
          0.046848214109697445,
          0.0464770451157746,
          0.046108085568126254,
          0.045741567140282456,
          0.04537771232590329,
          0.04501673415048532,
          0.044658835911569016,
          0.04430421094782548,
          0.0439530424373044,
          0.0436055032250422,
          0.043261755680135267,
          0.04292195158229556,
          0.04258623203782361,
          0.04225472742483829,
          0.0419275573675251,
          0.041604830739082346,
          0.04128664569295565,
          0.0409730897218804,
          0.04066423974417396,
          0.040360162216639794,
          0.04006091327338573,
          0.039766538889779136,
          0.03947707507070588,
          0.039192548062237514,
          0.03891297458575041,
          0.03863836209348906,
          0.03836870904452052,
          0.03810400519997222,
          0.037844231936413286,
          0.037589362576194225,
          0.03733936273353464,
          0.03709419067511097,
          0.03685379769388073,
          0.036618128494852964,
          0.03638712159150159,
          0.03616070971150641,
          0.03593882021050136,
          0.035721375492502525,
          0.035508293435693054,
          0.03529948782224823,
          0.035094868770891234,
          0.03489434317088388,
          0.034697815116176464,
          0.03450518633845985,
          0.03431635663788777,
          0.03413122431026917,
          0.03394968656955472,
          0.033771639964484464,
          0.03359698078829734,
          0.03342560548044404,
          0.03325741101928785,
          0.03309229530482624,
          0.03293015753051067,
          0.03277089854329547,
          0.03261442119109499,
          0.03246063065688563,
          0.032309434778741555,
          0.032160744355150005,
          0.032014473435010654,
          0.03187053959177891,
          0.03172886418127537,
          0.031589372582739174,
          0.031451994422763155,
          0.03131666378181249,
          0.03118331938307723,
          0.0310519047634821,
          0.030922368426718954,
          0.030794663978239906,
          0.03066875024219148,
          0.03054459136033817,
          0.03042215687306475,
          0.030301421782612144,
          0.030182366598738245,
          0.030064977367059532,
          0.029949245680360448,
          0.029835168673215416,
          0.029722749000305432,
          0.02961199479884928,
          0.02950291963561573,
          0.029395542439010148,
          0.02928988741676904,
          0.0291859839598241,
          0.029083866532923996,
          0.028983574552632996,
          0.028885152253341324,
          0.028788648541950037,
          0.02869411684190544,
          0.028601614927273752,
          0.028511204747562215,
          0.02842295224399706,
          0.028336927157981855,
          0.02825320283245693,
          0.02817185600689052,
          0.02809296660662146,
          0.028016617527282274,
          0.027942894415012253,
          0.027871885443173622,
          0.02780368108626913,
          0.027738373891742413,
          0.02767605825034146,
          0.02761683016569011,
          0.02756078702371495,
          0.027508027362538684,
          0.027458650643439303,
          0.02741275702344801,
          0.027370447130133885,
          0.027331821839101406,
          0.02729698205469613,
          0.027266028494388382,
          0.02723906147727784,
          0.02721618071712903,
          0.02719748512032216,
          0.027183072589068522,
          0.027173039830217557,
          0.02716748216993946,
          0.027166493374549495,
          0.027170165477700233,
          0.027178588614139947,
          0.027191850860206142,
          0.027210038081192923,
          0.027233233785699223,
          0.027261518987036482,
          0.027294972071749142,
          0.027333668675269228,
          0.027377681564702275,
          0.027427080528715345,
          0.027481932274472654,
          0.02754230033154247,
          0.02760824496267198,
          0.027679823081312657,
          0.027757088175750396,
          0.027840090239682355,
          0.027928875709062478,
          0.028023487405021277,
          0.028123964482652124,
          0.028230342385441146,
          0.028342652805110953,
          0.02846092364663163,
          0.028585178998149847,
          0.028715439105575617,
          0.02885172035156218,
          0.02899403523861304,
          0.029142392376041017,
          0.029296796470508462,
          0.029457248319878285,
          0.029623744810100532,
          0.029796278914870834,
          0.0299748396977932,
          0.030159412316792453,
          0.030349978030521904,
          0.030546514206521852,
          0.030748994330897103,
          0.03095738801928635,
          0.031171661028906783,
          0.03139177527147626,
          0.03161768882682026,
          0.03184935595698752,
          0.032086727120711506,
          0.03232974898807103,
          0.03257836445521774,
          0.0328325126590515,
          0.03309212899174452,
          0.03335714511502908,
          0.033627488974181434,
          0.03390308481165002,
          0.034183853180291546,
          0.03446971095620068,
          0.03476057135112952,
          0.03505634392451093,
          0.03535693459512035,
          0.035662245652419086,
          0.03597217576764517,
          0.03628662000472523,
          0.03660546983110448,
          0.03692861312859399,
          0.037255934204360214,
          0.03758731380218389,
          0.03792262911413275,
          0.038261753792802826,
          0.03860455796428933,
          0.038950908242063834,
          0.03930066774193447,
          0.03965369609828124,
          0.040009849481758314,
          0.04036898061866231,
          0.040730938812172705,
          0.041095569965666864,
          0.04146271660832128,
          0.04183221792320395,
          0.04220390977807298,
          0.042577624759078135,
          0.042953192207581814,
          0.043330438260288644,
          0.04370918589289098,
          0.04408925496740869,
          0.04447046228341847,
          0.04485262163333833,
          0.04523554386194304,
          0.04561903693025859,
          0.04600290598399102,
          0.046386953426619845,
          0.04677097899727904,
          0.047154779853539164,
          0.04753815065918401,
          0.04792088367706398,
          0.04830276886709773,
          0.04868359398946736,
          0.04906314471305,
          0.04944120472910335,
          0.04981755587020624,
          0.05019197823444616,
          0.05056425031482101,
          0.05093414913380832,
          0.05130145038303804,
          0.05166592856798939,
          0.0520273571576133,
          0.05238550873876391,
          0.052740155175311665,
          0.05309106777178926,
          0.05343801744140774,
          0.05378077487826232,
          0.05411911073354004,
          0.05445279579551537,
          0.054781601173118935,
          0.05510529848283878,
          0.0554236600387123,
          0.05573645904514921,
          0.056043469792315004,
          0.05634446785379542,
          0.05663923028625879,
          0.05692753583081084,
          0.05720916511574513,
          0.057483900860375706,
          0.057751528079636044,
          0.058011834289121475,
          0.05826460971025772,
          0.05850964747525795,
          0.058746743831549916,
          0.058975698345338036,
          0.05919631410397093,
          0.05940839791679127,
          0.05961176051413521,
          0.059806216744163615,
          0.05999158576720256,
          0.06016769124728094,
          0.06033436154055389,
          0.060491429880307895,
          0.06063873455825637,
          0.06077611910182959,
          0.06090343244718709,
          0.06102052910767169,
          0.06112726933745309,
          0.06122351929009738,
          0.06130915117183271,
          0.06138404338926863,
          0.061448080691357564,
          0.06150115430538327,
          0.061543162066783175,
          0.06157400854261959,
          0.061593605148521864,
          0.06160187025894433,
          0.061598729310585756,
          0.061584114898837757,
          0.06155796686713603,
          0.06152023238909811,
          0.06147086604335298,
          0.061409829880973855,
          0.06133709348542628,
          0.061252634024982176,
          0.06115643629753348,
          0.06104849276776426,
          0.0609288035966524,
          0.06079737666327447,
          0.06065422757890119,
          0.06049937969338605,
          0.060332864093844134,
          0.06015471959564913,
          0.05996499272576027,
          0.059763737698421956,
          0.059551016383271066,
          0.059326898265903295,
          0.05909146040095151,
          0.05884478735774059,
          0.05858697115858886,
          0.05831811120983055,
          0.05803831422563901,
          0.05774769414474487,
          0.057446372040135196,
          0.05713447602183903,
          0.056812141132894706,
          0.05647950923862013,
          0.056136728909288454,
          0.05578395529633442,
          0.0554213500022141,
          0.05504908094404256,
          0.05466732221114689,
          0.05427625391666913,
          0.05387606204336023,
          0.0534669382837119,
          0.05304907987457831,
          0.05262268942644033,
          0.0521879747474735,
          0.05174514866258651,
          0.0512944288275936,
          0.05083603753870095,
          0.05037020153748465,
          0.049897151811541134,
          0.04941712339100427,
          0.04893035514112011
         ],
         "yaxis": "y"
        }
       ],
       "layout": {
        "barmode": "overlay",
        "hovermode": "closest",
        "legend": {
         "traceorder": "reversed"
        },
        "template": {
         "data": {
          "bar": [
           {
            "error_x": {
             "color": "#2a3f5f"
            },
            "error_y": {
             "color": "#2a3f5f"
            },
            "marker": {
             "line": {
              "color": "#E5ECF6",
              "width": 0.5
             },
             "pattern": {
              "fillmode": "overlay",
              "size": 10,
              "solidity": 0.2
             }
            },
            "type": "bar"
           }
          ],
          "barpolar": [
           {
            "marker": {
             "line": {
              "color": "#E5ECF6",
              "width": 0.5
             },
             "pattern": {
              "fillmode": "overlay",
              "size": 10,
              "solidity": 0.2
             }
            },
            "type": "barpolar"
           }
          ],
          "carpet": [
           {
            "aaxis": {
             "endlinecolor": "#2a3f5f",
             "gridcolor": "white",
             "linecolor": "white",
             "minorgridcolor": "white",
             "startlinecolor": "#2a3f5f"
            },
            "baxis": {
             "endlinecolor": "#2a3f5f",
             "gridcolor": "white",
             "linecolor": "white",
             "minorgridcolor": "white",
             "startlinecolor": "#2a3f5f"
            },
            "type": "carpet"
           }
          ],
          "choropleth": [
           {
            "colorbar": {
             "outlinewidth": 0,
             "ticks": ""
            },
            "type": "choropleth"
           }
          ],
          "contour": [
           {
            "colorbar": {
             "outlinewidth": 0,
             "ticks": ""
            },
            "colorscale": [
             [
              0,
              "#0d0887"
             ],
             [
              0.1111111111111111,
              "#46039f"
             ],
             [
              0.2222222222222222,
              "#7201a8"
             ],
             [
              0.3333333333333333,
              "#9c179e"
             ],
             [
              0.4444444444444444,
              "#bd3786"
             ],
             [
              0.5555555555555556,
              "#d8576b"
             ],
             [
              0.6666666666666666,
              "#ed7953"
             ],
             [
              0.7777777777777778,
              "#fb9f3a"
             ],
             [
              0.8888888888888888,
              "#fdca26"
             ],
             [
              1,
              "#f0f921"
             ]
            ],
            "type": "contour"
           }
          ],
          "contourcarpet": [
           {
            "colorbar": {
             "outlinewidth": 0,
             "ticks": ""
            },
            "type": "contourcarpet"
           }
          ],
          "heatmap": [
           {
            "colorbar": {
             "outlinewidth": 0,
             "ticks": ""
            },
            "colorscale": [
             [
              0,
              "#0d0887"
             ],
             [
              0.1111111111111111,
              "#46039f"
             ],
             [
              0.2222222222222222,
              "#7201a8"
             ],
             [
              0.3333333333333333,
              "#9c179e"
             ],
             [
              0.4444444444444444,
              "#bd3786"
             ],
             [
              0.5555555555555556,
              "#d8576b"
             ],
             [
              0.6666666666666666,
              "#ed7953"
             ],
             [
              0.7777777777777778,
              "#fb9f3a"
             ],
             [
              0.8888888888888888,
              "#fdca26"
             ],
             [
              1,
              "#f0f921"
             ]
            ],
            "type": "heatmap"
           }
          ],
          "heatmapgl": [
           {
            "colorbar": {
             "outlinewidth": 0,
             "ticks": ""
            },
            "colorscale": [
             [
              0,
              "#0d0887"
             ],
             [
              0.1111111111111111,
              "#46039f"
             ],
             [
              0.2222222222222222,
              "#7201a8"
             ],
             [
              0.3333333333333333,
              "#9c179e"
             ],
             [
              0.4444444444444444,
              "#bd3786"
             ],
             [
              0.5555555555555556,
              "#d8576b"
             ],
             [
              0.6666666666666666,
              "#ed7953"
             ],
             [
              0.7777777777777778,
              "#fb9f3a"
             ],
             [
              0.8888888888888888,
              "#fdca26"
             ],
             [
              1,
              "#f0f921"
             ]
            ],
            "type": "heatmapgl"
           }
          ],
          "histogram": [
           {
            "marker": {
             "pattern": {
              "fillmode": "overlay",
              "size": 10,
              "solidity": 0.2
             }
            },
            "type": "histogram"
           }
          ],
          "histogram2d": [
           {
            "colorbar": {
             "outlinewidth": 0,
             "ticks": ""
            },
            "colorscale": [
             [
              0,
              "#0d0887"
             ],
             [
              0.1111111111111111,
              "#46039f"
             ],
             [
              0.2222222222222222,
              "#7201a8"
             ],
             [
              0.3333333333333333,
              "#9c179e"
             ],
             [
              0.4444444444444444,
              "#bd3786"
             ],
             [
              0.5555555555555556,
              "#d8576b"
             ],
             [
              0.6666666666666666,
              "#ed7953"
             ],
             [
              0.7777777777777778,
              "#fb9f3a"
             ],
             [
              0.8888888888888888,
              "#fdca26"
             ],
             [
              1,
              "#f0f921"
             ]
            ],
            "type": "histogram2d"
           }
          ],
          "histogram2dcontour": [
           {
            "colorbar": {
             "outlinewidth": 0,
             "ticks": ""
            },
            "colorscale": [
             [
              0,
              "#0d0887"
             ],
             [
              0.1111111111111111,
              "#46039f"
             ],
             [
              0.2222222222222222,
              "#7201a8"
             ],
             [
              0.3333333333333333,
              "#9c179e"
             ],
             [
              0.4444444444444444,
              "#bd3786"
             ],
             [
              0.5555555555555556,
              "#d8576b"
             ],
             [
              0.6666666666666666,
              "#ed7953"
             ],
             [
              0.7777777777777778,
              "#fb9f3a"
             ],
             [
              0.8888888888888888,
              "#fdca26"
             ],
             [
              1,
              "#f0f921"
             ]
            ],
            "type": "histogram2dcontour"
           }
          ],
          "mesh3d": [
           {
            "colorbar": {
             "outlinewidth": 0,
             "ticks": ""
            },
            "type": "mesh3d"
           }
          ],
          "parcoords": [
           {
            "line": {
             "colorbar": {
              "outlinewidth": 0,
              "ticks": ""
             }
            },
            "type": "parcoords"
           }
          ],
          "pie": [
           {
            "automargin": true,
            "type": "pie"
           }
          ],
          "scatter": [
           {
            "fillpattern": {
             "fillmode": "overlay",
             "size": 10,
             "solidity": 0.2
            },
            "type": "scatter"
           }
          ],
          "scatter3d": [
           {
            "line": {
             "colorbar": {
              "outlinewidth": 0,
              "ticks": ""
             }
            },
            "marker": {
             "colorbar": {
              "outlinewidth": 0,
              "ticks": ""
             }
            },
            "type": "scatter3d"
           }
          ],
          "scattercarpet": [
           {
            "marker": {
             "colorbar": {
              "outlinewidth": 0,
              "ticks": ""
             }
            },
            "type": "scattercarpet"
           }
          ],
          "scattergeo": [
           {
            "marker": {
             "colorbar": {
              "outlinewidth": 0,
              "ticks": ""
             }
            },
            "type": "scattergeo"
           }
          ],
          "scattergl": [
           {
            "marker": {
             "colorbar": {
              "outlinewidth": 0,
              "ticks": ""
             }
            },
            "type": "scattergl"
           }
          ],
          "scattermapbox": [
           {
            "marker": {
             "colorbar": {
              "outlinewidth": 0,
              "ticks": ""
             }
            },
            "type": "scattermapbox"
           }
          ],
          "scatterpolar": [
           {
            "marker": {
             "colorbar": {
              "outlinewidth": 0,
              "ticks": ""
             }
            },
            "type": "scatterpolar"
           }
          ],
          "scatterpolargl": [
           {
            "marker": {
             "colorbar": {
              "outlinewidth": 0,
              "ticks": ""
             }
            },
            "type": "scatterpolargl"
           }
          ],
          "scatterternary": [
           {
            "marker": {
             "colorbar": {
              "outlinewidth": 0,
              "ticks": ""
             }
            },
            "type": "scatterternary"
           }
          ],
          "surface": [
           {
            "colorbar": {
             "outlinewidth": 0,
             "ticks": ""
            },
            "colorscale": [
             [
              0,
              "#0d0887"
             ],
             [
              0.1111111111111111,
              "#46039f"
             ],
             [
              0.2222222222222222,
              "#7201a8"
             ],
             [
              0.3333333333333333,
              "#9c179e"
             ],
             [
              0.4444444444444444,
              "#bd3786"
             ],
             [
              0.5555555555555556,
              "#d8576b"
             ],
             [
              0.6666666666666666,
              "#ed7953"
             ],
             [
              0.7777777777777778,
              "#fb9f3a"
             ],
             [
              0.8888888888888888,
              "#fdca26"
             ],
             [
              1,
              "#f0f921"
             ]
            ],
            "type": "surface"
           }
          ],
          "table": [
           {
            "cells": {
             "fill": {
              "color": "#EBF0F8"
             },
             "line": {
              "color": "white"
             }
            },
            "header": {
             "fill": {
              "color": "#C8D4E3"
             },
             "line": {
              "color": "white"
             }
            },
            "type": "table"
           }
          ]
         },
         "layout": {
          "annotationdefaults": {
           "arrowcolor": "#2a3f5f",
           "arrowhead": 0,
           "arrowwidth": 1
          },
          "autotypenumbers": "strict",
          "coloraxis": {
           "colorbar": {
            "outlinewidth": 0,
            "ticks": ""
           }
          },
          "colorscale": {
           "diverging": [
            [
             0,
             "#8e0152"
            ],
            [
             0.1,
             "#c51b7d"
            ],
            [
             0.2,
             "#de77ae"
            ],
            [
             0.3,
             "#f1b6da"
            ],
            [
             0.4,
             "#fde0ef"
            ],
            [
             0.5,
             "#f7f7f7"
            ],
            [
             0.6,
             "#e6f5d0"
            ],
            [
             0.7,
             "#b8e186"
            ],
            [
             0.8,
             "#7fbc41"
            ],
            [
             0.9,
             "#4d9221"
            ],
            [
             1,
             "#276419"
            ]
           ],
           "sequential": [
            [
             0,
             "#0d0887"
            ],
            [
             0.1111111111111111,
             "#46039f"
            ],
            [
             0.2222222222222222,
             "#7201a8"
            ],
            [
             0.3333333333333333,
             "#9c179e"
            ],
            [
             0.4444444444444444,
             "#bd3786"
            ],
            [
             0.5555555555555556,
             "#d8576b"
            ],
            [
             0.6666666666666666,
             "#ed7953"
            ],
            [
             0.7777777777777778,
             "#fb9f3a"
            ],
            [
             0.8888888888888888,
             "#fdca26"
            ],
            [
             1,
             "#f0f921"
            ]
           ],
           "sequentialminus": [
            [
             0,
             "#0d0887"
            ],
            [
             0.1111111111111111,
             "#46039f"
            ],
            [
             0.2222222222222222,
             "#7201a8"
            ],
            [
             0.3333333333333333,
             "#9c179e"
            ],
            [
             0.4444444444444444,
             "#bd3786"
            ],
            [
             0.5555555555555556,
             "#d8576b"
            ],
            [
             0.6666666666666666,
             "#ed7953"
            ],
            [
             0.7777777777777778,
             "#fb9f3a"
            ],
            [
             0.8888888888888888,
             "#fdca26"
            ],
            [
             1,
             "#f0f921"
            ]
           ]
          },
          "colorway": [
           "#636efa",
           "#EF553B",
           "#00cc96",
           "#ab63fa",
           "#FFA15A",
           "#19d3f3",
           "#FF6692",
           "#B6E880",
           "#FF97FF",
           "#FECB52"
          ],
          "font": {
           "color": "#2a3f5f"
          },
          "geo": {
           "bgcolor": "white",
           "lakecolor": "white",
           "landcolor": "#E5ECF6",
           "showlakes": true,
           "showland": true,
           "subunitcolor": "white"
          },
          "hoverlabel": {
           "align": "left"
          },
          "hovermode": "closest",
          "mapbox": {
           "style": "light"
          },
          "paper_bgcolor": "white",
          "plot_bgcolor": "#E5ECF6",
          "polar": {
           "angularaxis": {
            "gridcolor": "white",
            "linecolor": "white",
            "ticks": ""
           },
           "bgcolor": "#E5ECF6",
           "radialaxis": {
            "gridcolor": "white",
            "linecolor": "white",
            "ticks": ""
           }
          },
          "scene": {
           "xaxis": {
            "backgroundcolor": "#E5ECF6",
            "gridcolor": "white",
            "gridwidth": 2,
            "linecolor": "white",
            "showbackground": true,
            "ticks": "",
            "zerolinecolor": "white"
           },
           "yaxis": {
            "backgroundcolor": "#E5ECF6",
            "gridcolor": "white",
            "gridwidth": 2,
            "linecolor": "white",
            "showbackground": true,
            "ticks": "",
            "zerolinecolor": "white"
           },
           "zaxis": {
            "backgroundcolor": "#E5ECF6",
            "gridcolor": "white",
            "gridwidth": 2,
            "linecolor": "white",
            "showbackground": true,
            "ticks": "",
            "zerolinecolor": "white"
           }
          },
          "shapedefaults": {
           "line": {
            "color": "#2a3f5f"
           }
          },
          "ternary": {
           "aaxis": {
            "gridcolor": "white",
            "linecolor": "white",
            "ticks": ""
           },
           "baxis": {
            "gridcolor": "white",
            "linecolor": "white",
            "ticks": ""
           },
           "bgcolor": "#E5ECF6",
           "caxis": {
            "gridcolor": "white",
            "linecolor": "white",
            "ticks": ""
           }
          },
          "title": {
           "x": 0.05
          },
          "xaxis": {
           "automargin": true,
           "gridcolor": "white",
           "linecolor": "white",
           "ticks": "",
           "title": {
            "standoff": 15
           },
           "zerolinecolor": "white",
           "zerolinewidth": 2
          },
          "yaxis": {
           "automargin": true,
           "gridcolor": "white",
           "linecolor": "white",
           "ticks": "",
           "title": {
            "standoff": 15
           },
           "zerolinecolor": "white",
           "zerolinewidth": 2
          }
         }
        },
        "title": {
         "text": "Normal Distribution of Class Column"
        },
        "xaxis": {
         "anchor": "y2",
         "domain": [
          0,
          1
         ],
         "zeroline": false
        },
        "yaxis": {
         "anchor": "free",
         "domain": [
          0,
          1
         ],
         "position": 0
        }
       }
      }
     },
     "metadata": {},
     "output_type": "display_data"
    }
   ],
   "source": [
    "import plotly.figure_factory as ff\n",
    "# Extract the 'class' column\n",
    "class_data = dataset['class']\n",
    "\n",
    "# Create a distribution plot (histogram + normal distribution curve)\n",
    "fig = ff.create_distplot([class_data], ['Class Data'], bin_size=0.5, show_rug=False)\n",
    "\n",
    "# Add a title\n",
    "fig.update_layout(title='Normal Distribution of Class Column')\n",
    "\n",
    "# Show the plot\n",
    "fig.show()"
   ]
  },
  {
   "cell_type": "code",
   "execution_count": 38,
   "id": "f317057e",
   "metadata": {},
   "outputs": [
    {
     "name": "stdout",
     "output_type": "stream",
     "text": [
      "0.9625\n",
      "\t=============================================\n",
      "\n",
      "[[ 8  1  0  0  0]\n",
      " [ 0 52  0  0  0]\n",
      " [ 0  0  8  0  0]\n",
      " [ 0  0  0  4  0]\n",
      " [ 0  0  0  2  5]]\n",
      "\t=============================================\n",
      "\n",
      "               precision    recall  f1-score   support\n",
      "\n",
      "   Arthropoda       1.00      0.89      0.94         9\n",
      "     Chordata       0.98      1.00      0.99        52\n",
      "     Cnidaria       1.00      1.00      1.00         8\n",
      "Echinodermata       0.67      1.00      0.80         4\n",
      "     Mollusca       1.00      0.71      0.83         7\n",
      "\n",
      "     accuracy                           0.96        80\n",
      "    macro avg       0.93      0.92      0.91        80\n",
      " weighted avg       0.97      0.96      0.96        80\n",
      "\n"
     ]
    }
   ],
   "source": [
    "from sklearn.metrics import accuracy_score, classification_report, confusion_matrix\n",
    "from sklearn.metrics import classification_report, confusion_matrix\n",
    "\n",
    "\n",
    "DTC = DecisionTreeClassifier()\n",
    "DTC.fit(X_train, Y_train)\n",
    "predictions = DTC.predict(X_validation)\n",
    "print(accuracy_score(Y_validation, predictions))\n",
    "print(\"\\t=============================================\\n\")\n",
    "print(confusion_matrix(Y_validation, predictions))\n",
    "print(\"\\t=============================================\\n\")\n",
    "print(classification_report(Y_validation, predictions))"
   ]
  },
  {
   "cell_type": "markdown",
   "id": "7b37d154",
   "metadata": {},
   "source": [
    "For the DecisionTreeClassifier model achieved an accuracy of 96.25%. \n",
    "\n",
    "Furthermore from the confusion matrix there were only 3 incorrect predictions.\n",
    "\n",
    "Then proceeding to the classification report, out of all predictions made for the Arthropoda,Chordata,Chidaria,Echinodermata and Mollusca , 100%,98%,100%,67% and 100% were correct respectively. \n",
    "\n",
    "Out of all actual Arthropoda,Chordata,Chidaria,Echinodermata and Mollusca ,89%,100%,100%,100% and 71% respectively were classified correcctly. \n",
    "\n",
    "in F1-Score we see that the balance between precision and recall is very good throughout.\n",
    "\n",
    "From support we see that there were 9,52,8,4 and 7 actual instances of Arthropoda,Chordata,Chidaria,Echinodermata and Mollusca.\n",
    "\n",
    "The overall accuracy of the model is 96%\n",
    "The unweighted average of precison,recall and f1-score is 93%,92% and 91%. This shows that its handling other kinds of phylum very well actually whether minority or majority\n",
    "The weighted average of precison,recall and f1-score is 97%,96% and 96% is great news especially for the fields that have more instances"
   ]
  },
  {
   "cell_type": "code",
   "execution_count": 39,
   "id": "35101d32",
   "metadata": {},
   "outputs": [
    {
     "name": "stdout",
     "output_type": "stream",
     "text": [
      "0.775\n",
      "\t=============================================\n",
      "\n",
      "[[ 0  9  0  0  0]\n",
      " [ 0 51  0  1  0]\n",
      " [ 0  0  8  0  0]\n",
      " [ 0  1  0  3  0]\n",
      " [ 0  7  0  0  0]]\n",
      "\t=============================================\n",
      "\n",
      "               precision    recall  f1-score   support\n",
      "\n",
      "   Arthropoda       0.00      0.00      0.00         9\n",
      "     Chordata       0.75      0.98      0.85        52\n",
      "     Cnidaria       1.00      1.00      1.00         8\n",
      "Echinodermata       0.75      0.75      0.75         4\n",
      "     Mollusca       0.00      0.00      0.00         7\n",
      "\n",
      "     accuracy                           0.78        80\n",
      "    macro avg       0.50      0.55      0.52        80\n",
      " weighted avg       0.62      0.78      0.69        80\n",
      "\n"
     ]
    },
    {
     "name": "stderr",
     "output_type": "stream",
     "text": [
      "C:\\Users\\TECH\\AppData\\Local\\Packages\\PythonSoftwareFoundation.Python.3.12_qbz5n2kfra8p0\\LocalCache\\local-packages\\Python312\\site-packages\\sklearn\\metrics\\_classification.py:1531: UndefinedMetricWarning:\n",
      "\n",
      "Precision is ill-defined and being set to 0.0 in labels with no predicted samples. Use `zero_division` parameter to control this behavior.\n",
      "\n",
      "C:\\Users\\TECH\\AppData\\Local\\Packages\\PythonSoftwareFoundation.Python.3.12_qbz5n2kfra8p0\\LocalCache\\local-packages\\Python312\\site-packages\\sklearn\\metrics\\_classification.py:1531: UndefinedMetricWarning:\n",
      "\n",
      "Precision is ill-defined and being set to 0.0 in labels with no predicted samples. Use `zero_division` parameter to control this behavior.\n",
      "\n",
      "C:\\Users\\TECH\\AppData\\Local\\Packages\\PythonSoftwareFoundation.Python.3.12_qbz5n2kfra8p0\\LocalCache\\local-packages\\Python312\\site-packages\\sklearn\\metrics\\_classification.py:1531: UndefinedMetricWarning:\n",
      "\n",
      "Precision is ill-defined and being set to 0.0 in labels with no predicted samples. Use `zero_division` parameter to control this behavior.\n",
      "\n"
     ]
    }
   ],
   "source": [
    "GNB = GaussianNB()\n",
    "GNB.fit(X_train, Y_train)\n",
    "predictions = GNB.predict(X_validation)\n",
    "print(accuracy_score(Y_validation, predictions))\n",
    "print(\"\\t=============================================\\n\")\n",
    "print(confusion_matrix(Y_validation, predictions))\n",
    "print(\"\\t=============================================\\n\")\n",
    "print(classification_report(Y_validation, predictions))"
   ]
  },
  {
   "cell_type": "markdown",
   "id": "3141a190",
   "metadata": {},
   "source": [
    "For the GaussianNB model achieved an accuracy of 77.50% Which is already worse than that of the DecisionTreeClassifier model\n",
    "\n",
    "Furthermore from the confusion matrix there were a lot of incorrect predictions. we have the model making 18 wrong preditions.This is worse than its competitor\n",
    "\n",
    "Then proceeding to the classification report, out of all predictions made for the Arthropoda,Chordata,Chidaria,Echinodermata and Mollusca , 0%,75%,100%,75% and 0% were correct respectively. \n",
    "\n",
    "Out of all actual Arthropoda,Chordata,Chidaria,Echinodermata and Mollusca ,0%,98%,100%,75% and 0% respectively were classified correcctly. \n",
    "\n",
    "in F1-Score we see that the balance between precision and recall is not so good as compared to the DecisionTreeClassifier model as it lacks consistency in results\n",
    "\n",
    "From support we see that there were 9,52,8,4 and 7 actual instances of Arthropoda,Chordata,Chidaria,Echinodermata and Mollusca.\n",
    "\n",
    "The unweighted average of precison,recall and f1-score show that this model is handling other kinds of phylum very badly whether minority or majority compared to the DecisionTreeClassifier model\n",
    "The weighted average of precison,recall and f1-score also shows that it is not great especially for the fields that have more instances"
   ]
  },
  {
   "cell_type": "code",
   "execution_count": 41,
   "id": "2886dedc",
   "metadata": {},
   "outputs": [
    {
     "name": "stdout",
     "output_type": "stream",
     "text": [
      "0.9925\n",
      "0.8475\n"
     ]
    }
   ],
   "source": [
    "from sklearn import metrics\n",
    "print(metrics.accuracy_score(Y, DTC.predict(X)))\n",
    "print(metrics.accuracy_score(Y, GNB.predict(X)))"
   ]
  },
  {
   "cell_type": "markdown",
   "id": "5f1a510c",
   "metadata": {},
   "source": [
    "Then to finally hammer the final nail, the accuracy was tested using x and y values and to no ones suprise, the DecisionTreeClassifier model had much higher accuracy score of 99.25% making this model the ideal choice for the problem"
   ]
  },
  {
   "cell_type": "code",
   "execution_count": 5,
   "id": "c78757fb",
   "metadata": {},
   "outputs": [
    {
     "data": {
      "image/png": "[encoded data removed]",
      "text/plain": [
       "<Figure size 1000x1000 with 1 Axes>"
      ]
     },
     "metadata": {},
     "output_type": "display_data"
    }
   ],
   "source": [
    "import matplotlib.pyplot as plt\n",
    "import numpy as np\n",
    "\n",
    "\n",
    "data = dataset['phylum'].value_counts()  \n",
    "labels = data.index  \n",
    "\n",
    "plt.figure(figsize=(10, 10))\n",
    "plt.pie(data, labels=labels, autopct='%1.1f%%', startangle=140)\n",
    "\n",
    "\n",
    "plt.title('Distribution of Phylum', fontsize=28, fontweight='bold')\n",
    "plt.axis('equal')  \n",
    "\n",
    "# Display the plot\n",
    "plt.show()"
   ]
  },
  {
   "cell_type": "code",
   "execution_count": null,
   "id": "3684688b",
   "metadata": {},
   "outputs": [],
   "source": []
  }
 ],
 "metadata": {
  "kernelspec": {
   "display_name": "base",
   "language": "python",
   "name": "python3"
  },
  "language_info": {
   "codemirror_mode": {
    "name": "ipython",
    "version": 3
   },
   "file_extension": ".py",
   "mimetype": "text/x-python",
   "name": "python",
   "nbconvert_exporter": "python",
   "pygments_lexer": "ipython3",
   "version": "3.12.4"
  }
 },
 "nbformat": 4,
 "nbformat_minor": 5
}
